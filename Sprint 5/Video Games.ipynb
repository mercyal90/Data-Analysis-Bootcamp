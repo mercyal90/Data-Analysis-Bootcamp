{
 "cells": [
  {
   "cell_type": "markdown",
   "metadata": {},
   "source": [
    "We work for the online store Ice, which sells video games all over the world. User and expert reviews, genres, platforms (e.g. Xbox or PlayStation), and historical data on game sales are available from open sources. \n",
    "\n",
    "You need to identify patterns that determine whether a game succeeds or not. This will allow us to spot potential big winners and plan advertising campaigns.\n",
    "\n",
    "The dataset contains the abbreviation ESRB. The Entertainment Software Rating Board evaluates a game's content and assigns an age rating such as Teen or Mature.\n",
    "\n",
    "\n",
    "Data description\n",
    "\n",
    "—Name                                                                                                          \n",
    "—Platform                                                                                                     \n",
    "—Year_of_Release                                                                                                   \n",
    "—Genre                                                                                                   \n",
    "—NA_sales (North American sales in USD million)                                                                     \n",
    "—EU_sales (sales in Europe in USD million)                                                                    \n",
    "—JP_sales (sales in Japan in USD million)                                                                    \n",
    "—Other_sales (sales in other countries in USD million)                                                             \n",
    "—Critic_Score (maximum of 100)                                                                    \n",
    "—User_Score (maximum of 10)                                                                    \n",
    "—Rating (ESRB)"
   ]
  },
  {
   "cell_type": "markdown",
   "metadata": {},
   "source": [
    "## Open the data file and study the general information"
   ]
  },
  {
   "cell_type": "code",
   "execution_count": 1,
   "metadata": {},
   "outputs": [],
   "source": [
    "import pandas as pd\n",
    "import numpy as np\n",
    "import seaborn as sns\n",
    "import matplotlib.pyplot as plt\n",
    "from scipy import stats as st\n",
    "import math as mt\n",
    "from functools import reduce"
   ]
  },
  {
   "cell_type": "code",
   "execution_count": 2,
   "metadata": {},
   "outputs": [],
   "source": [
    "games = pd.read_csv('/datasets/games.csv')"
   ]
  },
  {
   "cell_type": "code",
   "execution_count": 3,
   "metadata": {},
   "outputs": [
    {
     "name": "stdout",
     "output_type": "stream",
     "text": [
      "<class 'pandas.core.frame.DataFrame'>\n",
      "RangeIndex: 16715 entries, 0 to 16714\n",
      "Data columns (total 11 columns):\n",
      " #   Column           Non-Null Count  Dtype  \n",
      "---  ------           --------------  -----  \n",
      " 0   Name             16713 non-null  object \n",
      " 1   Platform         16715 non-null  object \n",
      " 2   Year_of_Release  16446 non-null  float64\n",
      " 3   Genre            16713 non-null  object \n",
      " 4   NA_sales         16715 non-null  float64\n",
      " 5   EU_sales         16715 non-null  float64\n",
      " 6   JP_sales         16715 non-null  float64\n",
      " 7   Other_sales      16715 non-null  float64\n",
      " 8   Critic_Score     8137 non-null   float64\n",
      " 9   User_Score       10014 non-null  object \n",
      " 10  Rating           9949 non-null   object \n",
      "dtypes: float64(6), object(5)\n",
      "memory usage: 1.4+ MB\n"
     ]
    }
   ],
   "source": [
    "games.info()"
   ]
  },
  {
   "cell_type": "code",
   "execution_count": 4,
   "metadata": {},
   "outputs": [
    {
     "data": {
      "text/html": [
       "<div>\n",
       "<style scoped>\n",
       "    .dataframe tbody tr th:only-of-type {\n",
       "        vertical-align: middle;\n",
       "    }\n",
       "\n",
       "    .dataframe tbody tr th {\n",
       "        vertical-align: top;\n",
       "    }\n",
       "\n",
       "    .dataframe thead th {\n",
       "        text-align: right;\n",
       "    }\n",
       "</style>\n",
       "<table border=\"1\" class=\"dataframe\">\n",
       "  <thead>\n",
       "    <tr style=\"text-align: right;\">\n",
       "      <th></th>\n",
       "      <th>Name</th>\n",
       "      <th>Platform</th>\n",
       "      <th>Year_of_Release</th>\n",
       "      <th>Genre</th>\n",
       "      <th>NA_sales</th>\n",
       "      <th>EU_sales</th>\n",
       "      <th>JP_sales</th>\n",
       "      <th>Other_sales</th>\n",
       "      <th>Critic_Score</th>\n",
       "      <th>User_Score</th>\n",
       "      <th>Rating</th>\n",
       "    </tr>\n",
       "  </thead>\n",
       "  <tbody>\n",
       "    <tr>\n",
       "      <th>0</th>\n",
       "      <td>Wii Sports</td>\n",
       "      <td>Wii</td>\n",
       "      <td>2006.0</td>\n",
       "      <td>Sports</td>\n",
       "      <td>41.36</td>\n",
       "      <td>28.96</td>\n",
       "      <td>3.77</td>\n",
       "      <td>8.45</td>\n",
       "      <td>76.0</td>\n",
       "      <td>8</td>\n",
       "      <td>E</td>\n",
       "    </tr>\n",
       "    <tr>\n",
       "      <th>1</th>\n",
       "      <td>Super Mario Bros.</td>\n",
       "      <td>NES</td>\n",
       "      <td>1985.0</td>\n",
       "      <td>Platform</td>\n",
       "      <td>29.08</td>\n",
       "      <td>3.58</td>\n",
       "      <td>6.81</td>\n",
       "      <td>0.77</td>\n",
       "      <td>NaN</td>\n",
       "      <td>NaN</td>\n",
       "      <td>NaN</td>\n",
       "    </tr>\n",
       "    <tr>\n",
       "      <th>2</th>\n",
       "      <td>Mario Kart Wii</td>\n",
       "      <td>Wii</td>\n",
       "      <td>2008.0</td>\n",
       "      <td>Racing</td>\n",
       "      <td>15.68</td>\n",
       "      <td>12.76</td>\n",
       "      <td>3.79</td>\n",
       "      <td>3.29</td>\n",
       "      <td>82.0</td>\n",
       "      <td>8.3</td>\n",
       "      <td>E</td>\n",
       "    </tr>\n",
       "    <tr>\n",
       "      <th>3</th>\n",
       "      <td>Wii Sports Resort</td>\n",
       "      <td>Wii</td>\n",
       "      <td>2009.0</td>\n",
       "      <td>Sports</td>\n",
       "      <td>15.61</td>\n",
       "      <td>10.93</td>\n",
       "      <td>3.28</td>\n",
       "      <td>2.95</td>\n",
       "      <td>80.0</td>\n",
       "      <td>8</td>\n",
       "      <td>E</td>\n",
       "    </tr>\n",
       "    <tr>\n",
       "      <th>4</th>\n",
       "      <td>Pokemon Red/Pokemon Blue</td>\n",
       "      <td>GB</td>\n",
       "      <td>1996.0</td>\n",
       "      <td>Role-Playing</td>\n",
       "      <td>11.27</td>\n",
       "      <td>8.89</td>\n",
       "      <td>10.22</td>\n",
       "      <td>1.00</td>\n",
       "      <td>NaN</td>\n",
       "      <td>NaN</td>\n",
       "      <td>NaN</td>\n",
       "    </tr>\n",
       "    <tr>\n",
       "      <th>5</th>\n",
       "      <td>Tetris</td>\n",
       "      <td>GB</td>\n",
       "      <td>1989.0</td>\n",
       "      <td>Puzzle</td>\n",
       "      <td>23.20</td>\n",
       "      <td>2.26</td>\n",
       "      <td>4.22</td>\n",
       "      <td>0.58</td>\n",
       "      <td>NaN</td>\n",
       "      <td>NaN</td>\n",
       "      <td>NaN</td>\n",
       "    </tr>\n",
       "    <tr>\n",
       "      <th>6</th>\n",
       "      <td>New Super Mario Bros.</td>\n",
       "      <td>DS</td>\n",
       "      <td>2006.0</td>\n",
       "      <td>Platform</td>\n",
       "      <td>11.28</td>\n",
       "      <td>9.14</td>\n",
       "      <td>6.50</td>\n",
       "      <td>2.88</td>\n",
       "      <td>89.0</td>\n",
       "      <td>8.5</td>\n",
       "      <td>E</td>\n",
       "    </tr>\n",
       "    <tr>\n",
       "      <th>7</th>\n",
       "      <td>Wii Play</td>\n",
       "      <td>Wii</td>\n",
       "      <td>2006.0</td>\n",
       "      <td>Misc</td>\n",
       "      <td>13.96</td>\n",
       "      <td>9.18</td>\n",
       "      <td>2.93</td>\n",
       "      <td>2.84</td>\n",
       "      <td>58.0</td>\n",
       "      <td>6.6</td>\n",
       "      <td>E</td>\n",
       "    </tr>\n",
       "    <tr>\n",
       "      <th>8</th>\n",
       "      <td>New Super Mario Bros. Wii</td>\n",
       "      <td>Wii</td>\n",
       "      <td>2009.0</td>\n",
       "      <td>Platform</td>\n",
       "      <td>14.44</td>\n",
       "      <td>6.94</td>\n",
       "      <td>4.70</td>\n",
       "      <td>2.24</td>\n",
       "      <td>87.0</td>\n",
       "      <td>8.4</td>\n",
       "      <td>E</td>\n",
       "    </tr>\n",
       "    <tr>\n",
       "      <th>9</th>\n",
       "      <td>Duck Hunt</td>\n",
       "      <td>NES</td>\n",
       "      <td>1984.0</td>\n",
       "      <td>Shooter</td>\n",
       "      <td>26.93</td>\n",
       "      <td>0.63</td>\n",
       "      <td>0.28</td>\n",
       "      <td>0.47</td>\n",
       "      <td>NaN</td>\n",
       "      <td>NaN</td>\n",
       "      <td>NaN</td>\n",
       "    </tr>\n",
       "    <tr>\n",
       "      <th>10</th>\n",
       "      <td>Nintendogs</td>\n",
       "      <td>DS</td>\n",
       "      <td>2005.0</td>\n",
       "      <td>Simulation</td>\n",
       "      <td>9.05</td>\n",
       "      <td>10.95</td>\n",
       "      <td>1.93</td>\n",
       "      <td>2.74</td>\n",
       "      <td>NaN</td>\n",
       "      <td>NaN</td>\n",
       "      <td>NaN</td>\n",
       "    </tr>\n",
       "    <tr>\n",
       "      <th>11</th>\n",
       "      <td>Mario Kart DS</td>\n",
       "      <td>DS</td>\n",
       "      <td>2005.0</td>\n",
       "      <td>Racing</td>\n",
       "      <td>9.71</td>\n",
       "      <td>7.47</td>\n",
       "      <td>4.13</td>\n",
       "      <td>1.90</td>\n",
       "      <td>91.0</td>\n",
       "      <td>8.6</td>\n",
       "      <td>E</td>\n",
       "    </tr>\n",
       "    <tr>\n",
       "      <th>12</th>\n",
       "      <td>Pokemon Gold/Pokemon Silver</td>\n",
       "      <td>GB</td>\n",
       "      <td>1999.0</td>\n",
       "      <td>Role-Playing</td>\n",
       "      <td>9.00</td>\n",
       "      <td>6.18</td>\n",
       "      <td>7.20</td>\n",
       "      <td>0.71</td>\n",
       "      <td>NaN</td>\n",
       "      <td>NaN</td>\n",
       "      <td>NaN</td>\n",
       "    </tr>\n",
       "    <tr>\n",
       "      <th>13</th>\n",
       "      <td>Wii Fit</td>\n",
       "      <td>Wii</td>\n",
       "      <td>2007.0</td>\n",
       "      <td>Sports</td>\n",
       "      <td>8.92</td>\n",
       "      <td>8.03</td>\n",
       "      <td>3.60</td>\n",
       "      <td>2.15</td>\n",
       "      <td>80.0</td>\n",
       "      <td>7.7</td>\n",
       "      <td>E</td>\n",
       "    </tr>\n",
       "    <tr>\n",
       "      <th>14</th>\n",
       "      <td>Kinect Adventures!</td>\n",
       "      <td>X360</td>\n",
       "      <td>2010.0</td>\n",
       "      <td>Misc</td>\n",
       "      <td>15.00</td>\n",
       "      <td>4.89</td>\n",
       "      <td>0.24</td>\n",
       "      <td>1.69</td>\n",
       "      <td>61.0</td>\n",
       "      <td>6.3</td>\n",
       "      <td>E</td>\n",
       "    </tr>\n",
       "  </tbody>\n",
       "</table>\n",
       "</div>"
      ],
      "text/plain": [
       "                           Name Platform  Year_of_Release         Genre  \\\n",
       "0                    Wii Sports      Wii           2006.0        Sports   \n",
       "1             Super Mario Bros.      NES           1985.0      Platform   \n",
       "2                Mario Kart Wii      Wii           2008.0        Racing   \n",
       "3             Wii Sports Resort      Wii           2009.0        Sports   \n",
       "4      Pokemon Red/Pokemon Blue       GB           1996.0  Role-Playing   \n",
       "5                        Tetris       GB           1989.0        Puzzle   \n",
       "6         New Super Mario Bros.       DS           2006.0      Platform   \n",
       "7                      Wii Play      Wii           2006.0          Misc   \n",
       "8     New Super Mario Bros. Wii      Wii           2009.0      Platform   \n",
       "9                     Duck Hunt      NES           1984.0       Shooter   \n",
       "10                   Nintendogs       DS           2005.0    Simulation   \n",
       "11                Mario Kart DS       DS           2005.0        Racing   \n",
       "12  Pokemon Gold/Pokemon Silver       GB           1999.0  Role-Playing   \n",
       "13                      Wii Fit      Wii           2007.0        Sports   \n",
       "14           Kinect Adventures!     X360           2010.0          Misc   \n",
       "\n",
       "    NA_sales  EU_sales  JP_sales  Other_sales  Critic_Score User_Score Rating  \n",
       "0      41.36     28.96      3.77         8.45          76.0          8      E  \n",
       "1      29.08      3.58      6.81         0.77           NaN        NaN    NaN  \n",
       "2      15.68     12.76      3.79         3.29          82.0        8.3      E  \n",
       "3      15.61     10.93      3.28         2.95          80.0          8      E  \n",
       "4      11.27      8.89     10.22         1.00           NaN        NaN    NaN  \n",
       "5      23.20      2.26      4.22         0.58           NaN        NaN    NaN  \n",
       "6      11.28      9.14      6.50         2.88          89.0        8.5      E  \n",
       "7      13.96      9.18      2.93         2.84          58.0        6.6      E  \n",
       "8      14.44      6.94      4.70         2.24          87.0        8.4      E  \n",
       "9      26.93      0.63      0.28         0.47           NaN        NaN    NaN  \n",
       "10      9.05     10.95      1.93         2.74           NaN        NaN    NaN  \n",
       "11      9.71      7.47      4.13         1.90          91.0        8.6      E  \n",
       "12      9.00      6.18      7.20         0.71           NaN        NaN    NaN  \n",
       "13      8.92      8.03      3.60         2.15          80.0        7.7      E  \n",
       "14     15.00      4.89      0.24         1.69          61.0        6.3      E  "
      ]
     },
     "execution_count": 4,
     "metadata": {},
     "output_type": "execute_result"
    }
   ],
   "source": [
    "games.head(15)"
   ]
  },
  {
   "cell_type": "code",
   "execution_count": 5,
   "metadata": {},
   "outputs": [
    {
     "data": {
      "text/html": [
       "<div>\n",
       "<style scoped>\n",
       "    .dataframe tbody tr th:only-of-type {\n",
       "        vertical-align: middle;\n",
       "    }\n",
       "\n",
       "    .dataframe tbody tr th {\n",
       "        vertical-align: top;\n",
       "    }\n",
       "\n",
       "    .dataframe thead th {\n",
       "        text-align: right;\n",
       "    }\n",
       "</style>\n",
       "<table border=\"1\" class=\"dataframe\">\n",
       "  <thead>\n",
       "    <tr style=\"text-align: right;\">\n",
       "      <th></th>\n",
       "      <th>Year_of_Release</th>\n",
       "      <th>NA_sales</th>\n",
       "      <th>EU_sales</th>\n",
       "      <th>JP_sales</th>\n",
       "      <th>Other_sales</th>\n",
       "      <th>Critic_Score</th>\n",
       "    </tr>\n",
       "  </thead>\n",
       "  <tbody>\n",
       "    <tr>\n",
       "      <th>count</th>\n",
       "      <td>16446.000000</td>\n",
       "      <td>16715.000000</td>\n",
       "      <td>16715.000000</td>\n",
       "      <td>16715.000000</td>\n",
       "      <td>16715.000000</td>\n",
       "      <td>8137.000000</td>\n",
       "    </tr>\n",
       "    <tr>\n",
       "      <th>mean</th>\n",
       "      <td>2006.484616</td>\n",
       "      <td>0.263377</td>\n",
       "      <td>0.145060</td>\n",
       "      <td>0.077617</td>\n",
       "      <td>0.047342</td>\n",
       "      <td>68.967679</td>\n",
       "    </tr>\n",
       "    <tr>\n",
       "      <th>std</th>\n",
       "      <td>5.877050</td>\n",
       "      <td>0.813604</td>\n",
       "      <td>0.503339</td>\n",
       "      <td>0.308853</td>\n",
       "      <td>0.186731</td>\n",
       "      <td>13.938165</td>\n",
       "    </tr>\n",
       "    <tr>\n",
       "      <th>min</th>\n",
       "      <td>1980.000000</td>\n",
       "      <td>0.000000</td>\n",
       "      <td>0.000000</td>\n",
       "      <td>0.000000</td>\n",
       "      <td>0.000000</td>\n",
       "      <td>13.000000</td>\n",
       "    </tr>\n",
       "    <tr>\n",
       "      <th>25%</th>\n",
       "      <td>2003.000000</td>\n",
       "      <td>0.000000</td>\n",
       "      <td>0.000000</td>\n",
       "      <td>0.000000</td>\n",
       "      <td>0.000000</td>\n",
       "      <td>60.000000</td>\n",
       "    </tr>\n",
       "    <tr>\n",
       "      <th>50%</th>\n",
       "      <td>2007.000000</td>\n",
       "      <td>0.080000</td>\n",
       "      <td>0.020000</td>\n",
       "      <td>0.000000</td>\n",
       "      <td>0.010000</td>\n",
       "      <td>71.000000</td>\n",
       "    </tr>\n",
       "    <tr>\n",
       "      <th>75%</th>\n",
       "      <td>2010.000000</td>\n",
       "      <td>0.240000</td>\n",
       "      <td>0.110000</td>\n",
       "      <td>0.040000</td>\n",
       "      <td>0.030000</td>\n",
       "      <td>79.000000</td>\n",
       "    </tr>\n",
       "    <tr>\n",
       "      <th>max</th>\n",
       "      <td>2016.000000</td>\n",
       "      <td>41.360000</td>\n",
       "      <td>28.960000</td>\n",
       "      <td>10.220000</td>\n",
       "      <td>10.570000</td>\n",
       "      <td>98.000000</td>\n",
       "    </tr>\n",
       "  </tbody>\n",
       "</table>\n",
       "</div>"
      ],
      "text/plain": [
       "       Year_of_Release      NA_sales      EU_sales      JP_sales  \\\n",
       "count     16446.000000  16715.000000  16715.000000  16715.000000   \n",
       "mean       2006.484616      0.263377      0.145060      0.077617   \n",
       "std           5.877050      0.813604      0.503339      0.308853   \n",
       "min        1980.000000      0.000000      0.000000      0.000000   \n",
       "25%        2003.000000      0.000000      0.000000      0.000000   \n",
       "50%        2007.000000      0.080000      0.020000      0.000000   \n",
       "75%        2010.000000      0.240000      0.110000      0.040000   \n",
       "max        2016.000000     41.360000     28.960000     10.220000   \n",
       "\n",
       "        Other_sales  Critic_Score  \n",
       "count  16715.000000   8137.000000  \n",
       "mean       0.047342     68.967679  \n",
       "std        0.186731     13.938165  \n",
       "min        0.000000     13.000000  \n",
       "25%        0.000000     60.000000  \n",
       "50%        0.010000     71.000000  \n",
       "75%        0.030000     79.000000  \n",
       "max       10.570000     98.000000  "
      ]
     },
     "execution_count": 5,
     "metadata": {},
     "output_type": "execute_result"
    }
   ],
   "source": [
    "games.describe()"
   ]
  },
  {
   "cell_type": "code",
   "execution_count": 6,
   "metadata": {},
   "outputs": [
    {
     "data": {
      "text/plain": [
       "False    16715\n",
       "dtype: int64"
      ]
     },
     "execution_count": 6,
     "metadata": {},
     "output_type": "execute_result"
    }
   ],
   "source": [
    "games.duplicated().value_counts()"
   ]
  },
  {
   "cell_type": "code",
   "execution_count": 7,
   "metadata": {},
   "outputs": [
    {
     "data": {
      "text/plain": [
       "Name                0.011965\n",
       "Platform            0.000000\n",
       "Year_of_Release     1.609333\n",
       "Genre               0.011965\n",
       "NA_sales            0.000000\n",
       "EU_sales            0.000000\n",
       "JP_sales            0.000000\n",
       "Other_sales         0.000000\n",
       "Critic_Score       51.319174\n",
       "User_Score         40.089740\n",
       "Rating             40.478612\n",
       "dtype: float64"
      ]
     },
     "execution_count": 7,
     "metadata": {},
     "output_type": "execute_result"
    }
   ],
   "source": [
    "games.isna().sum()/len(games)*100"
   ]
  },
  {
   "cell_type": "markdown",
   "metadata": {},
   "source": [
    "The data consists of 11 columns and 16715 rows. There are no duplicated values but a substantial amount of missing values were found in the following columns: Name, Year_of_Release, Genre, Critic_score, User_Score and Rating. User_score and Rating are missing 40% of data and critic_score is missing 50% which is too large to drop and not disrupt our data. Name is missing 0.0120%, year_of_release is missing 1.609% and Genre is missing 0.0120% of data. The columns in this data will be changed to lowercase."
   ]
  },
  {
   "cell_type": "markdown",
   "metadata": {},
   "source": [
    "##  Prepare the data"
   ]
  },
  {
   "cell_type": "code",
   "execution_count": 8,
   "metadata": {},
   "outputs": [],
   "source": [
    "games.columns=  games.columns.str.lower()"
   ]
  },
  {
   "cell_type": "code",
   "execution_count": 9,
   "metadata": {},
   "outputs": [
    {
     "name": "stdout",
     "output_type": "stream",
     "text": [
      "Index(['name', 'platform', 'year_of_release', 'genre', 'na_sales', 'eu_sales',\n",
      "       'jp_sales', 'other_sales', 'critic_score', 'user_score', 'rating'],\n",
      "      dtype='object')\n"
     ]
    }
   ],
   "source": [
    "print(games.columns)"
   ]
  },
  {
   "cell_type": "markdown",
   "metadata": {},
   "source": []
  },
  {
   "cell_type": "code",
   "execution_count": 10,
   "metadata": {},
   "outputs": [
    {
     "data": {
      "text/html": [
       "<div>\n",
       "<style scoped>\n",
       "    .dataframe tbody tr th:only-of-type {\n",
       "        vertical-align: middle;\n",
       "    }\n",
       "\n",
       "    .dataframe tbody tr th {\n",
       "        vertical-align: top;\n",
       "    }\n",
       "\n",
       "    .dataframe thead th {\n",
       "        text-align: right;\n",
       "    }\n",
       "</style>\n",
       "<table border=\"1\" class=\"dataframe\">\n",
       "  <thead>\n",
       "    <tr style=\"text-align: right;\">\n",
       "      <th></th>\n",
       "      <th>name</th>\n",
       "      <th>platform</th>\n",
       "      <th>year_of_release</th>\n",
       "      <th>genre</th>\n",
       "      <th>na_sales</th>\n",
       "      <th>eu_sales</th>\n",
       "      <th>jp_sales</th>\n",
       "      <th>other_sales</th>\n",
       "      <th>critic_score</th>\n",
       "      <th>user_score</th>\n",
       "      <th>rating</th>\n",
       "    </tr>\n",
       "  </thead>\n",
       "  <tbody>\n",
       "    <tr>\n",
       "      <th>659</th>\n",
       "      <td>NaN</td>\n",
       "      <td>GEN</td>\n",
       "      <td>1993.0</td>\n",
       "      <td>NaN</td>\n",
       "      <td>1.78</td>\n",
       "      <td>0.53</td>\n",
       "      <td>0.00</td>\n",
       "      <td>0.08</td>\n",
       "      <td>NaN</td>\n",
       "      <td>NaN</td>\n",
       "      <td>NaN</td>\n",
       "    </tr>\n",
       "    <tr>\n",
       "      <th>14244</th>\n",
       "      <td>NaN</td>\n",
       "      <td>GEN</td>\n",
       "      <td>1993.0</td>\n",
       "      <td>NaN</td>\n",
       "      <td>0.00</td>\n",
       "      <td>0.00</td>\n",
       "      <td>0.03</td>\n",
       "      <td>0.00</td>\n",
       "      <td>NaN</td>\n",
       "      <td>NaN</td>\n",
       "      <td>NaN</td>\n",
       "    </tr>\n",
       "  </tbody>\n",
       "</table>\n",
       "</div>"
      ],
      "text/plain": [
       "      name platform  year_of_release genre  na_sales  eu_sales  jp_sales  \\\n",
       "659    NaN      GEN           1993.0   NaN      1.78      0.53      0.00   \n",
       "14244  NaN      GEN           1993.0   NaN      0.00      0.00      0.03   \n",
       "\n",
       "       other_sales  critic_score user_score rating  \n",
       "659           0.08           NaN        NaN    NaN  \n",
       "14244         0.00           NaN        NaN    NaN  "
      ]
     },
     "execution_count": 10,
     "metadata": {},
     "output_type": "execute_result"
    }
   ],
   "source": [
    "games[games['name'].isna()]"
   ]
  },
  {
   "cell_type": "code",
   "execution_count": 11,
   "metadata": {},
   "outputs": [
    {
     "data": {
      "text/html": [
       "<div>\n",
       "<style scoped>\n",
       "    .dataframe tbody tr th:only-of-type {\n",
       "        vertical-align: middle;\n",
       "    }\n",
       "\n",
       "    .dataframe tbody tr th {\n",
       "        vertical-align: top;\n",
       "    }\n",
       "\n",
       "    .dataframe thead th {\n",
       "        text-align: right;\n",
       "    }\n",
       "</style>\n",
       "<table border=\"1\" class=\"dataframe\">\n",
       "  <thead>\n",
       "    <tr style=\"text-align: right;\">\n",
       "      <th></th>\n",
       "      <th>name</th>\n",
       "      <th>platform</th>\n",
       "      <th>year_of_release</th>\n",
       "      <th>genre</th>\n",
       "      <th>na_sales</th>\n",
       "      <th>eu_sales</th>\n",
       "      <th>jp_sales</th>\n",
       "      <th>other_sales</th>\n",
       "      <th>critic_score</th>\n",
       "      <th>user_score</th>\n",
       "      <th>rating</th>\n",
       "    </tr>\n",
       "  </thead>\n",
       "  <tbody>\n",
       "    <tr>\n",
       "      <th>659</th>\n",
       "      <td>NaN</td>\n",
       "      <td>GEN</td>\n",
       "      <td>1993.0</td>\n",
       "      <td>NaN</td>\n",
       "      <td>1.78</td>\n",
       "      <td>0.53</td>\n",
       "      <td>0.00</td>\n",
       "      <td>0.08</td>\n",
       "      <td>NaN</td>\n",
       "      <td>NaN</td>\n",
       "      <td>NaN</td>\n",
       "    </tr>\n",
       "    <tr>\n",
       "      <th>14244</th>\n",
       "      <td>NaN</td>\n",
       "      <td>GEN</td>\n",
       "      <td>1993.0</td>\n",
       "      <td>NaN</td>\n",
       "      <td>0.00</td>\n",
       "      <td>0.00</td>\n",
       "      <td>0.03</td>\n",
       "      <td>0.00</td>\n",
       "      <td>NaN</td>\n",
       "      <td>NaN</td>\n",
       "      <td>NaN</td>\n",
       "    </tr>\n",
       "  </tbody>\n",
       "</table>\n",
       "</div>"
      ],
      "text/plain": [
       "      name platform  year_of_release genre  na_sales  eu_sales  jp_sales  \\\n",
       "659    NaN      GEN           1993.0   NaN      1.78      0.53      0.00   \n",
       "14244  NaN      GEN           1993.0   NaN      0.00      0.00      0.03   \n",
       "\n",
       "       other_sales  critic_score user_score rating  \n",
       "659           0.08           NaN        NaN    NaN  \n",
       "14244         0.00           NaN        NaN    NaN  "
      ]
     },
     "execution_count": 11,
     "metadata": {},
     "output_type": "execute_result"
    }
   ],
   "source": [
    "games[games['genre'].isna()]"
   ]
  },
  {
   "cell_type": "markdown",
   "metadata": {},
   "source": [
    "The values missing in name are the same ones missing in genre. The games are old and sales are low and the amount of data missing is less than 1% and can be deleted w/out affecting our analysis."
   ]
  },
  {
   "cell_type": "code",
   "execution_count": 12,
   "metadata": {},
   "outputs": [],
   "source": [
    "games.dropna(subset=['name','genre'], inplace=True)"
   ]
  },
  {
   "cell_type": "code",
   "execution_count": 13,
   "metadata": {},
   "outputs": [
    {
     "data": {
      "text/plain": [
       "array([2006., 1985., 2008., 2009., 1996., 1989., 1984., 2005., 1999.,\n",
       "       2007., 2010., 2013., 2004., 1990., 1988., 2002., 2001., 2011.,\n",
       "       1998., 2015., 2012., 2014., 1992., 1997., 1993., 1994., 1982.,\n",
       "       2016., 2003., 1986., 2000.,   nan, 1995., 1991., 1981., 1987.,\n",
       "       1980., 1983.])"
      ]
     },
     "execution_count": 13,
     "metadata": {},
     "output_type": "execute_result"
    }
   ],
   "source": [
    "games['year_of_release'].unique()"
   ]
  },
  {
   "cell_type": "markdown",
   "metadata": {},
   "source": [
    "year_of_release datatype will be converted to datetime as years are not floats. Before doing so, I'll fill in the missing values by grouping the platform & genre of the games."
   ]
  },
  {
   "cell_type": "code",
   "execution_count": 14,
   "metadata": {},
   "outputs": [],
   "source": [
    "games['year_of_release'] = games.groupby(['platform','genre'])['year_of_release'].apply(lambda x: x.fillna(x.median()))"
   ]
  },
  {
   "cell_type": "code",
   "execution_count": 15,
   "metadata": {},
   "outputs": [],
   "source": [
    "games['year_of_release'] = pd.to_datetime(games['year_of_release'], format='%Y').dt.year"
   ]
  },
  {
   "cell_type": "markdown",
   "metadata": {},
   "source": []
  },
  {
   "cell_type": "code",
   "execution_count": 16,
   "metadata": {},
   "outputs": [
    {
     "name": "stdout",
     "output_type": "stream",
     "text": [
      "<class 'pandas.core.frame.DataFrame'>\n",
      "Int64Index: 16713 entries, 0 to 16714\n",
      "Data columns (total 11 columns):\n",
      " #   Column           Non-Null Count  Dtype  \n",
      "---  ------           --------------  -----  \n",
      " 0   name             16713 non-null  object \n",
      " 1   platform         16713 non-null  object \n",
      " 2   year_of_release  16713 non-null  int64  \n",
      " 3   genre            16713 non-null  object \n",
      " 4   na_sales         16713 non-null  float64\n",
      " 5   eu_sales         16713 non-null  float64\n",
      " 6   jp_sales         16713 non-null  float64\n",
      " 7   other_sales      16713 non-null  float64\n",
      " 8   critic_score     8137 non-null   float64\n",
      " 9   user_score       10014 non-null  object \n",
      " 10  rating           9949 non-null   object \n",
      "dtypes: float64(5), int64(1), object(5)\n",
      "memory usage: 1.5+ MB\n"
     ]
    }
   ],
   "source": [
    "games.info()"
   ]
  },
  {
   "cell_type": "code",
   "execution_count": 17,
   "metadata": {},
   "outputs": [
    {
     "data": {
      "text/plain": [
       "array(['8', nan, '8.3', '8.5', '6.6', '8.4', '8.6', '7.7', '6.3', '7.4',\n",
       "       '8.2', '9', '7.9', '8.1', '8.7', '7.1', '3.4', '5.3', '4.8', '3.2',\n",
       "       '8.9', '6.4', '7.8', '7.5', '2.6', '7.2', '9.2', '7', '7.3', '4.3',\n",
       "       '7.6', '5.7', '5', '9.1', '6.5', 'tbd', '8.8', '6.9', '9.4', '6.8',\n",
       "       '6.1', '6.7', '5.4', '4', '4.9', '4.5', '9.3', '6.2', '4.2', '6',\n",
       "       '3.7', '4.1', '5.8', '5.6', '5.5', '4.4', '4.6', '5.9', '3.9',\n",
       "       '3.1', '2.9', '5.2', '3.3', '4.7', '5.1', '3.5', '2.5', '1.9', '3',\n",
       "       '2.7', '2.2', '2', '9.5', '2.1', '3.6', '2.8', '1.8', '3.8', '0',\n",
       "       '1.6', '9.6', '2.4', '1.7', '1.1', '0.3', '1.5', '0.7', '1.2',\n",
       "       '2.3', '0.5', '1.3', '0.2', '0.6', '1.4', '0.9', '1', '9.7'],\n",
       "      dtype=object)"
      ]
     },
     "execution_count": 17,
     "metadata": {},
     "output_type": "execute_result"
    }
   ],
   "source": [
    "games['user_score'].unique()"
   ]
  },
  {
   "cell_type": "markdown",
   "metadata": {},
   "source": [
    "Looking at the unique values of the user_score column we see that they are missing values and 'tbd' values which means those scores were not available when data was extracted. There is not much of a difference between nan and tbd therefore I'll convert tbd values to nan. I won't convert nan values to 0 because we have games that have been rated a 0 by users. We will aslo be converting the datatype from object to float."
   ]
  },
  {
   "cell_type": "code",
   "execution_count": 18,
   "metadata": {},
   "outputs": [],
   "source": [
    "games['user_score'] = pd.to_numeric(games['user_score'], errors='coerce')"
   ]
  },
  {
   "cell_type": "code",
   "execution_count": 19,
   "metadata": {},
   "outputs": [
    {
     "data": {
      "text/plain": [
       "array([8. , nan, 8.3, 8.5, 6.6, 8.4, 8.6, 7.7, 6.3, 7.4, 8.2, 9. , 7.9,\n",
       "       8.1, 8.7, 7.1, 3.4, 5.3, 4.8, 3.2, 8.9, 6.4, 7.8, 7.5, 2.6, 7.2,\n",
       "       9.2, 7. , 7.3, 4.3, 7.6, 5.7, 5. , 9.1, 6.5, 8.8, 6.9, 9.4, 6.8,\n",
       "       6.1, 6.7, 5.4, 4. , 4.9, 4.5, 9.3, 6.2, 4.2, 6. , 3.7, 4.1, 5.8,\n",
       "       5.6, 5.5, 4.4, 4.6, 5.9, 3.9, 3.1, 2.9, 5.2, 3.3, 4.7, 5.1, 3.5,\n",
       "       2.5, 1.9, 3. , 2.7, 2.2, 2. , 9.5, 2.1, 3.6, 2.8, 1.8, 3.8, 0. ,\n",
       "       1.6, 9.6, 2.4, 1.7, 1.1, 0.3, 1.5, 0.7, 1.2, 2.3, 0.5, 1.3, 0.2,\n",
       "       0.6, 1.4, 0.9, 1. , 9.7])"
      ]
     },
     "execution_count": 19,
     "metadata": {},
     "output_type": "execute_result"
    }
   ],
   "source": [
    "games['user_score'].unique()"
   ]
  },
  {
   "cell_type": "code",
   "execution_count": 20,
   "metadata": {},
   "outputs": [
    {
     "data": {
      "text/plain": [
       "array([76., nan, 82., 80., 89., 58., 87., 91., 61., 97., 95., 77., 88.,\n",
       "       83., 94., 93., 85., 86., 98., 96., 90., 84., 73., 74., 78., 92.,\n",
       "       71., 72., 68., 62., 49., 67., 81., 66., 56., 79., 70., 59., 64.,\n",
       "       75., 60., 63., 69., 50., 25., 42., 44., 55., 48., 57., 29., 47.,\n",
       "       65., 54., 20., 53., 37., 38., 33., 52., 30., 32., 43., 45., 51.,\n",
       "       40., 46., 39., 34., 35., 41., 36., 28., 31., 27., 26., 19., 23.,\n",
       "       24., 21., 17., 22., 13.])"
      ]
     },
     "execution_count": 20,
     "metadata": {},
     "output_type": "execute_result"
    }
   ],
   "source": [
    "games['critic_score'].unique()"
   ]
  },
  {
   "cell_type": "markdown",
   "metadata": {},
   "source": [
    "Looking at the unique values of the critic_score column we can change its dtype to integer and we'll have to adress the missing values. I assume we have missing data because there was poor or no documentation in the past but for early 2000s to now I cant say the same. This may have been an error or the information was not entered. We'll be using the methods used to fill years on critic_score."
   ]
  },
  {
   "cell_type": "code",
   "execution_count": 21,
   "metadata": {},
   "outputs": [
    {
     "name": "stderr",
     "output_type": "stream",
     "text": [
      "/opt/conda/lib/python3.9/site-packages/numpy/lib/nanfunctions.py:1117: RuntimeWarning: Mean of empty slice\n",
      "  return np.nanmean(a, axis, out=out, keepdims=keepdims)\n",
      "/opt/conda/lib/python3.9/site-packages/numpy/lib/nanfunctions.py:1117: RuntimeWarning: Mean of empty slice\n",
      "  return np.nanmean(a, axis, out=out, keepdims=keepdims)\n",
      "/opt/conda/lib/python3.9/site-packages/numpy/lib/nanfunctions.py:1117: RuntimeWarning: Mean of empty slice\n",
      "  return np.nanmean(a, axis, out=out, keepdims=keepdims)\n",
      "/opt/conda/lib/python3.9/site-packages/numpy/lib/nanfunctions.py:1117: RuntimeWarning: Mean of empty slice\n",
      "  return np.nanmean(a, axis, out=out, keepdims=keepdims)\n",
      "/opt/conda/lib/python3.9/site-packages/numpy/lib/nanfunctions.py:1117: RuntimeWarning: Mean of empty slice\n",
      "  return np.nanmean(a, axis, out=out, keepdims=keepdims)\n",
      "/opt/conda/lib/python3.9/site-packages/numpy/lib/nanfunctions.py:1117: RuntimeWarning: Mean of empty slice\n",
      "  return np.nanmean(a, axis, out=out, keepdims=keepdims)\n",
      "/opt/conda/lib/python3.9/site-packages/numpy/lib/nanfunctions.py:1117: RuntimeWarning: Mean of empty slice\n",
      "  return np.nanmean(a, axis, out=out, keepdims=keepdims)\n",
      "/opt/conda/lib/python3.9/site-packages/numpy/lib/nanfunctions.py:1117: RuntimeWarning: Mean of empty slice\n",
      "  return np.nanmean(a, axis, out=out, keepdims=keepdims)\n",
      "/opt/conda/lib/python3.9/site-packages/numpy/lib/nanfunctions.py:1117: RuntimeWarning: Mean of empty slice\n",
      "  return np.nanmean(a, axis, out=out, keepdims=keepdims)\n",
      "/opt/conda/lib/python3.9/site-packages/numpy/lib/nanfunctions.py:1117: RuntimeWarning: Mean of empty slice\n",
      "  return np.nanmean(a, axis, out=out, keepdims=keepdims)\n",
      "/opt/conda/lib/python3.9/site-packages/numpy/lib/nanfunctions.py:1117: RuntimeWarning: Mean of empty slice\n",
      "  return np.nanmean(a, axis, out=out, keepdims=keepdims)\n",
      "/opt/conda/lib/python3.9/site-packages/numpy/lib/nanfunctions.py:1117: RuntimeWarning: Mean of empty slice\n",
      "  return np.nanmean(a, axis, out=out, keepdims=keepdims)\n",
      "/opt/conda/lib/python3.9/site-packages/numpy/lib/nanfunctions.py:1117: RuntimeWarning: Mean of empty slice\n",
      "  return np.nanmean(a, axis, out=out, keepdims=keepdims)\n",
      "/opt/conda/lib/python3.9/site-packages/numpy/lib/nanfunctions.py:1117: RuntimeWarning: Mean of empty slice\n",
      "  return np.nanmean(a, axis, out=out, keepdims=keepdims)\n",
      "/opt/conda/lib/python3.9/site-packages/numpy/lib/nanfunctions.py:1117: RuntimeWarning: Mean of empty slice\n",
      "  return np.nanmean(a, axis, out=out, keepdims=keepdims)\n",
      "/opt/conda/lib/python3.9/site-packages/numpy/lib/nanfunctions.py:1117: RuntimeWarning: Mean of empty slice\n",
      "  return np.nanmean(a, axis, out=out, keepdims=keepdims)\n",
      "/opt/conda/lib/python3.9/site-packages/numpy/lib/nanfunctions.py:1117: RuntimeWarning: Mean of empty slice\n",
      "  return np.nanmean(a, axis, out=out, keepdims=keepdims)\n",
      "/opt/conda/lib/python3.9/site-packages/numpy/lib/nanfunctions.py:1117: RuntimeWarning: Mean of empty slice\n",
      "  return np.nanmean(a, axis, out=out, keepdims=keepdims)\n",
      "/opt/conda/lib/python3.9/site-packages/numpy/lib/nanfunctions.py:1117: RuntimeWarning: Mean of empty slice\n",
      "  return np.nanmean(a, axis, out=out, keepdims=keepdims)\n",
      "/opt/conda/lib/python3.9/site-packages/numpy/lib/nanfunctions.py:1117: RuntimeWarning: Mean of empty slice\n",
      "  return np.nanmean(a, axis, out=out, keepdims=keepdims)\n",
      "/opt/conda/lib/python3.9/site-packages/numpy/lib/nanfunctions.py:1117: RuntimeWarning: Mean of empty slice\n",
      "  return np.nanmean(a, axis, out=out, keepdims=keepdims)\n",
      "/opt/conda/lib/python3.9/site-packages/numpy/lib/nanfunctions.py:1117: RuntimeWarning: Mean of empty slice\n",
      "  return np.nanmean(a, axis, out=out, keepdims=keepdims)\n",
      "/opt/conda/lib/python3.9/site-packages/numpy/lib/nanfunctions.py:1117: RuntimeWarning: Mean of empty slice\n",
      "  return np.nanmean(a, axis, out=out, keepdims=keepdims)\n",
      "/opt/conda/lib/python3.9/site-packages/numpy/lib/nanfunctions.py:1117: RuntimeWarning: Mean of empty slice\n",
      "  return np.nanmean(a, axis, out=out, keepdims=keepdims)\n",
      "/opt/conda/lib/python3.9/site-packages/numpy/lib/nanfunctions.py:1117: RuntimeWarning: Mean of empty slice\n",
      "  return np.nanmean(a, axis, out=out, keepdims=keepdims)\n",
      "/opt/conda/lib/python3.9/site-packages/numpy/lib/nanfunctions.py:1117: RuntimeWarning: Mean of empty slice\n",
      "  return np.nanmean(a, axis, out=out, keepdims=keepdims)\n",
      "/opt/conda/lib/python3.9/site-packages/numpy/lib/nanfunctions.py:1117: RuntimeWarning: Mean of empty slice\n",
      "  return np.nanmean(a, axis, out=out, keepdims=keepdims)\n",
      "/opt/conda/lib/python3.9/site-packages/numpy/lib/nanfunctions.py:1117: RuntimeWarning: Mean of empty slice\n",
      "  return np.nanmean(a, axis, out=out, keepdims=keepdims)\n",
      "/opt/conda/lib/python3.9/site-packages/numpy/lib/nanfunctions.py:1117: RuntimeWarning: Mean of empty slice\n",
      "  return np.nanmean(a, axis, out=out, keepdims=keepdims)\n",
      "/opt/conda/lib/python3.9/site-packages/numpy/lib/nanfunctions.py:1117: RuntimeWarning: Mean of empty slice\n",
      "  return np.nanmean(a, axis, out=out, keepdims=keepdims)\n",
      "/opt/conda/lib/python3.9/site-packages/numpy/lib/nanfunctions.py:1117: RuntimeWarning: Mean of empty slice\n",
      "  return np.nanmean(a, axis, out=out, keepdims=keepdims)\n",
      "/opt/conda/lib/python3.9/site-packages/numpy/lib/nanfunctions.py:1117: RuntimeWarning: Mean of empty slice\n",
      "  return np.nanmean(a, axis, out=out, keepdims=keepdims)\n",
      "/opt/conda/lib/python3.9/site-packages/numpy/lib/nanfunctions.py:1117: RuntimeWarning: Mean of empty slice\n",
      "  return np.nanmean(a, axis, out=out, keepdims=keepdims)\n",
      "/opt/conda/lib/python3.9/site-packages/numpy/lib/nanfunctions.py:1117: RuntimeWarning: Mean of empty slice\n",
      "  return np.nanmean(a, axis, out=out, keepdims=keepdims)\n",
      "/opt/conda/lib/python3.9/site-packages/numpy/lib/nanfunctions.py:1117: RuntimeWarning: Mean of empty slice\n",
      "  return np.nanmean(a, axis, out=out, keepdims=keepdims)\n",
      "/opt/conda/lib/python3.9/site-packages/numpy/lib/nanfunctions.py:1117: RuntimeWarning: Mean of empty slice\n",
      "  return np.nanmean(a, axis, out=out, keepdims=keepdims)\n",
      "/opt/conda/lib/python3.9/site-packages/numpy/lib/nanfunctions.py:1117: RuntimeWarning: Mean of empty slice\n",
      "  return np.nanmean(a, axis, out=out, keepdims=keepdims)\n",
      "/opt/conda/lib/python3.9/site-packages/numpy/lib/nanfunctions.py:1117: RuntimeWarning: Mean of empty slice\n",
      "  return np.nanmean(a, axis, out=out, keepdims=keepdims)\n",
      "/opt/conda/lib/python3.9/site-packages/numpy/lib/nanfunctions.py:1117: RuntimeWarning: Mean of empty slice\n",
      "  return np.nanmean(a, axis, out=out, keepdims=keepdims)\n",
      "/opt/conda/lib/python3.9/site-packages/numpy/lib/nanfunctions.py:1117: RuntimeWarning: Mean of empty slice\n",
      "  return np.nanmean(a, axis, out=out, keepdims=keepdims)\n",
      "/opt/conda/lib/python3.9/site-packages/numpy/lib/nanfunctions.py:1117: RuntimeWarning: Mean of empty slice\n",
      "  return np.nanmean(a, axis, out=out, keepdims=keepdims)\n",
      "/opt/conda/lib/python3.9/site-packages/numpy/lib/nanfunctions.py:1117: RuntimeWarning: Mean of empty slice\n",
      "  return np.nanmean(a, axis, out=out, keepdims=keepdims)\n",
      "/opt/conda/lib/python3.9/site-packages/numpy/lib/nanfunctions.py:1117: RuntimeWarning: Mean of empty slice\n",
      "  return np.nanmean(a, axis, out=out, keepdims=keepdims)\n",
      "/opt/conda/lib/python3.9/site-packages/numpy/lib/nanfunctions.py:1117: RuntimeWarning: Mean of empty slice\n",
      "  return np.nanmean(a, axis, out=out, keepdims=keepdims)\n",
      "/opt/conda/lib/python3.9/site-packages/numpy/lib/nanfunctions.py:1117: RuntimeWarning: Mean of empty slice\n",
      "  return np.nanmean(a, axis, out=out, keepdims=keepdims)\n",
      "/opt/conda/lib/python3.9/site-packages/numpy/lib/nanfunctions.py:1117: RuntimeWarning: Mean of empty slice\n",
      "  return np.nanmean(a, axis, out=out, keepdims=keepdims)\n",
      "/opt/conda/lib/python3.9/site-packages/numpy/lib/nanfunctions.py:1117: RuntimeWarning: Mean of empty slice\n",
      "  return np.nanmean(a, axis, out=out, keepdims=keepdims)\n",
      "/opt/conda/lib/python3.9/site-packages/numpy/lib/nanfunctions.py:1117: RuntimeWarning: Mean of empty slice\n",
      "  return np.nanmean(a, axis, out=out, keepdims=keepdims)\n",
      "/opt/conda/lib/python3.9/site-packages/numpy/lib/nanfunctions.py:1117: RuntimeWarning: Mean of empty slice\n",
      "  return np.nanmean(a, axis, out=out, keepdims=keepdims)\n",
      "/opt/conda/lib/python3.9/site-packages/numpy/lib/nanfunctions.py:1117: RuntimeWarning: Mean of empty slice\n",
      "  return np.nanmean(a, axis, out=out, keepdims=keepdims)\n",
      "/opt/conda/lib/python3.9/site-packages/numpy/lib/nanfunctions.py:1117: RuntimeWarning: Mean of empty slice\n",
      "  return np.nanmean(a, axis, out=out, keepdims=keepdims)\n",
      "/opt/conda/lib/python3.9/site-packages/numpy/lib/nanfunctions.py:1117: RuntimeWarning: Mean of empty slice\n",
      "  return np.nanmean(a, axis, out=out, keepdims=keepdims)\n",
      "/opt/conda/lib/python3.9/site-packages/numpy/lib/nanfunctions.py:1117: RuntimeWarning: Mean of empty slice\n",
      "  return np.nanmean(a, axis, out=out, keepdims=keepdims)\n",
      "/opt/conda/lib/python3.9/site-packages/numpy/lib/nanfunctions.py:1117: RuntimeWarning: Mean of empty slice\n",
      "  return np.nanmean(a, axis, out=out, keepdims=keepdims)\n",
      "/opt/conda/lib/python3.9/site-packages/numpy/lib/nanfunctions.py:1117: RuntimeWarning: Mean of empty slice\n",
      "  return np.nanmean(a, axis, out=out, keepdims=keepdims)\n",
      "/opt/conda/lib/python3.9/site-packages/numpy/lib/nanfunctions.py:1117: RuntimeWarning: Mean of empty slice\n",
      "  return np.nanmean(a, axis, out=out, keepdims=keepdims)\n",
      "/opt/conda/lib/python3.9/site-packages/numpy/lib/nanfunctions.py:1117: RuntimeWarning: Mean of empty slice\n",
      "  return np.nanmean(a, axis, out=out, keepdims=keepdims)\n",
      "/opt/conda/lib/python3.9/site-packages/numpy/lib/nanfunctions.py:1117: RuntimeWarning: Mean of empty slice\n",
      "  return np.nanmean(a, axis, out=out, keepdims=keepdims)\n",
      "/opt/conda/lib/python3.9/site-packages/numpy/lib/nanfunctions.py:1117: RuntimeWarning: Mean of empty slice\n",
      "  return np.nanmean(a, axis, out=out, keepdims=keepdims)\n",
      "/opt/conda/lib/python3.9/site-packages/numpy/lib/nanfunctions.py:1117: RuntimeWarning: Mean of empty slice\n",
      "  return np.nanmean(a, axis, out=out, keepdims=keepdims)\n",
      "/opt/conda/lib/python3.9/site-packages/numpy/lib/nanfunctions.py:1117: RuntimeWarning: Mean of empty slice\n",
      "  return np.nanmean(a, axis, out=out, keepdims=keepdims)\n",
      "/opt/conda/lib/python3.9/site-packages/numpy/lib/nanfunctions.py:1117: RuntimeWarning: Mean of empty slice\n",
      "  return np.nanmean(a, axis, out=out, keepdims=keepdims)\n",
      "/opt/conda/lib/python3.9/site-packages/numpy/lib/nanfunctions.py:1117: RuntimeWarning: Mean of empty slice\n",
      "  return np.nanmean(a, axis, out=out, keepdims=keepdims)\n",
      "/opt/conda/lib/python3.9/site-packages/numpy/lib/nanfunctions.py:1117: RuntimeWarning: Mean of empty slice\n",
      "  return np.nanmean(a, axis, out=out, keepdims=keepdims)\n",
      "/opt/conda/lib/python3.9/site-packages/numpy/lib/nanfunctions.py:1117: RuntimeWarning: Mean of empty slice\n",
      "  return np.nanmean(a, axis, out=out, keepdims=keepdims)\n",
      "/opt/conda/lib/python3.9/site-packages/numpy/lib/nanfunctions.py:1117: RuntimeWarning: Mean of empty slice\n",
      "  return np.nanmean(a, axis, out=out, keepdims=keepdims)\n",
      "/opt/conda/lib/python3.9/site-packages/numpy/lib/nanfunctions.py:1117: RuntimeWarning: Mean of empty slice\n",
      "  return np.nanmean(a, axis, out=out, keepdims=keepdims)\n",
      "/opt/conda/lib/python3.9/site-packages/numpy/lib/nanfunctions.py:1117: RuntimeWarning: Mean of empty slice\n",
      "  return np.nanmean(a, axis, out=out, keepdims=keepdims)\n",
      "/opt/conda/lib/python3.9/site-packages/numpy/lib/nanfunctions.py:1117: RuntimeWarning: Mean of empty slice\n",
      "  return np.nanmean(a, axis, out=out, keepdims=keepdims)\n",
      "/opt/conda/lib/python3.9/site-packages/numpy/lib/nanfunctions.py:1117: RuntimeWarning: Mean of empty slice\n",
      "  return np.nanmean(a, axis, out=out, keepdims=keepdims)\n",
      "/opt/conda/lib/python3.9/site-packages/numpy/lib/nanfunctions.py:1117: RuntimeWarning: Mean of empty slice\n",
      "  return np.nanmean(a, axis, out=out, keepdims=keepdims)\n",
      "/opt/conda/lib/python3.9/site-packages/numpy/lib/nanfunctions.py:1117: RuntimeWarning: Mean of empty slice\n",
      "  return np.nanmean(a, axis, out=out, keepdims=keepdims)\n",
      "/opt/conda/lib/python3.9/site-packages/numpy/lib/nanfunctions.py:1117: RuntimeWarning: Mean of empty slice\n",
      "  return np.nanmean(a, axis, out=out, keepdims=keepdims)\n",
      "/opt/conda/lib/python3.9/site-packages/numpy/lib/nanfunctions.py:1117: RuntimeWarning: Mean of empty slice\n",
      "  return np.nanmean(a, axis, out=out, keepdims=keepdims)\n",
      "/opt/conda/lib/python3.9/site-packages/numpy/lib/nanfunctions.py:1117: RuntimeWarning: Mean of empty slice\n",
      "  return np.nanmean(a, axis, out=out, keepdims=keepdims)\n",
      "/opt/conda/lib/python3.9/site-packages/numpy/lib/nanfunctions.py:1117: RuntimeWarning: Mean of empty slice\n",
      "  return np.nanmean(a, axis, out=out, keepdims=keepdims)\n",
      "/opt/conda/lib/python3.9/site-packages/numpy/lib/nanfunctions.py:1117: RuntimeWarning: Mean of empty slice\n",
      "  return np.nanmean(a, axis, out=out, keepdims=keepdims)\n",
      "/opt/conda/lib/python3.9/site-packages/numpy/lib/nanfunctions.py:1117: RuntimeWarning: Mean of empty slice\n",
      "  return np.nanmean(a, axis, out=out, keepdims=keepdims)\n",
      "/opt/conda/lib/python3.9/site-packages/numpy/lib/nanfunctions.py:1117: RuntimeWarning: Mean of empty slice\n",
      "  return np.nanmean(a, axis, out=out, keepdims=keepdims)\n",
      "/opt/conda/lib/python3.9/site-packages/numpy/lib/nanfunctions.py:1117: RuntimeWarning: Mean of empty slice\n",
      "  return np.nanmean(a, axis, out=out, keepdims=keepdims)\n",
      "/opt/conda/lib/python3.9/site-packages/numpy/lib/nanfunctions.py:1117: RuntimeWarning: Mean of empty slice\n",
      "  return np.nanmean(a, axis, out=out, keepdims=keepdims)\n",
      "/opt/conda/lib/python3.9/site-packages/numpy/lib/nanfunctions.py:1117: RuntimeWarning: Mean of empty slice\n",
      "  return np.nanmean(a, axis, out=out, keepdims=keepdims)\n",
      "/opt/conda/lib/python3.9/site-packages/numpy/lib/nanfunctions.py:1117: RuntimeWarning: Mean of empty slice\n",
      "  return np.nanmean(a, axis, out=out, keepdims=keepdims)\n",
      "/opt/conda/lib/python3.9/site-packages/numpy/lib/nanfunctions.py:1117: RuntimeWarning: Mean of empty slice\n",
      "  return np.nanmean(a, axis, out=out, keepdims=keepdims)\n",
      "/opt/conda/lib/python3.9/site-packages/numpy/lib/nanfunctions.py:1117: RuntimeWarning: Mean of empty slice\n",
      "  return np.nanmean(a, axis, out=out, keepdims=keepdims)\n",
      "/opt/conda/lib/python3.9/site-packages/numpy/lib/nanfunctions.py:1117: RuntimeWarning: Mean of empty slice\n",
      "  return np.nanmean(a, axis, out=out, keepdims=keepdims)\n",
      "/opt/conda/lib/python3.9/site-packages/numpy/lib/nanfunctions.py:1117: RuntimeWarning: Mean of empty slice\n",
      "  return np.nanmean(a, axis, out=out, keepdims=keepdims)\n",
      "/opt/conda/lib/python3.9/site-packages/numpy/lib/nanfunctions.py:1117: RuntimeWarning: Mean of empty slice\n",
      "  return np.nanmean(a, axis, out=out, keepdims=keepdims)\n",
      "/opt/conda/lib/python3.9/site-packages/numpy/lib/nanfunctions.py:1117: RuntimeWarning: Mean of empty slice\n",
      "  return np.nanmean(a, axis, out=out, keepdims=keepdims)\n",
      "/opt/conda/lib/python3.9/site-packages/numpy/lib/nanfunctions.py:1117: RuntimeWarning: Mean of empty slice\n",
      "  return np.nanmean(a, axis, out=out, keepdims=keepdims)\n",
      "/opt/conda/lib/python3.9/site-packages/numpy/lib/nanfunctions.py:1117: RuntimeWarning: Mean of empty slice\n",
      "  return np.nanmean(a, axis, out=out, keepdims=keepdims)\n",
      "/opt/conda/lib/python3.9/site-packages/numpy/lib/nanfunctions.py:1117: RuntimeWarning: Mean of empty slice\n",
      "  return np.nanmean(a, axis, out=out, keepdims=keepdims)\n",
      "/opt/conda/lib/python3.9/site-packages/numpy/lib/nanfunctions.py:1117: RuntimeWarning: Mean of empty slice\n",
      "  return np.nanmean(a, axis, out=out, keepdims=keepdims)\n",
      "/opt/conda/lib/python3.9/site-packages/numpy/lib/nanfunctions.py:1117: RuntimeWarning: Mean of empty slice\n",
      "  return np.nanmean(a, axis, out=out, keepdims=keepdims)\n",
      "/opt/conda/lib/python3.9/site-packages/numpy/lib/nanfunctions.py:1117: RuntimeWarning: Mean of empty slice\n",
      "  return np.nanmean(a, axis, out=out, keepdims=keepdims)\n",
      "/opt/conda/lib/python3.9/site-packages/numpy/lib/nanfunctions.py:1117: RuntimeWarning: Mean of empty slice\n",
      "  return np.nanmean(a, axis, out=out, keepdims=keepdims)\n"
     ]
    }
   ],
   "source": [
    "games['critic_score'] = games.groupby(['platform','genre'])['critic_score'].apply(lambda x: x.fillna(x.median()))"
   ]
  },
  {
   "cell_type": "code",
   "execution_count": 22,
   "metadata": {},
   "outputs": [
    {
     "data": {
      "text/html": [
       "<div>\n",
       "<style scoped>\n",
       "    .dataframe tbody tr th:only-of-type {\n",
       "        vertical-align: middle;\n",
       "    }\n",
       "\n",
       "    .dataframe tbody tr th {\n",
       "        vertical-align: top;\n",
       "    }\n",
       "\n",
       "    .dataframe thead th {\n",
       "        text-align: right;\n",
       "    }\n",
       "</style>\n",
       "<table border=\"1\" class=\"dataframe\">\n",
       "  <thead>\n",
       "    <tr style=\"text-align: right;\">\n",
       "      <th></th>\n",
       "      <th>year_of_release</th>\n",
       "      <th>na_sales</th>\n",
       "      <th>eu_sales</th>\n",
       "      <th>jp_sales</th>\n",
       "      <th>other_sales</th>\n",
       "      <th>critic_score</th>\n",
       "      <th>user_score</th>\n",
       "    </tr>\n",
       "  </thead>\n",
       "  <tbody>\n",
       "    <tr>\n",
       "      <th>year_of_release</th>\n",
       "      <td>1.000000</td>\n",
       "      <td>-0.093215</td>\n",
       "      <td>0.004556</td>\n",
       "      <td>-0.165711</td>\n",
       "      <td>0.038149</td>\n",
       "      <td>-0.028207</td>\n",
       "      <td>-0.266230</td>\n",
       "    </tr>\n",
       "    <tr>\n",
       "      <th>na_sales</th>\n",
       "      <td>-0.093215</td>\n",
       "      <td>1.000000</td>\n",
       "      <td>0.765341</td>\n",
       "      <td>0.449668</td>\n",
       "      <td>0.638695</td>\n",
       "      <td>0.212003</td>\n",
       "      <td>0.086200</td>\n",
       "    </tr>\n",
       "    <tr>\n",
       "      <th>eu_sales</th>\n",
       "      <td>0.004556</td>\n",
       "      <td>0.765341</td>\n",
       "      <td>1.000000</td>\n",
       "      <td>0.435079</td>\n",
       "      <td>0.722796</td>\n",
       "      <td>0.198388</td>\n",
       "      <td>0.055337</td>\n",
       "    </tr>\n",
       "    <tr>\n",
       "      <th>jp_sales</th>\n",
       "      <td>-0.165711</td>\n",
       "      <td>0.449668</td>\n",
       "      <td>0.435079</td>\n",
       "      <td>1.000000</td>\n",
       "      <td>0.291090</td>\n",
       "      <td>0.127028</td>\n",
       "      <td>0.125598</td>\n",
       "    </tr>\n",
       "    <tr>\n",
       "      <th>other_sales</th>\n",
       "      <td>0.038149</td>\n",
       "      <td>0.638695</td>\n",
       "      <td>0.722796</td>\n",
       "      <td>0.291090</td>\n",
       "      <td>1.000000</td>\n",
       "      <td>0.182552</td>\n",
       "      <td>0.057119</td>\n",
       "    </tr>\n",
       "    <tr>\n",
       "      <th>critic_score</th>\n",
       "      <td>-0.028207</td>\n",
       "      <td>0.212003</td>\n",
       "      <td>0.198388</td>\n",
       "      <td>0.127028</td>\n",
       "      <td>0.182552</td>\n",
       "      <td>1.000000</td>\n",
       "      <td>0.537769</td>\n",
       "    </tr>\n",
       "    <tr>\n",
       "      <th>user_score</th>\n",
       "      <td>-0.266230</td>\n",
       "      <td>0.086200</td>\n",
       "      <td>0.055337</td>\n",
       "      <td>0.125598</td>\n",
       "      <td>0.057119</td>\n",
       "      <td>0.537769</td>\n",
       "      <td>1.000000</td>\n",
       "    </tr>\n",
       "  </tbody>\n",
       "</table>\n",
       "</div>"
      ],
      "text/plain": [
       "                 year_of_release  na_sales  eu_sales  jp_sales  other_sales  \\\n",
       "year_of_release         1.000000 -0.093215  0.004556 -0.165711     0.038149   \n",
       "na_sales               -0.093215  1.000000  0.765341  0.449668     0.638695   \n",
       "eu_sales                0.004556  0.765341  1.000000  0.435079     0.722796   \n",
       "jp_sales               -0.165711  0.449668  0.435079  1.000000     0.291090   \n",
       "other_sales             0.038149  0.638695  0.722796  0.291090     1.000000   \n",
       "critic_score           -0.028207  0.212003  0.198388  0.127028     0.182552   \n",
       "user_score             -0.266230  0.086200  0.055337  0.125598     0.057119   \n",
       "\n",
       "                 critic_score  user_score  \n",
       "year_of_release     -0.028207   -0.266230  \n",
       "na_sales             0.212003    0.086200  \n",
       "eu_sales             0.198388    0.055337  \n",
       "jp_sales             0.127028    0.125598  \n",
       "other_sales          0.182552    0.057119  \n",
       "critic_score         1.000000    0.537769  \n",
       "user_score           0.537769    1.000000  "
      ]
     },
     "execution_count": 22,
     "metadata": {},
     "output_type": "execute_result"
    }
   ],
   "source": [
    "games.corr(method='pearson')"
   ]
  },
  {
   "cell_type": "code",
   "execution_count": 23,
   "metadata": {},
   "outputs": [],
   "source": [
    "games['user_score'] = games.groupby(['critic_score'])['user_score'].apply(lambda x: x.fillna(x.median()))"
   ]
  },
  {
   "cell_type": "code",
   "execution_count": 24,
   "metadata": {},
   "outputs": [
    {
     "data": {
      "text/html": [
       "<div>\n",
       "<style scoped>\n",
       "    .dataframe tbody tr th:only-of-type {\n",
       "        vertical-align: middle;\n",
       "    }\n",
       "\n",
       "    .dataframe tbody tr th {\n",
       "        vertical-align: top;\n",
       "    }\n",
       "\n",
       "    .dataframe thead th {\n",
       "        text-align: right;\n",
       "    }\n",
       "</style>\n",
       "<table border=\"1\" class=\"dataframe\">\n",
       "  <thead>\n",
       "    <tr style=\"text-align: right;\">\n",
       "      <th></th>\n",
       "      <th>name</th>\n",
       "      <th>platform</th>\n",
       "      <th>year_of_release</th>\n",
       "      <th>genre</th>\n",
       "      <th>na_sales</th>\n",
       "      <th>eu_sales</th>\n",
       "      <th>jp_sales</th>\n",
       "      <th>other_sales</th>\n",
       "      <th>critic_score</th>\n",
       "      <th>user_score</th>\n",
       "      <th>rating</th>\n",
       "    </tr>\n",
       "  </thead>\n",
       "  <tbody>\n",
       "    <tr>\n",
       "      <th>1</th>\n",
       "      <td>Super Mario Bros.</td>\n",
       "      <td>NES</td>\n",
       "      <td>1985</td>\n",
       "      <td>Platform</td>\n",
       "      <td>29.08</td>\n",
       "      <td>3.58</td>\n",
       "      <td>6.81</td>\n",
       "      <td>0.77</td>\n",
       "      <td>NaN</td>\n",
       "      <td>NaN</td>\n",
       "      <td>NaN</td>\n",
       "    </tr>\n",
       "    <tr>\n",
       "      <th>4</th>\n",
       "      <td>Pokemon Red/Pokemon Blue</td>\n",
       "      <td>GB</td>\n",
       "      <td>1996</td>\n",
       "      <td>Role-Playing</td>\n",
       "      <td>11.27</td>\n",
       "      <td>8.89</td>\n",
       "      <td>10.22</td>\n",
       "      <td>1.00</td>\n",
       "      <td>NaN</td>\n",
       "      <td>NaN</td>\n",
       "      <td>NaN</td>\n",
       "    </tr>\n",
       "    <tr>\n",
       "      <th>5</th>\n",
       "      <td>Tetris</td>\n",
       "      <td>GB</td>\n",
       "      <td>1989</td>\n",
       "      <td>Puzzle</td>\n",
       "      <td>23.20</td>\n",
       "      <td>2.26</td>\n",
       "      <td>4.22</td>\n",
       "      <td>0.58</td>\n",
       "      <td>NaN</td>\n",
       "      <td>NaN</td>\n",
       "      <td>NaN</td>\n",
       "    </tr>\n",
       "    <tr>\n",
       "      <th>9</th>\n",
       "      <td>Duck Hunt</td>\n",
       "      <td>NES</td>\n",
       "      <td>1984</td>\n",
       "      <td>Shooter</td>\n",
       "      <td>26.93</td>\n",
       "      <td>0.63</td>\n",
       "      <td>0.28</td>\n",
       "      <td>0.47</td>\n",
       "      <td>NaN</td>\n",
       "      <td>NaN</td>\n",
       "      <td>NaN</td>\n",
       "    </tr>\n",
       "    <tr>\n",
       "      <th>12</th>\n",
       "      <td>Pokemon Gold/Pokemon Silver</td>\n",
       "      <td>GB</td>\n",
       "      <td>1999</td>\n",
       "      <td>Role-Playing</td>\n",
       "      <td>9.00</td>\n",
       "      <td>6.18</td>\n",
       "      <td>7.20</td>\n",
       "      <td>0.71</td>\n",
       "      <td>NaN</td>\n",
       "      <td>NaN</td>\n",
       "      <td>NaN</td>\n",
       "    </tr>\n",
       "    <tr>\n",
       "      <th>...</th>\n",
       "      <td>...</td>\n",
       "      <td>...</td>\n",
       "      <td>...</td>\n",
       "      <td>...</td>\n",
       "      <td>...</td>\n",
       "      <td>...</td>\n",
       "      <td>...</td>\n",
       "      <td>...</td>\n",
       "      <td>...</td>\n",
       "      <td>...</td>\n",
       "      <td>...</td>\n",
       "    </tr>\n",
       "    <tr>\n",
       "      <th>16207</th>\n",
       "      <td>Rock N' Roll Racing</td>\n",
       "      <td>SNES</td>\n",
       "      <td>1993</td>\n",
       "      <td>Racing</td>\n",
       "      <td>0.00</td>\n",
       "      <td>0.00</td>\n",
       "      <td>0.01</td>\n",
       "      <td>0.00</td>\n",
       "      <td>NaN</td>\n",
       "      <td>NaN</td>\n",
       "      <td>NaN</td>\n",
       "    </tr>\n",
       "    <tr>\n",
       "      <th>16553</th>\n",
       "      <td>Farming Simulator 2014</td>\n",
       "      <td>PSV</td>\n",
       "      <td>2014</td>\n",
       "      <td>Simulation</td>\n",
       "      <td>0.01</td>\n",
       "      <td>0.00</td>\n",
       "      <td>0.00</td>\n",
       "      <td>0.00</td>\n",
       "      <td>NaN</td>\n",
       "      <td>NaN</td>\n",
       "      <td>NaN</td>\n",
       "    </tr>\n",
       "    <tr>\n",
       "      <th>16693</th>\n",
       "      <td>PGA European Tour</td>\n",
       "      <td>N64</td>\n",
       "      <td>2000</td>\n",
       "      <td>Sports</td>\n",
       "      <td>0.01</td>\n",
       "      <td>0.00</td>\n",
       "      <td>0.00</td>\n",
       "      <td>0.00</td>\n",
       "      <td>NaN</td>\n",
       "      <td>NaN</td>\n",
       "      <td>NaN</td>\n",
       "    </tr>\n",
       "    <tr>\n",
       "      <th>16694</th>\n",
       "      <td>Carmageddon 64</td>\n",
       "      <td>N64</td>\n",
       "      <td>1999</td>\n",
       "      <td>Action</td>\n",
       "      <td>0.01</td>\n",
       "      <td>0.00</td>\n",
       "      <td>0.00</td>\n",
       "      <td>0.00</td>\n",
       "      <td>NaN</td>\n",
       "      <td>NaN</td>\n",
       "      <td>NaN</td>\n",
       "    </tr>\n",
       "    <tr>\n",
       "      <th>16714</th>\n",
       "      <td>Winning Post 8 2016</td>\n",
       "      <td>PSV</td>\n",
       "      <td>2016</td>\n",
       "      <td>Simulation</td>\n",
       "      <td>0.00</td>\n",
       "      <td>0.00</td>\n",
       "      <td>0.01</td>\n",
       "      <td>0.00</td>\n",
       "      <td>NaN</td>\n",
       "      <td>NaN</td>\n",
       "      <td>NaN</td>\n",
       "    </tr>\n",
       "  </tbody>\n",
       "</table>\n",
       "<p>1132 rows × 11 columns</p>\n",
       "</div>"
      ],
      "text/plain": [
       "                              name platform  year_of_release         genre  \\\n",
       "1                Super Mario Bros.      NES             1985      Platform   \n",
       "4         Pokemon Red/Pokemon Blue       GB             1996  Role-Playing   \n",
       "5                           Tetris       GB             1989        Puzzle   \n",
       "9                        Duck Hunt      NES             1984       Shooter   \n",
       "12     Pokemon Gold/Pokemon Silver       GB             1999  Role-Playing   \n",
       "...                            ...      ...              ...           ...   \n",
       "16207          Rock N' Roll Racing     SNES             1993        Racing   \n",
       "16553       Farming Simulator 2014      PSV             2014    Simulation   \n",
       "16693            PGA European Tour      N64             2000        Sports   \n",
       "16694               Carmageddon 64      N64             1999        Action   \n",
       "16714          Winning Post 8 2016      PSV             2016    Simulation   \n",
       "\n",
       "       na_sales  eu_sales  jp_sales  other_sales  critic_score  user_score  \\\n",
       "1         29.08      3.58      6.81         0.77           NaN         NaN   \n",
       "4         11.27      8.89     10.22         1.00           NaN         NaN   \n",
       "5         23.20      2.26      4.22         0.58           NaN         NaN   \n",
       "9         26.93      0.63      0.28         0.47           NaN         NaN   \n",
       "12         9.00      6.18      7.20         0.71           NaN         NaN   \n",
       "...         ...       ...       ...          ...           ...         ...   \n",
       "16207      0.00      0.00      0.01         0.00           NaN         NaN   \n",
       "16553      0.01      0.00      0.00         0.00           NaN         NaN   \n",
       "16693      0.01      0.00      0.00         0.00           NaN         NaN   \n",
       "16694      0.01      0.00      0.00         0.00           NaN         NaN   \n",
       "16714      0.00      0.00      0.01         0.00           NaN         NaN   \n",
       "\n",
       "      rating  \n",
       "1        NaN  \n",
       "4        NaN  \n",
       "5        NaN  \n",
       "9        NaN  \n",
       "12       NaN  \n",
       "...      ...  \n",
       "16207    NaN  \n",
       "16553    NaN  \n",
       "16693    NaN  \n",
       "16694    NaN  \n",
       "16714    NaN  \n",
       "\n",
       "[1132 rows x 11 columns]"
      ]
     },
     "execution_count": 24,
     "metadata": {},
     "output_type": "execute_result"
    }
   ],
   "source": [
    "games[games['critic_score'].isna()]"
   ]
  },
  {
   "cell_type": "code",
   "execution_count": 25,
   "metadata": {},
   "outputs": [
    {
     "data": {
      "text/plain": [
       "name                0.000000\n",
       "platform            0.000000\n",
       "year_of_release     0.000000\n",
       "genre               0.000000\n",
       "na_sales            0.000000\n",
       "eu_sales            0.000000\n",
       "jp_sales            0.000000\n",
       "other_sales         0.000000\n",
       "critic_score        6.773171\n",
       "user_score          6.773171\n",
       "rating             40.471489\n",
       "dtype: float64"
      ]
     },
     "execution_count": 25,
     "metadata": {},
     "output_type": "execute_result"
    }
   ],
   "source": [
    "games.isna().sum()/len(games) * 100"
   ]
  },
  {
   "cell_type": "markdown",
   "metadata": {},
   "source": [
    "It seems we are still missing data on both critic_score and user_score, I wanted to see if the missing data was associated to games release before the 2000's but as shown above we have data current data missing which can only mean that it was not updated. I'll fill in the rest of that data with a 0."
   ]
  },
  {
   "cell_type": "code",
   "execution_count": 26,
   "metadata": {},
   "outputs": [],
   "source": [
    "games['critic_score']= games['critic_score'].fillna('0')\n",
    "games['user_score']= games['user_score'].fillna('0')"
   ]
  },
  {
   "cell_type": "code",
   "execution_count": 27,
   "metadata": {},
   "outputs": [
    {
     "data": {
      "text/plain": [
       "NaN     6764\n",
       "E       3990\n",
       "T       2961\n",
       "M       1563\n",
       "E10+    1420\n",
       "EC         8\n",
       "RP         3\n",
       "K-A        3\n",
       "AO         1\n",
       "Name: rating, dtype: int64"
      ]
     },
     "execution_count": 27,
     "metadata": {},
     "output_type": "execute_result"
    }
   ],
   "source": [
    "games['rating'].value_counts(dropna=False)"
   ]
  },
  {
   "cell_type": "code",
   "execution_count": 28,
   "metadata": {},
   "outputs": [
    {
     "name": "stdout",
     "output_type": "stream",
     "text": [
      "           genre rating  year_of_release\n",
      "0         Action     AO           2005.0\n",
      "1         Action      E           2007.0\n",
      "2         Action   E10+           2009.0\n",
      "3         Action     EC           2011.0\n",
      "4         Action      M           2009.0\n",
      "5         Action      T           2008.0\n",
      "6      Adventure      E           2008.0\n",
      "7      Adventure   E10+           2010.0\n",
      "8      Adventure     EC           2005.0\n",
      "9      Adventure      M           2009.0\n",
      "10     Adventure      T           2008.0\n",
      "11      Fighting      E           2001.5\n",
      "12      Fighting   E10+           2009.0\n",
      "13      Fighting      M           2006.0\n",
      "14      Fighting      T           2007.0\n",
      "15          Misc      E           2008.0\n",
      "16          Misc   E10+           2010.0\n",
      "17          Misc     EC           2010.0\n",
      "18          Misc    K-A           1996.0\n",
      "19          Misc      M           2006.0\n",
      "20          Misc      T           2009.0\n",
      "21      Platform      E           2004.0\n",
      "22      Platform   E10+           2009.0\n",
      "23      Platform      M           2009.0\n",
      "24      Platform      T           2003.5\n",
      "25        Puzzle      E           2008.0\n",
      "26        Puzzle   E10+           2009.0\n",
      "27        Puzzle      T           2008.0\n",
      "28        Racing      E           2006.0\n",
      "29        Racing   E10+           2008.0\n",
      "30        Racing      M           2006.0\n",
      "31        Racing     RP           2010.0\n",
      "32        Racing      T           2004.0\n",
      "33  Role-Playing      E           2004.0\n",
      "34  Role-Playing   E10+           2008.0\n",
      "35  Role-Playing      M           2010.5\n",
      "36  Role-Playing      T           2007.0\n",
      "37       Shooter      E           2005.0\n",
      "38       Shooter   E10+           2009.5\n",
      "39       Shooter      M           2009.0\n",
      "40       Shooter      T           2006.0\n",
      "41    Simulation      E           2008.0\n",
      "42    Simulation   E10+           2008.0\n",
      "43    Simulation      M           2005.0\n",
      "44    Simulation      T           2006.0\n",
      "45        Sports      E           2007.0\n",
      "46        Sports   E10+           2009.0\n",
      "47        Sports      M           2004.0\n",
      "48        Sports      T           2007.0\n",
      "49      Strategy      E           2005.5\n",
      "50      Strategy   E10+           2008.0\n",
      "51      Strategy    K-A           1997.0\n",
      "52      Strategy      M           2009.0\n",
      "53      Strategy     RP           2009.5\n",
      "54      Strategy      T           2006.0\n"
     ]
    }
   ],
   "source": [
    "rating_by_genre = games.pivot_table(index=['genre','rating'], values='year_of_release', aggfunc='median').reset_index()\n",
    "print(rating_by_genre)"
   ]
  },
  {
   "cell_type": "code",
   "execution_count": 29,
   "metadata": {},
   "outputs": [
    {
     "name": "stdout",
     "output_type": "stream",
     "text": [
      "                              name rating  year_of_release\n",
      "0                Tales of Xillia 2      T           2012.0\n",
      "1          .hack//Infection Part 1      T           2002.0\n",
      "2           .hack//Mutation Part 2      T           2002.0\n",
      "3           .hack//Outbreak Part 3      T           2002.0\n",
      "4                       007 Racing      T           2000.0\n",
      "...                            ...    ...              ...\n",
      "6241                    thinkSMART      E           2010.0\n",
      "6242            thinkSMART FAMILY!      E           2010.0\n",
      "6243    thinkSMART: Chess for Kids      E           2011.0\n",
      "6244                  uDraw Studio      E           2010.0\n",
      "6245  uDraw Studio: Instant Artist      E           2011.0\n",
      "\n",
      "[6246 rows x 3 columns]\n"
     ]
    }
   ],
   "source": [
    "rating_by_name = games.pivot_table(index=['name','rating'], values='year_of_release', aggfunc='median').reset_index()\n",
    "print(rating_by_name)"
   ]
  },
  {
   "cell_type": "code",
   "execution_count": 30,
   "metadata": {},
   "outputs": [
    {
     "data": {
      "text/plain": [
       "[' Beyblade Burst',\n",
       " ' Fire Emblem Fates',\n",
       " \" Frozen: Olaf's Quest\",\n",
       " ' Haikyu!! Cross Team Match!',\n",
       " ' Tales of Xillia 2',\n",
       " \"'98 Koshien\",\n",
       " '.hack//G.U. Vol.1//Rebirth',\n",
       " '.hack//G.U. Vol.2//Reminisce',\n",
       " '.hack//G.U. Vol.2//Reminisce (jp sales)',\n",
       " '.hack//G.U. Vol.3//Redemption',\n",
       " '.hack//Infection Part 1',\n",
       " '.hack//Link',\n",
       " '.hack//Mutation Part 2',\n",
       " '.hack//Outbreak Part 3',\n",
       " '.hack//Quarantine Part 4: The Final Chapter',\n",
       " '.hack: Sekai no Mukou ni + Versus',\n",
       " '007 Racing',\n",
       " '007: Quantum of Solace',\n",
       " '007: The World is not Enough',\n",
       " '007: Tomorrow Never Dies',\n",
       " '1 vs. 100',\n",
       " '1/2 Summer +',\n",
       " '10 Minute Solution',\n",
       " '100 All-Time Favorites',\n",
       " '100 Classic Books',\n",
       " '100 Classic Games',\n",
       " '1000 Cooking Recipes from ELLE à table',\n",
       " '1001 Touch Games',\n",
       " '101-in-1 Explosive Megamix',\n",
       " '101-in-1 Party Megamix Wii',\n",
       " '101-in-1 Sports Megamix',\n",
       " '101-in-1 Sports Party Megamix',\n",
       " '1080°: TenEighty Snowboarding',\n",
       " '11eyes: CrossOver',\n",
       " '12-Sai. Honto no Kimochi',\n",
       " '12-Sai. Koisuru Diary',\n",
       " '12Riven: The Psi-Climinal of Integral',\n",
       " '15 Days',\n",
       " '1701 A.D.',\n",
       " '18 Wheeler: American Pro Trucker',\n",
       " '18 Wheels of Steel: Extreme Trucker',\n",
       " '18 Wheels of Steel: Extreme Trucker 2',\n",
       " '187: Ride or Die',\n",
       " '1942',\n",
       " '2 Games in 1 Double Pack: Hot Wheels Velocity X / Hot Wheels World Race',\n",
       " '2 Games in 1 Double Pack: The Incredibles / Finding Nemo: The Continuing Adventures',\n",
       " '2 Games in 1: Disney Princess & The Lion King',\n",
       " \"2 Games in 1: Disney's Brother Bear / The Lion King 1 1/2\",\n",
       " '2 Games in 1: Sonic Advance & ChuChu Rocket!',\n",
       " '2 Games in 1: Sonic Battle & ChuChu Rocket!',\n",
       " '2 Games in 1: Sonic Pinball Party & Columns Crown',\n",
       " '2 Games in 1: SpongeBob SquarePants: SuperSponge & Rugrats Go Wild',\n",
       " '2 in 1 Combo Pack: Sonic Heroes / Super Monkey Ball Deluxe',\n",
       " '2-in-1 Game Pack: Spider-Man & Spider-Man 2',\n",
       " '2002 FIFA World Cup',\n",
       " '2010 FIFA World Cup South Africa',\n",
       " '2014 FIFA World Cup Brazil',\n",
       " '24: The Game',\n",
       " '25 to Life',\n",
       " '2Xtreme',\n",
       " '3 in 1: Solitaire, Mahjong & Tangram',\n",
       " '300: March to Glory',\n",
       " '3D Baseball',\n",
       " '3D Dot Game Heroes',\n",
       " '3D Lemmings',\n",
       " '3D Tank Warfare Simulator Panzer Front',\n",
       " '3DS Classic Collection',\n",
       " '3Xtreme',\n",
       " '3rd Super Robot Wars Z Jigoku Hen',\n",
       " '3rd Super Robot Wars Z: Tengoku-Hen',\n",
       " '4 Elements',\n",
       " '4 Game Fun Pack: Monopoly / Boggle / Yahtzee / Battleship',\n",
       " '4 Nin uchi Mahjong',\n",
       " '4 Play Collection - Dark Mysteries',\n",
       " '40 Winks',\n",
       " '428: Fuusa Sareta Shibuya de',\n",
       " '4x4 EVO 2',\n",
       " '4x4 Evolution',\n",
       " '50 Cent: Blood on the Sand',\n",
       " '50 Cent: Bulletproof',\n",
       " '50 Classic Games',\n",
       " '64 de Hakken! Tamagotchi Minna de Tamagotchi World',\n",
       " '7 Days to Die',\n",
       " '7 Roses: A Darkness Rises',\n",
       " '7 Wonders II',\n",
       " '7 Wonders of the Ancient World',\n",
       " '7 Wonders: Treasures of Seven',\n",
       " \"7'scarlet\",\n",
       " '7th Dragon',\n",
       " '7th Dragon 2020',\n",
       " '7th Dragon 2020-II',\n",
       " '7th Dragon III Code: VFD',\n",
       " '99 no Namida',\n",
       " '999: Nine Hours, Nine Persons, Nine Doors',\n",
       " 'A Boy and His Blob',\n",
       " \"A Bug's Life\",\n",
       " 'A Collection of Activision Classic Games for the Atari 2600',\n",
       " 'A Collection of Classic Games from the Intellivision',\n",
       " 'A Game of Thrones: Genesis',\n",
       " 'A Good Librarian Like a Good Shepherd: Library Party',\n",
       " 'A New Beginning',\n",
       " 'A Ressha de Gyoukou 2001',\n",
       " 'A Ressha de Ikou DS',\n",
       " 'A Vampyre Story',\n",
       " \"A Witch's Tale\",\n",
       " 'A llI S.V.: A Ressha de Gyoukou 3 Super Version',\n",
       " 'A-Train',\n",
       " 'A-Train 6',\n",
       " 'A-Train: City Simulator',\n",
       " 'A. IV Evolution: A Ressha de Ikou 4',\n",
       " \"A.C.E.: Another Century's Episode\",\n",
       " \"A.C.E.: Another Century's Episode 2\",\n",
       " \"A.C.E.: Another Century's Episode 3: The Final\",\n",
       " \"A.C.E.: Another Century's Episode Portable\",\n",
       " \"A.C.E.: Another Century's Episode R\",\n",
       " 'ABBA: You Can Dance',\n",
       " 'AC/DC LIVE: Rock Band Track Pack',\n",
       " 'AIR',\n",
       " 'AKB1/149: Love Election',\n",
       " 'AKB1/48: Idol to Guam de Koishitara...',\n",
       " 'AKB1/48: Idol to Koishitara...',\n",
       " 'AKB48+Me',\n",
       " 'AMF Bowling 2004',\n",
       " 'AMF Bowling Pinbusters!',\n",
       " 'AMF Bowling World Lanes',\n",
       " 'AMF Xtreme Bowling',\n",
       " 'AMNESIA World',\n",
       " 'APB Reloaded',\n",
       " 'ASH: Archaic Sealed Heat',\n",
       " 'ATV Offroad Fury',\n",
       " 'ATV Offroad Fury 2',\n",
       " 'ATV Offroad Fury 3',\n",
       " 'ATV Offroad Fury Pro',\n",
       " \"ATV Offroad Fury: Blazin' Trails\",\n",
       " 'ATV Quad Kings',\n",
       " 'ATV Quad Power Racing 2',\n",
       " 'ATV/Monster Truck Mayhem',\n",
       " 'ATV: Quad Frenzy',\n",
       " 'ATV: Quad Power Racing',\n",
       " 'Aa Megami-samaa',\n",
       " 'Abunai: Koi no Sousa Shitsu',\n",
       " 'Academy of Champions: Soccer',\n",
       " 'Accel World: Ginyoku no Kakusei',\n",
       " 'Accel World: Kasoku no Chouten',\n",
       " 'Ace Attorney 6',\n",
       " 'Ace Attorney Investigations 2',\n",
       " 'Ace Attorney Investigations: Miles Edgeworth',\n",
       " 'Ace Combat 04: Shattered Skies',\n",
       " 'Ace Combat 2',\n",
       " 'Ace Combat 3: Electrosphere',\n",
       " 'Ace Combat 5: The Unsung War',\n",
       " 'Ace Combat 6: Fires of Liberation',\n",
       " 'Ace Combat X: Skies of Deception',\n",
       " 'Ace Combat Zero: The Belkan War',\n",
       " 'Ace Combat: Assault Horizon',\n",
       " 'Ace Combat: Assault Horizon Legacy',\n",
       " 'Ace Combat: Joint Assault',\n",
       " 'Achtung Panzer: Kharkov 1943',\n",
       " 'Act of Aggression',\n",
       " 'Action Bass',\n",
       " 'Action Force',\n",
       " 'Action Man-Operation Extreme',\n",
       " 'Active Health with Carol Vorderman',\n",
       " 'Active Life Explorer',\n",
       " 'Active Life: Extreme Challenge',\n",
       " 'Active Life: Magical Carnival',\n",
       " 'Active Life: Outdoor Challenge',\n",
       " 'Activision Anthology',\n",
       " 'Activision Hits: Remixed',\n",
       " 'Actua Tennis',\n",
       " 'Adidas Power Soccer',\n",
       " 'Adidas Power Soccer 98',\n",
       " 'Adrenalin Misfits',\n",
       " 'Advance Guardian Heroes',\n",
       " 'Advance Wars',\n",
       " 'Advance Wars 2: Black Hole Rising',\n",
       " 'Advance Wars: Days of Ruin',\n",
       " 'Advance Wars: Dual Strike',\n",
       " 'Advent Rising',\n",
       " 'Adventure',\n",
       " 'Adventure Island',\n",
       " \"Adventure Time: Explore the Dungeon Because I Don't Know!\",\n",
       " 'Adventure Time: Finn & Jake Investigations',\n",
       " 'Adventure Time: The Secret of the Nameless ',\n",
       " 'Adventure Time: The Secret of the Nameless Kingdom',\n",
       " 'Adventures of Lolo',\n",
       " 'Adventures of Tron',\n",
       " 'Adventures to Go!',\n",
       " 'Aedis Eclipse: Generation of Chaos',\n",
       " 'Aegis of Earth: Protonovus Assault',\n",
       " 'Aeon Flux',\n",
       " 'Aero Elite: Combat Academy',\n",
       " 'Aero Gauge',\n",
       " 'AeroFighters Assault',\n",
       " 'Afrika',\n",
       " 'Afro Samurai',\n",
       " 'After Hours Athletes',\n",
       " 'Again',\n",
       " 'Agarest Senki: Re-appearance',\n",
       " 'Agassi Tennis Generation',\n",
       " \"Agatha Christie's The ABC Murders\",\n",
       " 'Agatha Christie: And Then There Were None',\n",
       " 'Agatha Christie: Death on the Nile',\n",
       " 'Agatha Christie: Evil Under the Sun',\n",
       " 'Agatha Christie: Peril at End House',\n",
       " 'Agatha Christie: The ABC Murders',\n",
       " 'Age of Conan: Rise of the Godslayer',\n",
       " 'Age of Empires II: The Age of Kings',\n",
       " 'Age of Empires III',\n",
       " 'Age of Empires III: Complete Collection',\n",
       " 'Age of Empires III: Gold Edition',\n",
       " 'Age of Empires III: The Asian Dynasties',\n",
       " 'Age of Empires Online',\n",
       " \"Age of Empires: Collector's Edition\",\n",
       " 'Age of Empires: Mythologies',\n",
       " 'Age of Empires: The Age of Kings',\n",
       " 'Age of Mythology',\n",
       " 'Age of Mythology: The Titans',\n",
       " 'Aggressive Inline',\n",
       " 'Agile Warrior F-111X',\n",
       " 'Aibou DS',\n",
       " 'Aidyn Chronicles: The First Mage',\n",
       " 'Aikatsu Stars! My Special Appeal',\n",
       " 'Aikatsu! 2-nin no My Princess',\n",
       " 'Aikatsu! 365 Idol Days',\n",
       " 'Aikatsu! Cinderella Lesson',\n",
       " 'Aikatsu! My No.1 Stage!',\n",
       " 'Ailu de Puzzle',\n",
       " 'Air Combat',\n",
       " 'Air Conflicts: Aces of World War II',\n",
       " 'Air Conflicts: Secret Wars',\n",
       " 'Air Raid',\n",
       " 'Air Traffic Chaos',\n",
       " 'Air-Sea Battle',\n",
       " 'AirForce Delta Storm',\n",
       " 'AirForce Delta Strike',\n",
       " 'Airblade',\n",
       " 'Airborne Troops: Countdown to D-Day',\n",
       " 'Airline Tycoon',\n",
       " 'Airline Tycoon 2',\n",
       " 'Airlock',\n",
       " 'Airport Simulator',\n",
       " 'Airship Q',\n",
       " 'Aiyoku no Eustia',\n",
       " 'Akagawa Jirou Mystery: Yasoukyoku - Hon ni Manekareta Satsujin',\n",
       " 'Akai Ito DS',\n",
       " 'Akai Katana Shin',\n",
       " 'Akane Iro ni Somaru Saka Parallel',\n",
       " 'Akatsuki no Amaneka to Aoi Kyojin',\n",
       " 'Akatsuki no Goei Trinity',\n",
       " \"Akiba's Trip\",\n",
       " \"Akiba's Trip Plus\",\n",
       " \"Akiba's Trip: Undead & Undressed\",\n",
       " 'Akko ni Omakase! Brain Shock',\n",
       " 'Akuji the Heartless',\n",
       " 'Aladdin Magic Racer',\n",
       " 'Alan Wake',\n",
       " 'Alex Rider: Stormbreaker',\n",
       " 'Alexi Lalas International Soccer',\n",
       " 'Alfa Romeo Racing Italiano',\n",
       " \"Alia's Carnival! Sacrament\",\n",
       " 'Alias',\n",
       " 'Alice in Wonderland',\n",
       " 'Alice: Madness Returns',\n",
       " 'Alien',\n",
       " 'Alien Breed Trilogy',\n",
       " 'Alien Hominid',\n",
       " 'Alien Monster Bowling League',\n",
       " 'Alien Resurrection',\n",
       " 'Alien Syndrome',\n",
       " 'Alien Trilogy',\n",
       " \"Alien's Return\",\n",
       " 'Alien: Isolation',\n",
       " 'Alienators: Evolution Continues',\n",
       " 'Aliens in the Attic',\n",
       " 'Aliens versus Predator: Extinction',\n",
       " 'Aliens vs Predator',\n",
       " 'Aliens vs Predator: Requiem',\n",
       " 'Aliens: Colonial Marines',\n",
       " 'Aliens: Infestation',\n",
       " 'All Grown Up! Express Yourself',\n",
       " 'All Grown Up!: Game Boy Advance Video Volume 1',\n",
       " 'All Japan Pro Wrestling featuring Virtua',\n",
       " 'All Kamen Rider: Rider Generation',\n",
       " 'All Kamen Rider: Rider Generation 2',\n",
       " 'All Points Bulletin',\n",
       " 'All Star Cheer Squad',\n",
       " 'All Star Cheer Squad 2',\n",
       " 'All Star Karate',\n",
       " 'All Star Pro-Wrestling',\n",
       " 'All Star Tennis 99',\n",
       " 'All-Pro Football 2K8',\n",
       " 'All-Star Baseball 2000',\n",
       " 'All-Star Baseball 2001',\n",
       " 'All-Star Baseball 2002',\n",
       " 'All-Star Baseball 2003',\n",
       " 'All-Star Baseball 2004',\n",
       " 'All-Star Baseball 2005',\n",
       " 'All-Star Baseball 99',\n",
       " 'Alleyway',\n",
       " 'Allied General',\n",
       " 'Alone in the Dark',\n",
       " 'Alone in the Dark: Inferno',\n",
       " \"Alone in the Dark: One-Eyed Jack's Revenge\",\n",
       " 'Alone in the Dark: The New Nightmare',\n",
       " 'Alpha Protocol',\n",
       " 'Alpha and Omega',\n",
       " 'Alter Echo',\n",
       " 'Alter Ego',\n",
       " 'Altered Beast: Guardian of the Realms',\n",
       " 'Alundra',\n",
       " 'Alundra 2: A New Legend Begins',\n",
       " 'Alvin and the Chipmunks',\n",
       " 'Alvin and the Chipmunks: Chipwrecked',\n",
       " 'Alvin and the Chipmunks: The Squeakquel',\n",
       " 'Amagami',\n",
       " 'Amagoushi no Yakata',\n",
       " 'Amatsumi Sora ni! Kumo no Hatate ni',\n",
       " 'Amazing Adventures: The Forgotten Ruins',\n",
       " 'Amazing Island',\n",
       " 'America Oudan Ultra-Quiz',\n",
       " \"America's Army: Rise of a Soldier\",\n",
       " \"America's Army: True Soldiers\",\n",
       " \"America's Next Top Model\",\n",
       " \"America's Test Kitchen: Let's Get Cooking\",\n",
       " 'American Bass Challenge',\n",
       " 'American Chopper',\n",
       " 'American Chopper 2: Full Throttle',\n",
       " 'American Girl: Julie Finds a Way',\n",
       " 'American Girl: Kit Mystery Challenge!',\n",
       " 'American Idol',\n",
       " 'Amnesia',\n",
       " 'Amnesia Crowd',\n",
       " 'Amnesia Later',\n",
       " 'Amped 2',\n",
       " 'Amped 3',\n",
       " 'Amped: Freestyle Snowboarding',\n",
       " 'Amplitude',\n",
       " \"An American Tail: Fievel's Gold Rush\",\n",
       " 'Anarchy Reigns',\n",
       " 'And1 Streetball',\n",
       " 'Andretti Racing',\n",
       " 'Angel Blade: Neo Tokyo Guardians',\n",
       " 'Angelique Duet',\n",
       " 'Angelique Retour',\n",
       " 'Angelique Trois',\n",
       " 'Angelique: Maren no Rokukishi',\n",
       " \"Angler's Club: Ultimate Bass Fishing 3D\",\n",
       " 'Angry Birds',\n",
       " 'Angry Birds Star Wars',\n",
       " 'Angry Birds Trilogy',\n",
       " 'Angry Birds: Rio',\n",
       " 'AniMates!',\n",
       " 'Anima - Gate of Memories',\n",
       " 'Animal Crossing',\n",
       " 'Animal Crossing: Amiibo Festival',\n",
       " 'Animal Crossing: City Folk',\n",
       " 'Animal Crossing: Happy Home Designer',\n",
       " 'Animal Crossing: New Leaf',\n",
       " 'Animal Crossing: Wild World',\n",
       " 'Animal Genius',\n",
       " 'Animal Kingdom: Wildlife Expedition',\n",
       " 'Animal Paradise',\n",
       " 'Animal Planet: Emergency Vets',\n",
       " 'Animal Planet: Vet Collection',\n",
       " 'Animal Planet: Vet Life',\n",
       " 'Animaniacs Ten Pin Alley',\n",
       " 'Animaniacs: The Great Edgar Hunt',\n",
       " 'Animorphs: Shattered Reality',\n",
       " 'Anno 1701: Dawn of Discovery',\n",
       " 'Anno 2070',\n",
       " 'Anno 2205',\n",
       " 'Ano Hi Mita Hana no Namae o Bokutachi wa Mada Shiranai',\n",
       " 'Another Code R: A Journey into Lost Memories',\n",
       " 'Ansatsu Kyoushitsu: Assassin Ikusei Keikaku!!',\n",
       " 'Ant Nation',\n",
       " 'Antiphona no Seikahime: Tenshi no Gakufu Op.A',\n",
       " 'Antz Extreme Racing',\n",
       " 'Anubis II',\n",
       " 'Ao no Exorcist: Genkoku no Labyrinth',\n",
       " 'Ao no Kanata no Four Rhythm',\n",
       " 'Aoishiro',\n",
       " 'Apache: Air Assault',\n",
       " 'Apassionata: Die Galanacht der Pferde',\n",
       " 'Ape Escape',\n",
       " 'Ape Escape 2',\n",
       " 'Ape Escape 3',\n",
       " 'Ape Escape Academy',\n",
       " 'Ape Escape Academy (jp sales)',\n",
       " 'Ape Escape: On the Loose',\n",
       " 'Ape Escape: Pumped & Primed',\n",
       " 'Apex',\n",
       " 'Apocalypse',\n",
       " 'Apollo Justice: Ace Attorney',\n",
       " 'Aqua Aqua',\n",
       " 'Aqua Panic!',\n",
       " 'Aqua Teen Hunger Force: Zombie Ninja Pro-Am',\n",
       " 'Aquaman: Battle for Atlantis',\n",
       " \"Aquanaut's Holiday\",\n",
       " \"Aquanaut's Holiday: Kakusareta Kiroku\",\n",
       " 'Aquapazza: Aquaplus Dream Match',\n",
       " 'Aquarium by DS',\n",
       " 'Ar Nosurge: Ode to an Unborn Star',\n",
       " 'Ar tonelico 2: Melody of Metafalica',\n",
       " 'Ar tonelico Qoga: Knell of Ar Ciel',\n",
       " 'Ar tonelico: Melody of Elemia',\n",
       " 'Arabians Lost: The Engagement on Desert',\n",
       " 'Arc Rise Fantasia',\n",
       " 'Arc the Lad',\n",
       " 'Arc the Lad II',\n",
       " 'Arc the Lad III',\n",
       " 'Arc the Lad: End of Darkness',\n",
       " 'Arc the Lad: Twilight of the Spirits',\n",
       " 'Arcade Hits: Frisky Tom',\n",
       " 'Arcade Party Pak',\n",
       " 'Arcade Shooting Gallery',\n",
       " 'Arcade Zone',\n",
       " 'Arcana Famiglia 2',\n",
       " 'Arcana Famiglia: La storia della Aracana Famiglia',\n",
       " 'Arcana Famiglia: Vascello Phantasma no Majutsushi',\n",
       " 'Arcana Heart',\n",
       " 'Arcana Heart 3',\n",
       " 'Arcania: Gothic 4',\n",
       " 'Archer Maclean Presents: Pool Paradise',\n",
       " \"Archer Maclean's 3D Pool\",\n",
       " \"Archer Maclean's Mercury\",\n",
       " 'Arctic Tale',\n",
       " 'Arctic Thunder',\n",
       " 'Are You Alice?',\n",
       " 'Are You Smarter Than A 5th Grader?',\n",
       " 'Are You Smarter Than a 5th Grader? Back to School',\n",
       " 'Are You Smarter than a 5th Grader? Game Time',\n",
       " 'Are You Smarter than a 5th Grader? Make the Grade',\n",
       " 'Area 51',\n",
       " 'Arena Football',\n",
       " 'Aria: The Natural ~Tooi Yume no Mirage~',\n",
       " 'Aria: The Origination ~Aoi Wakusei no El Cielo~',\n",
       " 'Arkanoid DS',\n",
       " 'ArmA II',\n",
       " 'ArmA III',\n",
       " 'Armed and Dangerous',\n",
       " 'Armor Ambush',\n",
       " 'Armored Core',\n",
       " 'Armored Core 2',\n",
       " 'Armored Core 2: Another Age',\n",
       " 'Armored Core 3',\n",
       " 'Armored Core 3 Portable',\n",
       " 'Armored Core 4',\n",
       " 'Armored Core SL: Silent Line Portable',\n",
       " 'Armored Core V',\n",
       " 'Armored Core: For Answer',\n",
       " 'Armored Core: Formula Front Extreme Battle',\n",
       " 'Armored Core: Last Raven',\n",
       " 'Armored Core: Last Raven Portable',\n",
       " 'Armored Core: Master of Arena',\n",
       " 'Armored Core: Nexus',\n",
       " 'Armored Core: Nine Breaker',\n",
       " 'Armored Core: Project Phantasma',\n",
       " 'Armored Core: Silent Line',\n",
       " 'Armored Core: Verdict Day',\n",
       " 'Armorines: Project S.W.A.R.M.',\n",
       " 'Army Corps of Hell',\n",
       " 'Army Men 3D',\n",
       " 'Army Men World War: Final Front',\n",
       " 'Army Men World War: Land, Sea, Air',\n",
       " 'Army Men World War: Team Assault',\n",
       " 'Army Men: Air Attack',\n",
       " 'Army Men: Air Attack 2',\n",
       " 'Army Men: Air Combat',\n",
       " 'Army Men: Air Combat - The Elite Missions',\n",
       " 'Army Men: Green Rogue',\n",
       " 'Army Men: Major Malfunction',\n",
       " 'Army Men: RTS',\n",
       " \"Army Men: Sarge's Heroes\",\n",
       " \"Army Men: Sarge's Heroes 2\",\n",
       " \"Army Men: Sarge's War\",\n",
       " 'Army Men: Soldiers of Misfortune',\n",
       " 'Army Rescue',\n",
       " 'Army of Two',\n",
       " 'Army of Two: The 40th Day',\n",
       " \"Army of Two: The Devil's Cartel\",\n",
       " 'Around the World in 80 Days',\n",
       " 'Arslan: The Warriors of Legend',\n",
       " 'Art Academy',\n",
       " 'Art Academy: Home Studio',\n",
       " 'Art Academy: Lessons for Everyone',\n",
       " 'Art of Fighting 3: The Path of the Warrior',\n",
       " 'Art of Fighting Anthology',\n",
       " 'Arthur and the Invisibles',\n",
       " 'Arthur! Ready to Race',\n",
       " 'Arx Fatalis',\n",
       " 'Ashes Cricket 2009',\n",
       " 'Asphalt 3D',\n",
       " 'Asphalt: Injection',\n",
       " 'Asphalt: Urban GT',\n",
       " 'Asphalt: Urban GT 2',\n",
       " \"Assassin's Creed\",\n",
       " \"Assassin's Creed Chronicles\",\n",
       " \"Assassin's Creed Chronicles: China\",\n",
       " \"Assassin's Creed II\",\n",
       " \"Assassin's Creed II: Discovery\",\n",
       " \"Assassin's Creed III\",\n",
       " \"Assassin's Creed III: Liberation\",\n",
       " \"Assassin's Creed IV: Black Flag\",\n",
       " \"Assassin's Creed Syndicate\",\n",
       " \"Assassin's Creed The Ezio Collection\",\n",
       " \"Assassin's Creed: Altair's Chronicles\",\n",
       " \"Assassin's Creed: Bloodlines\",\n",
       " \"Assassin's Creed: Brotherhood\",\n",
       " \"Assassin's Creed: Revelations\",\n",
       " \"Assassin's Creed: Rogue\",\n",
       " \"Assassin's Creed: Unity\",\n",
       " 'Assassination Classroom: Grand Siege on Kuro-sensei',\n",
       " 'Assault',\n",
       " 'Assault Rigs',\n",
       " 'Assault Suit Leynos',\n",
       " 'Assault: Retribution',\n",
       " 'Assetto Corsa',\n",
       " 'Asterix & Obelix: Kick Buttix',\n",
       " 'Asteroids',\n",
       " 'Asteroids Hyper 64',\n",
       " 'Astonishia Story',\n",
       " 'Astro Boy',\n",
       " 'Astro Boy: Omega Factor',\n",
       " 'Astro Boy: The Video Game',\n",
       " 'Astroblast',\n",
       " 'Astrology DS',\n",
       " \"Asura's Wrath\",\n",
       " 'Atari Anniversary Advance',\n",
       " 'Atari Anniversary Edition Redux',\n",
       " 'Atari Anthology',\n",
       " 'Atari Classics Evolved',\n",
       " 'Atari Flashback Classics: Volume 1',\n",
       " 'Atari Flashback Classics: Volume 2',\n",
       " \"Atari's Greatest Hits: Volume 1\",\n",
       " \"Atari's Greatest Hits: Volume 2\",\n",
       " 'Atelier Annie: Alchemists of Sera Island',\n",
       " 'Atelier Ayesha: The Alchemist of Dusk',\n",
       " 'Atelier Escha & Logy: Alchemists of the Dusk Sky',\n",
       " 'Atelier Firis: The Alchemist of the Mysterious Journey',\n",
       " 'Atelier Iris 2: The Azoth Of Destiny',\n",
       " 'Atelier Iris 3: Grand Phantasm (JP Sales)',\n",
       " 'Atelier Iris 3: Grand Phantasm (US Sales)',\n",
       " 'Atelier Iris: Eternal Mana',\n",
       " 'Atelier Meruru: Alchemist of Arland 3',\n",
       " 'Atelier Rorona: Alchemist of Arland',\n",
       " 'Atelier Shallie Plus: Alchemists of the Dusk Sea',\n",
       " 'Atelier Shallie: Alchemists of the Dusk Sea',\n",
       " 'Atelier Sophie: The Alchemist of the Mysterious Book',\n",
       " 'Atelier Totori: The Adventurer of Arland',\n",
       " 'Athens 2004',\n",
       " 'Atlantic Quest',\n",
       " 'Atlantis',\n",
       " 'Atomic Betty',\n",
       " 'Atsumare! Power Pro Kun no DS Koushien',\n",
       " 'Attack of the Movies 3D',\n",
       " 'Attack on Titan (KOEI)',\n",
       " 'Attack on Titan: Humanity in Chains',\n",
       " 'Auto Destruct',\n",
       " 'Auto Modellista',\n",
       " 'Automobili Lamborghini',\n",
       " 'Avalon Code',\n",
       " 'Avatar: The Game',\n",
       " 'Avatar: The Last Airbender',\n",
       " 'Avatar: The Last Airbender - Into the Inferno',\n",
       " 'Avatar: The Last Airbender - The Burning Earth',\n",
       " 'Away: Shuffle Dungeon',\n",
       " 'Azada',\n",
       " 'Azure Dreams',\n",
       " 'Azure Striker Gunvolt',\n",
       " 'Azure Striker Gunvolt: Striker Pack',\n",
       " 'Azurik: Rise of Perathia',\n",
       " \"B's-LOG Party♪\",\n",
       " 'B-17: Fortress in the Sky',\n",
       " 'B-Boy',\n",
       " 'B.L.U.E.: Legend of Water',\n",
       " 'BCFX: The Black College Football Xperience, The Doug Williams Edition',\n",
       " 'BIT.TRIP COMPLETE',\n",
       " 'BIT.TRIP SAGA',\n",
       " 'BMX XXX',\n",
       " 'BRAHMA Force: The Assault on Beltlogger 9',\n",
       " 'Baby Pals',\n",
       " 'Babysitting Mama',\n",
       " 'Babysitting Mania',\n",
       " 'Back At The Barnyard: Slop Bucket Games',\n",
       " 'Back to the Future: The Game',\n",
       " 'Backbreaker',\n",
       " 'Backstreet Billiards',\n",
       " 'Backyard Baseball',\n",
       " \"Backyard Baseball '09\",\n",
       " \"Backyard Baseball '10\",\n",
       " 'Backyard Baseball 2006',\n",
       " 'Backyard Basketball',\n",
       " 'Backyard Hockey',\n",
       " 'Backyard NBA Basketball',\n",
       " 'Backyard NFL Football',\n",
       " \"Backyard NFL Football '08\",\n",
       " \"Backyard NFL Football '09\",\n",
       " \"Backyard NFL Football '10\",\n",
       " 'Backyard NFL Football 2006',\n",
       " 'Backyard Skateboarding 2006',\n",
       " 'Backyard Soccer',\n",
       " 'Backyard Sports Football: Rookie Rush',\n",
       " 'Backyard Sports: Sandlot Sluggers',\n",
       " 'Backyard Wrestling 2: There Goes the Neighborhood',\n",
       " \"Backyard Wrestling: Don't Try This at Home\",\n",
       " 'Bad Apple Wars',\n",
       " 'Bad Boys: Miami Takedown',\n",
       " 'Bae Yong-joon to Manabu Kankokugo DS',\n",
       " 'Bahamut Lagoon',\n",
       " 'Baja: Edge of Control',\n",
       " 'Bakemonogatari Portable',\n",
       " 'Baku Baku',\n",
       " 'Bakugan Battle Brawlers: Defenders of the Core',\n",
       " 'Bakugan: Battle Brawlers',\n",
       " 'Bakugan: Battle Trainer',\n",
       " 'Bakugan: Rise of the Resistance',\n",
       " 'Bakumatsu Koihana: Shinsengumi DS',\n",
       " 'Bakumatsu Renka: Karyuu Kenshi-den',\n",
       " 'Bakumatsu Rock',\n",
       " 'Bakumatsu Rock: Ultra Soul',\n",
       " 'Bakusou Dekotora Densetsu: Otoko Ippiki Yume Kaidoi',\n",
       " \"Bakusou Kyoudai Let's & Go!! Eternal Wings\",\n",
       " \"Baldur's Gate: Dark Alliance\",\n",
       " \"Baldur's Gate: Dark Alliance II\",\n",
       " 'Ball Breakers',\n",
       " 'Ballblazer Champions',\n",
       " 'Ballistic',\n",
       " 'Ballistic: Ecks vs. Sever',\n",
       " 'Balloon Fight',\n",
       " 'Balloon Pop',\n",
       " 'Balloon Pop 2',\n",
       " 'Balls of Fury',\n",
       " 'Band Hero',\n",
       " 'Bangai-O Spirits',\n",
       " 'Banjo-Kazooie',\n",
       " \"Banjo-Kazooie: Grunty's Revenge\",\n",
       " 'Banjo-Kazooie: Nuts & Bolts',\n",
       " 'Banjo-Pilot',\n",
       " 'Banjo-Tooie',\n",
       " 'Bank Heist',\n",
       " \"Banushi Life Game: Winner's Circle\",\n",
       " 'Barbarian',\n",
       " 'Barbie Explorer',\n",
       " 'Barbie Fashion Show: An Eye for Style',\n",
       " 'Barbie Groovy Games',\n",
       " 'Barbie Horse Adventures: Blue Ribbon Race',\n",
       " 'Barbie Horse Adventures: Riding Camp',\n",
       " 'Barbie Horse Adventures: Wild Horse Rescue',\n",
       " 'Barbie Super Sports',\n",
       " 'Barbie Superpack: Secret Agent / Groovy Games',\n",
       " 'Barbie and Her Sisters Puppy Rescue',\n",
       " 'Barbie and the Magic of Pegasus',\n",
       " 'Barbie and the Three Musketeers',\n",
       " 'Barbie as The Island Princess',\n",
       " 'Barbie as the Princess and the Pauper',\n",
       " 'Barbie in The 12 Dancing Princesses',\n",
       " 'Barbie: Groom and Glam Pups',\n",
       " 'Barbie: Jet, Set & Style!',\n",
       " 'Barbie: Race & Ride',\n",
       " 'Barnstorming',\n",
       " 'Barnyard',\n",
       " 'Barnyard Blast: Swine of the Night',\n",
       " 'Baroque',\n",
       " 'Baseball',\n",
       " 'Baseball Advance',\n",
       " 'Baseball Blast!',\n",
       " \"Bases Loaded '96: Double Header\",\n",
       " 'Basketball Hall of Fame Ultimate Hoops Challenge',\n",
       " 'Bass Hunter 64',\n",
       " 'Bass Landing',\n",
       " 'Bass Pro Shops: The Hunt',\n",
       " 'Bass Pro Shops: The Strike',\n",
       " 'Bass Rise',\n",
       " 'Bass Strike',\n",
       " 'Bassmasters 2000',\n",
       " 'Bastard!! Utsuro Naru Kamigami no Utsuwa',\n",
       " 'Baten Kaitos Origins',\n",
       " 'Baten Kaitos: Eternal Wings and the Lost Ocean',\n",
       " 'Batman & Robin',\n",
       " 'Batman Begins',\n",
       " 'Batman Beyond: Return of the Joker',\n",
       " 'Batman Forever: The Arcade Game',\n",
       " 'Batman: A Telltale Game Series',\n",
       " 'Batman: Arkham Asylum',\n",
       " 'Batman: Arkham City',\n",
       " 'Batman: Arkham Knight',\n",
       " 'Batman: Arkham Origins',\n",
       " 'Batman: Arkham Origins Blackgate',\n",
       " 'Batman: Arkham VR',\n",
       " 'Batman: Dark Tomorrow',\n",
       " 'Batman: Gotham City Racer',\n",
       " 'Batman: Return to Arkham',\n",
       " 'Batman: Rise of Sin Tzu',\n",
       " 'Batman: The Brave and the Bold the Videogame',\n",
       " 'Batman: Vengeance',\n",
       " 'Battalion Wars',\n",
       " 'Battalion Wars 2',\n",
       " 'Battle & Get! Pokemon Typing DS',\n",
       " 'Battle Arena Toshinden',\n",
       " 'Battle Arena Toshinden 2',\n",
       " 'Battle Arena Toshinden 3',\n",
       " 'Battle Arena Toshinden Remix',\n",
       " 'Battle Arena Toshinden URA',\n",
       " 'Battle Assault 3 featuring Gundam Seed',\n",
       " 'Battle Commander: Hachibushu Shura no Heihou',\n",
       " 'Battle Dodge Ball',\n",
       " 'Battle Engine Aquila',\n",
       " 'Battle Fantasia',\n",
       " 'Battle Hunter',\n",
       " 'Battle Princess of Arcadias',\n",
       " 'Battle Rage',\n",
       " 'Battle Soccer: Field no Hasha',\n",
       " 'Battle Spirits: Digital Starter',\n",
       " \"Battle Spirits: Hero's Soul\",\n",
       " 'Battle Spirits: Kiseki no Hasha',\n",
       " 'Battle Stadium D.O.N',\n",
       " 'Battle Stations',\n",
       " 'Battle Worlds: Kronos',\n",
       " 'Battle of Giants: Dinosaurs',\n",
       " 'Battle of Giants: Dinosaurs Strike',\n",
       " 'Battle of Giants: Dragons',\n",
       " 'Battle of Giants: Mutant Insects',\n",
       " 'Battle vs. Chess',\n",
       " 'BattleBots: Beyond the BattleBox',\n",
       " 'BattleForge',\n",
       " 'BattleTanx',\n",
       " 'BattleTanx: Global Assault',\n",
       " 'Battleborn',\n",
       " 'Battlebots: Design & Destroy',\n",
       " 'Battlefield 1',\n",
       " 'Battlefield 1942',\n",
       " 'Battlefield 1942: The WW II Anthology',\n",
       " 'Battlefield 2',\n",
       " 'Battlefield 2142',\n",
       " 'Battlefield 2: Modern Combat',\n",
       " 'Battlefield 2: Modern Combat(JP sales)',\n",
       " 'Battlefield 3',\n",
       " 'Battlefield 4',\n",
       " 'Battlefield Vietnam',\n",
       " 'Battlefield: Bad Company',\n",
       " 'Battlefield: Bad Company 2',\n",
       " 'Battlefield: Hardline',\n",
       " 'Battles of Prince of Persia',\n",
       " 'Battleship / Connect Four / Sorry! / Trouble',\n",
       " 'Battlestar Galactica',\n",
       " 'Battlestations: Midway',\n",
       " 'Battlestations: Pacific',\n",
       " 'Battlezone',\n",
       " 'Battlezone: Rise of the Black Dogs',\n",
       " 'Bayonetta',\n",
       " 'Bayonetta 2',\n",
       " 'Beach Spikers: Virtua Beach Volleyball',\n",
       " 'Beamrider',\n",
       " 'Beastly',\n",
       " 'Beastly Frantic Foto',\n",
       " 'Beat City',\n",
       " 'Beat Down: Fists of Vengeance',\n",
       " 'Beat Sketch!',\n",
       " 'BeatMania',\n",
       " 'BeatMania Append 3rdMix',\n",
       " 'BeatMania Append 4thMix: The beat goes on',\n",
       " 'BeatMania Append GottaMix',\n",
       " 'BeatMania IIDX 11: IIDX Red',\n",
       " 'BeatMania IIDX 13: DistorteD',\n",
       " 'BeatMania IIDX 14 Gold',\n",
       " 'BeatMania IIDX 15: DJ Troopers',\n",
       " 'BeatMania IIDX 16: Empress + Premium Best',\n",
       " 'BeatMania IIDX 3rd Style',\n",
       " 'BeatMania IIDX 4th Style: New Songs Collection',\n",
       " 'Beatdown: Fists of Vengeance',\n",
       " 'Beaterator',\n",
       " 'Beautiful Katamari',\n",
       " 'Bee Movie Game',\n",
       " 'Beetle Adventure Racing!',\n",
       " 'Beijing 2008',\n",
       " 'Bejeweled 2 Deluxe',\n",
       " 'Bejeweled 3',\n",
       " 'Bejeweled Blitz',\n",
       " 'Bejeweled Twist',\n",
       " 'Bella Sara',\n",
       " 'Bella Sara 2 - The Magic of Drasilmare',\n",
       " 'Ben 10 Alien Force: Vilgax Attacks',\n",
       " 'Ben 10 Galactic Racing',\n",
       " 'Ben 10 Omniverse 2',\n",
       " 'Ben 10 Triple Pack',\n",
       " 'Ben 10 Ultimate Alien: Cosmic Destruction',\n",
       " 'Ben 10: Alien Force',\n",
       " 'Ben 10: Protector of Earth',\n",
       " \"Bentley's Hackpack\",\n",
       " 'Beowulf: The Game',\n",
       " 'Berserk and the Band of the Hawk',\n",
       " 'Berzerk',\n",
       " 'Best Friends Tonight',\n",
       " 'Best Of Tests',\n",
       " \"Betty Boop's Double Shift\",\n",
       " 'BeyBlade VForce: Super Tournament Battle',\n",
       " 'Beyblade Evolution',\n",
       " 'Beyblade G-Revolution',\n",
       " 'Beyblade VForce: Ultimate Blader Jam',\n",
       " 'Beyblade: Metal Fusion',\n",
       " 'Beyblade: Metal Fusion - Battle Fortress',\n",
       " 'Beyblade: Metal Masters',\n",
       " 'Beyond Good & Evil',\n",
       " 'Beyond Oasis',\n",
       " 'Beyond The Beyond',\n",
       " 'Beyond the Labyrinth',\n",
       " 'Beyond: Two Souls',\n",
       " 'Bicycle Casino 2005',\n",
       " 'Big Air',\n",
       " 'Big Air Freestyle',\n",
       " 'Big Bang Mini',\n",
       " 'Big Bass Fishing',\n",
       " 'Big Bass World Championship',\n",
       " 'Big Beach Sports',\n",
       " 'Big Beach Sports 2',\n",
       " 'Big Brain Academy',\n",
       " 'Big Brain Academy: Wii Degree',\n",
       " 'Big Family Games',\n",
       " 'Big Hero 6: Battle in the Bay',\n",
       " 'Big Ichigeki! Pachi-Slot Taikouryku Universal Museum',\n",
       " \"Big Idea's VeggieTales: LarryBoy and the Bad Apple\",\n",
       " 'Big League Sports',\n",
       " 'Big League Sports: Summer',\n",
       " 'Big Mountain 2000',\n",
       " 'Big Mutha Truckers',\n",
       " 'Big Mutha Truckers 2',\n",
       " 'Big Strike Bowling',\n",
       " 'Bigfoot King of Crush',\n",
       " 'Bigfoot: Collision Course',\n",
       " 'Biker Mice From Mars',\n",
       " 'Bikkuriman Daijiten',\n",
       " 'Billy Hatcher and the Giant Egg',\n",
       " 'Billy the Wizard: Rocket Broomstick Racing',\n",
       " \"Billy's Boot Camp: Wii de Enjoy Diet!\",\n",
       " 'Binary Domain',\n",
       " 'Binary Star',\n",
       " 'Bio FREAKS',\n",
       " 'BioShock',\n",
       " 'BioShock 2',\n",
       " 'BioShock Infinite',\n",
       " 'BioShock The Collection',\n",
       " 'Biohazard: Revival Selection',\n",
       " 'Bionic Commando',\n",
       " 'Bionicle',\n",
       " 'Bionicle Heroes',\n",
       " 'Bionicle: Matoran Adventures',\n",
       " 'Birds of Steel',\n",
       " 'Birthday Party Bash',\n",
       " 'Bishoujo Senshi Sailormoon R',\n",
       " 'Bishoujo Senshi Sailormoon S: Juugai Rantou!? Shuyaku Soudatsusen',\n",
       " 'Black',\n",
       " 'Black & Bruised',\n",
       " 'Black & White',\n",
       " 'Black & White 2',\n",
       " 'Black * Rock Shooter: The Game',\n",
       " 'Black Bass with Blue Marlin',\n",
       " 'Black Cat',\n",
       " 'Black Dawn',\n",
       " 'Black Jack vs. Matsudajun',\n",
       " 'Black Mirror 2',\n",
       " 'Black Rose Valkyrie',\n",
       " 'Black Sigil: Blade of the Exiled',\n",
       " 'Black Stone: Magic & Steel',\n",
       " 'Black/Matrix',\n",
       " 'Blacksite: Area 51',\n",
       " 'Blackthorne',\n",
       " 'Blackwater',\n",
       " 'Blade Arcus from Shining EX',\n",
       " 'Blade Dancer: Lineage of Light',\n",
       " 'Blade II',\n",
       " 'Blades of Blood: Samurai Shodown III',\n",
       " 'Blades of Time',\n",
       " 'Bladestorm: Nightmare',\n",
       " \"Bladestorm: The Hundred Years' War\",\n",
       " 'Blast Chamber',\n",
       " 'Blast Corps',\n",
       " 'Blast Lacrosse',\n",
       " 'Blast Radius',\n",
       " 'Blast Works: Build, Trade, Destroy',\n",
       " 'Blaster Master: Blasting Again',\n",
       " 'Blasto',\n",
       " 'BlazBlue Central Fiction',\n",
       " 'BlazBlue: Calamity Trigger',\n",
       " 'BlazBlue: Calamity Trigger Portable',\n",
       " 'BlazBlue: Chrono Phantasma',\n",
       " 'BlazBlue: Chrono Phantasma Extend',\n",
       " 'BlazBlue: Continuum Shift',\n",
       " 'BlazBlue: Continuum Shift II',\n",
       " 'Blazblue: Continuum Shift Extend',\n",
       " 'Blaze Union: Story to Reach the Future',\n",
       " 'Blazer Drive',\n",
       " 'Blazing Angels 2: Secret Missions of WWII',\n",
       " 'Blazing Angels: Squadrons of WWII',\n",
       " 'Blazing Dragons',\n",
       " 'Blazing Heroes',\n",
       " 'Blazing Souls',\n",
       " 'Blazing Souls: Accelate',\n",
       " 'Bleach DS 4th: Flame Bringer',\n",
       " 'Bleach GC: Tasogare Ni Mamieru Shinigami',\n",
       " 'Bleach: Blade Battlers',\n",
       " 'Bleach: Blade Battlers 2nd',\n",
       " 'Bleach: Dark Souls',\n",
       " 'Bleach: Dark Souls (JP sales)',\n",
       " 'Bleach: Erabareshi Tamashii',\n",
       " 'Bleach: Hanatareshi Yabou',\n",
       " 'Bleach: Heat the Soul',\n",
       " 'Bleach: Heat the Soul 3',\n",
       " 'Bleach: Heat the Soul 4',\n",
       " 'Bleach: Heat the Soul 5',\n",
       " 'Bleach: Heat the Soul 6',\n",
       " 'Bleach: Heat the Soul 7',\n",
       " 'Bleach: Shattered Blade',\n",
       " 'Bleach: Soul Carnival',\n",
       " 'Bleach: Soul Carnival 2',\n",
       " 'Bleach: Soul Resurreccion',\n",
       " 'Bleach: The 3rd Phantom',\n",
       " 'Bleach: The Blade of Fate',\n",
       " 'Bleach: Versus Crusade',\n",
       " 'Blender Bros.',\n",
       " 'Blinx 2: Masters of Time & Space',\n",
       " 'Blinx: The Time Sweeper',\n",
       " 'Blitz: Overtime',\n",
       " 'Blitz: The League',\n",
       " 'Blitz: The League II',\n",
       " 'Blitzkrieg 2 Anthology',\n",
       " 'Block Kuzushi',\n",
       " 'Block Party',\n",
       " 'Blokus Portable: Steambot Championship',\n",
       " 'Blood Bowl',\n",
       " 'Blood Bowl: Legendary Edition',\n",
       " 'Blood Drive',\n",
       " 'Blood Omen 2',\n",
       " 'Blood Omen: Legacy of Kain',\n",
       " 'Blood Wake',\n",
       " \"Blood Will Tell: Tezuka Osamu's Dororo\",\n",
       " 'Blood of Bahamut',\n",
       " 'Blood: The Last Vampire (Joukan)',\n",
       " 'BloodRayne',\n",
       " 'BloodRayne 2',\n",
       " 'Bloodborne',\n",
       " 'Bloody Roar',\n",
       " 'Bloody Roar 3',\n",
       " 'Bloody Roar 4',\n",
       " 'Bloody Roar Extreme',\n",
       " 'Bloody Roar II',\n",
       " 'Bloody Roar: Primal Fury',\n",
       " 'BlowOut',\n",
       " 'Blue Breaker: Ken Yorimo Hohoemi o',\n",
       " 'Blue Dragon',\n",
       " 'Blue Dragon Plus',\n",
       " 'Blue Dragon: Awakened Shadow',\n",
       " 'Blue Roses: Yousei to Aoi Hitomi no Senshitachi',\n",
       " 'Blue Stinger',\n",
       " \"Blue's Clues: Blue's Big Musical\",\n",
       " 'Blues Brothers 2000',\n",
       " 'Blur',\n",
       " 'Board Game Classics',\n",
       " 'Board Game: Top Shop',\n",
       " 'Bob the Builder: Can We Fix It?',\n",
       " 'Boboboubo Boubobo: Ougi 87.5 Bakuretsu Hanage Shinken',\n",
       " 'Bode Miller Alpine Skiing',\n",
       " 'Body Harvest',\n",
       " 'Body and Brain Connection',\n",
       " 'Bodycount',\n",
       " 'Bogey: Dead 6',\n",
       " 'Boing! Docomodake DS',\n",
       " 'Boktai 2: Solar Boy Django',\n",
       " 'Boktai: The Sun is in Your Hand',\n",
       " 'Boku no Natsuyasumi',\n",
       " 'Boku no Natsuyasumi 2: Umi no Bouken Hen',\n",
       " 'Boku no Natsuyasumi 3: Hokkoku Hen: Chiisana Boku no Dai Sougen\\u200b',\n",
       " 'Boku no Natsuyasumi 4: Seitouchi Shounen Tanteidan, Boku to Himitsu no Chizu',\n",
       " 'Boku no Natsuyasumi Portable 2: Nazo Nazo Shimai to Chinbotsusen no Himitsu',\n",
       " 'Boku no Natsuyasumi Portable: Mushi Mushi Hakase to Teppen-yama no Himitsu!!',\n",
       " 'Bolt',\n",
       " 'Bombastic',\n",
       " 'Bomberman',\n",
       " 'Bomberman (jp sales)',\n",
       " 'Bomberman 2',\n",
       " 'Bomberman 64',\n",
       " 'Bomberman 64: The Second Attack!',\n",
       " 'Bomberman B-Daman',\n",
       " 'Bomberman Fantasy Race',\n",
       " 'Bomberman Generation',\n",
       " 'Bomberman Hero',\n",
       " 'Bomberman II',\n",
       " 'Bomberman Jetters',\n",
       " 'Bomberman Land',\n",
       " 'Bomberman Land Touch!',\n",
       " 'Bomberman Land Touch! 2',\n",
       " 'Bomberman Max 2: Blue Advance',\n",
       " 'Bomberman Max 2: Red Advance',\n",
       " 'Bomberman Party Edition',\n",
       " 'Bomberman Story DS',\n",
       " 'Bomberman Tournament',\n",
       " 'Bomberman World',\n",
       " 'Bomberman: Act Zero',\n",
       " 'Boogie',\n",
       " 'Boogie SuperStar',\n",
       " ...]"
      ]
     },
     "execution_count": 30,
     "metadata": {},
     "output_type": "execute_result"
    }
   ],
   "source": [
    "sorted(games['name'].unique())"
   ]
  },
  {
   "cell_type": "code",
   "execution_count": 31,
   "metadata": {},
   "outputs": [
    {
     "data": {
      "text/html": [
       "<div>\n",
       "<style scoped>\n",
       "    .dataframe tbody tr th:only-of-type {\n",
       "        vertical-align: middle;\n",
       "    }\n",
       "\n",
       "    .dataframe tbody tr th {\n",
       "        vertical-align: top;\n",
       "    }\n",
       "\n",
       "    .dataframe thead th {\n",
       "        text-align: right;\n",
       "    }\n",
       "</style>\n",
       "<table border=\"1\" class=\"dataframe\">\n",
       "  <thead>\n",
       "    <tr style=\"text-align: right;\">\n",
       "      <th></th>\n",
       "      <th>name</th>\n",
       "      <th>platform</th>\n",
       "      <th>year_of_release</th>\n",
       "      <th>genre</th>\n",
       "      <th>na_sales</th>\n",
       "      <th>eu_sales</th>\n",
       "      <th>jp_sales</th>\n",
       "      <th>other_sales</th>\n",
       "      <th>critic_score</th>\n",
       "      <th>user_score</th>\n",
       "      <th>rating</th>\n",
       "    </tr>\n",
       "  </thead>\n",
       "  <tbody>\n",
       "    <tr>\n",
       "      <th>126</th>\n",
       "      <td>FIFA 14</td>\n",
       "      <td>PS3</td>\n",
       "      <td>2013</td>\n",
       "      <td>Sports</td>\n",
       "      <td>0.78</td>\n",
       "      <td>4.24</td>\n",
       "      <td>0.07</td>\n",
       "      <td>1.37</td>\n",
       "      <td>86.0</td>\n",
       "      <td>4.3</td>\n",
       "      <td>E</td>\n",
       "    </tr>\n",
       "    <tr>\n",
       "      <th>271</th>\n",
       "      <td>FIFA 14</td>\n",
       "      <td>X360</td>\n",
       "      <td>2013</td>\n",
       "      <td>Sports</td>\n",
       "      <td>0.92</td>\n",
       "      <td>2.89</td>\n",
       "      <td>0.01</td>\n",
       "      <td>0.40</td>\n",
       "      <td>84.0</td>\n",
       "      <td>4.2</td>\n",
       "      <td>E</td>\n",
       "    </tr>\n",
       "    <tr>\n",
       "      <th>469</th>\n",
       "      <td>FIFA 14</td>\n",
       "      <td>PS4</td>\n",
       "      <td>2013</td>\n",
       "      <td>Sports</td>\n",
       "      <td>0.61</td>\n",
       "      <td>1.85</td>\n",
       "      <td>0.11</td>\n",
       "      <td>0.44</td>\n",
       "      <td>87.0</td>\n",
       "      <td>6.3</td>\n",
       "      <td>E</td>\n",
       "    </tr>\n",
       "    <tr>\n",
       "      <th>1753</th>\n",
       "      <td>FIFA 14</td>\n",
       "      <td>XOne</td>\n",
       "      <td>2013</td>\n",
       "      <td>Sports</td>\n",
       "      <td>0.41</td>\n",
       "      <td>0.66</td>\n",
       "      <td>0.00</td>\n",
       "      <td>0.09</td>\n",
       "      <td>88.0</td>\n",
       "      <td>5.8</td>\n",
       "      <td>E</td>\n",
       "    </tr>\n",
       "    <tr>\n",
       "      <th>4699</th>\n",
       "      <td>FIFA 14</td>\n",
       "      <td>PSV</td>\n",
       "      <td>2013</td>\n",
       "      <td>Sports</td>\n",
       "      <td>0.08</td>\n",
       "      <td>0.23</td>\n",
       "      <td>0.01</td>\n",
       "      <td>0.09</td>\n",
       "      <td>75.5</td>\n",
       "      <td>1.8</td>\n",
       "      <td>E</td>\n",
       "    </tr>\n",
       "    <tr>\n",
       "      <th>4809</th>\n",
       "      <td>FIFA 14</td>\n",
       "      <td>PC</td>\n",
       "      <td>2013</td>\n",
       "      <td>Sports</td>\n",
       "      <td>0.01</td>\n",
       "      <td>0.36</td>\n",
       "      <td>0.00</td>\n",
       "      <td>0.03</td>\n",
       "      <td>87.0</td>\n",
       "      <td>4.6</td>\n",
       "      <td>E</td>\n",
       "    </tr>\n",
       "    <tr>\n",
       "      <th>4985</th>\n",
       "      <td>FIFA 14</td>\n",
       "      <td>Wii</td>\n",
       "      <td>2013</td>\n",
       "      <td>Sports</td>\n",
       "      <td>0.00</td>\n",
       "      <td>0.36</td>\n",
       "      <td>0.00</td>\n",
       "      <td>0.02</td>\n",
       "      <td>66.0</td>\n",
       "      <td>4.3</td>\n",
       "      <td>E</td>\n",
       "    </tr>\n",
       "    <tr>\n",
       "      <th>6871</th>\n",
       "      <td>FIFA 14</td>\n",
       "      <td>3DS</td>\n",
       "      <td>2013</td>\n",
       "      <td>Sports</td>\n",
       "      <td>0.00</td>\n",
       "      <td>0.22</td>\n",
       "      <td>0.00</td>\n",
       "      <td>0.01</td>\n",
       "      <td>58.0</td>\n",
       "      <td>6.85</td>\n",
       "      <td>NaN</td>\n",
       "    </tr>\n",
       "    <tr>\n",
       "      <th>7875</th>\n",
       "      <td>FIFA 14</td>\n",
       "      <td>PSP</td>\n",
       "      <td>2013</td>\n",
       "      <td>Sports</td>\n",
       "      <td>0.00</td>\n",
       "      <td>0.15</td>\n",
       "      <td>0.00</td>\n",
       "      <td>0.04</td>\n",
       "      <td>73.0</td>\n",
       "      <td>3.4</td>\n",
       "      <td>E</td>\n",
       "    </tr>\n",
       "  </tbody>\n",
       "</table>\n",
       "</div>"
      ],
      "text/plain": [
       "         name platform  year_of_release   genre  na_sales  eu_sales  jp_sales  \\\n",
       "126   FIFA 14      PS3             2013  Sports      0.78      4.24      0.07   \n",
       "271   FIFA 14     X360             2013  Sports      0.92      2.89      0.01   \n",
       "469   FIFA 14      PS4             2013  Sports      0.61      1.85      0.11   \n",
       "1753  FIFA 14     XOne             2013  Sports      0.41      0.66      0.00   \n",
       "4699  FIFA 14      PSV             2013  Sports      0.08      0.23      0.01   \n",
       "4809  FIFA 14       PC             2013  Sports      0.01      0.36      0.00   \n",
       "4985  FIFA 14      Wii             2013  Sports      0.00      0.36      0.00   \n",
       "6871  FIFA 14      3DS             2013  Sports      0.00      0.22      0.00   \n",
       "7875  FIFA 14      PSP             2013  Sports      0.00      0.15      0.00   \n",
       "\n",
       "      other_sales critic_score user_score rating  \n",
       "126          1.37         86.0        4.3      E  \n",
       "271          0.40         84.0        4.2      E  \n",
       "469          0.44         87.0        6.3      E  \n",
       "1753         0.09         88.0        5.8      E  \n",
       "4699         0.09         75.5        1.8      E  \n",
       "4809         0.03         87.0        4.6      E  \n",
       "4985         0.02         66.0        4.3      E  \n",
       "6871         0.01         58.0       6.85    NaN  \n",
       "7875         0.04         73.0        3.4      E  "
      ]
     },
     "execution_count": 31,
     "metadata": {},
     "output_type": "execute_result"
    }
   ],
   "source": [
    "games[games['name']== \"FIFA 14\"]"
   ]
  },
  {
   "cell_type": "markdown",
   "metadata": {},
   "source": [
    "Rating is a difficult to fill. We can't fill in those missing values by genre because not every genre type have the same rating. Grouping by name and genre filling it with the mode did not work either. Filling it with the mode of name column worked to fill in all the missing value but it wouldn't be accurate data, some of these games should not be rated an E. For now I have decided to fill in that data with unknown.\n"
   ]
  },
  {
   "cell_type": "code",
   "execution_count": 32,
   "metadata": {},
   "outputs": [],
   "source": [
    "games['rating']= games['rating'].fillna('unknown')"
   ]
  },
  {
   "cell_type": "code",
   "execution_count": 33,
   "metadata": {},
   "outputs": [
    {
     "data": {
      "text/plain": [
       "name               0.0\n",
       "platform           0.0\n",
       "year_of_release    0.0\n",
       "genre              0.0\n",
       "na_sales           0.0\n",
       "eu_sales           0.0\n",
       "jp_sales           0.0\n",
       "other_sales        0.0\n",
       "critic_score       0.0\n",
       "user_score         0.0\n",
       "rating             0.0\n",
       "dtype: float64"
      ]
     },
     "execution_count": 33,
     "metadata": {},
     "output_type": "execute_result"
    }
   ],
   "source": [
    "games.isna().sum()/len(games) * 100"
   ]
  },
  {
   "cell_type": "code",
   "execution_count": 34,
   "metadata": {},
   "outputs": [],
   "source": [
    "## Calculate the total sales (the sum of sales in all regions) "
   ]
  },
  {
   "cell_type": "code",
   "execution_count": 35,
   "metadata": {},
   "outputs": [],
   "source": [
    "games['total_sales']= games['na_sales'] + games['eu_sales'] + games['jp_sales'] + games['other_sales']"
   ]
  },
  {
   "cell_type": "code",
   "execution_count": 36,
   "metadata": {},
   "outputs": [
    {
     "data": {
      "text/html": [
       "<div>\n",
       "<style scoped>\n",
       "    .dataframe tbody tr th:only-of-type {\n",
       "        vertical-align: middle;\n",
       "    }\n",
       "\n",
       "    .dataframe tbody tr th {\n",
       "        vertical-align: top;\n",
       "    }\n",
       "\n",
       "    .dataframe thead th {\n",
       "        text-align: right;\n",
       "    }\n",
       "</style>\n",
       "<table border=\"1\" class=\"dataframe\">\n",
       "  <thead>\n",
       "    <tr style=\"text-align: right;\">\n",
       "      <th></th>\n",
       "      <th>name</th>\n",
       "      <th>platform</th>\n",
       "      <th>year_of_release</th>\n",
       "      <th>genre</th>\n",
       "      <th>na_sales</th>\n",
       "      <th>eu_sales</th>\n",
       "      <th>jp_sales</th>\n",
       "      <th>other_sales</th>\n",
       "      <th>critic_score</th>\n",
       "      <th>user_score</th>\n",
       "      <th>rating</th>\n",
       "      <th>total_sales</th>\n",
       "    </tr>\n",
       "  </thead>\n",
       "  <tbody>\n",
       "    <tr>\n",
       "      <th>0</th>\n",
       "      <td>Wii Sports</td>\n",
       "      <td>Wii</td>\n",
       "      <td>2006</td>\n",
       "      <td>Sports</td>\n",
       "      <td>41.36</td>\n",
       "      <td>28.96</td>\n",
       "      <td>3.77</td>\n",
       "      <td>8.45</td>\n",
       "      <td>76.0</td>\n",
       "      <td>8.0</td>\n",
       "      <td>E</td>\n",
       "      <td>82.54</td>\n",
       "    </tr>\n",
       "    <tr>\n",
       "      <th>1</th>\n",
       "      <td>Super Mario Bros.</td>\n",
       "      <td>NES</td>\n",
       "      <td>1985</td>\n",
       "      <td>Platform</td>\n",
       "      <td>29.08</td>\n",
       "      <td>3.58</td>\n",
       "      <td>6.81</td>\n",
       "      <td>0.77</td>\n",
       "      <td>0</td>\n",
       "      <td>0</td>\n",
       "      <td>unknown</td>\n",
       "      <td>40.24</td>\n",
       "    </tr>\n",
       "    <tr>\n",
       "      <th>2</th>\n",
       "      <td>Mario Kart Wii</td>\n",
       "      <td>Wii</td>\n",
       "      <td>2008</td>\n",
       "      <td>Racing</td>\n",
       "      <td>15.68</td>\n",
       "      <td>12.76</td>\n",
       "      <td>3.79</td>\n",
       "      <td>3.29</td>\n",
       "      <td>82.0</td>\n",
       "      <td>8.3</td>\n",
       "      <td>E</td>\n",
       "      <td>35.52</td>\n",
       "    </tr>\n",
       "    <tr>\n",
       "      <th>3</th>\n",
       "      <td>Wii Sports Resort</td>\n",
       "      <td>Wii</td>\n",
       "      <td>2009</td>\n",
       "      <td>Sports</td>\n",
       "      <td>15.61</td>\n",
       "      <td>10.93</td>\n",
       "      <td>3.28</td>\n",
       "      <td>2.95</td>\n",
       "      <td>80.0</td>\n",
       "      <td>8.0</td>\n",
       "      <td>E</td>\n",
       "      <td>32.77</td>\n",
       "    </tr>\n",
       "    <tr>\n",
       "      <th>4</th>\n",
       "      <td>Pokemon Red/Pokemon Blue</td>\n",
       "      <td>GB</td>\n",
       "      <td>1996</td>\n",
       "      <td>Role-Playing</td>\n",
       "      <td>11.27</td>\n",
       "      <td>8.89</td>\n",
       "      <td>10.22</td>\n",
       "      <td>1.00</td>\n",
       "      <td>0</td>\n",
       "      <td>0</td>\n",
       "      <td>unknown</td>\n",
       "      <td>31.38</td>\n",
       "    </tr>\n",
       "  </tbody>\n",
       "</table>\n",
       "</div>"
      ],
      "text/plain": [
       "                       name platform  year_of_release         genre  na_sales  \\\n",
       "0                Wii Sports      Wii             2006        Sports     41.36   \n",
       "1         Super Mario Bros.      NES             1985      Platform     29.08   \n",
       "2            Mario Kart Wii      Wii             2008        Racing     15.68   \n",
       "3         Wii Sports Resort      Wii             2009        Sports     15.61   \n",
       "4  Pokemon Red/Pokemon Blue       GB             1996  Role-Playing     11.27   \n",
       "\n",
       "   eu_sales  jp_sales  other_sales critic_score user_score   rating  \\\n",
       "0     28.96      3.77         8.45         76.0        8.0        E   \n",
       "1      3.58      6.81         0.77            0          0  unknown   \n",
       "2     12.76      3.79         3.29         82.0        8.3        E   \n",
       "3     10.93      3.28         2.95         80.0        8.0        E   \n",
       "4      8.89     10.22         1.00            0          0  unknown   \n",
       "\n",
       "   total_sales  \n",
       "0        82.54  \n",
       "1        40.24  \n",
       "2        35.52  \n",
       "3        32.77  \n",
       "4        31.38  "
      ]
     },
     "execution_count": 36,
     "metadata": {},
     "output_type": "execute_result"
    }
   ],
   "source": [
    "games.head()"
   ]
  },
  {
   "cell_type": "markdown",
   "metadata": {},
   "source": [
    "## Analyze the data"
   ]
  },
  {
   "cell_type": "code",
   "execution_count": 37,
   "metadata": {},
   "outputs": [],
   "source": [
    "## Lets see how many games were released in different years"
   ]
  },
  {
   "cell_type": "code",
   "execution_count": 38,
   "metadata": {
    "scrolled": true
   },
   "outputs": [
    {
     "name": "stdout",
     "output_type": "stream",
     "text": [
      "    year_of_release  name\n",
      "0              1980    10\n",
      "1              1981    50\n",
      "2              1982    47\n",
      "3              1983    18\n",
      "4              1984    14\n",
      "5              1985    14\n",
      "6              1986    21\n",
      "7              1987    16\n",
      "8              1988    15\n",
      "9              1989    17\n",
      "10             1990    16\n",
      "11             1991    41\n",
      "12             1992    43\n",
      "13             1993    60\n",
      "14             1994   121\n",
      "15             1995   220\n",
      "16             1996   263\n",
      "17             1997   289\n",
      "18             1998   387\n",
      "19             1999   339\n",
      "20             2000   351\n",
      "21             2001   482\n",
      "22             2002   830\n",
      "23             2003   804\n",
      "24             2004   797\n",
      "25             2005   950\n",
      "26             2006  1010\n",
      "27             2007  1200\n",
      "28             2008  1471\n",
      "29             2009  1466\n",
      "30             2010  1299\n",
      "31             2011  1155\n",
      "32             2012   658\n",
      "33             2013   548\n",
      "34             2014   583\n",
      "35             2015   606\n",
      "36             2016   502\n"
     ]
    }
   ],
   "source": [
    "yearly_release= games.pivot_table(index='year_of_release', values='name', aggfunc='count').reset_index()\n",
    "print(yearly_release)"
   ]
  },
  {
   "cell_type": "code",
   "execution_count": 39,
   "metadata": {},
   "outputs": [
    {
     "data": {
      "image/png": "[encoded data removed]",
      "text/plain": [
       "<Figure size 864x648 with 1 Axes>"
      ]
     },
     "metadata": {
      "needs_background": "light"
     },
     "output_type": "display_data"
    }
   ],
   "source": [
    "yearly_release.plot(x='year_of_release', y='name', figsize=( 12, 9), kind='bar', title='Yearly Release');"
   ]
  },
  {
   "cell_type": "markdown",
   "metadata": {},
   "source": [
    "From 1980-1993 very few games were released. It looks likes like there was an uptick in 1994 with releases growing each year and reaching its peak in 2006-2011. From 2012-2016 games released dropped to 1/2 of its peak."
   ]
  },
  {
   "cell_type": "code",
   "execution_count": 40,
   "metadata": {},
   "outputs": [],
   "source": [
    "## Platform Sales"
   ]
  },
  {
   "cell_type": "code",
   "execution_count": 41,
   "metadata": {},
   "outputs": [
    {
     "name": "stdout",
     "output_type": "stream",
     "text": [
      "   platform  total_sales\n",
      "0      PCFX         0.03\n",
      "1        GG         0.04\n",
      "2       3DO         0.10\n",
      "3      TG16         0.16\n",
      "4        WS         1.42\n",
      "5        NG         1.44\n",
      "6       SCD         1.86\n",
      "7        DC        15.95\n",
      "8       GEN        28.35\n",
      "9       SAT        33.59\n",
      "10      PSV        54.07\n",
      "11     WiiU        82.19\n",
      "12     2600        96.98\n",
      "13     XOne       159.32\n",
      "14       GC       198.93\n",
      "15     SNES       200.04\n",
      "16      N64       218.68\n",
      "17      NES       251.05\n",
      "18       GB       255.46\n",
      "19       XB       257.74\n",
      "20      3DS       259.00\n",
      "21       PC       259.52\n",
      "22      PSP       294.05\n",
      "23      PS4       314.14\n",
      "24      GBA       317.85\n",
      "25       PS       730.86\n",
      "26       DS       806.12\n",
      "27      Wii       907.51\n",
      "28      PS3       939.65\n",
      "29     X360       971.42\n",
      "30      PS2      1255.77\n"
     ]
    }
   ],
   "source": [
    "sales_by_platform = games.pivot_table(index='platform', values='total_sales', aggfunc='sum').sort_values(by='total_sales', inplace=False).reset_index()\n",
    "print(sales_by_platform)"
   ]
  },
  {
   "cell_type": "code",
   "execution_count": 42,
   "metadata": {},
   "outputs": [
    {
     "data": {
      "image/png": "[encoded data removed]",
      "text/plain": [
       "<Figure size 864x648 with 1 Axes>"
      ]
     },
     "metadata": {
      "needs_background": "light"
     },
     "output_type": "display_data"
    }
   ],
   "source": [
    "sales_by_platform.plot(x='platform',y='total_sales', figsize=( 12, 9), kind='bar', title='Sales by Platform');"
   ]
  },
  {
   "cell_type": "markdown",
   "metadata": {},
   "source": [
    "The platforms with the greatest total sales are                                                                                  -PS                                                                                                                            -DS\n",
    "-Wii                                                                                                                           -PS3\n",
    "-X360                                                                                                                          -PS2"
   ]
  },
  {
   "cell_type": "code",
   "execution_count": 43,
   "metadata": {},
   "outputs": [
    {
     "data": {
      "image/png": "[encoded data removed]",
      "text/plain": [
       "<Figure size 432x288 with 1 Axes>"
      ]
     },
     "metadata": {
      "needs_background": "light"
     },
     "output_type": "display_data"
    },
    {
     "data": {
      "image/png": "[encoded data removed]",
      "text/plain": [
       "<Figure size 432x288 with 1 Axes>"
      ]
     },
     "metadata": {
      "needs_background": "light"
     },
     "output_type": "display_data"
    },
    {
     "data": {
      "image/png": "[encoded data removed]",
      "text/plain": [
       "<Figure size 432x288 with 1 Axes>"
      ]
     },
     "metadata": {
      "needs_background": "light"
     },
     "output_type": "display_data"
    },
    {
     "data": {
      "image/png": "[encoded data removed]",
      "text/plain": [
       "<Figure size 432x288 with 1 Axes>"
      ]
     },
     "metadata": {
      "needs_background": "light"
     },
     "output_type": "display_data"
    },
    {
     "data": {
      "image/png": "[encoded data removed]",
      "text/plain": [
       "<Figure size 432x288 with 1 Axes>"
      ]
     },
     "metadata": {
      "needs_background": "light"
     },
     "output_type": "display_data"
    },
    {
     "data": {
      "image/png": "[encoded data removed]",
      "text/plain": [
       "<Figure size 432x288 with 1 Axes>"
      ]
     },
     "metadata": {
      "needs_background": "light"
     },
     "output_type": "display_data"
    }
   ],
   "source": [
    "ps2_platform = games[games['platform']=='PS2']\n",
    "\n",
    "ps2_platform.hist('year_of_release', bins=30)\n",
    "plt.title('PS2 by Year')\n",
    "plt.show()\n",
    "\n",
    "x360_platform = games[games['platform']=='X360']\n",
    "\n",
    "x360_platform.hist('year_of_release', bins=30)\n",
    "plt.title('X360 by Year')\n",
    "plt.show()\n",
    "\n",
    "ps3_platform = games[games['platform']=='PS3']\n",
    "\n",
    "ps3_platform.hist('year_of_release', bins=30)\n",
    "plt.title('PS3 by Year')\n",
    "plt.show()\n",
    "\n",
    "wii_platform = games[games['platform']=='Wii']\n",
    "\n",
    "wii_platform.hist('year_of_release', bins=30)\n",
    "plt.title('Wii by Year')\n",
    "plt.show()\n",
    "\n",
    "ds_platform = games[games['platform']=='DS']\n",
    "\n",
    "ds_platform.hist('year_of_release', bins=20)\n",
    "plt.title('DS by Year')\n",
    "plt.show()\n",
    "\n",
    "ps_platform = games[games['platform']=='PS']\n",
    "\n",
    "ps_platform.hist('year_of_release', bins=30)\n",
    "plt.title('PS by Year')\n",
    "plt.show()"
   ]
  },
  {
   "cell_type": "code",
   "execution_count": 44,
   "metadata": {},
   "outputs": [],
   "source": [
    "games_clean = games.query('year_of_release > 2005').reset_index()"
   ]
  },
  {
   "cell_type": "code",
   "execution_count": 45,
   "metadata": {},
   "outputs": [
    {
     "name": "stdout",
     "output_type": "stream",
     "text": [
      "<class 'pandas.core.frame.DataFrame'>\n",
      "RangeIndex: 10498 entries, 0 to 10497\n",
      "Data columns (total 13 columns):\n",
      " #   Column           Non-Null Count  Dtype  \n",
      "---  ------           --------------  -----  \n",
      " 0   index            10498 non-null  int64  \n",
      " 1   name             10498 non-null  object \n",
      " 2   platform         10498 non-null  object \n",
      " 3   year_of_release  10498 non-null  int64  \n",
      " 4   genre            10498 non-null  object \n",
      " 5   na_sales         10498 non-null  float64\n",
      " 6   eu_sales         10498 non-null  float64\n",
      " 7   jp_sales         10498 non-null  float64\n",
      " 8   other_sales      10498 non-null  float64\n",
      " 9   critic_score     10498 non-null  object \n",
      " 10  user_score       10498 non-null  object \n",
      " 11  rating           10498 non-null  object \n",
      " 12  total_sales      10498 non-null  float64\n",
      "dtypes: float64(5), int64(2), object(6)\n",
      "memory usage: 1.0+ MB\n"
     ]
    }
   ],
   "source": [
    "games_clean.info()"
   ]
  },
  {
   "cell_type": "code",
   "execution_count": 46,
   "metadata": {},
   "outputs": [],
   "source": [
    "games_clean['user_score'] = pd.to_numeric(games_clean['user_score'], errors='coerce')\n",
    "games_clean['critic_score'] = pd.to_numeric(games_clean['critic_score'], errors='coerce')"
   ]
  },
  {
   "cell_type": "code",
   "execution_count": 47,
   "metadata": {},
   "outputs": [
    {
     "name": "stdout",
     "output_type": "stream",
     "text": [
      "year_of_release    2006    2007    2008    2009    2010    2011    2012  \\\n",
      "platform                                                                  \n",
      "3DS                 NaN     NaN     NaN     NaN     NaN   63.38   51.36   \n",
      "DC                  NaN    0.02    0.04     NaN     NaN     NaN     NaN   \n",
      "DS               119.81  146.97  148.62  119.54   85.02   26.18   11.01   \n",
      "GBA                5.28    3.40     NaN     NaN     NaN     NaN     NaN   \n",
      "GC                11.26    0.27     NaN     NaN     NaN     NaN     NaN   \n",
      "PC                 2.85    9.28   12.52   17.04   26.82   35.88   23.36   \n",
      "PS2              105.88   75.99   53.90   26.40    5.64    0.45     NaN   \n",
      "PS3               20.96   73.19  118.52  130.93  146.03  161.14  107.45   \n",
      "PS4                 NaN     NaN     NaN     NaN     NaN     NaN     NaN   \n",
      "PSP               55.32   46.93   36.61   40.24   35.04   17.82    7.69   \n",
      "PSV                 NaN     NaN     NaN     NaN     NaN    4.63   16.19   \n",
      "Wii              137.15  152.77  171.73  222.89  127.95   59.65   21.71   \n",
      "WiiU                NaN     NaN     NaN     NaN     NaN     NaN   17.56   \n",
      "X360              51.62   95.55  135.61  120.29  179.72  143.84   99.74   \n",
      "XB                10.04    0.55    0.18     NaN     NaN     NaN     NaN   \n",
      "XOne                NaN     NaN     NaN     NaN     NaN     NaN     NaN   \n",
      "\n",
      "year_of_release    2013    2014    2015   2016  \n",
      "platform                                        \n",
      "3DS               57.49   43.85   27.78  15.14  \n",
      "DC                  NaN     NaN     NaN    NaN  \n",
      "DS                 1.54     NaN     NaN    NaN  \n",
      "GBA                 NaN     NaN     NaN    NaN  \n",
      "GC                  NaN     NaN     NaN    NaN  \n",
      "PC                12.38   13.28    8.52   5.25  \n",
      "PS2                 NaN     NaN     NaN    NaN  \n",
      "PS3              113.25   47.76   16.82   3.60  \n",
      "PS4               25.99  100.00  118.90  69.25  \n",
      "PSP                3.14    0.24    0.12    NaN  \n",
      "PSV               10.59   12.16    6.25   4.25  \n",
      "Wii                8.59    3.75    1.14   0.18  \n",
      "WiiU              21.65   22.03   16.35   4.60  \n",
      "X360              88.58   34.74   11.96   1.52  \n",
      "XB                  NaN     NaN     NaN    NaN  \n",
      "XOne              18.96   54.07   60.14  26.15  \n"
     ]
    }
   ],
   "source": [
    "platform_popularity = pd.pivot_table(\n",
    "    games_clean, \n",
    "    index='platform', \n",
    "    columns='year_of_release',\n",
    "    values='total_sales', \n",
    "    aggfunc='sum'\n",
    ")\n",
    "print(platform_popularity)"
   ]
  },
  {
   "cell_type": "markdown",
   "metadata": {},
   "source": [
    "It seems the top popular platform lose their popularity after 8 years. I will be taking data after 2005 as this will take into account newly released platforms. 10 years of data is sufficient enough to note the rise and fall of data provided.                  \n",
    "PS2: was popular between 2001-2006. In 2007, sales began to decrease and hitting below 1 sale in 2011 and has not bounce back since then.                                                                                                                                                                                                                                                     X360: popularity began to climb in 2006 and lasted until 2011. In 2012, sales began to decrease with its lowest sale of 1.52 in 2016.\n",
    "PS3: rose in popularity in 2008-2013. Sales dropped by in 2014.\n",
    "Wii: was popular in 2006-2010, sales began to dropin 2012 and hit zero sales in 2016.\n",
    "DS: was a new platform released in the mid 2000's and was popular in 2006-2009. In 2010, popularity dropped and sales dropped to zero in 2014.\n",
    "PS: one the top sales platform lost popularity well before 2005. The platform was popluar in 1996-1999 and sales began to decrease in 2000."
   ]
  },
  {
   "cell_type": "code",
   "execution_count": 48,
   "metadata": {},
   "outputs": [
    {
     "name": "stdout",
     "output_type": "stream",
     "text": [
      "   platform  year_of_release  total_sales\n",
      "6        DC             2007         0.02\n",
      "7        DC             2008         0.04\n",
      "61      PSP             2015         0.12\n",
      "78      Wii             2016         0.18\n",
      "97       XB             2008         0.18\n",
      "..      ...              ...          ...\n",
      "69      Wii             2007       152.77\n",
      "42      PS3             2011       161.14\n",
      "70      Wii             2008       171.73\n",
      "88     X360             2010       179.72\n",
      "71      Wii             2009       222.89\n",
      "\n",
      "[102 rows x 3 columns]\n"
     ]
    }
   ],
   "source": [
    "global_sales= games_clean.groupby(['platform', 'year_of_release'])['total_sales'].sum().reset_index()\n",
    "global_sales= global_sales.sort_values(by='total_sales', inplace=False)\n",
    "print(global_sales)"
   ]
  },
  {
   "cell_type": "code",
   "execution_count": 49,
   "metadata": {},
   "outputs": [
    {
     "data": {
      "image/png": "[encoded data removed]",
      "text/plain": [
       "<Figure size 720x432 with 1 Axes>"
      ]
     },
     "metadata": {
      "needs_background": "light"
     },
     "output_type": "display_data"
    }
   ],
   "source": [
    "global_sales.boxplot(by ='platform', column =['total_sales'], grid = False, figsize=(10,6));\n",
    "plt.title('Global sales of games by platform')\n",
    "plt.ylabel('Total Sales');"
   ]
  },
  {
   "cell_type": "code",
   "execution_count": 50,
   "metadata": {},
   "outputs": [
    {
     "data": {
      "text/html": [
       "<div>\n",
       "<style scoped>\n",
       "    .dataframe tbody tr th:only-of-type {\n",
       "        vertical-align: middle;\n",
       "    }\n",
       "\n",
       "    .dataframe tbody tr th {\n",
       "        vertical-align: top;\n",
       "    }\n",
       "\n",
       "    .dataframe thead tr th {\n",
       "        text-align: left;\n",
       "    }\n",
       "\n",
       "    .dataframe thead tr:last-of-type th {\n",
       "        text-align: right;\n",
       "    }\n",
       "</style>\n",
       "<table border=\"1\" class=\"dataframe\">\n",
       "  <thead>\n",
       "    <tr>\n",
       "      <th></th>\n",
       "      <th>median</th>\n",
       "      <th>mean</th>\n",
       "    </tr>\n",
       "    <tr>\n",
       "      <th></th>\n",
       "      <th>total_sales</th>\n",
       "      <th>total_sales</th>\n",
       "    </tr>\n",
       "    <tr>\n",
       "      <th>platform</th>\n",
       "      <th></th>\n",
       "      <th></th>\n",
       "    </tr>\n",
       "  </thead>\n",
       "  <tbody>\n",
       "    <tr>\n",
       "      <th>3DS</th>\n",
       "      <td>47.605</td>\n",
       "      <td>43.166667</td>\n",
       "    </tr>\n",
       "    <tr>\n",
       "      <th>DC</th>\n",
       "      <td>0.030</td>\n",
       "      <td>0.030000</td>\n",
       "    </tr>\n",
       "    <tr>\n",
       "      <th>DS</th>\n",
       "      <td>102.280</td>\n",
       "      <td>82.336250</td>\n",
       "    </tr>\n",
       "    <tr>\n",
       "      <th>GBA</th>\n",
       "      <td>4.340</td>\n",
       "      <td>4.340000</td>\n",
       "    </tr>\n",
       "    <tr>\n",
       "      <th>GC</th>\n",
       "      <td>5.765</td>\n",
       "      <td>5.765000</td>\n",
       "    </tr>\n",
       "    <tr>\n",
       "      <th>PC</th>\n",
       "      <td>12.520</td>\n",
       "      <td>15.198182</td>\n",
       "    </tr>\n",
       "    <tr>\n",
       "      <th>PS2</th>\n",
       "      <td>40.150</td>\n",
       "      <td>44.710000</td>\n",
       "    </tr>\n",
       "    <tr>\n",
       "      <th>PS3</th>\n",
       "      <td>107.450</td>\n",
       "      <td>85.422727</td>\n",
       "    </tr>\n",
       "    <tr>\n",
       "      <th>PS4</th>\n",
       "      <td>84.625</td>\n",
       "      <td>78.535000</td>\n",
       "    </tr>\n",
       "    <tr>\n",
       "      <th>PSP</th>\n",
       "      <td>26.430</td>\n",
       "      <td>24.315000</td>\n",
       "    </tr>\n",
       "    <tr>\n",
       "      <th>PSV</th>\n",
       "      <td>8.420</td>\n",
       "      <td>9.011667</td>\n",
       "    </tr>\n",
       "    <tr>\n",
       "      <th>Wii</th>\n",
       "      <td>59.650</td>\n",
       "      <td>82.500909</td>\n",
       "    </tr>\n",
       "    <tr>\n",
       "      <th>WiiU</th>\n",
       "      <td>17.560</td>\n",
       "      <td>16.438000</td>\n",
       "    </tr>\n",
       "    <tr>\n",
       "      <th>X360</th>\n",
       "      <td>95.550</td>\n",
       "      <td>87.560909</td>\n",
       "    </tr>\n",
       "    <tr>\n",
       "      <th>XB</th>\n",
       "      <td>0.550</td>\n",
       "      <td>3.590000</td>\n",
       "    </tr>\n",
       "    <tr>\n",
       "      <th>XOne</th>\n",
       "      <td>40.110</td>\n",
       "      <td>39.830000</td>\n",
       "    </tr>\n",
       "  </tbody>\n",
       "</table>\n",
       "</div>"
      ],
      "text/plain": [
       "              median        mean\n",
       "         total_sales total_sales\n",
       "platform                        \n",
       "3DS           47.605   43.166667\n",
       "DC             0.030    0.030000\n",
       "DS           102.280   82.336250\n",
       "GBA            4.340    4.340000\n",
       "GC             5.765    5.765000\n",
       "PC            12.520   15.198182\n",
       "PS2           40.150   44.710000\n",
       "PS3          107.450   85.422727\n",
       "PS4           84.625   78.535000\n",
       "PSP           26.430   24.315000\n",
       "PSV            8.420    9.011667\n",
       "Wii           59.650   82.500909\n",
       "WiiU          17.560   16.438000\n",
       "X360          95.550   87.560909\n",
       "XB             0.550    3.590000\n",
       "XOne          40.110   39.830000"
      ]
     },
     "execution_count": 50,
     "metadata": {},
     "output_type": "execute_result"
    }
   ],
   "source": [
    "global_sales.pivot_table(index='platform', values='total_sales', aggfunc=['median', 'mean'])"
   ]
  },
  {
   "cell_type": "markdown",
   "metadata": {},
   "source": [
    "There is a very much a difference in sales games sold by platform. When looking at the boxplot from the extracted data from 2005-2016 it shows that PS3 has the highest median of games sold. When looking at the average games sold by platform X360 came out on top - which coincides with our sales by platform bar graph."
   ]
  },
  {
   "cell_type": "code",
   "execution_count": 51,
   "metadata": {},
   "outputs": [],
   "source": [
    "## how user and professional reviews affect sales for one popular platform "
   ]
  },
  {
   "cell_type": "code",
   "execution_count": 52,
   "metadata": {},
   "outputs": [
    {
     "data": {
      "image/png": "[encoded data removed]",
      "text/plain": [
       "<Figure size 432x288 with 1 Axes>"
      ]
     },
     "metadata": {
      "needs_background": "light"
     },
     "output_type": "display_data"
    },
    {
     "data": {
      "image/png": "[encoded data removed]",
      "text/plain": [
       "<Figure size 432x288 with 1 Axes>"
      ]
     },
     "metadata": {
      "needs_background": "light"
     },
     "output_type": "display_data"
    }
   ],
   "source": [
    "games_clean.query('platform == \"X360\"').plot(x='user_score', y='total_sales', kind='scatter', title='User Review for X360',alpha=0.5);\n",
    "games_clean.query('platform == \"X360\"').plot(x='critic_score', y='total_sales', kind='scatter', title='Professional Review for X360',alpha=0.5);"
   ]
  },
  {
   "cell_type": "code",
   "execution_count": 53,
   "metadata": {},
   "outputs": [
    {
     "data": {
      "text/html": [
       "<div>\n",
       "<style scoped>\n",
       "    .dataframe tbody tr th:only-of-type {\n",
       "        vertical-align: middle;\n",
       "    }\n",
       "\n",
       "    .dataframe tbody tr th {\n",
       "        vertical-align: top;\n",
       "    }\n",
       "\n",
       "    .dataframe thead th {\n",
       "        text-align: right;\n",
       "    }\n",
       "</style>\n",
       "<table border=\"1\" class=\"dataframe\">\n",
       "  <thead>\n",
       "    <tr style=\"text-align: right;\">\n",
       "      <th></th>\n",
       "      <th>user_score</th>\n",
       "      <th>critic_score</th>\n",
       "      <th>total_sales</th>\n",
       "    </tr>\n",
       "  </thead>\n",
       "  <tbody>\n",
       "    <tr>\n",
       "      <th>user_score</th>\n",
       "      <td>1.000000</td>\n",
       "      <td>0.535224</td>\n",
       "      <td>0.081767</td>\n",
       "    </tr>\n",
       "    <tr>\n",
       "      <th>critic_score</th>\n",
       "      <td>0.535224</td>\n",
       "      <td>1.000000</td>\n",
       "      <td>0.367797</td>\n",
       "    </tr>\n",
       "    <tr>\n",
       "      <th>total_sales</th>\n",
       "      <td>0.081767</td>\n",
       "      <td>0.367797</td>\n",
       "      <td>1.000000</td>\n",
       "    </tr>\n",
       "  </tbody>\n",
       "</table>\n",
       "</div>"
      ],
      "text/plain": [
       "              user_score  critic_score  total_sales\n",
       "user_score      1.000000      0.535224     0.081767\n",
       "critic_score    0.535224      1.000000     0.367797\n",
       "total_sales     0.081767      0.367797     1.000000"
      ]
     },
     "execution_count": 53,
     "metadata": {},
     "output_type": "execute_result"
    }
   ],
   "source": [
    "games_clean.query('platform == \"X360\"')[['user_score','critic_score', 'total_sales']].corr()"
   ]
  },
  {
   "cell_type": "markdown",
   "metadata": {},
   "source": [
    "The correlation between user_score and total_sales is 0.08                                                                      The correlation between critic_score and total_sales is 0.37                                                                    Correlation for does not show a relation for either or."
   ]
  },
  {
   "cell_type": "code",
   "execution_count": 54,
   "metadata": {},
   "outputs": [],
   "source": [
    "## the sales of the same games on other platforms."
   ]
  },
  {
   "cell_type": "code",
   "execution_count": 55,
   "metadata": {},
   "outputs": [
    {
     "data": {
      "image/png": "[encoded data removed]",
      "text/plain": [
       "<Figure size 432x288 with 1 Axes>"
      ]
     },
     "metadata": {
      "needs_background": "light"
     },
     "output_type": "display_data"
    },
    {
     "data": {
      "image/png": "[encoded data removed]",
      "text/plain": [
       "<Figure size 432x288 with 1 Axes>"
      ]
     },
     "metadata": {
      "needs_background": "light"
     },
     "output_type": "display_data"
    }
   ],
   "source": [
    "games_clean.query('platform == \"Wii\"').plot(x='user_score', y='total_sales', kind='scatter', title='User Review for Wii',alpha=0.5);\n",
    "games_clean.query('platform == \"Wii\"').plot(x='critic_score', y='total_sales', kind='scatter', title='Professional Review for Wii',alpha=0.5);"
   ]
  },
  {
   "cell_type": "code",
   "execution_count": 56,
   "metadata": {},
   "outputs": [
    {
     "data": {
      "text/html": [
       "<div>\n",
       "<style scoped>\n",
       "    .dataframe tbody tr th:only-of-type {\n",
       "        vertical-align: middle;\n",
       "    }\n",
       "\n",
       "    .dataframe tbody tr th {\n",
       "        vertical-align: top;\n",
       "    }\n",
       "\n",
       "    .dataframe thead th {\n",
       "        text-align: right;\n",
       "    }\n",
       "</style>\n",
       "<table border=\"1\" class=\"dataframe\">\n",
       "  <thead>\n",
       "    <tr style=\"text-align: right;\">\n",
       "      <th></th>\n",
       "      <th>user_score</th>\n",
       "      <th>critic_score</th>\n",
       "      <th>total_sales</th>\n",
       "    </tr>\n",
       "  </thead>\n",
       "  <tbody>\n",
       "    <tr>\n",
       "      <th>user_score</th>\n",
       "      <td>1.000000</td>\n",
       "      <td>0.611565</td>\n",
       "      <td>0.088819</td>\n",
       "    </tr>\n",
       "    <tr>\n",
       "      <th>critic_score</th>\n",
       "      <td>0.611565</td>\n",
       "      <td>1.000000</td>\n",
       "      <td>0.159419</td>\n",
       "    </tr>\n",
       "    <tr>\n",
       "      <th>total_sales</th>\n",
       "      <td>0.088819</td>\n",
       "      <td>0.159419</td>\n",
       "      <td>1.000000</td>\n",
       "    </tr>\n",
       "  </tbody>\n",
       "</table>\n",
       "</div>"
      ],
      "text/plain": [
       "              user_score  critic_score  total_sales\n",
       "user_score      1.000000      0.611565     0.088819\n",
       "critic_score    0.611565      1.000000     0.159419\n",
       "total_sales     0.088819      0.159419     1.000000"
      ]
     },
     "execution_count": 56,
     "metadata": {},
     "output_type": "execute_result"
    }
   ],
   "source": [
    "games_clean.query('platform == \"Wii\"')[['user_score','critic_score', 'total_sales']].corr()"
   ]
  },
  {
   "cell_type": "markdown",
   "metadata": {},
   "source": [
    "The correlation between user_score and total_sales is 0.09                                                                      The correlation between critic_score and total_sales is 0.15                                                                    Correlation for does not show a relation for either or."
   ]
  },
  {
   "cell_type": "code",
   "execution_count": 57,
   "metadata": {},
   "outputs": [
    {
     "data": {
      "image/png": "[encoded data removed]",
      "text/plain": [
       "<Figure size 432x288 with 1 Axes>"
      ]
     },
     "metadata": {
      "needs_background": "light"
     },
     "output_type": "display_data"
    },
    {
     "data": {
      "image/png": "[encoded data removed]",
      "text/plain": [
       "<Figure size 432x288 with 1 Axes>"
      ]
     },
     "metadata": {
      "needs_background": "light"
     },
     "output_type": "display_data"
    }
   ],
   "source": [
    "games_clean.query('platform == \"PS3\"').plot(x='user_score', y='total_sales', kind='scatter', title='User Review for PS3',alpha=0.5);\n",
    "games_clean.query('platform == \"PS3\"').plot(x='critic_score', y='total_sales', kind='scatter', title='Professional Review for PS3',alpha=0.5);"
   ]
  },
  {
   "cell_type": "code",
   "execution_count": 58,
   "metadata": {},
   "outputs": [
    {
     "data": {
      "text/html": [
       "<div>\n",
       "<style scoped>\n",
       "    .dataframe tbody tr th:only-of-type {\n",
       "        vertical-align: middle;\n",
       "    }\n",
       "\n",
       "    .dataframe tbody tr th {\n",
       "        vertical-align: top;\n",
       "    }\n",
       "\n",
       "    .dataframe thead th {\n",
       "        text-align: right;\n",
       "    }\n",
       "</style>\n",
       "<table border=\"1\" class=\"dataframe\">\n",
       "  <thead>\n",
       "    <tr style=\"text-align: right;\">\n",
       "      <th></th>\n",
       "      <th>user_score</th>\n",
       "      <th>critic_score</th>\n",
       "      <th>total_sales</th>\n",
       "    </tr>\n",
       "  </thead>\n",
       "  <tbody>\n",
       "    <tr>\n",
       "      <th>user_score</th>\n",
       "      <td>1.000000</td>\n",
       "      <td>0.462322</td>\n",
       "      <td>0.085358</td>\n",
       "    </tr>\n",
       "    <tr>\n",
       "      <th>critic_score</th>\n",
       "      <td>0.462322</td>\n",
       "      <td>1.000000</td>\n",
       "      <td>0.374838</td>\n",
       "    </tr>\n",
       "    <tr>\n",
       "      <th>total_sales</th>\n",
       "      <td>0.085358</td>\n",
       "      <td>0.374838</td>\n",
       "      <td>1.000000</td>\n",
       "    </tr>\n",
       "  </tbody>\n",
       "</table>\n",
       "</div>"
      ],
      "text/plain": [
       "              user_score  critic_score  total_sales\n",
       "user_score      1.000000      0.462322     0.085358\n",
       "critic_score    0.462322      1.000000     0.374838\n",
       "total_sales     0.085358      0.374838     1.000000"
      ]
     },
     "execution_count": 58,
     "metadata": {},
     "output_type": "execute_result"
    }
   ],
   "source": [
    "games_clean.query('platform == \"PS3\"')[['user_score','critic_score', 'total_sales']].corr()"
   ]
  },
  {
   "cell_type": "markdown",
   "metadata": {},
   "source": [
    "The correlation between user_score and total_sales is 0.09                                                                     The correlation between critic_score and total_sales is 0.37                                                                    Correlation for does not show a relation for either or."
   ]
  },
  {
   "cell_type": "code",
   "execution_count": 59,
   "metadata": {},
   "outputs": [
    {
     "data": {
      "image/png": "[encoded data removed]",
      "text/plain": [
       "<Figure size 432x288 with 1 Axes>"
      ]
     },
     "metadata": {
      "needs_background": "light"
     },
     "output_type": "display_data"
    },
    {
     "data": {
      "image/png": "[encoded data removed]",
      "text/plain": [
       "<Figure size 432x288 with 1 Axes>"
      ]
     },
     "metadata": {
      "needs_background": "light"
     },
     "output_type": "display_data"
    }
   ],
   "source": [
    "games_clean.query('platform == \"DS\"').plot(x='user_score', y='total_sales', kind='scatter', title='User Review for DS',alpha=0.5);\n",
    "games_clean.query('platform == \"DS\"').plot(x='critic_score', y='total_sales', kind='scatter', title='Professional Review for DS',alpha=0.5);"
   ]
  },
  {
   "cell_type": "code",
   "execution_count": 60,
   "metadata": {},
   "outputs": [
    {
     "data": {
      "text/html": [
       "<div>\n",
       "<style scoped>\n",
       "    .dataframe tbody tr th:only-of-type {\n",
       "        vertical-align: middle;\n",
       "    }\n",
       "\n",
       "    .dataframe tbody tr th {\n",
       "        vertical-align: top;\n",
       "    }\n",
       "\n",
       "    .dataframe thead th {\n",
       "        text-align: right;\n",
       "    }\n",
       "</style>\n",
       "<table border=\"1\" class=\"dataframe\">\n",
       "  <thead>\n",
       "    <tr style=\"text-align: right;\">\n",
       "      <th></th>\n",
       "      <th>user_score</th>\n",
       "      <th>critic_score</th>\n",
       "      <th>total_sales</th>\n",
       "    </tr>\n",
       "  </thead>\n",
       "  <tbody>\n",
       "    <tr>\n",
       "      <th>user_score</th>\n",
       "      <td>1.000000</td>\n",
       "      <td>0.596748</td>\n",
       "      <td>0.076325</td>\n",
       "    </tr>\n",
       "    <tr>\n",
       "      <th>critic_score</th>\n",
       "      <td>0.596748</td>\n",
       "      <td>1.000000</td>\n",
       "      <td>0.163321</td>\n",
       "    </tr>\n",
       "    <tr>\n",
       "      <th>total_sales</th>\n",
       "      <td>0.076325</td>\n",
       "      <td>0.163321</td>\n",
       "      <td>1.000000</td>\n",
       "    </tr>\n",
       "  </tbody>\n",
       "</table>\n",
       "</div>"
      ],
      "text/plain": [
       "              user_score  critic_score  total_sales\n",
       "user_score      1.000000      0.596748     0.076325\n",
       "critic_score    0.596748      1.000000     0.163321\n",
       "total_sales     0.076325      0.163321     1.000000"
      ]
     },
     "execution_count": 60,
     "metadata": {},
     "output_type": "execute_result"
    }
   ],
   "source": [
    "games_clean.query('platform == \"DS\"')[['user_score','critic_score', 'total_sales']].corr()"
   ]
  },
  {
   "cell_type": "markdown",
   "metadata": {},
   "source": [
    "The correlation between user_score and total_sales is 0.076                                                                     The correlation between critic_score and total_sales is 0.16                                                                   Correlation for does not show a relation for either or."
   ]
  },
  {
   "cell_type": "code",
   "execution_count": 61,
   "metadata": {},
   "outputs": [],
   "source": [
    "## general distribution of games by genre"
   ]
  },
  {
   "cell_type": "code",
   "execution_count": 62,
   "metadata": {},
   "outputs": [
    {
     "name": "stdout",
     "output_type": "stream",
     "text": [
      "           genre  total_sales\n",
      "0       Strategy        74.69\n",
      "1         Puzzle        90.63\n",
      "2      Adventure       141.71\n",
      "3       Fighting       188.68\n",
      "4     Simulation       222.27\n",
      "5       Platform       280.30\n",
      "6         Racing       301.07\n",
      "7   Role-Playing       523.49\n",
      "8           Misc       565.88\n",
      "9        Shooter       722.92\n",
      "10        Sports       800.11\n",
      "11        Action      1135.62\n"
     ]
    }
   ],
   "source": [
    "sales_by_genre = games_clean.pivot_table(index='genre', values='total_sales', aggfunc='sum').sort_values(by='total_sales', inplace=False).reset_index()\n",
    "print(sales_by_genre)"
   ]
  },
  {
   "cell_type": "code",
   "execution_count": 63,
   "metadata": {},
   "outputs": [
    {
     "data": {
      "image/png": "[encoded data removed]",
      "text/plain": [
       "<Figure size 864x648 with 1 Axes>"
      ]
     },
     "metadata": {
      "needs_background": "light"
     },
     "output_type": "display_data"
    }
   ],
   "source": [
    "sales_by_genre.plot(x='genre',y='total_sales', figsize=( 12, 9), kind='bar', title='Sales by genre');"
   ]
  },
  {
   "cell_type": "markdown",
   "metadata": {},
   "source": [
    "The top 3 most popular game genres are Action, Sports, and Shooter."
   ]
  },
  {
   "cell_type": "markdown",
   "metadata": {},
   "source": [
    "## Create a user profile for each region"
   ]
  },
  {
   "cell_type": "code",
   "execution_count": 64,
   "metadata": {},
   "outputs": [
    {
     "name": "stdout",
     "output_type": "stream",
     "text": [
      "   platform  na_sales\n",
      "0        DC      0.00\n",
      "1       GBA      5.15\n",
      "2        XB      8.01\n",
      "3        GC      8.72\n",
      "4       PSV     12.58\n",
      "5      WiiU     38.10\n",
      "6        PC     45.64\n",
      "7       PSP     82.44\n",
      "8       3DS     83.49\n",
      "9      XOne     93.12\n",
      "10      PS4    108.74\n",
      "11      PS2    116.26\n",
      "12       DS    326.08\n",
      "13      PS3    393.49\n",
      "14      Wii    496.90\n",
      "15     X360    595.57\n",
      "\n",
      "   platform  eu_sales\n",
      "0        DC      0.00\n",
      "1       GBA      1.88\n",
      "2        GC      2.34\n",
      "3        XB      2.41\n",
      "4       PSV     13.12\n",
      "5      WiiU     25.13\n",
      "6       PS2     46.85\n",
      "7      XOne     51.59\n",
      "8       PSP     55.27\n",
      "9       3DS     61.48\n",
      "10       PC    102.39\n",
      "11      PS4    141.09\n",
      "12       DS    143.47\n",
      "13      Wii    262.21\n",
      "14     X360    270.33\n",
      "15      PS3    330.29\n",
      "\n",
      "   platform  jp_sales\n",
      "0        PC      0.00\n",
      "1        XB      0.00\n",
      "2        DC      0.06\n",
      "3        GC      0.21\n",
      "4      XOne      0.34\n",
      "5       GBA      1.51\n",
      "6      X360     12.15\n",
      "7      WiiU     13.01\n",
      "8       PS4     15.96\n",
      "9       PSV     21.91\n",
      "10      PS2     35.93\n",
      "11      Wii     69.33\n",
      "12      PSP     71.53\n",
      "13      PS3     80.19\n",
      "14      3DS    100.67\n",
      "15       DS    142.04\n"
     ]
    }
   ],
   "source": [
    "na_region = games_clean.pivot_table(index='platform', values='na_sales', aggfunc='sum').sort_values(by='na_sales', inplace=False).reset_index()\n",
    "print(na_region)\n",
    "print()\n",
    "\n",
    "eu_region = games_clean.pivot_table(index='platform', values='eu_sales', aggfunc='sum').sort_values(by='eu_sales', inplace=False).reset_index()\n",
    "print(eu_region)\n",
    "print()\n",
    "\n",
    "jp_region = games_clean.pivot_table(index='platform', values='jp_sales', aggfunc='sum').sort_values(by='jp_sales', inplace=False).reset_index()\n",
    "print(jp_region)"
   ]
  },
  {
   "cell_type": "markdown",
   "metadata": {},
   "source": [
    "The top five platforms in NA are X360, Wii, PS3, DS, and PS2 with sales ranging from 108-595 million usd.\n",
    "The top five platforms in EU are PS3, X360, Wii, DS, and PS4 with sales ranging from 141-330 million usd.\n",
    "The top five platforms in JP are DS, 3DS, PS3, PSP, and Wii with sales ranging from 69-142 million usd."
   ]
  },
  {
   "cell_type": "code",
   "execution_count": 65,
   "metadata": {},
   "outputs": [
    {
     "name": "stdout",
     "output_type": "stream",
     "text": [
      "           genre  na_sales\n",
      "0       Strategy     29.22\n",
      "1         Puzzle     43.05\n",
      "2      Adventure     61.81\n",
      "3       Fighting     94.49\n",
      "4     Simulation    109.12\n",
      "5         Racing    133.56\n",
      "6       Platform    134.33\n",
      "7   Role-Playing    200.01\n",
      "8           Misc    291.78\n",
      "9        Shooter    376.08\n",
      "10        Sports    400.76\n",
      "11        Action    540.08\n",
      "\n",
      "           genre  eu_sales\n",
      "0       Strategy     24.65\n",
      "1         Puzzle     27.86\n",
      "2      Adventure     37.92\n",
      "3       Fighting     42.68\n",
      "4     Simulation     69.76\n",
      "5       Platform     82.10\n",
      "6   Role-Playing    110.79\n",
      "7         Racing    114.48\n",
      "8           Misc    148.85\n",
      "9        Shooter    241.09\n",
      "10        Sports    252.69\n",
      "11        Action    356.98\n",
      "\n",
      "           genre  jp_sales\n",
      "0         Puzzle     12.43\n",
      "1         Racing     13.24\n",
      "2       Strategy     14.09\n",
      "3        Shooter     19.43\n",
      "4     Simulation     23.47\n",
      "5       Fighting     28.61\n",
      "6      Adventure     29.55\n",
      "7       Platform     35.20\n",
      "8         Sports     49.36\n",
      "9           Misc     65.62\n",
      "10        Action    103.00\n",
      "11  Role-Playing    170.84\n"
     ]
    }
   ],
   "source": [
    "na_genre = games_clean.pivot_table(index='genre', values='na_sales', aggfunc='sum').sort_values(by='na_sales', inplace=False).reset_index()\n",
    "print(na_genre)\n",
    "print()\n",
    "\n",
    "eu_genre = games_clean.pivot_table(index='genre', values='eu_sales', aggfunc='sum').sort_values(by='eu_sales', inplace=False).reset_index()\n",
    "print(eu_genre)\n",
    "print()\n",
    "\n",
    "jp_genre = games_clean.pivot_table(index='genre', values='jp_sales', aggfunc='sum').sort_values(by='jp_sales', inplace=False).reset_index()\n",
    "print(jp_genre)"
   ]
  },
  {
   "cell_type": "markdown",
   "metadata": {},
   "source": [
    "The top five genres in NA are Action, Sports, Shooter, Misc and Roleplaying with sales ranging from 200-540 million usd.\n",
    "The top five genres in EU are Action, Sports, Shooter, Misc and Racing with sales ranging from 114-356 million usd.\n",
    "The top five genres in JP are Roleplaying, Action, Misc, Sports, Platform with sales ranging from 35-170 million usd.\n",
    "\n",
    "In both genre and platforms, North America sold the most games. Japan came out in the bottom for both platform and genre.\n",
    "Europe and North America preferred similar games and platforms but Japan had very different outcomes for both genre and platforms."
   ]
  },
  {
   "cell_type": "code",
   "execution_count": 66,
   "metadata": {},
   "outputs": [],
   "source": [
    "## ESRB ratings "
   ]
  },
  {
   "cell_type": "code",
   "execution_count": 67,
   "metadata": {},
   "outputs": [
    {
     "name": "stdout",
     "output_type": "stream",
     "text": [
      "    rating  na_sales\n",
      "0       RP      0.00\n",
      "1       EC      1.32\n",
      "2  unknown    275.72\n",
      "3     E10+    323.09\n",
      "4        T    433.71\n",
      "5        M    577.64\n",
      "6        E    802.81\n"
     ]
    }
   ],
   "source": [
    "na_rating= games_clean.pivot_table(index='rating', values='na_sales', aggfunc='sum').sort_values(by='na_sales', inplace=False).reset_index()\n",
    "print(na_rating)"
   ]
  },
  {
   "cell_type": "code",
   "execution_count": 68,
   "metadata": {},
   "outputs": [
    {
     "name": "stdout",
     "output_type": "stream",
     "text": [
      "    rating  eu_sales\n",
      "0       EC      0.00\n",
      "1       RP      0.08\n",
      "2     E10+    178.47\n",
      "3  unknown    228.01\n",
      "4        T    239.25\n",
      "5        M    401.91\n",
      "6        E    462.13\n"
     ]
    }
   ],
   "source": [
    "eu_rating= games_clean.pivot_table(index='rating', values='eu_sales', aggfunc='sum').sort_values(by='eu_sales', inplace=False).reset_index()\n",
    "print(eu_rating)"
   ]
  },
  {
   "cell_type": "code",
   "execution_count": 69,
   "metadata": {},
   "outputs": [
    {
     "name": "stdout",
     "output_type": "stream",
     "text": [
      "    rating  jp_sales\n",
      "0       EC      0.00\n",
      "1       RP      0.00\n",
      "2     E10+     36.57\n",
      "3        M     44.45\n",
      "4        T     84.07\n",
      "5        E    120.46\n",
      "6  unknown    279.29\n"
     ]
    }
   ],
   "source": [
    "jp_rating= games_clean.pivot_table(index='rating', values='jp_sales', aggfunc='sum').sort_values(by='jp_sales', inplace=False).reset_index()\n",
    "print(jp_rating)"
   ]
  },
  {
   "cell_type": "markdown",
   "metadata": {},
   "source": [
    "In NA ESRB ratings most sold were E, M, T and E10+, sales ranged between 323-802 million usd.\n",
    "In EU ESRB ratings most sold were E, M, T and E10+, sales ranged between 178-462 million usd.\n",
    "In JP ESRB ratings most sold were E, T, M and E10+, sales ranged between 36-120 million usd.\n",
    "Japan barely sold half of what the other regions sold.\n",
    "\n",
    "I did not count the unknown values because those are missing values in the data."
   ]
  },
  {
   "cell_type": "markdown",
   "metadata": {},
   "source": [
    "## Test statistical hypotheses"
   ]
  },
  {
   "cell_type": "code",
   "execution_count": 81,
   "metadata": {},
   "outputs": [
    {
     "name": "stdout",
     "output_type": "stream",
     "text": [
      "mean xbox platform: 6.827935222672065\n",
      "mean pc platform: 7.028247162673392\n",
      "p-value:  0.04847516382110007\n",
      "We reject the null hypothesis\n"
     ]
    }
   ],
   "source": [
    "## Average user ratings of the Xbox One and PC platforms are the same\n",
    "xbox_plat = games_clean.query('platform ==\"XOne\"')['user_score']\n",
    "pc_plat= games_clean.query('platform ==\"PC\"')['user_score']\n",
    "\n",
    "print('mean xbox platform:', pd.Series(xbox_plat).mean())\n",
    "print('mean pc platform:', pd.Series(pc_plat).mean())\n",
    "\n",
    "alpha= 0.05\n",
    "\n",
    "results = st.ttest_ind(xbox_plat, pc_plat)\n",
    "\n",
    "print('p-value: ', results.pvalue)\n",
    "\n",
    "if results.pvalue < alpha:\n",
    "    print(\"We reject the null hypothesis\")\n",
    "else:\n",
    "    print(\"We can't reject the null hypothesis\") "
   ]
  },
  {
   "cell_type": "markdown",
   "metadata": {},
   "source": [
    "As shown above, we have decided to reject the null hypothesis.  The average user rating for Xbox one and Pc platforms are different."
   ]
  },
  {
   "cell_type": "code",
   "execution_count": 80,
   "metadata": {},
   "outputs": [
    {
     "name": "stdout",
     "output_type": "stream",
     "text": [
      "mean action genre: 6.976797520661156\n",
      "mean sport genre: 6.661613406079502\n",
      "p-value:  3.325879658416342e-14\n",
      "We reject the null hypothesis\n"
     ]
    }
   ],
   "source": [
    "## Average user ratings for the Action and Sports genres are different.\n",
    "action_gen = games_clean.query('genre ==\"Action\"')['user_score']\n",
    "sport_gen= games_clean.query('genre ==\"Sports\"')['user_score']\n",
    "\n",
    "print('mean action genre:', pd.Series(action_gen).mean())\n",
    "print('mean sport genre:', pd.Series(sport_gen).mean())\n",
    "\n",
    "\n",
    "alpha= 0.05\n",
    "\n",
    "results = st.ttest_ind(action_gen, sport_gen)\n",
    "\n",
    "print('p-value: ', results.pvalue)\n",
    "\n",
    "if results.pvalue < alpha:\n",
    "    print(\"We reject the null hypothesis\")\n",
    "else:\n",
    "    print(\"We can't reject the null hypothesis\") "
   ]
  },
  {
   "cell_type": "markdown",
   "metadata": {},
   "source": [
    "As shown above, we have decided to reject the null hypothesis.  The average user user rating Action genre games and Sport genre games are different."
   ]
  },
  {
   "cell_type": "markdown",
   "metadata": {},
   "source": [
    "## General Conclusion"
   ]
  },
  {
   "cell_type": "markdown",
   "metadata": {},
   "source": [
    "We were tasked to identify patterns that determine whether a game will be successful or not. The data consisted of 11 columns and 16715 rows. A substantial amount of missing values were found in columns: Name, Year_of_Release, Genre, Critic_score, User_Score and Rating. The missing values in name and genre were then dropped without affecting our data. The rest of the values in columns year_of_release and critic_score were filled by grouping platform and genre which was then used to fill user_score. The user_score column also contained some 'tbd' values which meant the scores were not available when data was extracted. We also made changed the datatype for years_of_release, user_score and critic_score. After analyzing the data we found top popular platform lose their popularity after 8 years. We then decided to pull data that was relevant to our goal. I took data of games released after 2005, 10 years of data is sufficient enough to note the rise and fall of data provided.        The findings on platforms:         \n",
    "PS2: was popular between 2001-2006. In 2007, sales began to decrease and hitting below 1 sale in 2011 and has not bounce back since then.                                                                                                                                                                                                                                                     X360: popularity began to climb in 2006 and lasted until 2011. In 2012, sales began to decrease with its lowest sale of 1.52 in 2016.\n",
    "PS3: rose in popularity in 2008-2013. Sales dropped by in 2014.\n",
    "Wii: was popular in 2006-2010, sales began to dropin 2012 and hit zero sales in 2016.\n",
    "DS: was a new platform released in the mid 2000's and was popular in 2006-2009. In 2010, popularity dropped and sales dropped to zero in 2014.\n",
    "PS: one the top sales platform lost popularity well before 2005. The platform was popluar in 1996-1999 and sales began to decrease in 2000.\n",
    "Finding on genre:\n",
    "The top 3 most popular game genres are Action, Sports, and Shooter. Least popular was strategy.\n",
    "We then built a scatterplot and calculated the correlation between reviews (both critic and user) and sales and found there to be no relation.\n",
    "We then took a look at sales by each region and found there to be similarities in North America and Europe in the genre and platforms they used.I would recommend for Ice to plan on advertising on their most popular genres an platforms for both of these continents. Japanese market was very different when it came to both genres and platforms. They will have to find a different method to appease Japan.\n"
   ]
  }
 ],
 "metadata": {
  "ExecuteTimeLog": [
   {
    "duration": 1365,
    "start_time": "2022-06-20T14:25:21.510Z"
   },
   {
    "duration": 186,
    "start_time": "2022-06-20T14:26:01.245Z"
   },
   {
    "duration": 15,
    "start_time": "2022-06-20T14:26:07.861Z"
   },
   {
    "duration": 22,
    "start_time": "2022-06-20T14:36:24.127Z"
   },
   {
    "duration": 11,
    "start_time": "2022-06-20T14:36:53.894Z"
   },
   {
    "duration": 11,
    "start_time": "2022-06-20T14:37:12.587Z"
   },
   {
    "duration": 14,
    "start_time": "2022-06-20T14:37:29.645Z"
   },
   {
    "duration": 11,
    "start_time": "2022-06-20T14:37:42.128Z"
   },
   {
    "duration": 16,
    "start_time": "2022-06-20T14:38:34.706Z"
   },
   {
    "duration": 106,
    "start_time": "2022-06-20T14:38:40.398Z"
   },
   {
    "duration": 30,
    "start_time": "2022-06-20T14:42:12.707Z"
   },
   {
    "duration": 45,
    "start_time": "2022-06-20T14:45:19.662Z"
   },
   {
    "duration": 1276,
    "start_time": "2022-06-20T17:26:17.830Z"
   },
   {
    "duration": 181,
    "start_time": "2022-06-20T17:26:19.108Z"
   },
   {
    "duration": 14,
    "start_time": "2022-06-20T17:26:19.291Z"
   },
   {
    "duration": 19,
    "start_time": "2022-06-20T17:26:19.307Z"
   },
   {
    "duration": 10,
    "start_time": "2022-06-20T17:26:19.328Z"
   },
   {
    "duration": 28,
    "start_time": "2022-06-20T17:26:19.339Z"
   },
   {
    "duration": 3,
    "start_time": "2022-06-20T17:26:19.368Z"
   },
   {
    "duration": 3,
    "start_time": "2022-06-20T17:26:24.994Z"
   },
   {
    "duration": 3,
    "start_time": "2022-06-20T17:27:10.760Z"
   },
   {
    "duration": 3,
    "start_time": "2022-06-20T17:27:30.776Z"
   },
   {
    "duration": 1487,
    "start_time": "2022-06-22T00:39:53.800Z"
   },
   {
    "duration": 135,
    "start_time": "2022-06-22T00:39:55.290Z"
   },
   {
    "duration": 30,
    "start_time": "2022-06-22T00:39:55.432Z"
   },
   {
    "duration": 51,
    "start_time": "2022-06-22T00:39:55.465Z"
   },
   {
    "duration": 26,
    "start_time": "2022-06-22T00:39:55.518Z"
   },
   {
    "duration": 46,
    "start_time": "2022-06-22T00:39:55.549Z"
   },
   {
    "duration": 3,
    "start_time": "2022-06-22T00:39:55.597Z"
   },
   {
    "duration": 9,
    "start_time": "2022-06-22T00:39:55.602Z"
   },
   {
    "duration": 52,
    "start_time": "2022-06-22T15:18:09.187Z"
   },
   {
    "duration": 7,
    "start_time": "2022-06-22T15:18:49.965Z"
   },
   {
    "duration": 6,
    "start_time": "2022-06-22T15:20:55.174Z"
   },
   {
    "duration": 1362,
    "start_time": "2022-06-22T15:21:02.119Z"
   },
   {
    "duration": 98,
    "start_time": "2022-06-22T15:21:03.483Z"
   },
   {
    "duration": 15,
    "start_time": "2022-06-22T15:21:03.583Z"
   },
   {
    "duration": 21,
    "start_time": "2022-06-22T15:21:03.599Z"
   },
   {
    "duration": 14,
    "start_time": "2022-06-22T15:21:03.621Z"
   },
   {
    "duration": 40,
    "start_time": "2022-06-22T15:21:03.636Z"
   },
   {
    "duration": 3,
    "start_time": "2022-06-22T15:21:03.678Z"
   },
   {
    "duration": 9,
    "start_time": "2022-06-22T15:21:03.682Z"
   },
   {
    "duration": 13,
    "start_time": "2022-06-22T15:21:03.692Z"
   },
   {
    "duration": 15,
    "start_time": "2022-06-22T15:21:26.585Z"
   },
   {
    "duration": 107,
    "start_time": "2022-06-22T15:27:41.317Z"
   },
   {
    "duration": 25,
    "start_time": "2022-06-22T15:30:19.765Z"
   },
   {
    "duration": 1078,
    "start_time": "2022-06-22T15:31:03.171Z"
   },
   {
    "duration": 59,
    "start_time": "2022-06-22T15:31:04.251Z"
   },
   {
    "duration": 16,
    "start_time": "2022-06-22T15:31:04.312Z"
   },
   {
    "duration": 20,
    "start_time": "2022-06-22T15:31:04.330Z"
   },
   {
    "duration": 11,
    "start_time": "2022-06-22T15:31:04.353Z"
   },
   {
    "duration": 8,
    "start_time": "2022-06-22T15:31:04.366Z"
   },
   {
    "duration": 22,
    "start_time": "2022-06-22T15:31:04.376Z"
   },
   {
    "duration": 51,
    "start_time": "2022-06-22T15:31:04.400Z"
   },
   {
    "duration": 32,
    "start_time": "2022-06-22T15:36:18.230Z"
   },
   {
    "duration": 10,
    "start_time": "2022-06-22T15:39:44.583Z"
   },
   {
    "duration": 14,
    "start_time": "2022-06-22T15:39:51.510Z"
   },
   {
    "duration": 23,
    "start_time": "2022-06-22T15:40:11.639Z"
   },
   {
    "duration": 27,
    "start_time": "2022-06-22T15:40:28.486Z"
   },
   {
    "duration": 1177,
    "start_time": "2022-06-22T15:40:38.487Z"
   },
   {
    "duration": 51,
    "start_time": "2022-06-22T15:40:39.666Z"
   },
   {
    "duration": 15,
    "start_time": "2022-06-22T15:40:39.719Z"
   },
   {
    "duration": 30,
    "start_time": "2022-06-22T15:40:39.736Z"
   },
   {
    "duration": 28,
    "start_time": "2022-06-22T15:40:39.768Z"
   },
   {
    "duration": 11,
    "start_time": "2022-06-22T15:40:39.798Z"
   },
   {
    "duration": 4,
    "start_time": "2022-06-22T15:40:39.826Z"
   },
   {
    "duration": 7,
    "start_time": "2022-06-22T15:40:39.831Z"
   },
   {
    "duration": 11,
    "start_time": "2022-06-22T15:40:39.840Z"
   },
   {
    "duration": 18,
    "start_time": "2022-06-22T15:40:39.853Z"
   },
   {
    "duration": 19,
    "start_time": "2022-06-22T15:40:52.177Z"
   },
   {
    "duration": 5,
    "start_time": "2022-06-22T16:01:28.054Z"
   },
   {
    "duration": 24,
    "start_time": "2022-06-22T16:01:38.121Z"
   },
   {
    "duration": 11,
    "start_time": "2022-06-22T16:02:00.581Z"
   },
   {
    "duration": 1259,
    "start_time": "2022-06-22T16:02:07.914Z"
   },
   {
    "duration": 52,
    "start_time": "2022-06-22T16:02:09.175Z"
   },
   {
    "duration": 25,
    "start_time": "2022-06-22T16:02:09.239Z"
   },
   {
    "duration": 22,
    "start_time": "2022-06-22T16:02:09.265Z"
   },
   {
    "duration": 48,
    "start_time": "2022-06-22T16:02:09.289Z"
   },
   {
    "duration": 15,
    "start_time": "2022-06-22T16:02:09.342Z"
   },
   {
    "duration": 3,
    "start_time": "2022-06-22T16:02:09.359Z"
   },
   {
    "duration": 7,
    "start_time": "2022-06-22T16:02:09.364Z"
   },
   {
    "duration": 14,
    "start_time": "2022-06-22T16:02:09.373Z"
   },
   {
    "duration": 126,
    "start_time": "2022-06-22T16:05:11.211Z"
   },
   {
    "duration": 18,
    "start_time": "2022-06-22T16:05:50.072Z"
   },
   {
    "duration": 13,
    "start_time": "2022-06-22T16:07:45.873Z"
   },
   {
    "duration": 18,
    "start_time": "2022-06-22T16:07:52.387Z"
   },
   {
    "duration": 1584,
    "start_time": "2022-06-22T16:08:13.305Z"
   },
   {
    "duration": 1265,
    "start_time": "2022-06-22T16:08:34.251Z"
   },
   {
    "duration": 8,
    "start_time": "2022-06-22T16:09:20.625Z"
   },
   {
    "duration": 11,
    "start_time": "2022-06-22T16:09:38.178Z"
   },
   {
    "duration": 14,
    "start_time": "2022-06-22T16:09:42.035Z"
   },
   {
    "duration": 9,
    "start_time": "2022-06-22T16:09:50.615Z"
   },
   {
    "duration": 15,
    "start_time": "2022-06-22T16:10:35.127Z"
   },
   {
    "duration": 9,
    "start_time": "2022-06-22T16:10:54.673Z"
   },
   {
    "duration": 6,
    "start_time": "2022-06-22T16:10:59.024Z"
   },
   {
    "duration": 14,
    "start_time": "2022-06-22T16:11:34.403Z"
   },
   {
    "duration": 1122,
    "start_time": "2022-06-22T16:11:47.460Z"
   },
   {
    "duration": 54,
    "start_time": "2022-06-22T16:11:48.585Z"
   },
   {
    "duration": 16,
    "start_time": "2022-06-22T16:11:48.641Z"
   },
   {
    "duration": 24,
    "start_time": "2022-06-22T16:11:48.660Z"
   },
   {
    "duration": 52,
    "start_time": "2022-06-22T16:11:48.686Z"
   },
   {
    "duration": 12,
    "start_time": "2022-06-22T16:11:48.740Z"
   },
   {
    "duration": 8,
    "start_time": "2022-06-22T16:11:48.753Z"
   },
   {
    "duration": 8,
    "start_time": "2022-06-22T16:11:48.762Z"
   },
   {
    "duration": 13,
    "start_time": "2022-06-22T16:11:48.772Z"
   },
   {
    "duration": 13,
    "start_time": "2022-06-22T16:11:48.788Z"
   },
   {
    "duration": 1198,
    "start_time": "2022-06-22T16:11:48.802Z"
   },
   {
    "duration": 5,
    "start_time": "2022-06-22T16:12:02.394Z"
   },
   {
    "duration": 9,
    "start_time": "2022-06-22T16:13:36.341Z"
   },
   {
    "duration": 27,
    "start_time": "2022-06-22T16:16:11.577Z"
   },
   {
    "duration": 16,
    "start_time": "2022-06-22T16:16:28.587Z"
   },
   {
    "duration": 21,
    "start_time": "2022-06-22T16:16:43.374Z"
   },
   {
    "duration": 11,
    "start_time": "2022-06-22T16:18:40.772Z"
   },
   {
    "duration": 98,
    "start_time": "2022-06-22T16:21:32.801Z"
   },
   {
    "duration": 7,
    "start_time": "2022-06-22T16:21:37.895Z"
   },
   {
    "duration": 6,
    "start_time": "2022-06-22T16:22:03.207Z"
   },
   {
    "duration": 17,
    "start_time": "2022-06-22T16:22:42.106Z"
   },
   {
    "duration": 18,
    "start_time": "2022-06-22T16:22:56.975Z"
   },
   {
    "duration": 1133,
    "start_time": "2022-06-22T16:23:09.914Z"
   },
   {
    "duration": 48,
    "start_time": "2022-06-22T16:23:11.049Z"
   },
   {
    "duration": 14,
    "start_time": "2022-06-22T16:23:11.099Z"
   },
   {
    "duration": 30,
    "start_time": "2022-06-22T16:23:11.115Z"
   },
   {
    "duration": 32,
    "start_time": "2022-06-22T16:23:11.147Z"
   },
   {
    "duration": 19,
    "start_time": "2022-06-22T16:23:11.181Z"
   },
   {
    "duration": 25,
    "start_time": "2022-06-22T16:23:11.202Z"
   },
   {
    "duration": 24,
    "start_time": "2022-06-22T16:23:11.229Z"
   },
   {
    "duration": 7,
    "start_time": "2022-06-22T16:23:11.255Z"
   },
   {
    "duration": 17,
    "start_time": "2022-06-22T16:23:11.265Z"
   },
   {
    "duration": 23,
    "start_time": "2022-06-22T16:23:11.284Z"
   },
   {
    "duration": 1150,
    "start_time": "2022-06-22T16:23:11.308Z"
   },
   {
    "duration": 10,
    "start_time": "2022-06-22T16:23:12.460Z"
   },
   {
    "duration": 116,
    "start_time": "2022-06-22T16:30:34.485Z"
   },
   {
    "duration": 9,
    "start_time": "2022-06-22T16:31:03.989Z"
   },
   {
    "duration": 16,
    "start_time": "2022-06-22T16:31:29.882Z"
   },
   {
    "duration": 10,
    "start_time": "2022-06-22T16:35:24.182Z"
   },
   {
    "duration": 1208,
    "start_time": "2022-06-22T16:35:33.789Z"
   },
   {
    "duration": 54,
    "start_time": "2022-06-22T16:35:34.999Z"
   },
   {
    "duration": 16,
    "start_time": "2022-06-22T16:35:35.056Z"
   },
   {
    "duration": 25,
    "start_time": "2022-06-22T16:35:35.074Z"
   },
   {
    "duration": 44,
    "start_time": "2022-06-22T16:35:35.101Z"
   },
   {
    "duration": 19,
    "start_time": "2022-06-22T16:35:35.147Z"
   },
   {
    "duration": 19,
    "start_time": "2022-06-22T16:35:35.168Z"
   },
   {
    "duration": 5,
    "start_time": "2022-06-22T16:35:35.189Z"
   },
   {
    "duration": 32,
    "start_time": "2022-06-22T16:35:35.195Z"
   },
   {
    "duration": 27,
    "start_time": "2022-06-22T16:35:35.229Z"
   },
   {
    "duration": 38,
    "start_time": "2022-06-22T16:35:35.258Z"
   },
   {
    "duration": 1113,
    "start_time": "2022-06-22T16:35:35.298Z"
   },
   {
    "duration": 15,
    "start_time": "2022-06-22T16:35:36.413Z"
   },
   {
    "duration": 108,
    "start_time": "2022-06-22T16:35:36.430Z"
   },
   {
    "duration": 72,
    "start_time": "2022-06-22T16:36:01.255Z"
   },
   {
    "duration": 10,
    "start_time": "2022-06-22T16:36:09.154Z"
   },
   {
    "duration": 10,
    "start_time": "2022-06-22T16:45:02.257Z"
   },
   {
    "duration": 73,
    "start_time": "2022-06-22T16:45:45.576Z"
   },
   {
    "duration": 2360,
    "start_time": "2022-06-22T16:45:52.458Z"
   },
   {
    "duration": 5,
    "start_time": "2022-06-22T16:46:45.572Z"
   },
   {
    "duration": 4,
    "start_time": "2022-06-22T16:50:02.449Z"
   },
   {
    "duration": 9,
    "start_time": "2022-06-22T16:50:10.155Z"
   },
   {
    "duration": 13,
    "start_time": "2022-06-22T16:50:16.376Z"
   },
   {
    "duration": 102,
    "start_time": "2022-06-25T00:16:00.642Z"
   },
   {
    "duration": 16,
    "start_time": "2022-06-25T00:16:02.507Z"
   },
   {
    "duration": 1090,
    "start_time": "2022-06-25T00:16:34.047Z"
   },
   {
    "duration": 54,
    "start_time": "2022-06-25T00:16:35.139Z"
   },
   {
    "duration": 15,
    "start_time": "2022-06-25T00:16:35.194Z"
   },
   {
    "duration": 21,
    "start_time": "2022-06-25T00:16:35.211Z"
   },
   {
    "duration": 29,
    "start_time": "2022-06-25T00:16:35.234Z"
   },
   {
    "duration": 19,
    "start_time": "2022-06-25T00:16:35.264Z"
   },
   {
    "duration": 17,
    "start_time": "2022-06-25T00:16:35.285Z"
   },
   {
    "duration": 22,
    "start_time": "2022-06-25T00:16:35.328Z"
   },
   {
    "duration": 10,
    "start_time": "2022-06-25T00:16:35.351Z"
   },
   {
    "duration": 17,
    "start_time": "2022-06-25T00:16:35.363Z"
   },
   {
    "duration": 28,
    "start_time": "2022-06-25T00:16:35.382Z"
   },
   {
    "duration": 1211,
    "start_time": "2022-06-25T00:16:35.411Z"
   },
   {
    "duration": 15,
    "start_time": "2022-06-25T00:16:36.628Z"
   },
   {
    "duration": 2403,
    "start_time": "2022-06-25T00:16:36.645Z"
   },
   {
    "duration": 4,
    "start_time": "2022-06-25T00:16:39.050Z"
   },
   {
    "duration": 104,
    "start_time": "2022-06-25T00:16:39.056Z"
   },
   {
    "duration": 0,
    "start_time": "2022-06-25T00:16:39.162Z"
   },
   {
    "duration": 4,
    "start_time": "2022-06-25T00:17:25.704Z"
   },
   {
    "duration": 51,
    "start_time": "2022-06-25T00:17:26.253Z"
   },
   {
    "duration": 15,
    "start_time": "2022-06-25T00:17:26.755Z"
   },
   {
    "duration": 20,
    "start_time": "2022-06-25T00:17:27.166Z"
   },
   {
    "duration": 37,
    "start_time": "2022-06-25T00:17:27.637Z"
   },
   {
    "duration": 23,
    "start_time": "2022-06-25T00:17:28.030Z"
   },
   {
    "duration": 16,
    "start_time": "2022-06-25T00:17:28.401Z"
   },
   {
    "duration": 5,
    "start_time": "2022-06-25T00:17:29.199Z"
   },
   {
    "duration": 4,
    "start_time": "2022-06-25T00:17:29.620Z"
   },
   {
    "duration": 8,
    "start_time": "2022-06-25T00:17:30.422Z"
   },
   {
    "duration": 33,
    "start_time": "2022-06-25T00:17:31.221Z"
   },
   {
    "duration": 1153,
    "start_time": "2022-06-25T00:17:31.637Z"
   },
   {
    "duration": 10,
    "start_time": "2022-06-25T00:17:32.792Z"
   },
   {
    "duration": 2459,
    "start_time": "2022-06-25T00:17:33.154Z"
   },
   {
    "duration": 11,
    "start_time": "2022-06-25T00:17:35.615Z"
   },
   {
    "duration": 27,
    "start_time": "2022-06-25T00:17:35.628Z"
   },
   {
    "duration": 9,
    "start_time": "2022-06-25T00:18:28.363Z"
   },
   {
    "duration": 2256,
    "start_time": "2022-06-25T00:23:03.882Z"
   },
   {
    "duration": 8,
    "start_time": "2022-06-25T00:23:29.735Z"
   },
   {
    "duration": 287,
    "start_time": "2022-06-25T00:27:54.791Z"
   },
   {
    "duration": 277,
    "start_time": "2022-06-25T00:28:17.662Z"
   },
   {
    "duration": 212,
    "start_time": "2022-06-25T00:28:34.510Z"
   },
   {
    "duration": 9,
    "start_time": "2022-06-25T00:30:05.294Z"
   },
   {
    "duration": 233,
    "start_time": "2022-06-25T00:30:25.068Z"
   },
   {
    "duration": 211,
    "start_time": "2022-06-25T00:31:20.310Z"
   },
   {
    "duration": 6,
    "start_time": "2022-06-25T00:32:15.807Z"
   },
   {
    "duration": 12,
    "start_time": "2022-06-25T00:33:06.392Z"
   },
   {
    "duration": 13,
    "start_time": "2022-06-25T00:33:45.108Z"
   },
   {
    "duration": 1124,
    "start_time": "2022-06-25T00:37:15.042Z"
   },
   {
    "duration": 54,
    "start_time": "2022-06-25T00:37:16.168Z"
   },
   {
    "duration": 22,
    "start_time": "2022-06-25T00:37:16.224Z"
   },
   {
    "duration": 28,
    "start_time": "2022-06-25T00:37:16.248Z"
   },
   {
    "duration": 27,
    "start_time": "2022-06-25T00:37:16.277Z"
   },
   {
    "duration": 40,
    "start_time": "2022-06-25T00:37:16.306Z"
   },
   {
    "duration": 13,
    "start_time": "2022-06-25T00:37:16.347Z"
   },
   {
    "duration": 3,
    "start_time": "2022-06-25T00:37:16.362Z"
   },
   {
    "duration": 6,
    "start_time": "2022-06-25T00:37:16.366Z"
   },
   {
    "duration": 9,
    "start_time": "2022-06-25T00:37:16.374Z"
   },
   {
    "duration": 48,
    "start_time": "2022-06-25T00:37:16.385Z"
   },
   {
    "duration": 1140,
    "start_time": "2022-06-25T00:37:16.438Z"
   },
   {
    "duration": 7,
    "start_time": "2022-06-25T00:37:17.580Z"
   },
   {
    "duration": 1568,
    "start_time": "2022-06-25T00:37:17.589Z"
   },
   {
    "duration": 6,
    "start_time": "2022-06-25T00:37:19.159Z"
   },
   {
    "duration": 1211,
    "start_time": "2022-06-25T02:04:00.692Z"
   },
   {
    "duration": 56,
    "start_time": "2022-06-25T02:04:01.906Z"
   },
   {
    "duration": 15,
    "start_time": "2022-06-25T02:04:01.964Z"
   },
   {
    "duration": 41,
    "start_time": "2022-06-25T02:04:01.982Z"
   },
   {
    "duration": 30,
    "start_time": "2022-06-25T02:04:02.025Z"
   },
   {
    "duration": 20,
    "start_time": "2022-06-25T02:04:02.057Z"
   },
   {
    "duration": 14,
    "start_time": "2022-06-25T02:04:02.079Z"
   },
   {
    "duration": 33,
    "start_time": "2022-06-25T02:04:02.094Z"
   },
   {
    "duration": 15,
    "start_time": "2022-06-25T02:04:02.129Z"
   },
   {
    "duration": 24,
    "start_time": "2022-06-25T02:04:02.147Z"
   },
   {
    "duration": 28,
    "start_time": "2022-06-25T02:04:02.173Z"
   },
   {
    "duration": 1163,
    "start_time": "2022-06-25T02:04:02.203Z"
   },
   {
    "duration": 9,
    "start_time": "2022-06-25T02:04:03.368Z"
   },
   {
    "duration": 1552,
    "start_time": "2022-06-25T02:04:03.379Z"
   },
   {
    "duration": 6,
    "start_time": "2022-06-25T02:04:04.932Z"
   },
   {
    "duration": 353,
    "start_time": "2022-06-25T02:29:42.430Z"
   },
   {
    "duration": 223,
    "start_time": "2022-06-25T02:32:57.725Z"
   },
   {
    "duration": 6,
    "start_time": "2022-06-25T02:33:26.398Z"
   },
   {
    "duration": 15,
    "start_time": "2022-06-25T02:33:36.848Z"
   },
   {
    "duration": 6,
    "start_time": "2022-06-25T02:33:48.481Z"
   },
   {
    "duration": 15,
    "start_time": "2022-06-25T02:33:49.341Z"
   },
   {
    "duration": 6,
    "start_time": "2022-06-25T02:33:57.864Z"
   },
   {
    "duration": 16,
    "start_time": "2022-06-25T02:33:58.752Z"
   },
   {
    "duration": 16,
    "start_time": "2022-06-25T02:34:10.517Z"
   },
   {
    "duration": 12,
    "start_time": "2022-06-25T02:36:07.116Z"
   },
   {
    "duration": 436,
    "start_time": "2022-06-25T02:36:57.720Z"
   },
   {
    "duration": 4,
    "start_time": "2022-06-25T02:38:34.742Z"
   },
   {
    "duration": 4,
    "start_time": "2022-06-25T02:38:41.939Z"
   },
   {
    "duration": 257,
    "start_time": "2022-06-25T02:38:46.555Z"
   },
   {
    "duration": 309,
    "start_time": "2022-06-25T03:10:37.982Z"
   },
   {
    "duration": 1176,
    "start_time": "2022-06-25T03:10:49.716Z"
   },
   {
    "duration": 63,
    "start_time": "2022-06-25T03:10:50.894Z"
   },
   {
    "duration": 15,
    "start_time": "2022-06-25T03:10:50.959Z"
   },
   {
    "duration": 20,
    "start_time": "2022-06-25T03:10:50.977Z"
   },
   {
    "duration": 55,
    "start_time": "2022-06-25T03:10:50.999Z"
   },
   {
    "duration": 17,
    "start_time": "2022-06-25T03:10:51.056Z"
   },
   {
    "duration": 10,
    "start_time": "2022-06-25T03:10:51.074Z"
   },
   {
    "duration": 3,
    "start_time": "2022-06-25T03:10:51.085Z"
   },
   {
    "duration": 5,
    "start_time": "2022-06-25T03:10:51.090Z"
   },
   {
    "duration": 14,
    "start_time": "2022-06-25T03:10:51.129Z"
   },
   {
    "duration": 27,
    "start_time": "2022-06-25T03:10:51.145Z"
   },
   {
    "duration": 1341,
    "start_time": "2022-06-25T03:10:51.175Z"
   },
   {
    "duration": 12,
    "start_time": "2022-06-25T03:10:52.518Z"
   },
   {
    "duration": 1618,
    "start_time": "2022-06-25T03:10:52.532Z"
   },
   {
    "duration": 6,
    "start_time": "2022-06-25T03:10:54.151Z"
   },
   {
    "duration": 313,
    "start_time": "2022-06-25T03:10:54.158Z"
   },
   {
    "duration": 17,
    "start_time": "2022-06-25T03:11:32.037Z"
   },
   {
    "duration": 252,
    "start_time": "2022-06-25T03:14:05.813Z"
   },
   {
    "duration": 16,
    "start_time": "2022-06-25T03:23:54.292Z"
   },
   {
    "duration": 1114,
    "start_time": "2022-06-25T03:24:04.339Z"
   },
   {
    "duration": 55,
    "start_time": "2022-06-25T03:24:05.455Z"
   },
   {
    "duration": 15,
    "start_time": "2022-06-25T03:24:05.512Z"
   },
   {
    "duration": 24,
    "start_time": "2022-06-25T03:24:05.528Z"
   },
   {
    "duration": 28,
    "start_time": "2022-06-25T03:24:05.554Z"
   },
   {
    "duration": 17,
    "start_time": "2022-06-25T03:24:05.584Z"
   },
   {
    "duration": 34,
    "start_time": "2022-06-25T03:24:05.602Z"
   },
   {
    "duration": 9,
    "start_time": "2022-06-25T03:24:05.638Z"
   },
   {
    "duration": 14,
    "start_time": "2022-06-25T03:24:05.649Z"
   },
   {
    "duration": 15,
    "start_time": "2022-06-25T03:24:05.664Z"
   },
   {
    "duration": 30,
    "start_time": "2022-06-25T03:24:05.681Z"
   },
   {
    "duration": 1148,
    "start_time": "2022-06-25T03:24:05.713Z"
   },
   {
    "duration": 8,
    "start_time": "2022-06-25T03:24:06.863Z"
   },
   {
    "duration": 1583,
    "start_time": "2022-06-25T03:24:06.873Z"
   },
   {
    "duration": 6,
    "start_time": "2022-06-25T03:24:08.458Z"
   },
   {
    "duration": 27,
    "start_time": "2022-06-25T03:24:08.466Z"
   },
   {
    "duration": 3,
    "start_time": "2022-06-25T03:24:23.505Z"
   },
   {
    "duration": 54,
    "start_time": "2022-06-25T03:24:24.167Z"
   },
   {
    "duration": 14,
    "start_time": "2022-06-25T03:24:24.801Z"
   },
   {
    "duration": 20,
    "start_time": "2022-06-25T03:24:25.818Z"
   },
   {
    "duration": 26,
    "start_time": "2022-06-25T03:24:26.751Z"
   },
   {
    "duration": 15,
    "start_time": "2022-06-25T03:24:27.735Z"
   },
   {
    "duration": 10,
    "start_time": "2022-06-25T03:24:28.567Z"
   },
   {
    "duration": 3,
    "start_time": "2022-06-25T03:24:29.983Z"
   },
   {
    "duration": 4,
    "start_time": "2022-06-25T03:24:30.601Z"
   },
   {
    "duration": 8,
    "start_time": "2022-06-25T03:24:31.819Z"
   },
   {
    "duration": 20,
    "start_time": "2022-06-25T03:24:33.003Z"
   },
   {
    "duration": 1127,
    "start_time": "2022-06-25T03:24:33.567Z"
   },
   {
    "duration": 10,
    "start_time": "2022-06-25T03:24:34.696Z"
   },
   {
    "duration": 1598,
    "start_time": "2022-06-25T03:24:35.319Z"
   },
   {
    "duration": 10,
    "start_time": "2022-06-25T03:24:36.919Z"
   },
   {
    "duration": 16,
    "start_time": "2022-06-25T03:24:37.967Z"
   },
   {
    "duration": 13,
    "start_time": "2022-06-25T03:24:49.700Z"
   },
   {
    "duration": 340,
    "start_time": "2022-06-25T18:13:38.574Z"
   },
   {
    "duration": 16,
    "start_time": "2022-06-25T18:13:53.519Z"
   },
   {
    "duration": 260,
    "start_time": "2022-06-25T18:14:01.120Z"
   },
   {
    "duration": 12,
    "start_time": "2022-06-25T18:14:48.801Z"
   },
   {
    "duration": 14,
    "start_time": "2022-06-25T18:15:01.258Z"
   },
   {
    "duration": 4,
    "start_time": "2022-06-25T18:15:42.816Z"
   },
   {
    "duration": 15,
    "start_time": "2022-06-25T18:15:59.175Z"
   },
   {
    "duration": 28,
    "start_time": "2022-06-25T18:17:15.142Z"
   },
   {
    "duration": 848,
    "start_time": "2022-06-25T18:17:42.844Z"
   },
   {
    "duration": 33,
    "start_time": "2022-06-25T18:17:52.804Z"
   },
   {
    "duration": 32,
    "start_time": "2022-06-25T18:19:36.555Z"
   },
   {
    "duration": 19,
    "start_time": "2022-06-25T18:19:50.608Z"
   },
   {
    "duration": 5,
    "start_time": "2022-06-25T18:21:05.208Z"
   },
   {
    "duration": 1148,
    "start_time": "2022-06-25T18:21:22.613Z"
   },
   {
    "duration": 57,
    "start_time": "2022-06-25T18:21:23.763Z"
   },
   {
    "duration": 16,
    "start_time": "2022-06-25T18:21:23.822Z"
   },
   {
    "duration": 29,
    "start_time": "2022-06-25T18:21:23.840Z"
   },
   {
    "duration": 30,
    "start_time": "2022-06-25T18:21:23.871Z"
   },
   {
    "duration": 35,
    "start_time": "2022-06-25T18:21:23.903Z"
   },
   {
    "duration": 11,
    "start_time": "2022-06-25T18:21:23.940Z"
   },
   {
    "duration": 6,
    "start_time": "2022-06-25T18:21:23.953Z"
   },
   {
    "duration": 11,
    "start_time": "2022-06-25T18:21:23.961Z"
   },
   {
    "duration": 13,
    "start_time": "2022-06-25T18:21:23.974Z"
   },
   {
    "duration": 38,
    "start_time": "2022-06-25T18:21:23.989Z"
   },
   {
    "duration": 1168,
    "start_time": "2022-06-25T18:21:24.029Z"
   },
   {
    "duration": 8,
    "start_time": "2022-06-25T18:21:25.199Z"
   },
   {
    "duration": 1620,
    "start_time": "2022-06-25T18:21:25.210Z"
   },
   {
    "duration": 7,
    "start_time": "2022-06-25T18:21:26.832Z"
   },
   {
    "duration": 248,
    "start_time": "2022-06-25T18:21:26.841Z"
   },
   {
    "duration": 0,
    "start_time": "2022-06-25T18:21:27.092Z"
   },
   {
    "duration": 0,
    "start_time": "2022-06-25T18:21:27.094Z"
   },
   {
    "duration": 1138,
    "start_time": "2022-06-25T18:21:57.309Z"
   },
   {
    "duration": 63,
    "start_time": "2022-06-25T18:21:59.404Z"
   },
   {
    "duration": 25,
    "start_time": "2022-06-25T18:22:01.121Z"
   },
   {
    "duration": 27,
    "start_time": "2022-06-25T18:22:02.252Z"
   },
   {
    "duration": 30,
    "start_time": "2022-06-25T18:22:03.271Z"
   },
   {
    "duration": 17,
    "start_time": "2022-06-25T18:22:04.294Z"
   },
   {
    "duration": 11,
    "start_time": "2022-06-25T18:22:05.254Z"
   },
   {
    "duration": 3,
    "start_time": "2022-06-25T18:22:07.440Z"
   },
   {
    "duration": 4,
    "start_time": "2022-06-25T18:22:08.420Z"
   },
   {
    "duration": 9,
    "start_time": "2022-06-25T18:22:10.105Z"
   },
   {
    "duration": 22,
    "start_time": "2022-06-25T18:22:11.736Z"
   },
   {
    "duration": 1111,
    "start_time": "2022-06-25T18:22:12.670Z"
   },
   {
    "duration": 8,
    "start_time": "2022-06-25T18:22:13.783Z"
   },
   {
    "duration": 1582,
    "start_time": "2022-06-25T18:22:15.937Z"
   },
   {
    "duration": 7,
    "start_time": "2022-06-25T18:22:17.521Z"
   },
   {
    "duration": 233,
    "start_time": "2022-06-25T18:22:18.831Z"
   },
   {
    "duration": 313,
    "start_time": "2022-06-25T18:22:48.974Z"
   },
   {
    "duration": 18,
    "start_time": "2022-06-25T18:23:01.104Z"
   },
   {
    "duration": 403,
    "start_time": "2022-06-25T18:24:24.811Z"
   },
   {
    "duration": 17,
    "start_time": "2022-06-25T18:26:13.371Z"
   },
   {
    "duration": 10,
    "start_time": "2022-06-25T18:32:10.604Z"
   },
   {
    "duration": 8,
    "start_time": "2022-06-25T18:32:16.007Z"
   },
   {
    "duration": 14,
    "start_time": "2022-06-25T18:32:43.652Z"
   },
   {
    "duration": 13,
    "start_time": "2022-06-25T18:32:52.299Z"
   },
   {
    "duration": 60,
    "start_time": "2022-06-25T18:33:36.421Z"
   },
   {
    "duration": 12,
    "start_time": "2022-06-25T18:34:45.645Z"
   },
   {
    "duration": 49,
    "start_time": "2022-06-25T18:35:25.546Z"
   },
   {
    "duration": 1209,
    "start_time": "2022-06-25T18:35:29.265Z"
   },
   {
    "duration": 62,
    "start_time": "2022-06-25T18:35:30.476Z"
   },
   {
    "duration": 17,
    "start_time": "2022-06-25T18:35:31.900Z"
   },
   {
    "duration": 30,
    "start_time": "2022-06-25T18:35:32.904Z"
   },
   {
    "duration": 37,
    "start_time": "2022-06-25T18:35:33.944Z"
   },
   {
    "duration": 17,
    "start_time": "2022-06-25T18:35:34.849Z"
   },
   {
    "duration": 12,
    "start_time": "2022-06-25T18:35:38.213Z"
   },
   {
    "duration": 3,
    "start_time": "2022-06-25T18:35:40.300Z"
   },
   {
    "duration": 4,
    "start_time": "2022-06-25T18:35:41.244Z"
   },
   {
    "duration": 9,
    "start_time": "2022-06-25T18:35:44.012Z"
   },
   {
    "duration": 29,
    "start_time": "2022-06-25T18:35:46.147Z"
   },
   {
    "duration": 1191,
    "start_time": "2022-06-25T18:35:47.863Z"
   },
   {
    "duration": 1268,
    "start_time": "2022-06-25T18:38:37.468Z"
   },
   {
    "duration": 1853,
    "start_time": "2022-06-25T18:38:52.647Z"
   },
   {
    "duration": 15,
    "start_time": "2022-06-25T19:38:17.652Z"
   },
   {
    "duration": 48,
    "start_time": "2022-06-25T19:38:51.096Z"
   },
   {
    "duration": 1578,
    "start_time": "2022-06-25T19:39:06.887Z"
   },
   {
    "duration": 1074,
    "start_time": "2022-06-25T19:42:38.682Z"
   },
   {
    "duration": 50,
    "start_time": "2022-06-25T19:42:39.758Z"
   },
   {
    "duration": 13,
    "start_time": "2022-06-25T19:42:39.810Z"
   },
   {
    "duration": 21,
    "start_time": "2022-06-25T19:42:39.825Z"
   },
   {
    "duration": 30,
    "start_time": "2022-06-25T19:42:39.848Z"
   },
   {
    "duration": 16,
    "start_time": "2022-06-25T19:42:39.879Z"
   },
   {
    "duration": 10,
    "start_time": "2022-06-25T19:42:39.897Z"
   },
   {
    "duration": 19,
    "start_time": "2022-06-25T19:42:39.908Z"
   },
   {
    "duration": 13,
    "start_time": "2022-06-25T19:42:39.929Z"
   },
   {
    "duration": 9,
    "start_time": "2022-06-25T19:42:39.944Z"
   },
   {
    "duration": 19,
    "start_time": "2022-06-25T19:42:39.954Z"
   },
   {
    "duration": 1763,
    "start_time": "2022-06-25T19:42:39.975Z"
   },
   {
    "duration": 1118,
    "start_time": "2022-06-25T19:42:41.740Z"
   },
   {
    "duration": 1145,
    "start_time": "2022-06-25T19:50:59.264Z"
   },
   {
    "duration": 51,
    "start_time": "2022-06-25T19:51:00.410Z"
   },
   {
    "duration": 16,
    "start_time": "2022-06-25T19:51:00.901Z"
   },
   {
    "duration": 23,
    "start_time": "2022-06-25T19:51:01.616Z"
   },
   {
    "duration": 28,
    "start_time": "2022-06-25T19:51:02.645Z"
   },
   {
    "duration": 16,
    "start_time": "2022-06-25T19:51:03.562Z"
   },
   {
    "duration": 13,
    "start_time": "2022-06-25T19:51:04.605Z"
   },
   {
    "duration": 3,
    "start_time": "2022-06-25T19:51:06.124Z"
   },
   {
    "duration": 3,
    "start_time": "2022-06-25T19:51:06.768Z"
   },
   {
    "duration": 8,
    "start_time": "2022-06-25T19:51:08.086Z"
   },
   {
    "duration": 22,
    "start_time": "2022-06-25T19:51:09.419Z"
   },
   {
    "duration": 1755,
    "start_time": "2022-06-25T19:51:10.118Z"
   },
   {
    "duration": 1170,
    "start_time": "2022-06-25T19:51:11.876Z"
   },
   {
    "duration": 1127,
    "start_time": "2022-06-25T20:20:14.322Z"
   },
   {
    "duration": 53,
    "start_time": "2022-06-25T20:20:15.451Z"
   },
   {
    "duration": 15,
    "start_time": "2022-06-25T20:20:15.506Z"
   },
   {
    "duration": 22,
    "start_time": "2022-06-25T20:20:15.522Z"
   },
   {
    "duration": 30,
    "start_time": "2022-06-25T20:20:15.546Z"
   },
   {
    "duration": 16,
    "start_time": "2022-06-25T20:20:15.578Z"
   },
   {
    "duration": 31,
    "start_time": "2022-06-25T20:20:15.596Z"
   },
   {
    "duration": 4,
    "start_time": "2022-06-25T20:20:15.629Z"
   },
   {
    "duration": 14,
    "start_time": "2022-06-25T20:20:15.634Z"
   },
   {
    "duration": 20,
    "start_time": "2022-06-25T20:20:15.650Z"
   },
   {
    "duration": 28,
    "start_time": "2022-06-25T20:20:15.672Z"
   },
   {
    "duration": 1666,
    "start_time": "2022-06-25T20:20:15.703Z"
   },
   {
    "duration": 1181,
    "start_time": "2022-06-25T20:20:17.371Z"
   },
   {
    "duration": 1677,
    "start_time": "2022-06-25T20:20:18.555Z"
   },
   {
    "duration": 14,
    "start_time": "2022-06-25T20:20:20.234Z"
   },
   {
    "duration": 1160,
    "start_time": "2022-06-25T20:21:01.504Z"
   },
   {
    "duration": 51,
    "start_time": "2022-06-25T20:21:02.666Z"
   },
   {
    "duration": 15,
    "start_time": "2022-06-25T20:21:02.718Z"
   },
   {
    "duration": 23,
    "start_time": "2022-06-25T20:21:02.735Z"
   },
   {
    "duration": 29,
    "start_time": "2022-06-25T20:21:02.759Z"
   },
   {
    "duration": 45,
    "start_time": "2022-06-25T20:21:02.789Z"
   },
   {
    "duration": 10,
    "start_time": "2022-06-25T20:21:02.837Z"
   },
   {
    "duration": 10,
    "start_time": "2022-06-25T20:21:02.849Z"
   },
   {
    "duration": 6,
    "start_time": "2022-06-25T20:21:02.860Z"
   },
   {
    "duration": 9,
    "start_time": "2022-06-25T20:21:02.868Z"
   },
   {
    "duration": 21,
    "start_time": "2022-06-25T20:21:02.879Z"
   },
   {
    "duration": 1653,
    "start_time": "2022-06-25T20:21:02.901Z"
   },
   {
    "duration": 1212,
    "start_time": "2022-06-25T20:21:04.556Z"
   },
   {
    "duration": 1638,
    "start_time": "2022-06-25T20:21:05.770Z"
   },
   {
    "duration": 22,
    "start_time": "2022-06-25T20:21:07.409Z"
   },
   {
    "duration": 228,
    "start_time": "2022-06-25T20:24:27.992Z"
   },
   {
    "duration": 114,
    "start_time": "2022-06-25T20:25:19.041Z"
   },
   {
    "duration": 1333,
    "start_time": "2022-06-25T22:57:11.895Z"
   },
   {
    "duration": 107,
    "start_time": "2022-06-25T22:57:13.230Z"
   },
   {
    "duration": 14,
    "start_time": "2022-06-25T22:57:13.338Z"
   },
   {
    "duration": 26,
    "start_time": "2022-06-25T22:57:13.354Z"
   },
   {
    "duration": 33,
    "start_time": "2022-06-25T22:57:13.381Z"
   },
   {
    "duration": 18,
    "start_time": "2022-06-25T22:57:13.416Z"
   },
   {
    "duration": 19,
    "start_time": "2022-06-25T22:57:13.557Z"
   },
   {
    "duration": 3,
    "start_time": "2022-06-25T22:57:14.124Z"
   },
   {
    "duration": 3,
    "start_time": "2022-06-25T22:57:14.333Z"
   },
   {
    "duration": 11,
    "start_time": "2022-06-25T22:57:14.759Z"
   },
   {
    "duration": 24,
    "start_time": "2022-06-25T22:57:15.253Z"
   },
   {
    "duration": 1772,
    "start_time": "2022-06-25T22:57:15.461Z"
   },
   {
    "duration": 1242,
    "start_time": "2022-06-25T22:57:17.235Z"
   },
   {
    "duration": 1667,
    "start_time": "2022-06-25T22:57:18.478Z"
   },
   {
    "duration": 128,
    "start_time": "2022-06-25T22:57:20.147Z"
   },
   {
    "duration": 119,
    "start_time": "2022-06-25T22:57:29.009Z"
   },
   {
    "duration": 1180,
    "start_time": "2022-06-25T22:57:46.128Z"
   },
   {
    "duration": 68,
    "start_time": "2022-06-25T22:57:47.311Z"
   },
   {
    "duration": 14,
    "start_time": "2022-06-25T22:57:49.084Z"
   },
   {
    "duration": 32,
    "start_time": "2022-06-25T22:57:49.908Z"
   },
   {
    "duration": 29,
    "start_time": "2022-06-25T22:57:50.425Z"
   },
   {
    "duration": 17,
    "start_time": "2022-06-25T22:57:50.896Z"
   },
   {
    "duration": 11,
    "start_time": "2022-06-25T22:57:51.294Z"
   },
   {
    "duration": 4,
    "start_time": "2022-06-25T22:57:52.027Z"
   },
   {
    "duration": 4,
    "start_time": "2022-06-25T22:57:52.443Z"
   },
   {
    "duration": 10,
    "start_time": "2022-06-25T22:57:53.104Z"
   },
   {
    "duration": 22,
    "start_time": "2022-06-25T22:57:53.892Z"
   },
   {
    "duration": 1934,
    "start_time": "2022-06-25T22:57:54.383Z"
   },
   {
    "duration": 1493,
    "start_time": "2022-06-25T22:57:56.319Z"
   },
   {
    "duration": 5,
    "start_time": "2022-06-25T22:57:57.813Z"
   },
   {
    "duration": 1240,
    "start_time": "2022-06-25T22:58:23.890Z"
   },
   {
    "duration": 14,
    "start_time": "2022-06-25T22:58:38.458Z"
   },
   {
    "duration": 13,
    "start_time": "2022-06-25T22:59:06.762Z"
   },
   {
    "duration": 129,
    "start_time": "2022-06-25T23:00:40.056Z"
   },
   {
    "duration": 12,
    "start_time": "2022-06-25T23:01:03.399Z"
   },
   {
    "duration": 12,
    "start_time": "2022-06-25T23:01:16.040Z"
   },
   {
    "duration": 8,
    "start_time": "2022-06-25T23:01:27.923Z"
   },
   {
    "duration": 11,
    "start_time": "2022-06-25T23:01:48.044Z"
   },
   {
    "duration": 17,
    "start_time": "2022-06-25T23:03:29.432Z"
   },
   {
    "duration": 4,
    "start_time": "2022-06-25T23:48:58.350Z"
   },
   {
    "duration": 9,
    "start_time": "2022-06-25T23:51:20.725Z"
   },
   {
    "duration": 15,
    "start_time": "2022-06-25T23:51:22.479Z"
   },
   {
    "duration": 1192,
    "start_time": "2022-06-25T23:51:32.390Z"
   },
   {
    "duration": 9,
    "start_time": "2022-06-25T23:51:35.793Z"
   },
   {
    "duration": 4,
    "start_time": "2022-06-25T23:51:36.846Z"
   },
   {
    "duration": 5,
    "start_time": "2022-06-25T23:51:39.025Z"
   },
   {
    "duration": 9,
    "start_time": "2022-06-25T23:53:24.288Z"
   },
   {
    "duration": 10,
    "start_time": "2022-06-25T23:54:39.156Z"
   },
   {
    "duration": 15,
    "start_time": "2022-06-25T23:55:07.740Z"
   },
   {
    "duration": 5,
    "start_time": "2022-06-26T00:55:22.045Z"
   },
   {
    "duration": 1120,
    "start_time": "2022-06-26T00:55:30.284Z"
   },
   {
    "duration": 51,
    "start_time": "2022-06-26T00:55:31.406Z"
   },
   {
    "duration": 23,
    "start_time": "2022-06-26T00:55:31.464Z"
   },
   {
    "duration": 74,
    "start_time": "2022-06-26T00:55:31.488Z"
   },
   {
    "duration": 41,
    "start_time": "2022-06-26T00:55:31.568Z"
   },
   {
    "duration": 16,
    "start_time": "2022-06-26T00:55:31.611Z"
   },
   {
    "duration": 10,
    "start_time": "2022-06-26T00:55:31.629Z"
   },
   {
    "duration": 4,
    "start_time": "2022-06-26T00:55:31.641Z"
   },
   {
    "duration": 36,
    "start_time": "2022-06-26T00:55:31.647Z"
   },
   {
    "duration": 19,
    "start_time": "2022-06-26T00:55:31.685Z"
   },
   {
    "duration": 16,
    "start_time": "2022-06-26T00:55:31.706Z"
   },
   {
    "duration": 11,
    "start_time": "2022-06-26T00:56:04.924Z"
   },
   {
    "duration": 7,
    "start_time": "2022-06-26T00:57:01.527Z"
   },
   {
    "duration": 6,
    "start_time": "2022-06-26T00:57:42.845Z"
   },
   {
    "duration": 22,
    "start_time": "2022-06-26T00:59:10.315Z"
   },
   {
    "duration": 1196,
    "start_time": "2022-06-26T01:06:04.611Z"
   },
   {
    "duration": 59,
    "start_time": "2022-06-26T01:06:05.809Z"
   },
   {
    "duration": 21,
    "start_time": "2022-06-26T01:06:05.878Z"
   },
   {
    "duration": 20,
    "start_time": "2022-06-26T01:06:05.901Z"
   },
   {
    "duration": 27,
    "start_time": "2022-06-26T01:06:05.923Z"
   },
   {
    "duration": 38,
    "start_time": "2022-06-26T01:06:05.952Z"
   },
   {
    "duration": 14,
    "start_time": "2022-06-26T01:06:05.992Z"
   },
   {
    "duration": 7,
    "start_time": "2022-06-26T01:06:06.007Z"
   },
   {
    "duration": 10,
    "start_time": "2022-06-26T01:06:06.016Z"
   },
   {
    "duration": 13,
    "start_time": "2022-06-26T01:06:06.028Z"
   },
   {
    "duration": 6,
    "start_time": "2022-06-26T01:06:06.043Z"
   },
   {
    "duration": 34,
    "start_time": "2022-06-26T01:06:06.051Z"
   },
   {
    "duration": 16,
    "start_time": "2022-06-26T01:06:06.089Z"
   },
   {
    "duration": 12,
    "start_time": "2022-06-26T01:06:06.107Z"
   },
   {
    "duration": 3,
    "start_time": "2022-06-26T01:09:50.823Z"
   },
   {
    "duration": 12,
    "start_time": "2022-06-26T01:09:54.622Z"
   },
   {
    "duration": 7,
    "start_time": "2022-06-26T01:09:55.213Z"
   },
   {
    "duration": 6,
    "start_time": "2022-06-26T01:09:55.513Z"
   },
   {
    "duration": 4,
    "start_time": "2022-06-26T01:10:43.232Z"
   },
   {
    "duration": 1125,
    "start_time": "2022-06-26T01:12:55.286Z"
   },
   {
    "duration": 57,
    "start_time": "2022-06-26T01:12:56.413Z"
   },
   {
    "duration": 23,
    "start_time": "2022-06-26T01:12:56.474Z"
   },
   {
    "duration": 22,
    "start_time": "2022-06-26T01:12:56.499Z"
   },
   {
    "duration": 32,
    "start_time": "2022-06-26T01:12:56.523Z"
   },
   {
    "duration": 27,
    "start_time": "2022-06-26T01:12:56.556Z"
   },
   {
    "duration": 15,
    "start_time": "2022-06-26T01:12:56.586Z"
   },
   {
    "duration": 3,
    "start_time": "2022-06-26T01:12:56.603Z"
   },
   {
    "duration": 7,
    "start_time": "2022-06-26T01:12:56.608Z"
   },
   {
    "duration": 10,
    "start_time": "2022-06-26T01:12:56.616Z"
   },
   {
    "duration": 8,
    "start_time": "2022-06-26T01:12:56.627Z"
   },
   {
    "duration": 136,
    "start_time": "2022-06-26T01:12:56.637Z"
   },
   {
    "duration": 0,
    "start_time": "2022-06-26T01:12:56.776Z"
   },
   {
    "duration": 0,
    "start_time": "2022-06-26T01:12:56.777Z"
   },
   {
    "duration": 0,
    "start_time": "2022-06-26T01:12:56.777Z"
   },
   {
    "duration": 12,
    "start_time": "2022-06-26T01:13:29.790Z"
   },
   {
    "duration": 24,
    "start_time": "2022-06-26T01:13:34.550Z"
   },
   {
    "duration": 23,
    "start_time": "2022-06-26T01:14:22.586Z"
   },
   {
    "duration": 12,
    "start_time": "2022-06-26T01:14:30.984Z"
   },
   {
    "duration": 16,
    "start_time": "2022-06-26T01:14:53.602Z"
   },
   {
    "duration": 4,
    "start_time": "2022-06-26T01:15:59.186Z"
   },
   {
    "duration": 14,
    "start_time": "2022-06-26T01:16:04.204Z"
   },
   {
    "duration": 4,
    "start_time": "2022-06-26T01:16:49.008Z"
   },
   {
    "duration": 11,
    "start_time": "2022-06-26T01:16:50.136Z"
   },
   {
    "duration": 1203,
    "start_time": "2022-06-26T17:28:21.100Z"
   },
   {
    "duration": 208,
    "start_time": "2022-06-26T17:28:22.305Z"
   },
   {
    "duration": 15,
    "start_time": "2022-06-26T17:28:22.514Z"
   },
   {
    "duration": 21,
    "start_time": "2022-06-26T17:28:22.531Z"
   },
   {
    "duration": 31,
    "start_time": "2022-06-26T17:28:22.554Z"
   },
   {
    "duration": 15,
    "start_time": "2022-06-26T17:28:22.586Z"
   },
   {
    "duration": 10,
    "start_time": "2022-06-26T17:28:22.602Z"
   },
   {
    "duration": 4,
    "start_time": "2022-06-26T17:28:22.614Z"
   },
   {
    "duration": 7,
    "start_time": "2022-06-26T17:28:22.619Z"
   },
   {
    "duration": 12,
    "start_time": "2022-06-26T17:28:22.627Z"
   },
   {
    "duration": 6,
    "start_time": "2022-06-26T17:28:22.640Z"
   },
   {
    "duration": 31,
    "start_time": "2022-06-26T17:28:22.647Z"
   },
   {
    "duration": 3,
    "start_time": "2022-06-26T17:28:22.680Z"
   },
   {
    "duration": 6,
    "start_time": "2022-06-26T18:33:40.164Z"
   },
   {
    "duration": 5,
    "start_time": "2022-06-26T18:33:51.445Z"
   },
   {
    "duration": 4,
    "start_time": "2022-06-26T18:34:59.230Z"
   },
   {
    "duration": 100,
    "start_time": "2022-06-26T18:36:04.364Z"
   },
   {
    "duration": 11,
    "start_time": "2022-06-26T18:37:28.817Z"
   },
   {
    "duration": 3,
    "start_time": "2022-06-26T18:54:00.665Z"
   },
   {
    "duration": 3,
    "start_time": "2022-06-26T18:54:01.690Z"
   },
   {
    "duration": 5,
    "start_time": "2022-06-26T18:54:03.789Z"
   },
   {
    "duration": 4,
    "start_time": "2022-06-26T18:54:34.807Z"
   },
   {
    "duration": 1096,
    "start_time": "2022-06-26T18:54:46.075Z"
   },
   {
    "duration": 58,
    "start_time": "2022-06-26T18:54:47.173Z"
   },
   {
    "duration": 14,
    "start_time": "2022-06-26T18:54:47.232Z"
   },
   {
    "duration": 21,
    "start_time": "2022-06-26T18:54:47.248Z"
   },
   {
    "duration": 31,
    "start_time": "2022-06-26T18:54:47.270Z"
   },
   {
    "duration": 14,
    "start_time": "2022-06-26T18:54:47.302Z"
   },
   {
    "duration": 9,
    "start_time": "2022-06-26T18:54:47.317Z"
   },
   {
    "duration": 6,
    "start_time": "2022-06-26T18:54:47.327Z"
   },
   {
    "duration": 6,
    "start_time": "2022-06-26T18:54:47.334Z"
   },
   {
    "duration": 7,
    "start_time": "2022-06-26T18:54:47.343Z"
   },
   {
    "duration": 8,
    "start_time": "2022-06-26T18:54:47.352Z"
   },
   {
    "duration": 26,
    "start_time": "2022-06-26T18:54:47.362Z"
   },
   {
    "duration": 459,
    "start_time": "2022-06-26T18:54:47.391Z"
   },
   {
    "duration": 0,
    "start_time": "2022-06-26T18:54:47.852Z"
   },
   {
    "duration": 0,
    "start_time": "2022-06-26T18:54:47.853Z"
   },
   {
    "duration": 0,
    "start_time": "2022-06-26T18:54:47.855Z"
   },
   {
    "duration": 4,
    "start_time": "2022-06-26T18:54:56.689Z"
   },
   {
    "duration": 383,
    "start_time": "2022-06-26T18:54:57.550Z"
   },
   {
    "duration": 1029,
    "start_time": "2022-06-26T18:55:10.655Z"
   },
   {
    "duration": 50,
    "start_time": "2022-06-26T18:55:11.688Z"
   },
   {
    "duration": 12,
    "start_time": "2022-06-26T18:55:11.739Z"
   },
   {
    "duration": 22,
    "start_time": "2022-06-26T18:55:11.753Z"
   },
   {
    "duration": 29,
    "start_time": "2022-06-26T18:55:11.776Z"
   },
   {
    "duration": 15,
    "start_time": "2022-06-26T18:55:11.807Z"
   },
   {
    "duration": 9,
    "start_time": "2022-06-26T18:55:11.823Z"
   },
   {
    "duration": 2,
    "start_time": "2022-06-26T18:55:11.833Z"
   },
   {
    "duration": 6,
    "start_time": "2022-06-26T18:55:11.837Z"
   },
   {
    "duration": 8,
    "start_time": "2022-06-26T18:55:11.844Z"
   },
   {
    "duration": 8,
    "start_time": "2022-06-26T18:55:11.887Z"
   },
   {
    "duration": 4,
    "start_time": "2022-06-26T18:55:11.896Z"
   },
   {
    "duration": 6,
    "start_time": "2022-06-26T18:55:11.902Z"
   },
   {
    "duration": 5,
    "start_time": "2022-06-26T18:55:11.910Z"
   },
   {
    "duration": 8,
    "start_time": "2022-06-26T18:55:11.917Z"
   },
   {
    "duration": 103,
    "start_time": "2022-06-26T18:55:11.927Z"
   },
   {
    "duration": 109,
    "start_time": "2022-06-26T19:04:41.893Z"
   },
   {
    "duration": 9,
    "start_time": "2022-06-26T19:04:55.949Z"
   },
   {
    "duration": 4,
    "start_time": "2022-06-26T19:05:24.097Z"
   },
   {
    "duration": 1095,
    "start_time": "2022-06-26T19:05:39.799Z"
   },
   {
    "duration": 51,
    "start_time": "2022-06-26T19:05:40.896Z"
   },
   {
    "duration": 13,
    "start_time": "2022-06-26T19:05:40.948Z"
   },
   {
    "duration": 26,
    "start_time": "2022-06-26T19:05:40.963Z"
   },
   {
    "duration": 27,
    "start_time": "2022-06-26T19:05:40.991Z"
   },
   {
    "duration": 15,
    "start_time": "2022-06-26T19:05:41.020Z"
   },
   {
    "duration": 10,
    "start_time": "2022-06-26T19:05:41.036Z"
   },
   {
    "duration": 3,
    "start_time": "2022-06-26T19:05:41.048Z"
   },
   {
    "duration": 7,
    "start_time": "2022-06-26T19:05:41.052Z"
   },
   {
    "duration": 29,
    "start_time": "2022-06-26T19:05:41.060Z"
   },
   {
    "duration": 6,
    "start_time": "2022-06-26T19:05:41.091Z"
   },
   {
    "duration": 5,
    "start_time": "2022-06-26T19:05:41.099Z"
   },
   {
    "duration": 5,
    "start_time": "2022-06-26T19:05:41.105Z"
   },
   {
    "duration": 5,
    "start_time": "2022-06-26T19:05:41.112Z"
   },
   {
    "duration": 7,
    "start_time": "2022-06-26T19:05:41.119Z"
   },
   {
    "duration": 9,
    "start_time": "2022-06-26T19:05:41.127Z"
   },
   {
    "duration": 4,
    "start_time": "2022-06-26T19:05:59.201Z"
   },
   {
    "duration": 4,
    "start_time": "2022-06-26T19:06:10.057Z"
   },
   {
    "duration": 4,
    "start_time": "2022-06-26T19:06:42.515Z"
   },
   {
    "duration": 4,
    "start_time": "2022-06-26T19:06:45.946Z"
   },
   {
    "duration": 435,
    "start_time": "2022-06-26T19:07:13.278Z"
   },
   {
    "duration": 443,
    "start_time": "2022-06-26T19:07:23.890Z"
   },
   {
    "duration": 4,
    "start_time": "2022-06-26T19:07:40.188Z"
   },
   {
    "duration": 4,
    "start_time": "2022-06-26T19:07:41.803Z"
   },
   {
    "duration": 15,
    "start_time": "2022-06-26T19:07:51.189Z"
   },
   {
    "duration": 8,
    "start_time": "2022-06-26T19:08:35.396Z"
   },
   {
    "duration": 1295,
    "start_time": "2022-06-26T22:02:20.848Z"
   },
   {
    "duration": 190,
    "start_time": "2022-06-26T22:02:22.145Z"
   },
   {
    "duration": 16,
    "start_time": "2022-06-26T22:02:22.336Z"
   },
   {
    "duration": 22,
    "start_time": "2022-06-26T22:02:22.353Z"
   },
   {
    "duration": 27,
    "start_time": "2022-06-26T22:02:22.377Z"
   },
   {
    "duration": 32,
    "start_time": "2022-06-26T22:02:22.406Z"
   },
   {
    "duration": 10,
    "start_time": "2022-06-26T22:02:22.440Z"
   },
   {
    "duration": 4,
    "start_time": "2022-06-26T22:02:22.452Z"
   },
   {
    "duration": 10,
    "start_time": "2022-06-26T22:02:22.458Z"
   },
   {
    "duration": 18,
    "start_time": "2022-06-26T22:02:22.470Z"
   },
   {
    "duration": 7,
    "start_time": "2022-06-26T22:02:22.489Z"
   },
   {
    "duration": 5,
    "start_time": "2022-06-26T22:02:22.498Z"
   },
   {
    "duration": 4,
    "start_time": "2022-06-26T22:02:22.526Z"
   },
   {
    "duration": 11,
    "start_time": "2022-06-26T22:02:22.532Z"
   },
   {
    "duration": 12,
    "start_time": "2022-06-26T22:02:22.545Z"
   },
   {
    "duration": 6,
    "start_time": "2022-06-26T22:02:22.559Z"
   },
   {
    "duration": 11,
    "start_time": "2022-06-26T22:02:22.566Z"
   },
   {
    "duration": 1272,
    "start_time": "2022-06-27T00:32:19.353Z"
   },
   {
    "duration": 67,
    "start_time": "2022-06-27T00:32:20.627Z"
   },
   {
    "duration": 23,
    "start_time": "2022-06-27T00:32:20.696Z"
   },
   {
    "duration": 20,
    "start_time": "2022-06-27T00:32:20.721Z"
   },
   {
    "duration": 36,
    "start_time": "2022-06-27T00:32:20.743Z"
   },
   {
    "duration": 18,
    "start_time": "2022-06-27T00:32:20.781Z"
   },
   {
    "duration": 12,
    "start_time": "2022-06-27T00:32:20.801Z"
   },
   {
    "duration": 8,
    "start_time": "2022-06-27T00:32:20.814Z"
   },
   {
    "duration": 33,
    "start_time": "2022-06-27T00:32:20.823Z"
   },
   {
    "duration": 9,
    "start_time": "2022-06-27T00:32:20.859Z"
   },
   {
    "duration": 8,
    "start_time": "2022-06-27T00:32:20.869Z"
   },
   {
    "duration": 1138,
    "start_time": "2022-06-27T01:51:06.555Z"
   },
   {
    "duration": 66,
    "start_time": "2022-06-27T01:51:07.694Z"
   },
   {
    "duration": 13,
    "start_time": "2022-06-27T01:51:07.761Z"
   },
   {
    "duration": 17,
    "start_time": "2022-06-27T01:51:07.776Z"
   },
   {
    "duration": 26,
    "start_time": "2022-06-27T01:51:07.795Z"
   },
   {
    "duration": 13,
    "start_time": "2022-06-27T01:51:07.822Z"
   },
   {
    "duration": 22,
    "start_time": "2022-06-27T01:51:07.836Z"
   },
   {
    "duration": 3,
    "start_time": "2022-06-27T01:51:07.859Z"
   },
   {
    "duration": 7,
    "start_time": "2022-06-27T01:51:07.863Z"
   },
   {
    "duration": 43,
    "start_time": "2022-06-27T01:51:07.871Z"
   },
   {
    "duration": 0,
    "start_time": "2022-06-27T01:51:07.916Z"
   },
   {
    "duration": 0,
    "start_time": "2022-06-27T01:51:07.917Z"
   },
   {
    "duration": 6,
    "start_time": "2022-06-27T01:51:22.827Z"
   },
   {
    "duration": 12,
    "start_time": "2022-06-27T01:51:37.977Z"
   },
   {
    "duration": 12,
    "start_time": "2022-06-27T01:51:45.444Z"
   },
   {
    "duration": 13,
    "start_time": "2022-06-27T01:51:57.210Z"
   },
   {
    "duration": 7,
    "start_time": "2022-06-27T01:58:57.542Z"
   },
   {
    "duration": 4,
    "start_time": "2022-06-27T01:58:58.394Z"
   },
   {
    "duration": 70,
    "start_time": "2022-06-27T02:00:10.654Z"
   },
   {
    "duration": 4,
    "start_time": "2022-06-27T02:00:18.552Z"
   },
   {
    "duration": 2273,
    "start_time": "2022-06-27T02:00:37.588Z"
   },
   {
    "duration": 6,
    "start_time": "2022-06-27T02:00:39.864Z"
   },
   {
    "duration": 4,
    "start_time": "2022-06-27T02:01:28.002Z"
   },
   {
    "duration": 2815,
    "start_time": "2022-06-27T02:02:16.096Z"
   },
   {
    "duration": 4,
    "start_time": "2022-06-27T02:02:19.182Z"
   },
   {
    "duration": 5,
    "start_time": "2022-06-27T02:02:25.550Z"
   },
   {
    "duration": 1001,
    "start_time": "2022-06-27T02:02:40.829Z"
   },
   {
    "duration": 40,
    "start_time": "2022-06-27T02:02:41.832Z"
   },
   {
    "duration": 12,
    "start_time": "2022-06-27T02:02:41.874Z"
   },
   {
    "duration": 18,
    "start_time": "2022-06-27T02:02:41.887Z"
   },
   {
    "duration": 24,
    "start_time": "2022-06-27T02:02:41.907Z"
   },
   {
    "duration": 33,
    "start_time": "2022-06-27T02:02:41.932Z"
   },
   {
    "duration": 11,
    "start_time": "2022-06-27T02:02:41.967Z"
   },
   {
    "duration": 3,
    "start_time": "2022-06-27T02:02:41.979Z"
   },
   {
    "duration": 7,
    "start_time": "2022-06-27T02:02:41.983Z"
   },
   {
    "duration": 13,
    "start_time": "2022-06-27T02:02:41.991Z"
   },
   {
    "duration": 12,
    "start_time": "2022-06-27T02:02:42.005Z"
   },
   {
    "duration": 7,
    "start_time": "2022-06-27T02:02:42.019Z"
   },
   {
    "duration": 34,
    "start_time": "2022-06-27T02:02:42.027Z"
   },
   {
    "duration": 3178,
    "start_time": "2022-06-27T02:02:42.063Z"
   },
   {
    "duration": 20,
    "start_time": "2022-06-27T02:02:45.242Z"
   },
   {
    "duration": 99,
    "start_time": "2022-06-27T02:02:45.263Z"
   },
   {
    "duration": 65,
    "start_time": "2022-06-27T02:03:04.229Z"
   },
   {
    "duration": 6,
    "start_time": "2022-06-27T02:03:05.354Z"
   },
   {
    "duration": 4,
    "start_time": "2022-06-27T02:03:06.686Z"
   },
   {
    "duration": 1942,
    "start_time": "2022-06-27T02:03:23.637Z"
   },
   {
    "duration": 2715,
    "start_time": "2022-06-27T02:03:50.154Z"
   },
   {
    "duration": 4,
    "start_time": "2022-06-27T02:03:52.871Z"
   },
   {
    "duration": 2804,
    "start_time": "2022-06-27T02:04:02.123Z"
   },
   {
    "duration": 4,
    "start_time": "2022-06-27T02:04:04.928Z"
   },
   {
    "duration": 3,
    "start_time": "2022-06-27T02:04:07.735Z"
   },
   {
    "duration": 15,
    "start_time": "2022-06-27T02:04:28.253Z"
   },
   {
    "duration": 1113,
    "start_time": "2022-06-27T02:05:11.560Z"
   },
   {
    "duration": 40,
    "start_time": "2022-06-27T02:05:12.675Z"
   },
   {
    "duration": 14,
    "start_time": "2022-06-27T02:05:12.717Z"
   },
   {
    "duration": 22,
    "start_time": "2022-06-27T02:05:12.733Z"
   },
   {
    "duration": 27,
    "start_time": "2022-06-27T02:05:12.756Z"
   },
   {
    "duration": 16,
    "start_time": "2022-06-27T02:05:12.784Z"
   },
   {
    "duration": 9,
    "start_time": "2022-06-27T02:05:12.802Z"
   },
   {
    "duration": 3,
    "start_time": "2022-06-27T02:05:12.812Z"
   },
   {
    "duration": 8,
    "start_time": "2022-06-27T02:05:12.816Z"
   },
   {
    "duration": 37,
    "start_time": "2022-06-27T02:05:12.826Z"
   },
   {
    "duration": 15,
    "start_time": "2022-06-27T02:05:12.864Z"
   },
   {
    "duration": 8,
    "start_time": "2022-06-27T02:05:12.881Z"
   },
   {
    "duration": 5,
    "start_time": "2022-06-27T02:05:12.891Z"
   },
   {
    "duration": 3720,
    "start_time": "2022-06-27T02:05:12.898Z"
   },
   {
    "duration": 5,
    "start_time": "2022-06-27T02:05:16.619Z"
   },
   {
    "duration": 107,
    "start_time": "2022-06-27T02:05:16.625Z"
   },
   {
    "duration": 0,
    "start_time": "2022-06-27T02:05:16.734Z"
   },
   {
    "duration": 81,
    "start_time": "2022-06-27T02:05:39.204Z"
   },
   {
    "duration": 4,
    "start_time": "2022-06-27T02:05:50.138Z"
   },
   {
    "duration": 12,
    "start_time": "2022-06-27T02:06:51.962Z"
   },
   {
    "duration": 13,
    "start_time": "2022-06-27T02:07:46.241Z"
   },
   {
    "duration": 5,
    "start_time": "2022-06-27T02:12:14.446Z"
   },
   {
    "duration": 4,
    "start_time": "2022-06-27T02:12:52.717Z"
   },
   {
    "duration": 1052,
    "start_time": "2022-06-27T02:13:01.780Z"
   },
   {
    "duration": 36,
    "start_time": "2022-06-27T02:13:02.834Z"
   },
   {
    "duration": 12,
    "start_time": "2022-06-27T02:13:02.872Z"
   },
   {
    "duration": 29,
    "start_time": "2022-06-27T02:13:02.885Z"
   },
   {
    "duration": 26,
    "start_time": "2022-06-27T02:13:02.916Z"
   },
   {
    "duration": 17,
    "start_time": "2022-06-27T02:13:02.944Z"
   },
   {
    "duration": 9,
    "start_time": "2022-06-27T02:13:02.962Z"
   },
   {
    "duration": 3,
    "start_time": "2022-06-27T02:13:02.972Z"
   },
   {
    "duration": 6,
    "start_time": "2022-06-27T02:13:02.976Z"
   },
   {
    "duration": 14,
    "start_time": "2022-06-27T02:13:02.983Z"
   },
   {
    "duration": 13,
    "start_time": "2022-06-27T02:13:02.999Z"
   },
   {
    "duration": 38,
    "start_time": "2022-06-27T02:13:03.013Z"
   },
   {
    "duration": 4,
    "start_time": "2022-06-27T02:13:03.053Z"
   },
   {
    "duration": 72,
    "start_time": "2022-06-27T02:13:03.059Z"
   },
   {
    "duration": 17,
    "start_time": "2022-06-27T02:13:03.133Z"
   },
   {
    "duration": 15,
    "start_time": "2022-06-27T02:13:03.152Z"
   },
   {
    "duration": 3,
    "start_time": "2022-06-27T02:13:03.169Z"
   },
   {
    "duration": 1336,
    "start_time": "2022-06-27T19:45:59.020Z"
   },
   {
    "duration": 72,
    "start_time": "2022-06-27T19:46:00.358Z"
   },
   {
    "duration": 23,
    "start_time": "2022-06-27T19:46:00.432Z"
   },
   {
    "duration": 36,
    "start_time": "2022-06-27T19:46:00.456Z"
   },
   {
    "duration": 69,
    "start_time": "2022-06-27T19:46:00.494Z"
   },
   {
    "duration": 51,
    "start_time": "2022-06-27T19:46:00.565Z"
   },
   {
    "duration": 14,
    "start_time": "2022-06-27T19:46:00.618Z"
   },
   {
    "duration": 12,
    "start_time": "2022-06-27T19:46:00.634Z"
   },
   {
    "duration": 13,
    "start_time": "2022-06-27T19:46:00.648Z"
   },
   {
    "duration": 34,
    "start_time": "2022-06-27T19:46:00.663Z"
   },
   {
    "duration": 14,
    "start_time": "2022-06-27T19:46:00.699Z"
   },
   {
    "duration": 11,
    "start_time": "2022-06-27T19:46:00.715Z"
   },
   {
    "duration": 6,
    "start_time": "2022-06-27T19:46:00.728Z"
   },
   {
    "duration": 80,
    "start_time": "2022-06-27T19:46:00.737Z"
   },
   {
    "duration": 8,
    "start_time": "2022-06-27T19:46:00.818Z"
   },
   {
    "duration": 29,
    "start_time": "2022-06-27T19:46:00.827Z"
   },
   {
    "duration": 19,
    "start_time": "2022-06-27T19:57:40.723Z"
   },
   {
    "duration": 1161,
    "start_time": "2022-06-27T20:54:28.196Z"
   },
   {
    "duration": 42,
    "start_time": "2022-06-27T20:54:29.359Z"
   },
   {
    "duration": 15,
    "start_time": "2022-06-27T20:54:29.403Z"
   },
   {
    "duration": 24,
    "start_time": "2022-06-27T20:54:29.420Z"
   },
   {
    "duration": 30,
    "start_time": "2022-06-27T20:54:29.447Z"
   },
   {
    "duration": 48,
    "start_time": "2022-06-27T20:54:29.479Z"
   },
   {
    "duration": 12,
    "start_time": "2022-06-27T20:54:29.529Z"
   },
   {
    "duration": 18,
    "start_time": "2022-06-27T20:54:29.543Z"
   },
   {
    "duration": 10,
    "start_time": "2022-06-27T20:54:29.563Z"
   },
   {
    "duration": 22,
    "start_time": "2022-06-27T20:54:29.575Z"
   },
   {
    "duration": 28,
    "start_time": "2022-06-27T20:54:29.599Z"
   },
   {
    "duration": 8,
    "start_time": "2022-06-27T20:54:29.629Z"
   },
   {
    "duration": 9,
    "start_time": "2022-06-27T20:54:29.638Z"
   },
   {
    "duration": 89,
    "start_time": "2022-06-27T20:54:29.650Z"
   },
   {
    "duration": 4,
    "start_time": "2022-06-27T20:54:29.741Z"
   },
   {
    "duration": 17,
    "start_time": "2022-06-27T20:54:29.746Z"
   },
   {
    "duration": 20,
    "start_time": "2022-06-27T20:54:29.764Z"
   },
   {
    "duration": 6,
    "start_time": "2022-06-27T20:57:02.917Z"
   },
   {
    "duration": 1080,
    "start_time": "2022-06-27T20:57:19.858Z"
   },
   {
    "duration": 41,
    "start_time": "2022-06-27T20:57:20.940Z"
   },
   {
    "duration": 15,
    "start_time": "2022-06-27T20:57:20.982Z"
   },
   {
    "duration": 20,
    "start_time": "2022-06-27T20:57:20.999Z"
   },
   {
    "duration": 28,
    "start_time": "2022-06-27T20:57:21.026Z"
   },
   {
    "duration": 14,
    "start_time": "2022-06-27T20:57:21.056Z"
   },
   {
    "duration": 10,
    "start_time": "2022-06-27T20:57:21.071Z"
   },
   {
    "duration": 6,
    "start_time": "2022-06-27T20:57:21.083Z"
   },
   {
    "duration": 19,
    "start_time": "2022-06-27T20:57:21.090Z"
   },
   {
    "duration": 15,
    "start_time": "2022-06-27T20:57:21.126Z"
   },
   {
    "duration": 24,
    "start_time": "2022-06-27T20:57:21.142Z"
   },
   {
    "duration": 12,
    "start_time": "2022-06-27T20:57:21.168Z"
   },
   {
    "duration": 6,
    "start_time": "2022-06-27T20:57:21.182Z"
   },
   {
    "duration": 107,
    "start_time": "2022-06-27T20:57:21.190Z"
   },
   {
    "duration": 4,
    "start_time": "2022-06-27T20:57:21.299Z"
   },
   {
    "duration": 29,
    "start_time": "2022-06-27T20:57:21.304Z"
   },
   {
    "duration": 4,
    "start_time": "2022-06-27T20:57:21.335Z"
   },
   {
    "duration": 7,
    "start_time": "2022-06-27T20:58:01.501Z"
   },
   {
    "duration": 5,
    "start_time": "2022-06-27T20:58:12.888Z"
   },
   {
    "duration": 1148,
    "start_time": "2022-06-27T20:59:51.903Z"
   },
   {
    "duration": 41,
    "start_time": "2022-06-27T20:59:53.052Z"
   },
   {
    "duration": 19,
    "start_time": "2022-06-27T20:59:53.875Z"
   },
   {
    "duration": 22,
    "start_time": "2022-06-27T20:59:54.844Z"
   },
   {
    "duration": 29,
    "start_time": "2022-06-27T20:59:55.657Z"
   },
   {
    "duration": 18,
    "start_time": "2022-06-27T20:59:56.179Z"
   },
   {
    "duration": 12,
    "start_time": "2022-06-27T20:59:56.631Z"
   },
   {
    "duration": 3,
    "start_time": "2022-06-27T20:59:57.889Z"
   },
   {
    "duration": 3,
    "start_time": "2022-06-27T20:59:58.255Z"
   },
   {
    "duration": 14,
    "start_time": "2022-06-27T20:59:59.009Z"
   },
   {
    "duration": 14,
    "start_time": "2022-06-27T20:59:59.423Z"
   },
   {
    "duration": 9,
    "start_time": "2022-06-27T21:00:00.234Z"
   },
   {
    "duration": 5,
    "start_time": "2022-06-27T21:00:00.632Z"
   },
   {
    "duration": 83,
    "start_time": "2022-06-27T21:00:01.418Z"
   },
   {
    "duration": 5,
    "start_time": "2022-06-27T21:00:01.905Z"
   },
   {
    "duration": 14,
    "start_time": "2022-06-27T21:00:03.586Z"
   },
   {
    "duration": 6,
    "start_time": "2022-06-27T21:00:04.129Z"
   },
   {
    "duration": 306,
    "start_time": "2022-06-27T21:16:08.138Z"
   },
   {
    "duration": 44,
    "start_time": "2022-06-27T21:17:19.088Z"
   },
   {
    "duration": 586,
    "start_time": "2022-06-27T21:17:28.942Z"
   },
   {
    "duration": 6,
    "start_time": "2022-06-27T21:37:07.786Z"
   },
   {
    "duration": 9,
    "start_time": "2022-06-27T21:54:15.278Z"
   },
   {
    "duration": 8,
    "start_time": "2022-06-27T21:54:31.323Z"
   },
   {
    "duration": 6,
    "start_time": "2022-06-27T21:54:42.006Z"
   },
   {
    "duration": 1127,
    "start_time": "2022-06-27T21:54:54.782Z"
   },
   {
    "duration": 44,
    "start_time": "2022-06-27T21:54:55.911Z"
   },
   {
    "duration": 16,
    "start_time": "2022-06-27T21:54:55.956Z"
   },
   {
    "duration": 30,
    "start_time": "2022-06-27T21:54:55.974Z"
   },
   {
    "duration": 38,
    "start_time": "2022-06-27T21:54:56.006Z"
   },
   {
    "duration": 18,
    "start_time": "2022-06-27T21:54:56.045Z"
   },
   {
    "duration": 12,
    "start_time": "2022-06-27T21:54:56.065Z"
   },
   {
    "duration": 4,
    "start_time": "2022-06-27T21:54:56.078Z"
   },
   {
    "duration": 7,
    "start_time": "2022-06-27T21:54:56.084Z"
   },
   {
    "duration": 45,
    "start_time": "2022-06-27T21:54:56.092Z"
   },
   {
    "duration": 14,
    "start_time": "2022-06-27T21:54:56.139Z"
   },
   {
    "duration": 10,
    "start_time": "2022-06-27T21:54:56.154Z"
   },
   {
    "duration": 5,
    "start_time": "2022-06-27T21:54:56.166Z"
   },
   {
    "duration": 106,
    "start_time": "2022-06-27T21:54:56.174Z"
   },
   {
    "duration": 4,
    "start_time": "2022-06-27T21:54:56.282Z"
   },
   {
    "duration": 39,
    "start_time": "2022-06-27T21:54:56.287Z"
   },
   {
    "duration": 5,
    "start_time": "2022-06-27T21:54:56.328Z"
   },
   {
    "duration": 12,
    "start_time": "2022-06-27T21:54:56.334Z"
   },
   {
    "duration": 6,
    "start_time": "2022-06-27T21:54:56.348Z"
   },
   {
    "duration": 13,
    "start_time": "2022-06-27T21:54:56.356Z"
   },
   {
    "duration": 9,
    "start_time": "2022-06-27T21:55:55.766Z"
   },
   {
    "duration": 6,
    "start_time": "2022-06-27T21:55:57.173Z"
   },
   {
    "duration": 7,
    "start_time": "2022-06-27T21:57:52.665Z"
   },
   {
    "duration": 15,
    "start_time": "2022-06-27T21:58:41.064Z"
   },
   {
    "duration": 12,
    "start_time": "2022-06-27T21:59:09.383Z"
   },
   {
    "duration": 1111,
    "start_time": "2022-06-27T21:59:35.566Z"
   },
   {
    "duration": 45,
    "start_time": "2022-06-27T21:59:36.679Z"
   },
   {
    "duration": 22,
    "start_time": "2022-06-27T21:59:38.208Z"
   },
   {
    "duration": 20,
    "start_time": "2022-06-27T21:59:39.360Z"
   },
   {
    "duration": 28,
    "start_time": "2022-06-27T21:59:39.918Z"
   },
   {
    "duration": 18,
    "start_time": "2022-06-27T21:59:40.475Z"
   },
   {
    "duration": 12,
    "start_time": "2022-06-27T21:59:40.947Z"
   },
   {
    "duration": 4,
    "start_time": "2022-06-27T21:59:42.662Z"
   },
   {
    "duration": 3,
    "start_time": "2022-06-27T21:59:43.156Z"
   },
   {
    "duration": 15,
    "start_time": "2022-06-27T21:59:44.294Z"
   },
   {
    "duration": 13,
    "start_time": "2022-06-27T21:59:44.850Z"
   },
   {
    "duration": 19,
    "start_time": "2022-06-27T21:59:46.426Z"
   },
   {
    "duration": 5,
    "start_time": "2022-06-27T21:59:46.920Z"
   },
   {
    "duration": 72,
    "start_time": "2022-06-27T21:59:48.653Z"
   },
   {
    "duration": 5,
    "start_time": "2022-06-27T21:59:49.320Z"
   },
   {
    "duration": 15,
    "start_time": "2022-06-27T21:59:50.464Z"
   },
   {
    "duration": 5,
    "start_time": "2022-06-27T21:59:51.017Z"
   },
   {
    "duration": 8,
    "start_time": "2022-06-27T21:59:53.976Z"
   },
   {
    "duration": 6,
    "start_time": "2022-06-27T21:59:55.025Z"
   },
   {
    "duration": 11,
    "start_time": "2022-06-27T21:59:58.463Z"
   },
   {
    "duration": 17,
    "start_time": "2022-06-27T22:00:08.446Z"
   },
   {
    "duration": 5,
    "start_time": "2022-06-27T22:00:21.714Z"
   },
   {
    "duration": 16,
    "start_time": "2022-06-27T22:00:22.594Z"
   },
   {
    "duration": 1112,
    "start_time": "2022-06-27T22:00:30.840Z"
   },
   {
    "duration": 44,
    "start_time": "2022-06-27T22:00:31.954Z"
   },
   {
    "duration": 15,
    "start_time": "2022-06-27T22:00:32.000Z"
   },
   {
    "duration": 39,
    "start_time": "2022-06-27T22:00:32.017Z"
   },
   {
    "duration": 28,
    "start_time": "2022-06-27T22:00:32.058Z"
   },
   {
    "duration": 16,
    "start_time": "2022-06-27T22:00:32.087Z"
   },
   {
    "duration": 11,
    "start_time": "2022-06-27T22:00:32.104Z"
   },
   {
    "duration": 14,
    "start_time": "2022-06-27T22:00:32.117Z"
   },
   {
    "duration": 16,
    "start_time": "2022-06-27T22:00:32.132Z"
   },
   {
    "duration": 25,
    "start_time": "2022-06-27T22:00:32.150Z"
   },
   {
    "duration": 13,
    "start_time": "2022-06-27T22:00:32.177Z"
   },
   {
    "duration": 8,
    "start_time": "2022-06-27T22:00:32.192Z"
   },
   {
    "duration": 6,
    "start_time": "2022-06-27T22:00:32.202Z"
   },
   {
    "duration": 91,
    "start_time": "2022-06-27T22:00:32.211Z"
   },
   {
    "duration": 5,
    "start_time": "2022-06-27T22:00:32.304Z"
   },
   {
    "duration": 26,
    "start_time": "2022-06-27T22:00:32.310Z"
   },
   {
    "duration": 5,
    "start_time": "2022-06-27T22:00:32.338Z"
   },
   {
    "duration": 10,
    "start_time": "2022-06-27T22:00:32.345Z"
   },
   {
    "duration": 14,
    "start_time": "2022-06-27T22:00:32.357Z"
   },
   {
    "duration": 4,
    "start_time": "2022-06-27T22:00:32.373Z"
   },
   {
    "duration": 51,
    "start_time": "2022-06-27T22:02:45.567Z"
   },
   {
    "duration": 8,
    "start_time": "2022-06-27T22:03:05.883Z"
   },
   {
    "duration": 5,
    "start_time": "2022-06-27T22:03:07.983Z"
   },
   {
    "duration": 15,
    "start_time": "2022-06-27T22:03:09.157Z"
   },
   {
    "duration": 15,
    "start_time": "2022-06-27T22:04:35.060Z"
   },
   {
    "duration": 93,
    "start_time": "2022-06-27T22:07:24.629Z"
   },
   {
    "duration": 56,
    "start_time": "2022-06-27T22:08:26.008Z"
   },
   {
    "duration": 17,
    "start_time": "2022-06-27T22:09:49.276Z"
   },
   {
    "duration": 35,
    "start_time": "2022-06-27T22:48:36.921Z"
   },
   {
    "duration": 14,
    "start_time": "2022-06-27T22:48:45.061Z"
   },
   {
    "duration": 38,
    "start_time": "2022-06-27T22:49:52.662Z"
   },
   {
    "duration": 14,
    "start_time": "2022-06-27T22:49:55.485Z"
   },
   {
    "duration": 26,
    "start_time": "2022-06-27T22:50:01.694Z"
   },
   {
    "duration": 12,
    "start_time": "2022-06-27T22:50:03.022Z"
   },
   {
    "duration": 1119,
    "start_time": "2022-06-27T22:50:16.818Z"
   },
   {
    "duration": 41,
    "start_time": "2022-06-27T22:50:17.939Z"
   },
   {
    "duration": 13,
    "start_time": "2022-06-27T22:50:17.982Z"
   },
   {
    "duration": 22,
    "start_time": "2022-06-27T22:50:17.997Z"
   },
   {
    "duration": 29,
    "start_time": "2022-06-27T22:50:18.020Z"
   },
   {
    "duration": 15,
    "start_time": "2022-06-27T22:50:18.051Z"
   },
   {
    "duration": 9,
    "start_time": "2022-06-27T22:50:18.067Z"
   },
   {
    "duration": 2,
    "start_time": "2022-06-27T22:50:18.078Z"
   },
   {
    "duration": 9,
    "start_time": "2022-06-27T22:50:18.082Z"
   },
   {
    "duration": 36,
    "start_time": "2022-06-27T22:50:18.093Z"
   },
   {
    "duration": 14,
    "start_time": "2022-06-27T22:50:18.131Z"
   },
   {
    "duration": 12,
    "start_time": "2022-06-27T22:50:18.146Z"
   },
   {
    "duration": 7,
    "start_time": "2022-06-27T22:50:18.159Z"
   },
   {
    "duration": 78,
    "start_time": "2022-06-27T22:50:18.167Z"
   },
   {
    "duration": 3,
    "start_time": "2022-06-27T22:50:18.246Z"
   },
   {
    "duration": 15,
    "start_time": "2022-06-27T22:50:18.251Z"
   },
   {
    "duration": 5,
    "start_time": "2022-06-27T22:50:18.267Z"
   },
   {
    "duration": 14,
    "start_time": "2022-06-27T22:50:18.273Z"
   },
   {
    "duration": 13,
    "start_time": "2022-06-27T22:50:18.289Z"
   },
   {
    "duration": 24,
    "start_time": "2022-06-27T22:50:18.303Z"
   },
   {
    "duration": 4,
    "start_time": "2022-06-27T22:50:18.329Z"
   },
   {
    "duration": 26,
    "start_time": "2022-06-27T22:50:18.334Z"
   },
   {
    "duration": 27,
    "start_time": "2022-06-27T22:50:18.361Z"
   },
   {
    "duration": 11,
    "start_time": "2022-06-27T22:50:18.390Z"
   },
   {
    "duration": 56,
    "start_time": "2022-06-27T22:52:55.921Z"
   },
   {
    "duration": 93,
    "start_time": "2022-06-27T22:53:09.864Z"
   },
   {
    "duration": 14,
    "start_time": "2022-06-27T22:53:17.500Z"
   },
   {
    "duration": 1157,
    "start_time": "2022-06-27T22:53:35.905Z"
   },
   {
    "duration": 44,
    "start_time": "2022-06-27T22:53:37.064Z"
   },
   {
    "duration": 17,
    "start_time": "2022-06-27T22:53:37.109Z"
   },
   {
    "duration": 24,
    "start_time": "2022-06-27T22:53:37.128Z"
   },
   {
    "duration": 29,
    "start_time": "2022-06-27T22:53:37.155Z"
   },
   {
    "duration": 18,
    "start_time": "2022-06-27T22:53:37.186Z"
   },
   {
    "duration": 13,
    "start_time": "2022-06-27T22:53:37.226Z"
   },
   {
    "duration": 4,
    "start_time": "2022-06-27T22:53:37.240Z"
   },
   {
    "duration": 8,
    "start_time": "2022-06-27T22:53:37.246Z"
   },
   {
    "duration": 19,
    "start_time": "2022-06-27T22:53:37.256Z"
   },
   {
    "duration": 17,
    "start_time": "2022-06-27T22:53:37.277Z"
   },
   {
    "duration": 31,
    "start_time": "2022-06-27T22:53:37.295Z"
   },
   {
    "duration": 7,
    "start_time": "2022-06-27T22:53:37.328Z"
   },
   {
    "duration": 91,
    "start_time": "2022-06-27T22:53:37.338Z"
   },
   {
    "duration": 4,
    "start_time": "2022-06-27T22:53:37.431Z"
   },
   {
    "duration": 22,
    "start_time": "2022-06-27T22:53:37.437Z"
   },
   {
    "duration": 5,
    "start_time": "2022-06-27T22:53:37.461Z"
   },
   {
    "duration": 10,
    "start_time": "2022-06-27T22:53:37.467Z"
   },
   {
    "duration": 11,
    "start_time": "2022-06-27T22:53:37.479Z"
   },
   {
    "duration": 9,
    "start_time": "2022-06-27T22:53:37.492Z"
   },
   {
    "duration": 34,
    "start_time": "2022-06-27T22:53:37.502Z"
   },
   {
    "duration": 34,
    "start_time": "2022-06-27T22:53:37.537Z"
   },
   {
    "duration": 13,
    "start_time": "2022-06-27T22:53:37.573Z"
   },
   {
    "duration": 1125,
    "start_time": "2022-06-27T22:58:17.412Z"
   },
   {
    "duration": 41,
    "start_time": "2022-06-27T22:58:18.539Z"
   },
   {
    "duration": 14,
    "start_time": "2022-06-27T22:58:18.581Z"
   },
   {
    "duration": 27,
    "start_time": "2022-06-27T22:58:18.596Z"
   },
   {
    "duration": 26,
    "start_time": "2022-06-27T22:58:18.625Z"
   },
   {
    "duration": 15,
    "start_time": "2022-06-27T22:58:18.652Z"
   },
   {
    "duration": 9,
    "start_time": "2022-06-27T22:58:18.668Z"
   },
   {
    "duration": 2,
    "start_time": "2022-06-27T22:58:18.679Z"
   },
   {
    "duration": 5,
    "start_time": "2022-06-27T22:58:18.683Z"
   },
   {
    "duration": 41,
    "start_time": "2022-06-27T22:58:18.689Z"
   },
   {
    "duration": 12,
    "start_time": "2022-06-27T22:58:18.731Z"
   },
   {
    "duration": 8,
    "start_time": "2022-06-27T22:58:18.745Z"
   },
   {
    "duration": 6,
    "start_time": "2022-06-27T22:58:18.755Z"
   },
   {
    "duration": 94,
    "start_time": "2022-06-27T22:58:18.764Z"
   },
   {
    "duration": 4,
    "start_time": "2022-06-27T22:58:18.860Z"
   },
   {
    "duration": 16,
    "start_time": "2022-06-27T22:58:18.865Z"
   },
   {
    "duration": 7,
    "start_time": "2022-06-27T22:58:18.883Z"
   },
   {
    "duration": 10,
    "start_time": "2022-06-27T22:58:18.891Z"
   },
   {
    "duration": 7,
    "start_time": "2022-06-27T22:58:18.902Z"
   },
   {
    "duration": 6,
    "start_time": "2022-06-27T22:58:18.926Z"
   },
   {
    "duration": 23,
    "start_time": "2022-06-27T22:58:18.934Z"
   },
   {
    "duration": 116,
    "start_time": "2022-06-27T23:03:52.636Z"
   },
   {
    "duration": 70,
    "start_time": "2022-06-27T23:04:00.853Z"
   },
   {
    "duration": 13,
    "start_time": "2022-06-27T23:04:07.550Z"
   },
   {
    "duration": 21,
    "start_time": "2022-06-27T23:04:40.118Z"
   },
   {
    "duration": 1156,
    "start_time": "2022-06-27T23:04:54.133Z"
   },
   {
    "duration": 44,
    "start_time": "2022-06-27T23:04:55.291Z"
   },
   {
    "duration": 16,
    "start_time": "2022-06-27T23:04:55.337Z"
   },
   {
    "duration": 28,
    "start_time": "2022-06-27T23:04:55.355Z"
   },
   {
    "duration": 47,
    "start_time": "2022-06-27T23:04:55.384Z"
   },
   {
    "duration": 18,
    "start_time": "2022-06-27T23:04:55.432Z"
   },
   {
    "duration": 10,
    "start_time": "2022-06-27T23:04:55.451Z"
   },
   {
    "duration": 4,
    "start_time": "2022-06-27T23:04:55.462Z"
   },
   {
    "duration": 10,
    "start_time": "2022-06-27T23:04:55.467Z"
   },
   {
    "duration": 15,
    "start_time": "2022-06-27T23:04:55.479Z"
   },
   {
    "duration": 12,
    "start_time": "2022-06-27T23:04:55.495Z"
   },
   {
    "duration": 9,
    "start_time": "2022-06-27T23:04:55.526Z"
   },
   {
    "duration": 19,
    "start_time": "2022-06-27T23:04:55.536Z"
   },
   {
    "duration": 94,
    "start_time": "2022-06-27T23:04:55.557Z"
   },
   {
    "duration": 4,
    "start_time": "2022-06-27T23:04:55.653Z"
   },
   {
    "duration": 21,
    "start_time": "2022-06-27T23:04:55.659Z"
   },
   {
    "duration": 6,
    "start_time": "2022-06-27T23:04:55.682Z"
   },
   {
    "duration": 14,
    "start_time": "2022-06-27T23:04:55.689Z"
   },
   {
    "duration": 23,
    "start_time": "2022-06-27T23:04:55.704Z"
   },
   {
    "duration": 6,
    "start_time": "2022-06-27T23:04:55.729Z"
   },
   {
    "duration": 18,
    "start_time": "2022-06-27T23:04:55.736Z"
   },
   {
    "duration": 98,
    "start_time": "2022-06-27T23:04:55.756Z"
   },
   {
    "duration": 17,
    "start_time": "2022-06-27T23:04:55.856Z"
   },
   {
    "duration": 90,
    "start_time": "2022-06-27T23:08:00.780Z"
   },
   {
    "duration": 17,
    "start_time": "2022-06-27T23:08:07.517Z"
   },
   {
    "duration": 1055,
    "start_time": "2022-06-27T23:08:20.186Z"
   },
   {
    "duration": 49,
    "start_time": "2022-06-27T23:08:21.244Z"
   },
   {
    "duration": 15,
    "start_time": "2022-06-27T23:08:21.294Z"
   },
   {
    "duration": 27,
    "start_time": "2022-06-27T23:08:21.311Z"
   },
   {
    "duration": 28,
    "start_time": "2022-06-27T23:08:21.340Z"
   },
   {
    "duration": 17,
    "start_time": "2022-06-27T23:08:21.369Z"
   },
   {
    "duration": 11,
    "start_time": "2022-06-27T23:08:21.388Z"
   },
   {
    "duration": 3,
    "start_time": "2022-06-27T23:08:21.426Z"
   },
   {
    "duration": 5,
    "start_time": "2022-06-27T23:08:21.431Z"
   },
   {
    "duration": 15,
    "start_time": "2022-06-27T23:08:21.438Z"
   },
   {
    "duration": 13,
    "start_time": "2022-06-27T23:08:21.455Z"
   },
   {
    "duration": 8,
    "start_time": "2022-06-27T23:08:21.470Z"
   },
   {
    "duration": 7,
    "start_time": "2022-06-27T23:08:21.479Z"
   },
   {
    "duration": 114,
    "start_time": "2022-06-27T23:08:21.490Z"
   },
   {
    "duration": 3,
    "start_time": "2022-06-27T23:08:21.606Z"
   },
   {
    "duration": 22,
    "start_time": "2022-06-27T23:08:21.610Z"
   },
   {
    "duration": 4,
    "start_time": "2022-06-27T23:08:21.633Z"
   },
   {
    "duration": 9,
    "start_time": "2022-06-27T23:08:21.639Z"
   },
   {
    "duration": 6,
    "start_time": "2022-06-27T23:08:21.649Z"
   },
   {
    "duration": 6,
    "start_time": "2022-06-27T23:08:21.657Z"
   },
   {
    "duration": 19,
    "start_time": "2022-06-27T23:08:21.664Z"
   },
   {
    "duration": 51,
    "start_time": "2022-06-27T23:08:21.685Z"
   },
   {
    "duration": 15,
    "start_time": "2022-06-27T23:08:21.738Z"
   },
   {
    "duration": 27,
    "start_time": "2022-06-27T23:09:58.391Z"
   },
   {
    "duration": 29,
    "start_time": "2022-06-27T23:10:10.132Z"
   },
   {
    "duration": 1127,
    "start_time": "2022-06-27T23:10:22.416Z"
   },
   {
    "duration": 41,
    "start_time": "2022-06-27T23:10:23.545Z"
   },
   {
    "duration": 15,
    "start_time": "2022-06-27T23:10:23.588Z"
   },
   {
    "duration": 36,
    "start_time": "2022-06-27T23:10:23.605Z"
   },
   {
    "duration": 27,
    "start_time": "2022-06-27T23:10:23.643Z"
   },
   {
    "duration": 16,
    "start_time": "2022-06-27T23:10:23.671Z"
   },
   {
    "duration": 10,
    "start_time": "2022-06-27T23:10:23.688Z"
   },
   {
    "duration": 28,
    "start_time": "2022-06-27T23:10:23.699Z"
   },
   {
    "duration": 8,
    "start_time": "2022-06-27T23:10:23.729Z"
   },
   {
    "duration": 14,
    "start_time": "2022-06-27T23:10:23.740Z"
   },
   {
    "duration": 11,
    "start_time": "2022-06-27T23:10:23.756Z"
   },
   {
    "duration": 8,
    "start_time": "2022-06-27T23:10:23.769Z"
   },
   {
    "duration": 5,
    "start_time": "2022-06-27T23:10:23.779Z"
   },
   {
    "duration": 88,
    "start_time": "2022-06-27T23:10:23.785Z"
   },
   {
    "duration": 3,
    "start_time": "2022-06-27T23:10:23.875Z"
   },
   {
    "duration": 20,
    "start_time": "2022-06-27T23:10:23.880Z"
   },
   {
    "duration": 4,
    "start_time": "2022-06-27T23:10:23.902Z"
   },
   {
    "duration": 19,
    "start_time": "2022-06-27T23:10:23.908Z"
   },
   {
    "duration": 4,
    "start_time": "2022-06-27T23:10:23.929Z"
   },
   {
    "duration": 16,
    "start_time": "2022-06-27T23:10:23.935Z"
   },
   {
    "duration": 18,
    "start_time": "2022-06-27T23:10:23.952Z"
   },
   {
    "duration": 30,
    "start_time": "2022-06-27T23:10:23.972Z"
   },
   {
    "duration": 42,
    "start_time": "2022-06-27T23:10:24.004Z"
   },
   {
    "duration": 1100,
    "start_time": "2022-06-27T23:11:15.741Z"
   },
   {
    "duration": 43,
    "start_time": "2022-06-27T23:11:16.843Z"
   },
   {
    "duration": 16,
    "start_time": "2022-06-27T23:11:16.888Z"
   },
   {
    "duration": 21,
    "start_time": "2022-06-27T23:11:16.906Z"
   },
   {
    "duration": 27,
    "start_time": "2022-06-27T23:11:16.929Z"
   },
   {
    "duration": 15,
    "start_time": "2022-06-27T23:11:16.957Z"
   },
   {
    "duration": 9,
    "start_time": "2022-06-27T23:11:16.974Z"
   },
   {
    "duration": 4,
    "start_time": "2022-06-27T23:11:16.985Z"
   },
   {
    "duration": 7,
    "start_time": "2022-06-27T23:11:16.991Z"
   },
   {
    "duration": 39,
    "start_time": "2022-06-27T23:11:16.999Z"
   },
   {
    "duration": 15,
    "start_time": "2022-06-27T23:11:17.039Z"
   },
   {
    "duration": 9,
    "start_time": "2022-06-27T23:11:17.055Z"
   },
   {
    "duration": 5,
    "start_time": "2022-06-27T23:11:17.066Z"
   },
   {
    "duration": 92,
    "start_time": "2022-06-27T23:11:17.073Z"
   },
   {
    "duration": 3,
    "start_time": "2022-06-27T23:11:17.167Z"
   },
   {
    "duration": 17,
    "start_time": "2022-06-27T23:11:17.171Z"
   },
   {
    "duration": 5,
    "start_time": "2022-06-27T23:11:17.189Z"
   },
   {
    "duration": 12,
    "start_time": "2022-06-27T23:11:17.196Z"
   },
   {
    "duration": 19,
    "start_time": "2022-06-27T23:11:17.209Z"
   },
   {
    "duration": 15,
    "start_time": "2022-06-27T23:11:17.229Z"
   },
   {
    "duration": 17,
    "start_time": "2022-06-27T23:11:17.246Z"
   },
   {
    "duration": 31,
    "start_time": "2022-06-27T23:11:17.265Z"
   },
   {
    "duration": 16,
    "start_time": "2022-06-27T23:11:17.298Z"
   },
   {
    "duration": 35,
    "start_time": "2022-06-27T23:11:53.285Z"
   },
   {
    "duration": 18,
    "start_time": "2022-06-27T23:11:55.321Z"
   },
   {
    "duration": 1138,
    "start_time": "2022-06-27T23:12:03.994Z"
   },
   {
    "duration": 41,
    "start_time": "2022-06-27T23:12:05.134Z"
   },
   {
    "duration": 14,
    "start_time": "2022-06-27T23:12:05.176Z"
   },
   {
    "duration": 32,
    "start_time": "2022-06-27T23:12:05.191Z"
   },
   {
    "duration": 25,
    "start_time": "2022-06-27T23:12:05.225Z"
   },
   {
    "duration": 16,
    "start_time": "2022-06-27T23:12:05.252Z"
   },
   {
    "duration": 10,
    "start_time": "2022-06-27T23:12:05.269Z"
   },
   {
    "duration": 2,
    "start_time": "2022-06-27T23:12:05.281Z"
   },
   {
    "duration": 5,
    "start_time": "2022-06-27T23:12:05.285Z"
   },
   {
    "duration": 44,
    "start_time": "2022-06-27T23:12:05.292Z"
   },
   {
    "duration": 21,
    "start_time": "2022-06-27T23:12:05.338Z"
   },
   {
    "duration": 8,
    "start_time": "2022-06-27T23:12:05.361Z"
   },
   {
    "duration": 5,
    "start_time": "2022-06-27T23:12:05.370Z"
   },
   {
    "duration": 78,
    "start_time": "2022-06-27T23:12:05.377Z"
   },
   {
    "duration": 3,
    "start_time": "2022-06-27T23:12:05.457Z"
   },
   {
    "duration": 17,
    "start_time": "2022-06-27T23:12:05.462Z"
   },
   {
    "duration": 8,
    "start_time": "2022-06-27T23:12:05.480Z"
   },
   {
    "duration": 16,
    "start_time": "2022-06-27T23:12:05.489Z"
   },
   {
    "duration": 8,
    "start_time": "2022-06-27T23:12:05.507Z"
   },
   {
    "duration": 16,
    "start_time": "2022-06-27T23:12:05.516Z"
   },
   {
    "duration": 16,
    "start_time": "2022-06-27T23:12:05.534Z"
   },
   {
    "duration": 36,
    "start_time": "2022-06-27T23:12:05.552Z"
   },
   {
    "duration": 16,
    "start_time": "2022-06-27T23:12:05.589Z"
   },
   {
    "duration": 1154,
    "start_time": "2022-06-27T23:12:21.239Z"
   },
   {
    "duration": 40,
    "start_time": "2022-06-27T23:12:22.395Z"
   },
   {
    "duration": 14,
    "start_time": "2022-06-27T23:12:22.437Z"
   },
   {
    "duration": 20,
    "start_time": "2022-06-27T23:12:22.452Z"
   },
   {
    "duration": 31,
    "start_time": "2022-06-27T23:12:22.474Z"
   },
   {
    "duration": 34,
    "start_time": "2022-06-27T23:12:22.506Z"
   },
   {
    "duration": 10,
    "start_time": "2022-06-27T23:12:22.542Z"
   },
   {
    "duration": 7,
    "start_time": "2022-06-27T23:12:22.553Z"
   },
   {
    "duration": 11,
    "start_time": "2022-06-27T23:12:22.561Z"
   },
   {
    "duration": 38,
    "start_time": "2022-06-27T23:12:22.574Z"
   },
   {
    "duration": 17,
    "start_time": "2022-06-27T23:12:22.613Z"
   },
   {
    "duration": 19,
    "start_time": "2022-06-27T23:12:22.631Z"
   },
   {
    "duration": 10,
    "start_time": "2022-06-27T23:12:22.652Z"
   },
   {
    "duration": 88,
    "start_time": "2022-06-27T23:12:22.665Z"
   },
   {
    "duration": 4,
    "start_time": "2022-06-27T23:12:22.754Z"
   },
   {
    "duration": 24,
    "start_time": "2022-06-27T23:12:22.759Z"
   },
   {
    "duration": 5,
    "start_time": "2022-06-27T23:12:22.784Z"
   },
   {
    "duration": 15,
    "start_time": "2022-06-27T23:12:22.790Z"
   },
   {
    "duration": 14,
    "start_time": "2022-06-27T23:12:22.806Z"
   },
   {
    "duration": 16,
    "start_time": "2022-06-27T23:12:22.821Z"
   },
   {
    "duration": 20,
    "start_time": "2022-06-27T23:12:22.838Z"
   },
   {
    "duration": 35,
    "start_time": "2022-06-27T23:12:22.859Z"
   },
   {
    "duration": 15,
    "start_time": "2022-06-27T23:12:22.896Z"
   },
   {
    "duration": 46,
    "start_time": "2022-06-27T23:12:44.441Z"
   },
   {
    "duration": 17,
    "start_time": "2022-06-27T23:12:45.508Z"
   },
   {
    "duration": 13,
    "start_time": "2022-06-27T23:13:10.808Z"
   },
   {
    "duration": 13,
    "start_time": "2022-06-27T23:13:56.309Z"
   },
   {
    "duration": 20,
    "start_time": "2022-06-27T23:14:21.665Z"
   },
   {
    "duration": 14,
    "start_time": "2022-06-27T23:14:27.803Z"
   },
   {
    "duration": 9,
    "start_time": "2022-06-27T23:15:50.026Z"
   },
   {
    "duration": 10,
    "start_time": "2022-06-27T23:16:06.579Z"
   },
   {
    "duration": 10,
    "start_time": "2022-06-27T23:17:09.167Z"
   },
   {
    "duration": 10,
    "start_time": "2022-06-27T23:17:13.630Z"
   },
   {
    "duration": 15,
    "start_time": "2022-06-27T23:17:40.332Z"
   },
   {
    "duration": 91,
    "start_time": "2022-06-27T23:20:22.256Z"
   },
   {
    "duration": 9,
    "start_time": "2022-06-27T23:20:32.876Z"
   },
   {
    "duration": 1307,
    "start_time": "2022-06-28T23:39:37.372Z"
   },
   {
    "duration": 75,
    "start_time": "2022-06-28T23:39:38.681Z"
   },
   {
    "duration": 16,
    "start_time": "2022-06-28T23:39:38.757Z"
   },
   {
    "duration": 22,
    "start_time": "2022-06-28T23:39:38.774Z"
   },
   {
    "duration": 54,
    "start_time": "2022-06-28T23:39:38.798Z"
   },
   {
    "duration": 16,
    "start_time": "2022-06-28T23:39:38.854Z"
   },
   {
    "duration": 11,
    "start_time": "2022-06-28T23:39:38.872Z"
   },
   {
    "duration": 3,
    "start_time": "2022-06-28T23:39:38.885Z"
   },
   {
    "duration": 5,
    "start_time": "2022-06-28T23:39:38.890Z"
   },
   {
    "duration": 48,
    "start_time": "2022-06-28T23:39:38.898Z"
   },
   {
    "duration": 12,
    "start_time": "2022-06-28T23:39:38.948Z"
   },
   {
    "duration": 8,
    "start_time": "2022-06-28T23:39:38.962Z"
   },
   {
    "duration": 5,
    "start_time": "2022-06-28T23:39:38.972Z"
   },
   {
    "duration": 85,
    "start_time": "2022-06-28T23:39:38.979Z"
   },
   {
    "duration": 4,
    "start_time": "2022-06-28T23:39:39.066Z"
   },
   {
    "duration": 16,
    "start_time": "2022-06-28T23:39:39.071Z"
   },
   {
    "duration": 4,
    "start_time": "2022-06-28T23:39:39.089Z"
   },
   {
    "duration": 8,
    "start_time": "2022-06-28T23:39:39.095Z"
   },
   {
    "duration": 25,
    "start_time": "2022-06-28T23:39:39.104Z"
   },
   {
    "duration": 16,
    "start_time": "2022-06-28T23:39:39.135Z"
   },
   {
    "duration": 19,
    "start_time": "2022-06-28T23:39:39.153Z"
   },
   {
    "duration": 36,
    "start_time": "2022-06-28T23:39:39.174Z"
   },
   {
    "duration": 51,
    "start_time": "2022-06-28T23:39:39.211Z"
   },
   {
    "duration": 14,
    "start_time": "2022-06-28T23:39:39.263Z"
   },
   {
    "duration": 11,
    "start_time": "2022-06-28T23:39:39.279Z"
   },
   {
    "duration": 17,
    "start_time": "2022-06-28T23:39:39.292Z"
   },
   {
    "duration": 1105,
    "start_time": "2022-06-28T23:41:19.570Z"
   },
   {
    "duration": 43,
    "start_time": "2022-06-28T23:41:20.677Z"
   },
   {
    "duration": 24,
    "start_time": "2022-06-28T23:41:20.721Z"
   },
   {
    "duration": 37,
    "start_time": "2022-06-28T23:41:21.108Z"
   },
   {
    "duration": 37,
    "start_time": "2022-06-28T23:41:21.674Z"
   },
   {
    "duration": 18,
    "start_time": "2022-06-28T23:41:22.103Z"
   },
   {
    "duration": 15,
    "start_time": "2022-06-28T23:41:22.520Z"
   },
   {
    "duration": 4,
    "start_time": "2022-06-28T23:41:23.777Z"
   },
   {
    "duration": 4,
    "start_time": "2022-06-28T23:41:24.189Z"
   },
   {
    "duration": 15,
    "start_time": "2022-06-28T23:41:25.209Z"
   },
   {
    "duration": 13,
    "start_time": "2022-06-28T23:41:25.679Z"
   },
   {
    "duration": 9,
    "start_time": "2022-06-28T23:41:26.538Z"
   },
   {
    "duration": 5,
    "start_time": "2022-06-28T23:41:26.990Z"
   },
   {
    "duration": 86,
    "start_time": "2022-06-28T23:41:27.903Z"
   },
   {
    "duration": 4,
    "start_time": "2022-06-28T23:41:28.315Z"
   },
   {
    "duration": 14,
    "start_time": "2022-06-28T23:41:29.342Z"
   },
   {
    "duration": 6,
    "start_time": "2022-06-28T23:41:29.798Z"
   },
   {
    "duration": 10,
    "start_time": "2022-06-28T23:41:30.889Z"
   },
   {
    "duration": 6,
    "start_time": "2022-06-28T23:41:31.304Z"
   },
   {
    "duration": 6,
    "start_time": "2022-06-28T23:41:31.830Z"
   },
   {
    "duration": 16,
    "start_time": "2022-06-28T23:41:32.677Z"
   },
   {
    "duration": 33,
    "start_time": "2022-06-28T23:41:33.543Z"
   },
   {
    "duration": 22,
    "start_time": "2022-06-28T23:41:34.000Z"
   },
   {
    "duration": 15,
    "start_time": "2022-06-28T23:41:34.520Z"
   },
   {
    "duration": 5,
    "start_time": "2022-06-28T23:48:50.054Z"
   },
   {
    "duration": 14,
    "start_time": "2022-06-28T23:48:51.808Z"
   },
   {
    "duration": 82,
    "start_time": "2022-06-28T23:49:22.243Z"
   },
   {
    "duration": 11,
    "start_time": "2022-06-28T23:49:22.796Z"
   },
   {
    "duration": 14,
    "start_time": "2022-06-28T23:49:23.543Z"
   },
   {
    "duration": 6,
    "start_time": "2022-06-28T23:49:24.203Z"
   },
   {
    "duration": 13,
    "start_time": "2022-06-28T23:49:45.453Z"
   },
   {
    "duration": 6,
    "start_time": "2022-06-28T23:49:45.943Z"
   },
   {
    "duration": 3,
    "start_time": "2022-06-28T23:49:46.544Z"
   },
   {
    "duration": 9,
    "start_time": "2022-06-28T23:49:46.827Z"
   },
   {
    "duration": 5,
    "start_time": "2022-06-28T23:49:47.105Z"
   },
   {
    "duration": 15,
    "start_time": "2022-06-28T23:49:47.637Z"
   },
   {
    "duration": 31,
    "start_time": "2022-06-28T23:49:48.189Z"
   },
   {
    "duration": 20,
    "start_time": "2022-06-28T23:49:48.470Z"
   },
   {
    "duration": 13,
    "start_time": "2022-06-28T23:49:48.713Z"
   },
   {
    "duration": 10,
    "start_time": "2022-06-28T23:49:48.993Z"
   },
   {
    "duration": 21,
    "start_time": "2022-06-28T23:49:49.252Z"
   },
   {
    "duration": 14,
    "start_time": "2022-06-28T23:50:18.541Z"
   },
   {
    "duration": 12,
    "start_time": "2022-06-28T23:50:19.955Z"
   },
   {
    "duration": 6,
    "start_time": "2022-06-28T23:50:20.839Z"
   },
   {
    "duration": 4,
    "start_time": "2022-06-28T23:50:22.545Z"
   },
   {
    "duration": 5,
    "start_time": "2022-06-28T23:50:22.846Z"
   },
   {
    "duration": 6,
    "start_time": "2022-06-28T23:50:23.096Z"
   },
   {
    "duration": 20,
    "start_time": "2022-06-28T23:50:23.616Z"
   },
   {
    "duration": 37,
    "start_time": "2022-06-28T23:50:24.127Z"
   },
   {
    "duration": 21,
    "start_time": "2022-06-28T23:50:24.443Z"
   },
   {
    "duration": 15,
    "start_time": "2022-06-28T23:50:24.635Z"
   },
   {
    "duration": 14,
    "start_time": "2022-06-28T23:50:24.909Z"
   },
   {
    "duration": 24,
    "start_time": "2022-06-28T23:50:25.150Z"
   },
   {
    "duration": 92,
    "start_time": "2022-06-28T23:51:18.840Z"
   },
   {
    "duration": 7,
    "start_time": "2022-06-28T23:51:19.491Z"
   },
   {
    "duration": 14,
    "start_time": "2022-06-28T23:51:20.574Z"
   },
   {
    "duration": 5,
    "start_time": "2022-06-28T23:51:21.755Z"
   },
   {
    "duration": 3,
    "start_time": "2022-06-28T23:51:22.370Z"
   },
   {
    "duration": 6,
    "start_time": "2022-06-28T23:51:22.644Z"
   },
   {
    "duration": 5,
    "start_time": "2022-06-28T23:51:22.843Z"
   },
   {
    "duration": 16,
    "start_time": "2022-06-28T23:51:23.295Z"
   },
   {
    "duration": 40,
    "start_time": "2022-06-28T23:51:23.727Z"
   },
   {
    "duration": 20,
    "start_time": "2022-06-28T23:51:23.943Z"
   },
   {
    "duration": 13,
    "start_time": "2022-06-28T23:51:24.157Z"
   },
   {
    "duration": 11,
    "start_time": "2022-06-28T23:51:24.401Z"
   },
   {
    "duration": 16,
    "start_time": "2022-06-28T23:51:24.645Z"
   },
   {
    "duration": 1198,
    "start_time": "2022-06-28T23:51:37.190Z"
   },
   {
    "duration": 45,
    "start_time": "2022-06-28T23:51:38.390Z"
   },
   {
    "duration": 18,
    "start_time": "2022-06-28T23:51:38.438Z"
   },
   {
    "duration": 20,
    "start_time": "2022-06-28T23:51:38.458Z"
   },
   {
    "duration": 29,
    "start_time": "2022-06-28T23:51:38.480Z"
   },
   {
    "duration": 23,
    "start_time": "2022-06-28T23:51:38.527Z"
   },
   {
    "duration": 18,
    "start_time": "2022-06-28T23:51:38.551Z"
   },
   {
    "duration": 10,
    "start_time": "2022-06-28T23:51:38.570Z"
   },
   {
    "duration": 13,
    "start_time": "2022-06-28T23:51:38.581Z"
   },
   {
    "duration": 21,
    "start_time": "2022-06-28T23:51:38.596Z"
   },
   {
    "duration": 25,
    "start_time": "2022-06-28T23:51:38.618Z"
   },
   {
    "duration": 15,
    "start_time": "2022-06-28T23:51:38.644Z"
   },
   {
    "duration": 18,
    "start_time": "2022-06-28T23:51:38.660Z"
   },
   {
    "duration": 112,
    "start_time": "2022-06-28T23:51:38.680Z"
   },
   {
    "duration": 7,
    "start_time": "2022-06-28T23:51:38.794Z"
   },
   {
    "duration": 16,
    "start_time": "2022-06-28T23:51:38.802Z"
   },
   {
    "duration": 6,
    "start_time": "2022-06-28T23:51:38.827Z"
   },
   {
    "duration": 15,
    "start_time": "2022-06-28T23:51:38.837Z"
   },
   {
    "duration": 8,
    "start_time": "2022-06-28T23:51:38.853Z"
   },
   {
    "duration": 7,
    "start_time": "2022-06-28T23:51:38.862Z"
   },
   {
    "duration": 18,
    "start_time": "2022-06-28T23:51:38.871Z"
   },
   {
    "duration": 56,
    "start_time": "2022-06-28T23:51:38.890Z"
   },
   {
    "duration": 21,
    "start_time": "2022-06-28T23:51:38.948Z"
   },
   {
    "duration": 13,
    "start_time": "2022-06-28T23:51:38.970Z"
   },
   {
    "duration": 10,
    "start_time": "2022-06-28T23:51:38.984Z"
   },
   {
    "duration": 47,
    "start_time": "2022-06-28T23:51:38.995Z"
   },
   {
    "duration": 1155,
    "start_time": "2022-06-29T00:02:50.707Z"
   },
   {
    "duration": 44,
    "start_time": "2022-06-29T00:02:51.864Z"
   },
   {
    "duration": 16,
    "start_time": "2022-06-29T00:02:51.909Z"
   },
   {
    "duration": 38,
    "start_time": "2022-06-29T00:02:51.927Z"
   },
   {
    "duration": 28,
    "start_time": "2022-06-29T00:02:51.967Z"
   },
   {
    "duration": 16,
    "start_time": "2022-06-29T00:02:51.996Z"
   },
   {
    "duration": 25,
    "start_time": "2022-06-29T00:02:52.014Z"
   },
   {
    "duration": 11,
    "start_time": "2022-06-29T00:02:52.041Z"
   },
   {
    "duration": 6,
    "start_time": "2022-06-29T00:02:52.054Z"
   },
   {
    "duration": 14,
    "start_time": "2022-06-29T00:02:52.062Z"
   },
   {
    "duration": 13,
    "start_time": "2022-06-29T00:02:52.077Z"
   },
   {
    "duration": 8,
    "start_time": "2022-06-29T00:02:52.091Z"
   },
   {
    "duration": 31,
    "start_time": "2022-06-29T00:02:52.101Z"
   },
   {
    "duration": 108,
    "start_time": "2022-06-29T00:02:52.134Z"
   },
   {
    "duration": 6,
    "start_time": "2022-06-29T00:02:52.246Z"
   },
   {
    "duration": 13,
    "start_time": "2022-06-29T00:02:52.254Z"
   },
   {
    "duration": 5,
    "start_time": "2022-06-29T00:02:52.268Z"
   },
   {
    "duration": 11,
    "start_time": "2022-06-29T00:02:52.274Z"
   },
   {
    "duration": 14,
    "start_time": "2022-06-29T00:02:52.286Z"
   },
   {
    "duration": 9,
    "start_time": "2022-06-29T00:02:52.302Z"
   },
   {
    "duration": 129,
    "start_time": "2022-06-29T00:05:11.601Z"
   },
   {
    "duration": 15,
    "start_time": "2022-06-29T00:05:21.379Z"
   },
   {
    "duration": 118,
    "start_time": "2022-06-29T00:05:52.147Z"
   },
   {
    "duration": 25,
    "start_time": "2022-06-29T00:06:04.455Z"
   },
   {
    "duration": 5423,
    "start_time": "2022-06-29T00:08:46.188Z"
   },
   {
    "duration": 121,
    "start_time": "2022-06-29T00:08:51.613Z"
   },
   {
    "duration": 13,
    "start_time": "2022-06-29T00:08:51.735Z"
   },
   {
    "duration": 1115,
    "start_time": "2022-06-29T00:09:07.551Z"
   },
   {
    "duration": 44,
    "start_time": "2022-06-29T00:09:08.668Z"
   },
   {
    "duration": 17,
    "start_time": "2022-06-29T00:09:08.714Z"
   },
   {
    "duration": 22,
    "start_time": "2022-06-29T00:09:08.733Z"
   },
   {
    "duration": 30,
    "start_time": "2022-06-29T00:09:08.757Z"
   },
   {
    "duration": 42,
    "start_time": "2022-06-29T00:09:08.788Z"
   },
   {
    "duration": 11,
    "start_time": "2022-06-29T00:09:08.832Z"
   },
   {
    "duration": 7,
    "start_time": "2022-06-29T00:09:08.844Z"
   },
   {
    "duration": 9,
    "start_time": "2022-06-29T00:09:08.852Z"
   },
   {
    "duration": 16,
    "start_time": "2022-06-29T00:09:08.862Z"
   },
   {
    "duration": 15,
    "start_time": "2022-06-29T00:09:08.880Z"
   },
   {
    "duration": 30,
    "start_time": "2022-06-29T00:09:08.897Z"
   },
   {
    "duration": 5,
    "start_time": "2022-06-29T00:09:08.929Z"
   },
   {
    "duration": 109,
    "start_time": "2022-06-29T00:09:08.937Z"
   },
   {
    "duration": 7,
    "start_time": "2022-06-29T00:09:09.048Z"
   },
   {
    "duration": 17,
    "start_time": "2022-06-29T00:09:09.056Z"
   },
   {
    "duration": 5,
    "start_time": "2022-06-29T00:09:09.075Z"
   },
   {
    "duration": 11,
    "start_time": "2022-06-29T00:09:09.081Z"
   },
   {
    "duration": 10,
    "start_time": "2022-06-29T00:09:09.093Z"
   },
   {
    "duration": 5,
    "start_time": "2022-06-29T00:09:09.128Z"
   },
   {
    "duration": 8229,
    "start_time": "2022-06-29T00:09:09.135Z"
   },
   {
    "duration": 123,
    "start_time": "2022-06-29T00:09:17.366Z"
   },
   {
    "duration": 14,
    "start_time": "2022-06-29T00:09:17.491Z"
   },
   {
    "duration": 116,
    "start_time": "2022-06-29T00:09:42.521Z"
   },
   {
    "duration": 75,
    "start_time": "2022-06-29T00:10:01.475Z"
   },
   {
    "duration": 71,
    "start_time": "2022-06-29T00:10:07.717Z"
   },
   {
    "duration": 14,
    "start_time": "2022-06-29T00:10:08.438Z"
   },
   {
    "duration": 13,
    "start_time": "2022-06-29T00:10:57.203Z"
   },
   {
    "duration": 11,
    "start_time": "2022-06-29T00:11:15.333Z"
   },
   {
    "duration": 61,
    "start_time": "2022-06-29T00:12:32.834Z"
   },
   {
    "duration": 96,
    "start_time": "2022-06-29T00:13:46.422Z"
   },
   {
    "duration": 61,
    "start_time": "2022-06-29T00:13:46.897Z"
   },
   {
    "duration": 15,
    "start_time": "2022-06-29T00:13:47.741Z"
   },
   {
    "duration": 11,
    "start_time": "2022-06-29T00:13:57.708Z"
   },
   {
    "duration": 1166,
    "start_time": "2022-06-29T00:14:11.102Z"
   },
   {
    "duration": 44,
    "start_time": "2022-06-29T00:14:12.270Z"
   },
   {
    "duration": 16,
    "start_time": "2022-06-29T00:14:12.316Z"
   },
   {
    "duration": 25,
    "start_time": "2022-06-29T00:14:12.333Z"
   },
   {
    "duration": 34,
    "start_time": "2022-06-29T00:14:12.360Z"
   },
   {
    "duration": 39,
    "start_time": "2022-06-29T00:14:12.396Z"
   },
   {
    "duration": 11,
    "start_time": "2022-06-29T00:14:12.437Z"
   },
   {
    "duration": 3,
    "start_time": "2022-06-29T00:14:12.450Z"
   },
   {
    "duration": 9,
    "start_time": "2022-06-29T00:14:12.455Z"
   },
   {
    "duration": 20,
    "start_time": "2022-06-29T00:14:12.466Z"
   },
   {
    "duration": 49,
    "start_time": "2022-06-29T00:14:12.488Z"
   },
   {
    "duration": 11,
    "start_time": "2022-06-29T00:14:12.540Z"
   },
   {
    "duration": 8,
    "start_time": "2022-06-29T00:14:12.553Z"
   },
   {
    "duration": 139,
    "start_time": "2022-06-29T00:14:12.564Z"
   },
   {
    "duration": 7,
    "start_time": "2022-06-29T00:14:12.705Z"
   },
   {
    "duration": 24,
    "start_time": "2022-06-29T00:14:12.714Z"
   },
   {
    "duration": 6,
    "start_time": "2022-06-29T00:14:12.740Z"
   },
   {
    "duration": 11,
    "start_time": "2022-06-29T00:14:12.747Z"
   },
   {
    "duration": 19,
    "start_time": "2022-06-29T00:14:12.760Z"
   },
   {
    "duration": 10,
    "start_time": "2022-06-29T00:14:12.781Z"
   },
   {
    "duration": 92,
    "start_time": "2022-06-29T00:14:12.792Z"
   },
   {
    "duration": 73,
    "start_time": "2022-06-29T00:14:12.885Z"
   },
   {
    "duration": 14,
    "start_time": "2022-06-29T00:14:12.959Z"
   },
   {
    "duration": 9,
    "start_time": "2022-06-29T00:14:12.975Z"
   },
   {
    "duration": 17,
    "start_time": "2022-06-29T00:14:31.114Z"
   },
   {
    "duration": 12,
    "start_time": "2022-06-29T00:14:51.652Z"
   },
   {
    "duration": 1107,
    "start_time": "2022-06-29T00:15:08.567Z"
   },
   {
    "duration": 43,
    "start_time": "2022-06-29T00:15:09.676Z"
   },
   {
    "duration": 15,
    "start_time": "2022-06-29T00:15:09.721Z"
   },
   {
    "duration": 21,
    "start_time": "2022-06-29T00:15:09.737Z"
   },
   {
    "duration": 28,
    "start_time": "2022-06-29T00:15:09.760Z"
   },
   {
    "duration": 17,
    "start_time": "2022-06-29T00:15:09.789Z"
   },
   {
    "duration": 10,
    "start_time": "2022-06-29T00:15:09.828Z"
   },
   {
    "duration": 3,
    "start_time": "2022-06-29T00:15:09.839Z"
   },
   {
    "duration": 6,
    "start_time": "2022-06-29T00:15:09.844Z"
   },
   {
    "duration": 17,
    "start_time": "2022-06-29T00:15:09.851Z"
   },
   {
    "duration": 15,
    "start_time": "2022-06-29T00:15:09.870Z"
   },
   {
    "duration": 42,
    "start_time": "2022-06-29T00:15:09.887Z"
   },
   {
    "duration": 6,
    "start_time": "2022-06-29T00:15:09.931Z"
   },
   {
    "duration": 111,
    "start_time": "2022-06-29T00:15:09.939Z"
   },
   {
    "duration": 7,
    "start_time": "2022-06-29T00:15:10.052Z"
   },
   {
    "duration": 26,
    "start_time": "2022-06-29T00:15:10.061Z"
   },
   {
    "duration": 7,
    "start_time": "2022-06-29T00:15:10.089Z"
   },
   {
    "duration": 16,
    "start_time": "2022-06-29T00:15:10.097Z"
   },
   {
    "duration": 16,
    "start_time": "2022-06-29T00:15:10.115Z"
   },
   {
    "duration": 18,
    "start_time": "2022-06-29T00:15:10.133Z"
   },
   {
    "duration": 132,
    "start_time": "2022-06-29T00:15:10.153Z"
   },
   {
    "duration": 87,
    "start_time": "2022-06-29T00:15:10.287Z"
   },
   {
    "duration": 15,
    "start_time": "2022-06-29T00:15:10.376Z"
   },
   {
    "duration": 10,
    "start_time": "2022-06-29T00:15:10.393Z"
   },
   {
    "duration": 32,
    "start_time": "2022-06-29T00:15:10.404Z"
   },
   {
    "duration": 14,
    "start_time": "2022-06-29T00:15:22.870Z"
   },
   {
    "duration": 17,
    "start_time": "2022-06-29T00:16:34.948Z"
   },
   {
    "duration": 1285,
    "start_time": "2022-06-29T12:46:37.318Z"
   },
   {
    "duration": 185,
    "start_time": "2022-06-29T12:46:38.605Z"
   },
   {
    "duration": 15,
    "start_time": "2022-06-29T12:46:38.791Z"
   },
   {
    "duration": 24,
    "start_time": "2022-06-29T12:46:38.808Z"
   },
   {
    "duration": 30,
    "start_time": "2022-06-29T12:46:38.833Z"
   },
   {
    "duration": 35,
    "start_time": "2022-06-29T12:46:38.865Z"
   },
   {
    "duration": 10,
    "start_time": "2022-06-29T12:46:38.901Z"
   },
   {
    "duration": 3,
    "start_time": "2022-06-29T12:46:38.913Z"
   },
   {
    "duration": 6,
    "start_time": "2022-06-29T12:46:38.917Z"
   },
   {
    "duration": 14,
    "start_time": "2022-06-29T12:46:38.925Z"
   },
   {
    "duration": 18,
    "start_time": "2022-06-29T12:46:38.941Z"
   },
   {
    "duration": 37,
    "start_time": "2022-06-29T12:46:38.961Z"
   },
   {
    "duration": 4,
    "start_time": "2022-06-29T12:46:39.000Z"
   },
   {
    "duration": 118,
    "start_time": "2022-06-29T12:46:39.006Z"
   },
   {
    "duration": 7,
    "start_time": "2022-06-29T12:46:39.126Z"
   },
   {
    "duration": 25,
    "start_time": "2022-06-29T12:46:39.135Z"
   },
   {
    "duration": 8,
    "start_time": "2022-06-29T12:46:39.162Z"
   },
   {
    "duration": 11,
    "start_time": "2022-06-29T12:46:39.172Z"
   },
   {
    "duration": 7,
    "start_time": "2022-06-29T12:46:39.193Z"
   },
   {
    "duration": 10,
    "start_time": "2022-06-29T12:46:39.202Z"
   },
   {
    "duration": 142,
    "start_time": "2022-06-29T12:46:39.214Z"
   },
   {
    "duration": 17,
    "start_time": "2022-06-29T12:46:39.358Z"
   },
   {
    "duration": 17,
    "start_time": "2022-06-29T12:56:03.174Z"
   },
   {
    "duration": 8,
    "start_time": "2022-06-29T12:56:54.770Z"
   },
   {
    "duration": 9,
    "start_time": "2022-06-29T12:57:21.699Z"
   },
   {
    "duration": 8,
    "start_time": "2022-06-29T12:57:32.853Z"
   },
   {
    "duration": 8,
    "start_time": "2022-06-29T12:57:43.355Z"
   },
   {
    "duration": 1128,
    "start_time": "2022-06-29T12:58:19.372Z"
   },
   {
    "duration": 49,
    "start_time": "2022-06-29T12:58:20.503Z"
   },
   {
    "duration": 14,
    "start_time": "2022-06-29T12:58:20.554Z"
   },
   {
    "duration": 23,
    "start_time": "2022-06-29T12:58:20.569Z"
   },
   {
    "duration": 28,
    "start_time": "2022-06-29T12:58:20.594Z"
   },
   {
    "duration": 16,
    "start_time": "2022-06-29T12:58:20.623Z"
   },
   {
    "duration": 10,
    "start_time": "2022-06-29T12:58:20.640Z"
   },
   {
    "duration": 3,
    "start_time": "2022-06-29T12:58:20.652Z"
   },
   {
    "duration": 8,
    "start_time": "2022-06-29T12:58:20.657Z"
   },
   {
    "duration": 34,
    "start_time": "2022-06-29T12:58:20.667Z"
   },
   {
    "duration": 15,
    "start_time": "2022-06-29T12:58:20.702Z"
   },
   {
    "duration": 15,
    "start_time": "2022-06-29T12:58:20.719Z"
   },
   {
    "duration": 14,
    "start_time": "2022-06-29T12:58:20.735Z"
   },
   {
    "duration": 18,
    "start_time": "2022-06-29T12:58:20.751Z"
   },
   {
    "duration": 105,
    "start_time": "2022-06-29T12:58:20.770Z"
   },
   {
    "duration": 7,
    "start_time": "2022-06-29T12:58:20.876Z"
   },
   {
    "duration": 14,
    "start_time": "2022-06-29T12:58:20.894Z"
   },
   {
    "duration": 5,
    "start_time": "2022-06-29T12:58:20.909Z"
   },
   {
    "duration": 12,
    "start_time": "2022-06-29T12:58:20.915Z"
   },
   {
    "duration": 11,
    "start_time": "2022-06-29T12:58:20.928Z"
   },
   {
    "duration": 8,
    "start_time": "2022-06-29T12:58:20.941Z"
   },
   {
    "duration": 145,
    "start_time": "2022-06-29T12:58:20.951Z"
   },
   {
    "duration": 15,
    "start_time": "2022-06-29T12:58:21.097Z"
   },
   {
    "duration": 10,
    "start_time": "2022-06-29T13:00:15.689Z"
   },
   {
    "duration": 1135,
    "start_time": "2022-06-29T13:00:37.646Z"
   },
   {
    "duration": 48,
    "start_time": "2022-06-29T13:00:38.783Z"
   },
   {
    "duration": 14,
    "start_time": "2022-06-29T13:00:38.833Z"
   },
   {
    "duration": 23,
    "start_time": "2022-06-29T13:00:38.849Z"
   },
   {
    "duration": 40,
    "start_time": "2022-06-29T13:00:38.874Z"
   },
   {
    "duration": 17,
    "start_time": "2022-06-29T13:00:38.915Z"
   },
   {
    "duration": 10,
    "start_time": "2022-06-29T13:00:38.933Z"
   },
   {
    "duration": 3,
    "start_time": "2022-06-29T13:00:38.945Z"
   },
   {
    "duration": 6,
    "start_time": "2022-06-29T13:00:38.949Z"
   },
   {
    "duration": 11,
    "start_time": "2022-06-29T13:00:38.956Z"
   },
   {
    "duration": 14,
    "start_time": "2022-06-29T13:00:38.995Z"
   },
   {
    "duration": 17,
    "start_time": "2022-06-29T13:00:39.011Z"
   },
   {
    "duration": 11,
    "start_time": "2022-06-29T13:00:39.030Z"
   },
   {
    "duration": 5,
    "start_time": "2022-06-29T13:00:39.044Z"
   },
   {
    "duration": 127,
    "start_time": "2022-06-29T13:00:39.051Z"
   },
   {
    "duration": 15,
    "start_time": "2022-06-29T13:00:39.179Z"
   },
   {
    "duration": 14,
    "start_time": "2022-06-29T13:00:39.195Z"
   },
   {
    "duration": 4,
    "start_time": "2022-06-29T13:00:39.211Z"
   },
   {
    "duration": 9,
    "start_time": "2022-06-29T13:00:39.217Z"
   },
   {
    "duration": 10,
    "start_time": "2022-06-29T13:00:39.228Z"
   },
   {
    "duration": 9,
    "start_time": "2022-06-29T13:00:39.239Z"
   },
   {
    "duration": 145,
    "start_time": "2022-06-29T13:00:39.249Z"
   },
   {
    "duration": 15,
    "start_time": "2022-06-29T13:00:39.396Z"
   },
   {
    "duration": 11,
    "start_time": "2022-06-29T13:01:19.066Z"
   },
   {
    "duration": 1131,
    "start_time": "2022-06-29T13:01:31.678Z"
   },
   {
    "duration": 48,
    "start_time": "2022-06-29T13:01:32.811Z"
   },
   {
    "duration": 14,
    "start_time": "2022-06-29T13:01:32.860Z"
   },
   {
    "duration": 21,
    "start_time": "2022-06-29T13:01:32.876Z"
   },
   {
    "duration": 30,
    "start_time": "2022-06-29T13:01:32.899Z"
   },
   {
    "duration": 15,
    "start_time": "2022-06-29T13:01:32.931Z"
   },
   {
    "duration": 10,
    "start_time": "2022-06-29T13:01:32.948Z"
   },
   {
    "duration": 3,
    "start_time": "2022-06-29T13:01:32.959Z"
   },
   {
    "duration": 32,
    "start_time": "2022-06-29T13:01:32.963Z"
   },
   {
    "duration": 11,
    "start_time": "2022-06-29T13:01:32.996Z"
   },
   {
    "duration": 14,
    "start_time": "2022-06-29T13:01:33.008Z"
   },
   {
    "duration": 15,
    "start_time": "2022-06-29T13:01:33.024Z"
   },
   {
    "duration": 13,
    "start_time": "2022-06-29T13:01:33.041Z"
   },
   {
    "duration": 7,
    "start_time": "2022-06-29T13:01:33.057Z"
   },
   {
    "duration": 127,
    "start_time": "2022-06-29T13:01:33.065Z"
   },
   {
    "duration": 7,
    "start_time": "2022-06-29T13:01:33.194Z"
   },
   {
    "duration": 14,
    "start_time": "2022-06-29T13:01:33.202Z"
   },
   {
    "duration": 5,
    "start_time": "2022-06-29T13:01:33.218Z"
   },
   {
    "duration": 9,
    "start_time": "2022-06-29T13:01:33.225Z"
   },
   {
    "duration": 9,
    "start_time": "2022-06-29T13:01:33.236Z"
   },
   {
    "duration": 9,
    "start_time": "2022-06-29T13:01:33.247Z"
   },
   {
    "duration": 161,
    "start_time": "2022-06-29T13:01:33.258Z"
   },
   {
    "duration": 20,
    "start_time": "2022-06-29T13:01:33.421Z"
   },
   {
    "duration": 10,
    "start_time": "2022-06-29T13:10:21.569Z"
   },
   {
    "duration": 8,
    "start_time": "2022-06-29T13:10:22.431Z"
   },
   {
    "duration": 8,
    "start_time": "2022-06-29T13:10:23.034Z"
   },
   {
    "duration": 1151,
    "start_time": "2022-06-29T13:10:39.074Z"
   },
   {
    "duration": 50,
    "start_time": "2022-06-29T13:10:40.227Z"
   },
   {
    "duration": 15,
    "start_time": "2022-06-29T13:10:40.278Z"
   },
   {
    "duration": 23,
    "start_time": "2022-06-29T13:10:40.294Z"
   },
   {
    "duration": 31,
    "start_time": "2022-06-29T13:10:40.319Z"
   },
   {
    "duration": 16,
    "start_time": "2022-06-29T13:10:40.352Z"
   },
   {
    "duration": 34,
    "start_time": "2022-06-29T13:10:40.369Z"
   },
   {
    "duration": 15,
    "start_time": "2022-06-29T13:10:40.404Z"
   },
   {
    "duration": 16,
    "start_time": "2022-06-29T13:10:40.421Z"
   },
   {
    "duration": 17,
    "start_time": "2022-06-29T13:10:40.439Z"
   },
   {
    "duration": 16,
    "start_time": "2022-06-29T13:10:40.458Z"
   },
   {
    "duration": 10,
    "start_time": "2022-06-29T13:10:40.475Z"
   },
   {
    "duration": 8,
    "start_time": "2022-06-29T13:10:40.486Z"
   },
   {
    "duration": 109,
    "start_time": "2022-06-29T13:10:40.497Z"
   },
   {
    "duration": 7,
    "start_time": "2022-06-29T13:10:40.608Z"
   },
   {
    "duration": 13,
    "start_time": "2022-06-29T13:10:40.617Z"
   },
   {
    "duration": 5,
    "start_time": "2022-06-29T13:10:40.632Z"
   },
   {
    "duration": 11,
    "start_time": "2022-06-29T13:10:40.638Z"
   },
   {
    "duration": 9,
    "start_time": "2022-06-29T13:10:40.651Z"
   },
   {
    "duration": 5,
    "start_time": "2022-06-29T13:10:40.662Z"
   },
   {
    "duration": 138,
    "start_time": "2022-06-29T13:10:40.694Z"
   },
   {
    "duration": 17,
    "start_time": "2022-06-29T13:10:40.833Z"
   },
   {
    "duration": 1078,
    "start_time": "2022-06-29T16:55:48.238Z"
   },
   {
    "duration": 53,
    "start_time": "2022-06-29T16:55:49.318Z"
   },
   {
    "duration": 15,
    "start_time": "2022-06-29T16:55:49.372Z"
   },
   {
    "duration": 31,
    "start_time": "2022-06-29T16:55:49.388Z"
   },
   {
    "duration": 32,
    "start_time": "2022-06-29T16:55:49.422Z"
   },
   {
    "duration": 16,
    "start_time": "2022-06-29T16:55:49.456Z"
   },
   {
    "duration": 21,
    "start_time": "2022-06-29T16:55:49.474Z"
   },
   {
    "duration": 3,
    "start_time": "2022-06-29T16:55:49.496Z"
   },
   {
    "duration": 7,
    "start_time": "2022-06-29T16:55:49.500Z"
   },
   {
    "duration": 16,
    "start_time": "2022-06-29T16:55:49.508Z"
   },
   {
    "duration": 13,
    "start_time": "2022-06-29T16:55:49.525Z"
   },
   {
    "duration": 9,
    "start_time": "2022-06-29T16:55:49.540Z"
   },
   {
    "duration": 8,
    "start_time": "2022-06-29T16:55:49.550Z"
   },
   {
    "duration": 148,
    "start_time": "2022-06-29T16:55:49.561Z"
   },
   {
    "duration": 7,
    "start_time": "2022-06-29T16:55:49.711Z"
   },
   {
    "duration": 15,
    "start_time": "2022-06-29T16:55:49.720Z"
   },
   {
    "duration": 6,
    "start_time": "2022-06-29T16:55:49.736Z"
   },
   {
    "duration": 16,
    "start_time": "2022-06-29T16:55:49.743Z"
   },
   {
    "duration": 8,
    "start_time": "2022-06-29T16:55:49.761Z"
   },
   {
    "duration": 24,
    "start_time": "2022-06-29T16:55:49.771Z"
   },
   {
    "duration": 143,
    "start_time": "2022-06-29T16:55:49.796Z"
   },
   {
    "duration": 16,
    "start_time": "2022-06-29T16:55:49.940Z"
   },
   {
    "duration": 42,
    "start_time": "2022-06-29T16:58:22.733Z"
   },
   {
    "duration": 14,
    "start_time": "2022-06-29T16:58:32.649Z"
   },
   {
    "duration": 11,
    "start_time": "2022-06-29T17:00:53.830Z"
   },
   {
    "duration": 104,
    "start_time": "2022-06-29T17:01:04.283Z"
   },
   {
    "duration": 9,
    "start_time": "2022-06-29T17:01:14.097Z"
   },
   {
    "duration": 72,
    "start_time": "2022-06-29T17:01:38.909Z"
   },
   {
    "duration": 30,
    "start_time": "2022-06-29T17:01:57.812Z"
   },
   {
    "duration": 69,
    "start_time": "2022-06-29T17:02:11.733Z"
   },
   {
    "duration": 12,
    "start_time": "2022-06-29T17:02:43.873Z"
   },
   {
    "duration": 3,
    "start_time": "2022-06-29T17:02:51.412Z"
   },
   {
    "duration": 10,
    "start_time": "2022-06-29T17:02:55.777Z"
   },
   {
    "duration": 8,
    "start_time": "2022-06-29T17:04:19.539Z"
   },
   {
    "duration": 6,
    "start_time": "2022-06-29T17:04:48.482Z"
   },
   {
    "duration": 7,
    "start_time": "2022-06-29T17:07:23.461Z"
   },
   {
    "duration": 12,
    "start_time": "2022-06-29T17:07:44.243Z"
   },
   {
    "duration": 11,
    "start_time": "2022-06-29T17:08:33.267Z"
   },
   {
    "duration": 11,
    "start_time": "2022-06-29T17:08:43.983Z"
   },
   {
    "duration": 4,
    "start_time": "2022-06-29T17:09:32.904Z"
   },
   {
    "duration": 10,
    "start_time": "2022-06-29T17:09:55.502Z"
   },
   {
    "duration": 16,
    "start_time": "2022-06-29T17:10:03.858Z"
   },
   {
    "duration": 9,
    "start_time": "2022-06-29T17:10:12.400Z"
   },
   {
    "duration": 11,
    "start_time": "2022-06-29T17:14:58.849Z"
   },
   {
    "duration": 10,
    "start_time": "2022-06-29T17:15:28.882Z"
   },
   {
    "duration": 34,
    "start_time": "2022-06-29T17:24:08.700Z"
   },
   {
    "duration": 9,
    "start_time": "2022-06-29T17:24:21.900Z"
   },
   {
    "duration": 9,
    "start_time": "2022-06-29T17:24:32.015Z"
   },
   {
    "duration": 33,
    "start_time": "2022-06-29T17:24:46.851Z"
   },
   {
    "duration": 28,
    "start_time": "2022-06-29T17:25:10.599Z"
   },
   {
    "duration": 131,
    "start_time": "2022-06-29T17:27:02.313Z"
   },
   {
    "duration": 7,
    "start_time": "2022-06-29T17:27:08.316Z"
   },
   {
    "duration": 1454,
    "start_time": "2022-06-29T17:28:49.422Z"
   },
   {
    "duration": 1251,
    "start_time": "2022-06-29T17:28:56.707Z"
   },
   {
    "duration": 20,
    "start_time": "2022-06-29T17:29:27.192Z"
   },
   {
    "duration": 10,
    "start_time": "2022-06-29T17:34:10.884Z"
   },
   {
    "duration": 5,
    "start_time": "2022-06-29T17:37:53.272Z"
   },
   {
    "duration": 6,
    "start_time": "2022-06-29T17:38:03.178Z"
   },
   {
    "duration": 9,
    "start_time": "2022-06-29T17:38:21.658Z"
   },
   {
    "duration": 4,
    "start_time": "2022-06-29T17:38:45.585Z"
   },
   {
    "duration": 9,
    "start_time": "2022-06-29T17:38:46.540Z"
   },
   {
    "duration": 5,
    "start_time": "2022-06-29T17:39:02.385Z"
   },
   {
    "duration": 7,
    "start_time": "2022-06-29T17:39:42.791Z"
   },
   {
    "duration": 13,
    "start_time": "2022-06-29T17:39:59.082Z"
   },
   {
    "duration": 8,
    "start_time": "2022-06-29T17:40:09.569Z"
   },
   {
    "duration": 18,
    "start_time": "2022-06-29T17:42:52.858Z"
   },
   {
    "duration": 4,
    "start_time": "2022-06-29T17:43:30.718Z"
   },
   {
    "duration": 7,
    "start_time": "2022-06-29T17:43:31.371Z"
   },
   {
    "duration": 17,
    "start_time": "2022-06-29T17:43:32.387Z"
   },
   {
    "duration": 1084,
    "start_time": "2022-06-29T17:43:48.920Z"
   },
   {
    "duration": 53,
    "start_time": "2022-06-29T17:43:50.006Z"
   },
   {
    "duration": 16,
    "start_time": "2022-06-29T17:43:50.062Z"
   },
   {
    "duration": 22,
    "start_time": "2022-06-29T17:43:50.080Z"
   },
   {
    "duration": 28,
    "start_time": "2022-06-29T17:43:50.103Z"
   },
   {
    "duration": 16,
    "start_time": "2022-06-29T17:43:50.133Z"
   },
   {
    "duration": 11,
    "start_time": "2022-06-29T17:43:50.150Z"
   },
   {
    "duration": 4,
    "start_time": "2022-06-29T17:43:50.162Z"
   },
   {
    "duration": 4,
    "start_time": "2022-06-29T17:43:50.193Z"
   },
   {
    "duration": 17,
    "start_time": "2022-06-29T17:43:50.199Z"
   },
   {
    "duration": 13,
    "start_time": "2022-06-29T17:43:50.217Z"
   },
   {
    "duration": 9,
    "start_time": "2022-06-29T17:43:50.231Z"
   },
   {
    "duration": 6,
    "start_time": "2022-06-29T17:43:50.241Z"
   },
   {
    "duration": 141,
    "start_time": "2022-06-29T17:43:50.249Z"
   },
   {
    "duration": 7,
    "start_time": "2022-06-29T17:43:50.394Z"
   },
   {
    "duration": 17,
    "start_time": "2022-06-29T17:43:50.402Z"
   },
   {
    "duration": 5,
    "start_time": "2022-06-29T17:43:50.420Z"
   },
   {
    "duration": 8,
    "start_time": "2022-06-29T17:43:50.426Z"
   },
   {
    "duration": 7,
    "start_time": "2022-06-29T17:43:50.436Z"
   },
   {
    "duration": 6,
    "start_time": "2022-06-29T17:43:50.445Z"
   },
   {
    "duration": 152,
    "start_time": "2022-06-29T17:43:50.452Z"
   },
   {
    "duration": 15,
    "start_time": "2022-06-29T17:43:50.606Z"
   },
   {
    "duration": 40,
    "start_time": "2022-06-29T17:43:50.623Z"
   },
   {
    "duration": 43,
    "start_time": "2022-06-29T17:43:50.665Z"
   },
   {
    "duration": 8,
    "start_time": "2022-06-29T17:43:50.710Z"
   },
   {
    "duration": 7,
    "start_time": "2022-06-29T17:43:50.720Z"
   },
   {
    "duration": 6,
    "start_time": "2022-06-29T17:43:50.729Z"
   },
   {
    "duration": 19,
    "start_time": "2022-06-29T17:43:50.738Z"
   },
   {
    "duration": 15,
    "start_time": "2022-06-29T17:43:59.626Z"
   },
   {
    "duration": 5,
    "start_time": "2022-06-29T17:44:14.114Z"
   },
   {
    "duration": 6,
    "start_time": "2022-06-29T17:44:14.732Z"
   },
   {
    "duration": 14,
    "start_time": "2022-06-29T17:44:15.504Z"
   },
   {
    "duration": 13,
    "start_time": "2022-06-29T17:44:16.572Z"
   },
   {
    "duration": 1133,
    "start_time": "2022-06-29T17:44:22.485Z"
   },
   {
    "duration": 53,
    "start_time": "2022-06-29T17:44:23.620Z"
   },
   {
    "duration": 16,
    "start_time": "2022-06-29T17:44:23.675Z"
   },
   {
    "duration": 25,
    "start_time": "2022-06-29T17:44:23.693Z"
   },
   {
    "duration": 30,
    "start_time": "2022-06-29T17:44:23.720Z"
   },
   {
    "duration": 16,
    "start_time": "2022-06-29T17:44:23.752Z"
   },
   {
    "duration": 29,
    "start_time": "2022-06-29T17:44:23.770Z"
   },
   {
    "duration": 3,
    "start_time": "2022-06-29T17:44:23.801Z"
   },
   {
    "duration": 10,
    "start_time": "2022-06-29T17:44:23.805Z"
   },
   {
    "duration": 17,
    "start_time": "2022-06-29T17:44:23.816Z"
   },
   {
    "duration": 16,
    "start_time": "2022-06-29T17:44:23.834Z"
   },
   {
    "duration": 13,
    "start_time": "2022-06-29T17:44:23.851Z"
   },
   {
    "duration": 5,
    "start_time": "2022-06-29T17:44:23.865Z"
   },
   {
    "duration": 126,
    "start_time": "2022-06-29T17:44:23.873Z"
   },
   {
    "duration": 7,
    "start_time": "2022-06-29T17:44:24.001Z"
   },
   {
    "duration": 13,
    "start_time": "2022-06-29T17:44:24.009Z"
   },
   {
    "duration": 4,
    "start_time": "2022-06-29T17:44:24.024Z"
   },
   {
    "duration": 11,
    "start_time": "2022-06-29T17:44:24.029Z"
   },
   {
    "duration": 8,
    "start_time": "2022-06-29T17:44:24.041Z"
   },
   {
    "duration": 6,
    "start_time": "2022-06-29T17:44:24.050Z"
   },
   {
    "duration": 148,
    "start_time": "2022-06-29T17:44:24.058Z"
   },
   {
    "duration": 15,
    "start_time": "2022-06-29T17:44:24.208Z"
   },
   {
    "duration": 40,
    "start_time": "2022-06-29T17:44:24.225Z"
   },
   {
    "duration": 38,
    "start_time": "2022-06-29T17:44:24.267Z"
   },
   {
    "duration": 8,
    "start_time": "2022-06-29T17:44:24.307Z"
   },
   {
    "duration": 12,
    "start_time": "2022-06-29T17:44:24.317Z"
   },
   {
    "duration": 19,
    "start_time": "2022-06-29T17:44:24.331Z"
   },
   {
    "duration": 31,
    "start_time": "2022-06-29T17:44:24.352Z"
   },
   {
    "duration": 20,
    "start_time": "2022-06-29T17:44:24.384Z"
   },
   {
    "duration": 18,
    "start_time": "2022-06-29T17:46:44.800Z"
   },
   {
    "duration": 9,
    "start_time": "2022-06-29T17:47:35.869Z"
   },
   {
    "duration": 1462,
    "start_time": "2022-06-29T17:49:58.343Z"
   },
   {
    "duration": 1282,
    "start_time": "2022-06-29T17:50:13.713Z"
   },
   {
    "duration": 107,
    "start_time": "2022-06-29T17:50:28.312Z"
   },
   {
    "duration": 9,
    "start_time": "2022-06-29T17:50:39.786Z"
   },
   {
    "duration": 1107,
    "start_time": "2022-06-29T17:51:07.132Z"
   },
   {
    "duration": 52,
    "start_time": "2022-06-29T17:51:08.241Z"
   },
   {
    "duration": 14,
    "start_time": "2022-06-29T17:51:08.295Z"
   },
   {
    "duration": 22,
    "start_time": "2022-06-29T17:51:08.311Z"
   },
   {
    "duration": 30,
    "start_time": "2022-06-29T17:51:08.336Z"
   },
   {
    "duration": 17,
    "start_time": "2022-06-29T17:51:08.393Z"
   },
   {
    "duration": 10,
    "start_time": "2022-06-29T17:51:08.412Z"
   },
   {
    "duration": 3,
    "start_time": "2022-06-29T17:51:08.424Z"
   },
   {
    "duration": 5,
    "start_time": "2022-06-29T17:51:08.428Z"
   },
   {
    "duration": 15,
    "start_time": "2022-06-29T17:51:08.435Z"
   },
   {
    "duration": 14,
    "start_time": "2022-06-29T17:51:08.452Z"
   },
   {
    "duration": 35,
    "start_time": "2022-06-29T17:51:08.467Z"
   },
   {
    "duration": 6,
    "start_time": "2022-06-29T17:51:08.504Z"
   },
   {
    "duration": 136,
    "start_time": "2022-06-29T17:51:08.513Z"
   },
   {
    "duration": 7,
    "start_time": "2022-06-29T17:51:08.651Z"
   },
   {
    "duration": 20,
    "start_time": "2022-06-29T17:51:08.660Z"
   },
   {
    "duration": 13,
    "start_time": "2022-06-29T17:51:08.682Z"
   },
   {
    "duration": 11,
    "start_time": "2022-06-29T17:51:08.697Z"
   },
   {
    "duration": 20,
    "start_time": "2022-06-29T17:51:08.709Z"
   },
   {
    "duration": 16,
    "start_time": "2022-06-29T17:51:08.731Z"
   },
   {
    "duration": 145,
    "start_time": "2022-06-29T17:51:08.749Z"
   },
   {
    "duration": 17,
    "start_time": "2022-06-29T17:51:08.896Z"
   },
   {
    "duration": 41,
    "start_time": "2022-06-29T17:51:08.914Z"
   },
   {
    "duration": 8,
    "start_time": "2022-06-29T17:51:08.956Z"
   },
   {
    "duration": 53,
    "start_time": "2022-06-29T17:51:08.965Z"
   },
   {
    "duration": 13,
    "start_time": "2022-06-29T17:51:09.020Z"
   },
   {
    "duration": 15,
    "start_time": "2022-06-29T17:51:09.034Z"
   },
   {
    "duration": 12,
    "start_time": "2022-06-29T17:51:17.125Z"
   },
   {
    "duration": 1069,
    "start_time": "2022-06-29T17:51:34.347Z"
   },
   {
    "duration": 52,
    "start_time": "2022-06-29T17:51:35.418Z"
   },
   {
    "duration": 15,
    "start_time": "2022-06-29T17:51:35.472Z"
   },
   {
    "duration": 25,
    "start_time": "2022-06-29T17:51:35.489Z"
   },
   {
    "duration": 29,
    "start_time": "2022-06-29T17:51:35.515Z"
   },
   {
    "duration": 17,
    "start_time": "2022-06-29T17:51:35.545Z"
   },
   {
    "duration": 32,
    "start_time": "2022-06-29T17:51:35.563Z"
   },
   {
    "duration": 3,
    "start_time": "2022-06-29T17:51:35.596Z"
   },
   {
    "duration": 8,
    "start_time": "2022-06-29T17:51:35.600Z"
   },
   {
    "duration": 15,
    "start_time": "2022-06-29T17:51:35.610Z"
   },
   {
    "duration": 16,
    "start_time": "2022-06-29T17:51:35.627Z"
   },
   {
    "duration": 10,
    "start_time": "2022-06-29T17:51:35.644Z"
   },
   {
    "duration": 10,
    "start_time": "2022-06-29T17:51:35.655Z"
   },
   {
    "duration": 121,
    "start_time": "2022-06-29T17:51:35.666Z"
   },
   {
    "duration": 11,
    "start_time": "2022-06-29T17:51:35.789Z"
   },
   {
    "duration": 32,
    "start_time": "2022-06-29T17:51:35.802Z"
   },
   {
    "duration": 6,
    "start_time": "2022-06-29T17:51:35.837Z"
   },
   {
    "duration": 14,
    "start_time": "2022-06-29T17:51:35.845Z"
   },
   {
    "duration": 14,
    "start_time": "2022-06-29T17:51:35.861Z"
   },
   {
    "duration": 13,
    "start_time": "2022-06-29T17:51:35.877Z"
   },
   {
    "duration": 140,
    "start_time": "2022-06-29T17:51:35.891Z"
   },
   {
    "duration": 16,
    "start_time": "2022-06-29T17:51:36.033Z"
   },
   {
    "duration": 57,
    "start_time": "2022-06-29T17:51:36.050Z"
   },
   {
    "duration": 19,
    "start_time": "2022-06-29T17:51:36.109Z"
   },
   {
    "duration": 13,
    "start_time": "2022-06-29T17:51:36.130Z"
   },
   {
    "duration": 14,
    "start_time": "2022-06-29T17:51:36.145Z"
   },
   {
    "duration": 10,
    "start_time": "2022-06-29T17:51:36.161Z"
   },
   {
    "duration": 26,
    "start_time": "2022-06-29T18:01:56.507Z"
   },
   {
    "duration": 1119,
    "start_time": "2022-06-29T19:51:19.092Z"
   },
   {
    "duration": 50,
    "start_time": "2022-06-29T19:51:20.213Z"
   },
   {
    "duration": 14,
    "start_time": "2022-06-29T19:51:20.265Z"
   },
   {
    "duration": 21,
    "start_time": "2022-06-29T19:51:20.281Z"
   },
   {
    "duration": 28,
    "start_time": "2022-06-29T19:51:20.304Z"
   },
   {
    "duration": 15,
    "start_time": "2022-06-29T19:51:20.334Z"
   },
   {
    "duration": 11,
    "start_time": "2022-06-29T19:51:20.351Z"
   },
   {
    "duration": 3,
    "start_time": "2022-06-29T19:51:20.363Z"
   },
   {
    "duration": 28,
    "start_time": "2022-06-29T19:51:20.367Z"
   },
   {
    "duration": 14,
    "start_time": "2022-06-29T19:51:20.397Z"
   },
   {
    "duration": 15,
    "start_time": "2022-06-29T19:51:20.412Z"
   },
   {
    "duration": 9,
    "start_time": "2022-06-29T19:51:20.428Z"
   },
   {
    "duration": 7,
    "start_time": "2022-06-29T19:51:20.439Z"
   },
   {
    "duration": 127,
    "start_time": "2022-06-29T19:51:20.447Z"
   },
   {
    "duration": 7,
    "start_time": "2022-06-29T19:51:20.576Z"
   },
   {
    "duration": 27,
    "start_time": "2022-06-29T19:51:20.584Z"
   },
   {
    "duration": 5,
    "start_time": "2022-06-29T19:51:20.612Z"
   },
   {
    "duration": 10,
    "start_time": "2022-06-29T19:51:20.619Z"
   },
   {
    "duration": 11,
    "start_time": "2022-06-29T19:51:20.631Z"
   },
   {
    "duration": 6,
    "start_time": "2022-06-29T19:51:20.643Z"
   },
   {
    "duration": 144,
    "start_time": "2022-06-29T19:51:20.650Z"
   },
   {
    "duration": 16,
    "start_time": "2022-06-29T19:51:20.797Z"
   },
   {
    "duration": 40,
    "start_time": "2022-06-29T19:51:20.815Z"
   },
   {
    "duration": 42,
    "start_time": "2022-06-29T19:51:20.856Z"
   },
   {
    "duration": 8,
    "start_time": "2022-06-29T19:51:20.900Z"
   },
   {
    "duration": 7,
    "start_time": "2022-06-29T19:51:20.910Z"
   },
   {
    "duration": 7,
    "start_time": "2022-06-29T19:51:20.918Z"
   },
   {
    "duration": 1570,
    "start_time": "2022-06-29T20:29:22.791Z"
   },
   {
    "duration": 1201,
    "start_time": "2022-06-29T20:30:41.977Z"
   },
   {
    "duration": 1423,
    "start_time": "2022-06-29T20:30:52.014Z"
   },
   {
    "duration": 13,
    "start_time": "2022-06-29T21:27:55.113Z"
   },
   {
    "duration": 10,
    "start_time": "2022-06-29T21:28:12.170Z"
   },
   {
    "duration": 7,
    "start_time": "2022-06-29T21:28:23.621Z"
   },
   {
    "duration": 1112,
    "start_time": "2022-06-29T21:28:38.482Z"
   },
   {
    "duration": 50,
    "start_time": "2022-06-29T21:28:39.595Z"
   },
   {
    "duration": 14,
    "start_time": "2022-06-29T21:28:39.647Z"
   },
   {
    "duration": 19,
    "start_time": "2022-06-29T21:28:39.663Z"
   },
   {
    "duration": 27,
    "start_time": "2022-06-29T21:28:39.684Z"
   },
   {
    "duration": 16,
    "start_time": "2022-06-29T21:28:39.712Z"
   },
   {
    "duration": 9,
    "start_time": "2022-06-29T21:28:39.729Z"
   },
   {
    "duration": 3,
    "start_time": "2022-06-29T21:28:39.740Z"
   },
   {
    "duration": 7,
    "start_time": "2022-06-29T21:28:39.744Z"
   },
   {
    "duration": 15,
    "start_time": "2022-06-29T21:28:39.752Z"
   },
   {
    "duration": 38,
    "start_time": "2022-06-29T21:28:39.769Z"
   },
   {
    "duration": 14,
    "start_time": "2022-06-29T21:28:39.809Z"
   },
   {
    "duration": 6,
    "start_time": "2022-06-29T21:28:39.824Z"
   },
   {
    "duration": 118,
    "start_time": "2022-06-29T21:28:39.832Z"
   },
   {
    "duration": 6,
    "start_time": "2022-06-29T21:28:39.952Z"
   },
   {
    "duration": 13,
    "start_time": "2022-06-29T21:28:39.959Z"
   },
   {
    "duration": 5,
    "start_time": "2022-06-29T21:28:39.974Z"
   },
   {
    "duration": 7,
    "start_time": "2022-06-29T21:28:39.994Z"
   },
   {
    "duration": 12,
    "start_time": "2022-06-29T21:28:40.003Z"
   },
   {
    "duration": 8,
    "start_time": "2022-06-29T21:28:40.016Z"
   },
   {
    "duration": 134,
    "start_time": "2022-06-29T21:28:40.026Z"
   },
   {
    "duration": 16,
    "start_time": "2022-06-29T21:28:40.161Z"
   },
   {
    "duration": 50,
    "start_time": "2022-06-29T21:28:40.179Z"
   },
   {
    "duration": 19,
    "start_time": "2022-06-29T21:28:40.231Z"
   },
   {
    "duration": 8,
    "start_time": "2022-06-29T21:28:40.251Z"
   },
   {
    "duration": 6,
    "start_time": "2022-06-29T21:28:40.261Z"
   },
   {
    "duration": 26,
    "start_time": "2022-06-29T21:28:40.269Z"
   },
   {
    "duration": 6,
    "start_time": "2022-06-29T21:28:40.296Z"
   },
   {
    "duration": 91,
    "start_time": "2022-06-29T21:32:42.515Z"
   },
   {
    "duration": 36,
    "start_time": "2022-06-29T21:32:47.755Z"
   },
   {
    "duration": 31,
    "start_time": "2022-06-29T21:33:11.860Z"
   },
   {
    "duration": 17,
    "start_time": "2022-06-29T21:33:26.611Z"
   },
   {
    "duration": 19,
    "start_time": "2022-06-29T21:33:36.114Z"
   },
   {
    "duration": 17,
    "start_time": "2022-06-29T21:33:58.265Z"
   },
   {
    "duration": 1233,
    "start_time": "2022-06-29T21:34:32.395Z"
   },
   {
    "duration": 58,
    "start_time": "2022-06-29T21:34:33.631Z"
   },
   {
    "duration": 15,
    "start_time": "2022-06-29T21:34:33.691Z"
   },
   {
    "duration": 23,
    "start_time": "2022-06-29T21:34:33.708Z"
   },
   {
    "duration": 30,
    "start_time": "2022-06-29T21:34:33.734Z"
   },
   {
    "duration": 38,
    "start_time": "2022-06-29T21:34:33.766Z"
   },
   {
    "duration": 16,
    "start_time": "2022-06-29T21:34:33.806Z"
   },
   {
    "duration": 3,
    "start_time": "2022-06-29T21:34:33.824Z"
   },
   {
    "duration": 8,
    "start_time": "2022-06-29T21:34:33.828Z"
   },
   {
    "duration": 29,
    "start_time": "2022-06-29T21:34:33.837Z"
   },
   {
    "duration": 27,
    "start_time": "2022-06-29T21:34:33.868Z"
   },
   {
    "duration": 16,
    "start_time": "2022-06-29T21:34:33.896Z"
   },
   {
    "duration": 7,
    "start_time": "2022-06-29T21:34:33.913Z"
   },
   {
    "duration": 114,
    "start_time": "2022-06-29T21:34:33.924Z"
   },
   {
    "duration": 8,
    "start_time": "2022-06-29T21:34:34.040Z"
   },
   {
    "duration": 15,
    "start_time": "2022-06-29T21:34:34.049Z"
   },
   {
    "duration": 5,
    "start_time": "2022-06-29T21:34:34.065Z"
   },
   {
    "duration": 30,
    "start_time": "2022-06-29T21:34:34.071Z"
   },
   {
    "duration": 7,
    "start_time": "2022-06-29T21:34:34.102Z"
   },
   {
    "duration": 14,
    "start_time": "2022-06-29T21:34:34.111Z"
   },
   {
    "duration": 132,
    "start_time": "2022-06-29T21:34:34.126Z"
   },
   {
    "duration": 16,
    "start_time": "2022-06-29T21:34:34.260Z"
   },
   {
    "duration": 54,
    "start_time": "2022-06-29T21:34:34.278Z"
   },
   {
    "duration": 20,
    "start_time": "2022-06-29T21:34:34.334Z"
   },
   {
    "duration": 10,
    "start_time": "2022-06-29T21:34:34.356Z"
   },
   {
    "duration": 30,
    "start_time": "2022-06-29T21:34:34.368Z"
   },
   {
    "duration": 8,
    "start_time": "2022-06-29T21:34:34.400Z"
   },
   {
    "duration": 21,
    "start_time": "2022-06-29T21:34:34.409Z"
   },
   {
    "duration": 15,
    "start_time": "2022-06-29T21:35:09.995Z"
   },
   {
    "duration": 18,
    "start_time": "2022-06-29T21:36:09.840Z"
   },
   {
    "duration": 20,
    "start_time": "2022-06-29T21:36:15.889Z"
   },
   {
    "duration": 29,
    "start_time": "2022-06-29T21:37:12.021Z"
   },
   {
    "duration": 136,
    "start_time": "2022-06-29T21:38:18.019Z"
   },
   {
    "duration": 8,
    "start_time": "2022-06-29T21:42:20.327Z"
   },
   {
    "duration": 8,
    "start_time": "2022-06-29T21:44:09.569Z"
   },
   {
    "duration": 9,
    "start_time": "2022-06-29T21:44:30.270Z"
   },
   {
    "duration": 79,
    "start_time": "2022-06-29T21:44:38.311Z"
   },
   {
    "duration": 360,
    "start_time": "2022-06-29T21:44:45.736Z"
   },
   {
    "duration": 11,
    "start_time": "2022-06-29T21:44:51.357Z"
   },
   {
    "duration": 400,
    "start_time": "2022-06-29T21:46:20.021Z"
   },
   {
    "duration": 9,
    "start_time": "2022-06-29T21:46:35.251Z"
   },
   {
    "duration": 11,
    "start_time": "2022-06-29T21:46:43.703Z"
   },
   {
    "duration": 6,
    "start_time": "2022-06-29T21:49:00.179Z"
   },
   {
    "duration": 18,
    "start_time": "2022-06-29T21:49:34.795Z"
   },
   {
    "duration": 7321,
    "start_time": "2022-06-29T21:53:00.532Z"
   },
   {
    "duration": 15,
    "start_time": "2022-06-29T21:53:09.849Z"
   },
   {
    "duration": 1136,
    "start_time": "2022-06-29T21:53:25.858Z"
   },
   {
    "duration": 49,
    "start_time": "2022-06-29T21:53:26.996Z"
   },
   {
    "duration": 14,
    "start_time": "2022-06-29T21:53:27.046Z"
   },
   {
    "duration": 22,
    "start_time": "2022-06-29T21:53:27.062Z"
   },
   {
    "duration": 32,
    "start_time": "2022-06-29T21:53:27.085Z"
   },
   {
    "duration": 17,
    "start_time": "2022-06-29T21:53:27.118Z"
   },
   {
    "duration": 10,
    "start_time": "2022-06-29T21:53:27.137Z"
   },
   {
    "duration": 4,
    "start_time": "2022-06-29T21:53:27.148Z"
   },
   {
    "duration": 8,
    "start_time": "2022-06-29T21:53:27.153Z"
   },
   {
    "duration": 37,
    "start_time": "2022-06-29T21:53:27.164Z"
   },
   {
    "duration": 14,
    "start_time": "2022-06-29T21:53:27.203Z"
   },
   {
    "duration": 11,
    "start_time": "2022-06-29T21:53:27.219Z"
   },
   {
    "duration": 5,
    "start_time": "2022-06-29T21:53:27.232Z"
   },
   {
    "duration": 121,
    "start_time": "2022-06-29T21:53:27.239Z"
   },
   {
    "duration": 6,
    "start_time": "2022-06-29T21:53:27.362Z"
   },
   {
    "duration": 15,
    "start_time": "2022-06-29T21:53:27.369Z"
   },
   {
    "duration": 5,
    "start_time": "2022-06-29T21:53:27.394Z"
   },
   {
    "duration": 13,
    "start_time": "2022-06-29T21:53:27.400Z"
   },
   {
    "duration": 10,
    "start_time": "2022-06-29T21:53:27.414Z"
   },
   {
    "duration": 6,
    "start_time": "2022-06-29T21:53:27.425Z"
   },
   {
    "duration": 135,
    "start_time": "2022-06-29T21:53:27.433Z"
   },
   {
    "duration": 27,
    "start_time": "2022-06-29T21:53:27.570Z"
   },
   {
    "duration": 40,
    "start_time": "2022-06-29T21:53:27.598Z"
   },
   {
    "duration": 19,
    "start_time": "2022-06-29T21:53:27.639Z"
   },
   {
    "duration": 9,
    "start_time": "2022-06-29T21:53:27.659Z"
   },
   {
    "duration": 30,
    "start_time": "2022-06-29T21:53:27.669Z"
   },
   {
    "duration": 9,
    "start_time": "2022-06-29T21:53:27.701Z"
   },
   {
    "duration": 27,
    "start_time": "2022-06-29T21:53:27.714Z"
   },
   {
    "duration": 51,
    "start_time": "2022-06-29T21:53:27.743Z"
   },
   {
    "duration": 17,
    "start_time": "2022-06-29T21:53:27.796Z"
   },
   {
    "duration": 7077,
    "start_time": "2022-06-29T21:53:27.814Z"
   },
   {
    "duration": 13,
    "start_time": "2022-06-29T21:53:34.893Z"
   },
   {
    "duration": 7067,
    "start_time": "2022-06-29T21:54:11.542Z"
   },
   {
    "duration": 16,
    "start_time": "2022-06-29T21:54:18.611Z"
   },
   {
    "duration": 139,
    "start_time": "2022-06-29T21:54:25.343Z"
   },
   {
    "duration": 50,
    "start_time": "2022-06-29T21:54:49.127Z"
   },
   {
    "duration": 7157,
    "start_time": "2022-06-29T21:55:01.708Z"
   },
   {
    "duration": 11,
    "start_time": "2022-06-29T21:56:57.926Z"
   },
   {
    "duration": 5,
    "start_time": "2022-06-29T21:59:12.563Z"
   },
   {
    "duration": 6,
    "start_time": "2022-06-29T21:59:50.098Z"
   },
   {
    "duration": 1134,
    "start_time": "2022-06-29T22:01:39.308Z"
   },
   {
    "duration": 70,
    "start_time": "2022-06-29T22:01:40.444Z"
   },
   {
    "duration": 14,
    "start_time": "2022-06-29T22:01:40.516Z"
   },
   {
    "duration": 23,
    "start_time": "2022-06-29T22:01:40.531Z"
   },
   {
    "duration": 38,
    "start_time": "2022-06-29T22:01:40.557Z"
   },
   {
    "duration": 16,
    "start_time": "2022-06-29T22:01:40.596Z"
   },
   {
    "duration": 10,
    "start_time": "2022-06-29T22:01:40.614Z"
   },
   {
    "duration": 5,
    "start_time": "2022-06-29T22:01:40.625Z"
   },
   {
    "duration": 15,
    "start_time": "2022-06-29T22:01:40.631Z"
   },
   {
    "duration": 19,
    "start_time": "2022-06-29T22:01:40.648Z"
   },
   {
    "duration": 16,
    "start_time": "2022-06-29T22:01:40.669Z"
   },
   {
    "duration": 11,
    "start_time": "2022-06-29T22:01:40.687Z"
   },
   {
    "duration": 21,
    "start_time": "2022-06-29T22:01:40.700Z"
   },
   {
    "duration": 123,
    "start_time": "2022-06-29T22:01:40.723Z"
   },
   {
    "duration": 7,
    "start_time": "2022-06-29T22:01:40.847Z"
   },
   {
    "duration": 17,
    "start_time": "2022-06-29T22:01:40.856Z"
   },
   {
    "duration": 8,
    "start_time": "2022-06-29T22:01:40.875Z"
   },
   {
    "duration": 28,
    "start_time": "2022-06-29T22:01:40.885Z"
   },
   {
    "duration": 14,
    "start_time": "2022-06-29T22:01:40.915Z"
   },
   {
    "duration": 6,
    "start_time": "2022-06-29T22:01:40.931Z"
   },
   {
    "duration": 180,
    "start_time": "2022-06-29T22:01:40.938Z"
   },
   {
    "duration": 16,
    "start_time": "2022-06-29T22:01:41.119Z"
   },
   {
    "duration": 57,
    "start_time": "2022-06-29T22:01:41.137Z"
   },
   {
    "duration": 21,
    "start_time": "2022-06-29T22:01:41.195Z"
   },
   {
    "duration": 9,
    "start_time": "2022-06-29T22:01:41.217Z"
   },
   {
    "duration": 10,
    "start_time": "2022-06-29T22:01:41.228Z"
   },
   {
    "duration": 7,
    "start_time": "2022-06-29T22:01:41.239Z"
   },
   {
    "duration": 50,
    "start_time": "2022-06-29T22:01:41.247Z"
   },
   {
    "duration": 29,
    "start_time": "2022-06-29T22:01:41.298Z"
   },
   {
    "duration": 10,
    "start_time": "2022-06-29T22:01:41.329Z"
   },
   {
    "duration": 18,
    "start_time": "2022-06-29T22:02:19.851Z"
   },
   {
    "duration": 18,
    "start_time": "2022-06-29T22:09:56.540Z"
   },
   {
    "duration": 13,
    "start_time": "2022-06-29T22:16:01.813Z"
   },
   {
    "duration": 5,
    "start_time": "2022-06-29T22:18:17.067Z"
   },
   {
    "duration": 16,
    "start_time": "2022-06-29T22:18:25.445Z"
   },
   {
    "duration": 7,
    "start_time": "2022-06-29T22:18:56.186Z"
   },
   {
    "duration": 15,
    "start_time": "2022-06-29T22:20:03.604Z"
   },
   {
    "duration": 103,
    "start_time": "2022-06-29T22:20:13.791Z"
   },
   {
    "duration": 5,
    "start_time": "2022-06-29T22:20:22.862Z"
   },
   {
    "duration": 6,
    "start_time": "2022-06-29T22:22:54.014Z"
   },
   {
    "duration": 9,
    "start_time": "2022-06-29T22:23:03.582Z"
   },
   {
    "duration": 15,
    "start_time": "2022-06-29T22:23:11.300Z"
   },
   {
    "duration": 6,
    "start_time": "2022-06-29T22:23:15.655Z"
   },
   {
    "duration": 19,
    "start_time": "2022-06-29T22:23:32.785Z"
   },
   {
    "duration": 7646,
    "start_time": "2022-06-29T22:30:11.475Z"
   },
   {
    "duration": 6,
    "start_time": "2022-06-29T22:30:21.343Z"
   },
   {
    "duration": 1077,
    "start_time": "2022-06-29T22:30:44.736Z"
   },
   {
    "duration": 50,
    "start_time": "2022-06-29T22:30:45.815Z"
   },
   {
    "duration": 13,
    "start_time": "2022-06-29T22:30:45.867Z"
   },
   {
    "duration": 23,
    "start_time": "2022-06-29T22:30:45.882Z"
   },
   {
    "duration": 28,
    "start_time": "2022-06-29T22:30:45.907Z"
   },
   {
    "duration": 15,
    "start_time": "2022-06-29T22:30:45.937Z"
   },
   {
    "duration": 10,
    "start_time": "2022-06-29T22:30:45.954Z"
   },
   {
    "duration": 3,
    "start_time": "2022-06-29T22:30:45.966Z"
   },
   {
    "duration": 6,
    "start_time": "2022-06-29T22:30:45.993Z"
   },
   {
    "duration": 25,
    "start_time": "2022-06-29T22:30:46.001Z"
   },
   {
    "duration": 16,
    "start_time": "2022-06-29T22:30:46.028Z"
   },
   {
    "duration": 7,
    "start_time": "2022-06-29T22:30:46.046Z"
   },
   {
    "duration": 22,
    "start_time": "2022-06-29T22:30:46.055Z"
   },
   {
    "duration": 113,
    "start_time": "2022-06-29T22:30:46.080Z"
   },
   {
    "duration": 7,
    "start_time": "2022-06-29T22:30:46.195Z"
   },
   {
    "duration": 13,
    "start_time": "2022-06-29T22:30:46.204Z"
   },
   {
    "duration": 5,
    "start_time": "2022-06-29T22:30:46.218Z"
   },
   {
    "duration": 10,
    "start_time": "2022-06-29T22:30:46.225Z"
   },
   {
    "duration": 9,
    "start_time": "2022-06-29T22:30:46.236Z"
   },
   {
    "duration": 5,
    "start_time": "2022-06-29T22:30:46.247Z"
   },
   {
    "duration": 152,
    "start_time": "2022-06-29T22:30:46.254Z"
   },
   {
    "duration": 17,
    "start_time": "2022-06-29T22:30:46.408Z"
   },
   {
    "duration": 41,
    "start_time": "2022-06-29T22:30:46.426Z"
   },
   {
    "duration": 38,
    "start_time": "2022-06-29T22:30:46.469Z"
   },
   {
    "duration": 9,
    "start_time": "2022-06-29T22:30:46.509Z"
   },
   {
    "duration": 7,
    "start_time": "2022-06-29T22:30:46.519Z"
   },
   {
    "duration": 6,
    "start_time": "2022-06-29T22:30:46.528Z"
   },
   {
    "duration": 21,
    "start_time": "2022-06-29T22:30:46.536Z"
   },
   {
    "duration": 56,
    "start_time": "2022-06-29T22:30:46.559Z"
   },
   {
    "duration": 19,
    "start_time": "2022-06-29T22:30:46.617Z"
   },
   {
    "duration": 16,
    "start_time": "2022-06-29T22:30:46.637Z"
   },
   {
    "duration": 6967,
    "start_time": "2022-06-29T22:30:46.655Z"
   },
   {
    "duration": 8,
    "start_time": "2022-06-29T22:30:53.624Z"
   },
   {
    "duration": 6934,
    "start_time": "2022-06-29T22:31:09.542Z"
   },
   {
    "duration": 7,
    "start_time": "2022-06-29T22:31:16.477Z"
   },
   {
    "duration": 5,
    "start_time": "2022-06-29T22:38:09.478Z"
   },
   {
    "duration": 9,
    "start_time": "2022-06-29T22:38:22.103Z"
   },
   {
    "duration": 1913,
    "start_time": "2022-06-29T22:45:07.108Z"
   },
   {
    "duration": 6,
    "start_time": "2022-06-29T22:45:27.718Z"
   },
   {
    "duration": 15,
    "start_time": "2022-06-29T22:45:46.514Z"
   },
   {
    "duration": 17,
    "start_time": "2022-06-29T22:54:12.324Z"
   },
   {
    "duration": 11,
    "start_time": "2022-06-29T22:54:23.303Z"
   },
   {
    "duration": 430,
    "start_time": "2022-06-29T23:03:56.910Z"
   },
   {
    "duration": 160,
    "start_time": "2022-06-29T23:04:11.544Z"
   },
   {
    "duration": 136,
    "start_time": "2022-06-29T23:06:42.498Z"
   },
   {
    "duration": 532,
    "start_time": "2022-06-29T23:08:13.797Z"
   },
   {
    "duration": 211,
    "start_time": "2022-06-29T23:08:52.682Z"
   },
   {
    "duration": 200,
    "start_time": "2022-06-29T23:09:14.796Z"
   },
   {
    "duration": 220,
    "start_time": "2022-06-29T23:09:19.358Z"
   },
   {
    "duration": 1107,
    "start_time": "2022-06-29T23:09:43.706Z"
   },
   {
    "duration": 52,
    "start_time": "2022-06-29T23:09:44.815Z"
   },
   {
    "duration": 15,
    "start_time": "2022-06-29T23:09:44.868Z"
   },
   {
    "duration": 22,
    "start_time": "2022-06-29T23:09:44.884Z"
   },
   {
    "duration": 29,
    "start_time": "2022-06-29T23:09:44.908Z"
   },
   {
    "duration": 16,
    "start_time": "2022-06-29T23:09:44.939Z"
   },
   {
    "duration": 11,
    "start_time": "2022-06-29T23:09:44.957Z"
   },
   {
    "duration": 25,
    "start_time": "2022-06-29T23:09:44.969Z"
   },
   {
    "duration": 12,
    "start_time": "2022-06-29T23:09:44.996Z"
   },
   {
    "duration": 29,
    "start_time": "2022-06-29T23:09:45.010Z"
   },
   {
    "duration": 18,
    "start_time": "2022-06-29T23:09:45.040Z"
   },
   {
    "duration": 10,
    "start_time": "2022-06-29T23:09:45.060Z"
   },
   {
    "duration": 7,
    "start_time": "2022-06-29T23:09:45.072Z"
   },
   {
    "duration": 114,
    "start_time": "2022-06-29T23:09:45.082Z"
   },
   {
    "duration": 8,
    "start_time": "2022-06-29T23:09:45.198Z"
   },
   {
    "duration": 17,
    "start_time": "2022-06-29T23:09:45.207Z"
   },
   {
    "duration": 6,
    "start_time": "2022-06-29T23:09:45.225Z"
   },
   {
    "duration": 15,
    "start_time": "2022-06-29T23:09:45.233Z"
   },
   {
    "duration": 14,
    "start_time": "2022-06-29T23:09:45.250Z"
   },
   {
    "duration": 6,
    "start_time": "2022-06-29T23:09:45.266Z"
   },
   {
    "duration": 149,
    "start_time": "2022-06-29T23:09:45.273Z"
   },
   {
    "duration": 17,
    "start_time": "2022-06-29T23:09:45.424Z"
   },
   {
    "duration": 61,
    "start_time": "2022-06-29T23:09:45.443Z"
   },
   {
    "duration": 20,
    "start_time": "2022-06-29T23:09:45.506Z"
   },
   {
    "duration": 10,
    "start_time": "2022-06-29T23:09:45.527Z"
   },
   {
    "duration": 10,
    "start_time": "2022-06-29T23:09:45.539Z"
   },
   {
    "duration": 6,
    "start_time": "2022-06-29T23:09:45.551Z"
   },
   {
    "duration": 49,
    "start_time": "2022-06-29T23:09:45.559Z"
   },
   {
    "duration": 29,
    "start_time": "2022-06-29T23:09:45.610Z"
   },
   {
    "duration": 19,
    "start_time": "2022-06-29T23:09:45.640Z"
   },
   {
    "duration": 36,
    "start_time": "2022-06-29T23:09:45.660Z"
   },
   {
    "duration": 8,
    "start_time": "2022-06-29T23:09:45.697Z"
   },
   {
    "duration": 14,
    "start_time": "2022-06-29T23:09:45.707Z"
   },
   {
    "duration": 5,
    "start_time": "2022-06-29T23:09:45.723Z"
   },
   {
    "duration": 16,
    "start_time": "2022-06-29T23:09:45.729Z"
   },
   {
    "duration": 23,
    "start_time": "2022-06-29T23:09:45.747Z"
   },
   {
    "duration": 240,
    "start_time": "2022-06-29T23:09:45.772Z"
   },
   {
    "duration": 193,
    "start_time": "2022-06-29T23:09:59.243Z"
   },
   {
    "duration": 111,
    "start_time": "2022-06-29T23:11:04.402Z"
   },
   {
    "duration": 440,
    "start_time": "2022-06-29T23:13:14.180Z"
   },
   {
    "duration": 351,
    "start_time": "2022-06-29T23:13:42.945Z"
   },
   {
    "duration": 258,
    "start_time": "2022-06-29T23:13:55.007Z"
   },
   {
    "duration": 186,
    "start_time": "2022-06-29T23:14:09.833Z"
   },
   {
    "duration": 12,
    "start_time": "2022-06-29T23:14:21.205Z"
   },
   {
    "duration": 11,
    "start_time": "2022-06-29T23:14:34.717Z"
   },
   {
    "duration": 181,
    "start_time": "2022-06-29T23:14:38.001Z"
   },
   {
    "duration": 19,
    "start_time": "2022-06-29T23:15:08.968Z"
   },
   {
    "duration": 260,
    "start_time": "2022-06-29T23:16:01.763Z"
   },
   {
    "duration": 164,
    "start_time": "2022-06-29T23:18:41.117Z"
   },
   {
    "duration": 258,
    "start_time": "2022-06-29T23:19:05.264Z"
   },
   {
    "duration": 164,
    "start_time": "2022-06-29T23:21:47.395Z"
   },
   {
    "duration": 200,
    "start_time": "2022-06-29T23:22:28.984Z"
   },
   {
    "duration": 199,
    "start_time": "2022-06-29T23:22:39.810Z"
   },
   {
    "duration": 182,
    "start_time": "2022-06-29T23:23:02.117Z"
   },
   {
    "duration": 187,
    "start_time": "2022-06-29T23:26:02.228Z"
   },
   {
    "duration": 3,
    "start_time": "2022-06-29T23:30:00.902Z"
   },
   {
    "duration": 2,
    "start_time": "2022-06-29T23:30:17.004Z"
   },
   {
    "duration": 2,
    "start_time": "2022-06-29T23:31:08.669Z"
   },
   {
    "duration": 2,
    "start_time": "2022-06-29T23:31:52.631Z"
   },
   {
    "duration": 2,
    "start_time": "2022-06-29T23:32:19.083Z"
   },
   {
    "duration": 8,
    "start_time": "2022-06-29T23:35:32.395Z"
   },
   {
    "duration": 11,
    "start_time": "2022-06-29T23:35:38.152Z"
   },
   {
    "duration": 12,
    "start_time": "2022-06-29T23:35:51.959Z"
   },
   {
    "duration": 297,
    "start_time": "2022-06-29T23:37:02.714Z"
   },
   {
    "duration": 78,
    "start_time": "2022-06-29T23:37:46.011Z"
   },
   {
    "duration": 175,
    "start_time": "2022-06-29T23:38:16.334Z"
   },
   {
    "duration": 288,
    "start_time": "2022-06-29T23:40:19.796Z"
   },
   {
    "duration": 15,
    "start_time": "2022-06-29T23:41:03.393Z"
   },
   {
    "duration": 14,
    "start_time": "2022-06-29T23:41:32.659Z"
   },
   {
    "duration": 163,
    "start_time": "2022-06-29T23:43:20.975Z"
   },
   {
    "duration": 283,
    "start_time": "2022-06-29T23:43:30.335Z"
   },
   {
    "duration": 284,
    "start_time": "2022-06-29T23:43:42.447Z"
   },
   {
    "duration": 296,
    "start_time": "2022-06-29T23:44:01.937Z"
   },
   {
    "duration": 1472,
    "start_time": "2022-06-29T23:44:54.004Z"
   },
   {
    "duration": 425,
    "start_time": "2022-06-29T23:45:01.166Z"
   },
   {
    "duration": 328,
    "start_time": "2022-06-29T23:45:14.420Z"
   },
   {
    "duration": 305,
    "start_time": "2022-06-29T23:45:20.066Z"
   },
   {
    "duration": 177,
    "start_time": "2022-06-29T23:46:07.981Z"
   },
   {
    "duration": 331,
    "start_time": "2022-06-29T23:46:14.952Z"
   },
   {
    "duration": 8,
    "start_time": "2022-06-29T23:50:31.282Z"
   },
   {
    "duration": 8,
    "start_time": "2022-06-29T23:50:50.649Z"
   },
   {
    "duration": 10,
    "start_time": "2022-06-29T23:50:56.646Z"
   },
   {
    "duration": 10,
    "start_time": "2022-06-29T23:51:01.372Z"
   },
   {
    "duration": 9,
    "start_time": "2022-06-29T23:52:52.142Z"
   },
   {
    "duration": 14,
    "start_time": "2022-06-29T23:54:27.995Z"
   },
   {
    "duration": 13,
    "start_time": "2022-06-29T23:55:27.610Z"
   },
   {
    "duration": 290,
    "start_time": "2022-06-29T23:55:31.121Z"
   },
   {
    "duration": 13,
    "start_time": "2022-06-29T23:55:42.554Z"
   },
   {
    "duration": 12,
    "start_time": "2022-06-29T23:55:53.978Z"
   },
   {
    "duration": 15,
    "start_time": "2022-06-29T23:56:29.634Z"
   },
   {
    "duration": 16,
    "start_time": "2022-06-29T23:57:55.852Z"
   },
   {
    "duration": 10,
    "start_time": "2022-06-29T23:58:07.161Z"
   },
   {
    "duration": 13,
    "start_time": "2022-06-29T23:58:16.944Z"
   },
   {
    "duration": 1439,
    "start_time": "2022-06-29T23:58:21.662Z"
   },
   {
    "duration": 1073,
    "start_time": "2022-06-29T23:58:54.230Z"
   },
   {
    "duration": 51,
    "start_time": "2022-06-29T23:58:55.305Z"
   },
   {
    "duration": 15,
    "start_time": "2022-06-29T23:58:55.357Z"
   },
   {
    "duration": 22,
    "start_time": "2022-06-29T23:58:55.373Z"
   },
   {
    "duration": 28,
    "start_time": "2022-06-29T23:58:55.397Z"
   },
   {
    "duration": 15,
    "start_time": "2022-06-29T23:58:55.427Z"
   },
   {
    "duration": 9,
    "start_time": "2022-06-29T23:58:55.444Z"
   },
   {
    "duration": 3,
    "start_time": "2022-06-29T23:58:55.455Z"
   },
   {
    "duration": 35,
    "start_time": "2022-06-29T23:58:55.459Z"
   },
   {
    "duration": 18,
    "start_time": "2022-06-29T23:58:55.496Z"
   },
   {
    "duration": 14,
    "start_time": "2022-06-29T23:58:55.515Z"
   },
   {
    "duration": 12,
    "start_time": "2022-06-29T23:58:55.531Z"
   },
   {
    "duration": 6,
    "start_time": "2022-06-29T23:58:55.545Z"
   },
   {
    "duration": 113,
    "start_time": "2022-06-29T23:58:55.554Z"
   },
   {
    "duration": 6,
    "start_time": "2022-06-29T23:58:55.669Z"
   },
   {
    "duration": 22,
    "start_time": "2022-06-29T23:58:55.676Z"
   },
   {
    "duration": 5,
    "start_time": "2022-06-29T23:58:55.699Z"
   },
   {
    "duration": 12,
    "start_time": "2022-06-29T23:58:55.705Z"
   },
   {
    "duration": 9,
    "start_time": "2022-06-29T23:58:55.718Z"
   },
   {
    "duration": 6,
    "start_time": "2022-06-29T23:58:55.729Z"
   },
   {
    "duration": 139,
    "start_time": "2022-06-29T23:58:55.736Z"
   },
   {
    "duration": 25,
    "start_time": "2022-06-29T23:58:55.877Z"
   },
   {
    "duration": 40,
    "start_time": "2022-06-29T23:58:55.904Z"
   },
   {
    "duration": 19,
    "start_time": "2022-06-29T23:58:55.945Z"
   },
   {
    "duration": 31,
    "start_time": "2022-06-29T23:58:55.965Z"
   },
   {
    "duration": 7,
    "start_time": "2022-06-29T23:58:55.998Z"
   },
   {
    "duration": 11,
    "start_time": "2022-06-29T23:58:56.006Z"
   },
   {
    "duration": 24,
    "start_time": "2022-06-29T23:58:56.019Z"
   },
   {
    "duration": 28,
    "start_time": "2022-06-29T23:58:56.044Z"
   },
   {
    "duration": 32,
    "start_time": "2022-06-29T23:58:56.074Z"
   },
   {
    "duration": 15,
    "start_time": "2022-06-29T23:58:56.107Z"
   },
   {
    "duration": 6,
    "start_time": "2022-06-29T23:58:56.124Z"
   },
   {
    "duration": 14,
    "start_time": "2022-06-29T23:58:56.131Z"
   },
   {
    "duration": 11,
    "start_time": "2022-06-29T23:58:56.146Z"
   },
   {
    "duration": 20,
    "start_time": "2022-06-29T23:58:56.158Z"
   },
   {
    "duration": 2,
    "start_time": "2022-06-29T23:58:56.195Z"
   },
   {
    "duration": 15,
    "start_time": "2022-06-29T23:58:56.198Z"
   },
   {
    "duration": 351,
    "start_time": "2022-06-29T23:58:56.215Z"
   },
   {
    "duration": 2,
    "start_time": "2022-06-29T23:58:56.567Z"
   },
   {
    "duration": 23,
    "start_time": "2022-06-29T23:58:56.571Z"
   },
   {
    "duration": 1855,
    "start_time": "2022-06-29T23:58:56.597Z"
   },
   {
    "duration": 0,
    "start_time": "2022-06-29T23:58:58.453Z"
   },
   {
    "duration": 286,
    "start_time": "2022-06-29T23:59:18.078Z"
   },
   {
    "duration": 17,
    "start_time": "2022-06-30T00:05:27.295Z"
   },
   {
    "duration": 129,
    "start_time": "2022-06-30T00:06:07.921Z"
   },
   {
    "duration": 1014,
    "start_time": "2022-06-30T00:06:19.730Z"
   },
   {
    "duration": 155,
    "start_time": "2022-06-30T00:07:54.039Z"
   },
   {
    "duration": 14501,
    "start_time": "2022-06-30T00:08:03.533Z"
   },
   {
    "duration": 113,
    "start_time": "2022-06-30T00:08:42.001Z"
   },
   {
    "duration": 1330,
    "start_time": "2022-06-30T00:14:31.992Z"
   },
   {
    "duration": 126,
    "start_time": "2022-06-30T00:14:55.359Z"
   },
   {
    "duration": 133,
    "start_time": "2022-06-30T00:15:05.040Z"
   },
   {
    "duration": 1431,
    "start_time": "2022-06-30T00:16:37.443Z"
   },
   {
    "duration": 130,
    "start_time": "2022-06-30T00:18:47.252Z"
   },
   {
    "duration": 14,
    "start_time": "2022-06-30T00:25:40.864Z"
   },
   {
    "duration": 276,
    "start_time": "2022-06-30T00:25:48.719Z"
   },
   {
    "duration": 287,
    "start_time": "2022-06-30T00:26:16.423Z"
   },
   {
    "duration": 17,
    "start_time": "2022-06-30T00:29:21.415Z"
   },
   {
    "duration": 17,
    "start_time": "2022-06-30T00:29:41.049Z"
   },
   {
    "duration": 3062,
    "start_time": "2022-06-30T00:29:43.785Z"
   },
   {
    "duration": 14,
    "start_time": "2022-06-30T00:30:17.403Z"
   },
   {
    "duration": 296,
    "start_time": "2022-06-30T00:30:18.347Z"
   },
   {
    "duration": 17,
    "start_time": "2022-06-30T00:35:18.236Z"
   },
   {
    "duration": 2948,
    "start_time": "2022-06-30T00:35:36.318Z"
   },
   {
    "duration": 14,
    "start_time": "2022-06-30T00:36:25.855Z"
   },
   {
    "duration": 291,
    "start_time": "2022-06-30T00:36:26.457Z"
   },
   {
    "duration": 15,
    "start_time": "2022-06-30T00:40:36.777Z"
   },
   {
    "duration": 397,
    "start_time": "2022-06-30T00:41:30.997Z"
   },
   {
    "duration": 13,
    "start_time": "2022-06-30T00:42:01.817Z"
   },
   {
    "duration": 14,
    "start_time": "2022-06-30T00:45:13.917Z"
   },
   {
    "duration": 13,
    "start_time": "2022-06-30T00:45:21.432Z"
   },
   {
    "duration": 13,
    "start_time": "2022-06-30T00:45:50.627Z"
   },
   {
    "duration": 14,
    "start_time": "2022-06-30T00:55:26.054Z"
   },
   {
    "duration": 15,
    "start_time": "2022-06-30T00:55:42.379Z"
   },
   {
    "duration": 10,
    "start_time": "2022-06-30T00:55:52.437Z"
   },
   {
    "duration": 269,
    "start_time": "2022-06-30T00:55:59.950Z"
   },
   {
    "duration": 271,
    "start_time": "2022-06-30T00:56:25.526Z"
   },
   {
    "duration": 163,
    "start_time": "2022-06-30T00:57:22.525Z"
   },
   {
    "duration": 291,
    "start_time": "2022-06-30T00:58:03.515Z"
   },
   {
    "duration": 379,
    "start_time": "2022-06-30T00:58:11.933Z"
   },
   {
    "duration": 264,
    "start_time": "2022-06-30T00:58:26.813Z"
   },
   {
    "duration": 276,
    "start_time": "2022-06-30T01:01:10.330Z"
   },
   {
    "duration": 21,
    "start_time": "2022-06-30T01:06:13.661Z"
   },
   {
    "duration": 19,
    "start_time": "2022-06-30T01:06:25.495Z"
   },
   {
    "duration": 1111,
    "start_time": "2022-06-30T01:06:57.586Z"
   },
   {
    "duration": 53,
    "start_time": "2022-06-30T01:06:58.699Z"
   },
   {
    "duration": 15,
    "start_time": "2022-06-30T01:06:58.753Z"
   },
   {
    "duration": 22,
    "start_time": "2022-06-30T01:06:58.769Z"
   },
   {
    "duration": 29,
    "start_time": "2022-06-30T01:06:58.793Z"
   },
   {
    "duration": 16,
    "start_time": "2022-06-30T01:06:58.823Z"
   },
   {
    "duration": 10,
    "start_time": "2022-06-30T01:06:58.841Z"
   },
   {
    "duration": 3,
    "start_time": "2022-06-30T01:06:58.852Z"
   },
   {
    "duration": 5,
    "start_time": "2022-06-30T01:06:58.857Z"
   },
   {
    "duration": 40,
    "start_time": "2022-06-30T01:06:58.863Z"
   },
   {
    "duration": 13,
    "start_time": "2022-06-30T01:06:58.905Z"
   },
   {
    "duration": 12,
    "start_time": "2022-06-30T01:06:58.919Z"
   },
   {
    "duration": 6,
    "start_time": "2022-06-30T01:06:58.933Z"
   },
   {
    "duration": 122,
    "start_time": "2022-06-30T01:06:58.942Z"
   },
   {
    "duration": 7,
    "start_time": "2022-06-30T01:06:59.065Z"
   },
   {
    "duration": 27,
    "start_time": "2022-06-30T01:06:59.074Z"
   },
   {
    "duration": 5,
    "start_time": "2022-06-30T01:06:59.103Z"
   },
   {
    "duration": 10,
    "start_time": "2022-06-30T01:06:59.109Z"
   },
   {
    "duration": 8,
    "start_time": "2022-06-30T01:06:59.120Z"
   },
   {
    "duration": 6,
    "start_time": "2022-06-30T01:06:59.129Z"
   },
   {
    "duration": 144,
    "start_time": "2022-06-30T01:06:59.136Z"
   },
   {
    "duration": 23,
    "start_time": "2022-06-30T01:06:59.282Z"
   },
   {
    "duration": 44,
    "start_time": "2022-06-30T01:06:59.306Z"
   },
   {
    "duration": 43,
    "start_time": "2022-06-30T01:06:59.352Z"
   },
   {
    "duration": 11,
    "start_time": "2022-06-30T01:06:59.397Z"
   },
   {
    "duration": 12,
    "start_time": "2022-06-30T01:06:59.410Z"
   },
   {
    "duration": 8,
    "start_time": "2022-06-30T01:06:59.424Z"
   },
   {
    "duration": 23,
    "start_time": "2022-06-30T01:06:59.434Z"
   },
   {
    "duration": 59,
    "start_time": "2022-06-30T01:06:59.459Z"
   },
   {
    "duration": 20,
    "start_time": "2022-06-30T01:06:59.520Z"
   },
   {
    "duration": 16,
    "start_time": "2022-06-30T01:06:59.542Z"
   },
   {
    "duration": 11,
    "start_time": "2022-06-30T01:06:59.560Z"
   },
   {
    "duration": 31,
    "start_time": "2022-06-30T01:06:59.572Z"
   },
   {
    "duration": 5,
    "start_time": "2022-06-30T01:06:59.604Z"
   },
   {
    "duration": 18,
    "start_time": "2022-06-30T01:06:59.611Z"
   },
   {
    "duration": 4,
    "start_time": "2022-06-30T01:06:59.631Z"
   },
   {
    "duration": 15,
    "start_time": "2022-06-30T01:06:59.637Z"
   },
   {
    "duration": 360,
    "start_time": "2022-06-30T01:06:59.653Z"
   },
   {
    "duration": 2,
    "start_time": "2022-06-30T01:07:00.015Z"
   },
   {
    "duration": 23,
    "start_time": "2022-06-30T01:07:00.019Z"
   },
   {
    "duration": 320,
    "start_time": "2022-06-30T01:07:00.046Z"
   },
   {
    "duration": 32,
    "start_time": "2022-06-30T01:07:00.367Z"
   },
   {
    "duration": 4,
    "start_time": "2022-06-30T01:07:22.954Z"
   },
   {
    "duration": 5,
    "start_time": "2022-06-30T01:07:35.947Z"
   },
   {
    "duration": 17,
    "start_time": "2022-06-30T01:09:30.411Z"
   },
   {
    "duration": 16,
    "start_time": "2022-06-30T01:09:44.617Z"
   },
   {
    "duration": 161,
    "start_time": "2022-06-30T01:13:30.453Z"
   },
   {
    "duration": 327,
    "start_time": "2022-06-30T01:14:26.398Z"
   },
   {
    "duration": 556,
    "start_time": "2022-06-30T01:15:02.012Z"
   },
   {
    "duration": 568,
    "start_time": "2022-06-30T01:16:26.194Z"
   },
   {
    "duration": 795,
    "start_time": "2022-06-30T01:16:39.309Z"
   },
   {
    "duration": 1035,
    "start_time": "2022-06-30T01:17:18.161Z"
   },
   {
    "duration": 928,
    "start_time": "2022-06-30T01:17:30.149Z"
   },
   {
    "duration": 1577,
    "start_time": "2022-06-30T14:55:39.322Z"
   },
   {
    "duration": 121,
    "start_time": "2022-06-30T14:55:40.901Z"
   },
   {
    "duration": 28,
    "start_time": "2022-06-30T14:55:41.025Z"
   },
   {
    "duration": 31,
    "start_time": "2022-06-30T14:55:41.056Z"
   },
   {
    "duration": 50,
    "start_time": "2022-06-30T14:55:41.090Z"
   },
   {
    "duration": 21,
    "start_time": "2022-06-30T14:55:41.141Z"
   },
   {
    "duration": 17,
    "start_time": "2022-06-30T14:55:41.164Z"
   },
   {
    "duration": 4,
    "start_time": "2022-06-30T14:55:41.183Z"
   },
   {
    "duration": 13,
    "start_time": "2022-06-30T14:55:41.189Z"
   },
   {
    "duration": 22,
    "start_time": "2022-06-30T14:55:41.228Z"
   },
   {
    "duration": 27,
    "start_time": "2022-06-30T14:55:41.254Z"
   },
   {
    "duration": 13,
    "start_time": "2022-06-30T14:55:41.283Z"
   },
   {
    "duration": 11,
    "start_time": "2022-06-30T14:55:41.298Z"
   },
   {
    "duration": 166,
    "start_time": "2022-06-30T14:55:41.311Z"
   },
   {
    "duration": 12,
    "start_time": "2022-06-30T14:55:41.480Z"
   },
   {
    "duration": 33,
    "start_time": "2022-06-30T14:55:41.494Z"
   },
   {
    "duration": 10,
    "start_time": "2022-06-30T14:55:41.529Z"
   },
   {
    "duration": 40,
    "start_time": "2022-06-30T14:55:41.544Z"
   },
   {
    "duration": 10,
    "start_time": "2022-06-30T14:55:41.587Z"
   },
   {
    "duration": 23,
    "start_time": "2022-06-30T14:55:41.599Z"
   },
   {
    "duration": 245,
    "start_time": "2022-06-30T14:55:41.624Z"
   },
   {
    "duration": 26,
    "start_time": "2022-06-30T14:55:41.872Z"
   },
   {
    "duration": 69,
    "start_time": "2022-06-30T14:55:41.900Z"
   },
   {
    "duration": 31,
    "start_time": "2022-06-30T14:55:41.971Z"
   },
   {
    "duration": 24,
    "start_time": "2022-06-30T14:55:42.004Z"
   },
   {
    "duration": 15,
    "start_time": "2022-06-30T14:55:42.030Z"
   },
   {
    "duration": 26,
    "start_time": "2022-06-30T14:55:42.047Z"
   },
   {
    "duration": 22,
    "start_time": "2022-06-30T14:55:42.078Z"
   },
   {
    "duration": 45,
    "start_time": "2022-06-30T14:55:42.102Z"
   },
   {
    "duration": 23,
    "start_time": "2022-06-30T14:55:42.149Z"
   },
   {
    "duration": 25,
    "start_time": "2022-06-30T14:55:42.175Z"
   },
   {
    "duration": 26,
    "start_time": "2022-06-30T14:55:42.202Z"
   },
   {
    "duration": 27,
    "start_time": "2022-06-30T14:55:42.230Z"
   },
   {
    "duration": 7,
    "start_time": "2022-06-30T14:55:42.259Z"
   },
   {
    "duration": 33,
    "start_time": "2022-06-30T14:55:42.268Z"
   },
   {
    "duration": 6,
    "start_time": "2022-06-30T14:55:42.304Z"
   },
   {
    "duration": 31,
    "start_time": "2022-06-30T14:55:42.312Z"
   },
   {
    "duration": 413,
    "start_time": "2022-06-30T14:55:42.346Z"
   },
   {
    "duration": 4,
    "start_time": "2022-06-30T14:55:42.761Z"
   },
   {
    "duration": 20,
    "start_time": "2022-06-30T14:55:42.767Z"
   },
   {
    "duration": 349,
    "start_time": "2022-06-30T14:55:42.789Z"
   },
   {
    "duration": 1123,
    "start_time": "2022-06-30T14:55:43.140Z"
   },
   {
    "duration": 1268,
    "start_time": "2022-06-30T14:56:50.400Z"
   },
   {
    "duration": 1234,
    "start_time": "2022-06-30T14:57:01.668Z"
   },
   {
    "duration": 6,
    "start_time": "2022-06-30T15:01:38.171Z"
   },
   {
    "duration": 21,
    "start_time": "2022-06-30T15:01:39.073Z"
   },
   {
    "duration": 1444,
    "start_time": "2022-06-30T15:01:51.605Z"
   },
   {
    "duration": 43,
    "start_time": "2022-06-30T15:01:53.051Z"
   },
   {
    "duration": 22,
    "start_time": "2022-06-30T15:01:53.096Z"
   },
   {
    "duration": 65,
    "start_time": "2022-06-30T15:01:53.127Z"
   },
   {
    "duration": 54,
    "start_time": "2022-06-30T15:01:53.194Z"
   },
   {
    "duration": 53,
    "start_time": "2022-06-30T15:01:53.250Z"
   },
   {
    "duration": 37,
    "start_time": "2022-06-30T15:01:53.306Z"
   },
   {
    "duration": 33,
    "start_time": "2022-06-30T15:01:53.345Z"
   },
   {
    "duration": 42,
    "start_time": "2022-06-30T15:01:53.381Z"
   },
   {
    "duration": 51,
    "start_time": "2022-06-30T15:01:53.425Z"
   },
   {
    "duration": 37,
    "start_time": "2022-06-30T15:01:53.478Z"
   },
   {
    "duration": 53,
    "start_time": "2022-06-30T15:01:53.518Z"
   },
   {
    "duration": 23,
    "start_time": "2022-06-30T15:01:53.573Z"
   },
   {
    "duration": 140,
    "start_time": "2022-06-30T15:01:53.600Z"
   },
   {
    "duration": 9,
    "start_time": "2022-06-30T15:01:53.752Z"
   },
   {
    "duration": 30,
    "start_time": "2022-06-30T15:01:53.763Z"
   },
   {
    "duration": 26,
    "start_time": "2022-06-30T15:01:53.795Z"
   },
   {
    "duration": 37,
    "start_time": "2022-06-30T15:01:53.823Z"
   },
   {
    "duration": 41,
    "start_time": "2022-06-30T15:01:53.862Z"
   },
   {
    "duration": 33,
    "start_time": "2022-06-30T15:01:53.905Z"
   },
   {
    "duration": 182,
    "start_time": "2022-06-30T15:01:53.939Z"
   },
   {
    "duration": 28,
    "start_time": "2022-06-30T15:01:54.123Z"
   },
   {
    "duration": 60,
    "start_time": "2022-06-30T15:01:54.153Z"
   },
   {
    "duration": 40,
    "start_time": "2022-06-30T15:01:54.215Z"
   },
   {
    "duration": 13,
    "start_time": "2022-06-30T15:01:54.257Z"
   },
   {
    "duration": 24,
    "start_time": "2022-06-30T15:01:54.271Z"
   },
   {
    "duration": 23,
    "start_time": "2022-06-30T15:01:54.297Z"
   },
   {
    "duration": 33,
    "start_time": "2022-06-30T15:01:54.322Z"
   },
   {
    "duration": 48,
    "start_time": "2022-06-30T15:01:54.357Z"
   },
   {
    "duration": 44,
    "start_time": "2022-06-30T15:01:54.408Z"
   },
   {
    "duration": 28,
    "start_time": "2022-06-30T15:01:54.454Z"
   },
   {
    "duration": 6,
    "start_time": "2022-06-30T15:01:54.484Z"
   },
   {
    "duration": 13,
    "start_time": "2022-06-30T15:01:54.492Z"
   },
   {
    "duration": 13,
    "start_time": "2022-06-30T15:01:54.527Z"
   },
   {
    "duration": 46,
    "start_time": "2022-06-30T15:01:54.542Z"
   },
   {
    "duration": 33,
    "start_time": "2022-06-30T15:01:54.590Z"
   },
   {
    "duration": 58,
    "start_time": "2022-06-30T15:01:54.630Z"
   },
   {
    "duration": 489,
    "start_time": "2022-06-30T15:01:54.690Z"
   },
   {
    "duration": 2,
    "start_time": "2022-06-30T15:01:55.181Z"
   },
   {
    "duration": 25,
    "start_time": "2022-06-30T15:01:55.185Z"
   },
   {
    "duration": 384,
    "start_time": "2022-06-30T15:01:55.214Z"
   },
   {
    "duration": 1058,
    "start_time": "2022-06-30T15:01:55.599Z"
   },
   {
    "duration": 1227,
    "start_time": "2022-06-30T16:01:16.924Z"
   },
   {
    "duration": 365,
    "start_time": "2022-06-30T16:14:45.751Z"
   },
   {
    "duration": 126,
    "start_time": "2022-06-30T16:35:04.068Z"
   },
   {
    "duration": 44,
    "start_time": "2022-06-30T16:35:16.265Z"
   },
   {
    "duration": 9,
    "start_time": "2022-06-30T16:46:50.278Z"
   },
   {
    "duration": 41,
    "start_time": "2022-06-30T16:46:52.108Z"
   },
   {
    "duration": 31,
    "start_time": "2022-06-30T16:47:04.739Z"
   },
   {
    "duration": 18,
    "start_time": "2022-06-30T16:48:19.983Z"
   },
   {
    "duration": 7,
    "start_time": "2022-06-30T16:50:26.459Z"
   },
   {
    "duration": 32,
    "start_time": "2022-06-30T16:50:28.011Z"
   },
   {
    "duration": 13,
    "start_time": "2022-06-30T17:08:46.820Z"
   },
   {
    "duration": 27,
    "start_time": "2022-06-30T17:08:49.069Z"
   },
   {
    "duration": 10,
    "start_time": "2022-06-30T17:09:30.036Z"
   },
   {
    "duration": 27,
    "start_time": "2022-06-30T17:09:31.093Z"
   },
   {
    "duration": 8,
    "start_time": "2022-06-30T17:27:57.390Z"
   },
   {
    "duration": 32,
    "start_time": "2022-06-30T17:29:56.247Z"
   },
   {
    "duration": 1511,
    "start_time": "2022-06-30T21:05:42.432Z"
   },
   {
    "duration": 190,
    "start_time": "2022-06-30T21:05:43.945Z"
   },
   {
    "duration": 18,
    "start_time": "2022-06-30T21:05:44.137Z"
   },
   {
    "duration": 24,
    "start_time": "2022-06-30T21:05:44.157Z"
   },
   {
    "duration": 31,
    "start_time": "2022-06-30T21:05:44.183Z"
   },
   {
    "duration": 38,
    "start_time": "2022-06-30T21:05:44.215Z"
   },
   {
    "duration": 11,
    "start_time": "2022-06-30T21:05:44.255Z"
   },
   {
    "duration": 8,
    "start_time": "2022-06-30T21:05:44.268Z"
   },
   {
    "duration": 8,
    "start_time": "2022-06-30T21:05:44.278Z"
   },
   {
    "duration": 19,
    "start_time": "2022-06-30T21:05:44.291Z"
   },
   {
    "duration": 16,
    "start_time": "2022-06-30T21:05:44.341Z"
   },
   {
    "duration": 15,
    "start_time": "2022-06-30T21:05:44.360Z"
   },
   {
    "duration": 7,
    "start_time": "2022-06-30T21:05:44.378Z"
   },
   {
    "duration": 163,
    "start_time": "2022-06-30T21:05:44.388Z"
   },
   {
    "duration": 8,
    "start_time": "2022-06-30T21:05:44.553Z"
   },
   {
    "duration": 15,
    "start_time": "2022-06-30T21:05:44.563Z"
   },
   {
    "duration": 6,
    "start_time": "2022-06-30T21:05:44.581Z"
   },
   {
    "duration": 11,
    "start_time": "2022-06-30T21:05:44.588Z"
   },
   {
    "duration": 17,
    "start_time": "2022-06-30T21:05:44.601Z"
   },
   {
    "duration": 7,
    "start_time": "2022-06-30T21:05:44.641Z"
   },
   {
    "duration": 149,
    "start_time": "2022-06-30T21:05:44.651Z"
   },
   {
    "duration": 16,
    "start_time": "2022-06-30T21:05:44.802Z"
   },
   {
    "duration": 64,
    "start_time": "2022-06-30T21:05:44.820Z"
   },
   {
    "duration": 23,
    "start_time": "2022-06-30T21:05:44.886Z"
   },
   {
    "duration": 33,
    "start_time": "2022-06-30T21:05:44.911Z"
   },
   {
    "duration": 9,
    "start_time": "2022-06-30T21:05:44.946Z"
   },
   {
    "duration": 9,
    "start_time": "2022-06-30T21:05:44.957Z"
   },
   {
    "duration": 24,
    "start_time": "2022-06-30T21:05:44.970Z"
   },
   {
    "duration": 59,
    "start_time": "2022-06-30T21:05:44.996Z"
   },
   {
    "duration": 22,
    "start_time": "2022-06-30T21:05:45.057Z"
   },
   {
    "duration": 18,
    "start_time": "2022-06-30T21:05:45.080Z"
   },
   {
    "duration": 7,
    "start_time": "2022-06-30T21:05:45.100Z"
   },
   {
    "duration": 39,
    "start_time": "2022-06-30T21:05:45.109Z"
   },
   {
    "duration": 5,
    "start_time": "2022-06-30T21:05:45.150Z"
   },
   {
    "duration": 25,
    "start_time": "2022-06-30T21:05:45.157Z"
   },
   {
    "duration": 3,
    "start_time": "2022-06-30T21:05:45.184Z"
   },
   {
    "duration": 16,
    "start_time": "2022-06-30T21:05:45.189Z"
   },
   {
    "duration": 431,
    "start_time": "2022-06-30T21:05:45.207Z"
   },
   {
    "duration": 17,
    "start_time": "2022-06-30T21:05:45.641Z"
   },
   {
    "duration": 362,
    "start_time": "2022-06-30T21:05:45.660Z"
   },
   {
    "duration": 1155,
    "start_time": "2022-06-30T21:05:46.024Z"
   },
   {
    "duration": 7,
    "start_time": "2022-06-30T21:05:47.181Z"
   },
   {
    "duration": 42,
    "start_time": "2022-06-30T21:05:47.190Z"
   },
   {
    "duration": 120,
    "start_time": "2022-06-30T21:14:11.804Z"
   },
   {
    "duration": 22,
    "start_time": "2022-06-30T21:14:21.924Z"
   },
   {
    "duration": 11,
    "start_time": "2022-06-30T21:19:11.750Z"
   },
   {
    "duration": 133,
    "start_time": "2022-06-30T21:21:38.565Z"
   },
   {
    "duration": 160,
    "start_time": "2022-06-30T21:23:09.314Z"
   },
   {
    "duration": 136,
    "start_time": "2022-06-30T21:23:18.482Z"
   },
   {
    "duration": 139,
    "start_time": "2022-06-30T21:24:11.679Z"
   },
   {
    "duration": 1226,
    "start_time": "2022-06-30T21:24:19.553Z"
   },
   {
    "duration": 1350,
    "start_time": "2022-06-30T21:24:59.300Z"
   },
   {
    "duration": 141,
    "start_time": "2022-06-30T21:31:08.023Z"
   },
   {
    "duration": 10,
    "start_time": "2022-06-30T21:32:59.808Z"
   },
   {
    "duration": 203,
    "start_time": "2022-06-30T21:33:04.658Z"
   },
   {
    "duration": 139,
    "start_time": "2022-06-30T21:33:20.887Z"
   },
   {
    "duration": 10,
    "start_time": "2022-06-30T21:35:36.232Z"
   },
   {
    "duration": 128,
    "start_time": "2022-06-30T21:35:37.293Z"
   },
   {
    "duration": 13,
    "start_time": "2022-06-30T21:36:09.592Z"
   },
   {
    "duration": 13,
    "start_time": "2022-06-30T21:37:16.366Z"
   },
   {
    "duration": 106,
    "start_time": "2022-06-30T21:37:19.146Z"
   },
   {
    "duration": 1592,
    "start_time": "2022-06-30T21:37:57.947Z"
   },
   {
    "duration": 14,
    "start_time": "2022-06-30T21:38:53.847Z"
   },
   {
    "duration": 13,
    "start_time": "2022-06-30T21:39:11.759Z"
   },
   {
    "duration": 1237,
    "start_time": "2022-06-30T21:39:32.953Z"
   },
   {
    "duration": 54,
    "start_time": "2022-06-30T21:39:34.192Z"
   },
   {
    "duration": 15,
    "start_time": "2022-06-30T21:39:34.248Z"
   },
   {
    "duration": 24,
    "start_time": "2022-06-30T21:39:34.265Z"
   },
   {
    "duration": 30,
    "start_time": "2022-06-30T21:39:34.291Z"
   },
   {
    "duration": 17,
    "start_time": "2022-06-30T21:39:34.342Z"
   },
   {
    "duration": 12,
    "start_time": "2022-06-30T21:39:34.361Z"
   },
   {
    "duration": 4,
    "start_time": "2022-06-30T21:39:34.375Z"
   },
   {
    "duration": 10,
    "start_time": "2022-06-30T21:39:34.381Z"
   },
   {
    "duration": 26,
    "start_time": "2022-06-30T21:39:34.393Z"
   },
   {
    "duration": 17,
    "start_time": "2022-06-30T21:39:34.442Z"
   },
   {
    "duration": 9,
    "start_time": "2022-06-30T21:39:34.461Z"
   },
   {
    "duration": 6,
    "start_time": "2022-06-30T21:39:34.472Z"
   },
   {
    "duration": 138,
    "start_time": "2022-06-30T21:39:34.481Z"
   },
   {
    "duration": 8,
    "start_time": "2022-06-30T21:39:34.620Z"
   },
   {
    "duration": 35,
    "start_time": "2022-06-30T21:39:34.629Z"
   },
   {
    "duration": 7,
    "start_time": "2022-06-30T21:39:34.665Z"
   },
   {
    "duration": 12,
    "start_time": "2022-06-30T21:39:34.674Z"
   },
   {
    "duration": 9,
    "start_time": "2022-06-30T21:39:34.688Z"
   },
   {
    "duration": 7,
    "start_time": "2022-06-30T21:39:34.698Z"
   },
   {
    "duration": 176,
    "start_time": "2022-06-30T21:39:34.707Z"
   },
   {
    "duration": 19,
    "start_time": "2022-06-30T21:39:34.885Z"
   },
   {
    "duration": 72,
    "start_time": "2022-06-30T21:39:34.906Z"
   },
   {
    "duration": 25,
    "start_time": "2022-06-30T21:39:34.981Z"
   },
   {
    "duration": 13,
    "start_time": "2022-06-30T21:39:35.008Z"
   },
   {
    "duration": 25,
    "start_time": "2022-06-30T21:39:35.023Z"
   },
   {
    "duration": 11,
    "start_time": "2022-06-30T21:39:35.051Z"
   },
   {
    "duration": 33,
    "start_time": "2022-06-30T21:39:35.064Z"
   },
   {
    "duration": 58,
    "start_time": "2022-06-30T21:39:35.099Z"
   },
   {
    "duration": 22,
    "start_time": "2022-06-30T21:39:35.159Z"
   },
   {
    "duration": 18,
    "start_time": "2022-06-30T21:39:35.183Z"
   },
   {
    "duration": 7,
    "start_time": "2022-06-30T21:39:35.203Z"
   },
   {
    "duration": 38,
    "start_time": "2022-06-30T21:39:35.212Z"
   },
   {
    "duration": 6,
    "start_time": "2022-06-30T21:39:35.252Z"
   },
   {
    "duration": 20,
    "start_time": "2022-06-30T21:39:35.260Z"
   },
   {
    "duration": 12,
    "start_time": "2022-06-30T21:39:35.282Z"
   },
   {
    "duration": 17,
    "start_time": "2022-06-30T21:39:35.295Z"
   },
   {
    "duration": 414,
    "start_time": "2022-06-30T21:39:35.314Z"
   },
   {
    "duration": 21,
    "start_time": "2022-06-30T21:39:35.730Z"
   },
   {
    "duration": 350,
    "start_time": "2022-06-30T21:39:35.753Z"
   },
   {
    "duration": 1147,
    "start_time": "2022-06-30T21:39:36.108Z"
   },
   {
    "duration": 7,
    "start_time": "2022-06-30T21:39:37.257Z"
   },
   {
    "duration": 27,
    "start_time": "2022-06-30T21:39:37.265Z"
   },
   {
    "duration": 12,
    "start_time": "2022-06-30T21:39:37.294Z"
   },
   {
    "duration": 14,
    "start_time": "2022-06-30T21:43:33.824Z"
   },
   {
    "duration": 23,
    "start_time": "2022-06-30T21:44:25.481Z"
   },
   {
    "duration": 15,
    "start_time": "2022-06-30T21:45:26.830Z"
   },
   {
    "duration": 297,
    "start_time": "2022-06-30T21:48:45.820Z"
   },
   {
    "duration": 308,
    "start_time": "2022-06-30T21:51:14.059Z"
   },
   {
    "duration": 387,
    "start_time": "2022-06-30T21:51:28.355Z"
   },
   {
    "duration": 301,
    "start_time": "2022-06-30T21:51:35.048Z"
   },
   {
    "duration": 414,
    "start_time": "2022-06-30T21:51:41.085Z"
   },
   {
    "duration": 403,
    "start_time": "2022-06-30T21:51:47.369Z"
   },
   {
    "duration": 315,
    "start_time": "2022-06-30T21:52:18.587Z"
   },
   {
    "duration": 211,
    "start_time": "2022-06-30T21:52:30.970Z"
   },
   {
    "duration": 14,
    "start_time": "2022-06-30T21:54:27.121Z"
   },
   {
    "duration": 77,
    "start_time": "2022-06-30T21:54:43.446Z"
   },
   {
    "duration": 8,
    "start_time": "2022-06-30T21:55:21.898Z"
   },
   {
    "duration": 11,
    "start_time": "2022-06-30T21:55:37.650Z"
   },
   {
    "duration": 16,
    "start_time": "2022-06-30T21:56:03.671Z"
   },
   {
    "duration": 215,
    "start_time": "2022-06-30T21:56:05.464Z"
   },
   {
    "duration": 388,
    "start_time": "2022-06-30T21:56:19.216Z"
   },
   {
    "duration": 336,
    "start_time": "2022-06-30T21:56:28.987Z"
   },
   {
    "duration": 9,
    "start_time": "2022-06-30T22:01:06.647Z"
   },
   {
    "duration": 11,
    "start_time": "2022-06-30T22:01:22.359Z"
   },
   {
    "duration": 11,
    "start_time": "2022-06-30T22:02:01.595Z"
   },
   {
    "duration": 94,
    "start_time": "2022-06-30T22:06:19.446Z"
   },
   {
    "duration": 17,
    "start_time": "2022-06-30T22:06:26.398Z"
   },
   {
    "duration": 110,
    "start_time": "2022-06-30T22:07:07.293Z"
   },
   {
    "duration": 92,
    "start_time": "2022-06-30T22:07:27.627Z"
   },
   {
    "duration": 210,
    "start_time": "2022-06-30T22:07:29.342Z"
   },
   {
    "duration": 15,
    "start_time": "2022-06-30T22:07:54.513Z"
   },
   {
    "duration": 121,
    "start_time": "2022-06-30T22:07:56.569Z"
   },
   {
    "duration": 24,
    "start_time": "2022-06-30T22:09:10.107Z"
   },
   {
    "duration": 15,
    "start_time": "2022-06-30T22:09:37.950Z"
   },
   {
    "duration": 97,
    "start_time": "2022-06-30T22:12:48.784Z"
   },
   {
    "duration": 10,
    "start_time": "2022-06-30T22:13:19.895Z"
   },
   {
    "duration": 10,
    "start_time": "2022-06-30T22:13:32.631Z"
   },
   {
    "duration": 238,
    "start_time": "2022-06-30T22:15:06.953Z"
   },
   {
    "duration": 407,
    "start_time": "2022-06-30T22:15:24.089Z"
   },
   {
    "duration": 21,
    "start_time": "2022-06-30T22:31:12.059Z"
   },
   {
    "duration": 27,
    "start_time": "2022-06-30T22:31:31.570Z"
   },
   {
    "duration": 32063,
    "start_time": "2022-06-30T22:34:10.369Z"
   },
   {
    "duration": 8,
    "start_time": "2022-06-30T22:39:24.690Z"
   },
   {
    "duration": 22,
    "start_time": "2022-06-30T22:39:25.481Z"
   },
   {
    "duration": 8,
    "start_time": "2022-06-30T22:40:00.151Z"
   },
   {
    "duration": 21,
    "start_time": "2022-06-30T22:40:00.878Z"
   },
   {
    "duration": 1150,
    "start_time": "2022-06-30T22:40:21.328Z"
   },
   {
    "duration": 53,
    "start_time": "2022-06-30T22:40:22.481Z"
   },
   {
    "duration": 19,
    "start_time": "2022-06-30T22:40:22.537Z"
   },
   {
    "duration": 26,
    "start_time": "2022-06-30T22:40:22.559Z"
   },
   {
    "duration": 32,
    "start_time": "2022-06-30T22:40:22.586Z"
   },
   {
    "duration": 34,
    "start_time": "2022-06-30T22:40:22.620Z"
   },
   {
    "duration": 10,
    "start_time": "2022-06-30T22:40:22.656Z"
   },
   {
    "duration": 3,
    "start_time": "2022-06-30T22:40:22.667Z"
   },
   {
    "duration": 6,
    "start_time": "2022-06-30T22:40:22.672Z"
   },
   {
    "duration": 14,
    "start_time": "2022-06-30T22:40:22.681Z"
   },
   {
    "duration": 45,
    "start_time": "2022-06-30T22:40:22.697Z"
   },
   {
    "duration": 8,
    "start_time": "2022-06-30T22:40:22.743Z"
   },
   {
    "duration": 6,
    "start_time": "2022-06-30T22:40:22.753Z"
   },
   {
    "duration": 124,
    "start_time": "2022-06-30T22:40:22.761Z"
   },
   {
    "duration": 7,
    "start_time": "2022-06-30T22:40:22.887Z"
   },
   {
    "duration": 15,
    "start_time": "2022-06-30T22:40:22.896Z"
   },
   {
    "duration": 5,
    "start_time": "2022-06-30T22:40:22.912Z"
   },
   {
    "duration": 27,
    "start_time": "2022-06-30T22:40:22.919Z"
   },
   {
    "duration": 7,
    "start_time": "2022-06-30T22:40:22.947Z"
   },
   {
    "duration": 6,
    "start_time": "2022-06-30T22:40:22.956Z"
   },
   {
    "duration": 149,
    "start_time": "2022-06-30T22:40:22.963Z"
   },
   {
    "duration": 29,
    "start_time": "2022-06-30T22:40:23.114Z"
   },
   {
    "duration": 41,
    "start_time": "2022-06-30T22:40:23.145Z"
   },
   {
    "duration": 20,
    "start_time": "2022-06-30T22:40:23.188Z"
   },
   {
    "duration": 33,
    "start_time": "2022-06-30T22:40:23.210Z"
   },
   {
    "duration": 9,
    "start_time": "2022-06-30T22:40:23.244Z"
   },
   {
    "duration": 6,
    "start_time": "2022-06-30T22:40:23.255Z"
   },
   {
    "duration": 21,
    "start_time": "2022-06-30T22:40:23.264Z"
   },
   {
    "duration": 55,
    "start_time": "2022-06-30T22:40:23.287Z"
   },
   {
    "duration": 20,
    "start_time": "2022-06-30T22:40:23.344Z"
   },
   {
    "duration": 16,
    "start_time": "2022-06-30T22:40:23.365Z"
   },
   {
    "duration": 7,
    "start_time": "2022-06-30T22:40:23.383Z"
   },
   {
    "duration": 12,
    "start_time": "2022-06-30T22:40:23.391Z"
   },
   {
    "duration": 38,
    "start_time": "2022-06-30T22:40:23.404Z"
   },
   {
    "duration": 18,
    "start_time": "2022-06-30T22:40:23.444Z"
   },
   {
    "duration": 6,
    "start_time": "2022-06-30T22:40:23.464Z"
   },
   {
    "duration": 16,
    "start_time": "2022-06-30T22:40:23.472Z"
   },
   {
    "duration": 398,
    "start_time": "2022-06-30T22:40:23.490Z"
   },
   {
    "duration": 15,
    "start_time": "2022-06-30T22:40:23.890Z"
   },
   {
    "duration": 324,
    "start_time": "2022-06-30T22:40:23.906Z"
   },
   {
    "duration": 1024,
    "start_time": "2022-06-30T22:40:24.231Z"
   },
   {
    "duration": 7,
    "start_time": "2022-06-30T22:40:25.257Z"
   },
   {
    "duration": 32,
    "start_time": "2022-06-30T22:40:25.266Z"
   },
   {
    "duration": 8,
    "start_time": "2022-06-30T22:40:49.480Z"
   },
   {
    "duration": 24,
    "start_time": "2022-06-30T22:40:50.421Z"
   },
   {
    "duration": 7,
    "start_time": "2022-06-30T22:58:43.854Z"
   },
   {
    "duration": 13,
    "start_time": "2022-06-30T22:58:56.684Z"
   },
   {
    "duration": 98,
    "start_time": "2022-06-30T23:02:10.485Z"
   },
   {
    "duration": 64,
    "start_time": "2022-06-30T23:02:17.208Z"
   },
   {
    "duration": 11,
    "start_time": "2022-06-30T23:03:00.003Z"
   },
   {
    "duration": 11,
    "start_time": "2022-06-30T23:03:34.492Z"
   },
   {
    "duration": 4,
    "start_time": "2022-06-30T23:04:22.990Z"
   },
   {
    "duration": 6,
    "start_time": "2022-06-30T23:04:36.335Z"
   },
   {
    "duration": 7,
    "start_time": "2022-06-30T23:04:58.860Z"
   },
   {
    "duration": 94,
    "start_time": "2022-06-30T23:06:54.230Z"
   },
   {
    "duration": 7,
    "start_time": "2022-06-30T23:07:48.449Z"
   },
   {
    "duration": 305,
    "start_time": "2022-06-30T23:07:49.455Z"
   },
   {
    "duration": 120,
    "start_time": "2022-06-30T23:08:38.577Z"
   },
   {
    "duration": 127,
    "start_time": "2022-06-30T23:09:38.429Z"
   },
   {
    "duration": 274,
    "start_time": "2022-06-30T23:10:28.828Z"
   },
   {
    "duration": 401,
    "start_time": "2022-06-30T23:10:42.841Z"
   },
   {
    "duration": 283,
    "start_time": "2022-06-30T23:12:34.194Z"
   },
   {
    "duration": 313,
    "start_time": "2022-06-30T23:12:46.677Z"
   },
   {
    "duration": 291,
    "start_time": "2022-06-30T23:13:37.763Z"
   },
   {
    "duration": 292,
    "start_time": "2022-06-30T23:13:45.458Z"
   },
   {
    "duration": 293,
    "start_time": "2022-06-30T23:13:50.442Z"
   },
   {
    "duration": 398,
    "start_time": "2022-06-30T23:14:27.200Z"
   },
   {
    "duration": 13,
    "start_time": "2022-06-30T23:16:15.089Z"
   },
   {
    "duration": 11,
    "start_time": "2022-06-30T23:16:56.137Z"
   },
   {
    "duration": 79,
    "start_time": "2022-06-30T23:17:06.754Z"
   },
   {
    "duration": 11,
    "start_time": "2022-06-30T23:17:19.057Z"
   },
   {
    "duration": 103,
    "start_time": "2022-06-30T23:17:43.274Z"
   },
   {
    "duration": 12,
    "start_time": "2022-06-30T23:17:47.978Z"
   },
   {
    "duration": 300,
    "start_time": "2022-06-30T23:17:49.299Z"
   },
   {
    "duration": 1135,
    "start_time": "2022-06-30T23:18:31.153Z"
   },
   {
    "duration": 53,
    "start_time": "2022-06-30T23:18:32.290Z"
   },
   {
    "duration": 16,
    "start_time": "2022-06-30T23:18:32.345Z"
   },
   {
    "duration": 22,
    "start_time": "2022-06-30T23:18:32.362Z"
   },
   {
    "duration": 31,
    "start_time": "2022-06-30T23:18:32.387Z"
   },
   {
    "duration": 37,
    "start_time": "2022-06-30T23:18:32.420Z"
   },
   {
    "duration": 12,
    "start_time": "2022-06-30T23:18:32.459Z"
   },
   {
    "duration": 9,
    "start_time": "2022-06-30T23:18:32.472Z"
   },
   {
    "duration": 12,
    "start_time": "2022-06-30T23:18:32.483Z"
   },
   {
    "duration": 22,
    "start_time": "2022-06-30T23:18:32.497Z"
   },
   {
    "duration": 35,
    "start_time": "2022-06-30T23:18:32.521Z"
   },
   {
    "duration": 11,
    "start_time": "2022-06-30T23:18:32.558Z"
   },
   {
    "duration": 7,
    "start_time": "2022-06-30T23:18:32.571Z"
   },
   {
    "duration": 117,
    "start_time": "2022-06-30T23:18:32.581Z"
   },
   {
    "duration": 7,
    "start_time": "2022-06-30T23:18:32.700Z"
   },
   {
    "duration": 17,
    "start_time": "2022-06-30T23:18:32.709Z"
   },
   {
    "duration": 5,
    "start_time": "2022-06-30T23:18:32.742Z"
   },
   {
    "duration": 10,
    "start_time": "2022-06-30T23:18:32.748Z"
   },
   {
    "duration": 10,
    "start_time": "2022-06-30T23:18:32.760Z"
   },
   {
    "duration": 7,
    "start_time": "2022-06-30T23:18:32.772Z"
   },
   {
    "duration": 145,
    "start_time": "2022-06-30T23:18:32.781Z"
   },
   {
    "duration": 28,
    "start_time": "2022-06-30T23:18:32.929Z"
   },
   {
    "duration": 43,
    "start_time": "2022-06-30T23:18:32.959Z"
   },
   {
    "duration": 42,
    "start_time": "2022-06-30T23:18:33.004Z"
   },
   {
    "duration": 10,
    "start_time": "2022-06-30T23:18:33.047Z"
   },
   {
    "duration": 9,
    "start_time": "2022-06-30T23:18:33.058Z"
   },
   {
    "duration": 7,
    "start_time": "2022-06-30T23:18:33.068Z"
   },
   {
    "duration": 20,
    "start_time": "2022-06-30T23:18:33.077Z"
   },
   {
    "duration": 58,
    "start_time": "2022-06-30T23:18:33.099Z"
   },
   {
    "duration": 19,
    "start_time": "2022-06-30T23:18:33.158Z"
   },
   {
    "duration": 15,
    "start_time": "2022-06-30T23:18:33.179Z"
   },
   {
    "duration": 10,
    "start_time": "2022-06-30T23:18:33.196Z"
   },
   {
    "duration": 12,
    "start_time": "2022-06-30T23:18:33.208Z"
   },
   {
    "duration": 5,
    "start_time": "2022-06-30T23:18:33.241Z"
   },
   {
    "duration": 20,
    "start_time": "2022-06-30T23:18:33.247Z"
   },
   {
    "duration": 5,
    "start_time": "2022-06-30T23:18:33.268Z"
   },
   {
    "duration": 16,
    "start_time": "2022-06-30T23:18:33.274Z"
   },
   {
    "duration": 381,
    "start_time": "2022-06-30T23:18:33.292Z"
   },
   {
    "duration": 13,
    "start_time": "2022-06-30T23:18:33.675Z"
   },
   {
    "duration": 331,
    "start_time": "2022-06-30T23:18:33.690Z"
   },
   {
    "duration": 1046,
    "start_time": "2022-06-30T23:18:34.024Z"
   },
   {
    "duration": 8,
    "start_time": "2022-06-30T23:18:35.072Z"
   },
   {
    "duration": 29,
    "start_time": "2022-06-30T23:18:35.081Z"
   },
   {
    "duration": 12,
    "start_time": "2022-06-30T23:18:35.111Z"
   },
   {
    "duration": 331,
    "start_time": "2022-06-30T23:18:35.125Z"
   },
   {
    "duration": 9,
    "start_time": "2022-06-30T23:22:10.506Z"
   },
   {
    "duration": 27,
    "start_time": "2022-06-30T23:22:11.225Z"
   },
   {
    "duration": 13,
    "start_time": "2022-06-30T23:22:12.363Z"
   },
   {
    "duration": 339,
    "start_time": "2022-06-30T23:22:13.089Z"
   },
   {
    "duration": 8,
    "start_time": "2022-06-30T23:22:44.745Z"
   },
   {
    "duration": 21,
    "start_time": "2022-06-30T23:22:45.335Z"
   },
   {
    "duration": 12,
    "start_time": "2022-06-30T23:22:46.482Z"
   },
   {
    "duration": 291,
    "start_time": "2022-06-30T23:22:47.002Z"
   },
   {
    "duration": 22,
    "start_time": "2022-06-30T23:27:33.979Z"
   },
   {
    "duration": 494,
    "start_time": "2022-06-30T23:31:09.210Z"
   },
   {
    "duration": 1053,
    "start_time": "2022-06-30T23:31:35.464Z"
   },
   {
    "duration": 25,
    "start_time": "2022-06-30T23:31:40.712Z"
   },
   {
    "duration": 14,
    "start_time": "2022-06-30T23:32:23.291Z"
   },
   {
    "duration": 12,
    "start_time": "2022-06-30T23:32:55.496Z"
   },
   {
    "duration": 13,
    "start_time": "2022-06-30T23:33:22.990Z"
   },
   {
    "duration": 660,
    "start_time": "2022-06-30T23:37:20.890Z"
   },
   {
    "duration": 152,
    "start_time": "2022-06-30T23:47:03.664Z"
   },
   {
    "duration": 141,
    "start_time": "2022-06-30T23:47:46.901Z"
   },
   {
    "duration": 187,
    "start_time": "2022-06-30T23:48:22.498Z"
   },
   {
    "duration": 131,
    "start_time": "2022-06-30T23:48:41.066Z"
   },
   {
    "duration": 144,
    "start_time": "2022-06-30T23:48:50.980Z"
   },
   {
    "duration": 10,
    "start_time": "2022-06-30T23:50:34.395Z"
   },
   {
    "duration": 12,
    "start_time": "2022-06-30T23:51:41.103Z"
   },
   {
    "duration": 4,
    "start_time": "2022-06-30T23:53:07.066Z"
   },
   {
    "duration": 6,
    "start_time": "2022-06-30T23:54:29.703Z"
   },
   {
    "duration": 6,
    "start_time": "2022-06-30T23:55:04.400Z"
   },
   {
    "duration": 12,
    "start_time": "2022-06-30T23:57:42.358Z"
   },
   {
    "duration": 13,
    "start_time": "2022-06-30T23:58:30.197Z"
   },
   {
    "duration": 8,
    "start_time": "2022-06-30T23:58:40.917Z"
   },
   {
    "duration": 264,
    "start_time": "2022-06-30T23:59:31.784Z"
   },
   {
    "duration": 269,
    "start_time": "2022-06-30T23:59:54.636Z"
   },
   {
    "duration": 5,
    "start_time": "2022-07-01T00:01:17.076Z"
   },
   {
    "duration": 7,
    "start_time": "2022-07-01T00:01:32.621Z"
   },
   {
    "duration": 22,
    "start_time": "2022-07-01T00:01:33.437Z"
   },
   {
    "duration": 11,
    "start_time": "2022-07-01T00:01:34.901Z"
   },
   {
    "duration": 294,
    "start_time": "2022-07-01T00:01:35.303Z"
   },
   {
    "duration": 21,
    "start_time": "2022-07-01T00:01:35.730Z"
   },
   {
    "duration": 394,
    "start_time": "2022-07-01T00:01:37.277Z"
   },
   {
    "duration": 5,
    "start_time": "2022-07-01T00:01:38.013Z"
   },
   {
    "duration": 5,
    "start_time": "2022-07-01T00:01:50.009Z"
   },
   {
    "duration": 278,
    "start_time": "2022-07-01T00:02:28.713Z"
   },
   {
    "duration": 298,
    "start_time": "2022-07-01T00:03:14.487Z"
   },
   {
    "duration": 12,
    "start_time": "2022-07-01T00:05:36.870Z"
   },
   {
    "duration": 11,
    "start_time": "2022-07-01T00:05:49.263Z"
   },
   {
    "duration": 13,
    "start_time": "2022-07-01T00:06:58.628Z"
   },
   {
    "duration": 13,
    "start_time": "2022-07-01T00:07:09.170Z"
   },
   {
    "duration": 5,
    "start_time": "2022-07-01T00:07:48.059Z"
   },
   {
    "duration": 13,
    "start_time": "2022-07-01T00:08:06.748Z"
   },
   {
    "duration": 14,
    "start_time": "2022-07-01T00:09:00.449Z"
   },
   {
    "duration": 14,
    "start_time": "2022-07-01T00:09:31.225Z"
   },
   {
    "duration": 8,
    "start_time": "2022-07-01T00:11:03.222Z"
   },
   {
    "duration": 26,
    "start_time": "2022-07-01T00:11:06.341Z"
   },
   {
    "duration": 12,
    "start_time": "2022-07-01T00:11:06.936Z"
   },
   {
    "duration": 327,
    "start_time": "2022-07-01T00:11:07.181Z"
   },
   {
    "duration": 21,
    "start_time": "2022-07-01T00:11:07.510Z"
   },
   {
    "duration": 263,
    "start_time": "2022-07-01T00:11:08.116Z"
   },
   {
    "duration": 7,
    "start_time": "2022-07-01T00:11:08.381Z"
   },
   {
    "duration": 13,
    "start_time": "2022-07-01T00:11:08.584Z"
   },
   {
    "duration": 8,
    "start_time": "2022-07-01T00:11:34.959Z"
   },
   {
    "duration": 6,
    "start_time": "2022-07-01T00:11:48.463Z"
   },
   {
    "duration": 13,
    "start_time": "2022-07-01T00:12:07.671Z"
   },
   {
    "duration": 5,
    "start_time": "2022-07-01T00:12:31.533Z"
   },
   {
    "duration": 1174,
    "start_time": "2022-07-01T00:13:06.821Z"
   },
   {
    "duration": 53,
    "start_time": "2022-07-01T00:13:07.997Z"
   },
   {
    "duration": 26,
    "start_time": "2022-07-01T00:13:08.052Z"
   },
   {
    "duration": 23,
    "start_time": "2022-07-01T00:13:08.080Z"
   },
   {
    "duration": 37,
    "start_time": "2022-07-01T00:13:08.105Z"
   },
   {
    "duration": 17,
    "start_time": "2022-07-01T00:13:08.144Z"
   },
   {
    "duration": 11,
    "start_time": "2022-07-01T00:13:08.162Z"
   },
   {
    "duration": 3,
    "start_time": "2022-07-01T00:13:08.174Z"
   },
   {
    "duration": 6,
    "start_time": "2022-07-01T00:13:08.179Z"
   },
   {
    "duration": 14,
    "start_time": "2022-07-01T00:13:08.187Z"
   },
   {
    "duration": 49,
    "start_time": "2022-07-01T00:13:08.203Z"
   },
   {
    "duration": 9,
    "start_time": "2022-07-01T00:13:08.254Z"
   },
   {
    "duration": 5,
    "start_time": "2022-07-01T00:13:08.265Z"
   },
   {
    "duration": 120,
    "start_time": "2022-07-01T00:13:08.273Z"
   },
   {
    "duration": 7,
    "start_time": "2022-07-01T00:13:08.395Z"
   },
   {
    "duration": 15,
    "start_time": "2022-07-01T00:13:08.403Z"
   },
   {
    "duration": 6,
    "start_time": "2022-07-01T00:13:08.419Z"
   },
   {
    "duration": 10,
    "start_time": "2022-07-01T00:13:08.446Z"
   },
   {
    "duration": 9,
    "start_time": "2022-07-01T00:13:08.458Z"
   },
   {
    "duration": 11,
    "start_time": "2022-07-01T00:13:08.468Z"
   },
   {
    "duration": 145,
    "start_time": "2022-07-01T00:13:08.480Z"
   },
   {
    "duration": 26,
    "start_time": "2022-07-01T00:13:08.626Z"
   },
   {
    "duration": 43,
    "start_time": "2022-07-01T00:13:08.653Z"
   },
   {
    "duration": 20,
    "start_time": "2022-07-01T00:13:08.698Z"
   },
   {
    "duration": 29,
    "start_time": "2022-07-01T00:13:08.720Z"
   },
   {
    "duration": 9,
    "start_time": "2022-07-01T00:13:08.752Z"
   },
   {
    "duration": 7,
    "start_time": "2022-07-01T00:13:08.763Z"
   },
   {
    "duration": 21,
    "start_time": "2022-07-01T00:13:08.771Z"
   },
   {
    "duration": 56,
    "start_time": "2022-07-01T00:13:08.794Z"
   },
   {
    "duration": 19,
    "start_time": "2022-07-01T00:13:08.852Z"
   },
   {
    "duration": 17,
    "start_time": "2022-07-01T00:13:08.872Z"
   },
   {
    "duration": 6,
    "start_time": "2022-07-01T00:13:08.890Z"
   },
   {
    "duration": 11,
    "start_time": "2022-07-01T00:13:08.898Z"
   },
   {
    "duration": 33,
    "start_time": "2022-07-01T00:13:08.911Z"
   },
   {
    "duration": 15,
    "start_time": "2022-07-01T00:13:08.946Z"
   },
   {
    "duration": 3,
    "start_time": "2022-07-01T00:13:08.963Z"
   },
   {
    "duration": 14,
    "start_time": "2022-07-01T00:13:08.968Z"
   },
   {
    "duration": 388,
    "start_time": "2022-07-01T00:13:08.984Z"
   },
   {
    "duration": 15,
    "start_time": "2022-07-01T00:13:09.373Z"
   },
   {
    "duration": 324,
    "start_time": "2022-07-01T00:13:09.390Z"
   },
   {
    "duration": 1046,
    "start_time": "2022-07-01T00:13:09.717Z"
   },
   {
    "duration": 8,
    "start_time": "2022-07-01T00:13:10.764Z"
   },
   {
    "duration": 15,
    "start_time": "2022-07-01T00:13:10.774Z"
   },
   {
    "duration": 6,
    "start_time": "2022-07-01T00:13:10.790Z"
   },
   {
    "duration": 22,
    "start_time": "2022-07-01T00:13:10.798Z"
   },
   {
    "duration": 12,
    "start_time": "2022-07-01T00:13:10.841Z"
   },
   {
    "duration": 307,
    "start_time": "2022-07-01T00:13:10.855Z"
   },
   {
    "duration": 22,
    "start_time": "2022-07-01T00:13:11.163Z"
   },
   {
    "duration": 284,
    "start_time": "2022-07-01T00:13:11.186Z"
   },
   {
    "duration": 73,
    "start_time": "2022-07-01T00:14:20.328Z"
   },
   {
    "duration": 13,
    "start_time": "2022-07-01T00:14:28.470Z"
   },
   {
    "duration": 3,
    "start_time": "2022-07-01T00:18:01.747Z"
   },
   {
    "duration": 3,
    "start_time": "2022-07-01T00:18:39.264Z"
   },
   {
    "duration": 2,
    "start_time": "2022-07-01T00:23:01.740Z"
   },
   {
    "duration": 13,
    "start_time": "2022-07-01T00:30:28.222Z"
   },
   {
    "duration": 192,
    "start_time": "2022-07-01T00:34:39.092Z"
   },
   {
    "duration": 266,
    "start_time": "2022-07-01T00:35:09.991Z"
   },
   {
    "duration": 265,
    "start_time": "2022-07-01T00:35:30.295Z"
   },
   {
    "duration": 275,
    "start_time": "2022-07-01T00:35:48.561Z"
   },
   {
    "duration": 14,
    "start_time": "2022-07-01T00:36:27.126Z"
   },
   {
    "duration": 42,
    "start_time": "2022-07-01T00:36:54.944Z"
   },
   {
    "duration": 13,
    "start_time": "2022-07-01T00:37:02.655Z"
   },
   {
    "duration": 12,
    "start_time": "2022-07-01T00:37:47.845Z"
   },
   {
    "duration": 14,
    "start_time": "2022-07-01T00:42:00.862Z"
   },
   {
    "duration": 211,
    "start_time": "2022-07-01T00:42:55.815Z"
   },
   {
    "duration": 3,
    "start_time": "2022-07-01T00:49:20.592Z"
   },
   {
    "duration": 3,
    "start_time": "2022-07-01T00:49:43.465Z"
   },
   {
    "duration": 13,
    "start_time": "2022-07-01T00:52:14.273Z"
   },
   {
    "duration": 13,
    "start_time": "2022-07-01T00:52:38.107Z"
   },
   {
    "duration": 24,
    "start_time": "2022-07-01T00:53:30.587Z"
   },
   {
    "duration": 33,
    "start_time": "2022-07-01T00:54:09.567Z"
   },
   {
    "duration": 32,
    "start_time": "2022-07-01T00:59:45.362Z"
   },
   {
    "duration": 32,
    "start_time": "2022-07-01T01:08:34.154Z"
   },
   {
    "duration": 3,
    "start_time": "2022-07-01T01:17:40.469Z"
   },
   {
    "duration": 11,
    "start_time": "2022-07-01T01:21:43.685Z"
   },
   {
    "duration": 13,
    "start_time": "2022-07-01T01:22:00.726Z"
   },
   {
    "duration": 12,
    "start_time": "2022-07-01T01:22:12.640Z"
   },
   {
    "duration": 15,
    "start_time": "2022-07-01T01:22:34.474Z"
   },
   {
    "duration": 31,
    "start_time": "2022-07-01T01:23:34.998Z"
   },
   {
    "duration": 14,
    "start_time": "2022-07-01T01:24:02.588Z"
   },
   {
    "duration": 14,
    "start_time": "2022-07-01T01:24:03.481Z"
   },
   {
    "duration": 13,
    "start_time": "2022-07-01T01:24:04.256Z"
   },
   {
    "duration": 224,
    "start_time": "2022-07-01T01:28:22.142Z"
   },
   {
    "duration": 2,
    "start_time": "2022-07-01T01:39:23.990Z"
   },
   {
    "duration": 46,
    "start_time": "2022-07-01T01:52:01.331Z"
   },
   {
    "duration": 11,
    "start_time": "2022-07-01T01:52:19.599Z"
   },
   {
    "duration": 10,
    "start_time": "2022-07-01T01:57:06.854Z"
   },
   {
    "duration": 13,
    "start_time": "2022-07-01T01:57:50.744Z"
   },
   {
    "duration": 1462,
    "start_time": "2022-07-01T16:07:50.984Z"
   },
   {
    "duration": 217,
    "start_time": "2022-07-01T16:07:52.449Z"
   },
   {
    "duration": 21,
    "start_time": "2022-07-01T16:07:52.668Z"
   },
   {
    "duration": 32,
    "start_time": "2022-07-01T16:07:52.690Z"
   },
   {
    "duration": 38,
    "start_time": "2022-07-01T16:07:52.725Z"
   },
   {
    "duration": 17,
    "start_time": "2022-07-01T16:07:52.765Z"
   },
   {
    "duration": 11,
    "start_time": "2022-07-01T16:07:52.784Z"
   },
   {
    "duration": 19,
    "start_time": "2022-07-01T16:07:52.797Z"
   },
   {
    "duration": 13,
    "start_time": "2022-07-01T16:07:52.818Z"
   },
   {
    "duration": 31,
    "start_time": "2022-07-01T16:07:52.834Z"
   },
   {
    "duration": 18,
    "start_time": "2022-07-01T16:07:52.867Z"
   },
   {
    "duration": 10,
    "start_time": "2022-07-01T16:07:52.887Z"
   },
   {
    "duration": 6,
    "start_time": "2022-07-01T16:07:52.900Z"
   },
   {
    "duration": 166,
    "start_time": "2022-07-01T16:07:52.910Z"
   },
   {
    "duration": 10,
    "start_time": "2022-07-01T16:07:53.078Z"
   },
   {
    "duration": 30,
    "start_time": "2022-07-01T16:07:53.090Z"
   },
   {
    "duration": 18,
    "start_time": "2022-07-01T16:07:53.123Z"
   },
   {
    "duration": 13,
    "start_time": "2022-07-01T16:07:53.142Z"
   },
   {
    "duration": 18,
    "start_time": "2022-07-01T16:07:53.157Z"
   },
   {
    "duration": 14,
    "start_time": "2022-07-01T16:07:53.178Z"
   },
   {
    "duration": 151,
    "start_time": "2022-07-01T16:07:53.194Z"
   },
   {
    "duration": 17,
    "start_time": "2022-07-01T16:07:53.347Z"
   },
   {
    "duration": 44,
    "start_time": "2022-07-01T16:07:53.366Z"
   },
   {
    "duration": 47,
    "start_time": "2022-07-01T16:07:53.412Z"
   },
   {
    "duration": 10,
    "start_time": "2022-07-01T16:07:53.461Z"
   },
   {
    "duration": 9,
    "start_time": "2022-07-01T16:07:53.473Z"
   },
   {
    "duration": 10,
    "start_time": "2022-07-01T16:07:53.483Z"
   },
   {
    "duration": 52,
    "start_time": "2022-07-01T16:07:53.494Z"
   },
   {
    "duration": 33,
    "start_time": "2022-07-01T16:07:53.548Z"
   },
   {
    "duration": 22,
    "start_time": "2022-07-01T16:07:53.583Z"
   },
   {
    "duration": 44,
    "start_time": "2022-07-01T16:07:53.607Z"
   },
   {
    "duration": 8,
    "start_time": "2022-07-01T16:07:53.653Z"
   },
   {
    "duration": 16,
    "start_time": "2022-07-01T16:07:53.662Z"
   },
   {
    "duration": 4,
    "start_time": "2022-07-01T16:07:53.680Z"
   },
   {
    "duration": 12,
    "start_time": "2022-07-01T16:07:53.686Z"
   },
   {
    "duration": 42,
    "start_time": "2022-07-01T16:07:53.701Z"
   },
   {
    "duration": 13,
    "start_time": "2022-07-01T16:07:53.745Z"
   },
   {
    "duration": 52,
    "start_time": "2022-07-01T16:07:53.761Z"
   },
   {
    "duration": 422,
    "start_time": "2022-07-01T16:07:53.816Z"
   },
   {
    "duration": 2,
    "start_time": "2022-07-01T16:07:54.240Z"
   },
   {
    "duration": 32,
    "start_time": "2022-07-01T16:07:54.247Z"
   },
   {
    "duration": 333,
    "start_time": "2022-07-01T16:07:54.281Z"
   },
   {
    "duration": 1088,
    "start_time": "2022-07-01T16:07:54.615Z"
   },
   {
    "duration": 8,
    "start_time": "2022-07-01T16:07:55.705Z"
   },
   {
    "duration": 27,
    "start_time": "2022-07-01T16:07:55.715Z"
   },
   {
    "duration": 8,
    "start_time": "2022-07-01T16:07:55.744Z"
   },
   {
    "duration": 31,
    "start_time": "2022-07-01T16:07:55.754Z"
   },
   {
    "duration": 12,
    "start_time": "2022-07-01T16:07:55.787Z"
   },
   {
    "duration": 325,
    "start_time": "2022-07-01T16:07:55.800Z"
   },
   {
    "duration": 28,
    "start_time": "2022-07-01T16:07:56.126Z"
   },
   {
    "duration": 2,
    "start_time": "2022-07-01T16:07:56.155Z"
   },
   {
    "duration": 289,
    "start_time": "2022-07-01T16:07:56.159Z"
   },
   {
    "duration": 12,
    "start_time": "2022-07-01T16:07:56.450Z"
   },
   {
    "duration": 3,
    "start_time": "2022-07-01T16:07:56.463Z"
   },
   {
    "duration": 360,
    "start_time": "2022-07-01T16:07:56.467Z"
   },
   {
    "duration": 24,
    "start_time": "2022-07-01T16:07:56.829Z"
   },
   {
    "duration": 326,
    "start_time": "2022-07-01T16:07:56.856Z"
   },
   {
    "duration": 13,
    "start_time": "2022-07-01T16:07:57.184Z"
   },
   {
    "duration": 383,
    "start_time": "2022-07-01T16:07:57.199Z"
   },
   {
    "duration": 14,
    "start_time": "2022-07-01T16:07:57.584Z"
   },
   {
    "duration": 3,
    "start_time": "2022-07-01T16:07:57.600Z"
   },
   {
    "duration": 17,
    "start_time": "2022-07-01T16:07:57.605Z"
   },
   {
    "duration": 239,
    "start_time": "2022-07-01T16:07:57.642Z"
   },
   {
    "duration": 36,
    "start_time": "2022-07-01T16:07:57.883Z"
   },
   {
    "duration": 53,
    "start_time": "2022-07-01T16:07:57.921Z"
   },
   {
    "duration": 3,
    "start_time": "2022-07-01T16:07:57.976Z"
   },
   {
    "duration": 19,
    "start_time": "2022-07-01T16:07:57.982Z"
   },
   {
    "duration": 14,
    "start_time": "2022-07-01T16:07:58.003Z"
   },
   {
    "duration": 37,
    "start_time": "2022-07-01T16:07:58.019Z"
   },
   {
    "duration": 18,
    "start_time": "2022-07-01T16:07:58.058Z"
   },
   {
    "duration": 17,
    "start_time": "2022-07-01T16:07:58.078Z"
   },
   {
    "duration": 51,
    "start_time": "2022-07-01T17:12:40.190Z"
   },
   {
    "duration": 1356,
    "start_time": "2022-07-01T17:12:56.743Z"
   },
   {
    "duration": 86,
    "start_time": "2022-07-01T17:12:58.102Z"
   },
   {
    "duration": 15,
    "start_time": "2022-07-01T17:12:58.190Z"
   },
   {
    "duration": 21,
    "start_time": "2022-07-01T17:12:58.206Z"
   },
   {
    "duration": 41,
    "start_time": "2022-07-01T17:12:58.229Z"
   },
   {
    "duration": 20,
    "start_time": "2022-07-01T17:12:58.272Z"
   },
   {
    "duration": 11,
    "start_time": "2022-07-01T17:12:58.294Z"
   },
   {
    "duration": 3,
    "start_time": "2022-07-01T17:12:58.306Z"
   },
   {
    "duration": 14,
    "start_time": "2022-07-01T17:12:58.311Z"
   },
   {
    "duration": 19,
    "start_time": "2022-07-01T17:12:58.326Z"
   },
   {
    "duration": 42,
    "start_time": "2022-07-01T17:12:58.346Z"
   },
   {
    "duration": 8,
    "start_time": "2022-07-01T17:12:58.389Z"
   },
   {
    "duration": 9,
    "start_time": "2022-07-01T17:12:58.399Z"
   },
   {
    "duration": 113,
    "start_time": "2022-07-01T17:12:58.411Z"
   },
   {
    "duration": 6,
    "start_time": "2022-07-01T17:12:58.526Z"
   },
   {
    "duration": 17,
    "start_time": "2022-07-01T17:12:58.534Z"
   },
   {
    "duration": 14,
    "start_time": "2022-07-01T17:12:58.556Z"
   },
   {
    "duration": 12,
    "start_time": "2022-07-01T17:12:58.571Z"
   },
   {
    "duration": 11,
    "start_time": "2022-07-01T17:12:58.584Z"
   },
   {
    "duration": 6,
    "start_time": "2022-07-01T17:12:58.597Z"
   },
   {
    "duration": 133,
    "start_time": "2022-07-01T17:12:58.604Z"
   },
   {
    "duration": 27,
    "start_time": "2022-07-01T17:12:58.739Z"
   },
   {
    "duration": 43,
    "start_time": "2022-07-01T17:12:58.776Z"
   },
   {
    "duration": 19,
    "start_time": "2022-07-01T17:12:58.821Z"
   },
   {
    "duration": 13,
    "start_time": "2022-07-01T17:12:58.851Z"
   },
   {
    "duration": 28,
    "start_time": "2022-07-01T17:12:58.865Z"
   },
   {
    "duration": 7,
    "start_time": "2022-07-01T17:12:58.894Z"
   },
   {
    "duration": 21,
    "start_time": "2022-07-01T17:12:58.902Z"
   },
   {
    "duration": 37,
    "start_time": "2022-07-01T17:12:58.925Z"
   },
   {
    "duration": 23,
    "start_time": "2022-07-01T17:12:58.969Z"
   },
   {
    "duration": 16,
    "start_time": "2022-07-01T17:12:58.993Z"
   },
   {
    "duration": 6,
    "start_time": "2022-07-01T17:12:59.010Z"
   },
   {
    "duration": 11,
    "start_time": "2022-07-01T17:12:59.018Z"
   },
   {
    "duration": 21,
    "start_time": "2022-07-01T17:12:59.031Z"
   },
   {
    "duration": 9,
    "start_time": "2022-07-01T17:12:59.053Z"
   },
   {
    "duration": 46,
    "start_time": "2022-07-01T17:12:59.063Z"
   },
   {
    "duration": 5,
    "start_time": "2022-07-01T17:12:59.111Z"
   },
   {
    "duration": 12,
    "start_time": "2022-07-01T17:12:59.118Z"
   },
   {
    "duration": 376,
    "start_time": "2022-07-01T17:12:59.131Z"
   },
   {
    "duration": 3,
    "start_time": "2022-07-01T17:12:59.509Z"
   },
   {
    "duration": 16,
    "start_time": "2022-07-01T17:12:59.517Z"
   },
   {
    "duration": 326,
    "start_time": "2022-07-01T17:12:59.534Z"
   },
   {
    "duration": 1111,
    "start_time": "2022-07-01T17:12:59.861Z"
   },
   {
    "duration": 10,
    "start_time": "2022-07-01T17:13:00.974Z"
   },
   {
    "duration": 16,
    "start_time": "2022-07-01T17:13:00.986Z"
   },
   {
    "duration": 5,
    "start_time": "2022-07-01T17:13:01.004Z"
   },
   {
    "duration": 55,
    "start_time": "2022-07-01T17:13:01.011Z"
   },
   {
    "duration": 38,
    "start_time": "2022-07-01T17:13:01.068Z"
   },
   {
    "duration": 255,
    "start_time": "2022-07-01T17:13:01.107Z"
   },
   {
    "duration": 38,
    "start_time": "2022-07-01T17:13:01.369Z"
   },
   {
    "duration": 2,
    "start_time": "2022-07-01T17:13:01.410Z"
   },
   {
    "duration": 314,
    "start_time": "2022-07-01T17:13:01.414Z"
   },
   {
    "duration": 12,
    "start_time": "2022-07-01T17:13:01.730Z"
   },
   {
    "duration": 22,
    "start_time": "2022-07-01T17:13:01.759Z"
   },
   {
    "duration": 303,
    "start_time": "2022-07-01T17:13:01.783Z"
   },
   {
    "duration": 15,
    "start_time": "2022-07-01T17:13:02.088Z"
   },
   {
    "duration": 299,
    "start_time": "2022-07-01T17:13:02.105Z"
   },
   {
    "duration": 11,
    "start_time": "2022-07-01T17:13:02.406Z"
   },
   {
    "duration": 279,
    "start_time": "2022-07-01T17:13:02.419Z"
   },
   {
    "duration": 17,
    "start_time": "2022-07-01T17:13:02.701Z"
   },
   {
    "duration": 53,
    "start_time": "2022-07-01T17:13:02.720Z"
   },
   {
    "duration": 41,
    "start_time": "2022-07-01T17:13:02.774Z"
   },
   {
    "duration": 209,
    "start_time": "2022-07-01T17:13:02.817Z"
   },
   {
    "duration": 40,
    "start_time": "2022-07-01T17:13:03.027Z"
   },
   {
    "duration": 43,
    "start_time": "2022-07-01T17:13:03.069Z"
   },
   {
    "duration": 3,
    "start_time": "2022-07-01T17:13:03.113Z"
   },
   {
    "duration": 18,
    "start_time": "2022-07-01T17:13:03.117Z"
   },
   {
    "duration": 29,
    "start_time": "2022-07-01T17:13:03.136Z"
   },
   {
    "duration": 21,
    "start_time": "2022-07-01T17:13:03.172Z"
   },
   {
    "duration": 12,
    "start_time": "2022-07-01T17:13:03.195Z"
   },
   {
    "duration": 12,
    "start_time": "2022-07-01T17:13:03.209Z"
   },
   {
    "duration": 8,
    "start_time": "2022-07-01T17:13:58.928Z"
   },
   {
    "duration": 12,
    "start_time": "2022-07-01T17:14:00.031Z"
   },
   {
    "duration": 8,
    "start_time": "2022-07-01T17:14:00.286Z"
   },
   {
    "duration": 21,
    "start_time": "2022-07-01T17:14:00.520Z"
   },
   {
    "duration": 12,
    "start_time": "2022-07-01T17:14:01.083Z"
   },
   {
    "duration": 298,
    "start_time": "2022-07-01T17:14:01.303Z"
   },
   {
    "duration": 20,
    "start_time": "2022-07-01T17:14:01.603Z"
   },
   {
    "duration": 2,
    "start_time": "2022-07-01T17:14:02.087Z"
   },
   {
    "duration": 352,
    "start_time": "2022-07-01T17:14:02.342Z"
   },
   {
    "duration": 12,
    "start_time": "2022-07-01T17:14:02.696Z"
   },
   {
    "duration": 2,
    "start_time": "2022-07-01T17:14:03.081Z"
   },
   {
    "duration": 262,
    "start_time": "2022-07-01T17:14:03.283Z"
   },
   {
    "duration": 26,
    "start_time": "2022-07-01T17:14:03.551Z"
   },
   {
    "duration": 245,
    "start_time": "2022-07-01T17:14:03.898Z"
   },
   {
    "duration": 12,
    "start_time": "2022-07-01T17:14:04.279Z"
   },
   {
    "duration": 312,
    "start_time": "2022-07-01T17:14:05.116Z"
   },
   {
    "duration": 24,
    "start_time": "2022-07-01T17:14:05.430Z"
   },
   {
    "duration": 5,
    "start_time": "2022-07-01T17:14:05.670Z"
   },
   {
    "duration": 12,
    "start_time": "2022-07-01T17:14:05.821Z"
   },
   {
    "duration": 212,
    "start_time": "2022-07-01T17:14:06.186Z"
   },
   {
    "duration": 28,
    "start_time": "2022-07-01T17:14:06.888Z"
   },
   {
    "duration": 36,
    "start_time": "2022-07-01T17:14:07.272Z"
   },
   {
    "duration": 3,
    "start_time": "2022-07-01T17:14:07.618Z"
   },
   {
    "duration": 12,
    "start_time": "2022-07-01T17:14:07.804Z"
   },
   {
    "duration": 12,
    "start_time": "2022-07-01T17:14:08.122Z"
   },
   {
    "duration": 12,
    "start_time": "2022-07-01T17:14:08.333Z"
   },
   {
    "duration": 11,
    "start_time": "2022-07-01T17:14:09.146Z"
   },
   {
    "duration": 10,
    "start_time": "2022-07-01T17:14:09.333Z"
   },
   {
    "duration": 63,
    "start_time": "2022-07-01T21:17:55.985Z"
   },
   {
    "duration": 1361,
    "start_time": "2022-07-01T21:18:06.011Z"
   },
   {
    "duration": 210,
    "start_time": "2022-07-01T21:18:07.375Z"
   },
   {
    "duration": 14,
    "start_time": "2022-07-01T21:18:07.587Z"
   },
   {
    "duration": 19,
    "start_time": "2022-07-01T21:18:07.603Z"
   },
   {
    "duration": 29,
    "start_time": "2022-07-01T21:18:07.624Z"
   },
   {
    "duration": 15,
    "start_time": "2022-07-01T21:18:07.654Z"
   },
   {
    "duration": 9,
    "start_time": "2022-07-01T21:18:07.671Z"
   },
   {
    "duration": 4,
    "start_time": "2022-07-01T21:18:07.681Z"
   },
   {
    "duration": 6,
    "start_time": "2022-07-01T21:18:07.686Z"
   },
   {
    "duration": 46,
    "start_time": "2022-07-01T21:18:07.694Z"
   },
   {
    "duration": 16,
    "start_time": "2022-07-01T21:18:07.742Z"
   },
   {
    "duration": 9,
    "start_time": "2022-07-01T21:18:07.759Z"
   },
   {
    "duration": 6,
    "start_time": "2022-07-01T21:18:07.770Z"
   },
   {
    "duration": 102,
    "start_time": "2022-07-01T21:18:07.780Z"
   },
   {
    "duration": 6,
    "start_time": "2022-07-01T21:18:07.884Z"
   },
   {
    "duration": 12,
    "start_time": "2022-07-01T21:18:07.892Z"
   },
   {
    "duration": 4,
    "start_time": "2022-07-01T21:18:07.905Z"
   },
   {
    "duration": 26,
    "start_time": "2022-07-01T21:18:07.910Z"
   },
   {
    "duration": 6,
    "start_time": "2022-07-01T21:18:07.938Z"
   },
   {
    "duration": 13,
    "start_time": "2022-07-01T21:18:07.945Z"
   },
   {
    "duration": 137,
    "start_time": "2022-07-01T21:18:07.959Z"
   },
   {
    "duration": 15,
    "start_time": "2022-07-01T21:18:08.097Z"
   },
   {
    "duration": 47,
    "start_time": "2022-07-01T21:18:08.114Z"
   },
   {
    "duration": 17,
    "start_time": "2022-07-01T21:18:08.163Z"
   },
   {
    "duration": 8,
    "start_time": "2022-07-01T21:18:08.181Z"
   },
   {
    "duration": 9,
    "start_time": "2022-07-01T21:18:08.190Z"
   },
   {
    "duration": 5,
    "start_time": "2022-07-01T21:18:08.200Z"
   },
   {
    "duration": 53,
    "start_time": "2022-07-01T21:18:08.206Z"
   },
   {
    "duration": 26,
    "start_time": "2022-07-01T21:18:08.260Z"
   },
   {
    "duration": 17,
    "start_time": "2022-07-01T21:18:08.287Z"
   },
   {
    "duration": 13,
    "start_time": "2022-07-01T21:18:08.305Z"
   },
   {
    "duration": 7,
    "start_time": "2022-07-01T21:18:08.334Z"
   },
   {
    "duration": 11,
    "start_time": "2022-07-01T21:18:08.342Z"
   },
   {
    "duration": 2,
    "start_time": "2022-07-01T21:18:08.354Z"
   },
   {
    "duration": 5,
    "start_time": "2022-07-01T21:18:08.358Z"
   },
   {
    "duration": 12,
    "start_time": "2022-07-01T21:18:08.365Z"
   },
   {
    "duration": 5,
    "start_time": "2022-07-01T21:18:08.379Z"
   },
   {
    "duration": 12,
    "start_time": "2022-07-01T21:18:08.385Z"
   },
   {
    "duration": 352,
    "start_time": "2022-07-01T21:18:08.399Z"
   },
   {
    "duration": 2,
    "start_time": "2022-07-01T21:18:08.752Z"
   },
   {
    "duration": 13,
    "start_time": "2022-07-01T21:18:08.758Z"
   },
   {
    "duration": 310,
    "start_time": "2022-07-01T21:18:08.773Z"
   },
   {
    "duration": 957,
    "start_time": "2022-07-01T21:18:09.085Z"
   },
   {
    "duration": 8,
    "start_time": "2022-07-01T21:18:10.043Z"
   },
   {
    "duration": 13,
    "start_time": "2022-07-01T21:18:10.053Z"
   },
   {
    "duration": 5,
    "start_time": "2022-07-01T21:18:10.068Z"
   },
   {
    "duration": 20,
    "start_time": "2022-07-01T21:18:10.075Z"
   },
   {
    "duration": 33,
    "start_time": "2022-07-01T21:18:10.097Z"
   },
   {
    "duration": 268,
    "start_time": "2022-07-01T21:18:10.141Z"
   },
   {
    "duration": 29,
    "start_time": "2022-07-01T21:18:10.411Z"
   },
   {
    "duration": 5,
    "start_time": "2022-07-01T21:18:10.442Z"
   },
   {
    "duration": 243,
    "start_time": "2022-07-01T21:18:10.448Z"
   },
   {
    "duration": 11,
    "start_time": "2022-07-01T21:18:10.692Z"
   },
   {
    "duration": 2,
    "start_time": "2022-07-01T21:18:10.705Z"
   },
   {
    "duration": 259,
    "start_time": "2022-07-01T21:18:10.708Z"
   },
   {
    "duration": 11,
    "start_time": "2022-07-01T21:18:10.969Z"
   },
   {
    "duration": 245,
    "start_time": "2022-07-01T21:18:10.981Z"
   },
   {
    "duration": 17,
    "start_time": "2022-07-01T21:18:11.227Z"
   },
   {
    "duration": 253,
    "start_time": "2022-07-01T21:18:11.245Z"
   },
   {
    "duration": 12,
    "start_time": "2022-07-01T21:18:11.499Z"
   },
   {
    "duration": 2,
    "start_time": "2022-07-01T21:18:11.512Z"
   },
   {
    "duration": 36,
    "start_time": "2022-07-01T21:18:11.516Z"
   },
   {
    "duration": 187,
    "start_time": "2022-07-01T21:18:11.553Z"
   },
   {
    "duration": 28,
    "start_time": "2022-07-01T21:18:11.743Z"
   },
   {
    "duration": 26,
    "start_time": "2022-07-01T21:18:11.772Z"
   },
   {
    "duration": 2,
    "start_time": "2022-07-01T21:18:11.799Z"
   },
   {
    "duration": 41,
    "start_time": "2022-07-01T21:18:11.802Z"
   },
   {
    "duration": 11,
    "start_time": "2022-07-01T21:18:11.844Z"
   },
   {
    "duration": 11,
    "start_time": "2022-07-01T21:18:11.856Z"
   },
   {
    "duration": 9,
    "start_time": "2022-07-01T21:18:11.868Z"
   },
   {
    "duration": 8,
    "start_time": "2022-07-01T21:18:11.878Z"
   },
   {
    "duration": 579,
    "start_time": "2022-07-01T21:20:12.340Z"
   },
   {
    "duration": 10,
    "start_time": "2022-07-01T21:20:15.592Z"
   },
   {
    "duration": 109,
    "start_time": "2022-07-01T21:23:37.477Z"
   },
   {
    "duration": 93,
    "start_time": "2022-07-01T21:23:43.362Z"
   },
   {
    "duration": 16,
    "start_time": "2022-07-01T21:23:49.511Z"
   },
   {
    "duration": 6,
    "start_time": "2022-07-01T21:24:03.895Z"
   },
   {
    "duration": 12,
    "start_time": "2022-07-01T21:25:51.065Z"
   },
   {
    "duration": 12,
    "start_time": "2022-07-01T21:26:21.681Z"
   },
   {
    "duration": 5,
    "start_time": "2022-07-01T21:28:11.447Z"
   },
   {
    "duration": 12,
    "start_time": "2022-07-01T21:28:17.827Z"
   },
   {
    "duration": 6,
    "start_time": "2022-07-01T21:28:18.463Z"
   },
   {
    "duration": 11,
    "start_time": "2022-07-01T21:28:36.747Z"
   },
   {
    "duration": 1150,
    "start_time": "2022-07-01T21:29:06.995Z"
   },
   {
    "duration": 48,
    "start_time": "2022-07-01T21:29:08.147Z"
   },
   {
    "duration": 14,
    "start_time": "2022-07-01T21:29:08.197Z"
   },
   {
    "duration": 38,
    "start_time": "2022-07-01T21:29:08.213Z"
   },
   {
    "duration": 28,
    "start_time": "2022-07-01T21:29:08.253Z"
   },
   {
    "duration": 14,
    "start_time": "2022-07-01T21:29:08.282Z"
   },
   {
    "duration": 10,
    "start_time": "2022-07-01T21:29:08.297Z"
   },
   {
    "duration": 3,
    "start_time": "2022-07-01T21:29:08.308Z"
   },
   {
    "duration": 23,
    "start_time": "2022-07-01T21:29:08.312Z"
   },
   {
    "duration": 18,
    "start_time": "2022-07-01T21:29:08.340Z"
   },
   {
    "duration": 14,
    "start_time": "2022-07-01T21:29:08.360Z"
   },
   {
    "duration": 10,
    "start_time": "2022-07-01T21:29:08.375Z"
   },
   {
    "duration": 5,
    "start_time": "2022-07-01T21:29:08.386Z"
   },
   {
    "duration": 121,
    "start_time": "2022-07-01T21:29:08.394Z"
   },
   {
    "duration": 16,
    "start_time": "2022-07-01T21:29:08.517Z"
   },
   {
    "duration": 18,
    "start_time": "2022-07-01T21:29:08.535Z"
   },
   {
    "duration": 6,
    "start_time": "2022-07-01T21:29:08.554Z"
   },
   {
    "duration": 10,
    "start_time": "2022-07-01T21:29:08.561Z"
   },
   {
    "duration": 8,
    "start_time": "2022-07-01T21:29:08.572Z"
   },
   {
    "duration": 6,
    "start_time": "2022-07-01T21:29:08.582Z"
   },
   {
    "duration": 144,
    "start_time": "2022-07-01T21:29:08.590Z"
   },
   {
    "duration": 17,
    "start_time": "2022-07-01T21:29:08.743Z"
   },
   {
    "duration": 38,
    "start_time": "2022-07-01T21:29:08.761Z"
   },
   {
    "duration": 38,
    "start_time": "2022-07-01T21:29:08.801Z"
   },
   {
    "duration": 11,
    "start_time": "2022-07-01T21:29:08.840Z"
   },
   {
    "duration": 8,
    "start_time": "2022-07-01T21:29:08.852Z"
   },
   {
    "duration": 8,
    "start_time": "2022-07-01T21:29:08.861Z"
   },
   {
    "duration": 20,
    "start_time": "2022-07-01T21:29:08.871Z"
   },
   {
    "duration": 60,
    "start_time": "2022-07-01T21:29:08.893Z"
   },
   {
    "duration": 20,
    "start_time": "2022-07-01T21:29:08.955Z"
   },
   {
    "duration": 17,
    "start_time": "2022-07-01T21:29:08.977Z"
   },
   {
    "duration": 5,
    "start_time": "2022-07-01T21:29:08.996Z"
   },
   {
    "duration": 41,
    "start_time": "2022-07-01T21:29:09.003Z"
   },
   {
    "duration": 3,
    "start_time": "2022-07-01T21:29:09.045Z"
   },
   {
    "duration": 9,
    "start_time": "2022-07-01T21:29:09.049Z"
   },
   {
    "duration": 16,
    "start_time": "2022-07-01T21:29:09.059Z"
   },
   {
    "duration": 4,
    "start_time": "2022-07-01T21:29:09.077Z"
   },
   {
    "duration": 14,
    "start_time": "2022-07-01T21:29:09.082Z"
   },
   {
    "duration": 385,
    "start_time": "2022-07-01T21:29:09.098Z"
   },
   {
    "duration": 3,
    "start_time": "2022-07-01T21:29:09.484Z"
   },
   {
    "duration": 15,
    "start_time": "2022-07-01T21:29:09.491Z"
   },
   {
    "duration": 301,
    "start_time": "2022-07-01T21:29:09.507Z"
   },
   {
    "duration": 992,
    "start_time": "2022-07-01T21:29:09.810Z"
   },
   {
    "duration": 8,
    "start_time": "2022-07-01T21:29:10.804Z"
   },
   {
    "duration": 37,
    "start_time": "2022-07-01T21:29:10.813Z"
   },
   {
    "duration": 11,
    "start_time": "2022-07-01T21:29:10.852Z"
   },
   {
    "duration": 20,
    "start_time": "2022-07-01T21:29:10.866Z"
   },
   {
    "duration": 10,
    "start_time": "2022-07-01T21:29:10.888Z"
   },
   {
    "duration": 292,
    "start_time": "2022-07-01T21:29:10.899Z"
   },
   {
    "duration": 21,
    "start_time": "2022-07-01T21:29:11.192Z"
   },
   {
    "duration": 9,
    "start_time": "2022-07-01T21:29:11.229Z"
   },
   {
    "duration": 252,
    "start_time": "2022-07-01T21:29:11.239Z"
   },
   {
    "duration": 11,
    "start_time": "2022-07-01T21:29:11.493Z"
   },
   {
    "duration": 2,
    "start_time": "2022-07-01T21:29:11.506Z"
   },
   {
    "duration": 264,
    "start_time": "2022-07-01T21:29:11.510Z"
   },
   {
    "duration": 12,
    "start_time": "2022-07-01T21:29:11.776Z"
   },
   {
    "duration": 253,
    "start_time": "2022-07-01T21:29:11.790Z"
   },
   {
    "duration": 12,
    "start_time": "2022-07-01T21:29:12.045Z"
   },
   {
    "duration": 287,
    "start_time": "2022-07-01T21:29:12.058Z"
   },
   {
    "duration": 10,
    "start_time": "2022-07-01T21:29:12.348Z"
   },
   {
    "duration": 7,
    "start_time": "2022-07-01T21:29:12.360Z"
   },
   {
    "duration": 16,
    "start_time": "2022-07-01T21:29:12.368Z"
   },
   {
    "duration": 211,
    "start_time": "2022-07-01T21:29:12.385Z"
   },
   {
    "duration": 43,
    "start_time": "2022-07-01T21:29:12.597Z"
   },
   {
    "duration": 29,
    "start_time": "2022-07-01T21:29:12.645Z"
   },
   {
    "duration": 2,
    "start_time": "2022-07-01T21:29:12.675Z"
   },
   {
    "duration": 13,
    "start_time": "2022-07-01T21:29:12.678Z"
   },
   {
    "duration": 10,
    "start_time": "2022-07-01T21:29:12.692Z"
   },
   {
    "duration": 30,
    "start_time": "2022-07-01T21:29:12.703Z"
   },
   {
    "duration": 13,
    "start_time": "2022-07-01T21:29:12.735Z"
   },
   {
    "duration": 16,
    "start_time": "2022-07-01T21:29:12.749Z"
   },
   {
    "duration": 10,
    "start_time": "2022-07-01T21:29:39.667Z"
   },
   {
    "duration": 11,
    "start_time": "2022-07-01T21:29:46.687Z"
   },
   {
    "duration": 12,
    "start_time": "2022-07-01T21:29:47.159Z"
   },
   {
    "duration": 8,
    "start_time": "2022-07-01T21:31:12.988Z"
   },
   {
    "duration": 105,
    "start_time": "2022-07-01T21:33:19.825Z"
   },
   {
    "duration": 15,
    "start_time": "2022-07-01T21:33:40.865Z"
   },
   {
    "duration": 19,
    "start_time": "2022-07-01T21:52:00.528Z"
   },
   {
    "duration": 21,
    "start_time": "2022-07-01T22:00:21.918Z"
   },
   {
    "duration": 15,
    "start_time": "2022-07-01T22:00:56.191Z"
   },
   {
    "duration": 13,
    "start_time": "2022-07-01T22:03:33.912Z"
   },
   {
    "duration": 3,
    "start_time": "2022-07-01T22:03:36.895Z"
   },
   {
    "duration": 90,
    "start_time": "2022-07-01T22:07:58.182Z"
   }
  ],
  "kernelspec": {
   "display_name": "Python 3 (ipykernel)",
   "language": "python",
   "name": "python3"
  },
  "language_info": {
   "codemirror_mode": {
    "name": "ipython",
    "version": 3
   },
   "file_extension": ".py",
   "mimetype": "text/x-python",
   "name": "python",
   "nbconvert_exporter": "python",
   "pygments_lexer": "ipython3",
   "version": "3.9.5"
  },
  "toc": {
   "base_numbering": 1,
   "nav_menu": {},
   "number_sections": true,
   "sideBar": true,
   "skip_h1_title": true,
   "title_cell": "Table of Contents",
   "title_sidebar": "Contents",
   "toc_cell": false,
   "toc_position": {},
   "toc_section_display": true,
   "toc_window_display": false
  }
 },
 "nbformat": 4,
 "nbformat_minor": 2
}
