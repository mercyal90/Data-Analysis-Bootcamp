{
 "cells": [
  {
   "cell_type": "markdown",
   "metadata": {},
   "source": [
    "# Retail: Assess Sales Outlets' Performance\n",
    "\n",
    "We are working as junior data analyst for the building-material retailer Home World. All of its customers have membership cards. Moreover, they can become members of the store's loyalty program for $20 per month. The program includes discounts, information on special offers, and gifts. The marketing team has provided us with the following data.\n",
    "\n",
    "# Description of the data\n",
    " \n",
    "We were provided two datasets\n",
    "\n",
    "`retail_dataset_us.csv` contains:\n",
    "\n",
    "- `purchaseId`- purchase id \n",
    "- `item_ID`- item id\n",
    "- `purchasedate`- time and date of item purchased\n",
    "- `Quantity` — the number of items in the purchase\n",
    "- `CustomerID`- customers id\n",
    "- `ShopID`- store id\n",
    "- `loyalty_program` — whether the customer is a member of the loyalty program\n",
    "\n",
    "`product_codes_us.csv` contains:\n",
    "\n",
    "- `productID`-product id\n",
    "- `price_per_one`- price per product"
   ]
  },
  {
   "cell_type": "markdown",
   "metadata": {},
   "source": []
  },
  {
   "cell_type": "markdown",
   "metadata": {},
   "source": [
    "# Steps to complete project\n",
    "\n",
    "\n",
    "## Open the data files and study the general information\n",
    "\n",
    "## Preprocess the data\n",
    "    - convert data type to the necessary types\n",
    "    - Find and eliminate errors in the data\n",
    "    \n",
    "## Analyze the data\n",
    "    Describe the customers behavior:\n",
    "    - What products are most purchased?\n",
    "    - How many purchases are made in each year?\n",
    "    - Breakdown purchases by month\n",
    "    - Breakdowm purchase by store id\n",
    "    - study amount of purchases by unique customers. \n",
    "    - study the proportions of customers in the loyalty program and those that are not enrolled.Is there a difference of purchases in both groups.\n",
    "Plot a graph for each finding.\n",
    "\n",
    "## Test Hypothesis\n",
    "    - Average number of purchases by customers enrolled in the loyalty program is the same as customers who are not enrolled.\n",
    "    \n",
    "## Conclusions/ any recommendations"
   ]
  },
  {
   "cell_type": "markdown",
   "metadata": {},
   "source": [
    "<hr>\n",
    "<b>Anton's comments: </b>Hey Mercy, plan sounds reasonable! Let's look what we'll come up with :)"
   ]
  },
  {
   "cell_type": "code",
   "execution_count": null,
   "metadata": {},
   "outputs": [],
   "source": []
  }
 ],
 "metadata": {
  "kernelspec": {
   "display_name": "Python 3 (ipykernel)",
   "language": "python",
   "name": "python3"
  },
  "language_info": {
   "codemirror_mode": {
    "name": "ipython",
    "version": 3
   },
   "file_extension": ".py",
   "mimetype": "text/x-python",
   "name": "python",
   "nbconvert_exporter": "python",
   "pygments_lexer": "ipython3",
   "version": "3.9.5"
  },
  "toc": {
   "base_numbering": 1,
   "nav_menu": {},
   "number_sections": true,
   "sideBar": true,
   "skip_h1_title": true,
   "title_cell": "Table of Contents",
   "title_sidebar": "Contents",
   "toc_cell": false,
   "toc_position": {},
   "toc_section_display": true,
   "toc_window_display": false
  }
 },
 "nbformat": 4,
 "nbformat_minor": 2
}
