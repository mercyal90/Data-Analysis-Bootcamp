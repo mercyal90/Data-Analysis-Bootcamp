{
 "cells": [
  {
   "cell_type": "markdown",
   "metadata": {},
   "source": [
    "# A/B Testing and Analyzing Result of an online store.\n",
    "\n",
    "I'am an analyst at a big online store. Together with the marketing department, I've compiled a list of hypotheses that may help boost revenue.                                                                             \n",
    "\n",
    "I need to prioritize these hypotheses, launch an A/B test, and analyze the results."
   ]
  },
  {
   "cell_type": "markdown",
   "metadata": {},
   "source": [
    "## Description of the data\n",
    "Data used in the first part of the project                                                                                     \n",
    "\n",
    "/datasets/hypotheses_us.csv Download dataset                                                                                   \n",
    "Hypotheses — brief descriptions of the hypotheses                                                                               \n",
    "Reach — user reach, on a scale of one to ten                                                                                   \n",
    "Impact — impact on users, on a scale of one to ten                                                                \n",
    "Confidence — confidence in the hypothesis, on a scale of one to ten                                                             \n",
    "Effort — the resources required to test a hypothesis, on a scale of one to ten. The higher the Effort value, the more resource-intensive the test.                                                                                    \n",
    "                                                                                                                               \n",
    "Data used in the second part of the project                                                                                    \n",
    "/datasets/orders_us.csv Download dataset                                                                                    \n",
    "transactionId — order identifier                                                                                    \n",
    "visitorId — identifier of the user who placed the order                                                                         \n",
    "date — of the order                                                                                                            \n",
    "revenue — from the order\n",
    "group — the A/B test group that the user belongs to                                                                             \n",
    "\n",
    "/datasets/visits_us.csv Download dataset                                                                                       \n",
    "date — date                                                                                                                     \n",
    "group — A/B test group                                                                                                         \n",
    "visits — the number of visits on the date specified in the A/B test group specified"
   ]
  },
  {
   "cell_type": "markdown",
   "metadata": {},
   "source": [
    "<div class=\"alert alert-block alert-warning\">\n",
    "<b>Reviewer's comment v.1</b> \n",
    "    \n",
    "📝 Good start with a brief introduction. However, we could also add `the table of content` and describe the main AB test stages (or its design).\n",
    "</div>"
   ]
  },
  {
   "cell_type": "code",
   "execution_count": 1,
   "metadata": {},
   "outputs": [],
   "source": [
    "import pandas as pd\n",
    "import numpy as np\n",
    "import datetime as dt\n",
    "import seaborn as sns\n",
    "import matplotlib.pyplot as plt\n",
    "import scipy.stats as stats\n",
    "import math as mt\n",
    "from functools import reduce"
   ]
  },
  {
   "cell_type": "markdown",
   "metadata": {},
   "source": [
    "## Data Preprocessing                                                           "
   ]
  },
  {
   "cell_type": "code",
   "execution_count": 2,
   "metadata": {},
   "outputs": [
    {
     "data": {
      "text/html": [
       "<div>\n",
       "<style scoped>\n",
       "    .dataframe tbody tr th:only-of-type {\n",
       "        vertical-align: middle;\n",
       "    }\n",
       "\n",
       "    .dataframe tbody tr th {\n",
       "        vertical-align: top;\n",
       "    }\n",
       "\n",
       "    .dataframe thead th {\n",
       "        text-align: right;\n",
       "    }\n",
       "</style>\n",
       "<table border=\"1\" class=\"dataframe\">\n",
       "  <thead>\n",
       "    <tr style=\"text-align: right;\">\n",
       "      <th></th>\n",
       "      <th>Hypothesis</th>\n",
       "      <th>Reach</th>\n",
       "      <th>Impact</th>\n",
       "      <th>Confidence</th>\n",
       "      <th>Effort</th>\n",
       "    </tr>\n",
       "  </thead>\n",
       "  <tbody>\n",
       "    <tr>\n",
       "      <th>0</th>\n",
       "      <td>Add two new channels for attracting traffic. T...</td>\n",
       "      <td>3</td>\n",
       "      <td>10</td>\n",
       "      <td>8</td>\n",
       "      <td>6</td>\n",
       "    </tr>\n",
       "    <tr>\n",
       "      <th>1</th>\n",
       "      <td>Launch your own delivery service. This will sh...</td>\n",
       "      <td>2</td>\n",
       "      <td>5</td>\n",
       "      <td>4</td>\n",
       "      <td>10</td>\n",
       "    </tr>\n",
       "    <tr>\n",
       "      <th>2</th>\n",
       "      <td>Add product recommendation blocks to the store...</td>\n",
       "      <td>8</td>\n",
       "      <td>3</td>\n",
       "      <td>7</td>\n",
       "      <td>3</td>\n",
       "    </tr>\n",
       "    <tr>\n",
       "      <th>3</th>\n",
       "      <td>Change the category structure. This will incre...</td>\n",
       "      <td>8</td>\n",
       "      <td>3</td>\n",
       "      <td>3</td>\n",
       "      <td>8</td>\n",
       "    </tr>\n",
       "    <tr>\n",
       "      <th>4</th>\n",
       "      <td>Change the background color on the main page. ...</td>\n",
       "      <td>3</td>\n",
       "      <td>1</td>\n",
       "      <td>1</td>\n",
       "      <td>1</td>\n",
       "    </tr>\n",
       "  </tbody>\n",
       "</table>\n",
       "</div>"
      ],
      "text/plain": [
       "                                          Hypothesis  Reach  Impact  \\\n",
       "0  Add two new channels for attracting traffic. T...      3      10   \n",
       "1  Launch your own delivery service. This will sh...      2       5   \n",
       "2  Add product recommendation blocks to the store...      8       3   \n",
       "3  Change the category structure. This will incre...      8       3   \n",
       "4  Change the background color on the main page. ...      3       1   \n",
       "\n",
       "   Confidence  Effort  \n",
       "0           8       6  \n",
       "1           4      10  \n",
       "2           7       3  \n",
       "3           3       8  \n",
       "4           1       1  "
      ]
     },
     "execution_count": 2,
     "metadata": {},
     "output_type": "execute_result"
    }
   ],
   "source": [
    "hypotheses_us= pd.read_csv('/datasets/hypotheses_us.csv',sep=';')\n",
    "hypotheses_us.head()"
   ]
  },
  {
   "cell_type": "code",
   "execution_count": 3,
   "metadata": {},
   "outputs": [
    {
     "name": "stdout",
     "output_type": "stream",
     "text": [
      "<class 'pandas.core.frame.DataFrame'>\n",
      "RangeIndex: 9 entries, 0 to 8\n",
      "Data columns (total 5 columns):\n",
      " #   Column      Non-Null Count  Dtype \n",
      "---  ------      --------------  ----- \n",
      " 0   Hypothesis  9 non-null      object\n",
      " 1   Reach       9 non-null      int64 \n",
      " 2   Impact      9 non-null      int64 \n",
      " 3   Confidence  9 non-null      int64 \n",
      " 4   Effort      9 non-null      int64 \n",
      "dtypes: int64(4), object(1)\n",
      "memory usage: 488.0+ bytes\n"
     ]
    }
   ],
   "source": [
    "hypotheses_us.info()"
   ]
  },
  {
   "cell_type": "code",
   "execution_count": 4,
   "metadata": {},
   "outputs": [],
   "source": [
    "hypotheses_us.columns=['hypothesis','reach', 'impact', 'confidence', 'effort']"
   ]
  },
  {
   "cell_type": "code",
   "execution_count": 5,
   "metadata": {},
   "outputs": [
    {
     "data": {
      "text/html": [
       "<div>\n",
       "<style scoped>\n",
       "    .dataframe tbody tr th:only-of-type {\n",
       "        vertical-align: middle;\n",
       "    }\n",
       "\n",
       "    .dataframe tbody tr th {\n",
       "        vertical-align: top;\n",
       "    }\n",
       "\n",
       "    .dataframe thead th {\n",
       "        text-align: right;\n",
       "    }\n",
       "</style>\n",
       "<table border=\"1\" class=\"dataframe\">\n",
       "  <thead>\n",
       "    <tr style=\"text-align: right;\">\n",
       "      <th></th>\n",
       "      <th>hypothesis</th>\n",
       "      <th>reach</th>\n",
       "      <th>impact</th>\n",
       "      <th>confidence</th>\n",
       "      <th>effort</th>\n",
       "    </tr>\n",
       "  </thead>\n",
       "  <tbody>\n",
       "    <tr>\n",
       "      <th>0</th>\n",
       "      <td>Add two new channels for attracting traffic. T...</td>\n",
       "      <td>3</td>\n",
       "      <td>10</td>\n",
       "      <td>8</td>\n",
       "      <td>6</td>\n",
       "    </tr>\n",
       "    <tr>\n",
       "      <th>1</th>\n",
       "      <td>Launch your own delivery service. This will sh...</td>\n",
       "      <td>2</td>\n",
       "      <td>5</td>\n",
       "      <td>4</td>\n",
       "      <td>10</td>\n",
       "    </tr>\n",
       "    <tr>\n",
       "      <th>2</th>\n",
       "      <td>Add product recommendation blocks to the store...</td>\n",
       "      <td>8</td>\n",
       "      <td>3</td>\n",
       "      <td>7</td>\n",
       "      <td>3</td>\n",
       "    </tr>\n",
       "    <tr>\n",
       "      <th>3</th>\n",
       "      <td>Change the category structure. This will incre...</td>\n",
       "      <td>8</td>\n",
       "      <td>3</td>\n",
       "      <td>3</td>\n",
       "      <td>8</td>\n",
       "    </tr>\n",
       "    <tr>\n",
       "      <th>4</th>\n",
       "      <td>Change the background color on the main page. ...</td>\n",
       "      <td>3</td>\n",
       "      <td>1</td>\n",
       "      <td>1</td>\n",
       "      <td>1</td>\n",
       "    </tr>\n",
       "  </tbody>\n",
       "</table>\n",
       "</div>"
      ],
      "text/plain": [
       "                                          hypothesis  reach  impact  \\\n",
       "0  Add two new channels for attracting traffic. T...      3      10   \n",
       "1  Launch your own delivery service. This will sh...      2       5   \n",
       "2  Add product recommendation blocks to the store...      8       3   \n",
       "3  Change the category structure. This will incre...      8       3   \n",
       "4  Change the background color on the main page. ...      3       1   \n",
       "\n",
       "   confidence  effort  \n",
       "0           8       6  \n",
       "1           4      10  \n",
       "2           7       3  \n",
       "3           3       8  \n",
       "4           1       1  "
      ]
     },
     "execution_count": 5,
     "metadata": {},
     "output_type": "execute_result"
    }
   ],
   "source": [
    "hypotheses_us.head()"
   ]
  },
  {
   "cell_type": "code",
   "execution_count": 6,
   "metadata": {},
   "outputs": [
    {
     "data": {
      "text/html": [
       "<div>\n",
       "<style scoped>\n",
       "    .dataframe tbody tr th:only-of-type {\n",
       "        vertical-align: middle;\n",
       "    }\n",
       "\n",
       "    .dataframe tbody tr th {\n",
       "        vertical-align: top;\n",
       "    }\n",
       "\n",
       "    .dataframe thead th {\n",
       "        text-align: right;\n",
       "    }\n",
       "</style>\n",
       "<table border=\"1\" class=\"dataframe\">\n",
       "  <thead>\n",
       "    <tr style=\"text-align: right;\">\n",
       "      <th></th>\n",
       "      <th>hypothesis</th>\n",
       "      <th>reach</th>\n",
       "      <th>impact</th>\n",
       "      <th>confidence</th>\n",
       "      <th>effort</th>\n",
       "    </tr>\n",
       "  </thead>\n",
       "  <tbody>\n",
       "    <tr>\n",
       "      <th>0</th>\n",
       "      <td>Add two new channels for attracting traffic. This will bring 30% more users</td>\n",
       "      <td>3</td>\n",
       "      <td>10</td>\n",
       "      <td>8</td>\n",
       "      <td>6</td>\n",
       "    </tr>\n",
       "    <tr>\n",
       "      <th>1</th>\n",
       "      <td>Launch your own delivery service. This will shorten delivery time</td>\n",
       "      <td>2</td>\n",
       "      <td>5</td>\n",
       "      <td>4</td>\n",
       "      <td>10</td>\n",
       "    </tr>\n",
       "    <tr>\n",
       "      <th>2</th>\n",
       "      <td>Add product recommendation blocks to the store's site. This will increase conversion and average purchase size</td>\n",
       "      <td>8</td>\n",
       "      <td>3</td>\n",
       "      <td>7</td>\n",
       "      <td>3</td>\n",
       "    </tr>\n",
       "    <tr>\n",
       "      <th>3</th>\n",
       "      <td>Change the category structure. This will increase conversion since users will find the products they want more quickly</td>\n",
       "      <td>8</td>\n",
       "      <td>3</td>\n",
       "      <td>3</td>\n",
       "      <td>8</td>\n",
       "    </tr>\n",
       "    <tr>\n",
       "      <th>4</th>\n",
       "      <td>Change the background color on the main page. This will increase user engagement</td>\n",
       "      <td>3</td>\n",
       "      <td>1</td>\n",
       "      <td>1</td>\n",
       "      <td>1</td>\n",
       "    </tr>\n",
       "    <tr>\n",
       "      <th>5</th>\n",
       "      <td>Add a customer review page. This will increase the number of orders</td>\n",
       "      <td>3</td>\n",
       "      <td>2</td>\n",
       "      <td>2</td>\n",
       "      <td>3</td>\n",
       "    </tr>\n",
       "    <tr>\n",
       "      <th>6</th>\n",
       "      <td>Show banners with current offers and sales on the main page. This will boost conversion</td>\n",
       "      <td>5</td>\n",
       "      <td>3</td>\n",
       "      <td>8</td>\n",
       "      <td>3</td>\n",
       "    </tr>\n",
       "    <tr>\n",
       "      <th>7</th>\n",
       "      <td>Add a subscription form to all the main pages. This will help you compile a mailing list</td>\n",
       "      <td>10</td>\n",
       "      <td>7</td>\n",
       "      <td>8</td>\n",
       "      <td>5</td>\n",
       "    </tr>\n",
       "    <tr>\n",
       "      <th>8</th>\n",
       "      <td>Launch a promotion that gives users discounts on their birthdays</td>\n",
       "      <td>1</td>\n",
       "      <td>9</td>\n",
       "      <td>9</td>\n",
       "      <td>5</td>\n",
       "    </tr>\n",
       "  </tbody>\n",
       "</table>\n",
       "</div>"
      ],
      "text/plain": [
       "                                                                                                               hypothesis  \\\n",
       "0                                             Add two new channels for attracting traffic. This will bring 30% more users   \n",
       "1                                                       Launch your own delivery service. This will shorten delivery time   \n",
       "2          Add product recommendation blocks to the store's site. This will increase conversion and average purchase size   \n",
       "3  Change the category structure. This will increase conversion since users will find the products they want more quickly   \n",
       "4                                        Change the background color on the main page. This will increase user engagement   \n",
       "5                                                     Add a customer review page. This will increase the number of orders   \n",
       "6                                 Show banners with current offers and sales on the main page. This will boost conversion   \n",
       "7                                Add a subscription form to all the main pages. This will help you compile a mailing list   \n",
       "8                                                        Launch a promotion that gives users discounts on their birthdays   \n",
       "\n",
       "   reach  impact  confidence  effort  \n",
       "0      3      10           8       6  \n",
       "1      2       5           4      10  \n",
       "2      8       3           7       3  \n",
       "3      8       3           3       8  \n",
       "4      3       1           1       1  \n",
       "5      3       2           2       3  \n",
       "6      5       3           8       3  \n",
       "7     10       7           8       5  \n",
       "8      1       9           9       5  "
      ]
     },
     "execution_count": 6,
     "metadata": {},
     "output_type": "execute_result"
    }
   ],
   "source": [
    "pd.set_option('max_colwidth', 450)\n",
    "hypotheses_us"
   ]
  },
  {
   "cell_type": "code",
   "execution_count": 7,
   "metadata": {},
   "outputs": [
    {
     "data": {
      "text/plain": [
       "hypothesis    0\n",
       "reach         0\n",
       "impact        0\n",
       "confidence    0\n",
       "effort        0\n",
       "dtype: int64"
      ]
     },
     "execution_count": 7,
     "metadata": {},
     "output_type": "execute_result"
    }
   ],
   "source": [
    "hypotheses_us.isna().sum()"
   ]
  },
  {
   "cell_type": "code",
   "execution_count": 8,
   "metadata": {},
   "outputs": [
    {
     "data": {
      "text/plain": [
       "0"
      ]
     },
     "execution_count": 8,
     "metadata": {},
     "output_type": "execute_result"
    }
   ],
   "source": [
    "hypotheses_us.duplicated().sum()"
   ]
  },
  {
   "cell_type": "markdown",
   "metadata": {},
   "source": [
    "Hypotheses table consists of 5 columns and 9 entries and no missing data."
   ]
  },
  {
   "cell_type": "code",
   "execution_count": 9,
   "metadata": {},
   "outputs": [
    {
     "data": {
      "text/html": [
       "<div>\n",
       "<style scoped>\n",
       "    .dataframe tbody tr th:only-of-type {\n",
       "        vertical-align: middle;\n",
       "    }\n",
       "\n",
       "    .dataframe tbody tr th {\n",
       "        vertical-align: top;\n",
       "    }\n",
       "\n",
       "    .dataframe thead th {\n",
       "        text-align: right;\n",
       "    }\n",
       "</style>\n",
       "<table border=\"1\" class=\"dataframe\">\n",
       "  <thead>\n",
       "    <tr style=\"text-align: right;\">\n",
       "      <th></th>\n",
       "      <th>transactionId</th>\n",
       "      <th>visitorId</th>\n",
       "      <th>date</th>\n",
       "      <th>revenue</th>\n",
       "      <th>group</th>\n",
       "    </tr>\n",
       "  </thead>\n",
       "  <tbody>\n",
       "    <tr>\n",
       "      <th>0</th>\n",
       "      <td>3667963787</td>\n",
       "      <td>3312258926</td>\n",
       "      <td>2019-08-15</td>\n",
       "      <td>30.4</td>\n",
       "      <td>B</td>\n",
       "    </tr>\n",
       "    <tr>\n",
       "      <th>1</th>\n",
       "      <td>2804400009</td>\n",
       "      <td>3642806036</td>\n",
       "      <td>2019-08-15</td>\n",
       "      <td>15.2</td>\n",
       "      <td>B</td>\n",
       "    </tr>\n",
       "    <tr>\n",
       "      <th>2</th>\n",
       "      <td>2961555356</td>\n",
       "      <td>4069496402</td>\n",
       "      <td>2019-08-15</td>\n",
       "      <td>10.2</td>\n",
       "      <td>A</td>\n",
       "    </tr>\n",
       "    <tr>\n",
       "      <th>3</th>\n",
       "      <td>3797467345</td>\n",
       "      <td>1196621759</td>\n",
       "      <td>2019-08-15</td>\n",
       "      <td>155.1</td>\n",
       "      <td>B</td>\n",
       "    </tr>\n",
       "    <tr>\n",
       "      <th>4</th>\n",
       "      <td>2282983706</td>\n",
       "      <td>2322279887</td>\n",
       "      <td>2019-08-15</td>\n",
       "      <td>40.5</td>\n",
       "      <td>B</td>\n",
       "    </tr>\n",
       "  </tbody>\n",
       "</table>\n",
       "</div>"
      ],
      "text/plain": [
       "   transactionId   visitorId        date  revenue group\n",
       "0     3667963787  3312258926  2019-08-15     30.4     B\n",
       "1     2804400009  3642806036  2019-08-15     15.2     B\n",
       "2     2961555356  4069496402  2019-08-15     10.2     A\n",
       "3     3797467345  1196621759  2019-08-15    155.1     B\n",
       "4     2282983706  2322279887  2019-08-15     40.5     B"
      ]
     },
     "execution_count": 9,
     "metadata": {},
     "output_type": "execute_result"
    }
   ],
   "source": [
    "order_us=pd.read_csv('/datasets/orders_us.csv')\n",
    "order_us.head()"
   ]
  },
  {
   "cell_type": "code",
   "execution_count": 10,
   "metadata": {},
   "outputs": [],
   "source": [
    "order_us.columns=['transaction_id','visitor_id','date','revenue','group']"
   ]
  },
  {
   "cell_type": "code",
   "execution_count": 11,
   "metadata": {},
   "outputs": [
    {
     "name": "stdout",
     "output_type": "stream",
     "text": [
      "<class 'pandas.core.frame.DataFrame'>\n",
      "RangeIndex: 1197 entries, 0 to 1196\n",
      "Data columns (total 5 columns):\n",
      " #   Column          Non-Null Count  Dtype  \n",
      "---  ------          --------------  -----  \n",
      " 0   transaction_id  1197 non-null   int64  \n",
      " 1   visitor_id      1197 non-null   int64  \n",
      " 2   date            1197 non-null   object \n",
      " 3   revenue         1197 non-null   float64\n",
      " 4   group           1197 non-null   object \n",
      "dtypes: float64(1), int64(2), object(2)\n",
      "memory usage: 46.9+ KB\n"
     ]
    }
   ],
   "source": [
    "order_us.info()"
   ]
  },
  {
   "cell_type": "code",
   "execution_count": 12,
   "metadata": {},
   "outputs": [],
   "source": [
    "order_us['date']= pd.to_datetime(order_us['date'], format='%Y-%m-%d')"
   ]
  },
  {
   "cell_type": "code",
   "execution_count": 13,
   "metadata": {},
   "outputs": [
    {
     "data": {
      "text/plain": [
       "transaction_id    0\n",
       "visitor_id        0\n",
       "date              0\n",
       "revenue           0\n",
       "group             0\n",
       "dtype: int64"
      ]
     },
     "execution_count": 13,
     "metadata": {},
     "output_type": "execute_result"
    }
   ],
   "source": [
    "order_us.isna().sum()"
   ]
  },
  {
   "cell_type": "code",
   "execution_count": 14,
   "metadata": {},
   "outputs": [
    {
     "data": {
      "text/plain": [
       "0"
      ]
     },
     "execution_count": 14,
     "metadata": {},
     "output_type": "execute_result"
    }
   ],
   "source": [
    "order_us.duplicated().sum()"
   ]
  },
  {
   "cell_type": "code",
   "execution_count": 15,
   "metadata": {},
   "outputs": [
    {
     "data": {
      "text/html": [
       "<div>\n",
       "<style scoped>\n",
       "    .dataframe tbody tr th:only-of-type {\n",
       "        vertical-align: middle;\n",
       "    }\n",
       "\n",
       "    .dataframe tbody tr th {\n",
       "        vertical-align: top;\n",
       "    }\n",
       "\n",
       "    .dataframe thead th {\n",
       "        text-align: right;\n",
       "    }\n",
       "</style>\n",
       "<table border=\"1\" class=\"dataframe\">\n",
       "  <thead>\n",
       "    <tr style=\"text-align: right;\">\n",
       "      <th></th>\n",
       "      <th>visitor_id</th>\n",
       "      <th>group</th>\n",
       "    </tr>\n",
       "  </thead>\n",
       "  <tbody>\n",
       "    <tr>\n",
       "      <th>2</th>\n",
       "      <td>8300375</td>\n",
       "      <td>2</td>\n",
       "    </tr>\n",
       "    <tr>\n",
       "      <th>44</th>\n",
       "      <td>199603092</td>\n",
       "      <td>2</td>\n",
       "    </tr>\n",
       "    <tr>\n",
       "      <th>51</th>\n",
       "      <td>232979603</td>\n",
       "      <td>2</td>\n",
       "    </tr>\n",
       "    <tr>\n",
       "      <th>55</th>\n",
       "      <td>237748145</td>\n",
       "      <td>2</td>\n",
       "    </tr>\n",
       "    <tr>\n",
       "      <th>66</th>\n",
       "      <td>276558944</td>\n",
       "      <td>2</td>\n",
       "    </tr>\n",
       "  </tbody>\n",
       "</table>\n",
       "</div>"
      ],
      "text/plain": [
       "    visitor_id  group\n",
       "2      8300375      2\n",
       "44   199603092      2\n",
       "51   232979603      2\n",
       "55   237748145      2\n",
       "66   276558944      2"
      ]
     },
     "execution_count": 15,
     "metadata": {},
     "output_type": "execute_result"
    }
   ],
   "source": [
    "## some of the visitors might have gotten into both group A and group B.\n",
    "dual_group= order_us.groupby('visitor_id').agg({'group':'nunique'}).reset_index()\n",
    "dual_group=dual_group.query('group>1')\n",
    "dual_group.head()"
   ]
  },
  {
   "cell_type": "code",
   "execution_count": 16,
   "metadata": {},
   "outputs": [
    {
     "data": {
      "text/plain": [
       "58"
      ]
     },
     "execution_count": 16,
     "metadata": {},
     "output_type": "execute_result"
    }
   ],
   "source": [
    "dual_group.shape[0]"
   ]
  },
  {
   "cell_type": "markdown",
   "metadata": {},
   "source": [
    "There are 58 visitors in both Group A and B. "
   ]
  },
  {
   "cell_type": "markdown",
   "metadata": {},
   "source": [
    "The order table consisted of 5 columns and 1197 entries and no missing data. The date column was converted from object to datetime."
   ]
  },
  {
   "cell_type": "code",
   "execution_count": 17,
   "metadata": {},
   "outputs": [
    {
     "data": {
      "text/html": [
       "<div>\n",
       "<style scoped>\n",
       "    .dataframe tbody tr th:only-of-type {\n",
       "        vertical-align: middle;\n",
       "    }\n",
       "\n",
       "    .dataframe tbody tr th {\n",
       "        vertical-align: top;\n",
       "    }\n",
       "\n",
       "    .dataframe thead th {\n",
       "        text-align: right;\n",
       "    }\n",
       "</style>\n",
       "<table border=\"1\" class=\"dataframe\">\n",
       "  <thead>\n",
       "    <tr style=\"text-align: right;\">\n",
       "      <th></th>\n",
       "      <th>date</th>\n",
       "      <th>group</th>\n",
       "      <th>visits</th>\n",
       "    </tr>\n",
       "  </thead>\n",
       "  <tbody>\n",
       "    <tr>\n",
       "      <th>0</th>\n",
       "      <td>2019-08-01</td>\n",
       "      <td>A</td>\n",
       "      <td>719</td>\n",
       "    </tr>\n",
       "    <tr>\n",
       "      <th>1</th>\n",
       "      <td>2019-08-02</td>\n",
       "      <td>A</td>\n",
       "      <td>619</td>\n",
       "    </tr>\n",
       "    <tr>\n",
       "      <th>2</th>\n",
       "      <td>2019-08-03</td>\n",
       "      <td>A</td>\n",
       "      <td>507</td>\n",
       "    </tr>\n",
       "    <tr>\n",
       "      <th>3</th>\n",
       "      <td>2019-08-04</td>\n",
       "      <td>A</td>\n",
       "      <td>717</td>\n",
       "    </tr>\n",
       "    <tr>\n",
       "      <th>4</th>\n",
       "      <td>2019-08-05</td>\n",
       "      <td>A</td>\n",
       "      <td>756</td>\n",
       "    </tr>\n",
       "  </tbody>\n",
       "</table>\n",
       "</div>"
      ],
      "text/plain": [
       "         date group  visits\n",
       "0  2019-08-01     A     719\n",
       "1  2019-08-02     A     619\n",
       "2  2019-08-03     A     507\n",
       "3  2019-08-04     A     717\n",
       "4  2019-08-05     A     756"
      ]
     },
     "execution_count": 17,
     "metadata": {},
     "output_type": "execute_result"
    }
   ],
   "source": [
    "visits_us= pd.read_csv('/datasets/visits_us.csv')\n",
    "visits_us.head()"
   ]
  },
  {
   "cell_type": "code",
   "execution_count": 18,
   "metadata": {},
   "outputs": [
    {
     "name": "stdout",
     "output_type": "stream",
     "text": [
      "<class 'pandas.core.frame.DataFrame'>\n",
      "RangeIndex: 62 entries, 0 to 61\n",
      "Data columns (total 3 columns):\n",
      " #   Column  Non-Null Count  Dtype \n",
      "---  ------  --------------  ----- \n",
      " 0   date    62 non-null     object\n",
      " 1   group   62 non-null     object\n",
      " 2   visits  62 non-null     int64 \n",
      "dtypes: int64(1), object(2)\n",
      "memory usage: 1.6+ KB\n"
     ]
    }
   ],
   "source": [
    "visits_us.info()"
   ]
  },
  {
   "cell_type": "code",
   "execution_count": 19,
   "metadata": {},
   "outputs": [],
   "source": [
    "visits_us['date']= pd.to_datetime(visits_us['date'], format='%Y-%m-%d')"
   ]
  },
  {
   "cell_type": "code",
   "execution_count": 20,
   "metadata": {},
   "outputs": [
    {
     "data": {
      "text/plain": [
       "date      0\n",
       "group     0\n",
       "visits    0\n",
       "dtype: int64"
      ]
     },
     "execution_count": 20,
     "metadata": {},
     "output_type": "execute_result"
    }
   ],
   "source": [
    "visits_us.isna().sum()"
   ]
  },
  {
   "cell_type": "code",
   "execution_count": 21,
   "metadata": {},
   "outputs": [
    {
     "data": {
      "text/plain": [
       "0"
      ]
     },
     "execution_count": 21,
     "metadata": {},
     "output_type": "execute_result"
    }
   ],
   "source": [
    "visits_us.duplicated().sum()"
   ]
  },
  {
   "cell_type": "markdown",
   "metadata": {},
   "source": [
    "The visit table consits of 3 columns and  62 entries and no missing colums. The date column was converted from object to datetime."
   ]
  },
  {
   "cell_type": "markdown",
   "metadata": {},
   "source": [
    "## Part 1. Prioritizing Hypotheses\n",
    "\n",
    "The file hypotheses_us.csv contains nine hypotheses on boosting an online store's revenue with Reach, Impact, Confidence, and Effort specified for each."
   ]
  },
  {
   "cell_type": "markdown",
   "metadata": {},
   "source": [
    "The ICE method tasks are rated with Impact, Confidence, and Effort/Ease:                                                        \n",
    "ICE Score= Impact x Confidence x Ease                                                                                           \n",
    "ICE Score= (Impact x Confidence) / Effort     \n",
    "\n",
    "The RICE method tasks are rated with four components- Reach, Impact, Confidence, and Effort:                                                        \n",
    "RICE Score= (Reach x Impact x Confidence) / Effort                                                                                                                                                                              "
   ]
  },
  {
   "cell_type": "code",
   "execution_count": 22,
   "metadata": {},
   "outputs": [
    {
     "data": {
      "text/html": [
       "<div>\n",
       "<style scoped>\n",
       "    .dataframe tbody tr th:only-of-type {\n",
       "        vertical-align: middle;\n",
       "    }\n",
       "\n",
       "    .dataframe tbody tr th {\n",
       "        vertical-align: top;\n",
       "    }\n",
       "\n",
       "    .dataframe thead th {\n",
       "        text-align: right;\n",
       "    }\n",
       "</style>\n",
       "<table border=\"1\" class=\"dataframe\">\n",
       "  <thead>\n",
       "    <tr style=\"text-align: right;\">\n",
       "      <th></th>\n",
       "      <th>hypothesis</th>\n",
       "      <th>ICE</th>\n",
       "    </tr>\n",
       "  </thead>\n",
       "  <tbody>\n",
       "    <tr>\n",
       "      <th>8</th>\n",
       "      <td>Launch a promotion that gives users discounts on their birthdays</td>\n",
       "      <td>16.20</td>\n",
       "    </tr>\n",
       "    <tr>\n",
       "      <th>0</th>\n",
       "      <td>Add two new channels for attracting traffic. This will bring 30% more users</td>\n",
       "      <td>13.33</td>\n",
       "    </tr>\n",
       "    <tr>\n",
       "      <th>7</th>\n",
       "      <td>Add a subscription form to all the main pages. This will help you compile a mailing list</td>\n",
       "      <td>11.20</td>\n",
       "    </tr>\n",
       "    <tr>\n",
       "      <th>6</th>\n",
       "      <td>Show banners with current offers and sales on the main page. This will boost conversion</td>\n",
       "      <td>8.00</td>\n",
       "    </tr>\n",
       "    <tr>\n",
       "      <th>2</th>\n",
       "      <td>Add product recommendation blocks to the store's site. This will increase conversion and average purchase size</td>\n",
       "      <td>7.00</td>\n",
       "    </tr>\n",
       "    <tr>\n",
       "      <th>1</th>\n",
       "      <td>Launch your own delivery service. This will shorten delivery time</td>\n",
       "      <td>2.00</td>\n",
       "    </tr>\n",
       "    <tr>\n",
       "      <th>5</th>\n",
       "      <td>Add a customer review page. This will increase the number of orders</td>\n",
       "      <td>1.33</td>\n",
       "    </tr>\n",
       "    <tr>\n",
       "      <th>3</th>\n",
       "      <td>Change the category structure. This will increase conversion since users will find the products they want more quickly</td>\n",
       "      <td>1.12</td>\n",
       "    </tr>\n",
       "    <tr>\n",
       "      <th>4</th>\n",
       "      <td>Change the background color on the main page. This will increase user engagement</td>\n",
       "      <td>1.00</td>\n",
       "    </tr>\n",
       "  </tbody>\n",
       "</table>\n",
       "</div>"
      ],
      "text/plain": [
       "                                                                                                               hypothesis  \\\n",
       "8                                                        Launch a promotion that gives users discounts on their birthdays   \n",
       "0                                             Add two new channels for attracting traffic. This will bring 30% more users   \n",
       "7                                Add a subscription form to all the main pages. This will help you compile a mailing list   \n",
       "6                                 Show banners with current offers and sales on the main page. This will boost conversion   \n",
       "2          Add product recommendation blocks to the store's site. This will increase conversion and average purchase size   \n",
       "1                                                       Launch your own delivery service. This will shorten delivery time   \n",
       "5                                                     Add a customer review page. This will increase the number of orders   \n",
       "3  Change the category structure. This will increase conversion since users will find the products they want more quickly   \n",
       "4                                        Change the background color on the main page. This will increase user engagement   \n",
       "\n",
       "     ICE  \n",
       "8  16.20  \n",
       "0  13.33  \n",
       "7  11.20  \n",
       "6   8.00  \n",
       "2   7.00  \n",
       "1   2.00  \n",
       "5   1.33  \n",
       "3   1.12  \n",
       "4   1.00  "
      ]
     },
     "execution_count": 22,
     "metadata": {},
     "output_type": "execute_result"
    }
   ],
   "source": [
    "## Apply the ICE framework to prioritize hypotheses. Sort them in descending order of priority.\n",
    "hypotheses_us['ICE']= ((hypotheses_us['impact'] * hypotheses_us['confidence'])/hypotheses_us['effort']).round(2)\n",
    "\n",
    "hypotheses_us[['hypothesis', 'ICE']].sort_values(by='ICE', ascending=False)"
   ]
  },
  {
   "cell_type": "code",
   "execution_count": 23,
   "metadata": {},
   "outputs": [
    {
     "data": {
      "text/html": [
       "<div>\n",
       "<style scoped>\n",
       "    .dataframe tbody tr th:only-of-type {\n",
       "        vertical-align: middle;\n",
       "    }\n",
       "\n",
       "    .dataframe tbody tr th {\n",
       "        vertical-align: top;\n",
       "    }\n",
       "\n",
       "    .dataframe thead th {\n",
       "        text-align: right;\n",
       "    }\n",
       "</style>\n",
       "<table border=\"1\" class=\"dataframe\">\n",
       "  <thead>\n",
       "    <tr style=\"text-align: right;\">\n",
       "      <th></th>\n",
       "      <th>hypothesis</th>\n",
       "      <th>RICE</th>\n",
       "    </tr>\n",
       "  </thead>\n",
       "  <tbody>\n",
       "    <tr>\n",
       "      <th>7</th>\n",
       "      <td>Add a subscription form to all the main pages. This will help you compile a mailing list</td>\n",
       "      <td>112.0</td>\n",
       "    </tr>\n",
       "    <tr>\n",
       "      <th>2</th>\n",
       "      <td>Add product recommendation blocks to the store's site. This will increase conversion and average purchase size</td>\n",
       "      <td>56.0</td>\n",
       "    </tr>\n",
       "    <tr>\n",
       "      <th>0</th>\n",
       "      <td>Add two new channels for attracting traffic. This will bring 30% more users</td>\n",
       "      <td>40.0</td>\n",
       "    </tr>\n",
       "    <tr>\n",
       "      <th>6</th>\n",
       "      <td>Show banners with current offers and sales on the main page. This will boost conversion</td>\n",
       "      <td>40.0</td>\n",
       "    </tr>\n",
       "    <tr>\n",
       "      <th>8</th>\n",
       "      <td>Launch a promotion that gives users discounts on their birthdays</td>\n",
       "      <td>16.2</td>\n",
       "    </tr>\n",
       "    <tr>\n",
       "      <th>3</th>\n",
       "      <td>Change the category structure. This will increase conversion since users will find the products they want more quickly</td>\n",
       "      <td>9.0</td>\n",
       "    </tr>\n",
       "    <tr>\n",
       "      <th>1</th>\n",
       "      <td>Launch your own delivery service. This will shorten delivery time</td>\n",
       "      <td>4.0</td>\n",
       "    </tr>\n",
       "    <tr>\n",
       "      <th>5</th>\n",
       "      <td>Add a customer review page. This will increase the number of orders</td>\n",
       "      <td>4.0</td>\n",
       "    </tr>\n",
       "    <tr>\n",
       "      <th>4</th>\n",
       "      <td>Change the background color on the main page. This will increase user engagement</td>\n",
       "      <td>3.0</td>\n",
       "    </tr>\n",
       "  </tbody>\n",
       "</table>\n",
       "</div>"
      ],
      "text/plain": [
       "                                                                                                               hypothesis  \\\n",
       "7                                Add a subscription form to all the main pages. This will help you compile a mailing list   \n",
       "2          Add product recommendation blocks to the store's site. This will increase conversion and average purchase size   \n",
       "0                                             Add two new channels for attracting traffic. This will bring 30% more users   \n",
       "6                                 Show banners with current offers and sales on the main page. This will boost conversion   \n",
       "8                                                        Launch a promotion that gives users discounts on their birthdays   \n",
       "3  Change the category structure. This will increase conversion since users will find the products they want more quickly   \n",
       "1                                                       Launch your own delivery service. This will shorten delivery time   \n",
       "5                                                     Add a customer review page. This will increase the number of orders   \n",
       "4                                        Change the background color on the main page. This will increase user engagement   \n",
       "\n",
       "    RICE  \n",
       "7  112.0  \n",
       "2   56.0  \n",
       "0   40.0  \n",
       "6   40.0  \n",
       "8   16.2  \n",
       "3    9.0  \n",
       "1    4.0  \n",
       "5    4.0  \n",
       "4    3.0  "
      ]
     },
     "execution_count": 23,
     "metadata": {},
     "output_type": "execute_result"
    }
   ],
   "source": [
    "## Apply the RICE framework to prioritize hypotheses. Sort them in descending order of priority.  \n",
    "hypotheses_us['RICE']= ((hypotheses_us['reach'] * hypotheses_us['impact'] * hypotheses_us['confidence']) /hypotheses_us['effort']).round(2)\n",
    "\n",
    "hypotheses_us[['hypothesis', 'RICE']].sort_values(by='RICE', ascending=False)"
   ]
  },
  {
   "cell_type": "code",
   "execution_count": 24,
   "metadata": {},
   "outputs": [
    {
     "data": {
      "text/html": [
       "<div>\n",
       "<style scoped>\n",
       "    .dataframe tbody tr th:only-of-type {\n",
       "        vertical-align: middle;\n",
       "    }\n",
       "\n",
       "    .dataframe tbody tr th {\n",
       "        vertical-align: top;\n",
       "    }\n",
       "\n",
       "    .dataframe thead th {\n",
       "        text-align: right;\n",
       "    }\n",
       "</style>\n",
       "<table border=\"1\" class=\"dataframe\">\n",
       "  <thead>\n",
       "    <tr style=\"text-align: right;\">\n",
       "      <th></th>\n",
       "      <th>hypothesis</th>\n",
       "      <th>reach</th>\n",
       "      <th>impact</th>\n",
       "      <th>confidence</th>\n",
       "      <th>effort</th>\n",
       "      <th>ICE</th>\n",
       "      <th>RICE</th>\n",
       "    </tr>\n",
       "  </thead>\n",
       "  <tbody>\n",
       "    <tr>\n",
       "      <th>0</th>\n",
       "      <td>Add two new channels for attracting traffic. This will bring 30% more users</td>\n",
       "      <td>3</td>\n",
       "      <td>10</td>\n",
       "      <td>8</td>\n",
       "      <td>6</td>\n",
       "      <td>13.33</td>\n",
       "      <td>40.0</td>\n",
       "    </tr>\n",
       "    <tr>\n",
       "      <th>1</th>\n",
       "      <td>Launch your own delivery service. This will shorten delivery time</td>\n",
       "      <td>2</td>\n",
       "      <td>5</td>\n",
       "      <td>4</td>\n",
       "      <td>10</td>\n",
       "      <td>2.00</td>\n",
       "      <td>4.0</td>\n",
       "    </tr>\n",
       "    <tr>\n",
       "      <th>2</th>\n",
       "      <td>Add product recommendation blocks to the store's site. This will increase conversion and average purchase size</td>\n",
       "      <td>8</td>\n",
       "      <td>3</td>\n",
       "      <td>7</td>\n",
       "      <td>3</td>\n",
       "      <td>7.00</td>\n",
       "      <td>56.0</td>\n",
       "    </tr>\n",
       "    <tr>\n",
       "      <th>3</th>\n",
       "      <td>Change the category structure. This will increase conversion since users will find the products they want more quickly</td>\n",
       "      <td>8</td>\n",
       "      <td>3</td>\n",
       "      <td>3</td>\n",
       "      <td>8</td>\n",
       "      <td>1.12</td>\n",
       "      <td>9.0</td>\n",
       "    </tr>\n",
       "    <tr>\n",
       "      <th>4</th>\n",
       "      <td>Change the background color on the main page. This will increase user engagement</td>\n",
       "      <td>3</td>\n",
       "      <td>1</td>\n",
       "      <td>1</td>\n",
       "      <td>1</td>\n",
       "      <td>1.00</td>\n",
       "      <td>3.0</td>\n",
       "    </tr>\n",
       "  </tbody>\n",
       "</table>\n",
       "</div>"
      ],
      "text/plain": [
       "                                                                                                               hypothesis  \\\n",
       "0                                             Add two new channels for attracting traffic. This will bring 30% more users   \n",
       "1                                                       Launch your own delivery service. This will shorten delivery time   \n",
       "2          Add product recommendation blocks to the store's site. This will increase conversion and average purchase size   \n",
       "3  Change the category structure. This will increase conversion since users will find the products they want more quickly   \n",
       "4                                        Change the background color on the main page. This will increase user engagement   \n",
       "\n",
       "   reach  impact  confidence  effort    ICE  RICE  \n",
       "0      3      10           8       6  13.33  40.0  \n",
       "1      2       5           4      10   2.00   4.0  \n",
       "2      8       3           7       3   7.00  56.0  \n",
       "3      8       3           3       8   1.12   9.0  \n",
       "4      3       1           1       1   1.00   3.0  "
      ]
     },
     "execution_count": 24,
     "metadata": {},
     "output_type": "execute_result"
    }
   ],
   "source": [
    "hypotheses_us.head()"
   ]
  },
  {
   "cell_type": "code",
   "execution_count": 25,
   "metadata": {},
   "outputs": [
    {
     "data": {
      "image/png": "[encoded data removed]",
      "text/plain": [
       "<Figure size 432x288 with 1 Axes>"
      ]
     },
     "metadata": {
      "needs_background": "light"
     },
     "output_type": "display_data"
    }
   ],
   "source": [
    "## Show how the prioritization of hypotheses changes when you use RICE instead of ICE. \n",
    "d = {'ICE' : np.random.rand(10),\n",
    "     'RICE' : np.random.rand(10)}\n",
    "\n",
    "df = pd.DataFrame(d)\n",
    "\n",
    "df.plot(style=['o','rx']);"
   ]
  },
  {
   "cell_type": "code",
   "execution_count": 26,
   "metadata": {},
   "outputs": [
    {
     "data": {
      "image/png": "[encoded data removed]",
      "text/plain": [
       "<Figure size 648x360 with 1 Axes>"
      ]
     },
     "metadata": {
      "needs_background": "light"
     },
     "output_type": "display_data"
    }
   ],
   "source": [
    "# The reviewer's code:\n",
    "fig, ax = plt.subplots(figsize=(9, 5))\n",
    "\n",
    "ax.set_xlabel('RICE')\n",
    "ax.set_ylabel('ICE')\n",
    "ax.set_title('ICE vs. RICE')\n",
    "\n",
    "for i, txt in enumerate(hypotheses_us.index.values):\n",
    "    legend = (str(txt) + ' - ' + str(hypotheses_us['hypothesis'][i]))    \n",
    "    ax.annotate(txt, (hypotheses_us['ICE'][i], hypotheses_us['RICE'][i]), xytext=(5,5), textcoords='offset points')\n",
    "    plt.scatter(hypotheses_us['ICE'][i], hypotheses_us['RICE'][i], label = legend)\n",
    "    \n",
    "plt.grid(True)  \n",
    "plt.legend(loc=\"lower left\",  bbox_to_anchor=(0, -0.7))\n",
    "\n",
    "plt.show()"
   ]
  },
  {
   "cell_type": "markdown",
   "metadata": {},
   "source": [
    " In the ICE metric Hypothesis 8 is in the lead followed by 0. In the RICE metric hypothesis 7 is in the lead followed by 2. Hypothesis 8 in the ICE metric is much lower than the leading hypothesis when using the RICE metric. The difference between both metrics is caused by the reach parameter, which is used to estimate  how many users will be affected by an update."
   ]
  },
  {
   "cell_type": "markdown",
   "metadata": {},
   "source": [
    "## Part 2. A/B Test Analysis\n",
    "You carried out an A/B test and got the results described in the files orders_us.csv and visits_us.csv."
   ]
  },
  {
   "cell_type": "code",
   "execution_count": 27,
   "metadata": {},
   "outputs": [
    {
     "data": {
      "text/html": [
       "<div>\n",
       "<style scoped>\n",
       "    .dataframe tbody tr th:only-of-type {\n",
       "        vertical-align: middle;\n",
       "    }\n",
       "\n",
       "    .dataframe tbody tr th {\n",
       "        vertical-align: top;\n",
       "    }\n",
       "\n",
       "    .dataframe thead th {\n",
       "        text-align: right;\n",
       "    }\n",
       "</style>\n",
       "<table border=\"1\" class=\"dataframe\">\n",
       "  <thead>\n",
       "    <tr style=\"text-align: right;\">\n",
       "      <th></th>\n",
       "      <th>group</th>\n",
       "      <th>visitor_id</th>\n",
       "      <th>revenue</th>\n",
       "    </tr>\n",
       "  </thead>\n",
       "  <tbody>\n",
       "    <tr>\n",
       "      <th>0</th>\n",
       "      <td>A</td>\n",
       "      <td>503</td>\n",
       "      <td>64554.9</td>\n",
       "    </tr>\n",
       "    <tr>\n",
       "      <th>1</th>\n",
       "      <td>B</td>\n",
       "      <td>586</td>\n",
       "      <td>92840.6</td>\n",
       "    </tr>\n",
       "  </tbody>\n",
       "</table>\n",
       "</div>"
      ],
      "text/plain": [
       "  group  visitor_id  revenue\n",
       "0     A         503  64554.9\n",
       "1     B         586  92840.6"
      ]
     },
     "execution_count": 27,
     "metadata": {},
     "output_type": "execute_result"
    }
   ],
   "source": [
    "## Graph cumulative revenue by group. Make conclusions and conjectures.\n",
    "orders_by_group=order_us.groupby('group').agg({'visitor_id':'nunique', 'revenue':'sum'}).reset_index()\n",
    "orders_by_group.head()"
   ]
  },
  {
   "cell_type": "markdown",
   "metadata": {},
   "source": [
    "Group A has a total revenue of 53212 and Group B has a total revenue of 79651.2. We are going to create a table for group A and B to get more insight."
   ]
  },
  {
   "cell_type": "code",
   "execution_count": 28,
   "metadata": {},
   "outputs": [
    {
     "data": {
      "text/html": [
       "<div>\n",
       "<style scoped>\n",
       "    .dataframe tbody tr th:only-of-type {\n",
       "        vertical-align: middle;\n",
       "    }\n",
       "\n",
       "    .dataframe tbody tr th {\n",
       "        vertical-align: top;\n",
       "    }\n",
       "\n",
       "    .dataframe thead th {\n",
       "        text-align: right;\n",
       "    }\n",
       "</style>\n",
       "<table border=\"1\" class=\"dataframe\">\n",
       "  <thead>\n",
       "    <tr style=\"text-align: right;\">\n",
       "      <th></th>\n",
       "      <th>group</th>\n",
       "      <th>visitor_id</th>\n",
       "      <th>revenue</th>\n",
       "      <th>av_orders_size_per_user</th>\n",
       "    </tr>\n",
       "  </thead>\n",
       "  <tbody>\n",
       "    <tr>\n",
       "      <th>0</th>\n",
       "      <td>A</td>\n",
       "      <td>503</td>\n",
       "      <td>64554.9</td>\n",
       "      <td>128.339761</td>\n",
       "    </tr>\n",
       "    <tr>\n",
       "      <th>1</th>\n",
       "      <td>B</td>\n",
       "      <td>586</td>\n",
       "      <td>92840.6</td>\n",
       "      <td>158.431058</td>\n",
       "    </tr>\n",
       "  </tbody>\n",
       "</table>\n",
       "</div>"
      ],
      "text/plain": [
       "  group  visitor_id  revenue  av_orders_size_per_user\n",
       "0     A         503  64554.9               128.339761\n",
       "1     B         586  92840.6               158.431058"
      ]
     },
     "execution_count": 28,
     "metadata": {},
     "output_type": "execute_result"
    }
   ],
   "source": [
    "# the reviewer's cell:\n",
    "orders_by_group.assign(av_orders_size_per_user = lambda x: x['revenue'] / x['visitor_id'])"
   ]
  },
  {
   "cell_type": "code",
   "execution_count": 29,
   "metadata": {},
   "outputs": [
    {
     "data": {
      "image/png": "[encoded data removed]",
      "text/plain": [
       "<Figure size 432x288 with 1 Axes>"
      ]
     },
     "metadata": {
      "needs_background": "light"
     },
     "output_type": "display_data"
    }
   ],
   "source": [
    "datesGroups = order_us[['date', 'group']].drop_duplicates()\n",
    "\n",
    "ordersAggregated = datesGroups.apply(lambda x: order_us[np.logical_and(order_us['date'] <= x['date'], order_us['group'] == x['group'])].agg({'date' : 'max', 'group' : 'max', 'transaction_id' : pd.Series.nunique, 'visitor_id' : pd.Series.nunique, 'revenue' : 'sum'}), axis=1).sort_values(by=['date','group'])\n",
    "\n",
    "visitsAggregated = datesGroups.apply(lambda x: visits_us[np.logical_and(visits_us['date'] <= x['date'], visits_us['group'] == x['group'])].agg({'date' : 'max', 'group' : 'max', 'visits' : 'sum'}), axis=1).sort_values(by=['date','group'])\n",
    "\n",
    "cumulativeData = ordersAggregated.merge(visitsAggregated, left_on=['date', 'group'], right_on=['date', 'group'])\n",
    "cumulativeData.columns = ['date', 'group', 'orders', 'buyers', 'revenue', 'visitors']\n",
    "\n",
    "\n",
    "cumulativeRevenueA = cumulativeData[cumulativeData['group']=='A'][['date','revenue', 'orders']]\n",
    "cumulativeRevenueB = cumulativeData[cumulativeData['group']=='B'][['date','revenue', 'orders']]\n",
    "\n",
    "plt.plot(cumulativeRevenueA['date'], cumulativeRevenueA['revenue'], label='A')\n",
    "plt.plot(cumulativeRevenueB['date'], cumulativeRevenueB['revenue'], label='B')\n",
    "\n",
    "plt.legend();\n",
    "plt.title('Cumulative Revenue: Group A and Group B ');\n",
    "plt.xlabel('date');\n",
    "plt.ylabel('revenue');\n",
    "plt.rcParams['figure.figsize'] = [8,8];"
   ]
  },
  {
   "cell_type": "code",
   "execution_count": 30,
   "metadata": {},
   "outputs": [
    {
     "data": {
      "image/png": "[encoded data removed]",
      "text/plain": [
       "<Figure size 864x504 with 1 Axes>"
      ]
     },
     "metadata": {
      "needs_background": "light"
     },
     "output_type": "display_data"
    }
   ],
   "source": [
    "# the reviewer's cell:\n",
    "datesGroups = order_us[['date', 'group']].drop_duplicates()\n",
    "\n",
    "ordersAggregated = (datesGroups\n",
    "                    .apply(lambda x: order_us[np.logical_and(\n",
    "                        order_us['date'] <= x['date'], \n",
    "                        order_us['group'] == x['group'])]\n",
    "                           .agg({'date' : 'max',\n",
    "                                 'group' : 'max',\n",
    "                                 'transaction_id' : pd.Series.nunique,\n",
    "                                 'visitor_id' : pd.Series.nunique,\n",
    "                                 'revenue' : 'sum'}), axis=1)\n",
    "                    .sort_values(by=['date','group'])\n",
    "                   )\n",
    "\n",
    "visitsAggregated = (datesGroups\n",
    "                    .apply(lambda x: visits_us[np.logical_and(\n",
    "                        visits_us['date'] <= x['date'], \n",
    "                        visits_us['group'] == x['group'])]\n",
    "                           .agg({'date' : 'max', \n",
    "                                 'group' : 'max', \n",
    "                                 'visits' : 'sum'}), axis=1)\n",
    "                    .sort_values(by=['date','group'])\n",
    "                   )\n",
    "\n",
    "cumulativeData = ordersAggregated.merge(visitsAggregated, \n",
    "                                        left_on=['date', 'group'], \n",
    "                                        right_on=['date', 'group'])\n",
    "cumulativeData.columns = ['date', 'group', 'orders', 'buyers', 'revenue', 'visitors']\n",
    "\n",
    "cumulativeRevenueA = cumulativeData[cumulativeData['group']=='A'][['date','revenue', 'orders']]\n",
    "cumulativeRevenueB = cumulativeData[cumulativeData['group']=='B'][['date','revenue', 'orders']]\n",
    "\n",
    "\n",
    "# here we could set the figure size:\n",
    "fig = plt.figure(figsize=(12, 7))\n",
    "plt.plot(cumulativeRevenueA['date'], cumulativeRevenueA['revenue'], label='A')\n",
    "plt.plot(cumulativeRevenueB['date'], cumulativeRevenueB['revenue'], label='B')\n",
    "\n",
    "plt.legend()\n",
    "plt.title('Cumulative Revenue: Group A and Group B ')\n",
    "plt.xlabel('date')\n",
    "\n",
    "# please note that it is better to write the dimension of the axis:\n",
    "plt.ylabel('revenue, $')\n",
    "\n",
    "# add plot grid:\n",
    "plt.grid()\n",
    "\n",
    "# show the plot:\n",
    "plt.show()"
   ]
  },
  {
   "cell_type": "markdown",
   "metadata": {},
   "source": [
    "Revenue for both groups were fairly similar at the start of august. Revenue for for group B drastically increases a little after 8-17-2019 while group has a more linear growth. This may be due to pricing or the number of orders."
   ]
  },
  {
   "cell_type": "code",
   "execution_count": 31,
   "metadata": {},
   "outputs": [
    {
     "data": {
      "image/png": "[encoded data removed]",
      "text/plain": [
       "<Figure size 576x576 with 1 Axes>"
      ]
     },
     "metadata": {
      "needs_background": "light"
     },
     "output_type": "display_data"
    }
   ],
   "source": [
    "## Graph cumulative average order size by group. Make conclusions and conjectures.\n",
    "\n",
    "plt.plot(cumulativeRevenueA['date'], cumulativeRevenueA['revenue']/cumulativeRevenueA['orders'], label='A')\n",
    "plt.plot(cumulativeRevenueB['date'], cumulativeRevenueB['revenue']/cumulativeRevenueB['orders'], label='B')\n",
    "plt.legend(); \n",
    "plt.title('Cumulative average order size: Group A and Group B ');\n",
    "plt.xlabel('date');\n",
    "plt.ylabel('revenue');\n",
    "plt.rcParams['figure.figsize'] = [13,10];"
   ]
  },
  {
   "cell_type": "markdown",
   "metadata": {},
   "source": [
    "At the beginning og August both groups fluctuate but then after 8/17/2019 the average price for Group B rises and then begins to decrease. Group A started experiencing a rise around 8/13/19 but drops a bit and then remains steady."
   ]
  },
  {
   "cell_type": "code",
   "execution_count": 32,
   "metadata": {},
   "outputs": [
    {
     "data": {
      "image/png": "[encoded data removed]",
      "text/plain": [
       "<Figure size 936x720 with 1 Axes>"
      ]
     },
     "metadata": {
      "needs_background": "light"
     },
     "output_type": "display_data"
    }
   ],
   "source": [
    "## Graph the relative difference in cumulative average order size for group B with group A.\n",
    "## Make conclusions & conjectures.\n",
    "\n",
    "mergedCumulativeRevenue = cumulativeRevenueA.merge(cumulativeRevenueB, left_on='date', right_on='date', how='left', suffixes=['A', 'B'])\n",
    "plt.plot(mergedCumulativeRevenue['date'], (mergedCumulativeRevenue['revenueB']/mergedCumulativeRevenue['ordersB'])/(mergedCumulativeRevenue['revenueA']/mergedCumulativeRevenue['ordersA'])-1)\n",
    "\n",
    "plt.axhline(y=0, color='black', linestyle='--');\n",
    "plt.title('Cumulative Average Order Size: Group A & Group B ');\n",
    "plt.xlabel('Date');\n",
    "plt.ylabel('Relative Difference');\n",
    "plt.rcParams['figure.figsize'] = [8,12];"
   ]
  },
  {
   "cell_type": "markdown",
   "metadata": {},
   "source": [
    "As shown above, there are several spikes that indicate a large order and outliers."
   ]
  },
  {
   "cell_type": "code",
   "execution_count": 33,
   "metadata": {},
   "outputs": [
    {
     "data": {
      "image/png": "[encoded data removed]",
      "text/plain": [
       "<Figure size 576x864 with 1 Axes>"
      ]
     },
     "metadata": {
      "needs_background": "light"
     },
     "output_type": "display_data"
    }
   ],
   "source": [
    "## Calculate each group's conversion rate as the ratio of orders to the number of visits for each day.\n",
    "## plot the daily conversion rates of the two groups and describe the difference. Draw conclusions and make  conjectures.\n",
    "\n",
    "cumulativeData['conversion'] = cumulativeData['orders']/cumulativeData['visitors']\n",
    "cumulativeDataA = cumulativeData[cumulativeData['group']=='A']\n",
    "cumulativeDataB = cumulativeData[cumulativeData['group']=='B']\n",
    "\n",
    "plt.plot(cumulativeDataA['date'], cumulativeDataA['conversion'], label='A')\n",
    "plt.plot(cumulativeDataB['date'], cumulativeDataB['conversion'], label='B')\n",
    "plt.legend()\n",
    "\n",
    "plt.axis([pd.to_datetime('2019-08-01'), pd.to_datetime('2019-09-01'), 0, 0.05])\n",
    "plt.title('Cumulative Conversion: Group A & Group B ');\n",
    "plt.xlabel('Date');\n",
    "plt.ylabel('Conversion');\n",
    "plt.rcParams['figure.figsize'] = [12,15];"
   ]
  },
  {
   "cell_type": "markdown",
   "metadata": {},
   "source": [
    "Both groups show to have some fluctuation at the start with conversation rate higher for Group A. Group B then takes the lead while A decreases."
   ]
  },
  {
   "cell_type": "code",
   "execution_count": 34,
   "metadata": {},
   "outputs": [],
   "source": [
    "## Plot a scatter chart of the number of orders per user. Make conclusions and conjectures.\n",
    "\n",
    "ordersByUsers =order_us.drop(['group', 'revenue', 'date'], axis=1).groupby('visitor_id', as_index=False).agg({'transaction_id' : pd.Series.nunique})\n",
    "\n",
    "ordersByUsers.columns= ['user_id','orders']"
   ]
  },
  {
   "cell_type": "code",
   "execution_count": 35,
   "metadata": {},
   "outputs": [
    {
     "data": {
      "image/png": "[encoded data removed]",
      "text/plain": [
       "<Figure size 864x1080 with 1 Axes>"
      ]
     },
     "metadata": {
      "needs_background": "light"
     },
     "output_type": "display_data"
    }
   ],
   "source": [
    "plt.hist(ordersByUsers['orders']);\n",
    "plt.title('Orders Per User');\n",
    "plt.xlabel('# of orders');\n",
    "plt.ylabel('# of users');"
   ]
  },
  {
   "cell_type": "code",
   "execution_count": 36,
   "metadata": {},
   "outputs": [
    {
     "data": {
      "text/html": [
       "<div>\n",
       "<style scoped>\n",
       "    .dataframe tbody tr th:only-of-type {\n",
       "        vertical-align: middle;\n",
       "    }\n",
       "\n",
       "    .dataframe tbody tr th {\n",
       "        vertical-align: top;\n",
       "    }\n",
       "\n",
       "    .dataframe thead th {\n",
       "        text-align: right;\n",
       "    }\n",
       "</style>\n",
       "<table border=\"1\" class=\"dataframe\">\n",
       "  <thead>\n",
       "    <tr style=\"text-align: right;\">\n",
       "      <th></th>\n",
       "      <th>user_id</th>\n",
       "      <th>orders</th>\n",
       "    </tr>\n",
       "  </thead>\n",
       "  <tbody>\n",
       "    <tr>\n",
       "      <th>0</th>\n",
       "      <td>5114589</td>\n",
       "      <td>1</td>\n",
       "    </tr>\n",
       "    <tr>\n",
       "      <th>1</th>\n",
       "      <td>6958315</td>\n",
       "      <td>1</td>\n",
       "    </tr>\n",
       "    <tr>\n",
       "      <th>2</th>\n",
       "      <td>8300375</td>\n",
       "      <td>2</td>\n",
       "    </tr>\n",
       "    <tr>\n",
       "      <th>3</th>\n",
       "      <td>11685486</td>\n",
       "      <td>1</td>\n",
       "    </tr>\n",
       "    <tr>\n",
       "      <th>4</th>\n",
       "      <td>39475350</td>\n",
       "      <td>1</td>\n",
       "    </tr>\n",
       "    <tr>\n",
       "      <th>...</th>\n",
       "      <td>...</td>\n",
       "      <td>...</td>\n",
       "    </tr>\n",
       "    <tr>\n",
       "      <th>1026</th>\n",
       "      <td>4266935830</td>\n",
       "      <td>2</td>\n",
       "    </tr>\n",
       "    <tr>\n",
       "      <th>1027</th>\n",
       "      <td>4278982564</td>\n",
       "      <td>1</td>\n",
       "    </tr>\n",
       "    <tr>\n",
       "      <th>1028</th>\n",
       "      <td>4279090005</td>\n",
       "      <td>1</td>\n",
       "    </tr>\n",
       "    <tr>\n",
       "      <th>1029</th>\n",
       "      <td>4281247801</td>\n",
       "      <td>1</td>\n",
       "    </tr>\n",
       "    <tr>\n",
       "      <th>1030</th>\n",
       "      <td>4283872382</td>\n",
       "      <td>1</td>\n",
       "    </tr>\n",
       "  </tbody>\n",
       "</table>\n",
       "<p>1031 rows × 2 columns</p>\n",
       "</div>"
      ],
      "text/plain": [
       "         user_id  orders\n",
       "0        5114589       1\n",
       "1        6958315       1\n",
       "2        8300375       2\n",
       "3       11685486       1\n",
       "4       39475350       1\n",
       "...          ...     ...\n",
       "1026  4266935830       2\n",
       "1027  4278982564       1\n",
       "1028  4279090005       1\n",
       "1029  4281247801       1\n",
       "1030  4283872382       1\n",
       "\n",
       "[1031 rows x 2 columns]"
      ]
     },
     "execution_count": 36,
     "metadata": {},
     "output_type": "execute_result"
    }
   ],
   "source": [
    "ordersByUsers"
   ]
  },
  {
   "cell_type": "code",
   "execution_count": 37,
   "metadata": {},
   "outputs": [
    {
     "data": {
      "image/png": "[encoded data removed]",
      "text/plain": [
       "<Figure size 864x1080 with 1 Axes>"
      ]
     },
     "metadata": {
      "needs_background": "light"
     },
     "output_type": "display_data"
    }
   ],
   "source": [
    "x_values = pd.Series(range(0,len(ordersByUsers)))\n",
    "plt.scatter(x_values, ordersByUsers['orders'])\n",
    "plt.title('Orders Per user');\n",
    "plt.xlabel('# of users');\n",
    "plt.ylabel('# of orders');"
   ]
  },
  {
   "cell_type": "markdown",
   "metadata": {},
   "source": [
    "Majority of buyers made a total of 1 order, but we also see that some user buy 2 to 4 orders."
   ]
  },
  {
   "cell_type": "code",
   "execution_count": 38,
   "metadata": {},
   "outputs": [
    {
     "name": "stdout",
     "output_type": "stream",
     "text": [
      "[2. 4.]\n"
     ]
    }
   ],
   "source": [
    "## Calculate the 95th and 99th sample for the number of orders per user. Define the pointat which data becomes an anomaly.\n",
    "\n",
    "print(np.percentile(ordersByUsers['orders'], [95, 99]))"
   ]
  },
  {
   "cell_type": "markdown",
   "metadata": {},
   "source": [
    "No more than 5% of users order more than twice and not more than the 1% order more than 4. "
   ]
  },
  {
   "cell_type": "code",
   "execution_count": 39,
   "metadata": {},
   "outputs": [
    {
     "data": {
      "image/png": "[encoded data removed]",
      "text/plain": [
       "<Figure size 864x1080 with 1 Axes>"
      ]
     },
     "metadata": {
      "needs_background": "light"
     },
     "output_type": "display_data"
    }
   ],
   "source": [
    "## plot a scatter chart of order prices. Make conclusions & conjectures.\n",
    "x_values = pd.Series(range(0,len(order_us['revenue'])))\n",
    "plt.scatter(x_values, order_us['revenue']);\n",
    "plt.title('Revenue per User');\n",
    "plt.xlabel('Users');\n",
    "plt.ylabel('Revenue');"
   ]
  },
  {
   "cell_type": "markdown",
   "metadata": {},
   "source": [
    "There's one order of 2500 and one of 20000, both are outliers."
   ]
  },
  {
   "cell_type": "code",
   "execution_count": 40,
   "metadata": {},
   "outputs": [
    {
     "name": "stdout",
     "output_type": "stream",
     "text": [
      "[435.54  900.904]\n"
     ]
    }
   ],
   "source": [
    "## Calculate the 95th and 99th sample for the number of orders per user. Define the pointat which data becomes an anomaly.\n",
    "\n",
    "print(np.percentile(order_us['revenue'], [95, 99]))"
   ]
  },
  {
   "cell_type": "markdown",
   "metadata": {},
   "source": [
    "No more than 5% of orders cost more than 435.54, and no more than 1% cost more than 900.90.\n",
    "We can set the limit at 435.54 anything above that can be seen as an anomaly. Order above 3 can also be seen as an anomaly."
   ]
  },
  {
   "cell_type": "markdown",
   "metadata": {},
   "source": [
    "We are testing the following hypothesis:  \n",
    "\n",
    "Alpha =0.05 \n",
    "   \n",
    "H0: 'There is no significant difference in conversion between the groups'.                                                        \n",
    "H1: 'There is a significant difference in conversion between the groups'"
   ]
  },
  {
   "cell_type": "code",
   "execution_count": 47,
   "metadata": {},
   "outputs": [
    {
     "data": {
      "text/html": [
       "<div>\n",
       "<style scoped>\n",
       "    .dataframe tbody tr th:only-of-type {\n",
       "        vertical-align: middle;\n",
       "    }\n",
       "\n",
       "    .dataframe tbody tr th {\n",
       "        vertical-align: top;\n",
       "    }\n",
       "\n",
       "    .dataframe thead th {\n",
       "        text-align: right;\n",
       "    }\n",
       "</style>\n",
       "<table border=\"1\" class=\"dataframe\">\n",
       "  <thead>\n",
       "    <tr style=\"text-align: right;\">\n",
       "      <th></th>\n",
       "      <th>transaction_id</th>\n",
       "      <th>visitor_id</th>\n",
       "      <th>date</th>\n",
       "      <th>revenue</th>\n",
       "      <th>group</th>\n",
       "    </tr>\n",
       "  </thead>\n",
       "  <tbody>\n",
       "    <tr>\n",
       "      <th>0</th>\n",
       "      <td>3667963787</td>\n",
       "      <td>3312258926</td>\n",
       "      <td>2019-08-15</td>\n",
       "      <td>30.4</td>\n",
       "      <td>B</td>\n",
       "    </tr>\n",
       "    <tr>\n",
       "      <th>1</th>\n",
       "      <td>2804400009</td>\n",
       "      <td>3642806036</td>\n",
       "      <td>2019-08-15</td>\n",
       "      <td>15.2</td>\n",
       "      <td>B</td>\n",
       "    </tr>\n",
       "    <tr>\n",
       "      <th>2</th>\n",
       "      <td>2961555356</td>\n",
       "      <td>4069496402</td>\n",
       "      <td>2019-08-15</td>\n",
       "      <td>10.2</td>\n",
       "      <td>A</td>\n",
       "    </tr>\n",
       "    <tr>\n",
       "      <th>3</th>\n",
       "      <td>3797467345</td>\n",
       "      <td>1196621759</td>\n",
       "      <td>2019-08-15</td>\n",
       "      <td>155.1</td>\n",
       "      <td>B</td>\n",
       "    </tr>\n",
       "    <tr>\n",
       "      <th>4</th>\n",
       "      <td>2282983706</td>\n",
       "      <td>2322279887</td>\n",
       "      <td>2019-08-15</td>\n",
       "      <td>40.5</td>\n",
       "      <td>B</td>\n",
       "    </tr>\n",
       "    <tr>\n",
       "      <th>...</th>\n",
       "      <td>...</td>\n",
       "      <td>...</td>\n",
       "      <td>...</td>\n",
       "      <td>...</td>\n",
       "      <td>...</td>\n",
       "    </tr>\n",
       "    <tr>\n",
       "      <th>1192</th>\n",
       "      <td>2662137336</td>\n",
       "      <td>3733762160</td>\n",
       "      <td>2019-08-14</td>\n",
       "      <td>100.8</td>\n",
       "      <td>B</td>\n",
       "    </tr>\n",
       "    <tr>\n",
       "      <th>1193</th>\n",
       "      <td>2203539145</td>\n",
       "      <td>370388673</td>\n",
       "      <td>2019-08-14</td>\n",
       "      <td>50.1</td>\n",
       "      <td>A</td>\n",
       "    </tr>\n",
       "    <tr>\n",
       "      <th>1194</th>\n",
       "      <td>1807773912</td>\n",
       "      <td>573423106</td>\n",
       "      <td>2019-08-14</td>\n",
       "      <td>165.3</td>\n",
       "      <td>A</td>\n",
       "    </tr>\n",
       "    <tr>\n",
       "      <th>1195</th>\n",
       "      <td>1947021204</td>\n",
       "      <td>1614305549</td>\n",
       "      <td>2019-08-14</td>\n",
       "      <td>5.5</td>\n",
       "      <td>A</td>\n",
       "    </tr>\n",
       "    <tr>\n",
       "      <th>1196</th>\n",
       "      <td>3936777065</td>\n",
       "      <td>2108080724</td>\n",
       "      <td>2019-08-15</td>\n",
       "      <td>3120.1</td>\n",
       "      <td>B</td>\n",
       "    </tr>\n",
       "  </tbody>\n",
       "</table>\n",
       "<p>1197 rows × 5 columns</p>\n",
       "</div>"
      ],
      "text/plain": [
       "      transaction_id  visitor_id       date  revenue group\n",
       "0         3667963787  3312258926 2019-08-15     30.4     B\n",
       "1         2804400009  3642806036 2019-08-15     15.2     B\n",
       "2         2961555356  4069496402 2019-08-15     10.2     A\n",
       "3         3797467345  1196621759 2019-08-15    155.1     B\n",
       "4         2282983706  2322279887 2019-08-15     40.5     B\n",
       "...              ...         ...        ...      ...   ...\n",
       "1192      2662137336  3733762160 2019-08-14    100.8     B\n",
       "1193      2203539145   370388673 2019-08-14     50.1     A\n",
       "1194      1807773912   573423106 2019-08-14    165.3     A\n",
       "1195      1947021204  1614305549 2019-08-14      5.5     A\n",
       "1196      3936777065  2108080724 2019-08-15   3120.1     B\n",
       "\n",
       "[1197 rows x 5 columns]"
      ]
     },
     "execution_count": 47,
     "metadata": {},
     "output_type": "execute_result"
    }
   ],
   "source": [
    "order_us"
   ]
  },
  {
   "cell_type": "code",
   "execution_count": 41,
   "metadata": {},
   "outputs": [
    {
     "name": "stdout",
     "output_type": "stream",
     "text": [
      "p-value is 0.017\n",
      "The relative conversion is 0.138\n"
     ]
    }
   ],
   "source": [
    "## Find the statistical significance of the difference in conversion between the groups using the raw data.\n",
    "ordersByUsersA = order_us[order_us['group']=='A'].groupby('visitor_id', as_index=False).agg({'transaction_id' : pd.Series.nunique})\n",
    "ordersByUsersA.columns = ['user_id', 'orders']\n",
    "\n",
    "ordersByUsersB = order_us[order_us['group']=='B'].groupby('visitor_id', as_index=False).agg({'transaction_id' : pd.Series.nunique})\n",
    "ordersByUsersB.columns = ['user_id', 'orders'] \n",
    "\n",
    "sampleA = pd.concat([ordersByUsersA['orders'],pd.Series(0, index=np.arange(visits_us[visits_us['group']=='A']['visits'].sum() - len(ordersByUsersA['orders'])), name='orders')],axis=0)\n",
    "\n",
    "sampleB = pd.concat([ordersByUsersB['orders'],pd.Series(0, index=np.arange(visits_us[visits_us['group']=='B']['visits'].sum() - len(ordersByUsersB['orders'])), name='orders')],axis=0)\n",
    "\n",
    "print(\"p-value is {0:.3f}\".format(stats.mannwhitneyu(sampleA, sampleB)[1]))\n",
    "print(\"The relative conversion is {0:.3f}\".format(sampleB.mean()/sampleA.mean()-1)) "
   ]
  },
  {
   "cell_type": "markdown",
   "metadata": {},
   "source": [
    "The first row of the output gives us the p-value, 0.017, which is less than 0.05. The relative conversion is 13.8%. The analysis shows that the conversion rates have statistical differences."
   ]
  },
  {
   "cell_type": "code",
   "execution_count": 42,
   "metadata": {},
   "outputs": [
    {
     "name": "stdout",
     "output_type": "stream",
     "text": [
      "p-value is 0.017\n",
      "The relative conversion is 0.138\n"
     ]
    }
   ],
   "source": [
    "# the reviewer's cell:\n",
    "\n",
    "print(\"p-value is {0:.3f}\".format(stats.mannwhitneyu(sampleA, sampleB)[1]))\n",
    "print(\"The relative conversion is {0:.3f}\".format(sampleB.mean()/sampleA.mean()-1)) "
   ]
  },
  {
   "cell_type": "markdown",
   "metadata": {},
   "source": [
    "We are testing the following hypothesis:  \n",
    "\n",
    "Alpha =0.05 \n",
    "   \n",
    "H0: 'There is no difference in average order size between the groups'                                                         \n",
    "H1: 'There is a difference in average order size between the groups'"
   ]
  },
  {
   "cell_type": "code",
   "execution_count": 43,
   "metadata": {},
   "outputs": [
    {
     "name": "stdout",
     "output_type": "stream",
     "text": [
      "p-value is 0.692\n",
      "The relative conversion is 0.252\n"
     ]
    }
   ],
   "source": [
    "## Find the statistical significance of the difference in average order size between the groups using the raw data.\n",
    "print(\"p-value is {0:.3f}\".format(stats.mannwhitneyu(order_us[order_us['group']=='A']['revenue'], order_us[order_us['group']=='B']['revenue'])[1]))\n",
    "print(\"The relative conversion is {0:.3f}\".format(order_us[order_us['group']=='B']['revenue'].mean()/order_us[order_us['group']=='A']['revenue'].mean()-1)) "
   ]
  },
  {
   "cell_type": "markdown",
   "metadata": {},
   "source": [
    "The first row of the output gives us the p-value, 0.692, which is larger than 0.05. The relative diffference is 25.2%. we can't reject the null hypothesis that there's not a statistically significant difference average order size between the groups."
   ]
  },
  {
   "cell_type": "markdown",
   "metadata": {},
   "source": [
    "We are testing the following hypothesis:  \n",
    "\n",
    "Alpha =0.05 \n",
    "   \n",
    "H0: 'There is no difference in conversion between the groups using the filtered data'                                                         \n",
    "H1: 'There is a difference in conversion between the groups using the filtered data'"
   ]
  },
  {
   "cell_type": "code",
   "execution_count": 44,
   "metadata": {
    "scrolled": true
   },
   "outputs": [
    {
     "name": "stdout",
     "output_type": "stream",
     "text": [
      "p-value is 0.01324\n",
      "The relative conversion is 0.172\n"
     ]
    }
   ],
   "source": [
    "## Find the statistical significance of the difference in conversion between the groups using the filtered data. \n",
    "\n",
    "usersWithManyOrders = pd.concat([ordersByUsersA[ordersByUsersA['orders'] > 2]['user_id'], ordersByUsersB[ordersByUsersB['orders'] > 2]['user_id']], axis = 0)\n",
    "usersWithExpensiveOrders = order_us[order_us['revenue'] > 450]['visitor_id']\n",
    "abnormalUsers = pd.concat([usersWithManyOrders, usersWithExpensiveOrders], axis = 0).drop_duplicates().sort_values()\n",
    "\n",
    "sampleAFiltered = pd.concat([ordersByUsersA[np.logical_not(ordersByUsersA['user_id'].isin(abnormalUsers))]['orders'],pd.Series(0, index=np.arange(visits_us[visits_us['group']=='A']['visits'].sum() - len(ordersByUsersA['orders'])),name='orders')],axis=0)\n",
    "sampleBFiltered = pd.concat([ordersByUsersB[np.logical_not(ordersByUsersB['user_id'].isin(abnormalUsers))]['orders'],pd.Series(0, index=np.arange(visits_us[visits_us['group']=='B']['visits'].sum() - len(ordersByUsersB['orders'])),name='orders')],axis=0) \n",
    "print(\"p-value is {0:.5f}\".format(stats.mannwhitneyu(sampleAFiltered, sampleBFiltered)[1]))\n",
    "print(\"The relative conversion is {0:.3f}\".format(sampleBFiltered.mean()/sampleAFiltered.mean()-1)) "
   ]
  },
  {
   "cell_type": "markdown",
   "metadata": {},
   "source": [
    "The first row of the output gives us the p-value, 0.01324, which is less than 0.05. The relative diffference is 17.2%. we can reject the null hypothesis that there's not a statistically significant difference in conversion between the groups using the filtered data."
   ]
  },
  {
   "cell_type": "markdown",
   "metadata": {},
   "source": [
    "We are testing the following hypothesis:  \n",
    "\n",
    "Alpha =0.05 \n",
    "   \n",
    "H0: 'There is no difference in average order size between the groups using the filtered data'                                                         \n",
    "H1: 'There is a difference in average order size between the groups using the filtered data'"
   ]
  },
  {
   "cell_type": "code",
   "execution_count": 45,
   "metadata": {},
   "outputs": [
    {
     "name": "stdout",
     "output_type": "stream",
     "text": [
      "p-value is 0.776\n",
      "The relative conversion is -0.021\n"
     ]
    }
   ],
   "source": [
    "## Find the statistical significance of the difference in average order size between the groups using the filtered data\n",
    "\n",
    "print(\"p-value is {0:.3f}\".format(stats.mannwhitneyu(\n",
    "    order_us[np.logical_and(\n",
    "        order_us['group']=='A',\n",
    "        np.logical_not(order_us['visitor_id'].isin(abnormalUsers)))]['revenue'],\n",
    "    order_us[np.logical_and(\n",
    "        order_us['group']=='B',\n",
    "        np.logical_not(order_us['visitor_id'].isin(abnormalUsers)))]['revenue'])[1]))\n",
    "\n",
    "print(\"The relative conversion is {0:.3f}\".format(\n",
    "    order_us[np.logical_and(order_us['group']=='B',np.logical_not(order_us['visitor_id'].isin(abnormalUsers)))]['revenue'].mean()/\n",
    "    order_us[np.logical_and(\n",
    "        order_us['group']=='A',\n",
    "        np.logical_not(order_us['visitor_id'].isin(abnormalUsers)))]['revenue'].mean() - 1)) "
   ]
  },
  {
   "cell_type": "markdown",
   "metadata": {},
   "source": [
    "The first row of the output gives us the p-value, 0.776, which is greater than 0.05. we can't reject the null hypothesis that there's not a statistically significant difference in average order size between the groups using the filtered data. \n",
    "The relative loss for Group B is  -2.1%"
   ]
  },
  {
   "cell_type": "code",
   "execution_count": 46,
   "metadata": {},
   "outputs": [],
   "source": [
    "## Make a decision based on the test results. \n",
    "## The possible decisions are: 1. Stop the test, consider one of the groups the leader. \n",
    "## 2. Stop the test, conclude that there is no difference between the groups. 3. Continue the test"
   ]
  },
  {
   "cell_type": "markdown",
   "metadata": {},
   "source": [
    "Based on the above graphs and the test ran, we can conclude the test as it was successful and has shown that Group B is in the lead. It showed us that there is a statistical difference in conversion between the groups using the raw data but no difference on statistical significance of the difference in average order size between the groups.There is a difference in conversion between the groups using the filtered data but there is no differenceaverage order size between the groups using the filtered data which means that users in Group B buy the same amount as Group A does. "
   ]
  }
 ],
 "metadata": {
  "ExecuteTimeLog": [
   {
    "duration": 45,
    "start_time": "2022-09-06T01:11:12.619Z"
   },
   {
    "duration": 5,
    "start_time": "2022-09-06T01:12:06.662Z"
   },
   {
    "duration": 332,
    "start_time": "2022-09-06T01:12:11.593Z"
   },
   {
    "duration": 956,
    "start_time": "2022-09-06T01:12:47.812Z"
   },
   {
    "duration": 133,
    "start_time": "2022-09-06T01:13:08.401Z"
   },
   {
    "duration": 34,
    "start_time": "2022-09-06T01:13:13.794Z"
   },
   {
    "duration": 33,
    "start_time": "2022-09-06T01:13:36.965Z"
   },
   {
    "duration": 99,
    "start_time": "2022-09-06T01:16:36.896Z"
   },
   {
    "duration": 67,
    "start_time": "2022-09-06T01:17:32.361Z"
   },
   {
    "duration": 12,
    "start_time": "2022-09-06T01:17:51.538Z"
   },
   {
    "duration": 3,
    "start_time": "2022-09-06T01:19:30.112Z"
   },
   {
    "duration": 8,
    "start_time": "2022-09-06T01:19:46.217Z"
   },
   {
    "duration": 9,
    "start_time": "2022-09-06T01:20:41.177Z"
   },
   {
    "duration": 8,
    "start_time": "2022-09-06T01:20:47.825Z"
   },
   {
    "duration": 10,
    "start_time": "2022-09-06T01:20:57.461Z"
   },
   {
    "duration": 5,
    "start_time": "2022-09-06T01:22:21.827Z"
   },
   {
    "duration": 11,
    "start_time": "2022-09-06T01:22:43.845Z"
   },
   {
    "duration": 8,
    "start_time": "2022-09-06T01:22:52.712Z"
   },
   {
    "duration": 11,
    "start_time": "2022-09-06T01:23:10.645Z"
   },
   {
    "duration": 3,
    "start_time": "2022-09-06T01:23:33.061Z"
   },
   {
    "duration": 9,
    "start_time": "2022-09-06T01:23:39.961Z"
   },
   {
    "duration": 8,
    "start_time": "2022-09-06T01:24:38.515Z"
   },
   {
    "duration": 5,
    "start_time": "2022-09-06T01:24:44.228Z"
   },
   {
    "duration": 6,
    "start_time": "2022-09-06T01:25:25.411Z"
   },
   {
    "duration": 6,
    "start_time": "2022-09-06T01:25:53.628Z"
   },
   {
    "duration": 3,
    "start_time": "2022-09-06T01:28:55.061Z"
   },
   {
    "duration": 9,
    "start_time": "2022-09-06T01:28:55.811Z"
   },
   {
    "duration": 5,
    "start_time": "2022-09-06T01:28:57.928Z"
   },
   {
    "duration": 6,
    "start_time": "2022-09-06T01:29:01.527Z"
   },
   {
    "duration": 32,
    "start_time": "2022-09-06T01:29:08.411Z"
   },
   {
    "duration": 9,
    "start_time": "2022-09-06T01:29:09.394Z"
   },
   {
    "duration": 3,
    "start_time": "2022-09-06T01:29:10.595Z"
   },
   {
    "duration": 6,
    "start_time": "2022-09-06T01:29:11.759Z"
   },
   {
    "duration": 8,
    "start_time": "2022-09-06T01:30:28.893Z"
   },
   {
    "duration": 1166,
    "start_time": "2022-09-06T01:35:04.815Z"
   },
   {
    "duration": 36,
    "start_time": "2022-09-06T01:35:05.983Z"
   },
   {
    "duration": 11,
    "start_time": "2022-09-06T01:35:06.020Z"
   },
   {
    "duration": 46,
    "start_time": "2022-09-06T01:35:06.032Z"
   },
   {
    "duration": 19,
    "start_time": "2022-09-06T01:35:06.081Z"
   },
   {
    "duration": 27,
    "start_time": "2022-09-06T01:35:06.102Z"
   },
   {
    "duration": 82,
    "start_time": "2022-09-06T01:35:06.131Z"
   },
   {
    "duration": 15,
    "start_time": "2022-09-06T01:35:06.216Z"
   },
   {
    "duration": 23,
    "start_time": "2022-09-06T01:35:06.232Z"
   },
   {
    "duration": 8,
    "start_time": "2022-09-06T01:35:06.257Z"
   },
   {
    "duration": 16,
    "start_time": "2022-09-06T01:35:06.267Z"
   },
   {
    "duration": 66,
    "start_time": "2022-09-06T01:35:06.285Z"
   },
   {
    "duration": 10,
    "start_time": "2022-09-06T01:35:06.352Z"
   },
   {
    "duration": 43,
    "start_time": "2022-09-06T01:35:06.364Z"
   },
   {
    "duration": 31,
    "start_time": "2022-09-06T01:35:06.408Z"
   },
   {
    "duration": 93,
    "start_time": "2022-09-06T01:52:24.649Z"
   },
   {
    "duration": 70,
    "start_time": "2022-09-06T01:52:38.866Z"
   },
   {
    "duration": 844,
    "start_time": "2022-09-06T01:52:46.580Z"
   },
   {
    "duration": 8,
    "start_time": "2022-09-06T01:52:59.147Z"
   },
   {
    "duration": 7,
    "start_time": "2022-09-06T01:54:03.983Z"
   },
   {
    "duration": 3,
    "start_time": "2022-09-06T01:54:23.944Z"
   },
   {
    "duration": 2,
    "start_time": "2022-09-06T01:54:42.013Z"
   },
   {
    "duration": 2,
    "start_time": "2022-09-06T01:54:49.577Z"
   },
   {
    "duration": 8,
    "start_time": "2022-09-06T01:55:39.945Z"
   },
   {
    "duration": 8,
    "start_time": "2022-09-06T02:03:30.101Z"
   },
   {
    "duration": 9,
    "start_time": "2022-09-06T02:03:36.131Z"
   },
   {
    "duration": 136,
    "start_time": "2022-09-06T02:15:14.087Z"
   },
   {
    "duration": 162,
    "start_time": "2022-09-06T02:15:31.985Z"
   },
   {
    "duration": 122,
    "start_time": "2022-09-06T02:16:15.447Z"
   },
   {
    "duration": 118,
    "start_time": "2022-09-06T02:16:45.896Z"
   },
   {
    "duration": 134,
    "start_time": "2022-09-06T02:32:12.809Z"
   },
   {
    "duration": 124,
    "start_time": "2022-09-06T02:32:21.691Z"
   },
   {
    "duration": 10,
    "start_time": "2022-09-06T02:37:06.758Z"
   },
   {
    "duration": 8,
    "start_time": "2022-09-06T02:37:07.290Z"
   },
   {
    "duration": 1118,
    "start_time": "2022-09-06T02:37:07.607Z"
   },
   {
    "duration": 721,
    "start_time": "2022-09-06T02:37:08.727Z"
   },
   {
    "duration": 1122,
    "start_time": "2022-09-06T02:37:32.480Z"
   },
   {
    "duration": 35,
    "start_time": "2022-09-06T02:37:33.604Z"
   },
   {
    "duration": 9,
    "start_time": "2022-09-06T02:37:33.640Z"
   },
   {
    "duration": 4,
    "start_time": "2022-09-06T02:37:33.651Z"
   },
   {
    "duration": 9,
    "start_time": "2022-09-06T02:37:33.657Z"
   },
   {
    "duration": 8,
    "start_time": "2022-09-06T02:37:33.667Z"
   },
   {
    "duration": 51,
    "start_time": "2022-09-06T02:37:33.676Z"
   },
   {
    "duration": 3,
    "start_time": "2022-09-06T02:37:33.728Z"
   },
   {
    "duration": 25,
    "start_time": "2022-09-06T02:37:33.732Z"
   },
   {
    "duration": 5,
    "start_time": "2022-09-06T02:37:33.758Z"
   },
   {
    "duration": 9,
    "start_time": "2022-09-06T02:37:33.764Z"
   },
   {
    "duration": 25,
    "start_time": "2022-09-06T02:37:33.775Z"
   },
   {
    "duration": 9,
    "start_time": "2022-09-06T02:37:33.801Z"
   },
   {
    "duration": 5,
    "start_time": "2022-09-06T02:37:33.813Z"
   },
   {
    "duration": 8,
    "start_time": "2022-09-06T02:37:33.819Z"
   },
   {
    "duration": 9,
    "start_time": "2022-09-06T02:37:33.828Z"
   },
   {
    "duration": 7,
    "start_time": "2022-09-06T02:37:33.839Z"
   },
   {
    "duration": 9,
    "start_time": "2022-09-06T02:37:33.847Z"
   },
   {
    "duration": 133,
    "start_time": "2022-09-06T02:37:33.857Z"
   },
   {
    "duration": 1148,
    "start_time": "2022-09-06T02:37:44.953Z"
   },
   {
    "duration": 39,
    "start_time": "2022-09-06T02:37:46.103Z"
   },
   {
    "duration": 14,
    "start_time": "2022-09-06T02:37:46.144Z"
   },
   {
    "duration": 6,
    "start_time": "2022-09-06T02:37:46.160Z"
   },
   {
    "duration": 8,
    "start_time": "2022-09-06T02:37:46.168Z"
   },
   {
    "duration": 11,
    "start_time": "2022-09-06T02:37:46.178Z"
   },
   {
    "duration": 58,
    "start_time": "2022-09-06T02:37:46.191Z"
   },
   {
    "duration": 3,
    "start_time": "2022-09-06T02:37:46.251Z"
   },
   {
    "duration": 11,
    "start_time": "2022-09-06T02:37:46.256Z"
   },
   {
    "duration": 5,
    "start_time": "2022-09-06T02:37:46.269Z"
   },
   {
    "duration": 10,
    "start_time": "2022-09-06T02:37:46.275Z"
   },
   {
    "duration": 38,
    "start_time": "2022-09-06T02:37:46.286Z"
   },
   {
    "duration": 9,
    "start_time": "2022-09-06T02:37:46.325Z"
   },
   {
    "duration": 20,
    "start_time": "2022-09-06T02:37:46.336Z"
   },
   {
    "duration": 8,
    "start_time": "2022-09-06T02:37:46.357Z"
   },
   {
    "duration": 10,
    "start_time": "2022-09-06T02:37:46.366Z"
   },
   {
    "duration": 11,
    "start_time": "2022-09-06T02:37:46.377Z"
   },
   {
    "duration": 11,
    "start_time": "2022-09-06T02:37:46.389Z"
   },
   {
    "duration": 129,
    "start_time": "2022-09-06T02:37:46.402Z"
   },
   {
    "duration": 3,
    "start_time": "2022-09-06T02:38:34.633Z"
   },
   {
    "duration": 9,
    "start_time": "2022-09-06T02:39:06.971Z"
   },
   {
    "duration": 114,
    "start_time": "2022-09-06T02:39:18.871Z"
   },
   {
    "duration": 7,
    "start_time": "2022-09-06T02:39:25.140Z"
   },
   {
    "duration": 3,
    "start_time": "2022-09-06T20:25:04.058Z"
   },
   {
    "duration": 47,
    "start_time": "2022-09-06T20:33:03.316Z"
   },
   {
    "duration": 1388,
    "start_time": "2022-09-06T20:33:27.781Z"
   },
   {
    "duration": 82,
    "start_time": "2022-09-06T20:33:29.171Z"
   },
   {
    "duration": 11,
    "start_time": "2022-09-06T20:33:29.255Z"
   },
   {
    "duration": 9,
    "start_time": "2022-09-06T20:33:29.267Z"
   },
   {
    "duration": 15,
    "start_time": "2022-09-06T20:33:29.278Z"
   },
   {
    "duration": 11,
    "start_time": "2022-09-06T20:33:29.295Z"
   },
   {
    "duration": 94,
    "start_time": "2022-09-06T20:33:29.308Z"
   },
   {
    "duration": 3,
    "start_time": "2022-09-06T20:33:29.404Z"
   },
   {
    "duration": 18,
    "start_time": "2022-09-06T20:33:29.409Z"
   },
   {
    "duration": 6,
    "start_time": "2022-09-06T20:33:29.429Z"
   },
   {
    "duration": 11,
    "start_time": "2022-09-06T20:33:29.437Z"
   },
   {
    "duration": 61,
    "start_time": "2022-09-06T20:33:29.449Z"
   },
   {
    "duration": 10,
    "start_time": "2022-09-06T20:33:29.511Z"
   },
   {
    "duration": 10,
    "start_time": "2022-09-06T20:33:29.523Z"
   },
   {
    "duration": 22,
    "start_time": "2022-09-06T20:33:29.534Z"
   },
   {
    "duration": 138,
    "start_time": "2022-09-06T20:33:29.557Z"
   },
   {
    "duration": 0,
    "start_time": "2022-09-06T20:33:29.697Z"
   },
   {
    "duration": 0,
    "start_time": "2022-09-06T20:33:29.698Z"
   },
   {
    "duration": 0,
    "start_time": "2022-09-06T20:33:29.699Z"
   },
   {
    "duration": 0,
    "start_time": "2022-09-06T20:33:29.700Z"
   },
   {
    "duration": 0,
    "start_time": "2022-09-06T20:33:29.701Z"
   },
   {
    "duration": 0,
    "start_time": "2022-09-06T20:33:29.702Z"
   },
   {
    "duration": 9,
    "start_time": "2022-09-06T20:33:46.747Z"
   },
   {
    "duration": 9,
    "start_time": "2022-09-06T20:34:45.727Z"
   },
   {
    "duration": 9,
    "start_time": "2022-09-06T20:34:57.737Z"
   },
   {
    "duration": 10,
    "start_time": "2022-09-06T20:36:30.145Z"
   },
   {
    "duration": 10,
    "start_time": "2022-09-06T20:36:41.155Z"
   },
   {
    "duration": 7,
    "start_time": "2022-09-06T20:36:44.939Z"
   },
   {
    "duration": 5,
    "start_time": "2022-09-06T20:36:56.272Z"
   },
   {
    "duration": 8,
    "start_time": "2022-09-06T20:37:08.925Z"
   },
   {
    "duration": 4,
    "start_time": "2022-09-06T20:37:14.988Z"
   },
   {
    "duration": 11,
    "start_time": "2022-09-06T20:38:27.655Z"
   },
   {
    "duration": 5,
    "start_time": "2022-09-06T20:41:40.277Z"
   },
   {
    "duration": 10,
    "start_time": "2022-09-06T20:41:49.912Z"
   },
   {
    "duration": 9,
    "start_time": "2022-09-06T20:44:42.544Z"
   },
   {
    "duration": 10,
    "start_time": "2022-09-06T20:44:52.626Z"
   },
   {
    "duration": 4,
    "start_time": "2022-09-06T20:44:53.405Z"
   },
   {
    "duration": 12,
    "start_time": "2022-09-06T20:44:55.034Z"
   },
   {
    "duration": 1395,
    "start_time": "2022-09-06T20:45:05.131Z"
   },
   {
    "duration": 113,
    "start_time": "2022-09-06T20:45:06.527Z"
   },
   {
    "duration": 10,
    "start_time": "2022-09-06T20:45:06.642Z"
   },
   {
    "duration": 6,
    "start_time": "2022-09-06T20:45:06.653Z"
   },
   {
    "duration": 14,
    "start_time": "2022-09-06T20:45:06.661Z"
   },
   {
    "duration": 9,
    "start_time": "2022-09-06T20:45:06.677Z"
   },
   {
    "duration": 450,
    "start_time": "2022-09-06T20:45:06.687Z"
   },
   {
    "duration": 4,
    "start_time": "2022-09-06T20:45:07.139Z"
   },
   {
    "duration": 23,
    "start_time": "2022-09-06T20:45:07.145Z"
   },
   {
    "duration": 10,
    "start_time": "2022-09-06T20:45:07.172Z"
   },
   {
    "duration": 14,
    "start_time": "2022-09-06T20:45:07.184Z"
   },
   {
    "duration": 20,
    "start_time": "2022-09-06T20:45:07.200Z"
   },
   {
    "duration": 4,
    "start_time": "2022-09-06T20:45:07.223Z"
   },
   {
    "duration": 26,
    "start_time": "2022-09-06T20:45:07.229Z"
   },
   {
    "duration": 567,
    "start_time": "2022-09-06T20:45:07.257Z"
   },
   {
    "duration": 9,
    "start_time": "2022-09-06T20:45:07.826Z"
   },
   {
    "duration": 12,
    "start_time": "2022-09-06T20:45:07.837Z"
   },
   {
    "duration": 9,
    "start_time": "2022-09-06T20:45:07.850Z"
   },
   {
    "duration": 9,
    "start_time": "2022-09-06T20:45:07.860Z"
   },
   {
    "duration": 13,
    "start_time": "2022-09-06T20:45:07.871Z"
   },
   {
    "duration": 10,
    "start_time": "2022-09-06T20:45:07.885Z"
   },
   {
    "duration": 127,
    "start_time": "2022-09-06T20:45:07.896Z"
   },
   {
    "duration": 8,
    "start_time": "2022-09-06T20:45:08.025Z"
   },
   {
    "duration": 10,
    "start_time": "2022-09-06T20:45:08.035Z"
   },
   {
    "duration": 3,
    "start_time": "2022-09-06T20:52:08.537Z"
   },
   {
    "duration": 3,
    "start_time": "2022-09-06T21:00:14.790Z"
   },
   {
    "duration": 1136,
    "start_time": "2022-09-06T21:00:22.719Z"
   },
   {
    "duration": 329,
    "start_time": "2022-09-06T21:00:23.858Z"
   },
   {
    "duration": 11,
    "start_time": "2022-09-06T21:00:24.189Z"
   },
   {
    "duration": 15,
    "start_time": "2022-09-06T21:00:24.201Z"
   },
   {
    "duration": 13,
    "start_time": "2022-09-06T21:00:24.218Z"
   },
   {
    "duration": 16,
    "start_time": "2022-09-06T21:00:24.232Z"
   },
   {
    "duration": 1123,
    "start_time": "2022-09-06T21:00:30.526Z"
   },
   {
    "duration": 531,
    "start_time": "2022-09-06T21:00:31.651Z"
   },
   {
    "duration": 10,
    "start_time": "2022-09-06T21:00:32.184Z"
   },
   {
    "duration": 11,
    "start_time": "2022-09-06T21:00:32.196Z"
   },
   {
    "duration": 17,
    "start_time": "2022-09-06T21:00:32.210Z"
   },
   {
    "duration": 20,
    "start_time": "2022-09-06T21:00:32.229Z"
   },
   {
    "duration": 7627,
    "start_time": "2022-09-06T21:00:32.250Z"
   },
   {
    "duration": 3,
    "start_time": "2022-09-06T21:00:39.879Z"
   },
   {
    "duration": 35,
    "start_time": "2022-09-06T21:00:39.884Z"
   },
   {
    "duration": 47,
    "start_time": "2022-09-06T21:00:39.921Z"
   },
   {
    "duration": 29,
    "start_time": "2022-09-06T21:00:39.970Z"
   },
   {
    "duration": 39,
    "start_time": "2022-09-06T21:00:40.001Z"
   },
   {
    "duration": 38,
    "start_time": "2022-09-06T21:00:40.042Z"
   },
   {
    "duration": 28,
    "start_time": "2022-09-06T21:00:40.083Z"
   },
   {
    "duration": 75,
    "start_time": "2022-09-06T21:00:40.112Z"
   },
   {
    "duration": 10,
    "start_time": "2022-09-06T21:00:40.189Z"
   },
   {
    "duration": 35,
    "start_time": "2022-09-06T21:00:40.200Z"
   },
   {
    "duration": 43,
    "start_time": "2022-09-06T21:00:40.236Z"
   },
   {
    "duration": 34,
    "start_time": "2022-09-06T21:00:40.281Z"
   },
   {
    "duration": 37,
    "start_time": "2022-09-06T21:00:40.317Z"
   },
   {
    "duration": 26,
    "start_time": "2022-09-06T21:00:40.355Z"
   },
   {
    "duration": 171,
    "start_time": "2022-09-06T21:00:40.382Z"
   },
   {
    "duration": 8,
    "start_time": "2022-09-06T21:00:40.555Z"
   },
   {
    "duration": 34,
    "start_time": "2022-09-06T21:00:40.565Z"
   },
   {
    "duration": 4,
    "start_time": "2022-09-06T21:02:57.439Z"
   },
   {
    "duration": 5,
    "start_time": "2022-09-06T21:03:21.257Z"
   },
   {
    "duration": 1162,
    "start_time": "2022-09-06T21:03:31.289Z"
   },
   {
    "duration": 784,
    "start_time": "2022-09-06T21:03:32.453Z"
   },
   {
    "duration": 11,
    "start_time": "2022-09-06T21:03:33.239Z"
   },
   {
    "duration": 6,
    "start_time": "2022-09-06T21:03:33.251Z"
   },
   {
    "duration": 11,
    "start_time": "2022-09-06T21:03:33.259Z"
   },
   {
    "duration": 10,
    "start_time": "2022-09-06T21:03:33.271Z"
   },
   {
    "duration": 4765,
    "start_time": "2022-09-06T21:03:33.283Z"
   },
   {
    "duration": 2,
    "start_time": "2022-09-06T21:03:38.050Z"
   },
   {
    "duration": 14,
    "start_time": "2022-09-06T21:03:38.054Z"
   },
   {
    "duration": 9,
    "start_time": "2022-09-06T21:03:38.069Z"
   },
   {
    "duration": 9,
    "start_time": "2022-09-06T21:03:38.080Z"
   },
   {
    "duration": 19,
    "start_time": "2022-09-06T21:03:38.090Z"
   },
   {
    "duration": 3,
    "start_time": "2022-09-06T21:03:38.111Z"
   },
   {
    "duration": 11,
    "start_time": "2022-09-06T21:03:38.116Z"
   },
   {
    "duration": 5,
    "start_time": "2022-09-06T21:03:38.129Z"
   },
   {
    "duration": 682,
    "start_time": "2022-09-06T21:03:38.135Z"
   },
   {
    "duration": 11,
    "start_time": "2022-09-06T21:03:38.819Z"
   },
   {
    "duration": 14,
    "start_time": "2022-09-06T21:03:38.832Z"
   },
   {
    "duration": 10,
    "start_time": "2022-09-06T21:03:38.848Z"
   },
   {
    "duration": 1087,
    "start_time": "2022-09-06T21:03:40.445Z"
   },
   {
    "duration": 600,
    "start_time": "2022-09-06T21:03:41.536Z"
   },
   {
    "duration": 10,
    "start_time": "2022-09-06T21:03:42.138Z"
   },
   {
    "duration": 4,
    "start_time": "2022-09-06T21:03:42.150Z"
   },
   {
    "duration": 10,
    "start_time": "2022-09-06T21:03:42.155Z"
   },
   {
    "duration": 8,
    "start_time": "2022-09-06T21:03:42.167Z"
   },
   {
    "duration": 6586,
    "start_time": "2022-09-06T21:03:42.176Z"
   },
   {
    "duration": 3,
    "start_time": "2022-09-06T21:03:48.764Z"
   },
   {
    "duration": 16,
    "start_time": "2022-09-06T21:03:48.768Z"
   },
   {
    "duration": 6,
    "start_time": "2022-09-06T21:03:48.786Z"
   },
   {
    "duration": 8,
    "start_time": "2022-09-06T21:03:48.794Z"
   },
   {
    "duration": 15,
    "start_time": "2022-09-06T21:03:48.803Z"
   },
   {
    "duration": 3,
    "start_time": "2022-09-06T21:03:48.820Z"
   },
   {
    "duration": 11,
    "start_time": "2022-09-06T21:03:48.825Z"
   },
   {
    "duration": 6,
    "start_time": "2022-09-06T21:03:48.838Z"
   },
   {
    "duration": 619,
    "start_time": "2022-09-06T21:03:48.845Z"
   },
   {
    "duration": 10,
    "start_time": "2022-09-06T21:03:49.466Z"
   },
   {
    "duration": 7,
    "start_time": "2022-09-06T21:03:49.477Z"
   },
   {
    "duration": 8,
    "start_time": "2022-09-06T21:03:49.485Z"
   },
   {
    "duration": 7,
    "start_time": "2022-09-06T21:03:49.495Z"
   },
   {
    "duration": 11,
    "start_time": "2022-09-06T21:03:49.503Z"
   },
   {
    "duration": 12,
    "start_time": "2022-09-06T21:03:49.515Z"
   },
   {
    "duration": 138,
    "start_time": "2022-09-06T21:03:49.529Z"
   },
   {
    "duration": 10,
    "start_time": "2022-09-06T21:03:49.668Z"
   },
   {
    "duration": 16,
    "start_time": "2022-09-06T21:03:49.680Z"
   },
   {
    "duration": 95,
    "start_time": "2022-09-06T21:06:03.592Z"
   },
   {
    "duration": 6,
    "start_time": "2022-09-06T21:06:08.295Z"
   },
   {
    "duration": 12,
    "start_time": "2022-09-06T21:06:19.686Z"
   },
   {
    "duration": 8,
    "start_time": "2022-09-06T21:07:06.847Z"
   },
   {
    "duration": 8,
    "start_time": "2022-09-06T21:07:12.498Z"
   },
   {
    "duration": 15,
    "start_time": "2022-09-06T21:07:27.268Z"
   },
   {
    "duration": 12,
    "start_time": "2022-09-06T21:07:39.611Z"
   },
   {
    "duration": 13,
    "start_time": "2022-09-06T21:08:14.114Z"
   },
   {
    "duration": 1077,
    "start_time": "2022-09-06T21:08:42.836Z"
   },
   {
    "duration": 47,
    "start_time": "2022-09-06T21:08:43.915Z"
   },
   {
    "duration": 10,
    "start_time": "2022-09-06T21:08:43.963Z"
   },
   {
    "duration": 7,
    "start_time": "2022-09-06T21:08:43.974Z"
   },
   {
    "duration": 9,
    "start_time": "2022-09-06T21:08:43.984Z"
   },
   {
    "duration": 18,
    "start_time": "2022-09-06T21:08:43.995Z"
   },
   {
    "duration": 101,
    "start_time": "2022-09-06T21:08:44.015Z"
   },
   {
    "duration": 3,
    "start_time": "2022-09-06T21:08:44.117Z"
   },
   {
    "duration": 17,
    "start_time": "2022-09-06T21:08:44.122Z"
   },
   {
    "duration": 7,
    "start_time": "2022-09-06T21:08:44.141Z"
   },
   {
    "duration": 11,
    "start_time": "2022-09-06T21:08:44.150Z"
   },
   {
    "duration": 16,
    "start_time": "2022-09-06T21:08:44.163Z"
   },
   {
    "duration": 7,
    "start_time": "2022-09-06T21:08:44.181Z"
   },
   {
    "duration": 21,
    "start_time": "2022-09-06T21:08:44.190Z"
   },
   {
    "duration": 6,
    "start_time": "2022-09-06T21:08:44.213Z"
   },
   {
    "duration": 24,
    "start_time": "2022-09-06T21:08:44.221Z"
   },
   {
    "duration": 9,
    "start_time": "2022-09-06T21:08:44.246Z"
   },
   {
    "duration": 7,
    "start_time": "2022-09-06T21:08:44.257Z"
   },
   {
    "duration": 8,
    "start_time": "2022-09-06T21:08:44.265Z"
   },
   {
    "duration": 10,
    "start_time": "2022-09-06T21:08:44.274Z"
   },
   {
    "duration": 10,
    "start_time": "2022-09-06T21:08:44.286Z"
   },
   {
    "duration": 16,
    "start_time": "2022-09-06T21:08:44.297Z"
   },
   {
    "duration": 125,
    "start_time": "2022-09-06T21:08:44.315Z"
   },
   {
    "duration": 13,
    "start_time": "2022-09-06T21:08:44.441Z"
   },
   {
    "duration": 17,
    "start_time": "2022-09-06T21:08:44.456Z"
   },
   {
    "duration": 8,
    "start_time": "2022-09-06T21:26:01.403Z"
   },
   {
    "duration": 12,
    "start_time": "2022-09-06T21:26:37.087Z"
   },
   {
    "duration": 91,
    "start_time": "2022-09-06T21:29:13.498Z"
   },
   {
    "duration": 12,
    "start_time": "2022-09-06T21:29:19.148Z"
   },
   {
    "duration": 12,
    "start_time": "2022-09-06T21:30:07.597Z"
   },
   {
    "duration": 11,
    "start_time": "2022-09-06T21:30:15.048Z"
   },
   {
    "duration": 12,
    "start_time": "2022-09-06T21:30:15.891Z"
   },
   {
    "duration": 14,
    "start_time": "2022-09-06T21:30:19.704Z"
   },
   {
    "duration": 193,
    "start_time": "2022-09-06T21:37:19.593Z"
   },
   {
    "duration": 6,
    "start_time": "2022-09-06T21:37:20.261Z"
   },
   {
    "duration": 1071,
    "start_time": "2022-09-06T21:37:31.957Z"
   },
   {
    "duration": 43,
    "start_time": "2022-09-06T21:37:33.030Z"
   },
   {
    "duration": 11,
    "start_time": "2022-09-06T21:37:33.074Z"
   },
   {
    "duration": 9,
    "start_time": "2022-09-06T21:37:33.086Z"
   },
   {
    "duration": 13,
    "start_time": "2022-09-06T21:37:33.097Z"
   },
   {
    "duration": 7,
    "start_time": "2022-09-06T21:37:33.111Z"
   },
   {
    "duration": 71,
    "start_time": "2022-09-06T21:37:33.120Z"
   },
   {
    "duration": 3,
    "start_time": "2022-09-06T21:37:33.193Z"
   },
   {
    "duration": 12,
    "start_time": "2022-09-06T21:37:33.198Z"
   },
   {
    "duration": 326,
    "start_time": "2022-09-06T21:37:33.211Z"
   },
   {
    "duration": 0,
    "start_time": "2022-09-06T21:37:33.538Z"
   },
   {
    "duration": 0,
    "start_time": "2022-09-06T21:37:33.540Z"
   },
   {
    "duration": 0,
    "start_time": "2022-09-06T21:37:33.541Z"
   },
   {
    "duration": 0,
    "start_time": "2022-09-06T21:37:33.542Z"
   },
   {
    "duration": 0,
    "start_time": "2022-09-06T21:37:33.542Z"
   },
   {
    "duration": 0,
    "start_time": "2022-09-06T21:37:33.543Z"
   },
   {
    "duration": 0,
    "start_time": "2022-09-06T21:37:33.544Z"
   },
   {
    "duration": 0,
    "start_time": "2022-09-06T21:37:33.545Z"
   },
   {
    "duration": 0,
    "start_time": "2022-09-06T21:37:33.546Z"
   },
   {
    "duration": 0,
    "start_time": "2022-09-06T21:37:33.546Z"
   },
   {
    "duration": 0,
    "start_time": "2022-09-06T21:37:33.547Z"
   },
   {
    "duration": 0,
    "start_time": "2022-09-06T21:37:33.548Z"
   },
   {
    "duration": 0,
    "start_time": "2022-09-06T21:37:33.549Z"
   },
   {
    "duration": 0,
    "start_time": "2022-09-06T21:37:33.550Z"
   },
   {
    "duration": 7,
    "start_time": "2022-09-06T21:38:05.985Z"
   },
   {
    "duration": 1121,
    "start_time": "2022-09-06T21:38:12.398Z"
   },
   {
    "duration": 37,
    "start_time": "2022-09-06T21:38:13.521Z"
   },
   {
    "duration": 10,
    "start_time": "2022-09-06T21:38:13.561Z"
   },
   {
    "duration": 9,
    "start_time": "2022-09-06T21:38:13.572Z"
   },
   {
    "duration": 10,
    "start_time": "2022-09-06T21:38:13.584Z"
   },
   {
    "duration": 14,
    "start_time": "2022-09-06T21:38:13.595Z"
   },
   {
    "duration": 58,
    "start_time": "2022-09-06T21:38:13.610Z"
   },
   {
    "duration": 2,
    "start_time": "2022-09-06T21:38:13.670Z"
   },
   {
    "duration": 16,
    "start_time": "2022-09-06T21:38:13.674Z"
   },
   {
    "duration": 8,
    "start_time": "2022-09-06T21:38:13.692Z"
   },
   {
    "duration": 8,
    "start_time": "2022-09-06T21:38:13.702Z"
   },
   {
    "duration": 19,
    "start_time": "2022-09-06T21:38:13.711Z"
   },
   {
    "duration": 4,
    "start_time": "2022-09-06T21:38:13.731Z"
   },
   {
    "duration": 12,
    "start_time": "2022-09-06T21:38:13.737Z"
   },
   {
    "duration": 4,
    "start_time": "2022-09-06T21:38:13.750Z"
   },
   {
    "duration": 28,
    "start_time": "2022-09-06T21:38:13.755Z"
   },
   {
    "duration": 10,
    "start_time": "2022-09-06T21:38:13.785Z"
   },
   {
    "duration": 6,
    "start_time": "2022-09-06T21:38:13.809Z"
   },
   {
    "duration": 13,
    "start_time": "2022-09-06T21:38:13.816Z"
   },
   {
    "duration": 12,
    "start_time": "2022-09-06T21:38:13.831Z"
   },
   {
    "duration": 18,
    "start_time": "2022-09-06T21:38:13.845Z"
   },
   {
    "duration": 12,
    "start_time": "2022-09-06T21:38:13.865Z"
   },
   {
    "duration": 137,
    "start_time": "2022-09-06T21:38:13.879Z"
   },
   {
    "duration": 13,
    "start_time": "2022-09-06T21:38:14.018Z"
   },
   {
    "duration": 1133,
    "start_time": "2022-09-06T21:38:57.202Z"
   },
   {
    "duration": 37,
    "start_time": "2022-09-06T21:38:58.337Z"
   },
   {
    "duration": 10,
    "start_time": "2022-09-06T21:38:58.376Z"
   },
   {
    "duration": 7,
    "start_time": "2022-09-06T21:38:58.387Z"
   },
   {
    "duration": 15,
    "start_time": "2022-09-06T21:38:58.396Z"
   },
   {
    "duration": 10,
    "start_time": "2022-09-06T21:38:58.412Z"
   },
   {
    "duration": 58,
    "start_time": "2022-09-06T21:38:58.423Z"
   },
   {
    "duration": 3,
    "start_time": "2022-09-06T21:38:58.482Z"
   },
   {
    "duration": 16,
    "start_time": "2022-09-06T21:38:58.486Z"
   },
   {
    "duration": 7,
    "start_time": "2022-09-06T21:38:58.504Z"
   },
   {
    "duration": 8,
    "start_time": "2022-09-06T21:38:58.513Z"
   },
   {
    "duration": 16,
    "start_time": "2022-09-06T21:38:58.522Z"
   },
   {
    "duration": 4,
    "start_time": "2022-09-06T21:38:58.540Z"
   },
   {
    "duration": 11,
    "start_time": "2022-09-06T21:38:58.547Z"
   },
   {
    "duration": 3,
    "start_time": "2022-09-06T21:38:58.560Z"
   },
   {
    "duration": 25,
    "start_time": "2022-09-06T21:38:58.565Z"
   },
   {
    "duration": 19,
    "start_time": "2022-09-06T21:38:58.591Z"
   },
   {
    "duration": 8,
    "start_time": "2022-09-06T21:38:58.611Z"
   },
   {
    "duration": 9,
    "start_time": "2022-09-06T21:38:58.621Z"
   },
   {
    "duration": 10,
    "start_time": "2022-09-06T21:38:58.632Z"
   },
   {
    "duration": 14,
    "start_time": "2022-09-06T21:38:58.644Z"
   },
   {
    "duration": 12,
    "start_time": "2022-09-06T21:38:58.660Z"
   },
   {
    "duration": 147,
    "start_time": "2022-09-06T21:38:58.673Z"
   },
   {
    "duration": 12,
    "start_time": "2022-09-06T21:38:58.822Z"
   },
   {
    "duration": 91,
    "start_time": "2022-09-06T21:40:24.712Z"
   },
   {
    "duration": 15,
    "start_time": "2022-09-06T21:40:32.737Z"
   },
   {
    "duration": 62,
    "start_time": "2022-09-06T21:40:40.243Z"
   },
   {
    "duration": 59,
    "start_time": "2022-09-06T21:40:52.296Z"
   },
   {
    "duration": 8,
    "start_time": "2022-09-06T21:46:42.498Z"
   },
   {
    "duration": 12,
    "start_time": "2022-09-06T21:57:08.656Z"
   },
   {
    "duration": 40,
    "start_time": "2022-09-06T21:57:21.052Z"
   },
   {
    "duration": 1117,
    "start_time": "2022-09-06T21:58:22.096Z"
   },
   {
    "duration": 38,
    "start_time": "2022-09-06T21:58:23.215Z"
   },
   {
    "duration": 10,
    "start_time": "2022-09-06T21:58:23.254Z"
   },
   {
    "duration": 6,
    "start_time": "2022-09-06T21:58:23.266Z"
   },
   {
    "duration": 9,
    "start_time": "2022-09-06T21:58:23.274Z"
   },
   {
    "duration": 18,
    "start_time": "2022-09-06T21:58:23.284Z"
   },
   {
    "duration": 48,
    "start_time": "2022-09-06T21:58:23.304Z"
   },
   {
    "duration": 2,
    "start_time": "2022-09-06T21:58:23.354Z"
   },
   {
    "duration": 13,
    "start_time": "2022-09-06T21:58:23.358Z"
   },
   {
    "duration": 8,
    "start_time": "2022-09-06T21:58:23.372Z"
   },
   {
    "duration": 7,
    "start_time": "2022-09-06T21:58:23.382Z"
   },
   {
    "duration": 13,
    "start_time": "2022-09-06T21:58:23.390Z"
   },
   {
    "duration": 3,
    "start_time": "2022-09-06T21:58:23.404Z"
   },
   {
    "duration": 9,
    "start_time": "2022-09-06T21:58:23.410Z"
   },
   {
    "duration": 20,
    "start_time": "2022-09-06T21:58:23.421Z"
   },
   {
    "duration": 9,
    "start_time": "2022-09-06T21:58:23.442Z"
   },
   {
    "duration": 5,
    "start_time": "2022-09-06T21:58:23.452Z"
   },
   {
    "duration": 8,
    "start_time": "2022-09-06T21:58:23.459Z"
   },
   {
    "duration": 8,
    "start_time": "2022-09-06T21:58:23.468Z"
   },
   {
    "duration": 12,
    "start_time": "2022-09-06T21:58:23.478Z"
   },
   {
    "duration": 23,
    "start_time": "2022-09-06T21:58:23.491Z"
   },
   {
    "duration": 139,
    "start_time": "2022-09-06T21:58:23.516Z"
   },
   {
    "duration": 11,
    "start_time": "2022-09-06T21:58:23.657Z"
   },
   {
    "duration": 532,
    "start_time": "2022-09-06T21:58:23.669Z"
   },
   {
    "duration": 446,
    "start_time": "2022-09-06T21:58:54.818Z"
   },
   {
    "duration": 451,
    "start_time": "2022-09-06T21:58:59.218Z"
   },
   {
    "duration": 448,
    "start_time": "2022-09-06T21:59:16.651Z"
   },
   {
    "duration": 1313,
    "start_time": "2022-09-06T23:54:29.330Z"
   },
   {
    "duration": 78,
    "start_time": "2022-09-06T23:54:30.646Z"
   },
   {
    "duration": 11,
    "start_time": "2022-09-06T23:54:30.726Z"
   },
   {
    "duration": 19,
    "start_time": "2022-09-06T23:54:30.739Z"
   },
   {
    "duration": 11,
    "start_time": "2022-09-06T23:54:30.761Z"
   },
   {
    "duration": 19,
    "start_time": "2022-09-06T23:54:30.774Z"
   },
   {
    "duration": 146,
    "start_time": "2022-09-06T23:54:30.794Z"
   },
   {
    "duration": 3,
    "start_time": "2022-09-06T23:54:30.942Z"
   },
   {
    "duration": 29,
    "start_time": "2022-09-06T23:54:30.947Z"
   },
   {
    "duration": 19,
    "start_time": "2022-09-06T23:54:30.978Z"
   },
   {
    "duration": 22,
    "start_time": "2022-09-06T23:54:30.998Z"
   },
   {
    "duration": 27,
    "start_time": "2022-09-06T23:54:31.023Z"
   },
   {
    "duration": 9,
    "start_time": "2022-09-06T23:54:31.052Z"
   },
   {
    "duration": 22,
    "start_time": "2022-09-06T23:54:31.064Z"
   },
   {
    "duration": 86,
    "start_time": "2022-09-06T23:54:31.088Z"
   },
   {
    "duration": 10,
    "start_time": "2022-09-06T23:54:31.176Z"
   },
   {
    "duration": 18,
    "start_time": "2022-09-06T23:54:31.187Z"
   },
   {
    "duration": 22,
    "start_time": "2022-09-06T23:54:31.207Z"
   },
   {
    "duration": 17,
    "start_time": "2022-09-06T23:54:31.230Z"
   },
   {
    "duration": 45,
    "start_time": "2022-09-06T23:54:31.248Z"
   },
   {
    "duration": 19,
    "start_time": "2022-09-06T23:54:31.295Z"
   },
   {
    "duration": 162,
    "start_time": "2022-09-06T23:54:31.316Z"
   },
   {
    "duration": 24,
    "start_time": "2022-09-06T23:54:31.480Z"
   },
   {
    "duration": 645,
    "start_time": "2022-09-06T23:54:31.505Z"
   },
   {
    "duration": 537,
    "start_time": "2022-09-06T23:54:48.375Z"
   },
   {
    "duration": 508,
    "start_time": "2022-09-06T23:54:58.998Z"
   },
   {
    "duration": 509,
    "start_time": "2022-09-06T23:57:33.885Z"
   },
   {
    "duration": 518,
    "start_time": "2022-09-06T23:57:40.147Z"
   },
   {
    "duration": 520,
    "start_time": "2022-09-06T23:57:49.171Z"
   },
   {
    "duration": 511,
    "start_time": "2022-09-06T23:57:57.548Z"
   },
   {
    "duration": 509,
    "start_time": "2022-09-06T23:58:47.981Z"
   },
   {
    "duration": 591,
    "start_time": "2022-09-07T00:22:07.818Z"
   },
   {
    "duration": 524,
    "start_time": "2022-09-07T00:22:40.279Z"
   },
   {
    "duration": 546,
    "start_time": "2022-09-07T00:22:55.145Z"
   },
   {
    "duration": 541,
    "start_time": "2022-09-07T00:23:11.625Z"
   },
   {
    "duration": 557,
    "start_time": "2022-09-07T00:23:49.092Z"
   },
   {
    "duration": 562,
    "start_time": "2022-09-07T00:24:00.576Z"
   },
   {
    "duration": 551,
    "start_time": "2022-09-07T00:30:47.508Z"
   },
   {
    "duration": 243,
    "start_time": "2022-09-07T00:38:40.797Z"
   },
   {
    "duration": 228,
    "start_time": "2022-09-07T00:39:31.691Z"
   },
   {
    "duration": 568,
    "start_time": "2022-09-07T00:40:00.079Z"
   },
   {
    "duration": 233,
    "start_time": "2022-09-07T00:40:02.972Z"
   },
   {
    "duration": 317,
    "start_time": "2022-09-07T01:05:29.241Z"
   },
   {
    "duration": 319,
    "start_time": "2022-09-07T01:05:40.274Z"
   },
   {
    "duration": 253,
    "start_time": "2022-09-07T01:27:47.046Z"
   },
   {
    "duration": 237,
    "start_time": "2022-09-07T01:28:44.702Z"
   },
   {
    "duration": 331,
    "start_time": "2022-09-07T01:29:04.512Z"
   },
   {
    "duration": 239,
    "start_time": "2022-09-07T01:34:44.943Z"
   },
   {
    "duration": 230,
    "start_time": "2022-09-07T01:44:22.007Z"
   },
   {
    "duration": 221,
    "start_time": "2022-09-07T01:45:12.663Z"
   },
   {
    "duration": 56,
    "start_time": "2022-09-07T01:47:40.326Z"
   },
   {
    "duration": 10,
    "start_time": "2022-09-07T01:48:11.764Z"
   },
   {
    "duration": 1162,
    "start_time": "2022-09-07T01:53:41.394Z"
   },
   {
    "duration": 35,
    "start_time": "2022-09-07T01:53:42.558Z"
   },
   {
    "duration": 12,
    "start_time": "2022-09-07T01:53:42.595Z"
   },
   {
    "duration": 5,
    "start_time": "2022-09-07T01:53:42.609Z"
   },
   {
    "duration": 9,
    "start_time": "2022-09-07T01:53:42.616Z"
   },
   {
    "duration": 7,
    "start_time": "2022-09-07T01:53:42.626Z"
   },
   {
    "duration": 43,
    "start_time": "2022-09-07T01:53:42.635Z"
   },
   {
    "duration": 3,
    "start_time": "2022-09-07T01:53:42.680Z"
   },
   {
    "duration": 12,
    "start_time": "2022-09-07T01:53:42.685Z"
   },
   {
    "duration": 5,
    "start_time": "2022-09-07T01:53:42.703Z"
   },
   {
    "duration": 7,
    "start_time": "2022-09-07T01:53:42.710Z"
   },
   {
    "duration": 13,
    "start_time": "2022-09-07T01:53:42.718Z"
   },
   {
    "duration": 5,
    "start_time": "2022-09-07T01:53:42.733Z"
   },
   {
    "duration": 13,
    "start_time": "2022-09-07T01:53:42.740Z"
   },
   {
    "duration": 20,
    "start_time": "2022-09-07T01:53:42.755Z"
   },
   {
    "duration": 34,
    "start_time": "2022-09-07T01:53:42.777Z"
   },
   {
    "duration": 4,
    "start_time": "2022-09-07T01:53:42.813Z"
   },
   {
    "duration": 9,
    "start_time": "2022-09-07T01:53:42.818Z"
   },
   {
    "duration": 10,
    "start_time": "2022-09-07T01:53:42.829Z"
   },
   {
    "duration": 9,
    "start_time": "2022-09-07T01:53:42.841Z"
   },
   {
    "duration": 23,
    "start_time": "2022-09-07T01:53:42.852Z"
   },
   {
    "duration": 160,
    "start_time": "2022-09-07T01:53:42.876Z"
   },
   {
    "duration": 13,
    "start_time": "2022-09-07T01:53:43.037Z"
   },
   {
    "duration": 44,
    "start_time": "2022-09-07T01:53:43.052Z"
   },
   {
    "duration": 0,
    "start_time": "2022-09-07T01:53:43.098Z"
   },
   {
    "duration": 0,
    "start_time": "2022-09-07T01:53:43.100Z"
   },
   {
    "duration": 0,
    "start_time": "2022-09-07T01:53:43.102Z"
   },
   {
    "duration": 581,
    "start_time": "2022-09-07T01:54:10.401Z"
   },
   {
    "duration": 552,
    "start_time": "2022-09-07T01:54:18.603Z"
   },
   {
    "duration": 517,
    "start_time": "2022-09-07T01:54:28.300Z"
   },
   {
    "duration": 223,
    "start_time": "2022-09-07T01:54:35.102Z"
   },
   {
    "duration": 249,
    "start_time": "2022-09-07T01:54:41.629Z"
   },
   {
    "duration": 285,
    "start_time": "2022-09-07T01:54:44.788Z"
   },
   {
    "duration": 1159,
    "start_time": "2022-09-07T01:55:59.928Z"
   },
   {
    "duration": 35,
    "start_time": "2022-09-07T01:56:01.089Z"
   },
   {
    "duration": 11,
    "start_time": "2022-09-07T01:56:01.126Z"
   },
   {
    "duration": 40,
    "start_time": "2022-09-07T01:56:01.138Z"
   },
   {
    "duration": 23,
    "start_time": "2022-09-07T01:56:01.181Z"
   },
   {
    "duration": 34,
    "start_time": "2022-09-07T01:56:01.206Z"
   },
   {
    "duration": 69,
    "start_time": "2022-09-07T01:56:01.243Z"
   },
   {
    "duration": 3,
    "start_time": "2022-09-07T01:56:01.314Z"
   },
   {
    "duration": 30,
    "start_time": "2022-09-07T01:56:01.318Z"
   },
   {
    "duration": 33,
    "start_time": "2022-09-07T01:56:01.350Z"
   },
   {
    "duration": 32,
    "start_time": "2022-09-07T01:56:01.385Z"
   },
   {
    "duration": 37,
    "start_time": "2022-09-07T01:56:01.419Z"
   },
   {
    "duration": 22,
    "start_time": "2022-09-07T01:56:01.458Z"
   },
   {
    "duration": 30,
    "start_time": "2022-09-07T01:56:01.482Z"
   },
   {
    "duration": 34,
    "start_time": "2022-09-07T01:56:01.513Z"
   },
   {
    "duration": 27,
    "start_time": "2022-09-07T01:56:01.548Z"
   },
   {
    "duration": 25,
    "start_time": "2022-09-07T01:56:01.577Z"
   },
   {
    "duration": 19,
    "start_time": "2022-09-07T01:56:01.604Z"
   },
   {
    "duration": 37,
    "start_time": "2022-09-07T01:56:01.625Z"
   },
   {
    "duration": 30,
    "start_time": "2022-09-07T01:56:01.663Z"
   },
   {
    "duration": 38,
    "start_time": "2022-09-07T01:56:01.694Z"
   },
   {
    "duration": 213,
    "start_time": "2022-09-07T01:56:01.734Z"
   },
   {
    "duration": 12,
    "start_time": "2022-09-07T01:56:01.949Z"
   },
   {
    "duration": 599,
    "start_time": "2022-09-07T01:56:01.962Z"
   },
   {
    "duration": 201,
    "start_time": "2022-09-07T01:56:02.563Z"
   },
   {
    "duration": 304,
    "start_time": "2022-09-07T01:56:02.766Z"
   },
   {
    "duration": 509,
    "start_time": "2022-09-07T02:06:42.798Z"
   },
   {
    "duration": 531,
    "start_time": "2022-09-07T02:07:01.060Z"
   },
   {
    "duration": 274,
    "start_time": "2022-09-07T02:10:34.050Z"
   },
   {
    "duration": 184,
    "start_time": "2022-09-07T02:22:59.300Z"
   },
   {
    "duration": 261,
    "start_time": "2022-09-07T02:23:25.936Z"
   },
   {
    "duration": 183,
    "start_time": "2022-09-07T02:24:23.699Z"
   },
   {
    "duration": 241,
    "start_time": "2022-09-07T02:24:32.596Z"
   },
   {
    "duration": 269,
    "start_time": "2022-09-07T02:24:42.737Z"
   },
   {
    "duration": 333,
    "start_time": "2022-09-07T02:25:06.163Z"
   },
   {
    "duration": 345,
    "start_time": "2022-09-07T02:25:42.815Z"
   },
   {
    "duration": 253,
    "start_time": "2022-09-07T02:25:55.932Z"
   },
   {
    "duration": 259,
    "start_time": "2022-09-07T02:26:08.487Z"
   },
   {
    "duration": 535,
    "start_time": "2022-09-07T02:26:23.491Z"
   },
   {
    "duration": 603,
    "start_time": "2022-09-07T02:26:30.740Z"
   },
   {
    "duration": 230,
    "start_time": "2022-09-07T02:30:35.390Z"
   },
   {
    "duration": 343,
    "start_time": "2022-09-07T02:39:39.059Z"
   },
   {
    "duration": 231,
    "start_time": "2022-09-07T02:40:06.096Z"
   },
   {
    "duration": 235,
    "start_time": "2022-09-07T02:40:15.623Z"
   },
   {
    "duration": 238,
    "start_time": "2022-09-07T02:40:24.599Z"
   },
   {
    "duration": 2,
    "start_time": "2022-09-07T02:44:59.423Z"
   },
   {
    "duration": 231,
    "start_time": "2022-09-07T02:45:10.799Z"
   },
   {
    "duration": 217,
    "start_time": "2022-09-07T02:45:19.840Z"
   },
   {
    "duration": 222,
    "start_time": "2022-09-07T02:45:28.255Z"
   },
   {
    "duration": 206,
    "start_time": "2022-09-07T02:45:44.610Z"
   },
   {
    "duration": 11,
    "start_time": "2022-09-07T03:06:28.730Z"
   },
   {
    "duration": 145,
    "start_time": "2022-09-07T03:06:34.587Z"
   },
   {
    "duration": 10,
    "start_time": "2022-09-07T03:08:41.285Z"
   },
   {
    "duration": 152,
    "start_time": "2022-09-07T03:09:13.587Z"
   },
   {
    "duration": 180,
    "start_time": "2022-09-07T03:09:14.647Z"
   },
   {
    "duration": 175,
    "start_time": "2022-09-07T03:09:49.449Z"
   },
   {
    "duration": 143,
    "start_time": "2022-09-07T03:10:12.696Z"
   },
   {
    "duration": 186,
    "start_time": "2022-09-07T03:10:13.900Z"
   },
   {
    "duration": 1179,
    "start_time": "2022-09-07T03:10:29.984Z"
   },
   {
    "duration": 36,
    "start_time": "2022-09-07T03:10:31.166Z"
   },
   {
    "duration": 13,
    "start_time": "2022-09-07T03:10:31.204Z"
   },
   {
    "duration": 21,
    "start_time": "2022-09-07T03:10:31.220Z"
   },
   {
    "duration": 26,
    "start_time": "2022-09-07T03:10:31.244Z"
   },
   {
    "duration": 33,
    "start_time": "2022-09-07T03:10:31.272Z"
   },
   {
    "duration": 62,
    "start_time": "2022-09-07T03:10:31.306Z"
   },
   {
    "duration": 4,
    "start_time": "2022-09-07T03:10:31.370Z"
   },
   {
    "duration": 33,
    "start_time": "2022-09-07T03:10:31.377Z"
   },
   {
    "duration": 17,
    "start_time": "2022-09-07T03:10:31.413Z"
   },
   {
    "duration": 15,
    "start_time": "2022-09-07T03:10:31.432Z"
   },
   {
    "duration": 20,
    "start_time": "2022-09-07T03:10:31.449Z"
   },
   {
    "duration": 3,
    "start_time": "2022-09-07T03:10:31.472Z"
   },
   {
    "duration": 31,
    "start_time": "2022-09-07T03:10:31.479Z"
   },
   {
    "duration": 33,
    "start_time": "2022-09-07T03:10:31.512Z"
   },
   {
    "duration": 15,
    "start_time": "2022-09-07T03:10:31.547Z"
   },
   {
    "duration": 11,
    "start_time": "2022-09-07T03:10:31.564Z"
   },
   {
    "duration": 10,
    "start_time": "2022-09-07T03:10:31.577Z"
   },
   {
    "duration": 22,
    "start_time": "2022-09-07T03:10:31.589Z"
   },
   {
    "duration": 13,
    "start_time": "2022-09-07T03:10:31.613Z"
   },
   {
    "duration": 15,
    "start_time": "2022-09-07T03:10:31.628Z"
   },
   {
    "duration": 160,
    "start_time": "2022-09-07T03:10:31.645Z"
   },
   {
    "duration": 12,
    "start_time": "2022-09-07T03:10:31.807Z"
   },
   {
    "duration": 619,
    "start_time": "2022-09-07T03:10:31.821Z"
   },
   {
    "duration": 258,
    "start_time": "2022-09-07T03:10:32.442Z"
   },
   {
    "duration": 351,
    "start_time": "2022-09-07T03:10:32.703Z"
   },
   {
    "duration": 268,
    "start_time": "2022-09-07T03:10:33.055Z"
   },
   {
    "duration": 149,
    "start_time": "2022-09-07T03:10:33.325Z"
   },
   {
    "duration": 189,
    "start_time": "2022-09-07T03:10:33.476Z"
   },
   {
    "duration": 211,
    "start_time": "2022-09-07T03:11:24.083Z"
   },
   {
    "duration": 5,
    "start_time": "2022-09-07T03:16:40.884Z"
   },
   {
    "duration": 160,
    "start_time": "2022-09-07T03:18:02.485Z"
   },
   {
    "duration": 237,
    "start_time": "2022-09-07T03:18:11.694Z"
   },
   {
    "duration": 1159,
    "start_time": "2022-09-07T03:19:17.721Z"
   },
   {
    "duration": 39,
    "start_time": "2022-09-07T03:19:18.884Z"
   },
   {
    "duration": 14,
    "start_time": "2022-09-07T03:19:18.926Z"
   },
   {
    "duration": 3,
    "start_time": "2022-09-07T03:19:18.943Z"
   },
   {
    "duration": 17,
    "start_time": "2022-09-07T03:19:18.949Z"
   },
   {
    "duration": 14,
    "start_time": "2022-09-07T03:19:18.968Z"
   },
   {
    "duration": 58,
    "start_time": "2022-09-07T03:19:18.984Z"
   },
   {
    "duration": 4,
    "start_time": "2022-09-07T03:19:19.044Z"
   },
   {
    "duration": 26,
    "start_time": "2022-09-07T03:19:19.050Z"
   },
   {
    "duration": 16,
    "start_time": "2022-09-07T03:19:19.078Z"
   },
   {
    "duration": 30,
    "start_time": "2022-09-07T03:19:19.096Z"
   },
   {
    "duration": 21,
    "start_time": "2022-09-07T03:19:19.128Z"
   },
   {
    "duration": 4,
    "start_time": "2022-09-07T03:19:19.151Z"
   },
   {
    "duration": 24,
    "start_time": "2022-09-07T03:19:19.158Z"
   },
   {
    "duration": 10,
    "start_time": "2022-09-07T03:19:19.183Z"
   },
   {
    "duration": 6,
    "start_time": "2022-09-07T03:19:19.195Z"
   },
   {
    "duration": 10,
    "start_time": "2022-09-07T03:19:19.203Z"
   },
   {
    "duration": 13,
    "start_time": "2022-09-07T03:19:19.215Z"
   },
   {
    "duration": 11,
    "start_time": "2022-09-07T03:19:19.230Z"
   },
   {
    "duration": 19,
    "start_time": "2022-09-07T03:19:19.242Z"
   },
   {
    "duration": 152,
    "start_time": "2022-09-07T03:19:19.263Z"
   },
   {
    "duration": 13,
    "start_time": "2022-09-07T03:19:19.416Z"
   },
   {
    "duration": 634,
    "start_time": "2022-09-07T03:19:19.430Z"
   },
   {
    "duration": 241,
    "start_time": "2022-09-07T03:19:20.065Z"
   },
   {
    "duration": 346,
    "start_time": "2022-09-07T03:19:20.308Z"
   },
   {
    "duration": 265,
    "start_time": "2022-09-07T03:19:20.656Z"
   },
   {
    "duration": 146,
    "start_time": "2022-09-07T03:19:20.923Z"
   },
   {
    "duration": 153,
    "start_time": "2022-09-07T03:19:21.070Z"
   },
   {
    "duration": 180,
    "start_time": "2022-09-07T03:19:21.225Z"
   },
   {
    "duration": 4,
    "start_time": "2022-09-07T03:19:21.407Z"
   },
   {
    "duration": 19,
    "start_time": "2022-09-07T03:20:34.108Z"
   },
   {
    "duration": 32,
    "start_time": "2022-09-07T03:20:35.882Z"
   },
   {
    "duration": 12,
    "start_time": "2022-09-07T03:20:36.102Z"
   },
   {
    "duration": 5,
    "start_time": "2022-09-07T03:20:36.295Z"
   },
   {
    "duration": 7,
    "start_time": "2022-09-07T03:20:36.508Z"
   },
   {
    "duration": 9,
    "start_time": "2022-09-07T03:20:37.108Z"
   },
   {
    "duration": 8,
    "start_time": "2022-09-07T03:20:37.340Z"
   },
   {
    "duration": 11,
    "start_time": "2022-09-07T03:20:37.523Z"
   },
   {
    "duration": 163,
    "start_time": "2022-09-07T03:20:37.714Z"
   },
   {
    "duration": 18,
    "start_time": "2022-09-07T03:20:38.284Z"
   },
   {
    "duration": 743,
    "start_time": "2022-09-07T03:20:38.734Z"
   },
   {
    "duration": 253,
    "start_time": "2022-09-07T03:20:39.479Z"
   },
   {
    "duration": 323,
    "start_time": "2022-09-07T03:20:39.734Z"
   },
   {
    "duration": 279,
    "start_time": "2022-09-07T03:20:40.059Z"
   },
   {
    "duration": 196,
    "start_time": "2022-09-07T03:20:40.341Z"
   },
   {
    "duration": 195,
    "start_time": "2022-09-07T03:20:40.539Z"
   },
   {
    "duration": 189,
    "start_time": "2022-09-07T03:20:40.736Z"
   },
   {
    "duration": 4,
    "start_time": "2022-09-07T03:20:40.927Z"
   },
   {
    "duration": 175,
    "start_time": "2022-09-07T03:21:30.679Z"
   },
   {
    "duration": 114,
    "start_time": "2022-09-07T03:24:10.071Z"
   },
   {
    "duration": 10,
    "start_time": "2022-09-07T03:24:18.824Z"
   },
   {
    "duration": 177,
    "start_time": "2022-09-07T03:24:27.708Z"
   },
   {
    "duration": 175,
    "start_time": "2022-09-07T03:25:17.570Z"
   },
   {
    "duration": 1912,
    "start_time": "2022-09-07T03:25:48.758Z"
   },
   {
    "duration": 10,
    "start_time": "2022-09-07T03:26:02.242Z"
   },
   {
    "duration": 4,
    "start_time": "2022-09-07T03:26:06.692Z"
   },
   {
    "duration": 3,
    "start_time": "2022-09-07T03:26:56.606Z"
   },
   {
    "duration": 1303,
    "start_time": "2022-09-07T12:31:02.820Z"
   },
   {
    "duration": 81,
    "start_time": "2022-09-07T12:31:04.125Z"
   },
   {
    "duration": 12,
    "start_time": "2022-09-07T12:31:04.208Z"
   },
   {
    "duration": 7,
    "start_time": "2022-09-07T12:31:04.222Z"
   },
   {
    "duration": 11,
    "start_time": "2022-09-07T12:31:04.230Z"
   },
   {
    "duration": 9,
    "start_time": "2022-09-07T12:31:04.243Z"
   },
   {
    "duration": 82,
    "start_time": "2022-09-07T12:31:04.253Z"
   },
   {
    "duration": 3,
    "start_time": "2022-09-07T12:31:04.337Z"
   },
   {
    "duration": 14,
    "start_time": "2022-09-07T12:31:04.343Z"
   },
   {
    "duration": 8,
    "start_time": "2022-09-07T12:31:04.359Z"
   },
   {
    "duration": 11,
    "start_time": "2022-09-07T12:31:04.368Z"
   },
   {
    "duration": 18,
    "start_time": "2022-09-07T12:31:04.380Z"
   },
   {
    "duration": 4,
    "start_time": "2022-09-07T12:31:04.400Z"
   },
   {
    "duration": 16,
    "start_time": "2022-09-07T12:31:04.406Z"
   },
   {
    "duration": 66,
    "start_time": "2022-09-07T12:31:04.424Z"
   },
   {
    "duration": 11,
    "start_time": "2022-09-07T12:31:04.492Z"
   },
   {
    "duration": 12,
    "start_time": "2022-09-07T12:31:04.505Z"
   },
   {
    "duration": 9,
    "start_time": "2022-09-07T12:31:04.519Z"
   },
   {
    "duration": 14,
    "start_time": "2022-09-07T12:31:04.530Z"
   },
   {
    "duration": 10,
    "start_time": "2022-09-07T12:31:04.546Z"
   },
   {
    "duration": 17,
    "start_time": "2022-09-07T12:31:04.557Z"
   },
   {
    "duration": 165,
    "start_time": "2022-09-07T12:31:04.576Z"
   },
   {
    "duration": 11,
    "start_time": "2022-09-07T12:31:04.743Z"
   },
   {
    "duration": 600,
    "start_time": "2022-09-07T12:31:04.756Z"
   },
   {
    "duration": 274,
    "start_time": "2022-09-07T12:31:05.358Z"
   },
   {
    "duration": 397,
    "start_time": "2022-09-07T12:31:05.633Z"
   },
   {
    "duration": 268,
    "start_time": "2022-09-07T12:31:06.032Z"
   },
   {
    "duration": 143,
    "start_time": "2022-09-07T12:31:06.303Z"
   },
   {
    "duration": 241,
    "start_time": "2022-09-07T12:31:06.448Z"
   },
   {
    "duration": 211,
    "start_time": "2022-09-07T12:31:06.691Z"
   },
   {
    "duration": 4,
    "start_time": "2022-09-07T12:31:06.904Z"
   },
   {
    "duration": 185,
    "start_time": "2022-09-07T12:31:06.910Z"
   },
   {
    "duration": 4,
    "start_time": "2022-09-07T12:31:07.096Z"
   },
   {
    "duration": 6,
    "start_time": "2022-09-07T12:31:07.102Z"
   },
   {
    "duration": 312,
    "start_time": "2022-09-07T12:40:21.360Z"
   },
   {
    "duration": 139,
    "start_time": "2022-09-07T12:41:28.621Z"
   },
   {
    "duration": 153,
    "start_time": "2022-09-07T12:44:02.748Z"
   },
   {
    "duration": 1105,
    "start_time": "2022-09-07T12:49:56.979Z"
   },
   {
    "duration": 35,
    "start_time": "2022-09-07T12:49:58.086Z"
   },
   {
    "duration": 11,
    "start_time": "2022-09-07T12:49:58.123Z"
   },
   {
    "duration": 4,
    "start_time": "2022-09-07T12:49:58.136Z"
   },
   {
    "duration": 9,
    "start_time": "2022-09-07T12:49:58.142Z"
   },
   {
    "duration": 6,
    "start_time": "2022-09-07T12:49:58.153Z"
   },
   {
    "duration": 46,
    "start_time": "2022-09-07T12:49:58.161Z"
   },
   {
    "duration": 2,
    "start_time": "2022-09-07T12:49:58.209Z"
   },
   {
    "duration": 14,
    "start_time": "2022-09-07T12:49:58.213Z"
   },
   {
    "duration": 7,
    "start_time": "2022-09-07T12:49:58.230Z"
   },
   {
    "duration": 12,
    "start_time": "2022-09-07T12:49:58.239Z"
   },
   {
    "duration": 17,
    "start_time": "2022-09-07T12:49:58.253Z"
   },
   {
    "duration": 4,
    "start_time": "2022-09-07T12:49:58.272Z"
   },
   {
    "duration": 13,
    "start_time": "2022-09-07T12:49:58.277Z"
   },
   {
    "duration": 19,
    "start_time": "2022-09-07T12:49:58.292Z"
   },
   {
    "duration": 10,
    "start_time": "2022-09-07T12:49:58.313Z"
   },
   {
    "duration": 8,
    "start_time": "2022-09-07T12:49:58.324Z"
   },
   {
    "duration": 10,
    "start_time": "2022-09-07T12:49:58.333Z"
   },
   {
    "duration": 24,
    "start_time": "2022-09-07T12:49:58.344Z"
   },
   {
    "duration": 12,
    "start_time": "2022-09-07T12:49:58.370Z"
   },
   {
    "duration": 11,
    "start_time": "2022-09-07T12:49:58.383Z"
   },
   {
    "duration": 155,
    "start_time": "2022-09-07T12:49:58.396Z"
   },
   {
    "duration": 19,
    "start_time": "2022-09-07T12:49:58.553Z"
   },
   {
    "duration": 566,
    "start_time": "2022-09-07T12:49:58.574Z"
   },
   {
    "duration": 237,
    "start_time": "2022-09-07T12:49:59.142Z"
   },
   {
    "duration": 324,
    "start_time": "2022-09-07T12:49:59.381Z"
   },
   {
    "duration": 261,
    "start_time": "2022-09-07T12:49:59.706Z"
   },
   {
    "duration": 132,
    "start_time": "2022-09-07T12:49:59.971Z"
   },
   {
    "duration": 175,
    "start_time": "2022-09-07T12:50:00.105Z"
   },
   {
    "duration": 176,
    "start_time": "2022-09-07T12:50:00.282Z"
   },
   {
    "duration": 9,
    "start_time": "2022-09-07T12:50:00.460Z"
   },
   {
    "duration": 173,
    "start_time": "2022-09-07T12:50:00.471Z"
   },
   {
    "duration": 5,
    "start_time": "2022-09-07T12:50:00.646Z"
   },
   {
    "duration": 266,
    "start_time": "2022-09-07T12:50:00.668Z"
   },
   {
    "duration": 11,
    "start_time": "2022-09-07T12:50:34.254Z"
   },
   {
    "duration": 11,
    "start_time": "2022-09-07T12:50:40.035Z"
   },
   {
    "duration": 120,
    "start_time": "2022-09-07T12:57:46.731Z"
   },
   {
    "duration": 14,
    "start_time": "2022-09-07T12:57:59.355Z"
   },
   {
    "duration": 11,
    "start_time": "2022-09-07T12:58:35.207Z"
   },
   {
    "duration": 12,
    "start_time": "2022-09-07T12:58:53.985Z"
   },
   {
    "duration": 10,
    "start_time": "2022-09-07T12:59:28.336Z"
   },
   {
    "duration": 7,
    "start_time": "2022-09-07T13:01:13.710Z"
   },
   {
    "duration": 5,
    "start_time": "2022-09-07T13:01:20.565Z"
   },
   {
    "duration": 6,
    "start_time": "2022-09-07T13:02:05.835Z"
   },
   {
    "duration": 5,
    "start_time": "2022-09-07T13:02:23.439Z"
   },
   {
    "duration": 1186,
    "start_time": "2022-09-07T13:15:59.248Z"
   },
   {
    "duration": 37,
    "start_time": "2022-09-07T13:16:00.436Z"
   },
   {
    "duration": 13,
    "start_time": "2022-09-07T13:16:00.475Z"
   },
   {
    "duration": 9,
    "start_time": "2022-09-07T13:16:00.490Z"
   },
   {
    "duration": 11,
    "start_time": "2022-09-07T13:16:00.500Z"
   },
   {
    "duration": 17,
    "start_time": "2022-09-07T13:16:00.513Z"
   },
   {
    "duration": 12,
    "start_time": "2022-09-07T13:16:00.531Z"
   },
   {
    "duration": 54,
    "start_time": "2022-09-07T13:16:00.545Z"
   },
   {
    "duration": 3,
    "start_time": "2022-09-07T13:16:00.601Z"
   },
   {
    "duration": 19,
    "start_time": "2022-09-07T13:16:00.607Z"
   },
   {
    "duration": 9,
    "start_time": "2022-09-07T13:16:00.628Z"
   },
   {
    "duration": 9,
    "start_time": "2022-09-07T13:16:00.639Z"
   },
   {
    "duration": 7,
    "start_time": "2022-09-07T13:16:00.650Z"
   },
   {
    "duration": 15,
    "start_time": "2022-09-07T13:16:00.659Z"
   },
   {
    "duration": 4,
    "start_time": "2022-09-07T13:16:00.676Z"
   },
   {
    "duration": 18,
    "start_time": "2022-09-07T13:16:00.682Z"
   },
   {
    "duration": 22,
    "start_time": "2022-09-07T13:16:00.702Z"
   },
   {
    "duration": 11,
    "start_time": "2022-09-07T13:16:00.725Z"
   },
   {
    "duration": 6,
    "start_time": "2022-09-07T13:16:00.738Z"
   },
   {
    "duration": 23,
    "start_time": "2022-09-07T13:16:00.746Z"
   },
   {
    "duration": 13,
    "start_time": "2022-09-07T13:16:00.771Z"
   },
   {
    "duration": 10,
    "start_time": "2022-09-07T13:16:00.786Z"
   },
   {
    "duration": 11,
    "start_time": "2022-09-07T13:16:00.798Z"
   },
   {
    "duration": 13,
    "start_time": "2022-09-07T13:16:00.811Z"
   },
   {
    "duration": 184,
    "start_time": "2022-09-07T13:16:00.826Z"
   },
   {
    "duration": 11,
    "start_time": "2022-09-07T13:16:01.012Z"
   },
   {
    "duration": 630,
    "start_time": "2022-09-07T13:16:01.025Z"
   },
   {
    "duration": 253,
    "start_time": "2022-09-07T13:16:01.658Z"
   },
   {
    "duration": 317,
    "start_time": "2022-09-07T13:16:01.913Z"
   },
   {
    "duration": 263,
    "start_time": "2022-09-07T13:16:02.233Z"
   },
   {
    "duration": 145,
    "start_time": "2022-09-07T13:16:02.497Z"
   },
   {
    "duration": 182,
    "start_time": "2022-09-07T13:16:02.644Z"
   },
   {
    "duration": 182,
    "start_time": "2022-09-07T13:16:02.829Z"
   },
   {
    "duration": 5,
    "start_time": "2022-09-07T13:16:03.013Z"
   },
   {
    "duration": 188,
    "start_time": "2022-09-07T13:16:03.020Z"
   },
   {
    "duration": 5,
    "start_time": "2022-09-07T13:16:03.210Z"
   },
   {
    "duration": 275,
    "start_time": "2022-09-07T13:16:03.217Z"
   },
   {
    "duration": 12,
    "start_time": "2022-09-07T13:16:03.493Z"
   },
   {
    "duration": 1704,
    "start_time": "2022-09-07T13:16:03.507Z"
   },
   {
    "duration": 10,
    "start_time": "2022-09-07T13:17:17.486Z"
   },
   {
    "duration": 116,
    "start_time": "2022-09-07T13:18:03.325Z"
   },
   {
    "duration": 7,
    "start_time": "2022-09-07T13:18:08.465Z"
   },
   {
    "duration": 4797,
    "start_time": "2022-09-07T13:20:14.561Z"
   },
   {
    "duration": 2112,
    "start_time": "2022-09-07T13:21:18.553Z"
   },
   {
    "duration": 6,
    "start_time": "2022-09-07T13:25:52.275Z"
   },
   {
    "duration": 1792,
    "start_time": "2022-09-07T13:28:06.263Z"
   },
   {
    "duration": 2342,
    "start_time": "2022-09-07T13:28:27.937Z"
   },
   {
    "duration": 3085,
    "start_time": "2022-09-07T13:29:29.531Z"
   },
   {
    "duration": 36,
    "start_time": "2022-09-07T13:29:32.618Z"
   },
   {
    "duration": 11,
    "start_time": "2022-09-07T13:29:32.656Z"
   },
   {
    "duration": 18,
    "start_time": "2022-09-07T13:29:32.668Z"
   },
   {
    "duration": 11,
    "start_time": "2022-09-07T13:29:32.689Z"
   },
   {
    "duration": 16,
    "start_time": "2022-09-07T13:29:32.702Z"
   },
   {
    "duration": 13,
    "start_time": "2022-09-07T13:29:32.720Z"
   },
   {
    "duration": 48,
    "start_time": "2022-09-07T13:29:32.734Z"
   },
   {
    "duration": 3,
    "start_time": "2022-09-07T13:29:32.783Z"
   },
   {
    "duration": 15,
    "start_time": "2022-09-07T13:29:32.788Z"
   },
   {
    "duration": 8,
    "start_time": "2022-09-07T13:29:32.805Z"
   },
   {
    "duration": 11,
    "start_time": "2022-09-07T13:29:32.815Z"
   },
   {
    "duration": 6,
    "start_time": "2022-09-07T13:29:32.828Z"
   },
   {
    "duration": 13,
    "start_time": "2022-09-07T13:29:32.837Z"
   },
   {
    "duration": 4,
    "start_time": "2022-09-07T13:29:32.868Z"
   },
   {
    "duration": 14,
    "start_time": "2022-09-07T13:29:32.874Z"
   },
   {
    "duration": 26,
    "start_time": "2022-09-07T13:29:32.890Z"
   },
   {
    "duration": 11,
    "start_time": "2022-09-07T13:29:32.918Z"
   },
   {
    "duration": 7,
    "start_time": "2022-09-07T13:29:32.931Z"
   },
   {
    "duration": 10,
    "start_time": "2022-09-07T13:29:32.940Z"
   },
   {
    "duration": 19,
    "start_time": "2022-09-07T13:29:32.952Z"
   },
   {
    "duration": 12,
    "start_time": "2022-09-07T13:29:32.973Z"
   },
   {
    "duration": 13,
    "start_time": "2022-09-07T13:29:32.987Z"
   },
   {
    "duration": 18,
    "start_time": "2022-09-07T13:29:33.002Z"
   },
   {
    "duration": 181,
    "start_time": "2022-09-07T13:29:33.022Z"
   },
   {
    "duration": 13,
    "start_time": "2022-09-07T13:29:33.204Z"
   },
   {
    "duration": 589,
    "start_time": "2022-09-07T13:29:33.218Z"
   },
   {
    "duration": 237,
    "start_time": "2022-09-07T13:29:33.809Z"
   },
   {
    "duration": 349,
    "start_time": "2022-09-07T13:29:34.048Z"
   },
   {
    "duration": 262,
    "start_time": "2022-09-07T13:29:34.399Z"
   },
   {
    "duration": 135,
    "start_time": "2022-09-07T13:29:34.663Z"
   },
   {
    "duration": 174,
    "start_time": "2022-09-07T13:29:34.800Z"
   },
   {
    "duration": 176,
    "start_time": "2022-09-07T13:29:34.975Z"
   },
   {
    "duration": 5,
    "start_time": "2022-09-07T13:29:35.152Z"
   },
   {
    "duration": 194,
    "start_time": "2022-09-07T13:29:35.158Z"
   },
   {
    "duration": 5,
    "start_time": "2022-09-07T13:29:35.353Z"
   },
   {
    "duration": 258,
    "start_time": "2022-09-07T13:29:35.359Z"
   },
   {
    "duration": 9,
    "start_time": "2022-09-07T13:29:35.619Z"
   },
   {
    "duration": 1681,
    "start_time": "2022-09-07T13:29:35.630Z"
   },
   {
    "duration": 12,
    "start_time": "2022-09-07T13:30:26.157Z"
   },
   {
    "duration": 14,
    "start_time": "2022-09-07T13:38:05.787Z"
   },
   {
    "duration": 11,
    "start_time": "2022-09-07T13:39:27.384Z"
   },
   {
    "duration": 159,
    "start_time": "2022-09-07T13:39:55.560Z"
   },
   {
    "duration": 33,
    "start_time": "2022-09-07T13:40:07.956Z"
   },
   {
    "duration": 1225,
    "start_time": "2022-09-07T13:40:18.414Z"
   },
   {
    "duration": 36,
    "start_time": "2022-09-07T13:40:19.641Z"
   },
   {
    "duration": 11,
    "start_time": "2022-09-07T13:40:19.680Z"
   },
   {
    "duration": 5,
    "start_time": "2022-09-07T13:40:19.693Z"
   },
   {
    "duration": 10,
    "start_time": "2022-09-07T13:40:19.701Z"
   },
   {
    "duration": 8,
    "start_time": "2022-09-07T13:40:19.713Z"
   },
   {
    "duration": 8,
    "start_time": "2022-09-07T13:40:19.722Z"
   },
   {
    "duration": 49,
    "start_time": "2022-09-07T13:40:19.731Z"
   },
   {
    "duration": 3,
    "start_time": "2022-09-07T13:40:19.781Z"
   },
   {
    "duration": 14,
    "start_time": "2022-09-07T13:40:19.786Z"
   },
   {
    "duration": 7,
    "start_time": "2022-09-07T13:40:19.801Z"
   },
   {
    "duration": 11,
    "start_time": "2022-09-07T13:40:19.809Z"
   },
   {
    "duration": 8,
    "start_time": "2022-09-07T13:40:19.821Z"
   },
   {
    "duration": 37,
    "start_time": "2022-09-07T13:40:19.832Z"
   },
   {
    "duration": 4,
    "start_time": "2022-09-07T13:40:19.871Z"
   },
   {
    "duration": 18,
    "start_time": "2022-09-07T13:40:19.877Z"
   },
   {
    "duration": 26,
    "start_time": "2022-09-07T13:40:19.897Z"
   },
   {
    "duration": 10,
    "start_time": "2022-09-07T13:40:19.925Z"
   },
   {
    "duration": 7,
    "start_time": "2022-09-07T13:40:19.937Z"
   },
   {
    "duration": 8,
    "start_time": "2022-09-07T13:40:19.945Z"
   },
   {
    "duration": 6,
    "start_time": "2022-09-07T13:40:19.969Z"
   },
   {
    "duration": 10,
    "start_time": "2022-09-07T13:40:19.977Z"
   },
   {
    "duration": 11,
    "start_time": "2022-09-07T13:40:19.989Z"
   },
   {
    "duration": 30,
    "start_time": "2022-09-07T13:40:20.001Z"
   },
   {
    "duration": 158,
    "start_time": "2022-09-07T13:40:20.033Z"
   },
   {
    "duration": 14,
    "start_time": "2022-09-07T13:40:20.192Z"
   },
   {
    "duration": 622,
    "start_time": "2022-09-07T13:40:20.207Z"
   },
   {
    "duration": 249,
    "start_time": "2022-09-07T13:40:20.831Z"
   },
   {
    "duration": 323,
    "start_time": "2022-09-07T13:40:21.082Z"
   },
   {
    "duration": 282,
    "start_time": "2022-09-07T13:40:21.407Z"
   },
   {
    "duration": 132,
    "start_time": "2022-09-07T13:40:21.690Z"
   },
   {
    "duration": 182,
    "start_time": "2022-09-07T13:40:21.824Z"
   },
   {
    "duration": 188,
    "start_time": "2022-09-07T13:40:22.008Z"
   },
   {
    "duration": 4,
    "start_time": "2022-09-07T13:40:22.198Z"
   },
   {
    "duration": 189,
    "start_time": "2022-09-07T13:40:22.204Z"
   },
   {
    "duration": 4,
    "start_time": "2022-09-07T13:40:22.395Z"
   },
   {
    "duration": 269,
    "start_time": "2022-09-07T13:40:22.400Z"
   },
   {
    "duration": 10,
    "start_time": "2022-09-07T13:40:22.671Z"
   },
   {
    "duration": 32,
    "start_time": "2022-09-07T13:40:22.683Z"
   },
   {
    "duration": 1698,
    "start_time": "2022-09-07T13:42:24.733Z"
   },
   {
    "duration": 1424,
    "start_time": "2022-09-07T13:42:32.544Z"
   },
   {
    "duration": 13,
    "start_time": "2022-09-07T13:43:03.200Z"
   },
   {
    "duration": 15,
    "start_time": "2022-09-07T13:44:09.077Z"
   },
   {
    "duration": 551,
    "start_time": "2022-09-07T13:46:17.795Z"
   },
   {
    "duration": 570,
    "start_time": "2022-09-07T13:48:11.438Z"
   },
   {
    "duration": 157,
    "start_time": "2022-09-07T14:40:23.636Z"
   },
   {
    "duration": 170,
    "start_time": "2022-09-07T14:41:34.321Z"
   },
   {
    "duration": 521,
    "start_time": "2022-09-07T14:49:50.497Z"
   },
   {
    "duration": 89,
    "start_time": "2022-09-07T14:59:44.726Z"
   },
   {
    "duration": 1190,
    "start_time": "2022-09-07T15:10:06.612Z"
   },
   {
    "duration": 35,
    "start_time": "2022-09-07T15:10:07.804Z"
   },
   {
    "duration": 10,
    "start_time": "2022-09-07T15:10:07.841Z"
   },
   {
    "duration": 8,
    "start_time": "2022-09-07T15:10:07.853Z"
   },
   {
    "duration": 11,
    "start_time": "2022-09-07T15:10:07.862Z"
   },
   {
    "duration": 11,
    "start_time": "2022-09-07T15:10:07.875Z"
   },
   {
    "duration": 10,
    "start_time": "2022-09-07T15:10:07.887Z"
   },
   {
    "duration": 48,
    "start_time": "2022-09-07T15:10:07.899Z"
   },
   {
    "duration": 3,
    "start_time": "2022-09-07T15:10:07.949Z"
   },
   {
    "duration": 15,
    "start_time": "2022-09-07T15:10:07.954Z"
   },
   {
    "duration": 7,
    "start_time": "2022-09-07T15:10:07.971Z"
   },
   {
    "duration": 9,
    "start_time": "2022-09-07T15:10:07.980Z"
   },
   {
    "duration": 9,
    "start_time": "2022-09-07T15:10:07.990Z"
   },
   {
    "duration": 14,
    "start_time": "2022-09-07T15:10:08.000Z"
   },
   {
    "duration": 4,
    "start_time": "2022-09-07T15:10:08.016Z"
   },
   {
    "duration": 14,
    "start_time": "2022-09-07T15:10:08.021Z"
   },
   {
    "duration": 20,
    "start_time": "2022-09-07T15:10:08.068Z"
   },
   {
    "duration": 11,
    "start_time": "2022-09-07T15:10:08.089Z"
   },
   {
    "duration": 6,
    "start_time": "2022-09-07T15:10:08.101Z"
   },
   {
    "duration": 7,
    "start_time": "2022-09-07T15:10:08.109Z"
   },
   {
    "duration": 8,
    "start_time": "2022-09-07T15:10:08.118Z"
   },
   {
    "duration": 10,
    "start_time": "2022-09-07T15:10:08.128Z"
   },
   {
    "duration": 29,
    "start_time": "2022-09-07T15:10:08.140Z"
   },
   {
    "duration": 15,
    "start_time": "2022-09-07T15:10:08.170Z"
   },
   {
    "duration": 149,
    "start_time": "2022-09-07T15:10:08.187Z"
   },
   {
    "duration": 11,
    "start_time": "2022-09-07T15:10:08.338Z"
   },
   {
    "duration": 589,
    "start_time": "2022-09-07T15:10:08.351Z"
   },
   {
    "duration": 279,
    "start_time": "2022-09-07T15:10:08.944Z"
   },
   {
    "duration": 365,
    "start_time": "2022-09-07T15:10:09.225Z"
   },
   {
    "duration": 259,
    "start_time": "2022-09-07T15:10:09.592Z"
   },
   {
    "duration": 145,
    "start_time": "2022-09-07T15:10:09.853Z"
   },
   {
    "duration": 191,
    "start_time": "2022-09-07T15:10:10.000Z"
   },
   {
    "duration": 196,
    "start_time": "2022-09-07T15:10:10.193Z"
   },
   {
    "duration": 5,
    "start_time": "2022-09-07T15:10:10.391Z"
   },
   {
    "duration": 197,
    "start_time": "2022-09-07T15:10:10.398Z"
   },
   {
    "duration": 5,
    "start_time": "2022-09-07T15:10:10.597Z"
   },
   {
    "duration": 265,
    "start_time": "2022-09-07T15:10:10.604Z"
   },
   {
    "duration": 11,
    "start_time": "2022-09-07T15:10:10.871Z"
   },
   {
    "duration": 33,
    "start_time": "2022-09-07T15:10:10.884Z"
   },
   {
    "duration": 14,
    "start_time": "2022-09-07T15:10:10.919Z"
   },
   {
    "duration": 3,
    "start_time": "2022-09-07T15:11:05.942Z"
   },
   {
    "duration": 2,
    "start_time": "2022-09-07T15:20:57.260Z"
   },
   {
    "duration": 1283,
    "start_time": "2022-09-08T07:20:30.814Z"
   },
   {
    "duration": 86,
    "start_time": "2022-09-08T07:20:32.099Z"
   },
   {
    "duration": 14,
    "start_time": "2022-09-08T07:20:32.187Z"
   },
   {
    "duration": 13,
    "start_time": "2022-09-08T07:20:32.204Z"
   },
   {
    "duration": 32,
    "start_time": "2022-09-08T07:20:32.219Z"
   },
   {
    "duration": 25,
    "start_time": "2022-09-08T07:20:32.253Z"
   },
   {
    "duration": 12,
    "start_time": "2022-09-08T07:20:32.280Z"
   },
   {
    "duration": 126,
    "start_time": "2022-09-08T07:20:32.293Z"
   },
   {
    "duration": 3,
    "start_time": "2022-09-08T07:20:32.422Z"
   },
   {
    "duration": 16,
    "start_time": "2022-09-08T07:20:32.428Z"
   },
   {
    "duration": 6,
    "start_time": "2022-09-08T07:20:32.446Z"
   },
   {
    "duration": 7,
    "start_time": "2022-09-08T07:20:32.454Z"
   },
   {
    "duration": 7,
    "start_time": "2022-09-08T07:20:32.463Z"
   },
   {
    "duration": 13,
    "start_time": "2022-09-08T07:20:32.472Z"
   },
   {
    "duration": 13,
    "start_time": "2022-09-08T07:20:32.487Z"
   },
   {
    "duration": 11,
    "start_time": "2022-09-08T07:20:32.501Z"
   },
   {
    "duration": 61,
    "start_time": "2022-09-08T07:20:32.514Z"
   },
   {
    "duration": 13,
    "start_time": "2022-09-08T07:20:32.577Z"
   },
   {
    "duration": 6,
    "start_time": "2022-09-08T07:20:32.592Z"
   },
   {
    "duration": 14,
    "start_time": "2022-09-08T07:20:32.600Z"
   },
   {
    "duration": 7,
    "start_time": "2022-09-08T07:20:32.616Z"
   },
   {
    "duration": 19,
    "start_time": "2022-09-08T07:20:32.625Z"
   },
   {
    "duration": 17,
    "start_time": "2022-09-08T07:20:32.646Z"
   },
   {
    "duration": 25,
    "start_time": "2022-09-08T07:20:32.665Z"
   },
   {
    "duration": 163,
    "start_time": "2022-09-08T07:20:32.692Z"
   },
   {
    "duration": 10,
    "start_time": "2022-09-08T07:20:32.857Z"
   },
   {
    "duration": 530,
    "start_time": "2022-09-08T07:20:32.869Z"
   },
   {
    "duration": 279,
    "start_time": "2022-09-08T07:20:33.403Z"
   },
   {
    "duration": 374,
    "start_time": "2022-09-08T07:20:33.684Z"
   },
   {
    "duration": 255,
    "start_time": "2022-09-08T07:20:34.060Z"
   },
   {
    "duration": 200,
    "start_time": "2022-09-08T07:20:34.317Z"
   },
   {
    "duration": 194,
    "start_time": "2022-09-08T07:20:34.521Z"
   },
   {
    "duration": 163,
    "start_time": "2022-09-08T07:20:34.716Z"
   },
   {
    "duration": 5,
    "start_time": "2022-09-08T07:20:34.881Z"
   },
   {
    "duration": 200,
    "start_time": "2022-09-08T07:20:34.888Z"
   },
   {
    "duration": 9,
    "start_time": "2022-09-08T07:20:35.089Z"
   },
   {
    "duration": 241,
    "start_time": "2022-09-08T07:20:35.100Z"
   },
   {
    "duration": 10,
    "start_time": "2022-09-08T07:20:35.343Z"
   },
   {
    "duration": 46,
    "start_time": "2022-09-08T07:20:35.355Z"
   },
   {
    "duration": 12,
    "start_time": "2022-09-08T07:20:35.403Z"
   },
   {
    "duration": 15,
    "start_time": "2022-09-08T07:20:35.417Z"
   },
   {
    "duration": 411,
    "start_time": "2022-09-08T07:38:14.639Z"
   },
   {
    "duration": 6,
    "start_time": "2022-09-08T07:40:14.990Z"
   },
   {
    "duration": 9,
    "start_time": "2022-09-08T07:41:07.846Z"
   },
   {
    "duration": 12,
    "start_time": "2022-09-08T07:41:19.692Z"
   },
   {
    "duration": 458,
    "start_time": "2022-09-08T07:45:38.919Z"
   },
   {
    "duration": 498,
    "start_time": "2022-09-08T07:48:24.996Z"
   },
   {
    "duration": 482,
    "start_time": "2022-09-08T07:49:03.975Z"
   },
   {
    "duration": 20,
    "start_time": "2022-09-08T07:56:51.701Z"
   },
   {
    "duration": 5,
    "start_time": "2022-09-08T08:00:57.428Z"
   },
   {
    "duration": 4,
    "start_time": "2022-09-08T08:01:05.359Z"
   },
   {
    "duration": 5,
    "start_time": "2022-09-08T08:01:38.829Z"
   },
   {
    "duration": 8,
    "start_time": "2022-09-08T08:01:53.004Z"
   },
   {
    "duration": 1113,
    "start_time": "2022-09-08T08:03:44.693Z"
   },
   {
    "duration": 35,
    "start_time": "2022-09-08T08:03:45.807Z"
   },
   {
    "duration": 9,
    "start_time": "2022-09-08T08:03:45.844Z"
   },
   {
    "duration": 3,
    "start_time": "2022-09-08T08:03:45.855Z"
   },
   {
    "duration": 11,
    "start_time": "2022-09-08T08:03:45.860Z"
   },
   {
    "duration": 8,
    "start_time": "2022-09-08T08:03:45.872Z"
   },
   {
    "duration": 6,
    "start_time": "2022-09-08T08:03:45.882Z"
   },
   {
    "duration": 49,
    "start_time": "2022-09-08T08:03:45.890Z"
   },
   {
    "duration": 4,
    "start_time": "2022-09-08T08:03:45.940Z"
   },
   {
    "duration": 12,
    "start_time": "2022-09-08T08:03:45.948Z"
   },
   {
    "duration": 9,
    "start_time": "2022-09-08T08:03:45.962Z"
   },
   {
    "duration": 8,
    "start_time": "2022-09-08T08:03:45.973Z"
   },
   {
    "duration": 16,
    "start_time": "2022-09-08T08:03:45.982Z"
   },
   {
    "duration": 15,
    "start_time": "2022-09-08T08:03:46.000Z"
   },
   {
    "duration": 3,
    "start_time": "2022-09-08T08:03:46.016Z"
   },
   {
    "duration": 15,
    "start_time": "2022-09-08T08:03:46.021Z"
   },
   {
    "duration": 19,
    "start_time": "2022-09-08T08:03:46.038Z"
   },
   {
    "duration": 9,
    "start_time": "2022-09-08T08:03:46.058Z"
   },
   {
    "duration": 4,
    "start_time": "2022-09-08T08:03:46.069Z"
   },
   {
    "duration": 9,
    "start_time": "2022-09-08T08:03:46.075Z"
   },
   {
    "duration": 5,
    "start_time": "2022-09-08T08:03:46.099Z"
   },
   {
    "duration": 15,
    "start_time": "2022-09-08T08:03:46.105Z"
   },
   {
    "duration": 9,
    "start_time": "2022-09-08T08:03:46.122Z"
   },
   {
    "duration": 16,
    "start_time": "2022-09-08T08:03:46.132Z"
   },
   {
    "duration": 145,
    "start_time": "2022-09-08T08:03:46.149Z"
   },
   {
    "duration": 403,
    "start_time": "2022-09-08T08:03:46.298Z"
   },
   {
    "duration": 10,
    "start_time": "2022-09-08T08:03:46.703Z"
   },
   {
    "duration": 9,
    "start_time": "2022-09-08T08:03:46.716Z"
   },
   {
    "duration": 523,
    "start_time": "2022-09-08T08:03:46.726Z"
   },
   {
    "duration": 476,
    "start_time": "2022-09-08T08:03:47.250Z"
   },
   {
    "duration": 255,
    "start_time": "2022-09-08T08:03:47.728Z"
   },
   {
    "duration": 325,
    "start_time": "2022-09-08T08:03:47.985Z"
   },
   {
    "duration": 252,
    "start_time": "2022-09-08T08:03:48.312Z"
   },
   {
    "duration": 127,
    "start_time": "2022-09-08T08:03:48.565Z"
   },
   {
    "duration": 155,
    "start_time": "2022-09-08T08:03:48.694Z"
   },
   {
    "duration": 216,
    "start_time": "2022-09-08T08:03:48.851Z"
   },
   {
    "duration": 4,
    "start_time": "2022-09-08T08:03:49.068Z"
   },
   {
    "duration": 163,
    "start_time": "2022-09-08T08:03:49.073Z"
   },
   {
    "duration": 4,
    "start_time": "2022-09-08T08:03:49.237Z"
   },
   {
    "duration": 151,
    "start_time": "2022-09-08T08:03:49.243Z"
   },
   {
    "duration": 20,
    "start_time": "2022-09-08T08:03:49.398Z"
   },
   {
    "duration": 10,
    "start_time": "2022-09-08T08:03:49.419Z"
   },
   {
    "duration": 28,
    "start_time": "2022-09-08T08:03:49.430Z"
   },
   {
    "duration": 11,
    "start_time": "2022-09-08T08:03:49.460Z"
   },
   {
    "duration": 2,
    "start_time": "2022-09-08T08:03:49.499Z"
   },
   {
    "duration": 1458,
    "start_time": "2022-09-08T16:11:26.436Z"
   },
   {
    "duration": 73,
    "start_time": "2022-09-08T16:11:27.896Z"
   },
   {
    "duration": 13,
    "start_time": "2022-09-08T16:11:27.970Z"
   },
   {
    "duration": 10,
    "start_time": "2022-09-08T16:11:27.985Z"
   },
   {
    "duration": 11,
    "start_time": "2022-09-08T16:11:27.997Z"
   },
   {
    "duration": 8,
    "start_time": "2022-09-08T16:11:28.009Z"
   },
   {
    "duration": 7,
    "start_time": "2022-09-08T16:11:28.018Z"
   },
   {
    "duration": 131,
    "start_time": "2022-09-08T16:11:28.027Z"
   },
   {
    "duration": 3,
    "start_time": "2022-09-08T16:11:28.160Z"
   },
   {
    "duration": 13,
    "start_time": "2022-09-08T16:11:28.165Z"
   },
   {
    "duration": 10,
    "start_time": "2022-09-08T16:11:28.180Z"
   },
   {
    "duration": 8,
    "start_time": "2022-09-08T16:11:28.191Z"
   },
   {
    "duration": 7,
    "start_time": "2022-09-08T16:11:28.201Z"
   },
   {
    "duration": 13,
    "start_time": "2022-09-08T16:11:28.210Z"
   },
   {
    "duration": 3,
    "start_time": "2022-09-08T16:11:28.225Z"
   },
   {
    "duration": 38,
    "start_time": "2022-09-08T16:11:28.230Z"
   },
   {
    "duration": 77,
    "start_time": "2022-09-08T16:11:28.270Z"
   },
   {
    "duration": 11,
    "start_time": "2022-09-08T16:11:28.348Z"
   },
   {
    "duration": 7,
    "start_time": "2022-09-08T16:11:28.360Z"
   },
   {
    "duration": 8,
    "start_time": "2022-09-08T16:11:28.369Z"
   },
   {
    "duration": 7,
    "start_time": "2022-09-08T16:11:28.379Z"
   },
   {
    "duration": 1363,
    "start_time": "2022-09-08T16:11:28.387Z"
   },
   {
    "duration": 0,
    "start_time": "2022-09-08T16:11:29.752Z"
   },
   {
    "duration": 0,
    "start_time": "2022-09-08T16:11:29.754Z"
   },
   {
    "duration": 0,
    "start_time": "2022-09-08T16:11:29.755Z"
   },
   {
    "duration": 0,
    "start_time": "2022-09-08T16:11:29.756Z"
   },
   {
    "duration": 0,
    "start_time": "2022-09-08T16:11:29.757Z"
   },
   {
    "duration": 0,
    "start_time": "2022-09-08T16:11:29.758Z"
   },
   {
    "duration": 0,
    "start_time": "2022-09-08T16:11:29.759Z"
   },
   {
    "duration": 0,
    "start_time": "2022-09-08T16:11:29.761Z"
   },
   {
    "duration": 0,
    "start_time": "2022-09-08T16:11:29.762Z"
   },
   {
    "duration": 0,
    "start_time": "2022-09-08T16:11:29.763Z"
   },
   {
    "duration": 0,
    "start_time": "2022-09-08T16:11:29.763Z"
   },
   {
    "duration": 0,
    "start_time": "2022-09-08T16:11:29.765Z"
   },
   {
    "duration": 1,
    "start_time": "2022-09-08T16:11:29.765Z"
   },
   {
    "duration": 0,
    "start_time": "2022-09-08T16:11:29.767Z"
   },
   {
    "duration": 0,
    "start_time": "2022-09-08T16:11:29.767Z"
   },
   {
    "duration": 0,
    "start_time": "2022-09-08T16:11:29.770Z"
   },
   {
    "duration": 0,
    "start_time": "2022-09-08T16:11:29.771Z"
   },
   {
    "duration": 0,
    "start_time": "2022-09-08T16:11:29.772Z"
   },
   {
    "duration": 0,
    "start_time": "2022-09-08T16:11:29.773Z"
   },
   {
    "duration": 0,
    "start_time": "2022-09-08T16:11:29.774Z"
   },
   {
    "duration": 0,
    "start_time": "2022-09-08T16:11:29.775Z"
   },
   {
    "duration": 0,
    "start_time": "2022-09-08T16:11:29.776Z"
   },
   {
    "duration": 0,
    "start_time": "2022-09-08T16:11:29.778Z"
   },
   {
    "duration": 11,
    "start_time": "2022-09-08T16:11:55.466Z"
   },
   {
    "duration": 3,
    "start_time": "2022-09-08T16:12:39.209Z"
   },
   {
    "duration": 9,
    "start_time": "2022-09-08T16:12:40.741Z"
   },
   {
    "duration": 9,
    "start_time": "2022-09-08T16:12:51.194Z"
   },
   {
    "duration": 1096,
    "start_time": "2022-09-08T16:13:02.524Z"
   },
   {
    "duration": 39,
    "start_time": "2022-09-08T16:13:04.038Z"
   },
   {
    "duration": 11,
    "start_time": "2022-09-08T16:13:05.314Z"
   },
   {
    "duration": 5,
    "start_time": "2022-09-08T16:13:05.908Z"
   },
   {
    "duration": 8,
    "start_time": "2022-09-08T16:13:07.137Z"
   },
   {
    "duration": 4,
    "start_time": "2022-09-08T16:13:57.079Z"
   },
   {
    "duration": 3,
    "start_time": "2022-09-08T16:14:04.906Z"
   },
   {
    "duration": 8,
    "start_time": "2022-09-08T16:14:06.429Z"
   },
   {
    "duration": 1114,
    "start_time": "2022-09-08T16:14:16.998Z"
   },
   {
    "duration": 36,
    "start_time": "2022-09-08T16:14:18.114Z"
   },
   {
    "duration": 11,
    "start_time": "2022-09-08T16:14:18.152Z"
   },
   {
    "duration": 9,
    "start_time": "2022-09-08T16:14:18.165Z"
   },
   {
    "duration": 10,
    "start_time": "2022-09-08T16:14:18.176Z"
   },
   {
    "duration": 7,
    "start_time": "2022-09-08T16:14:18.188Z"
   },
   {
    "duration": 9,
    "start_time": "2022-09-08T16:14:18.197Z"
   },
   {
    "duration": 49,
    "start_time": "2022-09-08T16:14:18.207Z"
   },
   {
    "duration": 4,
    "start_time": "2022-09-08T16:14:18.257Z"
   },
   {
    "duration": 16,
    "start_time": "2022-09-08T16:14:18.263Z"
   },
   {
    "duration": 7,
    "start_time": "2022-09-08T16:14:18.281Z"
   },
   {
    "duration": 7,
    "start_time": "2022-09-08T16:14:18.290Z"
   },
   {
    "duration": 7,
    "start_time": "2022-09-08T16:14:18.299Z"
   },
   {
    "duration": 14,
    "start_time": "2022-09-08T16:14:18.308Z"
   },
   {
    "duration": 4,
    "start_time": "2022-09-08T16:14:18.323Z"
   },
   {
    "duration": 41,
    "start_time": "2022-09-08T16:14:18.328Z"
   },
   {
    "duration": 21,
    "start_time": "2022-09-08T16:14:18.370Z"
   },
   {
    "duration": 9,
    "start_time": "2022-09-08T16:14:18.393Z"
   },
   {
    "duration": 7,
    "start_time": "2022-09-08T16:14:18.404Z"
   },
   {
    "duration": 9,
    "start_time": "2022-09-08T16:14:18.413Z"
   },
   {
    "duration": 7,
    "start_time": "2022-09-08T16:14:18.423Z"
   },
   {
    "duration": 11,
    "start_time": "2022-09-08T16:14:18.431Z"
   },
   {
    "duration": 25,
    "start_time": "2022-09-08T16:14:18.444Z"
   },
   {
    "duration": 13,
    "start_time": "2022-09-08T16:14:18.471Z"
   },
   {
    "duration": 157,
    "start_time": "2022-09-08T16:14:18.486Z"
   },
   {
    "duration": 463,
    "start_time": "2022-09-08T16:14:18.646Z"
   },
   {
    "duration": 13,
    "start_time": "2022-09-08T16:14:19.111Z"
   },
   {
    "duration": 10,
    "start_time": "2022-09-08T16:14:19.128Z"
   },
   {
    "duration": 587,
    "start_time": "2022-09-08T16:14:19.140Z"
   },
   {
    "duration": 559,
    "start_time": "2022-09-08T16:14:19.728Z"
   },
   {
    "duration": 271,
    "start_time": "2022-09-08T16:14:20.289Z"
   },
   {
    "duration": 328,
    "start_time": "2022-09-08T16:14:20.562Z"
   },
   {
    "duration": 261,
    "start_time": "2022-09-08T16:14:20.891Z"
   },
   {
    "duration": 142,
    "start_time": "2022-09-08T16:14:21.154Z"
   },
   {
    "duration": 177,
    "start_time": "2022-09-08T16:14:21.297Z"
   },
   {
    "duration": 270,
    "start_time": "2022-09-08T16:14:21.476Z"
   },
   {
    "duration": 4,
    "start_time": "2022-09-08T16:14:21.748Z"
   },
   {
    "duration": 199,
    "start_time": "2022-09-08T16:14:21.754Z"
   },
   {
    "duration": 14,
    "start_time": "2022-09-08T16:14:21.955Z"
   },
   {
    "duration": 171,
    "start_time": "2022-09-08T16:14:21.971Z"
   },
   {
    "duration": 31,
    "start_time": "2022-09-08T16:14:22.144Z"
   },
   {
    "duration": 13,
    "start_time": "2022-09-08T16:14:22.177Z"
   },
   {
    "duration": 32,
    "start_time": "2022-09-08T16:14:22.192Z"
   },
   {
    "duration": 15,
    "start_time": "2022-09-08T16:14:22.225Z"
   },
   {
    "duration": 3,
    "start_time": "2022-09-08T16:14:22.268Z"
   },
   {
    "duration": 3,
    "start_time": "2022-09-08T16:15:05.219Z"
   },
   {
    "duration": 119,
    "start_time": "2022-09-08T16:15:23.457Z"
   },
   {
    "duration": 10,
    "start_time": "2022-09-08T16:15:33.531Z"
   },
   {
    "duration": 9,
    "start_time": "2022-09-08T16:18:18.357Z"
   },
   {
    "duration": 3,
    "start_time": "2022-09-08T16:18:24.326Z"
   },
   {
    "duration": 9,
    "start_time": "2022-09-08T16:18:28.334Z"
   },
   {
    "duration": 1163,
    "start_time": "2022-09-08T16:18:42.048Z"
   },
   {
    "duration": 37,
    "start_time": "2022-09-08T16:18:43.213Z"
   },
   {
    "duration": 10,
    "start_time": "2022-09-08T16:18:43.252Z"
   },
   {
    "duration": 5,
    "start_time": "2022-09-08T16:18:43.264Z"
   },
   {
    "duration": 9,
    "start_time": "2022-09-08T16:18:43.270Z"
   },
   {
    "duration": 8,
    "start_time": "2022-09-08T16:18:43.281Z"
   },
   {
    "duration": 5,
    "start_time": "2022-09-08T16:18:43.291Z"
   },
   {
    "duration": 6,
    "start_time": "2022-09-08T16:18:43.298Z"
   },
   {
    "duration": 46,
    "start_time": "2022-09-08T16:18:43.306Z"
   },
   {
    "duration": 3,
    "start_time": "2022-09-08T16:18:43.354Z"
   },
   {
    "duration": 12,
    "start_time": "2022-09-08T16:18:43.359Z"
   },
   {
    "duration": 10,
    "start_time": "2022-09-08T16:18:43.373Z"
   },
   {
    "duration": 9,
    "start_time": "2022-09-08T16:18:43.384Z"
   },
   {
    "duration": 7,
    "start_time": "2022-09-08T16:18:43.395Z"
   },
   {
    "duration": 13,
    "start_time": "2022-09-08T16:18:43.403Z"
   },
   {
    "duration": 3,
    "start_time": "2022-09-08T16:18:43.418Z"
   },
   {
    "duration": 16,
    "start_time": "2022-09-08T16:18:43.423Z"
   },
   {
    "duration": 33,
    "start_time": "2022-09-08T16:18:43.441Z"
   },
   {
    "duration": 11,
    "start_time": "2022-09-08T16:18:43.476Z"
   },
   {
    "duration": 8,
    "start_time": "2022-09-08T16:18:43.489Z"
   },
   {
    "duration": 8,
    "start_time": "2022-09-08T16:18:43.499Z"
   },
   {
    "duration": 22,
    "start_time": "2022-09-08T16:18:43.509Z"
   },
   {
    "duration": 9,
    "start_time": "2022-09-08T16:18:43.533Z"
   },
   {
    "duration": 23,
    "start_time": "2022-09-08T16:18:43.544Z"
   },
   {
    "duration": 9,
    "start_time": "2022-09-08T16:18:43.569Z"
   },
   {
    "duration": 144,
    "start_time": "2022-09-08T16:18:43.580Z"
   },
   {
    "duration": 455,
    "start_time": "2022-09-08T16:18:43.726Z"
   },
   {
    "duration": 12,
    "start_time": "2022-09-08T16:18:44.184Z"
   },
   {
    "duration": 8,
    "start_time": "2022-09-08T16:18:44.198Z"
   },
   {
    "duration": 572,
    "start_time": "2022-09-08T16:18:44.208Z"
   },
   {
    "duration": 528,
    "start_time": "2022-09-08T16:18:44.782Z"
   },
   {
    "duration": 276,
    "start_time": "2022-09-08T16:18:45.311Z"
   },
   {
    "duration": 314,
    "start_time": "2022-09-08T16:18:45.589Z"
   },
   {
    "duration": 253,
    "start_time": "2022-09-08T16:18:45.904Z"
   },
   {
    "duration": 144,
    "start_time": "2022-09-08T16:18:46.158Z"
   },
   {
    "duration": 180,
    "start_time": "2022-09-08T16:18:46.303Z"
   },
   {
    "duration": 315,
    "start_time": "2022-09-08T16:18:46.485Z"
   },
   {
    "duration": 7,
    "start_time": "2022-09-08T16:18:46.802Z"
   },
   {
    "duration": 194,
    "start_time": "2022-09-08T16:18:46.811Z"
   },
   {
    "duration": 5,
    "start_time": "2022-09-08T16:18:47.006Z"
   },
   {
    "duration": 159,
    "start_time": "2022-09-08T16:18:47.013Z"
   },
   {
    "duration": 22,
    "start_time": "2022-09-08T16:18:47.174Z"
   },
   {
    "duration": 12,
    "start_time": "2022-09-08T16:18:47.198Z"
   },
   {
    "duration": 60,
    "start_time": "2022-09-08T16:18:47.212Z"
   },
   {
    "duration": 17,
    "start_time": "2022-09-08T16:18:47.274Z"
   },
   {
    "duration": 2,
    "start_time": "2022-09-08T16:18:47.293Z"
   },
   {
    "duration": 9,
    "start_time": "2022-09-08T16:25:10.091Z"
   },
   {
    "duration": 9,
    "start_time": "2022-09-08T16:25:30.641Z"
   },
   {
    "duration": 12,
    "start_time": "2022-09-08T16:26:05.970Z"
   },
   {
    "duration": 11,
    "start_time": "2022-09-08T16:26:13.213Z"
   },
   {
    "duration": 1299,
    "start_time": "2022-09-08T16:52:45.950Z"
   },
   {
    "duration": 52,
    "start_time": "2022-09-08T16:52:47.252Z"
   },
   {
    "duration": 12,
    "start_time": "2022-09-08T16:52:47.306Z"
   },
   {
    "duration": 4,
    "start_time": "2022-09-08T16:52:47.320Z"
   },
   {
    "duration": 11,
    "start_time": "2022-09-08T16:52:47.326Z"
   },
   {
    "duration": 10,
    "start_time": "2022-09-08T16:52:47.339Z"
   },
   {
    "duration": 8,
    "start_time": "2022-09-08T16:52:47.351Z"
   },
   {
    "duration": 7,
    "start_time": "2022-09-08T16:52:47.361Z"
   },
   {
    "duration": 53,
    "start_time": "2022-09-08T16:52:47.370Z"
   },
   {
    "duration": 4,
    "start_time": "2022-09-08T16:52:47.427Z"
   },
   {
    "duration": 19,
    "start_time": "2022-09-08T16:52:47.433Z"
   },
   {
    "duration": 7,
    "start_time": "2022-09-08T16:52:47.454Z"
   },
   {
    "duration": 11,
    "start_time": "2022-09-08T16:52:47.464Z"
   },
   {
    "duration": 9,
    "start_time": "2022-09-08T16:52:47.477Z"
   },
   {
    "duration": 26,
    "start_time": "2022-09-08T16:52:47.487Z"
   },
   {
    "duration": 5,
    "start_time": "2022-09-08T16:52:47.515Z"
   },
   {
    "duration": 25,
    "start_time": "2022-09-08T16:52:47.522Z"
   },
   {
    "duration": 21,
    "start_time": "2022-09-08T16:52:47.549Z"
   },
   {
    "duration": 8,
    "start_time": "2022-09-08T16:52:47.572Z"
   },
   {
    "duration": 15,
    "start_time": "2022-09-08T16:52:47.582Z"
   },
   {
    "duration": 7,
    "start_time": "2022-09-08T16:52:47.599Z"
   },
   {
    "duration": 15,
    "start_time": "2022-09-08T16:52:47.607Z"
   },
   {
    "duration": 13,
    "start_time": "2022-09-08T16:52:47.623Z"
   },
   {
    "duration": 41,
    "start_time": "2022-09-08T16:52:47.639Z"
   },
   {
    "duration": 202,
    "start_time": "2022-09-08T16:52:47.683Z"
   },
   {
    "duration": 470,
    "start_time": "2022-09-08T16:52:47.887Z"
   },
   {
    "duration": 13,
    "start_time": "2022-09-08T16:52:48.359Z"
   },
   {
    "duration": 9,
    "start_time": "2022-09-08T16:52:48.375Z"
   },
   {
    "duration": 556,
    "start_time": "2022-09-08T16:52:48.386Z"
   },
   {
    "duration": 531,
    "start_time": "2022-09-08T16:52:48.944Z"
   },
   {
    "duration": 275,
    "start_time": "2022-09-08T16:52:49.476Z"
   },
   {
    "duration": 375,
    "start_time": "2022-09-08T16:52:49.753Z"
   },
   {
    "duration": 267,
    "start_time": "2022-09-08T16:52:50.129Z"
   },
   {
    "duration": 154,
    "start_time": "2022-09-08T16:52:50.397Z"
   },
   {
    "duration": 177,
    "start_time": "2022-09-08T16:52:50.553Z"
   },
   {
    "duration": 252,
    "start_time": "2022-09-08T16:52:50.732Z"
   },
   {
    "duration": 4,
    "start_time": "2022-09-08T16:52:50.986Z"
   },
   {
    "duration": 188,
    "start_time": "2022-09-08T16:52:50.992Z"
   },
   {
    "duration": 5,
    "start_time": "2022-09-08T16:52:51.182Z"
   },
   {
    "duration": 173,
    "start_time": "2022-09-08T16:52:51.189Z"
   },
   {
    "duration": 45,
    "start_time": "2022-09-08T16:52:51.364Z"
   },
   {
    "duration": 16,
    "start_time": "2022-09-08T16:52:51.411Z"
   },
   {
    "duration": 69,
    "start_time": "2022-09-08T16:52:51.430Z"
   },
   {
    "duration": 21,
    "start_time": "2022-09-08T16:52:51.501Z"
   },
   {
    "duration": 4,
    "start_time": "2022-09-08T16:52:51.524Z"
   },
   {
    "duration": 1262,
    "start_time": "2022-09-08T18:15:31.461Z"
   },
   {
    "duration": 50,
    "start_time": "2022-09-08T18:15:32.725Z"
   },
   {
    "duration": 19,
    "start_time": "2022-09-08T18:15:32.781Z"
   },
   {
    "duration": 3,
    "start_time": "2022-09-08T18:15:32.802Z"
   },
   {
    "duration": 13,
    "start_time": "2022-09-08T18:15:32.806Z"
   },
   {
    "duration": 14,
    "start_time": "2022-09-08T18:15:32.820Z"
   },
   {
    "duration": 9,
    "start_time": "2022-09-08T18:15:32.836Z"
   },
   {
    "duration": 9,
    "start_time": "2022-09-08T18:15:32.846Z"
   },
   {
    "duration": 68,
    "start_time": "2022-09-08T18:15:32.857Z"
   },
   {
    "duration": 3,
    "start_time": "2022-09-08T18:15:32.928Z"
   },
   {
    "duration": 12,
    "start_time": "2022-09-08T18:15:32.933Z"
   },
   {
    "duration": 9,
    "start_time": "2022-09-08T18:15:32.947Z"
   },
   {
    "duration": 16,
    "start_time": "2022-09-08T18:15:32.957Z"
   },
   {
    "duration": 21,
    "start_time": "2022-09-08T18:15:32.980Z"
   },
   {
    "duration": 14,
    "start_time": "2022-09-08T18:15:33.003Z"
   },
   {
    "duration": 3,
    "start_time": "2022-09-08T18:15:33.019Z"
   },
   {
    "duration": 25,
    "start_time": "2022-09-08T18:15:33.024Z"
   },
   {
    "duration": 10,
    "start_time": "2022-09-08T18:15:33.051Z"
   },
   {
    "duration": 33,
    "start_time": "2022-09-08T18:15:33.063Z"
   },
   {
    "duration": 10,
    "start_time": "2022-09-08T18:15:33.098Z"
   },
   {
    "duration": 8,
    "start_time": "2022-09-08T18:15:33.109Z"
   },
   {
    "duration": 13,
    "start_time": "2022-09-08T18:15:33.118Z"
   },
   {
    "duration": 13,
    "start_time": "2022-09-08T18:15:33.133Z"
   },
   {
    "duration": 14,
    "start_time": "2022-09-08T18:15:33.147Z"
   },
   {
    "duration": 189,
    "start_time": "2022-09-08T18:15:33.163Z"
   },
   {
    "duration": 532,
    "start_time": "2022-09-08T18:15:33.354Z"
   },
   {
    "duration": 12,
    "start_time": "2022-09-08T18:15:33.892Z"
   },
   {
    "duration": 14,
    "start_time": "2022-09-08T18:15:33.908Z"
   },
   {
    "duration": 593,
    "start_time": "2022-09-08T18:15:33.924Z"
   },
   {
    "duration": 578,
    "start_time": "2022-09-08T18:15:34.518Z"
   },
   {
    "duration": 279,
    "start_time": "2022-09-08T18:15:35.098Z"
   },
   {
    "duration": 348,
    "start_time": "2022-09-08T18:15:35.386Z"
   },
   {
    "duration": 264,
    "start_time": "2022-09-08T18:15:35.736Z"
   },
   {
    "duration": 147,
    "start_time": "2022-09-08T18:15:36.002Z"
   },
   {
    "duration": 176,
    "start_time": "2022-09-08T18:15:36.151Z"
   },
   {
    "duration": 278,
    "start_time": "2022-09-08T18:15:36.329Z"
   },
   {
    "duration": 4,
    "start_time": "2022-09-08T18:15:36.610Z"
   },
   {
    "duration": 236,
    "start_time": "2022-09-08T18:15:36.616Z"
   },
   {
    "duration": 4,
    "start_time": "2022-09-08T18:15:36.854Z"
   },
   {
    "duration": 186,
    "start_time": "2022-09-08T18:15:36.869Z"
   },
   {
    "duration": 38,
    "start_time": "2022-09-08T18:15:37.057Z"
   },
   {
    "duration": 11,
    "start_time": "2022-09-08T18:15:37.097Z"
   },
   {
    "duration": 38,
    "start_time": "2022-09-08T18:15:37.110Z"
   },
   {
    "duration": 42,
    "start_time": "2022-09-08T18:15:37.150Z"
   },
   {
    "duration": 6,
    "start_time": "2022-09-08T18:15:37.194Z"
   },
   {
    "duration": 509,
    "start_time": "2022-09-08T19:02:41.410Z"
   },
   {
    "duration": 514,
    "start_time": "2022-09-08T19:02:50.889Z"
   },
   {
    "duration": 489,
    "start_time": "2022-09-08T19:03:37.939Z"
   },
   {
    "duration": 278,
    "start_time": "2022-09-08T19:05:44.317Z"
   },
   {
    "duration": 335,
    "start_time": "2022-09-08T19:07:50.797Z"
   },
   {
    "duration": 369,
    "start_time": "2022-09-08T19:08:00.955Z"
   },
   {
    "duration": 338,
    "start_time": "2022-09-08T19:08:06.867Z"
   },
   {
    "duration": 333,
    "start_time": "2022-09-08T19:10:32.884Z"
   },
   {
    "duration": 331,
    "start_time": "2022-09-08T19:10:41.783Z"
   },
   {
    "duration": 394,
    "start_time": "2022-09-08T19:10:51.540Z"
   },
   {
    "duration": 321,
    "start_time": "2022-09-08T19:11:03.027Z"
   },
   {
    "duration": 215,
    "start_time": "2022-09-08T19:11:15.743Z"
   },
   {
    "duration": 1210,
    "start_time": "2022-09-08T19:11:26.612Z"
   },
   {
    "duration": 37,
    "start_time": "2022-09-08T19:11:27.824Z"
   },
   {
    "duration": 12,
    "start_time": "2022-09-08T19:11:27.863Z"
   },
   {
    "duration": 5,
    "start_time": "2022-09-08T19:11:27.877Z"
   },
   {
    "duration": 10,
    "start_time": "2022-09-08T19:11:27.884Z"
   },
   {
    "duration": 12,
    "start_time": "2022-09-08T19:11:27.895Z"
   },
   {
    "duration": 8,
    "start_time": "2022-09-08T19:11:27.909Z"
   },
   {
    "duration": 11,
    "start_time": "2022-09-08T19:11:27.918Z"
   },
   {
    "duration": 50,
    "start_time": "2022-09-08T19:11:27.930Z"
   },
   {
    "duration": 3,
    "start_time": "2022-09-08T19:11:27.982Z"
   },
   {
    "duration": 12,
    "start_time": "2022-09-08T19:11:27.987Z"
   },
   {
    "duration": 8,
    "start_time": "2022-09-08T19:11:28.001Z"
   },
   {
    "duration": 9,
    "start_time": "2022-09-08T19:11:28.011Z"
   },
   {
    "duration": 8,
    "start_time": "2022-09-08T19:11:28.021Z"
   },
   {
    "duration": 14,
    "start_time": "2022-09-08T19:11:28.030Z"
   },
   {
    "duration": 23,
    "start_time": "2022-09-08T19:11:28.046Z"
   },
   {
    "duration": 24,
    "start_time": "2022-09-08T19:11:28.071Z"
   },
   {
    "duration": 10,
    "start_time": "2022-09-08T19:11:28.096Z"
   },
   {
    "duration": 7,
    "start_time": "2022-09-08T19:11:28.108Z"
   },
   {
    "duration": 7,
    "start_time": "2022-09-08T19:11:28.117Z"
   },
   {
    "duration": 8,
    "start_time": "2022-09-08T19:11:28.125Z"
   },
   {
    "duration": 15,
    "start_time": "2022-09-08T19:11:28.134Z"
   },
   {
    "duration": 27,
    "start_time": "2022-09-08T19:11:28.151Z"
   },
   {
    "duration": 12,
    "start_time": "2022-09-08T19:11:28.179Z"
   },
   {
    "duration": 160,
    "start_time": "2022-09-08T19:11:28.192Z"
   },
   {
    "duration": 476,
    "start_time": "2022-09-08T19:11:28.353Z"
   },
   {
    "duration": 12,
    "start_time": "2022-09-08T19:11:28.831Z"
   },
   {
    "duration": 12,
    "start_time": "2022-09-08T19:11:28.847Z"
   },
   {
    "duration": 570,
    "start_time": "2022-09-08T19:11:28.860Z"
   },
   {
    "duration": 566,
    "start_time": "2022-09-08T19:11:29.431Z"
   },
   {
    "duration": 225,
    "start_time": "2022-09-08T19:11:29.999Z"
   },
   {
    "duration": 332,
    "start_time": "2022-09-08T19:11:30.226Z"
   },
   {
    "duration": 218,
    "start_time": "2022-09-08T19:11:30.559Z"
   },
   {
    "duration": 133,
    "start_time": "2022-09-08T19:11:30.779Z"
   },
   {
    "duration": 142,
    "start_time": "2022-09-08T19:11:30.913Z"
   },
   {
    "duration": 242,
    "start_time": "2022-09-08T19:11:31.057Z"
   },
   {
    "duration": 4,
    "start_time": "2022-09-08T19:11:31.301Z"
   },
   {
    "duration": 184,
    "start_time": "2022-09-08T19:11:31.307Z"
   },
   {
    "duration": 6,
    "start_time": "2022-09-08T19:11:31.493Z"
   },
   {
    "duration": 205,
    "start_time": "2022-09-08T19:11:31.501Z"
   },
   {
    "duration": 20,
    "start_time": "2022-09-08T19:11:31.708Z"
   },
   {
    "duration": 38,
    "start_time": "2022-09-08T19:11:31.730Z"
   },
   {
    "duration": 65,
    "start_time": "2022-09-08T19:11:31.770Z"
   },
   {
    "duration": 15,
    "start_time": "2022-09-08T19:11:31.838Z"
   },
   {
    "duration": 33,
    "start_time": "2022-09-08T19:11:31.855Z"
   },
   {
    "duration": 214,
    "start_time": "2022-09-08T19:11:55.057Z"
   },
   {
    "duration": 179,
    "start_time": "2022-09-08T19:12:03.540Z"
   },
   {
    "duration": 201,
    "start_time": "2022-09-08T19:12:11.083Z"
   },
   {
    "duration": 168,
    "start_time": "2022-09-08T19:19:40.956Z"
   },
   {
    "duration": 22,
    "start_time": "2022-09-08T19:20:43.591Z"
   },
   {
    "duration": 12,
    "start_time": "2022-09-08T19:20:54.124Z"
   },
   {
    "duration": 32,
    "start_time": "2022-09-08T19:21:12.237Z"
   },
   {
    "duration": 13,
    "start_time": "2022-09-08T19:21:24.336Z"
   },
   {
    "duration": 8,
    "start_time": "2022-09-08T19:23:48.089Z"
   },
   {
    "duration": 31,
    "start_time": "2022-09-08T19:24:10.717Z"
   },
   {
    "duration": 1167,
    "start_time": "2022-09-08T19:24:22.002Z"
   },
   {
    "duration": 37,
    "start_time": "2022-09-08T19:24:23.171Z"
   },
   {
    "duration": 11,
    "start_time": "2022-09-08T19:24:23.209Z"
   },
   {
    "duration": 5,
    "start_time": "2022-09-08T19:24:23.222Z"
   },
   {
    "duration": 9,
    "start_time": "2022-09-08T19:24:23.229Z"
   },
   {
    "duration": 29,
    "start_time": "2022-09-08T19:24:23.239Z"
   },
   {
    "duration": 8,
    "start_time": "2022-09-08T19:24:23.270Z"
   },
   {
    "duration": 6,
    "start_time": "2022-09-08T19:24:23.279Z"
   },
   {
    "duration": 47,
    "start_time": "2022-09-08T19:24:23.287Z"
   },
   {
    "duration": 3,
    "start_time": "2022-09-08T19:24:23.336Z"
   },
   {
    "duration": 19,
    "start_time": "2022-09-08T19:24:23.341Z"
   },
   {
    "duration": 7,
    "start_time": "2022-09-08T19:24:23.362Z"
   },
   {
    "duration": 8,
    "start_time": "2022-09-08T19:24:23.370Z"
   },
   {
    "duration": 7,
    "start_time": "2022-09-08T19:24:23.380Z"
   },
   {
    "duration": 11,
    "start_time": "2022-09-08T19:24:23.389Z"
   },
   {
    "duration": 3,
    "start_time": "2022-09-08T19:24:23.402Z"
   },
   {
    "duration": 22,
    "start_time": "2022-09-08T19:24:23.407Z"
   },
   {
    "duration": 11,
    "start_time": "2022-09-08T19:24:23.430Z"
   },
   {
    "duration": 25,
    "start_time": "2022-09-08T19:24:23.443Z"
   },
   {
    "duration": 5,
    "start_time": "2022-09-08T19:24:23.470Z"
   },
   {
    "duration": 8,
    "start_time": "2022-09-08T19:24:23.477Z"
   },
   {
    "duration": 17,
    "start_time": "2022-09-08T19:24:23.487Z"
   },
   {
    "duration": 12,
    "start_time": "2022-09-08T19:24:23.506Z"
   },
   {
    "duration": 10,
    "start_time": "2022-09-08T19:24:23.520Z"
   },
   {
    "duration": 172,
    "start_time": "2022-09-08T19:24:23.532Z"
   },
   {
    "duration": 476,
    "start_time": "2022-09-08T19:24:23.705Z"
   },
   {
    "duration": 11,
    "start_time": "2022-09-08T19:24:24.183Z"
   },
   {
    "duration": 8,
    "start_time": "2022-09-08T19:24:24.197Z"
   },
   {
    "duration": 571,
    "start_time": "2022-09-08T19:24:24.207Z"
   },
   {
    "duration": 559,
    "start_time": "2022-09-08T19:24:24.780Z"
   },
   {
    "duration": 204,
    "start_time": "2022-09-08T19:24:25.341Z"
   },
   {
    "duration": 376,
    "start_time": "2022-09-08T19:24:25.547Z"
   },
   {
    "duration": 228,
    "start_time": "2022-09-08T19:24:25.925Z"
   },
   {
    "duration": 151,
    "start_time": "2022-09-08T19:24:26.155Z"
   },
   {
    "duration": 176,
    "start_time": "2022-09-08T19:24:26.309Z"
   },
   {
    "duration": 318,
    "start_time": "2022-09-08T19:24:26.486Z"
   },
   {
    "duration": 4,
    "start_time": "2022-09-08T19:24:26.806Z"
   },
   {
    "duration": 214,
    "start_time": "2022-09-08T19:24:26.811Z"
   },
   {
    "duration": 4,
    "start_time": "2022-09-08T19:24:27.027Z"
   },
   {
    "duration": 189,
    "start_time": "2022-09-08T19:24:27.032Z"
   },
   {
    "duration": 22,
    "start_time": "2022-09-08T19:24:27.222Z"
   },
   {
    "duration": 24,
    "start_time": "2022-09-08T19:24:27.246Z"
   },
   {
    "duration": 113,
    "start_time": "2022-09-08T19:24:27.272Z"
   },
   {
    "duration": 0,
    "start_time": "2022-09-08T19:24:27.386Z"
   },
   {
    "duration": 0,
    "start_time": "2022-09-08T19:24:27.388Z"
   },
   {
    "duration": 0,
    "start_time": "2022-09-08T19:24:27.388Z"
   },
   {
    "duration": 19,
    "start_time": "2022-09-08T19:24:46.838Z"
   },
   {
    "duration": 33,
    "start_time": "2022-09-08T19:25:18.392Z"
   },
   {
    "duration": 32,
    "start_time": "2022-09-08T19:28:30.262Z"
   },
   {
    "duration": 172,
    "start_time": "2022-09-08T19:31:53.251Z"
   },
   {
    "duration": 10,
    "start_time": "2022-09-08T19:32:44.343Z"
   },
   {
    "duration": 171,
    "start_time": "2022-09-08T19:33:02.007Z"
   },
   {
    "duration": 5,
    "start_time": "2022-09-08T19:34:18.446Z"
   },
   {
    "duration": 1201,
    "start_time": "2022-09-08T19:39:44.736Z"
   },
   {
    "duration": 37,
    "start_time": "2022-09-08T19:39:45.939Z"
   },
   {
    "duration": 12,
    "start_time": "2022-09-08T19:39:45.978Z"
   },
   {
    "duration": 5,
    "start_time": "2022-09-08T19:39:45.992Z"
   },
   {
    "duration": 9,
    "start_time": "2022-09-08T19:39:46.000Z"
   },
   {
    "duration": 10,
    "start_time": "2022-09-08T19:39:46.011Z"
   },
   {
    "duration": 8,
    "start_time": "2022-09-08T19:39:46.023Z"
   },
   {
    "duration": 36,
    "start_time": "2022-09-08T19:39:46.033Z"
   },
   {
    "duration": 51,
    "start_time": "2022-09-08T19:39:46.071Z"
   },
   {
    "duration": 3,
    "start_time": "2022-09-08T19:39:46.123Z"
   },
   {
    "duration": 15,
    "start_time": "2022-09-08T19:39:46.128Z"
   },
   {
    "duration": 9,
    "start_time": "2022-09-08T19:39:46.144Z"
   },
   {
    "duration": 10,
    "start_time": "2022-09-08T19:39:46.155Z"
   },
   {
    "duration": 6,
    "start_time": "2022-09-08T19:39:46.168Z"
   },
   {
    "duration": 16,
    "start_time": "2022-09-08T19:39:46.176Z"
   },
   {
    "duration": 4,
    "start_time": "2022-09-08T19:39:46.193Z"
   },
   {
    "duration": 24,
    "start_time": "2022-09-08T19:39:46.199Z"
   },
   {
    "duration": 10,
    "start_time": "2022-09-08T19:39:46.225Z"
   },
   {
    "duration": 6,
    "start_time": "2022-09-08T19:39:46.237Z"
   },
   {
    "duration": 31,
    "start_time": "2022-09-08T19:39:46.244Z"
   },
   {
    "duration": 8,
    "start_time": "2022-09-08T19:39:46.276Z"
   },
   {
    "duration": 13,
    "start_time": "2022-09-08T19:39:46.286Z"
   },
   {
    "duration": 14,
    "start_time": "2022-09-08T19:39:46.301Z"
   },
   {
    "duration": 11,
    "start_time": "2022-09-08T19:39:46.317Z"
   },
   {
    "duration": 198,
    "start_time": "2022-09-08T19:39:46.329Z"
   },
   {
    "duration": 592,
    "start_time": "2022-09-08T19:39:46.529Z"
   },
   {
    "duration": 13,
    "start_time": "2022-09-08T19:39:47.123Z"
   },
   {
    "duration": 9,
    "start_time": "2022-09-08T19:39:47.138Z"
   },
   {
    "duration": 583,
    "start_time": "2022-09-08T19:39:47.149Z"
   },
   {
    "duration": 533,
    "start_time": "2022-09-08T19:39:47.734Z"
   },
   {
    "duration": 201,
    "start_time": "2022-09-08T19:39:48.269Z"
   },
   {
    "duration": 373,
    "start_time": "2022-09-08T19:39:48.472Z"
   },
   {
    "duration": 227,
    "start_time": "2022-09-08T19:39:48.847Z"
   },
   {
    "duration": 153,
    "start_time": "2022-09-08T19:39:49.075Z"
   },
   {
    "duration": 176,
    "start_time": "2022-09-08T19:39:49.229Z"
   },
   {
    "duration": 11,
    "start_time": "2022-09-08T19:39:49.407Z"
   },
   {
    "duration": 278,
    "start_time": "2022-09-08T19:39:49.420Z"
   },
   {
    "duration": 4,
    "start_time": "2022-09-08T19:39:49.700Z"
   },
   {
    "duration": 217,
    "start_time": "2022-09-08T19:39:49.706Z"
   },
   {
    "duration": 4,
    "start_time": "2022-09-08T19:39:49.925Z"
   },
   {
    "duration": 191,
    "start_time": "2022-09-08T19:39:49.933Z"
   },
   {
    "duration": 22,
    "start_time": "2022-09-08T19:39:50.126Z"
   },
   {
    "duration": 26,
    "start_time": "2022-09-08T19:39:50.150Z"
   },
   {
    "duration": 33,
    "start_time": "2022-09-08T19:39:50.178Z"
   },
   {
    "duration": 16,
    "start_time": "2022-09-08T19:39:50.213Z"
   },
   {
    "duration": 5,
    "start_time": "2022-09-08T19:39:50.231Z"
   },
   {
    "duration": 34,
    "start_time": "2022-09-08T19:41:07.939Z"
   },
   {
    "duration": 1152,
    "start_time": "2022-09-08T19:41:28.809Z"
   },
   {
    "duration": 37,
    "start_time": "2022-09-08T19:41:29.963Z"
   },
   {
    "duration": 12,
    "start_time": "2022-09-08T19:41:30.002Z"
   },
   {
    "duration": 8,
    "start_time": "2022-09-08T19:41:30.016Z"
   },
   {
    "duration": 16,
    "start_time": "2022-09-08T19:41:30.026Z"
   },
   {
    "duration": 14,
    "start_time": "2022-09-08T19:41:30.043Z"
   },
   {
    "duration": 13,
    "start_time": "2022-09-08T19:41:30.059Z"
   },
   {
    "duration": 11,
    "start_time": "2022-09-08T19:41:30.074Z"
   },
   {
    "duration": 55,
    "start_time": "2022-09-08T19:41:30.087Z"
   },
   {
    "duration": 3,
    "start_time": "2022-09-08T19:41:30.145Z"
   },
   {
    "duration": 26,
    "start_time": "2022-09-08T19:41:30.150Z"
   },
   {
    "duration": 17,
    "start_time": "2022-09-08T19:41:30.179Z"
   },
   {
    "duration": 12,
    "start_time": "2022-09-08T19:41:30.198Z"
   },
   {
    "duration": 11,
    "start_time": "2022-09-08T19:41:30.212Z"
   },
   {
    "duration": 16,
    "start_time": "2022-09-08T19:41:30.225Z"
   },
   {
    "duration": 5,
    "start_time": "2022-09-08T19:41:30.242Z"
   },
   {
    "duration": 27,
    "start_time": "2022-09-08T19:41:30.248Z"
   },
   {
    "duration": 11,
    "start_time": "2022-09-08T19:41:30.277Z"
   },
   {
    "duration": 10,
    "start_time": "2022-09-08T19:41:30.289Z"
   },
   {
    "duration": 13,
    "start_time": "2022-09-08T19:41:30.300Z"
   },
   {
    "duration": 9,
    "start_time": "2022-09-08T19:41:30.315Z"
   },
   {
    "duration": 13,
    "start_time": "2022-09-08T19:41:30.325Z"
   },
   {
    "duration": 33,
    "start_time": "2022-09-08T19:41:30.340Z"
   },
   {
    "duration": 15,
    "start_time": "2022-09-08T19:41:30.375Z"
   },
   {
    "duration": 156,
    "start_time": "2022-09-08T19:41:30.392Z"
   },
   {
    "duration": 472,
    "start_time": "2022-09-08T19:41:30.549Z"
   },
   {
    "duration": 12,
    "start_time": "2022-09-08T19:41:31.023Z"
   },
   {
    "duration": 14,
    "start_time": "2022-09-08T19:41:31.038Z"
   },
   {
    "duration": 587,
    "start_time": "2022-09-08T19:41:31.054Z"
   },
   {
    "duration": 521,
    "start_time": "2022-09-08T19:41:31.643Z"
   },
   {
    "duration": 203,
    "start_time": "2022-09-08T19:41:32.168Z"
   },
   {
    "duration": 344,
    "start_time": "2022-09-08T19:41:32.373Z"
   },
   {
    "duration": 220,
    "start_time": "2022-09-08T19:41:32.718Z"
   },
   {
    "duration": 131,
    "start_time": "2022-09-08T19:41:32.940Z"
   },
   {
    "duration": 185,
    "start_time": "2022-09-08T19:41:33.073Z"
   },
   {
    "duration": 11,
    "start_time": "2022-09-08T19:41:33.260Z"
   },
   {
    "duration": 268,
    "start_time": "2022-09-08T19:41:33.273Z"
   },
   {
    "duration": 5,
    "start_time": "2022-09-08T19:41:33.543Z"
   },
   {
    "duration": 204,
    "start_time": "2022-09-08T19:41:33.550Z"
   },
   {
    "duration": 12,
    "start_time": "2022-09-08T19:41:33.756Z"
   },
   {
    "duration": 190,
    "start_time": "2022-09-08T19:41:33.770Z"
   },
   {
    "duration": 21,
    "start_time": "2022-09-08T19:41:33.969Z"
   },
   {
    "duration": 12,
    "start_time": "2022-09-08T19:41:33.991Z"
   },
   {
    "duration": 33,
    "start_time": "2022-09-08T19:41:34.005Z"
   },
   {
    "duration": 40,
    "start_time": "2022-09-08T19:41:34.039Z"
   },
   {
    "duration": 12,
    "start_time": "2022-09-08T19:41:34.081Z"
   }
  ],
  "kernelspec": {
   "display_name": "Python 3 (ipykernel)",
   "language": "python",
   "name": "python3"
  },
  "language_info": {
   "codemirror_mode": {
    "name": "ipython",
    "version": 3
   },
   "file_extension": ".py",
   "mimetype": "text/x-python",
   "name": "python",
   "nbconvert_exporter": "python",
   "pygments_lexer": "ipython3",
   "version": "3.9.5"
  },
  "toc": {
   "base_numbering": 1,
   "nav_menu": {},
   "number_sections": true,
   "sideBar": true,
   "skip_h1_title": true,
   "title_cell": "Table of Contents",
   "title_sidebar": "Contents",
   "toc_cell": false,
   "toc_position": {},
   "toc_section_display": true,
   "toc_window_display": false
  }
 },
 "nbformat": 4,
 "nbformat_minor": 2
}
