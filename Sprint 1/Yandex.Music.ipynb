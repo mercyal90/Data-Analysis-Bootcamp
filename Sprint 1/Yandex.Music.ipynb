{
 "cells": [
  {
   "cell_type": "markdown",
   "metadata": {
    "id": "E0vqbgi9ay0H"
   },
   "source": [
    "# Yandex.Music"
   ]
  },
  {
   "cell_type": "markdown",
   "metadata": {
    "id": "fhq_eyov_Zcs"
   },
   "source": [
    "# Contents <a id='back'></a>\n",
    "\n",
    "* [Introduction](#intro)\n",
    "* [Stage 1. Data overview](#data_review)\n",
    "    * [Conclusions](#data_review_conclusions)\n",
    "* [Stage 2. Data preprocessing](#data_preprocessing)\n",
    "    * [2.1 Header style](#header_style)\n",
    "    * [2.2 Missing values](#missing_values)\n",
    "    * [2.3 Duplicates](#duplicates)\n",
    "    * [2.4 Conclusions](#data_preprocessing_conclusions)\n",
    "* [Stage 3. Testing the hypotheses](#hypotheses)\n",
    "    * [3.1 Hypothesis 1: user activity in the two cities](#activity)\n",
    "    * [3.2 Hypothesis 2: music preferences on Monday and Friday](#week)\n",
    "    * [3.3 Hypothesis 3: genre preferences in Springfield and Shelbyville](#genre)\n",
    "* [Findings](#end)"
   ]
  },
  {
   "cell_type": "markdown",
   "metadata": {
    "id": "VUC88oWjTJw2"
   },
   "source": [
    "## Introduction <a id='intro'></a>\n",
    "Whenever we're doing research, we need to formulate hypotheses that we can then test. Sometimes we accept these hypotheses; other times, we reject them. To make the right decisions, a business must be able to understand whether or not it's making the right assumptions.\n",
    "\n",
    "In this project, you'll compare the music preferences of the cities of Springfield and Shelbyville. You'll study real Yandex.Music data to test the hypotheses below and compare user behavior for these two cities.\n",
    "\n",
    "### Goal: \n",
    "Test three hypotheses:\n",
    "1. User activity differs depending on the day of the week and from city to city. \n",
    "2. On Monday mornings, Springfield and Shelbyville residents listen to different genres. This is also true for Friday evenings. \n",
    "3. Springfield and Shelbyville listeners have different preferences. In Springfield, they prefer pop, while Shelbyville has more rap fans.\n",
    "\n",
    "### Stages \n",
    "Data on user behavior is stored in the file `/datasets/music_project_en.csv`. There is no information about the quality of the data, so you will need to explore it before testing the hypotheses. \n",
    "\n",
    "First, you'll evaluate the quality of the data and see whether its issues are significant. Then, during data preprocessing, you will try to account for the most critical problems.\n",
    " \n",
    "Your project will consist of three stages:\n",
    " 1. Data overview\n",
    " 2. Data preprocessing\n",
    " 3. Testing the hypotheses\n",
    " \n",
    "[Back to Contents](#back)"
   ]
  },
  {
   "cell_type": "markdown",
   "metadata": {
    "id": "Ml1hmfXC_Zcs"
   },
   "source": [
    "## Stage 1. Data overview <a id='data_review'></a>\n",
    "\n",
    "Open the data on Yandex.Music and explore it."
   ]
  },
  {
   "cell_type": "raw",
   "metadata": {
    "id": "57eAOGIz_Zcs"
   },
   "source": [
    "# You'll need `pandas`, so import it."
   ]
  },
  {
   "cell_type": "code",
   "execution_count": 1,
   "metadata": {
    "id": "AXN7PHPN_Zcs"
   },
   "outputs": [],
   "source": [
    "# importing pandas\n",
    "import pandas"
   ]
  },
  {
   "cell_type": "markdown",
   "metadata": {
    "id": "SG23P8tt_Zcs"
   },
   "source": [
    "Read the file `music_project_en.csv` from the `/datasets/` folder and save it in the `df` variable:"
   ]
  },
  {
   "cell_type": "code",
   "execution_count": 2,
   "metadata": {
    "id": "fFVu7vqh_Zct"
   },
   "outputs": [],
   "source": [
    "# reading the file and storing it to df\n",
    "import pandas as pd\n",
    "df = pd.read_csv('/datasets/music_project_en.csv')"
   ]
  },
  {
   "cell_type": "code",
   "execution_count": 3,
   "metadata": {
    "id": "oWTVX3gW_Zct"
   },
   "outputs": [
    {
     "data": {
      "text/html": [
       "<div>\n",
       "<style scoped>\n",
       "    .dataframe tbody tr th:only-of-type {\n",
       "        vertical-align: middle;\n",
       "    }\n",
       "\n",
       "    .dataframe tbody tr th {\n",
       "        vertical-align: top;\n",
       "    }\n",
       "\n",
       "    .dataframe thead th {\n",
       "        text-align: right;\n",
       "    }\n",
       "</style>\n",
       "<table border=\"1\" class=\"dataframe\">\n",
       "  <thead>\n",
       "    <tr style=\"text-align: right;\">\n",
       "      <th></th>\n",
       "      <th>userID</th>\n",
       "      <th>Track</th>\n",
       "      <th>artist</th>\n",
       "      <th>genre</th>\n",
       "      <th>City</th>\n",
       "      <th>time</th>\n",
       "      <th>Day</th>\n",
       "    </tr>\n",
       "  </thead>\n",
       "  <tbody>\n",
       "    <tr>\n",
       "      <td>0</td>\n",
       "      <td>FFB692EC</td>\n",
       "      <td>Kamigata To Boots</td>\n",
       "      <td>The Mass Missile</td>\n",
       "      <td>rock</td>\n",
       "      <td>Shelbyville</td>\n",
       "      <td>20:28:33</td>\n",
       "      <td>Wednesday</td>\n",
       "    </tr>\n",
       "    <tr>\n",
       "      <td>1</td>\n",
       "      <td>55204538</td>\n",
       "      <td>Delayed Because of Accident</td>\n",
       "      <td>Andreas Rönnberg</td>\n",
       "      <td>rock</td>\n",
       "      <td>Springfield</td>\n",
       "      <td>14:07:09</td>\n",
       "      <td>Friday</td>\n",
       "    </tr>\n",
       "    <tr>\n",
       "      <td>2</td>\n",
       "      <td>20EC38</td>\n",
       "      <td>Funiculì funiculà</td>\n",
       "      <td>Mario Lanza</td>\n",
       "      <td>pop</td>\n",
       "      <td>Shelbyville</td>\n",
       "      <td>20:58:07</td>\n",
       "      <td>Wednesday</td>\n",
       "    </tr>\n",
       "    <tr>\n",
       "      <td>3</td>\n",
       "      <td>A3DD03C9</td>\n",
       "      <td>Dragons in the Sunset</td>\n",
       "      <td>Fire + Ice</td>\n",
       "      <td>folk</td>\n",
       "      <td>Shelbyville</td>\n",
       "      <td>08:37:09</td>\n",
       "      <td>Monday</td>\n",
       "    </tr>\n",
       "    <tr>\n",
       "      <td>4</td>\n",
       "      <td>E2DC1FAE</td>\n",
       "      <td>Soul People</td>\n",
       "      <td>Space Echo</td>\n",
       "      <td>dance</td>\n",
       "      <td>Springfield</td>\n",
       "      <td>08:34:34</td>\n",
       "      <td>Monday</td>\n",
       "    </tr>\n",
       "    <tr>\n",
       "      <td>5</td>\n",
       "      <td>842029A1</td>\n",
       "      <td>Chains</td>\n",
       "      <td>Obladaet</td>\n",
       "      <td>rusrap</td>\n",
       "      <td>Shelbyville</td>\n",
       "      <td>13:09:41</td>\n",
       "      <td>Friday</td>\n",
       "    </tr>\n",
       "    <tr>\n",
       "      <td>6</td>\n",
       "      <td>4CB90AA5</td>\n",
       "      <td>True</td>\n",
       "      <td>Roman Messer</td>\n",
       "      <td>dance</td>\n",
       "      <td>Springfield</td>\n",
       "      <td>13:00:07</td>\n",
       "      <td>Wednesday</td>\n",
       "    </tr>\n",
       "    <tr>\n",
       "      <td>7</td>\n",
       "      <td>F03E1C1F</td>\n",
       "      <td>Feeling This Way</td>\n",
       "      <td>Polina Griffith</td>\n",
       "      <td>dance</td>\n",
       "      <td>Springfield</td>\n",
       "      <td>20:47:49</td>\n",
       "      <td>Wednesday</td>\n",
       "    </tr>\n",
       "    <tr>\n",
       "      <td>8</td>\n",
       "      <td>8FA1D3BE</td>\n",
       "      <td>L’estate</td>\n",
       "      <td>Julia Dalia</td>\n",
       "      <td>ruspop</td>\n",
       "      <td>Springfield</td>\n",
       "      <td>09:17:40</td>\n",
       "      <td>Friday</td>\n",
       "    </tr>\n",
       "    <tr>\n",
       "      <td>9</td>\n",
       "      <td>E772D5C0</td>\n",
       "      <td>Pessimist</td>\n",
       "      <td>NaN</td>\n",
       "      <td>dance</td>\n",
       "      <td>Shelbyville</td>\n",
       "      <td>21:20:49</td>\n",
       "      <td>Wednesday</td>\n",
       "    </tr>\n",
       "  </tbody>\n",
       "</table>\n",
       "</div>"
      ],
      "text/plain": [
       "     userID                        Track            artist   genre  \\\n",
       "0  FFB692EC            Kamigata To Boots  The Mass Missile    rock   \n",
       "1  55204538  Delayed Because of Accident  Andreas Rönnberg    rock   \n",
       "2    20EC38            Funiculì funiculà       Mario Lanza     pop   \n",
       "3  A3DD03C9        Dragons in the Sunset        Fire + Ice    folk   \n",
       "4  E2DC1FAE                  Soul People        Space Echo   dance   \n",
       "5  842029A1                       Chains          Obladaet  rusrap   \n",
       "6  4CB90AA5                         True      Roman Messer   dance   \n",
       "7  F03E1C1F             Feeling This Way   Polina Griffith   dance   \n",
       "8  8FA1D3BE                     L’estate       Julia Dalia  ruspop   \n",
       "9  E772D5C0                    Pessimist               NaN   dance   \n",
       "\n",
       "        City        time        Day  \n",
       "0  Shelbyville  20:28:33  Wednesday  \n",
       "1  Springfield  14:07:09     Friday  \n",
       "2  Shelbyville  20:58:07  Wednesday  \n",
       "3  Shelbyville  08:37:09     Monday  \n",
       "4  Springfield  08:34:34     Monday  \n",
       "5  Shelbyville  13:09:41     Friday  \n",
       "6  Springfield  13:00:07  Wednesday  \n",
       "7  Springfield  20:47:49  Wednesday  \n",
       "8  Springfield  09:17:40     Friday  \n",
       "9  Shelbyville  21:20:49  Wednesday  "
      ]
     },
     "execution_count": 3,
     "metadata": {},
     "output_type": "execute_result"
    }
   ],
   "source": [
    "# obtaining the first 10 rows from the df table\n",
    "df.head(10)"
   ]
  },
  {
   "cell_type": "markdown",
   "metadata": {
    "id": "EO73Kwic_Zct"
   },
   "source": [
    "Obtaining the general information about the table with one command:"
   ]
  },
  {
   "cell_type": "code",
   "execution_count": 4,
   "metadata": {
    "id": "DSf2kIb-_Zct"
   },
   "outputs": [
    {
     "name": "stdout",
     "output_type": "stream",
     "text": [
      "<class 'pandas.core.frame.DataFrame'>\n",
      "RangeIndex: 65079 entries, 0 to 65078\n",
      "Data columns (total 7 columns):\n",
      "  userID    65079 non-null object\n",
      "Track       63736 non-null object\n",
      "artist      57512 non-null object\n",
      "genre       63881 non-null object\n",
      "  City      65079 non-null object\n",
      "time        65079 non-null object\n",
      "Day         65079 non-null object\n",
      "dtypes: object(7)\n",
      "memory usage: 3.5+ MB\n"
     ]
    }
   ],
   "source": [
    "# obtaining general information about the data in df\n",
    "df = pd.read_csv('/datasets/music_project_en.csv')\n",
    "df.info()"
   ]
  },
  {
   "cell_type": "markdown",
   "metadata": {
    "id": "TaQ2Iwbr_Zct"
   },
   "source": [
    "# The table contains seven columns. They all store the same data type: `object`.\n",
    "\n",
    "According to the documentation:\n",
    "- `'userID'` — user identifier\n",
    "- `'Track'` — track title\n",
    "- `'artist'` — artist's name\n",
    "- `'genre'`\n",
    "- `'City'` — user's city\n",
    "- `'time'` — the exact time the track was played\n",
    "- `'Day'` — day of the week\n",
    "\n",
    "We can see three issues with style in the column names:\n",
    "1. Some names are uppercase, some are lowercase.\n",
    "2. There are spaces in some names.\n",
    "3. `Detect the third issue yourself and describe it here`.\n",
    "\n",
    "The number of column values is different. This means the data contains missing values.\n"
   ]
  },
  {
   "cell_type": "markdown",
   "metadata": {
    "id": "MCB6-dXG_Zct"
   },
   "source": [
    "### Conclusions <a id='data_review_conclusions'></a> \n",
    "\n",
    "Each row in the table stores data on a track that was played. Some columns describe the track itself: its title, artist and genre. The rest convey information about the user: the city they come from, the time they played the track. \n",
    "\n",
    "It's clear that the data is sufficient to test the hypotheses. However, there are missing values.\n",
    "\n",
    "To move forward, we need to preprocess the data."
   ]
  },
  {
   "cell_type": "markdown",
   "metadata": {
    "id": "3eL__vcwViOi"
   },
   "source": [
    "[Back to Contents](#back)"
   ]
  },
  {
   "cell_type": "markdown",
   "metadata": {
    "id": "SjYF6Ub9_Zct"
   },
   "source": [
    "## Stage 2. Data preprocessing <a id='data_preprocessing'></a>\n",
    "Correct the formatting in the column headers and deal with the missing values. Then, check whether there are duplicates in the data."
   ]
  },
  {
   "cell_type": "markdown",
   "metadata": {
    "id": "dIaKXr29_Zct"
   },
   "source": [
    "### Header style <a id='header_style'></a>\n",
    "Print the column header:"
   ]
  },
  {
   "cell_type": "code",
   "execution_count": 5,
   "metadata": {
    "id": "oKOTdF_Q_Zct"
   },
   "outputs": [
    {
     "name": "stdout",
     "output_type": "stream",
     "text": [
      "Index(['  userID', 'Track', 'artist', 'genre', '  City  ', 'time', 'Day'], dtype='object')\n"
     ]
    }
   ],
   "source": [
    "# the list of column names in the df table\n",
    "print(df.columns)"
   ]
  },
  {
   "cell_type": "markdown",
   "metadata": {
    "id": "zj5534cv_Zct"
   },
   "source": [
    "Change column names according to the rules of good style:\n",
    "* If the name has several words, use snake_case\n",
    "* All characters must be lowercase\n",
    "* Delete spaces"
   ]
  },
  {
   "cell_type": "code",
   "execution_count": 6,
   "metadata": {
    "id": "ISlFqs5y_Zct"
   },
   "outputs": [],
   "source": [
    "# renaming columns\n",
    "df.rename(columns = {'  userID':'user_id', 'Track':'track', 'artist':'artist', 'genre':'genre', '  City  ':'city', 'time':'time', 'Day':'day'},inplace=True)"
   ]
  },
  {
   "cell_type": "markdown",
   "metadata": {
    "id": "1dqbh00J_Zct"
   },
   "source": [
    "Check the result. Print the names of the columns once more:"
   ]
  },
  {
   "cell_type": "code",
   "execution_count": 7,
   "metadata": {
    "id": "d4NOAmTW_Zct"
   },
   "outputs": [
    {
     "name": "stdout",
     "output_type": "stream",
     "text": [
      "Index(['user_id', 'track', 'artist', 'genre', 'city', 'time', 'day'], dtype='object')\n"
     ]
    }
   ],
   "source": [
    "# checking result: the list of column names\n",
    "print(df.columns)"
   ]
  },
  {
   "cell_type": "markdown",
   "metadata": {
    "id": "xYJk6ksJVpOl"
   },
   "source": [
    "[Back to Contents](#back)"
   ]
  },
  {
   "cell_type": "markdown",
   "metadata": {
    "id": "5ISfbcfY_Zct"
   },
   "source": [
    "### Missing values <a id='missing_values'></a>\n",
    "First, find the number of missing values in the table. To do so, use two `pandas` methods:"
   ]
  },
  {
   "cell_type": "code",
   "execution_count": 8,
   "metadata": {
    "id": "RskX29qr_Zct"
   },
   "outputs": [
    {
     "data": {
      "text/plain": [
       "user_id       0\n",
       "track      1343\n",
       "artist     7567\n",
       "genre      1198\n",
       "city          0\n",
       "time          0\n",
       "day           0\n",
       "dtype: int64"
      ]
     },
     "execution_count": 8,
     "metadata": {},
     "output_type": "execute_result"
    }
   ],
   "source": [
    "# calculating missing values\n",
    "df.isna().sum()"
   ]
  },
  {
   "cell_type": "markdown",
   "metadata": {
    "id": "qubhgnlO_Zct"
   },
   "source": [
    "Not all missing values affect the research. For instance, the missing values in `track` and `artist` are not critical. You can simply replace them with clear markers.\n",
    "\n",
    "But missing values in `'genre'` can affect the comparison of music preferences in Springfield and Shelbyville. In real life, it would be useful to learn the reasons why the data is missing and try to make up for them. But we do not have that opportunity in this project. So you will have to:\n",
    "* Fill in these missing values with markers\n",
    "* Evaluate how much the missing values may affect your computations"
   ]
  },
  {
   "cell_type": "markdown",
   "metadata": {
    "id": "fSv2laPA_Zct"
   },
   "source": [
    "Replace the missing values in `'track'`, `'artist'`, and `'genre'` with the string `'unknown'`. To do this, create the `columns_to_replace` list, loop over it with `for`, and replace the missing values in each of the columns:"
   ]
  },
  {
   "cell_type": "code",
   "execution_count": 9,
   "metadata": {
    "id": "KplB5qWs_Zct"
   },
   "outputs": [],
   "source": [
    "# looping over column names and replacing missing values with 'unknown'\n",
    "columns_to_replace = ['track', 'artist', 'genre']\n",
    "\n",
    "for columns in columns_to_replace:\n",
    "    df[columns] = df[columns].fillna('unknown')"
   ]
  },
  {
   "cell_type": "markdown",
   "metadata": {
    "id": "Ilsm-MZo_Zct"
   },
   "source": [
    "Make sure the table contains no more missing values. Count the missing values again."
   ]
  },
  {
   "cell_type": "code",
   "execution_count": 10,
   "metadata": {
    "id": "Tq4nYRX4_Zct"
   },
   "outputs": [
    {
     "data": {
      "text/plain": [
       "user_id    0.0\n",
       "track      0.0\n",
       "artist     0.0\n",
       "genre      0.0\n",
       "city       0.0\n",
       "time       0.0\n",
       "day        0.0\n",
       "dtype: float64"
      ]
     },
     "execution_count": 10,
     "metadata": {},
     "output_type": "execute_result"
    }
   ],
   "source": [
    "# counting missing values\n",
    "df.isna().sum() * 100 / len(df)"
   ]
  },
  {
   "cell_type": "markdown",
   "metadata": {
    "id": "74ZIBmq9VrsK"
   },
   "source": [
    "[Back to Contents](#back)"
   ]
  },
  {
   "cell_type": "markdown",
   "metadata": {
    "id": "BWKRtBJ3_Zct"
   },
   "source": [
    "### Duplicates <a id='duplicates'></a>\n",
    "Find the number of obvious duplicates in the table using one command:"
   ]
  },
  {
   "cell_type": "code",
   "execution_count": 11,
   "metadata": {
    "id": "36eES_S0_Zct"
   },
   "outputs": [
    {
     "data": {
      "text/plain": [
       "3826"
      ]
     },
     "execution_count": 11,
     "metadata": {},
     "output_type": "execute_result"
    }
   ],
   "source": [
    "# counting clear duplicates\n",
    "df.duplicated().sum()"
   ]
  },
  {
   "cell_type": "markdown",
   "metadata": {
    "id": "Ot25h6XR_Zct"
   },
   "source": [
    "Call the `pandas` method for getting rid of obvious duplicates:"
   ]
  },
  {
   "cell_type": "code",
   "execution_count": 12,
   "metadata": {
    "id": "exFHq6tt_Zct"
   },
   "outputs": [
    {
     "data": {
      "text/plain": [
       "<bound method NDFrame.head of         user_id                              track            artist  \\\n",
       "0      FFB692EC                  Kamigata To Boots  The Mass Missile   \n",
       "1      55204538        Delayed Because of Accident  Andreas Rönnberg   \n",
       "2        20EC38                  Funiculì funiculà       Mario Lanza   \n",
       "3      A3DD03C9              Dragons in the Sunset        Fire + Ice   \n",
       "4      E2DC1FAE                        Soul People        Space Echo   \n",
       "...         ...                                ...               ...   \n",
       "65074  729CBB09                            My Name            McLean   \n",
       "65075  D08D4A55  Maybe One Day (feat. Black Spade)       Blu & Exile   \n",
       "65076  C5E3A0D5                          Jalopiina           unknown   \n",
       "65077  321D0506                      Freight Train     Chas McDevitt   \n",
       "65078  3A64EF84          Tell Me Sweet Little Lies      Monica Lopez   \n",
       "\n",
       "            genre         city      time        day  \n",
       "0            rock  Shelbyville  20:28:33  Wednesday  \n",
       "1            rock  Springfield  14:07:09     Friday  \n",
       "2             pop  Shelbyville  20:58:07  Wednesday  \n",
       "3            folk  Shelbyville  08:37:09     Monday  \n",
       "4           dance  Springfield  08:34:34     Monday  \n",
       "...           ...          ...       ...        ...  \n",
       "65074         rnb  Springfield  13:32:28  Wednesday  \n",
       "65075         hip  Shelbyville  10:00:00     Monday  \n",
       "65076  industrial  Springfield  20:09:26     Friday  \n",
       "65077        rock  Springfield  21:43:59     Friday  \n",
       "65078     country  Springfield  21:59:46     Friday  \n",
       "\n",
       "[61253 rows x 7 columns]>"
      ]
     },
     "metadata": {},
     "output_type": "display_data"
    }
   ],
   "source": [
    "# removing obvious duplicates\n",
    "df = df.drop_duplicates()\n",
    "\n",
    "display(df.head)"
   ]
  },
  {
   "cell_type": "markdown",
   "metadata": {
    "id": "Im2YwBEG_Zct"
   },
   "source": [
    "Count obvious duplicates once more to make sure you have removed all of them:"
   ]
  },
  {
   "cell_type": "code",
   "execution_count": 13,
   "metadata": {
    "id": "-8PuNWQ0_Zct"
   },
   "outputs": [
    {
     "data": {
      "text/plain": [
       "0"
      ]
     },
     "execution_count": 13,
     "metadata": {},
     "output_type": "execute_result"
    }
   ],
   "source": [
    "# checking for duplicates\n",
    "df.duplicated().sum()"
   ]
  },
  {
   "cell_type": "markdown",
   "metadata": {
    "id": "QlFBsxAr_Zct"
   },
   "source": [
    "Now get rid of implicit duplicates in the `genre` column. For example, the name of a genre can be written in different ways. Such errors will also affect the result."
   ]
  },
  {
   "cell_type": "markdown",
   "metadata": {
    "id": "eSjWwsOh_Zct"
   },
   "source": [
    "Print a list of unique genre names, sorted in alphabetical order. To do so:\n",
    "* Retrieve the intended DataFrame column \n",
    "* Apply a sorting method to it\n",
    "* For the sorted column, call the method that will return all unique column values"
   ]
  },
  {
   "cell_type": "code",
   "execution_count": 14,
   "metadata": {
    "id": "JIUcqzZN_Zct"
   },
   "outputs": [
    {
     "data": {
      "text/plain": [
       "['acid',\n",
       " 'acoustic',\n",
       " 'action',\n",
       " 'adult',\n",
       " 'africa',\n",
       " 'afrikaans',\n",
       " 'alternative',\n",
       " 'ambient',\n",
       " 'americana',\n",
       " 'animated',\n",
       " 'anime',\n",
       " 'arabesk',\n",
       " 'arabic',\n",
       " 'arena',\n",
       " 'argentinetango',\n",
       " 'art',\n",
       " 'audiobook',\n",
       " 'avantgarde',\n",
       " 'axé',\n",
       " 'baile',\n",
       " 'balkan',\n",
       " 'beats',\n",
       " 'bigroom',\n",
       " 'black',\n",
       " 'bluegrass',\n",
       " 'blues',\n",
       " 'bollywood',\n",
       " 'bossa',\n",
       " 'brazilian',\n",
       " 'breakbeat',\n",
       " 'breaks',\n",
       " 'broadway',\n",
       " 'cantautori',\n",
       " 'cantopop',\n",
       " 'canzone',\n",
       " 'caribbean',\n",
       " 'caucasian',\n",
       " 'celtic',\n",
       " 'chamber',\n",
       " 'children',\n",
       " 'chill',\n",
       " 'chinese',\n",
       " 'choral',\n",
       " 'christian',\n",
       " 'christmas',\n",
       " 'classical',\n",
       " 'classicmetal',\n",
       " 'club',\n",
       " 'colombian',\n",
       " 'comedy',\n",
       " 'conjazz',\n",
       " 'contemporary',\n",
       " 'country',\n",
       " 'cuban',\n",
       " 'dance',\n",
       " 'dancehall',\n",
       " 'dancepop',\n",
       " 'dark',\n",
       " 'death',\n",
       " 'deep',\n",
       " 'deutschrock',\n",
       " 'deutschspr',\n",
       " 'dirty',\n",
       " 'disco',\n",
       " 'dnb',\n",
       " 'documentary',\n",
       " 'downbeat',\n",
       " 'downtempo',\n",
       " 'drum',\n",
       " 'dub',\n",
       " 'dubstep',\n",
       " 'eastern',\n",
       " 'easy',\n",
       " 'electronic',\n",
       " 'electropop',\n",
       " 'emo',\n",
       " 'entehno',\n",
       " 'epicmetal',\n",
       " 'estrada',\n",
       " 'ethnic',\n",
       " 'eurofolk',\n",
       " 'european',\n",
       " 'experimental',\n",
       " 'extrememetal',\n",
       " 'fado',\n",
       " 'film',\n",
       " 'fitness',\n",
       " 'flamenco',\n",
       " 'folk',\n",
       " 'folklore',\n",
       " 'folkmetal',\n",
       " 'folkrock',\n",
       " 'folktronica',\n",
       " 'forró',\n",
       " 'frankreich',\n",
       " 'französisch',\n",
       " 'french',\n",
       " 'funk',\n",
       " 'future',\n",
       " 'gangsta',\n",
       " 'garage',\n",
       " 'german',\n",
       " 'ghazal',\n",
       " 'gitarre',\n",
       " 'glitch',\n",
       " 'gospel',\n",
       " 'gothic',\n",
       " 'grime',\n",
       " 'grunge',\n",
       " 'gypsy',\n",
       " 'handsup',\n",
       " \"hard'n'heavy\",\n",
       " 'hardcore',\n",
       " 'hardstyle',\n",
       " 'hardtechno',\n",
       " 'hip',\n",
       " 'hip-hop',\n",
       " 'hiphop',\n",
       " 'historisch',\n",
       " 'holiday',\n",
       " 'hop',\n",
       " 'horror',\n",
       " 'house',\n",
       " 'idm',\n",
       " 'independent',\n",
       " 'indian',\n",
       " 'indie',\n",
       " 'indipop',\n",
       " 'industrial',\n",
       " 'inspirational',\n",
       " 'instrumental',\n",
       " 'international',\n",
       " 'irish',\n",
       " 'jam',\n",
       " 'japanese',\n",
       " 'jazz',\n",
       " 'jewish',\n",
       " 'jpop',\n",
       " 'jungle',\n",
       " 'k-pop',\n",
       " 'karadeniz',\n",
       " 'karaoke',\n",
       " 'kayokyoku',\n",
       " 'korean',\n",
       " 'laiko',\n",
       " 'latin',\n",
       " 'latino',\n",
       " 'leftfield',\n",
       " 'local',\n",
       " 'lounge',\n",
       " 'loungeelectronic',\n",
       " 'lovers',\n",
       " 'malaysian',\n",
       " 'mandopop',\n",
       " 'marschmusik',\n",
       " 'meditative',\n",
       " 'mediterranean',\n",
       " 'melodic',\n",
       " 'metal',\n",
       " 'metalcore',\n",
       " 'mexican',\n",
       " 'middle',\n",
       " 'minimal',\n",
       " 'miscellaneous',\n",
       " 'modern',\n",
       " 'mood',\n",
       " 'mpb',\n",
       " 'muslim',\n",
       " 'native',\n",
       " 'neoklassik',\n",
       " 'neue',\n",
       " 'new',\n",
       " 'newage',\n",
       " 'newwave',\n",
       " 'nu',\n",
       " 'nujazz',\n",
       " 'numetal',\n",
       " 'oceania',\n",
       " 'old',\n",
       " 'opera',\n",
       " 'orchestral',\n",
       " 'other',\n",
       " 'piano',\n",
       " 'pop',\n",
       " 'popelectronic',\n",
       " 'popeurodance',\n",
       " 'post',\n",
       " 'posthardcore',\n",
       " 'postrock',\n",
       " 'power',\n",
       " 'progmetal',\n",
       " 'progressive',\n",
       " 'psychedelic',\n",
       " 'punjabi',\n",
       " 'punk',\n",
       " 'quebecois',\n",
       " 'ragga',\n",
       " 'ram',\n",
       " 'rancheras',\n",
       " 'rap',\n",
       " 'rave',\n",
       " 'reggae',\n",
       " 'reggaeton',\n",
       " 'regional',\n",
       " 'relax',\n",
       " 'religious',\n",
       " 'retro',\n",
       " 'rhythm',\n",
       " 'rnb',\n",
       " 'rnr',\n",
       " 'rock',\n",
       " 'rockabilly',\n",
       " 'romance',\n",
       " 'roots',\n",
       " 'ruspop',\n",
       " 'rusrap',\n",
       " 'rusrock',\n",
       " 'salsa',\n",
       " 'samba',\n",
       " 'schlager',\n",
       " 'self',\n",
       " 'sertanejo',\n",
       " 'shoegazing',\n",
       " 'showtunes',\n",
       " 'singer',\n",
       " 'ska',\n",
       " 'slow',\n",
       " 'smooth',\n",
       " 'soul',\n",
       " 'soulful',\n",
       " 'sound',\n",
       " 'soundtrack',\n",
       " 'southern',\n",
       " 'specialty',\n",
       " 'speech',\n",
       " 'spiritual',\n",
       " 'sport',\n",
       " 'stonerrock',\n",
       " 'surf',\n",
       " 'swing',\n",
       " 'synthpop',\n",
       " 'sängerportrait',\n",
       " 'tango',\n",
       " 'tanzorchester',\n",
       " 'taraftar',\n",
       " 'tech',\n",
       " 'techno',\n",
       " 'thrash',\n",
       " 'top',\n",
       " 'traditional',\n",
       " 'tradjazz',\n",
       " 'trance',\n",
       " 'tribal',\n",
       " 'trip',\n",
       " 'triphop',\n",
       " 'tropical',\n",
       " 'türk',\n",
       " 'türkçe',\n",
       " 'unknown',\n",
       " 'urban',\n",
       " 'uzbek',\n",
       " 'variété',\n",
       " 'vi',\n",
       " 'videogame',\n",
       " 'vocal',\n",
       " 'western',\n",
       " 'world',\n",
       " 'worldbeat',\n",
       " 'ïîï']"
      ]
     },
     "execution_count": 14,
     "metadata": {},
     "output_type": "execute_result"
    }
   ],
   "source": [
    "# viewing unique genre names\n",
    "sorted(df['genre'].unique())"
   ]
  },
  {
   "cell_type": "markdown",
   "metadata": {
    "id": "qej-Qmuo_Zct"
   },
   "source": [
    "Look through the list to find implicit duplicates of the genre `hiphop`. These could be names written incorrectly or alternative names of the same genre.\n",
    "\n",
    "You will see the following implicit duplicates:\n",
    "* `hip`\n",
    "* `hop`\n",
    "* `hip-hop`\n",
    "\n",
    "To get rid of them, declare the function `replace_wrong_genres()` with two parameters: \n",
    "* `wrong_genres=` — the list of duplicates\n",
    "* `correct_genre=` — the string with the correct value\n",
    "\n",
    "The function should correct the names in the `'genre'` column from the `df` table, i.e. replace each value from the `wrong_genres` list with the value in `correct_genre`."
   ]
  },
  {
   "cell_type": "code",
   "execution_count": 15,
   "metadata": {
    "id": "ErNDkmns_Zct"
   },
   "outputs": [],
   "source": [
    "# function for replacing implicit duplicates\n",
    "def replace_wrong_genres(wrong_genres, correct_genre):\n",
    "    for wrong_genre in wrong_genres:\n",
    "        df['genre'] = df['genre'].replace(wrong_genres, correct_genre)\n",
    "        \n",
    "wrong_genres = ['hip', 'hop', 'hip-hop']\n",
    "correct_genre= 'hiphop'\n",
    "\n",
    "replace_wrong_genres(wrong_genres, correct_genre)\n"
   ]
  },
  {
   "cell_type": "markdown",
   "metadata": {
    "id": "aDoBJxbA_Zct"
   },
   "source": [
    "Call `replace_wrong_genres()` and pass it arguments so that it clears implicit duplcates (`hip`, `hop`, and `hip-hop`) and replaces them with `hiphop`:"
   ]
  },
  {
   "cell_type": "code",
   "execution_count": 16,
   "metadata": {
    "id": "YN5i2hpmSo09",
    "scrolled": true
   },
   "outputs": [
    {
     "name": "stdout",
     "output_type": "stream",
     "text": [
      "<bound method NDFrame.head of         user_id                              track            artist  \\\n",
      "0      FFB692EC                  Kamigata To Boots  The Mass Missile   \n",
      "1      55204538        Delayed Because of Accident  Andreas Rönnberg   \n",
      "2        20EC38                  Funiculì funiculà       Mario Lanza   \n",
      "3      A3DD03C9              Dragons in the Sunset        Fire + Ice   \n",
      "4      E2DC1FAE                        Soul People        Space Echo   \n",
      "...         ...                                ...               ...   \n",
      "65074  729CBB09                            My Name            McLean   \n",
      "65075  D08D4A55  Maybe One Day (feat. Black Spade)       Blu & Exile   \n",
      "65076  C5E3A0D5                          Jalopiina           unknown   \n",
      "65077  321D0506                      Freight Train     Chas McDevitt   \n",
      "65078  3A64EF84          Tell Me Sweet Little Lies      Monica Lopez   \n",
      "\n",
      "            genre         city      time        day  \n",
      "0            rock  Shelbyville  20:28:33  Wednesday  \n",
      "1            rock  Springfield  14:07:09     Friday  \n",
      "2             pop  Shelbyville  20:58:07  Wednesday  \n",
      "3            folk  Shelbyville  08:37:09     Monday  \n",
      "4           dance  Springfield  08:34:34     Monday  \n",
      "...           ...          ...       ...        ...  \n",
      "65074         rnb  Springfield  13:32:28  Wednesday  \n",
      "65075      hiphop  Shelbyville  10:00:00     Monday  \n",
      "65076  industrial  Springfield  20:09:26     Friday  \n",
      "65077        rock  Springfield  21:43:59     Friday  \n",
      "65078     country  Springfield  21:59:46     Friday  \n",
      "\n",
      "[61253 rows x 7 columns]>\n"
     ]
    }
   ],
   "source": [
    "# removing implicit duplicates\n",
    "df = df.drop_duplicates()\n",
    "\n",
    "print(df.head)"
   ]
  },
  {
   "cell_type": "markdown",
   "metadata": {
    "id": "zQKF16_RG15m"
   },
   "source": [
    "Make sure the duplicate names were removed. Print the list of unique values from the `'genre'` column:"
   ]
  },
  {
   "cell_type": "code",
   "execution_count": 17,
   "metadata": {
    "id": "wvixALnFG15m"
   },
   "outputs": [
    {
     "data": {
      "text/plain": [
       "['acid',\n",
       " 'acoustic',\n",
       " 'action',\n",
       " 'adult',\n",
       " 'africa',\n",
       " 'afrikaans',\n",
       " 'alternative',\n",
       " 'ambient',\n",
       " 'americana',\n",
       " 'animated',\n",
       " 'anime',\n",
       " 'arabesk',\n",
       " 'arabic',\n",
       " 'arena',\n",
       " 'argentinetango',\n",
       " 'art',\n",
       " 'audiobook',\n",
       " 'avantgarde',\n",
       " 'axé',\n",
       " 'baile',\n",
       " 'balkan',\n",
       " 'beats',\n",
       " 'bigroom',\n",
       " 'black',\n",
       " 'bluegrass',\n",
       " 'blues',\n",
       " 'bollywood',\n",
       " 'bossa',\n",
       " 'brazilian',\n",
       " 'breakbeat',\n",
       " 'breaks',\n",
       " 'broadway',\n",
       " 'cantautori',\n",
       " 'cantopop',\n",
       " 'canzone',\n",
       " 'caribbean',\n",
       " 'caucasian',\n",
       " 'celtic',\n",
       " 'chamber',\n",
       " 'children',\n",
       " 'chill',\n",
       " 'chinese',\n",
       " 'choral',\n",
       " 'christian',\n",
       " 'christmas',\n",
       " 'classical',\n",
       " 'classicmetal',\n",
       " 'club',\n",
       " 'colombian',\n",
       " 'comedy',\n",
       " 'conjazz',\n",
       " 'contemporary',\n",
       " 'country',\n",
       " 'cuban',\n",
       " 'dance',\n",
       " 'dancehall',\n",
       " 'dancepop',\n",
       " 'dark',\n",
       " 'death',\n",
       " 'deep',\n",
       " 'deutschrock',\n",
       " 'deutschspr',\n",
       " 'dirty',\n",
       " 'disco',\n",
       " 'dnb',\n",
       " 'documentary',\n",
       " 'downbeat',\n",
       " 'downtempo',\n",
       " 'drum',\n",
       " 'dub',\n",
       " 'dubstep',\n",
       " 'eastern',\n",
       " 'easy',\n",
       " 'electronic',\n",
       " 'electropop',\n",
       " 'emo',\n",
       " 'entehno',\n",
       " 'epicmetal',\n",
       " 'estrada',\n",
       " 'ethnic',\n",
       " 'eurofolk',\n",
       " 'european',\n",
       " 'experimental',\n",
       " 'extrememetal',\n",
       " 'fado',\n",
       " 'film',\n",
       " 'fitness',\n",
       " 'flamenco',\n",
       " 'folk',\n",
       " 'folklore',\n",
       " 'folkmetal',\n",
       " 'folkrock',\n",
       " 'folktronica',\n",
       " 'forró',\n",
       " 'frankreich',\n",
       " 'französisch',\n",
       " 'french',\n",
       " 'funk',\n",
       " 'future',\n",
       " 'gangsta',\n",
       " 'garage',\n",
       " 'german',\n",
       " 'ghazal',\n",
       " 'gitarre',\n",
       " 'glitch',\n",
       " 'gospel',\n",
       " 'gothic',\n",
       " 'grime',\n",
       " 'grunge',\n",
       " 'gypsy',\n",
       " 'handsup',\n",
       " \"hard'n'heavy\",\n",
       " 'hardcore',\n",
       " 'hardstyle',\n",
       " 'hardtechno',\n",
       " 'hiphop',\n",
       " 'historisch',\n",
       " 'holiday',\n",
       " 'horror',\n",
       " 'house',\n",
       " 'idm',\n",
       " 'independent',\n",
       " 'indian',\n",
       " 'indie',\n",
       " 'indipop',\n",
       " 'industrial',\n",
       " 'inspirational',\n",
       " 'instrumental',\n",
       " 'international',\n",
       " 'irish',\n",
       " 'jam',\n",
       " 'japanese',\n",
       " 'jazz',\n",
       " 'jewish',\n",
       " 'jpop',\n",
       " 'jungle',\n",
       " 'k-pop',\n",
       " 'karadeniz',\n",
       " 'karaoke',\n",
       " 'kayokyoku',\n",
       " 'korean',\n",
       " 'laiko',\n",
       " 'latin',\n",
       " 'latino',\n",
       " 'leftfield',\n",
       " 'local',\n",
       " 'lounge',\n",
       " 'loungeelectronic',\n",
       " 'lovers',\n",
       " 'malaysian',\n",
       " 'mandopop',\n",
       " 'marschmusik',\n",
       " 'meditative',\n",
       " 'mediterranean',\n",
       " 'melodic',\n",
       " 'metal',\n",
       " 'metalcore',\n",
       " 'mexican',\n",
       " 'middle',\n",
       " 'minimal',\n",
       " 'miscellaneous',\n",
       " 'modern',\n",
       " 'mood',\n",
       " 'mpb',\n",
       " 'muslim',\n",
       " 'native',\n",
       " 'neoklassik',\n",
       " 'neue',\n",
       " 'new',\n",
       " 'newage',\n",
       " 'newwave',\n",
       " 'nu',\n",
       " 'nujazz',\n",
       " 'numetal',\n",
       " 'oceania',\n",
       " 'old',\n",
       " 'opera',\n",
       " 'orchestral',\n",
       " 'other',\n",
       " 'piano',\n",
       " 'pop',\n",
       " 'popelectronic',\n",
       " 'popeurodance',\n",
       " 'post',\n",
       " 'posthardcore',\n",
       " 'postrock',\n",
       " 'power',\n",
       " 'progmetal',\n",
       " 'progressive',\n",
       " 'psychedelic',\n",
       " 'punjabi',\n",
       " 'punk',\n",
       " 'quebecois',\n",
       " 'ragga',\n",
       " 'ram',\n",
       " 'rancheras',\n",
       " 'rap',\n",
       " 'rave',\n",
       " 'reggae',\n",
       " 'reggaeton',\n",
       " 'regional',\n",
       " 'relax',\n",
       " 'religious',\n",
       " 'retro',\n",
       " 'rhythm',\n",
       " 'rnb',\n",
       " 'rnr',\n",
       " 'rock',\n",
       " 'rockabilly',\n",
       " 'romance',\n",
       " 'roots',\n",
       " 'ruspop',\n",
       " 'rusrap',\n",
       " 'rusrock',\n",
       " 'salsa',\n",
       " 'samba',\n",
       " 'schlager',\n",
       " 'self',\n",
       " 'sertanejo',\n",
       " 'shoegazing',\n",
       " 'showtunes',\n",
       " 'singer',\n",
       " 'ska',\n",
       " 'slow',\n",
       " 'smooth',\n",
       " 'soul',\n",
       " 'soulful',\n",
       " 'sound',\n",
       " 'soundtrack',\n",
       " 'southern',\n",
       " 'specialty',\n",
       " 'speech',\n",
       " 'spiritual',\n",
       " 'sport',\n",
       " 'stonerrock',\n",
       " 'surf',\n",
       " 'swing',\n",
       " 'synthpop',\n",
       " 'sängerportrait',\n",
       " 'tango',\n",
       " 'tanzorchester',\n",
       " 'taraftar',\n",
       " 'tech',\n",
       " 'techno',\n",
       " 'thrash',\n",
       " 'top',\n",
       " 'traditional',\n",
       " 'tradjazz',\n",
       " 'trance',\n",
       " 'tribal',\n",
       " 'trip',\n",
       " 'triphop',\n",
       " 'tropical',\n",
       " 'türk',\n",
       " 'türkçe',\n",
       " 'unknown',\n",
       " 'urban',\n",
       " 'uzbek',\n",
       " 'variété',\n",
       " 'vi',\n",
       " 'videogame',\n",
       " 'vocal',\n",
       " 'western',\n",
       " 'world',\n",
       " 'worldbeat',\n",
       " 'ïîï']"
      ]
     },
     "execution_count": 17,
     "metadata": {},
     "output_type": "execute_result"
    }
   ],
   "source": [
    "sorted(df['genre'].unique())"
   ]
  },
  {
   "cell_type": "markdown",
   "metadata": {
    "id": "ALgNbvF3VtPA"
   },
   "source": [
    "[Back to Contents](#back)"
   ]
  },
  {
   "cell_type": "markdown",
   "metadata": {
    "id": "jz6a9-7HQUDd"
   },
   "source": [
    "### Conclusions <a id='data_preprocessing_conclusions'></a>\n",
    "We detected three issues with the data:\n",
    "\n",
    "- Incorrect header styles\n",
    "- Missing values\n",
    "- Obvious and implicit duplicates\n",
    "\n",
    "The headers have been cleaned up to make processing the table simpler.\n",
    "\n",
    "All missing values have been replaced with `'unknown'`. But we still have to see whether the missing values in `'genre'` will affect our calculations.\n",
    "\n",
    "The absence of duplicates will make the results more precise and easier to understand.\n",
    "\n",
    "Now we can move on to testing hypotheses. "
   ]
  },
  {
   "cell_type": "markdown",
   "metadata": {
    "id": "eK1es74rVujj"
   },
   "source": [
    "[Back to Contents](#back)"
   ]
  },
  {
   "cell_type": "markdown",
   "metadata": {
    "id": "WttZHXH0SqKk"
   },
   "source": [
    "## Stage 3. Testing hypotheses <a id='hypotheses'></a>"
   ]
  },
  {
   "cell_type": "markdown",
   "metadata": {
    "id": "Im936VVi_Zcu"
   },
   "source": [
    "### Hypothesis 1: comparing user behavior in two cities <a id='activity'></a>"
   ]
  },
  {
   "cell_type": "markdown",
   "metadata": {
    "id": "nwt_MuaL_Zcu"
   },
   "source": [
    "According to the first hypothesis, users from Springfield and Shelbyville listen to music differently. Test this using the data on three days of the week: Monday, Wednesday, and Friday.\n",
    "\n",
    "* Divide the users into groups by city.\n",
    "* Compare how many tracks each group played on Monday, Wednesday, and Friday.\n"
   ]
  },
  {
   "cell_type": "markdown",
   "metadata": {
    "id": "8Dw_YMmT_Zcu"
   },
   "source": [
    "For the sake of practice, perform each computation separately. \n",
    "\n",
    "Evaluate user activity in each city. Group the data by city and find the number of songs played in each group.\n",
    "\n"
   ]
  },
  {
   "cell_type": "code",
   "execution_count": 18,
   "metadata": {
    "id": "0_Qs96oh_Zcu"
   },
   "outputs": [
    {
     "name": "stdout",
     "output_type": "stream",
     "text": [
      "<pandas.core.groupby.generic.DataFrameGroupBy object at 0x7f77f2b99090>\n",
      "\n",
      "city\n",
      "Shelbyville    18512\n",
      "Springfield    42741\n",
      "Name: track, dtype: int64\n"
     ]
    }
   ],
   "source": [
    "# Counting up the tracks played in each city\n",
    "print(df.groupby('city'))\n",
    "print()\n",
    "print(df.groupby('city')['track'].count())"
   ]
  },
  {
   "cell_type": "markdown",
   "metadata": {
    "id": "dzli3w8o_Zcu"
   },
   "source": [
    "Springfield has more tracks played than Shelbyville. But that does not imply that citizens of Springfield listen to music more often. This city is simply bigger, and there are more users.\n",
    "\n",
    "Now group the data by day of the week and find the number of tracks played on Monday, Wednesday, and Friday.\n"
   ]
  },
  {
   "cell_type": "code",
   "execution_count": 19,
   "metadata": {
    "id": "uZMKjiJz_Zcu"
   },
   "outputs": [
    {
     "name": "stdout",
     "output_type": "stream",
     "text": [
      "<pandas.core.groupby.generic.DataFrameGroupBy object at 0x7f77f284e7d0>\n",
      "\n",
      "day\n",
      "Friday       21840\n",
      "Monday       21354\n",
      "Wednesday    18059\n",
      "Name: track, dtype: int64\n"
     ]
    }
   ],
   "source": [
    "# Calculating tracks played on each of the three days\n",
    "print(df.groupby('day'))\n",
    "print()\n",
    "print(df.groupby('day')['track'].count())"
   ]
  },
  {
   "cell_type": "markdown",
   "metadata": {
    "id": "cC2tNrlL_Zcu"
   },
   "source": [
    "Wednesday is the quietest day overall. But if we consider the two cities separately, we might come to a different conclusion."
   ]
  },
  {
   "cell_type": "markdown",
   "metadata": {
    "id": "POzs8bGa_Zcu"
   },
   "source": [
    "You have seen how grouping by city or day works. Now write a function that will group by both.\n",
    "\n",
    "Create the `number_tracks()` function to calculate the number of songs played for a given day and city. It will require two parameters:\n",
    "* day of the week\n",
    "* name of the city\n",
    "\n",
    "In the function, use a variable to store the rows from the original table, where:\n",
    "  * `'day'` column value is equal to the `day` parameter\n",
    "  * `'city'` column value is equal to the `city` parameter\n",
    "\n",
    "Apply consecutive filtering with logical indexing.\n",
    "\n",
    "Then calculate the `'user_id'` column values in the resulting table. Store the result to a new variable. Return this variable from the function."
   ]
  },
  {
   "cell_type": "code",
   "execution_count": 20,
   "metadata": {
    "id": "Nz3GdQB1_Zcu"
   },
   "outputs": [],
   "source": [
    "# <creating the function number_tracks()>\n",
    "# We'll declare a function with two parameters: day=, city=.\n",
    "# Let the track_list variable store the df rows where\n",
    "# the value in the 'day' column is equal to the day= parameter and, at the same time, \n",
    "# the value in the 'city' column is equal to the city= parameter (apply consecutive filtering \n",
    "# with logical indexing).\n",
    "# Let the track_list_count variable store the number of 'user_id' column values in track_list\n",
    "# (found with the count() method).\n",
    "# Let the function return a number: the value of track_list_count.\n",
    "\n",
    "# The function counts tracked played for a certain city and day.\n",
    "# It first retrieves the rows with the intended day from the table,\n",
    "# then filters out the rows with the intended city from the result,\n",
    "# then finds the number of 'user_id' values in the filtered table,\n",
    "# then returns that number.\n",
    "# To see what it returns, wrap the function call in print().\n",
    "def number_tracks(day, city):\n",
    "    track_list = df[df['day'] == day]\n",
    "    track_list = track_list[track_list['city'] == city]\n",
    "    track_list_count = track_list['user_id'].count()\n",
    "    return track_list_count"
   ]
  },
  {
   "cell_type": "markdown",
   "metadata": {
    "id": "ytf7xFrFJQ2r"
   },
   "source": [
    "Call `number_tracks()` six times, changing the parameter values, so that you retrieve the data on both cities for each of the three days."
   ]
  },
  {
   "cell_type": "code",
   "execution_count": 21,
   "metadata": {
    "id": "rJcRATNQ_Zcu"
   },
   "outputs": [
    {
     "name": "stdout",
     "output_type": "stream",
     "text": [
      "15740\n"
     ]
    }
   ],
   "source": [
    "# the number of songs played in Springfield on Monday\n",
    "print(number_tracks('Monday', 'Springfield'))"
   ]
  },
  {
   "cell_type": "code",
   "execution_count": 22,
   "metadata": {
    "id": "hq_ncZ5T_Zcu"
   },
   "outputs": [
    {
     "name": "stdout",
     "output_type": "stream",
     "text": [
      "5614\n"
     ]
    }
   ],
   "source": [
    "# the number of songs played in Shelbyville on Monday\n",
    "print(number_tracks('Monday', 'Shelbyville'))"
   ]
  },
  {
   "cell_type": "code",
   "execution_count": 23,
   "metadata": {
    "id": "_NTy2VPU_Zcu"
   },
   "outputs": [
    {
     "name": "stdout",
     "output_type": "stream",
     "text": [
      "11056\n"
     ]
    }
   ],
   "source": [
    "# the number of songs played in Springfield on Wednesday\n",
    "print(number_tracks('Wednesday', 'Springfield'))"
   ]
  },
  {
   "cell_type": "code",
   "execution_count": 24,
   "metadata": {
    "id": "j2y3TAwo_Zcu"
   },
   "outputs": [
    {
     "name": "stdout",
     "output_type": "stream",
     "text": [
      "7003\n",
      "11056\n"
     ]
    }
   ],
   "source": [
    "# the number of songs played in Shelbyville on Wednesday\n",
    "# the number of songs played in Springfield on Wednesday\n",
    "print(number_tracks('Wednesday', 'Shelbyville'))\n",
    "print(number_tracks('Wednesday', 'Springfield'))"
   ]
  },
  {
   "cell_type": "code",
   "execution_count": 25,
   "metadata": {
    "id": "vYDw5u_K_Zcu"
   },
   "outputs": [
    {
     "name": "stdout",
     "output_type": "stream",
     "text": [
      "15945\n"
     ]
    }
   ],
   "source": [
    "# the number of songs played in Springfield on Friday\n",
    "print(number_tracks('Friday', 'Springfield'))"
   ]
  },
  {
   "cell_type": "code",
   "execution_count": 26,
   "metadata": {
    "id": "8_yzFtW3_Zcu"
   },
   "outputs": [
    {
     "name": "stdout",
     "output_type": "stream",
     "text": [
      "5895\n"
     ]
    }
   ],
   "source": [
    "# the number of songs played in Shelbyville on Friday\n",
    "print(number_tracks('Friday', 'Shelbyville'))"
   ]
  },
  {
   "cell_type": "markdown",
   "metadata": {
    "id": "7QXffbO-_Zcu"
   },
   "source": [
    "Use `pd.DataFrame` to create a table, where\n",
    "* Column names are: `['city', 'monday', 'wednesday', 'friday']`\n",
    "* The data is the results you got from `number_tracks()`"
   ]
  },
  {
   "cell_type": "code",
   "execution_count": 27,
   "metadata": {
    "id": "APAcLpOr_Zcu"
   },
   "outputs": [
    {
     "name": "stdout",
     "output_type": "stream",
     "text": [
      "          city  monday  wednesday  friday\n",
      "0  Shelbyville    5614       7003    5895\n",
      "1  Springfield   15740      11056   15945\n"
     ]
    }
   ],
   "source": [
    "# table with results\n",
    "tracks = [\n",
    "         ['Shelbyville', number_tracks('Monday', 'Shelbyville'), number_tracks('Wednesday', 'Shelbyville'),number_tracks('Friday', 'Shelbyville') ],\n",
    "         ['Springfield', number_tracks('Monday', 'Springfield'), number_tracks('Wednesday', 'Springfield'), number_tracks('Friday', 'Springfield') ]\n",
    "]\n",
    "\n",
    "city_days = ['city', 'monday', 'wednesday', 'friday']\n",
    "\n",
    "data_table = pd.DataFrame(data=tracks, columns=city_days)\n",
    "print(data_table)\n"
   ]
  },
  {
   "cell_type": "markdown",
   "metadata": {
    "id": "-EgPIHYu_Zcu"
   },
   "source": [
    "**Conclusions**\n",
    "\n",
    "The data reveals differences in user behavior:\n",
    "\n",
    "- In Springfield, the number of songs played peaks on Mondays and Fridays, while on Wednesday there is a decrease in activity.\n",
    "- In Shelbyville, on the contrary, users listen to music more on Wednesday. User activity on Monday and Friday is smaller.\n",
    "\n",
    "So the first hypothesis seems to be correct."
   ]
  },
  {
   "cell_type": "markdown",
   "metadata": {
    "id": "p7nFQajCVw5B"
   },
   "source": [
    "[Back to Contents](#back)"
   ]
  },
  {
   "cell_type": "markdown",
   "metadata": {
    "id": "atZAxtq4_Zcu"
   },
   "source": [
    "### Hypothesis 2: music at the beginning and end of the week <a id='week'></a>"
   ]
  },
  {
   "cell_type": "markdown",
   "metadata": {
    "id": "eXrQqXFH_Zcu"
   },
   "source": [
    "According to the second hypothesis, on Monday morning and Friday night, citizens of Springfield listen to genres that differ from ones users from Shelbyville enjoy."
   ]
  },
  {
   "cell_type": "markdown",
   "metadata": {
    "id": "S8UcW6Hw_Zcu"
   },
   "source": [
    "Get tables (make sure that the name of your combined table matches the DataFrame given in the two code blocks below):\n",
    "* For Springfield — `spr_general`\n",
    "* For Shelbyville — `shel_general`"
   ]
  },
  {
   "cell_type": "code",
   "execution_count": 28,
   "metadata": {
    "id": "qeaFfM_P_Zcu",
    "pycharm": {
     "is_executing": true
    }
   },
   "outputs": [],
   "source": [
    "# create the spr_general table from the df rows, \n",
    "# where the value in the 'city' column is 'Springfield'\n",
    "spr_general = df[df['city'] == 'Springfield']"
   ]
  },
  {
   "cell_type": "code",
   "execution_count": 29,
   "metadata": {
    "id": "ORaVRKto_Zcu"
   },
   "outputs": [],
   "source": [
    "# create the shel_general from the df rows,\n",
    "# where the value in the 'city' column is 'Shelbyville'\n",
    "shel_general = df[df['city'] == 'Shelbyville']"
   ]
  },
  {
   "cell_type": "code",
   "execution_count": 30,
   "metadata": {
    "id": "laJT9BYl_Zcu"
   },
   "outputs": [],
   "source": [
    "# 1) Let the genre_df variable store the rows that meet several conditions:\n",
    "#    - the value in the 'day' column is equal to the value of the day= argument\n",
    "#    - the value in the 'time' column is greater than the value of the time1= argument\n",
    "#    - the value in the 'time' column is smaller than the value of the time2= argument\n",
    "#    Use consecutive filtering with logical indexing.\n",
    "\n",
    "# 2) Group genre_df by the 'genre' column, take one of its columns, \n",
    "#    and use the count() method to find the number of entries for each of \n",
    "#    the represented genres; store the resulting Series to the\n",
    "#    genre_df_count variable\n",
    "\n",
    "# 3) Sort genre_df_count in descending order of frequency and store the result\n",
    "#    to the genre_df_sorted variable\n",
    "\n",
    "# 4) Return a Series object with the first 15 genre_df_sorted value - the 15 most\n",
    "#    popular genres (on a given day, within a certain timeframe)\n",
    "\n",
    "# Write your function here\n",
    "def genre_weekday(df, day, time1, time2):\n",
    "\n",
    "    # consecutive filtering\n",
    "    # Create the variable genre_df which will store only those df rows where the day is equal to day=\n",
    "    genre_df = df[df['day'] == day]\n",
    "\n",
    "    # filter again so that genre_df will store only those rows where the time is smaller than time2=\n",
    "    genre_df = genre_df[genre_df['time'] < time2]\n",
    "    \n",
    "    # filter once more so that genre_df will store only rows where the time is greater than time1=\n",
    "    genre_df = genre_df[genre_df['time'] > time1] \n",
    "\n",
    "    # group the filtered DataFrame by the column with the names of genres, take the genre column, and find the number of rows for each genre with the count() method\n",
    "    genre_df_count = genre_df.groupby('genre')['user_id'].count()\n",
    "\n",
    "    # sort the result in descending order (so that the most popular genres come first in the Series object)\n",
    "    genre_df_sorted =genre_df_count.sort_values(ascending = False)\n",
    "\n",
    "    # we will return the Series object storing the 15 most popular genres on a given day in a given timeframe\n",
    "    return genre_df_sorted[:15]"
   ]
  },
  {
   "cell_type": "markdown",
   "metadata": {
    "id": "la2s2_PF_Zcu"
   },
   "source": [
    "Compare the results of the `genre_weekday()` function for Springfield and Shelbyville on Monday morning (from 7AM to 11AM) and on Friday evening (from 17:00 to 23:00):"
   ]
  },
  {
   "cell_type": "code",
   "execution_count": 31,
   "metadata": {
    "id": "yz7itPUQ_Zcu"
   },
   "outputs": [
    {
     "data": {
      "text/plain": [
       "genre\n",
       "pop            781\n",
       "dance          549\n",
       "electronic     480\n",
       "rock           474\n",
       "hiphop         286\n",
       "ruspop         186\n",
       "world          181\n",
       "rusrap         175\n",
       "alternative    164\n",
       "unknown        161\n",
       "classical      157\n",
       "metal          120\n",
       "jazz           100\n",
       "folk            97\n",
       "soundtrack      95\n",
       "Name: user_id, dtype: int64"
      ]
     },
     "execution_count": 31,
     "metadata": {},
     "output_type": "execute_result"
    }
   ],
   "source": [
    "# calling the function for Monday morning in Springfield genre_weekday(spr_general, 'Monday', 07:00, 11:00) \n",
    "genre_weekday(spr_general, 'Monday', '07:00', '11:00')"
   ]
  },
  {
   "cell_type": "code",
   "execution_count": 32,
   "metadata": {
    "id": "kwUcHPdy_Zcu"
   },
   "outputs": [
    {
     "data": {
      "text/plain": [
       "genre\n",
       "pop            218\n",
       "dance          182\n",
       "rock           162\n",
       "electronic     147\n",
       "hiphop          80\n",
       "ruspop          64\n",
       "alternative     58\n",
       "rusrap          55\n",
       "jazz            44\n",
       "classical       40\n",
       "world           36\n",
       "rap             32\n",
       "soundtrack      31\n",
       "metal           27\n",
       "rnb             27\n",
       "Name: user_id, dtype: int64"
      ]
     },
     "execution_count": 32,
     "metadata": {},
     "output_type": "execute_result"
    }
   ],
   "source": [
    "# calling the function for Monday morning in Shelbyville (use shel_general instead of the df table)\n",
    "genre_weekday(shel_general, 'Monday', '07:00', '11:00')"
   ]
  },
  {
   "cell_type": "code",
   "execution_count": 33,
   "metadata": {
    "id": "EzXVRE1o_Zcu"
   },
   "outputs": [
    {
     "data": {
      "text/plain": [
       "genre\n",
       "pop            713\n",
       "rock           517\n",
       "dance          495\n",
       "electronic     482\n",
       "hiphop         273\n",
       "world          208\n",
       "ruspop         170\n",
       "classical      163\n",
       "alternative    163\n",
       "rusrap         142\n",
       "jazz           111\n",
       "unknown        110\n",
       "soundtrack     105\n",
       "rnb             90\n",
       "metal           88\n",
       "Name: user_id, dtype: int64"
      ]
     },
     "execution_count": 33,
     "metadata": {},
     "output_type": "execute_result"
    }
   ],
   "source": [
    "# calling the function for Friday evening in Springfield\n",
    "genre_weekday(spr_general, 'Friday', '17:00', '23:00')"
   ]
  },
  {
   "cell_type": "code",
   "execution_count": 34,
   "metadata": {
    "id": "JZaEKu5v_Zcu"
   },
   "outputs": [
    {
     "data": {
      "text/plain": [
       "genre\n",
       "pop            256\n",
       "rock           216\n",
       "electronic     216\n",
       "dance          210\n",
       "hiphop          97\n",
       "alternative     63\n",
       "jazz            61\n",
       "classical       60\n",
       "rusrap          59\n",
       "world           54\n",
       "ruspop          47\n",
       "unknown         47\n",
       "soundtrack      40\n",
       "metal           39\n",
       "rap             36\n",
       "Name: user_id, dtype: int64"
      ]
     },
     "execution_count": 34,
     "metadata": {},
     "output_type": "execute_result"
    }
   ],
   "source": [
    "# calling the function for Friday evening in Shelbyville\n",
    "genre_weekday(shel_general, 'Friday', '17:00', '23:00')"
   ]
  },
  {
   "cell_type": "markdown",
   "metadata": {
    "id": "wrCe4MNX_Zcu"
   },
   "source": [
    "**Conclusion**\n",
    "\n",
    "Having compared the top 15 genres on Monday morning, we can draw the following conclusions:\n",
    "\n",
    "1. Users from Springfield and Shelbyville listen to similar music. The top five genres are the same, only rock and electronic have switched places.\n",
    "\n",
    "2. In Springfield, the number of missing values turned out to be so big that the value `'unknown'` came in 10th. This means that missing values make up a considerable portion of the data, which may be a basis for questioning the reliability of our conclusions.\n",
    "\n",
    "For Friday evening, the situation is similar. Individual genres vary somewhat, but on the whole, the top 15 is similar for the two cities.\n",
    "\n",
    "Thus, the second hypothesis has been partially proven true:\n",
    "* Users listen to similar music at the beginning and end of the week.\n",
    "* There is no major difference between Springfield and Shelbyville. In both cities, pop is the most popular genre.\n",
    "\n",
    "However, the number of missing values makes this result questionable. In Springfield, there are so many that they affect our top 15. Were we not missing these values, things might look different."
   ]
  },
  {
   "cell_type": "markdown",
   "metadata": {
    "id": "jLmXgdanVyhP"
   },
   "source": [
    "[Back to Contents](#back)"
   ]
  },
  {
   "cell_type": "markdown",
   "metadata": {},
   "source": [
    "<div class=\"alert alert-block alert-success\">\n",
    "    <h2>Reviewer's commentary:second iteration of the review <a class=\"tocSkip\"> </h2>\n",
    "    <br/>\n",
    "<b>Well done!👍:</b> \n",
    "\n",
    "Ok, agree with your improvements here!\n",
    "</div>"
   ]
  },
  {
   "cell_type": "markdown",
   "metadata": {
    "id": "JolODAqr_Zcu"
   },
   "source": [
    "### Hypothesis 3: genre preferences in Springfield and Shelbyville <a id='genre'></a>\n",
    "\n",
    "Hypothesis: Shelbyville loves rap music. Springfield's citizens are more into pop."
   ]
  },
  {
   "cell_type": "markdown",
   "metadata": {
    "id": "DlegSvaT_Zcu"
   },
   "source": [
    "Group the `spr_general` table by genre and find the number of songs played for each genre with the `count()` method. Then sort the result in descending order and store it to `spr_genres`."
   ]
  },
  {
   "cell_type": "code",
   "execution_count": 35,
   "metadata": {
    "id": "r19lIPke_Zcu"
   },
   "outputs": [],
   "source": [
    "# on one line: group the spr_general table by the 'genre' column, \n",
    "# count the 'genre' values with count() in the grouping, \n",
    "# sort the resulting Series in descending order, and store it to spr_genres\n",
    "spr_genres = spr_general.groupby(by=['genre'])['genre'].count().sort_values(ascending=False)"
   ]
  },
  {
   "cell_type": "markdown",
   "metadata": {
    "id": "6kMuomxTiIr8"
   },
   "source": [
    "Print the first 10 rows from `spr_genres`:"
   ]
  },
  {
   "cell_type": "code",
   "execution_count": 36,
   "metadata": {
    "id": "WhCSooF8_Zcv"
   },
   "outputs": [
    {
     "data": {
      "text/plain": [
       "genre\n",
       "pop            5892\n",
       "dance          4435\n",
       "rock           3965\n",
       "electronic     3786\n",
       "hiphop         2096\n",
       "classical      1616\n",
       "world          1432\n",
       "alternative    1379\n",
       "ruspop         1372\n",
       "rusrap         1161\n",
       "Name: genre, dtype: int64"
      ]
     },
     "execution_count": 36,
     "metadata": {},
     "output_type": "execute_result"
    }
   ],
   "source": [
    "# printing the first 10 rows of spr_genres\n",
    "spr_genres.head(10)"
   ]
  },
  {
   "cell_type": "markdown",
   "metadata": {
    "id": "cnPG2vnN_Zcv"
   },
   "source": [
    "Now do the same with the data on Shelbyville.\n",
    "\n",
    "Group the `shel_general` table by genre and find the number of songs played for each genre. Then sort the result in descending order and store it to the `shel_genres` table:\n"
   ]
  },
  {
   "cell_type": "code",
   "execution_count": 37,
   "metadata": {
    "id": "gluLIpE7_Zcv"
   },
   "outputs": [],
   "source": [
    "# on one line: group the shel_general table by the 'genre' column, \n",
    "# count the 'genre' values in the grouping with count(), \n",
    "# sort the resulting Series in descending order and store it to shel_genres\n",
    "shel_genres = shel_general.groupby(by=['genre'])['genre'].count().sort_values(ascending=False)"
   ]
  },
  {
   "cell_type": "markdown",
   "metadata": {
    "id": "5Doha_ODgyQ8"
   },
   "source": [
    "Print the first 10 rows of `shel_genres`:"
   ]
  },
  {
   "cell_type": "code",
   "execution_count": 38,
   "metadata": {
    "id": "uaGJHjVU_Zcv"
   },
   "outputs": [
    {
     "data": {
      "text/plain": [
       "genre\n",
       "pop            2431\n",
       "dance          1932\n",
       "rock           1879\n",
       "electronic     1736\n",
       "hiphop          960\n",
       "alternative     649\n",
       "classical       646\n",
       "rusrap          564\n",
       "ruspop          538\n",
       "world           515\n",
       "Name: genre, dtype: int64"
      ]
     },
     "execution_count": 38,
     "metadata": {},
     "output_type": "execute_result"
    }
   ],
   "source": [
    "# printing the first 10 rows from shel_genres\n",
    "shel_genres.head(10)"
   ]
  },
  {
   "cell_type": "markdown",
   "metadata": {
    "id": "RY51YJYu_Zcv"
   },
   "source": [
    "**Conclusion**"
   ]
  },
  {
   "cell_type": "markdown",
   "metadata": {
    "id": "nVhnJEm__Zcv"
   },
   "source": [
    "The hypothesis has been partially proven true:\n",
    "* Pop music is the most popular genre in Springfield, as expected.\n",
    "* However, pop music turned out to be equally popular in Springfield and Shelbyville, and rap wasn't in the top 5 for either city.\n"
   ]
  },
  {
   "cell_type": "markdown",
   "metadata": {
    "id": "Byr0RfpPVz14"
   },
   "source": [
    "[Back to Contents](#back)"
   ]
  },
  {
   "cell_type": "markdown",
   "metadata": {
    "id": "ykKQ0N65_Zcv"
   },
   "source": [
    "# Findings <a id='end'></a>"
   ]
  },
  {
   "cell_type": "markdown",
   "metadata": {
    "id": "tjUwbHb3_Zcv"
   },
   "source": [
    "We have tested the following three hypotheses:\n",
    "\n",
    "1. User activity differs depending on the day of the week and from city to city. \n",
    "2. On Monday mornings, Springfield and Shelbyville residents listen to different genres. This is also true for Friday evenings. \n",
    "3. Springfield and Shelbyville listeners have different preferences. In both Springfield and Shelbyville, they prefer pop.\n",
    "\n",
    "After analyzing the data, we concluded:\n",
    "\n",
    "1. User activity in Springfield and Shelbyville depends on the day of the week, though the cities vary in different ways. \n",
    "\n",
    "The first hypothesis is fully accepted.\n",
    "\n",
    "2. Musical preferences do not vary significantly over the course of the week in both Springfield and Shelbyville. We can see small differences in order on Mondays, but:\n",
    "* In Springfield and Shelbyville, people listen to pop music most.\n",
    "\n",
    "So we can't accept this hypothesis. We must also keep in mind that the result could have been different if not for the missing values.\n",
    "\n",
    "3. It turns out that the musical preferences of users from Springfield and Shelbyville are quite similar.\n",
    "\n",
    "The third hypothesis is rejected. If there is any difference in preferences, it cannot be seen from this data.\n",
    "\n"
   ]
  },
  {
   "cell_type": "markdown",
   "metadata": {
    "id": "Ju4AHDSgV1FE"
   },
   "source": [
    "[Back to Contents](#back)"
   ]
  }
 ],
 "metadata": {
  "ExecuteTimeLog": [
   {
    "duration": 341,
    "start_time": "2022-02-23T17:01:33.936Z"
   },
   {
    "duration": 817,
    "start_time": "2022-02-23T17:02:25.579Z"
   },
   {
    "duration": 2679,
    "start_time": "2022-02-23T17:04:25.935Z"
   },
   {
    "duration": 2007,
    "start_time": "2022-02-23T17:06:35.134Z"
   },
   {
    "duration": 2408,
    "start_time": "2022-02-23T17:07:41.130Z"
   },
   {
    "duration": 770,
    "start_time": "2022-02-23T17:07:53.359Z"
   },
   {
    "duration": 2429,
    "start_time": "2022-02-23T17:07:54.132Z"
   },
   {
    "duration": -314,
    "start_time": "2022-02-23T17:07:56.879Z"
   },
   {
    "duration": -315,
    "start_time": "2022-02-23T17:07:56.882Z"
   },
   {
    "duration": -318,
    "start_time": "2022-02-23T17:07:56.886Z"
   },
   {
    "duration": -318,
    "start_time": "2022-02-23T17:07:56.888Z"
   },
   {
    "duration": -318,
    "start_time": "2022-02-23T17:07:56.889Z"
   },
   {
    "duration": -318,
    "start_time": "2022-02-23T17:07:56.891Z"
   },
   {
    "duration": -319,
    "start_time": "2022-02-23T17:07:56.893Z"
   },
   {
    "duration": -320,
    "start_time": "2022-02-23T17:07:56.895Z"
   },
   {
    "duration": -320,
    "start_time": "2022-02-23T17:07:56.897Z"
   },
   {
    "duration": -323,
    "start_time": "2022-02-23T17:07:56.901Z"
   },
   {
    "duration": -323,
    "start_time": "2022-02-23T17:07:56.903Z"
   },
   {
    "duration": -324,
    "start_time": "2022-02-23T17:07:56.905Z"
   },
   {
    "duration": -325,
    "start_time": "2022-02-23T17:07:56.907Z"
   },
   {
    "duration": -324,
    "start_time": "2022-02-23T17:07:56.908Z"
   },
   {
    "duration": -325,
    "start_time": "2022-02-23T17:07:56.910Z"
   },
   {
    "duration": -326,
    "start_time": "2022-02-23T17:07:56.912Z"
   },
   {
    "duration": -328,
    "start_time": "2022-02-23T17:07:56.916Z"
   },
   {
    "duration": -484,
    "start_time": "2022-02-23T17:07:57.073Z"
   },
   {
    "duration": -486,
    "start_time": "2022-02-23T17:07:57.077Z"
   },
   {
    "duration": -488,
    "start_time": "2022-02-23T17:07:57.080Z"
   },
   {
    "duration": -488,
    "start_time": "2022-02-23T17:07:57.082Z"
   },
   {
    "duration": -491,
    "start_time": "2022-02-23T17:07:57.086Z"
   },
   {
    "duration": -492,
    "start_time": "2022-02-23T17:07:57.088Z"
   },
   {
    "duration": -491,
    "start_time": "2022-02-23T17:07:57.089Z"
   },
   {
    "duration": -492,
    "start_time": "2022-02-23T17:07:57.091Z"
   },
   {
    "duration": -491,
    "start_time": "2022-02-23T17:07:57.092Z"
   },
   {
    "duration": -492,
    "start_time": "2022-02-23T17:07:57.094Z"
   },
   {
    "duration": -492,
    "start_time": "2022-02-23T17:07:57.095Z"
   },
   {
    "duration": -493,
    "start_time": "2022-02-23T17:07:57.097Z"
   },
   {
    "duration": -438,
    "start_time": "2022-02-23T17:07:57.099Z"
   },
   {
    "duration": -438,
    "start_time": "2022-02-23T17:07:57.101Z"
   },
   {
    "duration": -442,
    "start_time": "2022-02-23T17:07:57.106Z"
   },
   {
    "duration": -442,
    "start_time": "2022-02-23T17:07:57.107Z"
   },
   {
    "duration": -443,
    "start_time": "2022-02-23T17:07:57.109Z"
   },
   {
    "duration": -442,
    "start_time": "2022-02-23T17:07:57.110Z"
   },
   {
    "duration": -443,
    "start_time": "2022-02-23T17:07:57.112Z"
   },
   {
    "duration": 2060,
    "start_time": "2022-02-23T17:08:07.779Z"
   },
   {
    "duration": 5,
    "start_time": "2022-02-23T17:08:21.583Z"
   },
   {
    "duration": 9,
    "start_time": "2022-02-23T17:08:21.591Z"
   },
   {
    "duration": 4,
    "start_time": "2022-02-23T17:08:21.603Z"
   },
   {
    "duration": 6,
    "start_time": "2022-02-23T17:08:21.610Z"
   },
   {
    "duration": 8,
    "start_time": "2022-02-23T17:08:21.618Z"
   },
   {
    "duration": 5,
    "start_time": "2022-02-23T17:08:21.628Z"
   },
   {
    "duration": 3,
    "start_time": "2022-02-23T17:08:21.661Z"
   },
   {
    "duration": 4,
    "start_time": "2022-02-23T17:08:21.668Z"
   },
   {
    "duration": 4,
    "start_time": "2022-02-23T17:08:21.675Z"
   },
   {
    "duration": 4,
    "start_time": "2022-02-23T17:08:21.682Z"
   },
   {
    "duration": 8,
    "start_time": "2022-02-23T17:08:21.688Z"
   },
   {
    "duration": 4,
    "start_time": "2022-02-23T17:08:21.699Z"
   },
   {
    "duration": 4,
    "start_time": "2022-02-23T17:08:21.706Z"
   },
   {
    "duration": 49,
    "start_time": "2022-02-23T17:08:21.712Z"
   },
   {
    "duration": 6,
    "start_time": "2022-02-23T17:08:21.763Z"
   },
   {
    "duration": 5,
    "start_time": "2022-02-23T17:08:21.771Z"
   },
   {
    "duration": 5,
    "start_time": "2022-02-23T17:08:21.778Z"
   },
   {
    "duration": 6,
    "start_time": "2022-02-23T17:08:21.785Z"
   },
   {
    "duration": 4,
    "start_time": "2022-02-23T17:08:21.793Z"
   },
   {
    "duration": 4,
    "start_time": "2022-02-23T17:08:21.800Z"
   },
   {
    "duration": 72,
    "start_time": "2022-02-23T17:08:21.806Z"
   },
   {
    "duration": 3,
    "start_time": "2022-02-23T17:08:21.880Z"
   },
   {
    "duration": 4,
    "start_time": "2022-02-23T17:08:21.889Z"
   },
   {
    "duration": 5,
    "start_time": "2022-02-23T17:08:21.896Z"
   },
   {
    "duration": 15,
    "start_time": "2022-02-23T17:08:21.904Z"
   },
   {
    "duration": 5,
    "start_time": "2022-02-23T17:08:21.921Z"
   },
   {
    "duration": 7,
    "start_time": "2022-02-23T17:08:21.928Z"
   },
   {
    "duration": 6,
    "start_time": "2022-02-23T17:08:21.962Z"
   },
   {
    "duration": 6,
    "start_time": "2022-02-23T17:08:21.970Z"
   },
   {
    "duration": 104,
    "start_time": "2022-02-23T17:08:21.978Z"
   },
   {
    "duration": -128,
    "start_time": "2022-02-23T17:08:22.213Z"
   },
   {
    "duration": -225,
    "start_time": "2022-02-23T17:08:22.312Z"
   },
   {
    "duration": -227,
    "start_time": "2022-02-23T17:08:22.316Z"
   },
   {
    "duration": -226,
    "start_time": "2022-02-23T17:08:22.317Z"
   },
   {
    "duration": -227,
    "start_time": "2022-02-23T17:08:22.319Z"
   },
   {
    "duration": -227,
    "start_time": "2022-02-23T17:08:22.321Z"
   },
   {
    "duration": -227,
    "start_time": "2022-02-23T17:08:22.324Z"
   },
   {
    "duration": -228,
    "start_time": "2022-02-23T17:08:22.327Z"
   },
   {
    "duration": 785,
    "start_time": "2022-02-23T17:08:48.648Z"
   },
   {
    "duration": 2211,
    "start_time": "2022-02-23T17:09:35.101Z"
   },
   {
    "duration": 2460,
    "start_time": "2022-02-23T17:28:52.435Z"
   },
   {
    "duration": 774,
    "start_time": "2022-02-23T17:33:55.445Z"
   },
   {
    "duration": 297,
    "start_time": "2022-02-24T01:33:25.422Z"
   },
   {
    "duration": 1955,
    "start_time": "2022-02-24T01:34:38.205Z"
   },
   {
    "duration": 177,
    "start_time": "2022-02-24T01:34:48.241Z"
   },
   {
    "duration": 27,
    "start_time": "2022-02-24T01:37:16.538Z"
   },
   {
    "duration": 242,
    "start_time": "2022-02-24T22:52:11.950Z"
   },
   {
    "duration": 172,
    "start_time": "2022-02-25T00:00:22.090Z"
   },
   {
    "duration": 263,
    "start_time": "2022-02-25T00:01:18.340Z"
   },
   {
    "duration": 177,
    "start_time": "2022-02-25T00:01:35.023Z"
   },
   {
    "duration": 228,
    "start_time": "2022-02-25T00:02:21.417Z"
   },
   {
    "duration": 198,
    "start_time": "2022-02-25T00:02:53.933Z"
   },
   {
    "duration": 425,
    "start_time": "2022-02-25T16:52:45.415Z"
   },
   {
    "duration": 351,
    "start_time": "2022-02-25T16:55:10.372Z"
   },
   {
    "duration": 127,
    "start_time": "2022-02-25T16:55:32.960Z"
   },
   {
    "duration": 988,
    "start_time": "2022-02-25T16:55:43.482Z"
   },
   {
    "duration": 205,
    "start_time": "2022-02-25T16:57:59.892Z"
   },
   {
    "duration": 212,
    "start_time": "2022-02-25T16:58:23.416Z"
   },
   {
    "duration": 4,
    "start_time": "2022-02-25T17:07:01.925Z"
   },
   {
    "duration": 18,
    "start_time": "2022-02-25T17:24:35.144Z"
   },
   {
    "duration": 5,
    "start_time": "2022-02-25T17:25:02.714Z"
   },
   {
    "duration": 50,
    "start_time": "2022-02-25T17:34:07.289Z"
   },
   {
    "duration": 65,
    "start_time": "2022-02-25T17:34:32.886Z"
   },
   {
    "duration": 9297,
    "start_time": "2022-02-25T17:55:27.663Z"
   },
   {
    "duration": 9898,
    "start_time": "2022-02-25T17:55:52.759Z"
   },
   {
    "duration": 127,
    "start_time": "2022-02-25T18:41:43.542Z"
   },
   {
    "duration": 390,
    "start_time": "2022-02-25T18:53:47.749Z"
   },
   {
    "duration": 394,
    "start_time": "2022-02-25T18:54:30.445Z"
   },
   {
    "duration": 369,
    "start_time": "2022-02-25T18:55:01.098Z"
   },
   {
    "duration": 129,
    "start_time": "2022-02-25T19:06:31.572Z"
   },
   {
    "duration": 449,
    "start_time": "2022-02-25T19:06:40.482Z"
   },
   {
    "duration": 496,
    "start_time": "2022-02-25T19:06:59.292Z"
   },
   {
    "duration": 134,
    "start_time": "2022-02-25T19:12:48.653Z"
   },
   {
    "duration": 129,
    "start_time": "2022-02-25T19:13:26.059Z"
   },
   {
    "duration": 414,
    "start_time": "2022-02-25T19:14:43.601Z"
   },
   {
    "duration": 133,
    "start_time": "2022-02-25T19:16:32.349Z"
   },
   {
    "duration": 393,
    "start_time": "2022-02-25T19:17:00.469Z"
   },
   {
    "duration": 393,
    "start_time": "2022-02-25T19:39:03.596Z"
   },
   {
    "duration": 425,
    "start_time": "2022-02-25T19:39:14.594Z"
   },
   {
    "duration": 370,
    "start_time": "2022-02-25T19:39:51.532Z"
   },
   {
    "duration": 647,
    "start_time": "2022-02-25T19:40:19.965Z"
   },
   {
    "duration": 445,
    "start_time": "2022-02-25T19:43:32.815Z"
   },
   {
    "duration": 396,
    "start_time": "2022-02-25T19:43:51.144Z"
   },
   {
    "duration": 422,
    "start_time": "2022-02-25T19:44:43.012Z"
   },
   {
    "duration": 381,
    "start_time": "2022-02-25T19:45:16.002Z"
   },
   {
    "duration": 373,
    "start_time": "2022-02-25T19:46:29.602Z"
   },
   {
    "duration": 456,
    "start_time": "2022-02-25T19:46:47.421Z"
   },
   {
    "duration": 372,
    "start_time": "2022-02-25T20:15:09.276Z"
   },
   {
    "duration": 389,
    "start_time": "2022-02-25T20:16:30.901Z"
   },
   {
    "duration": 372,
    "start_time": "2022-02-25T20:16:52.436Z"
   },
   {
    "duration": 370,
    "start_time": "2022-02-25T20:17:10.208Z"
   },
   {
    "duration": 458,
    "start_time": "2022-02-25T20:40:45.499Z"
   },
   {
    "duration": 389,
    "start_time": "2022-02-26T00:04:54.750Z"
   },
   {
    "duration": 373,
    "start_time": "2022-02-26T00:11:17.052Z"
   },
   {
    "duration": 372,
    "start_time": "2022-02-26T00:12:30.880Z"
   },
   {
    "duration": 430,
    "start_time": "2022-02-26T00:13:41.327Z"
   },
   {
    "duration": 3,
    "start_time": "2022-02-26T00:13:55.148Z"
   },
   {
    "duration": 371,
    "start_time": "2022-02-26T00:13:58.960Z"
   },
   {
    "duration": 428,
    "start_time": "2022-02-26T00:15:05.286Z"
   },
   {
    "duration": 4,
    "start_time": "2022-02-26T00:15:15.506Z"
   },
   {
    "duration": 181,
    "start_time": "2022-02-26T00:15:18.638Z"
   },
   {
    "duration": 16,
    "start_time": "2022-02-26T00:15:22.009Z"
   },
   {
    "duration": 212,
    "start_time": "2022-02-26T00:15:26.134Z"
   },
   {
    "duration": 4,
    "start_time": "2022-02-26T00:15:32.484Z"
   },
   {
    "duration": 17,
    "start_time": "2022-02-26T00:15:37.336Z"
   },
   {
    "duration": 5,
    "start_time": "2022-02-26T00:15:42.634Z"
   },
   {
    "duration": 30,
    "start_time": "2022-02-26T00:15:56.940Z"
   },
   {
    "duration": 3,
    "start_time": "2022-02-26T00:16:24.734Z"
   },
   {
    "duration": 423,
    "start_time": "2022-02-26T00:19:39.426Z"
   },
   {
    "duration": 392,
    "start_time": "2022-02-26T00:19:59.886Z"
   },
   {
    "duration": 353,
    "start_time": "2022-02-26T00:21:10.206Z"
   },
   {
    "duration": 968,
    "start_time": "2022-02-26T00:28:25.821Z"
   },
   {
    "duration": 457,
    "start_time": "2022-02-26T00:29:46.770Z"
   },
   {
    "duration": 22,
    "start_time": "2022-02-26T00:30:40.670Z"
   },
   {
    "duration": 30,
    "start_time": "2022-02-26T00:31:07.641Z"
   },
   {
    "duration": 475,
    "start_time": "2022-02-26T00:40:47.083Z"
   },
   {
    "duration": 366,
    "start_time": "2022-02-26T00:40:55.791Z"
   },
   {
    "duration": 375,
    "start_time": "2022-02-26T00:41:22.172Z"
   },
   {
    "duration": 404,
    "start_time": "2022-02-26T00:41:35.471Z"
   },
   {
    "duration": 78,
    "start_time": "2022-02-26T00:43:25.143Z"
   },
   {
    "duration": 414,
    "start_time": "2022-02-26T00:45:01.563Z"
   },
   {
    "duration": 89,
    "start_time": "2022-02-26T00:50:07.721Z"
   },
   {
    "duration": 82,
    "start_time": "2022-02-26T00:50:50.637Z"
   },
   {
    "duration": 9,
    "start_time": "2022-02-26T01:03:04.383Z"
   },
   {
    "duration": 439,
    "start_time": "2022-02-26T01:21:15.636Z"
   },
   {
    "duration": 138,
    "start_time": "2022-02-26T01:21:51.377Z"
   },
   {
    "duration": 139,
    "start_time": "2022-02-26T01:22:08.449Z"
   },
   {
    "duration": 123,
    "start_time": "2022-02-26T01:25:22.013Z"
   },
   {
    "duration": 23,
    "start_time": "2022-02-26T01:25:27.436Z"
   },
   {
    "duration": 146,
    "start_time": "2022-02-26T01:30:55.535Z"
   },
   {
    "duration": 130,
    "start_time": "2022-02-26T01:31:51.799Z"
   },
   {
    "duration": 4,
    "start_time": "2022-02-26T01:31:56.352Z"
   },
   {
    "duration": 94,
    "start_time": "2022-02-26T01:32:52.443Z"
   },
   {
    "duration": 77,
    "start_time": "2022-02-26T01:33:45.110Z"
   },
   {
    "duration": 8,
    "start_time": "2022-02-26T01:35:12.043Z"
   },
   {
    "duration": 313,
    "start_time": "2022-02-26T15:39:47.238Z"
   },
   {
    "duration": 182,
    "start_time": "2022-02-26T15:41:04.367Z"
   },
   {
    "duration": 173,
    "start_time": "2022-02-26T15:42:22.608Z"
   },
   {
    "duration": 170,
    "start_time": "2022-02-26T15:42:39.781Z"
   },
   {
    "duration": 170,
    "start_time": "2022-02-26T15:50:59.581Z"
   },
   {
    "duration": 290,
    "start_time": "2022-02-26T16:09:11.324Z"
   },
   {
    "duration": 523,
    "start_time": "2022-02-26T16:09:51.264Z"
   },
   {
    "duration": 118,
    "start_time": "2022-02-26T16:09:54.295Z"
   },
   {
    "duration": 17,
    "start_time": "2022-02-26T16:09:57.856Z"
   },
   {
    "duration": 141,
    "start_time": "2022-02-26T16:10:01.224Z"
   },
   {
    "duration": 3,
    "start_time": "2022-02-26T16:10:05.964Z"
   },
   {
    "duration": 12,
    "start_time": "2022-02-26T16:10:11.312Z"
   },
   {
    "duration": 3,
    "start_time": "2022-02-26T16:10:14.126Z"
   },
   {
    "duration": 21,
    "start_time": "2022-02-26T16:10:16.394Z"
   },
   {
    "duration": 15,
    "start_time": "2022-02-26T16:10:19.788Z"
   },
   {
    "duration": 22,
    "start_time": "2022-02-26T16:10:22.061Z"
   },
   {
    "duration": 50,
    "start_time": "2022-02-26T16:10:24.704Z"
   },
   {
    "duration": 59,
    "start_time": "2022-02-26T16:10:26.942Z"
   },
   {
    "duration": 52,
    "start_time": "2022-02-26T16:10:30.020Z"
   },
   {
    "duration": 10,
    "start_time": "2022-02-26T16:10:32.698Z"
   },
   {
    "duration": 3,
    "start_time": "2022-02-26T16:10:36.910Z"
   },
   {
    "duration": 59,
    "start_time": "2022-02-26T16:10:39.324Z"
   },
   {
    "duration": 7,
    "start_time": "2022-02-26T16:10:42.704Z"
   },
   {
    "duration": 88,
    "start_time": "2022-02-26T16:11:15.898Z"
   },
   {
    "duration": 29,
    "start_time": "2022-02-26T16:11:45.298Z"
   },
   {
    "duration": 208,
    "start_time": "2022-02-26T17:26:24.582Z"
   },
   {
    "duration": 28,
    "start_time": "2022-02-26T17:32:37.365Z"
   },
   {
    "duration": 4,
    "start_time": "2022-02-26T17:45:03.565Z"
   },
   {
    "duration": 3,
    "start_time": "2022-02-26T17:45:18.505Z"
   },
   {
    "duration": 208,
    "start_time": "2022-02-26T17:45:47.280Z"
   },
   {
    "duration": 185,
    "start_time": "2022-02-26T17:46:20.690Z"
   },
   {
    "duration": 4,
    "start_time": "2022-02-26T17:52:08.129Z"
   },
   {
    "duration": 4,
    "start_time": "2022-02-26T17:52:53.132Z"
   },
   {
    "duration": 4,
    "start_time": "2022-02-26T17:58:22.909Z"
   },
   {
    "duration": 4,
    "start_time": "2022-02-26T17:59:54.484Z"
   },
   {
    "duration": 4,
    "start_time": "2022-02-26T18:00:29.439Z"
   },
   {
    "duration": 4,
    "start_time": "2022-02-26T18:00:49.344Z"
   },
   {
    "duration": 4,
    "start_time": "2022-02-26T18:00:52.214Z"
   },
   {
    "duration": 3,
    "start_time": "2022-02-26T18:00:56.954Z"
   },
   {
    "duration": 4,
    "start_time": "2022-02-26T18:01:01.744Z"
   },
   {
    "duration": 4,
    "start_time": "2022-02-26T18:37:49.889Z"
   },
   {
    "duration": 3,
    "start_time": "2022-02-26T18:39:24.205Z"
   },
   {
    "duration": 4,
    "start_time": "2022-02-26T18:39:27.953Z"
   },
   {
    "duration": 3,
    "start_time": "2022-02-26T18:39:38.397Z"
   },
   {
    "duration": 3,
    "start_time": "2022-02-26T18:40:09.079Z"
   },
   {
    "duration": 92,
    "start_time": "2022-02-26T18:41:05.327Z"
   },
   {
    "duration": 4,
    "start_time": "2022-02-26T18:42:16.399Z"
   },
   {
    "duration": 4,
    "start_time": "2022-02-26T18:43:31.747Z"
   },
   {
    "duration": 3,
    "start_time": "2022-02-26T18:43:43.989Z"
   },
   {
    "duration": 3,
    "start_time": "2022-02-26T19:24:57.013Z"
   },
   {
    "duration": 3,
    "start_time": "2022-02-26T19:25:09.791Z"
   },
   {
    "duration": 20,
    "start_time": "2022-02-26T19:25:56.361Z"
   },
   {
    "duration": 22,
    "start_time": "2022-02-26T19:26:43.946Z"
   },
   {
    "duration": 19,
    "start_time": "2022-02-26T19:27:44.832Z"
   },
   {
    "duration": 22,
    "start_time": "2022-02-26T19:28:09.949Z"
   },
   {
    "duration": 88,
    "start_time": "2022-02-26T19:28:59.627Z"
   },
   {
    "duration": 485,
    "start_time": "2022-02-26T19:29:21.526Z"
   },
   {
    "duration": 460,
    "start_time": "2022-02-26T19:29:31.213Z"
   },
   {
    "duration": 454,
    "start_time": "2022-02-26T19:29:36.314Z"
   },
   {
    "duration": 102,
    "start_time": "2022-02-26T19:29:50.336Z"
   },
   {
    "duration": 18,
    "start_time": "2022-02-26T19:30:18.369Z"
   },
   {
    "duration": 18,
    "start_time": "2022-02-26T19:30:21.951Z"
   },
   {
    "duration": 57,
    "start_time": "2022-02-26T19:32:06.276Z"
   },
   {
    "duration": 35,
    "start_time": "2022-02-26T19:32:25.033Z"
   },
   {
    "duration": 51,
    "start_time": "2022-02-26T19:32:50.514Z"
   },
   {
    "duration": 21,
    "start_time": "2022-02-26T19:33:44.083Z"
   },
   {
    "duration": 17,
    "start_time": "2022-02-26T19:33:46.665Z"
   },
   {
    "duration": 21,
    "start_time": "2022-02-26T19:33:49.359Z"
   },
   {
    "duration": 35,
    "start_time": "2022-02-26T19:33:51.053Z"
   },
   {
    "duration": 21,
    "start_time": "2022-02-26T19:34:10.710Z"
   },
   {
    "duration": 20,
    "start_time": "2022-02-26T19:34:32.187Z"
   },
   {
    "duration": 2,
    "start_time": "2022-02-26T19:40:08.832Z"
   },
   {
    "duration": 223,
    "start_time": "2022-02-26T19:41:51.215Z"
   },
   {
    "duration": 174,
    "start_time": "2022-02-26T19:42:00.141Z"
   },
   {
    "duration": 220,
    "start_time": "2022-02-26T19:42:14.461Z"
   },
   {
    "duration": 169,
    "start_time": "2022-02-26T19:43:59.309Z"
   },
   {
    "duration": 177,
    "start_time": "2022-02-26T19:44:42.453Z"
   },
   {
    "duration": 223,
    "start_time": "2022-02-26T19:44:59.124Z"
   },
   {
    "duration": 17,
    "start_time": "2022-02-26T19:47:23.022Z"
   },
   {
    "duration": 22,
    "start_time": "2022-02-26T19:47:31.196Z"
   },
   {
    "duration": 21,
    "start_time": "2022-02-26T19:47:42.129Z"
   },
   {
    "duration": 18,
    "start_time": "2022-02-26T19:47:47.890Z"
   },
   {
    "duration": 21,
    "start_time": "2022-02-26T19:47:54.858Z"
   },
   {
    "duration": 33,
    "start_time": "2022-02-26T19:48:01.801Z"
   },
   {
    "duration": 226,
    "start_time": "2022-02-26T20:04:33.724Z"
   },
   {
    "duration": 231,
    "start_time": "2022-02-26T20:09:59.177Z"
   },
   {
    "duration": 178,
    "start_time": "2022-02-26T20:18:51.285Z"
   },
   {
    "duration": 171,
    "start_time": "2022-02-26T20:19:08.081Z"
   },
   {
    "duration": 57,
    "start_time": "2022-02-26T20:24:55.437Z"
   },
   {
    "duration": 58,
    "start_time": "2022-02-26T20:25:03.016Z"
   },
   {
    "duration": 294,
    "start_time": "2022-02-26T20:25:12.002Z"
   },
   {
    "duration": 59,
    "start_time": "2022-02-26T20:25:43.067Z"
   },
   {
    "duration": 62,
    "start_time": "2022-02-26T20:25:56.029Z"
   },
   {
    "duration": 66,
    "start_time": "2022-02-26T20:26:36.963Z"
   },
   {
    "duration": 89,
    "start_time": "2022-02-26T20:26:46.624Z"
   },
   {
    "duration": 79,
    "start_time": "2022-02-26T22:37:49.523Z"
   },
   {
    "duration": 58,
    "start_time": "2022-02-26T22:38:04.390Z"
   },
   {
    "duration": 61,
    "start_time": "2022-02-26T22:38:13.192Z"
   },
   {
    "duration": 53,
    "start_time": "2022-02-26T22:38:20.847Z"
   },
   {
    "duration": 54,
    "start_time": "2022-02-26T22:38:26.900Z"
   },
   {
    "duration": 192,
    "start_time": "2022-02-26T22:38:30.942Z"
   },
   {
    "duration": 170,
    "start_time": "2022-02-26T22:38:55.947Z"
   },
   {
    "duration": 119,
    "start_time": "2022-02-26T22:43:06.655Z"
   },
   {
    "duration": 127,
    "start_time": "2022-02-26T22:43:20.969Z"
   },
   {
    "duration": 118,
    "start_time": "2022-02-26T22:43:32.709Z"
   },
   {
    "duration": 9,
    "start_time": "2022-02-26T22:43:37.799Z"
   },
   {
    "duration": 134,
    "start_time": "2022-02-26T22:43:51.203Z"
   },
   {
    "duration": 3,
    "start_time": "2022-02-26T22:43:57.965Z"
   },
   {
    "duration": 13,
    "start_time": "2022-02-26T22:44:01.309Z"
   },
   {
    "duration": 3,
    "start_time": "2022-02-26T22:44:04.560Z"
   },
   {
    "duration": 23,
    "start_time": "2022-02-26T22:44:08.130Z"
   },
   {
    "duration": 16,
    "start_time": "2022-02-26T22:44:13.331Z"
   },
   {
    "duration": 23,
    "start_time": "2022-02-26T22:44:17.947Z"
   },
   {
    "duration": 48,
    "start_time": "2022-02-26T22:44:21.948Z"
   },
   {
    "duration": 57,
    "start_time": "2022-02-26T22:44:25.661Z"
   },
   {
    "duration": 46,
    "start_time": "2022-02-26T22:44:28.971Z"
   },
   {
    "duration": 7,
    "start_time": "2022-02-26T22:44:31.662Z"
   },
   {
    "duration": 3,
    "start_time": "2022-02-26T22:44:36.649Z"
   },
   {
    "duration": 58,
    "start_time": "2022-02-26T22:44:41.014Z"
   },
   {
    "duration": 6,
    "start_time": "2022-02-26T22:44:43.986Z"
   },
   {
    "duration": 29,
    "start_time": "2022-02-26T22:44:49.327Z"
   },
   {
    "duration": 28,
    "start_time": "2022-02-26T22:45:39.349Z"
   },
   {
    "duration": 30,
    "start_time": "2022-02-26T22:45:49.202Z"
   },
   {
    "duration": 28,
    "start_time": "2022-02-26T22:45:52.653Z"
   },
   {
    "duration": 21,
    "start_time": "2022-02-26T22:46:08.137Z"
   },
   {
    "duration": 21,
    "start_time": "2022-02-26T22:46:12.417Z"
   },
   {
    "duration": 19,
    "start_time": "2022-02-26T22:46:13.168Z"
   },
   {
    "duration": 21,
    "start_time": "2022-02-26T22:46:13.744Z"
   },
   {
    "duration": 32,
    "start_time": "2022-02-26T22:46:14.274Z"
   },
   {
    "duration": 21,
    "start_time": "2022-02-26T22:46:14.764Z"
   },
   {
    "duration": 19,
    "start_time": "2022-02-26T22:46:19.122Z"
   },
   {
    "duration": 198,
    "start_time": "2022-02-26T22:46:21.660Z"
   },
   {
    "duration": 148,
    "start_time": "2022-02-26T22:47:53.455Z"
   },
   {
    "duration": 71,
    "start_time": "2022-02-26T23:01:41.594Z"
   },
   {
    "duration": 61,
    "start_time": "2022-02-26T23:01:53.198Z"
   },
   {
    "duration": 64,
    "start_time": "2022-02-26T23:02:38.959Z"
   },
   {
    "duration": 52,
    "start_time": "2022-02-26T23:02:58.786Z"
   },
   {
    "duration": 62,
    "start_time": "2022-02-26T23:03:07.016Z"
   },
   {
    "duration": 89,
    "start_time": "2022-02-26T23:05:50.342Z"
   },
   {
    "duration": 55,
    "start_time": "2022-02-26T23:06:23.777Z"
   },
   {
    "duration": 64,
    "start_time": "2022-02-26T23:06:31.708Z"
   },
   {
    "duration": 61,
    "start_time": "2022-02-26T23:06:50.104Z"
   },
   {
    "duration": 5153,
    "start_time": "2022-02-26T23:06:58.464Z"
   },
   {
    "duration": 701,
    "start_time": "2022-03-01T02:55:33.711Z"
   },
   {
    "duration": 193,
    "start_time": "2022-03-01T02:55:40.057Z"
   },
   {
    "duration": 26,
    "start_time": "2022-03-01T02:55:43.198Z"
   },
   {
    "duration": 213,
    "start_time": "2022-03-01T02:55:47.962Z"
   },
   {
    "duration": 5,
    "start_time": "2022-03-01T02:55:52.462Z"
   },
   {
    "duration": 18,
    "start_time": "2022-03-01T02:55:55.032Z"
   },
   {
    "duration": 4,
    "start_time": "2022-03-01T02:55:57.292Z"
   },
   {
    "duration": 32,
    "start_time": "2022-03-01T02:55:59.217Z"
   },
   {
    "duration": 23,
    "start_time": "2022-03-01T02:56:02.260Z"
   },
   {
    "duration": 32,
    "start_time": "2022-03-01T02:56:05.201Z"
   },
   {
    "duration": 83,
    "start_time": "2022-03-01T02:56:09.984Z"
   },
   {
    "duration": 95,
    "start_time": "2022-03-01T02:56:13.857Z"
   },
   {
    "duration": 79,
    "start_time": "2022-03-01T02:56:17.085Z"
   },
   {
    "duration": 8,
    "start_time": "2022-03-01T02:56:20.201Z"
   },
   {
    "duration": 4,
    "start_time": "2022-03-01T02:56:25.609Z"
   },
   {
    "duration": 95,
    "start_time": "2022-03-01T02:56:28.765Z"
   },
   {
    "duration": 8,
    "start_time": "2022-03-01T02:56:31.493Z"
   },
   {
    "duration": 46,
    "start_time": "2022-03-01T02:56:38.631Z"
   },
   {
    "duration": 42,
    "start_time": "2022-03-01T02:56:42.379Z"
   },
   {
    "duration": 28,
    "start_time": "2022-03-01T02:57:05.645Z"
   },
   {
    "duration": 31,
    "start_time": "2022-03-01T02:57:09.563Z"
   },
   {
    "duration": 25,
    "start_time": "2022-03-01T02:57:11.705Z"
   },
   {
    "duration": 30,
    "start_time": "2022-03-01T02:57:13.146Z"
   },
   {
    "duration": 46,
    "start_time": "2022-03-01T02:57:16.007Z"
   },
   {
    "duration": 29,
    "start_time": "2022-03-01T02:57:16.858Z"
   },
   {
    "duration": 26,
    "start_time": "2022-03-01T02:57:17.750Z"
   },
   {
    "duration": 377,
    "start_time": "2022-03-01T02:57:21.184Z"
   },
   {
    "duration": 278,
    "start_time": "2022-03-01T17:53:23.577Z"
   },
   {
    "duration": 680,
    "start_time": "2022-03-01T17:53:54.540Z"
   },
   {
    "duration": 177,
    "start_time": "2022-03-01T17:53:55.223Z"
   },
   {
    "duration": 28,
    "start_time": "2022-03-01T17:53:55.404Z"
   },
   {
    "duration": 210,
    "start_time": "2022-03-01T17:53:55.435Z"
   },
   {
    "duration": 5,
    "start_time": "2022-03-01T17:53:55.648Z"
   },
   {
    "duration": 37,
    "start_time": "2022-03-01T17:53:55.655Z"
   },
   {
    "duration": 4,
    "start_time": "2022-03-01T17:53:55.694Z"
   },
   {
    "duration": 29,
    "start_time": "2022-03-01T17:53:55.700Z"
   },
   {
    "duration": 22,
    "start_time": "2022-03-01T17:53:55.733Z"
   },
   {
    "duration": 55,
    "start_time": "2022-03-01T17:53:55.758Z"
   },
   {
    "duration": 103,
    "start_time": "2022-03-01T17:53:55.816Z"
   },
   {
    "duration": 108,
    "start_time": "2022-03-01T17:53:55.922Z"
   },
   {
    "duration": 78,
    "start_time": "2022-03-01T17:53:56.033Z"
   },
   {
    "duration": 8,
    "start_time": "2022-03-01T17:53:56.113Z"
   },
   {
    "duration": 5,
    "start_time": "2022-03-01T17:53:56.123Z"
   },
   {
    "duration": 111,
    "start_time": "2022-03-01T17:53:56.130Z"
   },
   {
    "duration": 9,
    "start_time": "2022-03-01T17:53:56.243Z"
   },
   {
    "duration": 61,
    "start_time": "2022-03-01T17:53:56.255Z"
   },
   {
    "duration": 38,
    "start_time": "2022-03-01T17:53:56.319Z"
   },
   {
    "duration": 50,
    "start_time": "2022-03-01T17:53:56.360Z"
   },
   {
    "duration": 29,
    "start_time": "2022-03-01T17:53:56.412Z"
   },
   {
    "duration": 51,
    "start_time": "2022-03-01T17:53:56.443Z"
   },
   {
    "duration": 26,
    "start_time": "2022-03-01T17:53:56.496Z"
   },
   {
    "duration": 69,
    "start_time": "2022-03-01T17:53:56.525Z"
   },
   {
    "duration": 27,
    "start_time": "2022-03-01T17:53:56.596Z"
   },
   {
    "duration": 23,
    "start_time": "2022-03-01T17:53:56.625Z"
   },
   {
    "duration": 328,
    "start_time": "2022-03-01T17:53:56.653Z"
   },
   {
    "duration": -137,
    "start_time": "2022-03-01T17:53:57.121Z"
   },
   {
    "duration": -138,
    "start_time": "2022-03-01T17:53:57.124Z"
   },
   {
    "duration": -137,
    "start_time": "2022-03-01T17:53:57.125Z"
   },
   {
    "duration": -137,
    "start_time": "2022-03-01T17:53:57.127Z"
   },
   {
    "duration": -137,
    "start_time": "2022-03-01T17:53:57.128Z"
   },
   {
    "duration": -140,
    "start_time": "2022-03-01T17:53:57.133Z"
   },
   {
    "duration": -141,
    "start_time": "2022-03-01T17:53:57.135Z"
   },
   {
    "duration": -144,
    "start_time": "2022-03-01T17:53:57.139Z"
   },
   {
    "duration": -145,
    "start_time": "2022-03-01T17:53:57.141Z"
   },
   {
    "duration": -145,
    "start_time": "2022-03-01T17:53:57.143Z"
   },
   {
    "duration": -146,
    "start_time": "2022-03-01T17:53:57.145Z"
   },
   {
    "duration": 219,
    "start_time": "2022-03-01T17:54:39.212Z"
   },
   {
    "duration": 89,
    "start_time": "2022-03-01T17:55:26.867Z"
   },
   {
    "duration": 237,
    "start_time": "2022-03-01T17:55:35.371Z"
   },
   {
    "duration": 223,
    "start_time": "2022-03-01T17:56:42.718Z"
   },
   {
    "duration": 229,
    "start_time": "2022-03-01T17:57:08.329Z"
   },
   {
    "duration": 222,
    "start_time": "2022-03-01T17:57:20.732Z"
   },
   {
    "duration": 814,
    "start_time": "2022-03-01T17:57:28.082Z"
   },
   {
    "duration": 601,
    "start_time": "2022-03-01T17:57:34.811Z"
   },
   {
    "duration": 542,
    "start_time": "2022-03-01T17:57:52.663Z"
   },
   {
    "duration": 707,
    "start_time": "2022-03-01T17:57:59.057Z"
   },
   {
    "duration": 75,
    "start_time": "2022-03-01T18:43:11.421Z"
   },
   {
    "duration": 243,
    "start_time": "2022-03-01T18:43:18.505Z"
   },
   {
    "duration": 212,
    "start_time": "2022-03-01T18:43:35.516Z"
   },
   {
    "duration": 249,
    "start_time": "2022-03-01T18:44:47.574Z"
   },
   {
    "duration": 261,
    "start_time": "2022-03-01T18:45:23.866Z"
   },
   {
    "duration": 751,
    "start_time": "2022-03-01T18:45:40.071Z"
   },
   {
    "duration": 176,
    "start_time": "2022-03-01T18:45:40.826Z"
   },
   {
    "duration": 27,
    "start_time": "2022-03-01T18:45:41.005Z"
   },
   {
    "duration": 216,
    "start_time": "2022-03-01T18:45:41.036Z"
   },
   {
    "duration": 6,
    "start_time": "2022-03-01T18:45:41.255Z"
   },
   {
    "duration": 35,
    "start_time": "2022-03-01T18:45:41.264Z"
   },
   {
    "duration": 5,
    "start_time": "2022-03-01T18:45:41.302Z"
   },
   {
    "duration": 38,
    "start_time": "2022-03-01T18:45:41.312Z"
   },
   {
    "duration": 56,
    "start_time": "2022-03-01T18:45:41.353Z"
   },
   {
    "duration": 28,
    "start_time": "2022-03-01T18:45:41.411Z"
   },
   {
    "duration": 106,
    "start_time": "2022-03-01T18:45:41.442Z"
   },
   {
    "duration": 114,
    "start_time": "2022-03-01T18:45:41.550Z"
   },
   {
    "duration": 85,
    "start_time": "2022-03-01T18:45:41.667Z"
   },
   {
    "duration": 9,
    "start_time": "2022-03-01T18:45:41.754Z"
   },
   {
    "duration": 22,
    "start_time": "2022-03-01T18:45:41.766Z"
   },
   {
    "duration": 109,
    "start_time": "2022-03-01T18:45:41.791Z"
   },
   {
    "duration": 9,
    "start_time": "2022-03-01T18:45:41.903Z"
   },
   {
    "duration": 73,
    "start_time": "2022-03-01T18:45:41.914Z"
   },
   {
    "duration": 39,
    "start_time": "2022-03-01T18:45:41.990Z"
   },
   {
    "duration": 27,
    "start_time": "2022-03-01T18:45:42.031Z"
   },
   {
    "duration": 56,
    "start_time": "2022-03-01T18:45:42.060Z"
   },
   {
    "duration": 25,
    "start_time": "2022-03-01T18:45:42.118Z"
   },
   {
    "duration": 57,
    "start_time": "2022-03-01T18:45:42.149Z"
   },
   {
    "duration": 45,
    "start_time": "2022-03-01T18:45:42.209Z"
   },
   {
    "duration": 52,
    "start_time": "2022-03-01T18:45:42.256Z"
   },
   {
    "duration": 24,
    "start_time": "2022-03-01T18:45:42.311Z"
   },
   {
    "duration": 327,
    "start_time": "2022-03-01T18:45:42.337Z"
   },
   {
    "duration": -340,
    "start_time": "2022-03-01T18:45:43.006Z"
   },
   {
    "duration": -340,
    "start_time": "2022-03-01T18:45:43.008Z"
   },
   {
    "duration": -341,
    "start_time": "2022-03-01T18:45:43.010Z"
   },
   {
    "duration": -342,
    "start_time": "2022-03-01T18:45:43.012Z"
   },
   {
    "duration": -341,
    "start_time": "2022-03-01T18:45:43.013Z"
   },
   {
    "duration": -342,
    "start_time": "2022-03-01T18:45:43.015Z"
   },
   {
    "duration": -342,
    "start_time": "2022-03-01T18:45:43.016Z"
   },
   {
    "duration": -343,
    "start_time": "2022-03-01T18:45:43.018Z"
   },
   {
    "duration": -343,
    "start_time": "2022-03-01T18:45:43.019Z"
   },
   {
    "duration": -343,
    "start_time": "2022-03-01T18:45:43.021Z"
   },
   {
    "duration": -517,
    "start_time": "2022-03-01T18:45:43.196Z"
   },
   {
    "duration": 74,
    "start_time": "2022-03-01T18:46:49.284Z"
   },
   {
    "duration": 71,
    "start_time": "2022-03-01T18:47:22.232Z"
   },
   {
    "duration": 255,
    "start_time": "2022-03-01T18:47:35.155Z"
   },
   {
    "duration": 536,
    "start_time": "2022-03-01T22:57:44.469Z"
   },
   {
    "duration": 118,
    "start_time": "2022-03-01T22:57:45.007Z"
   },
   {
    "duration": 15,
    "start_time": "2022-03-01T22:57:45.127Z"
   },
   {
    "duration": 120,
    "start_time": "2022-03-01T22:57:45.143Z"
   },
   {
    "duration": 3,
    "start_time": "2022-03-01T22:57:45.264Z"
   },
   {
    "duration": 12,
    "start_time": "2022-03-01T22:57:45.268Z"
   },
   {
    "duration": 5,
    "start_time": "2022-03-01T22:57:45.281Z"
   },
   {
    "duration": 34,
    "start_time": "2022-03-01T22:57:45.287Z"
   },
   {
    "duration": 13,
    "start_time": "2022-03-01T22:57:45.323Z"
   },
   {
    "duration": 17,
    "start_time": "2022-03-01T22:57:45.338Z"
   },
   {
    "duration": 64,
    "start_time": "2022-03-01T22:57:45.357Z"
   },
   {
    "duration": 54,
    "start_time": "2022-03-01T22:57:45.423Z"
   },
   {
    "duration": 57,
    "start_time": "2022-03-01T22:57:45.479Z"
   },
   {
    "duration": 5,
    "start_time": "2022-03-01T22:57:45.538Z"
   },
   {
    "duration": 4,
    "start_time": "2022-03-01T22:57:45.544Z"
   },
   {
    "duration": 69,
    "start_time": "2022-03-01T22:57:45.549Z"
   },
   {
    "duration": 6,
    "start_time": "2022-03-01T22:57:45.620Z"
   },
   {
    "duration": 26,
    "start_time": "2022-03-01T22:57:45.627Z"
   },
   {
    "duration": 23,
    "start_time": "2022-03-01T22:57:45.655Z"
   },
   {
    "duration": 42,
    "start_time": "2022-03-01T22:57:45.679Z"
   },
   {
    "duration": 16,
    "start_time": "2022-03-01T22:57:45.723Z"
   },
   {
    "duration": 15,
    "start_time": "2022-03-01T22:57:45.741Z"
   },
   {
    "duration": 17,
    "start_time": "2022-03-01T22:57:45.758Z"
   },
   {
    "duration": 56,
    "start_time": "2022-03-01T22:57:45.776Z"
   },
   {
    "duration": 17,
    "start_time": "2022-03-01T22:57:45.833Z"
   },
   {
    "duration": 15,
    "start_time": "2022-03-01T22:57:45.852Z"
   },
   {
    "duration": 355,
    "start_time": "2022-03-01T22:57:45.870Z"
   },
   {
    "duration": -583711,
    "start_time": "2022-03-01T23:07:29.938Z"
   },
   {
    "duration": -583712,
    "start_time": "2022-03-01T23:07:29.940Z"
   },
   {
    "duration": -583712,
    "start_time": "2022-03-01T23:07:29.941Z"
   },
   {
    "duration": -583712,
    "start_time": "2022-03-01T23:07:29.942Z"
   },
   {
    "duration": -583714,
    "start_time": "2022-03-01T23:07:29.944Z"
   },
   {
    "duration": -583714,
    "start_time": "2022-03-01T23:07:29.945Z"
   },
   {
    "duration": -583715,
    "start_time": "2022-03-01T23:07:29.947Z"
   },
   {
    "duration": -583717,
    "start_time": "2022-03-01T23:07:29.949Z"
   },
   {
    "duration": -583717,
    "start_time": "2022-03-01T23:07:29.950Z"
   },
   {
    "duration": -583717,
    "start_time": "2022-03-01T23:07:29.951Z"
   },
   {
    "duration": -583719,
    "start_time": "2022-03-01T23:07:29.953Z"
   },
   {
    "duration": 291,
    "start_time": "2022-03-01T23:00:35.187Z"
   },
   {
    "duration": 550,
    "start_time": "2022-03-01T23:23:31.110Z"
   },
   {
    "duration": 114,
    "start_time": "2022-03-01T23:23:31.661Z"
   },
   {
    "duration": 15,
    "start_time": "2022-03-01T23:23:31.777Z"
   },
   {
    "duration": 124,
    "start_time": "2022-03-01T23:23:31.794Z"
   },
   {
    "duration": 3,
    "start_time": "2022-03-01T23:23:31.920Z"
   },
   {
    "duration": 12,
    "start_time": "2022-03-01T23:23:31.924Z"
   },
   {
    "duration": 4,
    "start_time": "2022-03-01T23:23:31.938Z"
   },
   {
    "duration": 19,
    "start_time": "2022-03-01T23:23:31.944Z"
   },
   {
    "duration": 14,
    "start_time": "2022-03-01T23:23:31.965Z"
   },
   {
    "duration": 39,
    "start_time": "2022-03-01T23:23:31.980Z"
   },
   {
    "duration": 46,
    "start_time": "2022-03-01T23:23:32.021Z"
   },
   {
    "duration": 72,
    "start_time": "2022-03-01T23:23:32.069Z"
   },
   {
    "duration": 43,
    "start_time": "2022-03-01T23:23:32.142Z"
   },
   {
    "duration": 5,
    "start_time": "2022-03-01T23:23:32.187Z"
   },
   {
    "duration": 3,
    "start_time": "2022-03-01T23:23:32.205Z"
   },
   {
    "duration": 53,
    "start_time": "2022-03-01T23:23:32.210Z"
   },
   {
    "duration": 5,
    "start_time": "2022-03-01T23:23:32.265Z"
   },
   {
    "duration": 41,
    "start_time": "2022-03-01T23:23:32.272Z"
   },
   {
    "duration": 23,
    "start_time": "2022-03-01T23:23:32.314Z"
   },
   {
    "duration": 15,
    "start_time": "2022-03-01T23:23:32.339Z"
   },
   {
    "duration": 16,
    "start_time": "2022-03-01T23:23:32.355Z"
   },
   {
    "duration": 35,
    "start_time": "2022-03-01T23:23:32.372Z"
   },
   {
    "duration": 17,
    "start_time": "2022-03-01T23:23:32.411Z"
   },
   {
    "duration": 25,
    "start_time": "2022-03-01T23:23:32.430Z"
   },
   {
    "duration": 17,
    "start_time": "2022-03-01T23:23:32.457Z"
   },
   {
    "duration": 41,
    "start_time": "2022-03-01T23:23:32.475Z"
   },
   {
    "duration": 334,
    "start_time": "2022-03-01T23:23:32.517Z"
   },
   {
    "duration": -583735,
    "start_time": "2022-03-01T23:33:16.587Z"
   },
   {
    "duration": -583743,
    "start_time": "2022-03-01T23:33:16.596Z"
   },
   {
    "duration": -583746,
    "start_time": "2022-03-01T23:33:16.600Z"
   },
   {
    "duration": -583750,
    "start_time": "2022-03-01T23:33:16.605Z"
   },
   {
    "duration": -583752,
    "start_time": "2022-03-01T23:33:16.608Z"
   },
   {
    "duration": -583752,
    "start_time": "2022-03-01T23:33:16.609Z"
   },
   {
    "duration": -583753,
    "start_time": "2022-03-01T23:33:16.611Z"
   },
   {
    "duration": -583753,
    "start_time": "2022-03-01T23:33:16.612Z"
   },
   {
    "duration": -583754,
    "start_time": "2022-03-01T23:33:16.614Z"
   },
   {
    "duration": -583759,
    "start_time": "2022-03-01T23:33:16.620Z"
   },
   {
    "duration": -583762,
    "start_time": "2022-03-01T23:33:16.624Z"
   },
   {
    "duration": 309,
    "start_time": "2022-03-01T23:24:49.567Z"
   },
   {
    "duration": 281,
    "start_time": "2022-03-01T23:25:32.982Z"
   },
   {
    "duration": 278,
    "start_time": "2022-03-01T23:25:44.323Z"
   },
   {
    "duration": 6,
    "start_time": "2022-03-01T23:54:03.244Z"
   },
   {
    "duration": 10,
    "start_time": "2022-03-02T00:02:57.793Z"
   },
   {
    "duration": 22,
    "start_time": "2022-03-02T00:03:02.016Z"
   },
   {
    "duration": 16,
    "start_time": "2022-03-02T00:03:03.327Z"
   },
   {
    "duration": 19,
    "start_time": "2022-03-02T00:03:04.507Z"
   },
   {
    "duration": 30,
    "start_time": "2022-03-02T00:03:05.225Z"
   },
   {
    "duration": 19,
    "start_time": "2022-03-02T00:03:06.019Z"
   },
   {
    "duration": 16,
    "start_time": "2022-03-02T00:03:07.071Z"
   },
   {
    "duration": 7,
    "start_time": "2022-03-02T00:03:09.169Z"
   },
   {
    "duration": 553,
    "start_time": "2022-03-02T14:15:53.430Z"
   },
   {
    "duration": 112,
    "start_time": "2022-03-02T14:15:53.984Z"
   },
   {
    "duration": 25,
    "start_time": "2022-03-02T14:15:54.098Z"
   },
   {
    "duration": 129,
    "start_time": "2022-03-02T14:15:54.124Z"
   },
   {
    "duration": 2,
    "start_time": "2022-03-02T14:15:54.255Z"
   },
   {
    "duration": 12,
    "start_time": "2022-03-02T14:15:54.259Z"
   },
   {
    "duration": 5,
    "start_time": "2022-03-02T14:15:54.272Z"
   },
   {
    "duration": 40,
    "start_time": "2022-03-02T14:15:54.279Z"
   },
   {
    "duration": 17,
    "start_time": "2022-03-02T14:15:54.321Z"
   },
   {
    "duration": 19,
    "start_time": "2022-03-02T14:15:54.340Z"
   },
   {
    "duration": 62,
    "start_time": "2022-03-02T14:15:54.360Z"
   },
   {
    "duration": 49,
    "start_time": "2022-03-02T14:15:54.424Z"
   },
   {
    "duration": 55,
    "start_time": "2022-03-02T14:15:54.474Z"
   },
   {
    "duration": 5,
    "start_time": "2022-03-02T14:15:54.531Z"
   },
   {
    "duration": 3,
    "start_time": "2022-03-02T14:15:54.537Z"
   },
   {
    "duration": 51,
    "start_time": "2022-03-02T14:15:54.541Z"
   },
   {
    "duration": 14,
    "start_time": "2022-03-02T14:15:54.593Z"
   },
   {
    "duration": 37,
    "start_time": "2022-03-02T14:15:54.609Z"
   },
   {
    "duration": 22,
    "start_time": "2022-03-02T14:15:54.648Z"
   },
   {
    "duration": 9,
    "start_time": "2022-03-02T14:15:54.672Z"
   },
   {
    "duration": 40,
    "start_time": "2022-03-02T14:15:54.682Z"
   },
   {
    "duration": 13,
    "start_time": "2022-03-02T14:15:54.723Z"
   },
   {
    "duration": 15,
    "start_time": "2022-03-02T14:15:54.739Z"
   },
   {
    "duration": 49,
    "start_time": "2022-03-02T14:15:54.756Z"
   },
   {
    "duration": 25,
    "start_time": "2022-03-02T14:15:54.809Z"
   },
   {
    "duration": 13,
    "start_time": "2022-03-02T14:15:54.835Z"
   },
   {
    "duration": 5,
    "start_time": "2022-03-02T14:15:54.850Z"
   },
   {
    "duration": 12,
    "start_time": "2022-03-02T14:15:54.856Z"
   },
   {
    "duration": 5,
    "start_time": "2022-03-02T14:15:54.870Z"
   },
   {
    "duration": 100,
    "start_time": "2022-03-02T14:15:54.877Z"
   },
   {
    "duration": -152,
    "start_time": "2022-03-02T14:15:55.131Z"
   },
   {
    "duration": -153,
    "start_time": "2022-03-02T14:15:55.133Z"
   },
   {
    "duration": -153,
    "start_time": "2022-03-02T14:15:55.134Z"
   },
   {
    "duration": -154,
    "start_time": "2022-03-02T14:15:55.136Z"
   },
   {
    "duration": -156,
    "start_time": "2022-03-02T14:15:55.138Z"
   },
   {
    "duration": -156,
    "start_time": "2022-03-02T14:15:55.139Z"
   },
   {
    "duration": -156,
    "start_time": "2022-03-02T14:15:55.140Z"
   },
   {
    "duration": -158,
    "start_time": "2022-03-02T14:15:55.143Z"
   },
   {
    "duration": 436,
    "start_time": "2022-03-02T14:23:34.965Z"
   },
   {
    "duration": 3,
    "start_time": "2022-03-02T14:39:52.520Z"
   },
   {
    "duration": 18,
    "start_time": "2022-03-02T14:39:57.242Z"
   },
   {
    "duration": 16,
    "start_time": "2022-03-02T14:39:58.287Z"
   },
   {
    "duration": 18,
    "start_time": "2022-03-02T14:39:59.740Z"
   },
   {
    "duration": 28,
    "start_time": "2022-03-02T14:40:00.138Z"
   },
   {
    "duration": 19,
    "start_time": "2022-03-02T14:40:00.744Z"
   },
   {
    "duration": 17,
    "start_time": "2022-03-02T14:40:01.614Z"
   },
   {
    "duration": 351,
    "start_time": "2022-03-02T14:40:03.492Z"
   },
   {
    "duration": 3,
    "start_time": "2022-03-02T14:42:25.617Z"
   },
   {
    "duration": 20,
    "start_time": "2022-03-02T14:42:28.445Z"
   },
   {
    "duration": 16,
    "start_time": "2022-03-02T14:42:30.193Z"
   },
   {
    "duration": 4,
    "start_time": "2022-03-02T14:42:55.068Z"
   },
   {
    "duration": 18,
    "start_time": "2022-03-02T14:42:57.296Z"
   },
   {
    "duration": 16,
    "start_time": "2022-03-02T14:42:58.108Z"
   },
   {
    "duration": 17,
    "start_time": "2022-03-02T14:42:58.650Z"
   },
   {
    "duration": 28,
    "start_time": "2022-03-02T14:42:59.189Z"
   },
   {
    "duration": 20,
    "start_time": "2022-03-02T14:42:59.984Z"
   },
   {
    "duration": 17,
    "start_time": "2022-03-02T14:43:01.008Z"
   },
   {
    "duration": 4,
    "start_time": "2022-03-02T14:43:50.446Z"
   },
   {
    "duration": 18,
    "start_time": "2022-03-02T14:43:52.165Z"
   },
   {
    "duration": 15,
    "start_time": "2022-03-02T14:43:52.950Z"
   },
   {
    "duration": 17,
    "start_time": "2022-03-02T14:43:53.758Z"
   },
   {
    "duration": 28,
    "start_time": "2022-03-02T14:43:54.424Z"
   },
   {
    "duration": 18,
    "start_time": "2022-03-02T14:43:55.023Z"
   },
   {
    "duration": 17,
    "start_time": "2022-03-02T14:43:55.654Z"
   },
   {
    "duration": 3,
    "start_time": "2022-03-02T14:45:18.000Z"
   },
   {
    "duration": 4,
    "start_time": "2022-03-02T14:45:30.523Z"
   },
   {
    "duration": 17,
    "start_time": "2022-03-02T14:45:36.197Z"
   },
   {
    "duration": 15,
    "start_time": "2022-03-02T14:45:36.836Z"
   },
   {
    "duration": 17,
    "start_time": "2022-03-02T14:45:37.324Z"
   },
   {
    "duration": 27,
    "start_time": "2022-03-02T14:45:37.741Z"
   },
   {
    "duration": 18,
    "start_time": "2022-03-02T14:45:38.020Z"
   },
   {
    "duration": 16,
    "start_time": "2022-03-02T14:45:38.587Z"
   },
   {
    "duration": 10,
    "start_time": "2022-03-02T14:45:53.462Z"
   },
   {
    "duration": 282,
    "start_time": "2022-03-02T14:54:38.664Z"
   },
   {
    "duration": 5,
    "start_time": "2022-03-02T14:54:56.952Z"
   },
   {
    "duration": 7,
    "start_time": "2022-03-02T14:55:05.046Z"
   },
   {
    "duration": 93,
    "start_time": "2022-03-02T14:57:35.851Z"
   },
   {
    "duration": 396,
    "start_time": "2022-03-02T14:57:42.730Z"
   },
   {
    "duration": 25,
    "start_time": "2022-03-02T14:59:19.757Z"
   },
   {
    "duration": 25,
    "start_time": "2022-03-02T14:59:35.592Z"
   },
   {
    "duration": 552,
    "start_time": "2022-03-03T01:39:10.057Z"
   },
   {
    "duration": 137,
    "start_time": "2022-03-03T01:39:10.610Z"
   },
   {
    "duration": 16,
    "start_time": "2022-03-03T01:39:10.749Z"
   },
   {
    "duration": 140,
    "start_time": "2022-03-03T01:39:10.766Z"
   },
   {
    "duration": 3,
    "start_time": "2022-03-03T01:39:10.908Z"
   },
   {
    "duration": 33,
    "start_time": "2022-03-03T01:39:10.912Z"
   },
   {
    "duration": 6,
    "start_time": "2022-03-03T01:39:10.947Z"
   },
   {
    "duration": 21,
    "start_time": "2022-03-03T01:39:10.955Z"
   },
   {
    "duration": 14,
    "start_time": "2022-03-03T01:39:10.979Z"
   },
   {
    "duration": 20,
    "start_time": "2022-03-03T01:39:10.995Z"
   },
   {
    "duration": 73,
    "start_time": "2022-03-03T01:39:11.017Z"
   },
   {
    "duration": 61,
    "start_time": "2022-03-03T01:39:11.092Z"
   },
   {
    "duration": 43,
    "start_time": "2022-03-03T01:39:11.155Z"
   },
   {
    "duration": 5,
    "start_time": "2022-03-03T01:39:11.200Z"
   },
   {
    "duration": 3,
    "start_time": "2022-03-03T01:39:11.207Z"
   },
   {
    "duration": 75,
    "start_time": "2022-03-03T01:39:11.211Z"
   },
   {
    "duration": 5,
    "start_time": "2022-03-03T01:39:11.288Z"
   },
   {
    "duration": 50,
    "start_time": "2022-03-03T01:39:11.295Z"
   },
   {
    "duration": 27,
    "start_time": "2022-03-03T01:39:11.346Z"
   },
   {
    "duration": 10,
    "start_time": "2022-03-03T01:39:11.374Z"
   },
   {
    "duration": 23,
    "start_time": "2022-03-03T01:39:11.386Z"
   },
   {
    "duration": 32,
    "start_time": "2022-03-03T01:39:11.411Z"
   },
   {
    "duration": 20,
    "start_time": "2022-03-03T01:39:11.447Z"
   },
   {
    "duration": 33,
    "start_time": "2022-03-03T01:39:11.469Z"
   },
   {
    "duration": 54,
    "start_time": "2022-03-03T01:39:11.504Z"
   },
   {
    "duration": 16,
    "start_time": "2022-03-03T01:39:11.559Z"
   },
   {
    "duration": 360,
    "start_time": "2022-03-03T01:39:11.576Z"
   },
   {
    "duration": -586007,
    "start_time": "2022-03-03T01:48:57.945Z"
   },
   {
    "duration": -586010,
    "start_time": "2022-03-03T01:48:57.949Z"
   },
   {
    "duration": -586011,
    "start_time": "2022-03-03T01:48:57.950Z"
   },
   {
    "duration": -586012,
    "start_time": "2022-03-03T01:48:57.952Z"
   },
   {
    "duration": -586012,
    "start_time": "2022-03-03T01:48:57.954Z"
   },
   {
    "duration": -586012,
    "start_time": "2022-03-03T01:48:57.955Z"
   },
   {
    "duration": -586013,
    "start_time": "2022-03-03T01:48:57.957Z"
   },
   {
    "duration": -586013,
    "start_time": "2022-03-03T01:48:57.958Z"
   },
   {
    "duration": -586014,
    "start_time": "2022-03-03T01:48:57.960Z"
   },
   {
    "duration": -586015,
    "start_time": "2022-03-03T01:48:57.962Z"
   },
   {
    "duration": -586016,
    "start_time": "2022-03-03T01:48:57.964Z"
   },
   {
    "duration": 10,
    "start_time": "2022-03-03T02:25:41.890Z"
   },
   {
    "duration": 21,
    "start_time": "2022-03-03T02:26:51.503Z"
   },
   {
    "duration": 4,
    "start_time": "2022-03-03T02:28:49.431Z"
   },
   {
    "duration": 4,
    "start_time": "2022-03-03T02:28:55.825Z"
   },
   {
    "duration": 17,
    "start_time": "2022-03-03T02:29:03.221Z"
   },
   {
    "duration": 13,
    "start_time": "2022-03-03T02:29:04.846Z"
   },
   {
    "duration": 14,
    "start_time": "2022-03-03T02:29:05.796Z"
   },
   {
    "duration": 16,
    "start_time": "2022-03-03T02:30:47.380Z"
   },
   {
    "duration": 15,
    "start_time": "2022-03-03T02:30:48.106Z"
   },
   {
    "duration": 15,
    "start_time": "2022-03-03T02:30:48.792Z"
   },
   {
    "duration": 29,
    "start_time": "2022-03-03T02:30:49.524Z"
   },
   {
    "duration": 17,
    "start_time": "2022-03-03T02:30:50.265Z"
   },
   {
    "duration": 14,
    "start_time": "2022-03-03T02:30:53.311Z"
   },
   {
    "duration": 266,
    "start_time": "2022-03-03T02:30:56.185Z"
   },
   {
    "duration": 59,
    "start_time": "2022-03-03T02:35:19.446Z"
   },
   {
    "duration": 34,
    "start_time": "2022-03-03T02:35:32.999Z"
   },
   {
    "duration": 63,
    "start_time": "2022-03-03T02:37:31.050Z"
   },
   {
    "duration": 61,
    "start_time": "2022-03-03T02:37:38.270Z"
   },
   {
    "duration": 10,
    "start_time": "2022-03-03T02:43:57.121Z"
   },
   {
    "duration": 12,
    "start_time": "2022-03-03T02:44:30.108Z"
   },
   {
    "duration": 9,
    "start_time": "2022-03-03T02:46:42.974Z"
   },
   {
    "duration": 173,
    "start_time": "2022-03-03T02:47:57.014Z"
   },
   {
    "duration": 64,
    "start_time": "2022-03-03T02:50:31.946Z"
   },
   {
    "duration": 12,
    "start_time": "2022-03-03T02:50:44.146Z"
   },
   {
    "duration": 821,
    "start_time": "2022-03-03T13:57:21.042Z"
   },
   {
    "duration": 190,
    "start_time": "2022-03-03T13:57:21.865Z"
   },
   {
    "duration": 26,
    "start_time": "2022-03-03T13:57:22.057Z"
   },
   {
    "duration": 216,
    "start_time": "2022-03-03T13:57:22.085Z"
   },
   {
    "duration": 5,
    "start_time": "2022-03-03T13:57:22.303Z"
   },
   {
    "duration": 48,
    "start_time": "2022-03-03T13:57:22.310Z"
   },
   {
    "duration": 38,
    "start_time": "2022-03-03T13:57:22.361Z"
   },
   {
    "duration": 53,
    "start_time": "2022-03-03T13:57:22.403Z"
   },
   {
    "duration": 56,
    "start_time": "2022-03-03T13:57:22.459Z"
   },
   {
    "duration": 37,
    "start_time": "2022-03-03T13:57:22.518Z"
   },
   {
    "duration": 102,
    "start_time": "2022-03-03T13:57:22.558Z"
   },
   {
    "duration": 94,
    "start_time": "2022-03-03T13:57:22.663Z"
   },
   {
    "duration": 82,
    "start_time": "2022-03-03T13:57:22.759Z"
   },
   {
    "duration": 30,
    "start_time": "2022-03-03T13:57:22.844Z"
   },
   {
    "duration": 15,
    "start_time": "2022-03-03T13:57:22.877Z"
   },
   {
    "duration": 105,
    "start_time": "2022-03-03T13:57:22.894Z"
   },
   {
    "duration": 9,
    "start_time": "2022-03-03T13:57:23.002Z"
   },
   {
    "duration": 64,
    "start_time": "2022-03-03T13:57:23.013Z"
   },
   {
    "duration": 41,
    "start_time": "2022-03-03T13:57:23.079Z"
   },
   {
    "duration": 5,
    "start_time": "2022-03-03T13:57:23.123Z"
   },
   {
    "duration": 52,
    "start_time": "2022-03-03T13:57:23.130Z"
   },
   {
    "duration": 19,
    "start_time": "2022-03-03T13:57:23.184Z"
   },
   {
    "duration": 25,
    "start_time": "2022-03-03T13:57:23.208Z"
   },
   {
    "duration": 59,
    "start_time": "2022-03-03T13:57:23.236Z"
   },
   {
    "duration": 20,
    "start_time": "2022-03-03T13:57:23.298Z"
   },
   {
    "duration": 34,
    "start_time": "2022-03-03T13:57:23.321Z"
   },
   {
    "duration": 107,
    "start_time": "2022-03-03T13:57:23.357Z"
   },
   {
    "duration": 15,
    "start_time": "2022-03-03T13:57:23.473Z"
   },
   {
    "duration": 27,
    "start_time": "2022-03-03T13:57:23.491Z"
   },
   {
    "duration": 93,
    "start_time": "2022-03-03T13:57:23.520Z"
   },
   {
    "duration": -187,
    "start_time": "2022-03-03T13:57:23.803Z"
   },
   {
    "duration": -189,
    "start_time": "2022-03-03T13:57:23.807Z"
   },
   {
    "duration": -211,
    "start_time": "2022-03-03T13:57:23.830Z"
   },
   {
    "duration": -212,
    "start_time": "2022-03-03T13:57:23.833Z"
   },
   {
    "duration": -247,
    "start_time": "2022-03-03T13:57:23.870Z"
   },
   {
    "duration": -251,
    "start_time": "2022-03-03T13:57:23.876Z"
   },
   {
    "duration": -258,
    "start_time": "2022-03-03T13:57:23.885Z"
   },
   {
    "duration": -264,
    "start_time": "2022-03-03T13:57:23.892Z"
   },
   {
    "duration": 18,
    "start_time": "2022-03-03T14:12:08.378Z"
   },
   {
    "duration": 78,
    "start_time": "2022-03-03T14:38:39.463Z"
   },
   {
    "duration": 97,
    "start_time": "2022-03-03T14:38:43.587Z"
   },
   {
    "duration": 75,
    "start_time": "2022-03-03T14:39:10.634Z"
   },
   {
    "duration": 85,
    "start_time": "2022-03-03T14:39:25.510Z"
   },
   {
    "duration": 99,
    "start_time": "2022-03-03T14:39:55.126Z"
   },
   {
    "duration": 94,
    "start_time": "2022-03-03T14:40:19.456Z"
   },
   {
    "duration": 93,
    "start_time": "2022-03-03T14:40:31.181Z"
   },
   {
    "duration": 300,
    "start_time": "2022-03-03T15:40:21.975Z"
   },
   {
    "duration": 565,
    "start_time": "2022-03-04T02:19:37.483Z"
   },
   {
    "duration": 130,
    "start_time": "2022-03-04T02:19:38.050Z"
   },
   {
    "duration": 16,
    "start_time": "2022-03-04T02:19:38.182Z"
   },
   {
    "duration": 150,
    "start_time": "2022-03-04T02:19:38.200Z"
   },
   {
    "duration": 3,
    "start_time": "2022-03-04T02:19:38.351Z"
   },
   {
    "duration": 26,
    "start_time": "2022-03-04T02:19:38.359Z"
   },
   {
    "duration": 16,
    "start_time": "2022-03-04T02:19:38.387Z"
   },
   {
    "duration": 29,
    "start_time": "2022-03-04T02:19:38.405Z"
   },
   {
    "duration": 15,
    "start_time": "2022-03-04T02:19:38.436Z"
   },
   {
    "duration": 21,
    "start_time": "2022-03-04T02:19:38.452Z"
   },
   {
    "duration": 51,
    "start_time": "2022-03-04T02:19:38.474Z"
   },
   {
    "duration": 77,
    "start_time": "2022-03-04T02:19:38.526Z"
   },
   {
    "duration": 55,
    "start_time": "2022-03-04T02:19:38.605Z"
   },
   {
    "duration": 6,
    "start_time": "2022-03-04T02:19:38.662Z"
   },
   {
    "duration": 8,
    "start_time": "2022-03-04T02:19:38.669Z"
   },
   {
    "duration": 62,
    "start_time": "2022-03-04T02:19:38.679Z"
   },
   {
    "duration": 18,
    "start_time": "2022-03-04T02:19:38.743Z"
   },
   {
    "duration": 28,
    "start_time": "2022-03-04T02:19:38.763Z"
   },
   {
    "duration": 26,
    "start_time": "2022-03-04T02:19:38.793Z"
   },
   {
    "duration": 4,
    "start_time": "2022-03-04T02:19:38.820Z"
   },
   {
    "duration": 43,
    "start_time": "2022-03-04T02:19:38.825Z"
   },
   {
    "duration": 12,
    "start_time": "2022-03-04T02:19:38.870Z"
   },
   {
    "duration": 13,
    "start_time": "2022-03-04T02:19:38.885Z"
   },
   {
    "duration": 20,
    "start_time": "2022-03-04T02:19:38.900Z"
   },
   {
    "duration": 45,
    "start_time": "2022-03-04T02:19:38.922Z"
   },
   {
    "duration": 12,
    "start_time": "2022-03-04T02:19:38.968Z"
   },
   {
    "duration": 78,
    "start_time": "2022-03-04T02:19:38.982Z"
   },
   {
    "duration": 9,
    "start_time": "2022-03-04T02:19:39.062Z"
   },
   {
    "duration": 8,
    "start_time": "2022-03-04T02:19:39.072Z"
   },
   {
    "duration": 64,
    "start_time": "2022-03-04T02:19:39.081Z"
   },
   {
    "duration": -588894,
    "start_time": "2022-03-04T02:29:28.041Z"
   },
   {
    "duration": -588895,
    "start_time": "2022-03-04T02:29:28.043Z"
   },
   {
    "duration": -588895,
    "start_time": "2022-03-04T02:29:28.044Z"
   },
   {
    "duration": -589001,
    "start_time": "2022-03-04T02:29:28.151Z"
   },
   {
    "duration": -589004,
    "start_time": "2022-03-04T02:29:28.155Z"
   },
   {
    "duration": -589005,
    "start_time": "2022-03-04T02:29:28.157Z"
   },
   {
    "duration": -589007,
    "start_time": "2022-03-04T02:29:28.159Z"
   },
   {
    "duration": -589006,
    "start_time": "2022-03-04T02:29:28.160Z"
   },
   {
    "duration": 72,
    "start_time": "2022-03-04T02:44:15.536Z"
   },
   {
    "duration": 4,
    "start_time": "2022-03-04T02:44:29.534Z"
   },
   {
    "duration": 4,
    "start_time": "2022-03-04T02:44:42.726Z"
   },
   {
    "duration": 4,
    "start_time": "2022-03-04T02:44:55.426Z"
   },
   {
    "duration": 5,
    "start_time": "2022-03-04T02:45:39.796Z"
   },
   {
    "duration": 577,
    "start_time": "2022-03-04T02:45:47.237Z"
   },
   {
    "duration": 129,
    "start_time": "2022-03-04T02:45:47.816Z"
   },
   {
    "duration": 16,
    "start_time": "2022-03-04T02:45:47.947Z"
   },
   {
    "duration": 143,
    "start_time": "2022-03-04T02:45:47.965Z"
   },
   {
    "duration": 3,
    "start_time": "2022-03-04T02:45:48.110Z"
   },
   {
    "duration": 16,
    "start_time": "2022-03-04T02:45:48.114Z"
   },
   {
    "duration": 5,
    "start_time": "2022-03-04T02:45:48.132Z"
   },
   {
    "duration": 38,
    "start_time": "2022-03-04T02:45:48.138Z"
   },
   {
    "duration": 15,
    "start_time": "2022-03-04T02:45:48.179Z"
   },
   {
    "duration": 21,
    "start_time": "2022-03-04T02:45:48.196Z"
   },
   {
    "duration": 71,
    "start_time": "2022-03-04T02:45:48.219Z"
   },
   {
    "duration": 71,
    "start_time": "2022-03-04T02:45:48.292Z"
   },
   {
    "duration": 52,
    "start_time": "2022-03-04T02:45:48.364Z"
   },
   {
    "duration": 6,
    "start_time": "2022-03-04T02:45:48.418Z"
   },
   {
    "duration": 3,
    "start_time": "2022-03-04T02:45:48.426Z"
   },
   {
    "duration": 84,
    "start_time": "2022-03-04T02:45:48.431Z"
   },
   {
    "duration": 6,
    "start_time": "2022-03-04T02:45:48.517Z"
   },
   {
    "duration": 51,
    "start_time": "2022-03-04T02:45:48.524Z"
   },
   {
    "duration": 30,
    "start_time": "2022-03-04T02:45:48.577Z"
   },
   {
    "duration": 3,
    "start_time": "2022-03-04T02:45:48.609Z"
   },
   {
    "duration": 20,
    "start_time": "2022-03-04T02:45:48.614Z"
   },
   {
    "duration": 36,
    "start_time": "2022-03-04T02:45:48.636Z"
   },
   {
    "duration": 15,
    "start_time": "2022-03-04T02:45:48.673Z"
   },
   {
    "duration": 21,
    "start_time": "2022-03-04T02:45:48.689Z"
   },
   {
    "duration": 16,
    "start_time": "2022-03-04T02:45:48.712Z"
   },
   {
    "duration": 14,
    "start_time": "2022-03-04T02:45:48.759Z"
   },
   {
    "duration": 64,
    "start_time": "2022-03-04T02:45:48.777Z"
   },
   {
    "duration": 23,
    "start_time": "2022-03-04T02:45:48.842Z"
   },
   {
    "duration": 9,
    "start_time": "2022-03-04T02:45:48.867Z"
   },
   {
    "duration": 4,
    "start_time": "2022-03-04T02:45:48.878Z"
   },
   {
    "duration": 6,
    "start_time": "2022-03-04T02:45:48.883Z"
   },
   {
    "duration": 10,
    "start_time": "2022-03-04T02:45:48.890Z"
   },
   {
    "duration": 14,
    "start_time": "2022-03-04T02:45:48.901Z"
   },
   {
    "duration": 10,
    "start_time": "2022-03-04T02:45:48.917Z"
   },
   {
    "duration": 4,
    "start_time": "2022-03-04T02:45:48.929Z"
   },
   {
    "duration": 5,
    "start_time": "2022-03-04T02:45:48.935Z"
   },
   {
    "duration": 6,
    "start_time": "2022-03-04T02:45:48.942Z"
   },
   {
    "duration": 2,
    "start_time": "2022-03-04T02:45:48.959Z"
   },
   {
    "duration": 4,
    "start_time": "2022-03-04T02:48:54.552Z"
   },
   {
    "duration": 72,
    "start_time": "2022-03-04T02:51:10.067Z"
   },
   {
    "duration": 76,
    "start_time": "2022-03-04T02:54:20.266Z"
   },
   {
    "duration": 62,
    "start_time": "2022-03-04T02:54:31.618Z"
   },
   {
    "duration": 64,
    "start_time": "2022-03-04T02:54:38.266Z"
   },
   {
    "duration": 238,
    "start_time": "2022-03-04T02:54:43.132Z"
   },
   {
    "duration": 5,
    "start_time": "2022-03-04T02:55:08.679Z"
   },
   {
    "duration": 206,
    "start_time": "2022-03-04T02:55:13.736Z"
   },
   {
    "duration": 4916,
    "start_time": "2022-03-04T02:55:23.580Z"
   },
   {
    "duration": 71,
    "start_time": "2022-03-04T02:55:39.952Z"
   },
   {
    "duration": 4,
    "start_time": "2022-03-04T03:03:39.962Z"
   },
   {
    "duration": 62,
    "start_time": "2022-03-04T03:03:41.483Z"
   },
   {
    "duration": 62,
    "start_time": "2022-03-04T03:04:09.392Z"
   },
   {
    "duration": 4,
    "start_time": "2022-03-04T03:05:03.203Z"
   },
   {
    "duration": 76,
    "start_time": "2022-03-04T03:05:04.488Z"
   },
   {
    "duration": 64,
    "start_time": "2022-03-04T03:05:12.154Z"
   },
   {
    "duration": 3,
    "start_time": "2022-03-04T03:21:08.603Z"
   },
   {
    "duration": 74,
    "start_time": "2022-03-04T03:21:14.491Z"
   },
   {
    "duration": 4,
    "start_time": "2022-03-04T03:21:31.133Z"
   },
   {
    "duration": 97,
    "start_time": "2022-03-04T03:22:21.598Z"
   },
   {
    "duration": 4,
    "start_time": "2022-03-04T03:22:29.667Z"
   },
   {
    "duration": 5001,
    "start_time": "2022-03-04T03:33:17.843Z"
   },
   {
    "duration": 5538,
    "start_time": "2022-03-04T03:34:05.008Z"
   },
   {
    "duration": 192,
    "start_time": "2022-03-04T03:36:14.825Z"
   },
   {
    "duration": 4,
    "start_time": "2022-03-04T03:36:41.582Z"
   },
   {
    "duration": 4,
    "start_time": "2022-03-04T03:37:20.626Z"
   },
   {
    "duration": 5,
    "start_time": "2022-03-04T03:37:26.905Z"
   },
   {
    "duration": 77,
    "start_time": "2022-03-04T03:41:22.563Z"
   },
   {
    "duration": 134,
    "start_time": "2022-03-04T03:41:33.721Z"
   },
   {
    "duration": 4,
    "start_time": "2022-03-04T03:41:48.494Z"
   },
   {
    "duration": 2,
    "start_time": "2022-03-04T03:45:11.371Z"
   },
   {
    "duration": 4,
    "start_time": "2022-03-04T03:54:09.613Z"
   },
   {
    "duration": 4,
    "start_time": "2022-03-04T03:54:24.140Z"
   },
   {
    "duration": 58,
    "start_time": "2022-03-04T03:55:21.611Z"
   },
   {
    "duration": 570,
    "start_time": "2022-03-04T17:11:05.775Z"
   },
   {
    "duration": 117,
    "start_time": "2022-03-04T17:11:06.347Z"
   },
   {
    "duration": 17,
    "start_time": "2022-03-04T17:11:06.466Z"
   },
   {
    "duration": 137,
    "start_time": "2022-03-04T17:11:06.484Z"
   },
   {
    "duration": 3,
    "start_time": "2022-03-04T17:11:06.623Z"
   },
   {
    "duration": 16,
    "start_time": "2022-03-04T17:11:06.628Z"
   },
   {
    "duration": 20,
    "start_time": "2022-03-04T17:11:06.646Z"
   },
   {
    "duration": 28,
    "start_time": "2022-03-04T17:11:06.668Z"
   },
   {
    "duration": 26,
    "start_time": "2022-03-04T17:11:06.698Z"
   },
   {
    "duration": 26,
    "start_time": "2022-03-04T17:11:06.726Z"
   },
   {
    "duration": 63,
    "start_time": "2022-03-04T17:11:06.754Z"
   },
   {
    "duration": 64,
    "start_time": "2022-03-04T17:11:06.819Z"
   },
   {
    "duration": 51,
    "start_time": "2022-03-04T17:11:06.885Z"
   },
   {
    "duration": 7,
    "start_time": "2022-03-04T17:11:06.938Z"
   },
   {
    "duration": 14,
    "start_time": "2022-03-04T17:11:06.946Z"
   },
   {
    "duration": 75,
    "start_time": "2022-03-04T17:11:06.962Z"
   },
   {
    "duration": 7,
    "start_time": "2022-03-04T17:11:07.039Z"
   },
   {
    "duration": 50,
    "start_time": "2022-03-04T17:11:07.048Z"
   },
   {
    "duration": 28,
    "start_time": "2022-03-04T17:11:07.100Z"
   },
   {
    "duration": 3,
    "start_time": "2022-03-04T17:11:07.131Z"
   },
   {
    "duration": 44,
    "start_time": "2022-03-04T17:11:07.136Z"
   },
   {
    "duration": 14,
    "start_time": "2022-03-04T17:11:07.182Z"
   },
   {
    "duration": 13,
    "start_time": "2022-03-04T17:11:07.201Z"
   },
   {
    "duration": 27,
    "start_time": "2022-03-04T17:11:07.217Z"
   },
   {
    "duration": 17,
    "start_time": "2022-03-04T17:11:07.260Z"
   },
   {
    "duration": 27,
    "start_time": "2022-03-04T17:11:07.278Z"
   },
   {
    "duration": 76,
    "start_time": "2022-03-04T17:11:07.307Z"
   },
   {
    "duration": 10,
    "start_time": "2022-03-04T17:11:07.385Z"
   },
   {
    "duration": 30,
    "start_time": "2022-03-04T17:11:07.397Z"
   },
   {
    "duration": 15,
    "start_time": "2022-03-04T17:11:07.429Z"
   },
   {
    "duration": 92,
    "start_time": "2022-03-04T17:11:07.446Z"
   },
   {
    "duration": -151,
    "start_time": "2022-03-04T17:11:07.691Z"
   },
   {
    "duration": -151,
    "start_time": "2022-03-04T17:11:07.692Z"
   },
   {
    "duration": -152,
    "start_time": "2022-03-04T17:11:07.694Z"
   },
   {
    "duration": -157,
    "start_time": "2022-03-04T17:11:07.700Z"
   },
   {
    "duration": -157,
    "start_time": "2022-03-04T17:11:07.702Z"
   },
   {
    "duration": -158,
    "start_time": "2022-03-04T17:11:07.704Z"
   },
   {
    "duration": -160,
    "start_time": "2022-03-04T17:11:07.707Z"
   },
   {
    "duration": 4910,
    "start_time": "2022-03-04T17:13:12.222Z"
   },
   {
    "duration": 4786,
    "start_time": "2022-03-04T17:17:04.168Z"
   },
   {
    "duration": 4858,
    "start_time": "2022-03-04T17:17:19.048Z"
   },
   {
    "duration": 3,
    "start_time": "2022-03-04T17:17:54.474Z"
   },
   {
    "duration": 4889,
    "start_time": "2022-03-04T17:18:02.297Z"
   },
   {
    "duration": 5,
    "start_time": "2022-03-04T17:18:36.098Z"
   },
   {
    "duration": 406,
    "start_time": "2022-03-04T17:18:42.467Z"
   },
   {
    "duration": 4,
    "start_time": "2022-03-04T17:18:59.144Z"
   },
   {
    "duration": 457,
    "start_time": "2022-03-04T17:19:01.712Z"
   },
   {
    "duration": 466,
    "start_time": "2022-03-04T17:19:11.071Z"
   },
   {
    "duration": 67,
    "start_time": "2022-03-04T17:23:11.470Z"
   },
   {
    "duration": 58,
    "start_time": "2022-03-04T17:41:50.074Z"
   },
   {
    "duration": 4,
    "start_time": "2022-03-04T17:42:04.591Z"
   },
   {
    "duration": 4,
    "start_time": "2022-03-04T17:46:12.734Z"
   },
   {
    "duration": 430,
    "start_time": "2022-03-04T17:46:15.211Z"
   },
   {
    "duration": 6,
    "start_time": "2022-03-04T17:46:22.505Z"
   },
   {
    "duration": 381,
    "start_time": "2022-03-04T17:46:23.986Z"
   },
   {
    "duration": 118,
    "start_time": "2022-03-04T19:32:56.357Z"
   },
   {
    "duration": 4,
    "start_time": "2022-03-04T19:36:02.060Z"
   },
   {
    "duration": 547,
    "start_time": "2022-03-04T19:36:06.293Z"
   },
   {
    "duration": 595,
    "start_time": "2022-03-04T19:36:50.293Z"
   },
   {
    "duration": 107,
    "start_time": "2022-03-04T19:36:50.889Z"
   },
   {
    "duration": 15,
    "start_time": "2022-03-04T19:36:50.997Z"
   },
   {
    "duration": 117,
    "start_time": "2022-03-04T19:36:51.013Z"
   },
   {
    "duration": 2,
    "start_time": "2022-03-04T19:36:51.132Z"
   },
   {
    "duration": 12,
    "start_time": "2022-03-04T19:36:51.136Z"
   },
   {
    "duration": 8,
    "start_time": "2022-03-04T19:36:51.149Z"
   },
   {
    "duration": 24,
    "start_time": "2022-03-04T19:36:51.159Z"
   },
   {
    "duration": 27,
    "start_time": "2022-03-04T19:36:51.185Z"
   },
   {
    "duration": 18,
    "start_time": "2022-03-04T19:36:51.213Z"
   },
   {
    "duration": 45,
    "start_time": "2022-03-04T19:36:51.233Z"
   },
   {
    "duration": 68,
    "start_time": "2022-03-04T19:36:51.279Z"
   },
   {
    "duration": 41,
    "start_time": "2022-03-04T19:36:51.349Z"
   },
   {
    "duration": 13,
    "start_time": "2022-03-04T19:36:51.392Z"
   },
   {
    "duration": 5,
    "start_time": "2022-03-04T19:36:51.406Z"
   },
   {
    "duration": 52,
    "start_time": "2022-03-04T19:36:51.412Z"
   },
   {
    "duration": 5,
    "start_time": "2022-03-04T19:36:51.465Z"
   },
   {
    "duration": 40,
    "start_time": "2022-03-04T19:36:51.472Z"
   },
   {
    "duration": 24,
    "start_time": "2022-03-04T19:36:51.514Z"
   },
   {
    "duration": 2,
    "start_time": "2022-03-04T19:36:51.540Z"
   },
   {
    "duration": 16,
    "start_time": "2022-03-04T19:36:51.544Z"
   },
   {
    "duration": 10,
    "start_time": "2022-03-04T19:36:51.561Z"
   },
   {
    "duration": 35,
    "start_time": "2022-03-04T19:36:51.573Z"
   },
   {
    "duration": 17,
    "start_time": "2022-03-04T19:36:51.610Z"
   },
   {
    "duration": 11,
    "start_time": "2022-03-04T19:36:51.628Z"
   },
   {
    "duration": 10,
    "start_time": "2022-03-04T19:36:51.641Z"
   },
   {
    "duration": 82,
    "start_time": "2022-03-04T19:36:51.653Z"
   },
   {
    "duration": 8,
    "start_time": "2022-03-04T19:36:51.736Z"
   },
   {
    "duration": 6,
    "start_time": "2022-03-04T19:36:51.746Z"
   },
   {
    "duration": 4,
    "start_time": "2022-03-04T19:36:51.753Z"
   },
   {
    "duration": 669,
    "start_time": "2022-03-04T19:36:51.758Z"
   },
   {
    "duration": -151,
    "start_time": "2022-03-04T19:36:52.579Z"
   },
   {
    "duration": -152,
    "start_time": "2022-03-04T19:36:52.581Z"
   },
   {
    "duration": -153,
    "start_time": "2022-03-04T19:36:52.583Z"
   },
   {
    "duration": -153,
    "start_time": "2022-03-04T19:36:52.584Z"
   },
   {
    "duration": -154,
    "start_time": "2022-03-04T19:36:52.586Z"
   },
   {
    "duration": -154,
    "start_time": "2022-03-04T19:36:52.587Z"
   },
   {
    "duration": -159,
    "start_time": "2022-03-04T19:36:52.592Z"
   },
   {
    "duration": 3,
    "start_time": "2022-03-04T19:39:00.161Z"
   },
   {
    "duration": 629,
    "start_time": "2022-03-04T19:39:10.680Z"
   },
   {
    "duration": 4,
    "start_time": "2022-03-04T19:39:26.267Z"
   },
   {
    "duration": 572,
    "start_time": "2022-03-04T19:39:27.898Z"
   },
   {
    "duration": 3,
    "start_time": "2022-03-04T19:39:50.686Z"
   },
   {
    "duration": 979,
    "start_time": "2022-03-04T19:40:58.522Z"
   },
   {
    "duration": 581,
    "start_time": "2022-03-04T19:41:08.512Z"
   },
   {
    "duration": 107,
    "start_time": "2022-03-04T19:41:09.095Z"
   },
   {
    "duration": 14,
    "start_time": "2022-03-04T19:41:09.204Z"
   },
   {
    "duration": 117,
    "start_time": "2022-03-04T19:41:09.219Z"
   },
   {
    "duration": 2,
    "start_time": "2022-03-04T19:41:09.338Z"
   },
   {
    "duration": 11,
    "start_time": "2022-03-04T19:41:09.341Z"
   },
   {
    "duration": 4,
    "start_time": "2022-03-04T19:41:09.354Z"
   },
   {
    "duration": 19,
    "start_time": "2022-03-04T19:41:09.360Z"
   },
   {
    "duration": 33,
    "start_time": "2022-03-04T19:41:09.380Z"
   },
   {
    "duration": 18,
    "start_time": "2022-03-04T19:41:09.415Z"
   },
   {
    "duration": 44,
    "start_time": "2022-03-04T19:41:09.434Z"
   },
   {
    "duration": 69,
    "start_time": "2022-03-04T19:41:09.480Z"
   },
   {
    "duration": 43,
    "start_time": "2022-03-04T19:41:09.550Z"
   },
   {
    "duration": 14,
    "start_time": "2022-03-04T19:41:09.594Z"
   },
   {
    "duration": 5,
    "start_time": "2022-03-04T19:41:09.609Z"
   },
   {
    "duration": 54,
    "start_time": "2022-03-04T19:41:09.615Z"
   },
   {
    "duration": 5,
    "start_time": "2022-03-04T19:41:09.671Z"
   },
   {
    "duration": 36,
    "start_time": "2022-03-04T19:41:09.677Z"
   },
   {
    "duration": 22,
    "start_time": "2022-03-04T19:41:09.714Z"
   },
   {
    "duration": 2,
    "start_time": "2022-03-04T19:41:09.738Z"
   },
   {
    "duration": 14,
    "start_time": "2022-03-04T19:41:09.741Z"
   },
   {
    "duration": 9,
    "start_time": "2022-03-04T19:41:09.756Z"
   },
   {
    "duration": 9,
    "start_time": "2022-03-04T19:41:09.768Z"
   },
   {
    "duration": 16,
    "start_time": "2022-03-04T19:41:09.806Z"
   },
   {
    "duration": 12,
    "start_time": "2022-03-04T19:41:09.823Z"
   },
   {
    "duration": 10,
    "start_time": "2022-03-04T19:41:09.836Z"
   },
   {
    "duration": 69,
    "start_time": "2022-03-04T19:41:09.847Z"
   },
   {
    "duration": 7,
    "start_time": "2022-03-04T19:41:09.918Z"
   },
   {
    "duration": 11,
    "start_time": "2022-03-04T19:41:09.927Z"
   },
   {
    "duration": 3,
    "start_time": "2022-03-04T19:41:09.939Z"
   },
   {
    "duration": 632,
    "start_time": "2022-03-04T19:41:09.943Z"
   },
   {
    "duration": -250,
    "start_time": "2022-03-04T19:41:10.826Z"
   },
   {
    "duration": -252,
    "start_time": "2022-03-04T19:41:10.829Z"
   },
   {
    "duration": -332,
    "start_time": "2022-03-04T19:41:10.910Z"
   },
   {
    "duration": -333,
    "start_time": "2022-03-04T19:41:10.912Z"
   },
   {
    "duration": -334,
    "start_time": "2022-03-04T19:41:10.914Z"
   },
   {
    "duration": -336,
    "start_time": "2022-03-04T19:41:10.917Z"
   },
   {
    "duration": -338,
    "start_time": "2022-03-04T19:41:10.920Z"
   },
   {
    "duration": 4,
    "start_time": "2022-03-04T19:41:18.656Z"
   },
   {
    "duration": 568,
    "start_time": "2022-03-04T19:41:21.881Z"
   },
   {
    "duration": 3,
    "start_time": "2022-03-04T19:42:00.903Z"
   },
   {
    "duration": 570,
    "start_time": "2022-03-04T19:42:05.384Z"
   },
   {
    "duration": 601,
    "start_time": "2022-03-04T22:26:03.409Z"
   },
   {
    "duration": 132,
    "start_time": "2022-03-04T22:26:04.012Z"
   },
   {
    "duration": 16,
    "start_time": "2022-03-04T22:26:04.146Z"
   },
   {
    "duration": 136,
    "start_time": "2022-03-04T22:26:04.164Z"
   },
   {
    "duration": 3,
    "start_time": "2022-03-04T22:26:04.301Z"
   },
   {
    "duration": 15,
    "start_time": "2022-03-04T22:26:04.306Z"
   },
   {
    "duration": 6,
    "start_time": "2022-03-04T22:26:04.322Z"
   },
   {
    "duration": 21,
    "start_time": "2022-03-04T22:26:04.329Z"
   },
   {
    "duration": 15,
    "start_time": "2022-03-04T22:26:04.352Z"
   },
   {
    "duration": 35,
    "start_time": "2022-03-04T22:26:04.369Z"
   },
   {
    "duration": 55,
    "start_time": "2022-03-04T22:26:04.405Z"
   },
   {
    "duration": 81,
    "start_time": "2022-03-04T22:26:04.462Z"
   },
   {
    "duration": 57,
    "start_time": "2022-03-04T22:26:04.545Z"
   },
   {
    "duration": 7,
    "start_time": "2022-03-04T22:26:04.604Z"
   },
   {
    "duration": 25,
    "start_time": "2022-03-04T22:26:04.613Z"
   },
   {
    "duration": 67,
    "start_time": "2022-03-04T22:26:04.640Z"
   },
   {
    "duration": 7,
    "start_time": "2022-03-04T22:26:04.709Z"
   },
   {
    "duration": 43,
    "start_time": "2022-03-04T22:26:04.718Z"
   },
   {
    "duration": 27,
    "start_time": "2022-03-04T22:26:04.763Z"
   },
   {
    "duration": 4,
    "start_time": "2022-03-04T22:26:04.802Z"
   },
   {
    "duration": 22,
    "start_time": "2022-03-04T22:26:04.807Z"
   },
   {
    "duration": 15,
    "start_time": "2022-03-04T22:26:04.831Z"
   },
   {
    "duration": 14,
    "start_time": "2022-03-04T22:26:04.847Z"
   },
   {
    "duration": 48,
    "start_time": "2022-03-04T22:26:04.862Z"
   },
   {
    "duration": 15,
    "start_time": "2022-03-04T22:26:04.912Z"
   },
   {
    "duration": 13,
    "start_time": "2022-03-04T22:26:04.928Z"
   },
   {
    "duration": 78,
    "start_time": "2022-03-04T22:26:04.944Z"
   },
   {
    "duration": 10,
    "start_time": "2022-03-04T22:26:05.024Z"
   },
   {
    "duration": 10,
    "start_time": "2022-03-04T22:26:05.035Z"
   },
   {
    "duration": 19,
    "start_time": "2022-03-04T22:26:05.046Z"
   },
   {
    "duration": 679,
    "start_time": "2022-03-04T22:26:05.067Z"
   },
   {
    "duration": -147,
    "start_time": "2022-03-04T22:26:05.895Z"
   },
   {
    "duration": -149,
    "start_time": "2022-03-04T22:26:05.898Z"
   },
   {
    "duration": -150,
    "start_time": "2022-03-04T22:26:05.901Z"
   },
   {
    "duration": -152,
    "start_time": "2022-03-04T22:26:05.904Z"
   },
   {
    "duration": -153,
    "start_time": "2022-03-04T22:26:05.907Z"
   },
   {
    "duration": -154,
    "start_time": "2022-03-04T22:26:05.909Z"
   },
   {
    "duration": -156,
    "start_time": "2022-03-04T22:26:05.912Z"
   },
   {
    "duration": 4,
    "start_time": "2022-03-04T22:27:14.995Z"
   },
   {
    "duration": 621,
    "start_time": "2022-03-04T22:27:17.289Z"
   },
   {
    "duration": 579,
    "start_time": "2022-03-04T22:29:03.103Z"
   },
   {
    "duration": 118,
    "start_time": "2022-03-04T22:29:03.684Z"
   },
   {
    "duration": 15,
    "start_time": "2022-03-04T22:29:03.804Z"
   },
   {
    "duration": 129,
    "start_time": "2022-03-04T22:29:03.821Z"
   },
   {
    "duration": 3,
    "start_time": "2022-03-04T22:29:03.952Z"
   },
   {
    "duration": 19,
    "start_time": "2022-03-04T22:29:03.956Z"
   },
   {
    "duration": 14,
    "start_time": "2022-03-04T22:29:03.976Z"
   },
   {
    "duration": 25,
    "start_time": "2022-03-04T22:29:03.993Z"
   },
   {
    "duration": 25,
    "start_time": "2022-03-04T22:29:04.020Z"
   },
   {
    "duration": 19,
    "start_time": "2022-03-04T22:29:04.047Z"
   },
   {
    "duration": 53,
    "start_time": "2022-03-04T22:29:04.068Z"
   },
   {
    "duration": 54,
    "start_time": "2022-03-04T22:29:04.123Z"
   },
   {
    "duration": 52,
    "start_time": "2022-03-04T22:29:04.179Z"
   },
   {
    "duration": 5,
    "start_time": "2022-03-04T22:29:04.233Z"
   },
   {
    "duration": 4,
    "start_time": "2022-03-04T22:29:04.239Z"
   },
   {
    "duration": 71,
    "start_time": "2022-03-04T22:29:04.244Z"
   },
   {
    "duration": 6,
    "start_time": "2022-03-04T22:29:04.316Z"
   },
   {
    "duration": 25,
    "start_time": "2022-03-04T22:29:04.323Z"
   },
   {
    "duration": 24,
    "start_time": "2022-03-04T22:29:04.349Z"
   },
   {
    "duration": 27,
    "start_time": "2022-03-04T22:29:04.375Z"
   },
   {
    "duration": 16,
    "start_time": "2022-03-04T22:29:04.404Z"
   },
   {
    "duration": 11,
    "start_time": "2022-03-04T22:29:04.421Z"
   },
   {
    "duration": 12,
    "start_time": "2022-03-04T22:29:04.434Z"
   },
   {
    "duration": 18,
    "start_time": "2022-03-04T22:29:04.447Z"
   },
   {
    "duration": 43,
    "start_time": "2022-03-04T22:29:04.467Z"
   },
   {
    "duration": 12,
    "start_time": "2022-03-04T22:29:04.511Z"
   },
   {
    "duration": 57,
    "start_time": "2022-03-04T22:29:04.525Z"
   },
   {
    "duration": 26,
    "start_time": "2022-03-04T22:29:04.583Z"
   },
   {
    "duration": 8,
    "start_time": "2022-03-04T22:29:04.610Z"
   },
   {
    "duration": 3,
    "start_time": "2022-03-04T22:29:04.620Z"
   },
   {
    "duration": 688,
    "start_time": "2022-03-04T22:29:04.625Z"
   },
   {
    "duration": -591756,
    "start_time": "2022-03-04T22:38:57.071Z"
   },
   {
    "duration": -591756,
    "start_time": "2022-03-04T22:38:57.072Z"
   },
   {
    "duration": -591760,
    "start_time": "2022-03-04T22:38:57.077Z"
   },
   {
    "duration": -591761,
    "start_time": "2022-03-04T22:38:57.079Z"
   },
   {
    "duration": -591761,
    "start_time": "2022-03-04T22:38:57.080Z"
   },
   {
    "duration": -591763,
    "start_time": "2022-03-04T22:38:57.083Z"
   },
   {
    "duration": -591868,
    "start_time": "2022-03-04T22:38:57.189Z"
   },
   {
    "duration": 3,
    "start_time": "2022-03-04T23:18:20.342Z"
   },
   {
    "duration": 586,
    "start_time": "2022-03-04T23:18:21.881Z"
   },
   {
    "duration": 3,
    "start_time": "2022-03-04T23:18:36.126Z"
   },
   {
    "duration": 4,
    "start_time": "2022-03-04T23:24:04.097Z"
   },
   {
    "duration": 562,
    "start_time": "2022-03-04T23:24:05.972Z"
   },
   {
    "duration": 3,
    "start_time": "2022-03-04T23:24:29.508Z"
   },
   {
    "duration": 592,
    "start_time": "2022-03-04T23:24:31.314Z"
   },
   {
    "duration": 6,
    "start_time": "2022-03-04T23:40:18.679Z"
   },
   {
    "duration": 766,
    "start_time": "2022-03-04T23:40:20.958Z"
   },
   {
    "duration": 3,
    "start_time": "2022-03-04T23:57:38.079Z"
   },
   {
    "duration": 619,
    "start_time": "2022-03-04T23:57:41.717Z"
   },
   {
    "duration": 528,
    "start_time": "2022-03-04T23:57:54.350Z"
   },
   {
    "duration": 115,
    "start_time": "2022-03-04T23:57:54.879Z"
   },
   {
    "duration": 14,
    "start_time": "2022-03-04T23:57:54.996Z"
   },
   {
    "duration": 128,
    "start_time": "2022-03-04T23:57:55.012Z"
   },
   {
    "duration": 3,
    "start_time": "2022-03-04T23:57:55.142Z"
   },
   {
    "duration": 12,
    "start_time": "2022-03-04T23:57:55.147Z"
   },
   {
    "duration": 5,
    "start_time": "2022-03-04T23:57:55.160Z"
   },
   {
    "duration": 36,
    "start_time": "2022-03-04T23:57:55.167Z"
   },
   {
    "duration": 14,
    "start_time": "2022-03-04T23:57:55.205Z"
   },
   {
    "duration": 18,
    "start_time": "2022-03-04T23:57:55.221Z"
   },
   {
    "duration": 63,
    "start_time": "2022-03-04T23:57:55.241Z"
   },
   {
    "duration": 57,
    "start_time": "2022-03-04T23:57:55.306Z"
   },
   {
    "duration": 56,
    "start_time": "2022-03-04T23:57:55.365Z"
   },
   {
    "duration": 6,
    "start_time": "2022-03-04T23:57:55.423Z"
   },
   {
    "duration": 3,
    "start_time": "2022-03-04T23:57:55.430Z"
   },
   {
    "duration": 69,
    "start_time": "2022-03-04T23:57:55.435Z"
   },
   {
    "duration": 6,
    "start_time": "2022-03-04T23:57:55.505Z"
   },
   {
    "duration": 24,
    "start_time": "2022-03-04T23:57:55.513Z"
   },
   {
    "duration": 30,
    "start_time": "2022-03-04T23:57:55.538Z"
   },
   {
    "duration": 3,
    "start_time": "2022-03-04T23:57:55.569Z"
   },
   {
    "duration": 41,
    "start_time": "2022-03-04T23:57:55.573Z"
   },
   {
    "duration": 12,
    "start_time": "2022-03-04T23:57:55.615Z"
   },
   {
    "duration": 12,
    "start_time": "2022-03-04T23:57:55.629Z"
   },
   {
    "duration": 19,
    "start_time": "2022-03-04T23:57:55.643Z"
   },
   {
    "duration": 43,
    "start_time": "2022-03-04T23:57:55.663Z"
   },
   {
    "duration": 12,
    "start_time": "2022-03-04T23:57:55.708Z"
   },
   {
    "duration": 57,
    "start_time": "2022-03-04T23:57:55.721Z"
   },
   {
    "duration": 26,
    "start_time": "2022-03-04T23:57:55.780Z"
   },
   {
    "duration": 9,
    "start_time": "2022-03-04T23:57:55.807Z"
   },
   {
    "duration": 4,
    "start_time": "2022-03-04T23:57:55.817Z"
   },
   {
    "duration": 623,
    "start_time": "2022-03-04T23:57:55.822Z"
   },
   {
    "duration": -60,
    "start_time": "2022-03-04T23:57:56.507Z"
   },
   {
    "duration": -63,
    "start_time": "2022-03-04T23:57:56.511Z"
   },
   {
    "duration": -64,
    "start_time": "2022-03-04T23:57:56.513Z"
   },
   {
    "duration": -65,
    "start_time": "2022-03-04T23:57:56.516Z"
   },
   {
    "duration": -67,
    "start_time": "2022-03-04T23:57:56.519Z"
   },
   {
    "duration": -67,
    "start_time": "2022-03-04T23:57:56.521Z"
   },
   {
    "duration": -68,
    "start_time": "2022-03-04T23:57:56.523Z"
   },
   {
    "duration": 11,
    "start_time": "2022-03-05T00:02:47.698Z"
   },
   {
    "duration": 10,
    "start_time": "2022-03-05T00:02:48.650Z"
   },
   {
    "duration": 4,
    "start_time": "2022-03-05T00:05:06.447Z"
   },
   {
    "duration": 4,
    "start_time": "2022-03-05T00:10:49.387Z"
   },
   {
    "duration": 4,
    "start_time": "2022-03-05T00:10:53.941Z"
   },
   {
    "duration": 577,
    "start_time": "2022-03-05T00:10:55.839Z"
   },
   {
    "duration": 6,
    "start_time": "2022-03-05T00:11:19.145Z"
   },
   {
    "duration": 1958,
    "start_time": "2022-03-05T00:11:21.007Z"
   },
   {
    "duration": 4,
    "start_time": "2022-03-05T00:16:42.589Z"
   },
   {
    "duration": 589,
    "start_time": "2022-03-05T00:16:44.563Z"
   },
   {
    "duration": 158,
    "start_time": "2022-03-05T00:26:58.942Z"
   },
   {
    "duration": 4,
    "start_time": "2022-03-05T00:27:17.381Z"
   },
   {
    "duration": 109,
    "start_time": "2022-03-05T00:30:22.648Z"
   },
   {
    "duration": 4,
    "start_time": "2022-03-05T00:30:29.049Z"
   },
   {
    "duration": 586,
    "start_time": "2022-03-05T00:30:32.356Z"
   },
   {
    "duration": 594,
    "start_time": "2022-03-05T01:52:50.198Z"
   },
   {
    "duration": 108,
    "start_time": "2022-03-05T02:10:09.168Z"
   },
   {
    "duration": 99,
    "start_time": "2022-03-05T02:11:07.052Z"
   },
   {
    "duration": 112,
    "start_time": "2022-03-05T02:31:28.974Z"
   },
   {
    "duration": 98,
    "start_time": "2022-03-05T02:31:39.612Z"
   },
   {
    "duration": 4,
    "start_time": "2022-03-05T02:31:49.066Z"
   },
   {
    "duration": 578,
    "start_time": "2022-03-05T02:31:52.664Z"
   },
   {
    "duration": 3,
    "start_time": "2022-03-05T02:32:59.475Z"
   },
   {
    "duration": 4,
    "start_time": "2022-03-05T02:33:09.354Z"
   },
   {
    "duration": 575,
    "start_time": "2022-03-05T02:33:10.455Z"
   },
   {
    "duration": 579,
    "start_time": "2022-03-05T02:34:04.097Z"
   },
   {
    "duration": 132,
    "start_time": "2022-03-05T02:34:04.678Z"
   },
   {
    "duration": 16,
    "start_time": "2022-03-05T02:34:04.812Z"
   },
   {
    "duration": 133,
    "start_time": "2022-03-05T02:34:04.830Z"
   },
   {
    "duration": 4,
    "start_time": "2022-03-05T02:34:04.965Z"
   },
   {
    "duration": 11,
    "start_time": "2022-03-05T02:34:04.971Z"
   },
   {
    "duration": 18,
    "start_time": "2022-03-05T02:34:04.984Z"
   },
   {
    "duration": 21,
    "start_time": "2022-03-05T02:34:05.004Z"
   },
   {
    "duration": 15,
    "start_time": "2022-03-05T02:34:05.027Z"
   },
   {
    "duration": 20,
    "start_time": "2022-03-05T02:34:05.044Z"
   },
   {
    "duration": 76,
    "start_time": "2022-03-05T02:34:05.066Z"
   },
   {
    "duration": 66,
    "start_time": "2022-03-05T02:34:05.144Z"
   },
   {
    "duration": 47,
    "start_time": "2022-03-05T02:34:05.212Z"
   },
   {
    "duration": 6,
    "start_time": "2022-03-05T02:34:05.261Z"
   },
   {
    "duration": 3,
    "start_time": "2022-03-05T02:34:05.269Z"
   },
   {
    "duration": 76,
    "start_time": "2022-03-05T02:34:05.274Z"
   },
   {
    "duration": 6,
    "start_time": "2022-03-05T02:34:05.352Z"
   },
   {
    "duration": 41,
    "start_time": "2022-03-05T02:34:05.360Z"
   },
   {
    "duration": 25,
    "start_time": "2022-03-05T02:34:05.403Z"
   },
   {
    "duration": 3,
    "start_time": "2022-03-05T02:34:05.430Z"
   },
   {
    "duration": 15,
    "start_time": "2022-03-05T02:34:05.434Z"
   },
   {
    "duration": 11,
    "start_time": "2022-03-05T02:34:05.451Z"
   },
   {
    "duration": 40,
    "start_time": "2022-03-05T02:34:05.465Z"
   },
   {
    "duration": 19,
    "start_time": "2022-03-05T02:34:05.507Z"
   },
   {
    "duration": 14,
    "start_time": "2022-03-05T02:34:05.528Z"
   },
   {
    "duration": 12,
    "start_time": "2022-03-05T02:34:05.543Z"
   },
   {
    "duration": 86,
    "start_time": "2022-03-05T02:34:05.557Z"
   },
   {
    "duration": 9,
    "start_time": "2022-03-05T02:34:05.644Z"
   },
   {
    "duration": 10,
    "start_time": "2022-03-05T02:34:05.654Z"
   },
   {
    "duration": 4,
    "start_time": "2022-03-05T02:34:05.665Z"
   },
   {
    "duration": 677,
    "start_time": "2022-03-05T02:34:05.670Z"
   },
   {
    "duration": -591908,
    "start_time": "2022-03-05T02:43:58.256Z"
   },
   {
    "duration": -591909,
    "start_time": "2022-03-05T02:43:58.258Z"
   },
   {
    "duration": -591910,
    "start_time": "2022-03-05T02:43:58.260Z"
   },
   {
    "duration": -591911,
    "start_time": "2022-03-05T02:43:58.261Z"
   },
   {
    "duration": -591912,
    "start_time": "2022-03-05T02:43:58.263Z"
   },
   {
    "duration": -591914,
    "start_time": "2022-03-05T02:43:58.266Z"
   },
   {
    "duration": -591915,
    "start_time": "2022-03-05T02:43:58.268Z"
   },
   {
    "duration": 3,
    "start_time": "2022-03-05T02:35:36.253Z"
   },
   {
    "duration": 948,
    "start_time": "2022-03-05T02:35:38.237Z"
   },
   {
    "duration": 3,
    "start_time": "2022-03-05T02:36:02.568Z"
   },
   {
    "duration": 997,
    "start_time": "2022-03-05T02:36:04.190Z"
   },
   {
    "duration": 4,
    "start_time": "2022-03-05T02:36:16.863Z"
   },
   {
    "duration": 7,
    "start_time": "2022-03-05T02:36:40.110Z"
   },
   {
    "duration": 618,
    "start_time": "2022-03-05T02:36:41.885Z"
   },
   {
    "duration": 2,
    "start_time": "2022-03-05T02:36:52.258Z"
   },
   {
    "duration": 584,
    "start_time": "2022-03-05T02:38:40.810Z"
   },
   {
    "duration": 4,
    "start_time": "2022-03-05T02:39:00.647Z"
   },
   {
    "duration": 625,
    "start_time": "2022-03-05T02:39:08.420Z"
   },
   {
    "duration": 4,
    "start_time": "2022-03-05T02:39:19.384Z"
   },
   {
    "duration": 566,
    "start_time": "2022-03-05T02:39:20.596Z"
   },
   {
    "duration": 4,
    "start_time": "2022-03-05T02:39:29.583Z"
   },
   {
    "duration": 581,
    "start_time": "2022-03-05T02:39:31.672Z"
   },
   {
    "duration": 600,
    "start_time": "2022-03-05T02:42:39.390Z"
   },
   {
    "duration": 4,
    "start_time": "2022-03-05T02:42:52.240Z"
   },
   {
    "duration": 609,
    "start_time": "2022-03-05T02:42:54.045Z"
   },
   {
    "duration": 572,
    "start_time": "2022-03-05T02:46:11.755Z"
   },
   {
    "duration": 3,
    "start_time": "2022-03-05T02:51:13.009Z"
   },
   {
    "duration": 619,
    "start_time": "2022-03-05T02:51:17.847Z"
   },
   {
    "duration": 8,
    "start_time": "2022-03-05T02:52:17.498Z"
   },
   {
    "duration": 549,
    "start_time": "2022-03-05T02:52:18.595Z"
   },
   {
    "duration": 10,
    "start_time": "2022-03-05T03:00:16.864Z"
   },
   {
    "duration": 3,
    "start_time": "2022-03-05T03:00:18.697Z"
   },
   {
    "duration": 598,
    "start_time": "2022-03-05T03:00:20.342Z"
   },
   {
    "duration": 111,
    "start_time": "2022-03-05T03:04:33.782Z"
   },
   {
    "duration": 583,
    "start_time": "2022-03-05T03:04:37.247Z"
   },
   {
    "duration": 110,
    "start_time": "2022-03-05T03:06:08.717Z"
   },
   {
    "duration": 4,
    "start_time": "2022-03-05T03:07:14.160Z"
   },
   {
    "duration": 4,
    "start_time": "2022-03-05T03:07:18.128Z"
   },
   {
    "duration": 676,
    "start_time": "2022-03-05T03:07:19.647Z"
   },
   {
    "duration": 3,
    "start_time": "2022-03-05T03:10:13.501Z"
   },
   {
    "duration": 619,
    "start_time": "2022-03-05T03:10:16.683Z"
   },
   {
    "duration": 4,
    "start_time": "2022-03-05T03:10:53.602Z"
   },
   {
    "duration": 564,
    "start_time": "2022-03-05T03:10:55.336Z"
   },
   {
    "duration": 4,
    "start_time": "2022-03-05T03:11:31.436Z"
   },
   {
    "duration": 633,
    "start_time": "2022-03-05T03:11:32.740Z"
   },
   {
    "duration": 568,
    "start_time": "2022-03-05T03:13:29.011Z"
   },
   {
    "duration": 123,
    "start_time": "2022-03-05T03:13:29.581Z"
   },
   {
    "duration": 16,
    "start_time": "2022-03-05T03:13:29.706Z"
   },
   {
    "duration": 138,
    "start_time": "2022-03-05T03:13:29.723Z"
   },
   {
    "duration": 3,
    "start_time": "2022-03-05T03:13:29.863Z"
   },
   {
    "duration": 13,
    "start_time": "2022-03-05T03:13:29.868Z"
   },
   {
    "duration": 18,
    "start_time": "2022-03-05T03:13:29.883Z"
   },
   {
    "duration": 22,
    "start_time": "2022-03-05T03:13:29.904Z"
   },
   {
    "duration": 16,
    "start_time": "2022-03-05T03:13:29.928Z"
   },
   {
    "duration": 21,
    "start_time": "2022-03-05T03:13:29.946Z"
   },
   {
    "duration": 77,
    "start_time": "2022-03-05T03:13:29.969Z"
   },
   {
    "duration": 66,
    "start_time": "2022-03-05T03:13:30.047Z"
   },
   {
    "duration": 46,
    "start_time": "2022-03-05T03:13:30.115Z"
   },
   {
    "duration": 6,
    "start_time": "2022-03-05T03:13:30.162Z"
   },
   {
    "duration": 3,
    "start_time": "2022-03-05T03:13:30.169Z"
   },
   {
    "duration": 73,
    "start_time": "2022-03-05T03:13:30.174Z"
   },
   {
    "duration": 5,
    "start_time": "2022-03-05T03:13:30.249Z"
   },
   {
    "duration": 30,
    "start_time": "2022-03-05T03:13:30.255Z"
   },
   {
    "duration": 39,
    "start_time": "2022-03-05T03:13:30.287Z"
   },
   {
    "duration": 3,
    "start_time": "2022-03-05T03:13:30.328Z"
   },
   {
    "duration": 18,
    "start_time": "2022-03-05T03:13:30.332Z"
   },
   {
    "duration": 12,
    "start_time": "2022-03-05T03:13:30.352Z"
   },
   {
    "duration": 38,
    "start_time": "2022-03-05T03:13:30.367Z"
   },
   {
    "duration": 22,
    "start_time": "2022-03-05T03:13:30.407Z"
   },
   {
    "duration": 14,
    "start_time": "2022-03-05T03:13:30.431Z"
   },
   {
    "duration": 21,
    "start_time": "2022-03-05T03:13:30.446Z"
   },
   {
    "duration": 84,
    "start_time": "2022-03-05T03:13:30.469Z"
   },
   {
    "duration": 9,
    "start_time": "2022-03-05T03:13:30.555Z"
   },
   {
    "duration": 11,
    "start_time": "2022-03-05T03:13:30.566Z"
   },
   {
    "duration": 4,
    "start_time": "2022-03-05T03:13:30.579Z"
   },
   {
    "duration": 679,
    "start_time": "2022-03-05T03:13:30.585Z"
   },
   {
    "duration": -591935,
    "start_time": "2022-03-05T03:23:23.201Z"
   },
   {
    "duration": -591936,
    "start_time": "2022-03-05T03:23:23.203Z"
   },
   {
    "duration": -591938,
    "start_time": "2022-03-05T03:23:23.206Z"
   },
   {
    "duration": -591938,
    "start_time": "2022-03-05T03:23:23.207Z"
   },
   {
    "duration": -591939,
    "start_time": "2022-03-05T03:23:23.209Z"
   },
   {
    "duration": -592046,
    "start_time": "2022-03-05T03:23:23.317Z"
   },
   {
    "duration": -592051,
    "start_time": "2022-03-05T03:23:23.323Z"
   },
   {
    "duration": 3,
    "start_time": "2022-03-05T03:14:46.005Z"
   },
   {
    "duration": 602,
    "start_time": "2022-03-05T03:14:47.553Z"
   },
   {
    "duration": 4,
    "start_time": "2022-03-05T03:17:36.837Z"
   },
   {
    "duration": 614,
    "start_time": "2022-03-05T03:17:38.374Z"
   },
   {
    "duration": 5,
    "start_time": "2022-03-05T03:18:28.738Z"
   },
   {
    "duration": 22,
    "start_time": "2022-03-05T03:18:30.190Z"
   },
   {
    "duration": 21,
    "start_time": "2022-03-05T03:18:46.963Z"
   },
   {
    "duration": 17,
    "start_time": "2022-03-05T03:21:53.704Z"
   },
   {
    "duration": 31,
    "start_time": "2022-03-05T03:23:05.160Z"
   },
   {
    "duration": 21,
    "start_time": "2022-03-05T03:23:19.274Z"
   },
   {
    "duration": 14,
    "start_time": "2022-03-05T03:23:21.934Z"
   },
   {
    "duration": 32,
    "start_time": "2022-03-05T03:23:22.742Z"
   },
   {
    "duration": 21,
    "start_time": "2022-03-05T03:24:06.254Z"
   },
   {
    "duration": 529,
    "start_time": "2022-03-05T04:04:35.558Z"
   },
   {
    "duration": 138,
    "start_time": "2022-03-05T04:04:36.089Z"
   },
   {
    "duration": 15,
    "start_time": "2022-03-05T04:04:36.230Z"
   },
   {
    "duration": 133,
    "start_time": "2022-03-05T04:04:36.247Z"
   },
   {
    "duration": 3,
    "start_time": "2022-03-05T04:04:36.382Z"
   },
   {
    "duration": 18,
    "start_time": "2022-03-05T04:04:36.387Z"
   },
   {
    "duration": 5,
    "start_time": "2022-03-05T04:04:36.407Z"
   },
   {
    "duration": 20,
    "start_time": "2022-03-05T04:04:36.414Z"
   },
   {
    "duration": 15,
    "start_time": "2022-03-05T04:04:36.437Z"
   },
   {
    "duration": 19,
    "start_time": "2022-03-05T04:04:36.454Z"
   },
   {
    "duration": 48,
    "start_time": "2022-03-05T04:04:36.502Z"
   },
   {
    "duration": 70,
    "start_time": "2022-03-05T04:04:36.552Z"
   },
   {
    "duration": 47,
    "start_time": "2022-03-05T04:04:36.624Z"
   },
   {
    "duration": 7,
    "start_time": "2022-03-05T04:04:36.672Z"
   },
   {
    "duration": 3,
    "start_time": "2022-03-05T04:04:36.701Z"
   },
   {
    "duration": 56,
    "start_time": "2022-03-05T04:04:36.706Z"
   },
   {
    "duration": 7,
    "start_time": "2022-03-05T04:04:36.764Z"
   },
   {
    "duration": 47,
    "start_time": "2022-03-05T04:04:36.772Z"
   },
   {
    "duration": 26,
    "start_time": "2022-03-05T04:04:36.821Z"
   },
   {
    "duration": 4,
    "start_time": "2022-03-05T04:04:36.849Z"
   },
   {
    "duration": 16,
    "start_time": "2022-03-05T04:04:36.855Z"
   },
   {
    "duration": 38,
    "start_time": "2022-03-05T04:04:36.873Z"
   },
   {
    "duration": 13,
    "start_time": "2022-03-05T04:04:36.912Z"
   },
   {
    "duration": 19,
    "start_time": "2022-03-05T04:04:36.927Z"
   },
   {
    "duration": 15,
    "start_time": "2022-03-05T04:04:36.947Z"
   },
   {
    "duration": 41,
    "start_time": "2022-03-05T04:04:36.963Z"
   },
   {
    "duration": 55,
    "start_time": "2022-03-05T04:04:37.008Z"
   },
   {
    "duration": 10,
    "start_time": "2022-03-05T04:04:37.065Z"
   },
   {
    "duration": 30,
    "start_time": "2022-03-05T04:04:37.077Z"
   },
   {
    "duration": 4,
    "start_time": "2022-03-05T04:04:37.109Z"
   },
   {
    "duration": 24,
    "start_time": "2022-03-05T04:04:37.115Z"
   },
   {
    "duration": 15,
    "start_time": "2022-03-05T04:04:37.141Z"
   },
   {
    "duration": 56,
    "start_time": "2022-03-05T04:04:37.158Z"
   },
   {
    "duration": 21,
    "start_time": "2022-03-05T04:04:37.216Z"
   },
   {
    "duration": 2,
    "start_time": "2022-03-05T04:04:37.239Z"
   },
   {
    "duration": 4,
    "start_time": "2022-03-05T04:04:37.243Z"
   },
   {
    "duration": 3,
    "start_time": "2022-03-05T04:04:37.249Z"
   },
   {
    "duration": 5,
    "start_time": "2022-03-05T04:04:37.254Z"
   },
   {
    "duration": 22,
    "start_time": "2022-03-05T04:06:01.976Z"
   },
   {
    "duration": 8,
    "start_time": "2022-03-05T04:06:18.646Z"
   },
   {
    "duration": 350,
    "start_time": "2022-03-05T04:07:57.079Z"
   },
   {
    "duration": 14,
    "start_time": "2022-03-05T04:08:12.157Z"
   },
   {
    "duration": 278,
    "start_time": "2022-03-05T04:08:29.328Z"
   },
   {
    "duration": 5,
    "start_time": "2022-03-05T04:08:54.618Z"
   },
   {
    "duration": 8,
    "start_time": "2022-03-05T04:08:55.854Z"
   },
   {
    "duration": 98,
    "start_time": "2022-03-05T04:12:01.744Z"
   },
   {
    "duration": 19,
    "start_time": "2022-03-05T04:12:14.982Z"
   },
   {
    "duration": 281,
    "start_time": "2022-03-05T04:12:16.672Z"
   },
   {
    "duration": 20,
    "start_time": "2022-03-05T04:12:34.210Z"
   },
   {
    "duration": 8,
    "start_time": "2022-03-05T04:12:35.736Z"
   },
   {
    "duration": 8,
    "start_time": "2022-03-05T04:19:00.564Z"
   },
   {
    "duration": 4,
    "start_time": "2022-03-05T04:19:03.148Z"
   },
   {
    "duration": 304,
    "start_time": "2022-03-05T04:20:16.621Z"
   },
   {
    "duration": 301,
    "start_time": "2022-03-05T04:21:28.966Z"
   },
   {
    "duration": 294,
    "start_time": "2022-03-05T04:25:56.444Z"
   },
   {
    "duration": 99,
    "start_time": "2022-03-05T04:26:52.015Z"
   },
   {
    "duration": 299,
    "start_time": "2022-03-05T04:27:05.090Z"
   },
   {
    "duration": 334,
    "start_time": "2022-03-05T04:33:51.776Z"
   },
   {
    "duration": 284,
    "start_time": "2022-03-05T04:34:07.878Z"
   },
   {
    "duration": 4,
    "start_time": "2022-03-05T04:34:22.873Z"
   },
   {
    "duration": 8,
    "start_time": "2022-03-05T04:34:25.840Z"
   },
   {
    "duration": 4,
    "start_time": "2022-03-05T04:34:55.935Z"
   },
   {
    "duration": 7,
    "start_time": "2022-03-05T04:34:57.378Z"
   },
   {
    "duration": 312,
    "start_time": "2022-03-05T04:43:13.321Z"
   },
   {
    "duration": 5,
    "start_time": "2022-03-05T04:45:50.337Z"
   },
   {
    "duration": 8,
    "start_time": "2022-03-05T04:45:52.117Z"
   },
   {
    "duration": 311,
    "start_time": "2022-03-05T04:54:07.029Z"
   },
   {
    "duration": 291,
    "start_time": "2022-03-05T04:54:16.057Z"
   },
   {
    "duration": 290,
    "start_time": "2022-03-05T04:54:44.935Z"
   },
   {
    "duration": 92,
    "start_time": "2022-03-05T04:55:28.804Z"
   },
   {
    "duration": 309,
    "start_time": "2022-03-05T04:55:49.343Z"
   },
   {
    "duration": 5,
    "start_time": "2022-03-05T04:56:38.137Z"
   },
   {
    "duration": 576,
    "start_time": "2022-03-05T04:58:51.738Z"
   },
   {
    "duration": 555,
    "start_time": "2022-03-05T04:58:57.430Z"
   },
   {
    "duration": 22,
    "start_time": "2022-03-05T04:59:04.655Z"
   },
   {
    "duration": 585,
    "start_time": "2022-03-05T04:59:07.498Z"
   },
   {
    "duration": 612,
    "start_time": "2022-03-05T04:59:44.417Z"
   },
   {
    "duration": 127,
    "start_time": "2022-03-05T04:59:45.030Z"
   },
   {
    "duration": 14,
    "start_time": "2022-03-05T04:59:45.159Z"
   },
   {
    "duration": 338,
    "start_time": "2022-03-05T04:59:45.175Z"
   },
   {
    "duration": 4,
    "start_time": "2022-03-05T04:59:45.515Z"
   },
   {
    "duration": 13,
    "start_time": "2022-03-05T04:59:45.521Z"
   },
   {
    "duration": 4,
    "start_time": "2022-03-05T04:59:45.536Z"
   },
   {
    "duration": 23,
    "start_time": "2022-03-05T04:59:45.543Z"
   },
   {
    "duration": 38,
    "start_time": "2022-03-05T04:59:45.568Z"
   },
   {
    "duration": 20,
    "start_time": "2022-03-05T04:59:45.608Z"
   },
   {
    "duration": 47,
    "start_time": "2022-03-05T04:59:45.629Z"
   },
   {
    "duration": 84,
    "start_time": "2022-03-05T04:59:45.678Z"
   },
   {
    "duration": 67,
    "start_time": "2022-03-05T04:59:45.764Z"
   },
   {
    "duration": 5,
    "start_time": "2022-03-05T04:59:45.833Z"
   },
   {
    "duration": 3,
    "start_time": "2022-03-05T04:59:45.840Z"
   },
   {
    "duration": 72,
    "start_time": "2022-03-05T04:59:45.844Z"
   },
   {
    "duration": 6,
    "start_time": "2022-03-05T04:59:45.918Z"
   },
   {
    "duration": 31,
    "start_time": "2022-03-05T04:59:45.925Z"
   },
   {
    "duration": 62,
    "start_time": "2022-03-05T04:59:45.957Z"
   },
   {
    "duration": 3,
    "start_time": "2022-03-05T04:59:46.021Z"
   },
   {
    "duration": 16,
    "start_time": "2022-03-05T04:59:46.025Z"
   },
   {
    "duration": 10,
    "start_time": "2022-03-05T04:59:46.043Z"
   },
   {
    "duration": 12,
    "start_time": "2022-03-05T04:59:46.056Z"
   },
   {
    "duration": 43,
    "start_time": "2022-03-05T04:59:46.069Z"
   },
   {
    "duration": 13,
    "start_time": "2022-03-05T04:59:46.114Z"
   },
   {
    "duration": 11,
    "start_time": "2022-03-05T04:59:46.128Z"
   },
   {
    "duration": 72,
    "start_time": "2022-03-05T04:59:46.140Z"
   },
   {
    "duration": 8,
    "start_time": "2022-03-05T04:59:46.214Z"
   },
   {
    "duration": 8,
    "start_time": "2022-03-05T04:59:46.223Z"
   },
   {
    "duration": 4,
    "start_time": "2022-03-05T04:59:46.233Z"
   },
   {
    "duration": 41,
    "start_time": "2022-03-05T04:59:46.238Z"
   },
   {
    "duration": 34,
    "start_time": "2022-03-05T04:59:46.280Z"
   },
   {
    "duration": 31,
    "start_time": "2022-03-05T04:59:46.316Z"
   },
   {
    "duration": 21,
    "start_time": "2022-03-05T04:59:46.349Z"
   },
   {
    "duration": 33,
    "start_time": "2022-03-05T04:59:46.372Z"
   },
   {
    "duration": 5,
    "start_time": "2022-03-05T04:59:46.407Z"
   },
   {
    "duration": 14,
    "start_time": "2022-03-05T04:59:46.413Z"
   },
   {
    "duration": 8,
    "start_time": "2022-03-05T04:59:46.428Z"
   },
   {
    "duration": 554,
    "start_time": "2022-03-05T05:01:32.917Z"
   },
   {
    "duration": 116,
    "start_time": "2022-03-05T05:01:33.472Z"
   },
   {
    "duration": 17,
    "start_time": "2022-03-05T05:01:33.590Z"
   },
   {
    "duration": 131,
    "start_time": "2022-03-05T05:01:33.608Z"
   },
   {
    "duration": 3,
    "start_time": "2022-03-05T05:01:33.742Z"
   },
   {
    "duration": 13,
    "start_time": "2022-03-05T05:01:33.747Z"
   },
   {
    "duration": 5,
    "start_time": "2022-03-05T05:01:33.762Z"
   },
   {
    "duration": 40,
    "start_time": "2022-03-05T05:01:33.770Z"
   },
   {
    "duration": 15,
    "start_time": "2022-03-05T05:01:33.813Z"
   },
   {
    "duration": 21,
    "start_time": "2022-03-05T05:01:33.830Z"
   },
   {
    "duration": 76,
    "start_time": "2022-03-05T05:01:33.852Z"
   },
   {
    "duration": 57,
    "start_time": "2022-03-05T05:01:33.930Z"
   },
   {
    "duration": 45,
    "start_time": "2022-03-05T05:01:34.001Z"
   },
   {
    "duration": 6,
    "start_time": "2022-03-05T05:01:34.048Z"
   },
   {
    "duration": 4,
    "start_time": "2022-03-05T05:01:34.056Z"
   },
   {
    "duration": 76,
    "start_time": "2022-03-05T05:01:34.061Z"
   },
   {
    "duration": 6,
    "start_time": "2022-03-05T05:01:34.139Z"
   },
   {
    "duration": 26,
    "start_time": "2022-03-05T05:01:34.147Z"
   },
   {
    "duration": 41,
    "start_time": "2022-03-05T05:01:34.174Z"
   },
   {
    "duration": 3,
    "start_time": "2022-03-05T05:01:34.217Z"
   },
   {
    "duration": 19,
    "start_time": "2022-03-05T05:01:34.221Z"
   },
   {
    "duration": 12,
    "start_time": "2022-03-05T05:01:34.242Z"
   },
   {
    "duration": 13,
    "start_time": "2022-03-05T05:01:34.257Z"
   },
   {
    "duration": 46,
    "start_time": "2022-03-05T05:01:34.272Z"
   },
   {
    "duration": 14,
    "start_time": "2022-03-05T05:01:34.320Z"
   },
   {
    "duration": 12,
    "start_time": "2022-03-05T05:01:34.336Z"
   },
   {
    "duration": 88,
    "start_time": "2022-03-05T05:01:34.350Z"
   },
   {
    "duration": 10,
    "start_time": "2022-03-05T05:01:34.440Z"
   },
   {
    "duration": 10,
    "start_time": "2022-03-05T05:01:34.451Z"
   },
   {
    "duration": 4,
    "start_time": "2022-03-05T05:01:34.462Z"
   },
   {
    "duration": 43,
    "start_time": "2022-03-05T05:01:34.468Z"
   },
   {
    "duration": 15,
    "start_time": "2022-03-05T05:01:34.513Z"
   },
   {
    "duration": 31,
    "start_time": "2022-03-05T05:01:34.530Z"
   },
   {
    "duration": 44,
    "start_time": "2022-03-05T05:01:34.563Z"
   },
   {
    "duration": 8,
    "start_time": "2022-03-05T05:01:34.609Z"
   },
   {
    "duration": 4,
    "start_time": "2022-03-05T05:01:34.618Z"
   },
   {
    "duration": 6,
    "start_time": "2022-03-05T05:01:34.624Z"
   },
   {
    "duration": 4,
    "start_time": "2022-03-05T05:01:34.632Z"
   },
   {
    "duration": 606,
    "start_time": "2022-03-05T10:34:04.592Z"
   },
   {
    "duration": 118,
    "start_time": "2022-03-05T10:34:05.200Z"
   },
   {
    "duration": 14,
    "start_time": "2022-03-05T10:34:05.320Z"
   },
   {
    "duration": 133,
    "start_time": "2022-03-05T10:34:05.336Z"
   },
   {
    "duration": 3,
    "start_time": "2022-03-05T10:34:05.471Z"
   },
   {
    "duration": 14,
    "start_time": "2022-03-05T10:34:05.475Z"
   },
   {
    "duration": 12,
    "start_time": "2022-03-05T10:34:05.490Z"
   },
   {
    "duration": 21,
    "start_time": "2022-03-05T10:34:05.504Z"
   },
   {
    "duration": 16,
    "start_time": "2022-03-05T10:34:05.527Z"
   },
   {
    "duration": 21,
    "start_time": "2022-03-05T10:34:05.544Z"
   },
   {
    "duration": 80,
    "start_time": "2022-03-05T10:34:05.567Z"
   },
   {
    "duration": 67,
    "start_time": "2022-03-05T10:34:05.649Z"
   },
   {
    "duration": 48,
    "start_time": "2022-03-05T10:34:05.718Z"
   },
   {
    "duration": 6,
    "start_time": "2022-03-05T10:34:05.768Z"
   },
   {
    "duration": 28,
    "start_time": "2022-03-05T10:34:05.775Z"
   },
   {
    "duration": 59,
    "start_time": "2022-03-05T10:34:05.805Z"
   },
   {
    "duration": 5,
    "start_time": "2022-03-05T10:34:05.866Z"
   },
   {
    "duration": 44,
    "start_time": "2022-03-05T10:34:05.873Z"
   },
   {
    "duration": 27,
    "start_time": "2022-03-05T10:34:05.918Z"
   },
   {
    "duration": 3,
    "start_time": "2022-03-05T10:34:05.947Z"
   },
   {
    "duration": 23,
    "start_time": "2022-03-05T10:34:05.951Z"
   },
   {
    "duration": 31,
    "start_time": "2022-03-05T10:34:05.975Z"
   },
   {
    "duration": 13,
    "start_time": "2022-03-05T10:34:06.009Z"
   },
   {
    "duration": 21,
    "start_time": "2022-03-05T10:34:06.023Z"
   },
   {
    "duration": 14,
    "start_time": "2022-03-05T10:34:06.045Z"
   },
   {
    "duration": 42,
    "start_time": "2022-03-05T10:34:06.060Z"
   },
   {
    "duration": 64,
    "start_time": "2022-03-05T10:34:06.103Z"
   },
   {
    "duration": 8,
    "start_time": "2022-03-05T10:34:06.168Z"
   },
   {
    "duration": 23,
    "start_time": "2022-03-05T10:34:06.178Z"
   },
   {
    "duration": 4,
    "start_time": "2022-03-05T10:34:06.203Z"
   },
   {
    "duration": 26,
    "start_time": "2022-03-05T10:34:06.208Z"
   },
   {
    "duration": 14,
    "start_time": "2022-03-05T10:34:06.235Z"
   },
   {
    "duration": 51,
    "start_time": "2022-03-05T10:34:06.250Z"
   },
   {
    "duration": 21,
    "start_time": "2022-03-05T10:34:06.303Z"
   },
   {
    "duration": 7,
    "start_time": "2022-03-05T10:34:06.325Z"
   },
   {
    "duration": 4,
    "start_time": "2022-03-05T10:34:06.333Z"
   },
   {
    "duration": 6,
    "start_time": "2022-03-05T10:34:06.338Z"
   },
   {
    "duration": 4,
    "start_time": "2022-03-05T10:34:06.345Z"
   },
   {
    "duration": 247,
    "start_time": "2022-03-06T01:11:23.016Z"
   },
   {
    "duration": 594,
    "start_time": "2022-03-06T01:11:31.353Z"
   },
   {
    "duration": 130,
    "start_time": "2022-03-06T01:11:33.915Z"
   },
   {
    "duration": 17,
    "start_time": "2022-03-06T01:11:37.595Z"
   },
   {
    "duration": 140,
    "start_time": "2022-03-06T01:11:43.242Z"
   },
   {
    "duration": 4,
    "start_time": "2022-03-06T01:13:17.957Z"
   },
   {
    "duration": 13,
    "start_time": "2022-03-06T01:13:21.883Z"
   },
   {
    "duration": 3,
    "start_time": "2022-03-06T01:13:24.808Z"
   },
   {
    "duration": 22,
    "start_time": "2022-03-06T01:13:33.616Z"
   },
   {
    "duration": 16,
    "start_time": "2022-03-06T01:13:39.198Z"
   },
   {
    "duration": 22,
    "start_time": "2022-03-06T01:13:45.653Z"
   },
   {
    "duration": 32,
    "start_time": "2022-03-06T01:14:44.011Z"
   },
   {
    "duration": 52,
    "start_time": "2022-03-06T01:15:03.166Z"
   },
   {
    "duration": 62,
    "start_time": "2022-03-06T01:15:07.804Z"
   },
   {
    "duration": 61,
    "start_time": "2022-03-06T01:15:38.255Z"
   },
   {
    "duration": 47,
    "start_time": "2022-03-06T01:15:58.538Z"
   },
   {
    "duration": 6,
    "start_time": "2022-03-06T01:16:04.129Z"
   },
   {
    "duration": 9,
    "start_time": "2022-03-06T01:16:42.128Z"
   },
   {
    "duration": 4,
    "start_time": "2022-03-06T01:17:06.503Z"
   },
   {
    "duration": 64,
    "start_time": "2022-03-06T01:17:12.028Z"
   },
   {
    "duration": 63,
    "start_time": "2022-03-06T01:17:20.892Z"
   },
   {
    "duration": 9,
    "start_time": "2022-03-06T01:17:42.416Z"
   },
   {
    "duration": 6,
    "start_time": "2022-03-06T01:17:54.082Z"
   },
   {
    "duration": 8,
    "start_time": "2022-03-06T01:18:18.240Z"
   },
   {
    "duration": 3,
    "start_time": "2022-03-06T01:18:33.712Z"
   },
   {
    "duration": 61,
    "start_time": "2022-03-06T01:18:43.574Z"
   },
   {
    "duration": 11,
    "start_time": "2022-03-06T01:18:47.417Z"
   },
   {
    "duration": 3,
    "start_time": "2022-03-06T01:19:29.254Z"
   },
   {
    "duration": 64,
    "start_time": "2022-03-06T01:19:30.957Z"
   },
   {
    "duration": 9,
    "start_time": "2022-03-06T01:19:33.740Z"
   },
   {
    "duration": 6,
    "start_time": "2022-03-06T01:19:45.254Z"
   },
   {
    "duration": 600,
    "start_time": "2022-03-06T01:20:02.138Z"
   },
   {
    "duration": 122,
    "start_time": "2022-03-06T01:20:02.739Z"
   },
   {
    "duration": 16,
    "start_time": "2022-03-06T01:20:02.863Z"
   },
   {
    "duration": 147,
    "start_time": "2022-03-06T01:20:02.881Z"
   },
   {
    "duration": 3,
    "start_time": "2022-03-06T01:20:03.029Z"
   },
   {
    "duration": 18,
    "start_time": "2022-03-06T01:20:03.034Z"
   },
   {
    "duration": 8,
    "start_time": "2022-03-06T01:20:03.054Z"
   },
   {
    "duration": 24,
    "start_time": "2022-03-06T01:20:03.064Z"
   },
   {
    "duration": 19,
    "start_time": "2022-03-06T01:20:03.091Z"
   },
   {
    "duration": 22,
    "start_time": "2022-03-06T01:20:03.112Z"
   },
   {
    "duration": 77,
    "start_time": "2022-03-06T01:20:03.136Z"
   },
   {
    "duration": 69,
    "start_time": "2022-03-06T01:20:03.215Z"
   },
   {
    "duration": 45,
    "start_time": "2022-03-06T01:20:03.286Z"
   },
   {
    "duration": 8,
    "start_time": "2022-03-06T01:20:03.333Z"
   },
   {
    "duration": 34,
    "start_time": "2022-03-06T01:20:03.342Z"
   },
   {
    "duration": 58,
    "start_time": "2022-03-06T01:20:03.378Z"
   },
   {
    "duration": 6,
    "start_time": "2022-03-06T01:20:03.437Z"
   },
   {
    "duration": 45,
    "start_time": "2022-03-06T01:20:03.444Z"
   },
   {
    "duration": 27,
    "start_time": "2022-03-06T01:20:03.490Z"
   },
   {
    "duration": 3,
    "start_time": "2022-03-06T01:20:03.518Z"
   },
   {
    "duration": 19,
    "start_time": "2022-03-06T01:20:03.523Z"
   },
   {
    "duration": 28,
    "start_time": "2022-03-06T01:20:03.543Z"
   },
   {
    "duration": 13,
    "start_time": "2022-03-06T01:20:03.573Z"
   },
   {
    "duration": 23,
    "start_time": "2022-03-06T01:20:03.588Z"
   },
   {
    "duration": 15,
    "start_time": "2022-03-06T01:20:03.612Z"
   },
   {
    "duration": 43,
    "start_time": "2022-03-06T01:20:03.629Z"
   },
   {
    "duration": 62,
    "start_time": "2022-03-06T01:20:03.675Z"
   },
   {
    "duration": 24,
    "start_time": "2022-03-06T01:20:03.739Z"
   },
   {
    "duration": 9,
    "start_time": "2022-03-06T01:20:03.765Z"
   },
   {
    "duration": 4,
    "start_time": "2022-03-06T01:20:03.775Z"
   },
   {
    "duration": 28,
    "start_time": "2022-03-06T01:20:03.781Z"
   },
   {
    "duration": 15,
    "start_time": "2022-03-06T01:20:03.811Z"
   },
   {
    "duration": 60,
    "start_time": "2022-03-06T01:20:03.828Z"
   },
   {
    "duration": 24,
    "start_time": "2022-03-06T01:20:03.889Z"
   },
   {
    "duration": 8,
    "start_time": "2022-03-06T01:20:03.914Z"
   },
   {
    "duration": 4,
    "start_time": "2022-03-06T01:20:03.924Z"
   },
   {
    "duration": 11,
    "start_time": "2022-03-06T01:20:03.929Z"
   },
   {
    "duration": 4,
    "start_time": "2022-03-06T01:20:03.963Z"
   },
   {
    "duration": 16,
    "start_time": "2022-03-06T01:25:47.133Z"
   },
   {
    "duration": 64,
    "start_time": "2022-03-06T01:25:50.014Z"
   },
   {
    "duration": 6,
    "start_time": "2022-03-06T01:25:54.614Z"
   },
   {
    "duration": 9,
    "start_time": "2022-03-06T01:26:04.689Z"
   },
   {
    "duration": 30,
    "start_time": "2022-03-06T01:26:27.049Z"
   },
   {
    "duration": 30,
    "start_time": "2022-03-06T01:26:30.038Z"
   },
   {
    "duration": 11,
    "start_time": "2022-03-06T01:28:16.371Z"
   },
   {
    "duration": 28,
    "start_time": "2022-03-06T01:28:19.155Z"
   },
   {
    "duration": 11,
    "start_time": "2022-03-06T01:28:33.264Z"
   },
   {
    "duration": 9,
    "start_time": "2022-03-06T01:30:11.407Z"
   },
   {
    "duration": 4,
    "start_time": "2022-03-06T01:36:56.392Z"
   },
   {
    "duration": 16,
    "start_time": "2022-03-06T01:37:00.938Z"
   },
   {
    "duration": 11,
    "start_time": "2022-03-06T01:37:02.659Z"
   },
   {
    "duration": 19,
    "start_time": "2022-03-06T01:37:04.525Z"
   },
   {
    "duration": 13,
    "start_time": "2022-03-06T01:37:06.215Z"
   },
   {
    "duration": 8,
    "start_time": "2022-03-06T01:37:47.322Z"
   },
   {
    "duration": 5,
    "start_time": "2022-03-06T01:37:48.493Z"
   },
   {
    "duration": 6,
    "start_time": "2022-03-06T01:37:49.791Z"
   },
   {
    "duration": 4,
    "start_time": "2022-03-06T01:37:50.893Z"
   },
   {
    "duration": 567,
    "start_time": "2022-03-06T01:37:56.672Z"
   },
   {
    "duration": 124,
    "start_time": "2022-03-06T01:37:57.241Z"
   },
   {
    "duration": 16,
    "start_time": "2022-03-06T01:37:57.367Z"
   },
   {
    "duration": 148,
    "start_time": "2022-03-06T01:37:57.385Z"
   },
   {
    "duration": 3,
    "start_time": "2022-03-06T01:37:57.534Z"
   },
   {
    "duration": 18,
    "start_time": "2022-03-06T01:37:57.539Z"
   },
   {
    "duration": 7,
    "start_time": "2022-03-06T01:37:57.559Z"
   },
   {
    "duration": 21,
    "start_time": "2022-03-06T01:37:57.568Z"
   },
   {
    "duration": 14,
    "start_time": "2022-03-06T01:37:57.591Z"
   },
   {
    "duration": 25,
    "start_time": "2022-03-06T01:37:57.607Z"
   },
   {
    "duration": 70,
    "start_time": "2022-03-06T01:37:57.634Z"
   },
   {
    "duration": 75,
    "start_time": "2022-03-06T01:37:57.705Z"
   },
   {
    "duration": 48,
    "start_time": "2022-03-06T01:37:57.781Z"
   },
   {
    "duration": 8,
    "start_time": "2022-03-06T01:37:57.831Z"
   },
   {
    "duration": 31,
    "start_time": "2022-03-06T01:37:57.841Z"
   },
   {
    "duration": 64,
    "start_time": "2022-03-06T01:37:57.874Z"
   },
   {
    "duration": 9,
    "start_time": "2022-03-06T01:37:57.939Z"
   },
   {
    "duration": 10,
    "start_time": "2022-03-06T01:37:57.962Z"
   },
   {
    "duration": 9,
    "start_time": "2022-03-06T01:37:57.974Z"
   },
   {
    "duration": 3,
    "start_time": "2022-03-06T01:37:57.985Z"
   },
   {
    "duration": 21,
    "start_time": "2022-03-06T01:37:57.989Z"
   },
   {
    "duration": 12,
    "start_time": "2022-03-06T01:37:58.011Z"
   },
   {
    "duration": 38,
    "start_time": "2022-03-06T01:37:58.026Z"
   },
   {
    "duration": 23,
    "start_time": "2022-03-06T01:37:58.066Z"
   },
   {
    "duration": 14,
    "start_time": "2022-03-06T01:37:58.091Z"
   },
   {
    "duration": 13,
    "start_time": "2022-03-06T01:37:58.106Z"
   },
   {
    "duration": 92,
    "start_time": "2022-03-06T01:37:58.120Z"
   },
   {
    "duration": 9,
    "start_time": "2022-03-06T01:37:58.214Z"
   },
   {
    "duration": 9,
    "start_time": "2022-03-06T01:37:58.224Z"
   },
   {
    "duration": 3,
    "start_time": "2022-03-06T01:37:58.235Z"
   },
   {
    "duration": 34,
    "start_time": "2022-03-06T01:37:58.240Z"
   },
   {
    "duration": 9,
    "start_time": "2022-03-06T01:37:58.276Z"
   },
   {
    "duration": 18,
    "start_time": "2022-03-06T01:37:58.287Z"
   },
   {
    "duration": 12,
    "start_time": "2022-03-06T01:37:58.306Z"
   },
   {
    "duration": 7,
    "start_time": "2022-03-06T01:37:58.319Z"
   },
   {
    "duration": 36,
    "start_time": "2022-03-06T01:37:58.327Z"
   },
   {
    "duration": 7,
    "start_time": "2022-03-06T01:37:58.364Z"
   },
   {
    "duration": 4,
    "start_time": "2022-03-06T01:37:58.373Z"
   },
   {
    "duration": 2,
    "start_time": "2022-03-06T01:39:18.846Z"
   },
   {
    "duration": 131,
    "start_time": "2022-03-06T01:39:20.178Z"
   },
   {
    "duration": 10,
    "start_time": "2022-03-06T01:39:21.515Z"
   },
   {
    "duration": 145,
    "start_time": "2022-03-06T01:39:24.328Z"
   },
   {
    "duration": 3,
    "start_time": "2022-03-06T01:39:32.939Z"
   },
   {
    "duration": 13,
    "start_time": "2022-03-06T01:39:34.638Z"
   },
   {
    "duration": 4,
    "start_time": "2022-03-06T01:39:35.959Z"
   },
   {
    "duration": 22,
    "start_time": "2022-03-06T01:39:38.723Z"
   },
   {
    "duration": 17,
    "start_time": "2022-03-06T01:39:42.306Z"
   },
   {
    "duration": 22,
    "start_time": "2022-03-06T01:39:44.376Z"
   },
   {
    "duration": 51,
    "start_time": "2022-03-06T01:39:46.839Z"
   },
   {
    "duration": 58,
    "start_time": "2022-03-06T01:39:48.433Z"
   },
   {
    "duration": 46,
    "start_time": "2022-03-06T01:39:50.658Z"
   },
   {
    "duration": 9,
    "start_time": "2022-03-06T01:39:52.397Z"
   },
   {
    "duration": 17,
    "start_time": "2022-03-06T01:39:54.945Z"
   },
   {
    "duration": 54,
    "start_time": "2022-03-06T01:39:56.786Z"
   },
   {
    "duration": 9,
    "start_time": "2022-03-06T01:39:58.132Z"
   },
   {
    "duration": 10,
    "start_time": "2022-03-06T01:40:03.928Z"
   },
   {
    "duration": 12,
    "start_time": "2022-03-06T01:40:06.327Z"
   },
   {
    "duration": 3,
    "start_time": "2022-03-06T01:40:10.686Z"
   },
   {
    "duration": 17,
    "start_time": "2022-03-06T01:40:13.566Z"
   },
   {
    "duration": 17,
    "start_time": "2022-03-06T01:40:14.387Z"
   },
   {
    "duration": 17,
    "start_time": "2022-03-06T01:40:15.251Z"
   },
   {
    "duration": 25,
    "start_time": "2022-03-06T01:40:15.875Z"
   },
   {
    "duration": 16,
    "start_time": "2022-03-06T01:40:16.446Z"
   },
   {
    "duration": 17,
    "start_time": "2022-03-06T01:40:17.067Z"
   },
   {
    "duration": 67,
    "start_time": "2022-03-06T01:40:18.608Z"
   },
   {
    "duration": 18,
    "start_time": "2022-03-06T01:40:23.977Z"
   },
   {
    "duration": 13,
    "start_time": "2022-03-06T01:40:25.022Z"
   },
   {
    "duration": 4,
    "start_time": "2022-03-06T01:40:27.642Z"
   },
   {
    "duration": 16,
    "start_time": "2022-03-06T01:40:28.943Z"
   },
   {
    "duration": 11,
    "start_time": "2022-03-06T01:40:29.897Z"
   },
   {
    "duration": 16,
    "start_time": "2022-03-06T01:42:54.606Z"
   },
   {
    "duration": 15,
    "start_time": "2022-03-06T01:49:53.327Z"
   },
   {
    "duration": 11,
    "start_time": "2022-03-06T01:49:55.448Z"
   },
   {
    "duration": 23,
    "start_time": "2022-03-06T01:49:55.993Z"
   },
   {
    "duration": 4,
    "start_time": "2022-03-06T01:50:25.444Z"
   },
   {
    "duration": 465,
    "start_time": "2022-03-06T01:50:26.594Z"
   },
   {
    "duration": 403,
    "start_time": "2022-03-06T01:50:29.303Z"
   },
   {
    "duration": 451,
    "start_time": "2022-03-06T01:50:29.862Z"
   },
   {
    "duration": 4,
    "start_time": "2022-03-06T01:50:51.224Z"
   },
   {
    "duration": 17,
    "start_time": "2022-03-06T01:50:52.199Z"
   },
   {
    "duration": 13,
    "start_time": "2022-03-06T01:50:53.170Z"
   },
   {
    "duration": 29,
    "start_time": "2022-03-06T01:50:53.947Z"
   },
   {
    "duration": 19,
    "start_time": "2022-03-06T01:51:15.634Z"
   },
   {
    "duration": 4,
    "start_time": "2022-03-06T01:52:15.616Z"
   },
   {
    "duration": 465,
    "start_time": "2022-03-06T01:52:16.957Z"
   },
   {
    "duration": 421,
    "start_time": "2022-03-06T01:52:17.817Z"
   },
   {
    "duration": 439,
    "start_time": "2022-03-06T01:52:19.050Z"
   },
   {
    "duration": 610,
    "start_time": "2022-03-06T01:52:24.733Z"
   },
   {
    "duration": 128,
    "start_time": "2022-03-06T01:52:25.345Z"
   },
   {
    "duration": 14,
    "start_time": "2022-03-06T01:52:25.475Z"
   },
   {
    "duration": 141,
    "start_time": "2022-03-06T01:52:25.491Z"
   },
   {
    "duration": 4,
    "start_time": "2022-03-06T01:52:25.633Z"
   },
   {
    "duration": 25,
    "start_time": "2022-03-06T01:52:25.638Z"
   },
   {
    "duration": 7,
    "start_time": "2022-03-06T01:52:25.664Z"
   },
   {
    "duration": 22,
    "start_time": "2022-03-06T01:52:25.673Z"
   },
   {
    "duration": 17,
    "start_time": "2022-03-06T01:52:25.697Z"
   },
   {
    "duration": 27,
    "start_time": "2022-03-06T01:52:25.716Z"
   },
   {
    "duration": 70,
    "start_time": "2022-03-06T01:52:25.745Z"
   },
   {
    "duration": 74,
    "start_time": "2022-03-06T01:52:25.817Z"
   },
   {
    "duration": 48,
    "start_time": "2022-03-06T01:52:25.893Z"
   },
   {
    "duration": 22,
    "start_time": "2022-03-06T01:52:25.942Z"
   },
   {
    "duration": 16,
    "start_time": "2022-03-06T01:52:25.965Z"
   },
   {
    "duration": 57,
    "start_time": "2022-03-06T01:52:25.983Z"
   },
   {
    "duration": 26,
    "start_time": "2022-03-06T01:52:26.041Z"
   },
   {
    "duration": 11,
    "start_time": "2022-03-06T01:52:26.068Z"
   },
   {
    "duration": 10,
    "start_time": "2022-03-06T01:52:26.081Z"
   },
   {
    "duration": 3,
    "start_time": "2022-03-06T01:52:26.093Z"
   },
   {
    "duration": 18,
    "start_time": "2022-03-06T01:52:26.097Z"
   },
   {
    "duration": 47,
    "start_time": "2022-03-06T01:52:26.116Z"
   },
   {
    "duration": 14,
    "start_time": "2022-03-06T01:52:26.166Z"
   },
   {
    "duration": 21,
    "start_time": "2022-03-06T01:52:26.182Z"
   },
   {
    "duration": 14,
    "start_time": "2022-03-06T01:52:26.205Z"
   },
   {
    "duration": 13,
    "start_time": "2022-03-06T01:52:26.221Z"
   },
   {
    "duration": 86,
    "start_time": "2022-03-06T01:52:26.264Z"
   },
   {
    "duration": 25,
    "start_time": "2022-03-06T01:52:26.352Z"
   },
   {
    "duration": 13,
    "start_time": "2022-03-06T01:52:26.378Z"
   },
   {
    "duration": 5,
    "start_time": "2022-03-06T01:52:26.393Z"
   },
   {
    "duration": 535,
    "start_time": "2022-03-06T01:52:26.400Z"
   },
   {
    "duration": -593720,
    "start_time": "2022-03-06T02:02:20.657Z"
   },
   {
    "duration": -593721,
    "start_time": "2022-03-06T02:02:20.660Z"
   },
   {
    "duration": -593858,
    "start_time": "2022-03-06T02:02:20.798Z"
   },
   {
    "duration": -593860,
    "start_time": "2022-03-06T02:02:20.802Z"
   },
   {
    "duration": -593861,
    "start_time": "2022-03-06T02:02:20.804Z"
   },
   {
    "duration": -593860,
    "start_time": "2022-03-06T02:02:20.805Z"
   },
   {
    "duration": -593861,
    "start_time": "2022-03-06T02:02:20.807Z"
   },
   {
    "duration": 3,
    "start_time": "2022-03-06T01:53:09.741Z"
   },
   {
    "duration": 123,
    "start_time": "2022-03-06T01:53:11.875Z"
   },
   {
    "duration": 10,
    "start_time": "2022-03-06T01:53:13.057Z"
   },
   {
    "duration": 140,
    "start_time": "2022-03-06T01:53:14.777Z"
   },
   {
    "duration": 4,
    "start_time": "2022-03-06T01:53:19.785Z"
   },
   {
    "duration": 12,
    "start_time": "2022-03-06T01:53:27.421Z"
   },
   {
    "duration": 4,
    "start_time": "2022-03-06T01:53:28.414Z"
   },
   {
    "duration": 22,
    "start_time": "2022-03-06T01:53:31.096Z"
   },
   {
    "duration": 16,
    "start_time": "2022-03-06T01:53:32.790Z"
   },
   {
    "duration": 22,
    "start_time": "2022-03-06T01:53:34.276Z"
   },
   {
    "duration": 51,
    "start_time": "2022-03-06T01:53:36.451Z"
   },
   {
    "duration": 59,
    "start_time": "2022-03-06T01:53:37.459Z"
   },
   {
    "duration": 46,
    "start_time": "2022-03-06T01:53:39.149Z"
   },
   {
    "duration": 9,
    "start_time": "2022-03-06T01:53:40.911Z"
   },
   {
    "duration": 16,
    "start_time": "2022-03-06T01:53:42.561Z"
   },
   {
    "duration": 56,
    "start_time": "2022-03-06T01:53:43.663Z"
   },
   {
    "duration": 9,
    "start_time": "2022-03-06T01:53:45.291Z"
   },
   {
    "duration": 11,
    "start_time": "2022-03-06T01:53:49.761Z"
   },
   {
    "duration": 10,
    "start_time": "2022-03-06T01:53:52.415Z"
   },
   {
    "duration": 4,
    "start_time": "2022-03-06T01:54:01.550Z"
   },
   {
    "duration": 16,
    "start_time": "2022-03-06T01:54:05.725Z"
   },
   {
    "duration": 15,
    "start_time": "2022-03-06T01:54:06.209Z"
   },
   {
    "duration": 16,
    "start_time": "2022-03-06T01:54:06.556Z"
   },
   {
    "duration": 23,
    "start_time": "2022-03-06T01:54:06.976Z"
   },
   {
    "duration": 16,
    "start_time": "2022-03-06T01:54:07.507Z"
   },
   {
    "duration": 15,
    "start_time": "2022-03-06T01:54:08.061Z"
   },
   {
    "duration": 63,
    "start_time": "2022-03-06T01:54:09.649Z"
   },
   {
    "duration": 11,
    "start_time": "2022-03-06T01:54:12.907Z"
   },
   {
    "duration": 12,
    "start_time": "2022-03-06T01:54:13.499Z"
   },
   {
    "duration": 4,
    "start_time": "2022-03-06T01:54:15.739Z"
   },
   {
    "duration": 418,
    "start_time": "2022-03-06T01:54:16.992Z"
   },
   {
    "duration": 93,
    "start_time": "2022-03-06T01:54:55.718Z"
   },
   {
    "duration": 71,
    "start_time": "2022-03-06T01:55:10.200Z"
   },
   {
    "duration": 4,
    "start_time": "2022-03-06T02:00:02.462Z"
   },
   {
    "duration": 429,
    "start_time": "2022-03-06T02:00:04.262Z"
   },
   {
    "duration": 4,
    "start_time": "2022-03-06T02:00:27.605Z"
   },
   {
    "duration": 18,
    "start_time": "2022-03-06T02:00:29.054Z"
   },
   {
    "duration": 13,
    "start_time": "2022-03-06T02:00:31.069Z"
   },
   {
    "duration": 19,
    "start_time": "2022-03-06T02:00:33.857Z"
   },
   {
    "duration": 14,
    "start_time": "2022-03-06T02:00:36.567Z"
   },
   {
    "duration": 9,
    "start_time": "2022-03-06T02:00:47.325Z"
   },
   {
    "duration": 5,
    "start_time": "2022-03-06T02:00:48.817Z"
   },
   {
    "duration": 6,
    "start_time": "2022-03-06T02:00:50.875Z"
   },
   {
    "duration": 5,
    "start_time": "2022-03-06T02:00:52.035Z"
   },
   {
    "duration": 588,
    "start_time": "2022-03-06T08:45:47.757Z"
   },
   {
    "duration": 128,
    "start_time": "2022-03-06T08:45:48.347Z"
   },
   {
    "duration": 17,
    "start_time": "2022-03-06T08:45:48.477Z"
   },
   {
    "duration": 156,
    "start_time": "2022-03-06T08:45:48.496Z"
   },
   {
    "duration": 3,
    "start_time": "2022-03-06T08:45:48.654Z"
   },
   {
    "duration": 13,
    "start_time": "2022-03-06T08:45:48.663Z"
   },
   {
    "duration": 8,
    "start_time": "2022-03-06T08:45:48.678Z"
   },
   {
    "duration": 24,
    "start_time": "2022-03-06T08:45:48.690Z"
   },
   {
    "duration": 19,
    "start_time": "2022-03-06T08:45:48.716Z"
   },
   {
    "duration": 45,
    "start_time": "2022-03-06T08:45:48.736Z"
   },
   {
    "duration": 54,
    "start_time": "2022-03-06T08:45:48.783Z"
   },
   {
    "duration": 86,
    "start_time": "2022-03-06T08:45:48.839Z"
   },
   {
    "duration": 60,
    "start_time": "2022-03-06T08:45:48.927Z"
   },
   {
    "duration": 8,
    "start_time": "2022-03-06T08:45:48.988Z"
   },
   {
    "duration": 23,
    "start_time": "2022-03-06T08:45:48.998Z"
   },
   {
    "duration": 74,
    "start_time": "2022-03-06T08:45:49.023Z"
   },
   {
    "duration": 9,
    "start_time": "2022-03-06T08:45:49.098Z"
   },
   {
    "duration": 18,
    "start_time": "2022-03-06T08:45:49.109Z"
   },
   {
    "duration": 13,
    "start_time": "2022-03-06T08:45:49.128Z"
   },
   {
    "duration": 16,
    "start_time": "2022-03-06T08:45:49.143Z"
   },
   {
    "duration": 33,
    "start_time": "2022-03-06T08:45:49.161Z"
   },
   {
    "duration": 28,
    "start_time": "2022-03-06T08:45:49.196Z"
   },
   {
    "duration": 16,
    "start_time": "2022-03-06T08:45:49.227Z"
   },
   {
    "duration": 36,
    "start_time": "2022-03-06T08:45:49.245Z"
   },
   {
    "duration": 23,
    "start_time": "2022-03-06T08:45:49.282Z"
   },
   {
    "duration": 12,
    "start_time": "2022-03-06T08:45:49.307Z"
   },
   {
    "duration": 78,
    "start_time": "2022-03-06T08:45:49.321Z"
   },
   {
    "duration": 10,
    "start_time": "2022-03-06T08:45:49.401Z"
   },
   {
    "duration": 21,
    "start_time": "2022-03-06T08:45:49.412Z"
   },
   {
    "duration": 6,
    "start_time": "2022-03-06T08:45:49.435Z"
   },
   {
    "duration": 37,
    "start_time": "2022-03-06T08:45:49.443Z"
   },
   {
    "duration": 35,
    "start_time": "2022-03-06T08:45:49.482Z"
   },
   {
    "duration": 40,
    "start_time": "2022-03-06T08:45:49.519Z"
   },
   {
    "duration": 26,
    "start_time": "2022-03-06T08:45:49.561Z"
   },
   {
    "duration": 11,
    "start_time": "2022-03-06T08:45:49.589Z"
   },
   {
    "duration": 6,
    "start_time": "2022-03-06T08:45:49.602Z"
   },
   {
    "duration": 23,
    "start_time": "2022-03-06T08:45:49.609Z"
   },
   {
    "duration": 21,
    "start_time": "2022-03-06T08:45:49.634Z"
   }
  ],
  "colab": {
   "collapsed_sections": [
    "E0vqbgi9ay0H",
    "VUC88oWjTJw2",
    "atZAxtq4_Zcu"
   ],
   "name": "EmptyFinalProject.ipynb\"",
   "provenance": []
  },
  "kernelspec": {
   "display_name": "Python 3 (ipykernel)",
   "language": "python",
   "name": "python3"
  },
  "language_info": {
   "codemirror_mode": {
    "name": "ipython",
    "version": 3
   },
   "file_extension": ".py",
   "mimetype": "text/x-python",
   "name": "python",
   "nbconvert_exporter": "python",
   "pygments_lexer": "ipython3",
   "version": "3.9.5"
  },
  "toc": {
   "base_numbering": 1,
   "nav_menu": {},
   "number_sections": true,
   "sideBar": true,
   "skip_h1_title": true,
   "title_cell": "Table of Contents",
   "title_sidebar": "Contents",
   "toc_cell": false,
   "toc_position": {
    "height": "calc(100% - 180px)",
    "left": "10px",
    "top": "150px",
    "width": "165px"
   },
   "toc_section_display": true,
   "toc_window_display": false
  }
 },
 "nbformat": 4,
 "nbformat_minor": 4
}
