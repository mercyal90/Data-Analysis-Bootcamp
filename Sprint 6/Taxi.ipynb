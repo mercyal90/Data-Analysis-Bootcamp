{
 "cells": [
  {
   "cell_type": "markdown",
   "metadata": {},
   "source": [
    "You're working as an analyst for Zuber, a new ride-sharing company that's launching in Chicago. Your task is to find patterns in the available information. You want to understand passenger preferences and the impact of external factors on rides.\n",
    "\n",
    "\n",
    "You'll study a database, analyze data from competitors, and test a hypothesis about the impact of weather on ride frequency."
   ]
  },
  {
   "attachments": {
    "image.png": {
     "image/png": "[encoded data removed]"
    }
   },
   "cell_type": "markdown",
   "metadata": {},
   "source": [
    "## Description of the data\n",
    "A database with info on taxi rides in Chicago:\n",
    "\n",
    "neighborhoods table: data on city neighborhoods\n",
    "name: name of the neighborhood\n",
    "neighborhood_id: neighborhood code\n",
    "\n",
    "cabs table: data on taxis\n",
    "cab_id: vehicle code\n",
    "vehicle_id: the vehicle's technical ID\n",
    "company_name: the company that owns the vehicle\n",
    "\n",
    "trips table: data on rides\n",
    "trip_id: ride code\n",
    "cab_id: code of the vehicle operating the ride\n",
    "start_ts: date and time of the beginning of the ride (time rounded to the hour)\n",
    "end_ts: date and time of the end of the ride (time rounded to the hour)\n",
    "duration_seconds: ride duration in seconds\n",
    "distance_miles: ride distance in miles\n",
    "pickup_location_id: pickup neighborhood code\n",
    "dropoff_location_id: dropoff neighborhood code\n",
    "\n",
    "weather_records table: data on weather\n",
    "record_id: weather record code\n",
    "ts: record date and time (time rounded to the hour)\n",
    "temperature: temperature when the record was taken\n",
    "description: brief description of weather conditions, e.g. \"light rain\" or \"scattered clouds\"\n",
    "\n",
    "![image.png](attachment:image.png)"
   ]
  },
  {
   "cell_type": "code",
   "execution_count": 1,
   "metadata": {},
   "outputs": [],
   "source": [
    "import pandas as pd\n",
    "import numpy as np\n",
    "import seaborn as sns\n",
    "import matplotlib.pyplot as plt\n",
    "from scipy import stats as st\n",
    "import math as mt\n",
    "from functools import reduce"
   ]
  },
  {
   "cell_type": "code",
   "execution_count": 2,
   "metadata": {},
   "outputs": [],
   "source": [
    "company = pd.read_csv('/datasets/project_sql_result_01.csv')\n",
    "trips= pd.read_csv('/datasets/project_sql_result_04.csv')\n",
    "airport_trip= pd.read_csv('/datasets/project_sql_result_07.csv')\n"
   ]
  },
  {
   "cell_type": "code",
   "execution_count": 3,
   "metadata": {},
   "outputs": [
    {
     "name": "stdout",
     "output_type": "stream",
     "text": [
      "Company table Information\n",
      "<class 'pandas.core.frame.DataFrame'>\n",
      "RangeIndex: 64 entries, 0 to 63\n",
      "Data columns (total 2 columns):\n",
      " #   Column        Non-Null Count  Dtype \n",
      "---  ------        --------------  ----- \n",
      " 0   company_name  64 non-null     object\n",
      " 1   trips_amount  64 non-null     int64 \n",
      "dtypes: int64(1), object(1)\n",
      "memory usage: 1.1+ KB\n",
      "None\n",
      "\n",
      "Trip table Information\n",
      "<class 'pandas.core.frame.DataFrame'>\n",
      "RangeIndex: 94 entries, 0 to 93\n",
      "Data columns (total 2 columns):\n",
      " #   Column                 Non-Null Count  Dtype  \n",
      "---  ------                 --------------  -----  \n",
      " 0   dropoff_location_name  94 non-null     object \n",
      " 1   average_trips          94 non-null     float64\n",
      "dtypes: float64(1), object(1)\n",
      "memory usage: 1.6+ KB\n",
      "None\n",
      "\n",
      "Airport Trip table Information\n",
      "<class 'pandas.core.frame.DataFrame'>\n",
      "RangeIndex: 1068 entries, 0 to 1067\n",
      "Data columns (total 3 columns):\n",
      " #   Column              Non-Null Count  Dtype  \n",
      "---  ------              --------------  -----  \n",
      " 0   start_ts            1068 non-null   object \n",
      " 1   weather_conditions  1068 non-null   object \n",
      " 2   duration_seconds    1068 non-null   float64\n",
      "dtypes: float64(1), object(2)\n",
      "memory usage: 25.2+ KB\n",
      "None\n"
     ]
    }
   ],
   "source": [
    "print('Company table Information')\n",
    "print(company.info())\n",
    "print()\n",
    "print('Trip table Information')\n",
    "print(trips.info())\n",
    "print()\n",
    "print('Airport Trip table Information')\n",
    "print(airport_trip.info())"
   ]
  },
  {
   "cell_type": "code",
   "execution_count": 4,
   "metadata": {},
   "outputs": [
    {
     "data": {
      "text/html": [
       "<div>\n",
       "<style scoped>\n",
       "    .dataframe tbody tr th:only-of-type {\n",
       "        vertical-align: middle;\n",
       "    }\n",
       "\n",
       "    .dataframe tbody tr th {\n",
       "        vertical-align: top;\n",
       "    }\n",
       "\n",
       "    .dataframe thead th {\n",
       "        text-align: right;\n",
       "    }\n",
       "</style>\n",
       "<table border=\"1\" class=\"dataframe\">\n",
       "  <thead>\n",
       "    <tr style=\"text-align: right;\">\n",
       "      <th></th>\n",
       "      <th>company_name</th>\n",
       "      <th>trips_amount</th>\n",
       "    </tr>\n",
       "  </thead>\n",
       "  <tbody>\n",
       "    <tr>\n",
       "      <th>0</th>\n",
       "      <td>Flash Cab</td>\n",
       "      <td>19558</td>\n",
       "    </tr>\n",
       "    <tr>\n",
       "      <th>1</th>\n",
       "      <td>Taxi Affiliation Services</td>\n",
       "      <td>11422</td>\n",
       "    </tr>\n",
       "    <tr>\n",
       "      <th>2</th>\n",
       "      <td>Medallion Leasing</td>\n",
       "      <td>10367</td>\n",
       "    </tr>\n",
       "    <tr>\n",
       "      <th>3</th>\n",
       "      <td>Yellow Cab</td>\n",
       "      <td>9888</td>\n",
       "    </tr>\n",
       "    <tr>\n",
       "      <th>4</th>\n",
       "      <td>Taxi Affiliation Service Yellow</td>\n",
       "      <td>9299</td>\n",
       "    </tr>\n",
       "    <tr>\n",
       "      <th>5</th>\n",
       "      <td>Chicago Carriage Cab Corp</td>\n",
       "      <td>9181</td>\n",
       "    </tr>\n",
       "    <tr>\n",
       "      <th>6</th>\n",
       "      <td>City Service</td>\n",
       "      <td>8448</td>\n",
       "    </tr>\n",
       "    <tr>\n",
       "      <th>7</th>\n",
       "      <td>Sun Taxi</td>\n",
       "      <td>7701</td>\n",
       "    </tr>\n",
       "    <tr>\n",
       "      <th>8</th>\n",
       "      <td>Star North Management LLC</td>\n",
       "      <td>7455</td>\n",
       "    </tr>\n",
       "    <tr>\n",
       "      <th>9</th>\n",
       "      <td>Blue Ribbon Taxi Association Inc.</td>\n",
       "      <td>5953</td>\n",
       "    </tr>\n",
       "    <tr>\n",
       "      <th>10</th>\n",
       "      <td>Choice Taxi Association</td>\n",
       "      <td>5015</td>\n",
       "    </tr>\n",
       "    <tr>\n",
       "      <th>11</th>\n",
       "      <td>Globe Taxi</td>\n",
       "      <td>4383</td>\n",
       "    </tr>\n",
       "    <tr>\n",
       "      <th>12</th>\n",
       "      <td>Dispatch Taxi Affiliation</td>\n",
       "      <td>3355</td>\n",
       "    </tr>\n",
       "    <tr>\n",
       "      <th>13</th>\n",
       "      <td>Nova Taxi Affiliation Llc</td>\n",
       "      <td>3175</td>\n",
       "    </tr>\n",
       "    <tr>\n",
       "      <th>14</th>\n",
       "      <td>Patriot Taxi Dba Peace Taxi Association</td>\n",
       "      <td>2235</td>\n",
       "    </tr>\n",
       "  </tbody>\n",
       "</table>\n",
       "</div>"
      ],
      "text/plain": [
       "                               company_name  trips_amount\n",
       "0                                 Flash Cab         19558\n",
       "1                 Taxi Affiliation Services         11422\n",
       "2                         Medallion Leasing         10367\n",
       "3                                Yellow Cab          9888\n",
       "4           Taxi Affiliation Service Yellow          9299\n",
       "5                 Chicago Carriage Cab Corp          9181\n",
       "6                              City Service          8448\n",
       "7                                  Sun Taxi          7701\n",
       "8                 Star North Management LLC          7455\n",
       "9         Blue Ribbon Taxi Association Inc.          5953\n",
       "10                  Choice Taxi Association          5015\n",
       "11                               Globe Taxi          4383\n",
       "12                Dispatch Taxi Affiliation          3355\n",
       "13                Nova Taxi Affiliation Llc          3175\n",
       "14  Patriot Taxi Dba Peace Taxi Association          2235"
      ]
     },
     "execution_count": 4,
     "metadata": {},
     "output_type": "execute_result"
    }
   ],
   "source": [
    "company.head(15)"
   ]
  },
  {
   "cell_type": "code",
   "execution_count": 5,
   "metadata": {},
   "outputs": [
    {
     "data": {
      "text/html": [
       "<div>\n",
       "<style scoped>\n",
       "    .dataframe tbody tr th:only-of-type {\n",
       "        vertical-align: middle;\n",
       "    }\n",
       "\n",
       "    .dataframe tbody tr th {\n",
       "        vertical-align: top;\n",
       "    }\n",
       "\n",
       "    .dataframe thead th {\n",
       "        text-align: right;\n",
       "    }\n",
       "</style>\n",
       "<table border=\"1\" class=\"dataframe\">\n",
       "  <thead>\n",
       "    <tr style=\"text-align: right;\">\n",
       "      <th></th>\n",
       "      <th>trips_amount</th>\n",
       "    </tr>\n",
       "  </thead>\n",
       "  <tbody>\n",
       "    <tr>\n",
       "      <th>count</th>\n",
       "      <td>64.000000</td>\n",
       "    </tr>\n",
       "    <tr>\n",
       "      <th>mean</th>\n",
       "      <td>2145.484375</td>\n",
       "    </tr>\n",
       "    <tr>\n",
       "      <th>std</th>\n",
       "      <td>3812.310186</td>\n",
       "    </tr>\n",
       "    <tr>\n",
       "      <th>min</th>\n",
       "      <td>2.000000</td>\n",
       "    </tr>\n",
       "    <tr>\n",
       "      <th>25%</th>\n",
       "      <td>20.750000</td>\n",
       "    </tr>\n",
       "    <tr>\n",
       "      <th>50%</th>\n",
       "      <td>178.500000</td>\n",
       "    </tr>\n",
       "    <tr>\n",
       "      <th>75%</th>\n",
       "      <td>2106.500000</td>\n",
       "    </tr>\n",
       "    <tr>\n",
       "      <th>max</th>\n",
       "      <td>19558.000000</td>\n",
       "    </tr>\n",
       "  </tbody>\n",
       "</table>\n",
       "</div>"
      ],
      "text/plain": [
       "       trips_amount\n",
       "count     64.000000\n",
       "mean    2145.484375\n",
       "std     3812.310186\n",
       "min        2.000000\n",
       "25%       20.750000\n",
       "50%      178.500000\n",
       "75%     2106.500000\n",
       "max    19558.000000"
      ]
     },
     "execution_count": 5,
     "metadata": {},
     "output_type": "execute_result"
    }
   ],
   "source": [
    "company.describe()"
   ]
  },
  {
   "cell_type": "code",
   "execution_count": 6,
   "metadata": {},
   "outputs": [
    {
     "data": {
      "text/plain": [
       "company_name    0\n",
       "trips_amount    0\n",
       "dtype: int64"
      ]
     },
     "execution_count": 6,
     "metadata": {},
     "output_type": "execute_result"
    }
   ],
   "source": [
    "company.isna().sum()"
   ]
  },
  {
   "cell_type": "code",
   "execution_count": 7,
   "metadata": {},
   "outputs": [
    {
     "data": {
      "text/html": [
       "<div>\n",
       "<style scoped>\n",
       "    .dataframe tbody tr th:only-of-type {\n",
       "        vertical-align: middle;\n",
       "    }\n",
       "\n",
       "    .dataframe tbody tr th {\n",
       "        vertical-align: top;\n",
       "    }\n",
       "\n",
       "    .dataframe thead th {\n",
       "        text-align: right;\n",
       "    }\n",
       "</style>\n",
       "<table border=\"1\" class=\"dataframe\">\n",
       "  <thead>\n",
       "    <tr style=\"text-align: right;\">\n",
       "      <th></th>\n",
       "      <th>dropoff_location_name</th>\n",
       "      <th>average_trips</th>\n",
       "    </tr>\n",
       "  </thead>\n",
       "  <tbody>\n",
       "    <tr>\n",
       "      <th>0</th>\n",
       "      <td>Loop</td>\n",
       "      <td>10727.466667</td>\n",
       "    </tr>\n",
       "    <tr>\n",
       "      <th>1</th>\n",
       "      <td>River North</td>\n",
       "      <td>9523.666667</td>\n",
       "    </tr>\n",
       "    <tr>\n",
       "      <th>2</th>\n",
       "      <td>Streeterville</td>\n",
       "      <td>6664.666667</td>\n",
       "    </tr>\n",
       "    <tr>\n",
       "      <th>3</th>\n",
       "      <td>West Loop</td>\n",
       "      <td>5163.666667</td>\n",
       "    </tr>\n",
       "    <tr>\n",
       "      <th>4</th>\n",
       "      <td>O'Hare</td>\n",
       "      <td>2546.900000</td>\n",
       "    </tr>\n",
       "    <tr>\n",
       "      <th>5</th>\n",
       "      <td>Lake View</td>\n",
       "      <td>2420.966667</td>\n",
       "    </tr>\n",
       "    <tr>\n",
       "      <th>6</th>\n",
       "      <td>Grant Park</td>\n",
       "      <td>2068.533333</td>\n",
       "    </tr>\n",
       "    <tr>\n",
       "      <th>7</th>\n",
       "      <td>Museum Campus</td>\n",
       "      <td>1510.000000</td>\n",
       "    </tr>\n",
       "    <tr>\n",
       "      <th>8</th>\n",
       "      <td>Gold Coast</td>\n",
       "      <td>1364.233333</td>\n",
       "    </tr>\n",
       "    <tr>\n",
       "      <th>9</th>\n",
       "      <td>Sheffield &amp; DePaul</td>\n",
       "      <td>1259.766667</td>\n",
       "    </tr>\n",
       "    <tr>\n",
       "      <th>10</th>\n",
       "      <td>Lincoln Park</td>\n",
       "      <td>1246.533333</td>\n",
       "    </tr>\n",
       "    <tr>\n",
       "      <th>11</th>\n",
       "      <td>East Village</td>\n",
       "      <td>1212.066667</td>\n",
       "    </tr>\n",
       "    <tr>\n",
       "      <th>12</th>\n",
       "      <td>Little Italy, UIC</td>\n",
       "      <td>863.700000</td>\n",
       "    </tr>\n",
       "    <tr>\n",
       "      <th>13</th>\n",
       "      <td>Uptown</td>\n",
       "      <td>849.666667</td>\n",
       "    </tr>\n",
       "    <tr>\n",
       "      <th>14</th>\n",
       "      <td>Near South Side</td>\n",
       "      <td>839.833333</td>\n",
       "    </tr>\n",
       "  </tbody>\n",
       "</table>\n",
       "</div>"
      ],
      "text/plain": [
       "   dropoff_location_name  average_trips\n",
       "0                   Loop   10727.466667\n",
       "1            River North    9523.666667\n",
       "2          Streeterville    6664.666667\n",
       "3              West Loop    5163.666667\n",
       "4                 O'Hare    2546.900000\n",
       "5              Lake View    2420.966667\n",
       "6             Grant Park    2068.533333\n",
       "7          Museum Campus    1510.000000\n",
       "8             Gold Coast    1364.233333\n",
       "9     Sheffield & DePaul    1259.766667\n",
       "10          Lincoln Park    1246.533333\n",
       "11          East Village    1212.066667\n",
       "12     Little Italy, UIC     863.700000\n",
       "13                Uptown     849.666667\n",
       "14       Near South Side     839.833333"
      ]
     },
     "execution_count": 7,
     "metadata": {},
     "output_type": "execute_result"
    }
   ],
   "source": [
    "trips.head(15)"
   ]
  },
  {
   "cell_type": "code",
   "execution_count": 8,
   "metadata": {},
   "outputs": [
    {
     "data": {
      "text/html": [
       "<div>\n",
       "<style scoped>\n",
       "    .dataframe tbody tr th:only-of-type {\n",
       "        vertical-align: middle;\n",
       "    }\n",
       "\n",
       "    .dataframe tbody tr th {\n",
       "        vertical-align: top;\n",
       "    }\n",
       "\n",
       "    .dataframe thead th {\n",
       "        text-align: right;\n",
       "    }\n",
       "</style>\n",
       "<table border=\"1\" class=\"dataframe\">\n",
       "  <thead>\n",
       "    <tr style=\"text-align: right;\">\n",
       "      <th></th>\n",
       "      <th>average_trips</th>\n",
       "    </tr>\n",
       "  </thead>\n",
       "  <tbody>\n",
       "    <tr>\n",
       "      <th>count</th>\n",
       "      <td>94.000000</td>\n",
       "    </tr>\n",
       "    <tr>\n",
       "      <th>mean</th>\n",
       "      <td>599.953728</td>\n",
       "    </tr>\n",
       "    <tr>\n",
       "      <th>std</th>\n",
       "      <td>1714.591098</td>\n",
       "    </tr>\n",
       "    <tr>\n",
       "      <th>min</th>\n",
       "      <td>1.800000</td>\n",
       "    </tr>\n",
       "    <tr>\n",
       "      <th>25%</th>\n",
       "      <td>14.266667</td>\n",
       "    </tr>\n",
       "    <tr>\n",
       "      <th>50%</th>\n",
       "      <td>52.016667</td>\n",
       "    </tr>\n",
       "    <tr>\n",
       "      <th>75%</th>\n",
       "      <td>298.858333</td>\n",
       "    </tr>\n",
       "    <tr>\n",
       "      <th>max</th>\n",
       "      <td>10727.466667</td>\n",
       "    </tr>\n",
       "  </tbody>\n",
       "</table>\n",
       "</div>"
      ],
      "text/plain": [
       "       average_trips\n",
       "count      94.000000\n",
       "mean      599.953728\n",
       "std      1714.591098\n",
       "min         1.800000\n",
       "25%        14.266667\n",
       "50%        52.016667\n",
       "75%       298.858333\n",
       "max     10727.466667"
      ]
     },
     "execution_count": 8,
     "metadata": {},
     "output_type": "execute_result"
    }
   ],
   "source": [
    "trips.describe()"
   ]
  },
  {
   "cell_type": "code",
   "execution_count": 9,
   "metadata": {},
   "outputs": [
    {
     "data": {
      "text/plain": [
       "dropoff_location_name    0\n",
       "average_trips            0\n",
       "dtype: int64"
      ]
     },
     "execution_count": 9,
     "metadata": {},
     "output_type": "execute_result"
    }
   ],
   "source": [
    "trips.isna().sum()"
   ]
  },
  {
   "cell_type": "code",
   "execution_count": 10,
   "metadata": {},
   "outputs": [
    {
     "data": {
      "text/html": [
       "<div>\n",
       "<style scoped>\n",
       "    .dataframe tbody tr th:only-of-type {\n",
       "        vertical-align: middle;\n",
       "    }\n",
       "\n",
       "    .dataframe tbody tr th {\n",
       "        vertical-align: top;\n",
       "    }\n",
       "\n",
       "    .dataframe thead th {\n",
       "        text-align: right;\n",
       "    }\n",
       "</style>\n",
       "<table border=\"1\" class=\"dataframe\">\n",
       "  <thead>\n",
       "    <tr style=\"text-align: right;\">\n",
       "      <th></th>\n",
       "      <th>start_ts</th>\n",
       "      <th>weather_conditions</th>\n",
       "      <th>duration_seconds</th>\n",
       "    </tr>\n",
       "  </thead>\n",
       "  <tbody>\n",
       "    <tr>\n",
       "      <th>0</th>\n",
       "      <td>2017-11-25 16:00:00</td>\n",
       "      <td>Good</td>\n",
       "      <td>2410.0</td>\n",
       "    </tr>\n",
       "    <tr>\n",
       "      <th>1</th>\n",
       "      <td>2017-11-25 14:00:00</td>\n",
       "      <td>Good</td>\n",
       "      <td>1920.0</td>\n",
       "    </tr>\n",
       "    <tr>\n",
       "      <th>2</th>\n",
       "      <td>2017-11-25 12:00:00</td>\n",
       "      <td>Good</td>\n",
       "      <td>1543.0</td>\n",
       "    </tr>\n",
       "    <tr>\n",
       "      <th>3</th>\n",
       "      <td>2017-11-04 10:00:00</td>\n",
       "      <td>Good</td>\n",
       "      <td>2512.0</td>\n",
       "    </tr>\n",
       "    <tr>\n",
       "      <th>4</th>\n",
       "      <td>2017-11-11 07:00:00</td>\n",
       "      <td>Good</td>\n",
       "      <td>1440.0</td>\n",
       "    </tr>\n",
       "    <tr>\n",
       "      <th>5</th>\n",
       "      <td>2017-11-11 04:00:00</td>\n",
       "      <td>Good</td>\n",
       "      <td>1320.0</td>\n",
       "    </tr>\n",
       "    <tr>\n",
       "      <th>6</th>\n",
       "      <td>2017-11-04 16:00:00</td>\n",
       "      <td>Bad</td>\n",
       "      <td>2969.0</td>\n",
       "    </tr>\n",
       "    <tr>\n",
       "      <th>7</th>\n",
       "      <td>2017-11-18 11:00:00</td>\n",
       "      <td>Good</td>\n",
       "      <td>2280.0</td>\n",
       "    </tr>\n",
       "    <tr>\n",
       "      <th>8</th>\n",
       "      <td>2017-11-11 14:00:00</td>\n",
       "      <td>Good</td>\n",
       "      <td>2460.0</td>\n",
       "    </tr>\n",
       "    <tr>\n",
       "      <th>9</th>\n",
       "      <td>2017-11-11 12:00:00</td>\n",
       "      <td>Good</td>\n",
       "      <td>2040.0</td>\n",
       "    </tr>\n",
       "    <tr>\n",
       "      <th>10</th>\n",
       "      <td>2017-11-18 06:00:00</td>\n",
       "      <td>Good</td>\n",
       "      <td>1500.0</td>\n",
       "    </tr>\n",
       "    <tr>\n",
       "      <th>11</th>\n",
       "      <td>2017-11-04 11:00:00</td>\n",
       "      <td>Good</td>\n",
       "      <td>2040.0</td>\n",
       "    </tr>\n",
       "    <tr>\n",
       "      <th>12</th>\n",
       "      <td>2017-11-11 08:00:00</td>\n",
       "      <td>Good</td>\n",
       "      <td>1470.0</td>\n",
       "    </tr>\n",
       "    <tr>\n",
       "      <th>13</th>\n",
       "      <td>2017-11-04 08:00:00</td>\n",
       "      <td>Good</td>\n",
       "      <td>1546.0</td>\n",
       "    </tr>\n",
       "    <tr>\n",
       "      <th>14</th>\n",
       "      <td>2017-11-11 16:00:00</td>\n",
       "      <td>Good</td>\n",
       "      <td>2100.0</td>\n",
       "    </tr>\n",
       "  </tbody>\n",
       "</table>\n",
       "</div>"
      ],
      "text/plain": [
       "               start_ts weather_conditions  duration_seconds\n",
       "0   2017-11-25 16:00:00               Good            2410.0\n",
       "1   2017-11-25 14:00:00               Good            1920.0\n",
       "2   2017-11-25 12:00:00               Good            1543.0\n",
       "3   2017-11-04 10:00:00               Good            2512.0\n",
       "4   2017-11-11 07:00:00               Good            1440.0\n",
       "5   2017-11-11 04:00:00               Good            1320.0\n",
       "6   2017-11-04 16:00:00                Bad            2969.0\n",
       "7   2017-11-18 11:00:00               Good            2280.0\n",
       "8   2017-11-11 14:00:00               Good            2460.0\n",
       "9   2017-11-11 12:00:00               Good            2040.0\n",
       "10  2017-11-18 06:00:00               Good            1500.0\n",
       "11  2017-11-04 11:00:00               Good            2040.0\n",
       "12  2017-11-11 08:00:00               Good            1470.0\n",
       "13  2017-11-04 08:00:00               Good            1546.0\n",
       "14  2017-11-11 16:00:00               Good            2100.0"
      ]
     },
     "execution_count": 10,
     "metadata": {},
     "output_type": "execute_result"
    }
   ],
   "source": [
    "airport_trip.head(15)"
   ]
  },
  {
   "cell_type": "code",
   "execution_count": 11,
   "metadata": {},
   "outputs": [
    {
     "data": {
      "text/plain": [
       "start_ts              0\n",
       "weather_conditions    0\n",
       "duration_seconds      0\n",
       "dtype: int64"
      ]
     },
     "execution_count": 11,
     "metadata": {},
     "output_type": "execute_result"
    }
   ],
   "source": [
    "airport_trip.isna().sum()"
   ]
  },
  {
   "cell_type": "code",
   "execution_count": 12,
   "metadata": {},
   "outputs": [
    {
     "data": {
      "text/html": [
       "<div>\n",
       "<style scoped>\n",
       "    .dataframe tbody tr th:only-of-type {\n",
       "        vertical-align: middle;\n",
       "    }\n",
       "\n",
       "    .dataframe tbody tr th {\n",
       "        vertical-align: top;\n",
       "    }\n",
       "\n",
       "    .dataframe thead th {\n",
       "        text-align: right;\n",
       "    }\n",
       "</style>\n",
       "<table border=\"1\" class=\"dataframe\">\n",
       "  <thead>\n",
       "    <tr style=\"text-align: right;\">\n",
       "      <th></th>\n",
       "      <th>duration_seconds</th>\n",
       "    </tr>\n",
       "  </thead>\n",
       "  <tbody>\n",
       "    <tr>\n",
       "      <th>count</th>\n",
       "      <td>1068.000000</td>\n",
       "    </tr>\n",
       "    <tr>\n",
       "      <th>mean</th>\n",
       "      <td>2071.731273</td>\n",
       "    </tr>\n",
       "    <tr>\n",
       "      <th>std</th>\n",
       "      <td>769.461125</td>\n",
       "    </tr>\n",
       "    <tr>\n",
       "      <th>min</th>\n",
       "      <td>0.000000</td>\n",
       "    </tr>\n",
       "    <tr>\n",
       "      <th>25%</th>\n",
       "      <td>1438.250000</td>\n",
       "    </tr>\n",
       "    <tr>\n",
       "      <th>50%</th>\n",
       "      <td>1980.000000</td>\n",
       "    </tr>\n",
       "    <tr>\n",
       "      <th>75%</th>\n",
       "      <td>2580.000000</td>\n",
       "    </tr>\n",
       "    <tr>\n",
       "      <th>max</th>\n",
       "      <td>7440.000000</td>\n",
       "    </tr>\n",
       "  </tbody>\n",
       "</table>\n",
       "</div>"
      ],
      "text/plain": [
       "       duration_seconds\n",
       "count       1068.000000\n",
       "mean        2071.731273\n",
       "std          769.461125\n",
       "min            0.000000\n",
       "25%         1438.250000\n",
       "50%         1980.000000\n",
       "75%         2580.000000\n",
       "max         7440.000000"
      ]
     },
     "execution_count": 12,
     "metadata": {},
     "output_type": "execute_result"
    }
   ],
   "source": [
    "airport_trip.describe()"
   ]
  },
  {
   "cell_type": "markdown",
   "metadata": {},
   "source": [
    "Company Table contains the companies names and the amount of trips made for each company during 11/15/17-11/16/17. It consists of 64 rows and 2 columns. There are no missing values in the data provided. \n",
    "\n",
    "The trips table contains data on the dropoff locations and avg number of tips. It consist of 94 rows and 2 columns. This table also does not contain any missing values. \n",
    "\n",
    "Airport Trip table contains data on rides from the Loop to O'Hare International Airport, the weather and the duration of the rides. It consist of 1068 rows and 3 columns. There no missing values in this data."
   ]
  },
  {
   "cell_type": "markdown",
   "metadata": {},
   "source": [
    "## Change Data Type"
   ]
  },
  {
   "cell_type": "code",
   "execution_count": 13,
   "metadata": {},
   "outputs": [
    {
     "name": "stdout",
     "output_type": "stream",
     "text": [
      "<class 'pandas.core.frame.DataFrame'>\n",
      "RangeIndex: 1068 entries, 0 to 1067\n",
      "Data columns (total 3 columns):\n",
      " #   Column              Non-Null Count  Dtype  \n",
      "---  ------              --------------  -----  \n",
      " 0   start_ts            1068 non-null   object \n",
      " 1   weather_conditions  1068 non-null   object \n",
      " 2   duration_seconds    1068 non-null   float64\n",
      "dtypes: float64(1), object(2)\n",
      "memory usage: 25.2+ KB\n"
     ]
    }
   ],
   "source": [
    "airport_trip.info()"
   ]
  },
  {
   "cell_type": "markdown",
   "metadata": {},
   "source": [
    "Column start_ts will be changed to datetime format and duration_seconds to integer to make it more concise."
   ]
  },
  {
   "cell_type": "code",
   "execution_count": 14,
   "metadata": {},
   "outputs": [],
   "source": [
    "airport_trip['start_ts']=pd.to_datetime(airport_trip['start_ts'], format='%Y-%m-%d %H:%M:%S')\n",
    "airport_trip['duration_seconds']= airport_trip['duration_seconds'].astype('int64')"
   ]
  },
  {
   "cell_type": "code",
   "execution_count": 15,
   "metadata": {},
   "outputs": [
    {
     "name": "stdout",
     "output_type": "stream",
     "text": [
      "<class 'pandas.core.frame.DataFrame'>\n",
      "RangeIndex: 1068 entries, 0 to 1067\n",
      "Data columns (total 3 columns):\n",
      " #   Column              Non-Null Count  Dtype         \n",
      "---  ------              --------------  -----         \n",
      " 0   start_ts            1068 non-null   datetime64[ns]\n",
      " 1   weather_conditions  1068 non-null   object        \n",
      " 2   duration_seconds    1068 non-null   int64         \n",
      "dtypes: datetime64[ns](1), int64(1), object(1)\n",
      "memory usage: 25.2+ KB\n"
     ]
    }
   ],
   "source": [
    "airport_trip.info()"
   ]
  },
  {
   "cell_type": "code",
   "execution_count": 16,
   "metadata": {
    "scrolled": true
   },
   "outputs": [
    {
     "data": {
      "text/html": [
       "<div>\n",
       "<style scoped>\n",
       "    .dataframe tbody tr th:only-of-type {\n",
       "        vertical-align: middle;\n",
       "    }\n",
       "\n",
       "    .dataframe tbody tr th {\n",
       "        vertical-align: top;\n",
       "    }\n",
       "\n",
       "    .dataframe thead th {\n",
       "        text-align: right;\n",
       "    }\n",
       "</style>\n",
       "<table border=\"1\" class=\"dataframe\">\n",
       "  <thead>\n",
       "    <tr style=\"text-align: right;\">\n",
       "      <th></th>\n",
       "      <th>start_ts</th>\n",
       "      <th>weather_conditions</th>\n",
       "      <th>duration_seconds</th>\n",
       "    </tr>\n",
       "  </thead>\n",
       "  <tbody>\n",
       "    <tr>\n",
       "      <th>0</th>\n",
       "      <td>2017-11-25 16:00:00</td>\n",
       "      <td>Good</td>\n",
       "      <td>2410</td>\n",
       "    </tr>\n",
       "    <tr>\n",
       "      <th>1</th>\n",
       "      <td>2017-11-25 14:00:00</td>\n",
       "      <td>Good</td>\n",
       "      <td>1920</td>\n",
       "    </tr>\n",
       "    <tr>\n",
       "      <th>2</th>\n",
       "      <td>2017-11-25 12:00:00</td>\n",
       "      <td>Good</td>\n",
       "      <td>1543</td>\n",
       "    </tr>\n",
       "    <tr>\n",
       "      <th>3</th>\n",
       "      <td>2017-11-04 10:00:00</td>\n",
       "      <td>Good</td>\n",
       "      <td>2512</td>\n",
       "    </tr>\n",
       "    <tr>\n",
       "      <th>4</th>\n",
       "      <td>2017-11-11 07:00:00</td>\n",
       "      <td>Good</td>\n",
       "      <td>1440</td>\n",
       "    </tr>\n",
       "  </tbody>\n",
       "</table>\n",
       "</div>"
      ],
      "text/plain": [
       "             start_ts weather_conditions  duration_seconds\n",
       "0 2017-11-25 16:00:00               Good              2410\n",
       "1 2017-11-25 14:00:00               Good              1920\n",
       "2 2017-11-25 12:00:00               Good              1543\n",
       "3 2017-11-04 10:00:00               Good              2512\n",
       "4 2017-11-11 07:00:00               Good              1440"
      ]
     },
     "execution_count": 16,
     "metadata": {},
     "output_type": "execute_result"
    }
   ],
   "source": [
    "airport_trip.head()"
   ]
  },
  {
   "cell_type": "markdown",
   "metadata": {},
   "source": [
    "## Graph Data"
   ]
  },
  {
   "cell_type": "code",
   "execution_count": 17,
   "metadata": {},
   "outputs": [
    {
     "name": "stdout",
     "output_type": "stream",
     "text": [
      "  dropoff_location_name  average_trips\n",
      "0                  Loop   10727.466667\n",
      "1           River North    9523.666667\n",
      "2         Streeterville    6664.666667\n",
      "3             West Loop    5163.666667\n",
      "4                O'Hare    2546.900000\n",
      "5             Lake View    2420.966667\n",
      "6            Grant Park    2068.533333\n",
      "7         Museum Campus    1510.000000\n",
      "8            Gold Coast    1364.233333\n",
      "9    Sheffield & DePaul    1259.766667\n"
     ]
    }
   ],
   "source": [
    "## Identifying the top 10 neighborhood\n",
    "\n",
    "top_neighborhood= trips.nlargest(10,'average_trips')\n",
    "print(top_neighborhood)"
   ]
  },
  {
   "cell_type": "code",
   "execution_count": 18,
   "metadata": {},
   "outputs": [
    {
     "data": {
      "image/png": "[encoded data removed]",
      "text/plain": [
       "<Figure size 864x648 with 1 Axes>"
      ]
     },
     "metadata": {
      "needs_background": "light"
     },
     "output_type": "display_data"
    }
   ],
   "source": [
    "## Taxi companies and number of rides\n",
    "company.plot(x='company_name', y='trips_amount', figsize=( 12, 9), kind='bar', title='Taxi Companies & Number of Trips');\n"
   ]
  },
  {
   "cell_type": "code",
   "execution_count": 19,
   "metadata": {},
   "outputs": [
    {
     "name": "stdout",
     "output_type": "stream",
     "text": [
      "                        company_name  trips_amount\n",
      "0                          Flash Cab         19558\n",
      "1          Taxi Affiliation Services         11422\n",
      "2                  Medallion Leasing         10367\n",
      "3                         Yellow Cab          9888\n",
      "4    Taxi Affiliation Service Yellow          9299\n",
      "5          Chicago Carriage Cab Corp          9181\n",
      "6                       City Service          8448\n",
      "7                           Sun Taxi          7701\n",
      "8          Star North Management LLC          7455\n",
      "9  Blue Ribbon Taxi Association Inc.          5953\n"
     ]
    }
   ],
   "source": [
    "top_companies= company.nlargest(10,'trips_amount')\n",
    "print(top_companies)"
   ]
  },
  {
   "cell_type": "code",
   "execution_count": 20,
   "metadata": {},
   "outputs": [
    {
     "data": {
      "image/png": "[encoded data removed]",
      "text/plain": [
       "<Figure size 864x648 with 1 Axes>"
      ]
     },
     "metadata": {
      "needs_background": "light"
     },
     "output_type": "display_data"
    }
   ],
   "source": [
    "top_companies.plot(x='company_name', y='trips_amount', figsize=( 12, 9), kind='bar', title='Top 10 Taxi Companies & Number of Trips');\n"
   ]
  },
  {
   "cell_type": "markdown",
   "metadata": {},
   "source": [
    "The first bar graph represents all trips made for each company. We found a couple of companies with the lowest amount of trips started off with a 4 digit number followed by the company name. I narrowed it down to the top 10 companies and found that Flash cab seems to beat their competitors by at least double the amount of trips."
   ]
  },
  {
   "cell_type": "code",
   "execution_count": 21,
   "metadata": {},
   "outputs": [
    {
     "data": {
      "image/png": "[encoded data removed]",
      "text/plain": [
       "<Figure size 864x648 with 1 Axes>"
      ]
     },
     "metadata": {
      "needs_background": "light"
     },
     "output_type": "display_data"
    }
   ],
   "source": [
    "## Top 10 neighborhoods by dropoffs\n",
    "top_neighborhood.plot(x='dropoff_location_name', y='average_trips', figsize=( 12, 9), kind='bar', title='Top 10 Neighborhoods');\n"
   ]
  },
  {
   "cell_type": "markdown",
   "metadata": {},
   "source": [
    "The most popular dropoff location is the Loop neighborhood with River North coming in 2nd."
   ]
  },
  {
   "cell_type": "code",
   "execution_count": 22,
   "metadata": {},
   "outputs": [
    {
     "name": "stdout",
     "output_type": "stream",
     "text": [
      "  weather_conditions  duration_seconds\n",
      "0                Bad               180\n",
      "1               Good               888\n"
     ]
    }
   ],
   "source": [
    "weather_forecast= airport_trip.pivot_table(index='weather_conditions', values='duration_seconds', aggfunc='count').reset_index()\n",
    "print(weather_forecast)"
   ]
  },
  {
   "cell_type": "code",
   "execution_count": 23,
   "metadata": {},
   "outputs": [
    {
     "data": {
      "image/png": "[encoded data removed]",
      "text/plain": [
       "<Figure size 864x648 with 1 Axes>"
      ]
     },
     "metadata": {
      "needs_background": "light"
     },
     "output_type": "display_data"
    }
   ],
   "source": [
    "weather_forecast.plot(x='weather_conditions', y='duration_seconds', figsize=( 12, 9), kind='bar', title='weather');\n"
   ]
  },
  {
   "cell_type": "markdown",
   "metadata": {},
   "source": [
    "Most cab rides to the aiport are done during good weather, not surprising!"
   ]
  },
  {
   "cell_type": "markdown",
   "metadata": {},
   "source": [
    "## Testing Hypothesis"
   ]
  },
  {
   "cell_type": "markdown",
   "metadata": {},
   "source": [
    "H0 = The average durarion of rides from the Loop to O'Hare International Airport does not change on Saturdays.\n",
    "H1 = The average durarion of rides from the Loop to O'Hare International Airport does changes on rainy Saturdays."
   ]
  },
  {
   "cell_type": "code",
   "execution_count": 24,
   "metadata": {},
   "outputs": [
    {
     "name": "stdout",
     "output_type": "stream",
     "text": [
      "mean bad day: 2427.2055555555557\n",
      "mean good day: 1999.6756756756756\n"
     ]
    }
   ],
   "source": [
    "rainy_day = airport_trip.query('weather_conditions ==\"Bad\"')['duration_seconds']\n",
    "no_rain= airport_trip.query('weather_conditions ==\"Good\"')['duration_seconds']\n",
    "\n",
    "print('mean bad day:', pd.Series(rainy_day).mean())\n",
    "print('mean good day:', pd.Series(no_rain).mean())"
   ]
  },
  {
   "cell_type": "code",
   "execution_count": 25,
   "metadata": {},
   "outputs": [
    {
     "name": "stdout",
     "output_type": "stream",
     "text": [
      "p-value:  6.517970327099473e-12\n",
      "We reject the null hypothesis\n"
     ]
    }
   ],
   "source": [
    "alpha= 0.05\n",
    "\n",
    "results = st.ttest_ind(rainy_day, no_rain)\n",
    "\n",
    "print('p-value: ', results.pvalue)\n",
    "\n",
    "if results.pvalue < alpha:\n",
    "    print(\"We reject the null hypothesis\")\n",
    "else:\n",
    "    print(\"We can't reject the null hypothesis\") "
   ]
  },
  {
   "cell_type": "markdown",
   "metadata": {},
   "source": [
    "We conclude that the average duration from the Loop to O'Hare International Airport changes depending on the weather."
   ]
  },
  {
   "cell_type": "markdown",
   "metadata": {},
   "source": [
    "## Conclusion\n",
    " We fisrt started off by studying the database provided. 1.Company Table contained the companies names and the amount of trips made for each company during 11/15/17-11/16/17. It consists of 64 rows and 2 columns. There are no missing values in the data provided.2.The trips table contained data on the dropoff locations and avg number of tips. It consists of 94 rows and 2 columns. This table also does not contain any missing values. Our last table, Airport Trip, contained data on rides from the Loop to O'Hare International Airport, the weather and the duration of the rides. It consist of 1068 rows and 3 columns. There no missing values in this data. We made appropriate changes to two columns in the airport changes to present the data accurately.Our next task was to graph and identify the Top 10 companies & neighborhoods,Flash Cab & Loop came first in both categories. In our observation, We found a couple of companies with the lowest amount of trips started off with a 4 digit number followed by the company name. After performing our hypothesis testing we found that the average duration from the Loop to O'Hare Internation Airport is dependent on the weather. \n",
    " \n",
    " There could be many factor as why customers prefer being picked up from either Loop or River North, distance could be one reason or they are both affluent neighborhorhoods. Flash Cab's popularity may be due to its marketing strategy, higher market share or they may offer discount & other perks to their riders."
   ]
  }
 ],
 "metadata": {
  "ExecuteTimeLog": [
   {
    "duration": 1259,
    "start_time": "2022-07-26T18:39:13.177Z"
   },
   {
    "duration": 131,
    "start_time": "2022-07-26T18:43:31.391Z"
   },
   {
    "duration": 39,
    "start_time": "2022-07-26T18:43:49.599Z"
   },
   {
    "duration": 17,
    "start_time": "2022-07-26T18:44:33.287Z"
   },
   {
    "duration": 16,
    "start_time": "2022-07-26T18:46:17.695Z"
   },
   {
    "duration": 38,
    "start_time": "2022-07-26T18:46:45.398Z"
   },
   {
    "duration": 17,
    "start_time": "2022-07-26T18:46:46.070Z"
   },
   {
    "duration": 17,
    "start_time": "2022-07-26T18:47:04.262Z"
   },
   {
    "duration": 1274,
    "start_time": "2022-07-26T23:31:30.281Z"
   },
   {
    "duration": 119,
    "start_time": "2022-07-26T23:31:31.558Z"
   },
   {
    "duration": 19,
    "start_time": "2022-07-26T23:31:31.678Z"
   },
   {
    "duration": 11,
    "start_time": "2022-07-26T23:54:56.649Z"
   },
   {
    "duration": 7,
    "start_time": "2022-07-26T23:55:07.829Z"
   },
   {
    "duration": 12,
    "start_time": "2022-07-26T23:56:07.433Z"
   },
   {
    "duration": 11,
    "start_time": "2022-07-26T23:56:18.549Z"
   },
   {
    "duration": 5,
    "start_time": "2022-07-26T23:58:04.301Z"
   },
   {
    "duration": 6,
    "start_time": "2022-07-26T23:58:30.433Z"
   },
   {
    "duration": 3,
    "start_time": "2022-07-27T00:26:44.130Z"
   },
   {
    "duration": 105,
    "start_time": "2022-07-27T00:36:43.292Z"
   },
   {
    "duration": 21,
    "start_time": "2022-07-27T00:36:45.590Z"
   },
   {
    "duration": 16,
    "start_time": "2022-07-27T00:37:19.172Z"
   },
   {
    "duration": 24,
    "start_time": "2022-07-27T00:37:54.106Z"
   },
   {
    "duration": 9,
    "start_time": "2022-07-27T00:38:27.788Z"
   },
   {
    "duration": 84,
    "start_time": "2022-07-27T00:39:02.675Z"
   },
   {
    "duration": 6,
    "start_time": "2022-07-27T00:39:07.107Z"
   },
   {
    "duration": 12,
    "start_time": "2022-07-27T00:39:32.122Z"
   },
   {
    "duration": 1234,
    "start_time": "2022-07-27T19:02:33.718Z"
   },
   {
    "duration": 202,
    "start_time": "2022-07-27T19:02:34.953Z"
   },
   {
    "duration": 27,
    "start_time": "2022-07-27T19:02:35.158Z"
   },
   {
    "duration": 11,
    "start_time": "2022-07-27T19:02:35.188Z"
   },
   {
    "duration": 11,
    "start_time": "2022-07-27T19:02:35.201Z"
   },
   {
    "duration": 12,
    "start_time": "2022-07-27T19:02:35.213Z"
   },
   {
    "duration": 10,
    "start_time": "2022-07-27T19:02:35.227Z"
   },
   {
    "duration": 36,
    "start_time": "2022-07-27T19:02:35.238Z"
   },
   {
    "duration": 5,
    "start_time": "2022-07-27T19:02:35.276Z"
   },
   {
    "duration": 10,
    "start_time": "2022-07-27T19:02:35.283Z"
   },
   {
    "duration": 7,
    "start_time": "2022-07-27T19:02:35.294Z"
   },
   {
    "duration": 11,
    "start_time": "2022-07-27T19:02:35.303Z"
   },
   {
    "duration": 2,
    "start_time": "2022-07-27T19:02:35.315Z"
   },
   {
    "duration": 4,
    "start_time": "2022-07-27T19:16:19.172Z"
   },
   {
    "duration": 7,
    "start_time": "2022-07-27T19:16:34.262Z"
   },
   {
    "duration": 7,
    "start_time": "2022-07-27T19:16:46.952Z"
   },
   {
    "duration": 1006,
    "start_time": "2022-07-27T20:38:45.745Z"
   },
   {
    "duration": 59,
    "start_time": "2022-07-27T20:38:46.753Z"
   },
   {
    "duration": 23,
    "start_time": "2022-07-27T20:38:46.813Z"
   },
   {
    "duration": 10,
    "start_time": "2022-07-27T20:38:46.837Z"
   },
   {
    "duration": 10,
    "start_time": "2022-07-27T20:38:46.849Z"
   },
   {
    "duration": 6,
    "start_time": "2022-07-27T20:38:46.860Z"
   },
   {
    "duration": 15,
    "start_time": "2022-07-27T20:38:46.868Z"
   },
   {
    "duration": 13,
    "start_time": "2022-07-27T20:38:46.885Z"
   },
   {
    "duration": 7,
    "start_time": "2022-07-27T20:38:46.899Z"
   },
   {
    "duration": 9,
    "start_time": "2022-07-27T20:38:46.907Z"
   },
   {
    "duration": 7,
    "start_time": "2022-07-27T20:38:46.918Z"
   },
   {
    "duration": 12,
    "start_time": "2022-07-27T20:38:46.926Z"
   },
   {
    "duration": 5,
    "start_time": "2022-07-27T20:38:46.939Z"
   },
   {
    "duration": 6,
    "start_time": "2022-07-27T20:38:46.946Z"
   },
   {
    "duration": 1213,
    "start_time": "2022-07-27T20:45:27.787Z"
   },
   {
    "duration": 4,
    "start_time": "2022-07-27T20:46:53.820Z"
   },
   {
    "duration": 6,
    "start_time": "2022-07-27T20:47:25.088Z"
   },
   {
    "duration": 6,
    "start_time": "2022-07-27T21:28:39.543Z"
   },
   {
    "duration": 4,
    "start_time": "2022-07-27T21:28:47.990Z"
   },
   {
    "duration": 5,
    "start_time": "2022-07-27T21:29:23.970Z"
   },
   {
    "duration": 94,
    "start_time": "2022-07-27T21:31:38.688Z"
   },
   {
    "duration": 8,
    "start_time": "2022-07-27T21:32:24.632Z"
   },
   {
    "duration": 6,
    "start_time": "2022-07-27T21:32:51.730Z"
   },
   {
    "duration": 9,
    "start_time": "2022-07-27T21:33:46.041Z"
   },
   {
    "duration": 198,
    "start_time": "2022-07-27T21:33:54.111Z"
   },
   {
    "duration": 6,
    "start_time": "2022-07-27T21:35:18.825Z"
   },
   {
    "duration": 4,
    "start_time": "2022-07-27T21:35:27.286Z"
   },
   {
    "duration": 6,
    "start_time": "2022-07-27T21:35:50.394Z"
   },
   {
    "duration": 6,
    "start_time": "2022-07-27T21:36:08.662Z"
   },
   {
    "duration": 1160,
    "start_time": "2022-07-27T21:36:13.469Z"
   },
   {
    "duration": 6,
    "start_time": "2022-07-27T21:36:14.630Z"
   },
   {
    "duration": 192,
    "start_time": "2022-07-27T21:36:14.665Z"
   },
   {
    "duration": 1125,
    "start_time": "2022-07-27T21:44:08.255Z"
   },
   {
    "duration": 63,
    "start_time": "2022-07-27T21:44:09.382Z"
   },
   {
    "duration": 23,
    "start_time": "2022-07-27T21:44:09.447Z"
   },
   {
    "duration": 11,
    "start_time": "2022-07-27T21:44:09.472Z"
   },
   {
    "duration": 11,
    "start_time": "2022-07-27T21:44:09.484Z"
   },
   {
    "duration": 6,
    "start_time": "2022-07-27T21:44:09.497Z"
   },
   {
    "duration": 8,
    "start_time": "2022-07-27T21:44:09.505Z"
   },
   {
    "duration": 18,
    "start_time": "2022-07-27T21:44:09.514Z"
   },
   {
    "duration": 6,
    "start_time": "2022-07-27T21:44:09.533Z"
   },
   {
    "duration": 34,
    "start_time": "2022-07-27T21:44:09.541Z"
   },
   {
    "duration": 6,
    "start_time": "2022-07-27T21:44:09.576Z"
   },
   {
    "duration": 33,
    "start_time": "2022-07-27T21:44:09.583Z"
   },
   {
    "duration": 94,
    "start_time": "2022-07-27T21:44:09.617Z"
   },
   {
    "duration": 0,
    "start_time": "2022-07-27T21:44:09.713Z"
   },
   {
    "duration": 0,
    "start_time": "2022-07-27T21:44:09.714Z"
   },
   {
    "duration": 0,
    "start_time": "2022-07-27T21:44:09.715Z"
   },
   {
    "duration": 0,
    "start_time": "2022-07-27T21:44:09.716Z"
   },
   {
    "duration": 7,
    "start_time": "2022-07-27T21:44:27.443Z"
   },
   {
    "duration": 1010,
    "start_time": "2022-07-27T21:44:36.448Z"
   },
   {
    "duration": 62,
    "start_time": "2022-07-27T21:44:37.459Z"
   },
   {
    "duration": 22,
    "start_time": "2022-07-27T21:44:37.522Z"
   },
   {
    "duration": 10,
    "start_time": "2022-07-27T21:44:37.546Z"
   },
   {
    "duration": 14,
    "start_time": "2022-07-27T21:44:37.558Z"
   },
   {
    "duration": 7,
    "start_time": "2022-07-27T21:44:37.573Z"
   },
   {
    "duration": 11,
    "start_time": "2022-07-27T21:44:37.581Z"
   },
   {
    "duration": 12,
    "start_time": "2022-07-27T21:44:37.593Z"
   },
   {
    "duration": 8,
    "start_time": "2022-07-27T21:44:37.606Z"
   },
   {
    "duration": 10,
    "start_time": "2022-07-27T21:44:37.615Z"
   },
   {
    "duration": 6,
    "start_time": "2022-07-27T21:44:37.627Z"
   },
   {
    "duration": 12,
    "start_time": "2022-07-27T21:44:37.634Z"
   },
   {
    "duration": 6,
    "start_time": "2022-07-27T21:44:37.647Z"
   },
   {
    "duration": 1213,
    "start_time": "2022-07-27T21:44:37.655Z"
   },
   {
    "duration": 7,
    "start_time": "2022-07-27T21:44:38.870Z"
   },
   {
    "duration": 234,
    "start_time": "2022-07-27T21:44:38.879Z"
   },
   {
    "duration": 177,
    "start_time": "2022-07-27T21:44:39.115Z"
   },
   {
    "duration": 183,
    "start_time": "2022-07-27T21:45:35.019Z"
   },
   {
    "duration": 187,
    "start_time": "2022-07-27T21:45:55.227Z"
   },
   {
    "duration": 2,
    "start_time": "2022-07-27T21:50:03.497Z"
   },
   {
    "duration": 3,
    "start_time": "2022-07-27T21:50:56.885Z"
   },
   {
    "duration": 60,
    "start_time": "2022-07-27T21:50:57.402Z"
   },
   {
    "duration": 21,
    "start_time": "2022-07-27T21:50:58.323Z"
   },
   {
    "duration": 7,
    "start_time": "2022-07-27T21:50:59.619Z"
   },
   {
    "duration": 11,
    "start_time": "2022-07-27T21:51:00.027Z"
   },
   {
    "duration": 5,
    "start_time": "2022-07-27T21:51:00.240Z"
   },
   {
    "duration": 8,
    "start_time": "2022-07-27T21:51:03.872Z"
   },
   {
    "duration": 10,
    "start_time": "2022-07-27T21:51:04.259Z"
   },
   {
    "duration": 6,
    "start_time": "2022-07-27T21:51:04.683Z"
   },
   {
    "duration": 9,
    "start_time": "2022-07-27T21:51:04.981Z"
   },
   {
    "duration": 6,
    "start_time": "2022-07-27T21:51:05.307Z"
   },
   {
    "duration": 11,
    "start_time": "2022-07-27T21:51:05.613Z"
   },
   {
    "duration": 7,
    "start_time": "2022-07-27T21:51:20.970Z"
   },
   {
    "duration": 1156,
    "start_time": "2022-07-27T21:51:21.706Z"
   },
   {
    "duration": 12,
    "start_time": "2022-07-27T21:51:22.864Z"
   },
   {
    "duration": 292,
    "start_time": "2022-07-27T21:51:22.877Z"
   },
   {
    "duration": 169,
    "start_time": "2022-07-27T21:51:23.173Z"
   },
   {
    "duration": 10,
    "start_time": "2022-07-27T21:54:30.583Z"
   },
   {
    "duration": 13,
    "start_time": "2022-07-27T21:55:28.564Z"
   },
   {
    "duration": 84,
    "start_time": "2022-07-27T21:57:15.227Z"
   },
   {
    "duration": 79,
    "start_time": "2022-07-27T21:57:41.710Z"
   },
   {
    "duration": 9,
    "start_time": "2022-07-27T21:57:54.864Z"
   },
   {
    "duration": 3,
    "start_time": "2022-07-27T21:57:56.100Z"
   },
   {
    "duration": 70,
    "start_time": "2022-07-27T21:58:13.096Z"
   },
   {
    "duration": 640,
    "start_time": "2022-07-27T22:08:40.807Z"
   },
   {
    "duration": 5,
    "start_time": "2022-07-27T22:08:56.080Z"
   },
   {
    "duration": 10,
    "start_time": "2022-07-27T22:11:58.136Z"
   },
   {
    "duration": 10,
    "start_time": "2022-07-27T22:12:08.130Z"
   },
   {
    "duration": 7,
    "start_time": "2022-07-27T22:12:15.058Z"
   },
   {
    "duration": 9,
    "start_time": "2022-07-27T22:12:15.756Z"
   },
   {
    "duration": 1018,
    "start_time": "2022-07-27T22:13:02.632Z"
   },
   {
    "duration": 59,
    "start_time": "2022-07-27T22:13:03.652Z"
   },
   {
    "duration": 21,
    "start_time": "2022-07-27T22:13:03.712Z"
   },
   {
    "duration": 22,
    "start_time": "2022-07-27T22:13:03.734Z"
   },
   {
    "duration": 20,
    "start_time": "2022-07-27T22:13:03.758Z"
   },
   {
    "duration": 25,
    "start_time": "2022-07-27T22:13:03.779Z"
   },
   {
    "duration": 25,
    "start_time": "2022-07-27T22:13:03.805Z"
   },
   {
    "duration": 27,
    "start_time": "2022-07-27T22:13:03.832Z"
   },
   {
    "duration": 20,
    "start_time": "2022-07-27T22:13:03.860Z"
   },
   {
    "duration": 96,
    "start_time": "2022-07-27T22:13:03.882Z"
   },
   {
    "duration": 0,
    "start_time": "2022-07-27T22:13:03.980Z"
   },
   {
    "duration": 0,
    "start_time": "2022-07-27T22:13:03.982Z"
   },
   {
    "duration": 0,
    "start_time": "2022-07-27T22:13:03.984Z"
   },
   {
    "duration": 0,
    "start_time": "2022-07-27T22:13:03.985Z"
   },
   {
    "duration": 0,
    "start_time": "2022-07-27T22:13:03.986Z"
   },
   {
    "duration": 0,
    "start_time": "2022-07-27T22:13:03.987Z"
   },
   {
    "duration": 0,
    "start_time": "2022-07-27T22:13:03.989Z"
   },
   {
    "duration": 0,
    "start_time": "2022-07-27T22:13:03.990Z"
   },
   {
    "duration": 0,
    "start_time": "2022-07-27T22:13:03.992Z"
   },
   {
    "duration": 0,
    "start_time": "2022-07-27T22:13:03.993Z"
   },
   {
    "duration": 0,
    "start_time": "2022-07-27T22:13:03.994Z"
   },
   {
    "duration": 0,
    "start_time": "2022-07-27T22:13:03.995Z"
   },
   {
    "duration": 0,
    "start_time": "2022-07-27T22:13:03.997Z"
   },
   {
    "duration": 1093,
    "start_time": "2022-07-27T22:13:38.170Z"
   },
   {
    "duration": 60,
    "start_time": "2022-07-27T22:13:39.265Z"
   },
   {
    "duration": 24,
    "start_time": "2022-07-27T22:13:39.326Z"
   },
   {
    "duration": 24,
    "start_time": "2022-07-27T22:13:39.351Z"
   },
   {
    "duration": 10,
    "start_time": "2022-07-27T22:13:39.378Z"
   },
   {
    "duration": 8,
    "start_time": "2022-07-27T22:13:39.390Z"
   },
   {
    "duration": 12,
    "start_time": "2022-07-27T22:13:39.399Z"
   },
   {
    "duration": 14,
    "start_time": "2022-07-27T22:13:39.413Z"
   },
   {
    "duration": 7,
    "start_time": "2022-07-27T22:13:39.428Z"
   },
   {
    "duration": 104,
    "start_time": "2022-07-27T22:13:39.436Z"
   },
   {
    "duration": 0,
    "start_time": "2022-07-27T22:13:39.542Z"
   },
   {
    "duration": 0,
    "start_time": "2022-07-27T22:13:39.543Z"
   },
   {
    "duration": 0,
    "start_time": "2022-07-27T22:13:39.544Z"
   },
   {
    "duration": 0,
    "start_time": "2022-07-27T22:13:39.545Z"
   },
   {
    "duration": 0,
    "start_time": "2022-07-27T22:13:39.546Z"
   },
   {
    "duration": 0,
    "start_time": "2022-07-27T22:13:39.546Z"
   },
   {
    "duration": 0,
    "start_time": "2022-07-27T22:13:39.547Z"
   },
   {
    "duration": 0,
    "start_time": "2022-07-27T22:13:39.548Z"
   },
   {
    "duration": 0,
    "start_time": "2022-07-27T22:13:39.549Z"
   },
   {
    "duration": 0,
    "start_time": "2022-07-27T22:13:39.550Z"
   },
   {
    "duration": 0,
    "start_time": "2022-07-27T22:13:39.551Z"
   },
   {
    "duration": 0,
    "start_time": "2022-07-27T22:13:39.573Z"
   },
   {
    "duration": 0,
    "start_time": "2022-07-27T22:13:39.574Z"
   },
   {
    "duration": 3,
    "start_time": "2022-07-27T22:13:48.496Z"
   },
   {
    "duration": 60,
    "start_time": "2022-07-27T22:13:49.043Z"
   },
   {
    "duration": 21,
    "start_time": "2022-07-27T22:13:49.939Z"
   },
   {
    "duration": 7,
    "start_time": "2022-07-27T22:13:50.706Z"
   },
   {
    "duration": 10,
    "start_time": "2022-07-27T22:13:51.176Z"
   },
   {
    "duration": 7,
    "start_time": "2022-07-27T22:13:51.486Z"
   },
   {
    "duration": 7,
    "start_time": "2022-07-27T22:13:51.802Z"
   },
   {
    "duration": 11,
    "start_time": "2022-07-27T22:13:52.055Z"
   },
   {
    "duration": 6,
    "start_time": "2022-07-27T22:13:52.288Z"
   },
   {
    "duration": 10,
    "start_time": "2022-07-27T22:13:52.500Z"
   },
   {
    "duration": 8,
    "start_time": "2022-07-27T22:13:52.723Z"
   },
   {
    "duration": 7,
    "start_time": "2022-07-27T22:13:52.948Z"
   },
   {
    "duration": 10,
    "start_time": "2022-07-27T22:13:53.548Z"
   },
   {
    "duration": 7,
    "start_time": "2022-07-27T22:13:53.747Z"
   },
   {
    "duration": 10,
    "start_time": "2022-07-27T22:13:53.960Z"
   },
   {
    "duration": 7,
    "start_time": "2022-07-27T22:13:54.359Z"
   },
   {
    "duration": 1183,
    "start_time": "2022-07-27T22:13:54.561Z"
   },
   {
    "duration": 6,
    "start_time": "2022-07-27T22:13:55.745Z"
   },
   {
    "duration": 196,
    "start_time": "2022-07-27T22:13:55.753Z"
   },
   {
    "duration": 172,
    "start_time": "2022-07-27T22:13:55.951Z"
   },
   {
    "duration": 14,
    "start_time": "2022-07-27T22:13:56.124Z"
   },
   {
    "duration": 70,
    "start_time": "2022-07-27T22:13:56.139Z"
   },
   {
    "duration": 3,
    "start_time": "2022-07-27T22:13:56.282Z"
   },
   {
    "duration": 1047,
    "start_time": "2022-07-27T22:14:50.401Z"
   },
   {
    "duration": 65,
    "start_time": "2022-07-27T22:14:51.451Z"
   },
   {
    "duration": 29,
    "start_time": "2022-07-27T22:14:51.518Z"
   },
   {
    "duration": 15,
    "start_time": "2022-07-27T22:14:51.549Z"
   },
   {
    "duration": 12,
    "start_time": "2022-07-27T22:14:51.567Z"
   },
   {
    "duration": 10,
    "start_time": "2022-07-27T22:14:51.581Z"
   },
   {
    "duration": 14,
    "start_time": "2022-07-27T22:14:51.593Z"
   },
   {
    "duration": 30,
    "start_time": "2022-07-27T22:14:51.609Z"
   },
   {
    "duration": 8,
    "start_time": "2022-07-27T22:14:51.640Z"
   },
   {
    "duration": 12,
    "start_time": "2022-07-27T22:14:51.649Z"
   },
   {
    "duration": 8,
    "start_time": "2022-07-27T22:14:51.662Z"
   },
   {
    "duration": 13,
    "start_time": "2022-07-27T22:14:51.671Z"
   },
   {
    "duration": 9,
    "start_time": "2022-07-27T22:14:51.685Z"
   },
   {
    "duration": 8,
    "start_time": "2022-07-27T22:14:51.697Z"
   },
   {
    "duration": 13,
    "start_time": "2022-07-27T22:14:51.706Z"
   },
   {
    "duration": 11,
    "start_time": "2022-07-27T22:14:51.721Z"
   },
   {
    "duration": 1262,
    "start_time": "2022-07-27T22:14:51.734Z"
   },
   {
    "duration": 5,
    "start_time": "2022-07-27T22:14:52.998Z"
   },
   {
    "duration": 204,
    "start_time": "2022-07-27T22:14:53.005Z"
   },
   {
    "duration": 175,
    "start_time": "2022-07-27T22:14:53.210Z"
   },
   {
    "duration": 14,
    "start_time": "2022-07-27T22:14:53.386Z"
   },
   {
    "duration": 165,
    "start_time": "2022-07-27T22:14:53.401Z"
   },
   {
    "duration": 0,
    "start_time": "2022-07-27T22:14:53.567Z"
   },
   {
    "duration": 9,
    "start_time": "2022-07-27T22:19:38.800Z"
   },
   {
    "duration": 78,
    "start_time": "2022-07-27T22:21:37.155Z"
   },
   {
    "duration": 59,
    "start_time": "2022-07-27T22:21:49.555Z"
   },
   {
    "duration": 74,
    "start_time": "2022-07-27T22:23:29.191Z"
   },
   {
    "duration": 45,
    "start_time": "2022-07-27T22:23:47.865Z"
   },
   {
    "duration": 73,
    "start_time": "2022-07-27T22:24:03.467Z"
   },
   {
    "duration": 9,
    "start_time": "2022-07-27T22:27:26.524Z"
   },
   {
    "duration": 6,
    "start_time": "2022-07-27T22:28:10.988Z"
   },
   {
    "duration": 4,
    "start_time": "2022-07-27T22:28:23.571Z"
   },
   {
    "duration": 9,
    "start_time": "2022-07-27T22:29:13.270Z"
   },
   {
    "duration": 4,
    "start_time": "2022-07-27T22:29:17.777Z"
   },
   {
    "duration": 6,
    "start_time": "2022-07-27T22:29:29.810Z"
   },
   {
    "duration": 10,
    "start_time": "2022-07-27T22:29:30.555Z"
   },
   {
    "duration": 1066,
    "start_time": "2022-07-27T22:29:40.628Z"
   },
   {
    "duration": 61,
    "start_time": "2022-07-27T22:29:41.696Z"
   },
   {
    "duration": 24,
    "start_time": "2022-07-27T22:29:41.759Z"
   },
   {
    "duration": 20,
    "start_time": "2022-07-27T22:29:41.785Z"
   },
   {
    "duration": 34,
    "start_time": "2022-07-27T22:29:41.807Z"
   },
   {
    "duration": 27,
    "start_time": "2022-07-27T22:29:41.842Z"
   },
   {
    "duration": 29,
    "start_time": "2022-07-27T22:29:41.871Z"
   },
   {
    "duration": 24,
    "start_time": "2022-07-27T22:29:41.902Z"
   },
   {
    "duration": 17,
    "start_time": "2022-07-27T22:29:41.928Z"
   },
   {
    "duration": 26,
    "start_time": "2022-07-27T22:29:41.947Z"
   },
   {
    "duration": 31,
    "start_time": "2022-07-27T22:29:41.975Z"
   },
   {
    "duration": 20,
    "start_time": "2022-07-27T22:29:42.008Z"
   },
   {
    "duration": 33,
    "start_time": "2022-07-27T22:29:42.030Z"
   },
   {
    "duration": 40,
    "start_time": "2022-07-27T22:29:42.064Z"
   },
   {
    "duration": 19,
    "start_time": "2022-07-27T22:29:42.106Z"
   },
   {
    "duration": 29,
    "start_time": "2022-07-27T22:29:42.126Z"
   },
   {
    "duration": 21,
    "start_time": "2022-07-27T22:29:42.156Z"
   },
   {
    "duration": 1201,
    "start_time": "2022-07-27T22:29:42.179Z"
   },
   {
    "duration": 6,
    "start_time": "2022-07-27T22:29:43.381Z"
   },
   {
    "duration": 203,
    "start_time": "2022-07-27T22:29:43.389Z"
   },
   {
    "duration": 182,
    "start_time": "2022-07-27T22:29:43.594Z"
   },
   {
    "duration": 9,
    "start_time": "2022-07-27T22:29:43.778Z"
   },
   {
    "duration": 9,
    "start_time": "2022-07-27T22:29:43.789Z"
   },
   {
    "duration": 9,
    "start_time": "2022-07-27T22:29:43.800Z"
   },
   {
    "duration": 4,
    "start_time": "2022-07-27T22:31:25.880Z"
   },
   {
    "duration": 7,
    "start_time": "2022-07-27T22:33:53.660Z"
   },
   {
    "duration": 10,
    "start_time": "2022-07-27T22:33:56.150Z"
   },
   {
    "duration": 8,
    "start_time": "2022-07-27T22:34:01.364Z"
   },
   {
    "duration": 9,
    "start_time": "2022-07-27T22:38:16.872Z"
   },
   {
    "duration": 8,
    "start_time": "2022-07-27T22:38:34.300Z"
   },
   {
    "duration": 5,
    "start_time": "2022-07-27T22:38:37.261Z"
   },
   {
    "duration": 4,
    "start_time": "2022-07-27T22:47:26.081Z"
   },
   {
    "duration": 1035,
    "start_time": "2022-07-27T22:48:04.119Z"
   },
   {
    "duration": 60,
    "start_time": "2022-07-27T22:48:05.156Z"
   },
   {
    "duration": 22,
    "start_time": "2022-07-27T22:48:05.218Z"
   },
   {
    "duration": 15,
    "start_time": "2022-07-27T22:48:05.242Z"
   },
   {
    "duration": 38,
    "start_time": "2022-07-27T22:48:05.259Z"
   },
   {
    "duration": 28,
    "start_time": "2022-07-27T22:48:05.299Z"
   },
   {
    "duration": 21,
    "start_time": "2022-07-27T22:48:05.329Z"
   },
   {
    "duration": 35,
    "start_time": "2022-07-27T22:48:05.352Z"
   },
   {
    "duration": 19,
    "start_time": "2022-07-27T22:48:05.388Z"
   },
   {
    "duration": 36,
    "start_time": "2022-07-27T22:48:05.410Z"
   },
   {
    "duration": 22,
    "start_time": "2022-07-27T22:48:05.448Z"
   },
   {
    "duration": 28,
    "start_time": "2022-07-27T22:48:05.471Z"
   },
   {
    "duration": 36,
    "start_time": "2022-07-27T22:48:05.500Z"
   },
   {
    "duration": 32,
    "start_time": "2022-07-27T22:48:05.537Z"
   },
   {
    "duration": 28,
    "start_time": "2022-07-27T22:48:05.572Z"
   },
   {
    "duration": 28,
    "start_time": "2022-07-27T22:48:05.601Z"
   },
   {
    "duration": 27,
    "start_time": "2022-07-27T22:48:05.630Z"
   },
   {
    "duration": 1246,
    "start_time": "2022-07-27T22:48:05.658Z"
   },
   {
    "duration": 6,
    "start_time": "2022-07-27T22:48:06.905Z"
   },
   {
    "duration": 218,
    "start_time": "2022-07-27T22:48:06.912Z"
   },
   {
    "duration": 169,
    "start_time": "2022-07-27T22:48:07.132Z"
   },
   {
    "duration": 8,
    "start_time": "2022-07-27T22:48:07.303Z"
   },
   {
    "duration": 9,
    "start_time": "2022-07-27T22:48:07.312Z"
   },
   {
    "duration": 5,
    "start_time": "2022-07-27T22:52:15.071Z"
   },
   {
    "duration": 8,
    "start_time": "2022-07-27T22:52:29.371Z"
   },
   {
    "duration": 4,
    "start_time": "2022-07-27T22:52:30.337Z"
   },
   {
    "duration": 2051,
    "start_time": "2022-07-27T22:58:51.690Z"
   },
   {
    "duration": 9052,
    "start_time": "2022-07-27T22:59:08.344Z"
   },
   {
    "duration": 9085,
    "start_time": "2022-07-27T22:59:31.913Z"
   },
   {
    "duration": 1870,
    "start_time": "2022-07-27T22:59:48.937Z"
   },
   {
    "duration": 85,
    "start_time": "2022-07-27T23:17:30.366Z"
   },
   {
    "duration": 9,
    "start_time": "2022-07-27T23:17:35.981Z"
   },
   {
    "duration": 772,
    "start_time": "2022-07-27T23:18:39.725Z"
   },
   {
    "duration": 11167,
    "start_time": "2022-07-27T23:19:15.714Z"
   },
   {
    "duration": 11,
    "start_time": "2022-07-27T23:22:00.080Z"
   },
   {
    "duration": 8,
    "start_time": "2022-07-27T23:22:38.511Z"
   },
   {
    "duration": 127,
    "start_time": "2022-07-27T23:22:43.378Z"
   },
   {
    "duration": 1509,
    "start_time": "2022-07-28T11:23:51.986Z"
   },
   {
    "duration": 179,
    "start_time": "2022-07-28T11:23:53.498Z"
   },
   {
    "duration": 35,
    "start_time": "2022-07-28T11:23:53.678Z"
   },
   {
    "duration": 15,
    "start_time": "2022-07-28T11:23:53.715Z"
   },
   {
    "duration": 32,
    "start_time": "2022-07-28T11:23:53.733Z"
   },
   {
    "duration": 12,
    "start_time": "2022-07-28T11:23:53.767Z"
   },
   {
    "duration": 14,
    "start_time": "2022-07-28T11:23:53.781Z"
   },
   {
    "duration": 21,
    "start_time": "2022-07-28T11:23:53.797Z"
   },
   {
    "duration": 15,
    "start_time": "2022-07-28T11:23:53.820Z"
   },
   {
    "duration": 23,
    "start_time": "2022-07-28T11:23:53.837Z"
   },
   {
    "duration": 10,
    "start_time": "2022-07-28T11:23:53.862Z"
   },
   {
    "duration": 16,
    "start_time": "2022-07-28T11:23:53.874Z"
   },
   {
    "duration": 13,
    "start_time": "2022-07-28T11:23:53.892Z"
   },
   {
    "duration": 17,
    "start_time": "2022-07-28T11:23:53.907Z"
   },
   {
    "duration": 19,
    "start_time": "2022-07-28T11:23:53.926Z"
   },
   {
    "duration": 13,
    "start_time": "2022-07-28T11:23:53.947Z"
   },
   {
    "duration": 16,
    "start_time": "2022-07-28T11:23:53.962Z"
   },
   {
    "duration": 1640,
    "start_time": "2022-07-28T11:23:53.981Z"
   },
   {
    "duration": 7,
    "start_time": "2022-07-28T11:23:55.624Z"
   },
   {
    "duration": 266,
    "start_time": "2022-07-28T11:23:55.633Z"
   },
   {
    "duration": 226,
    "start_time": "2022-07-28T11:23:55.901Z"
   },
   {
    "duration": 14,
    "start_time": "2022-07-28T11:23:56.129Z"
   },
   {
    "duration": 167,
    "start_time": "2022-07-28T11:23:56.145Z"
   },
   {
    "duration": 21,
    "start_time": "2022-07-28T11:23:56.314Z"
   },
   {
    "duration": 29,
    "start_time": "2022-07-28T11:23:56.337Z"
   }
  ],
  "kernelspec": {
   "display_name": "Python 3 (ipykernel)",
   "language": "python",
   "name": "python3"
  },
  "language_info": {
   "codemirror_mode": {
    "name": "ipython",
    "version": 3
   },
   "file_extension": ".py",
   "mimetype": "text/x-python",
   "name": "python",
   "nbconvert_exporter": "python",
   "pygments_lexer": "ipython3",
   "version": "3.9.5"
  },
  "toc": {
   "base_numbering": 1,
   "nav_menu": {},
   "number_sections": true,
   "sideBar": true,
   "skip_h1_title": true,
   "title_cell": "Table of Contents",
   "title_sidebar": "Contents",
   "toc_cell": false,
   "toc_position": {},
   "toc_section_display": true,
   "toc_window_display": false
  }
 },
 "nbformat": 4,
 "nbformat_minor": 2
}
