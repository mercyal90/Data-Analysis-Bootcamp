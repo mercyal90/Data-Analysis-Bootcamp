{
 "cells": [
  {
   "cell_type": "markdown",
   "metadata": {},
   "source": [
    "# Which one is a better plan?\n",
    "\n",
    "You work as an analyst for the telecom operator Megaline. The company offers its clients two prepaid plans, Surf and Ultimate. The commercial department wants to know which of the plans brings in more revenue in order to adjust the advertising budget.\n",
    "\n",
    "You are going to carry out a preliminary analysis of the plans based on a relatively small client selection. You'll have the data on 500 Megaline clients: who the clients are, where they're from, which plan they use, and the number of calls they made and text messages they sent in 2018. Your job is to analyze the clients' behavior and determine which prepaid plan brings in more revenue."
   ]
  },
  {
   "cell_type": "markdown",
   "metadata": {},
   "source": [
    "## Initialization"
   ]
  },
  {
   "cell_type": "markdown",
   "metadata": {},
   "source": []
  },
  {
   "cell_type": "code",
   "execution_count": 1,
   "metadata": {},
   "outputs": [],
   "source": [
    "# Loading all the libraries\n",
    "import pandas as pd\n",
    "import numpy as np\n",
    "import seaborn as sns\n",
    "import matplotlib.pyplot as plt\n",
    "from scipy import stats as st\n",
    "import math as mt\n",
    "from functools import reduce\n"
   ]
  },
  {
   "cell_type": "markdown",
   "metadata": {},
   "source": [
    "## Load data"
   ]
  },
  {
   "cell_type": "markdown",
   "metadata": {},
   "source": []
  },
  {
   "cell_type": "code",
   "execution_count": 2,
   "metadata": {},
   "outputs": [],
   "source": [
    "# Load the data files into different DataFrames\n",
    "\n",
    "calls = pd.read_csv('/datasets/megaline_calls.csv')\n",
    "internet = pd.read_csv('/datasets/megaline_internet.csv')\n",
    "messages = pd.read_csv('/datasets/megaline_messages.csv')\n",
    "plans = pd.read_csv('/datasets/megaline_plans.csv')\n",
    "users = pd.read_csv('/datasets/megaline_users.csv')"
   ]
  },
  {
   "cell_type": "markdown",
   "metadata": {},
   "source": [
    "## Prepare the data"
   ]
  },
  {
   "cell_type": "markdown",
   "metadata": {},
   "source": [
    "[The data for this project is split into several tables. Explore each one to get an initial understanding of the data. Do necessary corrections to each table if necessary.]"
   ]
  },
  {
   "cell_type": "markdown",
   "metadata": {},
   "source": [
    "## Plans"
   ]
  },
  {
   "cell_type": "code",
   "execution_count": 3,
   "metadata": {},
   "outputs": [
    {
     "name": "stdout",
     "output_type": "stream",
     "text": [
      "<class 'pandas.core.frame.DataFrame'>\n",
      "RangeIndex: 2 entries, 0 to 1\n",
      "Data columns (total 8 columns):\n",
      " #   Column                 Non-Null Count  Dtype  \n",
      "---  ------                 --------------  -----  \n",
      " 0   messages_included      2 non-null      int64  \n",
      " 1   mb_per_month_included  2 non-null      int64  \n",
      " 2   minutes_included       2 non-null      int64  \n",
      " 3   usd_monthly_pay        2 non-null      int64  \n",
      " 4   usd_per_gb             2 non-null      int64  \n",
      " 5   usd_per_message        2 non-null      float64\n",
      " 6   usd_per_minute         2 non-null      float64\n",
      " 7   plan_name              2 non-null      object \n",
      "dtypes: float64(2), int64(5), object(1)\n",
      "memory usage: 256.0+ bytes\n"
     ]
    }
   ],
   "source": [
    "# Print the general/summary information about the plans' DataFrame\n",
    "plans.info()\n"
   ]
  },
  {
   "cell_type": "code",
   "execution_count": 4,
   "metadata": {},
   "outputs": [
    {
     "data": {
      "text/html": [
       "<div>\n",
       "<style scoped>\n",
       "    .dataframe tbody tr th:only-of-type {\n",
       "        vertical-align: middle;\n",
       "    }\n",
       "\n",
       "    .dataframe tbody tr th {\n",
       "        vertical-align: top;\n",
       "    }\n",
       "\n",
       "    .dataframe thead th {\n",
       "        text-align: right;\n",
       "    }\n",
       "</style>\n",
       "<table border=\"1\" class=\"dataframe\">\n",
       "  <thead>\n",
       "    <tr style=\"text-align: right;\">\n",
       "      <th></th>\n",
       "      <th>messages_included</th>\n",
       "      <th>mb_per_month_included</th>\n",
       "      <th>minutes_included</th>\n",
       "      <th>usd_monthly_pay</th>\n",
       "      <th>usd_per_gb</th>\n",
       "      <th>usd_per_message</th>\n",
       "      <th>usd_per_minute</th>\n",
       "    </tr>\n",
       "  </thead>\n",
       "  <tbody>\n",
       "    <tr>\n",
       "      <th>count</th>\n",
       "      <td>2.000000</td>\n",
       "      <td>2.000000</td>\n",
       "      <td>2.000000</td>\n",
       "      <td>2.000000</td>\n",
       "      <td>2.00000</td>\n",
       "      <td>2.000000</td>\n",
       "      <td>2.000000</td>\n",
       "    </tr>\n",
       "    <tr>\n",
       "      <th>mean</th>\n",
       "      <td>525.000000</td>\n",
       "      <td>23040.000000</td>\n",
       "      <td>1750.000000</td>\n",
       "      <td>45.000000</td>\n",
       "      <td>8.50000</td>\n",
       "      <td>0.020000</td>\n",
       "      <td>0.020000</td>\n",
       "    </tr>\n",
       "    <tr>\n",
       "      <th>std</th>\n",
       "      <td>671.751442</td>\n",
       "      <td>10861.160159</td>\n",
       "      <td>1767.766953</td>\n",
       "      <td>35.355339</td>\n",
       "      <td>2.12132</td>\n",
       "      <td>0.014142</td>\n",
       "      <td>0.014142</td>\n",
       "    </tr>\n",
       "    <tr>\n",
       "      <th>min</th>\n",
       "      <td>50.000000</td>\n",
       "      <td>15360.000000</td>\n",
       "      <td>500.000000</td>\n",
       "      <td>20.000000</td>\n",
       "      <td>7.00000</td>\n",
       "      <td>0.010000</td>\n",
       "      <td>0.010000</td>\n",
       "    </tr>\n",
       "    <tr>\n",
       "      <th>25%</th>\n",
       "      <td>287.500000</td>\n",
       "      <td>19200.000000</td>\n",
       "      <td>1125.000000</td>\n",
       "      <td>32.500000</td>\n",
       "      <td>7.75000</td>\n",
       "      <td>0.015000</td>\n",
       "      <td>0.015000</td>\n",
       "    </tr>\n",
       "    <tr>\n",
       "      <th>50%</th>\n",
       "      <td>525.000000</td>\n",
       "      <td>23040.000000</td>\n",
       "      <td>1750.000000</td>\n",
       "      <td>45.000000</td>\n",
       "      <td>8.50000</td>\n",
       "      <td>0.020000</td>\n",
       "      <td>0.020000</td>\n",
       "    </tr>\n",
       "    <tr>\n",
       "      <th>75%</th>\n",
       "      <td>762.500000</td>\n",
       "      <td>26880.000000</td>\n",
       "      <td>2375.000000</td>\n",
       "      <td>57.500000</td>\n",
       "      <td>9.25000</td>\n",
       "      <td>0.025000</td>\n",
       "      <td>0.025000</td>\n",
       "    </tr>\n",
       "    <tr>\n",
       "      <th>max</th>\n",
       "      <td>1000.000000</td>\n",
       "      <td>30720.000000</td>\n",
       "      <td>3000.000000</td>\n",
       "      <td>70.000000</td>\n",
       "      <td>10.00000</td>\n",
       "      <td>0.030000</td>\n",
       "      <td>0.030000</td>\n",
       "    </tr>\n",
       "  </tbody>\n",
       "</table>\n",
       "</div>"
      ],
      "text/plain": [
       "       messages_included  mb_per_month_included  minutes_included  \\\n",
       "count           2.000000               2.000000          2.000000   \n",
       "mean          525.000000           23040.000000       1750.000000   \n",
       "std           671.751442           10861.160159       1767.766953   \n",
       "min            50.000000           15360.000000        500.000000   \n",
       "25%           287.500000           19200.000000       1125.000000   \n",
       "50%           525.000000           23040.000000       1750.000000   \n",
       "75%           762.500000           26880.000000       2375.000000   \n",
       "max          1000.000000           30720.000000       3000.000000   \n",
       "\n",
       "       usd_monthly_pay  usd_per_gb  usd_per_message  usd_per_minute  \n",
       "count         2.000000     2.00000         2.000000        2.000000  \n",
       "mean         45.000000     8.50000         0.020000        0.020000  \n",
       "std          35.355339     2.12132         0.014142        0.014142  \n",
       "min          20.000000     7.00000         0.010000        0.010000  \n",
       "25%          32.500000     7.75000         0.015000        0.015000  \n",
       "50%          45.000000     8.50000         0.020000        0.020000  \n",
       "75%          57.500000     9.25000         0.025000        0.025000  \n",
       "max          70.000000    10.00000         0.030000        0.030000  "
      ]
     },
     "execution_count": 4,
     "metadata": {},
     "output_type": "execute_result"
    }
   ],
   "source": [
    "plans.describe()"
   ]
  },
  {
   "cell_type": "code",
   "execution_count": 5,
   "metadata": {},
   "outputs": [
    {
     "data": {
      "text/html": [
       "<div>\n",
       "<style scoped>\n",
       "    .dataframe tbody tr th:only-of-type {\n",
       "        vertical-align: middle;\n",
       "    }\n",
       "\n",
       "    .dataframe tbody tr th {\n",
       "        vertical-align: top;\n",
       "    }\n",
       "\n",
       "    .dataframe thead th {\n",
       "        text-align: right;\n",
       "    }\n",
       "</style>\n",
       "<table border=\"1\" class=\"dataframe\">\n",
       "  <thead>\n",
       "    <tr style=\"text-align: right;\">\n",
       "      <th></th>\n",
       "      <th>messages_included</th>\n",
       "      <th>mb_per_month_included</th>\n",
       "      <th>minutes_included</th>\n",
       "      <th>usd_monthly_pay</th>\n",
       "      <th>usd_per_gb</th>\n",
       "      <th>usd_per_message</th>\n",
       "      <th>usd_per_minute</th>\n",
       "      <th>plan_name</th>\n",
       "    </tr>\n",
       "  </thead>\n",
       "  <tbody>\n",
       "    <tr>\n",
       "      <th>0</th>\n",
       "      <td>50</td>\n",
       "      <td>15360</td>\n",
       "      <td>500</td>\n",
       "      <td>20</td>\n",
       "      <td>10</td>\n",
       "      <td>0.03</td>\n",
       "      <td>0.03</td>\n",
       "      <td>surf</td>\n",
       "    </tr>\n",
       "    <tr>\n",
       "      <th>1</th>\n",
       "      <td>1000</td>\n",
       "      <td>30720</td>\n",
       "      <td>3000</td>\n",
       "      <td>70</td>\n",
       "      <td>7</td>\n",
       "      <td>0.01</td>\n",
       "      <td>0.01</td>\n",
       "      <td>ultimate</td>\n",
       "    </tr>\n",
       "  </tbody>\n",
       "</table>\n",
       "</div>"
      ],
      "text/plain": [
       "   messages_included  mb_per_month_included  minutes_included  \\\n",
       "0                 50                  15360               500   \n",
       "1               1000                  30720              3000   \n",
       "\n",
       "   usd_monthly_pay  usd_per_gb  usd_per_message  usd_per_minute plan_name  \n",
       "0               20          10             0.03            0.03      surf  \n",
       "1               70           7             0.01            0.01  ultimate  "
      ]
     },
     "execution_count": 5,
     "metadata": {},
     "output_type": "execute_result"
    }
   ],
   "source": [
    "# Print a sample of data for plans\n",
    "\n",
    "plans.head()"
   ]
  },
  {
   "cell_type": "markdown",
   "metadata": {},
   "source": [
    "Plans dataframed has 2 rows and 8 columns, did not find any issues with the dataframe."
   ]
  },
  {
   "cell_type": "markdown",
   "metadata": {},
   "source": [
    " "
   ]
  },
  {
   "cell_type": "markdown",
   "metadata": {},
   "source": [
    "## Fix data"
   ]
  },
  {
   "cell_type": "markdown",
   "metadata": {},
   "source": [
    "Not Applicable for plans dataframe"
   ]
  },
  {
   "cell_type": "markdown",
   "metadata": {},
   "source": [
    "## Enrich data"
   ]
  },
  {
   "cell_type": "markdown",
   "metadata": {},
   "source": [
    "Not Applicable for plans dataframe"
   ]
  },
  {
   "cell_type": "markdown",
   "metadata": {},
   "source": [
    "## Users"
   ]
  },
  {
   "cell_type": "code",
   "execution_count": 6,
   "metadata": {},
   "outputs": [
    {
     "name": "stdout",
     "output_type": "stream",
     "text": [
      "<class 'pandas.core.frame.DataFrame'>\n",
      "RangeIndex: 500 entries, 0 to 499\n",
      "Data columns (total 8 columns):\n",
      " #   Column      Non-Null Count  Dtype \n",
      "---  ------      --------------  ----- \n",
      " 0   user_id     500 non-null    int64 \n",
      " 1   first_name  500 non-null    object\n",
      " 2   last_name   500 non-null    object\n",
      " 3   age         500 non-null    int64 \n",
      " 4   city        500 non-null    object\n",
      " 5   reg_date    500 non-null    object\n",
      " 6   plan        500 non-null    object\n",
      " 7   churn_date  34 non-null     object\n",
      "dtypes: int64(2), object(6)\n",
      "memory usage: 31.4+ KB\n"
     ]
    }
   ],
   "source": [
    "# Print the general/summary information about the users' DataFrame\n",
    "users.info()\n"
   ]
  },
  {
   "cell_type": "code",
   "execution_count": 7,
   "metadata": {},
   "outputs": [
    {
     "data": {
      "text/html": [
       "<div>\n",
       "<style scoped>\n",
       "    .dataframe tbody tr th:only-of-type {\n",
       "        vertical-align: middle;\n",
       "    }\n",
       "\n",
       "    .dataframe tbody tr th {\n",
       "        vertical-align: top;\n",
       "    }\n",
       "\n",
       "    .dataframe thead th {\n",
       "        text-align: right;\n",
       "    }\n",
       "</style>\n",
       "<table border=\"1\" class=\"dataframe\">\n",
       "  <thead>\n",
       "    <tr style=\"text-align: right;\">\n",
       "      <th></th>\n",
       "      <th>user_id</th>\n",
       "      <th>age</th>\n",
       "    </tr>\n",
       "  </thead>\n",
       "  <tbody>\n",
       "    <tr>\n",
       "      <th>count</th>\n",
       "      <td>500.000000</td>\n",
       "      <td>500.000000</td>\n",
       "    </tr>\n",
       "    <tr>\n",
       "      <th>mean</th>\n",
       "      <td>1249.500000</td>\n",
       "      <td>45.486000</td>\n",
       "    </tr>\n",
       "    <tr>\n",
       "      <th>std</th>\n",
       "      <td>144.481833</td>\n",
       "      <td>16.972269</td>\n",
       "    </tr>\n",
       "    <tr>\n",
       "      <th>min</th>\n",
       "      <td>1000.000000</td>\n",
       "      <td>18.000000</td>\n",
       "    </tr>\n",
       "    <tr>\n",
       "      <th>25%</th>\n",
       "      <td>1124.750000</td>\n",
       "      <td>30.000000</td>\n",
       "    </tr>\n",
       "    <tr>\n",
       "      <th>50%</th>\n",
       "      <td>1249.500000</td>\n",
       "      <td>46.000000</td>\n",
       "    </tr>\n",
       "    <tr>\n",
       "      <th>75%</th>\n",
       "      <td>1374.250000</td>\n",
       "      <td>61.000000</td>\n",
       "    </tr>\n",
       "    <tr>\n",
       "      <th>max</th>\n",
       "      <td>1499.000000</td>\n",
       "      <td>75.000000</td>\n",
       "    </tr>\n",
       "  </tbody>\n",
       "</table>\n",
       "</div>"
      ],
      "text/plain": [
       "           user_id         age\n",
       "count   500.000000  500.000000\n",
       "mean   1249.500000   45.486000\n",
       "std     144.481833   16.972269\n",
       "min    1000.000000   18.000000\n",
       "25%    1124.750000   30.000000\n",
       "50%    1249.500000   46.000000\n",
       "75%    1374.250000   61.000000\n",
       "max    1499.000000   75.000000"
      ]
     },
     "execution_count": 7,
     "metadata": {},
     "output_type": "execute_result"
    }
   ],
   "source": [
    "users.describe()"
   ]
  },
  {
   "cell_type": "code",
   "execution_count": 8,
   "metadata": {},
   "outputs": [
    {
     "data": {
      "text/html": [
       "<div>\n",
       "<style scoped>\n",
       "    .dataframe tbody tr th:only-of-type {\n",
       "        vertical-align: middle;\n",
       "    }\n",
       "\n",
       "    .dataframe tbody tr th {\n",
       "        vertical-align: top;\n",
       "    }\n",
       "\n",
       "    .dataframe thead th {\n",
       "        text-align: right;\n",
       "    }\n",
       "</style>\n",
       "<table border=\"1\" class=\"dataframe\">\n",
       "  <thead>\n",
       "    <tr style=\"text-align: right;\">\n",
       "      <th></th>\n",
       "      <th>user_id</th>\n",
       "      <th>first_name</th>\n",
       "      <th>last_name</th>\n",
       "      <th>age</th>\n",
       "      <th>city</th>\n",
       "      <th>reg_date</th>\n",
       "      <th>plan</th>\n",
       "      <th>churn_date</th>\n",
       "    </tr>\n",
       "  </thead>\n",
       "  <tbody>\n",
       "    <tr>\n",
       "      <th>0</th>\n",
       "      <td>1000</td>\n",
       "      <td>Anamaria</td>\n",
       "      <td>Bauer</td>\n",
       "      <td>45</td>\n",
       "      <td>Atlanta-Sandy Springs-Roswell, GA MSA</td>\n",
       "      <td>2018-12-24</td>\n",
       "      <td>ultimate</td>\n",
       "      <td>NaN</td>\n",
       "    </tr>\n",
       "    <tr>\n",
       "      <th>1</th>\n",
       "      <td>1001</td>\n",
       "      <td>Mickey</td>\n",
       "      <td>Wilkerson</td>\n",
       "      <td>28</td>\n",
       "      <td>Seattle-Tacoma-Bellevue, WA MSA</td>\n",
       "      <td>2018-08-13</td>\n",
       "      <td>surf</td>\n",
       "      <td>NaN</td>\n",
       "    </tr>\n",
       "    <tr>\n",
       "      <th>2</th>\n",
       "      <td>1002</td>\n",
       "      <td>Carlee</td>\n",
       "      <td>Hoffman</td>\n",
       "      <td>36</td>\n",
       "      <td>Las Vegas-Henderson-Paradise, NV MSA</td>\n",
       "      <td>2018-10-21</td>\n",
       "      <td>surf</td>\n",
       "      <td>NaN</td>\n",
       "    </tr>\n",
       "    <tr>\n",
       "      <th>3</th>\n",
       "      <td>1003</td>\n",
       "      <td>Reynaldo</td>\n",
       "      <td>Jenkins</td>\n",
       "      <td>52</td>\n",
       "      <td>Tulsa, OK MSA</td>\n",
       "      <td>2018-01-28</td>\n",
       "      <td>surf</td>\n",
       "      <td>NaN</td>\n",
       "    </tr>\n",
       "    <tr>\n",
       "      <th>4</th>\n",
       "      <td>1004</td>\n",
       "      <td>Leonila</td>\n",
       "      <td>Thompson</td>\n",
       "      <td>40</td>\n",
       "      <td>Seattle-Tacoma-Bellevue, WA MSA</td>\n",
       "      <td>2018-05-23</td>\n",
       "      <td>surf</td>\n",
       "      <td>NaN</td>\n",
       "    </tr>\n",
       "    <tr>\n",
       "      <th>5</th>\n",
       "      <td>1005</td>\n",
       "      <td>Livia</td>\n",
       "      <td>Shields</td>\n",
       "      <td>31</td>\n",
       "      <td>Dallas-Fort Worth-Arlington, TX MSA</td>\n",
       "      <td>2018-11-29</td>\n",
       "      <td>surf</td>\n",
       "      <td>NaN</td>\n",
       "    </tr>\n",
       "    <tr>\n",
       "      <th>6</th>\n",
       "      <td>1006</td>\n",
       "      <td>Jesusa</td>\n",
       "      <td>Bradford</td>\n",
       "      <td>73</td>\n",
       "      <td>San Francisco-Oakland-Berkeley, CA MSA</td>\n",
       "      <td>2018-11-27</td>\n",
       "      <td>ultimate</td>\n",
       "      <td>2018-12-18</td>\n",
       "    </tr>\n",
       "    <tr>\n",
       "      <th>7</th>\n",
       "      <td>1007</td>\n",
       "      <td>Eusebio</td>\n",
       "      <td>Welch</td>\n",
       "      <td>42</td>\n",
       "      <td>Grand Rapids-Kentwood, MI MSA</td>\n",
       "      <td>2018-07-11</td>\n",
       "      <td>surf</td>\n",
       "      <td>NaN</td>\n",
       "    </tr>\n",
       "    <tr>\n",
       "      <th>8</th>\n",
       "      <td>1008</td>\n",
       "      <td>Emely</td>\n",
       "      <td>Hoffman</td>\n",
       "      <td>53</td>\n",
       "      <td>Orlando-Kissimmee-Sanford, FL MSA</td>\n",
       "      <td>2018-08-03</td>\n",
       "      <td>ultimate</td>\n",
       "      <td>NaN</td>\n",
       "    </tr>\n",
       "    <tr>\n",
       "      <th>9</th>\n",
       "      <td>1009</td>\n",
       "      <td>Gerry</td>\n",
       "      <td>Little</td>\n",
       "      <td>19</td>\n",
       "      <td>San Jose-Sunnyvale-Santa Clara, CA MSA</td>\n",
       "      <td>2018-04-22</td>\n",
       "      <td>surf</td>\n",
       "      <td>NaN</td>\n",
       "    </tr>\n",
       "    <tr>\n",
       "      <th>10</th>\n",
       "      <td>1010</td>\n",
       "      <td>Wilber</td>\n",
       "      <td>Blair</td>\n",
       "      <td>52</td>\n",
       "      <td>Dallas-Fort Worth-Arlington, TX MSA</td>\n",
       "      <td>2018-03-09</td>\n",
       "      <td>surf</td>\n",
       "      <td>NaN</td>\n",
       "    </tr>\n",
       "    <tr>\n",
       "      <th>11</th>\n",
       "      <td>1011</td>\n",
       "      <td>Halina</td>\n",
       "      <td>Henry</td>\n",
       "      <td>73</td>\n",
       "      <td>Cleveland-Elyria, OH MSA</td>\n",
       "      <td>2018-01-18</td>\n",
       "      <td>ultimate</td>\n",
       "      <td>NaN</td>\n",
       "    </tr>\n",
       "    <tr>\n",
       "      <th>12</th>\n",
       "      <td>1012</td>\n",
       "      <td>Jonelle</td>\n",
       "      <td>Mcbride</td>\n",
       "      <td>59</td>\n",
       "      <td>Chicago-Naperville-Elgin, IL-IN-WI MSA</td>\n",
       "      <td>2018-06-28</td>\n",
       "      <td>surf</td>\n",
       "      <td>2018-11-16</td>\n",
       "    </tr>\n",
       "    <tr>\n",
       "      <th>13</th>\n",
       "      <td>1013</td>\n",
       "      <td>Nicolas</td>\n",
       "      <td>Snider</td>\n",
       "      <td>50</td>\n",
       "      <td>Knoxville, TN MSA</td>\n",
       "      <td>2018-12-01</td>\n",
       "      <td>ultimate</td>\n",
       "      <td>NaN</td>\n",
       "    </tr>\n",
       "    <tr>\n",
       "      <th>14</th>\n",
       "      <td>1014</td>\n",
       "      <td>Edmundo</td>\n",
       "      <td>Simon</td>\n",
       "      <td>61</td>\n",
       "      <td>New York-Newark-Jersey City, NY-NJ-PA MSA</td>\n",
       "      <td>2018-11-25</td>\n",
       "      <td>surf</td>\n",
       "      <td>NaN</td>\n",
       "    </tr>\n",
       "  </tbody>\n",
       "</table>\n",
       "</div>"
      ],
      "text/plain": [
       "    user_id first_name  last_name  age  \\\n",
       "0      1000   Anamaria      Bauer   45   \n",
       "1      1001     Mickey  Wilkerson   28   \n",
       "2      1002     Carlee    Hoffman   36   \n",
       "3      1003   Reynaldo    Jenkins   52   \n",
       "4      1004    Leonila   Thompson   40   \n",
       "5      1005      Livia    Shields   31   \n",
       "6      1006     Jesusa   Bradford   73   \n",
       "7      1007    Eusebio      Welch   42   \n",
       "8      1008      Emely    Hoffman   53   \n",
       "9      1009      Gerry     Little   19   \n",
       "10     1010     Wilber      Blair   52   \n",
       "11     1011     Halina      Henry   73   \n",
       "12     1012    Jonelle    Mcbride   59   \n",
       "13     1013    Nicolas     Snider   50   \n",
       "14     1014    Edmundo      Simon   61   \n",
       "\n",
       "                                         city    reg_date      plan  \\\n",
       "0       Atlanta-Sandy Springs-Roswell, GA MSA  2018-12-24  ultimate   \n",
       "1             Seattle-Tacoma-Bellevue, WA MSA  2018-08-13      surf   \n",
       "2        Las Vegas-Henderson-Paradise, NV MSA  2018-10-21      surf   \n",
       "3                               Tulsa, OK MSA  2018-01-28      surf   \n",
       "4             Seattle-Tacoma-Bellevue, WA MSA  2018-05-23      surf   \n",
       "5         Dallas-Fort Worth-Arlington, TX MSA  2018-11-29      surf   \n",
       "6      San Francisco-Oakland-Berkeley, CA MSA  2018-11-27  ultimate   \n",
       "7               Grand Rapids-Kentwood, MI MSA  2018-07-11      surf   \n",
       "8           Orlando-Kissimmee-Sanford, FL MSA  2018-08-03  ultimate   \n",
       "9      San Jose-Sunnyvale-Santa Clara, CA MSA  2018-04-22      surf   \n",
       "10        Dallas-Fort Worth-Arlington, TX MSA  2018-03-09      surf   \n",
       "11                   Cleveland-Elyria, OH MSA  2018-01-18  ultimate   \n",
       "12     Chicago-Naperville-Elgin, IL-IN-WI MSA  2018-06-28      surf   \n",
       "13                          Knoxville, TN MSA  2018-12-01  ultimate   \n",
       "14  New York-Newark-Jersey City, NY-NJ-PA MSA  2018-11-25      surf   \n",
       "\n",
       "    churn_date  \n",
       "0          NaN  \n",
       "1          NaN  \n",
       "2          NaN  \n",
       "3          NaN  \n",
       "4          NaN  \n",
       "5          NaN  \n",
       "6   2018-12-18  \n",
       "7          NaN  \n",
       "8          NaN  \n",
       "9          NaN  \n",
       "10         NaN  \n",
       "11         NaN  \n",
       "12  2018-11-16  \n",
       "13         NaN  \n",
       "14         NaN  "
      ]
     },
     "execution_count": 8,
     "metadata": {},
     "output_type": "execute_result"
    }
   ],
   "source": [
    "# Print a sample of data for users\n",
    "\n",
    "users.head(15)"
   ]
  },
  {
   "cell_type": "code",
   "execution_count": 9,
   "metadata": {},
   "outputs": [
    {
     "data": {
      "text/plain": [
       "user_id        0.0\n",
       "first_name     0.0\n",
       "last_name      0.0\n",
       "age            0.0\n",
       "city           0.0\n",
       "reg_date       0.0\n",
       "plan           0.0\n",
       "churn_date    93.2\n",
       "dtype: float64"
      ]
     },
     "execution_count": 9,
     "metadata": {},
     "output_type": "execute_result"
    }
   ],
   "source": [
    "users.isna().sum() / len(users) * 100"
   ]
  },
  {
   "cell_type": "markdown",
   "metadata": {},
   "source": [
    "After examining the data, column churn_date is missing 93.2% of data.The missing values indicate that those plans were still in use at the time of extraction. The values cannot be dropped as its big chunk of vital data but we can add a column that states if the plan is active or not. Columns reg_date and churn_date can be converted to datetime datatype. "
   ]
  },
  {
   "cell_type": "markdown",
   "metadata": {},
   "source": [
    " "
   ]
  },
  {
   "cell_type": "markdown",
   "metadata": {},
   "source": [
    "### Fix Data"
   ]
  },
  {
   "cell_type": "markdown",
   "metadata": {},
   "source": [
    "[Fix obvious issues with the data given the initial observations.]"
   ]
  },
  {
   "cell_type": "code",
   "execution_count": 10,
   "metadata": {},
   "outputs": [],
   "source": [
    "users['reg_date'] = pd.to_datetime(users['reg_date'], format = '%Y-%m-%d')\n",
    "users['churn_date'] = pd.to_datetime(users['churn_date'], format = '%Y-%m-%d')"
   ]
  },
  {
   "cell_type": "code",
   "execution_count": 11,
   "metadata": {},
   "outputs": [
    {
     "name": "stdout",
     "output_type": "stream",
     "text": [
      "<class 'pandas.core.frame.DataFrame'>\n",
      "RangeIndex: 500 entries, 0 to 499\n",
      "Data columns (total 8 columns):\n",
      " #   Column      Non-Null Count  Dtype         \n",
      "---  ------      --------------  -----         \n",
      " 0   user_id     500 non-null    int64         \n",
      " 1   first_name  500 non-null    object        \n",
      " 2   last_name   500 non-null    object        \n",
      " 3   age         500 non-null    int64         \n",
      " 4   city        500 non-null    object        \n",
      " 5   reg_date    500 non-null    datetime64[ns]\n",
      " 6   plan        500 non-null    object        \n",
      " 7   churn_date  34 non-null     datetime64[ns]\n",
      "dtypes: datetime64[ns](2), int64(2), object(4)\n",
      "memory usage: 31.4+ KB\n"
     ]
    }
   ],
   "source": [
    "users.info()"
   ]
  },
  {
   "cell_type": "markdown",
   "metadata": {},
   "source": [
    "### Enrich Data"
   ]
  },
  {
   "cell_type": "markdown",
   "metadata": {},
   "source": [
    "The ch"
   ]
  },
  {
   "cell_type": "code",
   "execution_count": 12,
   "metadata": {},
   "outputs": [],
   "source": [
    "users['churn_active'] = np.where(users['churn_date'].isna(), 1, 0)"
   ]
  },
  {
   "cell_type": "code",
   "execution_count": 13,
   "metadata": {},
   "outputs": [
    {
     "data": {
      "text/html": [
       "<div>\n",
       "<style scoped>\n",
       "    .dataframe tbody tr th:only-of-type {\n",
       "        vertical-align: middle;\n",
       "    }\n",
       "\n",
       "    .dataframe tbody tr th {\n",
       "        vertical-align: top;\n",
       "    }\n",
       "\n",
       "    .dataframe thead th {\n",
       "        text-align: right;\n",
       "    }\n",
       "</style>\n",
       "<table border=\"1\" class=\"dataframe\">\n",
       "  <thead>\n",
       "    <tr style=\"text-align: right;\">\n",
       "      <th></th>\n",
       "      <th>user_id</th>\n",
       "      <th>first_name</th>\n",
       "      <th>last_name</th>\n",
       "      <th>age</th>\n",
       "      <th>city</th>\n",
       "      <th>reg_date</th>\n",
       "      <th>plan</th>\n",
       "      <th>churn_date</th>\n",
       "      <th>churn_active</th>\n",
       "    </tr>\n",
       "  </thead>\n",
       "  <tbody>\n",
       "    <tr>\n",
       "      <th>0</th>\n",
       "      <td>1000</td>\n",
       "      <td>Anamaria</td>\n",
       "      <td>Bauer</td>\n",
       "      <td>45</td>\n",
       "      <td>Atlanta-Sandy Springs-Roswell, GA MSA</td>\n",
       "      <td>2018-12-24</td>\n",
       "      <td>ultimate</td>\n",
       "      <td>NaT</td>\n",
       "      <td>1</td>\n",
       "    </tr>\n",
       "    <tr>\n",
       "      <th>1</th>\n",
       "      <td>1001</td>\n",
       "      <td>Mickey</td>\n",
       "      <td>Wilkerson</td>\n",
       "      <td>28</td>\n",
       "      <td>Seattle-Tacoma-Bellevue, WA MSA</td>\n",
       "      <td>2018-08-13</td>\n",
       "      <td>surf</td>\n",
       "      <td>NaT</td>\n",
       "      <td>1</td>\n",
       "    </tr>\n",
       "    <tr>\n",
       "      <th>2</th>\n",
       "      <td>1002</td>\n",
       "      <td>Carlee</td>\n",
       "      <td>Hoffman</td>\n",
       "      <td>36</td>\n",
       "      <td>Las Vegas-Henderson-Paradise, NV MSA</td>\n",
       "      <td>2018-10-21</td>\n",
       "      <td>surf</td>\n",
       "      <td>NaT</td>\n",
       "      <td>1</td>\n",
       "    </tr>\n",
       "    <tr>\n",
       "      <th>3</th>\n",
       "      <td>1003</td>\n",
       "      <td>Reynaldo</td>\n",
       "      <td>Jenkins</td>\n",
       "      <td>52</td>\n",
       "      <td>Tulsa, OK MSA</td>\n",
       "      <td>2018-01-28</td>\n",
       "      <td>surf</td>\n",
       "      <td>NaT</td>\n",
       "      <td>1</td>\n",
       "    </tr>\n",
       "    <tr>\n",
       "      <th>4</th>\n",
       "      <td>1004</td>\n",
       "      <td>Leonila</td>\n",
       "      <td>Thompson</td>\n",
       "      <td>40</td>\n",
       "      <td>Seattle-Tacoma-Bellevue, WA MSA</td>\n",
       "      <td>2018-05-23</td>\n",
       "      <td>surf</td>\n",
       "      <td>NaT</td>\n",
       "      <td>1</td>\n",
       "    </tr>\n",
       "    <tr>\n",
       "      <th>5</th>\n",
       "      <td>1005</td>\n",
       "      <td>Livia</td>\n",
       "      <td>Shields</td>\n",
       "      <td>31</td>\n",
       "      <td>Dallas-Fort Worth-Arlington, TX MSA</td>\n",
       "      <td>2018-11-29</td>\n",
       "      <td>surf</td>\n",
       "      <td>NaT</td>\n",
       "      <td>1</td>\n",
       "    </tr>\n",
       "    <tr>\n",
       "      <th>6</th>\n",
       "      <td>1006</td>\n",
       "      <td>Jesusa</td>\n",
       "      <td>Bradford</td>\n",
       "      <td>73</td>\n",
       "      <td>San Francisco-Oakland-Berkeley, CA MSA</td>\n",
       "      <td>2018-11-27</td>\n",
       "      <td>ultimate</td>\n",
       "      <td>2018-12-18</td>\n",
       "      <td>0</td>\n",
       "    </tr>\n",
       "    <tr>\n",
       "      <th>7</th>\n",
       "      <td>1007</td>\n",
       "      <td>Eusebio</td>\n",
       "      <td>Welch</td>\n",
       "      <td>42</td>\n",
       "      <td>Grand Rapids-Kentwood, MI MSA</td>\n",
       "      <td>2018-07-11</td>\n",
       "      <td>surf</td>\n",
       "      <td>NaT</td>\n",
       "      <td>1</td>\n",
       "    </tr>\n",
       "    <tr>\n",
       "      <th>8</th>\n",
       "      <td>1008</td>\n",
       "      <td>Emely</td>\n",
       "      <td>Hoffman</td>\n",
       "      <td>53</td>\n",
       "      <td>Orlando-Kissimmee-Sanford, FL MSA</td>\n",
       "      <td>2018-08-03</td>\n",
       "      <td>ultimate</td>\n",
       "      <td>NaT</td>\n",
       "      <td>1</td>\n",
       "    </tr>\n",
       "    <tr>\n",
       "      <th>9</th>\n",
       "      <td>1009</td>\n",
       "      <td>Gerry</td>\n",
       "      <td>Little</td>\n",
       "      <td>19</td>\n",
       "      <td>San Jose-Sunnyvale-Santa Clara, CA MSA</td>\n",
       "      <td>2018-04-22</td>\n",
       "      <td>surf</td>\n",
       "      <td>NaT</td>\n",
       "      <td>1</td>\n",
       "    </tr>\n",
       "    <tr>\n",
       "      <th>10</th>\n",
       "      <td>1010</td>\n",
       "      <td>Wilber</td>\n",
       "      <td>Blair</td>\n",
       "      <td>52</td>\n",
       "      <td>Dallas-Fort Worth-Arlington, TX MSA</td>\n",
       "      <td>2018-03-09</td>\n",
       "      <td>surf</td>\n",
       "      <td>NaT</td>\n",
       "      <td>1</td>\n",
       "    </tr>\n",
       "    <tr>\n",
       "      <th>11</th>\n",
       "      <td>1011</td>\n",
       "      <td>Halina</td>\n",
       "      <td>Henry</td>\n",
       "      <td>73</td>\n",
       "      <td>Cleveland-Elyria, OH MSA</td>\n",
       "      <td>2018-01-18</td>\n",
       "      <td>ultimate</td>\n",
       "      <td>NaT</td>\n",
       "      <td>1</td>\n",
       "    </tr>\n",
       "    <tr>\n",
       "      <th>12</th>\n",
       "      <td>1012</td>\n",
       "      <td>Jonelle</td>\n",
       "      <td>Mcbride</td>\n",
       "      <td>59</td>\n",
       "      <td>Chicago-Naperville-Elgin, IL-IN-WI MSA</td>\n",
       "      <td>2018-06-28</td>\n",
       "      <td>surf</td>\n",
       "      <td>2018-11-16</td>\n",
       "      <td>0</td>\n",
       "    </tr>\n",
       "    <tr>\n",
       "      <th>13</th>\n",
       "      <td>1013</td>\n",
       "      <td>Nicolas</td>\n",
       "      <td>Snider</td>\n",
       "      <td>50</td>\n",
       "      <td>Knoxville, TN MSA</td>\n",
       "      <td>2018-12-01</td>\n",
       "      <td>ultimate</td>\n",
       "      <td>NaT</td>\n",
       "      <td>1</td>\n",
       "    </tr>\n",
       "    <tr>\n",
       "      <th>14</th>\n",
       "      <td>1014</td>\n",
       "      <td>Edmundo</td>\n",
       "      <td>Simon</td>\n",
       "      <td>61</td>\n",
       "      <td>New York-Newark-Jersey City, NY-NJ-PA MSA</td>\n",
       "      <td>2018-11-25</td>\n",
       "      <td>surf</td>\n",
       "      <td>NaT</td>\n",
       "      <td>1</td>\n",
       "    </tr>\n",
       "  </tbody>\n",
       "</table>\n",
       "</div>"
      ],
      "text/plain": [
       "    user_id first_name  last_name  age  \\\n",
       "0      1000   Anamaria      Bauer   45   \n",
       "1      1001     Mickey  Wilkerson   28   \n",
       "2      1002     Carlee    Hoffman   36   \n",
       "3      1003   Reynaldo    Jenkins   52   \n",
       "4      1004    Leonila   Thompson   40   \n",
       "5      1005      Livia    Shields   31   \n",
       "6      1006     Jesusa   Bradford   73   \n",
       "7      1007    Eusebio      Welch   42   \n",
       "8      1008      Emely    Hoffman   53   \n",
       "9      1009      Gerry     Little   19   \n",
       "10     1010     Wilber      Blair   52   \n",
       "11     1011     Halina      Henry   73   \n",
       "12     1012    Jonelle    Mcbride   59   \n",
       "13     1013    Nicolas     Snider   50   \n",
       "14     1014    Edmundo      Simon   61   \n",
       "\n",
       "                                         city   reg_date      plan churn_date  \\\n",
       "0       Atlanta-Sandy Springs-Roswell, GA MSA 2018-12-24  ultimate        NaT   \n",
       "1             Seattle-Tacoma-Bellevue, WA MSA 2018-08-13      surf        NaT   \n",
       "2        Las Vegas-Henderson-Paradise, NV MSA 2018-10-21      surf        NaT   \n",
       "3                               Tulsa, OK MSA 2018-01-28      surf        NaT   \n",
       "4             Seattle-Tacoma-Bellevue, WA MSA 2018-05-23      surf        NaT   \n",
       "5         Dallas-Fort Worth-Arlington, TX MSA 2018-11-29      surf        NaT   \n",
       "6      San Francisco-Oakland-Berkeley, CA MSA 2018-11-27  ultimate 2018-12-18   \n",
       "7               Grand Rapids-Kentwood, MI MSA 2018-07-11      surf        NaT   \n",
       "8           Orlando-Kissimmee-Sanford, FL MSA 2018-08-03  ultimate        NaT   \n",
       "9      San Jose-Sunnyvale-Santa Clara, CA MSA 2018-04-22      surf        NaT   \n",
       "10        Dallas-Fort Worth-Arlington, TX MSA 2018-03-09      surf        NaT   \n",
       "11                   Cleveland-Elyria, OH MSA 2018-01-18  ultimate        NaT   \n",
       "12     Chicago-Naperville-Elgin, IL-IN-WI MSA 2018-06-28      surf 2018-11-16   \n",
       "13                          Knoxville, TN MSA 2018-12-01  ultimate        NaT   \n",
       "14  New York-Newark-Jersey City, NY-NJ-PA MSA 2018-11-25      surf        NaT   \n",
       "\n",
       "    churn_active  \n",
       "0              1  \n",
       "1              1  \n",
       "2              1  \n",
       "3              1  \n",
       "4              1  \n",
       "5              1  \n",
       "6              0  \n",
       "7              1  \n",
       "8              1  \n",
       "9              1  \n",
       "10             1  \n",
       "11             1  \n",
       "12             0  \n",
       "13             1  \n",
       "14             1  "
      ]
     },
     "execution_count": 13,
     "metadata": {},
     "output_type": "execute_result"
    }
   ],
   "source": [
    "users.head(15)"
   ]
  },
  {
   "cell_type": "markdown",
   "metadata": {},
   "source": [
    "## Calls"
   ]
  },
  {
   "cell_type": "code",
   "execution_count": 14,
   "metadata": {},
   "outputs": [
    {
     "name": "stdout",
     "output_type": "stream",
     "text": [
      "<class 'pandas.core.frame.DataFrame'>\n",
      "RangeIndex: 137735 entries, 0 to 137734\n",
      "Data columns (total 4 columns):\n",
      " #   Column     Non-Null Count   Dtype  \n",
      "---  ------     --------------   -----  \n",
      " 0   id         137735 non-null  object \n",
      " 1   user_id    137735 non-null  int64  \n",
      " 2   call_date  137735 non-null  object \n",
      " 3   duration   137735 non-null  float64\n",
      "dtypes: float64(1), int64(1), object(2)\n",
      "memory usage: 4.2+ MB\n"
     ]
    }
   ],
   "source": [
    "# Print the general/summary information about the calls' DataFrame\n",
    "\n",
    "calls.info()"
   ]
  },
  {
   "cell_type": "code",
   "execution_count": 15,
   "metadata": {},
   "outputs": [
    {
     "data": {
      "text/html": [
       "<div>\n",
       "<style scoped>\n",
       "    .dataframe tbody tr th:only-of-type {\n",
       "        vertical-align: middle;\n",
       "    }\n",
       "\n",
       "    .dataframe tbody tr th {\n",
       "        vertical-align: top;\n",
       "    }\n",
       "\n",
       "    .dataframe thead th {\n",
       "        text-align: right;\n",
       "    }\n",
       "</style>\n",
       "<table border=\"1\" class=\"dataframe\">\n",
       "  <thead>\n",
       "    <tr style=\"text-align: right;\">\n",
       "      <th></th>\n",
       "      <th>user_id</th>\n",
       "      <th>duration</th>\n",
       "    </tr>\n",
       "  </thead>\n",
       "  <tbody>\n",
       "    <tr>\n",
       "      <th>count</th>\n",
       "      <td>137735.000000</td>\n",
       "      <td>137735.000000</td>\n",
       "    </tr>\n",
       "    <tr>\n",
       "      <th>mean</th>\n",
       "      <td>1247.658046</td>\n",
       "      <td>6.745927</td>\n",
       "    </tr>\n",
       "    <tr>\n",
       "      <th>std</th>\n",
       "      <td>139.416268</td>\n",
       "      <td>5.839241</td>\n",
       "    </tr>\n",
       "    <tr>\n",
       "      <th>min</th>\n",
       "      <td>1000.000000</td>\n",
       "      <td>0.000000</td>\n",
       "    </tr>\n",
       "    <tr>\n",
       "      <th>25%</th>\n",
       "      <td>1128.000000</td>\n",
       "      <td>1.290000</td>\n",
       "    </tr>\n",
       "    <tr>\n",
       "      <th>50%</th>\n",
       "      <td>1247.000000</td>\n",
       "      <td>5.980000</td>\n",
       "    </tr>\n",
       "    <tr>\n",
       "      <th>75%</th>\n",
       "      <td>1365.000000</td>\n",
       "      <td>10.690000</td>\n",
       "    </tr>\n",
       "    <tr>\n",
       "      <th>max</th>\n",
       "      <td>1499.000000</td>\n",
       "      <td>37.600000</td>\n",
       "    </tr>\n",
       "  </tbody>\n",
       "</table>\n",
       "</div>"
      ],
      "text/plain": [
       "             user_id       duration\n",
       "count  137735.000000  137735.000000\n",
       "mean     1247.658046       6.745927\n",
       "std       139.416268       5.839241\n",
       "min      1000.000000       0.000000\n",
       "25%      1128.000000       1.290000\n",
       "50%      1247.000000       5.980000\n",
       "75%      1365.000000      10.690000\n",
       "max      1499.000000      37.600000"
      ]
     },
     "execution_count": 15,
     "metadata": {},
     "output_type": "execute_result"
    }
   ],
   "source": [
    "calls.describe()"
   ]
  },
  {
   "cell_type": "code",
   "execution_count": 16,
   "metadata": {},
   "outputs": [
    {
     "data": {
      "text/plain": [
       "id           0\n",
       "user_id      0\n",
       "call_date    0\n",
       "duration     0\n",
       "dtype: int64"
      ]
     },
     "execution_count": 16,
     "metadata": {},
     "output_type": "execute_result"
    }
   ],
   "source": [
    "calls.isna().sum()"
   ]
  },
  {
   "cell_type": "code",
   "execution_count": 17,
   "metadata": {},
   "outputs": [
    {
     "data": {
      "text/plain": [
       "26834"
      ]
     },
     "execution_count": 17,
     "metadata": {},
     "output_type": "execute_result"
    }
   ],
   "source": [
    "len(calls[calls['duration'] == 0])"
   ]
  },
  {
   "cell_type": "raw",
   "metadata": {},
   "source": [
    "There are 26,834 calls that lasted 0 seconds and would be dropped as there are no value to us."
   ]
  },
  {
   "cell_type": "code",
   "execution_count": 18,
   "metadata": {},
   "outputs": [],
   "source": [
    "calls.drop(calls[calls['duration'] ==0].index, inplace=True)"
   ]
  },
  {
   "cell_type": "code",
   "execution_count": 19,
   "metadata": {},
   "outputs": [
    {
     "data": {
      "text/html": [
       "<div>\n",
       "<style scoped>\n",
       "    .dataframe tbody tr th:only-of-type {\n",
       "        vertical-align: middle;\n",
       "    }\n",
       "\n",
       "    .dataframe tbody tr th {\n",
       "        vertical-align: top;\n",
       "    }\n",
       "\n",
       "    .dataframe thead th {\n",
       "        text-align: right;\n",
       "    }\n",
       "</style>\n",
       "<table border=\"1\" class=\"dataframe\">\n",
       "  <thead>\n",
       "    <tr style=\"text-align: right;\">\n",
       "      <th></th>\n",
       "      <th>id</th>\n",
       "      <th>user_id</th>\n",
       "      <th>call_date</th>\n",
       "      <th>duration</th>\n",
       "    </tr>\n",
       "  </thead>\n",
       "  <tbody>\n",
       "    <tr>\n",
       "      <th>0</th>\n",
       "      <td>1000_93</td>\n",
       "      <td>1000</td>\n",
       "      <td>2018-12-27</td>\n",
       "      <td>8.52</td>\n",
       "    </tr>\n",
       "    <tr>\n",
       "      <th>1</th>\n",
       "      <td>1000_145</td>\n",
       "      <td>1000</td>\n",
       "      <td>2018-12-27</td>\n",
       "      <td>13.66</td>\n",
       "    </tr>\n",
       "    <tr>\n",
       "      <th>2</th>\n",
       "      <td>1000_247</td>\n",
       "      <td>1000</td>\n",
       "      <td>2018-12-27</td>\n",
       "      <td>14.48</td>\n",
       "    </tr>\n",
       "    <tr>\n",
       "      <th>3</th>\n",
       "      <td>1000_309</td>\n",
       "      <td>1000</td>\n",
       "      <td>2018-12-28</td>\n",
       "      <td>5.76</td>\n",
       "    </tr>\n",
       "    <tr>\n",
       "      <th>4</th>\n",
       "      <td>1000_380</td>\n",
       "      <td>1000</td>\n",
       "      <td>2018-12-30</td>\n",
       "      <td>4.22</td>\n",
       "    </tr>\n",
       "    <tr>\n",
       "      <th>5</th>\n",
       "      <td>1000_388</td>\n",
       "      <td>1000</td>\n",
       "      <td>2018-12-31</td>\n",
       "      <td>2.20</td>\n",
       "    </tr>\n",
       "    <tr>\n",
       "      <th>6</th>\n",
       "      <td>1000_510</td>\n",
       "      <td>1000</td>\n",
       "      <td>2018-12-27</td>\n",
       "      <td>5.75</td>\n",
       "    </tr>\n",
       "    <tr>\n",
       "      <th>7</th>\n",
       "      <td>1000_521</td>\n",
       "      <td>1000</td>\n",
       "      <td>2018-12-28</td>\n",
       "      <td>14.18</td>\n",
       "    </tr>\n",
       "    <tr>\n",
       "      <th>8</th>\n",
       "      <td>1000_530</td>\n",
       "      <td>1000</td>\n",
       "      <td>2018-12-28</td>\n",
       "      <td>5.77</td>\n",
       "    </tr>\n",
       "    <tr>\n",
       "      <th>9</th>\n",
       "      <td>1000_544</td>\n",
       "      <td>1000</td>\n",
       "      <td>2018-12-26</td>\n",
       "      <td>4.40</td>\n",
       "    </tr>\n",
       "    <tr>\n",
       "      <th>10</th>\n",
       "      <td>1000_693</td>\n",
       "      <td>1000</td>\n",
       "      <td>2018-12-31</td>\n",
       "      <td>4.31</td>\n",
       "    </tr>\n",
       "    <tr>\n",
       "      <th>11</th>\n",
       "      <td>1000_705</td>\n",
       "      <td>1000</td>\n",
       "      <td>2018-12-31</td>\n",
       "      <td>12.78</td>\n",
       "    </tr>\n",
       "    <tr>\n",
       "      <th>12</th>\n",
       "      <td>1000_735</td>\n",
       "      <td>1000</td>\n",
       "      <td>2018-12-29</td>\n",
       "      <td>1.70</td>\n",
       "    </tr>\n",
       "    <tr>\n",
       "      <th>13</th>\n",
       "      <td>1000_778</td>\n",
       "      <td>1000</td>\n",
       "      <td>2018-12-28</td>\n",
       "      <td>3.29</td>\n",
       "    </tr>\n",
       "    <tr>\n",
       "      <th>14</th>\n",
       "      <td>1000_826</td>\n",
       "      <td>1000</td>\n",
       "      <td>2018-12-26</td>\n",
       "      <td>9.96</td>\n",
       "    </tr>\n",
       "  </tbody>\n",
       "</table>\n",
       "</div>"
      ],
      "text/plain": [
       "          id  user_id   call_date  duration\n",
       "0    1000_93     1000  2018-12-27      8.52\n",
       "1   1000_145     1000  2018-12-27     13.66\n",
       "2   1000_247     1000  2018-12-27     14.48\n",
       "3   1000_309     1000  2018-12-28      5.76\n",
       "4   1000_380     1000  2018-12-30      4.22\n",
       "5   1000_388     1000  2018-12-31      2.20\n",
       "6   1000_510     1000  2018-12-27      5.75\n",
       "7   1000_521     1000  2018-12-28     14.18\n",
       "8   1000_530     1000  2018-12-28      5.77\n",
       "9   1000_544     1000  2018-12-26      4.40\n",
       "10  1000_693     1000  2018-12-31      4.31\n",
       "11  1000_705     1000  2018-12-31     12.78\n",
       "12  1000_735     1000  2018-12-29      1.70\n",
       "13  1000_778     1000  2018-12-28      3.29\n",
       "14  1000_826     1000  2018-12-26      9.96"
      ]
     },
     "execution_count": 19,
     "metadata": {},
     "output_type": "execute_result"
    }
   ],
   "source": [
    "# Print a sample of data for calls\n",
    "\n",
    "calls.head(15)"
   ]
  },
  {
   "cell_type": "code",
   "execution_count": 20,
   "metadata": {},
   "outputs": [
    {
     "data": {
      "text/plain": [
       "0"
      ]
     },
     "execution_count": 20,
     "metadata": {},
     "output_type": "execute_result"
    }
   ],
   "source": [
    "len(calls[calls['duration'] == 0])"
   ]
  },
  {
   "cell_type": "markdown",
   "metadata": {},
   "source": [
    "Calls dataframe consist of 137735 rows and 4 columns. There are no missing values in calls dataframe but I do think we can convert call_date to datetime. Min duration of calls are 0 which means the call did not go through or they were not connected."
   ]
  },
  {
   "cell_type": "markdown",
   "metadata": {},
   "source": [
    " "
   ]
  },
  {
   "cell_type": "markdown",
   "metadata": {},
   "source": [
    "### Fix data"
   ]
  },
  {
   "cell_type": "code",
   "execution_count": 21,
   "metadata": {},
   "outputs": [],
   "source": [
    "calls['call_date'] = pd.to_datetime(calls['call_date'], format = '%Y-%m-%d')"
   ]
  },
  {
   "cell_type": "markdown",
   "metadata": {},
   "source": [
    "### Enrich data"
   ]
  },
  {
   "cell_type": "markdown",
   "metadata": {},
   "source": [
    "since calls are to be aggregated by month, we'll add a new column. Calls duration will be rounded up to the next minute as well."
   ]
  },
  {
   "cell_type": "code",
   "execution_count": 22,
   "metadata": {},
   "outputs": [],
   "source": [
    "calls['month'] = calls['call_date'].dt.month"
   ]
  },
  {
   "cell_type": "code",
   "execution_count": 23,
   "metadata": {},
   "outputs": [],
   "source": [
    "calls['duration'] = calls['duration'].apply(np.ceil)"
   ]
  },
  {
   "cell_type": "code",
   "execution_count": 24,
   "metadata": {},
   "outputs": [
    {
     "data": {
      "text/html": [
       "<div>\n",
       "<style scoped>\n",
       "    .dataframe tbody tr th:only-of-type {\n",
       "        vertical-align: middle;\n",
       "    }\n",
       "\n",
       "    .dataframe tbody tr th {\n",
       "        vertical-align: top;\n",
       "    }\n",
       "\n",
       "    .dataframe thead th {\n",
       "        text-align: right;\n",
       "    }\n",
       "</style>\n",
       "<table border=\"1\" class=\"dataframe\">\n",
       "  <thead>\n",
       "    <tr style=\"text-align: right;\">\n",
       "      <th></th>\n",
       "      <th>id</th>\n",
       "      <th>user_id</th>\n",
       "      <th>call_date</th>\n",
       "      <th>duration</th>\n",
       "      <th>month</th>\n",
       "    </tr>\n",
       "  </thead>\n",
       "  <tbody>\n",
       "    <tr>\n",
       "      <th>0</th>\n",
       "      <td>1000_93</td>\n",
       "      <td>1000</td>\n",
       "      <td>2018-12-27</td>\n",
       "      <td>9.0</td>\n",
       "      <td>12</td>\n",
       "    </tr>\n",
       "    <tr>\n",
       "      <th>1</th>\n",
       "      <td>1000_145</td>\n",
       "      <td>1000</td>\n",
       "      <td>2018-12-27</td>\n",
       "      <td>14.0</td>\n",
       "      <td>12</td>\n",
       "    </tr>\n",
       "    <tr>\n",
       "      <th>2</th>\n",
       "      <td>1000_247</td>\n",
       "      <td>1000</td>\n",
       "      <td>2018-12-27</td>\n",
       "      <td>15.0</td>\n",
       "      <td>12</td>\n",
       "    </tr>\n",
       "    <tr>\n",
       "      <th>3</th>\n",
       "      <td>1000_309</td>\n",
       "      <td>1000</td>\n",
       "      <td>2018-12-28</td>\n",
       "      <td>6.0</td>\n",
       "      <td>12</td>\n",
       "    </tr>\n",
       "    <tr>\n",
       "      <th>4</th>\n",
       "      <td>1000_380</td>\n",
       "      <td>1000</td>\n",
       "      <td>2018-12-30</td>\n",
       "      <td>5.0</td>\n",
       "      <td>12</td>\n",
       "    </tr>\n",
       "    <tr>\n",
       "      <th>5</th>\n",
       "      <td>1000_388</td>\n",
       "      <td>1000</td>\n",
       "      <td>2018-12-31</td>\n",
       "      <td>3.0</td>\n",
       "      <td>12</td>\n",
       "    </tr>\n",
       "    <tr>\n",
       "      <th>6</th>\n",
       "      <td>1000_510</td>\n",
       "      <td>1000</td>\n",
       "      <td>2018-12-27</td>\n",
       "      <td>6.0</td>\n",
       "      <td>12</td>\n",
       "    </tr>\n",
       "    <tr>\n",
       "      <th>7</th>\n",
       "      <td>1000_521</td>\n",
       "      <td>1000</td>\n",
       "      <td>2018-12-28</td>\n",
       "      <td>15.0</td>\n",
       "      <td>12</td>\n",
       "    </tr>\n",
       "    <tr>\n",
       "      <th>8</th>\n",
       "      <td>1000_530</td>\n",
       "      <td>1000</td>\n",
       "      <td>2018-12-28</td>\n",
       "      <td>6.0</td>\n",
       "      <td>12</td>\n",
       "    </tr>\n",
       "    <tr>\n",
       "      <th>9</th>\n",
       "      <td>1000_544</td>\n",
       "      <td>1000</td>\n",
       "      <td>2018-12-26</td>\n",
       "      <td>5.0</td>\n",
       "      <td>12</td>\n",
       "    </tr>\n",
       "    <tr>\n",
       "      <th>10</th>\n",
       "      <td>1000_693</td>\n",
       "      <td>1000</td>\n",
       "      <td>2018-12-31</td>\n",
       "      <td>5.0</td>\n",
       "      <td>12</td>\n",
       "    </tr>\n",
       "    <tr>\n",
       "      <th>11</th>\n",
       "      <td>1000_705</td>\n",
       "      <td>1000</td>\n",
       "      <td>2018-12-31</td>\n",
       "      <td>13.0</td>\n",
       "      <td>12</td>\n",
       "    </tr>\n",
       "    <tr>\n",
       "      <th>12</th>\n",
       "      <td>1000_735</td>\n",
       "      <td>1000</td>\n",
       "      <td>2018-12-29</td>\n",
       "      <td>2.0</td>\n",
       "      <td>12</td>\n",
       "    </tr>\n",
       "    <tr>\n",
       "      <th>13</th>\n",
       "      <td>1000_778</td>\n",
       "      <td>1000</td>\n",
       "      <td>2018-12-28</td>\n",
       "      <td>4.0</td>\n",
       "      <td>12</td>\n",
       "    </tr>\n",
       "    <tr>\n",
       "      <th>14</th>\n",
       "      <td>1000_826</td>\n",
       "      <td>1000</td>\n",
       "      <td>2018-12-26</td>\n",
       "      <td>10.0</td>\n",
       "      <td>12</td>\n",
       "    </tr>\n",
       "  </tbody>\n",
       "</table>\n",
       "</div>"
      ],
      "text/plain": [
       "          id  user_id  call_date  duration  month\n",
       "0    1000_93     1000 2018-12-27       9.0     12\n",
       "1   1000_145     1000 2018-12-27      14.0     12\n",
       "2   1000_247     1000 2018-12-27      15.0     12\n",
       "3   1000_309     1000 2018-12-28       6.0     12\n",
       "4   1000_380     1000 2018-12-30       5.0     12\n",
       "5   1000_388     1000 2018-12-31       3.0     12\n",
       "6   1000_510     1000 2018-12-27       6.0     12\n",
       "7   1000_521     1000 2018-12-28      15.0     12\n",
       "8   1000_530     1000 2018-12-28       6.0     12\n",
       "9   1000_544     1000 2018-12-26       5.0     12\n",
       "10  1000_693     1000 2018-12-31       5.0     12\n",
       "11  1000_705     1000 2018-12-31      13.0     12\n",
       "12  1000_735     1000 2018-12-29       2.0     12\n",
       "13  1000_778     1000 2018-12-28       4.0     12\n",
       "14  1000_826     1000 2018-12-26      10.0     12"
      ]
     },
     "execution_count": 24,
     "metadata": {},
     "output_type": "execute_result"
    }
   ],
   "source": [
    "calls.head(15)"
   ]
  },
  {
   "cell_type": "markdown",
   "metadata": {},
   "source": [
    "## Messages"
   ]
  },
  {
   "cell_type": "code",
   "execution_count": 25,
   "metadata": {},
   "outputs": [
    {
     "name": "stdout",
     "output_type": "stream",
     "text": [
      "<class 'pandas.core.frame.DataFrame'>\n",
      "RangeIndex: 76051 entries, 0 to 76050\n",
      "Data columns (total 3 columns):\n",
      " #   Column        Non-Null Count  Dtype \n",
      "---  ------        --------------  ----- \n",
      " 0   id            76051 non-null  object\n",
      " 1   user_id       76051 non-null  int64 \n",
      " 2   message_date  76051 non-null  object\n",
      "dtypes: int64(1), object(2)\n",
      "memory usage: 1.7+ MB\n"
     ]
    }
   ],
   "source": [
    "# Print the general/summary information about the messages' DataFrame\n",
    "\n",
    "messages.info()"
   ]
  },
  {
   "cell_type": "code",
   "execution_count": 26,
   "metadata": {},
   "outputs": [
    {
     "data": {
      "text/html": [
       "<div>\n",
       "<style scoped>\n",
       "    .dataframe tbody tr th:only-of-type {\n",
       "        vertical-align: middle;\n",
       "    }\n",
       "\n",
       "    .dataframe tbody tr th {\n",
       "        vertical-align: top;\n",
       "    }\n",
       "\n",
       "    .dataframe thead th {\n",
       "        text-align: right;\n",
       "    }\n",
       "</style>\n",
       "<table border=\"1\" class=\"dataframe\">\n",
       "  <thead>\n",
       "    <tr style=\"text-align: right;\">\n",
       "      <th></th>\n",
       "      <th>user_id</th>\n",
       "    </tr>\n",
       "  </thead>\n",
       "  <tbody>\n",
       "    <tr>\n",
       "      <th>count</th>\n",
       "      <td>76051.000000</td>\n",
       "    </tr>\n",
       "    <tr>\n",
       "      <th>mean</th>\n",
       "      <td>1245.972768</td>\n",
       "    </tr>\n",
       "    <tr>\n",
       "      <th>std</th>\n",
       "      <td>139.843635</td>\n",
       "    </tr>\n",
       "    <tr>\n",
       "      <th>min</th>\n",
       "      <td>1000.000000</td>\n",
       "    </tr>\n",
       "    <tr>\n",
       "      <th>25%</th>\n",
       "      <td>1123.000000</td>\n",
       "    </tr>\n",
       "    <tr>\n",
       "      <th>50%</th>\n",
       "      <td>1251.000000</td>\n",
       "    </tr>\n",
       "    <tr>\n",
       "      <th>75%</th>\n",
       "      <td>1362.000000</td>\n",
       "    </tr>\n",
       "    <tr>\n",
       "      <th>max</th>\n",
       "      <td>1497.000000</td>\n",
       "    </tr>\n",
       "  </tbody>\n",
       "</table>\n",
       "</div>"
      ],
      "text/plain": [
       "            user_id\n",
       "count  76051.000000\n",
       "mean    1245.972768\n",
       "std      139.843635\n",
       "min     1000.000000\n",
       "25%     1123.000000\n",
       "50%     1251.000000\n",
       "75%     1362.000000\n",
       "max     1497.000000"
      ]
     },
     "execution_count": 26,
     "metadata": {},
     "output_type": "execute_result"
    }
   ],
   "source": [
    "messages.describe()"
   ]
  },
  {
   "cell_type": "code",
   "execution_count": 27,
   "metadata": {},
   "outputs": [
    {
     "data": {
      "text/html": [
       "<div>\n",
       "<style scoped>\n",
       "    .dataframe tbody tr th:only-of-type {\n",
       "        vertical-align: middle;\n",
       "    }\n",
       "\n",
       "    .dataframe tbody tr th {\n",
       "        vertical-align: top;\n",
       "    }\n",
       "\n",
       "    .dataframe thead th {\n",
       "        text-align: right;\n",
       "    }\n",
       "</style>\n",
       "<table border=\"1\" class=\"dataframe\">\n",
       "  <thead>\n",
       "    <tr style=\"text-align: right;\">\n",
       "      <th></th>\n",
       "      <th>id</th>\n",
       "      <th>user_id</th>\n",
       "      <th>message_date</th>\n",
       "    </tr>\n",
       "  </thead>\n",
       "  <tbody>\n",
       "    <tr>\n",
       "      <th>0</th>\n",
       "      <td>1000_125</td>\n",
       "      <td>1000</td>\n",
       "      <td>2018-12-27</td>\n",
       "    </tr>\n",
       "    <tr>\n",
       "      <th>1</th>\n",
       "      <td>1000_160</td>\n",
       "      <td>1000</td>\n",
       "      <td>2018-12-31</td>\n",
       "    </tr>\n",
       "    <tr>\n",
       "      <th>2</th>\n",
       "      <td>1000_223</td>\n",
       "      <td>1000</td>\n",
       "      <td>2018-12-31</td>\n",
       "    </tr>\n",
       "    <tr>\n",
       "      <th>3</th>\n",
       "      <td>1000_251</td>\n",
       "      <td>1000</td>\n",
       "      <td>2018-12-27</td>\n",
       "    </tr>\n",
       "    <tr>\n",
       "      <th>4</th>\n",
       "      <td>1000_255</td>\n",
       "      <td>1000</td>\n",
       "      <td>2018-12-26</td>\n",
       "    </tr>\n",
       "    <tr>\n",
       "      <th>5</th>\n",
       "      <td>1000_346</td>\n",
       "      <td>1000</td>\n",
       "      <td>2018-12-29</td>\n",
       "    </tr>\n",
       "    <tr>\n",
       "      <th>6</th>\n",
       "      <td>1000_386</td>\n",
       "      <td>1000</td>\n",
       "      <td>2018-12-30</td>\n",
       "    </tr>\n",
       "    <tr>\n",
       "      <th>7</th>\n",
       "      <td>1000_413</td>\n",
       "      <td>1000</td>\n",
       "      <td>2018-12-31</td>\n",
       "    </tr>\n",
       "    <tr>\n",
       "      <th>8</th>\n",
       "      <td>1000_502</td>\n",
       "      <td>1000</td>\n",
       "      <td>2018-12-27</td>\n",
       "    </tr>\n",
       "    <tr>\n",
       "      <th>9</th>\n",
       "      <td>1000_525</td>\n",
       "      <td>1000</td>\n",
       "      <td>2018-12-28</td>\n",
       "    </tr>\n",
       "    <tr>\n",
       "      <th>10</th>\n",
       "      <td>1000_567</td>\n",
       "      <td>1000</td>\n",
       "      <td>2018-12-25</td>\n",
       "    </tr>\n",
       "    <tr>\n",
       "      <th>11</th>\n",
       "      <td>1001_1</td>\n",
       "      <td>1001</td>\n",
       "      <td>2018-11-14</td>\n",
       "    </tr>\n",
       "    <tr>\n",
       "      <th>12</th>\n",
       "      <td>1001_2</td>\n",
       "      <td>1001</td>\n",
       "      <td>2018-08-17</td>\n",
       "    </tr>\n",
       "    <tr>\n",
       "      <th>13</th>\n",
       "      <td>1001_5</td>\n",
       "      <td>1001</td>\n",
       "      <td>2018-12-05</td>\n",
       "    </tr>\n",
       "    <tr>\n",
       "      <th>14</th>\n",
       "      <td>1001_7</td>\n",
       "      <td>1001</td>\n",
       "      <td>2018-11-28</td>\n",
       "    </tr>\n",
       "  </tbody>\n",
       "</table>\n",
       "</div>"
      ],
      "text/plain": [
       "          id  user_id message_date\n",
       "0   1000_125     1000   2018-12-27\n",
       "1   1000_160     1000   2018-12-31\n",
       "2   1000_223     1000   2018-12-31\n",
       "3   1000_251     1000   2018-12-27\n",
       "4   1000_255     1000   2018-12-26\n",
       "5   1000_346     1000   2018-12-29\n",
       "6   1000_386     1000   2018-12-30\n",
       "7   1000_413     1000   2018-12-31\n",
       "8   1000_502     1000   2018-12-27\n",
       "9   1000_525     1000   2018-12-28\n",
       "10  1000_567     1000   2018-12-25\n",
       "11    1001_1     1001   2018-11-14\n",
       "12    1001_2     1001   2018-08-17\n",
       "13    1001_5     1001   2018-12-05\n",
       "14    1001_7     1001   2018-11-28"
      ]
     },
     "execution_count": 27,
     "metadata": {},
     "output_type": "execute_result"
    }
   ],
   "source": [
    "# Print a sample of data for messages\n",
    "\n",
    "messages.head(15)"
   ]
  },
  {
   "cell_type": "markdown",
   "metadata": {},
   "source": [
    "Messages dataframe consist of 76051 rows and 3 columns. There are no missing values but we can convert the message date column to datetime."
   ]
  },
  {
   "cell_type": "markdown",
   "metadata": {},
   "source": [
    "### Fix data"
   ]
  },
  {
   "cell_type": "code",
   "execution_count": 28,
   "metadata": {},
   "outputs": [],
   "source": [
    "messages['message_date'] = pd.to_datetime(messages['message_date'], format = '%Y-%m-%d')"
   ]
  },
  {
   "cell_type": "code",
   "execution_count": 29,
   "metadata": {},
   "outputs": [
    {
     "name": "stdout",
     "output_type": "stream",
     "text": [
      "<class 'pandas.core.frame.DataFrame'>\n",
      "RangeIndex: 76051 entries, 0 to 76050\n",
      "Data columns (total 3 columns):\n",
      " #   Column        Non-Null Count  Dtype         \n",
      "---  ------        --------------  -----         \n",
      " 0   id            76051 non-null  object        \n",
      " 1   user_id       76051 non-null  int64         \n",
      " 2   message_date  76051 non-null  datetime64[ns]\n",
      "dtypes: datetime64[ns](1), int64(1), object(1)\n",
      "memory usage: 1.7+ MB\n"
     ]
    }
   ],
   "source": [
    "messages.info()"
   ]
  },
  {
   "cell_type": "markdown",
   "metadata": {},
   "source": [
    "### Enrich data"
   ]
  },
  {
   "cell_type": "code",
   "execution_count": 30,
   "metadata": {},
   "outputs": [],
   "source": [
    "messages['month'] = messages['message_date'].dt.month"
   ]
  },
  {
   "cell_type": "markdown",
   "metadata": {},
   "source": [
    "## Internet"
   ]
  },
  {
   "cell_type": "code",
   "execution_count": 31,
   "metadata": {},
   "outputs": [
    {
     "name": "stdout",
     "output_type": "stream",
     "text": [
      "<class 'pandas.core.frame.DataFrame'>\n",
      "RangeIndex: 104825 entries, 0 to 104824\n",
      "Data columns (total 4 columns):\n",
      " #   Column        Non-Null Count   Dtype  \n",
      "---  ------        --------------   -----  \n",
      " 0   id            104825 non-null  object \n",
      " 1   user_id       104825 non-null  int64  \n",
      " 2   session_date  104825 non-null  object \n",
      " 3   mb_used       104825 non-null  float64\n",
      "dtypes: float64(1), int64(1), object(2)\n",
      "memory usage: 3.2+ MB\n"
     ]
    }
   ],
   "source": [
    "# Print the general/summary information about the internet DataFrame\n",
    "\n",
    "internet.info()"
   ]
  },
  {
   "cell_type": "code",
   "execution_count": 32,
   "metadata": {},
   "outputs": [
    {
     "data": {
      "text/html": [
       "<div>\n",
       "<style scoped>\n",
       "    .dataframe tbody tr th:only-of-type {\n",
       "        vertical-align: middle;\n",
       "    }\n",
       "\n",
       "    .dataframe tbody tr th {\n",
       "        vertical-align: top;\n",
       "    }\n",
       "\n",
       "    .dataframe thead th {\n",
       "        text-align: right;\n",
       "    }\n",
       "</style>\n",
       "<table border=\"1\" class=\"dataframe\">\n",
       "  <thead>\n",
       "    <tr style=\"text-align: right;\">\n",
       "      <th></th>\n",
       "      <th>user_id</th>\n",
       "      <th>mb_used</th>\n",
       "    </tr>\n",
       "  </thead>\n",
       "  <tbody>\n",
       "    <tr>\n",
       "      <th>count</th>\n",
       "      <td>104825.000000</td>\n",
       "      <td>104825.000000</td>\n",
       "    </tr>\n",
       "    <tr>\n",
       "      <th>mean</th>\n",
       "      <td>1242.496361</td>\n",
       "      <td>366.713701</td>\n",
       "    </tr>\n",
       "    <tr>\n",
       "      <th>std</th>\n",
       "      <td>142.053913</td>\n",
       "      <td>277.170542</td>\n",
       "    </tr>\n",
       "    <tr>\n",
       "      <th>min</th>\n",
       "      <td>1000.000000</td>\n",
       "      <td>0.000000</td>\n",
       "    </tr>\n",
       "    <tr>\n",
       "      <th>25%</th>\n",
       "      <td>1122.000000</td>\n",
       "      <td>136.080000</td>\n",
       "    </tr>\n",
       "    <tr>\n",
       "      <th>50%</th>\n",
       "      <td>1236.000000</td>\n",
       "      <td>343.980000</td>\n",
       "    </tr>\n",
       "    <tr>\n",
       "      <th>75%</th>\n",
       "      <td>1367.000000</td>\n",
       "      <td>554.610000</td>\n",
       "    </tr>\n",
       "    <tr>\n",
       "      <th>max</th>\n",
       "      <td>1499.000000</td>\n",
       "      <td>1693.470000</td>\n",
       "    </tr>\n",
       "  </tbody>\n",
       "</table>\n",
       "</div>"
      ],
      "text/plain": [
       "             user_id        mb_used\n",
       "count  104825.000000  104825.000000\n",
       "mean     1242.496361     366.713701\n",
       "std       142.053913     277.170542\n",
       "min      1000.000000       0.000000\n",
       "25%      1122.000000     136.080000\n",
       "50%      1236.000000     343.980000\n",
       "75%      1367.000000     554.610000\n",
       "max      1499.000000    1693.470000"
      ]
     },
     "execution_count": 32,
     "metadata": {},
     "output_type": "execute_result"
    }
   ],
   "source": [
    "internet.describe()"
   ]
  },
  {
   "cell_type": "code",
   "execution_count": 33,
   "metadata": {},
   "outputs": [],
   "source": [
    "internet.drop(internet[internet['mb_used'] ==0].index, inplace=True)"
   ]
  },
  {
   "cell_type": "code",
   "execution_count": 34,
   "metadata": {},
   "outputs": [
    {
     "data": {
      "text/html": [
       "<div>\n",
       "<style scoped>\n",
       "    .dataframe tbody tr th:only-of-type {\n",
       "        vertical-align: middle;\n",
       "    }\n",
       "\n",
       "    .dataframe tbody tr th {\n",
       "        vertical-align: top;\n",
       "    }\n",
       "\n",
       "    .dataframe thead th {\n",
       "        text-align: right;\n",
       "    }\n",
       "</style>\n",
       "<table border=\"1\" class=\"dataframe\">\n",
       "  <thead>\n",
       "    <tr style=\"text-align: right;\">\n",
       "      <th></th>\n",
       "      <th>id</th>\n",
       "      <th>user_id</th>\n",
       "      <th>session_date</th>\n",
       "      <th>mb_used</th>\n",
       "    </tr>\n",
       "  </thead>\n",
       "  <tbody>\n",
       "    <tr>\n",
       "      <th>0</th>\n",
       "      <td>1000_13</td>\n",
       "      <td>1000</td>\n",
       "      <td>2018-12-29</td>\n",
       "      <td>89.86</td>\n",
       "    </tr>\n",
       "    <tr>\n",
       "      <th>2</th>\n",
       "      <td>1000_379</td>\n",
       "      <td>1000</td>\n",
       "      <td>2018-12-28</td>\n",
       "      <td>660.40</td>\n",
       "    </tr>\n",
       "    <tr>\n",
       "      <th>3</th>\n",
       "      <td>1000_413</td>\n",
       "      <td>1000</td>\n",
       "      <td>2018-12-26</td>\n",
       "      <td>270.99</td>\n",
       "    </tr>\n",
       "    <tr>\n",
       "      <th>4</th>\n",
       "      <td>1000_442</td>\n",
       "      <td>1000</td>\n",
       "      <td>2018-12-27</td>\n",
       "      <td>880.22</td>\n",
       "    </tr>\n",
       "    <tr>\n",
       "      <th>5</th>\n",
       "      <td>1001_0</td>\n",
       "      <td>1001</td>\n",
       "      <td>2018-08-24</td>\n",
       "      <td>284.68</td>\n",
       "    </tr>\n",
       "    <tr>\n",
       "      <th>6</th>\n",
       "      <td>1001_3</td>\n",
       "      <td>1001</td>\n",
       "      <td>2018-12-09</td>\n",
       "      <td>656.04</td>\n",
       "    </tr>\n",
       "    <tr>\n",
       "      <th>7</th>\n",
       "      <td>1001_4</td>\n",
       "      <td>1001</td>\n",
       "      <td>2018-11-04</td>\n",
       "      <td>16.97</td>\n",
       "    </tr>\n",
       "    <tr>\n",
       "      <th>8</th>\n",
       "      <td>1001_10</td>\n",
       "      <td>1001</td>\n",
       "      <td>2018-11-27</td>\n",
       "      <td>135.18</td>\n",
       "    </tr>\n",
       "    <tr>\n",
       "      <th>9</th>\n",
       "      <td>1001_15</td>\n",
       "      <td>1001</td>\n",
       "      <td>2018-12-13</td>\n",
       "      <td>761.92</td>\n",
       "    </tr>\n",
       "    <tr>\n",
       "      <th>10</th>\n",
       "      <td>1001_16</td>\n",
       "      <td>1001</td>\n",
       "      <td>2018-10-28</td>\n",
       "      <td>501.53</td>\n",
       "    </tr>\n",
       "    <tr>\n",
       "      <th>11</th>\n",
       "      <td>1001_17</td>\n",
       "      <td>1001</td>\n",
       "      <td>2018-09-05</td>\n",
       "      <td>727.29</td>\n",
       "    </tr>\n",
       "    <tr>\n",
       "      <th>12</th>\n",
       "      <td>1001_24</td>\n",
       "      <td>1001</td>\n",
       "      <td>2018-09-05</td>\n",
       "      <td>622.03</td>\n",
       "    </tr>\n",
       "    <tr>\n",
       "      <th>13</th>\n",
       "      <td>1001_25</td>\n",
       "      <td>1001</td>\n",
       "      <td>2018-10-14</td>\n",
       "      <td>310.43</td>\n",
       "    </tr>\n",
       "    <tr>\n",
       "      <th>15</th>\n",
       "      <td>1001_27</td>\n",
       "      <td>1001</td>\n",
       "      <td>2018-12-13</td>\n",
       "      <td>149.17</td>\n",
       "    </tr>\n",
       "    <tr>\n",
       "      <th>17</th>\n",
       "      <td>1001_29</td>\n",
       "      <td>1001</td>\n",
       "      <td>2018-10-09</td>\n",
       "      <td>1067.99</td>\n",
       "    </tr>\n",
       "  </tbody>\n",
       "</table>\n",
       "</div>"
      ],
      "text/plain": [
       "          id  user_id session_date  mb_used\n",
       "0    1000_13     1000   2018-12-29    89.86\n",
       "2   1000_379     1000   2018-12-28   660.40\n",
       "3   1000_413     1000   2018-12-26   270.99\n",
       "4   1000_442     1000   2018-12-27   880.22\n",
       "5     1001_0     1001   2018-08-24   284.68\n",
       "6     1001_3     1001   2018-12-09   656.04\n",
       "7     1001_4     1001   2018-11-04    16.97\n",
       "8    1001_10     1001   2018-11-27   135.18\n",
       "9    1001_15     1001   2018-12-13   761.92\n",
       "10   1001_16     1001   2018-10-28   501.53\n",
       "11   1001_17     1001   2018-09-05   727.29\n",
       "12   1001_24     1001   2018-09-05   622.03\n",
       "13   1001_25     1001   2018-10-14   310.43\n",
       "15   1001_27     1001   2018-12-13   149.17\n",
       "17   1001_29     1001   2018-10-09  1067.99"
      ]
     },
     "execution_count": 34,
     "metadata": {},
     "output_type": "execute_result"
    }
   ],
   "source": [
    "# Print a sample of data for the internet traffic\n",
    "\n",
    "internet.head(15)"
   ]
  },
  {
   "cell_type": "markdown",
   "metadata": {},
   "source": [
    "The internet dataframe consist of 104825 rows and 4 columns. There is no missing data but the session_date column can be converted to datetime. Session with 0 mb_used will be dropped as there of no value to us."
   ]
  },
  {
   "cell_type": "markdown",
   "metadata": {},
   "source": [
    " "
   ]
  },
  {
   "cell_type": "markdown",
   "metadata": {},
   "source": [
    "### Fix data"
   ]
  },
  {
   "cell_type": "code",
   "execution_count": 35,
   "metadata": {},
   "outputs": [],
   "source": [
    "internet['session_date'] = pd.to_datetime(internet['session_date'], format = '%Y-%m-%d')"
   ]
  },
  {
   "cell_type": "markdown",
   "metadata": {},
   "source": [
    "### Enrich data"
   ]
  },
  {
   "cell_type": "code",
   "execution_count": 36,
   "metadata": {},
   "outputs": [],
   "source": [
    "internet['month'] = internet['session_date'].dt.month"
   ]
  },
  {
   "cell_type": "markdown",
   "metadata": {},
   "source": [
    "## Study plan conditions"
   ]
  },
  {
   "cell_type": "code",
   "execution_count": 37,
   "metadata": {},
   "outputs": [
    {
     "data": {
      "text/html": [
       "<div>\n",
       "<style scoped>\n",
       "    .dataframe tbody tr th:only-of-type {\n",
       "        vertical-align: middle;\n",
       "    }\n",
       "\n",
       "    .dataframe tbody tr th {\n",
       "        vertical-align: top;\n",
       "    }\n",
       "\n",
       "    .dataframe thead th {\n",
       "        text-align: right;\n",
       "    }\n",
       "</style>\n",
       "<table border=\"1\" class=\"dataframe\">\n",
       "  <thead>\n",
       "    <tr style=\"text-align: right;\">\n",
       "      <th></th>\n",
       "      <th>messages_included</th>\n",
       "      <th>mb_per_month_included</th>\n",
       "      <th>minutes_included</th>\n",
       "      <th>usd_monthly_pay</th>\n",
       "      <th>usd_per_gb</th>\n",
       "      <th>usd_per_message</th>\n",
       "      <th>usd_per_minute</th>\n",
       "      <th>plan_name</th>\n",
       "    </tr>\n",
       "  </thead>\n",
       "  <tbody>\n",
       "    <tr>\n",
       "      <th>0</th>\n",
       "      <td>50</td>\n",
       "      <td>15360</td>\n",
       "      <td>500</td>\n",
       "      <td>20</td>\n",
       "      <td>10</td>\n",
       "      <td>0.03</td>\n",
       "      <td>0.03</td>\n",
       "      <td>surf</td>\n",
       "    </tr>\n",
       "    <tr>\n",
       "      <th>1</th>\n",
       "      <td>1000</td>\n",
       "      <td>30720</td>\n",
       "      <td>3000</td>\n",
       "      <td>70</td>\n",
       "      <td>7</td>\n",
       "      <td>0.01</td>\n",
       "      <td>0.01</td>\n",
       "      <td>ultimate</td>\n",
       "    </tr>\n",
       "  </tbody>\n",
       "</table>\n",
       "</div>"
      ],
      "text/plain": [
       "   messages_included  mb_per_month_included  minutes_included  \\\n",
       "0                 50                  15360               500   \n",
       "1               1000                  30720              3000   \n",
       "\n",
       "   usd_monthly_pay  usd_per_gb  usd_per_message  usd_per_minute plan_name  \n",
       "0               20          10             0.03            0.03      surf  \n",
       "1               70           7             0.01            0.01  ultimate  "
      ]
     },
     "execution_count": 37,
     "metadata": {},
     "output_type": "execute_result"
    }
   ],
   "source": [
    "# Print out the plan conditions and make sure they are clear for you\n",
    "\n",
    "plans.head()"
   ]
  },
  {
   "cell_type": "markdown",
   "metadata": {},
   "source": [
    "## Aggregate data per user\n"
   ]
  },
  {
   "cell_type": "code",
   "execution_count": 38,
   "metadata": {},
   "outputs": [
    {
     "name": "stdout",
     "output_type": "stream",
     "text": [
      "      user_id  month  id\n",
      "0        1000     12  16\n",
      "1        1001      8  22\n",
      "2        1001      9  38\n",
      "3        1001     10  47\n",
      "4        1001     11  49\n",
      "...       ...    ...  ..\n",
      "2251     1498     12  32\n",
      "2252     1499      9  35\n",
      "2253     1499     10  41\n",
      "2254     1499     11  39\n",
      "2255     1499     12  56\n",
      "\n",
      "[2256 rows x 3 columns]\n"
     ]
    }
   ],
   "source": [
    "# Calculate the number of calls made by each user per month. Save the result.\n",
    "\n",
    "monthly_calls = calls.pivot_table(index= ['user_id', 'month'], values= 'id', aggfunc='count').reset_index()\n",
    "\n",
    "print(monthly_calls)"
   ]
  },
  {
   "cell_type": "code",
   "execution_count": 39,
   "metadata": {},
   "outputs": [
    {
     "name": "stdout",
     "output_type": "stream",
     "text": [
      "      user_id  month  calls_made\n",
      "0        1000     12          16\n",
      "1        1001      8          22\n",
      "2        1001      9          38\n",
      "3        1001     10          47\n",
      "4        1001     11          49\n",
      "...       ...    ...         ...\n",
      "2251     1498     12          32\n",
      "2252     1499      9          35\n",
      "2253     1499     10          41\n",
      "2254     1499     11          39\n",
      "2255     1499     12          56\n",
      "\n",
      "[2256 rows x 3 columns]\n"
     ]
    }
   ],
   "source": [
    "monthly_calls = monthly_calls.rename(columns={'id':'calls_made'})\n",
    "print(monthly_calls)"
   ]
  },
  {
   "cell_type": "code",
   "execution_count": 40,
   "metadata": {},
   "outputs": [
    {
     "name": "stdout",
     "output_type": "stream",
     "text": [
      "      user_id  month  duration\n",
      "0        1000     12     124.0\n",
      "1        1001      8     182.0\n",
      "2        1001      9     315.0\n",
      "3        1001     10     393.0\n",
      "4        1001     11     426.0\n",
      "...       ...    ...       ...\n",
      "2251     1498     12     339.0\n",
      "2252     1499      9     346.0\n",
      "2253     1499     10     385.0\n",
      "2254     1499     11     308.0\n",
      "2255     1499     12     496.0\n",
      "\n",
      "[2256 rows x 3 columns]\n"
     ]
    }
   ],
   "source": [
    "# Calculate the amount of minutes spent by each user per month. Save the result.\n",
    "\n",
    "per_minute_calls = calls.pivot_table(index= ['user_id', 'month'], values= 'duration', aggfunc='sum').reset_index()\n",
    "\n",
    "print(per_minute_calls)"
   ]
  },
  {
   "cell_type": "code",
   "execution_count": 41,
   "metadata": {},
   "outputs": [
    {
     "name": "stdout",
     "output_type": "stream",
     "text": [
      "      user_id  month  id\n",
      "0        1000     12  11\n",
      "1        1001      8  30\n",
      "2        1001      9  44\n",
      "3        1001     10  53\n",
      "4        1001     11  36\n",
      "...       ...    ...  ..\n",
      "1801     1496      9  21\n",
      "1802     1496     10  18\n",
      "1803     1496     11  13\n",
      "1804     1496     12  11\n",
      "1805     1497     12  50\n",
      "\n",
      "[1806 rows x 3 columns]\n"
     ]
    }
   ],
   "source": [
    "# Calculate the number of messages sent by each user per month. Save the result.\n",
    "monthly_messages = messages.pivot_table(index= ['user_id', 'month'], values= 'id', aggfunc='count')\n",
    "monthly_messages = monthly_messages.reset_index()\n",
    "print(monthly_messages)\n"
   ]
  },
  {
   "cell_type": "code",
   "execution_count": 42,
   "metadata": {},
   "outputs": [
    {
     "name": "stdout",
     "output_type": "stream",
     "text": [
      "      user_id  month  msgs_sent\n",
      "0        1000     12         11\n",
      "1        1001      8         30\n",
      "2        1001      9         44\n",
      "3        1001     10         53\n",
      "4        1001     11         36\n",
      "...       ...    ...        ...\n",
      "1801     1496      9         21\n",
      "1802     1496     10         18\n",
      "1803     1496     11         13\n",
      "1804     1496     12         11\n",
      "1805     1497     12         50\n",
      "\n",
      "[1806 rows x 3 columns]\n"
     ]
    }
   ],
   "source": [
    "monthly_messages = monthly_messages.rename(columns={'id':'msgs_sent'})\n",
    "print(monthly_messages)"
   ]
  },
  {
   "cell_type": "code",
   "execution_count": 43,
   "metadata": {},
   "outputs": [
    {
     "name": "stdout",
     "output_type": "stream",
     "text": [
      "      user_id  month   mb_used\n",
      "0        1000     12   1901.47\n",
      "1        1001      8   6919.15\n",
      "2        1001      9  13314.82\n",
      "3        1001     10  22330.49\n",
      "4        1001     11  18504.30\n",
      "...       ...    ...       ...\n",
      "2272     1498     12  23137.69\n",
      "2273     1499      9  12984.76\n",
      "2274     1499     10  19492.43\n",
      "2275     1499     11  16813.83\n",
      "2276     1499     12  22059.21\n",
      "\n",
      "[2277 rows x 3 columns]\n"
     ]
    }
   ],
   "source": [
    "# Calculate the volume of internet traffic used by each user per month. Save the result.\n",
    "monthly_traffic = internet.pivot_table(index= ['user_id', 'month'], values= 'mb_used', aggfunc='sum').reset_index()\n",
    "print(monthly_traffic)\n"
   ]
  },
  {
   "cell_type": "raw",
   "metadata": {},
   "source": [
    "For internet traffic, the month total is rounded up and they are charged 2 gig when they use 1024 megabytes."
   ]
  },
  {
   "cell_type": "code",
   "execution_count": 44,
   "metadata": {},
   "outputs": [
    {
     "name": "stdout",
     "output_type": "stream",
     "text": [
      "      user_id  month   mb_used  gb_used\n",
      "0        1000     12   1901.47      2.0\n",
      "1        1001      8   6919.15      7.0\n",
      "2        1001      9  13314.82     14.0\n",
      "3        1001     10  22330.49     22.0\n",
      "4        1001     11  18504.30     19.0\n",
      "...       ...    ...       ...      ...\n",
      "2272     1498     12  23137.69     23.0\n",
      "2273     1499      9  12984.76     13.0\n",
      "2274     1499     10  19492.43     20.0\n",
      "2275     1499     11  16813.83     17.0\n",
      "2276     1499     12  22059.21     22.0\n",
      "\n",
      "[2277 rows x 4 columns]\n"
     ]
    }
   ],
   "source": [
    "monthly_traffic['gb_used'] = (monthly_traffic['mb_used'] / 1024).apply(np.ceil)\n",
    "print(monthly_traffic)"
   ]
  },
  {
   "cell_type": "markdown",
   "metadata": {},
   "source": [
    "I misread the description of the plans."
   ]
  },
  {
   "cell_type": "code",
   "execution_count": 45,
   "metadata": {},
   "outputs": [
    {
     "name": "stdout",
     "output_type": "stream",
     "text": [
      "      user_id  month  calls_made  duration  msgs_sent   mb_used  gb_used\n",
      "0        1000     12        16.0     124.0       11.0   1901.47      2.0\n",
      "1        1001      8        22.0     182.0       30.0   6919.15      7.0\n",
      "2        1001      9        38.0     315.0       44.0  13314.82     14.0\n",
      "3        1001     10        47.0     393.0       53.0  22330.49     22.0\n",
      "4        1001     11        49.0     426.0       36.0  18504.30     19.0\n",
      "...       ...    ...         ...       ...        ...       ...      ...\n",
      "2288     1407     11         NaN       NaN        1.0    290.06      1.0\n",
      "2289     1482     10         NaN       NaN        2.0       NaN      NaN\n",
      "2290     1094     10         NaN       NaN        NaN   1728.71      2.0\n",
      "2291     1108     12         NaN       NaN        NaN    233.17      1.0\n",
      "2292     1311      6         NaN       NaN        NaN   1498.83      2.0\n",
      "\n",
      "[2293 rows x 7 columns]\n"
     ]
    }
   ],
   "source": [
    "# Merge the data for calls, minutes, messages, internet based on user_id and month\n",
    "\n",
    "data_frames = [monthly_calls, per_minute_calls, monthly_messages, monthly_traffic]\n",
    "\n",
    "df = reduce(lambda left,right: pd.merge(left, right, on=['user_id', 'month'], how='outer'), data_frames)\n",
    "print(df)\n"
   ]
  },
  {
   "cell_type": "code",
   "execution_count": 46,
   "metadata": {},
   "outputs": [
    {
     "data": {
      "text/html": [
       "<div>\n",
       "<style scoped>\n",
       "    .dataframe tbody tr th:only-of-type {\n",
       "        vertical-align: middle;\n",
       "    }\n",
       "\n",
       "    .dataframe tbody tr th {\n",
       "        vertical-align: top;\n",
       "    }\n",
       "\n",
       "    .dataframe thead th {\n",
       "        text-align: right;\n",
       "    }\n",
       "</style>\n",
       "<table border=\"1\" class=\"dataframe\">\n",
       "  <thead>\n",
       "    <tr style=\"text-align: right;\">\n",
       "      <th></th>\n",
       "      <th>user_id</th>\n",
       "      <th>month</th>\n",
       "      <th>calls_made</th>\n",
       "      <th>duration</th>\n",
       "      <th>msgs_sent</th>\n",
       "      <th>mb_used</th>\n",
       "      <th>gb_used</th>\n",
       "      <th>first_name</th>\n",
       "      <th>last_name</th>\n",
       "      <th>age</th>\n",
       "      <th>city</th>\n",
       "      <th>reg_date</th>\n",
       "      <th>plan</th>\n",
       "      <th>churn_date</th>\n",
       "      <th>churn_active</th>\n",
       "    </tr>\n",
       "  </thead>\n",
       "  <tbody>\n",
       "    <tr>\n",
       "      <th>0</th>\n",
       "      <td>1000</td>\n",
       "      <td>12</td>\n",
       "      <td>16.0</td>\n",
       "      <td>124.0</td>\n",
       "      <td>11.0</td>\n",
       "      <td>1901.47</td>\n",
       "      <td>2.0</td>\n",
       "      <td>Anamaria</td>\n",
       "      <td>Bauer</td>\n",
       "      <td>45</td>\n",
       "      <td>Atlanta-Sandy Springs-Roswell, GA MSA</td>\n",
       "      <td>2018-12-24</td>\n",
       "      <td>ultimate</td>\n",
       "      <td>NaT</td>\n",
       "      <td>1</td>\n",
       "    </tr>\n",
       "    <tr>\n",
       "      <th>1</th>\n",
       "      <td>1001</td>\n",
       "      <td>8</td>\n",
       "      <td>22.0</td>\n",
       "      <td>182.0</td>\n",
       "      <td>30.0</td>\n",
       "      <td>6919.15</td>\n",
       "      <td>7.0</td>\n",
       "      <td>Mickey</td>\n",
       "      <td>Wilkerson</td>\n",
       "      <td>28</td>\n",
       "      <td>Seattle-Tacoma-Bellevue, WA MSA</td>\n",
       "      <td>2018-08-13</td>\n",
       "      <td>surf</td>\n",
       "      <td>NaT</td>\n",
       "      <td>1</td>\n",
       "    </tr>\n",
       "    <tr>\n",
       "      <th>2</th>\n",
       "      <td>1001</td>\n",
       "      <td>9</td>\n",
       "      <td>38.0</td>\n",
       "      <td>315.0</td>\n",
       "      <td>44.0</td>\n",
       "      <td>13314.82</td>\n",
       "      <td>14.0</td>\n",
       "      <td>Mickey</td>\n",
       "      <td>Wilkerson</td>\n",
       "      <td>28</td>\n",
       "      <td>Seattle-Tacoma-Bellevue, WA MSA</td>\n",
       "      <td>2018-08-13</td>\n",
       "      <td>surf</td>\n",
       "      <td>NaT</td>\n",
       "      <td>1</td>\n",
       "    </tr>\n",
       "    <tr>\n",
       "      <th>3</th>\n",
       "      <td>1001</td>\n",
       "      <td>10</td>\n",
       "      <td>47.0</td>\n",
       "      <td>393.0</td>\n",
       "      <td>53.0</td>\n",
       "      <td>22330.49</td>\n",
       "      <td>22.0</td>\n",
       "      <td>Mickey</td>\n",
       "      <td>Wilkerson</td>\n",
       "      <td>28</td>\n",
       "      <td>Seattle-Tacoma-Bellevue, WA MSA</td>\n",
       "      <td>2018-08-13</td>\n",
       "      <td>surf</td>\n",
       "      <td>NaT</td>\n",
       "      <td>1</td>\n",
       "    </tr>\n",
       "    <tr>\n",
       "      <th>4</th>\n",
       "      <td>1001</td>\n",
       "      <td>11</td>\n",
       "      <td>49.0</td>\n",
       "      <td>426.0</td>\n",
       "      <td>36.0</td>\n",
       "      <td>18504.30</td>\n",
       "      <td>19.0</td>\n",
       "      <td>Mickey</td>\n",
       "      <td>Wilkerson</td>\n",
       "      <td>28</td>\n",
       "      <td>Seattle-Tacoma-Bellevue, WA MSA</td>\n",
       "      <td>2018-08-13</td>\n",
       "      <td>surf</td>\n",
       "      <td>NaT</td>\n",
       "      <td>1</td>\n",
       "    </tr>\n",
       "    <tr>\n",
       "      <th>5</th>\n",
       "      <td>1001</td>\n",
       "      <td>12</td>\n",
       "      <td>46.0</td>\n",
       "      <td>412.0</td>\n",
       "      <td>44.0</td>\n",
       "      <td>19369.18</td>\n",
       "      <td>19.0</td>\n",
       "      <td>Mickey</td>\n",
       "      <td>Wilkerson</td>\n",
       "      <td>28</td>\n",
       "      <td>Seattle-Tacoma-Bellevue, WA MSA</td>\n",
       "      <td>2018-08-13</td>\n",
       "      <td>surf</td>\n",
       "      <td>NaT</td>\n",
       "      <td>1</td>\n",
       "    </tr>\n",
       "    <tr>\n",
       "      <th>6</th>\n",
       "      <td>1002</td>\n",
       "      <td>10</td>\n",
       "      <td>8.0</td>\n",
       "      <td>59.0</td>\n",
       "      <td>15.0</td>\n",
       "      <td>6552.01</td>\n",
       "      <td>7.0</td>\n",
       "      <td>Carlee</td>\n",
       "      <td>Hoffman</td>\n",
       "      <td>36</td>\n",
       "      <td>Las Vegas-Henderson-Paradise, NV MSA</td>\n",
       "      <td>2018-10-21</td>\n",
       "      <td>surf</td>\n",
       "      <td>NaT</td>\n",
       "      <td>1</td>\n",
       "    </tr>\n",
       "    <tr>\n",
       "      <th>7</th>\n",
       "      <td>1002</td>\n",
       "      <td>11</td>\n",
       "      <td>48.0</td>\n",
       "      <td>386.0</td>\n",
       "      <td>32.0</td>\n",
       "      <td>19345.08</td>\n",
       "      <td>19.0</td>\n",
       "      <td>Carlee</td>\n",
       "      <td>Hoffman</td>\n",
       "      <td>36</td>\n",
       "      <td>Las Vegas-Henderson-Paradise, NV MSA</td>\n",
       "      <td>2018-10-21</td>\n",
       "      <td>surf</td>\n",
       "      <td>NaT</td>\n",
       "      <td>1</td>\n",
       "    </tr>\n",
       "    <tr>\n",
       "      <th>8</th>\n",
       "      <td>1002</td>\n",
       "      <td>12</td>\n",
       "      <td>38.0</td>\n",
       "      <td>384.0</td>\n",
       "      <td>41.0</td>\n",
       "      <td>14396.24</td>\n",
       "      <td>15.0</td>\n",
       "      <td>Carlee</td>\n",
       "      <td>Hoffman</td>\n",
       "      <td>36</td>\n",
       "      <td>Las Vegas-Henderson-Paradise, NV MSA</td>\n",
       "      <td>2018-10-21</td>\n",
       "      <td>surf</td>\n",
       "      <td>NaT</td>\n",
       "      <td>1</td>\n",
       "    </tr>\n",
       "    <tr>\n",
       "      <th>9</th>\n",
       "      <td>1003</td>\n",
       "      <td>12</td>\n",
       "      <td>118.0</td>\n",
       "      <td>1104.0</td>\n",
       "      <td>50.0</td>\n",
       "      <td>27044.14</td>\n",
       "      <td>27.0</td>\n",
       "      <td>Reynaldo</td>\n",
       "      <td>Jenkins</td>\n",
       "      <td>52</td>\n",
       "      <td>Tulsa, OK MSA</td>\n",
       "      <td>2018-01-28</td>\n",
       "      <td>surf</td>\n",
       "      <td>NaT</td>\n",
       "      <td>1</td>\n",
       "    </tr>\n",
       "    <tr>\n",
       "      <th>10</th>\n",
       "      <td>1004</td>\n",
       "      <td>5</td>\n",
       "      <td>19.0</td>\n",
       "      <td>193.0</td>\n",
       "      <td>7.0</td>\n",
       "      <td>6547.21</td>\n",
       "      <td>7.0</td>\n",
       "      <td>Leonila</td>\n",
       "      <td>Thompson</td>\n",
       "      <td>40</td>\n",
       "      <td>Seattle-Tacoma-Bellevue, WA MSA</td>\n",
       "      <td>2018-05-23</td>\n",
       "      <td>surf</td>\n",
       "      <td>NaT</td>\n",
       "      <td>1</td>\n",
       "    </tr>\n",
       "    <tr>\n",
       "      <th>11</th>\n",
       "      <td>1004</td>\n",
       "      <td>6</td>\n",
       "      <td>33.0</td>\n",
       "      <td>275.0</td>\n",
       "      <td>18.0</td>\n",
       "      <td>20672.82</td>\n",
       "      <td>21.0</td>\n",
       "      <td>Leonila</td>\n",
       "      <td>Thompson</td>\n",
       "      <td>40</td>\n",
       "      <td>Seattle-Tacoma-Bellevue, WA MSA</td>\n",
       "      <td>2018-05-23</td>\n",
       "      <td>surf</td>\n",
       "      <td>NaT</td>\n",
       "      <td>1</td>\n",
       "    </tr>\n",
       "    <tr>\n",
       "      <th>12</th>\n",
       "      <td>1004</td>\n",
       "      <td>7</td>\n",
       "      <td>45.0</td>\n",
       "      <td>381.0</td>\n",
       "      <td>26.0</td>\n",
       "      <td>24516.62</td>\n",
       "      <td>24.0</td>\n",
       "      <td>Leonila</td>\n",
       "      <td>Thompson</td>\n",
       "      <td>40</td>\n",
       "      <td>Seattle-Tacoma-Bellevue, WA MSA</td>\n",
       "      <td>2018-05-23</td>\n",
       "      <td>surf</td>\n",
       "      <td>NaT</td>\n",
       "      <td>1</td>\n",
       "    </tr>\n",
       "    <tr>\n",
       "      <th>13</th>\n",
       "      <td>1004</td>\n",
       "      <td>8</td>\n",
       "      <td>42.0</td>\n",
       "      <td>354.0</td>\n",
       "      <td>25.0</td>\n",
       "      <td>27981.74</td>\n",
       "      <td>28.0</td>\n",
       "      <td>Leonila</td>\n",
       "      <td>Thompson</td>\n",
       "      <td>40</td>\n",
       "      <td>Seattle-Tacoma-Bellevue, WA MSA</td>\n",
       "      <td>2018-05-23</td>\n",
       "      <td>surf</td>\n",
       "      <td>NaT</td>\n",
       "      <td>1</td>\n",
       "    </tr>\n",
       "    <tr>\n",
       "      <th>14</th>\n",
       "      <td>1004</td>\n",
       "      <td>9</td>\n",
       "      <td>32.0</td>\n",
       "      <td>301.0</td>\n",
       "      <td>21.0</td>\n",
       "      <td>18852.72</td>\n",
       "      <td>19.0</td>\n",
       "      <td>Leonila</td>\n",
       "      <td>Thompson</td>\n",
       "      <td>40</td>\n",
       "      <td>Seattle-Tacoma-Bellevue, WA MSA</td>\n",
       "      <td>2018-05-23</td>\n",
       "      <td>surf</td>\n",
       "      <td>NaT</td>\n",
       "      <td>1</td>\n",
       "    </tr>\n",
       "  </tbody>\n",
       "</table>\n",
       "</div>"
      ],
      "text/plain": [
       "    user_id  month  calls_made  duration  msgs_sent   mb_used  gb_used  \\\n",
       "0      1000     12        16.0     124.0       11.0   1901.47      2.0   \n",
       "1      1001      8        22.0     182.0       30.0   6919.15      7.0   \n",
       "2      1001      9        38.0     315.0       44.0  13314.82     14.0   \n",
       "3      1001     10        47.0     393.0       53.0  22330.49     22.0   \n",
       "4      1001     11        49.0     426.0       36.0  18504.30     19.0   \n",
       "5      1001     12        46.0     412.0       44.0  19369.18     19.0   \n",
       "6      1002     10         8.0      59.0       15.0   6552.01      7.0   \n",
       "7      1002     11        48.0     386.0       32.0  19345.08     19.0   \n",
       "8      1002     12        38.0     384.0       41.0  14396.24     15.0   \n",
       "9      1003     12       118.0    1104.0       50.0  27044.14     27.0   \n",
       "10     1004      5        19.0     193.0        7.0   6547.21      7.0   \n",
       "11     1004      6        33.0     275.0       18.0  20672.82     21.0   \n",
       "12     1004      7        45.0     381.0       26.0  24516.62     24.0   \n",
       "13     1004      8        42.0     354.0       25.0  27981.74     28.0   \n",
       "14     1004      9        32.0     301.0       21.0  18852.72     19.0   \n",
       "\n",
       "   first_name  last_name  age                                   city  \\\n",
       "0    Anamaria      Bauer   45  Atlanta-Sandy Springs-Roswell, GA MSA   \n",
       "1      Mickey  Wilkerson   28        Seattle-Tacoma-Bellevue, WA MSA   \n",
       "2      Mickey  Wilkerson   28        Seattle-Tacoma-Bellevue, WA MSA   \n",
       "3      Mickey  Wilkerson   28        Seattle-Tacoma-Bellevue, WA MSA   \n",
       "4      Mickey  Wilkerson   28        Seattle-Tacoma-Bellevue, WA MSA   \n",
       "5      Mickey  Wilkerson   28        Seattle-Tacoma-Bellevue, WA MSA   \n",
       "6      Carlee    Hoffman   36   Las Vegas-Henderson-Paradise, NV MSA   \n",
       "7      Carlee    Hoffman   36   Las Vegas-Henderson-Paradise, NV MSA   \n",
       "8      Carlee    Hoffman   36   Las Vegas-Henderson-Paradise, NV MSA   \n",
       "9    Reynaldo    Jenkins   52                          Tulsa, OK MSA   \n",
       "10    Leonila   Thompson   40        Seattle-Tacoma-Bellevue, WA MSA   \n",
       "11    Leonila   Thompson   40        Seattle-Tacoma-Bellevue, WA MSA   \n",
       "12    Leonila   Thompson   40        Seattle-Tacoma-Bellevue, WA MSA   \n",
       "13    Leonila   Thompson   40        Seattle-Tacoma-Bellevue, WA MSA   \n",
       "14    Leonila   Thompson   40        Seattle-Tacoma-Bellevue, WA MSA   \n",
       "\n",
       "     reg_date      plan churn_date  churn_active  \n",
       "0  2018-12-24  ultimate        NaT             1  \n",
       "1  2018-08-13      surf        NaT             1  \n",
       "2  2018-08-13      surf        NaT             1  \n",
       "3  2018-08-13      surf        NaT             1  \n",
       "4  2018-08-13      surf        NaT             1  \n",
       "5  2018-08-13      surf        NaT             1  \n",
       "6  2018-10-21      surf        NaT             1  \n",
       "7  2018-10-21      surf        NaT             1  \n",
       "8  2018-10-21      surf        NaT             1  \n",
       "9  2018-01-28      surf        NaT             1  \n",
       "10 2018-05-23      surf        NaT             1  \n",
       "11 2018-05-23      surf        NaT             1  \n",
       "12 2018-05-23      surf        NaT             1  \n",
       "13 2018-05-23      surf        NaT             1  \n",
       "14 2018-05-23      surf        NaT             1  "
      ]
     },
     "execution_count": 46,
     "metadata": {},
     "output_type": "execute_result"
    }
   ],
   "source": [
    "# Add the plan information\n",
    "df = df.merge(users, left_on = ['user_id'], right_on = ['user_id'], how= 'left')\n",
    "df.head(15)"
   ]
  },
  {
   "cell_type": "code",
   "execution_count": 47,
   "metadata": {},
   "outputs": [
    {
     "name": "stdout",
     "output_type": "stream",
     "text": [
      "<class 'pandas.core.frame.DataFrame'>\n",
      "Int64Index: 2293 entries, 0 to 2292\n",
      "Data columns (total 15 columns):\n",
      " #   Column        Non-Null Count  Dtype         \n",
      "---  ------        --------------  -----         \n",
      " 0   user_id       2293 non-null   int64         \n",
      " 1   month         2293 non-null   int64         \n",
      " 2   calls_made    2256 non-null   float64       \n",
      " 3   duration      2256 non-null   float64       \n",
      " 4   msgs_sent     1806 non-null   float64       \n",
      " 5   mb_used       2277 non-null   float64       \n",
      " 6   gb_used       2277 non-null   float64       \n",
      " 7   first_name    2293 non-null   object        \n",
      " 8   last_name     2293 non-null   object        \n",
      " 9   age           2293 non-null   int64         \n",
      " 10  city          2293 non-null   object        \n",
      " 11  reg_date      2293 non-null   datetime64[ns]\n",
      " 12  plan          2293 non-null   object        \n",
      " 13  churn_date    158 non-null    datetime64[ns]\n",
      " 14  churn_active  2293 non-null   int64         \n",
      "dtypes: datetime64[ns](2), float64(5), int64(4), object(4)\n",
      "memory usage: 286.6+ KB\n"
     ]
    }
   ],
   "source": [
    "df.info()"
   ]
  },
  {
   "cell_type": "markdown",
   "metadata": {},
   "source": [
    "Our new df now has 2293 rows and 15 columns. Msgs_sent column is missing data, to which I assume are 0 messages sent and will be filled w/ that value.The same goes for mb_used and gb_used columns. Churn date can be ignored as the data in that column has been moved over to the churn active column."
   ]
  },
  {
   "cell_type": "code",
   "execution_count": 48,
   "metadata": {},
   "outputs": [
    {
     "name": "stdout",
     "output_type": "stream",
     "text": [
      "<class 'pandas.core.frame.DataFrame'>\n",
      "Int64Index: 2293 entries, 0 to 2292\n",
      "Data columns (total 15 columns):\n",
      " #   Column        Non-Null Count  Dtype         \n",
      "---  ------        --------------  -----         \n",
      " 0   user_id       2293 non-null   int64         \n",
      " 1   month         2293 non-null   int64         \n",
      " 2   calls_made    2293 non-null   float64       \n",
      " 3   duration      2293 non-null   float64       \n",
      " 4   msgs_sent     2293 non-null   float64       \n",
      " 5   mb_used       2293 non-null   float64       \n",
      " 6   gb_used       2293 non-null   float64       \n",
      " 7   first_name    2293 non-null   object        \n",
      " 8   last_name     2293 non-null   object        \n",
      " 9   age           2293 non-null   int64         \n",
      " 10  city          2293 non-null   object        \n",
      " 11  reg_date      2293 non-null   datetime64[ns]\n",
      " 12  plan          2293 non-null   object        \n",
      " 13  churn_date    158 non-null    datetime64[ns]\n",
      " 14  churn_active  2293 non-null   int64         \n",
      "dtypes: datetime64[ns](2), float64(5), int64(4), object(4)\n",
      "memory usage: 286.6+ KB\n"
     ]
    }
   ],
   "source": [
    "df['msgs_sent'] = df['msgs_sent'].fillna(0)\n",
    "df['mb_used'] = df['mb_used'].fillna(0)\n",
    "df['gb_used'] = df['gb_used'].fillna(0)\n",
    "df['calls_made'] = df['calls_made'].fillna(0)\n",
    "df['duration'] = df['duration'].fillna(0)\n",
    "df.info()"
   ]
  },
  {
   "cell_type": "code",
   "execution_count": 49,
   "metadata": {},
   "outputs": [],
   "source": [
    "# Calculate the monthly revenue for each user\n",
    "\n",
    "surf ={\n",
    "    'charge': 0,\n",
    "    'minutes': 500,\n",
    "    'texts': 50,\n",
    "    'data': 15\n",
    "}\n",
    "\n",
    "ultimate = {\n",
    "    'charge': 0,\n",
    "    'minutes': 3000,\n",
    "    'texts': 1000,\n",
    "    'data': 30    \n",
    "}\n",
    "\n",
    "def revenue (df):\n",
    "    \n",
    "    msgs_sent = df['msgs_sent']\n",
    "    gb_used = df['gb_used']\n",
    "    plan = df['plan']\n",
    "    duration = df['duration'] \n",
    "    \n",
    "    \n",
    "    if plan == 'surf':\n",
    "        charge = 20\n",
    "        if duration > 500:\n",
    "            charge += (duration-500)*0.03\n",
    "        if msgs_sent > 50:\n",
    "            charge += (msgs_sent-50)*0.03\n",
    "        if gb_used > 15:\n",
    "            charge += (gb_used-15)*10\n",
    "        return charge\n",
    "            \n",
    "    if plan == 'ultimate':\n",
    "        charge= 70\n",
    "        if duration > 3000:\n",
    "            charge += (duration-3000)*0.01\n",
    "        if msgs_sent > 1000: \n",
    "            charge += (msgs_sent-1000)*0.01\n",
    "        if gb_used > 30:\n",
    "            charge +=(gb_used-30)*7\n",
    "        return charge\n"
   ]
  },
  {
   "cell_type": "code",
   "execution_count": 50,
   "metadata": {},
   "outputs": [
    {
     "data": {
      "text/html": [
       "<div>\n",
       "<style scoped>\n",
       "    .dataframe tbody tr th:only-of-type {\n",
       "        vertical-align: middle;\n",
       "    }\n",
       "\n",
       "    .dataframe tbody tr th {\n",
       "        vertical-align: top;\n",
       "    }\n",
       "\n",
       "    .dataframe thead th {\n",
       "        text-align: right;\n",
       "    }\n",
       "</style>\n",
       "<table border=\"1\" class=\"dataframe\">\n",
       "  <thead>\n",
       "    <tr style=\"text-align: right;\">\n",
       "      <th></th>\n",
       "      <th>user_id</th>\n",
       "      <th>month</th>\n",
       "      <th>calls_made</th>\n",
       "      <th>duration</th>\n",
       "      <th>msgs_sent</th>\n",
       "      <th>mb_used</th>\n",
       "      <th>gb_used</th>\n",
       "      <th>first_name</th>\n",
       "      <th>last_name</th>\n",
       "      <th>age</th>\n",
       "      <th>city</th>\n",
       "      <th>reg_date</th>\n",
       "      <th>plan</th>\n",
       "      <th>churn_date</th>\n",
       "      <th>churn_active</th>\n",
       "      <th>revenue</th>\n",
       "    </tr>\n",
       "  </thead>\n",
       "  <tbody>\n",
       "    <tr>\n",
       "      <th>0</th>\n",
       "      <td>1000</td>\n",
       "      <td>12</td>\n",
       "      <td>16.0</td>\n",
       "      <td>124.0</td>\n",
       "      <td>11.0</td>\n",
       "      <td>1901.47</td>\n",
       "      <td>2.0</td>\n",
       "      <td>Anamaria</td>\n",
       "      <td>Bauer</td>\n",
       "      <td>45</td>\n",
       "      <td>Atlanta-Sandy Springs-Roswell, GA MSA</td>\n",
       "      <td>2018-12-24</td>\n",
       "      <td>ultimate</td>\n",
       "      <td>NaT</td>\n",
       "      <td>1</td>\n",
       "      <td>70.00</td>\n",
       "    </tr>\n",
       "    <tr>\n",
       "      <th>1</th>\n",
       "      <td>1001</td>\n",
       "      <td>8</td>\n",
       "      <td>22.0</td>\n",
       "      <td>182.0</td>\n",
       "      <td>30.0</td>\n",
       "      <td>6919.15</td>\n",
       "      <td>7.0</td>\n",
       "      <td>Mickey</td>\n",
       "      <td>Wilkerson</td>\n",
       "      <td>28</td>\n",
       "      <td>Seattle-Tacoma-Bellevue, WA MSA</td>\n",
       "      <td>2018-08-13</td>\n",
       "      <td>surf</td>\n",
       "      <td>NaT</td>\n",
       "      <td>1</td>\n",
       "      <td>20.00</td>\n",
       "    </tr>\n",
       "    <tr>\n",
       "      <th>2</th>\n",
       "      <td>1001</td>\n",
       "      <td>9</td>\n",
       "      <td>38.0</td>\n",
       "      <td>315.0</td>\n",
       "      <td>44.0</td>\n",
       "      <td>13314.82</td>\n",
       "      <td>14.0</td>\n",
       "      <td>Mickey</td>\n",
       "      <td>Wilkerson</td>\n",
       "      <td>28</td>\n",
       "      <td>Seattle-Tacoma-Bellevue, WA MSA</td>\n",
       "      <td>2018-08-13</td>\n",
       "      <td>surf</td>\n",
       "      <td>NaT</td>\n",
       "      <td>1</td>\n",
       "      <td>20.00</td>\n",
       "    </tr>\n",
       "    <tr>\n",
       "      <th>3</th>\n",
       "      <td>1001</td>\n",
       "      <td>10</td>\n",
       "      <td>47.0</td>\n",
       "      <td>393.0</td>\n",
       "      <td>53.0</td>\n",
       "      <td>22330.49</td>\n",
       "      <td>22.0</td>\n",
       "      <td>Mickey</td>\n",
       "      <td>Wilkerson</td>\n",
       "      <td>28</td>\n",
       "      <td>Seattle-Tacoma-Bellevue, WA MSA</td>\n",
       "      <td>2018-08-13</td>\n",
       "      <td>surf</td>\n",
       "      <td>NaT</td>\n",
       "      <td>1</td>\n",
       "      <td>90.09</td>\n",
       "    </tr>\n",
       "    <tr>\n",
       "      <th>4</th>\n",
       "      <td>1001</td>\n",
       "      <td>11</td>\n",
       "      <td>49.0</td>\n",
       "      <td>426.0</td>\n",
       "      <td>36.0</td>\n",
       "      <td>18504.30</td>\n",
       "      <td>19.0</td>\n",
       "      <td>Mickey</td>\n",
       "      <td>Wilkerson</td>\n",
       "      <td>28</td>\n",
       "      <td>Seattle-Tacoma-Bellevue, WA MSA</td>\n",
       "      <td>2018-08-13</td>\n",
       "      <td>surf</td>\n",
       "      <td>NaT</td>\n",
       "      <td>1</td>\n",
       "      <td>60.00</td>\n",
       "    </tr>\n",
       "    <tr>\n",
       "      <th>5</th>\n",
       "      <td>1001</td>\n",
       "      <td>12</td>\n",
       "      <td>46.0</td>\n",
       "      <td>412.0</td>\n",
       "      <td>44.0</td>\n",
       "      <td>19369.18</td>\n",
       "      <td>19.0</td>\n",
       "      <td>Mickey</td>\n",
       "      <td>Wilkerson</td>\n",
       "      <td>28</td>\n",
       "      <td>Seattle-Tacoma-Bellevue, WA MSA</td>\n",
       "      <td>2018-08-13</td>\n",
       "      <td>surf</td>\n",
       "      <td>NaT</td>\n",
       "      <td>1</td>\n",
       "      <td>60.00</td>\n",
       "    </tr>\n",
       "    <tr>\n",
       "      <th>6</th>\n",
       "      <td>1002</td>\n",
       "      <td>10</td>\n",
       "      <td>8.0</td>\n",
       "      <td>59.0</td>\n",
       "      <td>15.0</td>\n",
       "      <td>6552.01</td>\n",
       "      <td>7.0</td>\n",
       "      <td>Carlee</td>\n",
       "      <td>Hoffman</td>\n",
       "      <td>36</td>\n",
       "      <td>Las Vegas-Henderson-Paradise, NV MSA</td>\n",
       "      <td>2018-10-21</td>\n",
       "      <td>surf</td>\n",
       "      <td>NaT</td>\n",
       "      <td>1</td>\n",
       "      <td>20.00</td>\n",
       "    </tr>\n",
       "    <tr>\n",
       "      <th>7</th>\n",
       "      <td>1002</td>\n",
       "      <td>11</td>\n",
       "      <td>48.0</td>\n",
       "      <td>386.0</td>\n",
       "      <td>32.0</td>\n",
       "      <td>19345.08</td>\n",
       "      <td>19.0</td>\n",
       "      <td>Carlee</td>\n",
       "      <td>Hoffman</td>\n",
       "      <td>36</td>\n",
       "      <td>Las Vegas-Henderson-Paradise, NV MSA</td>\n",
       "      <td>2018-10-21</td>\n",
       "      <td>surf</td>\n",
       "      <td>NaT</td>\n",
       "      <td>1</td>\n",
       "      <td>60.00</td>\n",
       "    </tr>\n",
       "    <tr>\n",
       "      <th>8</th>\n",
       "      <td>1002</td>\n",
       "      <td>12</td>\n",
       "      <td>38.0</td>\n",
       "      <td>384.0</td>\n",
       "      <td>41.0</td>\n",
       "      <td>14396.24</td>\n",
       "      <td>15.0</td>\n",
       "      <td>Carlee</td>\n",
       "      <td>Hoffman</td>\n",
       "      <td>36</td>\n",
       "      <td>Las Vegas-Henderson-Paradise, NV MSA</td>\n",
       "      <td>2018-10-21</td>\n",
       "      <td>surf</td>\n",
       "      <td>NaT</td>\n",
       "      <td>1</td>\n",
       "      <td>20.00</td>\n",
       "    </tr>\n",
       "    <tr>\n",
       "      <th>9</th>\n",
       "      <td>1003</td>\n",
       "      <td>12</td>\n",
       "      <td>118.0</td>\n",
       "      <td>1104.0</td>\n",
       "      <td>50.0</td>\n",
       "      <td>27044.14</td>\n",
       "      <td>27.0</td>\n",
       "      <td>Reynaldo</td>\n",
       "      <td>Jenkins</td>\n",
       "      <td>52</td>\n",
       "      <td>Tulsa, OK MSA</td>\n",
       "      <td>2018-01-28</td>\n",
       "      <td>surf</td>\n",
       "      <td>NaT</td>\n",
       "      <td>1</td>\n",
       "      <td>158.12</td>\n",
       "    </tr>\n",
       "    <tr>\n",
       "      <th>10</th>\n",
       "      <td>1004</td>\n",
       "      <td>5</td>\n",
       "      <td>19.0</td>\n",
       "      <td>193.0</td>\n",
       "      <td>7.0</td>\n",
       "      <td>6547.21</td>\n",
       "      <td>7.0</td>\n",
       "      <td>Leonila</td>\n",
       "      <td>Thompson</td>\n",
       "      <td>40</td>\n",
       "      <td>Seattle-Tacoma-Bellevue, WA MSA</td>\n",
       "      <td>2018-05-23</td>\n",
       "      <td>surf</td>\n",
       "      <td>NaT</td>\n",
       "      <td>1</td>\n",
       "      <td>20.00</td>\n",
       "    </tr>\n",
       "    <tr>\n",
       "      <th>11</th>\n",
       "      <td>1004</td>\n",
       "      <td>6</td>\n",
       "      <td>33.0</td>\n",
       "      <td>275.0</td>\n",
       "      <td>18.0</td>\n",
       "      <td>20672.82</td>\n",
       "      <td>21.0</td>\n",
       "      <td>Leonila</td>\n",
       "      <td>Thompson</td>\n",
       "      <td>40</td>\n",
       "      <td>Seattle-Tacoma-Bellevue, WA MSA</td>\n",
       "      <td>2018-05-23</td>\n",
       "      <td>surf</td>\n",
       "      <td>NaT</td>\n",
       "      <td>1</td>\n",
       "      <td>80.00</td>\n",
       "    </tr>\n",
       "    <tr>\n",
       "      <th>12</th>\n",
       "      <td>1004</td>\n",
       "      <td>7</td>\n",
       "      <td>45.0</td>\n",
       "      <td>381.0</td>\n",
       "      <td>26.0</td>\n",
       "      <td>24516.62</td>\n",
       "      <td>24.0</td>\n",
       "      <td>Leonila</td>\n",
       "      <td>Thompson</td>\n",
       "      <td>40</td>\n",
       "      <td>Seattle-Tacoma-Bellevue, WA MSA</td>\n",
       "      <td>2018-05-23</td>\n",
       "      <td>surf</td>\n",
       "      <td>NaT</td>\n",
       "      <td>1</td>\n",
       "      <td>110.00</td>\n",
       "    </tr>\n",
       "    <tr>\n",
       "      <th>13</th>\n",
       "      <td>1004</td>\n",
       "      <td>8</td>\n",
       "      <td>42.0</td>\n",
       "      <td>354.0</td>\n",
       "      <td>25.0</td>\n",
       "      <td>27981.74</td>\n",
       "      <td>28.0</td>\n",
       "      <td>Leonila</td>\n",
       "      <td>Thompson</td>\n",
       "      <td>40</td>\n",
       "      <td>Seattle-Tacoma-Bellevue, WA MSA</td>\n",
       "      <td>2018-05-23</td>\n",
       "      <td>surf</td>\n",
       "      <td>NaT</td>\n",
       "      <td>1</td>\n",
       "      <td>150.00</td>\n",
       "    </tr>\n",
       "    <tr>\n",
       "      <th>14</th>\n",
       "      <td>1004</td>\n",
       "      <td>9</td>\n",
       "      <td>32.0</td>\n",
       "      <td>301.0</td>\n",
       "      <td>21.0</td>\n",
       "      <td>18852.72</td>\n",
       "      <td>19.0</td>\n",
       "      <td>Leonila</td>\n",
       "      <td>Thompson</td>\n",
       "      <td>40</td>\n",
       "      <td>Seattle-Tacoma-Bellevue, WA MSA</td>\n",
       "      <td>2018-05-23</td>\n",
       "      <td>surf</td>\n",
       "      <td>NaT</td>\n",
       "      <td>1</td>\n",
       "      <td>60.00</td>\n",
       "    </tr>\n",
       "  </tbody>\n",
       "</table>\n",
       "</div>"
      ],
      "text/plain": [
       "    user_id  month  calls_made  duration  msgs_sent   mb_used  gb_used  \\\n",
       "0      1000     12        16.0     124.0       11.0   1901.47      2.0   \n",
       "1      1001      8        22.0     182.0       30.0   6919.15      7.0   \n",
       "2      1001      9        38.0     315.0       44.0  13314.82     14.0   \n",
       "3      1001     10        47.0     393.0       53.0  22330.49     22.0   \n",
       "4      1001     11        49.0     426.0       36.0  18504.30     19.0   \n",
       "5      1001     12        46.0     412.0       44.0  19369.18     19.0   \n",
       "6      1002     10         8.0      59.0       15.0   6552.01      7.0   \n",
       "7      1002     11        48.0     386.0       32.0  19345.08     19.0   \n",
       "8      1002     12        38.0     384.0       41.0  14396.24     15.0   \n",
       "9      1003     12       118.0    1104.0       50.0  27044.14     27.0   \n",
       "10     1004      5        19.0     193.0        7.0   6547.21      7.0   \n",
       "11     1004      6        33.0     275.0       18.0  20672.82     21.0   \n",
       "12     1004      7        45.0     381.0       26.0  24516.62     24.0   \n",
       "13     1004      8        42.0     354.0       25.0  27981.74     28.0   \n",
       "14     1004      9        32.0     301.0       21.0  18852.72     19.0   \n",
       "\n",
       "   first_name  last_name  age                                   city  \\\n",
       "0    Anamaria      Bauer   45  Atlanta-Sandy Springs-Roswell, GA MSA   \n",
       "1      Mickey  Wilkerson   28        Seattle-Tacoma-Bellevue, WA MSA   \n",
       "2      Mickey  Wilkerson   28        Seattle-Tacoma-Bellevue, WA MSA   \n",
       "3      Mickey  Wilkerson   28        Seattle-Tacoma-Bellevue, WA MSA   \n",
       "4      Mickey  Wilkerson   28        Seattle-Tacoma-Bellevue, WA MSA   \n",
       "5      Mickey  Wilkerson   28        Seattle-Tacoma-Bellevue, WA MSA   \n",
       "6      Carlee    Hoffman   36   Las Vegas-Henderson-Paradise, NV MSA   \n",
       "7      Carlee    Hoffman   36   Las Vegas-Henderson-Paradise, NV MSA   \n",
       "8      Carlee    Hoffman   36   Las Vegas-Henderson-Paradise, NV MSA   \n",
       "9    Reynaldo    Jenkins   52                          Tulsa, OK MSA   \n",
       "10    Leonila   Thompson   40        Seattle-Tacoma-Bellevue, WA MSA   \n",
       "11    Leonila   Thompson   40        Seattle-Tacoma-Bellevue, WA MSA   \n",
       "12    Leonila   Thompson   40        Seattle-Tacoma-Bellevue, WA MSA   \n",
       "13    Leonila   Thompson   40        Seattle-Tacoma-Bellevue, WA MSA   \n",
       "14    Leonila   Thompson   40        Seattle-Tacoma-Bellevue, WA MSA   \n",
       "\n",
       "     reg_date      plan churn_date  churn_active  revenue  \n",
       "0  2018-12-24  ultimate        NaT             1    70.00  \n",
       "1  2018-08-13      surf        NaT             1    20.00  \n",
       "2  2018-08-13      surf        NaT             1    20.00  \n",
       "3  2018-08-13      surf        NaT             1    90.09  \n",
       "4  2018-08-13      surf        NaT             1    60.00  \n",
       "5  2018-08-13      surf        NaT             1    60.00  \n",
       "6  2018-10-21      surf        NaT             1    20.00  \n",
       "7  2018-10-21      surf        NaT             1    60.00  \n",
       "8  2018-10-21      surf        NaT             1    20.00  \n",
       "9  2018-01-28      surf        NaT             1   158.12  \n",
       "10 2018-05-23      surf        NaT             1    20.00  \n",
       "11 2018-05-23      surf        NaT             1    80.00  \n",
       "12 2018-05-23      surf        NaT             1   110.00  \n",
       "13 2018-05-23      surf        NaT             1   150.00  \n",
       "14 2018-05-23      surf        NaT             1    60.00  "
      ]
     },
     "execution_count": 50,
     "metadata": {},
     "output_type": "execute_result"
    }
   ],
   "source": [
    "df['revenue'] = df.apply(revenue, axis=1)\n",
    "df.head(15)"
   ]
  },
  {
   "cell_type": "markdown",
   "metadata": {},
   "source": [
    "## Study user behaviour"
   ]
  },
  {
   "cell_type": "markdown",
   "metadata": {},
   "source": [
    "### Calls"
   ]
  },
  {
   "cell_type": "code",
   "execution_count": 51,
   "metadata": {},
   "outputs": [
    {
     "name": "stdout",
     "output_type": "stream",
     "text": [
      "        plan  month    duration\n",
      "0       surf      1  203.000000\n",
      "1       surf      2  297.000000\n",
      "2       surf      3  330.000000\n",
      "3       surf      4  351.540000\n",
      "4       surf      5  399.584416\n",
      "5       surf      6  431.298969\n",
      "6       surf      7  449.983471\n",
      "7       surf      8  410.111111\n",
      "8       surf      9  414.226804\n",
      "9       surf     10  429.729958\n",
      "10      surf     11  423.325088\n",
      "11      surf     12  473.836478\n",
      "12  ultimate      1  193.500000\n",
      "13  ultimate      2  403.142857\n",
      "14  ultimate      3  304.250000\n",
      "15  ultimate      4  336.857143\n",
      "16  ultimate      5  406.241379\n",
      "17  ultimate      6  370.957447\n",
      "18  ultimate      7  427.067797\n",
      "19  ultimate      8  421.436620\n",
      "20  ultimate      9  437.511628\n",
      "21  ultimate     10  450.735849\n",
      "22  ultimate     11  445.196850\n",
      "23  ultimate     12  459.099338\n"
     ]
    }
   ],
   "source": [
    "# Compare average duration of calls per each plan per each distinct month. Plot a bar plat to visualize it.\n",
    "call_month_by_plan = df.pivot_table(index=['plan', 'month'], values='duration', aggfunc='mean').reset_index()\n",
    "\n",
    "print(call_month_by_plan)"
   ]
  },
  {
   "cell_type": "code",
   "execution_count": 52,
   "metadata": {},
   "outputs": [
    {
     "data": {
      "image/png": "[encoded data removed]",
      "text/plain": [
       "<Figure size 432x288 with 1 Axes>"
      ]
     },
     "metadata": {
      "needs_background": "light"
     },
     "output_type": "display_data"
    }
   ],
   "source": [
    "ax = plt.subplots()\n",
    "\n",
    "ax= sns.barplot(\n",
    "    x=call_month_by_plan.loc[0:11,'month'],\n",
    "    y=call_month_by_plan.loc[0:11, 'duration'],\n",
    "    color='yellow',\n",
    "    alpha=0.5,\n",
    "    label='surf'\n",
    ")\n",
    "\n",
    "ax= sns.barplot(\n",
    "    x=call_month_by_plan.loc[12:23,'month'],\n",
    "    y=call_month_by_plan.loc[12:23, 'duration'],\n",
    "    color ='pink',\n",
    "    alpha = 0.5,\n",
    "    label='ultimate'\n",
    ")\n",
    "\n",
    "ax.set_ylabel('call duration')\n",
    "ax.set_title('Monthly calls per plan')\n",
    "ax.legend()\n",
    "\n",
    "plt.show()\n",
    "\n",
    "\n",
    "    \n"
   ]
  },
  {
   "cell_type": "code",
   "execution_count": 53,
   "metadata": {},
   "outputs": [
    {
     "data": {
      "image/png": "[encoded data removed]",
      "text/plain": [
       "<Figure size 432x288 with 1 Axes>"
      ]
     },
     "metadata": {
      "needs_background": "light"
     },
     "output_type": "display_data"
    }
   ],
   "source": [
    "surf_minutes =df[df['plan']=='surf']\n",
    "\n",
    "surf_minutes.hist('duration', bins=30,)\n",
    "plt.xlabel('minutes')\n",
    "plt.title('surf duration')\n",
    "plt.show()\n"
   ]
  },
  {
   "cell_type": "code",
   "execution_count": 54,
   "metadata": {},
   "outputs": [
    {
     "data": {
      "image/png": "[encoded data removed]",
      "text/plain": [
       "<Figure size 432x288 with 1 Axes>"
      ]
     },
     "metadata": {
      "needs_background": "light"
     },
     "output_type": "display_data"
    }
   ],
   "source": [
    "ultimate_minutes =df[df['plan']=='ultimate']\n",
    "\n",
    "ultimate_minutes.hist('duration', bins=30,)\n",
    "plt.title('ultimate duration')\n",
    "plt.show()"
   ]
  },
  {
   "cell_type": "code",
   "execution_count": 55,
   "metadata": {},
   "outputs": [
    {
     "data": {
      "text/plain": [
       "month\n",
       "1     203.000000\n",
       "2     297.000000\n",
       "3     330.000000\n",
       "4     351.540000\n",
       "5     399.584416\n",
       "6     431.298969\n",
       "7     449.983471\n",
       "8     410.111111\n",
       "9     414.226804\n",
       "10    429.729958\n",
       "11    423.325088\n",
       "12    473.836478\n",
       "Name: duration, dtype: float64"
      ]
     },
     "execution_count": 55,
     "metadata": {},
     "output_type": "execute_result"
    }
   ],
   "source": [
    "# Calculate the mean and the variance of the monthly call duration\n",
    "surf_minutes.groupby('month')['duration'].mean()"
   ]
  },
  {
   "cell_type": "code",
   "execution_count": 56,
   "metadata": {},
   "outputs": [
    {
     "data": {
      "text/plain": [
       "month\n",
       "1     15842.000000\n",
       "2     52226.500000\n",
       "3     35809.363636\n",
       "4     50866.743265\n",
       "5     59754.219754\n",
       "6     45592.628436\n",
       "7     61005.099725\n",
       "8     54344.645963\n",
       "9     46595.958656\n",
       "10    52278.664056\n",
       "11    51607.021602\n",
       "12    63629.518918\n",
       "Name: duration, dtype: float64"
      ]
     },
     "execution_count": 56,
     "metadata": {},
     "output_type": "execute_result"
    }
   ],
   "source": [
    "surf_minutes.groupby('month')['duration'].var()"
   ]
  },
  {
   "cell_type": "code",
   "execution_count": 57,
   "metadata": {},
   "outputs": [
    {
     "data": {
      "text/plain": [
       "month\n",
       "1     193.500000\n",
       "2     403.142857\n",
       "3     304.250000\n",
       "4     336.857143\n",
       "5     406.241379\n",
       "6     370.957447\n",
       "7     427.067797\n",
       "8     421.436620\n",
       "9     437.511628\n",
       "10    450.735849\n",
       "11    445.196850\n",
       "12    459.099338\n",
       "Name: duration, dtype: float64"
      ]
     },
     "execution_count": 57,
     "metadata": {},
     "output_type": "execute_result"
    }
   ],
   "source": [
    "ultimate_minutes.groupby('month')['duration'].mean()"
   ]
  },
  {
   "cell_type": "code",
   "execution_count": 58,
   "metadata": {},
   "outputs": [
    {
     "data": {
      "text/plain": [
       "month\n",
       "1     16572.333333\n",
       "2     76889.476190\n",
       "3     61984.931818\n",
       "4     34888.928571\n",
       "5     43841.046798\n",
       "6     42503.563367\n",
       "7     72563.374635\n",
       "8     53645.506640\n",
       "9     57070.464569\n",
       "10    54261.910512\n",
       "11    60593.222847\n",
       "12    62503.783400\n",
       "Name: duration, dtype: float64"
      ]
     },
     "execution_count": 58,
     "metadata": {},
     "output_type": "execute_result"
    }
   ],
   "source": [
    "ultimate_minutes.groupby('month')['duration'].var()"
   ]
  },
  {
   "cell_type": "code",
   "execution_count": 59,
   "metadata": {},
   "outputs": [
    {
     "data": {
      "image/png": "[encoded data removed]",
      "text/plain": [
       "<Figure size 432x288 with 1 Axes>"
      ]
     },
     "metadata": {
      "needs_background": "light"
     },
     "output_type": "display_data"
    }
   ],
   "source": [
    "# Plot a boxplot to visualize the distribution of the monthly call duration\n",
    "\n",
    "df.query('plan == \"surf\"').boxplot(by='month', column='duration');"
   ]
  },
  {
   "cell_type": "code",
   "execution_count": 60,
   "metadata": {},
   "outputs": [
    {
     "data": {
      "image/png": "[encoded data removed]",
      "text/plain": [
       "<Figure size 432x288 with 1 Axes>"
      ]
     },
     "metadata": {
      "needs_background": "light"
     },
     "output_type": "display_data"
    }
   ],
   "source": [
    "df.query('plan == \"ultimate\"').boxplot(by='month', column='duration');"
   ]
  },
  {
   "cell_type": "markdown",
   "metadata": {},
   "source": [
    "The barplot shows that duration of the calls were similar between both plans. For the month of February there was a significant difference, Ultimate plan averaged around 400 minutes while surf call durations were around 300. In june, surf averaged around 430 minutes while ultimate had 370.But as stated previously the had similar averages for all other months.\n",
    "Both histograms are skewed-right.For both plans calls lasted within 200-600 minutes. As for the surf & ultimate barplot it shows that the duration were within range. Calls lasted 200 minutes and less than 600 minutes. Of course, there are outliers in the calls with users going above 1000 minutes but nothing to worry about herefor ultimate users as they are part of their plans. Surf users who went above might want to switch over to ultimate."
   ]
  },
  {
   "cell_type": "markdown",
   "metadata": {},
   "source": [
    " "
   ]
  },
  {
   "cell_type": "markdown",
   "metadata": {},
   "source": [
    "### Messages"
   ]
  },
  {
   "cell_type": "code",
   "execution_count": 61,
   "metadata": {},
   "outputs": [
    {
     "name": "stdout",
     "output_type": "stream",
     "text": [
      "        plan  month  msgs_sent\n",
      "0       surf      1  10.500000\n",
      "1       surf      2  12.000000\n",
      "2       surf      3  15.260870\n",
      "3       surf      4  17.400000\n",
      "4       surf      5  24.012987\n",
      "5       surf      6  25.298969\n",
      "6       surf      7  27.033058\n",
      "7       surf      8  28.777778\n",
      "8       surf      9  30.762887\n",
      "9       surf     10  33.839662\n",
      "10      surf     11  32.385159\n",
      "11      surf     12  38.600629\n",
      "12  ultimate      1  15.500000\n",
      "13  ultimate      2  21.571429\n",
      "14  ultimate      3  20.250000\n",
      "15  ultimate      4  22.047619\n",
      "16  ultimate      5  32.103448\n",
      "17  ultimate      6  29.340426\n",
      "18  ultimate      7  32.830508\n",
      "19  ultimate      8  38.478873\n",
      "20  ultimate      9  37.895349\n",
      "21  ultimate     10  39.443396\n",
      "22  ultimate     11  38.606299\n",
      "23  ultimate     12  45.006623\n"
     ]
    }
   ],
   "source": [
    "# Compare the number of messages users of each plan tend to send each month\n",
    "\n",
    "msgs_per_month = df.pivot_table(index=['plan', 'month'], values='msgs_sent', aggfunc='mean').reset_index()\n",
    "print(msgs_per_month)"
   ]
  },
  {
   "cell_type": "code",
   "execution_count": 62,
   "metadata": {},
   "outputs": [
    {
     "data": {
      "image/png": "[encoded data removed]",
      "text/plain": [
       "<Figure size 432x288 with 1 Axes>"
      ]
     },
     "metadata": {
      "needs_background": "light"
     },
     "output_type": "display_data"
    }
   ],
   "source": [
    "ax = plt.subplots()\n",
    "\n",
    "ax= sns.barplot(\n",
    "    x=msgs_per_month.loc[0:11,'month'],\n",
    "    y=msgs_per_month.loc[0:11, 'msgs_sent'],\n",
    "    color='yellow',\n",
    "    alpha=0.5,\n",
    "    label='surf'\n",
    ")\n",
    "\n",
    "ax= sns.barplot(\n",
    "    x=msgs_per_month.loc[12:23,'month'],\n",
    "    y=msgs_per_month.loc[12:23, 'msgs_sent'],\n",
    "    color ='pink',\n",
    "    alpha = 0.5,\n",
    "    label='ultimate'\n",
    ")\n",
    "\n",
    "ax.set_ylabel('Messages Sent')\n",
    "ax.set_title('Monthly messages per plan')\n",
    "ax.legend()\n",
    "\n",
    "plt.show()"
   ]
  },
  {
   "cell_type": "code",
   "execution_count": 63,
   "metadata": {},
   "outputs": [
    {
     "data": {
      "image/png": "[encoded data removed]",
      "text/plain": [
       "<Figure size 432x288 with 1 Axes>"
      ]
     },
     "metadata": {
      "needs_background": "light"
     },
     "output_type": "display_data"
    },
    {
     "data": {
      "image/png": "[encoded data removed]",
      "text/plain": [
       "<Figure size 432x288 with 1 Axes>"
      ]
     },
     "metadata": {
      "needs_background": "light"
     },
     "output_type": "display_data"
    }
   ],
   "source": [
    "surf_msgs =df[df['plan']=='surf']\n",
    "\n",
    "surf_msgs.hist('msgs_sent', bins=30,)\n",
    "plt.xlabel('sent messages')\n",
    "plt.title('surf Messages')\n",
    "plt.show()\n",
    "\n",
    "ultimate_msgs =df[df['plan']=='ultimate']\n",
    "\n",
    "ultimate_msgs.hist('msgs_sent', bins=30,)\n",
    "plt.xlabel('sent messages')\n",
    "plt.title('ultimate Messages')\n",
    "plt.show()"
   ]
  },
  {
   "cell_type": "code",
   "execution_count": 64,
   "metadata": {},
   "outputs": [
    {
     "data": {
      "text/plain": [
       "month\n",
       "1     10.500000\n",
       "2     12.000000\n",
       "3     15.260870\n",
       "4     17.400000\n",
       "5     24.012987\n",
       "6     25.298969\n",
       "7     27.033058\n",
       "8     28.777778\n",
       "9     30.762887\n",
       "10    33.839662\n",
       "11    32.385159\n",
       "12    38.600629\n",
       "Name: msgs_sent, dtype: float64"
      ]
     },
     "execution_count": 64,
     "metadata": {},
     "output_type": "execute_result"
    }
   ],
   "source": [
    "surf_msgs.groupby('month')['msgs_sent'].mean()"
   ]
  },
  {
   "cell_type": "code",
   "execution_count": 65,
   "metadata": {},
   "outputs": [
    {
     "data": {
      "text/plain": [
       "month\n",
       "1      220.500000\n",
       "2      386.000000\n",
       "3      346.565217\n",
       "4      501.591837\n",
       "5      847.197198\n",
       "6      914.920103\n",
       "7      923.915565\n",
       "8     1029.515528\n",
       "9     1003.829496\n",
       "10    1275.465708\n",
       "11    1065.344034\n",
       "12    1458.158612\n",
       "Name: msgs_sent, dtype: float64"
      ]
     },
     "execution_count": 65,
     "metadata": {},
     "output_type": "execute_result"
    }
   ],
   "source": [
    "surf_msgs.groupby('month')['msgs_sent'].var()"
   ]
  },
  {
   "cell_type": "code",
   "execution_count": 66,
   "metadata": {},
   "outputs": [
    {
     "data": {
      "text/plain": [
       "month\n",
       "1     15.500000\n",
       "2     21.571429\n",
       "3     20.250000\n",
       "4     22.047619\n",
       "5     32.103448\n",
       "6     29.340426\n",
       "7     32.830508\n",
       "8     38.478873\n",
       "9     37.895349\n",
       "10    39.443396\n",
       "11    38.606299\n",
       "12    45.006623\n",
       "Name: msgs_sent, dtype: float64"
      ]
     },
     "execution_count": 66,
     "metadata": {},
     "output_type": "execute_result"
    }
   ],
   "source": [
    "ultimate_msgs.groupby('month')['msgs_sent'].mean()"
   ]
  },
  {
   "cell_type": "code",
   "execution_count": 67,
   "metadata": {},
   "outputs": [
    {
     "data": {
      "text/plain": [
       "month\n",
       "1      313.666667\n",
       "2      478.285714\n",
       "3      654.386364\n",
       "4      544.147619\n",
       "5     1297.310345\n",
       "6      857.620722\n",
       "7      960.488019\n",
       "8     1196.367404\n",
       "9     1050.918331\n",
       "10    1221.106289\n",
       "11    1232.669166\n",
       "12    1549.419956\n",
       "Name: msgs_sent, dtype: float64"
      ]
     },
     "execution_count": 67,
     "metadata": {},
     "output_type": "execute_result"
    }
   ],
   "source": [
    "ultimate_msgs.groupby('month')['msgs_sent'].var()"
   ]
  },
  {
   "cell_type": "code",
   "execution_count": 68,
   "metadata": {},
   "outputs": [
    {
     "data": {
      "image/png": "[encoded data removed]",
      "text/plain": [
       "<Figure size 432x288 with 1 Axes>"
      ]
     },
     "metadata": {
      "needs_background": "light"
     },
     "output_type": "display_data"
    }
   ],
   "source": [
    "df.query('plan == \"surf\"').boxplot(by='month', column='msgs_sent');"
   ]
  },
  {
   "cell_type": "code",
   "execution_count": 69,
   "metadata": {},
   "outputs": [
    {
     "data": {
      "image/png": "[encoded data removed]",
      "text/plain": [
       "<Figure size 432x288 with 1 Axes>"
      ]
     },
     "metadata": {
      "needs_background": "light"
     },
     "output_type": "display_data"
    }
   ],
   "source": [
    "df.query('plan == \"ultimate\"').boxplot(by='month', column='msgs_sent');"
   ]
  },
  {
   "cell_type": "markdown",
   "metadata": {},
   "source": [
    "The barplot above shows that ultimate texted more than surf users for each month. Both histograms are skewed-right. Histograms shows that there was above 500 surf users who did not send any messages. Surf plans allows them 50 messages per month, very few went above that. Ultimate had 175 users who did not send any messages and very few who went past 150 messages. Surprising as they have 1000 limit per month. Is that too much? Just as calls, they averaged very similar and can't say they have different behaviors."
   ]
  },
  {
   "cell_type": "markdown",
   "metadata": {},
   "source": [
    " "
   ]
  },
  {
   "cell_type": "markdown",
   "metadata": {},
   "source": [
    "### Internet"
   ]
  },
  {
   "cell_type": "code",
   "execution_count": 70,
   "metadata": {},
   "outputs": [
    {
     "name": "stdout",
     "output_type": "stream",
     "text": [
      "        plan  month    gb_used\n",
      "0       surf      1   5.000000\n",
      "1       surf      2  12.222222\n",
      "2       surf      3  13.565217\n",
      "3       surf      4  12.220000\n",
      "4       surf      5  14.116883\n",
      "5       surf      6  15.484536\n",
      "6       surf      7  16.876033\n",
      "7       surf      8  16.882716\n",
      "8       surf      9  16.690722\n",
      "9       surf     10  17.409283\n",
      "10      surf     11  16.431095\n",
      "11      surf     12  18.238994\n",
      "12  ultimate      1   7.250000\n",
      "13  ultimate      2  17.285714\n",
      "14  ultimate      3  18.416667\n",
      "15  ultimate      4  16.333333\n",
      "16  ultimate      5  16.862069\n",
      "17  ultimate      6  15.425532\n",
      "18  ultimate      7  16.491525\n",
      "19  ultimate      8  17.845070\n",
      "20  ultimate      9  17.011628\n",
      "21  ultimate     10  17.716981\n",
      "22  ultimate     11  17.118110\n",
      "23  ultimate     12  18.397351\n"
     ]
    }
   ],
   "source": [
    "# Compare the amount of internet traffic consumed by users per plan\n",
    "\n",
    "traffic_by_plan = df.pivot_table(index=['plan', 'month'], values='gb_used', aggfunc='mean').reset_index()\n",
    "print(traffic_by_plan)"
   ]
  },
  {
   "cell_type": "code",
   "execution_count": 71,
   "metadata": {},
   "outputs": [
    {
     "data": {
      "image/png": "[encoded data removed]",
      "text/plain": [
       "<Figure size 432x288 with 1 Axes>"
      ]
     },
     "metadata": {
      "needs_background": "light"
     },
     "output_type": "display_data"
    }
   ],
   "source": [
    "ax = plt.subplots()\n",
    "\n",
    "ax= sns.barplot(\n",
    "    x=traffic_by_plan.loc[0:11,'month'],\n",
    "    y=traffic_by_plan.loc[0:11, 'gb_used'],\n",
    "    color='yellow',\n",
    "    alpha=0.5,\n",
    "    label='surf'\n",
    ")\n",
    "\n",
    "ax= sns.barplot(\n",
    "    x=traffic_by_plan.loc[12:23,'month'],\n",
    "    y=traffic_by_plan.loc[12:23, 'gb_used'],\n",
    "    color ='pink',\n",
    "    alpha = 0.5,\n",
    "    label='ultimate'\n",
    ")\n",
    "\n",
    "ax.set_ylabel('Internet Traffic')\n",
    "ax.set_title('Traffic used by consumers')\n",
    "ax.legend()\n",
    "\n",
    "plt.show()"
   ]
  },
  {
   "cell_type": "code",
   "execution_count": 72,
   "metadata": {},
   "outputs": [
    {
     "data": {
      "image/png": "[encoded data removed]",
      "text/plain": [
       "<Figure size 432x288 with 1 Axes>"
      ]
     },
     "metadata": {
      "needs_background": "light"
     },
     "output_type": "display_data"
    },
    {
     "data": {
      "image/png": "[encoded data removed]",
      "text/plain": [
       "<Figure size 432x288 with 1 Axes>"
      ]
     },
     "metadata": {
      "needs_background": "light"
     },
     "output_type": "display_data"
    }
   ],
   "source": [
    "surf_internet =df[df['plan']=='surf']\n",
    "\n",
    "surf_internet.hist('gb_used', bins=30,)\n",
    "plt.xlabel('gb used')\n",
    "plt.title('Traffic by surf consumers')\n",
    "plt.show()\n",
    "\n",
    "ultimate_internet =df[df['plan']=='ultimate']\n",
    "\n",
    "ultimate_internet.hist('gb_used', bins=30,)\n",
    "plt.xlabel('gb used')\n",
    "plt.title('Traffic by ultimate consumers')\n",
    "plt.show()"
   ]
  },
  {
   "cell_type": "code",
   "execution_count": 73,
   "metadata": {},
   "outputs": [
    {
     "data": {
      "text/plain": [
       "month\n",
       "1      5.000000\n",
       "2     12.222222\n",
       "3     13.565217\n",
       "4     12.220000\n",
       "5     14.116883\n",
       "6     15.484536\n",
       "7     16.876033\n",
       "8     16.882716\n",
       "9     16.690722\n",
       "10    17.409283\n",
       "11    16.431095\n",
       "12    18.238994\n",
       "Name: gb_used, dtype: float64"
      ]
     },
     "execution_count": 73,
     "metadata": {},
     "output_type": "execute_result"
    }
   ],
   "source": [
    "surf_internet.groupby('month')['gb_used'].mean()"
   ]
  },
  {
   "cell_type": "code",
   "execution_count": 74,
   "metadata": {},
   "outputs": [
    {
     "data": {
      "text/plain": [
       "month\n",
       "1     18.000000\n",
       "2     41.444444\n",
       "3     63.984190\n",
       "4     56.215918\n",
       "5     58.183527\n",
       "6     47.752363\n",
       "7     61.476171\n",
       "8     71.420942\n",
       "9     49.240639\n",
       "10    60.725846\n",
       "11    54.607824\n",
       "12    69.210841\n",
       "Name: gb_used, dtype: float64"
      ]
     },
     "execution_count": 74,
     "metadata": {},
     "output_type": "execute_result"
    }
   ],
   "source": [
    "surf_internet.groupby('month')['gb_used'].var()"
   ]
  },
  {
   "cell_type": "code",
   "execution_count": 75,
   "metadata": {},
   "outputs": [
    {
     "data": {
      "text/plain": [
       "month\n",
       "1      7.250000\n",
       "2     17.285714\n",
       "3     18.416667\n",
       "4     16.333333\n",
       "5     16.862069\n",
       "6     15.425532\n",
       "7     16.491525\n",
       "8     17.845070\n",
       "9     17.011628\n",
       "10    17.716981\n",
       "11    17.118110\n",
       "12    18.397351\n",
       "Name: gb_used, dtype: float64"
      ]
     },
     "execution_count": 75,
     "metadata": {},
     "output_type": "execute_result"
    }
   ],
   "source": [
    "ultimate_internet.groupby('month')['gb_used'].mean()"
   ]
  },
  {
   "cell_type": "code",
   "execution_count": 76,
   "metadata": {},
   "outputs": [
    {
     "data": {
      "text/plain": [
       "month\n",
       "1      14.916667\n",
       "2      37.904762\n",
       "3     138.628788\n",
       "4      85.833333\n",
       "5      54.194581\n",
       "6      68.858464\n",
       "7      64.254237\n",
       "8      58.047082\n",
       "9      47.258687\n",
       "10     54.604852\n",
       "11     54.390701\n",
       "12     58.841060\n",
       "Name: gb_used, dtype: float64"
      ]
     },
     "execution_count": 76,
     "metadata": {},
     "output_type": "execute_result"
    }
   ],
   "source": [
    "ultimate_internet.groupby('month')['gb_used'].var()"
   ]
  },
  {
   "cell_type": "code",
   "execution_count": 77,
   "metadata": {},
   "outputs": [
    {
     "data": {
      "image/png": "[encoded data removed]",
      "text/plain": [
       "<Figure size 432x288 with 1 Axes>"
      ]
     },
     "metadata": {
      "needs_background": "light"
     },
     "output_type": "display_data"
    }
   ],
   "source": [
    "df.query('plan == \"surf\"').boxplot(by='month', column='gb_used');"
   ]
  },
  {
   "cell_type": "code",
   "execution_count": 78,
   "metadata": {},
   "outputs": [
    {
     "data": {
      "image/png": "[encoded data removed]",
      "text/plain": [
       "<Figure size 432x288 with 1 Axes>"
      ]
     },
     "metadata": {
      "needs_background": "light"
     },
     "output_type": "display_data"
    }
   ],
   "source": [
    "df.query('plan == \"ultimate\"').boxplot(by='month', column='gb_used');"
   ]
  },
  {
   "cell_type": "markdown",
   "metadata": {},
   "source": [
    "As the barplot, histograms and boxplot above shows, ultimate had a higher use of data for the first 5 months of the year and had similar numbers for the rest of the year with surf users.Again surf users may want to switch over!!The only difference in behavior between the users of both plans is that surf users use up more of their data but that is because the plan only allows 15gb per month."
   ]
  },
  {
   "cell_type": "markdown",
   "metadata": {},
   "source": [
    " "
   ]
  },
  {
   "cell_type": "markdown",
   "metadata": {},
   "source": [
    "## Revenue"
   ]
  },
  {
   "cell_type": "code",
   "execution_count": 79,
   "metadata": {},
   "outputs": [
    {
     "name": "stdout",
     "output_type": "stream",
     "text": [
      "        plan  month    revenue\n",
      "0       surf      1  20.000000\n",
      "1       surf      2  34.396667\n",
      "2       surf      3  45.941304\n",
      "3       surf      4  40.710600\n",
      "4       surf      5  47.628182\n",
      "5       surf      6  49.276289\n",
      "6       surf      7  62.674050\n",
      "7       surf      8  63.931173\n",
      "8       surf      9  58.271495\n",
      "9       surf     10  65.421224\n",
      "10      surf     11  58.004276\n",
      "11      surf     12  70.557044\n",
      "12  ultimate      1  70.000000\n",
      "13  ultimate      2  70.000000\n",
      "14  ultimate      3  74.666667\n",
      "15  ultimate      4  73.000000\n",
      "16  ultimate      5  70.724138\n",
      "17  ultimate      6  71.638298\n",
      "18  ultimate      7  71.898305\n",
      "19  ultimate      8  72.859155\n",
      "20  ultimate      9  72.034884\n",
      "21  ultimate     10  72.311321\n",
      "22  ultimate     11  71.708661\n",
      "23  ultimate     12  73.291391\n"
     ]
    }
   ],
   "source": [
    "rev_per_plan = df.pivot_table(index=['plan', 'month'], values = 'revenue', aggfunc='mean').reset_index()\n",
    "print(rev_per_plan)"
   ]
  },
  {
   "cell_type": "code",
   "execution_count": 80,
   "metadata": {},
   "outputs": [
    {
     "data": {
      "image/png": "[encoded data removed]",
      "text/plain": [
       "<Figure size 432x288 with 1 Axes>"
      ]
     },
     "metadata": {
      "needs_background": "light"
     },
     "output_type": "display_data"
    }
   ],
   "source": [
    "ax = plt.subplots()\n",
    "\n",
    "ax= sns.barplot(\n",
    "    x=rev_per_plan.loc[0:11,'month'],\n",
    "    y=rev_per_plan.loc[0:11, 'revenue'],\n",
    "    color='yellow',\n",
    "    alpha=0.5,\n",
    "    label='surf'\n",
    ")\n",
    "\n",
    "ax= sns.barplot(\n",
    "    x=rev_per_plan.loc[12:23,'month'],\n",
    "    y=rev_per_plan.loc[12:23, 'revenue'],\n",
    "    color ='pink',\n",
    "    alpha = 0.5,\n",
    "    label='ultimate'\n",
    ")\n",
    "\n",
    "ax.set_ylabel('Monthly Revenue')\n",
    "ax.set_title('Monthly Revenue per Plan')\n",
    "ax.legend()\n",
    "\n",
    "plt.show()"
   ]
  },
  {
   "cell_type": "code",
   "execution_count": 81,
   "metadata": {},
   "outputs": [
    {
     "data": {
      "image/png": "[encoded data removed]",
      "text/plain": [
       "<Figure size 432x288 with 1 Axes>"
      ]
     },
     "metadata": {
      "needs_background": "light"
     },
     "output_type": "display_data"
    },
    {
     "data": {
      "image/png": "[encoded data removed]",
      "text/plain": [
       "<Figure size 432x288 with 1 Axes>"
      ]
     },
     "metadata": {
      "needs_background": "light"
     },
     "output_type": "display_data"
    }
   ],
   "source": [
    "surf_rev =df[df['plan']=='surf']\n",
    "\n",
    "surf_rev.hist('revenue', bins=30,)\n",
    "plt.xlabel('Monthly Revenue')\n",
    "plt.title('Surf Revenue')\n",
    "plt.show()\n",
    "\n",
    "ultimate_rev =df[df['plan']=='ultimate']\n",
    "\n",
    "ultimate_rev.hist('revenue', bins=30,)\n",
    "plt.xlabel('Monthly Revenue')\n",
    "plt.title('Ultimate Revenue')\n",
    "plt.show()"
   ]
  },
  {
   "cell_type": "code",
   "execution_count": 82,
   "metadata": {},
   "outputs": [
    {
     "data": {
      "text/plain": [
       "month\n",
       "1     70.000000\n",
       "2     70.000000\n",
       "3     74.666667\n",
       "4     73.000000\n",
       "5     70.724138\n",
       "6     71.638298\n",
       "7     71.898305\n",
       "8     72.859155\n",
       "9     72.034884\n",
       "10    72.311321\n",
       "11    71.708661\n",
       "12    73.291391\n",
       "Name: revenue, dtype: float64"
      ]
     },
     "execution_count": 82,
     "metadata": {},
     "output_type": "execute_result"
    }
   ],
   "source": [
    "ultimate_rev.groupby('month')['revenue'].mean()"
   ]
  },
  {
   "cell_type": "code",
   "execution_count": 83,
   "metadata": {},
   "outputs": [
    {
     "data": {
      "text/plain": [
       "month\n",
       "1     20.000000\n",
       "2     34.396667\n",
       "3     45.941304\n",
       "4     40.710600\n",
       "5     47.628182\n",
       "6     49.276289\n",
       "7     62.674050\n",
       "8     63.931173\n",
       "9     58.271495\n",
       "10    65.421224\n",
       "11    58.004276\n",
       "12    70.557044\n",
       "Name: revenue, dtype: float64"
      ]
     },
     "execution_count": 83,
     "metadata": {},
     "output_type": "execute_result"
    }
   ],
   "source": [
    "surf_rev.groupby('month')['revenue'].mean()"
   ]
  },
  {
   "cell_type": "code",
   "execution_count": 84,
   "metadata": {},
   "outputs": [
    {
     "data": {
      "image/png": "[encoded data removed]",
      "text/plain": [
       "<Figure size 432x288 with 1 Axes>"
      ]
     },
     "metadata": {
      "needs_background": "light"
     },
     "output_type": "display_data"
    }
   ],
   "source": [
    "df.query('plan == \"surf\"').boxplot(by='month', column='revenue');"
   ]
  },
  {
   "cell_type": "code",
   "execution_count": 85,
   "metadata": {},
   "outputs": [
    {
     "data": {
      "image/png": "[encoded data removed]",
      "text/plain": [
       "<Figure size 432x288 with 1 Axes>"
      ]
     },
     "metadata": {
      "needs_background": "light"
     },
     "output_type": "display_data"
    }
   ],
   "source": [
    "df.query('plan == \"ultimate\"').boxplot(by='month', column='revenue');"
   ]
  },
  {
   "cell_type": "markdown",
   "metadata": {},
   "source": [
    "As far as revenue goes, ultimate plans sits at a stable 70 per month. Users of the surf plan are paying 20 a month but it since they up going above the plan limits they end up paying more each month."
   ]
  },
  {
   "cell_type": "markdown",
   "metadata": {},
   "source": [
    " "
   ]
  },
  {
   "cell_type": "markdown",
   "metadata": {},
   "source": [
    "## Test statistical hypotheses"
   ]
  },
  {
   "cell_type": "code",
   "execution_count": 86,
   "metadata": {},
   "outputs": [
    {
     "name": "stdout",
     "output_type": "stream",
     "text": [
      "p-value:  2.862674510698644e-08\n",
      "We reject the null hypothesis\n"
     ]
    }
   ],
   "source": [
    "# Test the hypotheses\n",
    "alpha = 0.05\n",
    "\n",
    "results = st.ttest_ind(surf_rev['revenue'], ultimate_rev['revenue'])\n",
    "\n",
    "print('p-value: ', results.pvalue)\n",
    "\n",
    "if results.pvalue < alpha:\n",
    "    print(\"We reject the null hypothesis\")\n",
    "else:\n",
    "    print(\"We can't reject the null hypothesis\") "
   ]
  },
  {
   "cell_type": "markdown",
   "metadata": {},
   "source": [
    "[Test the hypothesis that the average revenue from users in the NY-NJ area is different from that of the users from the other regions.]"
   ]
  },
  {
   "cell_type": "code",
   "execution_count": 87,
   "metadata": {},
   "outputs": [
    {
     "data": {
      "text/plain": [
       "array(['Atlanta-Sandy Springs-Roswell, GA MSA',\n",
       "       'Seattle-Tacoma-Bellevue, WA MSA',\n",
       "       'Las Vegas-Henderson-Paradise, NV MSA', 'Tulsa, OK MSA',\n",
       "       'Dallas-Fort Worth-Arlington, TX MSA',\n",
       "       'San Francisco-Oakland-Berkeley, CA MSA',\n",
       "       'Grand Rapids-Kentwood, MI MSA',\n",
       "       'Orlando-Kissimmee-Sanford, FL MSA',\n",
       "       'San Jose-Sunnyvale-Santa Clara, CA MSA',\n",
       "       'Cleveland-Elyria, OH MSA',\n",
       "       'Chicago-Naperville-Elgin, IL-IN-WI MSA', 'Knoxville, TN MSA',\n",
       "       'New York-Newark-Jersey City, NY-NJ-PA MSA', 'Pittsburgh, PA MSA',\n",
       "       'Fresno, CA MSA',\n",
       "       'Washington-Arlington-Alexandria, DC-VA-MD-WV MSA',\n",
       "       'Indianapolis-Carmel-Anderson, IN MSA', 'Jacksonville, FL MSA',\n",
       "       'Los Angeles-Long Beach-Anaheim, CA MSA',\n",
       "       'Omaha-Council Bluffs, NE-IA MSA',\n",
       "       'Houston-The Woodlands-Sugar Land, TX MSA',\n",
       "       'Philadelphia-Camden-Wilmington, PA-NJ-DE-MD MSA',\n",
       "       'Tampa-St. Petersburg-Clearwater, FL MSA',\n",
       "       'Birmingham-Hoover, AL MSA', 'Oklahoma City, OK MSA',\n",
       "       'Charlotte-Concord-Gastonia, NC-SC MSA',\n",
       "       'Denver-Aurora-Lakewood, CO MSA',\n",
       "       'Nashville-Davidson–Murfreesboro–Franklin, TN MSA',\n",
       "       'Columbus, OH MSA', 'Albuquerque, NM MSA',\n",
       "       'Boston-Cambridge-Newton, MA-NH MSA',\n",
       "       'Miami-Fort Lauderdale-West Palm Beach, FL MSA',\n",
       "       'San Diego-Chula Vista-Carlsbad, CA MSA',\n",
       "       'Phoenix-Mesa-Chandler, AZ MSA',\n",
       "       'Portland-Vancouver-Hillsboro, OR-WA MSA',\n",
       "       'Cincinnati, OH-KY-IN MSA', 'Columbia, SC MSA',\n",
       "       'San Antonio-New Braunfels, TX MSA', 'Buffalo-Cheektowaga, NY MSA',\n",
       "       'Memphis, TN-MS-AR MSA',\n",
       "       'Riverside-San Bernardino-Ontario, CA MSA',\n",
       "       'Louisville/Jefferson County, KY-IN MSA',\n",
       "       'Albany-Schenectady-Troy, NY MSA', 'Providence-Warwick, RI-MA MSA',\n",
       "       'Urban Honolulu, HI MSA', 'El Paso, TX MSA',\n",
       "       'New Haven-Milford, CT MSA',\n",
       "       'North Port-Sarasota-Bradenton, FL MSA',\n",
       "       'New Orleans-Metairie, LA MSA',\n",
       "       'Bridgeport-Stamford-Norwalk, CT MSA',\n",
       "       'Virginia Beach-Norfolk-Newport News, VA-NC MSA',\n",
       "       'Baltimore-Columbia-Towson, MD MSA', 'Milwaukee-Waukesha, WI MSA',\n",
       "       'Oxnard-Thousand Oaks-Ventura, CA MSA',\n",
       "       'Sacramento–Roseville–Folsom, CA MSA',\n",
       "       'Austin-Round Rock-Georgetown, TX MSA', 'Richmond, VA MSA',\n",
       "       'St. Louis, MO-IL MSA',\n",
       "       'Minneapolis-St. Paul-Bloomington, MN-WI MSA',\n",
       "       'Dayton-Kettering, OH MSA', 'Bakersfield, CA MSA',\n",
       "       'Detroit-Warren-Dearborn, MI MSA', 'Baton Rouge, LA MSA',\n",
       "       'Kansas City, MO-KS MSA', 'Charleston-North Charleston, SC MSA',\n",
       "       'Rochester, NY MSA', 'Raleigh-Cary, NC MSA',\n",
       "       'Greensboro-High Point, NC MSA', 'Tucson, AZ MSA',\n",
       "       'Colorado Springs, CO MSA', 'Stockton, CA MSA',\n",
       "       'Salt Lake City, UT MSA', 'Cape Coral-Fort Myers, FL MSA'],\n",
       "      dtype=object)"
      ]
     },
     "execution_count": 87,
     "metadata": {},
     "output_type": "execute_result"
    }
   ],
   "source": [
    "df['city'].unique()"
   ]
  },
  {
   "cell_type": "code",
   "execution_count": 88,
   "metadata": {},
   "outputs": [
    {
     "name": "stdout",
     "output_type": "stream",
     "text": [
      "p-value:  0.0435574316213424\n",
      "We reject the null hypothesis\n"
     ]
    }
   ],
   "source": [
    "# Test the hypotheses\n",
    "ny_nj =df.query('city ==\"New York-Newark-Jersey City, NY-NJ-PA MSA\"')['revenue']\n",
    "other_cities = df.query('city !=\"New York-Newark-Jersey City, NY-NJ-PA MSA\"')['revenue']\n",
    "\n",
    "alpha= 0.05\n",
    "\n",
    "results = st.ttest_ind(ny_nj, other_cities)\n",
    "\n",
    "print('p-value: ', results.pvalue)\n",
    "\n",
    "if results.pvalue < alpha:\n",
    "    print(\"We reject the null hypothesis\")\n",
    "else:\n",
    "    print(\"We can't reject the null hypothesis\") "
   ]
  },
  {
   "cell_type": "markdown",
   "metadata": {},
   "source": [
    "## General conclusion"
   ]
  },
  {
   "cell_type": "markdown",
   "metadata": {},
   "source": [
    "We merged and study the behavior of users of both plans based on calls, messages and internet. As stated previously, there were no major differences in their behavior other than the revenue the plans brought in. While there were more users on the surf plan, they did not bring in as much revenue as the ultimate plan even while execeding their plans data. It makes more sense for Megaline to continue advertising their ultimate plan. It would also benefit some surf users to switch over to the ultimate as some are paying well above the plans fee."
   ]
  }
 ],
 "metadata": {
  "ExecuteTimeLog": [
   {
    "duration": 828,
    "start_time": "2021-11-16T09:21:11.304Z"
   },
   {
    "duration": 893,
    "start_time": "2021-11-16T09:21:17.728Z"
   },
   {
    "duration": 1150,
    "start_time": "2021-11-16T09:21:29.568Z"
   },
   {
    "duration": 3,
    "start_time": "2021-11-16T09:24:14.495Z"
   },
   {
    "duration": 120,
    "start_time": "2021-11-16T09:24:46.630Z"
   },
   {
    "duration": 3,
    "start_time": "2021-11-16T09:28:27.882Z"
   },
   {
    "duration": 4,
    "start_time": "2021-11-16T09:29:54.281Z"
   },
   {
    "duration": 3,
    "start_time": "2021-11-16T09:30:45.936Z"
   },
   {
    "duration": 4,
    "start_time": "2021-11-16T09:31:06.300Z"
   },
   {
    "duration": 113,
    "start_time": "2021-11-16T09:31:37.208Z"
   },
   {
    "duration": 143,
    "start_time": "2021-11-16T09:31:48.656Z"
   },
   {
    "duration": 98,
    "start_time": "2021-11-16T09:31:55.678Z"
   },
   {
    "duration": 3,
    "start_time": "2021-11-16T09:32:08.535Z"
   },
   {
    "duration": 111,
    "start_time": "2021-11-16T09:32:10.120Z"
   },
   {
    "duration": 3,
    "start_time": "2021-11-16T09:32:15.732Z"
   },
   {
    "duration": 4,
    "start_time": "2021-11-16T09:32:29.423Z"
   },
   {
    "duration": 3,
    "start_time": "2021-11-16T10:03:03.074Z"
   },
   {
    "duration": 3,
    "start_time": "2021-11-16T10:10:01.288Z"
   },
   {
    "duration": 3,
    "start_time": "2021-11-16T10:10:46.923Z"
   },
   {
    "duration": 121,
    "start_time": "2021-11-16T10:37:46.494Z"
   },
   {
    "duration": 125,
    "start_time": "2021-11-16T10:38:20.632Z"
   },
   {
    "duration": 112,
    "start_time": "2021-11-16T10:46:53.001Z"
   },
   {
    "duration": 110,
    "start_time": "2021-11-16T10:48:25.775Z"
   },
   {
    "duration": 3,
    "start_time": "2021-11-16T10:50:18.720Z"
   },
   {
    "duration": 4,
    "start_time": "2021-11-16T10:50:37.649Z"
   },
   {
    "duration": 2,
    "start_time": "2021-11-16T10:50:51.884Z"
   },
   {
    "duration": 3,
    "start_time": "2021-11-16T10:51:56.237Z"
   },
   {
    "duration": 101,
    "start_time": "2021-11-16T10:53:13.791Z"
   },
   {
    "duration": 3,
    "start_time": "2021-11-16T10:55:59.186Z"
   },
   {
    "duration": 3,
    "start_time": "2021-11-16T10:56:10.751Z"
   },
   {
    "duration": 3,
    "start_time": "2021-11-16T10:56:49.038Z"
   },
   {
    "duration": 3,
    "start_time": "2021-11-16T10:56:49.174Z"
   },
   {
    "duration": 4,
    "start_time": "2021-11-16T10:56:49.414Z"
   },
   {
    "duration": 3,
    "start_time": "2021-11-16T10:56:49.680Z"
   },
   {
    "duration": 3,
    "start_time": "2021-11-16T10:56:50.370Z"
   },
   {
    "duration": 114,
    "start_time": "2021-11-16T10:59:34.518Z"
   },
   {
    "duration": 3,
    "start_time": "2021-11-16T11:01:41.201Z"
   },
   {
    "duration": 116,
    "start_time": "2021-11-16T11:01:48.754Z"
   },
   {
    "duration": 3,
    "start_time": "2021-11-16T11:02:16.685Z"
   },
   {
    "duration": 3,
    "start_time": "2021-11-16T11:02:19.479Z"
   },
   {
    "duration": 3,
    "start_time": "2021-11-16T11:02:47.067Z"
   },
   {
    "duration": 3,
    "start_time": "2021-11-16T11:02:49.353Z"
   },
   {
    "duration": 3,
    "start_time": "2021-11-16T11:03:07.835Z"
   },
   {
    "duration": 3,
    "start_time": "2021-11-16T11:03:07.953Z"
   },
   {
    "duration": 112,
    "start_time": "2021-11-16T11:07:52.072Z"
   },
   {
    "duration": 187,
    "start_time": "2021-11-16T11:09:23.468Z"
   },
   {
    "duration": 4,
    "start_time": "2021-11-16T11:10:01.455Z"
   },
   {
    "duration": 3,
    "start_time": "2021-11-16T11:10:05.069Z"
   },
   {
    "duration": 4,
    "start_time": "2021-11-16T11:10:13.376Z"
   },
   {
    "duration": 3,
    "start_time": "2021-11-16T11:10:14.434Z"
   },
   {
    "duration": 3,
    "start_time": "2021-11-16T11:10:22.853Z"
   },
   {
    "duration": 4,
    "start_time": "2021-11-16T11:27:29.279Z"
   },
   {
    "duration": 4,
    "start_time": "2021-11-16T11:29:08.919Z"
   },
   {
    "duration": 118,
    "start_time": "2021-11-16T11:29:46.703Z"
   },
   {
    "duration": 437,
    "start_time": "2021-11-16T11:36:02.181Z"
   },
   {
    "duration": 157,
    "start_time": "2021-11-16T11:36:14.388Z"
   },
   {
    "duration": 207,
    "start_time": "2021-11-16T11:47:15.898Z"
   },
   {
    "duration": 3,
    "start_time": "2021-11-16T11:53:52.092Z"
   },
   {
    "duration": 3,
    "start_time": "2021-11-16T11:53:52.236Z"
   },
   {
    "duration": 3,
    "start_time": "2021-11-16T11:59:12.005Z"
   },
   {
    "duration": 112,
    "start_time": "2021-11-16T12:00:33.446Z"
   },
   {
    "duration": 3,
    "start_time": "2021-11-16T12:02:14.453Z"
   },
   {
    "duration": 3,
    "start_time": "2021-11-16T12:02:39.512Z"
   },
   {
    "duration": 106,
    "start_time": "2021-11-16T12:03:03.460Z"
   },
   {
    "duration": 3,
    "start_time": "2021-11-17T20:37:21.139Z"
   },
   {
    "duration": 3,
    "start_time": "2021-11-17T20:37:22.229Z"
   },
   {
    "duration": 3,
    "start_time": "2021-11-17T20:38:38.806Z"
   },
   {
    "duration": 3,
    "start_time": "2021-11-17T20:38:41.958Z"
   },
   {
    "duration": 3,
    "start_time": "2021-11-17T20:43:46.551Z"
   },
   {
    "duration": 4,
    "start_time": "2021-11-17T20:58:21.835Z"
   },
   {
    "duration": 3,
    "start_time": "2021-11-17T20:59:21.872Z"
   },
   {
    "duration": 4,
    "start_time": "2021-11-17T20:59:45.352Z"
   },
   {
    "duration": 4,
    "start_time": "2021-11-17T20:59:49.646Z"
   },
   {
    "duration": 159,
    "start_time": "2021-11-17T21:02:26.949Z"
   },
   {
    "duration": 3,
    "start_time": "2021-11-17T21:03:53.461Z"
   },
   {
    "duration": 3,
    "start_time": "2021-11-17T21:03:53.694Z"
   },
   {
    "duration": 3,
    "start_time": "2021-11-17T21:05:28.145Z"
   },
   {
    "duration": 116,
    "start_time": "2021-11-17T21:05:57.787Z"
   },
   {
    "duration": 3,
    "start_time": "2021-11-17T21:06:37.993Z"
   },
   {
    "duration": 3,
    "start_time": "2021-11-17T21:06:38.261Z"
   },
   {
    "duration": 3,
    "start_time": "2021-11-17T21:11:54.358Z"
   },
   {
    "duration": 3,
    "start_time": "2021-11-17T21:12:43.846Z"
   },
   {
    "duration": 4,
    "start_time": "2021-11-17T21:13:08.773Z"
   },
   {
    "duration": 3,
    "start_time": "2021-11-17T21:14:44.441Z"
   },
   {
    "duration": 3,
    "start_time": "2021-11-17T21:15:42.059Z"
   },
   {
    "duration": 4,
    "start_time": "2021-11-17T21:15:51.995Z"
   },
   {
    "duration": 3,
    "start_time": "2021-11-17T21:15:53.923Z"
   },
   {
    "duration": 3,
    "start_time": "2021-11-17T21:15:55.282Z"
   },
   {
    "duration": 3,
    "start_time": "2021-11-17T21:16:28.492Z"
   },
   {
    "duration": 3,
    "start_time": "2021-11-17T21:16:32.603Z"
   },
   {
    "duration": 3,
    "start_time": "2021-11-17T21:17:06.941Z"
   },
   {
    "duration": 98,
    "start_time": "2021-11-17T21:18:05.733Z"
   },
   {
    "duration": 4,
    "start_time": "2021-11-17T21:21:35.255Z"
   },
   {
    "duration": 3,
    "start_time": "2021-11-17T21:21:37.804Z"
   },
   {
    "duration": 4,
    "start_time": "2021-11-17T21:23:06.071Z"
   },
   {
    "duration": 3,
    "start_time": "2021-11-17T21:23:24.799Z"
   },
   {
    "duration": 3,
    "start_time": "2021-11-17T21:23:32.591Z"
   },
   {
    "duration": 98,
    "start_time": "2021-11-17T21:28:31.559Z"
   },
   {
    "duration": 3,
    "start_time": "2021-11-17T21:28:45.448Z"
   },
   {
    "duration": 3,
    "start_time": "2021-11-17T21:29:17.303Z"
   },
   {
    "duration": 3,
    "start_time": "2021-11-17T21:29:29.617Z"
   },
   {
    "duration": 3,
    "start_time": "2021-11-17T21:29:32.681Z"
   },
   {
    "duration": 3,
    "start_time": "2021-11-17T21:36:11.474Z"
   },
   {
    "duration": 3,
    "start_time": "2021-11-17T21:36:14.791Z"
   },
   {
    "duration": 3,
    "start_time": "2021-11-17T21:36:53.943Z"
   },
   {
    "duration": 3,
    "start_time": "2021-11-17T21:36:56.165Z"
   },
   {
    "duration": 4,
    "start_time": "2021-11-17T21:37:16.590Z"
   },
   {
    "duration": 3,
    "start_time": "2021-11-17T21:37:22.702Z"
   },
   {
    "duration": 4,
    "start_time": "2021-11-17T21:38:03.479Z"
   },
   {
    "duration": 3,
    "start_time": "2021-11-17T21:38:08.601Z"
   },
   {
    "duration": 3,
    "start_time": "2021-11-17T21:38:12.928Z"
   },
   {
    "duration": 3,
    "start_time": "2021-11-17T21:38:48.896Z"
   },
   {
    "duration": 2,
    "start_time": "2021-11-17T21:38:49.171Z"
   },
   {
    "duration": 4,
    "start_time": "2021-11-17T21:39:57.889Z"
   },
   {
    "duration": 3,
    "start_time": "2021-11-17T21:39:58.057Z"
   },
   {
    "duration": 3,
    "start_time": "2021-11-17T21:41:20.108Z"
   },
   {
    "duration": 3,
    "start_time": "2021-11-17T21:41:20.629Z"
   },
   {
    "duration": 3,
    "start_time": "2021-11-17T21:42:49.136Z"
   },
   {
    "duration": 3,
    "start_time": "2021-11-17T21:43:15.137Z"
   },
   {
    "duration": 4,
    "start_time": "2021-11-17T21:43:16.766Z"
   },
   {
    "duration": 4,
    "start_time": "2021-11-17T21:43:31.711Z"
   },
   {
    "duration": 3,
    "start_time": "2021-11-17T21:43:36.312Z"
   },
   {
    "duration": 4,
    "start_time": "2021-11-17T21:45:08.825Z"
   },
   {
    "duration": 4,
    "start_time": "2021-11-17T21:45:10.119Z"
   },
   {
    "duration": 4,
    "start_time": "2021-11-17T21:45:13.748Z"
   },
   {
    "duration": 3,
    "start_time": "2021-11-17T21:45:22.219Z"
   },
   {
    "duration": 3,
    "start_time": "2021-11-17T21:45:33.412Z"
   },
   {
    "duration": 2,
    "start_time": "2021-11-17T21:46:01.885Z"
   },
   {
    "duration": 3,
    "start_time": "2021-11-17T21:46:03.628Z"
   },
   {
    "duration": 107,
    "start_time": "2021-11-17T21:47:32.512Z"
   },
   {
    "duration": 103,
    "start_time": "2021-11-17T21:50:36.243Z"
   },
   {
    "duration": 3,
    "start_time": "2021-11-18T06:28:31.440Z"
   },
   {
    "duration": 3,
    "start_time": "2021-11-18T06:29:00.168Z"
   },
   {
    "duration": 3,
    "start_time": "2021-11-18T06:31:27.008Z"
   },
   {
    "duration": 2,
    "start_time": "2021-11-18T06:35:34.288Z"
   },
   {
    "duration": 2,
    "start_time": "2021-11-18T06:38:04.527Z"
   },
   {
    "duration": 1329,
    "start_time": "2022-06-07T23:58:51.868Z"
   },
   {
    "duration": 938,
    "start_time": "2022-06-08T00:25:29.543Z"
   },
   {
    "duration": 18,
    "start_time": "2022-06-08T00:25:54.853Z"
   },
   {
    "duration": 25,
    "start_time": "2022-06-08T00:26:09.222Z"
   },
   {
    "duration": 10,
    "start_time": "2022-06-08T00:26:21.585Z"
   },
   {
    "duration": 9,
    "start_time": "2022-06-08T00:26:27.591Z"
   },
   {
    "duration": 1195,
    "start_time": "2022-06-08T16:52:36.154Z"
   },
   {
    "duration": 897,
    "start_time": "2022-06-08T16:52:37.351Z"
   },
   {
    "duration": 12,
    "start_time": "2022-06-08T16:52:38.250Z"
   },
   {
    "duration": 20,
    "start_time": "2022-06-08T16:52:38.264Z"
   },
   {
    "duration": 20,
    "start_time": "2022-06-08T16:52:38.287Z"
   },
   {
    "duration": 24,
    "start_time": "2022-06-08T16:52:38.311Z"
   },
   {
    "duration": 5,
    "start_time": "2022-06-08T16:52:38.336Z"
   },
   {
    "duration": 8,
    "start_time": "2022-06-08T16:52:38.342Z"
   },
   {
    "duration": 11,
    "start_time": "2022-06-08T16:52:38.351Z"
   },
   {
    "duration": 6,
    "start_time": "2022-06-08T16:52:38.365Z"
   },
   {
    "duration": 5,
    "start_time": "2022-06-08T16:52:38.372Z"
   },
   {
    "duration": 42,
    "start_time": "2022-06-08T16:52:38.379Z"
   },
   {
    "duration": 5,
    "start_time": "2022-06-08T16:52:38.423Z"
   },
   {
    "duration": 4,
    "start_time": "2022-06-08T16:52:38.430Z"
   },
   {
    "duration": 7,
    "start_time": "2022-06-08T16:52:38.435Z"
   },
   {
    "duration": 7,
    "start_time": "2022-06-08T16:52:38.444Z"
   },
   {
    "duration": 5,
    "start_time": "2022-06-08T16:52:38.452Z"
   },
   {
    "duration": 6,
    "start_time": "2022-06-08T16:52:38.459Z"
   },
   {
    "duration": 6,
    "start_time": "2022-06-08T16:52:38.467Z"
   },
   {
    "duration": 34,
    "start_time": "2022-06-08T16:52:38.474Z"
   },
   {
    "duration": 17,
    "start_time": "2022-06-08T16:52:38.509Z"
   },
   {
    "duration": 9,
    "start_time": "2022-06-08T16:52:38.527Z"
   },
   {
    "duration": 3,
    "start_time": "2022-06-08T16:52:38.539Z"
   },
   {
    "duration": 7,
    "start_time": "2022-06-08T16:52:38.543Z"
   },
   {
    "duration": 7,
    "start_time": "2022-06-08T16:52:38.551Z"
   },
   {
    "duration": 6,
    "start_time": "2022-06-08T16:52:38.559Z"
   },
   {
    "duration": 6,
    "start_time": "2022-06-08T16:52:38.566Z"
   },
   {
    "duration": 7,
    "start_time": "2022-06-08T16:52:38.574Z"
   },
   {
    "duration": 1216,
    "start_time": "2022-06-08T18:55:18.147Z"
   },
   {
    "duration": 745,
    "start_time": "2022-06-08T18:55:19.364Z"
   },
   {
    "duration": 12,
    "start_time": "2022-06-08T18:55:20.110Z"
   },
   {
    "duration": 16,
    "start_time": "2022-06-08T18:55:20.124Z"
   },
   {
    "duration": 2,
    "start_time": "2022-06-08T18:55:20.142Z"
   },
   {
    "duration": 5,
    "start_time": "2022-06-08T18:55:20.145Z"
   },
   {
    "duration": 6,
    "start_time": "2022-06-08T18:55:20.151Z"
   },
   {
    "duration": 5,
    "start_time": "2022-06-08T18:55:20.158Z"
   },
   {
    "duration": 4,
    "start_time": "2022-06-08T18:55:20.165Z"
   },
   {
    "duration": 5,
    "start_time": "2022-06-08T18:55:20.171Z"
   },
   {
    "duration": 4,
    "start_time": "2022-06-08T18:55:20.178Z"
   },
   {
    "duration": 5,
    "start_time": "2022-06-08T18:55:20.183Z"
   },
   {
    "duration": 6,
    "start_time": "2022-06-08T18:55:20.189Z"
   },
   {
    "duration": 5,
    "start_time": "2022-06-08T18:55:20.197Z"
   },
   {
    "duration": 4,
    "start_time": "2022-06-08T18:55:20.203Z"
   },
   {
    "duration": 5,
    "start_time": "2022-06-08T18:55:20.208Z"
   },
   {
    "duration": 7,
    "start_time": "2022-06-08T18:55:20.214Z"
   },
   {
    "duration": 5,
    "start_time": "2022-06-08T18:55:20.222Z"
   },
   {
    "duration": 8,
    "start_time": "2022-06-08T18:55:20.229Z"
   },
   {
    "duration": 15,
    "start_time": "2022-06-08T18:55:20.238Z"
   },
   {
    "duration": 5,
    "start_time": "2022-06-08T18:55:20.254Z"
   },
   {
    "duration": 4,
    "start_time": "2022-06-08T18:55:20.260Z"
   },
   {
    "duration": 4,
    "start_time": "2022-06-08T18:55:20.266Z"
   },
   {
    "duration": 5,
    "start_time": "2022-06-08T18:55:20.271Z"
   },
   {
    "duration": 7,
    "start_time": "2022-06-08T18:55:20.277Z"
   },
   {
    "duration": 4,
    "start_time": "2022-06-08T18:55:20.286Z"
   },
   {
    "duration": 7,
    "start_time": "2022-06-08T18:55:20.292Z"
   },
   {
    "duration": 8,
    "start_time": "2022-06-08T18:55:20.301Z"
   },
   {
    "duration": 1074,
    "start_time": "2022-06-08T19:02:49.791Z"
   },
   {
    "duration": 348,
    "start_time": "2022-06-08T19:02:50.867Z"
   },
   {
    "duration": 22,
    "start_time": "2022-06-08T19:02:51.216Z"
   },
   {
    "duration": 11,
    "start_time": "2022-06-08T19:02:51.239Z"
   },
   {
    "duration": 17,
    "start_time": "2022-06-08T19:02:51.251Z"
   },
   {
    "duration": 7,
    "start_time": "2022-06-08T19:02:51.269Z"
   },
   {
    "duration": 19,
    "start_time": "2022-06-08T19:02:51.277Z"
   },
   {
    "duration": 7,
    "start_time": "2022-06-08T19:02:51.297Z"
   },
   {
    "duration": 15,
    "start_time": "2022-06-08T19:02:51.306Z"
   },
   {
    "duration": 31,
    "start_time": "2022-06-08T19:02:51.323Z"
   },
   {
    "duration": 12,
    "start_time": "2022-06-08T19:02:51.356Z"
   },
   {
    "duration": 9,
    "start_time": "2022-06-08T19:02:51.370Z"
   },
   {
    "duration": 5,
    "start_time": "2022-06-08T19:02:51.381Z"
   },
   {
    "duration": 5,
    "start_time": "2022-06-08T19:02:51.387Z"
   },
   {
    "duration": 6,
    "start_time": "2022-06-08T19:02:51.393Z"
   },
   {
    "duration": 3,
    "start_time": "2022-06-08T19:02:51.401Z"
   },
   {
    "duration": 4,
    "start_time": "2022-06-08T19:02:51.406Z"
   },
   {
    "duration": 7,
    "start_time": "2022-06-08T19:02:51.411Z"
   },
   {
    "duration": 5,
    "start_time": "2022-06-08T19:02:51.419Z"
   },
   {
    "duration": 6,
    "start_time": "2022-06-08T19:02:51.425Z"
   },
   {
    "duration": 5,
    "start_time": "2022-06-08T19:02:51.432Z"
   },
   {
    "duration": 6,
    "start_time": "2022-06-08T19:02:51.439Z"
   },
   {
    "duration": 7,
    "start_time": "2022-06-08T19:02:51.453Z"
   },
   {
    "duration": 6,
    "start_time": "2022-06-08T19:02:51.461Z"
   },
   {
    "duration": 5,
    "start_time": "2022-06-08T19:02:51.468Z"
   },
   {
    "duration": 7,
    "start_time": "2022-06-08T19:02:51.475Z"
   },
   {
    "duration": 10,
    "start_time": "2022-06-08T19:02:51.483Z"
   },
   {
    "duration": 7,
    "start_time": "2022-06-08T19:02:51.495Z"
   },
   {
    "duration": 7,
    "start_time": "2022-06-08T19:02:51.503Z"
   },
   {
    "duration": 7,
    "start_time": "2022-06-08T19:02:51.511Z"
   },
   {
    "duration": 7,
    "start_time": "2022-06-08T19:02:51.520Z"
   },
   {
    "duration": 6,
    "start_time": "2022-06-08T19:02:51.528Z"
   },
   {
    "duration": 9,
    "start_time": "2022-06-08T19:02:51.535Z"
   },
   {
    "duration": 6,
    "start_time": "2022-06-08T19:02:51.545Z"
   },
   {
    "duration": 8,
    "start_time": "2022-06-08T19:02:51.552Z"
   },
   {
    "duration": 6,
    "start_time": "2022-06-08T19:02:51.561Z"
   },
   {
    "duration": 1263,
    "start_time": "2022-06-08T20:45:13.528Z"
   },
   {
    "duration": 691,
    "start_time": "2022-06-08T20:45:14.794Z"
   },
   {
    "duration": 27,
    "start_time": "2022-06-08T20:45:15.487Z"
   },
   {
    "duration": 11,
    "start_time": "2022-06-08T20:45:15.516Z"
   },
   {
    "duration": 15,
    "start_time": "2022-06-08T20:45:15.529Z"
   },
   {
    "duration": 8,
    "start_time": "2022-06-08T20:45:15.546Z"
   },
   {
    "duration": 14,
    "start_time": "2022-06-08T20:45:15.556Z"
   },
   {
    "duration": 7,
    "start_time": "2022-06-08T20:45:15.571Z"
   },
   {
    "duration": 10,
    "start_time": "2022-06-08T20:45:15.579Z"
   },
   {
    "duration": 36,
    "start_time": "2022-06-08T20:45:15.591Z"
   },
   {
    "duration": 12,
    "start_time": "2022-06-08T20:45:15.628Z"
   },
   {
    "duration": 9,
    "start_time": "2022-06-08T20:45:15.641Z"
   },
   {
    "duration": 5,
    "start_time": "2022-06-08T20:45:15.651Z"
   },
   {
    "duration": 6,
    "start_time": "2022-06-08T20:45:15.657Z"
   },
   {
    "duration": 5,
    "start_time": "2022-06-08T20:45:15.664Z"
   },
   {
    "duration": 5,
    "start_time": "2022-06-08T20:45:15.670Z"
   },
   {
    "duration": 4,
    "start_time": "2022-06-08T20:45:15.676Z"
   },
   {
    "duration": 5,
    "start_time": "2022-06-08T20:45:15.681Z"
   },
   {
    "duration": 5,
    "start_time": "2022-06-08T20:45:15.688Z"
   },
   {
    "duration": 5,
    "start_time": "2022-06-08T20:45:15.694Z"
   },
   {
    "duration": 4,
    "start_time": "2022-06-08T20:45:15.700Z"
   },
   {
    "duration": 2,
    "start_time": "2022-06-08T20:45:15.726Z"
   },
   {
    "duration": 6,
    "start_time": "2022-06-08T20:45:15.729Z"
   },
   {
    "duration": 4,
    "start_time": "2022-06-08T20:45:15.736Z"
   },
   {
    "duration": 4,
    "start_time": "2022-06-08T20:45:15.741Z"
   },
   {
    "duration": 6,
    "start_time": "2022-06-08T20:45:15.747Z"
   },
   {
    "duration": 4,
    "start_time": "2022-06-08T20:45:15.754Z"
   },
   {
    "duration": 5,
    "start_time": "2022-06-08T20:45:15.760Z"
   },
   {
    "duration": 5,
    "start_time": "2022-06-08T20:45:15.766Z"
   },
   {
    "duration": 5,
    "start_time": "2022-06-08T20:45:15.772Z"
   },
   {
    "duration": 7,
    "start_time": "2022-06-08T20:45:15.778Z"
   },
   {
    "duration": 4,
    "start_time": "2022-06-08T20:45:15.786Z"
   },
   {
    "duration": 4,
    "start_time": "2022-06-08T20:45:15.792Z"
   },
   {
    "duration": 4,
    "start_time": "2022-06-08T20:45:15.797Z"
   },
   {
    "duration": 21,
    "start_time": "2022-06-08T20:45:15.803Z"
   },
   {
    "duration": 2,
    "start_time": "2022-06-08T20:45:15.826Z"
   },
   {
    "duration": 9,
    "start_time": "2022-06-08T20:46:15.816Z"
   },
   {
    "duration": 1013,
    "start_time": "2022-06-08T20:48:14.376Z"
   },
   {
    "duration": 289,
    "start_time": "2022-06-08T20:48:15.391Z"
   },
   {
    "duration": 20,
    "start_time": "2022-06-08T20:48:15.681Z"
   },
   {
    "duration": 13,
    "start_time": "2022-06-08T20:48:15.703Z"
   },
   {
    "duration": 18,
    "start_time": "2022-06-08T20:48:15.717Z"
   },
   {
    "duration": 7,
    "start_time": "2022-06-08T20:48:15.737Z"
   },
   {
    "duration": 16,
    "start_time": "2022-06-08T20:48:15.746Z"
   },
   {
    "duration": 7,
    "start_time": "2022-06-08T20:48:15.764Z"
   },
   {
    "duration": 13,
    "start_time": "2022-06-08T20:48:15.773Z"
   },
   {
    "duration": 39,
    "start_time": "2022-06-08T20:48:15.790Z"
   },
   {
    "duration": 11,
    "start_time": "2022-06-08T20:48:15.831Z"
   },
   {
    "duration": 11,
    "start_time": "2022-06-08T20:48:15.844Z"
   },
   {
    "duration": 5,
    "start_time": "2022-06-08T20:48:15.856Z"
   },
   {
    "duration": 7,
    "start_time": "2022-06-08T20:48:15.862Z"
   },
   {
    "duration": 7,
    "start_time": "2022-06-08T20:48:15.871Z"
   },
   {
    "duration": 8,
    "start_time": "2022-06-08T20:48:15.880Z"
   },
   {
    "duration": 4,
    "start_time": "2022-06-08T20:48:15.890Z"
   },
   {
    "duration": 5,
    "start_time": "2022-06-08T20:48:15.895Z"
   },
   {
    "duration": 24,
    "start_time": "2022-06-08T20:48:15.901Z"
   },
   {
    "duration": 3,
    "start_time": "2022-06-08T20:48:15.927Z"
   },
   {
    "duration": 6,
    "start_time": "2022-06-08T20:48:15.932Z"
   },
   {
    "duration": 5,
    "start_time": "2022-06-08T20:48:15.939Z"
   },
   {
    "duration": 5,
    "start_time": "2022-06-08T20:48:15.946Z"
   },
   {
    "duration": 7,
    "start_time": "2022-06-08T20:48:15.952Z"
   },
   {
    "duration": 16,
    "start_time": "2022-06-08T20:48:15.961Z"
   },
   {
    "duration": 5,
    "start_time": "2022-06-08T20:48:15.978Z"
   },
   {
    "duration": 5,
    "start_time": "2022-06-08T20:48:15.984Z"
   },
   {
    "duration": 3,
    "start_time": "2022-06-08T20:48:15.992Z"
   },
   {
    "duration": 4,
    "start_time": "2022-06-08T20:48:15.997Z"
   },
   {
    "duration": 4,
    "start_time": "2022-06-08T20:48:16.003Z"
   },
   {
    "duration": 18,
    "start_time": "2022-06-08T20:48:16.009Z"
   },
   {
    "duration": 6,
    "start_time": "2022-06-08T20:48:16.029Z"
   },
   {
    "duration": 7,
    "start_time": "2022-06-08T20:48:16.036Z"
   },
   {
    "duration": 4,
    "start_time": "2022-06-08T20:48:16.045Z"
   },
   {
    "duration": 6,
    "start_time": "2022-06-08T20:48:16.050Z"
   },
   {
    "duration": 4,
    "start_time": "2022-06-08T20:48:16.058Z"
   },
   {
    "duration": 12,
    "start_time": "2022-06-08T22:21:58.658Z"
   },
   {
    "duration": 15,
    "start_time": "2022-06-08T22:22:12.504Z"
   },
   {
    "duration": 1114,
    "start_time": "2022-06-08T22:25:37.192Z"
   },
   {
    "duration": 286,
    "start_time": "2022-06-08T22:25:38.308Z"
   },
   {
    "duration": 11,
    "start_time": "2022-06-08T22:25:38.595Z"
   },
   {
    "duration": 21,
    "start_time": "2022-06-08T22:25:38.608Z"
   },
   {
    "duration": 11,
    "start_time": "2022-06-08T22:25:38.631Z"
   },
   {
    "duration": 23,
    "start_time": "2022-06-08T22:25:38.644Z"
   },
   {
    "duration": 8,
    "start_time": "2022-06-08T22:25:38.669Z"
   },
   {
    "duration": 8,
    "start_time": "2022-06-08T22:25:38.679Z"
   },
   {
    "duration": 20,
    "start_time": "2022-06-08T22:25:38.689Z"
   },
   {
    "duration": 7,
    "start_time": "2022-06-08T22:25:38.713Z"
   },
   {
    "duration": 8,
    "start_time": "2022-06-08T22:25:38.722Z"
   },
   {
    "duration": 5,
    "start_time": "2022-06-08T22:25:38.732Z"
   },
   {
    "duration": 7,
    "start_time": "2022-06-08T22:25:38.739Z"
   },
   {
    "duration": 7,
    "start_time": "2022-06-08T22:25:38.748Z"
   },
   {
    "duration": 8,
    "start_time": "2022-06-08T22:25:38.757Z"
   },
   {
    "duration": 4,
    "start_time": "2022-06-08T22:25:38.767Z"
   },
   {
    "duration": 5,
    "start_time": "2022-06-08T22:25:38.773Z"
   },
   {
    "duration": 12,
    "start_time": "2022-06-08T22:25:38.779Z"
   },
   {
    "duration": 6,
    "start_time": "2022-06-08T22:25:38.793Z"
   },
   {
    "duration": 4,
    "start_time": "2022-06-08T22:25:38.801Z"
   },
   {
    "duration": 5,
    "start_time": "2022-06-08T22:25:38.806Z"
   },
   {
    "duration": 4,
    "start_time": "2022-06-08T22:25:38.813Z"
   },
   {
    "duration": 6,
    "start_time": "2022-06-08T22:25:38.819Z"
   },
   {
    "duration": 10,
    "start_time": "2022-06-08T22:25:38.826Z"
   },
   {
    "duration": 4,
    "start_time": "2022-06-08T22:25:38.837Z"
   },
   {
    "duration": 5,
    "start_time": "2022-06-08T22:25:38.843Z"
   },
   {
    "duration": 8,
    "start_time": "2022-06-08T22:25:38.849Z"
   },
   {
    "duration": 3,
    "start_time": "2022-06-08T22:25:38.860Z"
   },
   {
    "duration": 15,
    "start_time": "2022-06-08T22:27:55.053Z"
   },
   {
    "duration": 30,
    "start_time": "2022-06-08T22:29:52.642Z"
   },
   {
    "duration": 7,
    "start_time": "2022-06-08T22:30:00.220Z"
   },
   {
    "duration": 9,
    "start_time": "2022-06-08T22:39:05.661Z"
   },
   {
    "duration": 106,
    "start_time": "2022-06-08T22:42:13.299Z"
   },
   {
    "duration": 4,
    "start_time": "2022-06-08T22:50:19.177Z"
   },
   {
    "duration": 12,
    "start_time": "2022-06-08T22:50:44.961Z"
   },
   {
    "duration": 4,
    "start_time": "2022-06-08T22:50:58.346Z"
   },
   {
    "duration": 17,
    "start_time": "2022-06-08T22:50:59.131Z"
   },
   {
    "duration": 4,
    "start_time": "2022-06-08T22:51:28.105Z"
   },
   {
    "duration": 13,
    "start_time": "2022-06-08T22:51:30.051Z"
   },
   {
    "duration": 4,
    "start_time": "2022-06-08T22:51:59.226Z"
   },
   {
    "duration": 12,
    "start_time": "2022-06-08T22:52:00.141Z"
   },
   {
    "duration": 1092,
    "start_time": "2022-06-08T22:52:12.643Z"
   },
   {
    "duration": 361,
    "start_time": "2022-06-08T22:52:13.737Z"
   },
   {
    "duration": 15,
    "start_time": "2022-06-08T22:52:14.100Z"
   },
   {
    "duration": 19,
    "start_time": "2022-06-08T22:52:14.118Z"
   },
   {
    "duration": 20,
    "start_time": "2022-06-08T22:52:14.139Z"
   },
   {
    "duration": 27,
    "start_time": "2022-06-08T22:52:14.162Z"
   },
   {
    "duration": 12,
    "start_time": "2022-06-08T22:52:14.191Z"
   },
   {
    "duration": 23,
    "start_time": "2022-06-08T22:52:14.205Z"
   },
   {
    "duration": 6,
    "start_time": "2022-06-08T22:52:14.231Z"
   },
   {
    "duration": 16,
    "start_time": "2022-06-08T22:52:14.242Z"
   },
   {
    "duration": 5,
    "start_time": "2022-06-08T22:52:14.260Z"
   },
   {
    "duration": 8,
    "start_time": "2022-06-08T22:52:14.266Z"
   },
   {
    "duration": 6,
    "start_time": "2022-06-08T22:52:14.276Z"
   },
   {
    "duration": 5,
    "start_time": "2022-06-08T22:52:14.284Z"
   },
   {
    "duration": 36,
    "start_time": "2022-06-08T22:52:14.291Z"
   },
   {
    "duration": 6,
    "start_time": "2022-06-08T22:52:14.329Z"
   },
   {
    "duration": 6,
    "start_time": "2022-06-08T22:52:14.337Z"
   },
   {
    "duration": 10,
    "start_time": "2022-06-08T22:52:14.344Z"
   },
   {
    "duration": 6,
    "start_time": "2022-06-08T22:52:14.356Z"
   },
   {
    "duration": 6,
    "start_time": "2022-06-08T22:52:14.364Z"
   },
   {
    "duration": 4,
    "start_time": "2022-06-08T22:52:14.372Z"
   },
   {
    "duration": 6,
    "start_time": "2022-06-08T22:52:14.378Z"
   },
   {
    "duration": 6,
    "start_time": "2022-06-08T22:52:14.386Z"
   },
   {
    "duration": 32,
    "start_time": "2022-06-08T22:52:14.394Z"
   },
   {
    "duration": 10,
    "start_time": "2022-06-08T22:52:14.429Z"
   },
   {
    "duration": 6,
    "start_time": "2022-06-08T22:52:14.442Z"
   },
   {
    "duration": 9,
    "start_time": "2022-06-08T22:52:14.450Z"
   },
   {
    "duration": 4,
    "start_time": "2022-06-08T22:52:14.464Z"
   },
   {
    "duration": 7,
    "start_time": "2022-06-08T22:52:14.470Z"
   },
   {
    "duration": 9,
    "start_time": "2022-06-08T22:52:14.479Z"
   },
   {
    "duration": 6,
    "start_time": "2022-06-08T22:52:14.490Z"
   },
   {
    "duration": 10,
    "start_time": "2022-06-08T22:52:14.499Z"
   },
   {
    "duration": 24,
    "start_time": "2022-06-08T22:52:58.618Z"
   },
   {
    "duration": 11,
    "start_time": "2022-06-08T22:53:15.486Z"
   },
   {
    "duration": 24,
    "start_time": "2022-06-08T22:55:17.664Z"
   },
   {
    "duration": 26,
    "start_time": "2022-06-08T22:58:27.321Z"
   },
   {
    "duration": 23,
    "start_time": "2022-06-08T22:58:56.551Z"
   },
   {
    "duration": 24,
    "start_time": "2022-06-08T22:59:46.263Z"
   },
   {
    "duration": 20,
    "start_time": "2022-06-08T23:01:16.141Z"
   },
   {
    "duration": 14,
    "start_time": "2022-06-08T23:01:35.883Z"
   },
   {
    "duration": 13,
    "start_time": "2022-06-08T23:02:53.423Z"
   },
   {
    "duration": 12,
    "start_time": "2022-06-08T23:03:18.579Z"
   },
   {
    "duration": 8,
    "start_time": "2022-06-08T23:03:47.309Z"
   },
   {
    "duration": 13,
    "start_time": "2022-06-08T23:06:49.885Z"
   },
   {
    "duration": 11,
    "start_time": "2022-06-08T23:07:13.789Z"
   },
   {
    "duration": 17,
    "start_time": "2022-06-08T23:10:50.318Z"
   },
   {
    "duration": 21,
    "start_time": "2022-06-08T23:11:59.748Z"
   },
   {
    "duration": 9,
    "start_time": "2022-06-08T23:12:51.456Z"
   },
   {
    "duration": 17,
    "start_time": "2022-06-08T23:15:24.954Z"
   },
   {
    "duration": 8,
    "start_time": "2022-06-08T23:17:49.130Z"
   },
   {
    "duration": 8,
    "start_time": "2022-06-08T23:17:54.974Z"
   },
   {
    "duration": 1211,
    "start_time": "2022-06-09T15:48:47.862Z"
   },
   {
    "duration": 994,
    "start_time": "2022-06-09T15:48:49.075Z"
   },
   {
    "duration": 12,
    "start_time": "2022-06-09T15:48:50.070Z"
   },
   {
    "duration": 28,
    "start_time": "2022-06-09T15:48:50.084Z"
   },
   {
    "duration": 7,
    "start_time": "2022-06-09T15:48:50.113Z"
   },
   {
    "duration": 10,
    "start_time": "2022-06-09T15:48:50.122Z"
   },
   {
    "duration": 14,
    "start_time": "2022-06-09T15:48:50.133Z"
   },
   {
    "duration": 11,
    "start_time": "2022-06-09T15:48:50.148Z"
   },
   {
    "duration": 10,
    "start_time": "2022-06-09T15:48:50.160Z"
   },
   {
    "duration": 6,
    "start_time": "2022-06-09T15:48:50.173Z"
   },
   {
    "duration": 6,
    "start_time": "2022-06-09T15:48:50.180Z"
   },
   {
    "duration": 18,
    "start_time": "2022-06-09T15:48:50.188Z"
   },
   {
    "duration": 32,
    "start_time": "2022-06-09T15:48:50.207Z"
   },
   {
    "duration": 21,
    "start_time": "2022-06-09T15:48:50.241Z"
   },
   {
    "duration": 7,
    "start_time": "2022-06-09T15:48:50.264Z"
   },
   {
    "duration": 24,
    "start_time": "2022-06-09T15:48:50.273Z"
   },
   {
    "duration": 34,
    "start_time": "2022-06-09T15:48:50.298Z"
   },
   {
    "duration": 15,
    "start_time": "2022-06-09T15:48:50.333Z"
   },
   {
    "duration": 7,
    "start_time": "2022-06-09T15:48:50.349Z"
   },
   {
    "duration": 18,
    "start_time": "2022-06-09T15:48:50.357Z"
   },
   {
    "duration": 15,
    "start_time": "2022-06-09T15:48:50.376Z"
   },
   {
    "duration": 14,
    "start_time": "2022-06-09T15:48:50.392Z"
   },
   {
    "duration": 35,
    "start_time": "2022-06-09T15:48:50.407Z"
   },
   {
    "duration": 7,
    "start_time": "2022-06-09T15:48:50.443Z"
   },
   {
    "duration": 20,
    "start_time": "2022-06-09T15:48:50.452Z"
   },
   {
    "duration": 8,
    "start_time": "2022-06-09T15:48:50.473Z"
   },
   {
    "duration": 4,
    "start_time": "2022-06-09T15:48:50.482Z"
   },
   {
    "duration": 5,
    "start_time": "2022-06-09T15:48:50.489Z"
   },
   {
    "duration": 5,
    "start_time": "2022-06-09T15:48:50.495Z"
   },
   {
    "duration": 25,
    "start_time": "2022-06-09T15:48:50.501Z"
   },
   {
    "duration": 6,
    "start_time": "2022-06-09T15:48:50.527Z"
   },
   {
    "duration": 4,
    "start_time": "2022-06-09T15:48:50.535Z"
   },
   {
    "duration": 6,
    "start_time": "2022-06-09T15:48:50.541Z"
   },
   {
    "duration": 8,
    "start_time": "2022-06-09T15:48:50.548Z"
   },
   {
    "duration": 5,
    "start_time": "2022-06-09T15:48:50.557Z"
   },
   {
    "duration": 4,
    "start_time": "2022-06-09T15:48:50.564Z"
   },
   {
    "duration": 4,
    "start_time": "2022-06-09T15:48:50.570Z"
   },
   {
    "duration": 6,
    "start_time": "2022-06-09T15:48:50.575Z"
   },
   {
    "duration": 4,
    "start_time": "2022-06-09T15:48:50.582Z"
   },
   {
    "duration": 5,
    "start_time": "2022-06-09T15:48:50.588Z"
   },
   {
    "duration": 4,
    "start_time": "2022-06-09T15:48:50.594Z"
   },
   {
    "duration": 1278,
    "start_time": "2022-06-09T18:17:23.742Z"
   },
   {
    "duration": 1024,
    "start_time": "2022-06-09T18:17:25.022Z"
   },
   {
    "duration": 11,
    "start_time": "2022-06-09T18:17:26.048Z"
   },
   {
    "duration": 32,
    "start_time": "2022-06-09T18:17:26.061Z"
   },
   {
    "duration": 11,
    "start_time": "2022-06-09T18:17:26.094Z"
   },
   {
    "duration": 19,
    "start_time": "2022-06-09T18:17:26.107Z"
   },
   {
    "duration": 32,
    "start_time": "2022-06-09T18:17:26.128Z"
   },
   {
    "duration": 16,
    "start_time": "2022-06-09T18:17:26.162Z"
   },
   {
    "duration": 11,
    "start_time": "2022-06-09T18:17:26.179Z"
   },
   {
    "duration": 6,
    "start_time": "2022-06-09T18:17:26.193Z"
   },
   {
    "duration": 6,
    "start_time": "2022-06-09T18:17:26.201Z"
   },
   {
    "duration": 15,
    "start_time": "2022-06-09T18:17:26.208Z"
   },
   {
    "duration": 41,
    "start_time": "2022-06-09T18:17:26.224Z"
   },
   {
    "duration": 22,
    "start_time": "2022-06-09T18:17:26.267Z"
   },
   {
    "duration": 11,
    "start_time": "2022-06-09T18:17:26.291Z"
   },
   {
    "duration": 55,
    "start_time": "2022-06-09T18:17:26.304Z"
   },
   {
    "duration": 17,
    "start_time": "2022-06-09T18:17:26.360Z"
   },
   {
    "duration": 12,
    "start_time": "2022-06-09T18:17:26.379Z"
   },
   {
    "duration": 7,
    "start_time": "2022-06-09T18:17:26.393Z"
   },
   {
    "duration": 20,
    "start_time": "2022-06-09T18:17:26.401Z"
   },
   {
    "duration": 13,
    "start_time": "2022-06-09T18:17:26.423Z"
   },
   {
    "duration": 37,
    "start_time": "2022-06-09T18:17:26.437Z"
   },
   {
    "duration": 20,
    "start_time": "2022-06-09T18:17:26.476Z"
   },
   {
    "duration": 9,
    "start_time": "2022-06-09T18:17:26.497Z"
   },
   {
    "duration": 21,
    "start_time": "2022-06-09T18:17:26.507Z"
   },
   {
    "duration": 30,
    "start_time": "2022-06-09T18:17:26.530Z"
   },
   {
    "duration": 8,
    "start_time": "2022-06-09T18:17:26.561Z"
   },
   {
    "duration": 16,
    "start_time": "2022-06-09T18:17:26.572Z"
   },
   {
    "duration": 8,
    "start_time": "2022-06-09T18:17:26.590Z"
   },
   {
    "duration": 6,
    "start_time": "2022-06-09T18:17:26.599Z"
   },
   {
    "duration": 6,
    "start_time": "2022-06-09T18:17:26.606Z"
   },
   {
    "duration": 8,
    "start_time": "2022-06-09T18:17:26.614Z"
   },
   {
    "duration": 11,
    "start_time": "2022-06-09T18:17:26.624Z"
   },
   {
    "duration": 8,
    "start_time": "2022-06-09T18:17:26.636Z"
   },
   {
    "duration": 8,
    "start_time": "2022-06-09T18:17:26.646Z"
   },
   {
    "duration": 10,
    "start_time": "2022-06-09T18:17:26.655Z"
   },
   {
    "duration": 5,
    "start_time": "2022-06-09T18:17:26.667Z"
   },
   {
    "duration": 6,
    "start_time": "2022-06-09T18:17:26.673Z"
   },
   {
    "duration": 8,
    "start_time": "2022-06-09T18:17:26.680Z"
   },
   {
    "duration": 7,
    "start_time": "2022-06-09T18:17:26.690Z"
   },
   {
    "duration": 6,
    "start_time": "2022-06-09T18:17:26.699Z"
   },
   {
    "duration": 1145,
    "start_time": "2022-06-09T21:03:40.938Z"
   },
   {
    "duration": 344,
    "start_time": "2022-06-09T21:03:42.085Z"
   },
   {
    "duration": 12,
    "start_time": "2022-06-09T21:03:42.431Z"
   },
   {
    "duration": 37,
    "start_time": "2022-06-09T21:03:42.444Z"
   },
   {
    "duration": 8,
    "start_time": "2022-06-09T21:03:42.483Z"
   },
   {
    "duration": 15,
    "start_time": "2022-06-09T21:03:42.492Z"
   },
   {
    "duration": 15,
    "start_time": "2022-06-09T21:03:42.509Z"
   },
   {
    "duration": 16,
    "start_time": "2022-06-09T21:03:42.525Z"
   },
   {
    "duration": 16,
    "start_time": "2022-06-09T21:03:42.559Z"
   },
   {
    "duration": 19,
    "start_time": "2022-06-09T21:03:42.578Z"
   },
   {
    "duration": 8,
    "start_time": "2022-06-09T21:03:42.599Z"
   },
   {
    "duration": 21,
    "start_time": "2022-06-09T21:03:42.608Z"
   },
   {
    "duration": 41,
    "start_time": "2022-06-09T21:03:42.630Z"
   },
   {
    "duration": 28,
    "start_time": "2022-06-09T21:03:42.673Z"
   },
   {
    "duration": 9,
    "start_time": "2022-06-09T21:03:42.703Z"
   },
   {
    "duration": 34,
    "start_time": "2022-06-09T21:03:42.714Z"
   },
   {
    "duration": 22,
    "start_time": "2022-06-09T21:03:42.750Z"
   },
   {
    "duration": 20,
    "start_time": "2022-06-09T21:03:42.774Z"
   },
   {
    "duration": 8,
    "start_time": "2022-06-09T21:03:42.795Z"
   },
   {
    "duration": 15,
    "start_time": "2022-06-09T21:03:42.805Z"
   },
   {
    "duration": 13,
    "start_time": "2022-06-09T21:03:42.822Z"
   },
   {
    "duration": 46,
    "start_time": "2022-06-09T21:03:42.836Z"
   },
   {
    "duration": 21,
    "start_time": "2022-06-09T21:03:42.884Z"
   },
   {
    "duration": 9,
    "start_time": "2022-06-09T21:03:42.907Z"
   },
   {
    "duration": 26,
    "start_time": "2022-06-09T21:03:42.918Z"
   },
   {
    "duration": 29,
    "start_time": "2022-06-09T21:03:42.946Z"
   },
   {
    "duration": 12,
    "start_time": "2022-06-09T21:03:42.977Z"
   },
   {
    "duration": 4,
    "start_time": "2022-06-09T21:03:42.992Z"
   },
   {
    "duration": 5,
    "start_time": "2022-06-09T21:03:42.997Z"
   },
   {
    "duration": 5,
    "start_time": "2022-06-09T21:03:43.004Z"
   },
   {
    "duration": 5,
    "start_time": "2022-06-09T21:03:43.010Z"
   },
   {
    "duration": 5,
    "start_time": "2022-06-09T21:03:43.018Z"
   },
   {
    "duration": 15,
    "start_time": "2022-06-09T21:03:43.025Z"
   },
   {
    "duration": 9,
    "start_time": "2022-06-09T21:03:43.041Z"
   },
   {
    "duration": 25,
    "start_time": "2022-06-09T21:03:43.052Z"
   },
   {
    "duration": 4,
    "start_time": "2022-06-09T21:03:43.081Z"
   },
   {
    "duration": 6,
    "start_time": "2022-06-09T21:03:43.086Z"
   },
   {
    "duration": 6,
    "start_time": "2022-06-09T21:03:43.094Z"
   },
   {
    "duration": 5,
    "start_time": "2022-06-09T21:03:43.102Z"
   },
   {
    "duration": 19,
    "start_time": "2022-06-09T21:03:43.109Z"
   },
   {
    "duration": 6,
    "start_time": "2022-06-09T21:03:43.130Z"
   },
   {
    "duration": 8,
    "start_time": "2022-06-09T21:11:01.909Z"
   },
   {
    "duration": 11,
    "start_time": "2022-06-09T21:11:14.447Z"
   },
   {
    "duration": 1075,
    "start_time": "2022-06-09T21:11:42.928Z"
   },
   {
    "duration": 309,
    "start_time": "2022-06-09T21:11:44.004Z"
   },
   {
    "duration": 12,
    "start_time": "2022-06-09T21:11:44.314Z"
   },
   {
    "duration": 29,
    "start_time": "2022-06-09T21:11:44.328Z"
   },
   {
    "duration": 15,
    "start_time": "2022-06-09T21:11:44.358Z"
   },
   {
    "duration": 20,
    "start_time": "2022-06-09T21:11:44.374Z"
   },
   {
    "duration": 24,
    "start_time": "2022-06-09T21:11:44.395Z"
   },
   {
    "duration": 15,
    "start_time": "2022-06-09T21:11:44.421Z"
   },
   {
    "duration": 8,
    "start_time": "2022-06-09T21:11:44.438Z"
   },
   {
    "duration": 8,
    "start_time": "2022-06-09T21:11:44.448Z"
   },
   {
    "duration": 19,
    "start_time": "2022-06-09T21:11:44.462Z"
   },
   {
    "duration": 6,
    "start_time": "2022-06-09T21:11:44.483Z"
   },
   {
    "duration": 21,
    "start_time": "2022-06-09T21:11:44.491Z"
   },
   {
    "duration": 22,
    "start_time": "2022-06-09T21:11:44.514Z"
   },
   {
    "duration": 34,
    "start_time": "2022-06-09T21:11:44.538Z"
   },
   {
    "duration": 9,
    "start_time": "2022-06-09T21:11:44.573Z"
   },
   {
    "duration": 25,
    "start_time": "2022-06-09T21:11:44.583Z"
   },
   {
    "duration": 13,
    "start_time": "2022-06-09T21:11:44.610Z"
   },
   {
    "duration": 12,
    "start_time": "2022-06-09T21:11:44.624Z"
   },
   {
    "duration": 7,
    "start_time": "2022-06-09T21:11:44.637Z"
   },
   {
    "duration": 19,
    "start_time": "2022-06-09T21:11:44.668Z"
   },
   {
    "duration": 13,
    "start_time": "2022-06-09T21:11:44.689Z"
   },
   {
    "duration": 17,
    "start_time": "2022-06-09T21:11:44.704Z"
   },
   {
    "duration": 38,
    "start_time": "2022-06-09T21:11:44.723Z"
   },
   {
    "duration": 14,
    "start_time": "2022-06-09T21:11:44.763Z"
   },
   {
    "duration": 36,
    "start_time": "2022-06-09T21:11:44.779Z"
   },
   {
    "duration": 12,
    "start_time": "2022-06-09T21:11:44.816Z"
   },
   {
    "duration": 5,
    "start_time": "2022-06-09T21:11:44.831Z"
   },
   {
    "duration": 6,
    "start_time": "2022-06-09T21:11:44.837Z"
   },
   {
    "duration": 5,
    "start_time": "2022-06-09T21:11:44.844Z"
   },
   {
    "duration": 17,
    "start_time": "2022-06-09T21:11:44.851Z"
   },
   {
    "duration": 10,
    "start_time": "2022-06-09T21:11:44.870Z"
   },
   {
    "duration": 5,
    "start_time": "2022-06-09T21:11:44.881Z"
   },
   {
    "duration": 10,
    "start_time": "2022-06-09T21:11:44.887Z"
   },
   {
    "duration": 7,
    "start_time": "2022-06-09T21:11:44.898Z"
   },
   {
    "duration": 6,
    "start_time": "2022-06-09T21:11:44.906Z"
   },
   {
    "duration": 8,
    "start_time": "2022-06-09T21:11:44.913Z"
   },
   {
    "duration": 5,
    "start_time": "2022-06-09T21:11:44.922Z"
   },
   {
    "duration": 8,
    "start_time": "2022-06-09T21:11:44.928Z"
   },
   {
    "duration": 8,
    "start_time": "2022-06-09T21:11:44.937Z"
   },
   {
    "duration": 9,
    "start_time": "2022-06-09T21:11:44.946Z"
   },
   {
    "duration": 10,
    "start_time": "2022-06-09T21:11:44.956Z"
   },
   {
    "duration": 6,
    "start_time": "2022-06-09T21:12:04.673Z"
   },
   {
    "duration": 16,
    "start_time": "2022-06-09T21:12:05.405Z"
   },
   {
    "duration": 1104,
    "start_time": "2022-06-09T21:12:16.275Z"
   },
   {
    "duration": 336,
    "start_time": "2022-06-09T21:12:17.382Z"
   },
   {
    "duration": 12,
    "start_time": "2022-06-09T21:12:17.719Z"
   },
   {
    "duration": 39,
    "start_time": "2022-06-09T21:12:17.733Z"
   },
   {
    "duration": 9,
    "start_time": "2022-06-09T21:12:17.774Z"
   },
   {
    "duration": 11,
    "start_time": "2022-06-09T21:12:17.784Z"
   },
   {
    "duration": 15,
    "start_time": "2022-06-09T21:12:17.797Z"
   },
   {
    "duration": 11,
    "start_time": "2022-06-09T21:12:17.814Z"
   },
   {
    "duration": 8,
    "start_time": "2022-06-09T21:12:17.827Z"
   },
   {
    "duration": 33,
    "start_time": "2022-06-09T21:12:17.838Z"
   },
   {
    "duration": 13,
    "start_time": "2022-06-09T21:12:17.873Z"
   },
   {
    "duration": 5,
    "start_time": "2022-06-09T21:12:17.888Z"
   },
   {
    "duration": 14,
    "start_time": "2022-06-09T21:12:17.894Z"
   },
   {
    "duration": 21,
    "start_time": "2022-06-09T21:12:17.910Z"
   },
   {
    "duration": 45,
    "start_time": "2022-06-09T21:12:17.934Z"
   },
   {
    "duration": 8,
    "start_time": "2022-06-09T21:12:17.981Z"
   },
   {
    "duration": 26,
    "start_time": "2022-06-09T21:12:17.991Z"
   },
   {
    "duration": 15,
    "start_time": "2022-06-09T21:12:18.019Z"
   },
   {
    "duration": 39,
    "start_time": "2022-06-09T21:12:18.035Z"
   },
   {
    "duration": 8,
    "start_time": "2022-06-09T21:12:18.077Z"
   },
   {
    "duration": 20,
    "start_time": "2022-06-09T21:12:18.087Z"
   },
   {
    "duration": 12,
    "start_time": "2022-06-09T21:12:18.109Z"
   },
   {
    "duration": 19,
    "start_time": "2022-06-09T21:12:18.123Z"
   },
   {
    "duration": 31,
    "start_time": "2022-06-09T21:12:18.143Z"
   },
   {
    "duration": 8,
    "start_time": "2022-06-09T21:12:18.176Z"
   },
   {
    "duration": 19,
    "start_time": "2022-06-09T21:12:18.185Z"
   },
   {
    "duration": 8,
    "start_time": "2022-06-09T21:12:18.206Z"
   },
   {
    "duration": 2,
    "start_time": "2022-06-09T21:12:18.217Z"
   },
   {
    "duration": 5,
    "start_time": "2022-06-09T21:12:18.221Z"
   },
   {
    "duration": 8,
    "start_time": "2022-06-09T21:12:18.227Z"
   },
   {
    "duration": 5,
    "start_time": "2022-06-09T21:12:18.236Z"
   },
   {
    "duration": 2,
    "start_time": "2022-06-09T21:12:18.271Z"
   },
   {
    "duration": 5,
    "start_time": "2022-06-09T21:12:18.275Z"
   },
   {
    "duration": 6,
    "start_time": "2022-06-09T21:12:18.281Z"
   },
   {
    "duration": 6,
    "start_time": "2022-06-09T21:12:18.288Z"
   },
   {
    "duration": 7,
    "start_time": "2022-06-09T21:12:18.296Z"
   },
   {
    "duration": 9,
    "start_time": "2022-06-09T21:12:18.305Z"
   },
   {
    "duration": 7,
    "start_time": "2022-06-09T21:12:18.315Z"
   },
   {
    "duration": 14,
    "start_time": "2022-06-09T21:12:18.323Z"
   },
   {
    "duration": 10,
    "start_time": "2022-06-09T21:12:18.339Z"
   },
   {
    "duration": 5,
    "start_time": "2022-06-09T21:12:18.351Z"
   },
   {
    "duration": 13,
    "start_time": "2022-06-09T21:12:18.357Z"
   },
   {
    "duration": 16,
    "start_time": "2022-06-09T21:19:07.808Z"
   },
   {
    "duration": 7,
    "start_time": "2022-06-09T21:25:03.996Z"
   },
   {
    "duration": 10,
    "start_time": "2022-06-09T21:25:29.633Z"
   },
   {
    "duration": 1075,
    "start_time": "2022-06-09T21:25:54.315Z"
   },
   {
    "duration": 325,
    "start_time": "2022-06-09T21:25:55.392Z"
   },
   {
    "duration": 11,
    "start_time": "2022-06-09T21:25:55.719Z"
   },
   {
    "duration": 32,
    "start_time": "2022-06-09T21:25:55.731Z"
   },
   {
    "duration": 31,
    "start_time": "2022-06-09T21:25:55.765Z"
   },
   {
    "duration": 12,
    "start_time": "2022-06-09T21:25:55.797Z"
   },
   {
    "duration": 15,
    "start_time": "2022-06-09T21:25:55.811Z"
   },
   {
    "duration": 19,
    "start_time": "2022-06-09T21:25:55.828Z"
   },
   {
    "duration": 10,
    "start_time": "2022-06-09T21:25:55.848Z"
   },
   {
    "duration": 20,
    "start_time": "2022-06-09T21:25:55.861Z"
   },
   {
    "duration": 25,
    "start_time": "2022-06-09T21:25:55.882Z"
   },
   {
    "duration": 10,
    "start_time": "2022-06-09T21:25:55.909Z"
   },
   {
    "duration": 22,
    "start_time": "2022-06-09T21:25:55.920Z"
   },
   {
    "duration": 36,
    "start_time": "2022-06-09T21:25:55.944Z"
   },
   {
    "duration": 24,
    "start_time": "2022-06-09T21:25:55.981Z"
   },
   {
    "duration": 9,
    "start_time": "2022-06-09T21:25:56.007Z"
   },
   {
    "duration": 55,
    "start_time": "2022-06-09T21:25:56.017Z"
   },
   {
    "duration": 16,
    "start_time": "2022-06-09T21:25:56.074Z"
   },
   {
    "duration": 6,
    "start_time": "2022-06-09T21:25:56.091Z"
   },
   {
    "duration": 26,
    "start_time": "2022-06-09T21:25:56.098Z"
   },
   {
    "duration": 23,
    "start_time": "2022-06-09T21:25:56.126Z"
   },
   {
    "duration": 18,
    "start_time": "2022-06-09T21:25:56.151Z"
   },
   {
    "duration": 18,
    "start_time": "2022-06-09T21:25:56.170Z"
   },
   {
    "duration": 22,
    "start_time": "2022-06-09T21:25:56.189Z"
   },
   {
    "duration": 15,
    "start_time": "2022-06-09T21:25:56.213Z"
   },
   {
    "duration": 26,
    "start_time": "2022-06-09T21:25:56.229Z"
   },
   {
    "duration": 49,
    "start_time": "2022-06-09T21:25:56.256Z"
   },
   {
    "duration": 9,
    "start_time": "2022-06-09T21:25:56.309Z"
   },
   {
    "duration": 31,
    "start_time": "2022-06-09T21:25:56.319Z"
   },
   {
    "duration": 14,
    "start_time": "2022-06-09T21:25:56.351Z"
   },
   {
    "duration": 12,
    "start_time": "2022-06-09T21:25:56.367Z"
   },
   {
    "duration": 12,
    "start_time": "2022-06-09T21:25:56.381Z"
   },
   {
    "duration": 12,
    "start_time": "2022-06-09T21:25:56.395Z"
   },
   {
    "duration": 14,
    "start_time": "2022-06-09T21:25:56.408Z"
   },
   {
    "duration": 13,
    "start_time": "2022-06-09T21:25:56.423Z"
   },
   {
    "duration": 13,
    "start_time": "2022-06-09T21:25:56.437Z"
   },
   {
    "duration": 25,
    "start_time": "2022-06-09T21:25:56.451Z"
   },
   {
    "duration": 8,
    "start_time": "2022-06-09T21:25:56.478Z"
   },
   {
    "duration": 24,
    "start_time": "2022-06-09T21:25:56.488Z"
   },
   {
    "duration": 14,
    "start_time": "2022-06-09T21:25:56.513Z"
   },
   {
    "duration": 16,
    "start_time": "2022-06-09T21:25:56.529Z"
   },
   {
    "duration": 10,
    "start_time": "2022-06-09T21:25:56.547Z"
   },
   {
    "duration": 25,
    "start_time": "2022-06-09T21:25:56.559Z"
   },
   {
    "duration": 15,
    "start_time": "2022-06-09T21:25:56.586Z"
   },
   {
    "duration": 13,
    "start_time": "2022-06-09T21:25:56.603Z"
   },
   {
    "duration": 4,
    "start_time": "2022-06-09T21:26:28.672Z"
   },
   {
    "duration": 9,
    "start_time": "2022-06-09T21:26:30.136Z"
   },
   {
    "duration": 9,
    "start_time": "2022-06-09T21:30:13.632Z"
   },
   {
    "duration": 119,
    "start_time": "2022-06-09T21:30:44.975Z"
   },
   {
    "duration": 1115,
    "start_time": "2022-06-09T21:31:02.239Z"
   },
   {
    "duration": 343,
    "start_time": "2022-06-09T21:31:03.355Z"
   },
   {
    "duration": 12,
    "start_time": "2022-06-09T21:31:03.700Z"
   },
   {
    "duration": 30,
    "start_time": "2022-06-09T21:31:03.714Z"
   },
   {
    "duration": 8,
    "start_time": "2022-06-09T21:31:03.745Z"
   },
   {
    "duration": 21,
    "start_time": "2022-06-09T21:31:03.755Z"
   },
   {
    "duration": 19,
    "start_time": "2022-06-09T21:31:03.777Z"
   },
   {
    "duration": 10,
    "start_time": "2022-06-09T21:31:03.798Z"
   },
   {
    "duration": 13,
    "start_time": "2022-06-09T21:31:03.810Z"
   },
   {
    "duration": 6,
    "start_time": "2022-06-09T21:31:03.825Z"
   },
   {
    "duration": 15,
    "start_time": "2022-06-09T21:31:03.832Z"
   },
   {
    "duration": 12,
    "start_time": "2022-06-09T21:31:03.849Z"
   },
   {
    "duration": 26,
    "start_time": "2022-06-09T21:31:03.863Z"
   },
   {
    "duration": 23,
    "start_time": "2022-06-09T21:31:03.891Z"
   },
   {
    "duration": 24,
    "start_time": "2022-06-09T21:31:03.916Z"
   },
   {
    "duration": 20,
    "start_time": "2022-06-09T21:31:03.942Z"
   },
   {
    "duration": 29,
    "start_time": "2022-06-09T21:31:03.963Z"
   },
   {
    "duration": 17,
    "start_time": "2022-06-09T21:31:03.994Z"
   },
   {
    "duration": 5,
    "start_time": "2022-06-09T21:31:04.012Z"
   },
   {
    "duration": 13,
    "start_time": "2022-06-09T21:31:04.019Z"
   },
   {
    "duration": 37,
    "start_time": "2022-06-09T21:31:04.034Z"
   },
   {
    "duration": 17,
    "start_time": "2022-06-09T21:31:04.075Z"
   },
   {
    "duration": 7,
    "start_time": "2022-06-09T21:31:04.093Z"
   },
   {
    "duration": 15,
    "start_time": "2022-06-09T21:31:04.102Z"
   },
   {
    "duration": 12,
    "start_time": "2022-06-09T21:31:04.119Z"
   },
   {
    "duration": 27,
    "start_time": "2022-06-09T21:31:04.133Z"
   },
   {
    "duration": 22,
    "start_time": "2022-06-09T21:31:04.165Z"
   },
   {
    "duration": 20,
    "start_time": "2022-06-09T21:31:04.190Z"
   },
   {
    "duration": 9,
    "start_time": "2022-06-09T21:31:04.212Z"
   },
   {
    "duration": 39,
    "start_time": "2022-06-09T21:31:04.222Z"
   },
   {
    "duration": 9,
    "start_time": "2022-06-09T21:31:04.268Z"
   },
   {
    "duration": 8,
    "start_time": "2022-06-09T21:31:04.279Z"
   },
   {
    "duration": 5,
    "start_time": "2022-06-09T21:31:04.289Z"
   },
   {
    "duration": 8,
    "start_time": "2022-06-09T21:31:04.295Z"
   },
   {
    "duration": 5,
    "start_time": "2022-06-09T21:31:04.304Z"
   },
   {
    "duration": 6,
    "start_time": "2022-06-09T21:31:04.310Z"
   },
   {
    "duration": 7,
    "start_time": "2022-06-09T21:31:04.318Z"
   },
   {
    "duration": 11,
    "start_time": "2022-06-09T21:31:04.326Z"
   },
   {
    "duration": 6,
    "start_time": "2022-06-09T21:31:04.339Z"
   },
   {
    "duration": 11,
    "start_time": "2022-06-09T21:31:04.346Z"
   },
   {
    "duration": 24,
    "start_time": "2022-06-09T21:31:04.358Z"
   },
   {
    "duration": 12,
    "start_time": "2022-06-09T21:31:04.383Z"
   },
   {
    "duration": 8,
    "start_time": "2022-06-09T21:31:04.397Z"
   },
   {
    "duration": 8,
    "start_time": "2022-06-09T21:31:04.407Z"
   },
   {
    "duration": 5,
    "start_time": "2022-06-09T21:31:04.416Z"
   },
   {
    "duration": 8,
    "start_time": "2022-06-09T21:31:04.422Z"
   },
   {
    "duration": 99,
    "start_time": "2022-06-09T21:32:41.949Z"
   },
   {
    "duration": 13,
    "start_time": "2022-06-09T21:33:19.936Z"
   },
   {
    "duration": 1111,
    "start_time": "2022-06-09T21:33:26.907Z"
   },
   {
    "duration": 320,
    "start_time": "2022-06-09T21:33:28.020Z"
   },
   {
    "duration": 11,
    "start_time": "2022-06-09T21:33:28.341Z"
   },
   {
    "duration": 33,
    "start_time": "2022-06-09T21:33:28.354Z"
   },
   {
    "duration": 9,
    "start_time": "2022-06-09T21:33:28.389Z"
   },
   {
    "duration": 12,
    "start_time": "2022-06-09T21:33:28.400Z"
   },
   {
    "duration": 17,
    "start_time": "2022-06-09T21:33:28.414Z"
   },
   {
    "duration": 39,
    "start_time": "2022-06-09T21:33:28.433Z"
   },
   {
    "duration": 9,
    "start_time": "2022-06-09T21:33:28.475Z"
   },
   {
    "duration": 5,
    "start_time": "2022-06-09T21:33:28.488Z"
   },
   {
    "duration": 13,
    "start_time": "2022-06-09T21:33:28.495Z"
   },
   {
    "duration": 6,
    "start_time": "2022-06-09T21:33:28.510Z"
   },
   {
    "duration": 18,
    "start_time": "2022-06-09T21:33:28.517Z"
   },
   {
    "duration": 40,
    "start_time": "2022-06-09T21:33:28.537Z"
   },
   {
    "duration": 23,
    "start_time": "2022-06-09T21:33:28.579Z"
   },
   {
    "duration": 8,
    "start_time": "2022-06-09T21:33:28.604Z"
   },
   {
    "duration": 26,
    "start_time": "2022-06-09T21:33:28.614Z"
   },
   {
    "duration": 40,
    "start_time": "2022-06-09T21:33:28.641Z"
   },
   {
    "duration": 5,
    "start_time": "2022-06-09T21:33:28.682Z"
   },
   {
    "duration": 12,
    "start_time": "2022-06-09T21:33:28.688Z"
   },
   {
    "duration": 16,
    "start_time": "2022-06-09T21:33:28.702Z"
   },
   {
    "duration": 11,
    "start_time": "2022-06-09T21:33:28.719Z"
   },
   {
    "duration": 37,
    "start_time": "2022-06-09T21:33:28.732Z"
   },
   {
    "duration": 32,
    "start_time": "2022-06-09T21:33:28.770Z"
   },
   {
    "duration": 12,
    "start_time": "2022-06-09T21:33:28.804Z"
   },
   {
    "duration": 9,
    "start_time": "2022-06-09T21:33:28.817Z"
   },
   {
    "duration": 18,
    "start_time": "2022-06-09T21:33:28.827Z"
   },
   {
    "duration": 30,
    "start_time": "2022-06-09T21:33:28.849Z"
   },
   {
    "duration": 8,
    "start_time": "2022-06-09T21:33:28.881Z"
   },
   {
    "duration": 17,
    "start_time": "2022-06-09T21:33:28.891Z"
   },
   {
    "duration": 12,
    "start_time": "2022-06-09T21:33:28.910Z"
   },
   {
    "duration": 9,
    "start_time": "2022-06-09T21:33:28.923Z"
   },
   {
    "duration": 14,
    "start_time": "2022-06-09T21:33:28.934Z"
   },
   {
    "duration": 20,
    "start_time": "2022-06-09T21:33:28.959Z"
   },
   {
    "duration": 5,
    "start_time": "2022-06-09T21:33:28.981Z"
   },
   {
    "duration": 4,
    "start_time": "2022-06-09T21:33:28.988Z"
   },
   {
    "duration": 4,
    "start_time": "2022-06-09T21:33:28.994Z"
   },
   {
    "duration": 5,
    "start_time": "2022-06-09T21:33:29.000Z"
   },
   {
    "duration": 6,
    "start_time": "2022-06-09T21:33:29.006Z"
   },
   {
    "duration": 7,
    "start_time": "2022-06-09T21:33:29.013Z"
   },
   {
    "duration": 5,
    "start_time": "2022-06-09T21:33:29.021Z"
   },
   {
    "duration": 5,
    "start_time": "2022-06-09T21:33:29.028Z"
   },
   {
    "duration": 5,
    "start_time": "2022-06-09T21:33:29.034Z"
   },
   {
    "duration": 6,
    "start_time": "2022-06-09T21:33:29.041Z"
   },
   {
    "duration": 6,
    "start_time": "2022-06-09T21:33:29.048Z"
   },
   {
    "duration": 25,
    "start_time": "2022-06-09T21:33:29.055Z"
   },
   {
    "duration": 5,
    "start_time": "2022-06-09T21:33:29.081Z"
   },
   {
    "duration": 43,
    "start_time": "2022-06-09T21:38:15.837Z"
   },
   {
    "duration": 37,
    "start_time": "2022-06-09T21:38:52.799Z"
   },
   {
    "duration": 225,
    "start_time": "2022-06-09T21:39:50.268Z"
   },
   {
    "duration": 34,
    "start_time": "2022-06-09T21:41:50.519Z"
   },
   {
    "duration": 37,
    "start_time": "2022-06-09T21:42:04.300Z"
   },
   {
    "duration": 243,
    "start_time": "2022-06-09T21:43:28.639Z"
   },
   {
    "duration": 23,
    "start_time": "2022-06-09T21:43:48.474Z"
   },
   {
    "duration": 31,
    "start_time": "2022-06-09T21:45:39.970Z"
   },
   {
    "duration": 32,
    "start_time": "2022-06-09T21:47:29.678Z"
   },
   {
    "duration": 31,
    "start_time": "2022-06-09T21:47:42.081Z"
   },
   {
    "duration": 22,
    "start_time": "2022-06-09T21:48:13.186Z"
   },
   {
    "duration": 9,
    "start_time": "2022-06-09T21:52:15.800Z"
   },
   {
    "duration": 21,
    "start_time": "2022-06-09T21:52:21.904Z"
   },
   {
    "duration": 18,
    "start_time": "2022-06-09T21:54:02.829Z"
   },
   {
    "duration": 198,
    "start_time": "2022-06-09T21:54:59.418Z"
   },
   {
    "duration": 19,
    "start_time": "2022-06-09T21:55:11.718Z"
   },
   {
    "duration": 362,
    "start_time": "2022-06-09T22:00:12.294Z"
   },
   {
    "duration": 4,
    "start_time": "2022-06-09T22:00:50.096Z"
   },
   {
    "duration": 8,
    "start_time": "2022-06-09T22:01:05.237Z"
   },
   {
    "duration": 9,
    "start_time": "2022-06-09T22:09:18.605Z"
   },
   {
    "duration": 9,
    "start_time": "2022-06-09T22:09:41.079Z"
   },
   {
    "duration": 9,
    "start_time": "2022-06-09T22:10:25.877Z"
   },
   {
    "duration": 7,
    "start_time": "2022-06-09T22:20:29.828Z"
   },
   {
    "duration": 10,
    "start_time": "2022-06-09T22:20:38.440Z"
   },
   {
    "duration": 6,
    "start_time": "2022-06-09T22:23:28.062Z"
   },
   {
    "duration": 35,
    "start_time": "2022-06-09T22:25:15.383Z"
   },
   {
    "duration": 6,
    "start_time": "2022-06-09T22:25:48.207Z"
   },
   {
    "duration": 25,
    "start_time": "2022-06-09T22:25:53.351Z"
   },
   {
    "duration": 24,
    "start_time": "2022-06-09T22:25:53.920Z"
   },
   {
    "duration": 21,
    "start_time": "2022-06-09T22:25:54.526Z"
   },
   {
    "duration": 10,
    "start_time": "2022-06-09T22:25:55.761Z"
   },
   {
    "duration": 11,
    "start_time": "2022-06-09T22:25:59.369Z"
   },
   {
    "duration": 10,
    "start_time": "2022-06-09T22:27:35.844Z"
   },
   {
    "duration": 17,
    "start_time": "2022-06-09T22:27:43.649Z"
   },
   {
    "duration": 22,
    "start_time": "2022-06-09T22:28:03.086Z"
   },
   {
    "duration": 14,
    "start_time": "2022-06-09T22:28:25.524Z"
   },
   {
    "duration": 11,
    "start_time": "2022-06-09T22:28:34.218Z"
   },
   {
    "duration": 12,
    "start_time": "2022-06-09T22:28:52.336Z"
   },
   {
    "duration": 13,
    "start_time": "2022-06-09T22:29:21.126Z"
   },
   {
    "duration": 11,
    "start_time": "2022-06-09T22:29:48.285Z"
   },
   {
    "duration": 12,
    "start_time": "2022-06-09T22:31:08.059Z"
   },
   {
    "duration": 13,
    "start_time": "2022-06-09T22:32:38.931Z"
   },
   {
    "duration": 10,
    "start_time": "2022-06-09T22:33:28.602Z"
   },
   {
    "duration": 9,
    "start_time": "2022-06-09T22:33:33.367Z"
   },
   {
    "duration": 12,
    "start_time": "2022-06-09T22:33:39.205Z"
   },
   {
    "duration": 14,
    "start_time": "2022-06-09T22:34:43.110Z"
   },
   {
    "duration": 18,
    "start_time": "2022-06-09T22:35:14.497Z"
   },
   {
    "duration": 8,
    "start_time": "2022-06-09T22:37:17.730Z"
   },
   {
    "duration": 25,
    "start_time": "2022-06-09T22:37:19.419Z"
   },
   {
    "duration": 11,
    "start_time": "2022-06-09T22:37:22.341Z"
   },
   {
    "duration": 23,
    "start_time": "2022-06-09T22:37:26.645Z"
   },
   {
    "duration": 7,
    "start_time": "2022-06-09T22:37:42.619Z"
   },
   {
    "duration": 18,
    "start_time": "2022-06-09T22:37:44.285Z"
   },
   {
    "duration": 9,
    "start_time": "2022-06-09T22:37:45.386Z"
   },
   {
    "duration": 20,
    "start_time": "2022-06-09T22:37:46.880Z"
   },
   {
    "duration": 1122,
    "start_time": "2022-06-09T22:37:53.948Z"
   },
   {
    "duration": 307,
    "start_time": "2022-06-09T22:37:55.072Z"
   },
   {
    "duration": 12,
    "start_time": "2022-06-09T22:37:55.380Z"
   },
   {
    "duration": 37,
    "start_time": "2022-06-09T22:37:55.394Z"
   },
   {
    "duration": 9,
    "start_time": "2022-06-09T22:37:55.433Z"
   },
   {
    "duration": 15,
    "start_time": "2022-06-09T22:37:55.444Z"
   },
   {
    "duration": 15,
    "start_time": "2022-06-09T22:37:55.461Z"
   },
   {
    "duration": 14,
    "start_time": "2022-06-09T22:37:55.478Z"
   },
   {
    "duration": 9,
    "start_time": "2022-06-09T22:37:55.494Z"
   },
   {
    "duration": 6,
    "start_time": "2022-06-09T22:37:55.505Z"
   },
   {
    "duration": 13,
    "start_time": "2022-06-09T22:37:55.513Z"
   },
   {
    "duration": 31,
    "start_time": "2022-06-09T22:37:55.528Z"
   },
   {
    "duration": 12,
    "start_time": "2022-06-09T22:37:55.561Z"
   },
   {
    "duration": 22,
    "start_time": "2022-06-09T22:37:55.575Z"
   },
   {
    "duration": 25,
    "start_time": "2022-06-09T22:37:55.599Z"
   },
   {
    "duration": 35,
    "start_time": "2022-06-09T22:37:55.625Z"
   },
   {
    "duration": 27,
    "start_time": "2022-06-09T22:37:55.662Z"
   },
   {
    "duration": 16,
    "start_time": "2022-06-09T22:37:55.690Z"
   },
   {
    "duration": 5,
    "start_time": "2022-06-09T22:37:55.707Z"
   },
   {
    "duration": 17,
    "start_time": "2022-06-09T22:37:55.713Z"
   },
   {
    "duration": 27,
    "start_time": "2022-06-09T22:37:55.732Z"
   },
   {
    "duration": 17,
    "start_time": "2022-06-09T22:37:55.761Z"
   },
   {
    "duration": 9,
    "start_time": "2022-06-09T22:37:55.780Z"
   },
   {
    "duration": 18,
    "start_time": "2022-06-09T22:37:55.790Z"
   },
   {
    "duration": 12,
    "start_time": "2022-06-09T22:37:55.809Z"
   },
   {
    "duration": 10,
    "start_time": "2022-06-09T22:37:55.823Z"
   },
   {
    "duration": 18,
    "start_time": "2022-06-09T22:37:55.858Z"
   },
   {
    "duration": 21,
    "start_time": "2022-06-09T22:37:55.879Z"
   },
   {
    "duration": 9,
    "start_time": "2022-06-09T22:37:55.901Z"
   },
   {
    "duration": 22,
    "start_time": "2022-06-09T22:37:55.912Z"
   },
   {
    "duration": 32,
    "start_time": "2022-06-09T22:37:55.936Z"
   },
   {
    "duration": 8,
    "start_time": "2022-06-09T22:37:55.970Z"
   },
   {
    "duration": 41,
    "start_time": "2022-06-09T22:37:55.980Z"
   },
   {
    "duration": 6,
    "start_time": "2022-06-09T22:37:56.023Z"
   },
   {
    "duration": 55,
    "start_time": "2022-06-09T22:37:56.030Z"
   },
   {
    "duration": 24,
    "start_time": "2022-06-09T22:37:56.086Z"
   },
   {
    "duration": 6,
    "start_time": "2022-06-09T22:37:56.111Z"
   },
   {
    "duration": 49,
    "start_time": "2022-06-09T22:37:56.119Z"
   },
   {
    "duration": 10,
    "start_time": "2022-06-09T22:37:56.170Z"
   },
   {
    "duration": 22,
    "start_time": "2022-06-09T22:37:56.181Z"
   },
   {
    "duration": 2,
    "start_time": "2022-06-09T22:37:56.204Z"
   },
   {
    "duration": 7,
    "start_time": "2022-06-09T22:37:56.207Z"
   },
   {
    "duration": 9,
    "start_time": "2022-06-09T22:37:56.215Z"
   },
   {
    "duration": 8,
    "start_time": "2022-06-09T22:37:56.225Z"
   },
   {
    "duration": 5,
    "start_time": "2022-06-09T22:37:56.235Z"
   },
   {
    "duration": 18,
    "start_time": "2022-06-09T22:37:56.241Z"
   },
   {
    "duration": 6,
    "start_time": "2022-06-09T22:37:56.261Z"
   },
   {
    "duration": 6,
    "start_time": "2022-06-09T22:37:56.268Z"
   },
   {
    "duration": 5,
    "start_time": "2022-06-09T22:37:56.276Z"
   },
   {
    "duration": 5,
    "start_time": "2022-06-09T22:37:56.283Z"
   },
   {
    "duration": 96,
    "start_time": "2022-06-09T22:40:51.586Z"
   },
   {
    "duration": 9,
    "start_time": "2022-06-09T22:41:42.835Z"
   },
   {
    "duration": 9,
    "start_time": "2022-06-09T22:41:56.668Z"
   },
   {
    "duration": 9,
    "start_time": "2022-06-09T22:42:02.899Z"
   },
   {
    "duration": 11,
    "start_time": "2022-06-09T22:50:23.841Z"
   },
   {
    "duration": 7,
    "start_time": "2022-06-09T22:52:05.912Z"
   },
   {
    "duration": 16,
    "start_time": "2022-06-09T22:52:22.167Z"
   },
   {
    "duration": 31,
    "start_time": "2022-06-09T22:52:58.743Z"
   },
   {
    "duration": 3,
    "start_time": "2022-06-09T22:53:36.829Z"
   },
   {
    "duration": 10,
    "start_time": "2022-06-09T22:53:44.655Z"
   },
   {
    "duration": 11,
    "start_time": "2022-06-09T22:53:51.774Z"
   },
   {
    "duration": 9,
    "start_time": "2022-06-09T22:58:51.670Z"
   },
   {
    "duration": 21,
    "start_time": "2022-06-09T22:59:27.284Z"
   },
   {
    "duration": 1040,
    "start_time": "2022-06-09T22:59:43.907Z"
   },
   {
    "duration": 326,
    "start_time": "2022-06-09T22:59:44.949Z"
   },
   {
    "duration": 12,
    "start_time": "2022-06-09T22:59:45.276Z"
   },
   {
    "duration": 33,
    "start_time": "2022-06-09T22:59:45.290Z"
   },
   {
    "duration": 8,
    "start_time": "2022-06-09T22:59:45.324Z"
   },
   {
    "duration": 12,
    "start_time": "2022-06-09T22:59:45.333Z"
   },
   {
    "duration": 25,
    "start_time": "2022-06-09T22:59:45.346Z"
   },
   {
    "duration": 19,
    "start_time": "2022-06-09T22:59:45.372Z"
   },
   {
    "duration": 12,
    "start_time": "2022-06-09T22:59:45.392Z"
   },
   {
    "duration": 6,
    "start_time": "2022-06-09T22:59:45.406Z"
   },
   {
    "duration": 12,
    "start_time": "2022-06-09T22:59:45.413Z"
   },
   {
    "duration": 6,
    "start_time": "2022-06-09T22:59:45.427Z"
   },
   {
    "duration": 13,
    "start_time": "2022-06-09T22:59:45.434Z"
   },
   {
    "duration": 31,
    "start_time": "2022-06-09T22:59:45.449Z"
   },
   {
    "duration": 23,
    "start_time": "2022-06-09T22:59:45.481Z"
   },
   {
    "duration": 8,
    "start_time": "2022-06-09T22:59:45.506Z"
   },
   {
    "duration": 27,
    "start_time": "2022-06-09T22:59:45.515Z"
   },
   {
    "duration": 19,
    "start_time": "2022-06-09T22:59:45.559Z"
   },
   {
    "duration": 5,
    "start_time": "2022-06-09T22:59:45.579Z"
   },
   {
    "duration": 13,
    "start_time": "2022-06-09T22:59:45.585Z"
   },
   {
    "duration": 19,
    "start_time": "2022-06-09T22:59:45.599Z"
   },
   {
    "duration": 12,
    "start_time": "2022-06-09T22:59:45.620Z"
   },
   {
    "duration": 38,
    "start_time": "2022-06-09T22:59:45.633Z"
   },
   {
    "duration": 18,
    "start_time": "2022-06-09T22:59:45.672Z"
   },
   {
    "duration": 12,
    "start_time": "2022-06-09T22:59:45.692Z"
   },
   {
    "duration": 9,
    "start_time": "2022-06-09T22:59:45.705Z"
   },
   {
    "duration": 23,
    "start_time": "2022-06-09T22:59:45.716Z"
   },
   {
    "duration": 45,
    "start_time": "2022-06-09T22:59:45.743Z"
   },
   {
    "duration": 9,
    "start_time": "2022-06-09T22:59:45.789Z"
   },
   {
    "duration": 21,
    "start_time": "2022-06-09T22:59:45.799Z"
   },
   {
    "duration": 11,
    "start_time": "2022-06-09T22:59:45.822Z"
   },
   {
    "duration": 8,
    "start_time": "2022-06-09T22:59:45.834Z"
   },
   {
    "duration": 49,
    "start_time": "2022-06-09T22:59:45.844Z"
   },
   {
    "duration": 6,
    "start_time": "2022-06-09T22:59:45.895Z"
   },
   {
    "duration": 31,
    "start_time": "2022-06-09T22:59:45.902Z"
   },
   {
    "duration": 47,
    "start_time": "2022-06-09T22:59:45.935Z"
   },
   {
    "duration": 6,
    "start_time": "2022-06-09T22:59:45.983Z"
   },
   {
    "duration": 26,
    "start_time": "2022-06-09T22:59:45.991Z"
   },
   {
    "duration": 8,
    "start_time": "2022-06-09T22:59:46.019Z"
   },
   {
    "duration": 44,
    "start_time": "2022-06-09T22:59:46.029Z"
   },
   {
    "duration": 113,
    "start_time": "2022-06-09T22:59:46.075Z"
   },
   {
    "duration": 0,
    "start_time": "2022-06-09T22:59:46.189Z"
   },
   {
    "duration": 0,
    "start_time": "2022-06-09T22:59:46.191Z"
   },
   {
    "duration": 0,
    "start_time": "2022-06-09T22:59:46.192Z"
   },
   {
    "duration": 0,
    "start_time": "2022-06-09T22:59:46.193Z"
   },
   {
    "duration": 0,
    "start_time": "2022-06-09T22:59:46.195Z"
   },
   {
    "duration": 0,
    "start_time": "2022-06-09T22:59:46.198Z"
   },
   {
    "duration": 0,
    "start_time": "2022-06-09T22:59:46.199Z"
   },
   {
    "duration": 0,
    "start_time": "2022-06-09T22:59:46.200Z"
   },
   {
    "duration": 0,
    "start_time": "2022-06-09T22:59:46.201Z"
   },
   {
    "duration": 1204,
    "start_time": "2022-06-12T17:52:37.323Z"
   },
   {
    "duration": 873,
    "start_time": "2022-06-12T17:52:38.529Z"
   },
   {
    "duration": 12,
    "start_time": "2022-06-12T17:52:39.404Z"
   },
   {
    "duration": 29,
    "start_time": "2022-06-12T17:52:39.418Z"
   },
   {
    "duration": 8,
    "start_time": "2022-06-12T17:52:39.449Z"
   },
   {
    "duration": 14,
    "start_time": "2022-06-12T17:52:39.458Z"
   },
   {
    "duration": 13,
    "start_time": "2022-06-12T17:52:39.473Z"
   },
   {
    "duration": 12,
    "start_time": "2022-06-12T17:52:39.487Z"
   },
   {
    "duration": 10,
    "start_time": "2022-06-12T17:52:39.501Z"
   },
   {
    "duration": 6,
    "start_time": "2022-06-12T17:52:39.513Z"
   },
   {
    "duration": 12,
    "start_time": "2022-06-12T17:52:39.520Z"
   },
   {
    "duration": 3,
    "start_time": "2022-06-12T17:52:39.534Z"
   },
   {
    "duration": 21,
    "start_time": "2022-06-12T17:52:39.565Z"
   },
   {
    "duration": 19,
    "start_time": "2022-06-12T17:52:39.589Z"
   },
   {
    "duration": 23,
    "start_time": "2022-06-12T17:52:39.610Z"
   },
   {
    "duration": 8,
    "start_time": "2022-06-12T17:52:39.635Z"
   },
   {
    "duration": 41,
    "start_time": "2022-06-12T17:52:39.645Z"
   },
   {
    "duration": 15,
    "start_time": "2022-06-12T17:52:39.688Z"
   },
   {
    "duration": 4,
    "start_time": "2022-06-12T17:52:39.705Z"
   },
   {
    "duration": 13,
    "start_time": "2022-06-12T17:52:39.710Z"
   },
   {
    "duration": 40,
    "start_time": "2022-06-12T17:52:39.725Z"
   },
   {
    "duration": 13,
    "start_time": "2022-06-12T17:52:39.766Z"
   },
   {
    "duration": 7,
    "start_time": "2022-06-12T17:52:39.781Z"
   },
   {
    "duration": 15,
    "start_time": "2022-06-12T17:52:39.790Z"
   },
   {
    "duration": 12,
    "start_time": "2022-06-12T17:52:39.807Z"
   },
   {
    "duration": 9,
    "start_time": "2022-06-12T17:52:39.821Z"
   },
   {
    "duration": 48,
    "start_time": "2022-06-12T17:52:39.831Z"
   },
   {
    "duration": 20,
    "start_time": "2022-06-12T17:52:39.881Z"
   },
   {
    "duration": 9,
    "start_time": "2022-06-12T17:52:39.903Z"
   },
   {
    "duration": 19,
    "start_time": "2022-06-12T17:52:39.914Z"
   },
   {
    "duration": 31,
    "start_time": "2022-06-12T17:52:39.934Z"
   },
   {
    "duration": 8,
    "start_time": "2022-06-12T17:52:39.967Z"
   },
   {
    "duration": 40,
    "start_time": "2022-06-12T17:52:39.976Z"
   },
   {
    "duration": 6,
    "start_time": "2022-06-12T17:52:40.018Z"
   },
   {
    "duration": 56,
    "start_time": "2022-06-12T17:52:40.026Z"
   },
   {
    "duration": 24,
    "start_time": "2022-06-12T17:52:40.084Z"
   },
   {
    "duration": 6,
    "start_time": "2022-06-12T17:52:40.110Z"
   },
   {
    "duration": 49,
    "start_time": "2022-06-12T17:52:40.118Z"
   },
   {
    "duration": 8,
    "start_time": "2022-06-12T17:52:40.169Z"
   },
   {
    "duration": 22,
    "start_time": "2022-06-12T17:52:40.178Z"
   },
   {
    "duration": 108,
    "start_time": "2022-06-12T17:52:40.204Z"
   },
   {
    "duration": 0,
    "start_time": "2022-06-12T17:52:40.314Z"
   },
   {
    "duration": 0,
    "start_time": "2022-06-12T17:52:40.315Z"
   },
   {
    "duration": 0,
    "start_time": "2022-06-12T17:52:40.316Z"
   },
   {
    "duration": 0,
    "start_time": "2022-06-12T17:52:40.317Z"
   },
   {
    "duration": 0,
    "start_time": "2022-06-12T17:52:40.319Z"
   },
   {
    "duration": 0,
    "start_time": "2022-06-12T17:52:40.320Z"
   },
   {
    "duration": 0,
    "start_time": "2022-06-12T17:52:40.320Z"
   },
   {
    "duration": 0,
    "start_time": "2022-06-12T17:52:40.321Z"
   },
   {
    "duration": 0,
    "start_time": "2022-06-12T17:52:40.322Z"
   },
   {
    "duration": 1138,
    "start_time": "2022-06-12T18:45:30.356Z"
   },
   {
    "duration": 309,
    "start_time": "2022-06-12T18:45:31.496Z"
   },
   {
    "duration": 14,
    "start_time": "2022-06-12T18:45:31.807Z"
   },
   {
    "duration": 41,
    "start_time": "2022-06-12T18:45:31.822Z"
   },
   {
    "duration": 9,
    "start_time": "2022-06-12T18:45:31.865Z"
   },
   {
    "duration": 13,
    "start_time": "2022-06-12T18:45:31.876Z"
   },
   {
    "duration": 17,
    "start_time": "2022-06-12T18:45:31.890Z"
   },
   {
    "duration": 16,
    "start_time": "2022-06-12T18:45:31.909Z"
   },
   {
    "duration": 14,
    "start_time": "2022-06-12T18:45:31.926Z"
   },
   {
    "duration": 23,
    "start_time": "2022-06-12T18:45:31.942Z"
   },
   {
    "duration": 17,
    "start_time": "2022-06-12T18:45:31.967Z"
   },
   {
    "duration": 14,
    "start_time": "2022-06-12T18:45:31.986Z"
   },
   {
    "duration": 14,
    "start_time": "2022-06-12T18:45:32.002Z"
   },
   {
    "duration": 30,
    "start_time": "2022-06-12T18:45:32.020Z"
   },
   {
    "duration": 28,
    "start_time": "2022-06-12T18:45:32.052Z"
   },
   {
    "duration": 9,
    "start_time": "2022-06-12T18:45:32.081Z"
   },
   {
    "duration": 24,
    "start_time": "2022-06-12T18:45:32.092Z"
   },
   {
    "duration": 16,
    "start_time": "2022-06-12T18:45:32.117Z"
   },
   {
    "duration": 30,
    "start_time": "2022-06-12T18:45:32.135Z"
   },
   {
    "duration": 10,
    "start_time": "2022-06-12T18:45:32.167Z"
   },
   {
    "duration": 18,
    "start_time": "2022-06-12T18:45:32.179Z"
   },
   {
    "duration": 12,
    "start_time": "2022-06-12T18:45:32.198Z"
   },
   {
    "duration": 7,
    "start_time": "2022-06-12T18:45:32.211Z"
   },
   {
    "duration": 14,
    "start_time": "2022-06-12T18:45:32.220Z"
   },
   {
    "duration": 38,
    "start_time": "2022-06-12T18:45:32.235Z"
   },
   {
    "duration": 10,
    "start_time": "2022-06-12T18:45:32.274Z"
   },
   {
    "duration": 17,
    "start_time": "2022-06-12T18:45:32.286Z"
   },
   {
    "duration": 20,
    "start_time": "2022-06-12T18:45:32.304Z"
   },
   {
    "duration": 9,
    "start_time": "2022-06-12T18:45:32.325Z"
   },
   {
    "duration": 43,
    "start_time": "2022-06-12T18:45:32.336Z"
   },
   {
    "duration": 12,
    "start_time": "2022-06-12T18:45:32.380Z"
   },
   {
    "duration": 8,
    "start_time": "2022-06-12T18:45:32.394Z"
   },
   {
    "duration": 40,
    "start_time": "2022-06-12T18:45:32.403Z"
   },
   {
    "duration": 6,
    "start_time": "2022-06-12T18:45:32.464Z"
   },
   {
    "duration": 30,
    "start_time": "2022-06-12T18:45:32.472Z"
   },
   {
    "duration": 24,
    "start_time": "2022-06-12T18:45:32.504Z"
   },
   {
    "duration": 6,
    "start_time": "2022-06-12T18:45:32.529Z"
   },
   {
    "duration": 25,
    "start_time": "2022-06-12T18:45:32.565Z"
   },
   {
    "duration": 7,
    "start_time": "2022-06-12T18:45:32.592Z"
   },
   {
    "duration": 22,
    "start_time": "2022-06-12T18:45:32.600Z"
   },
   {
    "duration": 3,
    "start_time": "2022-06-12T18:45:32.625Z"
   },
   {
    "duration": 10,
    "start_time": "2022-06-12T18:45:32.629Z"
   },
   {
    "duration": 24,
    "start_time": "2022-06-12T18:45:32.641Z"
   },
   {
    "duration": 2,
    "start_time": "2022-06-12T18:45:32.666Z"
   },
   {
    "duration": 5,
    "start_time": "2022-06-12T18:45:32.670Z"
   },
   {
    "duration": 5,
    "start_time": "2022-06-12T18:45:32.676Z"
   },
   {
    "duration": 4,
    "start_time": "2022-06-12T18:45:32.683Z"
   },
   {
    "duration": 4,
    "start_time": "2022-06-12T18:45:32.689Z"
   },
   {
    "duration": 5,
    "start_time": "2022-06-12T18:45:32.695Z"
   },
   {
    "duration": 5,
    "start_time": "2022-06-12T18:45:32.701Z"
   },
   {
    "duration": 27,
    "start_time": "2022-06-12T18:46:43.899Z"
   },
   {
    "duration": 17,
    "start_time": "2022-06-12T18:46:54.645Z"
   },
   {
    "duration": 11,
    "start_time": "2022-06-12T18:47:41.744Z"
   },
   {
    "duration": 31,
    "start_time": "2022-06-12T18:48:07.345Z"
   },
   {
    "duration": 11,
    "start_time": "2022-06-12T18:49:35.565Z"
   },
   {
    "duration": 35,
    "start_time": "2022-06-12T18:49:56.011Z"
   },
   {
    "duration": 38,
    "start_time": "2022-06-12T18:52:32.900Z"
   },
   {
    "duration": 1097,
    "start_time": "2022-06-12T18:53:40.108Z"
   },
   {
    "duration": 322,
    "start_time": "2022-06-12T18:53:41.207Z"
   },
   {
    "duration": 12,
    "start_time": "2022-06-12T18:53:41.531Z"
   },
   {
    "duration": 32,
    "start_time": "2022-06-12T18:53:41.546Z"
   },
   {
    "duration": 9,
    "start_time": "2022-06-12T18:53:41.580Z"
   },
   {
    "duration": 12,
    "start_time": "2022-06-12T18:53:41.591Z"
   },
   {
    "duration": 16,
    "start_time": "2022-06-12T18:53:41.604Z"
   },
   {
    "duration": 16,
    "start_time": "2022-06-12T18:53:41.621Z"
   },
   {
    "duration": 31,
    "start_time": "2022-06-12T18:53:41.639Z"
   },
   {
    "duration": 6,
    "start_time": "2022-06-12T18:53:41.673Z"
   },
   {
    "duration": 18,
    "start_time": "2022-06-12T18:53:41.681Z"
   },
   {
    "duration": 5,
    "start_time": "2022-06-12T18:53:41.702Z"
   },
   {
    "duration": 14,
    "start_time": "2022-06-12T18:53:41.709Z"
   },
   {
    "duration": 45,
    "start_time": "2022-06-12T18:53:41.724Z"
   },
   {
    "duration": 26,
    "start_time": "2022-06-12T18:53:41.771Z"
   },
   {
    "duration": 10,
    "start_time": "2022-06-12T18:53:41.798Z"
   },
   {
    "duration": 35,
    "start_time": "2022-06-12T18:53:41.810Z"
   },
   {
    "duration": 31,
    "start_time": "2022-06-12T18:53:41.847Z"
   },
   {
    "duration": 5,
    "start_time": "2022-06-12T18:53:41.880Z"
   },
   {
    "duration": 11,
    "start_time": "2022-06-12T18:53:41.887Z"
   },
   {
    "duration": 18,
    "start_time": "2022-06-12T18:53:41.900Z"
   },
   {
    "duration": 13,
    "start_time": "2022-06-12T18:53:41.920Z"
   },
   {
    "duration": 8,
    "start_time": "2022-06-12T18:53:41.964Z"
   },
   {
    "duration": 18,
    "start_time": "2022-06-12T18:53:41.974Z"
   },
   {
    "duration": 14,
    "start_time": "2022-06-12T18:53:41.994Z"
   },
   {
    "duration": 9,
    "start_time": "2022-06-12T18:53:42.010Z"
   },
   {
    "duration": 45,
    "start_time": "2022-06-12T18:53:42.021Z"
   },
   {
    "duration": 23,
    "start_time": "2022-06-12T18:53:42.069Z"
   },
   {
    "duration": 9,
    "start_time": "2022-06-12T18:53:42.095Z"
   },
   {
    "duration": 19,
    "start_time": "2022-06-12T18:53:42.106Z"
   },
   {
    "duration": 40,
    "start_time": "2022-06-12T18:53:42.127Z"
   },
   {
    "duration": 9,
    "start_time": "2022-06-12T18:53:42.169Z"
   },
   {
    "duration": 43,
    "start_time": "2022-06-12T18:53:42.180Z"
   },
   {
    "duration": 6,
    "start_time": "2022-06-12T18:53:42.225Z"
   },
   {
    "duration": 48,
    "start_time": "2022-06-12T18:53:42.233Z"
   },
   {
    "duration": 26,
    "start_time": "2022-06-12T18:53:42.283Z"
   },
   {
    "duration": 7,
    "start_time": "2022-06-12T18:53:42.311Z"
   },
   {
    "duration": 48,
    "start_time": "2022-06-12T18:53:42.319Z"
   },
   {
    "duration": 9,
    "start_time": "2022-06-12T18:53:42.369Z"
   },
   {
    "duration": 21,
    "start_time": "2022-06-12T18:53:42.380Z"
   },
   {
    "duration": 22,
    "start_time": "2022-06-12T18:53:42.403Z"
   },
   {
    "duration": 2,
    "start_time": "2022-06-12T18:53:42.427Z"
   },
   {
    "duration": 8,
    "start_time": "2022-06-12T18:53:42.431Z"
   },
   {
    "duration": 2,
    "start_time": "2022-06-12T18:53:42.465Z"
   },
   {
    "duration": 5,
    "start_time": "2022-06-12T18:53:42.469Z"
   },
   {
    "duration": 6,
    "start_time": "2022-06-12T18:53:42.475Z"
   },
   {
    "duration": 8,
    "start_time": "2022-06-12T18:53:42.482Z"
   },
   {
    "duration": 5,
    "start_time": "2022-06-12T18:53:42.491Z"
   },
   {
    "duration": 8,
    "start_time": "2022-06-12T18:53:42.498Z"
   },
   {
    "duration": 6,
    "start_time": "2022-06-12T18:53:42.508Z"
   },
   {
    "duration": 13,
    "start_time": "2022-06-12T18:54:25.326Z"
   },
   {
    "duration": 51,
    "start_time": "2022-06-12T18:57:01.207Z"
   },
   {
    "duration": 33,
    "start_time": "2022-06-12T18:57:37.106Z"
   },
   {
    "duration": 1157,
    "start_time": "2022-06-12T19:02:40.953Z"
   },
   {
    "duration": 302,
    "start_time": "2022-06-12T19:02:42.112Z"
   },
   {
    "duration": 13,
    "start_time": "2022-06-12T19:02:42.416Z"
   },
   {
    "duration": 32,
    "start_time": "2022-06-12T19:02:42.431Z"
   },
   {
    "duration": 8,
    "start_time": "2022-06-12T19:02:42.464Z"
   },
   {
    "duration": 12,
    "start_time": "2022-06-12T19:02:42.474Z"
   },
   {
    "duration": 15,
    "start_time": "2022-06-12T19:02:42.487Z"
   },
   {
    "duration": 13,
    "start_time": "2022-06-12T19:02:42.503Z"
   },
   {
    "duration": 11,
    "start_time": "2022-06-12T19:02:42.518Z"
   },
   {
    "duration": 33,
    "start_time": "2022-06-12T19:02:42.532Z"
   },
   {
    "duration": 12,
    "start_time": "2022-06-12T19:02:42.567Z"
   },
   {
    "duration": 6,
    "start_time": "2022-06-12T19:02:42.581Z"
   },
   {
    "duration": 17,
    "start_time": "2022-06-12T19:02:42.588Z"
   },
   {
    "duration": 22,
    "start_time": "2022-06-12T19:02:42.607Z"
   },
   {
    "duration": 44,
    "start_time": "2022-06-12T19:02:42.630Z"
   },
   {
    "duration": 8,
    "start_time": "2022-06-12T19:02:42.676Z"
   },
   {
    "duration": 25,
    "start_time": "2022-06-12T19:02:42.685Z"
   },
   {
    "duration": 15,
    "start_time": "2022-06-12T19:02:42.712Z"
   },
   {
    "duration": 4,
    "start_time": "2022-06-12T19:02:42.728Z"
   },
   {
    "duration": 30,
    "start_time": "2022-06-12T19:02:42.734Z"
   },
   {
    "duration": 16,
    "start_time": "2022-06-12T19:02:42.766Z"
   },
   {
    "duration": 11,
    "start_time": "2022-06-12T19:02:42.783Z"
   },
   {
    "duration": 7,
    "start_time": "2022-06-12T19:02:42.795Z"
   },
   {
    "duration": 17,
    "start_time": "2022-06-12T19:02:42.803Z"
   },
   {
    "duration": 42,
    "start_time": "2022-06-12T19:02:42.823Z"
   },
   {
    "duration": 11,
    "start_time": "2022-06-12T19:02:42.867Z"
   },
   {
    "duration": 19,
    "start_time": "2022-06-12T19:02:42.879Z"
   },
   {
    "duration": 22,
    "start_time": "2022-06-12T19:02:42.901Z"
   },
   {
    "duration": 10,
    "start_time": "2022-06-12T19:02:42.925Z"
   },
   {
    "duration": 17,
    "start_time": "2022-06-12T19:02:42.965Z"
   },
   {
    "duration": 12,
    "start_time": "2022-06-12T19:02:42.983Z"
   },
   {
    "duration": 10,
    "start_time": "2022-06-12T19:02:42.996Z"
   },
   {
    "duration": 69,
    "start_time": "2022-06-12T19:02:43.007Z"
   },
   {
    "duration": 7,
    "start_time": "2022-06-12T19:02:43.077Z"
   },
   {
    "duration": 31,
    "start_time": "2022-06-12T19:02:43.085Z"
   },
   {
    "duration": 46,
    "start_time": "2022-06-12T19:02:43.118Z"
   },
   {
    "duration": 7,
    "start_time": "2022-06-12T19:02:43.166Z"
   },
   {
    "duration": 25,
    "start_time": "2022-06-12T19:02:43.174Z"
   },
   {
    "duration": 8,
    "start_time": "2022-06-12T19:02:43.201Z"
   },
   {
    "duration": 22,
    "start_time": "2022-06-12T19:02:43.210Z"
   },
   {
    "duration": 49,
    "start_time": "2022-06-12T19:02:43.234Z"
   },
   {
    "duration": 11,
    "start_time": "2022-06-12T19:02:43.285Z"
   },
   {
    "duration": 2,
    "start_time": "2022-06-12T19:02:43.298Z"
   },
   {
    "duration": 8,
    "start_time": "2022-06-12T19:02:43.301Z"
   },
   {
    "duration": 8,
    "start_time": "2022-06-12T19:02:43.311Z"
   },
   {
    "duration": 6,
    "start_time": "2022-06-12T19:02:43.320Z"
   },
   {
    "duration": 5,
    "start_time": "2022-06-12T19:02:43.327Z"
   },
   {
    "duration": 9,
    "start_time": "2022-06-12T19:02:43.334Z"
   },
   {
    "duration": 7,
    "start_time": "2022-06-12T19:02:43.344Z"
   },
   {
    "duration": 13,
    "start_time": "2022-06-12T19:02:43.352Z"
   },
   {
    "duration": 7,
    "start_time": "2022-06-12T19:02:43.367Z"
   },
   {
    "duration": 1226,
    "start_time": "2022-06-13T01:50:56.610Z"
   },
   {
    "duration": 963,
    "start_time": "2022-06-13T01:50:57.838Z"
   },
   {
    "duration": 11,
    "start_time": "2022-06-13T01:50:58.803Z"
   },
   {
    "duration": 32,
    "start_time": "2022-06-13T01:50:58.816Z"
   },
   {
    "duration": 7,
    "start_time": "2022-06-13T01:50:58.849Z"
   },
   {
    "duration": 12,
    "start_time": "2022-06-13T01:50:58.858Z"
   },
   {
    "duration": 14,
    "start_time": "2022-06-13T01:50:58.871Z"
   },
   {
    "duration": 19,
    "start_time": "2022-06-13T01:50:58.886Z"
   },
   {
    "duration": 20,
    "start_time": "2022-06-13T01:50:58.907Z"
   },
   {
    "duration": 5,
    "start_time": "2022-06-13T01:50:58.929Z"
   },
   {
    "duration": 11,
    "start_time": "2022-06-13T01:50:58.936Z"
   },
   {
    "duration": 9,
    "start_time": "2022-06-13T01:50:58.949Z"
   },
   {
    "duration": 15,
    "start_time": "2022-06-13T01:50:58.959Z"
   },
   {
    "duration": 21,
    "start_time": "2022-06-13T01:50:58.976Z"
   },
   {
    "duration": 35,
    "start_time": "2022-06-13T01:50:58.998Z"
   },
   {
    "duration": 8,
    "start_time": "2022-06-13T01:50:59.035Z"
   },
   {
    "duration": 25,
    "start_time": "2022-06-13T01:50:59.044Z"
   },
   {
    "duration": 15,
    "start_time": "2022-06-13T01:50:59.070Z"
   },
   {
    "duration": 5,
    "start_time": "2022-06-13T01:50:59.086Z"
   },
   {
    "duration": 29,
    "start_time": "2022-06-13T01:50:59.092Z"
   },
   {
    "duration": 14,
    "start_time": "2022-06-13T01:50:59.127Z"
   },
   {
    "duration": 13,
    "start_time": "2022-06-13T01:50:59.142Z"
   },
   {
    "duration": 6,
    "start_time": "2022-06-13T01:50:59.157Z"
   },
   {
    "duration": 20,
    "start_time": "2022-06-13T01:50:59.165Z"
   },
   {
    "duration": 12,
    "start_time": "2022-06-13T01:50:59.187Z"
   },
   {
    "duration": 31,
    "start_time": "2022-06-13T01:50:59.201Z"
   },
   {
    "duration": 17,
    "start_time": "2022-06-13T01:50:59.233Z"
   },
   {
    "duration": 21,
    "start_time": "2022-06-13T01:50:59.252Z"
   },
   {
    "duration": 8,
    "start_time": "2022-06-13T01:50:59.274Z"
   },
   {
    "duration": 19,
    "start_time": "2022-06-13T01:50:59.283Z"
   },
   {
    "duration": 33,
    "start_time": "2022-06-13T01:50:59.303Z"
   },
   {
    "duration": 8,
    "start_time": "2022-06-13T01:50:59.338Z"
   },
   {
    "duration": 40,
    "start_time": "2022-06-13T01:50:59.347Z"
   },
   {
    "duration": 6,
    "start_time": "2022-06-13T01:50:59.389Z"
   },
   {
    "duration": 49,
    "start_time": "2022-06-13T01:50:59.396Z"
   },
   {
    "duration": 22,
    "start_time": "2022-06-13T01:50:59.447Z"
   },
   {
    "duration": 6,
    "start_time": "2022-06-13T01:50:59.471Z"
   },
   {
    "duration": 25,
    "start_time": "2022-06-13T01:50:59.478Z"
   },
   {
    "duration": 27,
    "start_time": "2022-06-13T01:50:59.504Z"
   },
   {
    "duration": 20,
    "start_time": "2022-06-13T01:50:59.532Z"
   },
   {
    "duration": 20,
    "start_time": "2022-06-13T01:50:59.554Z"
   },
   {
    "duration": 13,
    "start_time": "2022-06-13T01:50:59.576Z"
   },
   {
    "duration": 3,
    "start_time": "2022-06-13T01:50:59.590Z"
   },
   {
    "duration": 5,
    "start_time": "2022-06-13T01:50:59.594Z"
   },
   {
    "duration": 7,
    "start_time": "2022-06-13T01:50:59.626Z"
   },
   {
    "duration": 6,
    "start_time": "2022-06-13T01:50:59.634Z"
   },
   {
    "duration": 6,
    "start_time": "2022-06-13T01:50:59.641Z"
   },
   {
    "duration": 5,
    "start_time": "2022-06-13T01:50:59.649Z"
   },
   {
    "duration": 11,
    "start_time": "2022-06-13T01:50:59.655Z"
   },
   {
    "duration": 5,
    "start_time": "2022-06-13T01:50:59.667Z"
   },
   {
    "duration": 6,
    "start_time": "2022-06-13T01:50:59.673Z"
   },
   {
    "duration": 86,
    "start_time": "2022-06-13T01:51:41.372Z"
   },
   {
    "duration": 1133,
    "start_time": "2022-06-13T01:52:00.817Z"
   },
   {
    "duration": 295,
    "start_time": "2022-06-13T01:52:01.952Z"
   },
   {
    "duration": 11,
    "start_time": "2022-06-13T01:52:02.249Z"
   },
   {
    "duration": 40,
    "start_time": "2022-06-13T01:52:02.261Z"
   },
   {
    "duration": 8,
    "start_time": "2022-06-13T01:52:02.302Z"
   },
   {
    "duration": 12,
    "start_time": "2022-06-13T01:52:02.312Z"
   },
   {
    "duration": 23,
    "start_time": "2022-06-13T01:52:02.326Z"
   },
   {
    "duration": 22,
    "start_time": "2022-06-13T01:52:02.350Z"
   },
   {
    "duration": 20,
    "start_time": "2022-06-13T01:52:02.374Z"
   },
   {
    "duration": 18,
    "start_time": "2022-06-13T01:52:02.396Z"
   },
   {
    "duration": 22,
    "start_time": "2022-06-13T01:52:02.415Z"
   },
   {
    "duration": 18,
    "start_time": "2022-06-13T01:52:02.438Z"
   },
   {
    "duration": 29,
    "start_time": "2022-06-13T01:52:02.457Z"
   },
   {
    "duration": 24,
    "start_time": "2022-06-13T01:52:02.488Z"
   },
   {
    "duration": 22,
    "start_time": "2022-06-13T01:52:02.514Z"
   },
   {
    "duration": 8,
    "start_time": "2022-06-13T01:52:02.537Z"
   },
   {
    "duration": 46,
    "start_time": "2022-06-13T01:52:02.547Z"
   },
   {
    "duration": 16,
    "start_time": "2022-06-13T01:52:02.595Z"
   },
   {
    "duration": 4,
    "start_time": "2022-06-13T01:52:02.612Z"
   },
   {
    "duration": 12,
    "start_time": "2022-06-13T01:52:02.618Z"
   },
   {
    "duration": 17,
    "start_time": "2022-06-13T01:52:02.631Z"
   },
   {
    "duration": 10,
    "start_time": "2022-06-13T01:52:02.650Z"
   },
   {
    "duration": 15,
    "start_time": "2022-06-13T01:52:02.662Z"
   },
   {
    "duration": 26,
    "start_time": "2022-06-13T01:52:02.678Z"
   },
   {
    "duration": 13,
    "start_time": "2022-06-13T01:52:02.706Z"
   },
   {
    "duration": 11,
    "start_time": "2022-06-13T01:52:02.720Z"
   },
   {
    "duration": 15,
    "start_time": "2022-06-13T01:52:02.732Z"
   },
   {
    "duration": 17,
    "start_time": "2022-06-13T01:52:02.750Z"
   },
   {
    "duration": 7,
    "start_time": "2022-06-13T01:52:02.769Z"
   },
   {
    "duration": 19,
    "start_time": "2022-06-13T01:52:02.777Z"
   },
   {
    "duration": 30,
    "start_time": "2022-06-13T01:52:02.797Z"
   },
   {
    "duration": 8,
    "start_time": "2022-06-13T01:52:02.829Z"
   },
   {
    "duration": 42,
    "start_time": "2022-06-13T01:52:02.838Z"
   },
   {
    "duration": 6,
    "start_time": "2022-06-13T01:52:02.882Z"
   },
   {
    "duration": 47,
    "start_time": "2022-06-13T01:52:02.889Z"
   },
   {
    "duration": 25,
    "start_time": "2022-06-13T01:52:02.938Z"
   },
   {
    "duration": 5,
    "start_time": "2022-06-13T01:52:02.965Z"
   },
   {
    "duration": 30,
    "start_time": "2022-06-13T01:52:02.972Z"
   },
   {
    "duration": 25,
    "start_time": "2022-06-13T01:52:03.004Z"
   },
   {
    "duration": 19,
    "start_time": "2022-06-13T01:52:03.030Z"
   },
   {
    "duration": 98,
    "start_time": "2022-06-13T01:52:03.050Z"
   },
   {
    "duration": 0,
    "start_time": "2022-06-13T01:52:03.149Z"
   },
   {
    "duration": 0,
    "start_time": "2022-06-13T01:52:03.151Z"
   },
   {
    "duration": 1,
    "start_time": "2022-06-13T01:52:03.151Z"
   },
   {
    "duration": 0,
    "start_time": "2022-06-13T01:52:03.152Z"
   },
   {
    "duration": 0,
    "start_time": "2022-06-13T01:52:03.153Z"
   },
   {
    "duration": 0,
    "start_time": "2022-06-13T01:52:03.155Z"
   },
   {
    "duration": 0,
    "start_time": "2022-06-13T01:52:03.155Z"
   },
   {
    "duration": 0,
    "start_time": "2022-06-13T01:52:03.156Z"
   },
   {
    "duration": 0,
    "start_time": "2022-06-13T01:52:03.158Z"
   },
   {
    "duration": 0,
    "start_time": "2022-06-13T01:52:03.159Z"
   },
   {
    "duration": 20,
    "start_time": "2022-06-13T01:52:15.610Z"
   },
   {
    "duration": 11,
    "start_time": "2022-06-13T01:52:25.875Z"
   },
   {
    "duration": 1199,
    "start_time": "2022-06-13T18:45:01.110Z"
   },
   {
    "duration": 685,
    "start_time": "2022-06-13T18:45:02.311Z"
   },
   {
    "duration": 11,
    "start_time": "2022-06-13T18:45:02.998Z"
   },
   {
    "duration": 32,
    "start_time": "2022-06-13T18:45:03.011Z"
   },
   {
    "duration": 8,
    "start_time": "2022-06-13T18:45:03.045Z"
   },
   {
    "duration": 16,
    "start_time": "2022-06-13T18:45:03.054Z"
   },
   {
    "duration": 24,
    "start_time": "2022-06-13T18:45:03.071Z"
   },
   {
    "duration": 10,
    "start_time": "2022-06-13T18:45:03.096Z"
   },
   {
    "duration": 9,
    "start_time": "2022-06-13T18:45:03.108Z"
   },
   {
    "duration": 5,
    "start_time": "2022-06-13T18:45:03.119Z"
   },
   {
    "duration": 12,
    "start_time": "2022-06-13T18:45:03.125Z"
   },
   {
    "duration": 9,
    "start_time": "2022-06-13T18:45:03.139Z"
   },
   {
    "duration": 13,
    "start_time": "2022-06-13T18:45:03.150Z"
   },
   {
    "duration": 32,
    "start_time": "2022-06-13T18:45:03.165Z"
   },
   {
    "duration": 21,
    "start_time": "2022-06-13T18:45:03.198Z"
   },
   {
    "duration": 7,
    "start_time": "2022-06-13T18:45:03.221Z"
   },
   {
    "duration": 23,
    "start_time": "2022-06-13T18:45:03.229Z"
   },
   {
    "duration": 14,
    "start_time": "2022-06-13T18:45:03.253Z"
   },
   {
    "duration": 26,
    "start_time": "2022-06-13T18:45:03.268Z"
   },
   {
    "duration": 9,
    "start_time": "2022-06-13T18:45:03.295Z"
   },
   {
    "duration": 15,
    "start_time": "2022-06-13T18:45:03.305Z"
   },
   {
    "duration": 11,
    "start_time": "2022-06-13T18:45:03.322Z"
   },
   {
    "duration": 7,
    "start_time": "2022-06-13T18:45:03.335Z"
   },
   {
    "duration": 15,
    "start_time": "2022-06-13T18:45:03.344Z"
   },
   {
    "duration": 39,
    "start_time": "2022-06-13T18:45:03.360Z"
   },
   {
    "duration": 9,
    "start_time": "2022-06-13T18:45:03.400Z"
   },
   {
    "duration": 14,
    "start_time": "2022-06-13T18:45:03.410Z"
   },
   {
    "duration": 18,
    "start_time": "2022-06-13T18:45:03.427Z"
   },
   {
    "duration": 8,
    "start_time": "2022-06-13T18:45:03.446Z"
   },
   {
    "duration": 44,
    "start_time": "2022-06-13T18:45:03.455Z"
   },
   {
    "duration": 11,
    "start_time": "2022-06-13T18:45:03.501Z"
   },
   {
    "duration": 8,
    "start_time": "2022-06-13T18:45:03.513Z"
   },
   {
    "duration": 40,
    "start_time": "2022-06-13T18:45:03.523Z"
   },
   {
    "duration": 6,
    "start_time": "2022-06-13T18:45:03.564Z"
   },
   {
    "duration": 42,
    "start_time": "2022-06-13T18:45:03.571Z"
   },
   {
    "duration": 21,
    "start_time": "2022-06-13T18:45:03.614Z"
   },
   {
    "duration": 5,
    "start_time": "2022-06-13T18:45:03.637Z"
   },
   {
    "duration": 32,
    "start_time": "2022-06-13T18:45:03.644Z"
   },
   {
    "duration": 9,
    "start_time": "2022-06-13T18:45:03.693Z"
   },
   {
    "duration": 22,
    "start_time": "2022-06-13T18:45:03.704Z"
   },
   {
    "duration": 21,
    "start_time": "2022-06-13T18:45:03.727Z"
   },
   {
    "duration": 21,
    "start_time": "2022-06-13T18:45:03.750Z"
   },
   {
    "duration": 4,
    "start_time": "2022-06-13T18:45:03.772Z"
   },
   {
    "duration": 0,
    "start_time": "2022-06-13T18:45:03.794Z"
   },
   {
    "duration": 0,
    "start_time": "2022-06-13T18:45:03.796Z"
   },
   {
    "duration": 0,
    "start_time": "2022-06-13T18:45:03.797Z"
   },
   {
    "duration": 0,
    "start_time": "2022-06-13T18:45:03.798Z"
   },
   {
    "duration": 0,
    "start_time": "2022-06-13T18:45:03.798Z"
   },
   {
    "duration": 0,
    "start_time": "2022-06-13T18:45:03.800Z"
   },
   {
    "duration": 0,
    "start_time": "2022-06-13T18:45:03.801Z"
   },
   {
    "duration": 0,
    "start_time": "2022-06-13T18:45:03.802Z"
   },
   {
    "duration": 43,
    "start_time": "2022-06-13T19:48:51.990Z"
   },
   {
    "duration": 5,
    "start_time": "2022-06-13T19:49:06.209Z"
   },
   {
    "duration": 5,
    "start_time": "2022-06-13T19:49:39.771Z"
   },
   {
    "duration": 6,
    "start_time": "2022-06-13T19:49:45.730Z"
   },
   {
    "duration": 7,
    "start_time": "2022-06-13T19:49:52.601Z"
   },
   {
    "duration": 37,
    "start_time": "2022-06-13T19:52:03.001Z"
   },
   {
    "duration": 24,
    "start_time": "2022-06-13T19:52:49.978Z"
   },
   {
    "duration": 18,
    "start_time": "2022-06-13T19:53:08.108Z"
   },
   {
    "duration": 85,
    "start_time": "2022-06-13T19:53:44.153Z"
   },
   {
    "duration": 6,
    "start_time": "2022-06-13T19:53:47.028Z"
   },
   {
    "duration": 4,
    "start_time": "2022-06-13T19:54:07.950Z"
   },
   {
    "duration": 4,
    "start_time": "2022-06-13T19:54:25.535Z"
   },
   {
    "duration": 5,
    "start_time": "2022-06-13T19:54:34.924Z"
   },
   {
    "duration": 5,
    "start_time": "2022-06-13T19:54:44.218Z"
   },
   {
    "duration": 4,
    "start_time": "2022-06-13T19:54:50.281Z"
   },
   {
    "duration": 12,
    "start_time": "2022-06-13T19:55:15.257Z"
   },
   {
    "duration": 48,
    "start_time": "2022-06-13T19:55:49.485Z"
   },
   {
    "duration": 36,
    "start_time": "2022-06-13T19:55:50.754Z"
   },
   {
    "duration": 4,
    "start_time": "2022-06-13T19:55:51.677Z"
   },
   {
    "duration": 5,
    "start_time": "2022-06-13T19:56:01.699Z"
   },
   {
    "duration": 36,
    "start_time": "2022-06-13T19:56:02.525Z"
   },
   {
    "duration": 5,
    "start_time": "2022-06-13T19:56:03.238Z"
   },
   {
    "duration": 12,
    "start_time": "2022-06-13T19:56:04.170Z"
   },
   {
    "duration": 36,
    "start_time": "2022-06-13T19:58:48.692Z"
   },
   {
    "duration": 12,
    "start_time": "2022-06-13T20:03:21.674Z"
   },
   {
    "duration": 13,
    "start_time": "2022-06-13T20:03:22.568Z"
   },
   {
    "duration": 9,
    "start_time": "2022-06-13T20:03:43.639Z"
   },
   {
    "duration": 8,
    "start_time": "2022-06-13T20:04:56.865Z"
   },
   {
    "duration": 18,
    "start_time": "2022-06-13T20:05:03.372Z"
   },
   {
    "duration": 14,
    "start_time": "2022-06-13T20:05:14.599Z"
   },
   {
    "duration": 1043,
    "start_time": "2022-06-13T20:12:09.627Z"
   },
   {
    "duration": 269,
    "start_time": "2022-06-13T20:12:10.672Z"
   },
   {
    "duration": 10,
    "start_time": "2022-06-13T20:12:10.942Z"
   },
   {
    "duration": 30,
    "start_time": "2022-06-13T20:12:10.953Z"
   },
   {
    "duration": 8,
    "start_time": "2022-06-13T20:12:10.984Z"
   },
   {
    "duration": 10,
    "start_time": "2022-06-13T20:12:10.994Z"
   },
   {
    "duration": 13,
    "start_time": "2022-06-13T20:12:11.006Z"
   },
   {
    "duration": 22,
    "start_time": "2022-06-13T20:12:11.020Z"
   },
   {
    "duration": 11,
    "start_time": "2022-06-13T20:12:11.043Z"
   },
   {
    "duration": 4,
    "start_time": "2022-06-13T20:12:11.057Z"
   },
   {
    "duration": 12,
    "start_time": "2022-06-13T20:12:11.063Z"
   },
   {
    "duration": 4,
    "start_time": "2022-06-13T20:12:11.076Z"
   },
   {
    "duration": 16,
    "start_time": "2022-06-13T20:12:11.094Z"
   },
   {
    "duration": 11,
    "start_time": "2022-06-13T20:12:11.112Z"
   },
   {
    "duration": 17,
    "start_time": "2022-06-13T20:12:11.124Z"
   },
   {
    "duration": 20,
    "start_time": "2022-06-13T20:12:11.143Z"
   },
   {
    "duration": 38,
    "start_time": "2022-06-13T20:12:11.165Z"
   },
   {
    "duration": 32,
    "start_time": "2022-06-13T20:12:11.205Z"
   },
   {
    "duration": 15,
    "start_time": "2022-06-13T20:12:11.239Z"
   },
   {
    "duration": 3,
    "start_time": "2022-06-13T20:12:11.256Z"
   },
   {
    "duration": 10,
    "start_time": "2022-06-13T20:12:11.261Z"
   },
   {
    "duration": 34,
    "start_time": "2022-06-13T20:12:11.273Z"
   },
   {
    "duration": 10,
    "start_time": "2022-06-13T20:12:11.309Z"
   },
   {
    "duration": 6,
    "start_time": "2022-06-13T20:12:11.321Z"
   },
   {
    "duration": 12,
    "start_time": "2022-06-13T20:12:11.329Z"
   },
   {
    "duration": 11,
    "start_time": "2022-06-13T20:12:11.343Z"
   },
   {
    "duration": 9,
    "start_time": "2022-06-13T20:12:11.355Z"
   },
   {
    "duration": 16,
    "start_time": "2022-06-13T20:12:11.393Z"
   },
   {
    "duration": 19,
    "start_time": "2022-06-13T20:12:11.411Z"
   },
   {
    "duration": 8,
    "start_time": "2022-06-13T20:12:11.431Z"
   },
   {
    "duration": 16,
    "start_time": "2022-06-13T20:12:11.441Z"
   },
   {
    "duration": 39,
    "start_time": "2022-06-13T20:12:11.458Z"
   },
   {
    "duration": 8,
    "start_time": "2022-06-13T20:12:11.499Z"
   },
   {
    "duration": 36,
    "start_time": "2022-06-13T20:12:11.508Z"
   },
   {
    "duration": 7,
    "start_time": "2022-06-13T20:12:11.546Z"
   },
   {
    "duration": 44,
    "start_time": "2022-06-13T20:12:11.554Z"
   },
   {
    "duration": 22,
    "start_time": "2022-06-13T20:12:11.600Z"
   },
   {
    "duration": 5,
    "start_time": "2022-06-13T20:12:11.624Z"
   },
   {
    "duration": 28,
    "start_time": "2022-06-13T20:12:11.631Z"
   },
   {
    "duration": 8,
    "start_time": "2022-06-13T20:12:11.661Z"
   },
   {
    "duration": 46,
    "start_time": "2022-06-13T20:12:11.670Z"
   },
   {
    "duration": 21,
    "start_time": "2022-06-13T20:12:11.718Z"
   },
   {
    "duration": 11,
    "start_time": "2022-06-13T20:12:11.741Z"
   },
   {
    "duration": 6,
    "start_time": "2022-06-13T20:12:11.754Z"
   },
   {
    "duration": 8,
    "start_time": "2022-06-13T20:12:11.761Z"
   },
   {
    "duration": 24,
    "start_time": "2022-06-13T20:12:11.770Z"
   },
   {
    "duration": 7,
    "start_time": "2022-06-13T20:12:11.796Z"
   },
   {
    "duration": 4,
    "start_time": "2022-06-13T20:12:11.804Z"
   },
   {
    "duration": 6,
    "start_time": "2022-06-13T20:12:11.809Z"
   },
   {
    "duration": 5,
    "start_time": "2022-06-13T20:12:11.816Z"
   },
   {
    "duration": 4,
    "start_time": "2022-06-13T20:12:11.822Z"
   },
   {
    "duration": 6,
    "start_time": "2022-06-13T20:12:11.828Z"
   },
   {
    "duration": 4,
    "start_time": "2022-06-13T20:13:03.119Z"
   },
   {
    "duration": 281,
    "start_time": "2022-06-13T20:13:05.614Z"
   },
   {
    "duration": 13,
    "start_time": "2022-06-13T20:13:15.582Z"
   },
   {
    "duration": 34,
    "start_time": "2022-06-13T20:13:16.863Z"
   },
   {
    "duration": 11,
    "start_time": "2022-06-13T20:13:18.125Z"
   },
   {
    "duration": 10,
    "start_time": "2022-06-13T20:13:24.778Z"
   },
   {
    "duration": 12,
    "start_time": "2022-06-13T20:13:26.409Z"
   },
   {
    "duration": 11,
    "start_time": "2022-06-13T20:13:27.605Z"
   },
   {
    "duration": 7,
    "start_time": "2022-06-13T20:13:30.615Z"
   },
   {
    "duration": 6,
    "start_time": "2022-06-13T20:13:40.242Z"
   },
   {
    "duration": 10,
    "start_time": "2022-06-13T20:13:43.154Z"
   },
   {
    "duration": 3,
    "start_time": "2022-06-13T20:13:47.580Z"
   },
   {
    "duration": 22,
    "start_time": "2022-06-13T20:13:49.188Z"
   },
   {
    "duration": 18,
    "start_time": "2022-06-13T20:13:51.579Z"
   },
   {
    "duration": 12,
    "start_time": "2022-06-13T20:14:11.995Z"
   },
   {
    "duration": 13,
    "start_time": "2022-06-13T20:17:38.491Z"
   },
   {
    "duration": 11,
    "start_time": "2022-06-13T20:18:04.560Z"
   },
   {
    "duration": 14,
    "start_time": "2022-06-13T20:21:09.145Z"
   },
   {
    "duration": 82,
    "start_time": "2022-06-13T20:22:16.612Z"
   },
   {
    "duration": 9,
    "start_time": "2022-06-13T20:22:21.665Z"
   },
   {
    "duration": 7,
    "start_time": "2022-06-13T20:22:55.719Z"
   },
   {
    "duration": 47,
    "start_time": "2022-06-13T20:27:37.060Z"
   },
   {
    "duration": 15,
    "start_time": "2022-06-13T20:28:08.888Z"
   },
   {
    "duration": 6,
    "start_time": "2022-06-13T20:30:05.416Z"
   },
   {
    "duration": 12,
    "start_time": "2022-06-13T20:30:06.638Z"
   },
   {
    "duration": 6,
    "start_time": "2022-06-13T20:30:21.637Z"
   },
   {
    "duration": 19,
    "start_time": "2022-06-13T20:30:36.427Z"
   },
   {
    "duration": 15,
    "start_time": "2022-06-13T20:30:38.148Z"
   },
   {
    "duration": 4,
    "start_time": "2022-06-13T20:30:39.207Z"
   },
   {
    "duration": 9,
    "start_time": "2022-06-13T20:30:41.048Z"
   },
   {
    "duration": 14,
    "start_time": "2022-06-13T20:30:43.118Z"
   },
   {
    "duration": 13,
    "start_time": "2022-06-13T20:30:44.971Z"
   },
   {
    "duration": 8,
    "start_time": "2022-06-13T20:30:45.563Z"
   },
   {
    "duration": 13,
    "start_time": "2022-06-13T20:30:48.236Z"
   },
   {
    "duration": 12,
    "start_time": "2022-06-13T20:30:48.743Z"
   },
   {
    "duration": 10,
    "start_time": "2022-06-13T20:30:50.838Z"
   },
   {
    "duration": 21,
    "start_time": "2022-06-13T20:30:52.338Z"
   },
   {
    "duration": 19,
    "start_time": "2022-06-13T20:30:54.254Z"
   },
   {
    "duration": 9,
    "start_time": "2022-06-13T20:31:55.119Z"
   },
   {
    "duration": 460,
    "start_time": "2022-06-13T20:33:02.712Z"
   },
   {
    "duration": 9,
    "start_time": "2022-06-13T20:33:03.645Z"
   },
   {
    "duration": 4,
    "start_time": "2022-06-13T20:34:12.281Z"
   },
   {
    "duration": 9,
    "start_time": "2022-06-13T20:34:13.316Z"
   },
   {
    "duration": 15,
    "start_time": "2022-06-13T20:35:03.428Z"
   },
   {
    "duration": 20,
    "start_time": "2022-06-13T20:35:04.694Z"
   },
   {
    "duration": 9,
    "start_time": "2022-06-13T20:35:06.635Z"
   },
   {
    "duration": 37,
    "start_time": "2022-06-13T20:35:08.718Z"
   },
   {
    "duration": 7,
    "start_time": "2022-06-13T20:35:10.006Z"
   },
   {
    "duration": 26,
    "start_time": "2022-06-13T20:35:10.928Z"
   },
   {
    "duration": 22,
    "start_time": "2022-06-13T20:35:11.754Z"
   },
   {
    "duration": 6,
    "start_time": "2022-06-13T20:35:12.846Z"
   },
   {
    "duration": 20,
    "start_time": "2022-06-13T20:35:15.159Z"
   },
   {
    "duration": 10,
    "start_time": "2022-06-13T20:35:18.667Z"
   },
   {
    "duration": 19,
    "start_time": "2022-06-13T20:35:20.432Z"
   },
   {
    "duration": 22,
    "start_time": "2022-06-13T20:35:21.955Z"
   },
   {
    "duration": 18,
    "start_time": "2022-06-13T20:35:27.129Z"
   },
   {
    "duration": 5,
    "start_time": "2022-06-13T20:35:50.993Z"
   },
   {
    "duration": 7,
    "start_time": "2022-06-13T20:39:19.584Z"
   },
   {
    "duration": 10,
    "start_time": "2022-06-13T20:41:03.394Z"
   },
   {
    "duration": 8,
    "start_time": "2022-06-13T20:41:07.737Z"
   },
   {
    "duration": 54,
    "start_time": "2022-06-13T20:41:18.403Z"
   },
   {
    "duration": 6,
    "start_time": "2022-06-13T20:43:08.203Z"
   },
   {
    "duration": 54,
    "start_time": "2022-06-13T20:43:09.009Z"
   },
   {
    "duration": 8,
    "start_time": "2022-06-13T20:59:30.748Z"
   },
   {
    "duration": 10,
    "start_time": "2022-06-13T20:59:36.857Z"
   },
   {
    "duration": 14,
    "start_time": "2022-06-13T21:00:55.786Z"
   },
   {
    "duration": 153,
    "start_time": "2022-06-13T21:35:28.039Z"
   },
   {
    "duration": 111,
    "start_time": "2022-06-13T21:35:39.785Z"
   },
   {
    "duration": 98,
    "start_time": "2022-06-13T21:36:29.409Z"
   },
   {
    "duration": 103,
    "start_time": "2022-06-13T21:37:37.550Z"
   },
   {
    "duration": 108,
    "start_time": "2022-06-13T21:37:57.000Z"
   },
   {
    "duration": 123,
    "start_time": "2022-06-13T21:38:03.581Z"
   },
   {
    "duration": 223,
    "start_time": "2022-06-13T21:48:35.865Z"
   },
   {
    "duration": 250,
    "start_time": "2022-06-13T21:48:53.506Z"
   },
   {
    "duration": 103,
    "start_time": "2022-06-13T21:49:07.004Z"
   },
   {
    "duration": 102,
    "start_time": "2022-06-13T21:49:14.630Z"
   },
   {
    "duration": 201,
    "start_time": "2022-06-13T21:49:47.009Z"
   },
   {
    "duration": 179,
    "start_time": "2022-06-13T21:50:42.909Z"
   },
   {
    "duration": 254,
    "start_time": "2022-06-13T21:51:26.509Z"
   },
   {
    "duration": 25,
    "start_time": "2022-06-13T21:52:35.764Z"
   },
   {
    "duration": 25,
    "start_time": "2022-06-13T21:52:54.021Z"
   },
   {
    "duration": 265,
    "start_time": "2022-06-13T21:53:03.844Z"
   },
   {
    "duration": 243,
    "start_time": "2022-06-13T21:53:20.703Z"
   },
   {
    "duration": 343,
    "start_time": "2022-06-13T21:53:29.093Z"
   },
   {
    "duration": 101,
    "start_time": "2022-06-13T21:57:53.069Z"
   },
   {
    "duration": 111,
    "start_time": "2022-06-13T21:58:08.730Z"
   },
   {
    "duration": 101,
    "start_time": "2022-06-13T21:58:21.223Z"
   },
   {
    "duration": 239,
    "start_time": "2022-06-13T21:58:27.544Z"
   },
   {
    "duration": 190,
    "start_time": "2022-06-13T22:00:29.081Z"
   },
   {
    "duration": 178,
    "start_time": "2022-06-13T22:00:40.012Z"
   },
   {
    "duration": 272,
    "start_time": "2022-06-13T22:00:52.604Z"
   },
   {
    "duration": 329,
    "start_time": "2022-06-13T22:01:13.367Z"
   },
   {
    "duration": 285,
    "start_time": "2022-06-13T22:01:23.919Z"
   },
   {
    "duration": 232,
    "start_time": "2022-06-13T22:01:36.299Z"
   },
   {
    "duration": 17,
    "start_time": "2022-06-13T22:03:59.927Z"
   },
   {
    "duration": 2,
    "start_time": "2022-06-13T22:05:20.975Z"
   },
   {
    "duration": 219,
    "start_time": "2022-06-13T22:13:48.728Z"
   },
   {
    "duration": 11,
    "start_time": "2022-06-13T22:14:10.135Z"
   },
   {
    "duration": 100,
    "start_time": "2022-06-13T22:14:16.618Z"
   },
   {
    "duration": 15,
    "start_time": "2022-06-13T22:15:27.962Z"
   },
   {
    "duration": 99,
    "start_time": "2022-06-13T22:46:36.241Z"
   },
   {
    "duration": 10,
    "start_time": "2022-06-13T23:41:06.113Z"
   },
   {
    "duration": 8,
    "start_time": "2022-06-13T23:41:25.705Z"
   },
   {
    "duration": 6,
    "start_time": "2022-06-13T23:42:37.563Z"
   },
   {
    "duration": 89,
    "start_time": "2022-06-13T23:44:33.310Z"
   },
   {
    "duration": 87,
    "start_time": "2022-06-13T23:44:42.306Z"
   },
   {
    "duration": 135,
    "start_time": "2022-06-13T23:44:50.482Z"
   },
   {
    "duration": 183,
    "start_time": "2022-06-13T23:47:30.224Z"
   },
   {
    "duration": 174,
    "start_time": "2022-06-13T23:48:44.398Z"
   },
   {
    "duration": 1068,
    "start_time": "2022-06-13T23:48:57.909Z"
   },
   {
    "duration": 280,
    "start_time": "2022-06-13T23:48:58.979Z"
   },
   {
    "duration": 12,
    "start_time": "2022-06-13T23:48:59.260Z"
   },
   {
    "duration": 28,
    "start_time": "2022-06-13T23:48:59.274Z"
   },
   {
    "duration": 8,
    "start_time": "2022-06-13T23:48:59.303Z"
   },
   {
    "duration": 10,
    "start_time": "2022-06-13T23:48:59.312Z"
   },
   {
    "duration": 14,
    "start_time": "2022-06-13T23:48:59.323Z"
   },
   {
    "duration": 11,
    "start_time": "2022-06-13T23:48:59.338Z"
   },
   {
    "duration": 7,
    "start_time": "2022-06-13T23:48:59.351Z"
   },
   {
    "duration": 5,
    "start_time": "2022-06-13T23:48:59.360Z"
   },
   {
    "duration": 35,
    "start_time": "2022-06-13T23:48:59.367Z"
   },
   {
    "duration": 5,
    "start_time": "2022-06-13T23:48:59.403Z"
   },
   {
    "duration": 14,
    "start_time": "2022-06-13T23:48:59.410Z"
   },
   {
    "duration": 18,
    "start_time": "2022-06-13T23:48:59.426Z"
   },
   {
    "duration": 21,
    "start_time": "2022-06-13T23:48:59.445Z"
   },
   {
    "duration": 31,
    "start_time": "2022-06-13T23:48:59.467Z"
   },
   {
    "duration": 8,
    "start_time": "2022-06-13T23:48:59.500Z"
   },
   {
    "duration": 6,
    "start_time": "2022-06-13T23:48:59.509Z"
   },
   {
    "duration": 9,
    "start_time": "2022-06-13T23:48:59.517Z"
   },
   {
    "duration": 5,
    "start_time": "2022-06-13T23:48:59.527Z"
   },
   {
    "duration": 22,
    "start_time": "2022-06-13T23:48:59.534Z"
   },
   {
    "duration": 51,
    "start_time": "2022-06-13T23:48:59.557Z"
   },
   {
    "duration": 4,
    "start_time": "2022-06-13T23:48:59.609Z"
   },
   {
    "duration": 11,
    "start_time": "2022-06-13T23:48:59.614Z"
   },
   {
    "duration": 15,
    "start_time": "2022-06-13T23:48:59.626Z"
   },
   {
    "duration": 11,
    "start_time": "2022-06-13T23:48:59.642Z"
   },
   {
    "duration": 7,
    "start_time": "2022-06-13T23:48:59.654Z"
   },
   {
    "duration": 41,
    "start_time": "2022-06-13T23:48:59.665Z"
   },
   {
    "duration": 11,
    "start_time": "2022-06-13T23:48:59.708Z"
   },
   {
    "duration": 9,
    "start_time": "2022-06-13T23:48:59.721Z"
   },
   {
    "duration": 15,
    "start_time": "2022-06-13T23:48:59.731Z"
   },
   {
    "duration": 47,
    "start_time": "2022-06-13T23:48:59.748Z"
   },
   {
    "duration": 3,
    "start_time": "2022-06-13T23:48:59.797Z"
   },
   {
    "duration": 12,
    "start_time": "2022-06-13T23:48:59.801Z"
   },
   {
    "duration": 16,
    "start_time": "2022-06-13T23:48:59.815Z"
   },
   {
    "duration": 12,
    "start_time": "2022-06-13T23:48:59.832Z"
   },
   {
    "duration": 8,
    "start_time": "2022-06-13T23:48:59.845Z"
   },
   {
    "duration": 56,
    "start_time": "2022-06-13T23:48:59.854Z"
   },
   {
    "duration": 5,
    "start_time": "2022-06-13T23:48:59.912Z"
   },
   {
    "duration": 30,
    "start_time": "2022-06-13T23:48:59.918Z"
   },
   {
    "duration": 23,
    "start_time": "2022-06-13T23:48:59.949Z"
   },
   {
    "duration": 24,
    "start_time": "2022-06-13T23:48:59.974Z"
   },
   {
    "duration": 26,
    "start_time": "2022-06-13T23:49:00.000Z"
   },
   {
    "duration": 9,
    "start_time": "2022-06-13T23:49:00.028Z"
   },
   {
    "duration": 22,
    "start_time": "2022-06-13T23:49:00.039Z"
   },
   {
    "duration": 44,
    "start_time": "2022-06-13T23:49:00.063Z"
   },
   {
    "duration": 13,
    "start_time": "2022-06-13T23:49:00.108Z"
   },
   {
    "duration": 8,
    "start_time": "2022-06-13T23:49:00.122Z"
   },
   {
    "duration": 64,
    "start_time": "2022-06-13T23:49:00.131Z"
   },
   {
    "duration": 14,
    "start_time": "2022-06-13T23:49:00.197Z"
   },
   {
    "duration": 221,
    "start_time": "2022-06-13T23:49:00.212Z"
   },
   {
    "duration": 4,
    "start_time": "2022-06-13T23:49:00.435Z"
   },
   {
    "duration": 0,
    "start_time": "2022-06-13T23:49:00.440Z"
   },
   {
    "duration": 0,
    "start_time": "2022-06-13T23:49:00.441Z"
   },
   {
    "duration": 0,
    "start_time": "2022-06-13T23:49:00.442Z"
   },
   {
    "duration": 0,
    "start_time": "2022-06-13T23:49:00.442Z"
   },
   {
    "duration": 0,
    "start_time": "2022-06-13T23:49:00.443Z"
   },
   {
    "duration": 0,
    "start_time": "2022-06-13T23:49:00.444Z"
   },
   {
    "duration": 234,
    "start_time": "2022-06-13T23:49:21.367Z"
   },
   {
    "duration": 140,
    "start_time": "2022-06-14T00:22:35.407Z"
   },
   {
    "duration": 219,
    "start_time": "2022-06-14T00:23:32.881Z"
   },
   {
    "duration": 133,
    "start_time": "2022-06-14T00:23:42.781Z"
   },
   {
    "duration": 137,
    "start_time": "2022-06-14T00:24:24.567Z"
   },
   {
    "duration": 348,
    "start_time": "2022-06-14T00:24:48.095Z"
   },
   {
    "duration": 281,
    "start_time": "2022-06-14T00:25:36.015Z"
   },
   {
    "duration": 139,
    "start_time": "2022-06-14T00:26:02.647Z"
   },
   {
    "duration": 133,
    "start_time": "2022-06-14T00:26:14.817Z"
   },
   {
    "duration": 136,
    "start_time": "2022-06-14T00:26:48.356Z"
   },
   {
    "duration": 142,
    "start_time": "2022-06-14T00:27:01.364Z"
   },
   {
    "duration": 1170,
    "start_time": "2022-06-14T16:05:54.483Z"
   },
   {
    "duration": 719,
    "start_time": "2022-06-14T16:05:55.655Z"
   },
   {
    "duration": 10,
    "start_time": "2022-06-14T16:05:56.376Z"
   },
   {
    "duration": 29,
    "start_time": "2022-06-14T16:05:56.388Z"
   },
   {
    "duration": 8,
    "start_time": "2022-06-14T16:05:56.419Z"
   },
   {
    "duration": 38,
    "start_time": "2022-06-14T16:05:56.429Z"
   },
   {
    "duration": 13,
    "start_time": "2022-06-14T16:05:56.469Z"
   },
   {
    "duration": 11,
    "start_time": "2022-06-14T16:05:56.483Z"
   },
   {
    "duration": 8,
    "start_time": "2022-06-14T16:05:56.495Z"
   },
   {
    "duration": 5,
    "start_time": "2022-06-14T16:05:56.505Z"
   },
   {
    "duration": 16,
    "start_time": "2022-06-14T16:05:56.512Z"
   },
   {
    "duration": 6,
    "start_time": "2022-06-14T16:05:56.529Z"
   },
   {
    "duration": 13,
    "start_time": "2022-06-14T16:05:56.536Z"
   },
   {
    "duration": 16,
    "start_time": "2022-06-14T16:05:56.551Z"
   },
   {
    "duration": 40,
    "start_time": "2022-06-14T16:05:56.569Z"
   },
   {
    "duration": 12,
    "start_time": "2022-06-14T16:05:56.610Z"
   },
   {
    "duration": 7,
    "start_time": "2022-06-14T16:05:56.624Z"
   },
   {
    "duration": 5,
    "start_time": "2022-06-14T16:05:56.633Z"
   },
   {
    "duration": 7,
    "start_time": "2022-06-14T16:05:56.640Z"
   },
   {
    "duration": 5,
    "start_time": "2022-06-14T16:05:56.649Z"
   },
   {
    "duration": 49,
    "start_time": "2022-06-14T16:05:56.655Z"
   },
   {
    "duration": 14,
    "start_time": "2022-06-14T16:05:56.706Z"
   },
   {
    "duration": 4,
    "start_time": "2022-06-14T16:05:56.722Z"
   },
   {
    "duration": 10,
    "start_time": "2022-06-14T16:05:56.727Z"
   },
   {
    "duration": 14,
    "start_time": "2022-06-14T16:05:56.739Z"
   },
   {
    "duration": 10,
    "start_time": "2022-06-14T16:05:56.755Z"
   },
   {
    "duration": 30,
    "start_time": "2022-06-14T16:05:56.767Z"
   },
   {
    "duration": 14,
    "start_time": "2022-06-14T16:05:56.800Z"
   },
   {
    "duration": 12,
    "start_time": "2022-06-14T16:05:56.815Z"
   },
   {
    "duration": 9,
    "start_time": "2022-06-14T16:05:56.828Z"
   },
   {
    "duration": 19,
    "start_time": "2022-06-14T16:05:56.839Z"
   },
   {
    "duration": 43,
    "start_time": "2022-06-14T16:05:56.859Z"
   },
   {
    "duration": 4,
    "start_time": "2022-06-14T16:05:56.904Z"
   },
   {
    "duration": 10,
    "start_time": "2022-06-14T16:05:56.909Z"
   },
   {
    "duration": 16,
    "start_time": "2022-06-14T16:05:56.921Z"
   },
   {
    "duration": 12,
    "start_time": "2022-06-14T16:05:56.938Z"
   },
   {
    "duration": 8,
    "start_time": "2022-06-14T16:05:56.951Z"
   },
   {
    "duration": 63,
    "start_time": "2022-06-14T16:05:56.960Z"
   },
   {
    "duration": 5,
    "start_time": "2022-06-14T16:05:57.025Z"
   },
   {
    "duration": 27,
    "start_time": "2022-06-14T16:05:57.032Z"
   },
   {
    "duration": 37,
    "start_time": "2022-06-14T16:05:57.060Z"
   },
   {
    "duration": 6,
    "start_time": "2022-06-14T16:05:57.098Z"
   },
   {
    "duration": 23,
    "start_time": "2022-06-14T16:05:57.106Z"
   },
   {
    "duration": 7,
    "start_time": "2022-06-14T16:05:57.130Z"
   },
   {
    "duration": 17,
    "start_time": "2022-06-14T16:05:57.139Z"
   },
   {
    "duration": 47,
    "start_time": "2022-06-14T16:05:57.157Z"
   },
   {
    "duration": 12,
    "start_time": "2022-06-14T16:05:57.205Z"
   },
   {
    "duration": 5,
    "start_time": "2022-06-14T16:05:57.218Z"
   },
   {
    "duration": 51,
    "start_time": "2022-06-14T16:05:57.224Z"
   },
   {
    "duration": 27,
    "start_time": "2022-06-14T16:05:57.277Z"
   },
   {
    "duration": 325,
    "start_time": "2022-06-14T16:05:57.305Z"
   },
   {
    "duration": 188,
    "start_time": "2022-06-14T16:05:57.631Z"
   },
   {
    "duration": 161,
    "start_time": "2022-06-14T16:05:57.821Z"
   },
   {
    "duration": 12,
    "start_time": "2022-06-14T16:05:57.984Z"
   },
   {
    "duration": 6,
    "start_time": "2022-06-14T16:05:57.998Z"
   },
   {
    "duration": 5,
    "start_time": "2022-06-14T16:05:58.005Z"
   },
   {
    "duration": 5,
    "start_time": "2022-06-14T16:05:58.012Z"
   },
   {
    "duration": 6,
    "start_time": "2022-06-14T16:05:58.018Z"
   },
   {
    "duration": 6,
    "start_time": "2022-06-14T16:05:58.025Z"
   },
   {
    "duration": 31,
    "start_time": "2022-06-14T16:17:57.161Z"
   },
   {
    "duration": 24,
    "start_time": "2022-06-14T16:18:25.223Z"
   },
   {
    "duration": 1077,
    "start_time": "2022-06-14T16:26:28.064Z"
   },
   {
    "duration": 284,
    "start_time": "2022-06-14T16:26:29.142Z"
   },
   {
    "duration": 11,
    "start_time": "2022-06-14T16:26:29.428Z"
   },
   {
    "duration": 33,
    "start_time": "2022-06-14T16:26:29.440Z"
   },
   {
    "duration": 8,
    "start_time": "2022-06-14T16:26:29.475Z"
   },
   {
    "duration": 12,
    "start_time": "2022-06-14T16:26:29.485Z"
   },
   {
    "duration": 27,
    "start_time": "2022-06-14T16:26:29.500Z"
   },
   {
    "duration": 16,
    "start_time": "2022-06-14T16:26:29.529Z"
   },
   {
    "duration": 13,
    "start_time": "2022-06-14T16:26:29.547Z"
   },
   {
    "duration": 6,
    "start_time": "2022-06-14T16:26:29.561Z"
   },
   {
    "duration": 26,
    "start_time": "2022-06-14T16:26:29.569Z"
   },
   {
    "duration": 10,
    "start_time": "2022-06-14T16:26:29.597Z"
   },
   {
    "duration": 20,
    "start_time": "2022-06-14T16:26:29.609Z"
   },
   {
    "duration": 18,
    "start_time": "2022-06-14T16:26:29.632Z"
   },
   {
    "duration": 22,
    "start_time": "2022-06-14T16:26:29.651Z"
   },
   {
    "duration": 29,
    "start_time": "2022-06-14T16:26:29.674Z"
   },
   {
    "duration": 12,
    "start_time": "2022-06-14T16:26:29.705Z"
   },
   {
    "duration": 5,
    "start_time": "2022-06-14T16:26:29.719Z"
   },
   {
    "duration": 8,
    "start_time": "2022-06-14T16:26:29.726Z"
   },
   {
    "duration": 6,
    "start_time": "2022-06-14T16:26:29.735Z"
   },
   {
    "duration": 21,
    "start_time": "2022-06-14T16:26:29.742Z"
   },
   {
    "duration": 50,
    "start_time": "2022-06-14T16:26:29.764Z"
   },
   {
    "duration": 5,
    "start_time": "2022-06-14T16:26:29.816Z"
   },
   {
    "duration": 11,
    "start_time": "2022-06-14T16:26:29.822Z"
   },
   {
    "duration": 15,
    "start_time": "2022-06-14T16:26:29.834Z"
   },
   {
    "duration": 10,
    "start_time": "2022-06-14T16:26:29.850Z"
   },
   {
    "duration": 6,
    "start_time": "2022-06-14T16:26:29.862Z"
   },
   {
    "duration": 37,
    "start_time": "2022-06-14T16:26:29.869Z"
   },
   {
    "duration": 14,
    "start_time": "2022-06-14T16:26:29.907Z"
   },
   {
    "duration": 9,
    "start_time": "2022-06-14T16:26:29.922Z"
   },
   {
    "duration": 14,
    "start_time": "2022-06-14T16:26:29.932Z"
   },
   {
    "duration": 49,
    "start_time": "2022-06-14T16:26:29.947Z"
   },
   {
    "duration": 6,
    "start_time": "2022-06-14T16:26:29.999Z"
   },
   {
    "duration": 26,
    "start_time": "2022-06-14T16:26:30.007Z"
   },
   {
    "duration": 21,
    "start_time": "2022-06-14T16:26:30.035Z"
   },
   {
    "duration": 14,
    "start_time": "2022-06-14T16:26:30.057Z"
   },
   {
    "duration": 26,
    "start_time": "2022-06-14T16:26:30.073Z"
   },
   {
    "duration": 44,
    "start_time": "2022-06-14T16:26:30.102Z"
   },
   {
    "duration": 6,
    "start_time": "2022-06-14T16:26:30.147Z"
   },
   {
    "duration": 59,
    "start_time": "2022-06-14T16:26:30.154Z"
   },
   {
    "duration": 24,
    "start_time": "2022-06-14T16:26:30.220Z"
   },
   {
    "duration": 6,
    "start_time": "2022-06-14T16:26:30.246Z"
   },
   {
    "duration": 60,
    "start_time": "2022-06-14T16:26:30.254Z"
   },
   {
    "duration": 9,
    "start_time": "2022-06-14T16:26:30.316Z"
   },
   {
    "duration": 24,
    "start_time": "2022-06-14T16:26:30.327Z"
   },
   {
    "duration": 21,
    "start_time": "2022-06-14T16:26:30.352Z"
   },
   {
    "duration": 44,
    "start_time": "2022-06-14T16:26:30.374Z"
   },
   {
    "duration": 7,
    "start_time": "2022-06-14T16:26:30.419Z"
   },
   {
    "duration": 123,
    "start_time": "2022-06-14T16:26:30.428Z"
   },
   {
    "duration": 0,
    "start_time": "2022-06-14T16:26:30.553Z"
   },
   {
    "duration": 0,
    "start_time": "2022-06-14T16:26:30.554Z"
   },
   {
    "duration": 0,
    "start_time": "2022-06-14T16:26:30.554Z"
   },
   {
    "duration": 0,
    "start_time": "2022-06-14T16:26:30.555Z"
   },
   {
    "duration": 0,
    "start_time": "2022-06-14T16:26:30.556Z"
   },
   {
    "duration": 0,
    "start_time": "2022-06-14T16:26:30.557Z"
   },
   {
    "duration": 0,
    "start_time": "2022-06-14T16:26:30.557Z"
   },
   {
    "duration": 0,
    "start_time": "2022-06-14T16:26:30.558Z"
   },
   {
    "duration": 0,
    "start_time": "2022-06-14T16:26:30.559Z"
   },
   {
    "duration": 0,
    "start_time": "2022-06-14T16:26:30.561Z"
   },
   {
    "duration": 5,
    "start_time": "2022-06-14T16:26:53.552Z"
   },
   {
    "duration": 55,
    "start_time": "2022-06-14T16:26:54.480Z"
   },
   {
    "duration": 5,
    "start_time": "2022-06-14T16:27:26.569Z"
   },
   {
    "duration": 64,
    "start_time": "2022-06-14T16:27:27.316Z"
   },
   {
    "duration": 186,
    "start_time": "2022-06-14T16:45:46.231Z"
   },
   {
    "duration": 198,
    "start_time": "2022-06-14T16:45:47.263Z"
   },
   {
    "duration": 108,
    "start_time": "2022-06-14T16:50:57.468Z"
   },
   {
    "duration": 3,
    "start_time": "2022-06-14T16:51:05.932Z"
   },
   {
    "duration": 277,
    "start_time": "2022-06-14T16:51:06.642Z"
   },
   {
    "duration": 10,
    "start_time": "2022-06-14T16:51:07.838Z"
   },
   {
    "duration": 24,
    "start_time": "2022-06-14T16:51:08.109Z"
   },
   {
    "duration": 9,
    "start_time": "2022-06-14T16:51:08.381Z"
   },
   {
    "duration": 10,
    "start_time": "2022-06-14T16:51:10.360Z"
   },
   {
    "duration": 13,
    "start_time": "2022-06-14T16:51:10.589Z"
   },
   {
    "duration": 10,
    "start_time": "2022-06-14T16:51:10.836Z"
   },
   {
    "duration": 8,
    "start_time": "2022-06-14T16:51:11.070Z"
   },
   {
    "duration": 6,
    "start_time": "2022-06-14T16:51:12.266Z"
   },
   {
    "duration": 10,
    "start_time": "2022-06-14T16:51:12.533Z"
   },
   {
    "duration": 4,
    "start_time": "2022-06-14T16:51:13.292Z"
   },
   {
    "duration": 11,
    "start_time": "2022-06-14T16:51:13.529Z"
   },
   {
    "duration": 17,
    "start_time": "2022-06-14T16:51:14.004Z"
   },
   {
    "duration": 20,
    "start_time": "2022-06-14T16:51:14.254Z"
   },
   {
    "duration": 13,
    "start_time": "2022-06-14T16:51:14.524Z"
   },
   {
    "duration": 8,
    "start_time": "2022-06-14T16:51:14.761Z"
   },
   {
    "duration": 5,
    "start_time": "2022-06-14T16:51:15.238Z"
   },
   {
    "duration": 9,
    "start_time": "2022-06-14T16:51:15.480Z"
   },
   {
    "duration": 5,
    "start_time": "2022-06-14T16:51:15.705Z"
   },
   {
    "duration": 19,
    "start_time": "2022-06-14T16:51:16.682Z"
   },
   {
    "duration": 15,
    "start_time": "2022-06-14T16:51:17.396Z"
   },
   {
    "duration": 5,
    "start_time": "2022-06-14T16:51:17.627Z"
   },
   {
    "duration": 12,
    "start_time": "2022-06-14T16:51:17.867Z"
   },
   {
    "duration": 14,
    "start_time": "2022-06-14T16:51:18.361Z"
   },
   {
    "duration": 13,
    "start_time": "2022-06-14T16:51:18.616Z"
   },
   {
    "duration": 7,
    "start_time": "2022-06-14T16:51:18.889Z"
   },
   {
    "duration": 12,
    "start_time": "2022-06-14T16:51:19.612Z"
   },
   {
    "duration": 11,
    "start_time": "2022-06-14T16:51:19.872Z"
   },
   {
    "duration": 9,
    "start_time": "2022-06-14T16:51:20.357Z"
   },
   {
    "duration": 17,
    "start_time": "2022-06-14T16:51:20.858Z"
   },
   {
    "duration": 18,
    "start_time": "2022-06-14T16:51:21.128Z"
   },
   {
    "duration": 4,
    "start_time": "2022-06-14T16:51:21.397Z"
   },
   {
    "duration": 9,
    "start_time": "2022-06-14T16:51:21.675Z"
   },
   {
    "duration": 15,
    "start_time": "2022-06-14T16:51:22.945Z"
   },
   {
    "duration": 12,
    "start_time": "2022-06-14T16:51:23.428Z"
   },
   {
    "duration": 9,
    "start_time": "2022-06-14T16:51:24.166Z"
   },
   {
    "duration": 35,
    "start_time": "2022-06-14T16:51:24.687Z"
   },
   {
    "duration": 8,
    "start_time": "2022-06-14T16:51:24.927Z"
   },
   {
    "duration": 25,
    "start_time": "2022-06-14T16:51:25.181Z"
   },
   {
    "duration": 20,
    "start_time": "2022-06-14T16:51:25.428Z"
   },
   {
    "duration": 7,
    "start_time": "2022-06-14T16:51:25.702Z"
   },
   {
    "duration": 21,
    "start_time": "2022-06-14T16:51:25.974Z"
   },
   {
    "duration": 8,
    "start_time": "2022-06-14T16:51:26.536Z"
   },
   {
    "duration": 17,
    "start_time": "2022-06-14T16:51:27.029Z"
   },
   {
    "duration": 20,
    "start_time": "2022-06-14T16:51:27.268Z"
   },
   {
    "duration": 15,
    "start_time": "2022-06-14T16:51:27.546Z"
   },
   {
    "duration": 5,
    "start_time": "2022-06-14T16:51:28.098Z"
   },
   {
    "duration": 44,
    "start_time": "2022-06-14T16:51:28.339Z"
   },
   {
    "duration": 13,
    "start_time": "2022-06-14T16:51:29.662Z"
   },
   {
    "duration": 255,
    "start_time": "2022-06-14T16:51:29.932Z"
   },
   {
    "duration": 153,
    "start_time": "2022-06-14T16:51:30.462Z"
   },
   {
    "duration": 147,
    "start_time": "2022-06-14T16:51:31.470Z"
   },
   {
    "duration": 7,
    "start_time": "2022-06-14T16:51:33.148Z"
   },
   {
    "duration": 240,
    "start_time": "2022-06-14T16:53:35.528Z"
   },
   {
    "duration": 328,
    "start_time": "2022-06-14T16:53:44.339Z"
   },
   {
    "duration": 256,
    "start_time": "2022-06-14T16:53:52.669Z"
   },
   {
    "duration": 245,
    "start_time": "2022-06-14T16:54:11.573Z"
   },
   {
    "duration": 14,
    "start_time": "2022-06-14T17:05:04.482Z"
   },
   {
    "duration": 16,
    "start_time": "2022-06-14T17:07:42.066Z"
   },
   {
    "duration": 18,
    "start_time": "2022-06-14T17:11:12.905Z"
   },
   {
    "duration": 23,
    "start_time": "2022-06-14T18:59:38.942Z"
   },
   {
    "duration": 5,
    "start_time": "2022-06-14T19:00:11.374Z"
   },
   {
    "duration": 38,
    "start_time": "2022-06-14T19:00:37.778Z"
   },
   {
    "duration": 24,
    "start_time": "2022-06-14T19:00:44.455Z"
   },
   {
    "duration": 8,
    "start_time": "2022-06-14T19:00:54.129Z"
   },
   {
    "duration": 8,
    "start_time": "2022-06-14T19:00:59.309Z"
   },
   {
    "duration": 2,
    "start_time": "2022-06-14T19:01:25.051Z"
   },
   {
    "duration": 274,
    "start_time": "2022-06-14T19:01:26.216Z"
   },
   {
    "duration": 10,
    "start_time": "2022-06-14T19:01:27.087Z"
   },
   {
    "duration": 33,
    "start_time": "2022-06-14T19:01:27.320Z"
   },
   {
    "duration": 8,
    "start_time": "2022-06-14T19:01:27.572Z"
   },
   {
    "duration": 11,
    "start_time": "2022-06-14T19:01:29.275Z"
   },
   {
    "duration": 14,
    "start_time": "2022-06-14T19:01:29.518Z"
   },
   {
    "duration": 12,
    "start_time": "2022-06-14T19:01:29.762Z"
   },
   {
    "duration": 7,
    "start_time": "2022-06-14T19:01:29.982Z"
   },
   {
    "duration": 5,
    "start_time": "2022-06-14T19:01:31.112Z"
   },
   {
    "duration": 10,
    "start_time": "2022-06-14T19:01:31.351Z"
   },
   {
    "duration": 5,
    "start_time": "2022-06-14T19:01:32.046Z"
   },
   {
    "duration": 11,
    "start_time": "2022-06-14T19:01:32.261Z"
   },
   {
    "duration": 17,
    "start_time": "2022-06-14T19:01:32.686Z"
   },
   {
    "duration": 20,
    "start_time": "2022-06-14T19:01:32.945Z"
   },
   {
    "duration": 14,
    "start_time": "2022-06-14T19:01:33.218Z"
   },
   {
    "duration": 7,
    "start_time": "2022-06-14T19:01:33.449Z"
   },
   {
    "duration": 4,
    "start_time": "2022-06-14T19:01:33.990Z"
   },
   {
    "duration": 9,
    "start_time": "2022-06-14T19:01:34.227Z"
   },
   {
    "duration": 5,
    "start_time": "2022-06-14T19:01:34.457Z"
   },
   {
    "duration": 19,
    "start_time": "2022-06-14T19:01:35.725Z"
   },
   {
    "duration": 15,
    "start_time": "2022-06-14T19:01:36.444Z"
   },
   {
    "duration": 4,
    "start_time": "2022-06-14T19:01:36.689Z"
   },
   {
    "duration": 9,
    "start_time": "2022-06-14T19:01:36.954Z"
   },
   {
    "duration": 13,
    "start_time": "2022-06-14T19:01:37.750Z"
   },
   {
    "duration": 11,
    "start_time": "2022-06-14T19:01:38.006Z"
   },
   {
    "duration": 7,
    "start_time": "2022-06-14T19:01:38.242Z"
   },
   {
    "duration": 11,
    "start_time": "2022-06-14T19:01:39.312Z"
   },
   {
    "duration": 12,
    "start_time": "2022-06-14T19:01:39.717Z"
   },
   {
    "duration": 9,
    "start_time": "2022-06-14T19:01:40.386Z"
   },
   {
    "duration": 15,
    "start_time": "2022-06-14T19:01:40.998Z"
   },
   {
    "duration": 18,
    "start_time": "2022-06-14T19:01:41.243Z"
   },
   {
    "duration": 4,
    "start_time": "2022-06-14T19:01:41.450Z"
   },
   {
    "duration": 9,
    "start_time": "2022-06-14T19:01:41.724Z"
   },
   {
    "duration": 14,
    "start_time": "2022-06-14T19:01:43.081Z"
   },
   {
    "duration": 12,
    "start_time": "2022-06-14T19:01:43.604Z"
   },
   {
    "duration": 8,
    "start_time": "2022-06-14T19:01:44.412Z"
   },
   {
    "duration": 33,
    "start_time": "2022-06-14T19:01:45.484Z"
   },
   {
    "duration": 7,
    "start_time": "2022-06-14T19:01:46.326Z"
   },
   {
    "duration": 23,
    "start_time": "2022-06-14T19:01:52.321Z"
   },
   {
    "duration": 22,
    "start_time": "2022-06-14T19:01:52.821Z"
   },
   {
    "duration": 8,
    "start_time": "2022-06-14T19:01:53.345Z"
   },
   {
    "duration": 22,
    "start_time": "2022-06-14T19:01:54.162Z"
   },
   {
    "duration": 9,
    "start_time": "2022-06-14T19:01:57.901Z"
   },
   {
    "duration": 14,
    "start_time": "2022-06-14T19:02:00.391Z"
   },
   {
    "duration": 23,
    "start_time": "2022-06-14T19:02:09.090Z"
   },
   {
    "duration": 11,
    "start_time": "2022-06-14T19:02:14.300Z"
   },
   {
    "duration": 975,
    "start_time": "2022-06-14T19:02:31.989Z"
   },
   {
    "duration": 288,
    "start_time": "2022-06-14T19:02:32.966Z"
   },
   {
    "duration": 10,
    "start_time": "2022-06-14T19:02:33.256Z"
   },
   {
    "duration": 27,
    "start_time": "2022-06-14T19:02:33.268Z"
   },
   {
    "duration": 8,
    "start_time": "2022-06-14T19:02:33.298Z"
   },
   {
    "duration": 13,
    "start_time": "2022-06-14T19:02:33.307Z"
   },
   {
    "duration": 16,
    "start_time": "2022-06-14T19:02:33.322Z"
   },
   {
    "duration": 9,
    "start_time": "2022-06-14T19:02:33.340Z"
   },
   {
    "duration": 8,
    "start_time": "2022-06-14T19:02:33.351Z"
   },
   {
    "duration": 11,
    "start_time": "2022-06-14T19:02:33.360Z"
   },
   {
    "duration": 28,
    "start_time": "2022-06-14T19:02:33.372Z"
   },
   {
    "duration": 5,
    "start_time": "2022-06-14T19:02:33.401Z"
   },
   {
    "duration": 23,
    "start_time": "2022-06-14T19:02:33.407Z"
   },
   {
    "duration": 23,
    "start_time": "2022-06-14T19:02:33.433Z"
   },
   {
    "duration": 22,
    "start_time": "2022-06-14T19:02:33.458Z"
   },
   {
    "duration": 16,
    "start_time": "2022-06-14T19:02:33.481Z"
   },
   {
    "duration": 9,
    "start_time": "2022-06-14T19:02:33.498Z"
   },
   {
    "duration": 6,
    "start_time": "2022-06-14T19:02:33.508Z"
   },
   {
    "duration": 14,
    "start_time": "2022-06-14T19:02:33.516Z"
   },
   {
    "duration": 6,
    "start_time": "2022-06-14T19:02:33.531Z"
   },
   {
    "duration": 27,
    "start_time": "2022-06-14T19:02:33.538Z"
   },
   {
    "duration": 27,
    "start_time": "2022-06-14T19:02:33.567Z"
   },
   {
    "duration": 4,
    "start_time": "2022-06-14T19:02:33.596Z"
   },
   {
    "duration": 14,
    "start_time": "2022-06-14T19:02:33.601Z"
   },
   {
    "duration": 21,
    "start_time": "2022-06-14T19:02:33.616Z"
   },
   {
    "duration": 11,
    "start_time": "2022-06-14T19:02:33.638Z"
   },
   {
    "duration": 11,
    "start_time": "2022-06-14T19:02:33.650Z"
   },
   {
    "duration": 16,
    "start_time": "2022-06-14T19:02:33.662Z"
   },
   {
    "duration": 17,
    "start_time": "2022-06-14T19:02:33.680Z"
   },
   {
    "duration": 9,
    "start_time": "2022-06-14T19:02:33.698Z"
   },
   {
    "duration": 16,
    "start_time": "2022-06-14T19:02:33.709Z"
   },
   {
    "duration": 25,
    "start_time": "2022-06-14T19:02:33.727Z"
   },
   {
    "duration": 3,
    "start_time": "2022-06-14T19:02:33.754Z"
   },
   {
    "duration": 10,
    "start_time": "2022-06-14T19:02:33.758Z"
   },
   {
    "duration": 51,
    "start_time": "2022-06-14T19:02:33.770Z"
   },
   {
    "duration": 24,
    "start_time": "2022-06-14T19:02:33.823Z"
   },
   {
    "duration": 8,
    "start_time": "2022-06-14T19:02:33.849Z"
   },
   {
    "duration": 39,
    "start_time": "2022-06-14T19:02:33.859Z"
   },
   {
    "duration": 6,
    "start_time": "2022-06-14T19:02:33.900Z"
   },
   {
    "duration": 32,
    "start_time": "2022-06-14T19:02:33.907Z"
   },
   {
    "duration": 22,
    "start_time": "2022-06-14T19:02:33.943Z"
   },
   {
    "duration": 6,
    "start_time": "2022-06-14T19:02:33.967Z"
   },
   {
    "duration": 22,
    "start_time": "2022-06-14T19:02:33.995Z"
   },
   {
    "duration": 9,
    "start_time": "2022-06-14T19:02:34.018Z"
   },
   {
    "duration": 17,
    "start_time": "2022-06-14T19:02:34.028Z"
   },
   {
    "duration": 22,
    "start_time": "2022-06-14T19:02:34.047Z"
   },
   {
    "duration": 14,
    "start_time": "2022-06-14T19:02:34.094Z"
   },
   {
    "duration": 7,
    "start_time": "2022-06-14T19:02:34.109Z"
   },
   {
    "duration": 79,
    "start_time": "2022-06-14T19:02:34.117Z"
   },
   {
    "duration": 11,
    "start_time": "2022-06-14T19:02:34.198Z"
   },
   {
    "duration": 272,
    "start_time": "2022-06-14T19:02:34.210Z"
   },
   {
    "duration": 155,
    "start_time": "2022-06-14T19:02:34.484Z"
   },
   {
    "duration": 155,
    "start_time": "2022-06-14T19:02:34.641Z"
   },
   {
    "duration": 6,
    "start_time": "2022-06-14T19:02:34.797Z"
   },
   {
    "duration": 6,
    "start_time": "2022-06-14T19:02:34.805Z"
   },
   {
    "duration": 4,
    "start_time": "2022-06-14T19:02:34.812Z"
   },
   {
    "duration": 8,
    "start_time": "2022-06-14T19:02:34.817Z"
   },
   {
    "duration": 7,
    "start_time": "2022-06-14T19:02:34.826Z"
   },
   {
    "duration": 7,
    "start_time": "2022-06-14T19:02:34.835Z"
   },
   {
    "duration": 35,
    "start_time": "2022-06-14T19:06:07.260Z"
   },
   {
    "duration": 7,
    "start_time": "2022-06-14T19:06:08.108Z"
   },
   {
    "duration": 25,
    "start_time": "2022-06-14T19:06:09.584Z"
   },
   {
    "duration": 20,
    "start_time": "2022-06-14T19:06:10.708Z"
   },
   {
    "duration": 7,
    "start_time": "2022-06-14T19:06:12.104Z"
   },
   {
    "duration": 4,
    "start_time": "2022-06-14T19:11:09.861Z"
   },
   {
    "duration": 12,
    "start_time": "2022-06-14T19:11:18.853Z"
   },
   {
    "duration": 13,
    "start_time": "2022-06-14T19:15:18.876Z"
   },
   {
    "duration": 13,
    "start_time": "2022-06-14T19:16:38.521Z"
   },
   {
    "duration": 14,
    "start_time": "2022-06-14T19:17:14.122Z"
   },
   {
    "duration": 5,
    "start_time": "2022-06-14T19:17:16.232Z"
   },
   {
    "duration": 80,
    "start_time": "2022-06-14T19:17:17.113Z"
   },
   {
    "duration": 15,
    "start_time": "2022-06-14T19:17:20.430Z"
   },
   {
    "duration": 244,
    "start_time": "2022-06-14T19:17:21.590Z"
   },
   {
    "duration": 177,
    "start_time": "2022-06-14T19:17:22.183Z"
   },
   {
    "duration": 173,
    "start_time": "2022-06-14T19:17:22.899Z"
   },
   {
    "duration": 5,
    "start_time": "2022-06-14T19:42:12.309Z"
   },
   {
    "duration": 1286,
    "start_time": "2022-06-14T22:56:52.255Z"
   },
   {
    "duration": 780,
    "start_time": "2022-06-14T22:56:53.543Z"
   },
   {
    "duration": 12,
    "start_time": "2022-06-14T22:56:54.325Z"
   },
   {
    "duration": 36,
    "start_time": "2022-06-14T22:56:54.339Z"
   },
   {
    "duration": 9,
    "start_time": "2022-06-14T22:56:54.376Z"
   },
   {
    "duration": 15,
    "start_time": "2022-06-14T22:56:54.386Z"
   },
   {
    "duration": 17,
    "start_time": "2022-06-14T22:56:54.403Z"
   },
   {
    "duration": 31,
    "start_time": "2022-06-14T22:56:54.422Z"
   },
   {
    "duration": 9,
    "start_time": "2022-06-14T22:56:54.456Z"
   },
   {
    "duration": 8,
    "start_time": "2022-06-14T22:56:54.468Z"
   },
   {
    "duration": 14,
    "start_time": "2022-06-14T22:56:54.478Z"
   },
   {
    "duration": 13,
    "start_time": "2022-06-14T22:56:54.493Z"
   },
   {
    "duration": 19,
    "start_time": "2022-06-14T22:56:54.508Z"
   },
   {
    "duration": 28,
    "start_time": "2022-06-14T22:56:54.530Z"
   },
   {
    "duration": 23,
    "start_time": "2022-06-14T22:56:54.559Z"
   },
   {
    "duration": 14,
    "start_time": "2022-06-14T22:56:54.584Z"
   },
   {
    "duration": 12,
    "start_time": "2022-06-14T22:56:54.600Z"
   },
   {
    "duration": 8,
    "start_time": "2022-06-14T22:56:54.614Z"
   },
   {
    "duration": 11,
    "start_time": "2022-06-14T22:56:54.651Z"
   },
   {
    "duration": 9,
    "start_time": "2022-06-14T22:56:54.664Z"
   },
   {
    "duration": 24,
    "start_time": "2022-06-14T22:56:54.675Z"
   },
   {
    "duration": 16,
    "start_time": "2022-06-14T22:56:54.701Z"
   },
   {
    "duration": 4,
    "start_time": "2022-06-14T22:56:54.719Z"
   },
   {
    "duration": 11,
    "start_time": "2022-06-14T22:56:54.751Z"
   },
   {
    "duration": 16,
    "start_time": "2022-06-14T22:56:54.763Z"
   },
   {
    "duration": 11,
    "start_time": "2022-06-14T22:56:54.781Z"
   },
   {
    "duration": 7,
    "start_time": "2022-06-14T22:56:54.794Z"
   },
   {
    "duration": 12,
    "start_time": "2022-06-14T22:56:54.806Z"
   },
   {
    "duration": 43,
    "start_time": "2022-06-14T22:56:54.819Z"
   },
   {
    "duration": 10,
    "start_time": "2022-06-14T22:56:54.864Z"
   },
   {
    "duration": 28,
    "start_time": "2022-06-14T22:56:54.876Z"
   },
   {
    "duration": 30,
    "start_time": "2022-06-14T22:56:54.905Z"
   },
   {
    "duration": 6,
    "start_time": "2022-06-14T22:56:54.951Z"
   },
   {
    "duration": 14,
    "start_time": "2022-06-14T22:56:54.959Z"
   },
   {
    "duration": 22,
    "start_time": "2022-06-14T22:56:54.976Z"
   },
   {
    "duration": 14,
    "start_time": "2022-06-14T22:56:55.000Z"
   },
   {
    "duration": 37,
    "start_time": "2022-06-14T22:56:55.016Z"
   },
   {
    "duration": 40,
    "start_time": "2022-06-14T22:56:55.055Z"
   },
   {
    "duration": 7,
    "start_time": "2022-06-14T22:56:55.097Z"
   },
   {
    "duration": 57,
    "start_time": "2022-06-14T22:56:55.106Z"
   },
   {
    "duration": 32,
    "start_time": "2022-06-14T22:56:55.165Z"
   },
   {
    "duration": 8,
    "start_time": "2022-06-14T22:56:55.200Z"
   },
   {
    "duration": 58,
    "start_time": "2022-06-14T22:56:55.210Z"
   },
   {
    "duration": 10,
    "start_time": "2022-06-14T22:56:55.270Z"
   },
   {
    "duration": 25,
    "start_time": "2022-06-14T22:56:55.283Z"
   },
   {
    "duration": 53,
    "start_time": "2022-06-14T22:56:55.311Z"
   },
   {
    "duration": 15,
    "start_time": "2022-06-14T22:56:55.366Z"
   },
   {
    "duration": 16,
    "start_time": "2022-06-14T22:56:55.383Z"
   },
   {
    "duration": 5,
    "start_time": "2022-06-14T22:56:55.401Z"
   },
   {
    "duration": 87,
    "start_time": "2022-06-14T22:56:55.408Z"
   },
   {
    "duration": 14,
    "start_time": "2022-06-14T22:56:55.496Z"
   },
   {
    "duration": 262,
    "start_time": "2022-06-14T22:56:55.511Z"
   },
   {
    "duration": 186,
    "start_time": "2022-06-14T22:56:55.775Z"
   },
   {
    "duration": 201,
    "start_time": "2022-06-14T22:56:55.962Z"
   },
   {
    "duration": 3,
    "start_time": "2022-06-14T22:56:56.165Z"
   },
   {
    "duration": 17,
    "start_time": "2022-06-14T22:56:56.170Z"
   },
   {
    "duration": 6,
    "start_time": "2022-06-14T22:56:56.189Z"
   },
   {
    "duration": 17,
    "start_time": "2022-06-14T22:56:56.196Z"
   },
   {
    "duration": 6,
    "start_time": "2022-06-14T22:56:56.215Z"
   },
   {
    "duration": 6,
    "start_time": "2022-06-14T22:56:56.223Z"
   },
   {
    "duration": 22,
    "start_time": "2022-06-14T22:58:06.363Z"
   },
   {
    "duration": 388,
    "start_time": "2022-06-14T23:46:20.056Z"
   },
   {
    "duration": 1190,
    "start_time": "2022-06-14T23:46:32.283Z"
   },
   {
    "duration": 286,
    "start_time": "2022-06-14T23:46:33.475Z"
   },
   {
    "duration": 13,
    "start_time": "2022-06-14T23:46:33.763Z"
   },
   {
    "duration": 41,
    "start_time": "2022-06-14T23:46:33.778Z"
   },
   {
    "duration": 11,
    "start_time": "2022-06-14T23:46:33.821Z"
   },
   {
    "duration": 29,
    "start_time": "2022-06-14T23:46:33.834Z"
   },
   {
    "duration": 23,
    "start_time": "2022-06-14T23:46:33.866Z"
   },
   {
    "duration": 22,
    "start_time": "2022-06-14T23:46:33.891Z"
   },
   {
    "duration": 11,
    "start_time": "2022-06-14T23:46:33.915Z"
   },
   {
    "duration": 11,
    "start_time": "2022-06-14T23:46:33.929Z"
   },
   {
    "duration": 11,
    "start_time": "2022-06-14T23:46:33.951Z"
   },
   {
    "duration": 7,
    "start_time": "2022-06-14T23:46:33.964Z"
   },
   {
    "duration": 19,
    "start_time": "2022-06-14T23:46:33.973Z"
   },
   {
    "duration": 36,
    "start_time": "2022-06-14T23:46:33.994Z"
   },
   {
    "duration": 40,
    "start_time": "2022-06-14T23:46:34.032Z"
   },
   {
    "duration": 16,
    "start_time": "2022-06-14T23:46:34.074Z"
   },
   {
    "duration": 15,
    "start_time": "2022-06-14T23:46:34.092Z"
   },
   {
    "duration": 7,
    "start_time": "2022-06-14T23:46:34.108Z"
   },
   {
    "duration": 37,
    "start_time": "2022-06-14T23:46:34.117Z"
   },
   {
    "duration": 6,
    "start_time": "2022-06-14T23:46:34.156Z"
   },
   {
    "duration": 38,
    "start_time": "2022-06-14T23:46:34.164Z"
   },
   {
    "duration": 20,
    "start_time": "2022-06-14T23:46:34.204Z"
   },
   {
    "duration": 28,
    "start_time": "2022-06-14T23:46:34.227Z"
   },
   {
    "duration": 17,
    "start_time": "2022-06-14T23:46:34.257Z"
   },
   {
    "duration": 20,
    "start_time": "2022-06-14T23:46:34.276Z"
   },
   {
    "duration": 16,
    "start_time": "2022-06-14T23:46:34.298Z"
   },
   {
    "duration": 10,
    "start_time": "2022-06-14T23:46:34.316Z"
   },
   {
    "duration": 19,
    "start_time": "2022-06-14T23:46:34.354Z"
   },
   {
    "duration": 17,
    "start_time": "2022-06-14T23:46:34.375Z"
   },
   {
    "duration": 12,
    "start_time": "2022-06-14T23:46:34.394Z"
   },
   {
    "duration": 44,
    "start_time": "2022-06-14T23:46:34.408Z"
   },
   {
    "duration": 28,
    "start_time": "2022-06-14T23:46:34.454Z"
   },
   {
    "duration": 4,
    "start_time": "2022-06-14T23:46:34.484Z"
   },
   {
    "duration": 13,
    "start_time": "2022-06-14T23:46:34.490Z"
   },
   {
    "duration": 23,
    "start_time": "2022-06-14T23:46:34.505Z"
   },
   {
    "duration": 31,
    "start_time": "2022-06-14T23:46:34.529Z"
   },
   {
    "duration": 9,
    "start_time": "2022-06-14T23:46:34.562Z"
   },
   {
    "duration": 43,
    "start_time": "2022-06-14T23:46:34.573Z"
   },
   {
    "duration": 7,
    "start_time": "2022-06-14T23:46:34.618Z"
   },
   {
    "duration": 35,
    "start_time": "2022-06-14T23:46:34.651Z"
   },
   {
    "duration": 27,
    "start_time": "2022-06-14T23:46:34.688Z"
   },
   {
    "duration": 9,
    "start_time": "2022-06-14T23:46:34.717Z"
   },
   {
    "duration": 26,
    "start_time": "2022-06-14T23:46:34.752Z"
   },
   {
    "duration": 8,
    "start_time": "2022-06-14T23:46:34.780Z"
   },
   {
    "duration": 24,
    "start_time": "2022-06-14T23:46:34.790Z"
   },
   {
    "duration": 51,
    "start_time": "2022-06-14T23:46:34.815Z"
   },
   {
    "duration": 13,
    "start_time": "2022-06-14T23:46:34.867Z"
   },
   {
    "duration": 17,
    "start_time": "2022-06-14T23:46:34.881Z"
   },
   {
    "duration": 5,
    "start_time": "2022-06-14T23:46:34.899Z"
   },
   {
    "duration": 99,
    "start_time": "2022-06-14T23:46:34.905Z"
   },
   {
    "duration": 14,
    "start_time": "2022-06-14T23:46:35.006Z"
   },
   {
    "duration": 324,
    "start_time": "2022-06-14T23:46:35.022Z"
   },
   {
    "duration": 175,
    "start_time": "2022-06-14T23:46:35.351Z"
   },
   {
    "duration": 172,
    "start_time": "2022-06-14T23:46:35.528Z"
   },
   {
    "duration": 3,
    "start_time": "2022-06-14T23:46:35.701Z"
   },
   {
    "duration": 8,
    "start_time": "2022-06-14T23:46:35.706Z"
   },
   {
    "duration": 8,
    "start_time": "2022-06-14T23:46:35.715Z"
   },
   {
    "duration": 6,
    "start_time": "2022-06-14T23:46:35.724Z"
   },
   {
    "duration": 8,
    "start_time": "2022-06-14T23:46:35.732Z"
   },
   {
    "duration": 5,
    "start_time": "2022-06-14T23:46:35.742Z"
   },
   {
    "duration": 1218,
    "start_time": "2022-06-15T01:06:28.270Z"
   },
   {
    "duration": 710,
    "start_time": "2022-06-15T01:06:29.489Z"
   },
   {
    "duration": 11,
    "start_time": "2022-06-15T01:06:30.201Z"
   },
   {
    "duration": 42,
    "start_time": "2022-06-15T01:06:30.214Z"
   },
   {
    "duration": 8,
    "start_time": "2022-06-15T01:06:30.258Z"
   },
   {
    "duration": 23,
    "start_time": "2022-06-15T01:06:30.267Z"
   },
   {
    "duration": 29,
    "start_time": "2022-06-15T01:06:30.291Z"
   },
   {
    "duration": 16,
    "start_time": "2022-06-15T01:06:30.322Z"
   },
   {
    "duration": 11,
    "start_time": "2022-06-15T01:06:30.339Z"
   },
   {
    "duration": 9,
    "start_time": "2022-06-15T01:06:30.352Z"
   },
   {
    "duration": 20,
    "start_time": "2022-06-15T01:06:30.362Z"
   },
   {
    "duration": 10,
    "start_time": "2022-06-15T01:06:30.383Z"
   },
   {
    "duration": 15,
    "start_time": "2022-06-15T01:06:30.395Z"
   },
   {
    "duration": 25,
    "start_time": "2022-06-15T01:06:30.413Z"
   },
   {
    "duration": 23,
    "start_time": "2022-06-15T01:06:30.440Z"
   },
   {
    "duration": 25,
    "start_time": "2022-06-15T01:06:30.464Z"
   },
   {
    "duration": 7,
    "start_time": "2022-06-15T01:06:30.491Z"
   },
   {
    "duration": 7,
    "start_time": "2022-06-15T01:06:30.500Z"
   },
   {
    "duration": 10,
    "start_time": "2022-06-15T01:06:30.508Z"
   },
   {
    "duration": 11,
    "start_time": "2022-06-15T01:06:30.520Z"
   },
   {
    "duration": 22,
    "start_time": "2022-06-15T01:06:30.533Z"
   },
   {
    "duration": 29,
    "start_time": "2022-06-15T01:06:30.557Z"
   },
   {
    "duration": 4,
    "start_time": "2022-06-15T01:06:30.588Z"
   },
   {
    "duration": 21,
    "start_time": "2022-06-15T01:06:30.593Z"
   },
   {
    "duration": 19,
    "start_time": "2022-06-15T01:06:30.616Z"
   },
   {
    "duration": 14,
    "start_time": "2022-06-15T01:06:30.636Z"
   },
   {
    "duration": 6,
    "start_time": "2022-06-15T01:06:30.652Z"
   },
   {
    "duration": 24,
    "start_time": "2022-06-15T01:06:30.660Z"
   },
   {
    "duration": 10,
    "start_time": "2022-06-15T01:06:30.686Z"
   },
   {
    "duration": 12,
    "start_time": "2022-06-15T01:06:30.698Z"
   },
   {
    "duration": 15,
    "start_time": "2022-06-15T01:06:30.712Z"
   },
   {
    "duration": 19,
    "start_time": "2022-06-15T01:06:30.728Z"
   },
   {
    "duration": 3,
    "start_time": "2022-06-15T01:06:30.749Z"
   },
   {
    "duration": 32,
    "start_time": "2022-06-15T01:06:30.754Z"
   },
   {
    "duration": 18,
    "start_time": "2022-06-15T01:06:30.788Z"
   },
   {
    "duration": 11,
    "start_time": "2022-06-15T01:06:30.807Z"
   },
   {
    "duration": 23,
    "start_time": "2022-06-15T01:06:30.820Z"
   },
   {
    "duration": 50,
    "start_time": "2022-06-15T01:06:30.844Z"
   },
   {
    "duration": 7,
    "start_time": "2022-06-15T01:06:30.896Z"
   },
   {
    "duration": 41,
    "start_time": "2022-06-15T01:06:30.904Z"
   },
   {
    "duration": 30,
    "start_time": "2022-06-15T01:06:30.948Z"
   },
   {
    "duration": 8,
    "start_time": "2022-06-15T01:06:30.980Z"
   },
   {
    "duration": 28,
    "start_time": "2022-06-15T01:06:30.990Z"
   },
   {
    "duration": 8,
    "start_time": "2022-06-15T01:06:31.020Z"
   },
   {
    "duration": 26,
    "start_time": "2022-06-15T01:06:31.029Z"
   },
   {
    "duration": 42,
    "start_time": "2022-06-15T01:06:31.057Z"
   },
   {
    "duration": 12,
    "start_time": "2022-06-15T01:06:31.100Z"
   },
   {
    "duration": 13,
    "start_time": "2022-06-15T01:06:31.113Z"
   },
   {
    "duration": 5,
    "start_time": "2022-06-15T01:06:31.127Z"
   },
   {
    "duration": 82,
    "start_time": "2022-06-15T01:06:31.133Z"
   },
   {
    "duration": 11,
    "start_time": "2022-06-15T01:06:31.217Z"
   },
   {
    "duration": 231,
    "start_time": "2022-06-15T01:06:31.229Z"
   },
   {
    "duration": 156,
    "start_time": "2022-06-15T01:06:31.461Z"
   },
   {
    "duration": 154,
    "start_time": "2022-06-15T01:06:31.618Z"
   },
   {
    "duration": 2,
    "start_time": "2022-06-15T01:06:31.773Z"
   },
   {
    "duration": 8,
    "start_time": "2022-06-15T01:06:31.777Z"
   },
   {
    "duration": 12,
    "start_time": "2022-06-15T01:06:31.787Z"
   },
   {
    "duration": 7,
    "start_time": "2022-06-15T01:06:31.801Z"
   },
   {
    "duration": 4,
    "start_time": "2022-06-15T01:06:31.809Z"
   },
   {
    "duration": 18,
    "start_time": "2022-06-15T01:06:31.815Z"
   },
   {
    "duration": 4,
    "start_time": "2022-06-15T01:07:00.936Z"
   },
   {
    "duration": 5,
    "start_time": "2022-06-15T01:07:39.855Z"
   },
   {
    "duration": 5,
    "start_time": "2022-06-15T01:07:47.356Z"
   },
   {
    "duration": 5,
    "start_time": "2022-06-15T01:07:58.454Z"
   },
   {
    "duration": 5,
    "start_time": "2022-06-15T01:09:57.397Z"
   },
   {
    "duration": 5,
    "start_time": "2022-06-15T01:09:58.363Z"
   },
   {
    "duration": 7,
    "start_time": "2022-06-15T01:10:42.179Z"
   },
   {
    "duration": 6,
    "start_time": "2022-06-15T01:11:20.245Z"
   },
   {
    "duration": 6,
    "start_time": "2022-06-15T01:13:49.819Z"
   },
   {
    "duration": 6,
    "start_time": "2022-06-15T01:14:12.837Z"
   },
   {
    "duration": 1281,
    "start_time": "2022-06-15T16:27:12.283Z"
   },
   {
    "duration": 865,
    "start_time": "2022-06-15T16:27:13.566Z"
   },
   {
    "duration": 12,
    "start_time": "2022-06-15T16:27:14.433Z"
   },
   {
    "duration": 38,
    "start_time": "2022-06-15T16:27:14.448Z"
   },
   {
    "duration": 8,
    "start_time": "2022-06-15T16:27:14.488Z"
   },
   {
    "duration": 15,
    "start_time": "2022-06-15T16:27:14.498Z"
   },
   {
    "duration": 23,
    "start_time": "2022-06-15T16:27:14.515Z"
   },
   {
    "duration": 36,
    "start_time": "2022-06-15T16:27:14.541Z"
   },
   {
    "duration": 10,
    "start_time": "2022-06-15T16:27:14.580Z"
   },
   {
    "duration": 11,
    "start_time": "2022-06-15T16:27:14.593Z"
   },
   {
    "duration": 26,
    "start_time": "2022-06-15T16:27:14.606Z"
   },
   {
    "duration": 7,
    "start_time": "2022-06-15T16:27:14.634Z"
   },
   {
    "duration": 23,
    "start_time": "2022-06-15T16:27:14.642Z"
   },
   {
    "duration": 21,
    "start_time": "2022-06-15T16:27:14.667Z"
   },
   {
    "duration": 25,
    "start_time": "2022-06-15T16:27:14.690Z"
   },
   {
    "duration": 17,
    "start_time": "2022-06-15T16:27:14.717Z"
   },
   {
    "duration": 35,
    "start_time": "2022-06-15T16:27:14.736Z"
   },
   {
    "duration": 6,
    "start_time": "2022-06-15T16:27:14.772Z"
   },
   {
    "duration": 12,
    "start_time": "2022-06-15T16:27:14.780Z"
   },
   {
    "duration": 7,
    "start_time": "2022-06-15T16:27:14.794Z"
   },
   {
    "duration": 31,
    "start_time": "2022-06-15T16:27:14.802Z"
   },
   {
    "duration": 39,
    "start_time": "2022-06-15T16:27:14.835Z"
   },
   {
    "duration": 5,
    "start_time": "2022-06-15T16:27:14.877Z"
   },
   {
    "duration": 18,
    "start_time": "2022-06-15T16:27:14.884Z"
   },
   {
    "duration": 18,
    "start_time": "2022-06-15T16:27:14.904Z"
   },
   {
    "duration": 14,
    "start_time": "2022-06-15T16:27:14.924Z"
   },
   {
    "duration": 32,
    "start_time": "2022-06-15T16:27:14.940Z"
   },
   {
    "duration": 15,
    "start_time": "2022-06-15T16:27:14.976Z"
   },
   {
    "duration": 14,
    "start_time": "2022-06-15T16:27:14.993Z"
   },
   {
    "duration": 31,
    "start_time": "2022-06-15T16:27:15.009Z"
   },
   {
    "duration": 36,
    "start_time": "2022-06-15T16:27:15.042Z"
   },
   {
    "duration": 24,
    "start_time": "2022-06-15T16:27:15.082Z"
   },
   {
    "duration": 5,
    "start_time": "2022-06-15T16:27:15.108Z"
   },
   {
    "duration": 18,
    "start_time": "2022-06-15T16:27:15.114Z"
   },
   {
    "duration": 44,
    "start_time": "2022-06-15T16:27:15.135Z"
   },
   {
    "duration": 13,
    "start_time": "2022-06-15T16:27:15.181Z"
   },
   {
    "duration": 9,
    "start_time": "2022-06-15T16:27:15.196Z"
   },
   {
    "duration": 59,
    "start_time": "2022-06-15T16:27:15.207Z"
   },
   {
    "duration": 7,
    "start_time": "2022-06-15T16:27:15.268Z"
   },
   {
    "duration": 34,
    "start_time": "2022-06-15T16:27:15.277Z"
   },
   {
    "duration": 26,
    "start_time": "2022-06-15T16:27:15.313Z"
   },
   {
    "duration": 29,
    "start_time": "2022-06-15T16:27:15.341Z"
   },
   {
    "duration": 48,
    "start_time": "2022-06-15T16:27:15.371Z"
   },
   {
    "duration": 8,
    "start_time": "2022-06-15T16:27:15.421Z"
   },
   {
    "duration": 28,
    "start_time": "2022-06-15T16:27:15.431Z"
   },
   {
    "duration": 23,
    "start_time": "2022-06-15T16:27:15.464Z"
   },
   {
    "duration": 12,
    "start_time": "2022-06-15T16:27:15.489Z"
   },
   {
    "duration": 18,
    "start_time": "2022-06-15T16:27:15.502Z"
   },
   {
    "duration": 5,
    "start_time": "2022-06-15T16:27:15.521Z"
   },
   {
    "duration": 86,
    "start_time": "2022-06-15T16:27:15.528Z"
   },
   {
    "duration": 12,
    "start_time": "2022-06-15T16:27:15.617Z"
   },
   {
    "duration": 253,
    "start_time": "2022-06-15T16:27:15.630Z"
   },
   {
    "duration": 180,
    "start_time": "2022-06-15T16:27:15.885Z"
   },
   {
    "duration": 191,
    "start_time": "2022-06-15T16:27:16.067Z"
   },
   {
    "duration": 7,
    "start_time": "2022-06-15T16:27:16.265Z"
   },
   {
    "duration": 11,
    "start_time": "2022-06-15T16:27:16.274Z"
   },
   {
    "duration": 16,
    "start_time": "2022-06-15T16:27:16.287Z"
   },
   {
    "duration": 22,
    "start_time": "2022-06-15T16:27:16.305Z"
   },
   {
    "duration": 10,
    "start_time": "2022-06-15T16:27:16.329Z"
   },
   {
    "duration": 7,
    "start_time": "2022-06-15T16:27:16.340Z"
   },
   {
    "duration": 10,
    "start_time": "2022-06-15T16:27:16.348Z"
   },
   {
    "duration": 19,
    "start_time": "2022-06-15T16:27:16.360Z"
   },
   {
    "duration": 8,
    "start_time": "2022-06-15T16:27:16.381Z"
   },
   {
    "duration": 246,
    "start_time": "2022-06-15T16:52:47.848Z"
   },
   {
    "duration": 297,
    "start_time": "2022-06-15T16:53:10.551Z"
   },
   {
    "duration": 11,
    "start_time": "2022-06-15T16:57:55.361Z"
   },
   {
    "duration": 13,
    "start_time": "2022-06-15T16:58:16.697Z"
   },
   {
    "duration": 247,
    "start_time": "2022-06-15T16:58:18.575Z"
   },
   {
    "duration": 328,
    "start_time": "2022-06-15T16:58:19.058Z"
   },
   {
    "duration": 163,
    "start_time": "2022-06-15T16:58:19.676Z"
   },
   {
    "duration": 7,
    "start_time": "2022-06-15T16:58:21.047Z"
   },
   {
    "duration": 6,
    "start_time": "2022-06-15T16:58:21.553Z"
   },
   {
    "duration": 8,
    "start_time": "2022-06-15T16:58:22.172Z"
   },
   {
    "duration": 7,
    "start_time": "2022-06-15T16:58:22.658Z"
   },
   {
    "duration": 241,
    "start_time": "2022-06-15T16:58:23.182Z"
   },
   {
    "duration": 233,
    "start_time": "2022-06-15T16:58:23.994Z"
   },
   {
    "duration": 14,
    "start_time": "2022-06-15T16:58:39.253Z"
   },
   {
    "duration": 1146,
    "start_time": "2022-06-15T18:07:23.289Z"
   },
   {
    "duration": 414,
    "start_time": "2022-06-15T18:07:24.439Z"
   },
   {
    "duration": 13,
    "start_time": "2022-06-15T18:07:24.855Z"
   },
   {
    "duration": 41,
    "start_time": "2022-06-15T18:07:24.871Z"
   },
   {
    "duration": 13,
    "start_time": "2022-06-15T18:07:24.915Z"
   },
   {
    "duration": 16,
    "start_time": "2022-06-15T18:07:24.930Z"
   },
   {
    "duration": 28,
    "start_time": "2022-06-15T18:07:24.948Z"
   },
   {
    "duration": 28,
    "start_time": "2022-06-15T18:07:24.978Z"
   },
   {
    "duration": 10,
    "start_time": "2022-06-15T18:07:25.008Z"
   },
   {
    "duration": 6,
    "start_time": "2022-06-15T18:07:25.021Z"
   },
   {
    "duration": 14,
    "start_time": "2022-06-15T18:07:25.029Z"
   },
   {
    "duration": 20,
    "start_time": "2022-06-15T18:07:25.045Z"
   },
   {
    "duration": 13,
    "start_time": "2022-06-15T18:07:25.066Z"
   },
   {
    "duration": 33,
    "start_time": "2022-06-15T18:07:25.082Z"
   },
   {
    "duration": 50,
    "start_time": "2022-06-15T18:07:25.117Z"
   },
   {
    "duration": 17,
    "start_time": "2022-06-15T18:07:25.168Z"
   },
   {
    "duration": 8,
    "start_time": "2022-06-15T18:07:25.187Z"
   },
   {
    "duration": 7,
    "start_time": "2022-06-15T18:07:25.196Z"
   },
   {
    "duration": 9,
    "start_time": "2022-06-15T18:07:25.205Z"
   },
   {
    "duration": 16,
    "start_time": "2022-06-15T18:07:25.216Z"
   },
   {
    "duration": 54,
    "start_time": "2022-06-15T18:07:25.234Z"
   },
   {
    "duration": 16,
    "start_time": "2022-06-15T18:07:25.290Z"
   },
   {
    "duration": 4,
    "start_time": "2022-06-15T18:07:25.308Z"
   },
   {
    "duration": 14,
    "start_time": "2022-06-15T18:07:25.313Z"
   },
   {
    "duration": 47,
    "start_time": "2022-06-15T18:07:25.328Z"
   },
   {
    "duration": 12,
    "start_time": "2022-06-15T18:07:25.377Z"
   },
   {
    "duration": 7,
    "start_time": "2022-06-15T18:07:25.392Z"
   },
   {
    "duration": 21,
    "start_time": "2022-06-15T18:07:25.404Z"
   },
   {
    "duration": 45,
    "start_time": "2022-06-15T18:07:25.426Z"
   },
   {
    "duration": 11,
    "start_time": "2022-06-15T18:07:25.473Z"
   },
   {
    "duration": 20,
    "start_time": "2022-06-15T18:07:25.486Z"
   },
   {
    "duration": 24,
    "start_time": "2022-06-15T18:07:25.508Z"
   },
   {
    "duration": 33,
    "start_time": "2022-06-15T18:07:25.534Z"
   },
   {
    "duration": 11,
    "start_time": "2022-06-15T18:07:25.569Z"
   },
   {
    "duration": 23,
    "start_time": "2022-06-15T18:07:25.582Z"
   },
   {
    "duration": 13,
    "start_time": "2022-06-15T18:07:25.607Z"
   },
   {
    "duration": 9,
    "start_time": "2022-06-15T18:07:25.622Z"
   },
   {
    "duration": 68,
    "start_time": "2022-06-15T18:07:25.632Z"
   },
   {
    "duration": 7,
    "start_time": "2022-06-15T18:07:25.702Z"
   },
   {
    "duration": 32,
    "start_time": "2022-06-15T18:07:25.710Z"
   },
   {
    "duration": 25,
    "start_time": "2022-06-15T18:07:25.764Z"
   },
   {
    "duration": 6,
    "start_time": "2022-06-15T18:07:25.791Z"
   },
   {
    "duration": 27,
    "start_time": "2022-06-15T18:07:25.799Z"
   },
   {
    "duration": 8,
    "start_time": "2022-06-15T18:07:25.827Z"
   },
   {
    "duration": 48,
    "start_time": "2022-06-15T18:07:25.837Z"
   },
   {
    "duration": 26,
    "start_time": "2022-06-15T18:07:25.887Z"
   },
   {
    "duration": 13,
    "start_time": "2022-06-15T18:07:25.914Z"
   },
   {
    "duration": 16,
    "start_time": "2022-06-15T18:07:25.964Z"
   },
   {
    "duration": 6,
    "start_time": "2022-06-15T18:07:25.982Z"
   },
   {
    "duration": 94,
    "start_time": "2022-06-15T18:07:25.989Z"
   },
   {
    "duration": 14,
    "start_time": "2022-06-15T18:07:26.085Z"
   },
   {
    "duration": 275,
    "start_time": "2022-06-15T18:07:26.101Z"
   },
   {
    "duration": 194,
    "start_time": "2022-06-15T18:07:26.378Z"
   },
   {
    "duration": 199,
    "start_time": "2022-06-15T18:07:26.574Z"
   },
   {
    "duration": 7,
    "start_time": "2022-06-15T18:07:26.775Z"
   },
   {
    "duration": 13,
    "start_time": "2022-06-15T18:07:26.784Z"
   },
   {
    "duration": 6,
    "start_time": "2022-06-15T18:07:26.799Z"
   },
   {
    "duration": 8,
    "start_time": "2022-06-15T18:07:26.807Z"
   },
   {
    "duration": 283,
    "start_time": "2022-06-15T18:07:26.817Z"
   },
   {
    "duration": 254,
    "start_time": "2022-06-15T18:07:27.102Z"
   },
   {
    "duration": 17,
    "start_time": "2022-06-15T18:07:27.358Z"
   },
   {
    "duration": 22,
    "start_time": "2022-06-15T18:07:27.377Z"
   },
   {
    "duration": 27,
    "start_time": "2022-06-15T18:07:27.401Z"
   },
   {
    "duration": 22,
    "start_time": "2022-06-15T18:07:27.430Z"
   },
   {
    "duration": 104,
    "start_time": "2022-06-15T18:25:40.405Z"
   },
   {
    "duration": 13,
    "start_time": "2022-06-15T18:27:07.923Z"
   },
   {
    "duration": 13,
    "start_time": "2022-06-15T18:28:21.829Z"
   },
   {
    "duration": 225,
    "start_time": "2022-06-15T18:31:15.490Z"
   },
   {
    "duration": 9,
    "start_time": "2022-06-15T18:32:09.634Z"
   },
   {
    "duration": 223,
    "start_time": "2022-06-15T18:33:37.870Z"
   },
   {
    "duration": 151,
    "start_time": "2022-06-15T18:35:00.879Z"
   },
   {
    "duration": 322,
    "start_time": "2022-06-15T18:35:26.119Z"
   },
   {
    "duration": 335,
    "start_time": "2022-06-15T18:36:02.085Z"
   },
   {
    "duration": 7,
    "start_time": "2022-06-15T18:36:44.859Z"
   },
   {
    "duration": 7,
    "start_time": "2022-06-15T18:36:56.562Z"
   },
   {
    "duration": 7,
    "start_time": "2022-06-15T18:37:29.352Z"
   },
   {
    "duration": 7,
    "start_time": "2022-06-15T18:37:30.745Z"
   },
   {
    "duration": 6,
    "start_time": "2022-06-15T18:39:17.914Z"
   },
   {
    "duration": 6,
    "start_time": "2022-06-15T18:39:54.136Z"
   },
   {
    "duration": 6,
    "start_time": "2022-06-15T18:39:54.852Z"
   },
   {
    "duration": 6,
    "start_time": "2022-06-15T18:39:55.522Z"
   },
   {
    "duration": 17,
    "start_time": "2022-06-15T18:40:33.213Z"
   },
   {
    "duration": 18,
    "start_time": "2022-06-15T18:41:01.935Z"
   },
   {
    "duration": 296,
    "start_time": "2022-06-15T18:42:52.443Z"
   },
   {
    "duration": 318,
    "start_time": "2022-06-15T18:44:41.035Z"
   },
   {
    "duration": 421,
    "start_time": "2022-06-15T18:45:04.618Z"
   },
   {
    "duration": 319,
    "start_time": "2022-06-15T18:46:12.218Z"
   },
   {
    "duration": 6,
    "start_time": "2022-06-15T18:58:25.254Z"
   },
   {
    "duration": 6,
    "start_time": "2022-06-15T18:58:25.886Z"
   },
   {
    "duration": 5,
    "start_time": "2022-06-15T18:58:26.628Z"
   },
   {
    "duration": 6,
    "start_time": "2022-06-15T18:58:27.406Z"
   },
   {
    "duration": 7,
    "start_time": "2022-06-15T18:59:13.863Z"
   },
   {
    "duration": 14,
    "start_time": "2022-06-15T18:59:32.067Z"
   },
   {
    "duration": 11,
    "start_time": "2022-06-15T18:59:50.118Z"
   },
   {
    "duration": 210,
    "start_time": "2022-06-15T19:09:43.931Z"
   },
   {
    "duration": 230,
    "start_time": "2022-06-15T19:10:02.013Z"
   },
   {
    "duration": 217,
    "start_time": "2022-06-15T19:10:39.214Z"
   },
   {
    "duration": 214,
    "start_time": "2022-06-15T19:10:39.794Z"
   },
   {
    "duration": 147,
    "start_time": "2022-06-15T19:16:35.666Z"
   },
   {
    "duration": 5,
    "start_time": "2022-06-15T19:16:43.791Z"
   },
   {
    "duration": 60,
    "start_time": "2022-06-15T19:16:44.840Z"
   },
   {
    "duration": 1111,
    "start_time": "2022-06-15T19:16:57.653Z"
   },
   {
    "duration": 336,
    "start_time": "2022-06-15T19:16:58.766Z"
   },
   {
    "duration": 13,
    "start_time": "2022-06-15T19:16:59.104Z"
   },
   {
    "duration": 41,
    "start_time": "2022-06-15T19:16:59.119Z"
   },
   {
    "duration": 9,
    "start_time": "2022-06-15T19:16:59.161Z"
   },
   {
    "duration": 12,
    "start_time": "2022-06-15T19:16:59.171Z"
   },
   {
    "duration": 14,
    "start_time": "2022-06-15T19:16:59.185Z"
   },
   {
    "duration": 11,
    "start_time": "2022-06-15T19:16:59.201Z"
   },
   {
    "duration": 9,
    "start_time": "2022-06-15T19:16:59.214Z"
   },
   {
    "duration": 6,
    "start_time": "2022-06-15T19:16:59.225Z"
   },
   {
    "duration": 33,
    "start_time": "2022-06-15T19:16:59.232Z"
   },
   {
    "duration": 4,
    "start_time": "2022-06-15T19:16:59.266Z"
   },
   {
    "duration": 14,
    "start_time": "2022-06-15T19:16:59.271Z"
   },
   {
    "duration": 22,
    "start_time": "2022-06-15T19:16:59.286Z"
   },
   {
    "duration": 27,
    "start_time": "2022-06-15T19:16:59.310Z"
   },
   {
    "duration": 16,
    "start_time": "2022-06-15T19:16:59.365Z"
   },
   {
    "duration": 9,
    "start_time": "2022-06-15T19:16:59.382Z"
   },
   {
    "duration": 7,
    "start_time": "2022-06-15T19:16:59.392Z"
   },
   {
    "duration": 10,
    "start_time": "2022-06-15T19:16:59.400Z"
   },
   {
    "duration": 7,
    "start_time": "2022-06-15T19:16:59.412Z"
   },
   {
    "duration": 56,
    "start_time": "2022-06-15T19:16:59.420Z"
   },
   {
    "duration": 16,
    "start_time": "2022-06-15T19:16:59.477Z"
   },
   {
    "duration": 4,
    "start_time": "2022-06-15T19:16:59.494Z"
   },
   {
    "duration": 13,
    "start_time": "2022-06-15T19:16:59.499Z"
   },
   {
    "duration": 18,
    "start_time": "2022-06-15T19:16:59.513Z"
   },
   {
    "duration": 37,
    "start_time": "2022-06-15T19:16:59.533Z"
   },
   {
    "duration": 7,
    "start_time": "2022-06-15T19:16:59.572Z"
   },
   {
    "duration": 13,
    "start_time": "2022-06-15T19:16:59.582Z"
   },
   {
    "duration": 12,
    "start_time": "2022-06-15T19:16:59.597Z"
   },
   {
    "duration": 10,
    "start_time": "2022-06-15T19:16:59.610Z"
   },
   {
    "duration": 44,
    "start_time": "2022-06-15T19:16:59.621Z"
   },
   {
    "duration": 20,
    "start_time": "2022-06-15T19:16:59.666Z"
   },
   {
    "duration": 3,
    "start_time": "2022-06-15T19:16:59.687Z"
   },
   {
    "duration": 10,
    "start_time": "2022-06-15T19:16:59.692Z"
   },
   {
    "duration": 17,
    "start_time": "2022-06-15T19:16:59.703Z"
   },
   {
    "duration": 12,
    "start_time": "2022-06-15T19:16:59.721Z"
   },
   {
    "duration": 31,
    "start_time": "2022-06-15T19:16:59.734Z"
   },
   {
    "duration": 40,
    "start_time": "2022-06-15T19:16:59.767Z"
   },
   {
    "duration": 7,
    "start_time": "2022-06-15T19:16:59.808Z"
   },
   {
    "duration": 48,
    "start_time": "2022-06-15T19:16:59.816Z"
   },
   {
    "duration": 24,
    "start_time": "2022-06-15T19:16:59.866Z"
   },
   {
    "duration": 6,
    "start_time": "2022-06-15T19:16:59.892Z"
   },
   {
    "duration": 25,
    "start_time": "2022-06-15T19:16:59.900Z"
   },
   {
    "duration": 8,
    "start_time": "2022-06-15T19:16:59.927Z"
   },
   {
    "duration": 46,
    "start_time": "2022-06-15T19:16:59.936Z"
   },
   {
    "duration": 23,
    "start_time": "2022-06-15T19:16:59.983Z"
   },
   {
    "duration": 13,
    "start_time": "2022-06-15T19:17:00.008Z"
   },
   {
    "duration": 16,
    "start_time": "2022-06-15T19:17:00.023Z"
   },
   {
    "duration": 6,
    "start_time": "2022-06-15T19:17:00.065Z"
   },
   {
    "duration": 83,
    "start_time": "2022-06-15T19:17:00.073Z"
   },
   {
    "duration": 15,
    "start_time": "2022-06-15T19:17:00.157Z"
   },
   {
    "duration": 260,
    "start_time": "2022-06-15T19:17:00.174Z"
   },
   {
    "duration": 185,
    "start_time": "2022-06-15T19:17:00.436Z"
   },
   {
    "duration": 198,
    "start_time": "2022-06-15T19:17:00.623Z"
   },
   {
    "duration": 7,
    "start_time": "2022-06-15T19:17:00.822Z"
   },
   {
    "duration": 49,
    "start_time": "2022-06-15T19:17:00.831Z"
   },
   {
    "duration": 30,
    "start_time": "2022-06-15T19:17:00.881Z"
   },
   {
    "duration": 35,
    "start_time": "2022-06-15T19:17:00.913Z"
   },
   {
    "duration": 257,
    "start_time": "2022-06-15T19:17:00.950Z"
   },
   {
    "duration": 239,
    "start_time": "2022-06-15T19:17:01.209Z"
   },
   {
    "duration": 19,
    "start_time": "2022-06-15T19:17:01.450Z"
   },
   {
    "duration": 233,
    "start_time": "2022-06-15T19:17:01.471Z"
   },
   {
    "duration": 444,
    "start_time": "2022-06-15T19:17:01.706Z"
   },
   {
    "duration": 14,
    "start_time": "2022-06-15T19:17:02.152Z"
   },
   {
    "duration": 15,
    "start_time": "2022-06-15T19:17:02.168Z"
   },
   {
    "duration": 10,
    "start_time": "2022-06-15T19:17:02.185Z"
   },
   {
    "duration": 8,
    "start_time": "2022-06-15T19:17:02.196Z"
   },
   {
    "duration": 246,
    "start_time": "2022-06-15T19:17:02.206Z"
   },
   {
    "duration": 234,
    "start_time": "2022-06-15T19:17:02.453Z"
   },
   {
    "duration": 15,
    "start_time": "2022-06-15T19:17:02.689Z"
   },
   {
    "duration": 600,
    "start_time": "2022-06-15T19:17:02.706Z"
   },
   {
    "duration": 682,
    "start_time": "2022-06-15T19:17:03.308Z"
   },
   {
    "duration": 6,
    "start_time": "2022-06-15T19:17:03.991Z"
   },
   {
    "duration": 8,
    "start_time": "2022-06-15T19:17:03.999Z"
   },
   {
    "duration": 59,
    "start_time": "2022-06-15T19:17:04.008Z"
   },
   {
    "duration": 6,
    "start_time": "2022-06-15T19:17:04.069Z"
   },
   {
    "duration": 521,
    "start_time": "2022-06-15T19:17:04.076Z"
   },
   {
    "duration": 212,
    "start_time": "2022-06-15T19:17:04.600Z"
   },
   {
    "duration": 4,
    "start_time": "2022-06-15T19:17:04.813Z"
   },
   {
    "duration": 0,
    "start_time": "2022-06-15T19:17:04.819Z"
   },
   {
    "duration": 0,
    "start_time": "2022-06-15T19:17:04.820Z"
   },
   {
    "duration": 10,
    "start_time": "2022-06-15T19:17:48.726Z"
   },
   {
    "duration": 14,
    "start_time": "2022-06-15T19:18:02.523Z"
   },
   {
    "duration": 701,
    "start_time": "2022-06-15T19:19:49.180Z"
   },
   {
    "duration": 301,
    "start_time": "2022-06-15T19:20:19.391Z"
   },
   {
    "duration": 328,
    "start_time": "2022-06-15T19:22:24.637Z"
   },
   {
    "duration": 354,
    "start_time": "2022-06-15T19:22:36.281Z"
   },
   {
    "duration": 414,
    "start_time": "2022-06-15T19:22:43.842Z"
   },
   {
    "duration": 5,
    "start_time": "2022-06-15T19:42:37.681Z"
   },
   {
    "duration": 4,
    "start_time": "2022-06-15T19:42:54.719Z"
   },
   {
    "duration": 18,
    "start_time": "2022-06-15T19:44:43.043Z"
   },
   {
    "duration": 14,
    "start_time": "2022-06-15T19:45:17.748Z"
   },
   {
    "duration": 5,
    "start_time": "2022-06-15T20:44:05.156Z"
   },
   {
    "duration": 12,
    "start_time": "2022-06-15T20:46:26.016Z"
   },
   {
    "duration": 2068,
    "start_time": "2022-06-17T07:15:12.995Z"
   },
   {
    "duration": 2482,
    "start_time": "2022-06-17T07:15:15.070Z"
   },
   {
    "duration": 30,
    "start_time": "2022-06-17T07:15:17.559Z"
   },
   {
    "duration": 84,
    "start_time": "2022-06-17T07:15:17.602Z"
   },
   {
    "duration": 59,
    "start_time": "2022-06-17T07:15:17.691Z"
   },
   {
    "duration": 31,
    "start_time": "2022-06-17T07:15:17.754Z"
   },
   {
    "duration": 124,
    "start_time": "2022-06-17T07:15:17.791Z"
   },
   {
    "duration": 25,
    "start_time": "2022-06-17T07:15:17.918Z"
   },
   {
    "duration": 70,
    "start_time": "2022-06-17T07:15:17.945Z"
   },
   {
    "duration": 16,
    "start_time": "2022-06-17T07:15:18.018Z"
   },
   {
    "duration": 69,
    "start_time": "2022-06-17T07:15:18.043Z"
   },
   {
    "duration": 73,
    "start_time": "2022-06-17T07:15:18.114Z"
   },
   {
    "duration": 43,
    "start_time": "2022-06-17T07:15:18.189Z"
   },
   {
    "duration": 87,
    "start_time": "2022-06-17T07:15:18.235Z"
   },
   {
    "duration": 86,
    "start_time": "2022-06-17T07:15:18.324Z"
   },
   {
    "duration": 31,
    "start_time": "2022-06-17T07:15:18.412Z"
   },
   {
    "duration": 73,
    "start_time": "2022-06-17T07:15:18.450Z"
   },
   {
    "duration": 33,
    "start_time": "2022-06-17T07:15:18.525Z"
   },
   {
    "duration": 42,
    "start_time": "2022-06-17T07:15:18.560Z"
   },
   {
    "duration": 27,
    "start_time": "2022-06-17T07:15:18.604Z"
   },
   {
    "duration": 106,
    "start_time": "2022-06-17T07:15:18.632Z"
   },
   {
    "duration": 84,
    "start_time": "2022-06-17T07:15:18.740Z"
   },
   {
    "duration": 64,
    "start_time": "2022-06-17T07:15:18.826Z"
   },
   {
    "duration": 94,
    "start_time": "2022-06-17T07:15:18.892Z"
   },
   {
    "duration": 104,
    "start_time": "2022-06-17T07:15:18.993Z"
   },
   {
    "duration": 33,
    "start_time": "2022-06-17T07:15:19.099Z"
   },
   {
    "duration": 79,
    "start_time": "2022-06-17T07:15:19.134Z"
   },
   {
    "duration": 94,
    "start_time": "2022-06-17T07:15:19.219Z"
   },
   {
    "duration": 107,
    "start_time": "2022-06-17T07:15:19.315Z"
   },
   {
    "duration": 85,
    "start_time": "2022-06-17T07:15:19.424Z"
   },
   {
    "duration": 103,
    "start_time": "2022-06-17T07:15:19.512Z"
   },
   {
    "duration": 163,
    "start_time": "2022-06-17T07:15:19.617Z"
   },
   {
    "duration": 39,
    "start_time": "2022-06-17T07:15:19.783Z"
   },
   {
    "duration": 96,
    "start_time": "2022-06-17T07:15:19.825Z"
   },
   {
    "duration": 116,
    "start_time": "2022-06-17T07:15:19.923Z"
   },
   {
    "duration": 65,
    "start_time": "2022-06-17T07:15:20.041Z"
   },
   {
    "duration": 64,
    "start_time": "2022-06-17T07:15:20.108Z"
   },
   {
    "duration": 126,
    "start_time": "2022-06-17T07:15:20.181Z"
   },
   {
    "duration": 16,
    "start_time": "2022-06-17T07:15:20.309Z"
   },
   {
    "duration": 114,
    "start_time": "2022-06-17T07:15:20.327Z"
   },
   {
    "duration": 83,
    "start_time": "2022-06-17T07:15:20.443Z"
   },
   {
    "duration": 31,
    "start_time": "2022-06-17T07:15:20.542Z"
   },
   {
    "duration": 77,
    "start_time": "2022-06-17T07:15:20.578Z"
   },
   {
    "duration": 53,
    "start_time": "2022-06-17T07:15:20.657Z"
   },
   {
    "duration": 95,
    "start_time": "2022-06-17T07:15:20.713Z"
   },
   {
    "duration": 130,
    "start_time": "2022-06-17T07:15:20.817Z"
   },
   {
    "duration": 80,
    "start_time": "2022-06-17T07:15:20.956Z"
   },
   {
    "duration": 124,
    "start_time": "2022-06-17T07:15:21.038Z"
   },
   {
    "duration": 61,
    "start_time": "2022-06-17T07:15:21.164Z"
   },
   {
    "duration": 210,
    "start_time": "2022-06-17T07:15:21.232Z"
   },
   {
    "duration": 19,
    "start_time": "2022-06-17T07:15:21.445Z"
   },
   {
    "duration": 447,
    "start_time": "2022-06-17T07:15:21.465Z"
   },
   {
    "duration": 260,
    "start_time": "2022-06-17T07:15:21.915Z"
   },
   {
    "duration": 222,
    "start_time": "2022-06-17T07:15:22.181Z"
   },
   {
    "duration": 10,
    "start_time": "2022-06-17T07:15:22.405Z"
   },
   {
    "duration": 39,
    "start_time": "2022-06-17T07:15:22.418Z"
   },
   {
    "duration": 35,
    "start_time": "2022-06-17T07:15:22.466Z"
   },
   {
    "duration": 22,
    "start_time": "2022-06-17T07:15:22.503Z"
   },
   {
    "duration": 475,
    "start_time": "2022-06-17T07:15:22.527Z"
   },
   {
    "duration": 353,
    "start_time": "2022-06-17T07:15:23.009Z"
   },
   {
    "duration": 29,
    "start_time": "2022-06-17T07:15:23.364Z"
   },
   {
    "duration": 313,
    "start_time": "2022-06-17T07:15:23.395Z"
   },
   {
    "duration": 580,
    "start_time": "2022-06-17T07:15:23.710Z"
   },
   {
    "duration": 9,
    "start_time": "2022-06-17T07:15:24.294Z"
   },
   {
    "duration": 13,
    "start_time": "2022-06-17T07:15:24.305Z"
   },
   {
    "duration": 19,
    "start_time": "2022-06-17T07:15:24.320Z"
   },
   {
    "duration": 82,
    "start_time": "2022-06-17T07:15:24.341Z"
   },
   {
    "duration": 390,
    "start_time": "2022-06-17T07:15:24.425Z"
   },
   {
    "duration": 423,
    "start_time": "2022-06-17T07:15:24.817Z"
   },
   {
    "duration": 20,
    "start_time": "2022-06-17T07:15:25.256Z"
   },
   {
    "duration": 497,
    "start_time": "2022-06-17T07:15:25.282Z"
   },
   {
    "duration": 416,
    "start_time": "2022-06-17T07:15:25.782Z"
   },
   {
    "duration": 12,
    "start_time": "2022-06-17T07:15:26.204Z"
   },
   {
    "duration": 76,
    "start_time": "2022-06-17T07:15:26.221Z"
   },
   {
    "duration": 26,
    "start_time": "2022-06-17T07:15:26.303Z"
   },
   {
    "duration": 78,
    "start_time": "2022-06-17T07:15:26.333Z"
   },
   {
    "duration": 570,
    "start_time": "2022-06-17T07:15:26.413Z"
   },
   {
    "duration": 331,
    "start_time": "2022-06-17T07:15:26.988Z"
   },
   {
    "duration": 18,
    "start_time": "2022-06-17T07:15:27.321Z"
   },
   {
    "duration": 515,
    "start_time": "2022-06-17T07:15:27.343Z"
   },
   {
    "duration": 485,
    "start_time": "2022-06-17T07:15:27.864Z"
   },
   {
    "duration": 8,
    "start_time": "2022-06-17T07:15:28.361Z"
   },
   {
    "duration": 35,
    "start_time": "2022-06-17T07:15:28.374Z"
   },
   {
    "duration": 26,
    "start_time": "2022-06-17T07:15:28.411Z"
   },
   {
    "duration": 43,
    "start_time": "2022-06-17T12:51:10.630Z"
   },
   {
    "duration": 1153,
    "start_time": "2022-06-17T12:51:21.235Z"
   },
   {
    "duration": 704,
    "start_time": "2022-06-17T12:51:22.507Z"
   },
   {
    "duration": 12,
    "start_time": "2022-06-17T12:51:24.406Z"
   },
   {
    "duration": 28,
    "start_time": "2022-06-17T12:51:24.919Z"
   },
   {
    "duration": 8,
    "start_time": "2022-06-17T12:51:25.775Z"
   },
   {
    "duration": 12,
    "start_time": "2022-06-17T12:51:29.428Z"
   },
   {
    "duration": 13,
    "start_time": "2022-06-17T12:51:29.849Z"
   },
   {
    "duration": 11,
    "start_time": "2022-06-17T12:51:31.089Z"
   },
   {
    "duration": 8,
    "start_time": "2022-06-17T12:51:31.670Z"
   },
   {
    "duration": 6,
    "start_time": "2022-06-17T12:51:35.286Z"
   },
   {
    "duration": 11,
    "start_time": "2022-06-17T12:51:36.003Z"
   },
   {
    "duration": 4,
    "start_time": "2022-06-17T12:51:37.490Z"
   },
   {
    "duration": 11,
    "start_time": "2022-06-17T12:51:37.973Z"
   },
   {
    "duration": 16,
    "start_time": "2022-06-17T12:51:39.022Z"
   },
   {
    "duration": 23,
    "start_time": "2022-06-17T12:51:39.740Z"
   },
   {
    "duration": 14,
    "start_time": "2022-06-17T12:51:40.436Z"
   },
   {
    "duration": 8,
    "start_time": "2022-06-17T12:51:41.282Z"
   },
   {
    "duration": 59,
    "start_time": "2022-06-17T12:51:42.706Z"
   },
   {
    "duration": 21,
    "start_time": "2022-06-17T12:51:50.452Z"
   },
   {
    "duration": 10,
    "start_time": "2022-06-17T12:51:55.689Z"
   },
   {
    "duration": 5,
    "start_time": "2022-06-17T12:52:00.670Z"
   },
   {
    "duration": 16,
    "start_time": "2022-06-17T12:52:26.392Z"
   },
   {
    "duration": 13,
    "start_time": "2022-06-17T12:52:28.244Z"
   },
   {
    "duration": 5,
    "start_time": "2022-06-17T12:52:30.179Z"
   },
   {
    "duration": 11,
    "start_time": "2022-06-17T12:52:31.376Z"
   },
   {
    "duration": 21,
    "start_time": "2022-06-17T12:52:34.742Z"
   },
   {
    "duration": 12,
    "start_time": "2022-06-17T12:52:35.407Z"
   },
   {
    "duration": 8,
    "start_time": "2022-06-17T12:52:38.038Z"
   },
   {
    "duration": 12,
    "start_time": "2022-06-17T12:52:42.891Z"
   },
   {
    "duration": 12,
    "start_time": "2022-06-17T12:52:43.650Z"
   },
   {
    "duration": 11,
    "start_time": "2022-06-17T12:52:48.517Z"
   },
   {
    "duration": 17,
    "start_time": "2022-06-17T12:52:50.651Z"
   },
   {
    "duration": 22,
    "start_time": "2022-06-17T12:52:51.960Z"
   },
   {
    "duration": 15,
    "start_time": "2022-06-17T12:53:40.411Z"
   },
   {
    "duration": 9,
    "start_time": "2022-06-17T12:53:42.999Z"
   },
   {
    "duration": 14,
    "start_time": "2022-06-17T12:55:33.617Z"
   },
   {
    "duration": 11,
    "start_time": "2022-06-17T12:55:34.985Z"
   },
   {
    "duration": 9,
    "start_time": "2022-06-17T12:55:44.906Z"
   },
   {
    "duration": 32,
    "start_time": "2022-06-17T12:55:57.861Z"
   },
   {
    "duration": 7,
    "start_time": "2022-06-17T12:55:59.226Z"
   },
   {
    "duration": 28,
    "start_time": "2022-06-17T12:56:00.355Z"
   },
   {
    "duration": 22,
    "start_time": "2022-06-17T12:56:01.250Z"
   },
   {
    "duration": 6,
    "start_time": "2022-06-17T12:56:02.702Z"
   },
   {
    "duration": 21,
    "start_time": "2022-06-17T12:56:19.702Z"
   },
   {
    "duration": 9,
    "start_time": "2022-06-17T12:56:30.124Z"
   },
   {
    "duration": 11,
    "start_time": "2022-06-17T12:56:36.545Z"
   },
   {
    "duration": 7,
    "start_time": "2022-06-17T12:59:52.238Z"
   },
   {
    "duration": 20,
    "start_time": "2022-06-17T13:01:31.589Z"
   },
   {
    "duration": 22,
    "start_time": "2022-06-17T13:01:34.127Z"
   },
   {
    "duration": 12,
    "start_time": "2022-06-17T13:01:40.820Z"
   },
   {
    "duration": 15,
    "start_time": "2022-06-17T13:03:09.026Z"
   },
   {
    "duration": 23,
    "start_time": "2022-06-17T13:03:32.182Z"
   },
   {
    "duration": 7,
    "start_time": "2022-06-17T13:03:33.887Z"
   },
   {
    "duration": 57,
    "start_time": "2022-06-17T13:03:35.313Z"
   },
   {
    "duration": 14,
    "start_time": "2022-06-17T13:03:51.183Z"
   },
   {
    "duration": 281,
    "start_time": "2022-06-17T13:03:53.923Z"
   },
   {
    "duration": 174,
    "start_time": "2022-06-17T13:03:57.782Z"
   },
   {
    "duration": 168,
    "start_time": "2022-06-17T13:03:58.470Z"
   },
   {
    "duration": 6,
    "start_time": "2022-06-17T13:04:01.548Z"
   },
   {
    "duration": 7,
    "start_time": "2022-06-17T13:04:02.755Z"
   },
   {
    "duration": 9,
    "start_time": "2022-06-17T13:04:04.500Z"
   },
   {
    "duration": 7,
    "start_time": "2022-06-17T13:04:05.482Z"
   },
   {
    "duration": 304,
    "start_time": "2022-06-17T13:04:06.564Z"
   },
   {
    "duration": 237,
    "start_time": "2022-06-17T13:04:07.330Z"
   },
   {
    "duration": 13,
    "start_time": "2022-06-17T13:04:35.807Z"
   },
   {
    "duration": 234,
    "start_time": "2022-06-17T13:04:36.139Z"
   },
   {
    "duration": 479,
    "start_time": "2022-06-17T13:04:36.473Z"
   },
   {
    "duration": 6,
    "start_time": "2022-06-17T13:04:36.954Z"
   },
   {
    "duration": 6,
    "start_time": "2022-06-17T13:04:37.105Z"
   },
   {
    "duration": 6,
    "start_time": "2022-06-17T13:04:37.409Z"
   },
   {
    "duration": 6,
    "start_time": "2022-06-17T13:04:37.741Z"
   },
   {
    "duration": 216,
    "start_time": "2022-06-17T13:04:38.064Z"
   },
   {
    "duration": 228,
    "start_time": "2022-06-17T13:04:38.432Z"
   },
   {
    "duration": 14,
    "start_time": "2022-06-17T13:04:40.001Z"
   },
   {
    "duration": 270,
    "start_time": "2022-06-17T13:04:40.643Z"
   },
   {
    "duration": 301,
    "start_time": "2022-06-17T13:04:40.916Z"
   },
   {
    "duration": 11,
    "start_time": "2022-06-17T13:04:41.218Z"
   },
   {
    "duration": 6,
    "start_time": "2022-06-17T13:04:41.389Z"
   },
   {
    "duration": 6,
    "start_time": "2022-06-17T13:04:41.645Z"
   },
   {
    "duration": 7,
    "start_time": "2022-06-17T13:04:41.893Z"
   },
   {
    "duration": 327,
    "start_time": "2022-06-17T13:04:42.164Z"
   },
   {
    "duration": 216,
    "start_time": "2022-06-17T13:04:42.493Z"
   },
   {
    "duration": 13,
    "start_time": "2022-06-17T13:04:44.783Z"
   },
   {
    "duration": 262,
    "start_time": "2022-06-17T13:04:45.091Z"
   },
   {
    "duration": 303,
    "start_time": "2022-06-17T13:04:45.444Z"
   },
   {
    "duration": 5,
    "start_time": "2022-06-17T13:04:47.198Z"
   },
   {
    "duration": 5,
    "start_time": "2022-06-17T13:04:47.854Z"
   },
   {
    "duration": 10,
    "start_time": "2022-06-17T13:04:48.208Z"
   },
   {
    "duration": 12,
    "start_time": "2022-06-17T13:05:21.566Z"
   },
   {
    "duration": 5,
    "start_time": "2022-06-17T13:05:30.074Z"
   },
   {
    "duration": 5,
    "start_time": "2022-06-17T13:05:32.071Z"
   },
   {
    "duration": 12,
    "start_time": "2022-06-17T13:05:32.931Z"
   },
   {
    "duration": 1119,
    "start_time": "2022-06-17T14:07:04.218Z"
   },
   {
    "duration": 299,
    "start_time": "2022-06-17T14:07:05.339Z"
   },
   {
    "duration": 12,
    "start_time": "2022-06-17T14:07:05.640Z"
   },
   {
    "duration": 39,
    "start_time": "2022-06-17T14:07:05.654Z"
   },
   {
    "duration": 9,
    "start_time": "2022-06-17T14:07:05.694Z"
   },
   {
    "duration": 15,
    "start_time": "2022-06-17T14:07:05.705Z"
   },
   {
    "duration": 16,
    "start_time": "2022-06-17T14:07:05.721Z"
   },
   {
    "duration": 17,
    "start_time": "2022-06-17T14:07:05.739Z"
   },
   {
    "duration": 9,
    "start_time": "2022-06-17T14:07:05.757Z"
   },
   {
    "duration": 6,
    "start_time": "2022-06-17T14:07:05.770Z"
   },
   {
    "duration": 12,
    "start_time": "2022-06-17T14:07:05.777Z"
   },
   {
    "duration": 6,
    "start_time": "2022-06-17T14:07:05.791Z"
   },
   {
    "duration": 34,
    "start_time": "2022-06-17T14:07:05.798Z"
   },
   {
    "duration": 25,
    "start_time": "2022-06-17T14:07:05.834Z"
   },
   {
    "duration": 24,
    "start_time": "2022-06-17T14:07:05.861Z"
   },
   {
    "duration": 45,
    "start_time": "2022-06-17T14:07:05.887Z"
   },
   {
    "duration": 10,
    "start_time": "2022-06-17T14:07:05.933Z"
   },
   {
    "duration": 28,
    "start_time": "2022-06-17T14:07:05.945Z"
   },
   {
    "duration": 9,
    "start_time": "2022-06-17T14:07:05.975Z"
   },
   {
    "duration": 9,
    "start_time": "2022-06-17T14:07:05.986Z"
   },
   {
    "duration": 45,
    "start_time": "2022-06-17T14:07:05.997Z"
   },
   {
    "duration": 12,
    "start_time": "2022-06-17T14:07:06.044Z"
   },
   {
    "duration": 5,
    "start_time": "2022-06-17T14:07:06.057Z"
   },
   {
    "duration": 12,
    "start_time": "2022-06-17T14:07:06.063Z"
   },
   {
    "duration": 21,
    "start_time": "2022-06-17T14:07:06.077Z"
   },
   {
    "duration": 32,
    "start_time": "2022-06-17T14:07:06.100Z"
   },
   {
    "duration": 7,
    "start_time": "2022-06-17T14:07:06.134Z"
   },
   {
    "duration": 19,
    "start_time": "2022-06-17T14:07:06.149Z"
   },
   {
    "duration": 15,
    "start_time": "2022-06-17T14:07:06.169Z"
   },
   {
    "duration": 39,
    "start_time": "2022-06-17T14:07:06.186Z"
   },
   {
    "duration": 21,
    "start_time": "2022-06-17T14:07:06.227Z"
   },
   {
    "duration": 22,
    "start_time": "2022-06-17T14:07:06.250Z"
   },
   {
    "duration": 14,
    "start_time": "2022-06-17T14:07:06.274Z"
   },
   {
    "duration": 10,
    "start_time": "2022-06-17T14:07:06.289Z"
   },
   {
    "duration": 15,
    "start_time": "2022-06-17T14:07:06.326Z"
   },
   {
    "duration": 11,
    "start_time": "2022-06-17T14:07:06.342Z"
   },
   {
    "duration": 9,
    "start_time": "2022-06-17T14:07:06.355Z"
   },
   {
    "duration": 60,
    "start_time": "2022-06-17T14:07:06.365Z"
   },
   {
    "duration": 7,
    "start_time": "2022-06-17T14:07:06.427Z"
   },
   {
    "duration": 23,
    "start_time": "2022-06-17T14:07:06.436Z"
   },
   {
    "duration": 29,
    "start_time": "2022-06-17T14:07:06.461Z"
   },
   {
    "duration": 30,
    "start_time": "2022-06-17T14:07:06.495Z"
   },
   {
    "duration": 27,
    "start_time": "2022-06-17T14:07:06.527Z"
   },
   {
    "duration": 13,
    "start_time": "2022-06-17T14:07:06.556Z"
   },
   {
    "duration": 33,
    "start_time": "2022-06-17T14:07:06.571Z"
   },
   {
    "duration": 34,
    "start_time": "2022-06-17T14:07:06.624Z"
   },
   {
    "duration": 17,
    "start_time": "2022-06-17T14:07:06.660Z"
   },
   {
    "duration": 19,
    "start_time": "2022-06-17T14:07:06.679Z"
   },
   {
    "duration": 7,
    "start_time": "2022-06-17T14:07:06.727Z"
   },
   {
    "duration": 88,
    "start_time": "2022-06-17T14:07:06.736Z"
   },
   {
    "duration": 13,
    "start_time": "2022-06-17T14:07:06.825Z"
   },
   {
    "duration": 264,
    "start_time": "2022-06-17T14:07:06.840Z"
   },
   {
    "duration": 178,
    "start_time": "2022-06-17T14:07:07.106Z"
   },
   {
    "duration": 183,
    "start_time": "2022-06-17T14:07:07.286Z"
   },
   {
    "duration": 7,
    "start_time": "2022-06-17T14:07:07.471Z"
   },
   {
    "duration": 15,
    "start_time": "2022-06-17T14:07:07.480Z"
   },
   {
    "duration": 10,
    "start_time": "2022-06-17T14:07:07.496Z"
   },
   {
    "duration": 23,
    "start_time": "2022-06-17T14:07:07.507Z"
   },
   {
    "duration": 247,
    "start_time": "2022-06-17T14:07:07.532Z"
   },
   {
    "duration": 249,
    "start_time": "2022-06-17T14:07:07.781Z"
   },
   {
    "duration": 14,
    "start_time": "2022-06-17T14:07:08.032Z"
   },
   {
    "duration": 247,
    "start_time": "2022-06-17T14:07:08.048Z"
   },
   {
    "duration": 424,
    "start_time": "2022-06-17T14:07:08.297Z"
   },
   {
    "duration": 8,
    "start_time": "2022-06-17T14:07:08.722Z"
   },
   {
    "duration": 8,
    "start_time": "2022-06-17T14:07:08.731Z"
   },
   {
    "duration": 9,
    "start_time": "2022-06-17T14:07:08.740Z"
   },
   {
    "duration": 23,
    "start_time": "2022-06-17T14:07:08.750Z"
   },
   {
    "duration": 242,
    "start_time": "2022-06-17T14:07:08.775Z"
   },
   {
    "duration": 231,
    "start_time": "2022-06-17T14:07:09.018Z"
   },
   {
    "duration": 14,
    "start_time": "2022-06-17T14:07:09.250Z"
   },
   {
    "duration": 317,
    "start_time": "2022-06-17T14:07:09.265Z"
   },
   {
    "duration": 359,
    "start_time": "2022-06-17T14:07:09.584Z"
   },
   {
    "duration": 9,
    "start_time": "2022-06-17T14:07:09.945Z"
   },
   {
    "duration": 7,
    "start_time": "2022-06-17T14:07:09.956Z"
   },
   {
    "duration": 11,
    "start_time": "2022-06-17T14:07:09.965Z"
   },
   {
    "duration": 10,
    "start_time": "2022-06-17T14:07:09.978Z"
   },
   {
    "duration": 397,
    "start_time": "2022-06-17T14:07:09.990Z"
   },
   {
    "duration": 247,
    "start_time": "2022-06-17T14:07:10.389Z"
   },
   {
    "duration": 16,
    "start_time": "2022-06-17T14:07:10.638Z"
   },
   {
    "duration": 327,
    "start_time": "2022-06-17T14:07:10.656Z"
   },
   {
    "duration": 331,
    "start_time": "2022-06-17T14:07:10.985Z"
   },
   {
    "duration": 5,
    "start_time": "2022-06-17T14:07:11.325Z"
   },
   {
    "duration": 8,
    "start_time": "2022-06-17T14:07:11.332Z"
   },
   {
    "duration": 13,
    "start_time": "2022-06-17T14:07:11.342Z"
   },
   {
    "duration": 295,
    "start_time": "2022-06-17T14:56:28.072Z"
   },
   {
    "duration": 302,
    "start_time": "2022-06-17T15:00:23.510Z"
   },
   {
    "duration": 356,
    "start_time": "2022-06-17T15:33:43.506Z"
   },
   {
    "duration": 233,
    "start_time": "2022-06-17T15:33:59.125Z"
   },
   {
    "duration": 17,
    "start_time": "2022-06-17T15:36:01.906Z"
   },
   {
    "duration": 6,
    "start_time": "2022-06-17T15:36:14.580Z"
   },
   {
    "duration": 7,
    "start_time": "2022-06-17T16:06:38.205Z"
   },
   {
    "duration": 6,
    "start_time": "2022-06-17T16:06:43.584Z"
   },
   {
    "duration": 1364,
    "start_time": "2022-06-18T14:54:35.870Z"
   },
   {
    "duration": 1105,
    "start_time": "2022-06-18T14:54:37.236Z"
   },
   {
    "duration": 50,
    "start_time": "2022-06-18T14:54:38.344Z"
   },
   {
    "duration": 40,
    "start_time": "2022-06-18T14:54:38.397Z"
   },
   {
    "duration": 64,
    "start_time": "2022-06-18T14:54:38.438Z"
   },
   {
    "duration": 23,
    "start_time": "2022-06-18T14:54:38.504Z"
   },
   {
    "duration": 24,
    "start_time": "2022-06-18T14:54:38.529Z"
   },
   {
    "duration": 20,
    "start_time": "2022-06-18T14:54:38.555Z"
   },
   {
    "duration": 13,
    "start_time": "2022-06-18T14:54:38.594Z"
   },
   {
    "duration": 7,
    "start_time": "2022-06-18T14:54:38.610Z"
   },
   {
    "duration": 22,
    "start_time": "2022-06-18T14:54:38.620Z"
   },
   {
    "duration": 7,
    "start_time": "2022-06-18T14:54:38.645Z"
   },
   {
    "duration": 20,
    "start_time": "2022-06-18T14:54:38.655Z"
   },
   {
    "duration": 39,
    "start_time": "2022-06-18T14:54:38.695Z"
   },
   {
    "duration": 25,
    "start_time": "2022-06-18T14:54:38.737Z"
   },
   {
    "duration": 56,
    "start_time": "2022-06-18T14:54:38.764Z"
   },
   {
    "duration": 13,
    "start_time": "2022-06-18T14:54:38.822Z"
   },
   {
    "duration": 31,
    "start_time": "2022-06-18T14:54:38.837Z"
   },
   {
    "duration": 28,
    "start_time": "2022-06-18T14:54:38.870Z"
   },
   {
    "duration": 19,
    "start_time": "2022-06-18T14:54:38.901Z"
   },
   {
    "duration": 31,
    "start_time": "2022-06-18T14:54:38.924Z"
   },
   {
    "duration": 16,
    "start_time": "2022-06-18T14:54:38.957Z"
   },
   {
    "duration": 5,
    "start_time": "2022-06-18T14:54:38.976Z"
   },
   {
    "duration": 22,
    "start_time": "2022-06-18T14:54:38.984Z"
   },
   {
    "duration": 33,
    "start_time": "2022-06-18T14:54:39.009Z"
   },
   {
    "duration": 15,
    "start_time": "2022-06-18T14:54:39.044Z"
   },
   {
    "duration": 13,
    "start_time": "2022-06-18T14:54:39.061Z"
   },
   {
    "duration": 17,
    "start_time": "2022-06-18T14:54:39.098Z"
   },
   {
    "duration": 19,
    "start_time": "2022-06-18T14:54:39.117Z"
   },
   {
    "duration": 12,
    "start_time": "2022-06-18T14:54:39.138Z"
   },
   {
    "duration": 45,
    "start_time": "2022-06-18T14:54:39.151Z"
   },
   {
    "duration": 25,
    "start_time": "2022-06-18T14:54:39.198Z"
   },
   {
    "duration": 16,
    "start_time": "2022-06-18T14:54:39.225Z"
   },
   {
    "duration": 15,
    "start_time": "2022-06-18T14:54:39.243Z"
   },
   {
    "duration": 45,
    "start_time": "2022-06-18T14:54:39.260Z"
   },
   {
    "duration": 18,
    "start_time": "2022-06-18T14:54:39.306Z"
   },
   {
    "duration": 13,
    "start_time": "2022-06-18T14:54:39.328Z"
   },
   {
    "duration": 72,
    "start_time": "2022-06-18T14:54:39.344Z"
   },
   {
    "duration": 7,
    "start_time": "2022-06-18T14:54:39.418Z"
   },
   {
    "duration": 34,
    "start_time": "2022-06-18T14:54:39.427Z"
   },
   {
    "duration": 48,
    "start_time": "2022-06-18T14:54:39.463Z"
   },
   {
    "duration": 12,
    "start_time": "2022-06-18T14:54:39.513Z"
   },
   {
    "duration": 55,
    "start_time": "2022-06-18T14:54:39.527Z"
   },
   {
    "duration": 17,
    "start_time": "2022-06-18T14:54:39.584Z"
   },
   {
    "duration": 35,
    "start_time": "2022-06-18T14:54:39.603Z"
   },
   {
    "duration": 36,
    "start_time": "2022-06-18T14:54:39.641Z"
   },
   {
    "duration": 18,
    "start_time": "2022-06-18T14:54:39.680Z"
   },
   {
    "duration": 15,
    "start_time": "2022-06-18T14:54:39.700Z"
   },
   {
    "duration": 24,
    "start_time": "2022-06-18T14:54:39.717Z"
   },
   {
    "duration": 90,
    "start_time": "2022-06-18T14:54:39.744Z"
   },
   {
    "duration": 17,
    "start_time": "2022-06-18T14:54:39.836Z"
   },
   {
    "duration": 288,
    "start_time": "2022-06-18T14:54:39.855Z"
   },
   {
    "duration": 205,
    "start_time": "2022-06-18T14:54:40.145Z"
   },
   {
    "duration": 188,
    "start_time": "2022-06-18T14:54:40.352Z"
   },
   {
    "duration": 8,
    "start_time": "2022-06-18T14:54:40.542Z"
   },
   {
    "duration": 9,
    "start_time": "2022-06-18T14:54:40.552Z"
   },
   {
    "duration": 9,
    "start_time": "2022-06-18T14:54:40.562Z"
   },
   {
    "duration": 29,
    "start_time": "2022-06-18T14:54:40.572Z"
   },
   {
    "duration": 291,
    "start_time": "2022-06-18T14:54:40.603Z"
   },
   {
    "duration": 245,
    "start_time": "2022-06-18T14:54:40.896Z"
   },
   {
    "duration": 14,
    "start_time": "2022-06-18T14:54:41.143Z"
   },
   {
    "duration": 256,
    "start_time": "2022-06-18T14:54:41.158Z"
   },
   {
    "duration": 422,
    "start_time": "2022-06-18T14:54:41.416Z"
   },
   {
    "duration": 7,
    "start_time": "2022-06-18T14:54:41.840Z"
   },
   {
    "duration": 10,
    "start_time": "2022-06-18T14:54:41.848Z"
   },
   {
    "duration": 11,
    "start_time": "2022-06-18T14:54:41.859Z"
   },
   {
    "duration": 23,
    "start_time": "2022-06-18T14:54:41.872Z"
   },
   {
    "duration": 242,
    "start_time": "2022-06-18T14:54:41.897Z"
   },
   {
    "duration": 234,
    "start_time": "2022-06-18T14:54:42.141Z"
   },
   {
    "duration": 24,
    "start_time": "2022-06-18T14:54:42.377Z"
   },
   {
    "duration": 301,
    "start_time": "2022-06-18T14:54:42.403Z"
   },
   {
    "duration": 313,
    "start_time": "2022-06-18T14:54:42.706Z"
   },
   {
    "duration": 7,
    "start_time": "2022-06-18T14:54:43.020Z"
   },
   {
    "duration": 10,
    "start_time": "2022-06-18T14:54:43.029Z"
   },
   {
    "duration": 8,
    "start_time": "2022-06-18T14:54:43.041Z"
   },
   {
    "duration": 9,
    "start_time": "2022-06-18T14:54:43.051Z"
   },
   {
    "duration": 379,
    "start_time": "2022-06-18T14:54:43.062Z"
   },
   {
    "duration": 224,
    "start_time": "2022-06-18T14:54:43.443Z"
   },
   {
    "duration": 12,
    "start_time": "2022-06-18T14:54:43.669Z"
   },
   {
    "duration": 289,
    "start_time": "2022-06-18T14:54:43.682Z"
   },
   {
    "duration": 339,
    "start_time": "2022-06-18T14:54:43.973Z"
   },
   {
    "duration": 7,
    "start_time": "2022-06-18T14:54:44.317Z"
   },
   {
    "duration": 10,
    "start_time": "2022-06-18T14:54:44.325Z"
   },
   {
    "duration": 253,
    "start_time": "2022-06-18T14:54:44.336Z"
   },
   {
    "duration": 231,
    "start_time": "2022-06-18T14:54:44.590Z"
   },
   {
    "duration": 5,
    "start_time": "2022-06-18T14:54:44.823Z"
   },
   {
    "duration": 8,
    "start_time": "2022-06-18T14:54:44.830Z"
   },
   {
    "duration": 12,
    "start_time": "2022-06-18T14:54:44.839Z"
   }
  ],
  "kernelspec": {
   "display_name": "Python 3 (ipykernel)",
   "language": "python",
   "name": "python3"
  },
  "language_info": {
   "codemirror_mode": {
    "name": "ipython",
    "version": 3
   },
   "file_extension": ".py",
   "mimetype": "text/x-python",
   "name": "python",
   "nbconvert_exporter": "python",
   "pygments_lexer": "ipython3",
   "version": "3.9.5"
  },
  "toc": {
   "base_numbering": 1,
   "nav_menu": {},
   "number_sections": true,
   "sideBar": true,
   "skip_h1_title": false,
   "title_cell": "Table of Contents",
   "title_sidebar": "Contents",
   "toc_cell": false,
   "toc_position": {
    "height": "calc(100% - 180px)",
    "left": "10px",
    "top": "150px",
    "width": "249px"
   },
   "toc_section_display": true,
   "toc_window_display": true
  }
 },
 "nbformat": 4,
 "nbformat_minor": 2
}
