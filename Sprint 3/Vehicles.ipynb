{
 "cells": [
  {
   "cell_type": "markdown",
   "metadata": {},
   "source": [
    "# What sells a car?\n",
    "\n",
    "You're an analyst at Crankshaft List. Hundreds of free advertisements for vehicles are published on your site every day. You need to study data collected over the last few years and determine which factors influence the price of a vehicle."
   ]
  },
  {
   "cell_type": "markdown",
   "metadata": {},
   "source": [
    "## Initialization"
   ]
  },
  {
   "cell_type": "code",
   "execution_count": 1,
   "metadata": {},
   "outputs": [],
   "source": [
    "# Loading all the libraries\n",
    "import pandas as pd\n",
    "import matplotlib.pyplot as plt\n",
    "import numpy as np\n",
    "import datetime"
   ]
  },
  {
   "cell_type": "markdown",
   "metadata": {},
   "source": [
    "### Load data"
   ]
  },
  {
   "cell_type": "code",
   "execution_count": 2,
   "metadata": {},
   "outputs": [],
   "source": [
    "# Load the data file into a DataFrame\n",
    "vehicles = pd.read_csv('/datasets/vehicles_us.csv')\n",
    "\n"
   ]
  },
  {
   "cell_type": "markdown",
   "metadata": {},
   "source": [
    "### Explore initial data"
   ]
  },
  {
   "cell_type": "markdown",
   "metadata": {},
   "source": [
    "The dataset contains the following fields:\n",
    "- `price`\n",
    "- `model_year`\n",
    "- `model`\n",
    "- `condition`\n",
    "- `cylinders`\n",
    "- `fuel` — gas, diesel, etc.\n",
    "- `odometer` — the vehicle's mileage when the ad was published\n",
    "- `transmission`\n",
    "- `paint_color`\n",
    "- `is_4wd` — whether the vehicle has 4-wheel drive (Boolean type)\n",
    "- `date_posted` — the date the ad was published\n",
    "- `days_listed` — from publication to removal\n"
   ]
  },
  {
   "cell_type": "code",
   "execution_count": 3,
   "metadata": {},
   "outputs": [
    {
     "name": "stdout",
     "output_type": "stream",
     "text": [
      "<class 'pandas.core.frame.DataFrame'>\n",
      "RangeIndex: 51525 entries, 0 to 51524\n",
      "Data columns (total 13 columns):\n",
      " #   Column        Non-Null Count  Dtype  \n",
      "---  ------        --------------  -----  \n",
      " 0   price         51525 non-null  int64  \n",
      " 1   model_year    47906 non-null  float64\n",
      " 2   model         51525 non-null  object \n",
      " 3   condition     51525 non-null  object \n",
      " 4   cylinders     46265 non-null  float64\n",
      " 5   fuel          51525 non-null  object \n",
      " 6   odometer      43633 non-null  float64\n",
      " 7   transmission  51525 non-null  object \n",
      " 8   type          51525 non-null  object \n",
      " 9   paint_color   42258 non-null  object \n",
      " 10  is_4wd        25572 non-null  float64\n",
      " 11  date_posted   51525 non-null  object \n",
      " 12  days_listed   51525 non-null  int64  \n",
      "dtypes: float64(4), int64(2), object(7)\n",
      "memory usage: 5.1+ MB\n"
     ]
    }
   ],
   "source": [
    "# print the general/summary information about the DataFrame\n",
    "vehicles.info()\n"
   ]
  },
  {
   "cell_type": "code",
   "execution_count": 4,
   "metadata": {},
   "outputs": [
    {
     "name": "stdout",
     "output_type": "stream",
     "text": [
      "    price  model_year                     model  condition  cylinders fuel  \\\n",
      "0    9400      2011.0                    bmw x5       good        6.0  gas   \n",
      "1   25500         NaN                ford f-150       good        6.0  gas   \n",
      "2    5500      2013.0            hyundai sonata   like new        4.0  gas   \n",
      "3    1500      2003.0                ford f-150       fair        8.0  gas   \n",
      "4   14900      2017.0              chrysler 200  excellent        4.0  gas   \n",
      "5   14990      2014.0              chrysler 300  excellent        6.0  gas   \n",
      "6   12990      2015.0              toyota camry  excellent        4.0  gas   \n",
      "7   15990      2013.0               honda pilot  excellent        6.0  gas   \n",
      "8   11500      2012.0               kia sorento  excellent        4.0  gas   \n",
      "9    9200      2008.0               honda pilot  excellent        NaN  gas   \n",
      "10  19500      2011.0  chevrolet silverado 1500  excellent        8.0  gas   \n",
      "11   8990      2012.0              honda accord  excellent        4.0  gas   \n",
      "12  18990      2012.0                  ram 1500  excellent        8.0  gas   \n",
      "13  16500      2018.0            hyundai sonata  excellent        4.0  gas   \n",
      "14  12990      2009.0                 gmc yukon  excellent        8.0  gas   \n",
      "\n",
      "    odometer transmission    type paint_color  is_4wd date_posted  days_listed  \n",
      "0   145000.0    automatic     SUV         NaN     1.0  2018-06-23           19  \n",
      "1    88705.0    automatic  pickup       white     1.0  2018-10-19           50  \n",
      "2   110000.0    automatic   sedan         red     NaN  2019-02-07           79  \n",
      "3        NaN    automatic  pickup         NaN     NaN  2019-03-22            9  \n",
      "4    80903.0    automatic   sedan       black     NaN  2019-04-02           28  \n",
      "5    57954.0    automatic   sedan       black     1.0  2018-06-20           15  \n",
      "6    79212.0    automatic   sedan       white     NaN  2018-12-27           73  \n",
      "7   109473.0    automatic     SUV       black     1.0  2019-01-07           68  \n",
      "8   104174.0    automatic     SUV         NaN     1.0  2018-07-16           19  \n",
      "9   147191.0    automatic     SUV        blue     1.0  2019-02-15           17  \n",
      "10  128413.0    automatic  pickup       black     1.0  2018-09-17           38  \n",
      "11  111142.0    automatic   sedan        grey     NaN  2019-03-28           29  \n",
      "12  140742.0    automatic  pickup         NaN     1.0  2019-04-02           37  \n",
      "13   22104.0    automatic   sedan      silver     NaN  2019-01-14           29  \n",
      "14  132285.0    automatic     SUV       black     1.0  2019-01-31           24  \n"
     ]
    }
   ],
   "source": [
    "# print a sample of data\n",
    "\n",
    "print(vehicles.head(15))"
   ]
  },
  {
   "cell_type": "code",
   "execution_count": 5,
   "metadata": {},
   "outputs": [
    {
     "data": {
      "text/html": [
       "<div>\n",
       "<style scoped>\n",
       "    .dataframe tbody tr th:only-of-type {\n",
       "        vertical-align: middle;\n",
       "    }\n",
       "\n",
       "    .dataframe tbody tr th {\n",
       "        vertical-align: top;\n",
       "    }\n",
       "\n",
       "    .dataframe thead th {\n",
       "        text-align: right;\n",
       "    }\n",
       "</style>\n",
       "<table border=\"1\" class=\"dataframe\">\n",
       "  <thead>\n",
       "    <tr style=\"text-align: right;\">\n",
       "      <th></th>\n",
       "      <th>0</th>\n",
       "    </tr>\n",
       "  </thead>\n",
       "  <tbody>\n",
       "    <tr>\n",
       "      <th>price</th>\n",
       "      <td>0</td>\n",
       "    </tr>\n",
       "    <tr>\n",
       "      <th>model_year</th>\n",
       "      <td>3619</td>\n",
       "    </tr>\n",
       "    <tr>\n",
       "      <th>model</th>\n",
       "      <td>0</td>\n",
       "    </tr>\n",
       "    <tr>\n",
       "      <th>condition</th>\n",
       "      <td>0</td>\n",
       "    </tr>\n",
       "    <tr>\n",
       "      <th>cylinders</th>\n",
       "      <td>5260</td>\n",
       "    </tr>\n",
       "    <tr>\n",
       "      <th>fuel</th>\n",
       "      <td>0</td>\n",
       "    </tr>\n",
       "    <tr>\n",
       "      <th>odometer</th>\n",
       "      <td>7892</td>\n",
       "    </tr>\n",
       "    <tr>\n",
       "      <th>transmission</th>\n",
       "      <td>0</td>\n",
       "    </tr>\n",
       "    <tr>\n",
       "      <th>type</th>\n",
       "      <td>0</td>\n",
       "    </tr>\n",
       "    <tr>\n",
       "      <th>paint_color</th>\n",
       "      <td>9267</td>\n",
       "    </tr>\n",
       "    <tr>\n",
       "      <th>is_4wd</th>\n",
       "      <td>25953</td>\n",
       "    </tr>\n",
       "    <tr>\n",
       "      <th>date_posted</th>\n",
       "      <td>0</td>\n",
       "    </tr>\n",
       "    <tr>\n",
       "      <th>days_listed</th>\n",
       "      <td>0</td>\n",
       "    </tr>\n",
       "  </tbody>\n",
       "</table>\n",
       "</div>"
      ],
      "text/plain": [
       "                  0\n",
       "price             0\n",
       "model_year     3619\n",
       "model             0\n",
       "condition         0\n",
       "cylinders      5260\n",
       "fuel              0\n",
       "odometer       7892\n",
       "transmission      0\n",
       "type              0\n",
       "paint_color    9267\n",
       "is_4wd        25953\n",
       "date_posted       0\n",
       "days_listed       0"
      ]
     },
     "execution_count": 5,
     "metadata": {},
     "output_type": "execute_result"
    }
   ],
   "source": [
    "vehicles.isna().sum().to_frame()"
   ]
  },
  {
   "cell_type": "code",
   "execution_count": 6,
   "metadata": {},
   "outputs": [
    {
     "data": {
      "text/plain": [
       "price            0.000000\n",
       "model_year       7.023775\n",
       "model            0.000000\n",
       "condition        0.000000\n",
       "cylinders       10.208637\n",
       "fuel             0.000000\n",
       "odometer        15.316836\n",
       "transmission     0.000000\n",
       "type             0.000000\n",
       "paint_color     17.985444\n",
       "is_4wd          50.369723\n",
       "date_posted      0.000000\n",
       "days_listed      0.000000\n",
       "dtype: float64"
      ]
     },
     "execution_count": 6,
     "metadata": {},
     "output_type": "execute_result"
    }
   ],
   "source": [
    "vehicles.isnull().sum() * 100 / len(vehicles) "
   ]
  },
  {
   "cell_type": "code",
   "execution_count": 7,
   "metadata": {},
   "outputs": [
    {
     "data": {
      "text/plain": [
       "0"
      ]
     },
     "execution_count": 7,
     "metadata": {},
     "output_type": "execute_result"
    }
   ],
   "source": [
    "vehicles.duplicated().sum()"
   ]
  },
  {
   "cell_type": "markdown",
   "metadata": {},
   "source": [
    "### Conclusions and further steps\n",
    "\n",
    "The data provided consists of 13 columns and 51525 rows. There is a substancial amount of data missing in the following columns: model year - 3619, cylinders - 5260, odometer- 7892,\n",
    "paint color-9267, and is_4wd- 25953. Percentage of missing data is about 7%-18% with the highest being 50% missing data in the is_4wd column.                                 \n",
    "No duplicates were found in this data.\n",
    "\n"
   ]
  },
  {
   "cell_type": "markdown",
   "metadata": {},
   "source": [
    "## Treat missing values (if any)"
   ]
  },
  {
   "cell_type": "markdown",
   "metadata": {},
   "source": [
    "'is_4wd' is filled with the number 1 and NaN values. I'd assume that the 1 is representive of cars that are 4wd and all NaN values will be filled with a 0 for cars that are not 4wd. 'paint_color' column do not correlate with any other data and will be filled with 'unknown'. The price of a car is dependent on it's miles and it's condition. It only makes sense to fill in the missing values of 'odometer' column with the median of both 'model_year' and 'condition' columns. The same will be done to fill missing values in model_year but we will be using odometer and condition columns and cylinders will be filled grouping model and model_year."
   ]
  },
  {
   "cell_type": "code",
   "execution_count": 8,
   "metadata": {},
   "outputs": [],
   "source": [
    "vehicles['is_4wd'] = vehicles['is_4wd'].fillna(0)"
   ]
  },
  {
   "cell_type": "code",
   "execution_count": 9,
   "metadata": {},
   "outputs": [
    {
     "data": {
      "text/plain": [
       "0.0    25953\n",
       "1.0    25572\n",
       "Name: is_4wd, dtype: int64"
      ]
     },
     "execution_count": 9,
     "metadata": {},
     "output_type": "execute_result"
    }
   ],
   "source": [
    "vehicles['is_4wd'].value_counts()"
   ]
  },
  {
   "cell_type": "code",
   "execution_count": 10,
   "metadata": {},
   "outputs": [],
   "source": [
    "vehicles['paint_color'] = vehicles['paint_color'].fillna('unknown')"
   ]
  },
  {
   "cell_type": "code",
   "execution_count": 11,
   "metadata": {},
   "outputs": [
    {
     "data": {
      "text/plain": [
       "array(['unknown', 'white', 'red', 'black', 'blue', 'grey', 'silver',\n",
       "       'custom', 'orange', 'yellow', 'brown', 'green', 'purple'],\n",
       "      dtype=object)"
      ]
     },
     "execution_count": 11,
     "metadata": {},
     "output_type": "execute_result"
    }
   ],
   "source": [
    "vehicles['paint_color'].unique()"
   ]
  },
  {
   "cell_type": "code",
   "execution_count": 12,
   "metadata": {},
   "outputs": [],
   "source": [
    "vehicles['model_year'] =vehicles['model_year'].fillna(vehicles.groupby(['condition','model'])['model_year'].transform('median'))\n",
    "vehicles['odometer'] =vehicles['odometer'].fillna(vehicles.groupby(['condition','model_year'])['odometer'].transform('median'))\n",
    "vehicles['cylinders'] = vehicles['cylinders'].fillna(vehicles.groupby(['model', 'model_year'])['cylinders'].transform('median'))"
   ]
  },
  {
   "cell_type": "code",
   "execution_count": 13,
   "metadata": {},
   "outputs": [
    {
     "data": {
      "text/plain": [
       "price           0.000000\n",
       "model_year      0.011645\n",
       "model           0.000000\n",
       "condition       0.000000\n",
       "cylinders       0.058224\n",
       "fuel            0.000000\n",
       "odometer        0.015526\n",
       "transmission    0.000000\n",
       "type            0.000000\n",
       "paint_color     0.000000\n",
       "is_4wd          0.000000\n",
       "date_posted     0.000000\n",
       "days_listed     0.000000\n",
       "dtype: float64"
      ]
     },
     "execution_count": 13,
     "metadata": {},
     "output_type": "execute_result"
    }
   ],
   "source": [
    "vehicles.isnull().sum() * 100 / len(vehicles) "
   ]
  },
  {
   "cell_type": "markdown",
   "metadata": {},
   "source": [
    "The data is now missing less than 1% and can now be dropped as it would not affect our data."
   ]
  },
  {
   "cell_type": "code",
   "execution_count": 14,
   "metadata": {},
   "outputs": [],
   "source": [
    "vehicles.dropna(subset = ['model_year', 'cylinders', 'odometer'],inplace=True)"
   ]
  },
  {
   "cell_type": "code",
   "execution_count": 15,
   "metadata": {},
   "outputs": [
    {
     "name": "stdout",
     "output_type": "stream",
     "text": [
      "<class 'pandas.core.frame.DataFrame'>\n",
      "Int64Index: 51483 entries, 0 to 51524\n",
      "Data columns (total 13 columns):\n",
      " #   Column        Non-Null Count  Dtype  \n",
      "---  ------        --------------  -----  \n",
      " 0   price         51483 non-null  int64  \n",
      " 1   model_year    51483 non-null  float64\n",
      " 2   model         51483 non-null  object \n",
      " 3   condition     51483 non-null  object \n",
      " 4   cylinders     51483 non-null  float64\n",
      " 5   fuel          51483 non-null  object \n",
      " 6   odometer      51483 non-null  float64\n",
      " 7   transmission  51483 non-null  object \n",
      " 8   type          51483 non-null  object \n",
      " 9   paint_color   51483 non-null  object \n",
      " 10  is_4wd        51483 non-null  float64\n",
      " 11  date_posted   51483 non-null  object \n",
      " 12  days_listed   51483 non-null  int64  \n",
      "dtypes: float64(4), int64(2), object(7)\n",
      "memory usage: 5.5+ MB\n"
     ]
    }
   ],
   "source": [
    "vehicles.info()"
   ]
  },
  {
   "cell_type": "markdown",
   "metadata": {},
   "source": [
    "## Fix data types"
   ]
  },
  {
   "cell_type": "markdown",
   "metadata": {},
   "source": [
    "'date_posted' dtype will be changed from object to datetime as the values are representative of a period in time. Since there arent any numbers after the decimal in 'model_year', 'odometer', and 'cylinders' they can be converted from float to an integer. Lastly, 'is_4wd' will be changed to bool as the values in that column are representive of True and False."
   ]
  },
  {
   "cell_type": "code",
   "execution_count": 16,
   "metadata": {},
   "outputs": [],
   "source": [
    "vehicles['date_posted']=pd.to_datetime(vehicles['date_posted'], format= '%Y-%m-%d')\n",
    "vehicles['model_year']= vehicles['model_year'].astype('int64')\n",
    "vehicles['is_4wd']= vehicles['is_4wd'].astype('bool')\n",
    "vehicles['odometer']= vehicles['odometer'].astype('int64')\n",
    "vehicles['cylinders']= vehicles['cylinders'].astype('int64')"
   ]
  },
  {
   "cell_type": "code",
   "execution_count": 17,
   "metadata": {},
   "outputs": [
    {
     "name": "stdout",
     "output_type": "stream",
     "text": [
      "<class 'pandas.core.frame.DataFrame'>\n",
      "Int64Index: 51483 entries, 0 to 51524\n",
      "Data columns (total 13 columns):\n",
      " #   Column        Non-Null Count  Dtype         \n",
      "---  ------        --------------  -----         \n",
      " 0   price         51483 non-null  int64         \n",
      " 1   model_year    51483 non-null  int64         \n",
      " 2   model         51483 non-null  object        \n",
      " 3   condition     51483 non-null  object        \n",
      " 4   cylinders     51483 non-null  int64         \n",
      " 5   fuel          51483 non-null  object        \n",
      " 6   odometer      51483 non-null  int64         \n",
      " 7   transmission  51483 non-null  object        \n",
      " 8   type          51483 non-null  object        \n",
      " 9   paint_color   51483 non-null  object        \n",
      " 10  is_4wd        51483 non-null  bool          \n",
      " 11  date_posted   51483 non-null  datetime64[ns]\n",
      " 12  days_listed   51483 non-null  int64         \n",
      "dtypes: bool(1), datetime64[ns](1), int64(5), object(6)\n",
      "memory usage: 5.2+ MB\n"
     ]
    }
   ],
   "source": [
    "vehicles.info()"
   ]
  },
  {
   "cell_type": "markdown",
   "metadata": {},
   "source": [
    "Our new data now consists of 13 columns and 51483 rows."
   ]
  },
  {
   "cell_type": "markdown",
   "metadata": {},
   "source": [
    "## Enrich data"
   ]
  },
  {
   "cell_type": "markdown",
   "metadata": {},
   "source": [
    "In order to calculate the age of a car, a new column [year_of_post] was created. New column was then converted to Int64 in order to make that calculation work."
   ]
  },
  {
   "cell_type": "code",
   "execution_count": 18,
   "metadata": {},
   "outputs": [],
   "source": [
    "vehicles['year_of_post'] = vehicles['date_posted']\n"
   ]
  },
  {
   "cell_type": "code",
   "execution_count": 19,
   "metadata": {},
   "outputs": [],
   "source": [
    "vehicles['year_of_post']= pd.DatetimeIndex(vehicles['year_of_post']).year"
   ]
  },
  {
   "cell_type": "code",
   "execution_count": 20,
   "metadata": {},
   "outputs": [
    {
     "data": {
      "text/html": [
       "<div>\n",
       "<style scoped>\n",
       "    .dataframe tbody tr th:only-of-type {\n",
       "        vertical-align: middle;\n",
       "    }\n",
       "\n",
       "    .dataframe tbody tr th {\n",
       "        vertical-align: top;\n",
       "    }\n",
       "\n",
       "    .dataframe thead th {\n",
       "        text-align: right;\n",
       "    }\n",
       "</style>\n",
       "<table border=\"1\" class=\"dataframe\">\n",
       "  <thead>\n",
       "    <tr style=\"text-align: right;\">\n",
       "      <th></th>\n",
       "      <th>price</th>\n",
       "      <th>model_year</th>\n",
       "      <th>model</th>\n",
       "      <th>condition</th>\n",
       "      <th>cylinders</th>\n",
       "      <th>fuel</th>\n",
       "      <th>odometer</th>\n",
       "      <th>transmission</th>\n",
       "      <th>type</th>\n",
       "      <th>paint_color</th>\n",
       "      <th>is_4wd</th>\n",
       "      <th>date_posted</th>\n",
       "      <th>days_listed</th>\n",
       "      <th>year_of_post</th>\n",
       "    </tr>\n",
       "  </thead>\n",
       "  <tbody>\n",
       "    <tr>\n",
       "      <th>0</th>\n",
       "      <td>9400</td>\n",
       "      <td>2011</td>\n",
       "      <td>bmw x5</td>\n",
       "      <td>good</td>\n",
       "      <td>6</td>\n",
       "      <td>gas</td>\n",
       "      <td>145000</td>\n",
       "      <td>automatic</td>\n",
       "      <td>SUV</td>\n",
       "      <td>unknown</td>\n",
       "      <td>True</td>\n",
       "      <td>2018-06-23</td>\n",
       "      <td>19</td>\n",
       "      <td>2018</td>\n",
       "    </tr>\n",
       "    <tr>\n",
       "      <th>1</th>\n",
       "      <td>25500</td>\n",
       "      <td>2008</td>\n",
       "      <td>ford f-150</td>\n",
       "      <td>good</td>\n",
       "      <td>6</td>\n",
       "      <td>gas</td>\n",
       "      <td>88705</td>\n",
       "      <td>automatic</td>\n",
       "      <td>pickup</td>\n",
       "      <td>white</td>\n",
       "      <td>True</td>\n",
       "      <td>2018-10-19</td>\n",
       "      <td>50</td>\n",
       "      <td>2018</td>\n",
       "    </tr>\n",
       "    <tr>\n",
       "      <th>2</th>\n",
       "      <td>5500</td>\n",
       "      <td>2013</td>\n",
       "      <td>hyundai sonata</td>\n",
       "      <td>like new</td>\n",
       "      <td>4</td>\n",
       "      <td>gas</td>\n",
       "      <td>110000</td>\n",
       "      <td>automatic</td>\n",
       "      <td>sedan</td>\n",
       "      <td>red</td>\n",
       "      <td>False</td>\n",
       "      <td>2019-02-07</td>\n",
       "      <td>79</td>\n",
       "      <td>2019</td>\n",
       "    </tr>\n",
       "    <tr>\n",
       "      <th>3</th>\n",
       "      <td>1500</td>\n",
       "      <td>2003</td>\n",
       "      <td>ford f-150</td>\n",
       "      <td>fair</td>\n",
       "      <td>8</td>\n",
       "      <td>gas</td>\n",
       "      <td>188000</td>\n",
       "      <td>automatic</td>\n",
       "      <td>pickup</td>\n",
       "      <td>unknown</td>\n",
       "      <td>False</td>\n",
       "      <td>2019-03-22</td>\n",
       "      <td>9</td>\n",
       "      <td>2019</td>\n",
       "    </tr>\n",
       "    <tr>\n",
       "      <th>4</th>\n",
       "      <td>14900</td>\n",
       "      <td>2017</td>\n",
       "      <td>chrysler 200</td>\n",
       "      <td>excellent</td>\n",
       "      <td>4</td>\n",
       "      <td>gas</td>\n",
       "      <td>80903</td>\n",
       "      <td>automatic</td>\n",
       "      <td>sedan</td>\n",
       "      <td>black</td>\n",
       "      <td>False</td>\n",
       "      <td>2019-04-02</td>\n",
       "      <td>28</td>\n",
       "      <td>2019</td>\n",
       "    </tr>\n",
       "    <tr>\n",
       "      <th>5</th>\n",
       "      <td>14990</td>\n",
       "      <td>2014</td>\n",
       "      <td>chrysler 300</td>\n",
       "      <td>excellent</td>\n",
       "      <td>6</td>\n",
       "      <td>gas</td>\n",
       "      <td>57954</td>\n",
       "      <td>automatic</td>\n",
       "      <td>sedan</td>\n",
       "      <td>black</td>\n",
       "      <td>True</td>\n",
       "      <td>2018-06-20</td>\n",
       "      <td>15</td>\n",
       "      <td>2018</td>\n",
       "    </tr>\n",
       "    <tr>\n",
       "      <th>6</th>\n",
       "      <td>12990</td>\n",
       "      <td>2015</td>\n",
       "      <td>toyota camry</td>\n",
       "      <td>excellent</td>\n",
       "      <td>4</td>\n",
       "      <td>gas</td>\n",
       "      <td>79212</td>\n",
       "      <td>automatic</td>\n",
       "      <td>sedan</td>\n",
       "      <td>white</td>\n",
       "      <td>False</td>\n",
       "      <td>2018-12-27</td>\n",
       "      <td>73</td>\n",
       "      <td>2018</td>\n",
       "    </tr>\n",
       "    <tr>\n",
       "      <th>7</th>\n",
       "      <td>15990</td>\n",
       "      <td>2013</td>\n",
       "      <td>honda pilot</td>\n",
       "      <td>excellent</td>\n",
       "      <td>6</td>\n",
       "      <td>gas</td>\n",
       "      <td>109473</td>\n",
       "      <td>automatic</td>\n",
       "      <td>SUV</td>\n",
       "      <td>black</td>\n",
       "      <td>True</td>\n",
       "      <td>2019-01-07</td>\n",
       "      <td>68</td>\n",
       "      <td>2019</td>\n",
       "    </tr>\n",
       "    <tr>\n",
       "      <th>8</th>\n",
       "      <td>11500</td>\n",
       "      <td>2012</td>\n",
       "      <td>kia sorento</td>\n",
       "      <td>excellent</td>\n",
       "      <td>4</td>\n",
       "      <td>gas</td>\n",
       "      <td>104174</td>\n",
       "      <td>automatic</td>\n",
       "      <td>SUV</td>\n",
       "      <td>unknown</td>\n",
       "      <td>True</td>\n",
       "      <td>2018-07-16</td>\n",
       "      <td>19</td>\n",
       "      <td>2018</td>\n",
       "    </tr>\n",
       "    <tr>\n",
       "      <th>9</th>\n",
       "      <td>9200</td>\n",
       "      <td>2008</td>\n",
       "      <td>honda pilot</td>\n",
       "      <td>excellent</td>\n",
       "      <td>6</td>\n",
       "      <td>gas</td>\n",
       "      <td>147191</td>\n",
       "      <td>automatic</td>\n",
       "      <td>SUV</td>\n",
       "      <td>blue</td>\n",
       "      <td>True</td>\n",
       "      <td>2019-02-15</td>\n",
       "      <td>17</td>\n",
       "      <td>2019</td>\n",
       "    </tr>\n",
       "  </tbody>\n",
       "</table>\n",
       "</div>"
      ],
      "text/plain": [
       "   price  model_year           model  condition  cylinders fuel  odometer  \\\n",
       "0   9400        2011          bmw x5       good          6  gas    145000   \n",
       "1  25500        2008      ford f-150       good          6  gas     88705   \n",
       "2   5500        2013  hyundai sonata   like new          4  gas    110000   \n",
       "3   1500        2003      ford f-150       fair          8  gas    188000   \n",
       "4  14900        2017    chrysler 200  excellent          4  gas     80903   \n",
       "5  14990        2014    chrysler 300  excellent          6  gas     57954   \n",
       "6  12990        2015    toyota camry  excellent          4  gas     79212   \n",
       "7  15990        2013     honda pilot  excellent          6  gas    109473   \n",
       "8  11500        2012     kia sorento  excellent          4  gas    104174   \n",
       "9   9200        2008     honda pilot  excellent          6  gas    147191   \n",
       "\n",
       "  transmission    type paint_color  is_4wd date_posted  days_listed  \\\n",
       "0    automatic     SUV     unknown    True  2018-06-23           19   \n",
       "1    automatic  pickup       white    True  2018-10-19           50   \n",
       "2    automatic   sedan         red   False  2019-02-07           79   \n",
       "3    automatic  pickup     unknown   False  2019-03-22            9   \n",
       "4    automatic   sedan       black   False  2019-04-02           28   \n",
       "5    automatic   sedan       black    True  2018-06-20           15   \n",
       "6    automatic   sedan       white   False  2018-12-27           73   \n",
       "7    automatic     SUV       black    True  2019-01-07           68   \n",
       "8    automatic     SUV     unknown    True  2018-07-16           19   \n",
       "9    automatic     SUV        blue    True  2019-02-15           17   \n",
       "\n",
       "   year_of_post  \n",
       "0          2018  \n",
       "1          2018  \n",
       "2          2019  \n",
       "3          2019  \n",
       "4          2019  \n",
       "5          2018  \n",
       "6          2018  \n",
       "7          2019  \n",
       "8          2018  \n",
       "9          2019  "
      ]
     },
     "execution_count": 20,
     "metadata": {},
     "output_type": "execute_result"
    }
   ],
   "source": [
    "vehicles.head(10)"
   ]
  },
  {
   "cell_type": "markdown",
   "metadata": {},
   "source": [
    "# Add datetime values for when the ad was placed\n",
    "\n"
   ]
  },
  {
   "cell_type": "code",
   "execution_count": 21,
   "metadata": {},
   "outputs": [],
   "source": [
    "# Add the vehicle's age when the ad was placed\n",
    "vehicles['vehicle_age'] = vehicles['year_of_post'] - vehicles['model_year'] + 1"
   ]
  },
  {
   "cell_type": "code",
   "execution_count": 22,
   "metadata": {},
   "outputs": [],
   "source": [
    "# Add the vehicle's average mileage per year\n",
    "vehicles['avg_mileage'] = vehicles['odometer'] / vehicles['model_year']"
   ]
  },
  {
   "cell_type": "code",
   "execution_count": 23,
   "metadata": {},
   "outputs": [
    {
     "data": {
      "text/html": [
       "<div>\n",
       "<style scoped>\n",
       "    .dataframe tbody tr th:only-of-type {\n",
       "        vertical-align: middle;\n",
       "    }\n",
       "\n",
       "    .dataframe tbody tr th {\n",
       "        vertical-align: top;\n",
       "    }\n",
       "\n",
       "    .dataframe thead th {\n",
       "        text-align: right;\n",
       "    }\n",
       "</style>\n",
       "<table border=\"1\" class=\"dataframe\">\n",
       "  <thead>\n",
       "    <tr style=\"text-align: right;\">\n",
       "      <th></th>\n",
       "      <th>price</th>\n",
       "      <th>model_year</th>\n",
       "      <th>model</th>\n",
       "      <th>condition</th>\n",
       "      <th>cylinders</th>\n",
       "      <th>fuel</th>\n",
       "      <th>odometer</th>\n",
       "      <th>transmission</th>\n",
       "      <th>type</th>\n",
       "      <th>paint_color</th>\n",
       "      <th>is_4wd</th>\n",
       "      <th>date_posted</th>\n",
       "      <th>days_listed</th>\n",
       "      <th>year_of_post</th>\n",
       "      <th>vehicle_age</th>\n",
       "      <th>avg_mileage</th>\n",
       "    </tr>\n",
       "  </thead>\n",
       "  <tbody>\n",
       "    <tr>\n",
       "      <th>0</th>\n",
       "      <td>9400</td>\n",
       "      <td>2011</td>\n",
       "      <td>bmw x5</td>\n",
       "      <td>good</td>\n",
       "      <td>6</td>\n",
       "      <td>gas</td>\n",
       "      <td>145000</td>\n",
       "      <td>automatic</td>\n",
       "      <td>SUV</td>\n",
       "      <td>unknown</td>\n",
       "      <td>True</td>\n",
       "      <td>2018-06-23</td>\n",
       "      <td>19</td>\n",
       "      <td>2018</td>\n",
       "      <td>8</td>\n",
       "      <td>72.103431</td>\n",
       "    </tr>\n",
       "    <tr>\n",
       "      <th>1</th>\n",
       "      <td>25500</td>\n",
       "      <td>2008</td>\n",
       "      <td>ford f-150</td>\n",
       "      <td>good</td>\n",
       "      <td>6</td>\n",
       "      <td>gas</td>\n",
       "      <td>88705</td>\n",
       "      <td>automatic</td>\n",
       "      <td>pickup</td>\n",
       "      <td>white</td>\n",
       "      <td>True</td>\n",
       "      <td>2018-10-19</td>\n",
       "      <td>50</td>\n",
       "      <td>2018</td>\n",
       "      <td>11</td>\n",
       "      <td>44.175797</td>\n",
       "    </tr>\n",
       "    <tr>\n",
       "      <th>2</th>\n",
       "      <td>5500</td>\n",
       "      <td>2013</td>\n",
       "      <td>hyundai sonata</td>\n",
       "      <td>like new</td>\n",
       "      <td>4</td>\n",
       "      <td>gas</td>\n",
       "      <td>110000</td>\n",
       "      <td>automatic</td>\n",
       "      <td>sedan</td>\n",
       "      <td>red</td>\n",
       "      <td>False</td>\n",
       "      <td>2019-02-07</td>\n",
       "      <td>79</td>\n",
       "      <td>2019</td>\n",
       "      <td>7</td>\n",
       "      <td>54.644809</td>\n",
       "    </tr>\n",
       "    <tr>\n",
       "      <th>3</th>\n",
       "      <td>1500</td>\n",
       "      <td>2003</td>\n",
       "      <td>ford f-150</td>\n",
       "      <td>fair</td>\n",
       "      <td>8</td>\n",
       "      <td>gas</td>\n",
       "      <td>188000</td>\n",
       "      <td>automatic</td>\n",
       "      <td>pickup</td>\n",
       "      <td>unknown</td>\n",
       "      <td>False</td>\n",
       "      <td>2019-03-22</td>\n",
       "      <td>9</td>\n",
       "      <td>2019</td>\n",
       "      <td>17</td>\n",
       "      <td>93.859211</td>\n",
       "    </tr>\n",
       "    <tr>\n",
       "      <th>4</th>\n",
       "      <td>14900</td>\n",
       "      <td>2017</td>\n",
       "      <td>chrysler 200</td>\n",
       "      <td>excellent</td>\n",
       "      <td>4</td>\n",
       "      <td>gas</td>\n",
       "      <td>80903</td>\n",
       "      <td>automatic</td>\n",
       "      <td>sedan</td>\n",
       "      <td>black</td>\n",
       "      <td>False</td>\n",
       "      <td>2019-04-02</td>\n",
       "      <td>28</td>\n",
       "      <td>2019</td>\n",
       "      <td>3</td>\n",
       "      <td>40.110560</td>\n",
       "    </tr>\n",
       "    <tr>\n",
       "      <th>5</th>\n",
       "      <td>14990</td>\n",
       "      <td>2014</td>\n",
       "      <td>chrysler 300</td>\n",
       "      <td>excellent</td>\n",
       "      <td>6</td>\n",
       "      <td>gas</td>\n",
       "      <td>57954</td>\n",
       "      <td>automatic</td>\n",
       "      <td>sedan</td>\n",
       "      <td>black</td>\n",
       "      <td>True</td>\n",
       "      <td>2018-06-20</td>\n",
       "      <td>15</td>\n",
       "      <td>2018</td>\n",
       "      <td>5</td>\n",
       "      <td>28.775571</td>\n",
       "    </tr>\n",
       "    <tr>\n",
       "      <th>6</th>\n",
       "      <td>12990</td>\n",
       "      <td>2015</td>\n",
       "      <td>toyota camry</td>\n",
       "      <td>excellent</td>\n",
       "      <td>4</td>\n",
       "      <td>gas</td>\n",
       "      <td>79212</td>\n",
       "      <td>automatic</td>\n",
       "      <td>sedan</td>\n",
       "      <td>white</td>\n",
       "      <td>False</td>\n",
       "      <td>2018-12-27</td>\n",
       "      <td>73</td>\n",
       "      <td>2018</td>\n",
       "      <td>4</td>\n",
       "      <td>39.311166</td>\n",
       "    </tr>\n",
       "    <tr>\n",
       "      <th>7</th>\n",
       "      <td>15990</td>\n",
       "      <td>2013</td>\n",
       "      <td>honda pilot</td>\n",
       "      <td>excellent</td>\n",
       "      <td>6</td>\n",
       "      <td>gas</td>\n",
       "      <td>109473</td>\n",
       "      <td>automatic</td>\n",
       "      <td>SUV</td>\n",
       "      <td>black</td>\n",
       "      <td>True</td>\n",
       "      <td>2019-01-07</td>\n",
       "      <td>68</td>\n",
       "      <td>2019</td>\n",
       "      <td>7</td>\n",
       "      <td>54.383010</td>\n",
       "    </tr>\n",
       "    <tr>\n",
       "      <th>8</th>\n",
       "      <td>11500</td>\n",
       "      <td>2012</td>\n",
       "      <td>kia sorento</td>\n",
       "      <td>excellent</td>\n",
       "      <td>4</td>\n",
       "      <td>gas</td>\n",
       "      <td>104174</td>\n",
       "      <td>automatic</td>\n",
       "      <td>SUV</td>\n",
       "      <td>unknown</td>\n",
       "      <td>True</td>\n",
       "      <td>2018-07-16</td>\n",
       "      <td>19</td>\n",
       "      <td>2018</td>\n",
       "      <td>7</td>\n",
       "      <td>51.776342</td>\n",
       "    </tr>\n",
       "    <tr>\n",
       "      <th>9</th>\n",
       "      <td>9200</td>\n",
       "      <td>2008</td>\n",
       "      <td>honda pilot</td>\n",
       "      <td>excellent</td>\n",
       "      <td>6</td>\n",
       "      <td>gas</td>\n",
       "      <td>147191</td>\n",
       "      <td>automatic</td>\n",
       "      <td>SUV</td>\n",
       "      <td>blue</td>\n",
       "      <td>True</td>\n",
       "      <td>2019-02-15</td>\n",
       "      <td>17</td>\n",
       "      <td>2019</td>\n",
       "      <td>12</td>\n",
       "      <td>73.302291</td>\n",
       "    </tr>\n",
       "  </tbody>\n",
       "</table>\n",
       "</div>"
      ],
      "text/plain": [
       "   price  model_year           model  condition  cylinders fuel  odometer  \\\n",
       "0   9400        2011          bmw x5       good          6  gas    145000   \n",
       "1  25500        2008      ford f-150       good          6  gas     88705   \n",
       "2   5500        2013  hyundai sonata   like new          4  gas    110000   \n",
       "3   1500        2003      ford f-150       fair          8  gas    188000   \n",
       "4  14900        2017    chrysler 200  excellent          4  gas     80903   \n",
       "5  14990        2014    chrysler 300  excellent          6  gas     57954   \n",
       "6  12990        2015    toyota camry  excellent          4  gas     79212   \n",
       "7  15990        2013     honda pilot  excellent          6  gas    109473   \n",
       "8  11500        2012     kia sorento  excellent          4  gas    104174   \n",
       "9   9200        2008     honda pilot  excellent          6  gas    147191   \n",
       "\n",
       "  transmission    type paint_color  is_4wd date_posted  days_listed  \\\n",
       "0    automatic     SUV     unknown    True  2018-06-23           19   \n",
       "1    automatic  pickup       white    True  2018-10-19           50   \n",
       "2    automatic   sedan         red   False  2019-02-07           79   \n",
       "3    automatic  pickup     unknown   False  2019-03-22            9   \n",
       "4    automatic   sedan       black   False  2019-04-02           28   \n",
       "5    automatic   sedan       black    True  2018-06-20           15   \n",
       "6    automatic   sedan       white   False  2018-12-27           73   \n",
       "7    automatic     SUV       black    True  2019-01-07           68   \n",
       "8    automatic     SUV     unknown    True  2018-07-16           19   \n",
       "9    automatic     SUV        blue    True  2019-02-15           17   \n",
       "\n",
       "   year_of_post  vehicle_age  avg_mileage  \n",
       "0          2018            8    72.103431  \n",
       "1          2018           11    44.175797  \n",
       "2          2019            7    54.644809  \n",
       "3          2019           17    93.859211  \n",
       "4          2019            3    40.110560  \n",
       "5          2018            5    28.775571  \n",
       "6          2018            4    39.311166  \n",
       "7          2019            7    54.383010  \n",
       "8          2018            7    51.776342  \n",
       "9          2019           12    73.302291  "
      ]
     },
     "execution_count": 23,
     "metadata": {},
     "output_type": "execute_result"
    }
   ],
   "source": [
    "vehicles.head(10)"
   ]
  },
  {
   "cell_type": "code",
   "execution_count": 24,
   "metadata": {},
   "outputs": [],
   "source": [
    "# It might help to replace the condition values with something that can be manipulated more easily\n",
    "vehicles['condition'].replace(['new','like new', 'excellent', 'good', 'fair', 'salvage'], [5, 4, 3, 2, 1, 0], inplace=True)"
   ]
  },
  {
   "cell_type": "markdown",
   "metadata": {},
   "source": [
    "## Check clean data"
   ]
  },
  {
   "cell_type": "markdown",
   "metadata": {},
   "source": [
    "Our new data now consists of 16 columns and 51483 rows."
   ]
  },
  {
   "cell_type": "code",
   "execution_count": 25,
   "metadata": {},
   "outputs": [
    {
     "name": "stdout",
     "output_type": "stream",
     "text": [
      "<class 'pandas.core.frame.DataFrame'>\n",
      "Int64Index: 51483 entries, 0 to 51524\n",
      "Data columns (total 16 columns):\n",
      " #   Column        Non-Null Count  Dtype         \n",
      "---  ------        --------------  -----         \n",
      " 0   price         51483 non-null  int64         \n",
      " 1   model_year    51483 non-null  int64         \n",
      " 2   model         51483 non-null  object        \n",
      " 3   condition     51483 non-null  int64         \n",
      " 4   cylinders     51483 non-null  int64         \n",
      " 5   fuel          51483 non-null  object        \n",
      " 6   odometer      51483 non-null  int64         \n",
      " 7   transmission  51483 non-null  object        \n",
      " 8   type          51483 non-null  object        \n",
      " 9   paint_color   51483 non-null  object        \n",
      " 10  is_4wd        51483 non-null  bool          \n",
      " 11  date_posted   51483 non-null  datetime64[ns]\n",
      " 12  days_listed   51483 non-null  int64         \n",
      " 13  year_of_post  51483 non-null  int64         \n",
      " 14  vehicle_age   51483 non-null  int64         \n",
      " 15  avg_mileage   51483 non-null  float64       \n",
      "dtypes: bool(1), datetime64[ns](1), float64(1), int64(8), object(5)\n",
      "memory usage: 6.3+ MB\n"
     ]
    }
   ],
   "source": [
    "# print the general/summary information about the DataFrame\n",
    "vehicles.info()"
   ]
  },
  {
   "cell_type": "code",
   "execution_count": 26,
   "metadata": {},
   "outputs": [
    {
     "data": {
      "text/html": [
       "<div>\n",
       "<style scoped>\n",
       "    .dataframe tbody tr th:only-of-type {\n",
       "        vertical-align: middle;\n",
       "    }\n",
       "\n",
       "    .dataframe tbody tr th {\n",
       "        vertical-align: top;\n",
       "    }\n",
       "\n",
       "    .dataframe thead th {\n",
       "        text-align: right;\n",
       "    }\n",
       "</style>\n",
       "<table border=\"1\" class=\"dataframe\">\n",
       "  <thead>\n",
       "    <tr style=\"text-align: right;\">\n",
       "      <th></th>\n",
       "      <th>price</th>\n",
       "      <th>model_year</th>\n",
       "      <th>condition</th>\n",
       "      <th>cylinders</th>\n",
       "      <th>odometer</th>\n",
       "      <th>days_listed</th>\n",
       "      <th>year_of_post</th>\n",
       "      <th>vehicle_age</th>\n",
       "      <th>avg_mileage</th>\n",
       "    </tr>\n",
       "  </thead>\n",
       "  <tbody>\n",
       "    <tr>\n",
       "      <th>count</th>\n",
       "      <td>51483.000000</td>\n",
       "      <td>51483.000000</td>\n",
       "      <td>51483.000000</td>\n",
       "      <td>51483.000000</td>\n",
       "      <td>51483.000000</td>\n",
       "      <td>51483.000000</td>\n",
       "      <td>51483.000000</td>\n",
       "      <td>51483.000000</td>\n",
       "      <td>51483.000000</td>\n",
       "    </tr>\n",
       "    <tr>\n",
       "      <th>mean</th>\n",
       "      <td>12132.410135</td>\n",
       "      <td>2009.802945</td>\n",
       "      <td>2.637609</td>\n",
       "      <td>6.120078</td>\n",
       "      <td>115208.074374</td>\n",
       "      <td>39.552648</td>\n",
       "      <td>2018.307422</td>\n",
       "      <td>9.504477</td>\n",
       "      <td>57.370198</td>\n",
       "    </tr>\n",
       "    <tr>\n",
       "      <th>std</th>\n",
       "      <td>10032.673912</td>\n",
       "      <td>6.065026</td>\n",
       "      <td>0.711500</td>\n",
       "      <td>1.657329</td>\n",
       "      <td>62204.281429</td>\n",
       "      <td>28.201740</td>\n",
       "      <td>0.461430</td>\n",
       "      <td>6.078763</td>\n",
       "      <td>31.054033</td>\n",
       "    </tr>\n",
       "    <tr>\n",
       "      <th>min</th>\n",
       "      <td>1.000000</td>\n",
       "      <td>1908.000000</td>\n",
       "      <td>0.000000</td>\n",
       "      <td>3.000000</td>\n",
       "      <td>0.000000</td>\n",
       "      <td>0.000000</td>\n",
       "      <td>2018.000000</td>\n",
       "      <td>1.000000</td>\n",
       "      <td>0.000000</td>\n",
       "    </tr>\n",
       "    <tr>\n",
       "      <th>25%</th>\n",
       "      <td>5000.000000</td>\n",
       "      <td>2006.000000</td>\n",
       "      <td>2.000000</td>\n",
       "      <td>4.000000</td>\n",
       "      <td>73039.500000</td>\n",
       "      <td>19.000000</td>\n",
       "      <td>2018.000000</td>\n",
       "      <td>5.000000</td>\n",
       "      <td>36.359434</td>\n",
       "    </tr>\n",
       "    <tr>\n",
       "      <th>50%</th>\n",
       "      <td>9000.000000</td>\n",
       "      <td>2011.000000</td>\n",
       "      <td>3.000000</td>\n",
       "      <td>6.000000</td>\n",
       "      <td>114605.000000</td>\n",
       "      <td>33.000000</td>\n",
       "      <td>2018.000000</td>\n",
       "      <td>8.000000</td>\n",
       "      <td>57.007466</td>\n",
       "    </tr>\n",
       "    <tr>\n",
       "      <th>75%</th>\n",
       "      <td>16850.500000</td>\n",
       "      <td>2014.000000</td>\n",
       "      <td>3.000000</td>\n",
       "      <td>8.000000</td>\n",
       "      <td>152381.000000</td>\n",
       "      <td>53.000000</td>\n",
       "      <td>2019.000000</td>\n",
       "      <td>13.000000</td>\n",
       "      <td>75.924763</td>\n",
       "    </tr>\n",
       "    <tr>\n",
       "      <th>max</th>\n",
       "      <td>375000.000000</td>\n",
       "      <td>2019.000000</td>\n",
       "      <td>5.000000</td>\n",
       "      <td>12.000000</td>\n",
       "      <td>990000.000000</td>\n",
       "      <td>271.000000</td>\n",
       "      <td>2019.000000</td>\n",
       "      <td>111.000000</td>\n",
       "      <td>504.073320</td>\n",
       "    </tr>\n",
       "  </tbody>\n",
       "</table>\n",
       "</div>"
      ],
      "text/plain": [
       "               price    model_year     condition     cylinders       odometer  \\\n",
       "count   51483.000000  51483.000000  51483.000000  51483.000000   51483.000000   \n",
       "mean    12132.410135   2009.802945      2.637609      6.120078  115208.074374   \n",
       "std     10032.673912      6.065026      0.711500      1.657329   62204.281429   \n",
       "min         1.000000   1908.000000      0.000000      3.000000       0.000000   \n",
       "25%      5000.000000   2006.000000      2.000000      4.000000   73039.500000   \n",
       "50%      9000.000000   2011.000000      3.000000      6.000000  114605.000000   \n",
       "75%     16850.500000   2014.000000      3.000000      8.000000  152381.000000   \n",
       "max    375000.000000   2019.000000      5.000000     12.000000  990000.000000   \n",
       "\n",
       "        days_listed  year_of_post   vehicle_age   avg_mileage  \n",
       "count  51483.000000  51483.000000  51483.000000  51483.000000  \n",
       "mean      39.552648   2018.307422      9.504477     57.370198  \n",
       "std       28.201740      0.461430      6.078763     31.054033  \n",
       "min        0.000000   2018.000000      1.000000      0.000000  \n",
       "25%       19.000000   2018.000000      5.000000     36.359434  \n",
       "50%       33.000000   2018.000000      8.000000     57.007466  \n",
       "75%       53.000000   2019.000000     13.000000     75.924763  \n",
       "max      271.000000   2019.000000    111.000000    504.073320  "
      ]
     },
     "execution_count": 26,
     "metadata": {},
     "output_type": "execute_result"
    }
   ],
   "source": [
    "vehicles.describe()"
   ]
  },
  {
   "cell_type": "code",
   "execution_count": 27,
   "metadata": {},
   "outputs": [
    {
     "name": "stdout",
     "output_type": "stream",
     "text": [
      "    price  model_year                     model  condition  cylinders fuel  \\\n",
      "0    9400        2011                    bmw x5          2          6  gas   \n",
      "1   25500        2008                ford f-150          2          6  gas   \n",
      "2    5500        2013            hyundai sonata          4          4  gas   \n",
      "3    1500        2003                ford f-150          1          8  gas   \n",
      "4   14900        2017              chrysler 200          3          4  gas   \n",
      "5   14990        2014              chrysler 300          3          6  gas   \n",
      "6   12990        2015              toyota camry          3          4  gas   \n",
      "7   15990        2013               honda pilot          3          6  gas   \n",
      "8   11500        2012               kia sorento          3          4  gas   \n",
      "9    9200        2008               honda pilot          3          6  gas   \n",
      "10  19500        2011  chevrolet silverado 1500          3          8  gas   \n",
      "11   8990        2012              honda accord          3          4  gas   \n",
      "12  18990        2012                  ram 1500          3          8  gas   \n",
      "13  16500        2018            hyundai sonata          3          4  gas   \n",
      "14  12990        2009                 gmc yukon          3          8  gas   \n",
      "\n",
      "    odometer transmission    type paint_color  is_4wd date_posted  \\\n",
      "0     145000    automatic     SUV     unknown    True  2018-06-23   \n",
      "1      88705    automatic  pickup       white    True  2018-10-19   \n",
      "2     110000    automatic   sedan         red   False  2019-02-07   \n",
      "3     188000    automatic  pickup     unknown   False  2019-03-22   \n",
      "4      80903    automatic   sedan       black   False  2019-04-02   \n",
      "5      57954    automatic   sedan       black    True  2018-06-20   \n",
      "6      79212    automatic   sedan       white   False  2018-12-27   \n",
      "7     109473    automatic     SUV       black    True  2019-01-07   \n",
      "8     104174    automatic     SUV     unknown    True  2018-07-16   \n",
      "9     147191    automatic     SUV        blue    True  2019-02-15   \n",
      "10    128413    automatic  pickup       black    True  2018-09-17   \n",
      "11    111142    automatic   sedan        grey   False  2019-03-28   \n",
      "12    140742    automatic  pickup     unknown    True  2019-04-02   \n",
      "13     22104    automatic   sedan      silver   False  2019-01-14   \n",
      "14    132285    automatic     SUV       black    True  2019-01-31   \n",
      "\n",
      "    days_listed  year_of_post  vehicle_age  avg_mileage  \n",
      "0            19          2018            8    72.103431  \n",
      "1            50          2018           11    44.175797  \n",
      "2            79          2019            7    54.644809  \n",
      "3             9          2019           17    93.859211  \n",
      "4            28          2019            3    40.110560  \n",
      "5            15          2018            5    28.775571  \n",
      "6            73          2018            4    39.311166  \n",
      "7            68          2019            7    54.383010  \n",
      "8            19          2018            7    51.776342  \n",
      "9            17          2019           12    73.302291  \n",
      "10           38          2018            8    63.855296  \n",
      "11           29          2019            8    55.239563  \n",
      "12           37          2019            8    69.951292  \n",
      "13           29          2019            2    10.953419  \n",
      "14           24          2019           11    65.846192  \n"
     ]
    }
   ],
   "source": [
    "# print a sample of data\n",
    "print(vehicles.head(15))"
   ]
  },
  {
   "cell_type": "markdown",
   "metadata": {},
   "source": [
    "## Study core parameters\n",
    "\n",
    "The parameters are\n",
    "- Price\n",
    "- The vehicle's age when the ad was placed\n",
    "- Mileage\n",
    "- Number of cylinders\n",
    "- Condition"
   ]
  },
  {
   "cell_type": "code",
   "execution_count": 28,
   "metadata": {},
   "outputs": [
    {
     "data": {
      "image/png": "[encoded data removed]",
      "text/plain": [
       "<Figure size 432x288 with 1 Axes>"
      ]
     },
     "metadata": {
      "needs_background": "light"
     },
     "output_type": "display_data"
    }
   ],
   "source": [
    "#\n",
    "vehicles['price'].plot(y='price', kind='hist', bins=30, title='price', grid=True)\n",
    "plt.show()"
   ]
  },
  {
   "cell_type": "code",
   "execution_count": 29,
   "metadata": {},
   "outputs": [
    {
     "data": {
      "image/png": "[encoded data removed]",
      "text/plain": [
       "<Figure size 432x288 with 1 Axes>"
      ]
     },
     "metadata": {
      "needs_background": "light"
     },
     "output_type": "display_data"
    }
   ],
   "source": [
    "#\n",
    "vehicles['vehicle_age'].plot(y='vehicle_age', kind='hist', bins=30, title='vehicle_age', grid=True)\n",
    "plt.show()\n"
   ]
  },
  {
   "cell_type": "code",
   "execution_count": 30,
   "metadata": {},
   "outputs": [
    {
     "data": {
      "image/png": "[encoded data removed]",
      "text/plain": [
       "<Figure size 432x288 with 1 Axes>"
      ]
     },
     "metadata": {
      "needs_background": "light"
     },
     "output_type": "display_data"
    }
   ],
   "source": [
    "#\n",
    "vehicles['avg_mileage'].plot(y='avg_mileage', kind='hist', bins=30, title='avg_mileage', grid=True)\n",
    "plt.show()\n"
   ]
  },
  {
   "cell_type": "code",
   "execution_count": 31,
   "metadata": {},
   "outputs": [
    {
     "data": {
      "image/png": "[encoded data removed]",
      "text/plain": [
       "<Figure size 432x288 with 1 Axes>"
      ]
     },
     "metadata": {
      "needs_background": "light"
     },
     "output_type": "display_data"
    }
   ],
   "source": [
    "#\n",
    "\n",
    "vehicles['cylinders'].plot(y='cylinders', kind='hist', bins=10, title='cylinders', grid=True)\n",
    "plt.show()\n"
   ]
  },
  {
   "cell_type": "code",
   "execution_count": 32,
   "metadata": {},
   "outputs": [
    {
     "data": {
      "image/png": "[encoded data removed]",
      "text/plain": [
       "<Figure size 432x288 with 1 Axes>"
      ]
     },
     "metadata": {
      "needs_background": "light"
     },
     "output_type": "display_data"
    }
   ],
   "source": [
    "#\n",
    "\n",
    "vehicles['condition'].plot(y='condition', kind='hist', bins=20, title='condition', grid=True)\n",
    "plt.show()"
   ]
  },
  {
   "cell_type": "code",
   "execution_count": 33,
   "metadata": {},
   "outputs": [
    {
     "data": {
      "text/html": [
       "<div>\n",
       "<style scoped>\n",
       "    .dataframe tbody tr th:only-of-type {\n",
       "        vertical-align: middle;\n",
       "    }\n",
       "\n",
       "    .dataframe tbody tr th {\n",
       "        vertical-align: top;\n",
       "    }\n",
       "\n",
       "    .dataframe thead th {\n",
       "        text-align: right;\n",
       "    }\n",
       "</style>\n",
       "<table border=\"1\" class=\"dataframe\">\n",
       "  <thead>\n",
       "    <tr style=\"text-align: right;\">\n",
       "      <th></th>\n",
       "      <th>price</th>\n",
       "      <th>vehicle_age</th>\n",
       "      <th>avg_mileage</th>\n",
       "      <th>cylinders</th>\n",
       "      <th>condition</th>\n",
       "    </tr>\n",
       "  </thead>\n",
       "  <tbody>\n",
       "    <tr>\n",
       "      <th>count</th>\n",
       "      <td>51483.000000</td>\n",
       "      <td>51483.000000</td>\n",
       "      <td>51483.000000</td>\n",
       "      <td>51483.000000</td>\n",
       "      <td>51483.000000</td>\n",
       "    </tr>\n",
       "    <tr>\n",
       "      <th>mean</th>\n",
       "      <td>12132.410135</td>\n",
       "      <td>9.504477</td>\n",
       "      <td>57.370198</td>\n",
       "      <td>6.120078</td>\n",
       "      <td>2.637609</td>\n",
       "    </tr>\n",
       "    <tr>\n",
       "      <th>std</th>\n",
       "      <td>10032.673912</td>\n",
       "      <td>6.078763</td>\n",
       "      <td>31.054033</td>\n",
       "      <td>1.657329</td>\n",
       "      <td>0.711500</td>\n",
       "    </tr>\n",
       "    <tr>\n",
       "      <th>min</th>\n",
       "      <td>1.000000</td>\n",
       "      <td>1.000000</td>\n",
       "      <td>0.000000</td>\n",
       "      <td>3.000000</td>\n",
       "      <td>0.000000</td>\n",
       "    </tr>\n",
       "    <tr>\n",
       "      <th>25%</th>\n",
       "      <td>5000.000000</td>\n",
       "      <td>5.000000</td>\n",
       "      <td>36.359434</td>\n",
       "      <td>4.000000</td>\n",
       "      <td>2.000000</td>\n",
       "    </tr>\n",
       "    <tr>\n",
       "      <th>50%</th>\n",
       "      <td>9000.000000</td>\n",
       "      <td>8.000000</td>\n",
       "      <td>57.007466</td>\n",
       "      <td>6.000000</td>\n",
       "      <td>3.000000</td>\n",
       "    </tr>\n",
       "    <tr>\n",
       "      <th>75%</th>\n",
       "      <td>16850.500000</td>\n",
       "      <td>13.000000</td>\n",
       "      <td>75.924763</td>\n",
       "      <td>8.000000</td>\n",
       "      <td>3.000000</td>\n",
       "    </tr>\n",
       "    <tr>\n",
       "      <th>max</th>\n",
       "      <td>375000.000000</td>\n",
       "      <td>111.000000</td>\n",
       "      <td>504.073320</td>\n",
       "      <td>12.000000</td>\n",
       "      <td>5.000000</td>\n",
       "    </tr>\n",
       "  </tbody>\n",
       "</table>\n",
       "</div>"
      ],
      "text/plain": [
       "               price   vehicle_age   avg_mileage     cylinders     condition\n",
       "count   51483.000000  51483.000000  51483.000000  51483.000000  51483.000000\n",
       "mean    12132.410135      9.504477     57.370198      6.120078      2.637609\n",
       "std     10032.673912      6.078763     31.054033      1.657329      0.711500\n",
       "min         1.000000      1.000000      0.000000      3.000000      0.000000\n",
       "25%      5000.000000      5.000000     36.359434      4.000000      2.000000\n",
       "50%      9000.000000      8.000000     57.007466      6.000000      3.000000\n",
       "75%     16850.500000     13.000000     75.924763      8.000000      3.000000\n",
       "max    375000.000000    111.000000    504.073320     12.000000      5.000000"
      ]
     },
     "execution_count": 33,
     "metadata": {},
     "output_type": "execute_result"
    }
   ],
   "source": [
    "#\n",
    "vehicles.describe()[['price', 'vehicle_age', 'avg_mileage', 'cylinders', 'condition']]\n"
   ]
  },
  {
   "cell_type": "markdown",
   "metadata": {},
   "source": [
    "## Study and treat outliers\n",
    "\n",
    "'price', 'vehicle_age', and 'avg_mileage' seem to be the only columns with outliers. The lower outliers for 'price column is -12,775.75 and the highest being 34,626.25. Outliers for the age of a vehicles is -8 and upper limit is 24. For the average mileage column the lower limit is -22.99 and upper limit is 135.27. "
   ]
  },
  {
   "cell_type": "code",
   "execution_count": 34,
   "metadata": {},
   "outputs": [
    {
     "name": "stdout",
     "output_type": "stream",
     "text": [
      "price          11850.500000\n",
      "vehicle_age        8.000000\n",
      "avg_mileage       39.565329\n",
      "dtype: float64\n"
     ]
    }
   ],
   "source": [
    "columns = ['price', 'vehicle_age', 'avg_mileage']\n",
    "Q1 = vehicles[columns].quantile(0.25)\n",
    "Q3 = vehicles[columns].quantile(0.75)\n",
    "IQR = Q3 - Q1\n",
    "print(IQR)"
   ]
  },
  {
   "cell_type": "code",
   "execution_count": 35,
   "metadata": {},
   "outputs": [
    {
     "name": "stdout",
     "output_type": "stream",
     "text": [
      "price         -12775.75000\n",
      "vehicle_age       -7.00000\n",
      "avg_mileage      -22.98856\n",
      "dtype: float64\n"
     ]
    }
   ],
   "source": [
    "# Determine the lower limits for outliers\n",
    "lower= Q1 - 1.5 * IQR\n",
    "print(lower)"
   ]
  },
  {
   "cell_type": "code",
   "execution_count": 36,
   "metadata": {},
   "outputs": [
    {
     "name": "stdout",
     "output_type": "stream",
     "text": [
      "price          34626.250000\n",
      "vehicle_age       25.000000\n",
      "avg_mileage      135.272757\n",
      "dtype: float64\n"
     ]
    }
   ],
   "source": [
    "# Determine the upper limits for outliers\n",
    "upper = Q3 + 1.5 * IQR\n",
    "print(upper)\n"
   ]
  },
  {
   "cell_type": "code",
   "execution_count": 37,
   "metadata": {},
   "outputs": [],
   "source": [
    "# Store data without outliers in a separate DataFrame\n",
    "\n",
    "vehicles_cleaned = vehicles[~((vehicles[columns] < lower) |(vehicles[columns] > upper)).any(axis=1)]"
   ]
  },
  {
   "cell_type": "code",
   "execution_count": 38,
   "metadata": {},
   "outputs": [
    {
     "data": {
      "text/plain": [
       "(48529, 16)"
      ]
     },
     "execution_count": 38,
     "metadata": {},
     "output_type": "execute_result"
    }
   ],
   "source": [
    "vehicles_cleaned.shape"
   ]
  },
  {
   "cell_type": "code",
   "execution_count": 39,
   "metadata": {},
   "outputs": [
    {
     "name": "stdout",
     "output_type": "stream",
     "text": [
      "<class 'pandas.core.frame.DataFrame'>\n",
      "Int64Index: 48529 entries, 0 to 51524\n",
      "Data columns (total 16 columns):\n",
      " #   Column        Non-Null Count  Dtype         \n",
      "---  ------        --------------  -----         \n",
      " 0   price         48529 non-null  int64         \n",
      " 1   model_year    48529 non-null  int64         \n",
      " 2   model         48529 non-null  object        \n",
      " 3   condition     48529 non-null  int64         \n",
      " 4   cylinders     48529 non-null  int64         \n",
      " 5   fuel          48529 non-null  object        \n",
      " 6   odometer      48529 non-null  int64         \n",
      " 7   transmission  48529 non-null  object        \n",
      " 8   type          48529 non-null  object        \n",
      " 9   paint_color   48529 non-null  object        \n",
      " 10  is_4wd        48529 non-null  bool          \n",
      " 11  date_posted   48529 non-null  datetime64[ns]\n",
      " 12  days_listed   48529 non-null  int64         \n",
      " 13  year_of_post  48529 non-null  int64         \n",
      " 14  vehicle_age   48529 non-null  int64         \n",
      " 15  avg_mileage   48529 non-null  float64       \n",
      "dtypes: bool(1), datetime64[ns](1), float64(1), int64(8), object(5)\n",
      "memory usage: 6.0+ MB\n"
     ]
    }
   ],
   "source": [
    "vehicles_cleaned.info()"
   ]
  },
  {
   "cell_type": "markdown",
   "metadata": {},
   "source": [
    "After dropping the outliers, our data now consists of 48529 rows and 16 columns."
   ]
  },
  {
   "cell_type": "markdown",
   "metadata": {},
   "source": [
    "## Study core parameters without outliers"
   ]
  },
  {
   "cell_type": "code",
   "execution_count": 40,
   "metadata": {},
   "outputs": [
    {
     "data": {
      "image/png": "[encoded data removed]",
      "text/plain": [
       "<Figure size 432x288 with 1 Axes>"
      ]
     },
     "metadata": {
      "needs_background": "light"
     },
     "output_type": "display_data"
    }
   ],
   "source": [
    "vehicles_cleaned['price'].plot(y='price', kind='hist', bins=30, title='price', grid=True)\n",
    "plt.show()"
   ]
  },
  {
   "cell_type": "markdown",
   "metadata": {},
   "source": [
    "'price' histograms shows that most cars are sold for less than $5000 but there are still remaining outliers in the data as shown above."
   ]
  },
  {
   "cell_type": "code",
   "execution_count": 41,
   "metadata": {},
   "outputs": [
    {
     "data": {
      "image/png": "[encoded data removed]",
      "text/plain": [
       "<Figure size 432x288 with 1 Axes>"
      ]
     },
     "metadata": {
      "needs_background": "light"
     },
     "output_type": "display_data"
    }
   ],
   "source": [
    "vehicles_cleaned['vehicle_age'].plot(y='price', kind='hist', bins=20, title='vehicle_age',grid=True)\n",
    "plt.show()"
   ]
  },
  {
   "cell_type": "code",
   "execution_count": 42,
   "metadata": {},
   "outputs": [
    {
     "data": {
      "image/png": "[encoded data removed]",
      "text/plain": [
       "<Figure size 432x288 with 1 Axes>"
      ]
     },
     "metadata": {
      "needs_background": "light"
     },
     "output_type": "display_data"
    }
   ],
   "source": [
    "vehicles_cleaned['avg_mileage'].plot(y='avg_mileage', kind='hist', bins=30, title='avg_mileage', grid=True)\n",
    "plt.show()"
   ]
  },
  {
   "cell_type": "markdown",
   "metadata": {},
   "source": [
    "## Ads lifetime"
   ]
  },
  {
   "cell_type": "code",
   "execution_count": 43,
   "metadata": {},
   "outputs": [
    {
     "data": {
      "text/html": [
       "<div>\n",
       "<style scoped>\n",
       "    .dataframe tbody tr th:only-of-type {\n",
       "        vertical-align: middle;\n",
       "    }\n",
       "\n",
       "    .dataframe tbody tr th {\n",
       "        vertical-align: top;\n",
       "    }\n",
       "\n",
       "    .dataframe thead th {\n",
       "        text-align: right;\n",
       "    }\n",
       "</style>\n",
       "<table border=\"1\" class=\"dataframe\">\n",
       "  <thead>\n",
       "    <tr style=\"text-align: right;\">\n",
       "      <th></th>\n",
       "      <th>days_listed</th>\n",
       "    </tr>\n",
       "  </thead>\n",
       "  <tbody>\n",
       "    <tr>\n",
       "      <th>count</th>\n",
       "      <td>48529.00000</td>\n",
       "    </tr>\n",
       "    <tr>\n",
       "      <th>mean</th>\n",
       "      <td>39.53976</td>\n",
       "    </tr>\n",
       "    <tr>\n",
       "      <th>std</th>\n",
       "      <td>28.21445</td>\n",
       "    </tr>\n",
       "    <tr>\n",
       "      <th>min</th>\n",
       "      <td>0.00000</td>\n",
       "    </tr>\n",
       "    <tr>\n",
       "      <th>25%</th>\n",
       "      <td>19.00000</td>\n",
       "    </tr>\n",
       "    <tr>\n",
       "      <th>50%</th>\n",
       "      <td>33.00000</td>\n",
       "    </tr>\n",
       "    <tr>\n",
       "      <th>75%</th>\n",
       "      <td>53.00000</td>\n",
       "    </tr>\n",
       "    <tr>\n",
       "      <th>max</th>\n",
       "      <td>271.00000</td>\n",
       "    </tr>\n",
       "  </tbody>\n",
       "</table>\n",
       "</div>"
      ],
      "text/plain": [
       "       days_listed\n",
       "count  48529.00000\n",
       "mean      39.53976\n",
       "std       28.21445\n",
       "min        0.00000\n",
       "25%       19.00000\n",
       "50%       33.00000\n",
       "75%       53.00000\n",
       "max      271.00000"
      ]
     },
     "execution_count": 43,
     "metadata": {},
     "output_type": "execute_result"
    }
   ],
   "source": [
    "vehicles_cleaned.describe()[['days_listed']]"
   ]
  },
  {
   "cell_type": "code",
   "execution_count": 44,
   "metadata": {},
   "outputs": [
    {
     "data": {
      "image/png": "[encoded data removed]",
      "text/plain": [
       "<Figure size 432x288 with 1 Axes>"
      ]
     },
     "metadata": {
      "needs_background": "light"
     },
     "output_type": "display_data"
    }
   ],
   "source": [
    "vehicles_cleaned['days_listed'].plot(y='days_listed', kind='hist', bins=30, title='Lifetime of an ad', grid=True)\n",
    "plt.show()"
   ]
  },
  {
   "cell_type": "markdown",
   "metadata": {},
   "source": [
    "## Average price per each type of vehicle"
   ]
  },
  {
   "cell_type": "code",
   "execution_count": 45,
   "metadata": {},
   "outputs": [
    {
     "data": {
      "text/html": [
       "<div>\n",
       "<style scoped>\n",
       "    .dataframe tbody tr th:only-of-type {\n",
       "        vertical-align: middle;\n",
       "    }\n",
       "\n",
       "    .dataframe tbody tr th {\n",
       "        vertical-align: top;\n",
       "    }\n",
       "\n",
       "    .dataframe thead th {\n",
       "        text-align: right;\n",
       "    }\n",
       "</style>\n",
       "<table border=\"1\" class=\"dataframe\">\n",
       "  <thead>\n",
       "    <tr style=\"text-align: right;\">\n",
       "      <th></th>\n",
       "      <th>mean_price</th>\n",
       "      <th>total_ad</th>\n",
       "    </tr>\n",
       "    <tr>\n",
       "      <th>type</th>\n",
       "      <th></th>\n",
       "      <th></th>\n",
       "    </tr>\n",
       "  </thead>\n",
       "  <tbody>\n",
       "    <tr>\n",
       "      <th>bus</th>\n",
       "      <td>17445.913043</td>\n",
       "      <td>23</td>\n",
       "    </tr>\n",
       "    <tr>\n",
       "      <th>offroad</th>\n",
       "      <td>14292.989071</td>\n",
       "      <td>183</td>\n",
       "    </tr>\n",
       "    <tr>\n",
       "      <th>other</th>\n",
       "      <td>10482.776371</td>\n",
       "      <td>237</td>\n",
       "    </tr>\n",
       "    <tr>\n",
       "      <th>convertible</th>\n",
       "      <td>12853.376068</td>\n",
       "      <td>351</td>\n",
       "    </tr>\n",
       "    <tr>\n",
       "      <th>van</th>\n",
       "      <td>8820.914384</td>\n",
       "      <td>584</td>\n",
       "    </tr>\n",
       "    <tr>\n",
       "      <th>hatchback</th>\n",
       "      <td>6838.923535</td>\n",
       "      <td>1007</td>\n",
       "    </tr>\n",
       "    <tr>\n",
       "      <th>mini-van</th>\n",
       "      <td>8046.564080</td>\n",
       "      <td>1147</td>\n",
       "    </tr>\n",
       "    <tr>\n",
       "      <th>wagon</th>\n",
       "      <td>8975.517928</td>\n",
       "      <td>1506</td>\n",
       "    </tr>\n",
       "    <tr>\n",
       "      <th>coupe</th>\n",
       "      <td>13476.049285</td>\n",
       "      <td>2029</td>\n",
       "    </tr>\n",
       "    <tr>\n",
       "      <th>pickup</th>\n",
       "      <td>15007.119558</td>\n",
       "      <td>6340</td>\n",
       "    </tr>\n",
       "    <tr>\n",
       "      <th>truck</th>\n",
       "      <td>15107.263720</td>\n",
       "      <td>11152</td>\n",
       "    </tr>\n",
       "    <tr>\n",
       "      <th>SUV</th>\n",
       "      <td>10435.610622</td>\n",
       "      <td>11937</td>\n",
       "    </tr>\n",
       "    <tr>\n",
       "      <th>sedan</th>\n",
       "      <td>6969.687775</td>\n",
       "      <td>12033</td>\n",
       "    </tr>\n",
       "  </tbody>\n",
       "</table>\n",
       "</div>"
      ],
      "text/plain": [
       "               mean_price  total_ad\n",
       "type                               \n",
       "bus          17445.913043        23\n",
       "offroad      14292.989071       183\n",
       "other        10482.776371       237\n",
       "convertible  12853.376068       351\n",
       "van           8820.914384       584\n",
       "hatchback     6838.923535      1007\n",
       "mini-van      8046.564080      1147\n",
       "wagon         8975.517928      1506\n",
       "coupe        13476.049285      2029\n",
       "pickup       15007.119558      6340\n",
       "truck        15107.263720     11152\n",
       "SUV          10435.610622     11937\n",
       "sedan         6969.687775     12033"
      ]
     },
     "execution_count": 45,
     "metadata": {},
     "output_type": "execute_result"
    }
   ],
   "source": [
    "ads_listed= vehicles_cleaned.pivot_table(index='type', values='price', aggfunc=['mean', 'count'])\n",
    "ads_listed.columns = ['mean_price', 'total_ad']\n",
    "ads_listed.sort_values(by='total_ad')"
   ]
  },
  {
   "cell_type": "code",
   "execution_count": 46,
   "metadata": {},
   "outputs": [
    {
     "data": {
      "image/png": "[encoded data removed]",
      "text/plain": [
       "<Figure size 432x288 with 1 Axes>"
      ]
     },
     "metadata": {
      "needs_background": "light"
     },
     "output_type": "display_data"
    }
   ],
   "source": [
    "ads_listed.plot(kind='bar', title='Avg Price per Vehicle advertisements', grid=True)\n",
    "plt.show()"
   ]
  },
  {
   "cell_type": "markdown",
   "metadata": {},
   "source": [
    "Sedan and SUV have the highest amount of ads placed."
   ]
  },
  {
   "cell_type": "code",
   "execution_count": 47,
   "metadata": {},
   "outputs": [
    {
     "data": {
      "text/html": [
       "<div>\n",
       "<style scoped>\n",
       "    .dataframe tbody tr th:only-of-type {\n",
       "        vertical-align: middle;\n",
       "    }\n",
       "\n",
       "    .dataframe tbody tr th {\n",
       "        vertical-align: top;\n",
       "    }\n",
       "\n",
       "    .dataframe thead th {\n",
       "        text-align: right;\n",
       "    }\n",
       "</style>\n",
       "<table border=\"1\" class=\"dataframe\">\n",
       "  <thead>\n",
       "    <tr style=\"text-align: right;\">\n",
       "      <th></th>\n",
       "      <th>price</th>\n",
       "    </tr>\n",
       "    <tr>\n",
       "      <th>type</th>\n",
       "      <th></th>\n",
       "    </tr>\n",
       "  </thead>\n",
       "  <tbody>\n",
       "    <tr>\n",
       "      <th>hatchback</th>\n",
       "      <td>6838.923535</td>\n",
       "    </tr>\n",
       "    <tr>\n",
       "      <th>sedan</th>\n",
       "      <td>6969.687775</td>\n",
       "    </tr>\n",
       "    <tr>\n",
       "      <th>mini-van</th>\n",
       "      <td>8046.564080</td>\n",
       "    </tr>\n",
       "    <tr>\n",
       "      <th>van</th>\n",
       "      <td>8820.914384</td>\n",
       "    </tr>\n",
       "    <tr>\n",
       "      <th>wagon</th>\n",
       "      <td>8975.517928</td>\n",
       "    </tr>\n",
       "    <tr>\n",
       "      <th>SUV</th>\n",
       "      <td>10435.610622</td>\n",
       "    </tr>\n",
       "    <tr>\n",
       "      <th>other</th>\n",
       "      <td>10482.776371</td>\n",
       "    </tr>\n",
       "    <tr>\n",
       "      <th>convertible</th>\n",
       "      <td>12853.376068</td>\n",
       "    </tr>\n",
       "    <tr>\n",
       "      <th>coupe</th>\n",
       "      <td>13476.049285</td>\n",
       "    </tr>\n",
       "    <tr>\n",
       "      <th>offroad</th>\n",
       "      <td>14292.989071</td>\n",
       "    </tr>\n",
       "    <tr>\n",
       "      <th>pickup</th>\n",
       "      <td>15007.119558</td>\n",
       "    </tr>\n",
       "    <tr>\n",
       "      <th>truck</th>\n",
       "      <td>15107.263720</td>\n",
       "    </tr>\n",
       "    <tr>\n",
       "      <th>bus</th>\n",
       "      <td>17445.913043</td>\n",
       "    </tr>\n",
       "  </tbody>\n",
       "</table>\n",
       "</div>"
      ],
      "text/plain": [
       "                    price\n",
       "type                     \n",
       "hatchback     6838.923535\n",
       "sedan         6969.687775\n",
       "mini-van      8046.564080\n",
       "van           8820.914384\n",
       "wagon         8975.517928\n",
       "SUV          10435.610622\n",
       "other        10482.776371\n",
       "convertible  12853.376068\n",
       "coupe        13476.049285\n",
       "offroad      14292.989071\n",
       "pickup       15007.119558\n",
       "truck        15107.263720\n",
       "bus          17445.913043"
      ]
     },
     "execution_count": 47,
     "metadata": {},
     "output_type": "execute_result"
    }
   ],
   "source": [
    "avg_price= vehicles_cleaned.pivot_table(index='type', values='price', aggfunc= 'mean')\n",
    "avg_price.sort_values(by='price')"
   ]
  },
  {
   "cell_type": "code",
   "execution_count": 48,
   "metadata": {},
   "outputs": [
    {
     "data": {
      "image/png": "[encoded data removed]",
      "text/plain": [
       "<Figure size 432x288 with 1 Axes>"
      ]
     },
     "metadata": {
      "needs_background": "light"
     },
     "output_type": "display_data"
    }
   ],
   "source": [
    "avg_price.plot(kind='bar', title='Price per vehicle', grid=True);"
   ]
  },
  {
   "cell_type": "markdown",
   "metadata": {},
   "source": [
    "There seems to be no correlation with prices and advertisements."
   ]
  },
  {
   "cell_type": "markdown",
   "metadata": {},
   "source": [
    "## Price factors"
   ]
  },
  {
   "cell_type": "code",
   "execution_count": 49,
   "metadata": {},
   "outputs": [
    {
     "data": {
      "text/html": [
       "<div>\n",
       "<style scoped>\n",
       "    .dataframe tbody tr th:only-of-type {\n",
       "        vertical-align: middle;\n",
       "    }\n",
       "\n",
       "    .dataframe tbody tr th {\n",
       "        vertical-align: top;\n",
       "    }\n",
       "\n",
       "    .dataframe thead th {\n",
       "        text-align: right;\n",
       "    }\n",
       "</style>\n",
       "<table border=\"1\" class=\"dataframe\">\n",
       "  <thead>\n",
       "    <tr style=\"text-align: right;\">\n",
       "      <th></th>\n",
       "      <th>price</th>\n",
       "      <th>odometer</th>\n",
       "      <th>vehicle_age</th>\n",
       "      <th>condition</th>\n",
       "      <th>avg_mileage</th>\n",
       "    </tr>\n",
       "  </thead>\n",
       "  <tbody>\n",
       "    <tr>\n",
       "      <th>price</th>\n",
       "      <td>1.000000</td>\n",
       "      <td>-0.564217</td>\n",
       "      <td>-0.619790</td>\n",
       "      <td>0.293757</td>\n",
       "      <td>-0.565167</td>\n",
       "    </tr>\n",
       "    <tr>\n",
       "      <th>odometer</th>\n",
       "      <td>-0.564217</td>\n",
       "      <td>1.000000</td>\n",
       "      <td>0.626392</td>\n",
       "      <td>-0.343310</td>\n",
       "      <td>0.999990</td>\n",
       "    </tr>\n",
       "    <tr>\n",
       "      <th>vehicle_age</th>\n",
       "      <td>-0.619790</td>\n",
       "      <td>0.626392</td>\n",
       "      <td>1.000000</td>\n",
       "      <td>-0.317716</td>\n",
       "      <td>0.629239</td>\n",
       "    </tr>\n",
       "    <tr>\n",
       "      <th>condition</th>\n",
       "      <td>0.293757</td>\n",
       "      <td>-0.343310</td>\n",
       "      <td>-0.317716</td>\n",
       "      <td>1.000000</td>\n",
       "      <td>-0.343772</td>\n",
       "    </tr>\n",
       "    <tr>\n",
       "      <th>avg_mileage</th>\n",
       "      <td>-0.565167</td>\n",
       "      <td>0.999990</td>\n",
       "      <td>0.629239</td>\n",
       "      <td>-0.343772</td>\n",
       "      <td>1.000000</td>\n",
       "    </tr>\n",
       "  </tbody>\n",
       "</table>\n",
       "</div>"
      ],
      "text/plain": [
       "                price  odometer  vehicle_age  condition  avg_mileage\n",
       "price        1.000000 -0.564217    -0.619790   0.293757    -0.565167\n",
       "odometer    -0.564217  1.000000     0.626392  -0.343310     0.999990\n",
       "vehicle_age -0.619790  0.626392     1.000000  -0.317716     0.629239\n",
       "condition    0.293757 -0.343310    -0.317716   1.000000    -0.343772\n",
       "avg_mileage -0.565167  0.999990     0.629239  -0.343772     1.000000"
      ]
     },
     "execution_count": 49,
     "metadata": {},
     "output_type": "execute_result"
    }
   ],
   "source": [
    "vehicles_cleaned.query('type == \"sedan\"')[['price','odometer', 'vehicle_age', 'condition', 'avg_mileage']].corr()"
   ]
  },
  {
   "cell_type": "code",
   "execution_count": 50,
   "metadata": {},
   "outputs": [
    {
     "data": {
      "image/png": "[encoded data removed]",
      "text/plain": [
       "<Figure size 648x648 with 1 Axes>"
      ]
     },
     "metadata": {
      "needs_background": "light"
     },
     "output_type": "display_data"
    }
   ],
   "source": [
    "vehicles_cleaned.query('type == \"sedan\"').plot(x='vehicle_age', y='price', kind='scatter', title='sedan', figsize=(9, 9));"
   ]
  },
  {
   "cell_type": "code",
   "execution_count": 62,
   "metadata": {},
   "outputs": [
    {
     "data": {
      "image/png": "[encoded data removed]",
      "text/plain": [
       "<Figure size 648x648 with 1 Axes>"
      ]
     },
     "metadata": {
      "needs_background": "light"
     },
     "output_type": "display_data"
    }
   ],
   "source": [
    "vehicles_cleaned.query('type == \"sedan\"').plot(x='odometer', y='price', kind='scatter', title='sedan', figsize=(9, 9));"
   ]
  },
  {
   "cell_type": "code",
   "execution_count": 52,
   "metadata": {},
   "outputs": [
    {
     "data": {
      "image/png": "[encoded data removed]",
      "text/plain": [
       "<Figure size 432x288 with 1 Axes>"
      ]
     },
     "metadata": {
      "needs_background": "light"
     },
     "output_type": "display_data"
    }
   ],
   "source": [
    "vehicles_cleaned.query('type == \"sedan\"').boxplot(by='condition', column='price');"
   ]
  },
  {
   "cell_type": "code",
   "execution_count": 67,
   "metadata": {},
   "outputs": [
    {
     "data": {
      "image/png": "[encoded data removed]",
      "text/plain": [
       "<Figure size 432x288 with 1 Axes>"
      ]
     },
     "metadata": {
      "needs_background": "light"
     },
     "output_type": "display_data"
    }
   ],
   "source": [
    "vehicles_cleaned.query('type == \"sedan\"').boxplot(by='transmission', column='price');"
   ]
  },
  {
   "cell_type": "code",
   "execution_count": 71,
   "metadata": {},
   "outputs": [
    {
     "data": {
      "image/png": "[encoded data removed]",
      "text/plain": [
       "<Figure size 1080x360 with 1 Axes>"
      ]
     },
     "metadata": {
      "needs_background": "light"
     },
     "output_type": "display_data"
    }
   ],
   "source": [
    "vehicles_cleaned.query('type == \"sedan\"').boxplot(by='paint_color', column='price', figsize=(15, 5));"
   ]
  },
  {
   "cell_type": "code",
   "execution_count": 56,
   "metadata": {
    "scrolled": true
   },
   "outputs": [
    {
     "data": {
      "text/html": [
       "<div>\n",
       "<style scoped>\n",
       "    .dataframe tbody tr th:only-of-type {\n",
       "        vertical-align: middle;\n",
       "    }\n",
       "\n",
       "    .dataframe tbody tr th {\n",
       "        vertical-align: top;\n",
       "    }\n",
       "\n",
       "    .dataframe thead th {\n",
       "        text-align: right;\n",
       "    }\n",
       "</style>\n",
       "<table border=\"1\" class=\"dataframe\">\n",
       "  <thead>\n",
       "    <tr style=\"text-align: right;\">\n",
       "      <th></th>\n",
       "      <th>price</th>\n",
       "      <th>odometer</th>\n",
       "      <th>vehicle_age</th>\n",
       "      <th>condition</th>\n",
       "      <th>avg_mileage</th>\n",
       "    </tr>\n",
       "  </thead>\n",
       "  <tbody>\n",
       "    <tr>\n",
       "      <th>price</th>\n",
       "      <td>1.000000</td>\n",
       "      <td>-0.523323</td>\n",
       "      <td>-0.578692</td>\n",
       "      <td>0.263609</td>\n",
       "      <td>-0.524458</td>\n",
       "    </tr>\n",
       "    <tr>\n",
       "      <th>odometer</th>\n",
       "      <td>-0.523323</td>\n",
       "      <td>1.000000</td>\n",
       "      <td>0.631716</td>\n",
       "      <td>-0.343161</td>\n",
       "      <td>0.999988</td>\n",
       "    </tr>\n",
       "    <tr>\n",
       "      <th>vehicle_age</th>\n",
       "      <td>-0.578692</td>\n",
       "      <td>0.631716</td>\n",
       "      <td>1.000000</td>\n",
       "      <td>-0.335155</td>\n",
       "      <td>0.634872</td>\n",
       "    </tr>\n",
       "    <tr>\n",
       "      <th>condition</th>\n",
       "      <td>0.263609</td>\n",
       "      <td>-0.343161</td>\n",
       "      <td>-0.335155</td>\n",
       "      <td>1.000000</td>\n",
       "      <td>-0.343871</td>\n",
       "    </tr>\n",
       "    <tr>\n",
       "      <th>avg_mileage</th>\n",
       "      <td>-0.524458</td>\n",
       "      <td>0.999988</td>\n",
       "      <td>0.634872</td>\n",
       "      <td>-0.343871</td>\n",
       "      <td>1.000000</td>\n",
       "    </tr>\n",
       "  </tbody>\n",
       "</table>\n",
       "</div>"
      ],
      "text/plain": [
       "                price  odometer  vehicle_age  condition  avg_mileage\n",
       "price        1.000000 -0.523323    -0.578692   0.263609    -0.524458\n",
       "odometer    -0.523323  1.000000     0.631716  -0.343161     0.999988\n",
       "vehicle_age -0.578692  0.631716     1.000000  -0.335155     0.634872\n",
       "condition    0.263609 -0.343161    -0.335155   1.000000    -0.343871\n",
       "avg_mileage -0.524458  0.999988     0.634872  -0.343871     1.000000"
      ]
     },
     "execution_count": 56,
     "metadata": {},
     "output_type": "execute_result"
    }
   ],
   "source": [
    "vehicles_cleaned.query('type == \"SUV\"')[['price','odometer', 'vehicle_age', 'condition', 'avg_mileage']].corr()"
   ]
  },
  {
   "cell_type": "code",
   "execution_count": 57,
   "metadata": {},
   "outputs": [
    {
     "data": {
      "image/png": "[encoded data removed]",
      "text/plain": [
       "<Figure size 648x648 with 1 Axes>"
      ]
     },
     "metadata": {
      "needs_background": "light"
     },
     "output_type": "display_data"
    }
   ],
   "source": [
    "vehicles_cleaned.query('type == \"SUV\"').plot(x='vehicle_age', y='price', kind='scatter', title='SUV', figsize=(9, 9));"
   ]
  },
  {
   "cell_type": "code",
   "execution_count": 72,
   "metadata": {},
   "outputs": [
    {
     "data": {
      "image/png": "[encoded data removed]",
      "text/plain": [
       "<Figure size 432x288 with 1 Axes>"
      ]
     },
     "metadata": {
      "needs_background": "light"
     },
     "output_type": "display_data"
    }
   ],
   "source": [
    "vehicles_cleaned.query('type == \"SUV\"').boxplot(by='condition', column='price');"
   ]
  },
  {
   "cell_type": "code",
   "execution_count": 59,
   "metadata": {},
   "outputs": [
    {
     "data": {
      "image/png": "[encoded data removed]",
      "text/plain": [
       "<Figure size 648x648 with 1 Axes>"
      ]
     },
     "metadata": {
      "needs_background": "light"
     },
     "output_type": "display_data"
    }
   ],
   "source": [
    "vehicles_cleaned.query('type == \"SUV\"').plot(x='odometer', y='price', kind='scatter', title='SUV', figsize=(9, 9));"
   ]
  },
  {
   "cell_type": "code",
   "execution_count": 73,
   "metadata": {},
   "outputs": [
    {
     "data": {
      "image/png": "[encoded data removed]",
      "text/plain": [
       "<Figure size 432x288 with 1 Axes>"
      ]
     },
     "metadata": {
      "needs_background": "light"
     },
     "output_type": "display_data"
    }
   ],
   "source": [
    "vehicles_cleaned.query('type == \"sedan\"').boxplot(by='transmission', column='price');"
   ]
  },
  {
   "cell_type": "markdown",
   "metadata": {},
   "source": [
    "For both Sedan and SUV, transmission type does not affect the vehicles price."
   ]
  },
  {
   "cell_type": "code",
   "execution_count": 74,
   "metadata": {},
   "outputs": [
    {
     "data": {
      "image/png": "[encoded data removed]",
      "text/plain": [
       "<Figure size 1080x360 with 1 Axes>"
      ]
     },
     "metadata": {
      "needs_background": "light"
     },
     "output_type": "display_data"
    }
   ],
   "source": [
    "vehicles_cleaned.query('type == \"sedan\"').boxplot(by='paint_color', column='price', figsize=(15, 5));"
   ]
  },
  {
   "cell_type": "markdown",
   "metadata": {},
   "source": [
    "It seems price is affected more by the condition of a car than any other factor. When looking at the boxplots for paint_color it seems that price isnt really affected by the color of a vehicle."
   ]
  },
  {
   "cell_type": "markdown",
   "metadata": {},
   "source": [
    "I'm not sure I quite understand the instructions above. I have used boxplotsfor paint_color and transmission on the mos popula Sedan and SUV"
   ]
  },
  {
   "cell_type": "markdown",
   "metadata": {},
   "source": [
    "## General conclusion\n",
    "\n",
    "Our data first started w/ 51525 rows and 13 columns. After viewing a sample of that data, we found missing values in 5 columns. The highest missing values, making up 50%, were found in the 'is_4wd' column.'is_4wd' was filled with a 0 for cars that did not meet the 4wd criteria. 'paint_color' column did not correlate with any other data and was filled as 'unknown'. The price of a car is dependent on it's miles and it's condition, the missing values of 'odometer' column were filled with the median of both 'model_year' and 'condition' columns. The same was done to fill missing values in model_year but we will be using odometer and condition columns and cylinders will be filled grouping model and model_year.\n",
    "After filling our data, missing values were still found but they made up less than 1% for each column hence they were dropped without affecting our data.\n",
    "We then moved to make changes to our data dtype.'date_posted' dtype was changed from object to datetime as the values are representative of a period in time. Since there arent any numbers after the decimal in 'model_year', 'odometer', and 'cylinders' they can be converted from float to an integer. Lastly, 'is_4wd' was changed to bool as the values in that column are representive of True and False.\n",
    "Enrinching our data consisted of calculating the vehicles age and it's annual mileage. To make such calculations a new column was created , year_of_post, and was derived from date_posted. Our clean data now consisted of 51483 rows and 16 columns.\n",
    "We then studied the datas parameters and found that price was right skwewed and price started at $1. Most cars were sold wihin the range of 5k-9k and a max of 375,000. There were definitely some outliers here. Most vehicles sold were between 4- 7 years and the oldest car was 110. Avg_mileage fell within 36-57 miles a year. Most cars had cylinders of 4, 5 and 6 and the max being 12. Most conditions of the cars were (2)good and (3) excellent. After removing the outliers in the parameters some were still found but we were able to come to a a conclusion that from all the parameters what really affected the purchase of a car was it's condition."
   ]
  }
 ],
 "metadata": {
  "ExecuteTimeLog": [
   {
    "duration": 828,
    "start_time": "2021-11-16T09:21:11.304Z"
   },
   {
    "duration": 893,
    "start_time": "2021-11-16T09:21:17.728Z"
   },
   {
    "duration": 1150,
    "start_time": "2021-11-16T09:21:29.568Z"
   },
   {
    "duration": 3,
    "start_time": "2021-11-16T09:24:14.495Z"
   },
   {
    "duration": 120,
    "start_time": "2021-11-16T09:24:46.630Z"
   },
   {
    "duration": 3,
    "start_time": "2021-11-16T09:28:27.882Z"
   },
   {
    "duration": 4,
    "start_time": "2021-11-16T09:29:54.281Z"
   },
   {
    "duration": 3,
    "start_time": "2021-11-16T09:30:45.936Z"
   },
   {
    "duration": 4,
    "start_time": "2021-11-16T09:31:06.300Z"
   },
   {
    "duration": 113,
    "start_time": "2021-11-16T09:31:37.208Z"
   },
   {
    "duration": 143,
    "start_time": "2021-11-16T09:31:48.656Z"
   },
   {
    "duration": 98,
    "start_time": "2021-11-16T09:31:55.678Z"
   },
   {
    "duration": 3,
    "start_time": "2021-11-16T09:32:08.535Z"
   },
   {
    "duration": 111,
    "start_time": "2021-11-16T09:32:10.120Z"
   },
   {
    "duration": 3,
    "start_time": "2021-11-16T09:32:15.732Z"
   },
   {
    "duration": 4,
    "start_time": "2021-11-16T09:32:29.423Z"
   },
   {
    "duration": 3,
    "start_time": "2021-11-16T10:03:03.074Z"
   },
   {
    "duration": 3,
    "start_time": "2021-11-16T10:10:01.288Z"
   },
   {
    "duration": 3,
    "start_time": "2021-11-16T10:10:46.923Z"
   },
   {
    "duration": 121,
    "start_time": "2021-11-16T10:37:46.494Z"
   },
   {
    "duration": 125,
    "start_time": "2021-11-16T10:38:20.632Z"
   },
   {
    "duration": 112,
    "start_time": "2021-11-16T10:46:53.001Z"
   },
   {
    "duration": 110,
    "start_time": "2021-11-16T10:48:25.775Z"
   },
   {
    "duration": 3,
    "start_time": "2021-11-16T10:50:18.720Z"
   },
   {
    "duration": 4,
    "start_time": "2021-11-16T10:50:37.649Z"
   },
   {
    "duration": 2,
    "start_time": "2021-11-16T10:50:51.884Z"
   },
   {
    "duration": 3,
    "start_time": "2021-11-16T10:51:56.237Z"
   },
   {
    "duration": 101,
    "start_time": "2021-11-16T10:53:13.791Z"
   },
   {
    "duration": 3,
    "start_time": "2021-11-16T10:55:59.186Z"
   },
   {
    "duration": 3,
    "start_time": "2021-11-16T10:56:10.751Z"
   },
   {
    "duration": 3,
    "start_time": "2021-11-16T10:56:49.038Z"
   },
   {
    "duration": 3,
    "start_time": "2021-11-16T10:56:49.174Z"
   },
   {
    "duration": 4,
    "start_time": "2021-11-16T10:56:49.414Z"
   },
   {
    "duration": 3,
    "start_time": "2021-11-16T10:56:49.680Z"
   },
   {
    "duration": 3,
    "start_time": "2021-11-16T10:56:50.370Z"
   },
   {
    "duration": 114,
    "start_time": "2021-11-16T10:59:34.518Z"
   },
   {
    "duration": 3,
    "start_time": "2021-11-16T11:01:41.201Z"
   },
   {
    "duration": 116,
    "start_time": "2021-11-16T11:01:48.754Z"
   },
   {
    "duration": 3,
    "start_time": "2021-11-16T11:02:16.685Z"
   },
   {
    "duration": 3,
    "start_time": "2021-11-16T11:02:19.479Z"
   },
   {
    "duration": 3,
    "start_time": "2021-11-16T11:02:47.067Z"
   },
   {
    "duration": 3,
    "start_time": "2021-11-16T11:02:49.353Z"
   },
   {
    "duration": 3,
    "start_time": "2021-11-16T11:03:07.835Z"
   },
   {
    "duration": 3,
    "start_time": "2021-11-16T11:03:07.953Z"
   },
   {
    "duration": 112,
    "start_time": "2021-11-16T11:07:52.072Z"
   },
   {
    "duration": 187,
    "start_time": "2021-11-16T11:09:23.468Z"
   },
   {
    "duration": 4,
    "start_time": "2021-11-16T11:10:01.455Z"
   },
   {
    "duration": 3,
    "start_time": "2021-11-16T11:10:05.069Z"
   },
   {
    "duration": 4,
    "start_time": "2021-11-16T11:10:13.376Z"
   },
   {
    "duration": 3,
    "start_time": "2021-11-16T11:10:14.434Z"
   },
   {
    "duration": 3,
    "start_time": "2021-11-16T11:10:22.853Z"
   },
   {
    "duration": 4,
    "start_time": "2021-11-16T11:27:29.279Z"
   },
   {
    "duration": 4,
    "start_time": "2021-11-16T11:29:08.919Z"
   },
   {
    "duration": 118,
    "start_time": "2021-11-16T11:29:46.703Z"
   },
   {
    "duration": 437,
    "start_time": "2021-11-16T11:36:02.181Z"
   },
   {
    "duration": 157,
    "start_time": "2021-11-16T11:36:14.388Z"
   },
   {
    "duration": 207,
    "start_time": "2021-11-16T11:47:15.898Z"
   },
   {
    "duration": 3,
    "start_time": "2021-11-16T11:53:52.092Z"
   },
   {
    "duration": 3,
    "start_time": "2021-11-16T11:53:52.236Z"
   },
   {
    "duration": 3,
    "start_time": "2021-11-16T11:59:12.005Z"
   },
   {
    "duration": 112,
    "start_time": "2021-11-16T12:00:33.446Z"
   },
   {
    "duration": 3,
    "start_time": "2021-11-16T12:02:14.453Z"
   },
   {
    "duration": 3,
    "start_time": "2021-11-16T12:02:39.512Z"
   },
   {
    "duration": 106,
    "start_time": "2021-11-16T12:03:03.460Z"
   },
   {
    "duration": 907,
    "start_time": "2022-05-09T16:09:20.637Z"
   },
   {
    "duration": 571,
    "start_time": "2022-05-09T16:14:54.028Z"
   },
   {
    "duration": 120,
    "start_time": "2022-05-09T16:15:47.190Z"
   },
   {
    "duration": 24,
    "start_time": "2022-05-09T16:15:51.770Z"
   },
   {
    "duration": 108,
    "start_time": "2022-05-09T16:16:11.837Z"
   },
   {
    "duration": 30,
    "start_time": "2022-05-09T16:16:15.334Z"
   },
   {
    "duration": 26,
    "start_time": "2022-05-09T16:16:17.958Z"
   },
   {
    "duration": 33,
    "start_time": "2022-05-09T16:16:25.033Z"
   },
   {
    "duration": 747,
    "start_time": "2022-05-09T16:16:36.828Z"
   },
   {
    "duration": 96,
    "start_time": "2022-05-09T16:16:37.577Z"
   },
   {
    "duration": 26,
    "start_time": "2022-05-09T16:16:37.674Z"
   },
   {
    "duration": 92,
    "start_time": "2022-05-09T16:16:37.702Z"
   },
   {
    "duration": 0,
    "start_time": "2022-05-09T16:16:37.796Z"
   },
   {
    "duration": 0,
    "start_time": "2022-05-09T16:16:37.797Z"
   },
   {
    "duration": 0,
    "start_time": "2022-05-09T16:16:37.798Z"
   },
   {
    "duration": 0,
    "start_time": "2022-05-09T16:16:37.800Z"
   },
   {
    "duration": 1,
    "start_time": "2022-05-09T16:16:37.800Z"
   },
   {
    "duration": 0,
    "start_time": "2022-05-09T16:16:37.801Z"
   },
   {
    "duration": 0,
    "start_time": "2022-05-09T16:16:37.802Z"
   },
   {
    "duration": 0,
    "start_time": "2022-05-09T16:16:37.803Z"
   },
   {
    "duration": 0,
    "start_time": "2022-05-09T16:16:37.804Z"
   },
   {
    "duration": 0,
    "start_time": "2022-05-09T16:16:37.805Z"
   },
   {
    "duration": 0,
    "start_time": "2022-05-09T16:16:37.806Z"
   },
   {
    "duration": 0,
    "start_time": "2022-05-09T16:16:37.807Z"
   },
   {
    "duration": 0,
    "start_time": "2022-05-09T16:16:37.823Z"
   },
   {
    "duration": 0,
    "start_time": "2022-05-09T16:16:37.826Z"
   },
   {
    "duration": 0,
    "start_time": "2022-05-09T16:16:37.828Z"
   },
   {
    "duration": 25,
    "start_time": "2022-05-09T16:16:48.561Z"
   },
   {
    "duration": 11,
    "start_time": "2022-05-09T16:17:34.809Z"
   },
   {
    "duration": 27,
    "start_time": "2022-05-09T16:17:46.637Z"
   },
   {
    "duration": 22,
    "start_time": "2022-05-09T16:17:53.609Z"
   },
   {
    "duration": 25,
    "start_time": "2022-05-09T16:18:01.407Z"
   },
   {
    "duration": 4,
    "start_time": "2022-05-09T16:53:59.450Z"
   },
   {
    "duration": 101,
    "start_time": "2022-05-09T16:54:01.071Z"
   },
   {
    "duration": 26,
    "start_time": "2022-05-09T16:54:02.999Z"
   },
   {
    "duration": 30,
    "start_time": "2022-05-09T16:54:03.619Z"
   },
   {
    "duration": 30,
    "start_time": "2022-05-09T16:55:12.760Z"
   },
   {
    "duration": 37,
    "start_time": "2022-05-09T16:55:20.330Z"
   },
   {
    "duration": 8,
    "start_time": "2022-05-09T16:55:52.083Z"
   },
   {
    "duration": 4,
    "start_time": "2022-05-09T16:55:57.397Z"
   },
   {
    "duration": 8,
    "start_time": "2022-05-09T16:56:22.746Z"
   },
   {
    "duration": 22,
    "start_time": "2022-05-09T16:56:29.286Z"
   },
   {
    "duration": 8,
    "start_time": "2022-05-09T16:57:06.616Z"
   },
   {
    "duration": 43,
    "start_time": "2022-05-09T16:57:10.655Z"
   },
   {
    "duration": 40,
    "start_time": "2022-05-09T18:46:56.808Z"
   },
   {
    "duration": 710,
    "start_time": "2022-05-09T18:47:14.655Z"
   },
   {
    "duration": 97,
    "start_time": "2022-05-09T18:47:15.367Z"
   },
   {
    "duration": 29,
    "start_time": "2022-05-09T18:47:15.466Z"
   },
   {
    "duration": 38,
    "start_time": "2022-05-09T18:47:15.498Z"
   },
   {
    "duration": 5,
    "start_time": "2022-05-09T18:47:15.538Z"
   },
   {
    "duration": 22,
    "start_time": "2022-05-09T18:47:15.545Z"
   },
   {
    "duration": 71,
    "start_time": "2022-05-09T18:47:15.568Z"
   },
   {
    "duration": 3,
    "start_time": "2022-05-09T18:47:15.640Z"
   },
   {
    "duration": 5,
    "start_time": "2022-05-09T18:47:15.645Z"
   },
   {
    "duration": 4,
    "start_time": "2022-05-09T18:47:15.653Z"
   },
   {
    "duration": 4,
    "start_time": "2022-05-09T18:47:15.659Z"
   },
   {
    "duration": 8,
    "start_time": "2022-05-09T18:47:15.664Z"
   },
   {
    "duration": 4,
    "start_time": "2022-05-09T18:47:15.674Z"
   },
   {
    "duration": 8,
    "start_time": "2022-05-09T18:47:15.679Z"
   },
   {
    "duration": 8,
    "start_time": "2022-05-09T18:47:15.689Z"
   },
   {
    "duration": 2,
    "start_time": "2022-05-09T18:47:15.723Z"
   },
   {
    "duration": 5,
    "start_time": "2022-05-09T18:47:15.727Z"
   },
   {
    "duration": 17,
    "start_time": "2022-05-09T18:47:15.734Z"
   },
   {
    "duration": 9,
    "start_time": "2022-05-09T18:47:15.753Z"
   },
   {
    "duration": 9,
    "start_time": "2022-05-09T18:47:15.764Z"
   },
   {
    "duration": 9,
    "start_time": "2022-05-09T18:47:15.775Z"
   },
   {
    "duration": 9,
    "start_time": "2022-05-09T18:47:15.785Z"
   },
   {
    "duration": 91,
    "start_time": "2022-05-09T19:17:31.805Z"
   },
   {
    "duration": 772,
    "start_time": "2022-05-09T19:17:38.721Z"
   },
   {
    "duration": 98,
    "start_time": "2022-05-09T19:17:39.495Z"
   },
   {
    "duration": 28,
    "start_time": "2022-05-09T19:17:39.595Z"
   },
   {
    "duration": 28,
    "start_time": "2022-05-09T19:17:39.626Z"
   },
   {
    "duration": 4,
    "start_time": "2022-05-09T19:17:39.657Z"
   },
   {
    "duration": 22,
    "start_time": "2022-05-09T19:17:39.663Z"
   },
   {
    "duration": 79,
    "start_time": "2022-05-09T19:17:39.687Z"
   },
   {
    "duration": 101,
    "start_time": "2022-05-09T19:17:39.767Z"
   },
   {
    "duration": 0,
    "start_time": "2022-05-09T19:17:39.870Z"
   },
   {
    "duration": 0,
    "start_time": "2022-05-09T19:17:39.871Z"
   },
   {
    "duration": 0,
    "start_time": "2022-05-09T19:17:39.872Z"
   },
   {
    "duration": 0,
    "start_time": "2022-05-09T19:17:39.873Z"
   },
   {
    "duration": 0,
    "start_time": "2022-05-09T19:17:39.874Z"
   },
   {
    "duration": 0,
    "start_time": "2022-05-09T19:17:39.875Z"
   },
   {
    "duration": 0,
    "start_time": "2022-05-09T19:17:39.876Z"
   },
   {
    "duration": 0,
    "start_time": "2022-05-09T19:17:39.877Z"
   },
   {
    "duration": 0,
    "start_time": "2022-05-09T19:17:39.878Z"
   },
   {
    "duration": 0,
    "start_time": "2022-05-09T19:17:39.880Z"
   },
   {
    "duration": 0,
    "start_time": "2022-05-09T19:17:39.880Z"
   },
   {
    "duration": 0,
    "start_time": "2022-05-09T19:17:39.882Z"
   },
   {
    "duration": 0,
    "start_time": "2022-05-09T19:17:39.882Z"
   },
   {
    "duration": 0,
    "start_time": "2022-05-09T19:17:39.883Z"
   },
   {
    "duration": 0,
    "start_time": "2022-05-09T19:17:39.885Z"
   },
   {
    "duration": 24,
    "start_time": "2022-05-09T19:17:50.247Z"
   },
   {
    "duration": 1152,
    "start_time": "2022-05-10T01:07:40.309Z"
   },
   {
    "duration": 325,
    "start_time": "2022-05-10T01:07:41.464Z"
   },
   {
    "duration": 36,
    "start_time": "2022-05-10T01:07:41.791Z"
   },
   {
    "duration": 58,
    "start_time": "2022-05-10T01:07:41.829Z"
   },
   {
    "duration": 5,
    "start_time": "2022-05-10T01:07:41.890Z"
   },
   {
    "duration": 29,
    "start_time": "2022-05-10T01:07:41.897Z"
   },
   {
    "duration": 83,
    "start_time": "2022-05-10T01:07:41.927Z"
   },
   {
    "duration": 29,
    "start_time": "2022-05-10T01:07:42.013Z"
   },
   {
    "duration": 3,
    "start_time": "2022-05-10T01:07:42.044Z"
   },
   {
    "duration": 33,
    "start_time": "2022-05-10T01:07:42.049Z"
   },
   {
    "duration": 8,
    "start_time": "2022-05-10T01:07:42.085Z"
   },
   {
    "duration": 5,
    "start_time": "2022-05-10T01:07:42.095Z"
   },
   {
    "duration": 6,
    "start_time": "2022-05-10T01:07:42.102Z"
   },
   {
    "duration": 7,
    "start_time": "2022-05-10T01:07:42.113Z"
   },
   {
    "duration": 6,
    "start_time": "2022-05-10T01:07:42.122Z"
   },
   {
    "duration": 6,
    "start_time": "2022-05-10T01:07:42.130Z"
   },
   {
    "duration": 6,
    "start_time": "2022-05-10T01:07:42.138Z"
   },
   {
    "duration": 37,
    "start_time": "2022-05-10T01:07:42.146Z"
   },
   {
    "duration": 7,
    "start_time": "2022-05-10T01:07:42.185Z"
   },
   {
    "duration": 6,
    "start_time": "2022-05-10T01:07:42.194Z"
   },
   {
    "duration": 7,
    "start_time": "2022-05-10T01:07:42.202Z"
   },
   {
    "duration": 10,
    "start_time": "2022-05-10T01:07:42.211Z"
   },
   {
    "duration": 8,
    "start_time": "2022-05-10T01:07:42.223Z"
   },
   {
    "duration": 8,
    "start_time": "2022-05-10T01:09:48.334Z"
   },
   {
    "duration": 9,
    "start_time": "2022-05-10T01:10:00.941Z"
   },
   {
    "duration": 10,
    "start_time": "2022-05-10T01:11:05.493Z"
   },
   {
    "duration": 8,
    "start_time": "2022-05-10T01:11:16.137Z"
   },
   {
    "duration": 9,
    "start_time": "2022-05-10T01:11:32.171Z"
   },
   {
    "duration": 13,
    "start_time": "2022-05-10T01:12:39.029Z"
   },
   {
    "duration": 925,
    "start_time": "2022-05-10T12:58:55.347Z"
   },
   {
    "duration": 101,
    "start_time": "2022-05-10T12:58:56.274Z"
   },
   {
    "duration": 31,
    "start_time": "2022-05-10T12:58:56.377Z"
   },
   {
    "duration": 41,
    "start_time": "2022-05-10T12:58:56.410Z"
   },
   {
    "duration": 5,
    "start_time": "2022-05-10T12:58:56.452Z"
   },
   {
    "duration": 26,
    "start_time": "2022-05-10T12:58:56.458Z"
   },
   {
    "duration": 68,
    "start_time": "2022-05-10T12:58:56.486Z"
   },
   {
    "duration": 7,
    "start_time": "2022-05-10T12:58:56.555Z"
   },
   {
    "duration": 8,
    "start_time": "2022-05-10T12:58:56.564Z"
   },
   {
    "duration": 16,
    "start_time": "2022-05-10T12:58:56.575Z"
   },
   {
    "duration": 111,
    "start_time": "2022-05-10T12:58:56.592Z"
   },
   {
    "duration": 0,
    "start_time": "2022-05-10T12:58:56.705Z"
   },
   {
    "duration": 0,
    "start_time": "2022-05-10T12:58:56.707Z"
   },
   {
    "duration": 1,
    "start_time": "2022-05-10T12:58:56.708Z"
   },
   {
    "duration": 0,
    "start_time": "2022-05-10T12:58:56.711Z"
   },
   {
    "duration": 0,
    "start_time": "2022-05-10T12:58:56.713Z"
   },
   {
    "duration": 0,
    "start_time": "2022-05-10T12:58:56.714Z"
   },
   {
    "duration": 0,
    "start_time": "2022-05-10T12:58:56.734Z"
   },
   {
    "duration": 0,
    "start_time": "2022-05-10T12:58:56.736Z"
   },
   {
    "duration": 0,
    "start_time": "2022-05-10T12:58:56.738Z"
   },
   {
    "duration": 0,
    "start_time": "2022-05-10T12:58:56.740Z"
   },
   {
    "duration": 0,
    "start_time": "2022-05-10T12:58:56.741Z"
   },
   {
    "duration": 0,
    "start_time": "2022-05-10T12:58:56.742Z"
   },
   {
    "duration": 0,
    "start_time": "2022-05-10T12:58:56.743Z"
   },
   {
    "duration": 0,
    "start_time": "2022-05-10T12:58:56.745Z"
   },
   {
    "duration": 0,
    "start_time": "2022-05-10T12:58:56.746Z"
   },
   {
    "duration": 8,
    "start_time": "2022-05-10T12:59:35.546Z"
   },
   {
    "duration": 7,
    "start_time": "2022-05-10T13:00:13.215Z"
   },
   {
    "duration": 9,
    "start_time": "2022-05-10T13:00:42.428Z"
   },
   {
    "duration": 43,
    "start_time": "2022-05-10T13:04:01.947Z"
   },
   {
    "duration": 159,
    "start_time": "2022-05-10T13:04:03.478Z"
   },
   {
    "duration": 21,
    "start_time": "2022-05-10T13:04:10.668Z"
   },
   {
    "duration": 23,
    "start_time": "2022-05-10T13:04:50.120Z"
   },
   {
    "duration": 9,
    "start_time": "2022-05-10T13:06:46.141Z"
   },
   {
    "duration": 11,
    "start_time": "2022-05-10T13:06:56.973Z"
   },
   {
    "duration": 743,
    "start_time": "2022-05-10T14:16:55.373Z"
   },
   {
    "duration": 96,
    "start_time": "2022-05-10T14:16:56.118Z"
   },
   {
    "duration": 27,
    "start_time": "2022-05-10T14:16:56.216Z"
   },
   {
    "duration": 27,
    "start_time": "2022-05-10T14:16:56.245Z"
   },
   {
    "duration": 4,
    "start_time": "2022-05-10T14:16:56.274Z"
   },
   {
    "duration": 66,
    "start_time": "2022-05-10T14:16:56.279Z"
   },
   {
    "duration": 21,
    "start_time": "2022-05-10T14:16:56.346Z"
   },
   {
    "duration": 22,
    "start_time": "2022-05-10T14:16:56.369Z"
   },
   {
    "duration": 6,
    "start_time": "2022-05-10T14:16:56.392Z"
   },
   {
    "duration": 37,
    "start_time": "2022-05-10T14:16:56.401Z"
   },
   {
    "duration": 8,
    "start_time": "2022-05-10T14:16:56.439Z"
   },
   {
    "duration": 10,
    "start_time": "2022-05-10T14:16:56.449Z"
   },
   {
    "duration": 9,
    "start_time": "2022-05-10T14:16:56.461Z"
   },
   {
    "duration": 2,
    "start_time": "2022-05-10T14:16:56.472Z"
   },
   {
    "duration": 6,
    "start_time": "2022-05-10T14:16:56.476Z"
   },
   {
    "duration": 5,
    "start_time": "2022-05-10T14:16:56.484Z"
   },
   {
    "duration": 5,
    "start_time": "2022-05-10T14:16:56.491Z"
   },
   {
    "duration": 5,
    "start_time": "2022-05-10T14:16:56.498Z"
   },
   {
    "duration": 2,
    "start_time": "2022-05-10T14:16:56.533Z"
   },
   {
    "duration": 11,
    "start_time": "2022-05-10T14:16:56.537Z"
   },
   {
    "duration": 5,
    "start_time": "2022-05-10T14:16:56.550Z"
   },
   {
    "duration": 6,
    "start_time": "2022-05-10T14:16:56.557Z"
   },
   {
    "duration": 6,
    "start_time": "2022-05-10T14:16:56.565Z"
   },
   {
    "duration": 6,
    "start_time": "2022-05-10T14:16:56.572Z"
   },
   {
    "duration": 11,
    "start_time": "2022-05-10T14:16:56.579Z"
   },
   {
    "duration": 7,
    "start_time": "2022-05-10T14:16:56.591Z"
   },
   {
    "duration": 6,
    "start_time": "2022-05-10T14:16:56.599Z"
   },
   {
    "duration": 5,
    "start_time": "2022-05-10T14:16:56.608Z"
   },
   {
    "duration": 4,
    "start_time": "2022-05-10T14:48:09.669Z"
   },
   {
    "duration": 7,
    "start_time": "2022-05-10T14:49:07.584Z"
   },
   {
    "duration": 8,
    "start_time": "2022-05-10T16:08:19.488Z"
   },
   {
    "duration": 6,
    "start_time": "2022-05-10T16:08:20.732Z"
   },
   {
    "duration": 21,
    "start_time": "2022-05-10T16:51:23.029Z"
   },
   {
    "duration": 21,
    "start_time": "2022-05-10T16:51:32.983Z"
   },
   {
    "duration": 758,
    "start_time": "2022-05-10T16:51:39.639Z"
   },
   {
    "duration": 473,
    "start_time": "2022-05-10T16:51:40.399Z"
   },
   {
    "duration": 28,
    "start_time": "2022-05-10T16:51:40.874Z"
   },
   {
    "duration": 25,
    "start_time": "2022-05-10T16:51:40.904Z"
   },
   {
    "duration": 4,
    "start_time": "2022-05-10T16:51:40.934Z"
   },
   {
    "duration": 45,
    "start_time": "2022-05-10T16:51:40.940Z"
   },
   {
    "duration": 21,
    "start_time": "2022-05-10T16:51:40.987Z"
   },
   {
    "duration": 45,
    "start_time": "2022-05-10T16:51:41.010Z"
   },
   {
    "duration": 13,
    "start_time": "2022-05-10T16:51:41.057Z"
   },
   {
    "duration": 6,
    "start_time": "2022-05-10T16:51:41.074Z"
   },
   {
    "duration": 8,
    "start_time": "2022-05-10T16:51:41.082Z"
   },
   {
    "duration": 9,
    "start_time": "2022-05-10T16:51:41.092Z"
   },
   {
    "duration": 5,
    "start_time": "2022-05-10T16:51:41.132Z"
   },
   {
    "duration": 9,
    "start_time": "2022-05-10T16:51:41.139Z"
   },
   {
    "duration": 11,
    "start_time": "2022-05-10T16:51:41.150Z"
   },
   {
    "duration": 8,
    "start_time": "2022-05-10T16:51:41.163Z"
   },
   {
    "duration": 2,
    "start_time": "2022-05-10T16:51:41.173Z"
   },
   {
    "duration": 5,
    "start_time": "2022-05-10T16:51:41.177Z"
   },
   {
    "duration": 5,
    "start_time": "2022-05-10T16:51:41.184Z"
   },
   {
    "duration": 43,
    "start_time": "2022-05-10T16:51:41.191Z"
   },
   {
    "duration": 6,
    "start_time": "2022-05-10T16:51:41.236Z"
   },
   {
    "duration": 5,
    "start_time": "2022-05-10T16:51:41.244Z"
   },
   {
    "duration": 6,
    "start_time": "2022-05-10T16:51:41.251Z"
   },
   {
    "duration": 6,
    "start_time": "2022-05-10T16:51:41.259Z"
   },
   {
    "duration": 5,
    "start_time": "2022-05-10T16:51:41.268Z"
   },
   {
    "duration": 6,
    "start_time": "2022-05-10T16:51:41.274Z"
   },
   {
    "duration": 5,
    "start_time": "2022-05-10T16:51:41.282Z"
   },
   {
    "duration": 4,
    "start_time": "2022-05-10T16:51:41.290Z"
   },
   {
    "duration": 5,
    "start_time": "2022-05-10T16:51:41.296Z"
   },
   {
    "duration": 6,
    "start_time": "2022-05-10T16:51:41.303Z"
   },
   {
    "duration": 23,
    "start_time": "2022-05-10T16:51:41.311Z"
   },
   {
    "duration": 23,
    "start_time": "2022-05-10T16:53:08.860Z"
   },
   {
    "duration": 24,
    "start_time": "2022-05-10T16:53:19.600Z"
   },
   {
    "duration": 25,
    "start_time": "2022-05-10T16:53:23.698Z"
   },
   {
    "duration": 750,
    "start_time": "2022-05-10T16:53:36.724Z"
   },
   {
    "duration": 99,
    "start_time": "2022-05-10T16:53:37.476Z"
   },
   {
    "duration": 27,
    "start_time": "2022-05-10T16:53:37.577Z"
   },
   {
    "duration": 39,
    "start_time": "2022-05-10T16:53:37.606Z"
   },
   {
    "duration": 4,
    "start_time": "2022-05-10T16:53:37.648Z"
   },
   {
    "duration": 45,
    "start_time": "2022-05-10T16:53:37.654Z"
   },
   {
    "duration": 38,
    "start_time": "2022-05-10T16:53:37.701Z"
   },
   {
    "duration": 22,
    "start_time": "2022-05-10T16:53:37.741Z"
   },
   {
    "duration": 7,
    "start_time": "2022-05-10T16:53:37.765Z"
   },
   {
    "duration": 4,
    "start_time": "2022-05-10T16:53:37.773Z"
   },
   {
    "duration": 11,
    "start_time": "2022-05-10T16:53:37.779Z"
   },
   {
    "duration": 43,
    "start_time": "2022-05-10T16:53:37.792Z"
   },
   {
    "duration": 4,
    "start_time": "2022-05-10T16:53:37.836Z"
   },
   {
    "duration": 9,
    "start_time": "2022-05-10T16:53:37.844Z"
   },
   {
    "duration": 10,
    "start_time": "2022-05-10T16:53:37.855Z"
   },
   {
    "duration": 11,
    "start_time": "2022-05-10T16:53:37.866Z"
   },
   {
    "duration": 2,
    "start_time": "2022-05-10T16:53:37.879Z"
   },
   {
    "duration": 5,
    "start_time": "2022-05-10T16:53:37.883Z"
   },
   {
    "duration": 6,
    "start_time": "2022-05-10T16:53:37.890Z"
   },
   {
    "duration": 7,
    "start_time": "2022-05-10T16:53:37.934Z"
   },
   {
    "duration": 12,
    "start_time": "2022-05-10T16:53:37.943Z"
   },
   {
    "duration": 6,
    "start_time": "2022-05-10T16:53:37.956Z"
   },
   {
    "duration": 7,
    "start_time": "2022-05-10T16:53:37.964Z"
   },
   {
    "duration": 9,
    "start_time": "2022-05-10T16:53:37.973Z"
   },
   {
    "duration": 7,
    "start_time": "2022-05-10T16:53:37.984Z"
   },
   {
    "duration": 7,
    "start_time": "2022-05-10T16:53:37.992Z"
   },
   {
    "duration": 8,
    "start_time": "2022-05-10T16:53:38.001Z"
   },
   {
    "duration": 7,
    "start_time": "2022-05-10T16:53:38.010Z"
   },
   {
    "duration": 5,
    "start_time": "2022-05-10T16:53:38.019Z"
   },
   {
    "duration": 6,
    "start_time": "2022-05-10T16:53:38.025Z"
   },
   {
    "duration": 9,
    "start_time": "2022-05-10T16:53:38.034Z"
   },
   {
    "duration": 15,
    "start_time": "2022-05-10T16:59:25.996Z"
   },
   {
    "duration": 13,
    "start_time": "2022-05-10T17:00:01.689Z"
   },
   {
    "duration": 732,
    "start_time": "2022-05-10T17:00:41.522Z"
   },
   {
    "duration": 95,
    "start_time": "2022-05-10T17:00:42.256Z"
   },
   {
    "duration": 27,
    "start_time": "2022-05-10T17:00:42.353Z"
   },
   {
    "duration": 26,
    "start_time": "2022-05-10T17:00:42.382Z"
   },
   {
    "duration": 9,
    "start_time": "2022-05-10T17:00:42.411Z"
   },
   {
    "duration": 43,
    "start_time": "2022-05-10T17:00:42.434Z"
   },
   {
    "duration": 21,
    "start_time": "2022-05-10T17:00:42.478Z"
   },
   {
    "duration": 44,
    "start_time": "2022-05-10T17:00:42.501Z"
   },
   {
    "duration": 6,
    "start_time": "2022-05-10T17:00:42.547Z"
   },
   {
    "duration": 13,
    "start_time": "2022-05-10T17:00:42.555Z"
   },
   {
    "duration": 13,
    "start_time": "2022-05-10T17:00:42.570Z"
   },
   {
    "duration": 12,
    "start_time": "2022-05-10T17:00:42.585Z"
   },
   {
    "duration": 2642,
    "start_time": "2022-05-10T17:00:42.599Z"
   },
   {
    "duration": 2592,
    "start_time": "2022-05-10T17:00:45.244Z"
   },
   {
    "duration": 7,
    "start_time": "2022-05-10T17:00:47.838Z"
   },
   {
    "duration": 14,
    "start_time": "2022-05-10T17:00:47.847Z"
   },
   {
    "duration": 13,
    "start_time": "2022-05-10T17:00:47.863Z"
   },
   {
    "duration": 4,
    "start_time": "2022-05-10T17:00:47.878Z"
   },
   {
    "duration": 6,
    "start_time": "2022-05-10T17:00:47.884Z"
   },
   {
    "duration": 5,
    "start_time": "2022-05-10T17:00:47.892Z"
   },
   {
    "duration": 5,
    "start_time": "2022-05-10T17:00:47.898Z"
   },
   {
    "duration": 5,
    "start_time": "2022-05-10T17:00:47.905Z"
   },
   {
    "duration": 3,
    "start_time": "2022-05-10T17:00:47.934Z"
   },
   {
    "duration": 5,
    "start_time": "2022-05-10T17:00:47.938Z"
   },
   {
    "duration": 5,
    "start_time": "2022-05-10T17:00:47.945Z"
   },
   {
    "duration": 5,
    "start_time": "2022-05-10T17:00:47.952Z"
   },
   {
    "duration": 6,
    "start_time": "2022-05-10T17:00:47.959Z"
   },
   {
    "duration": 6,
    "start_time": "2022-05-10T17:00:47.966Z"
   },
   {
    "duration": 8,
    "start_time": "2022-05-10T17:00:47.973Z"
   },
   {
    "duration": 6,
    "start_time": "2022-05-10T17:00:47.983Z"
   },
   {
    "duration": 8,
    "start_time": "2022-05-10T17:00:47.990Z"
   },
   {
    "duration": 6,
    "start_time": "2022-05-10T17:00:47.999Z"
   },
   {
    "duration": 76,
    "start_time": "2022-05-10T17:02:12.161Z"
   },
   {
    "duration": 2441,
    "start_time": "2022-05-10T17:02:22.270Z"
   },
   {
    "duration": 2595,
    "start_time": "2022-05-10T17:02:39.446Z"
   },
   {
    "duration": 717,
    "start_time": "2022-05-10T18:17:04.038Z"
   },
   {
    "duration": 105,
    "start_time": "2022-05-10T18:17:04.757Z"
   },
   {
    "duration": 27,
    "start_time": "2022-05-10T18:17:04.864Z"
   },
   {
    "duration": 25,
    "start_time": "2022-05-10T18:17:04.893Z"
   },
   {
    "duration": 4,
    "start_time": "2022-05-10T18:17:04.934Z"
   },
   {
    "duration": 47,
    "start_time": "2022-05-10T18:17:04.940Z"
   },
   {
    "duration": 22,
    "start_time": "2022-05-10T18:17:04.989Z"
   },
   {
    "duration": 24,
    "start_time": "2022-05-10T18:17:05.034Z"
   },
   {
    "duration": 7,
    "start_time": "2022-05-10T18:17:05.060Z"
   },
   {
    "duration": 13,
    "start_time": "2022-05-10T18:17:05.070Z"
   },
   {
    "duration": 12,
    "start_time": "2022-05-10T18:17:05.085Z"
   },
   {
    "duration": 9,
    "start_time": "2022-05-10T18:17:05.099Z"
   },
   {
    "duration": 2440,
    "start_time": "2022-05-10T18:17:05.110Z"
   },
   {
    "duration": 2344,
    "start_time": "2022-05-10T18:17:07.551Z"
   },
   {
    "duration": 2474,
    "start_time": "2022-05-10T18:17:09.897Z"
   },
   {
    "duration": 7,
    "start_time": "2022-05-10T18:17:12.372Z"
   },
   {
    "duration": 11,
    "start_time": "2022-05-10T18:17:12.381Z"
   },
   {
    "duration": 8,
    "start_time": "2022-05-10T18:17:12.394Z"
   },
   {
    "duration": 2,
    "start_time": "2022-05-10T18:17:12.404Z"
   },
   {
    "duration": 27,
    "start_time": "2022-05-10T18:17:12.407Z"
   },
   {
    "duration": 6,
    "start_time": "2022-05-10T18:17:12.436Z"
   },
   {
    "duration": 5,
    "start_time": "2022-05-10T18:17:12.443Z"
   },
   {
    "duration": 5,
    "start_time": "2022-05-10T18:17:12.449Z"
   },
   {
    "duration": 4,
    "start_time": "2022-05-10T18:17:12.456Z"
   },
   {
    "duration": 5,
    "start_time": "2022-05-10T18:17:12.462Z"
   },
   {
    "duration": 5,
    "start_time": "2022-05-10T18:17:12.469Z"
   },
   {
    "duration": 6,
    "start_time": "2022-05-10T18:17:12.475Z"
   },
   {
    "duration": 3,
    "start_time": "2022-05-10T18:17:12.484Z"
   },
   {
    "duration": 5,
    "start_time": "2022-05-10T18:17:12.488Z"
   },
   {
    "duration": 5,
    "start_time": "2022-05-10T18:17:12.494Z"
   },
   {
    "duration": 5,
    "start_time": "2022-05-10T18:17:12.500Z"
   },
   {
    "duration": 3,
    "start_time": "2022-05-10T18:17:12.534Z"
   },
   {
    "duration": 7,
    "start_time": "2022-05-10T18:17:12.538Z"
   },
   {
    "duration": 872,
    "start_time": "2022-05-10T22:23:21.403Z"
   },
   {
    "duration": 103,
    "start_time": "2022-05-10T22:23:22.277Z"
   },
   {
    "duration": 43,
    "start_time": "2022-05-10T22:23:22.381Z"
   },
   {
    "duration": 23,
    "start_time": "2022-05-10T22:23:22.426Z"
   },
   {
    "duration": 4,
    "start_time": "2022-05-10T22:23:22.451Z"
   },
   {
    "duration": 69,
    "start_time": "2022-05-10T22:23:22.456Z"
   },
   {
    "duration": 21,
    "start_time": "2022-05-10T22:23:22.526Z"
   },
   {
    "duration": 23,
    "start_time": "2022-05-10T22:23:22.548Z"
   },
   {
    "duration": 43,
    "start_time": "2022-05-10T22:23:22.573Z"
   },
   {
    "duration": 6,
    "start_time": "2022-05-10T22:23:22.619Z"
   },
   {
    "duration": 7,
    "start_time": "2022-05-10T22:23:22.627Z"
   },
   {
    "duration": 8,
    "start_time": "2022-05-10T22:23:22.636Z"
   },
   {
    "duration": 2723,
    "start_time": "2022-05-10T22:23:22.645Z"
   },
   {
    "duration": 2534,
    "start_time": "2022-05-10T22:23:25.371Z"
   },
   {
    "duration": 2722,
    "start_time": "2022-05-10T22:23:27.907Z"
   },
   {
    "duration": 6,
    "start_time": "2022-05-10T22:23:30.631Z"
   },
   {
    "duration": 31,
    "start_time": "2022-05-10T22:23:30.639Z"
   },
   {
    "duration": 25,
    "start_time": "2022-05-10T22:23:30.672Z"
   },
   {
    "duration": 3,
    "start_time": "2022-05-10T22:23:30.698Z"
   },
   {
    "duration": 13,
    "start_time": "2022-05-10T22:23:30.702Z"
   },
   {
    "duration": 11,
    "start_time": "2022-05-10T22:23:30.716Z"
   },
   {
    "duration": 8,
    "start_time": "2022-05-10T22:23:30.728Z"
   },
   {
    "duration": 11,
    "start_time": "2022-05-10T22:23:30.737Z"
   },
   {
    "duration": 7,
    "start_time": "2022-05-10T22:23:30.749Z"
   },
   {
    "duration": 8,
    "start_time": "2022-05-10T22:23:30.758Z"
   },
   {
    "duration": 5,
    "start_time": "2022-05-10T22:23:30.767Z"
   },
   {
    "duration": 17,
    "start_time": "2022-05-10T22:23:30.774Z"
   },
   {
    "duration": 9,
    "start_time": "2022-05-10T22:23:30.793Z"
   },
   {
    "duration": 10,
    "start_time": "2022-05-10T22:23:30.804Z"
   },
   {
    "duration": 6,
    "start_time": "2022-05-10T22:23:30.816Z"
   },
   {
    "duration": 14,
    "start_time": "2022-05-10T22:23:30.824Z"
   },
   {
    "duration": 11,
    "start_time": "2022-05-10T22:23:30.840Z"
   },
   {
    "duration": 5,
    "start_time": "2022-05-10T22:23:30.852Z"
   },
   {
    "duration": 646,
    "start_time": "2022-05-10T22:24:11.956Z"
   },
   {
    "duration": 113,
    "start_time": "2022-05-10T22:24:12.604Z"
   },
   {
    "duration": 30,
    "start_time": "2022-05-10T22:24:12.720Z"
   },
   {
    "duration": 25,
    "start_time": "2022-05-10T22:24:12.752Z"
   },
   {
    "duration": 3,
    "start_time": "2022-05-10T22:24:12.779Z"
   },
   {
    "duration": 67,
    "start_time": "2022-05-10T22:24:12.784Z"
   },
   {
    "duration": 21,
    "start_time": "2022-05-10T22:24:12.853Z"
   },
   {
    "duration": 43,
    "start_time": "2022-05-10T22:24:12.876Z"
   },
   {
    "duration": 8,
    "start_time": "2022-05-10T22:24:12.921Z"
   },
   {
    "duration": 4,
    "start_time": "2022-05-10T22:24:12.932Z"
   },
   {
    "duration": 7,
    "start_time": "2022-05-10T22:24:12.938Z"
   },
   {
    "duration": 10,
    "start_time": "2022-05-10T22:24:12.946Z"
   },
   {
    "duration": 2651,
    "start_time": "2022-05-10T22:24:12.958Z"
   },
   {
    "duration": 2533,
    "start_time": "2022-05-10T22:24:15.611Z"
   },
   {
    "duration": 2744,
    "start_time": "2022-05-10T22:24:18.146Z"
   },
   {
    "duration": 7,
    "start_time": "2022-05-10T22:24:20.891Z"
   },
   {
    "duration": 17,
    "start_time": "2022-05-10T22:24:20.910Z"
   },
   {
    "duration": 7,
    "start_time": "2022-05-10T22:24:20.928Z"
   },
   {
    "duration": 3,
    "start_time": "2022-05-10T22:24:20.937Z"
   },
   {
    "duration": 9,
    "start_time": "2022-05-10T22:24:20.942Z"
   },
   {
    "duration": 12,
    "start_time": "2022-05-10T22:24:20.952Z"
   },
   {
    "duration": 15,
    "start_time": "2022-05-10T22:24:20.965Z"
   },
   {
    "duration": 8,
    "start_time": "2022-05-10T22:24:20.982Z"
   },
   {
    "duration": 9,
    "start_time": "2022-05-10T22:24:20.992Z"
   },
   {
    "duration": 13,
    "start_time": "2022-05-10T22:24:21.002Z"
   },
   {
    "duration": 6,
    "start_time": "2022-05-10T22:24:21.017Z"
   },
   {
    "duration": 15,
    "start_time": "2022-05-10T22:24:21.025Z"
   },
   {
    "duration": 6,
    "start_time": "2022-05-10T22:24:21.044Z"
   },
   {
    "duration": 15,
    "start_time": "2022-05-10T22:24:21.052Z"
   },
   {
    "duration": 17,
    "start_time": "2022-05-10T22:24:21.069Z"
   },
   {
    "duration": 7,
    "start_time": "2022-05-10T22:24:21.088Z"
   },
   {
    "duration": 9,
    "start_time": "2022-05-10T22:24:21.097Z"
   },
   {
    "duration": 9,
    "start_time": "2022-05-10T22:24:21.110Z"
   },
   {
    "duration": 672,
    "start_time": "2022-05-10T22:27:58.381Z"
   },
   {
    "duration": 98,
    "start_time": "2022-05-10T22:27:59.055Z"
   },
   {
    "duration": 27,
    "start_time": "2022-05-10T22:27:59.155Z"
   },
   {
    "duration": 42,
    "start_time": "2022-05-10T22:27:59.184Z"
   },
   {
    "duration": 4,
    "start_time": "2022-05-10T22:27:59.227Z"
   },
   {
    "duration": 43,
    "start_time": "2022-05-10T22:27:59.232Z"
   },
   {
    "duration": 40,
    "start_time": "2022-05-10T22:27:59.276Z"
   },
   {
    "duration": 23,
    "start_time": "2022-05-10T22:27:59.323Z"
   },
   {
    "duration": 6,
    "start_time": "2022-05-10T22:27:59.348Z"
   },
   {
    "duration": 3,
    "start_time": "2022-05-10T22:27:59.357Z"
   },
   {
    "duration": 6,
    "start_time": "2022-05-10T22:27:59.362Z"
   },
   {
    "duration": 46,
    "start_time": "2022-05-10T22:27:59.370Z"
   },
   {
    "duration": 8,
    "start_time": "2022-05-10T22:27:59.418Z"
   },
   {
    "duration": 10,
    "start_time": "2022-05-10T22:27:59.428Z"
   },
   {
    "duration": 7,
    "start_time": "2022-05-10T22:27:59.439Z"
   },
   {
    "duration": 2,
    "start_time": "2022-05-10T22:27:59.448Z"
   },
   {
    "duration": 7,
    "start_time": "2022-05-10T22:27:59.451Z"
   },
   {
    "duration": 4,
    "start_time": "2022-05-10T22:27:59.460Z"
   },
   {
    "duration": 9,
    "start_time": "2022-05-10T22:27:59.465Z"
   },
   {
    "duration": 4,
    "start_time": "2022-05-10T22:27:59.476Z"
   },
   {
    "duration": 13,
    "start_time": "2022-05-10T22:27:59.507Z"
   },
   {
    "duration": 5,
    "start_time": "2022-05-10T22:27:59.522Z"
   },
   {
    "duration": 4,
    "start_time": "2022-05-10T22:27:59.528Z"
   },
   {
    "duration": 3,
    "start_time": "2022-05-10T22:27:59.534Z"
   },
   {
    "duration": 5,
    "start_time": "2022-05-10T22:27:59.539Z"
   },
   {
    "duration": 5,
    "start_time": "2022-05-10T22:27:59.546Z"
   },
   {
    "duration": 4,
    "start_time": "2022-05-10T22:27:59.552Z"
   },
   {
    "duration": 3,
    "start_time": "2022-05-10T22:27:59.559Z"
   },
   {
    "duration": 4,
    "start_time": "2022-05-10T22:27:59.564Z"
   },
   {
    "duration": 5,
    "start_time": "2022-05-10T22:27:59.569Z"
   },
   {
    "duration": 665,
    "start_time": "2022-05-10T22:29:49.599Z"
   },
   {
    "duration": 103,
    "start_time": "2022-05-10T22:29:50.267Z"
   },
   {
    "duration": 38,
    "start_time": "2022-05-10T22:29:50.374Z"
   },
   {
    "duration": 35,
    "start_time": "2022-05-10T22:29:50.415Z"
   },
   {
    "duration": 5,
    "start_time": "2022-05-10T22:29:50.452Z"
   },
   {
    "duration": 90,
    "start_time": "2022-05-10T22:29:50.459Z"
   },
   {
    "duration": 35,
    "start_time": "2022-05-10T22:29:50.551Z"
   },
   {
    "duration": 38,
    "start_time": "2022-05-10T22:29:50.588Z"
   },
   {
    "duration": 7,
    "start_time": "2022-05-10T22:29:50.627Z"
   },
   {
    "duration": 5,
    "start_time": "2022-05-10T22:29:50.637Z"
   },
   {
    "duration": 9,
    "start_time": "2022-05-10T22:29:50.643Z"
   },
   {
    "duration": 10,
    "start_time": "2022-05-10T22:29:50.653Z"
   },
   {
    "duration": 47,
    "start_time": "2022-05-10T22:29:50.665Z"
   },
   {
    "duration": 14,
    "start_time": "2022-05-10T22:29:50.714Z"
   },
   {
    "duration": 7,
    "start_time": "2022-05-10T22:29:50.730Z"
   },
   {
    "duration": 3,
    "start_time": "2022-05-10T22:29:50.738Z"
   },
   {
    "duration": 4,
    "start_time": "2022-05-10T22:29:50.742Z"
   },
   {
    "duration": 5,
    "start_time": "2022-05-10T22:29:50.748Z"
   },
   {
    "duration": 4,
    "start_time": "2022-05-10T22:29:50.755Z"
   },
   {
    "duration": 4,
    "start_time": "2022-05-10T22:29:50.760Z"
   },
   {
    "duration": 5,
    "start_time": "2022-05-10T22:29:50.766Z"
   },
   {
    "duration": 38,
    "start_time": "2022-05-10T22:29:50.773Z"
   },
   {
    "duration": 2,
    "start_time": "2022-05-10T22:29:50.813Z"
   },
   {
    "duration": 10,
    "start_time": "2022-05-10T22:29:50.817Z"
   },
   {
    "duration": 20,
    "start_time": "2022-05-10T22:29:50.828Z"
   },
   {
    "duration": 14,
    "start_time": "2022-05-10T22:29:50.850Z"
   },
   {
    "duration": 7,
    "start_time": "2022-05-10T22:29:50.866Z"
   },
   {
    "duration": 4,
    "start_time": "2022-05-10T22:29:50.876Z"
   },
   {
    "duration": 5,
    "start_time": "2022-05-10T22:29:50.882Z"
   },
   {
    "duration": 6,
    "start_time": "2022-05-10T22:29:50.888Z"
   },
   {
    "duration": 7,
    "start_time": "2022-05-10T22:58:41.640Z"
   },
   {
    "duration": 13,
    "start_time": "2022-05-10T22:58:50.597Z"
   },
   {
    "duration": 17,
    "start_time": "2022-05-10T22:59:48.936Z"
   },
   {
    "duration": 19,
    "start_time": "2022-05-10T22:59:59.711Z"
   },
   {
    "duration": 425,
    "start_time": "2022-05-10T23:46:43.634Z"
   },
   {
    "duration": 14,
    "start_time": "2022-05-10T23:47:42.585Z"
   },
   {
    "duration": 391,
    "start_time": "2022-05-10T23:51:27.381Z"
   },
   {
    "duration": 424,
    "start_time": "2022-05-10T23:51:57.727Z"
   },
   {
    "duration": 119,
    "start_time": "2022-05-10T23:57:56.946Z"
   },
   {
    "duration": 9,
    "start_time": "2022-05-10T23:58:01.346Z"
   },
   {
    "duration": 13,
    "start_time": "2022-05-10T23:59:07.722Z"
   },
   {
    "duration": 9,
    "start_time": "2022-05-10T23:59:08.539Z"
   },
   {
    "duration": 682,
    "start_time": "2022-05-10T23:59:18.503Z"
   },
   {
    "duration": 96,
    "start_time": "2022-05-10T23:59:19.186Z"
   },
   {
    "duration": 31,
    "start_time": "2022-05-10T23:59:19.284Z"
   },
   {
    "duration": 25,
    "start_time": "2022-05-10T23:59:19.317Z"
   },
   {
    "duration": 5,
    "start_time": "2022-05-10T23:59:19.343Z"
   },
   {
    "duration": 65,
    "start_time": "2022-05-10T23:59:19.349Z"
   },
   {
    "duration": 21,
    "start_time": "2022-05-10T23:59:19.416Z"
   },
   {
    "duration": 23,
    "start_time": "2022-05-10T23:59:19.438Z"
   },
   {
    "duration": 6,
    "start_time": "2022-05-10T23:59:19.463Z"
   },
   {
    "duration": 4,
    "start_time": "2022-05-10T23:59:19.471Z"
   },
   {
    "duration": 37,
    "start_time": "2022-05-10T23:59:19.476Z"
   },
   {
    "duration": 8,
    "start_time": "2022-05-10T23:59:19.514Z"
   },
   {
    "duration": 12,
    "start_time": "2022-05-10T23:59:19.524Z"
   },
   {
    "duration": 8,
    "start_time": "2022-05-10T23:59:19.538Z"
   },
   {
    "duration": 6,
    "start_time": "2022-05-10T23:59:19.547Z"
   },
   {
    "duration": 10,
    "start_time": "2022-05-10T23:59:19.555Z"
   },
   {
    "duration": 7,
    "start_time": "2022-05-10T23:59:19.607Z"
   },
   {
    "duration": 2,
    "start_time": "2022-05-10T23:59:19.616Z"
   },
   {
    "duration": 4,
    "start_time": "2022-05-10T23:59:19.620Z"
   },
   {
    "duration": 4,
    "start_time": "2022-05-10T23:59:19.626Z"
   },
   {
    "duration": 3,
    "start_time": "2022-05-10T23:59:19.632Z"
   },
   {
    "duration": 4,
    "start_time": "2022-05-10T23:59:19.637Z"
   },
   {
    "duration": 3,
    "start_time": "2022-05-10T23:59:19.643Z"
   },
   {
    "duration": 3,
    "start_time": "2022-05-10T23:59:19.648Z"
   },
   {
    "duration": 4,
    "start_time": "2022-05-10T23:59:19.653Z"
   },
   {
    "duration": 4,
    "start_time": "2022-05-10T23:59:19.658Z"
   },
   {
    "duration": 4,
    "start_time": "2022-05-10T23:59:19.663Z"
   },
   {
    "duration": 2,
    "start_time": "2022-05-10T23:59:19.707Z"
   },
   {
    "duration": 4,
    "start_time": "2022-05-10T23:59:19.711Z"
   },
   {
    "duration": 5,
    "start_time": "2022-05-10T23:59:19.717Z"
   },
   {
    "duration": 4,
    "start_time": "2022-05-10T23:59:19.723Z"
   },
   {
    "duration": 4,
    "start_time": "2022-05-10T23:59:19.729Z"
   },
   {
    "duration": 15,
    "start_time": "2022-05-11T00:02:48.064Z"
   },
   {
    "duration": 8,
    "start_time": "2022-05-11T00:02:51.333Z"
   },
   {
    "duration": 627,
    "start_time": "2022-05-11T00:03:08.755Z"
   },
   {
    "duration": 91,
    "start_time": "2022-05-11T00:03:09.384Z"
   },
   {
    "duration": 31,
    "start_time": "2022-05-11T00:03:09.477Z"
   },
   {
    "duration": 24,
    "start_time": "2022-05-11T00:03:09.510Z"
   },
   {
    "duration": 4,
    "start_time": "2022-05-11T00:03:09.537Z"
   },
   {
    "duration": 66,
    "start_time": "2022-05-11T00:03:09.542Z"
   },
   {
    "duration": 20,
    "start_time": "2022-05-11T00:03:09.610Z"
   },
   {
    "duration": 22,
    "start_time": "2022-05-11T00:03:09.632Z"
   },
   {
    "duration": 6,
    "start_time": "2022-05-11T00:03:09.655Z"
   },
   {
    "duration": 4,
    "start_time": "2022-05-11T00:03:09.662Z"
   },
   {
    "duration": 41,
    "start_time": "2022-05-11T00:03:09.667Z"
   },
   {
    "duration": 8,
    "start_time": "2022-05-11T00:03:09.710Z"
   },
   {
    "duration": 13,
    "start_time": "2022-05-11T00:03:09.720Z"
   },
   {
    "duration": 8,
    "start_time": "2022-05-11T00:03:09.736Z"
   },
   {
    "duration": 7,
    "start_time": "2022-05-11T00:03:09.745Z"
   },
   {
    "duration": 10,
    "start_time": "2022-05-11T00:03:09.753Z"
   },
   {
    "duration": 44,
    "start_time": "2022-05-11T00:03:09.764Z"
   },
   {
    "duration": 2,
    "start_time": "2022-05-11T00:03:09.810Z"
   },
   {
    "duration": 5,
    "start_time": "2022-05-11T00:03:09.814Z"
   },
   {
    "duration": 5,
    "start_time": "2022-05-11T00:03:09.820Z"
   },
   {
    "duration": 7,
    "start_time": "2022-05-11T00:03:09.826Z"
   },
   {
    "duration": 5,
    "start_time": "2022-05-11T00:03:09.834Z"
   },
   {
    "duration": 4,
    "start_time": "2022-05-11T00:03:09.841Z"
   },
   {
    "duration": 4,
    "start_time": "2022-05-11T00:03:09.847Z"
   },
   {
    "duration": 3,
    "start_time": "2022-05-11T00:03:09.853Z"
   },
   {
    "duration": 4,
    "start_time": "2022-05-11T00:03:09.858Z"
   },
   {
    "duration": 5,
    "start_time": "2022-05-11T00:03:09.863Z"
   },
   {
    "duration": 5,
    "start_time": "2022-05-11T00:03:09.869Z"
   },
   {
    "duration": 33,
    "start_time": "2022-05-11T00:03:09.875Z"
   },
   {
    "duration": 5,
    "start_time": "2022-05-11T00:03:09.909Z"
   },
   {
    "duration": 5,
    "start_time": "2022-05-11T00:03:09.915Z"
   },
   {
    "duration": 5,
    "start_time": "2022-05-11T00:03:09.922Z"
   },
   {
    "duration": 12,
    "start_time": "2022-05-11T00:04:19.095Z"
   },
   {
    "duration": 8,
    "start_time": "2022-05-11T00:04:19.923Z"
   },
   {
    "duration": 3,
    "start_time": "2022-05-11T00:07:11.084Z"
   },
   {
    "duration": 15,
    "start_time": "2022-05-11T00:07:21.258Z"
   },
   {
    "duration": 9,
    "start_time": "2022-05-11T00:07:23.228Z"
   },
   {
    "duration": 681,
    "start_time": "2022-05-11T00:07:32.399Z"
   },
   {
    "duration": 97,
    "start_time": "2022-05-11T00:07:33.082Z"
   },
   {
    "duration": 27,
    "start_time": "2022-05-11T00:07:33.180Z"
   },
   {
    "duration": 24,
    "start_time": "2022-05-11T00:07:33.210Z"
   },
   {
    "duration": 4,
    "start_time": "2022-05-11T00:07:33.236Z"
   },
   {
    "duration": 43,
    "start_time": "2022-05-11T00:07:33.241Z"
   },
   {
    "duration": 38,
    "start_time": "2022-05-11T00:07:33.286Z"
   },
   {
    "duration": 23,
    "start_time": "2022-05-11T00:07:33.326Z"
   },
   {
    "duration": 6,
    "start_time": "2022-05-11T00:07:33.350Z"
   },
   {
    "duration": 3,
    "start_time": "2022-05-11T00:07:33.359Z"
   },
   {
    "duration": 7,
    "start_time": "2022-05-11T00:07:33.364Z"
   },
   {
    "duration": 42,
    "start_time": "2022-05-11T00:07:33.372Z"
   },
   {
    "duration": 14,
    "start_time": "2022-05-11T00:07:33.416Z"
   },
   {
    "duration": 7,
    "start_time": "2022-05-11T00:07:33.432Z"
   },
   {
    "duration": 6,
    "start_time": "2022-05-11T00:07:33.441Z"
   },
   {
    "duration": 9,
    "start_time": "2022-05-11T00:07:33.448Z"
   },
   {
    "duration": 9,
    "start_time": "2022-05-11T00:07:33.458Z"
   },
   {
    "duration": 43,
    "start_time": "2022-05-11T00:07:33.468Z"
   },
   {
    "duration": 4,
    "start_time": "2022-05-11T00:07:33.513Z"
   },
   {
    "duration": 7,
    "start_time": "2022-05-11T00:07:33.519Z"
   },
   {
    "duration": 4,
    "start_time": "2022-05-11T00:07:33.527Z"
   },
   {
    "duration": 4,
    "start_time": "2022-05-11T00:07:33.533Z"
   },
   {
    "duration": 4,
    "start_time": "2022-05-11T00:07:33.539Z"
   },
   {
    "duration": 4,
    "start_time": "2022-05-11T00:07:33.544Z"
   },
   {
    "duration": 5,
    "start_time": "2022-05-11T00:07:33.549Z"
   },
   {
    "duration": 4,
    "start_time": "2022-05-11T00:07:33.556Z"
   },
   {
    "duration": 4,
    "start_time": "2022-05-11T00:07:33.562Z"
   },
   {
    "duration": 2,
    "start_time": "2022-05-11T00:07:33.569Z"
   },
   {
    "duration": 35,
    "start_time": "2022-05-11T00:07:33.573Z"
   },
   {
    "duration": 5,
    "start_time": "2022-05-11T00:07:33.610Z"
   },
   {
    "duration": 5,
    "start_time": "2022-05-11T00:07:33.616Z"
   },
   {
    "duration": 4,
    "start_time": "2022-05-11T00:07:33.623Z"
   },
   {
    "duration": 633,
    "start_time": "2022-05-11T00:07:52.510Z"
   },
   {
    "duration": 95,
    "start_time": "2022-05-11T00:07:53.145Z"
   },
   {
    "duration": 35,
    "start_time": "2022-05-11T00:07:53.241Z"
   },
   {
    "duration": 32,
    "start_time": "2022-05-11T00:07:53.278Z"
   },
   {
    "duration": 3,
    "start_time": "2022-05-11T00:07:53.313Z"
   },
   {
    "duration": 42,
    "start_time": "2022-05-11T00:07:53.318Z"
   },
   {
    "duration": 20,
    "start_time": "2022-05-11T00:07:53.361Z"
   },
   {
    "duration": 42,
    "start_time": "2022-05-11T00:07:53.382Z"
   },
   {
    "duration": 5,
    "start_time": "2022-05-11T00:07:53.425Z"
   },
   {
    "duration": 3,
    "start_time": "2022-05-11T00:07:53.432Z"
   },
   {
    "duration": 7,
    "start_time": "2022-05-11T00:07:53.437Z"
   },
   {
    "duration": 8,
    "start_time": "2022-05-11T00:07:53.445Z"
   },
   {
    "duration": 15,
    "start_time": "2022-05-11T00:07:53.455Z"
   },
   {
    "duration": 9,
    "start_time": "2022-05-11T00:07:53.510Z"
   },
   {
    "duration": 8,
    "start_time": "2022-05-11T00:07:53.521Z"
   },
   {
    "duration": 9,
    "start_time": "2022-05-11T00:07:53.531Z"
   },
   {
    "duration": 6,
    "start_time": "2022-05-11T00:07:53.542Z"
   },
   {
    "duration": 2,
    "start_time": "2022-05-11T00:07:53.550Z"
   },
   {
    "duration": 5,
    "start_time": "2022-05-11T00:07:53.553Z"
   },
   {
    "duration": 4,
    "start_time": "2022-05-11T00:07:53.559Z"
   },
   {
    "duration": 4,
    "start_time": "2022-05-11T00:07:53.564Z"
   },
   {
    "duration": 2,
    "start_time": "2022-05-11T00:07:53.608Z"
   },
   {
    "duration": 4,
    "start_time": "2022-05-11T00:07:53.612Z"
   },
   {
    "duration": 6,
    "start_time": "2022-05-11T00:07:53.617Z"
   },
   {
    "duration": 5,
    "start_time": "2022-05-11T00:07:53.624Z"
   },
   {
    "duration": 5,
    "start_time": "2022-05-11T00:07:53.630Z"
   },
   {
    "duration": 4,
    "start_time": "2022-05-11T00:07:53.636Z"
   },
   {
    "duration": 4,
    "start_time": "2022-05-11T00:07:53.642Z"
   },
   {
    "duration": 4,
    "start_time": "2022-05-11T00:07:53.648Z"
   },
   {
    "duration": 4,
    "start_time": "2022-05-11T00:07:53.653Z"
   },
   {
    "duration": 4,
    "start_time": "2022-05-11T00:07:53.659Z"
   },
   {
    "duration": 7,
    "start_time": "2022-05-11T00:07:53.664Z"
   },
   {
    "duration": 8,
    "start_time": "2022-05-11T00:07:59.337Z"
   },
   {
    "duration": 616,
    "start_time": "2022-05-11T00:08:30.134Z"
   },
   {
    "duration": 89,
    "start_time": "2022-05-11T00:08:30.752Z"
   },
   {
    "duration": 25,
    "start_time": "2022-05-11T00:08:30.843Z"
   },
   {
    "duration": 38,
    "start_time": "2022-05-11T00:08:30.870Z"
   },
   {
    "duration": 3,
    "start_time": "2022-05-11T00:08:30.910Z"
   },
   {
    "duration": 57,
    "start_time": "2022-05-11T00:08:30.915Z"
   },
   {
    "duration": 20,
    "start_time": "2022-05-11T00:08:30.973Z"
   },
   {
    "duration": 31,
    "start_time": "2022-05-11T00:08:30.995Z"
   },
   {
    "duration": 25,
    "start_time": "2022-05-11T00:08:31.028Z"
   },
   {
    "duration": 4,
    "start_time": "2022-05-11T00:08:31.056Z"
   },
   {
    "duration": 28,
    "start_time": "2022-05-11T00:08:31.061Z"
   },
   {
    "duration": 9,
    "start_time": "2022-05-11T00:08:31.090Z"
   },
   {
    "duration": 8,
    "start_time": "2022-05-11T00:08:31.101Z"
   },
   {
    "duration": 13,
    "start_time": "2022-05-11T00:08:31.111Z"
   },
   {
    "duration": 18,
    "start_time": "2022-05-11T00:08:31.125Z"
   },
   {
    "duration": 34,
    "start_time": "2022-05-11T00:08:31.145Z"
   },
   {
    "duration": 4,
    "start_time": "2022-05-11T00:08:31.180Z"
   },
   {
    "duration": 7,
    "start_time": "2022-05-11T00:08:31.186Z"
   },
   {
    "duration": 11,
    "start_time": "2022-05-11T00:08:31.195Z"
   },
   {
    "duration": 6,
    "start_time": "2022-05-11T00:08:31.207Z"
   },
   {
    "duration": 7,
    "start_time": "2022-05-11T00:08:31.214Z"
   },
   {
    "duration": 7,
    "start_time": "2022-05-11T00:08:31.223Z"
   },
   {
    "duration": 9,
    "start_time": "2022-05-11T00:08:31.231Z"
   },
   {
    "duration": 10,
    "start_time": "2022-05-11T00:08:31.241Z"
   },
   {
    "duration": 7,
    "start_time": "2022-05-11T00:08:31.253Z"
   },
   {
    "duration": 15,
    "start_time": "2022-05-11T00:08:31.262Z"
   },
   {
    "duration": 6,
    "start_time": "2022-05-11T00:08:31.279Z"
   },
   {
    "duration": 5,
    "start_time": "2022-05-11T00:08:31.287Z"
   },
   {
    "duration": 6,
    "start_time": "2022-05-11T00:08:31.293Z"
   },
   {
    "duration": 8,
    "start_time": "2022-05-11T00:08:31.300Z"
   },
   {
    "duration": 8,
    "start_time": "2022-05-11T00:08:31.309Z"
   },
   {
    "duration": 8,
    "start_time": "2022-05-11T00:08:37.413Z"
   },
   {
    "duration": 604,
    "start_time": "2022-05-11T00:10:25.455Z"
   },
   {
    "duration": 90,
    "start_time": "2022-05-11T00:10:26.061Z"
   },
   {
    "duration": 28,
    "start_time": "2022-05-11T00:10:26.153Z"
   },
   {
    "duration": 37,
    "start_time": "2022-05-11T00:10:26.183Z"
   },
   {
    "duration": 4,
    "start_time": "2022-05-11T00:10:26.223Z"
   },
   {
    "duration": 41,
    "start_time": "2022-05-11T00:10:26.229Z"
   },
   {
    "duration": 46,
    "start_time": "2022-05-11T00:10:26.272Z"
   },
   {
    "duration": 22,
    "start_time": "2022-05-11T00:10:26.320Z"
   },
   {
    "duration": 7,
    "start_time": "2022-05-11T00:10:26.344Z"
   },
   {
    "duration": 4,
    "start_time": "2022-05-11T00:10:26.352Z"
   },
   {
    "duration": 7,
    "start_time": "2022-05-11T00:10:26.358Z"
   },
   {
    "duration": 46,
    "start_time": "2022-05-11T00:10:26.366Z"
   },
   {
    "duration": 15,
    "start_time": "2022-05-11T00:10:26.414Z"
   },
   {
    "duration": 8,
    "start_time": "2022-05-11T00:10:26.433Z"
   },
   {
    "duration": 7,
    "start_time": "2022-05-11T00:10:26.443Z"
   },
   {
    "duration": 10,
    "start_time": "2022-05-11T00:10:26.452Z"
   },
   {
    "duration": 44,
    "start_time": "2022-05-11T00:10:26.464Z"
   },
   {
    "duration": 2,
    "start_time": "2022-05-11T00:10:26.511Z"
   },
   {
    "duration": 4,
    "start_time": "2022-05-11T00:10:26.515Z"
   },
   {
    "duration": 5,
    "start_time": "2022-05-11T00:10:26.521Z"
   },
   {
    "duration": 4,
    "start_time": "2022-05-11T00:10:26.527Z"
   },
   {
    "duration": 4,
    "start_time": "2022-05-11T00:10:26.533Z"
   },
   {
    "duration": 5,
    "start_time": "2022-05-11T00:10:26.538Z"
   },
   {
    "duration": 4,
    "start_time": "2022-05-11T00:10:26.544Z"
   },
   {
    "duration": 3,
    "start_time": "2022-05-11T00:10:26.550Z"
   },
   {
    "duration": 5,
    "start_time": "2022-05-11T00:10:26.555Z"
   },
   {
    "duration": 6,
    "start_time": "2022-05-11T00:10:26.561Z"
   },
   {
    "duration": 39,
    "start_time": "2022-05-11T00:10:26.569Z"
   },
   {
    "duration": 3,
    "start_time": "2022-05-11T00:10:26.610Z"
   },
   {
    "duration": 7,
    "start_time": "2022-05-11T00:10:26.615Z"
   },
   {
    "duration": 5,
    "start_time": "2022-05-11T00:10:26.623Z"
   },
   {
    "duration": 4,
    "start_time": "2022-05-11T00:10:26.630Z"
   },
   {
    "duration": 15,
    "start_time": "2022-05-11T00:10:42.462Z"
   },
   {
    "duration": 9,
    "start_time": "2022-05-11T00:10:43.465Z"
   },
   {
    "duration": 9,
    "start_time": "2022-05-11T00:11:19.098Z"
   },
   {
    "duration": 592,
    "start_time": "2022-05-11T00:11:45.347Z"
   },
   {
    "duration": 88,
    "start_time": "2022-05-11T00:11:45.940Z"
   },
   {
    "duration": 26,
    "start_time": "2022-05-11T00:11:46.030Z"
   },
   {
    "duration": 24,
    "start_time": "2022-05-11T00:11:46.058Z"
   },
   {
    "duration": 24,
    "start_time": "2022-05-11T00:11:46.084Z"
   },
   {
    "duration": 42,
    "start_time": "2022-05-11T00:11:46.109Z"
   },
   {
    "duration": 20,
    "start_time": "2022-05-11T00:11:46.152Z"
   },
   {
    "duration": 42,
    "start_time": "2022-05-11T00:11:46.174Z"
   },
   {
    "duration": 7,
    "start_time": "2022-05-11T00:11:46.218Z"
   },
   {
    "duration": 20,
    "start_time": "2022-05-11T00:11:46.227Z"
   },
   {
    "duration": 11,
    "start_time": "2022-05-11T00:11:46.248Z"
   },
   {
    "duration": 16,
    "start_time": "2022-05-11T00:11:46.260Z"
   },
   {
    "duration": 11,
    "start_time": "2022-05-11T00:11:46.277Z"
   },
   {
    "duration": 11,
    "start_time": "2022-05-11T00:11:46.291Z"
   },
   {
    "duration": 8,
    "start_time": "2022-05-11T00:11:46.307Z"
   },
   {
    "duration": 13,
    "start_time": "2022-05-11T00:11:46.316Z"
   },
   {
    "duration": 13,
    "start_time": "2022-05-11T00:11:46.330Z"
   },
   {
    "duration": 19,
    "start_time": "2022-05-11T00:11:46.344Z"
   },
   {
    "duration": 5,
    "start_time": "2022-05-11T00:11:46.365Z"
   },
   {
    "duration": 5,
    "start_time": "2022-05-11T00:11:46.372Z"
   },
   {
    "duration": 16,
    "start_time": "2022-05-11T00:11:46.379Z"
   },
   {
    "duration": 20,
    "start_time": "2022-05-11T00:11:46.397Z"
   },
   {
    "duration": 9,
    "start_time": "2022-05-11T00:11:46.419Z"
   },
   {
    "duration": 21,
    "start_time": "2022-05-11T00:11:46.429Z"
   },
   {
    "duration": 9,
    "start_time": "2022-05-11T00:11:46.452Z"
   },
   {
    "duration": 6,
    "start_time": "2022-05-11T00:11:46.462Z"
   },
   {
    "duration": 26,
    "start_time": "2022-05-11T00:11:46.469Z"
   },
   {
    "duration": 7,
    "start_time": "2022-05-11T00:11:46.497Z"
   },
   {
    "duration": 19,
    "start_time": "2022-05-11T00:11:46.506Z"
   },
   {
    "duration": 15,
    "start_time": "2022-05-11T00:11:46.526Z"
   },
   {
    "duration": 74,
    "start_time": "2022-05-11T00:13:43.124Z"
   },
   {
    "duration": 9,
    "start_time": "2022-05-11T00:13:50.131Z"
   },
   {
    "duration": 9,
    "start_time": "2022-05-11T00:14:19.641Z"
   },
   {
    "duration": 14,
    "start_time": "2022-05-11T00:14:27.090Z"
   },
   {
    "duration": 17,
    "start_time": "2022-05-11T00:15:12.901Z"
   },
   {
    "duration": 13,
    "start_time": "2022-05-11T00:15:37.995Z"
   },
   {
    "duration": 15,
    "start_time": "2022-05-11T00:15:39.411Z"
   },
   {
    "duration": 630,
    "start_time": "2022-05-11T00:16:10.650Z"
   },
   {
    "duration": 95,
    "start_time": "2022-05-11T00:16:11.282Z"
   },
   {
    "duration": 31,
    "start_time": "2022-05-11T00:16:11.380Z"
   },
   {
    "duration": 24,
    "start_time": "2022-05-11T00:16:11.413Z"
   },
   {
    "duration": 4,
    "start_time": "2022-05-11T00:16:11.439Z"
   },
   {
    "duration": 66,
    "start_time": "2022-05-11T00:16:11.444Z"
   },
   {
    "duration": 20,
    "start_time": "2022-05-11T00:16:11.512Z"
   },
   {
    "duration": 22,
    "start_time": "2022-05-11T00:16:11.534Z"
   },
   {
    "duration": 6,
    "start_time": "2022-05-11T00:16:11.558Z"
   },
   {
    "duration": 4,
    "start_time": "2022-05-11T00:16:11.565Z"
   },
   {
    "duration": 38,
    "start_time": "2022-05-11T00:16:11.570Z"
   },
   {
    "duration": 8,
    "start_time": "2022-05-11T00:16:11.610Z"
   },
   {
    "duration": 14,
    "start_time": "2022-05-11T00:16:11.620Z"
   },
   {
    "duration": 17,
    "start_time": "2022-05-11T00:16:11.636Z"
   },
   {
    "duration": 9,
    "start_time": "2022-05-11T00:16:11.655Z"
   },
   {
    "duration": 43,
    "start_time": "2022-05-11T00:16:11.666Z"
   },
   {
    "duration": 8,
    "start_time": "2022-05-11T00:16:11.711Z"
   },
   {
    "duration": 2,
    "start_time": "2022-05-11T00:16:11.721Z"
   },
   {
    "duration": 3,
    "start_time": "2022-05-11T00:16:11.725Z"
   },
   {
    "duration": 4,
    "start_time": "2022-05-11T00:16:11.730Z"
   },
   {
    "duration": 6,
    "start_time": "2022-05-11T00:16:11.736Z"
   },
   {
    "duration": 4,
    "start_time": "2022-05-11T00:16:11.743Z"
   },
   {
    "duration": 9,
    "start_time": "2022-05-11T00:16:11.749Z"
   },
   {
    "duration": 9,
    "start_time": "2022-05-11T00:16:11.760Z"
   },
   {
    "duration": 9,
    "start_time": "2022-05-11T00:16:11.770Z"
   },
   {
    "duration": 6,
    "start_time": "2022-05-11T00:16:11.781Z"
   },
   {
    "duration": 6,
    "start_time": "2022-05-11T00:16:11.808Z"
   },
   {
    "duration": 4,
    "start_time": "2022-05-11T00:16:11.816Z"
   },
   {
    "duration": 5,
    "start_time": "2022-05-11T00:16:11.822Z"
   },
   {
    "duration": 11,
    "start_time": "2022-05-11T00:16:11.829Z"
   },
   {
    "duration": 9,
    "start_time": "2022-05-11T00:16:11.842Z"
   },
   {
    "duration": 5,
    "start_time": "2022-05-11T00:16:11.853Z"
   },
   {
    "duration": 72,
    "start_time": "2022-05-11T00:16:31.300Z"
   },
   {
    "duration": 8,
    "start_time": "2022-05-11T00:16:38.031Z"
   },
   {
    "duration": 8,
    "start_time": "2022-05-11T00:16:53.872Z"
   },
   {
    "duration": 8,
    "start_time": "2022-05-11T00:36:34.084Z"
   },
   {
    "duration": 12,
    "start_time": "2022-05-11T00:37:03.668Z"
   },
   {
    "duration": 8,
    "start_time": "2022-05-11T00:37:04.260Z"
   },
   {
    "duration": 741,
    "start_time": "2022-05-11T00:49:45.024Z"
   },
   {
    "duration": 100,
    "start_time": "2022-05-11T00:49:45.767Z"
   },
   {
    "duration": 27,
    "start_time": "2022-05-11T00:49:45.869Z"
   },
   {
    "duration": 30,
    "start_time": "2022-05-11T00:49:45.898Z"
   },
   {
    "duration": 4,
    "start_time": "2022-05-11T00:49:45.930Z"
   },
   {
    "duration": 42,
    "start_time": "2022-05-11T00:49:45.936Z"
   },
   {
    "duration": 40,
    "start_time": "2022-05-11T00:49:45.980Z"
   },
   {
    "duration": 22,
    "start_time": "2022-05-11T00:49:46.022Z"
   },
   {
    "duration": 6,
    "start_time": "2022-05-11T00:49:46.045Z"
   },
   {
    "duration": 3,
    "start_time": "2022-05-11T00:49:46.054Z"
   },
   {
    "duration": 7,
    "start_time": "2022-05-11T00:49:46.059Z"
   },
   {
    "duration": 41,
    "start_time": "2022-05-11T00:49:46.068Z"
   },
   {
    "duration": 13,
    "start_time": "2022-05-11T00:49:46.111Z"
   },
   {
    "duration": 8,
    "start_time": "2022-05-11T00:49:46.125Z"
   },
   {
    "duration": 6,
    "start_time": "2022-05-11T00:49:46.135Z"
   },
   {
    "duration": 10,
    "start_time": "2022-05-11T00:49:46.142Z"
   },
   {
    "duration": 7,
    "start_time": "2022-05-11T00:49:46.153Z"
   },
   {
    "duration": 2,
    "start_time": "2022-05-11T00:49:46.162Z"
   },
   {
    "duration": 43,
    "start_time": "2022-05-11T00:49:46.165Z"
   },
   {
    "duration": 4,
    "start_time": "2022-05-11T00:49:46.210Z"
   },
   {
    "duration": 4,
    "start_time": "2022-05-11T00:49:46.216Z"
   },
   {
    "duration": 5,
    "start_time": "2022-05-11T00:49:46.221Z"
   },
   {
    "duration": 4,
    "start_time": "2022-05-11T00:49:46.227Z"
   },
   {
    "duration": 4,
    "start_time": "2022-05-11T00:49:46.232Z"
   },
   {
    "duration": 4,
    "start_time": "2022-05-11T00:49:46.237Z"
   },
   {
    "duration": 4,
    "start_time": "2022-05-11T00:49:46.242Z"
   },
   {
    "duration": 4,
    "start_time": "2022-05-11T00:49:46.247Z"
   },
   {
    "duration": 3,
    "start_time": "2022-05-11T00:49:46.254Z"
   },
   {
    "duration": 4,
    "start_time": "2022-05-11T00:49:46.259Z"
   },
   {
    "duration": 44,
    "start_time": "2022-05-11T00:49:46.264Z"
   },
   {
    "duration": 4,
    "start_time": "2022-05-11T00:49:46.309Z"
   },
   {
    "duration": 4,
    "start_time": "2022-05-11T00:49:46.315Z"
   },
   {
    "duration": 22,
    "start_time": "2022-05-11T00:53:07.927Z"
   },
   {
    "duration": 6,
    "start_time": "2022-05-11T00:55:17.546Z"
   },
   {
    "duration": 74,
    "start_time": "2022-05-11T00:58:09.175Z"
   },
   {
    "duration": 7,
    "start_time": "2022-05-11T00:58:16.011Z"
   },
   {
    "duration": 25,
    "start_time": "2022-05-11T00:58:41.785Z"
   },
   {
    "duration": 8,
    "start_time": "2022-05-11T00:59:21.455Z"
   },
   {
    "duration": 41,
    "start_time": "2022-05-11T00:59:22.432Z"
   },
   {
    "duration": 653,
    "start_time": "2022-05-11T01:01:19.725Z"
   },
   {
    "duration": 95,
    "start_time": "2022-05-11T01:01:20.380Z"
   },
   {
    "duration": 25,
    "start_time": "2022-05-11T01:01:20.476Z"
   },
   {
    "duration": 24,
    "start_time": "2022-05-11T01:01:20.507Z"
   },
   {
    "duration": 4,
    "start_time": "2022-05-11T01:01:20.533Z"
   },
   {
    "duration": 44,
    "start_time": "2022-05-11T01:01:20.539Z"
   },
   {
    "duration": 42,
    "start_time": "2022-05-11T01:01:20.584Z"
   },
   {
    "duration": 25,
    "start_time": "2022-05-11T01:01:20.628Z"
   },
   {
    "duration": 6,
    "start_time": "2022-05-11T01:01:20.655Z"
   },
   {
    "duration": 4,
    "start_time": "2022-05-11T01:01:20.662Z"
   },
   {
    "duration": 7,
    "start_time": "2022-05-11T01:01:20.668Z"
   },
   {
    "duration": 38,
    "start_time": "2022-05-11T01:01:20.677Z"
   },
   {
    "duration": 12,
    "start_time": "2022-05-11T01:01:20.717Z"
   },
   {
    "duration": 7,
    "start_time": "2022-05-11T01:01:20.732Z"
   },
   {
    "duration": 4,
    "start_time": "2022-05-11T01:01:20.742Z"
   },
   {
    "duration": 13,
    "start_time": "2022-05-11T01:01:20.748Z"
   },
   {
    "duration": 10,
    "start_time": "2022-05-11T01:01:20.762Z"
   },
   {
    "duration": 40,
    "start_time": "2022-05-11T01:01:20.774Z"
   },
   {
    "duration": 4,
    "start_time": "2022-05-11T01:01:20.816Z"
   },
   {
    "duration": 5,
    "start_time": "2022-05-11T01:01:20.821Z"
   },
   {
    "duration": 6,
    "start_time": "2022-05-11T01:01:20.827Z"
   },
   {
    "duration": 5,
    "start_time": "2022-05-11T01:01:20.835Z"
   },
   {
    "duration": 8,
    "start_time": "2022-05-11T01:01:20.841Z"
   },
   {
    "duration": 4,
    "start_time": "2022-05-11T01:01:20.851Z"
   },
   {
    "duration": 4,
    "start_time": "2022-05-11T01:01:20.857Z"
   },
   {
    "duration": 4,
    "start_time": "2022-05-11T01:01:20.862Z"
   },
   {
    "duration": 4,
    "start_time": "2022-05-11T01:01:20.868Z"
   },
   {
    "duration": 33,
    "start_time": "2022-05-11T01:01:20.873Z"
   },
   {
    "duration": 3,
    "start_time": "2022-05-11T01:01:20.908Z"
   },
   {
    "duration": 5,
    "start_time": "2022-05-11T01:01:20.913Z"
   },
   {
    "duration": 5,
    "start_time": "2022-05-11T01:01:20.920Z"
   },
   {
    "duration": 4,
    "start_time": "2022-05-11T01:01:20.926Z"
   },
   {
    "duration": 4,
    "start_time": "2022-05-11T01:01:20.932Z"
   },
   {
    "duration": 1366,
    "start_time": "2022-05-11T20:49:46.927Z"
   },
   {
    "duration": 334,
    "start_time": "2022-05-11T20:49:48.296Z"
   },
   {
    "duration": 45,
    "start_time": "2022-05-11T20:49:48.632Z"
   },
   {
    "duration": 38,
    "start_time": "2022-05-11T20:49:48.682Z"
   },
   {
    "duration": 38,
    "start_time": "2022-05-11T20:49:48.723Z"
   },
   {
    "duration": 70,
    "start_time": "2022-05-11T20:49:48.764Z"
   },
   {
    "duration": 46,
    "start_time": "2022-05-11T20:49:48.837Z"
   },
   {
    "duration": 70,
    "start_time": "2022-05-11T20:49:48.886Z"
   },
   {
    "duration": 11,
    "start_time": "2022-05-11T20:49:48.959Z"
   },
   {
    "duration": 8,
    "start_time": "2022-05-11T20:49:48.976Z"
   },
   {
    "duration": 11,
    "start_time": "2022-05-11T20:49:48.987Z"
   },
   {
    "duration": 50,
    "start_time": "2022-05-11T20:49:49.001Z"
   },
   {
    "duration": 23,
    "start_time": "2022-05-11T20:49:49.055Z"
   },
   {
    "duration": 15,
    "start_time": "2022-05-11T20:49:49.081Z"
   },
   {
    "duration": 7,
    "start_time": "2022-05-11T20:49:49.098Z"
   },
   {
    "duration": 9,
    "start_time": "2022-05-11T20:49:49.107Z"
   },
   {
    "duration": 20,
    "start_time": "2022-05-11T20:49:49.169Z"
   },
   {
    "duration": 13,
    "start_time": "2022-05-11T20:49:49.191Z"
   },
   {
    "duration": 7,
    "start_time": "2022-05-11T20:49:49.207Z"
   },
   {
    "duration": 5,
    "start_time": "2022-05-11T20:49:49.217Z"
   },
   {
    "duration": 33,
    "start_time": "2022-05-11T20:49:49.225Z"
   },
   {
    "duration": 18,
    "start_time": "2022-05-11T20:49:49.263Z"
   },
   {
    "duration": 5,
    "start_time": "2022-05-11T20:49:49.284Z"
   },
   {
    "duration": 7,
    "start_time": "2022-05-11T20:49:49.292Z"
   },
   {
    "duration": 6,
    "start_time": "2022-05-11T20:49:49.301Z"
   },
   {
    "duration": 5,
    "start_time": "2022-05-11T20:49:49.309Z"
   },
   {
    "duration": 5,
    "start_time": "2022-05-11T20:49:49.317Z"
   },
   {
    "duration": 30,
    "start_time": "2022-05-11T20:49:49.327Z"
   },
   {
    "duration": 7,
    "start_time": "2022-05-11T20:49:49.360Z"
   },
   {
    "duration": 9,
    "start_time": "2022-05-11T20:49:49.370Z"
   },
   {
    "duration": 9,
    "start_time": "2022-05-11T20:49:49.381Z"
   },
   {
    "duration": 6,
    "start_time": "2022-05-11T20:49:49.392Z"
   },
   {
    "duration": 6,
    "start_time": "2022-05-11T20:49:49.401Z"
   },
   {
    "duration": 25,
    "start_time": "2022-05-11T21:22:38.367Z"
   },
   {
    "duration": 9,
    "start_time": "2022-05-11T21:23:20.295Z"
   },
   {
    "duration": 825,
    "start_time": "2022-05-11T21:23:37.142Z"
   },
   {
    "duration": 122,
    "start_time": "2022-05-11T21:23:37.970Z"
   },
   {
    "duration": 35,
    "start_time": "2022-05-11T21:23:38.094Z"
   },
   {
    "duration": 53,
    "start_time": "2022-05-11T21:23:38.133Z"
   },
   {
    "duration": 6,
    "start_time": "2022-05-11T21:23:38.188Z"
   },
   {
    "duration": 84,
    "start_time": "2022-05-11T21:23:38.196Z"
   },
   {
    "duration": 24,
    "start_time": "2022-05-11T21:23:38.282Z"
   },
   {
    "duration": 54,
    "start_time": "2022-05-11T21:23:38.309Z"
   },
   {
    "duration": 10,
    "start_time": "2022-05-11T21:23:38.366Z"
   },
   {
    "duration": 8,
    "start_time": "2022-05-11T21:23:38.382Z"
   },
   {
    "duration": 12,
    "start_time": "2022-05-11T21:23:38.393Z"
   },
   {
    "duration": 48,
    "start_time": "2022-05-11T21:23:38.408Z"
   },
   {
    "duration": 23,
    "start_time": "2022-05-11T21:23:38.459Z"
   },
   {
    "duration": 16,
    "start_time": "2022-05-11T21:23:38.485Z"
   },
   {
    "duration": 9,
    "start_time": "2022-05-11T21:23:38.504Z"
   },
   {
    "duration": 46,
    "start_time": "2022-05-11T21:23:38.516Z"
   },
   {
    "duration": 35,
    "start_time": "2022-05-11T21:23:38.566Z"
   },
   {
    "duration": 13,
    "start_time": "2022-05-11T21:23:38.604Z"
   },
   {
    "duration": 48,
    "start_time": "2022-05-11T21:23:38.620Z"
   },
   {
    "duration": 13,
    "start_time": "2022-05-11T21:23:38.671Z"
   },
   {
    "duration": 4,
    "start_time": "2022-05-11T21:23:38.686Z"
   },
   {
    "duration": 10,
    "start_time": "2022-05-11T21:23:38.692Z"
   },
   {
    "duration": 10,
    "start_time": "2022-05-11T21:23:38.704Z"
   },
   {
    "duration": 12,
    "start_time": "2022-05-11T21:23:38.716Z"
   },
   {
    "duration": 8,
    "start_time": "2022-05-11T21:23:38.730Z"
   },
   {
    "duration": 6,
    "start_time": "2022-05-11T21:23:38.740Z"
   },
   {
    "duration": 4,
    "start_time": "2022-05-11T21:23:38.752Z"
   },
   {
    "duration": 3,
    "start_time": "2022-05-11T21:23:38.760Z"
   },
   {
    "duration": 6,
    "start_time": "2022-05-11T21:23:38.766Z"
   },
   {
    "duration": 9,
    "start_time": "2022-05-11T21:23:38.773Z"
   },
   {
    "duration": 6,
    "start_time": "2022-05-11T21:23:38.784Z"
   },
   {
    "duration": 5,
    "start_time": "2022-05-11T21:23:38.792Z"
   },
   {
    "duration": 5,
    "start_time": "2022-05-11T21:23:38.799Z"
   },
   {
    "duration": 5,
    "start_time": "2022-05-11T21:23:38.807Z"
   },
   {
    "duration": 7,
    "start_time": "2022-05-11T21:23:38.814Z"
   },
   {
    "duration": 7,
    "start_time": "2022-05-11T21:24:09.201Z"
   },
   {
    "duration": 18,
    "start_time": "2022-05-11T21:33:57.204Z"
   },
   {
    "duration": 22,
    "start_time": "2022-05-11T21:34:16.145Z"
   },
   {
    "duration": 56,
    "start_time": "2022-05-11T21:35:11.990Z"
   },
   {
    "duration": 22,
    "start_time": "2022-05-11T21:35:35.685Z"
   },
   {
    "duration": 15,
    "start_time": "2022-05-11T21:35:58.565Z"
   },
   {
    "duration": 22,
    "start_time": "2022-05-11T21:36:26.274Z"
   },
   {
    "duration": 103,
    "start_time": "2022-05-11T21:39:34.745Z"
   },
   {
    "duration": 9,
    "start_time": "2022-05-11T21:39:44.763Z"
   },
   {
    "duration": 53,
    "start_time": "2022-05-11T21:39:56.861Z"
   },
   {
    "duration": 9,
    "start_time": "2022-05-11T21:40:21.395Z"
   },
   {
    "duration": 43,
    "start_time": "2022-05-11T21:40:30.445Z"
   },
   {
    "duration": 40,
    "start_time": "2022-05-11T21:40:40.712Z"
   },
   {
    "duration": 35,
    "start_time": "2022-05-11T21:41:20.693Z"
   },
   {
    "duration": 77,
    "start_time": "2022-05-11T21:41:30.254Z"
   },
   {
    "duration": 9,
    "start_time": "2022-05-11T21:46:35.851Z"
   },
   {
    "duration": 11,
    "start_time": "2022-05-11T21:47:13.663Z"
   },
   {
    "duration": 14,
    "start_time": "2022-05-11T21:47:25.035Z"
   },
   {
    "duration": 9,
    "start_time": "2022-05-11T21:47:39.236Z"
   },
   {
    "duration": 13,
    "start_time": "2022-05-11T21:47:40.726Z"
   },
   {
    "duration": 781,
    "start_time": "2022-05-11T21:47:47.683Z"
   },
   {
    "duration": 119,
    "start_time": "2022-05-11T21:47:48.466Z"
   },
   {
    "duration": 33,
    "start_time": "2022-05-11T21:47:48.587Z"
   },
   {
    "duration": 50,
    "start_time": "2022-05-11T21:47:48.622Z"
   },
   {
    "duration": 5,
    "start_time": "2022-05-11T21:47:48.676Z"
   },
   {
    "duration": 81,
    "start_time": "2022-05-11T21:47:48.683Z"
   },
   {
    "duration": 24,
    "start_time": "2022-05-11T21:47:48.766Z"
   },
   {
    "duration": 30,
    "start_time": "2022-05-11T21:47:48.792Z"
   },
   {
    "duration": 30,
    "start_time": "2022-05-11T21:47:48.824Z"
   },
   {
    "duration": 5,
    "start_time": "2022-05-11T21:47:48.856Z"
   },
   {
    "duration": 13,
    "start_time": "2022-05-11T21:47:48.863Z"
   },
   {
    "duration": 11,
    "start_time": "2022-05-11T21:47:48.878Z"
   },
   {
    "duration": 15,
    "start_time": "2022-05-11T21:47:48.891Z"
   },
   {
    "duration": 53,
    "start_time": "2022-05-11T21:47:48.910Z"
   },
   {
    "duration": 5,
    "start_time": "2022-05-11T21:47:48.965Z"
   },
   {
    "duration": 11,
    "start_time": "2022-05-11T21:47:48.972Z"
   },
   {
    "duration": 25,
    "start_time": "2022-05-11T21:47:48.985Z"
   },
   {
    "duration": 41,
    "start_time": "2022-05-11T21:47:49.012Z"
   },
   {
    "duration": 6,
    "start_time": "2022-05-11T21:47:49.055Z"
   },
   {
    "duration": 15,
    "start_time": "2022-05-11T21:47:49.063Z"
   },
   {
    "duration": 20,
    "start_time": "2022-05-11T21:47:49.080Z"
   },
   {
    "duration": 112,
    "start_time": "2022-05-11T21:47:49.102Z"
   },
   {
    "duration": 8,
    "start_time": "2022-05-11T21:47:49.217Z"
   },
   {
    "duration": 30,
    "start_time": "2022-05-11T21:47:49.227Z"
   },
   {
    "duration": 9,
    "start_time": "2022-05-11T21:47:49.260Z"
   },
   {
    "duration": 3,
    "start_time": "2022-05-11T21:47:49.272Z"
   },
   {
    "duration": 5,
    "start_time": "2022-05-11T21:47:49.278Z"
   },
   {
    "duration": 7,
    "start_time": "2022-05-11T21:47:49.285Z"
   },
   {
    "duration": 8,
    "start_time": "2022-05-11T21:47:49.294Z"
   },
   {
    "duration": 23,
    "start_time": "2022-05-11T21:47:49.304Z"
   },
   {
    "duration": 4,
    "start_time": "2022-05-11T21:47:49.352Z"
   },
   {
    "duration": 8,
    "start_time": "2022-05-11T21:47:49.357Z"
   },
   {
    "duration": 6,
    "start_time": "2022-05-11T21:47:49.367Z"
   },
   {
    "duration": 6,
    "start_time": "2022-05-11T21:47:49.375Z"
   },
   {
    "duration": 5,
    "start_time": "2022-05-11T21:47:49.383Z"
   },
   {
    "duration": 5,
    "start_time": "2022-05-11T21:47:49.390Z"
   },
   {
    "duration": 5,
    "start_time": "2022-05-11T21:47:49.397Z"
   },
   {
    "duration": 5,
    "start_time": "2022-05-11T21:47:49.404Z"
   },
   {
    "duration": 42,
    "start_time": "2022-05-11T21:47:49.411Z"
   },
   {
    "duration": 6,
    "start_time": "2022-05-11T21:47:49.455Z"
   },
   {
    "duration": 27,
    "start_time": "2022-05-11T22:08:43.214Z"
   },
   {
    "duration": 9,
    "start_time": "2022-05-11T22:08:43.243Z"
   },
   {
    "duration": 867,
    "start_time": "2022-05-11T22:08:55.704Z"
   },
   {
    "duration": 117,
    "start_time": "2022-05-11T22:08:56.574Z"
   },
   {
    "duration": 34,
    "start_time": "2022-05-11T22:08:56.693Z"
   },
   {
    "duration": 51,
    "start_time": "2022-05-11T22:08:56.731Z"
   },
   {
    "duration": 7,
    "start_time": "2022-05-11T22:08:56.784Z"
   },
   {
    "duration": 80,
    "start_time": "2022-05-11T22:08:56.793Z"
   },
   {
    "duration": 24,
    "start_time": "2022-05-11T22:08:56.875Z"
   },
   {
    "duration": 50,
    "start_time": "2022-05-11T22:08:56.901Z"
   },
   {
    "duration": 9,
    "start_time": "2022-05-11T22:08:56.953Z"
   },
   {
    "duration": 4,
    "start_time": "2022-05-11T22:08:56.966Z"
   },
   {
    "duration": 10,
    "start_time": "2022-05-11T22:08:56.972Z"
   },
   {
    "duration": 10,
    "start_time": "2022-05-11T22:08:56.984Z"
   },
   {
    "duration": 58,
    "start_time": "2022-05-11T22:08:56.997Z"
   },
   {
    "duration": 10,
    "start_time": "2022-05-11T22:08:57.057Z"
   },
   {
    "duration": 12,
    "start_time": "2022-05-11T22:08:57.069Z"
   },
   {
    "duration": 12,
    "start_time": "2022-05-11T22:08:57.084Z"
   },
   {
    "duration": 55,
    "start_time": "2022-05-11T22:08:57.098Z"
   },
   {
    "duration": 11,
    "start_time": "2022-05-11T22:08:57.155Z"
   },
   {
    "duration": 14,
    "start_time": "2022-05-11T22:08:57.169Z"
   },
   {
    "duration": 17,
    "start_time": "2022-05-11T22:08:57.185Z"
   },
   {
    "duration": 48,
    "start_time": "2022-05-11T22:08:57.204Z"
   },
   {
    "duration": 79,
    "start_time": "2022-05-11T22:08:57.254Z"
   },
   {
    "duration": 9,
    "start_time": "2022-05-11T22:08:57.351Z"
   },
   {
    "duration": 20,
    "start_time": "2022-05-11T22:08:57.362Z"
   },
   {
    "duration": 20,
    "start_time": "2022-05-11T22:08:57.384Z"
   },
   {
    "duration": 29,
    "start_time": "2022-05-11T22:08:57.406Z"
   },
   {
    "duration": 3,
    "start_time": "2022-05-11T22:08:57.437Z"
   },
   {
    "duration": 3,
    "start_time": "2022-05-11T22:08:57.455Z"
   },
   {
    "duration": 8,
    "start_time": "2022-05-11T22:08:57.460Z"
   },
   {
    "duration": 6,
    "start_time": "2022-05-11T22:08:57.470Z"
   },
   {
    "duration": 9,
    "start_time": "2022-05-11T22:08:57.478Z"
   },
   {
    "duration": 6,
    "start_time": "2022-05-11T22:08:57.489Z"
   },
   {
    "duration": 6,
    "start_time": "2022-05-11T22:08:57.497Z"
   },
   {
    "duration": 6,
    "start_time": "2022-05-11T22:08:57.505Z"
   },
   {
    "duration": 9,
    "start_time": "2022-05-11T22:08:57.513Z"
   },
   {
    "duration": 4,
    "start_time": "2022-05-11T22:08:57.551Z"
   },
   {
    "duration": 11,
    "start_time": "2022-05-11T22:08:57.557Z"
   },
   {
    "duration": 14,
    "start_time": "2022-05-11T22:08:57.570Z"
   },
   {
    "duration": 14,
    "start_time": "2022-05-11T22:08:57.586Z"
   },
   {
    "duration": 8,
    "start_time": "2022-05-11T22:08:57.602Z"
   },
   {
    "duration": 6,
    "start_time": "2022-05-11T22:08:57.612Z"
   },
   {
    "duration": 9,
    "start_time": "2022-05-11T22:10:25.794Z"
   },
   {
    "duration": 7,
    "start_time": "2022-05-11T22:11:01.310Z"
   },
   {
    "duration": 764,
    "start_time": "2022-05-12T00:58:00.613Z"
   },
   {
    "duration": 99,
    "start_time": "2022-05-12T00:58:01.380Z"
   },
   {
    "duration": 25,
    "start_time": "2022-05-12T00:58:01.480Z"
   },
   {
    "duration": 24,
    "start_time": "2022-05-12T00:58:01.507Z"
   },
   {
    "duration": 12,
    "start_time": "2022-05-12T00:58:01.532Z"
   },
   {
    "duration": 56,
    "start_time": "2022-05-12T00:58:01.546Z"
   },
   {
    "duration": 18,
    "start_time": "2022-05-12T00:58:01.604Z"
   },
   {
    "duration": 35,
    "start_time": "2022-05-12T00:58:01.624Z"
   },
   {
    "duration": 6,
    "start_time": "2022-05-12T00:58:01.660Z"
   },
   {
    "duration": 12,
    "start_time": "2022-05-12T00:58:01.668Z"
   },
   {
    "duration": 14,
    "start_time": "2022-05-12T00:58:01.682Z"
   },
   {
    "duration": 22,
    "start_time": "2022-05-12T00:58:01.697Z"
   },
   {
    "duration": 11,
    "start_time": "2022-05-12T00:58:01.720Z"
   },
   {
    "duration": 11,
    "start_time": "2022-05-12T00:58:01.733Z"
   },
   {
    "duration": 5,
    "start_time": "2022-05-12T00:58:01.745Z"
   },
   {
    "duration": 16,
    "start_time": "2022-05-12T00:58:01.751Z"
   },
   {
    "duration": 22,
    "start_time": "2022-05-12T00:58:01.768Z"
   },
   {
    "duration": 6,
    "start_time": "2022-05-12T00:58:01.792Z"
   },
   {
    "duration": 10,
    "start_time": "2022-05-12T00:58:01.799Z"
   },
   {
    "duration": 17,
    "start_time": "2022-05-12T00:58:01.810Z"
   },
   {
    "duration": 17,
    "start_time": "2022-05-12T00:58:01.829Z"
   },
   {
    "duration": 81,
    "start_time": "2022-05-12T00:58:01.848Z"
   },
   {
    "duration": 7,
    "start_time": "2022-05-12T00:58:01.931Z"
   },
   {
    "duration": 38,
    "start_time": "2022-05-12T00:58:01.940Z"
   },
   {
    "duration": 18,
    "start_time": "2022-05-12T00:58:01.980Z"
   },
   {
    "duration": 47,
    "start_time": "2022-05-12T00:58:02.000Z"
   },
   {
    "duration": 7,
    "start_time": "2022-05-12T00:58:02.049Z"
   },
   {
    "duration": 14,
    "start_time": "2022-05-12T00:58:02.060Z"
   },
   {
    "duration": 8,
    "start_time": "2022-05-12T00:58:02.076Z"
   },
   {
    "duration": 30,
    "start_time": "2022-05-12T00:58:02.086Z"
   },
   {
    "duration": 9,
    "start_time": "2022-05-12T00:58:02.118Z"
   },
   {
    "duration": 27,
    "start_time": "2022-05-12T00:58:02.128Z"
   },
   {
    "duration": 14,
    "start_time": "2022-05-12T00:58:02.157Z"
   },
   {
    "duration": 23,
    "start_time": "2022-05-12T00:58:02.173Z"
   },
   {
    "duration": 29,
    "start_time": "2022-05-12T00:58:02.198Z"
   },
   {
    "duration": 19,
    "start_time": "2022-05-12T00:58:02.229Z"
   },
   {
    "duration": 13,
    "start_time": "2022-05-12T00:58:02.250Z"
   },
   {
    "duration": 5,
    "start_time": "2022-05-12T00:58:02.265Z"
   },
   {
    "duration": 5,
    "start_time": "2022-05-12T00:58:02.272Z"
   },
   {
    "duration": 10,
    "start_time": "2022-05-12T00:58:02.278Z"
   },
   {
    "duration": 14,
    "start_time": "2022-05-12T00:58:02.290Z"
   },
   {
    "duration": 10,
    "start_time": "2022-05-12T00:58:02.305Z"
   },
   {
    "duration": 11,
    "start_time": "2022-05-12T01:00:54.749Z"
   },
   {
    "duration": 23,
    "start_time": "2022-05-12T01:01:23.509Z"
   },
   {
    "duration": 911,
    "start_time": "2022-05-12T20:57:00.660Z"
   },
   {
    "duration": 167,
    "start_time": "2022-05-12T20:57:01.574Z"
   },
   {
    "duration": 46,
    "start_time": "2022-05-12T20:57:01.743Z"
   },
   {
    "duration": 44,
    "start_time": "2022-05-12T20:57:01.792Z"
   },
   {
    "duration": 4,
    "start_time": "2022-05-12T20:57:01.839Z"
   },
   {
    "duration": 58,
    "start_time": "2022-05-12T20:57:01.845Z"
   },
   {
    "duration": 21,
    "start_time": "2022-05-12T20:57:01.905Z"
   },
   {
    "duration": 40,
    "start_time": "2022-05-12T20:57:01.928Z"
   },
   {
    "duration": 16,
    "start_time": "2022-05-12T20:57:01.969Z"
   },
   {
    "duration": 18,
    "start_time": "2022-05-12T20:57:01.988Z"
   },
   {
    "duration": 24,
    "start_time": "2022-05-12T20:57:02.008Z"
   },
   {
    "duration": 12,
    "start_time": "2022-05-12T20:57:02.034Z"
   },
   {
    "duration": 22,
    "start_time": "2022-05-12T20:57:02.048Z"
   },
   {
    "duration": 8,
    "start_time": "2022-05-12T20:57:02.072Z"
   },
   {
    "duration": 10,
    "start_time": "2022-05-12T20:57:02.082Z"
   },
   {
    "duration": 11,
    "start_time": "2022-05-12T20:57:02.094Z"
   },
   {
    "duration": 18,
    "start_time": "2022-05-12T20:57:02.107Z"
   },
   {
    "duration": 6,
    "start_time": "2022-05-12T20:57:02.127Z"
   },
   {
    "duration": 5,
    "start_time": "2022-05-12T20:57:02.135Z"
   },
   {
    "duration": 11,
    "start_time": "2022-05-12T20:57:02.168Z"
   },
   {
    "duration": 23,
    "start_time": "2022-05-12T20:57:02.180Z"
   },
   {
    "duration": 86,
    "start_time": "2022-05-12T20:57:02.205Z"
   },
   {
    "duration": 7,
    "start_time": "2022-05-12T20:57:02.292Z"
   },
   {
    "duration": 18,
    "start_time": "2022-05-12T20:57:02.301Z"
   },
   {
    "duration": 10,
    "start_time": "2022-05-12T20:57:02.321Z"
   },
   {
    "duration": 33,
    "start_time": "2022-05-12T20:57:02.334Z"
   },
   {
    "duration": 6,
    "start_time": "2022-05-12T20:57:02.369Z"
   },
   {
    "duration": 13,
    "start_time": "2022-05-12T20:57:02.379Z"
   },
   {
    "duration": 24,
    "start_time": "2022-05-12T20:57:02.394Z"
   },
   {
    "duration": 19,
    "start_time": "2022-05-12T20:57:02.420Z"
   },
   {
    "duration": 6,
    "start_time": "2022-05-12T20:57:02.441Z"
   },
   {
    "duration": 4,
    "start_time": "2022-05-12T20:57:02.449Z"
   },
   {
    "duration": 12,
    "start_time": "2022-05-12T20:57:02.455Z"
   },
   {
    "duration": 26,
    "start_time": "2022-05-12T20:57:02.468Z"
   },
   {
    "duration": 15,
    "start_time": "2022-05-12T20:57:02.496Z"
   },
   {
    "duration": 12,
    "start_time": "2022-05-12T20:57:02.513Z"
   },
   {
    "duration": 10,
    "start_time": "2022-05-12T20:57:02.527Z"
   },
   {
    "duration": 14,
    "start_time": "2022-05-12T20:57:02.539Z"
   },
   {
    "duration": 6,
    "start_time": "2022-05-12T20:57:02.555Z"
   },
   {
    "duration": 14,
    "start_time": "2022-05-12T20:57:02.562Z"
   },
   {
    "duration": 19,
    "start_time": "2022-05-12T20:57:02.579Z"
   },
   {
    "duration": 8,
    "start_time": "2022-05-12T20:57:02.600Z"
   },
   {
    "duration": 8,
    "start_time": "2022-05-12T20:57:02.610Z"
   },
   {
    "duration": 8,
    "start_time": "2022-05-12T20:57:02.621Z"
   },
   {
    "duration": 25,
    "start_time": "2022-05-12T21:06:49.608Z"
   },
   {
    "duration": 688,
    "start_time": "2022-05-12T21:07:16.677Z"
   },
   {
    "duration": 87,
    "start_time": "2022-05-12T21:07:17.367Z"
   },
   {
    "duration": 25,
    "start_time": "2022-05-12T21:07:17.456Z"
   },
   {
    "duration": 24,
    "start_time": "2022-05-12T21:07:17.483Z"
   },
   {
    "duration": 5,
    "start_time": "2022-05-12T21:07:17.508Z"
   },
   {
    "duration": 67,
    "start_time": "2022-05-12T21:07:17.514Z"
   },
   {
    "duration": 22,
    "start_time": "2022-05-12T21:07:17.583Z"
   },
   {
    "duration": 28,
    "start_time": "2022-05-12T21:07:17.607Z"
   },
   {
    "duration": 10,
    "start_time": "2022-05-12T21:07:17.637Z"
   },
   {
    "duration": 4,
    "start_time": "2022-05-12T21:07:17.667Z"
   },
   {
    "duration": 16,
    "start_time": "2022-05-12T21:07:17.673Z"
   },
   {
    "duration": 12,
    "start_time": "2022-05-12T21:07:17.690Z"
   },
   {
    "duration": 15,
    "start_time": "2022-05-12T21:07:17.703Z"
   },
   {
    "duration": 8,
    "start_time": "2022-05-12T21:07:17.720Z"
   },
   {
    "duration": 13,
    "start_time": "2022-05-12T21:07:17.730Z"
   },
   {
    "duration": 27,
    "start_time": "2022-05-12T21:07:17.745Z"
   },
   {
    "duration": 19,
    "start_time": "2022-05-12T21:07:17.774Z"
   },
   {
    "duration": 6,
    "start_time": "2022-05-12T21:07:17.795Z"
   },
   {
    "duration": 12,
    "start_time": "2022-05-12T21:07:17.803Z"
   },
   {
    "duration": 19,
    "start_time": "2022-05-12T21:07:17.817Z"
   },
   {
    "duration": 37,
    "start_time": "2022-05-12T21:07:17.838Z"
   },
   {
    "duration": 55,
    "start_time": "2022-05-12T21:07:17.877Z"
   },
   {
    "duration": 7,
    "start_time": "2022-05-12T21:07:17.934Z"
   },
   {
    "duration": 28,
    "start_time": "2022-05-12T21:07:17.943Z"
   },
   {
    "duration": 9,
    "start_time": "2022-05-12T21:07:17.973Z"
   },
   {
    "duration": 19,
    "start_time": "2022-05-12T21:07:17.984Z"
   },
   {
    "duration": 5,
    "start_time": "2022-05-12T21:07:18.005Z"
   },
   {
    "duration": 10,
    "start_time": "2022-05-12T21:07:18.014Z"
   },
   {
    "duration": 57,
    "start_time": "2022-05-12T21:07:18.025Z"
   },
   {
    "duration": 42,
    "start_time": "2022-05-12T21:07:18.084Z"
   },
   {
    "duration": 3,
    "start_time": "2022-05-12T21:07:18.128Z"
   },
   {
    "duration": 6,
    "start_time": "2022-05-12T21:07:18.133Z"
   },
   {
    "duration": 27,
    "start_time": "2022-05-12T21:07:18.141Z"
   },
   {
    "duration": 11,
    "start_time": "2022-05-12T21:07:18.170Z"
   },
   {
    "duration": 9,
    "start_time": "2022-05-12T21:07:18.183Z"
   },
   {
    "duration": 9,
    "start_time": "2022-05-12T21:07:18.194Z"
   },
   {
    "duration": 10,
    "start_time": "2022-05-12T21:07:18.205Z"
   },
   {
    "duration": 14,
    "start_time": "2022-05-12T21:07:18.218Z"
   },
   {
    "duration": 8,
    "start_time": "2022-05-12T21:07:18.234Z"
   },
   {
    "duration": 14,
    "start_time": "2022-05-12T21:07:18.244Z"
   },
   {
    "duration": 8,
    "start_time": "2022-05-12T21:07:18.260Z"
   },
   {
    "duration": 10,
    "start_time": "2022-05-12T21:07:18.270Z"
   },
   {
    "duration": 11,
    "start_time": "2022-05-12T21:07:18.282Z"
   },
   {
    "duration": 10,
    "start_time": "2022-05-12T21:07:18.295Z"
   },
   {
    "duration": 8,
    "start_time": "2022-05-12T21:07:18.307Z"
   },
   {
    "duration": 3341,
    "start_time": "2022-05-12T21:12:24.448Z"
   },
   {
    "duration": 26,
    "start_time": "2022-05-12T21:12:39.673Z"
   },
   {
    "duration": 4095,
    "start_time": "2022-05-12T21:13:36.881Z"
   },
   {
    "duration": 218,
    "start_time": "2022-05-12T21:13:40.978Z"
   },
   {
    "duration": 22,
    "start_time": "2022-05-12T21:13:52.952Z"
   },
   {
    "duration": 17,
    "start_time": "2022-05-12T21:14:04.482Z"
   },
   {
    "duration": 159,
    "start_time": "2022-05-12T21:14:46.661Z"
   },
   {
    "duration": 164,
    "start_time": "2022-05-12T21:14:51.093Z"
   },
   {
    "duration": 214,
    "start_time": "2022-05-12T21:14:51.577Z"
   },
   {
    "duration": 17,
    "start_time": "2022-05-12T21:14:52.281Z"
   },
   {
    "duration": 734,
    "start_time": "2022-05-12T21:14:59.878Z"
   },
   {
    "duration": 102,
    "start_time": "2022-05-12T21:15:00.615Z"
   },
   {
    "duration": 30,
    "start_time": "2022-05-12T21:15:00.718Z"
   },
   {
    "duration": 64,
    "start_time": "2022-05-12T21:15:00.750Z"
   },
   {
    "duration": 5,
    "start_time": "2022-05-12T21:15:00.817Z"
   },
   {
    "duration": 65,
    "start_time": "2022-05-12T21:15:00.824Z"
   },
   {
    "duration": 23,
    "start_time": "2022-05-12T21:15:00.891Z"
   },
   {
    "duration": 39,
    "start_time": "2022-05-12T21:15:00.916Z"
   },
   {
    "duration": 12,
    "start_time": "2022-05-12T21:15:00.956Z"
   },
   {
    "duration": 100,
    "start_time": "2022-05-12T21:15:00.971Z"
   },
   {
    "duration": 26,
    "start_time": "2022-05-12T21:15:01.072Z"
   },
   {
    "duration": 27,
    "start_time": "2022-05-12T21:15:01.100Z"
   },
   {
    "duration": 22,
    "start_time": "2022-05-12T21:15:01.129Z"
   },
   {
    "duration": 21,
    "start_time": "2022-05-12T21:15:01.153Z"
   },
   {
    "duration": 18,
    "start_time": "2022-05-12T21:15:01.176Z"
   },
   {
    "duration": 17,
    "start_time": "2022-05-12T21:15:01.196Z"
   },
   {
    "duration": 26,
    "start_time": "2022-05-12T21:15:01.216Z"
   },
   {
    "duration": 9,
    "start_time": "2022-05-12T21:15:01.244Z"
   },
   {
    "duration": 27,
    "start_time": "2022-05-12T21:15:01.255Z"
   },
   {
    "duration": 18,
    "start_time": "2022-05-12T21:15:01.284Z"
   },
   {
    "duration": 34,
    "start_time": "2022-05-12T21:15:01.304Z"
   },
   {
    "duration": 65,
    "start_time": "2022-05-12T21:15:01.340Z"
   },
   {
    "duration": 6,
    "start_time": "2022-05-12T21:15:01.407Z"
   },
   {
    "duration": 19,
    "start_time": "2022-05-12T21:15:01.415Z"
   },
   {
    "duration": 11,
    "start_time": "2022-05-12T21:15:01.436Z"
   },
   {
    "duration": 28,
    "start_time": "2022-05-12T21:15:01.450Z"
   },
   {
    "duration": 6,
    "start_time": "2022-05-12T21:15:01.480Z"
   },
   {
    "duration": 14,
    "start_time": "2022-05-12T21:15:01.490Z"
   },
   {
    "duration": 22,
    "start_time": "2022-05-12T21:15:01.506Z"
   },
   {
    "duration": 48,
    "start_time": "2022-05-12T21:15:01.530Z"
   },
   {
    "duration": 2756,
    "start_time": "2022-05-12T21:15:01.580Z"
   },
   {
    "duration": 0,
    "start_time": "2022-05-12T21:15:04.338Z"
   },
   {
    "duration": 0,
    "start_time": "2022-05-12T21:15:04.340Z"
   },
   {
    "duration": 0,
    "start_time": "2022-05-12T21:15:04.341Z"
   },
   {
    "duration": 0,
    "start_time": "2022-05-12T21:15:04.342Z"
   },
   {
    "duration": 0,
    "start_time": "2022-05-12T21:15:04.343Z"
   },
   {
    "duration": 0,
    "start_time": "2022-05-12T21:15:04.344Z"
   },
   {
    "duration": 0,
    "start_time": "2022-05-12T21:15:04.346Z"
   },
   {
    "duration": 0,
    "start_time": "2022-05-12T21:15:04.347Z"
   },
   {
    "duration": 0,
    "start_time": "2022-05-12T21:15:04.348Z"
   },
   {
    "duration": 0,
    "start_time": "2022-05-12T21:15:04.349Z"
   },
   {
    "duration": 0,
    "start_time": "2022-05-12T21:15:04.350Z"
   },
   {
    "duration": 0,
    "start_time": "2022-05-12T21:15:04.351Z"
   },
   {
    "duration": 0,
    "start_time": "2022-05-12T21:15:04.352Z"
   },
   {
    "duration": 0,
    "start_time": "2022-05-12T21:15:04.353Z"
   },
   {
    "duration": 0,
    "start_time": "2022-05-12T21:15:04.355Z"
   },
   {
    "duration": 0,
    "start_time": "2022-05-12T21:15:04.356Z"
   },
   {
    "duration": 0,
    "start_time": "2022-05-12T21:15:04.357Z"
   },
   {
    "duration": 1742,
    "start_time": "2022-05-12T21:15:23.018Z"
   },
   {
    "duration": 4089,
    "start_time": "2022-05-12T21:15:33.954Z"
   },
   {
    "duration": 29,
    "start_time": "2022-05-12T21:15:38.046Z"
   },
   {
    "duration": 694,
    "start_time": "2022-05-12T21:15:47.471Z"
   },
   {
    "duration": 90,
    "start_time": "2022-05-12T21:15:48.167Z"
   },
   {
    "duration": 27,
    "start_time": "2022-05-12T21:15:48.258Z"
   },
   {
    "duration": 23,
    "start_time": "2022-05-12T21:15:48.287Z"
   },
   {
    "duration": 4,
    "start_time": "2022-05-12T21:15:48.311Z"
   },
   {
    "duration": 63,
    "start_time": "2022-05-12T21:15:48.317Z"
   },
   {
    "duration": 20,
    "start_time": "2022-05-12T21:15:48.382Z"
   },
   {
    "duration": 21,
    "start_time": "2022-05-12T21:15:48.404Z"
   },
   {
    "duration": 6,
    "start_time": "2022-05-12T21:15:48.427Z"
   },
   {
    "duration": 32,
    "start_time": "2022-05-12T21:15:48.437Z"
   },
   {
    "duration": 12,
    "start_time": "2022-05-12T21:15:48.471Z"
   },
   {
    "duration": 13,
    "start_time": "2022-05-12T21:15:48.486Z"
   },
   {
    "duration": 16,
    "start_time": "2022-05-12T21:15:48.501Z"
   },
   {
    "duration": 10,
    "start_time": "2022-05-12T21:15:48.518Z"
   },
   {
    "duration": 6,
    "start_time": "2022-05-12T21:15:48.530Z"
   },
   {
    "duration": 37,
    "start_time": "2022-05-12T21:15:48.538Z"
   },
   {
    "duration": 26,
    "start_time": "2022-05-12T21:15:48.577Z"
   },
   {
    "duration": 9,
    "start_time": "2022-05-12T21:15:48.605Z"
   },
   {
    "duration": 10,
    "start_time": "2022-05-12T21:15:48.616Z"
   },
   {
    "duration": 42,
    "start_time": "2022-05-12T21:15:48.628Z"
   },
   {
    "duration": 21,
    "start_time": "2022-05-12T21:15:48.672Z"
   },
   {
    "duration": 93,
    "start_time": "2022-05-12T21:15:48.695Z"
   },
   {
    "duration": 7,
    "start_time": "2022-05-12T21:15:48.789Z"
   },
   {
    "duration": 11,
    "start_time": "2022-05-12T21:15:48.798Z"
   },
   {
    "duration": 17,
    "start_time": "2022-05-12T21:15:48.811Z"
   },
   {
    "duration": 19,
    "start_time": "2022-05-12T21:15:48.830Z"
   },
   {
    "duration": 19,
    "start_time": "2022-05-12T21:15:48.851Z"
   },
   {
    "duration": 21,
    "start_time": "2022-05-12T21:15:48.874Z"
   },
   {
    "duration": 19,
    "start_time": "2022-05-12T21:15:48.897Z"
   },
   {
    "duration": 26,
    "start_time": "2022-05-12T21:15:48.918Z"
   },
   {
    "duration": 4153,
    "start_time": "2022-05-12T21:15:48.946Z"
   },
   {
    "duration": 16,
    "start_time": "2022-05-12T21:15:53.100Z"
   },
   {
    "duration": 7,
    "start_time": "2022-05-12T21:15:53.118Z"
   },
   {
    "duration": 6,
    "start_time": "2022-05-12T21:15:53.127Z"
   },
   {
    "duration": 5,
    "start_time": "2022-05-12T21:15:53.135Z"
   },
   {
    "duration": 6,
    "start_time": "2022-05-12T21:15:53.141Z"
   },
   {
    "duration": 19,
    "start_time": "2022-05-12T21:15:53.148Z"
   },
   {
    "duration": 5,
    "start_time": "2022-05-12T21:15:53.169Z"
   },
   {
    "duration": 8,
    "start_time": "2022-05-12T21:15:53.176Z"
   },
   {
    "duration": 8,
    "start_time": "2022-05-12T21:15:53.186Z"
   },
   {
    "duration": 8,
    "start_time": "2022-05-12T21:15:53.195Z"
   },
   {
    "duration": 14,
    "start_time": "2022-05-12T21:15:53.205Z"
   },
   {
    "duration": 8,
    "start_time": "2022-05-12T21:15:53.220Z"
   },
   {
    "duration": 19,
    "start_time": "2022-05-12T21:15:53.230Z"
   },
   {
    "duration": 18,
    "start_time": "2022-05-12T21:15:53.251Z"
   },
   {
    "duration": 12,
    "start_time": "2022-05-12T21:15:53.271Z"
   },
   {
    "duration": 17,
    "start_time": "2022-05-12T21:15:53.285Z"
   },
   {
    "duration": 162,
    "start_time": "2022-05-12T21:16:54.488Z"
   },
   {
    "duration": 15,
    "start_time": "2022-05-12T21:16:55.423Z"
   },
   {
    "duration": 25,
    "start_time": "2022-05-12T21:17:12.315Z"
   },
   {
    "duration": 3177,
    "start_time": "2022-05-12T21:19:02.038Z"
   },
   {
    "duration": 22,
    "start_time": "2022-05-12T21:19:05.217Z"
   },
   {
    "duration": 24,
    "start_time": "2022-05-12T21:57:16.646Z"
   },
   {
    "duration": 871,
    "start_time": "2022-05-12T21:57:27.389Z"
   },
   {
    "duration": 115,
    "start_time": "2022-05-12T21:57:28.263Z"
   },
   {
    "duration": 30,
    "start_time": "2022-05-12T21:57:28.380Z"
   },
   {
    "duration": 27,
    "start_time": "2022-05-12T21:57:28.412Z"
   },
   {
    "duration": 29,
    "start_time": "2022-05-12T21:57:28.442Z"
   },
   {
    "duration": 60,
    "start_time": "2022-05-12T21:57:28.473Z"
   },
   {
    "duration": 39,
    "start_time": "2022-05-12T21:57:28.535Z"
   },
   {
    "duration": 26,
    "start_time": "2022-05-12T21:57:28.576Z"
   },
   {
    "duration": 7,
    "start_time": "2022-05-12T21:57:28.604Z"
   },
   {
    "duration": 18,
    "start_time": "2022-05-12T21:57:28.613Z"
   },
   {
    "duration": 16,
    "start_time": "2022-05-12T21:57:28.633Z"
   },
   {
    "duration": 11,
    "start_time": "2022-05-12T21:57:28.668Z"
   },
   {
    "duration": 13,
    "start_time": "2022-05-12T21:57:28.681Z"
   },
   {
    "duration": 8,
    "start_time": "2022-05-12T21:57:28.698Z"
   },
   {
    "duration": 11,
    "start_time": "2022-05-12T21:57:28.709Z"
   },
   {
    "duration": 30,
    "start_time": "2022-05-12T21:57:28.722Z"
   },
   {
    "duration": 28,
    "start_time": "2022-05-12T21:57:28.754Z"
   },
   {
    "duration": 7,
    "start_time": "2022-05-12T21:57:28.785Z"
   },
   {
    "duration": 18,
    "start_time": "2022-05-12T21:57:28.794Z"
   },
   {
    "duration": 29,
    "start_time": "2022-05-12T21:57:28.813Z"
   },
   {
    "duration": 23,
    "start_time": "2022-05-12T21:57:28.844Z"
   },
   {
    "duration": 68,
    "start_time": "2022-05-12T21:57:28.869Z"
   },
   {
    "duration": 7,
    "start_time": "2022-05-12T21:57:28.939Z"
   },
   {
    "duration": 21,
    "start_time": "2022-05-12T21:57:28.947Z"
   },
   {
    "duration": 8,
    "start_time": "2022-05-12T21:57:28.970Z"
   },
   {
    "duration": 20,
    "start_time": "2022-05-12T21:57:28.980Z"
   },
   {
    "duration": 6,
    "start_time": "2022-05-12T21:57:29.002Z"
   },
   {
    "duration": 12,
    "start_time": "2022-05-12T21:57:29.010Z"
   },
   {
    "duration": 55,
    "start_time": "2022-05-12T21:57:29.024Z"
   },
   {
    "duration": 35,
    "start_time": "2022-05-12T21:57:29.081Z"
   },
   {
    "duration": 4269,
    "start_time": "2022-05-12T21:57:29.118Z"
   },
   {
    "duration": 26,
    "start_time": "2022-05-12T21:57:33.389Z"
   },
   {
    "duration": 3,
    "start_time": "2022-05-12T21:57:33.417Z"
   },
   {
    "duration": 5,
    "start_time": "2022-05-12T21:57:33.422Z"
   },
   {
    "duration": 15,
    "start_time": "2022-05-12T21:57:33.429Z"
   },
   {
    "duration": 21,
    "start_time": "2022-05-12T21:57:33.446Z"
   },
   {
    "duration": 3,
    "start_time": "2022-05-12T21:57:33.469Z"
   },
   {
    "duration": 14,
    "start_time": "2022-05-12T21:57:33.474Z"
   },
   {
    "duration": 5,
    "start_time": "2022-05-12T21:57:33.491Z"
   },
   {
    "duration": 8,
    "start_time": "2022-05-12T21:57:33.498Z"
   },
   {
    "duration": 18,
    "start_time": "2022-05-12T21:57:33.510Z"
   },
   {
    "duration": 8,
    "start_time": "2022-05-12T21:57:33.531Z"
   },
   {
    "duration": 14,
    "start_time": "2022-05-12T21:57:33.540Z"
   },
   {
    "duration": 17,
    "start_time": "2022-05-12T21:57:33.556Z"
   },
   {
    "duration": 7,
    "start_time": "2022-05-12T21:57:33.575Z"
   },
   {
    "duration": 9,
    "start_time": "2022-05-12T21:57:33.584Z"
   },
   {
    "duration": 11,
    "start_time": "2022-05-12T21:57:33.596Z"
   },
   {
    "duration": 3607,
    "start_time": "2022-05-12T21:58:29.102Z"
   },
   {
    "duration": 22,
    "start_time": "2022-05-12T21:58:32.711Z"
   },
   {
    "duration": 169,
    "start_time": "2022-05-12T22:17:50.856Z"
   },
   {
    "duration": 23,
    "start_time": "2022-05-12T22:17:51.538Z"
   },
   {
    "duration": 213,
    "start_time": "2022-05-12T22:17:55.622Z"
   },
   {
    "duration": 869,
    "start_time": "2022-05-14T00:12:50.157Z"
   },
   {
    "duration": 98,
    "start_time": "2022-05-14T00:12:51.028Z"
   },
   {
    "duration": 28,
    "start_time": "2022-05-14T00:12:51.127Z"
   },
   {
    "duration": 24,
    "start_time": "2022-05-14T00:12:51.158Z"
   },
   {
    "duration": 4,
    "start_time": "2022-05-14T00:12:51.183Z"
   },
   {
    "duration": 69,
    "start_time": "2022-05-14T00:12:51.190Z"
   },
   {
    "duration": 21,
    "start_time": "2022-05-14T00:12:51.261Z"
   },
   {
    "duration": 43,
    "start_time": "2022-05-14T00:12:51.284Z"
   },
   {
    "duration": 8,
    "start_time": "2022-05-14T00:12:51.329Z"
   },
   {
    "duration": 4,
    "start_time": "2022-05-14T00:12:51.340Z"
   },
   {
    "duration": 8,
    "start_time": "2022-05-14T00:12:51.346Z"
   },
   {
    "duration": 8,
    "start_time": "2022-05-14T00:12:51.356Z"
   },
   {
    "duration": 12,
    "start_time": "2022-05-14T00:12:51.366Z"
   },
   {
    "duration": 3880,
    "start_time": "2022-05-14T00:12:51.782Z"
   },
   {
    "duration": 23,
    "start_time": "2022-05-14T00:12:55.664Z"
   },
   {
    "duration": 3091,
    "start_time": "2022-05-14T00:12:55.689Z"
   },
   {
    "duration": 2,
    "start_time": "2022-05-14T00:12:58.782Z"
   },
   {
    "duration": 10,
    "start_time": "2022-05-14T00:12:58.786Z"
   },
   {
    "duration": 15,
    "start_time": "2022-05-14T00:12:58.798Z"
   },
   {
    "duration": 6,
    "start_time": "2022-05-14T00:12:58.815Z"
   },
   {
    "duration": 18,
    "start_time": "2022-05-14T00:12:58.823Z"
   },
   {
    "duration": 6,
    "start_time": "2022-05-14T00:12:58.843Z"
   },
   {
    "duration": 9,
    "start_time": "2022-05-14T00:12:58.851Z"
   },
   {
    "duration": 9,
    "start_time": "2022-05-14T00:12:58.861Z"
   },
   {
    "duration": 14,
    "start_time": "2022-05-14T00:12:58.872Z"
   },
   {
    "duration": 18,
    "start_time": "2022-05-14T00:12:58.888Z"
   },
   {
    "duration": 21,
    "start_time": "2022-05-14T00:12:58.908Z"
   },
   {
    "duration": 12,
    "start_time": "2022-05-14T00:12:58.931Z"
   },
   {
    "duration": 11,
    "start_time": "2022-05-14T00:12:58.945Z"
   },
   {
    "duration": 18,
    "start_time": "2022-05-14T00:12:58.957Z"
   },
   {
    "duration": 878,
    "start_time": "2022-05-14T16:30:34.282Z"
   },
   {
    "duration": 105,
    "start_time": "2022-05-14T16:30:35.163Z"
   },
   {
    "duration": 27,
    "start_time": "2022-05-14T16:30:35.270Z"
   },
   {
    "duration": 38,
    "start_time": "2022-05-14T16:30:35.299Z"
   },
   {
    "duration": 4,
    "start_time": "2022-05-14T16:30:35.339Z"
   },
   {
    "duration": 42,
    "start_time": "2022-05-14T16:30:35.344Z"
   },
   {
    "duration": 41,
    "start_time": "2022-05-14T16:30:35.387Z"
   },
   {
    "duration": 25,
    "start_time": "2022-05-14T16:30:35.429Z"
   },
   {
    "duration": 5,
    "start_time": "2022-05-14T16:30:35.456Z"
   },
   {
    "duration": 4,
    "start_time": "2022-05-14T16:30:35.464Z"
   },
   {
    "duration": 7,
    "start_time": "2022-05-14T16:30:35.469Z"
   },
   {
    "duration": 7,
    "start_time": "2022-05-14T16:30:35.478Z"
   },
   {
    "duration": 11,
    "start_time": "2022-05-14T16:30:35.523Z"
   },
   {
    "duration": 9,
    "start_time": "2022-05-14T16:30:35.536Z"
   },
   {
    "duration": 6,
    "start_time": "2022-05-14T16:30:35.547Z"
   },
   {
    "duration": 10,
    "start_time": "2022-05-14T16:30:35.555Z"
   },
   {
    "duration": 19,
    "start_time": "2022-05-14T16:30:35.567Z"
   },
   {
    "duration": 41,
    "start_time": "2022-05-14T16:30:35.588Z"
   },
   {
    "duration": 6,
    "start_time": "2022-05-14T16:30:35.631Z"
   },
   {
    "duration": 12,
    "start_time": "2022-05-14T16:30:35.639Z"
   },
   {
    "duration": 12,
    "start_time": "2022-05-14T16:30:35.652Z"
   },
   {
    "duration": 86,
    "start_time": "2022-05-14T16:30:35.666Z"
   },
   {
    "duration": 6,
    "start_time": "2022-05-14T16:30:35.754Z"
   },
   {
    "duration": 12,
    "start_time": "2022-05-14T16:30:35.762Z"
   },
   {
    "duration": 7,
    "start_time": "2022-05-14T16:30:35.776Z"
   },
   {
    "duration": 43,
    "start_time": "2022-05-14T16:30:35.785Z"
   },
   {
    "duration": 5,
    "start_time": "2022-05-14T16:30:35.830Z"
   },
   {
    "duration": 9,
    "start_time": "2022-05-14T16:30:35.839Z"
   },
   {
    "duration": 20,
    "start_time": "2022-05-14T16:30:35.849Z"
   },
   {
    "duration": 54,
    "start_time": "2022-05-14T16:30:35.870Z"
   },
   {
    "duration": 4304,
    "start_time": "2022-05-14T16:30:35.925Z"
   },
   {
    "duration": 24,
    "start_time": "2022-05-14T16:30:40.231Z"
   },
   {
    "duration": 3238,
    "start_time": "2022-05-14T16:30:40.257Z"
   },
   {
    "duration": 3,
    "start_time": "2022-05-14T16:30:43.496Z"
   },
   {
    "duration": 6,
    "start_time": "2022-05-14T16:30:43.500Z"
   },
   {
    "duration": 15,
    "start_time": "2022-05-14T16:30:43.508Z"
   },
   {
    "duration": 6,
    "start_time": "2022-05-14T16:30:43.524Z"
   },
   {
    "duration": 7,
    "start_time": "2022-05-14T16:30:43.532Z"
   },
   {
    "duration": 6,
    "start_time": "2022-05-14T16:30:43.541Z"
   },
   {
    "duration": 10,
    "start_time": "2022-05-14T16:30:43.549Z"
   },
   {
    "duration": 8,
    "start_time": "2022-05-14T16:30:43.560Z"
   },
   {
    "duration": 10,
    "start_time": "2022-05-14T16:30:43.569Z"
   },
   {
    "duration": 9,
    "start_time": "2022-05-14T16:30:43.580Z"
   },
   {
    "duration": 7,
    "start_time": "2022-05-14T16:30:43.590Z"
   },
   {
    "duration": 7,
    "start_time": "2022-05-14T16:30:43.599Z"
   },
   {
    "duration": 9,
    "start_time": "2022-05-14T16:30:43.608Z"
   },
   {
    "duration": 9,
    "start_time": "2022-05-14T16:30:43.618Z"
   },
   {
    "duration": 706,
    "start_time": "2022-05-14T18:32:10.567Z"
   },
   {
    "duration": 96,
    "start_time": "2022-05-14T18:32:11.275Z"
   },
   {
    "duration": 28,
    "start_time": "2022-05-14T18:32:11.373Z"
   },
   {
    "duration": 33,
    "start_time": "2022-05-14T18:32:11.403Z"
   },
   {
    "duration": 5,
    "start_time": "2022-05-14T18:32:11.438Z"
   },
   {
    "duration": 42,
    "start_time": "2022-05-14T18:32:11.444Z"
   },
   {
    "duration": 41,
    "start_time": "2022-05-14T18:32:11.488Z"
   },
   {
    "duration": 23,
    "start_time": "2022-05-14T18:32:11.531Z"
   },
   {
    "duration": 6,
    "start_time": "2022-05-14T18:32:11.556Z"
   },
   {
    "duration": 4,
    "start_time": "2022-05-14T18:32:11.565Z"
   },
   {
    "duration": 12,
    "start_time": "2022-05-14T18:32:11.570Z"
   },
   {
    "duration": 42,
    "start_time": "2022-05-14T18:32:11.584Z"
   },
   {
    "duration": 12,
    "start_time": "2022-05-14T18:32:11.627Z"
   },
   {
    "duration": 8,
    "start_time": "2022-05-14T18:32:11.641Z"
   },
   {
    "duration": 5,
    "start_time": "2022-05-14T18:32:11.650Z"
   },
   {
    "duration": 10,
    "start_time": "2022-05-14T18:32:11.657Z"
   },
   {
    "duration": 54,
    "start_time": "2022-05-14T18:32:11.669Z"
   },
   {
    "duration": 8,
    "start_time": "2022-05-14T18:32:11.725Z"
   },
   {
    "duration": 19,
    "start_time": "2022-05-14T18:32:11.735Z"
   },
   {
    "duration": 11,
    "start_time": "2022-05-14T18:32:11.757Z"
   },
   {
    "duration": 13,
    "start_time": "2022-05-14T18:32:11.770Z"
   },
   {
    "duration": 84,
    "start_time": "2022-05-14T18:32:11.786Z"
   },
   {
    "duration": 8,
    "start_time": "2022-05-14T18:32:11.872Z"
   },
   {
    "duration": 11,
    "start_time": "2022-05-14T18:32:11.882Z"
   },
   {
    "duration": 29,
    "start_time": "2022-05-14T18:32:11.895Z"
   },
   {
    "duration": 19,
    "start_time": "2022-05-14T18:32:11.926Z"
   },
   {
    "duration": 6,
    "start_time": "2022-05-14T18:32:11.947Z"
   },
   {
    "duration": 10,
    "start_time": "2022-05-14T18:32:11.957Z"
   },
   {
    "duration": 57,
    "start_time": "2022-05-14T18:32:11.969Z"
   },
   {
    "duration": 25,
    "start_time": "2022-05-14T18:32:12.028Z"
   },
   {
    "duration": 4402,
    "start_time": "2022-05-14T18:32:12.055Z"
   },
   {
    "duration": 26,
    "start_time": "2022-05-14T18:32:16.458Z"
   },
   {
    "duration": 3280,
    "start_time": "2022-05-14T18:32:16.485Z"
   },
   {
    "duration": 2,
    "start_time": "2022-05-14T18:32:19.767Z"
   },
   {
    "duration": 22,
    "start_time": "2022-05-14T18:32:19.771Z"
   },
   {
    "duration": 22,
    "start_time": "2022-05-14T18:32:19.795Z"
   },
   {
    "duration": 20,
    "start_time": "2022-05-14T18:32:19.819Z"
   },
   {
    "duration": 13,
    "start_time": "2022-05-14T18:32:19.840Z"
   },
   {
    "duration": 14,
    "start_time": "2022-05-14T18:32:19.855Z"
   },
   {
    "duration": 12,
    "start_time": "2022-05-14T18:32:19.871Z"
   },
   {
    "duration": 26,
    "start_time": "2022-05-14T18:32:19.885Z"
   },
   {
    "duration": 10,
    "start_time": "2022-05-14T18:32:19.913Z"
   },
   {
    "duration": 24,
    "start_time": "2022-05-14T18:32:19.925Z"
   },
   {
    "duration": 17,
    "start_time": "2022-05-14T18:32:19.951Z"
   },
   {
    "duration": 15,
    "start_time": "2022-05-14T18:32:19.970Z"
   },
   {
    "duration": 6,
    "start_time": "2022-05-14T18:32:19.987Z"
   },
   {
    "duration": 24,
    "start_time": "2022-05-14T18:32:19.995Z"
   },
   {
    "duration": 770,
    "start_time": "2022-05-14T22:44:21.007Z"
   },
   {
    "duration": 87,
    "start_time": "2022-05-14T22:44:21.779Z"
   },
   {
    "duration": 23,
    "start_time": "2022-05-14T22:44:21.868Z"
   },
   {
    "duration": 22,
    "start_time": "2022-05-14T22:44:21.893Z"
   },
   {
    "duration": 4,
    "start_time": "2022-05-14T22:44:21.916Z"
   },
   {
    "duration": 71,
    "start_time": "2022-05-14T22:44:21.922Z"
   },
   {
    "duration": 18,
    "start_time": "2022-05-14T22:44:21.995Z"
   },
   {
    "duration": 20,
    "start_time": "2022-05-14T22:44:22.015Z"
   },
   {
    "duration": 34,
    "start_time": "2022-05-14T22:44:22.037Z"
   },
   {
    "duration": 4,
    "start_time": "2022-05-14T22:44:22.074Z"
   },
   {
    "duration": 6,
    "start_time": "2022-05-14T22:44:22.080Z"
   },
   {
    "duration": 8,
    "start_time": "2022-05-14T22:44:22.087Z"
   },
   {
    "duration": 11,
    "start_time": "2022-05-14T22:44:22.096Z"
   },
   {
    "duration": 7,
    "start_time": "2022-05-14T22:44:22.109Z"
   },
   {
    "duration": 5,
    "start_time": "2022-05-14T22:44:22.117Z"
   },
   {
    "duration": 8,
    "start_time": "2022-05-14T22:44:22.171Z"
   },
   {
    "duration": 18,
    "start_time": "2022-05-14T22:44:22.181Z"
   },
   {
    "duration": 7,
    "start_time": "2022-05-14T22:44:22.201Z"
   },
   {
    "duration": 5,
    "start_time": "2022-05-14T22:44:22.210Z"
   },
   {
    "duration": 55,
    "start_time": "2022-05-14T22:44:22.217Z"
   },
   {
    "duration": 13,
    "start_time": "2022-05-14T22:44:22.274Z"
   },
   {
    "duration": 50,
    "start_time": "2022-05-14T22:44:22.289Z"
   },
   {
    "duration": 32,
    "start_time": "2022-05-14T22:44:22.341Z"
   },
   {
    "duration": 11,
    "start_time": "2022-05-14T22:44:22.375Z"
   },
   {
    "duration": 6,
    "start_time": "2022-05-14T22:44:22.388Z"
   },
   {
    "duration": 17,
    "start_time": "2022-05-14T22:44:22.396Z"
   },
   {
    "duration": 4,
    "start_time": "2022-05-14T22:44:22.415Z"
   },
   {
    "duration": 49,
    "start_time": "2022-05-14T22:44:22.423Z"
   },
   {
    "duration": 17,
    "start_time": "2022-05-14T22:44:22.474Z"
   },
   {
    "duration": 22,
    "start_time": "2022-05-14T22:44:22.492Z"
   },
   {
    "duration": 3632,
    "start_time": "2022-05-14T22:44:22.515Z"
   },
   {
    "duration": 30,
    "start_time": "2022-05-14T22:44:26.148Z"
   },
   {
    "duration": 2781,
    "start_time": "2022-05-14T22:44:26.179Z"
   },
   {
    "duration": 2,
    "start_time": "2022-05-14T22:44:28.962Z"
   },
   {
    "duration": 6,
    "start_time": "2022-05-14T22:44:28.965Z"
   },
   {
    "duration": 4,
    "start_time": "2022-05-14T22:44:28.973Z"
   },
   {
    "duration": 4,
    "start_time": "2022-05-14T22:44:28.978Z"
   },
   {
    "duration": 4,
    "start_time": "2022-05-14T22:44:28.983Z"
   },
   {
    "duration": 4,
    "start_time": "2022-05-14T22:44:28.989Z"
   },
   {
    "duration": 4,
    "start_time": "2022-05-14T22:44:28.994Z"
   },
   {
    "duration": 5,
    "start_time": "2022-05-14T22:44:29.000Z"
   },
   {
    "duration": 4,
    "start_time": "2022-05-14T22:44:29.007Z"
   },
   {
    "duration": 5,
    "start_time": "2022-05-14T22:44:29.012Z"
   },
   {
    "duration": 5,
    "start_time": "2022-05-14T22:44:29.018Z"
   },
   {
    "duration": 4,
    "start_time": "2022-05-14T22:44:29.024Z"
   },
   {
    "duration": 4,
    "start_time": "2022-05-14T22:44:29.029Z"
   },
   {
    "duration": 40,
    "start_time": "2022-05-14T22:44:29.034Z"
   },
   {
    "duration": 320,
    "start_time": "2022-05-14T22:47:06.151Z"
   },
   {
    "duration": 21,
    "start_time": "2022-05-14T22:47:09.068Z"
   },
   {
    "duration": 583,
    "start_time": "2022-05-14T22:47:16.508Z"
   },
   {
    "duration": 81,
    "start_time": "2022-05-14T22:47:17.092Z"
   },
   {
    "duration": 22,
    "start_time": "2022-05-14T22:47:17.175Z"
   },
   {
    "duration": 21,
    "start_time": "2022-05-14T22:47:17.199Z"
   },
   {
    "duration": 3,
    "start_time": "2022-05-14T22:47:17.221Z"
   },
   {
    "duration": 71,
    "start_time": "2022-05-14T22:47:17.226Z"
   },
   {
    "duration": 17,
    "start_time": "2022-05-14T22:47:17.299Z"
   },
   {
    "duration": 21,
    "start_time": "2022-05-14T22:47:17.318Z"
   },
   {
    "duration": 31,
    "start_time": "2022-05-14T22:47:17.341Z"
   },
   {
    "duration": 4,
    "start_time": "2022-05-14T22:47:17.375Z"
   },
   {
    "duration": 8,
    "start_time": "2022-05-14T22:47:17.381Z"
   },
   {
    "duration": 8,
    "start_time": "2022-05-14T22:47:17.391Z"
   },
   {
    "duration": 12,
    "start_time": "2022-05-14T22:47:17.401Z"
   },
   {
    "duration": 9,
    "start_time": "2022-05-14T22:47:17.414Z"
   },
   {
    "duration": 51,
    "start_time": "2022-05-14T22:47:17.424Z"
   },
   {
    "duration": 9,
    "start_time": "2022-05-14T22:47:17.477Z"
   },
   {
    "duration": 19,
    "start_time": "2022-05-14T22:47:17.488Z"
   },
   {
    "duration": 9,
    "start_time": "2022-05-14T22:47:17.508Z"
   },
   {
    "duration": 5,
    "start_time": "2022-05-14T22:47:17.518Z"
   },
   {
    "duration": 12,
    "start_time": "2022-05-14T22:47:17.570Z"
   },
   {
    "duration": 12,
    "start_time": "2022-05-14T22:47:17.584Z"
   },
   {
    "duration": 82,
    "start_time": "2022-05-14T22:47:17.598Z"
   },
   {
    "duration": 7,
    "start_time": "2022-05-14T22:47:17.682Z"
   },
   {
    "duration": 11,
    "start_time": "2022-05-14T22:47:17.691Z"
   },
   {
    "duration": 8,
    "start_time": "2022-05-14T22:47:17.703Z"
   },
   {
    "duration": 18,
    "start_time": "2022-05-14T22:47:17.712Z"
   },
   {
    "duration": 43,
    "start_time": "2022-05-14T22:47:17.732Z"
   },
   {
    "duration": 12,
    "start_time": "2022-05-14T22:47:17.780Z"
   },
   {
    "duration": 22,
    "start_time": "2022-05-14T22:47:17.793Z"
   },
   {
    "duration": 65,
    "start_time": "2022-05-14T22:47:17.817Z"
   },
   {
    "duration": 6475,
    "start_time": "2022-05-14T22:47:17.884Z"
   },
   {
    "duration": 29,
    "start_time": "2022-05-14T22:47:24.361Z"
   },
   {
    "duration": 2,
    "start_time": "2022-05-14T22:47:24.392Z"
   },
   {
    "duration": 8,
    "start_time": "2022-05-14T22:47:24.395Z"
   },
   {
    "duration": 6,
    "start_time": "2022-05-14T22:47:24.405Z"
   },
   {
    "duration": 7,
    "start_time": "2022-05-14T22:47:24.413Z"
   },
   {
    "duration": 4,
    "start_time": "2022-05-14T22:47:24.421Z"
   },
   {
    "duration": 4,
    "start_time": "2022-05-14T22:47:24.427Z"
   },
   {
    "duration": 6,
    "start_time": "2022-05-14T22:47:24.432Z"
   },
   {
    "duration": 4,
    "start_time": "2022-05-14T22:47:24.439Z"
   },
   {
    "duration": 26,
    "start_time": "2022-05-14T22:47:24.445Z"
   },
   {
    "duration": 2,
    "start_time": "2022-05-14T22:47:24.473Z"
   },
   {
    "duration": 4,
    "start_time": "2022-05-14T22:47:24.476Z"
   },
   {
    "duration": 4,
    "start_time": "2022-05-14T22:47:24.482Z"
   },
   {
    "duration": 4,
    "start_time": "2022-05-14T22:47:24.487Z"
   },
   {
    "duration": 4,
    "start_time": "2022-05-14T22:47:24.492Z"
   },
   {
    "duration": 4,
    "start_time": "2022-05-14T22:47:24.498Z"
   },
   {
    "duration": 1935,
    "start_time": "2022-05-14T23:03:55.459Z"
   },
   {
    "duration": 8,
    "start_time": "2022-05-14T23:05:31.126Z"
   },
   {
    "duration": 9,
    "start_time": "2022-05-14T23:05:42.178Z"
   },
   {
    "duration": 126,
    "start_time": "2022-05-14T23:06:16.001Z"
   },
   {
    "duration": 101,
    "start_time": "2022-05-14T23:06:38.919Z"
   },
   {
    "duration": 9,
    "start_time": "2022-05-14T23:08:48.848Z"
   },
   {
    "duration": 619,
    "start_time": "2022-05-14T23:08:58.789Z"
   },
   {
    "duration": 637,
    "start_time": "2022-05-14T23:11:32.490Z"
   },
   {
    "duration": 830,
    "start_time": "2022-05-16T19:56:26.566Z"
   },
   {
    "duration": 104,
    "start_time": "2022-05-16T19:56:27.398Z"
   },
   {
    "duration": 27,
    "start_time": "2022-05-16T19:56:27.503Z"
   },
   {
    "duration": 33,
    "start_time": "2022-05-16T19:56:27.533Z"
   },
   {
    "duration": 5,
    "start_time": "2022-05-16T19:56:27.567Z"
   },
   {
    "duration": 44,
    "start_time": "2022-05-16T19:56:27.573Z"
   },
   {
    "duration": 32,
    "start_time": "2022-05-16T19:56:27.619Z"
   },
   {
    "duration": 21,
    "start_time": "2022-05-16T19:56:27.653Z"
   },
   {
    "duration": 5,
    "start_time": "2022-05-16T19:56:27.676Z"
   },
   {
    "duration": 4,
    "start_time": "2022-05-16T19:56:27.684Z"
   },
   {
    "duration": 9,
    "start_time": "2022-05-16T19:56:27.689Z"
   },
   {
    "duration": 6,
    "start_time": "2022-05-16T19:56:27.700Z"
   },
   {
    "duration": 52,
    "start_time": "2022-05-16T19:56:27.708Z"
   },
   {
    "duration": 8,
    "start_time": "2022-05-16T19:56:27.762Z"
   },
   {
    "duration": 5,
    "start_time": "2022-05-16T19:56:27.771Z"
   },
   {
    "duration": 7,
    "start_time": "2022-05-16T19:56:27.778Z"
   },
   {
    "duration": 17,
    "start_time": "2022-05-16T19:56:27.787Z"
   },
   {
    "duration": 6,
    "start_time": "2022-05-16T19:56:27.806Z"
   },
   {
    "duration": 5,
    "start_time": "2022-05-16T19:56:27.850Z"
   },
   {
    "duration": 10,
    "start_time": "2022-05-16T19:56:27.857Z"
   },
   {
    "duration": 11,
    "start_time": "2022-05-16T19:56:27.868Z"
   },
   {
    "duration": 76,
    "start_time": "2022-05-16T19:56:27.881Z"
   },
   {
    "duration": 6,
    "start_time": "2022-05-16T19:56:27.958Z"
   },
   {
    "duration": 11,
    "start_time": "2022-05-16T19:56:27.966Z"
   },
   {
    "duration": 11,
    "start_time": "2022-05-16T19:56:27.978Z"
   },
   {
    "duration": 19,
    "start_time": "2022-05-16T19:56:27.991Z"
   },
   {
    "duration": 5,
    "start_time": "2022-05-16T19:56:28.012Z"
   },
   {
    "duration": 10,
    "start_time": "2022-05-16T19:56:28.051Z"
   },
   {
    "duration": 20,
    "start_time": "2022-05-16T19:56:28.062Z"
   },
   {
    "duration": 24,
    "start_time": "2022-05-16T19:56:28.083Z"
   },
   {
    "duration": 7256,
    "start_time": "2022-05-16T19:56:28.109Z"
   },
   {
    "duration": 24,
    "start_time": "2022-05-16T19:56:35.367Z"
   },
   {
    "duration": 206,
    "start_time": "2022-05-16T19:56:35.393Z"
   },
   {
    "duration": 0,
    "start_time": "2022-05-16T19:56:35.600Z"
   },
   {
    "duration": 0,
    "start_time": "2022-05-16T19:56:35.602Z"
   },
   {
    "duration": 0,
    "start_time": "2022-05-16T19:56:35.603Z"
   },
   {
    "duration": 0,
    "start_time": "2022-05-16T19:56:35.604Z"
   },
   {
    "duration": 0,
    "start_time": "2022-05-16T19:56:35.605Z"
   },
   {
    "duration": 0,
    "start_time": "2022-05-16T19:56:35.606Z"
   },
   {
    "duration": 0,
    "start_time": "2022-05-16T19:56:35.607Z"
   },
   {
    "duration": 0,
    "start_time": "2022-05-16T19:56:35.608Z"
   },
   {
    "duration": 0,
    "start_time": "2022-05-16T19:56:35.609Z"
   },
   {
    "duration": 0,
    "start_time": "2022-05-16T19:56:35.610Z"
   },
   {
    "duration": 0,
    "start_time": "2022-05-16T19:56:35.611Z"
   },
   {
    "duration": 1,
    "start_time": "2022-05-16T19:56:35.612Z"
   },
   {
    "duration": 0,
    "start_time": "2022-05-16T19:56:35.614Z"
   },
   {
    "duration": 3185,
    "start_time": "2022-05-16T20:07:29.422Z"
   },
   {
    "duration": 5,
    "start_time": "2022-05-16T20:07:44.742Z"
   },
   {
    "duration": 32,
    "start_time": "2022-05-16T20:08:11.853Z"
   },
   {
    "duration": 18,
    "start_time": "2022-05-16T20:08:23.393Z"
   },
   {
    "duration": 28,
    "start_time": "2022-05-16T20:18:12.513Z"
   },
   {
    "duration": 22,
    "start_time": "2022-05-16T20:19:27.673Z"
   },
   {
    "duration": 6,
    "start_time": "2022-05-16T20:27:48.030Z"
   },
   {
    "duration": 10,
    "start_time": "2022-05-16T20:27:48.845Z"
   },
   {
    "duration": 6,
    "start_time": "2022-05-16T20:27:50.352Z"
   },
   {
    "duration": 730,
    "start_time": "2022-05-16T20:27:59.155Z"
   },
   {
    "duration": 100,
    "start_time": "2022-05-16T20:27:59.887Z"
   },
   {
    "duration": 25,
    "start_time": "2022-05-16T20:27:59.989Z"
   },
   {
    "duration": 34,
    "start_time": "2022-05-16T20:28:00.017Z"
   },
   {
    "duration": 4,
    "start_time": "2022-05-16T20:28:00.053Z"
   },
   {
    "duration": 46,
    "start_time": "2022-05-16T20:28:00.058Z"
   },
   {
    "duration": 45,
    "start_time": "2022-05-16T20:28:00.106Z"
   },
   {
    "duration": 24,
    "start_time": "2022-05-16T20:28:00.153Z"
   },
   {
    "duration": 10,
    "start_time": "2022-05-16T20:28:00.178Z"
   },
   {
    "duration": 7,
    "start_time": "2022-05-16T20:28:00.191Z"
   },
   {
    "duration": 9,
    "start_time": "2022-05-16T20:28:00.199Z"
   },
   {
    "duration": 10,
    "start_time": "2022-05-16T20:28:00.209Z"
   },
   {
    "duration": 12,
    "start_time": "2022-05-16T20:28:00.250Z"
   },
   {
    "duration": 14,
    "start_time": "2022-05-16T20:28:00.264Z"
   },
   {
    "duration": 6,
    "start_time": "2022-05-16T20:28:00.280Z"
   },
   {
    "duration": 15,
    "start_time": "2022-05-16T20:28:00.288Z"
   },
   {
    "duration": 19,
    "start_time": "2022-05-16T20:28:00.305Z"
   },
   {
    "duration": 7,
    "start_time": "2022-05-16T20:28:00.350Z"
   },
   {
    "duration": 9,
    "start_time": "2022-05-16T20:28:00.359Z"
   },
   {
    "duration": 16,
    "start_time": "2022-05-16T20:28:00.369Z"
   },
   {
    "duration": 17,
    "start_time": "2022-05-16T20:28:00.386Z"
   },
   {
    "duration": 80,
    "start_time": "2022-05-16T20:28:00.405Z"
   },
   {
    "duration": 6,
    "start_time": "2022-05-16T20:28:00.487Z"
   },
   {
    "duration": 15,
    "start_time": "2022-05-16T20:28:00.494Z"
   },
   {
    "duration": 9,
    "start_time": "2022-05-16T20:28:00.511Z"
   },
   {
    "duration": 44,
    "start_time": "2022-05-16T20:28:00.522Z"
   },
   {
    "duration": 5,
    "start_time": "2022-05-16T20:28:00.568Z"
   },
   {
    "duration": 12,
    "start_time": "2022-05-16T20:28:00.576Z"
   },
   {
    "duration": 20,
    "start_time": "2022-05-16T20:28:00.589Z"
   },
   {
    "duration": 51,
    "start_time": "2022-05-16T20:28:00.611Z"
   },
   {
    "duration": 7610,
    "start_time": "2022-05-16T20:28:00.664Z"
   },
   {
    "duration": 24,
    "start_time": "2022-05-16T20:28:08.276Z"
   },
   {
    "duration": 5,
    "start_time": "2022-05-16T20:28:08.302Z"
   },
   {
    "duration": 52,
    "start_time": "2022-05-16T20:28:08.309Z"
   },
   {
    "duration": 3,
    "start_time": "2022-05-16T20:28:08.363Z"
   },
   {
    "duration": 6,
    "start_time": "2022-05-16T20:28:08.368Z"
   },
   {
    "duration": 4,
    "start_time": "2022-05-16T20:28:08.376Z"
   },
   {
    "duration": 3,
    "start_time": "2022-05-16T20:28:08.382Z"
   },
   {
    "duration": 3,
    "start_time": "2022-05-16T20:28:08.388Z"
   },
   {
    "duration": 7,
    "start_time": "2022-05-16T20:28:08.393Z"
   },
   {
    "duration": 8,
    "start_time": "2022-05-16T20:28:08.401Z"
   },
   {
    "duration": 6,
    "start_time": "2022-05-16T20:28:08.411Z"
   },
   {
    "duration": 6,
    "start_time": "2022-05-16T20:28:08.450Z"
   },
   {
    "duration": 6,
    "start_time": "2022-05-16T20:28:08.458Z"
   },
   {
    "duration": 11,
    "start_time": "2022-05-16T20:28:08.465Z"
   },
   {
    "duration": 7,
    "start_time": "2022-05-16T20:28:08.478Z"
   },
   {
    "duration": 363,
    "start_time": "2022-05-16T20:36:25.710Z"
   },
   {
    "duration": 24,
    "start_time": "2022-05-16T20:36:26.718Z"
   },
   {
    "duration": 5,
    "start_time": "2022-05-16T20:36:38.139Z"
   },
   {
    "duration": 22,
    "start_time": "2022-05-16T20:36:38.659Z"
   },
   {
    "duration": 2,
    "start_time": "2022-05-16T20:36:39.687Z"
   },
   {
    "duration": 77,
    "start_time": "2022-05-16T20:37:19.953Z"
   },
   {
    "duration": 13,
    "start_time": "2022-05-16T20:37:56.390Z"
   },
   {
    "duration": 8,
    "start_time": "2022-05-16T20:52:55.936Z"
   },
   {
    "duration": 8,
    "start_time": "2022-05-16T20:53:21.730Z"
   },
   {
    "duration": 23,
    "start_time": "2022-05-16T20:53:44.098Z"
   },
   {
    "duration": 5,
    "start_time": "2022-05-16T20:58:56.610Z"
   },
   {
    "duration": 23,
    "start_time": "2022-05-16T20:58:57.407Z"
   },
   {
    "duration": 708,
    "start_time": "2022-05-16T20:59:05.557Z"
   },
   {
    "duration": 110,
    "start_time": "2022-05-16T20:59:06.267Z"
   },
   {
    "duration": 26,
    "start_time": "2022-05-16T20:59:06.378Z"
   },
   {
    "duration": 44,
    "start_time": "2022-05-16T20:59:06.407Z"
   },
   {
    "duration": 5,
    "start_time": "2022-05-16T20:59:06.453Z"
   },
   {
    "duration": 49,
    "start_time": "2022-05-16T20:59:06.460Z"
   },
   {
    "duration": 43,
    "start_time": "2022-05-16T20:59:06.511Z"
   },
   {
    "duration": 26,
    "start_time": "2022-05-16T20:59:06.557Z"
   },
   {
    "duration": 7,
    "start_time": "2022-05-16T20:59:06.585Z"
   },
   {
    "duration": 4,
    "start_time": "2022-05-16T20:59:06.596Z"
   },
   {
    "duration": 48,
    "start_time": "2022-05-16T20:59:06.602Z"
   },
   {
    "duration": 10,
    "start_time": "2022-05-16T20:59:06.652Z"
   },
   {
    "duration": 15,
    "start_time": "2022-05-16T20:59:06.664Z"
   },
   {
    "duration": 10,
    "start_time": "2022-05-16T20:59:06.680Z"
   },
   {
    "duration": 6,
    "start_time": "2022-05-16T20:59:06.692Z"
   },
   {
    "duration": 56,
    "start_time": "2022-05-16T20:59:06.700Z"
   },
   {
    "duration": 21,
    "start_time": "2022-05-16T20:59:06.759Z"
   },
   {
    "duration": 9,
    "start_time": "2022-05-16T20:59:06.782Z"
   },
   {
    "duration": 5,
    "start_time": "2022-05-16T20:59:06.793Z"
   },
   {
    "duration": 54,
    "start_time": "2022-05-16T20:59:06.800Z"
   },
   {
    "duration": 12,
    "start_time": "2022-05-16T20:59:06.856Z"
   },
   {
    "duration": 54,
    "start_time": "2022-05-16T20:59:06.869Z"
   },
   {
    "duration": 7,
    "start_time": "2022-05-16T20:59:06.949Z"
   },
   {
    "duration": 10,
    "start_time": "2022-05-16T20:59:06.958Z"
   },
   {
    "duration": 7,
    "start_time": "2022-05-16T20:59:06.970Z"
   },
   {
    "duration": 19,
    "start_time": "2022-05-16T20:59:06.979Z"
   },
   {
    "duration": 5,
    "start_time": "2022-05-16T20:59:06.999Z"
   },
   {
    "duration": 50,
    "start_time": "2022-05-16T20:59:07.008Z"
   },
   {
    "duration": 20,
    "start_time": "2022-05-16T20:59:07.059Z"
   },
   {
    "duration": 24,
    "start_time": "2022-05-16T20:59:07.081Z"
   },
   {
    "duration": 7348,
    "start_time": "2022-05-16T20:59:07.106Z"
   },
   {
    "duration": 25,
    "start_time": "2022-05-16T20:59:14.456Z"
   },
   {
    "duration": 5,
    "start_time": "2022-05-16T20:59:14.483Z"
   },
   {
    "duration": 24,
    "start_time": "2022-05-16T20:59:14.491Z"
   },
   {
    "duration": 3,
    "start_time": "2022-05-16T20:59:14.550Z"
   },
   {
    "duration": 6,
    "start_time": "2022-05-16T20:59:14.555Z"
   },
   {
    "duration": 5,
    "start_time": "2022-05-16T20:59:14.562Z"
   },
   {
    "duration": 4,
    "start_time": "2022-05-16T20:59:14.569Z"
   },
   {
    "duration": 3,
    "start_time": "2022-05-16T20:59:14.575Z"
   },
   {
    "duration": 3,
    "start_time": "2022-05-16T20:59:14.580Z"
   },
   {
    "duration": 8,
    "start_time": "2022-05-16T20:59:14.585Z"
   },
   {
    "duration": 8,
    "start_time": "2022-05-16T20:59:14.595Z"
   },
   {
    "duration": 7,
    "start_time": "2022-05-16T20:59:14.605Z"
   },
   {
    "duration": 37,
    "start_time": "2022-05-16T20:59:14.614Z"
   },
   {
    "duration": 4,
    "start_time": "2022-05-16T20:59:14.653Z"
   },
   {
    "duration": 7,
    "start_time": "2022-05-16T20:59:14.658Z"
   },
   {
    "duration": 3,
    "start_time": "2022-05-16T21:00:39.331Z"
   },
   {
    "duration": 187,
    "start_time": "2022-05-16T21:01:40.519Z"
   },
   {
    "duration": 181,
    "start_time": "2022-05-16T21:01:46.886Z"
   },
   {
    "duration": 5,
    "start_time": "2022-05-16T21:01:53.526Z"
   },
   {
    "duration": 24,
    "start_time": "2022-05-16T21:02:11.494Z"
   },
   {
    "duration": 16,
    "start_time": "2022-05-16T21:02:29.778Z"
   },
   {
    "duration": 4,
    "start_time": "2022-05-16T21:02:55.771Z"
   },
   {
    "duration": 15,
    "start_time": "2022-05-16T21:02:56.673Z"
   },
   {
    "duration": 708,
    "start_time": "2022-05-16T21:03:06.056Z"
   },
   {
    "duration": 93,
    "start_time": "2022-05-16T21:03:06.767Z"
   },
   {
    "duration": 26,
    "start_time": "2022-05-16T21:03:06.862Z"
   },
   {
    "duration": 38,
    "start_time": "2022-05-16T21:03:06.890Z"
   },
   {
    "duration": 22,
    "start_time": "2022-05-16T21:03:06.931Z"
   },
   {
    "duration": 63,
    "start_time": "2022-05-16T21:03:06.955Z"
   },
   {
    "duration": 22,
    "start_time": "2022-05-16T21:03:07.020Z"
   },
   {
    "duration": 29,
    "start_time": "2022-05-16T21:03:07.045Z"
   },
   {
    "duration": 11,
    "start_time": "2022-05-16T21:03:07.076Z"
   },
   {
    "duration": 16,
    "start_time": "2022-05-16T21:03:07.089Z"
   },
   {
    "duration": 33,
    "start_time": "2022-05-16T21:03:07.107Z"
   },
   {
    "duration": 17,
    "start_time": "2022-05-16T21:03:07.141Z"
   },
   {
    "duration": 31,
    "start_time": "2022-05-16T21:03:07.159Z"
   },
   {
    "duration": 22,
    "start_time": "2022-05-16T21:03:07.193Z"
   },
   {
    "duration": 14,
    "start_time": "2022-05-16T21:03:07.217Z"
   },
   {
    "duration": 25,
    "start_time": "2022-05-16T21:03:07.233Z"
   },
   {
    "duration": 38,
    "start_time": "2022-05-16T21:03:07.260Z"
   },
   {
    "duration": 6,
    "start_time": "2022-05-16T21:03:07.300Z"
   },
   {
    "duration": 17,
    "start_time": "2022-05-16T21:03:07.307Z"
   },
   {
    "duration": 26,
    "start_time": "2022-05-16T21:03:07.326Z"
   },
   {
    "duration": 18,
    "start_time": "2022-05-16T21:03:07.354Z"
   },
   {
    "duration": 69,
    "start_time": "2022-05-16T21:03:07.374Z"
   },
   {
    "duration": 7,
    "start_time": "2022-05-16T21:03:07.445Z"
   },
   {
    "duration": 24,
    "start_time": "2022-05-16T21:03:07.453Z"
   },
   {
    "duration": 25,
    "start_time": "2022-05-16T21:03:07.479Z"
   },
   {
    "duration": 21,
    "start_time": "2022-05-16T21:03:07.505Z"
   },
   {
    "duration": 13,
    "start_time": "2022-05-16T21:03:07.528Z"
   },
   {
    "duration": 26,
    "start_time": "2022-05-16T21:03:07.543Z"
   },
   {
    "duration": 26,
    "start_time": "2022-05-16T21:03:07.571Z"
   },
   {
    "duration": 29,
    "start_time": "2022-05-16T21:03:07.599Z"
   },
   {
    "duration": 7350,
    "start_time": "2022-05-16T21:03:07.630Z"
   },
   {
    "duration": 26,
    "start_time": "2022-05-16T21:03:14.982Z"
   },
   {
    "duration": 6,
    "start_time": "2022-05-16T21:03:15.011Z"
   },
   {
    "duration": 106,
    "start_time": "2022-05-16T21:03:15.019Z"
   },
   {
    "duration": 0,
    "start_time": "2022-05-16T21:03:15.127Z"
   },
   {
    "duration": 0,
    "start_time": "2022-05-16T21:03:15.130Z"
   },
   {
    "duration": 0,
    "start_time": "2022-05-16T21:03:15.131Z"
   },
   {
    "duration": 0,
    "start_time": "2022-05-16T21:03:15.133Z"
   },
   {
    "duration": 0,
    "start_time": "2022-05-16T21:03:15.150Z"
   },
   {
    "duration": 0,
    "start_time": "2022-05-16T21:03:15.152Z"
   },
   {
    "duration": 0,
    "start_time": "2022-05-16T21:03:15.154Z"
   },
   {
    "duration": 0,
    "start_time": "2022-05-16T21:03:15.156Z"
   },
   {
    "duration": 0,
    "start_time": "2022-05-16T21:03:15.157Z"
   },
   {
    "duration": 0,
    "start_time": "2022-05-16T21:03:15.158Z"
   },
   {
    "duration": 0,
    "start_time": "2022-05-16T21:03:15.160Z"
   },
   {
    "duration": 0,
    "start_time": "2022-05-16T21:03:15.162Z"
   },
   {
    "duration": 0,
    "start_time": "2022-05-16T21:03:15.163Z"
   },
   {
    "duration": 4,
    "start_time": "2022-05-16T21:03:37.720Z"
   },
   {
    "duration": 15,
    "start_time": "2022-05-16T21:03:39.626Z"
   },
   {
    "duration": 6,
    "start_time": "2022-05-16T21:05:17.900Z"
   },
   {
    "duration": 4,
    "start_time": "2022-05-16T21:18:22.775Z"
   },
   {
    "duration": 6,
    "start_time": "2022-05-16T21:18:52.043Z"
   },
   {
    "duration": 24,
    "start_time": "2022-05-16T21:19:11.365Z"
   },
   {
    "duration": 15,
    "start_time": "2022-05-16T21:19:21.533Z"
   },
   {
    "duration": 3,
    "start_time": "2022-05-16T21:20:09.875Z"
   },
   {
    "duration": 16,
    "start_time": "2022-05-16T21:20:25.145Z"
   },
   {
    "duration": 4,
    "start_time": "2022-05-16T21:28:40.980Z"
   },
   {
    "duration": 206,
    "start_time": "2022-05-16T21:29:34.790Z"
   },
   {
    "duration": 3,
    "start_time": "2022-05-16T21:29:47.167Z"
   },
   {
    "duration": 4,
    "start_time": "2022-05-16T21:30:29.215Z"
   },
   {
    "duration": 7,
    "start_time": "2022-05-16T21:30:45.037Z"
   },
   {
    "duration": 56,
    "start_time": "2022-05-16T21:31:57.655Z"
   },
   {
    "duration": 53,
    "start_time": "2022-05-16T21:32:05.481Z"
   },
   {
    "duration": 27,
    "start_time": "2022-05-16T21:32:42.166Z"
   },
   {
    "duration": 27,
    "start_time": "2022-05-16T21:32:49.629Z"
   },
   {
    "duration": 26,
    "start_time": "2022-05-16T21:32:54.893Z"
   },
   {
    "duration": 35,
    "start_time": "2022-05-16T21:33:08.427Z"
   },
   {
    "duration": 22,
    "start_time": "2022-05-16T21:33:35.084Z"
   },
   {
    "duration": 15,
    "start_time": "2022-05-16T21:33:55.199Z"
   },
   {
    "duration": 883,
    "start_time": "2022-05-17T21:08:39.448Z"
   },
   {
    "duration": 144,
    "start_time": "2022-05-17T21:08:40.333Z"
   },
   {
    "duration": 26,
    "start_time": "2022-05-17T21:08:40.479Z"
   },
   {
    "duration": 23,
    "start_time": "2022-05-17T21:08:40.508Z"
   },
   {
    "duration": 4,
    "start_time": "2022-05-17T21:08:40.533Z"
   },
   {
    "duration": 65,
    "start_time": "2022-05-17T21:08:40.538Z"
   },
   {
    "duration": 24,
    "start_time": "2022-05-17T21:08:40.605Z"
   },
   {
    "duration": 34,
    "start_time": "2022-05-17T21:08:40.631Z"
   },
   {
    "duration": 6,
    "start_time": "2022-05-17T21:08:40.667Z"
   },
   {
    "duration": 5,
    "start_time": "2022-05-17T21:08:40.675Z"
   },
   {
    "duration": 7,
    "start_time": "2022-05-17T21:08:40.681Z"
   },
   {
    "duration": 8,
    "start_time": "2022-05-17T21:08:40.690Z"
   },
   {
    "duration": 20,
    "start_time": "2022-05-17T21:08:40.700Z"
   },
   {
    "duration": 47,
    "start_time": "2022-05-17T21:08:40.722Z"
   },
   {
    "duration": 5,
    "start_time": "2022-05-17T21:08:40.770Z"
   },
   {
    "duration": 9,
    "start_time": "2022-05-17T21:08:40.777Z"
   },
   {
    "duration": 18,
    "start_time": "2022-05-17T21:08:40.787Z"
   },
   {
    "duration": 6,
    "start_time": "2022-05-17T21:08:40.806Z"
   },
   {
    "duration": 4,
    "start_time": "2022-05-17T21:08:40.814Z"
   },
   {
    "duration": 46,
    "start_time": "2022-05-17T21:08:40.819Z"
   },
   {
    "duration": 11,
    "start_time": "2022-05-17T21:08:40.867Z"
   },
   {
    "duration": 58,
    "start_time": "2022-05-17T21:08:40.879Z"
   },
   {
    "duration": 7,
    "start_time": "2022-05-17T21:08:40.939Z"
   },
   {
    "duration": 30,
    "start_time": "2022-05-17T21:08:40.947Z"
   },
   {
    "duration": 11,
    "start_time": "2022-05-17T21:08:40.979Z"
   },
   {
    "duration": 19,
    "start_time": "2022-05-17T21:08:40.991Z"
   },
   {
    "duration": 5,
    "start_time": "2022-05-17T21:08:41.011Z"
   },
   {
    "duration": 9,
    "start_time": "2022-05-17T21:08:41.019Z"
   },
   {
    "duration": 40,
    "start_time": "2022-05-17T21:08:41.029Z"
   },
   {
    "duration": 22,
    "start_time": "2022-05-17T21:08:41.070Z"
   },
   {
    "duration": 8804,
    "start_time": "2022-05-17T21:08:41.094Z"
   },
   {
    "duration": 22,
    "start_time": "2022-05-17T21:08:49.899Z"
   },
   {
    "duration": 4,
    "start_time": "2022-05-17T21:08:49.923Z"
   },
   {
    "duration": 5,
    "start_time": "2022-05-17T21:08:49.930Z"
   },
   {
    "duration": 6,
    "start_time": "2022-05-17T21:08:49.936Z"
   },
   {
    "duration": 3,
    "start_time": "2022-05-17T21:08:49.965Z"
   },
   {
    "duration": 25,
    "start_time": "2022-05-17T21:08:49.970Z"
   },
   {
    "duration": 17,
    "start_time": "2022-05-17T21:08:49.997Z"
   },
   {
    "duration": 3,
    "start_time": "2022-05-17T21:08:50.015Z"
   },
   {
    "duration": 5,
    "start_time": "2022-05-17T21:08:50.020Z"
   },
   {
    "duration": 8,
    "start_time": "2022-05-17T21:08:50.027Z"
   },
   {
    "duration": 27,
    "start_time": "2022-05-17T21:08:50.037Z"
   },
   {
    "duration": 2,
    "start_time": "2022-05-17T21:08:50.066Z"
   },
   {
    "duration": 6,
    "start_time": "2022-05-17T21:08:50.070Z"
   },
   {
    "duration": 8,
    "start_time": "2022-05-17T21:08:50.077Z"
   },
   {
    "duration": 14,
    "start_time": "2022-05-17T21:08:50.086Z"
   },
   {
    "duration": 8,
    "start_time": "2022-05-17T21:08:50.102Z"
   },
   {
    "duration": 49,
    "start_time": "2022-05-17T21:10:16.063Z"
   },
   {
    "duration": 523,
    "start_time": "2022-05-17T21:27:10.717Z"
   },
   {
    "duration": 252,
    "start_time": "2022-05-17T21:30:35.410Z"
   },
   {
    "duration": 560,
    "start_time": "2022-05-17T21:30:50.386Z"
   },
   {
    "duration": 4,
    "start_time": "2022-05-17T21:32:22.006Z"
   },
   {
    "duration": 3,
    "start_time": "2022-05-17T21:32:23.991Z"
   },
   {
    "duration": 5,
    "start_time": "2022-05-17T21:32:24.348Z"
   },
   {
    "duration": 27,
    "start_time": "2022-05-17T21:32:26.030Z"
   },
   {
    "duration": 17,
    "start_time": "2022-05-17T21:32:26.647Z"
   },
   {
    "duration": 40,
    "start_time": "2022-05-17T21:32:28.111Z"
   },
   {
    "duration": 624,
    "start_time": "2022-05-17T21:32:29.055Z"
   },
   {
    "duration": 1013,
    "start_time": "2022-05-18T18:38:14.341Z"
   },
   {
    "duration": 228,
    "start_time": "2022-05-18T18:38:19.000Z"
   },
   {
    "duration": 3,
    "start_time": "2022-05-18T18:38:25.764Z"
   },
   {
    "duration": 3,
    "start_time": "2022-05-18T18:38:26.374Z"
   },
   {
    "duration": 36,
    "start_time": "2022-05-18T18:38:52.147Z"
   },
   {
    "duration": 15,
    "start_time": "2022-05-18T18:39:18.855Z"
   },
   {
    "duration": 41,
    "start_time": "2022-05-18T18:40:17.965Z"
   },
   {
    "duration": 36,
    "start_time": "2022-05-18T18:49:17.687Z"
   },
   {
    "duration": 5,
    "start_time": "2022-05-18T18:50:44.674Z"
   },
   {
    "duration": 7,
    "start_time": "2022-05-18T18:51:13.748Z"
   },
   {
    "duration": 8,
    "start_time": "2022-05-18T18:51:30.399Z"
   },
   {
    "duration": 5,
    "start_time": "2022-05-18T18:55:39.020Z"
   },
   {
    "duration": 44,
    "start_time": "2022-05-18T18:56:09.767Z"
   },
   {
    "duration": 7,
    "start_time": "2022-05-18T18:56:22.177Z"
   },
   {
    "duration": 22,
    "start_time": "2022-05-18T18:56:48.864Z"
   },
   {
    "duration": 12,
    "start_time": "2022-05-18T18:58:53.483Z"
   },
   {
    "duration": 142,
    "start_time": "2022-05-18T18:59:04.964Z"
   },
   {
    "duration": 9,
    "start_time": "2022-05-18T18:59:16.704Z"
   },
   {
    "duration": 6,
    "start_time": "2022-05-18T18:59:20.114Z"
   },
   {
    "duration": 25,
    "start_time": "2022-05-18T19:10:08.644Z"
   },
   {
    "duration": 976,
    "start_time": "2022-05-18T19:10:31.877Z"
   },
   {
    "duration": 184,
    "start_time": "2022-05-18T19:10:32.855Z"
   },
   {
    "duration": 48,
    "start_time": "2022-05-18T19:10:33.041Z"
   },
   {
    "duration": 70,
    "start_time": "2022-05-18T19:10:33.091Z"
   },
   {
    "duration": 89,
    "start_time": "2022-05-18T19:10:33.165Z"
   },
   {
    "duration": 48,
    "start_time": "2022-05-18T19:10:33.257Z"
   },
   {
    "duration": 29,
    "start_time": "2022-05-18T19:10:33.312Z"
   },
   {
    "duration": 94,
    "start_time": "2022-05-18T19:10:33.347Z"
   },
   {
    "duration": 18,
    "start_time": "2022-05-18T19:10:33.444Z"
   },
   {
    "duration": 76,
    "start_time": "2022-05-18T19:10:33.464Z"
   },
   {
    "duration": 7,
    "start_time": "2022-05-18T19:10:33.542Z"
   },
   {
    "duration": 8,
    "start_time": "2022-05-18T19:10:33.551Z"
   },
   {
    "duration": 66,
    "start_time": "2022-05-18T19:10:33.562Z"
   },
   {
    "duration": 60,
    "start_time": "2022-05-18T19:10:33.632Z"
   },
   {
    "duration": 64,
    "start_time": "2022-05-18T19:10:33.694Z"
   },
   {
    "duration": 48,
    "start_time": "2022-05-18T19:10:33.765Z"
   },
   {
    "duration": 13,
    "start_time": "2022-05-18T19:10:33.815Z"
   },
   {
    "duration": 8,
    "start_time": "2022-05-18T19:10:33.829Z"
   },
   {
    "duration": 10,
    "start_time": "2022-05-18T19:10:33.839Z"
   },
   {
    "duration": 12,
    "start_time": "2022-05-18T19:10:33.851Z"
   },
   {
    "duration": 65,
    "start_time": "2022-05-18T19:10:33.865Z"
   },
   {
    "duration": 10,
    "start_time": "2022-05-18T19:10:33.933Z"
   },
   {
    "duration": 7,
    "start_time": "2022-05-18T19:10:33.945Z"
   },
   {
    "duration": 5,
    "start_time": "2022-05-18T19:10:33.955Z"
   },
   {
    "duration": 55,
    "start_time": "2022-05-18T19:10:33.963Z"
   },
   {
    "duration": 73,
    "start_time": "2022-05-18T19:12:03.649Z"
   },
   {
    "duration": 944,
    "start_time": "2022-05-18T19:12:11.495Z"
   },
   {
    "duration": 147,
    "start_time": "2022-05-18T19:12:12.442Z"
   },
   {
    "duration": 45,
    "start_time": "2022-05-18T19:12:12.593Z"
   },
   {
    "duration": 15,
    "start_time": "2022-05-18T19:12:12.642Z"
   },
   {
    "duration": 47,
    "start_time": "2022-05-18T19:12:12.660Z"
   },
   {
    "duration": 39,
    "start_time": "2022-05-18T19:12:12.710Z"
   },
   {
    "duration": 71,
    "start_time": "2022-05-18T19:12:12.751Z"
   },
   {
    "duration": 4,
    "start_time": "2022-05-18T19:12:12.824Z"
   },
   {
    "duration": 13,
    "start_time": "2022-05-18T19:12:12.831Z"
   },
   {
    "duration": 12,
    "start_time": "2022-05-18T19:12:12.870Z"
   },
   {
    "duration": 11,
    "start_time": "2022-05-18T19:12:12.884Z"
   },
   {
    "duration": 17,
    "start_time": "2022-05-18T19:12:12.897Z"
   },
   {
    "duration": 34,
    "start_time": "2022-05-18T19:12:12.917Z"
   },
   {
    "duration": 60,
    "start_time": "2022-05-18T19:12:12.954Z"
   },
   {
    "duration": 9,
    "start_time": "2022-05-18T19:12:13.016Z"
   },
   {
    "duration": 10,
    "start_time": "2022-05-18T19:12:13.027Z"
   },
   {
    "duration": 13,
    "start_time": "2022-05-18T19:12:13.040Z"
   },
   {
    "duration": 46,
    "start_time": "2022-05-18T19:12:13.055Z"
   },
   {
    "duration": 12,
    "start_time": "2022-05-18T19:12:13.106Z"
   },
   {
    "duration": 9,
    "start_time": "2022-05-18T19:12:13.120Z"
   },
   {
    "duration": 14,
    "start_time": "2022-05-18T19:12:13.132Z"
   },
   {
    "duration": 9,
    "start_time": "2022-05-18T19:12:13.148Z"
   },
   {
    "duration": 50,
    "start_time": "2022-05-18T19:12:13.159Z"
   },
   {
    "duration": 14,
    "start_time": "2022-05-18T19:12:13.211Z"
   },
   {
    "duration": 11,
    "start_time": "2022-05-18T19:12:13.230Z"
   },
   {
    "duration": 8,
    "start_time": "2022-05-18T19:12:13.244Z"
   },
   {
    "duration": 19,
    "start_time": "2022-05-18T19:13:14.699Z"
   },
   {
    "duration": 3,
    "start_time": "2022-05-18T19:19:35.846Z"
   },
   {
    "duration": 172,
    "start_time": "2022-05-18T19:19:37.203Z"
   },
   {
    "duration": 50,
    "start_time": "2022-05-18T19:19:38.651Z"
   },
   {
    "duration": 18,
    "start_time": "2022-05-18T19:19:38.916Z"
   },
   {
    "duration": 67,
    "start_time": "2022-05-18T19:19:39.261Z"
   },
   {
    "duration": 42,
    "start_time": "2022-05-18T19:19:39.520Z"
   },
   {
    "duration": 83,
    "start_time": "2022-05-18T19:19:39.940Z"
   },
   {
    "duration": 8,
    "start_time": "2022-05-18T19:19:41.405Z"
   },
   {
    "duration": 13,
    "start_time": "2022-05-18T19:19:41.696Z"
   },
   {
    "duration": 16,
    "start_time": "2022-05-18T19:19:41.990Z"
   },
   {
    "duration": 12,
    "start_time": "2022-05-18T19:19:42.256Z"
   },
   {
    "duration": 145,
    "start_time": "2022-05-18T19:28:03.850Z"
   },
   {
    "duration": 35,
    "start_time": "2022-05-18T19:28:14.949Z"
   },
   {
    "duration": 627,
    "start_time": "2022-05-18T19:29:03.917Z"
   },
   {
    "duration": 451,
    "start_time": "2022-05-18T19:30:46.009Z"
   },
   {
    "duration": 355,
    "start_time": "2022-05-18T19:30:53.122Z"
   },
   {
    "duration": 1084,
    "start_time": "2022-05-18T19:31:04.793Z"
   },
   {
    "duration": 191,
    "start_time": "2022-05-18T19:31:05.881Z"
   },
   {
    "duration": 56,
    "start_time": "2022-05-18T19:31:06.081Z"
   },
   {
    "duration": 121,
    "start_time": "2022-05-18T19:31:06.146Z"
   },
   {
    "duration": 144,
    "start_time": "2022-05-18T19:31:06.273Z"
   },
   {
    "duration": 134,
    "start_time": "2022-05-18T19:31:06.423Z"
   },
   {
    "duration": 152,
    "start_time": "2022-05-18T19:31:06.564Z"
   },
   {
    "duration": 93,
    "start_time": "2022-05-18T19:31:06.717Z"
   },
   {
    "duration": 71,
    "start_time": "2022-05-18T19:31:06.816Z"
   },
   {
    "duration": 10,
    "start_time": "2022-05-18T19:31:06.911Z"
   },
   {
    "duration": 139,
    "start_time": "2022-05-18T19:31:06.931Z"
   },
   {
    "duration": 678,
    "start_time": "2022-05-18T19:31:07.080Z"
   },
   {
    "duration": 0,
    "start_time": "2022-05-18T19:31:07.760Z"
   },
   {
    "duration": 0,
    "start_time": "2022-05-18T19:31:07.761Z"
   },
   {
    "duration": 0,
    "start_time": "2022-05-18T19:31:07.763Z"
   },
   {
    "duration": 0,
    "start_time": "2022-05-18T19:31:07.764Z"
   },
   {
    "duration": 0,
    "start_time": "2022-05-18T19:31:07.770Z"
   },
   {
    "duration": 0,
    "start_time": "2022-05-18T19:31:07.771Z"
   },
   {
    "duration": 0,
    "start_time": "2022-05-18T19:31:07.773Z"
   },
   {
    "duration": 0,
    "start_time": "2022-05-18T19:31:07.778Z"
   },
   {
    "duration": 0,
    "start_time": "2022-05-18T19:31:07.780Z"
   },
   {
    "duration": 0,
    "start_time": "2022-05-18T19:31:07.786Z"
   },
   {
    "duration": 0,
    "start_time": "2022-05-18T19:31:07.788Z"
   },
   {
    "duration": 0,
    "start_time": "2022-05-18T19:31:07.789Z"
   },
   {
    "duration": 0,
    "start_time": "2022-05-18T19:31:07.794Z"
   },
   {
    "duration": 0,
    "start_time": "2022-05-18T19:31:07.796Z"
   },
   {
    "duration": 936,
    "start_time": "2022-05-18T19:31:40.845Z"
   },
   {
    "duration": 144,
    "start_time": "2022-05-18T19:31:41.783Z"
   },
   {
    "duration": 30,
    "start_time": "2022-05-18T19:31:41.934Z"
   },
   {
    "duration": 23,
    "start_time": "2022-05-18T19:31:41.967Z"
   },
   {
    "duration": 90,
    "start_time": "2022-05-18T19:31:41.995Z"
   },
   {
    "duration": 64,
    "start_time": "2022-05-18T19:31:42.091Z"
   },
   {
    "duration": 75,
    "start_time": "2022-05-18T19:31:42.157Z"
   },
   {
    "duration": 7,
    "start_time": "2022-05-18T19:31:42.238Z"
   },
   {
    "duration": 10,
    "start_time": "2022-05-18T19:31:42.247Z"
   },
   {
    "duration": 10,
    "start_time": "2022-05-18T19:31:42.260Z"
   },
   {
    "duration": 73,
    "start_time": "2022-05-18T19:31:42.272Z"
   },
   {
    "duration": 407,
    "start_time": "2022-05-18T19:31:42.346Z"
   },
   {
    "duration": 0,
    "start_time": "2022-05-18T19:31:42.756Z"
   },
   {
    "duration": 0,
    "start_time": "2022-05-18T19:31:42.757Z"
   },
   {
    "duration": 0,
    "start_time": "2022-05-18T19:31:42.759Z"
   },
   {
    "duration": 0,
    "start_time": "2022-05-18T19:31:42.761Z"
   },
   {
    "duration": 0,
    "start_time": "2022-05-18T19:31:42.762Z"
   },
   {
    "duration": 0,
    "start_time": "2022-05-18T19:31:42.764Z"
   },
   {
    "duration": 0,
    "start_time": "2022-05-18T19:31:42.774Z"
   },
   {
    "duration": 0,
    "start_time": "2022-05-18T19:31:42.775Z"
   },
   {
    "duration": 0,
    "start_time": "2022-05-18T19:31:42.776Z"
   },
   {
    "duration": 0,
    "start_time": "2022-05-18T19:31:42.777Z"
   },
   {
    "duration": 0,
    "start_time": "2022-05-18T19:31:42.778Z"
   },
   {
    "duration": 0,
    "start_time": "2022-05-18T19:31:42.780Z"
   },
   {
    "duration": 0,
    "start_time": "2022-05-18T19:31:42.780Z"
   },
   {
    "duration": 0,
    "start_time": "2022-05-18T19:31:42.784Z"
   },
   {
    "duration": 907,
    "start_time": "2022-05-18T22:38:08.166Z"
   },
   {
    "duration": 418,
    "start_time": "2022-05-18T22:38:09.076Z"
   },
   {
    "duration": 25,
    "start_time": "2022-05-18T22:38:09.496Z"
   },
   {
    "duration": 11,
    "start_time": "2022-05-18T22:38:09.523Z"
   },
   {
    "duration": 22,
    "start_time": "2022-05-18T22:38:09.535Z"
   },
   {
    "duration": 30,
    "start_time": "2022-05-18T22:38:09.559Z"
   },
   {
    "duration": 41,
    "start_time": "2022-05-18T22:38:09.591Z"
   },
   {
    "duration": 3,
    "start_time": "2022-05-18T22:38:09.633Z"
   },
   {
    "duration": 10,
    "start_time": "2022-05-18T22:38:09.638Z"
   },
   {
    "duration": 29,
    "start_time": "2022-05-18T22:38:09.652Z"
   },
   {
    "duration": 26,
    "start_time": "2022-05-18T22:38:09.682Z"
   },
   {
    "duration": 7,
    "start_time": "2022-05-18T22:38:09.710Z"
   },
   {
    "duration": 19,
    "start_time": "2022-05-18T22:38:09.719Z"
   },
   {
    "duration": 13,
    "start_time": "2022-05-18T22:38:09.739Z"
   },
   {
    "duration": 16,
    "start_time": "2022-05-18T22:38:09.753Z"
   },
   {
    "duration": 9,
    "start_time": "2022-05-18T22:38:09.771Z"
   },
   {
    "duration": 8,
    "start_time": "2022-05-18T22:38:09.781Z"
   },
   {
    "duration": 8,
    "start_time": "2022-05-18T22:38:09.791Z"
   },
   {
    "duration": 4,
    "start_time": "2022-05-18T22:38:09.801Z"
   },
   {
    "duration": 11,
    "start_time": "2022-05-18T22:38:09.807Z"
   },
   {
    "duration": 10,
    "start_time": "2022-05-18T22:38:09.819Z"
   },
   {
    "duration": 18,
    "start_time": "2022-05-18T22:38:09.831Z"
   },
   {
    "duration": 18,
    "start_time": "2022-05-18T22:38:09.850Z"
   },
   {
    "duration": 10,
    "start_time": "2022-05-18T22:38:09.873Z"
   },
   {
    "duration": 12,
    "start_time": "2022-05-18T22:38:09.884Z"
   },
   {
    "duration": 12,
    "start_time": "2022-05-18T22:38:09.899Z"
   },
   {
    "duration": 708,
    "start_time": "2022-05-18T23:27:20.266Z"
   },
   {
    "duration": 105,
    "start_time": "2022-05-18T23:27:20.976Z"
   },
   {
    "duration": 26,
    "start_time": "2022-05-18T23:27:21.083Z"
   },
   {
    "duration": 12,
    "start_time": "2022-05-18T23:27:21.111Z"
   },
   {
    "duration": 26,
    "start_time": "2022-05-18T23:27:21.125Z"
   },
   {
    "duration": 37,
    "start_time": "2022-05-18T23:27:21.153Z"
   },
   {
    "duration": 56,
    "start_time": "2022-05-18T23:27:21.192Z"
   },
   {
    "duration": 3,
    "start_time": "2022-05-18T23:27:21.250Z"
   },
   {
    "duration": 26,
    "start_time": "2022-05-18T23:27:21.254Z"
   },
   {
    "duration": 7,
    "start_time": "2022-05-18T23:27:21.282Z"
   },
   {
    "duration": 11,
    "start_time": "2022-05-18T23:27:21.290Z"
   },
   {
    "duration": 6,
    "start_time": "2022-05-18T23:27:21.302Z"
   },
   {
    "duration": 0,
    "start_time": "2022-05-18T23:27:21.310Z"
   },
   {
    "duration": 0,
    "start_time": "2022-05-18T23:27:21.311Z"
   },
   {
    "duration": 0,
    "start_time": "2022-05-18T23:27:21.312Z"
   },
   {
    "duration": 0,
    "start_time": "2022-05-18T23:27:21.313Z"
   },
   {
    "duration": 0,
    "start_time": "2022-05-18T23:27:21.315Z"
   },
   {
    "duration": 0,
    "start_time": "2022-05-18T23:27:21.316Z"
   },
   {
    "duration": 0,
    "start_time": "2022-05-18T23:27:21.316Z"
   },
   {
    "duration": 0,
    "start_time": "2022-05-18T23:27:21.317Z"
   },
   {
    "duration": 0,
    "start_time": "2022-05-18T23:27:21.318Z"
   },
   {
    "duration": 0,
    "start_time": "2022-05-18T23:27:21.319Z"
   },
   {
    "duration": 0,
    "start_time": "2022-05-18T23:27:21.321Z"
   },
   {
    "duration": 0,
    "start_time": "2022-05-18T23:27:21.322Z"
   },
   {
    "duration": 0,
    "start_time": "2022-05-18T23:27:21.323Z"
   },
   {
    "duration": 0,
    "start_time": "2022-05-18T23:27:21.324Z"
   },
   {
    "duration": 8,
    "start_time": "2022-05-18T23:27:45.674Z"
   },
   {
    "duration": 9,
    "start_time": "2022-05-18T23:27:47.780Z"
   },
   {
    "duration": 742,
    "start_time": "2022-05-18T23:27:56.056Z"
   },
   {
    "duration": 105,
    "start_time": "2022-05-18T23:27:56.800Z"
   },
   {
    "duration": 24,
    "start_time": "2022-05-18T23:27:56.907Z"
   },
   {
    "duration": 13,
    "start_time": "2022-05-18T23:27:56.933Z"
   },
   {
    "duration": 24,
    "start_time": "2022-05-18T23:27:56.958Z"
   },
   {
    "duration": 20,
    "start_time": "2022-05-18T23:27:56.984Z"
   },
   {
    "duration": 39,
    "start_time": "2022-05-18T23:27:57.006Z"
   },
   {
    "duration": 3,
    "start_time": "2022-05-18T23:27:57.047Z"
   },
   {
    "duration": 9,
    "start_time": "2022-05-18T23:27:57.074Z"
   },
   {
    "duration": 11,
    "start_time": "2022-05-18T23:27:57.086Z"
   },
   {
    "duration": 12,
    "start_time": "2022-05-18T23:27:57.098Z"
   },
   {
    "duration": 14,
    "start_time": "2022-05-18T23:27:57.111Z"
   },
   {
    "duration": 7,
    "start_time": "2022-05-18T23:27:57.127Z"
   },
   {
    "duration": 5,
    "start_time": "2022-05-18T23:27:57.136Z"
   },
   {
    "duration": 7,
    "start_time": "2022-05-18T23:27:57.142Z"
   },
   {
    "duration": 3,
    "start_time": "2022-05-18T23:27:57.174Z"
   },
   {
    "duration": 5,
    "start_time": "2022-05-18T23:27:57.179Z"
   },
   {
    "duration": 7,
    "start_time": "2022-05-18T23:27:57.186Z"
   },
   {
    "duration": 10,
    "start_time": "2022-05-18T23:27:57.194Z"
   },
   {
    "duration": 14,
    "start_time": "2022-05-18T23:27:57.206Z"
   },
   {
    "duration": 7,
    "start_time": "2022-05-18T23:27:57.222Z"
   },
   {
    "duration": 4,
    "start_time": "2022-05-18T23:27:57.231Z"
   },
   {
    "duration": 4,
    "start_time": "2022-05-18T23:27:57.237Z"
   },
   {
    "duration": 4,
    "start_time": "2022-05-18T23:27:57.243Z"
   },
   {
    "duration": 5,
    "start_time": "2022-05-18T23:27:57.248Z"
   },
   {
    "duration": 7,
    "start_time": "2022-05-18T23:27:57.255Z"
   },
   {
    "duration": 8,
    "start_time": "2022-05-18T23:28:21.275Z"
   },
   {
    "duration": 6,
    "start_time": "2022-05-18T23:28:22.328Z"
   },
   {
    "duration": 6,
    "start_time": "2022-05-18T23:28:23.900Z"
   },
   {
    "duration": 12,
    "start_time": "2022-05-18T23:30:13.766Z"
   },
   {
    "duration": 7,
    "start_time": "2022-05-18T23:30:42.429Z"
   },
   {
    "duration": 6,
    "start_time": "2022-05-18T23:30:55.905Z"
   },
   {
    "duration": 77,
    "start_time": "2022-05-18T23:31:14.746Z"
   },
   {
    "duration": 5,
    "start_time": "2022-05-18T23:31:26.078Z"
   },
   {
    "duration": 5,
    "start_time": "2022-05-18T23:31:34.092Z"
   },
   {
    "duration": 13,
    "start_time": "2022-05-18T23:33:00.779Z"
   },
   {
    "duration": 4,
    "start_time": "2022-05-18T23:33:31.372Z"
   },
   {
    "duration": 10,
    "start_time": "2022-05-18T23:34:27.674Z"
   },
   {
    "duration": 889,
    "start_time": "2022-05-18T23:37:26.004Z"
   },
   {
    "duration": 12,
    "start_time": "2022-05-18T23:37:56.882Z"
   },
   {
    "duration": 19,
    "start_time": "2022-05-18T23:38:11.237Z"
   },
   {
    "duration": 28,
    "start_time": "2022-05-18T23:47:29.531Z"
   },
   {
    "duration": 686,
    "start_time": "2022-05-18T23:47:53.263Z"
   },
   {
    "duration": 103,
    "start_time": "2022-05-18T23:47:53.950Z"
   },
   {
    "duration": 23,
    "start_time": "2022-05-18T23:47:54.055Z"
   },
   {
    "duration": 10,
    "start_time": "2022-05-18T23:47:54.080Z"
   },
   {
    "duration": 23,
    "start_time": "2022-05-18T23:47:54.092Z"
   },
   {
    "duration": 29,
    "start_time": "2022-05-18T23:47:54.117Z"
   },
   {
    "duration": 59,
    "start_time": "2022-05-18T23:47:54.147Z"
   },
   {
    "duration": 3,
    "start_time": "2022-05-18T23:47:54.208Z"
   },
   {
    "duration": 10,
    "start_time": "2022-05-18T23:47:54.213Z"
   },
   {
    "duration": 6,
    "start_time": "2022-05-18T23:47:54.226Z"
   },
   {
    "duration": 14,
    "start_time": "2022-05-18T23:47:54.234Z"
   },
   {
    "duration": 47,
    "start_time": "2022-05-18T23:47:54.249Z"
   },
   {
    "duration": 20,
    "start_time": "2022-05-18T23:47:54.298Z"
   },
   {
    "duration": 3,
    "start_time": "2022-05-18T23:47:54.319Z"
   },
   {
    "duration": 6,
    "start_time": "2022-05-18T23:47:54.323Z"
   },
   {
    "duration": 6,
    "start_time": "2022-05-18T23:47:54.331Z"
   },
   {
    "duration": 8,
    "start_time": "2022-05-18T23:47:54.339Z"
   },
   {
    "duration": 5,
    "start_time": "2022-05-18T23:47:54.349Z"
   },
   {
    "duration": 21,
    "start_time": "2022-05-18T23:47:54.356Z"
   },
   {
    "duration": 4,
    "start_time": "2022-05-18T23:47:54.379Z"
   },
   {
    "duration": 5,
    "start_time": "2022-05-18T23:47:54.384Z"
   },
   {
    "duration": 4,
    "start_time": "2022-05-18T23:47:54.390Z"
   },
   {
    "duration": 4,
    "start_time": "2022-05-18T23:47:54.396Z"
   },
   {
    "duration": 6,
    "start_time": "2022-05-18T23:47:54.401Z"
   },
   {
    "duration": 5,
    "start_time": "2022-05-18T23:47:54.409Z"
   },
   {
    "duration": 5,
    "start_time": "2022-05-18T23:47:54.415Z"
   },
   {
    "duration": 5,
    "start_time": "2022-05-18T23:47:54.421Z"
   },
   {
    "duration": 23,
    "start_time": "2022-05-18T23:48:49.845Z"
   },
   {
    "duration": 41,
    "start_time": "2022-05-18T23:49:08.461Z"
   },
   {
    "duration": 21,
    "start_time": "2022-05-18T23:50:16.982Z"
   },
   {
    "duration": 21,
    "start_time": "2022-05-18T23:50:33.753Z"
   },
   {
    "duration": 29,
    "start_time": "2022-05-18T23:50:50.609Z"
   },
   {
    "duration": 652,
    "start_time": "2022-05-18T23:51:11.295Z"
   },
   {
    "duration": 100,
    "start_time": "2022-05-18T23:51:11.949Z"
   },
   {
    "duration": 27,
    "start_time": "2022-05-18T23:51:12.050Z"
   },
   {
    "duration": 11,
    "start_time": "2022-05-18T23:51:12.078Z"
   },
   {
    "duration": 19,
    "start_time": "2022-05-18T23:51:12.091Z"
   },
   {
    "duration": 20,
    "start_time": "2022-05-18T23:51:12.111Z"
   },
   {
    "duration": 61,
    "start_time": "2022-05-18T23:51:12.132Z"
   },
   {
    "duration": 4,
    "start_time": "2022-05-18T23:51:12.195Z"
   },
   {
    "duration": 9,
    "start_time": "2022-05-18T23:51:12.201Z"
   },
   {
    "duration": 7,
    "start_time": "2022-05-18T23:51:12.212Z"
   },
   {
    "duration": 10,
    "start_time": "2022-05-18T23:51:12.220Z"
   },
   {
    "duration": 59,
    "start_time": "2022-05-18T23:51:12.232Z"
   },
   {
    "duration": 20,
    "start_time": "2022-05-18T23:51:12.292Z"
   },
   {
    "duration": 3,
    "start_time": "2022-05-18T23:51:12.314Z"
   },
   {
    "duration": 4,
    "start_time": "2022-05-18T23:51:12.318Z"
   },
   {
    "duration": 5,
    "start_time": "2022-05-18T23:51:12.323Z"
   },
   {
    "duration": 5,
    "start_time": "2022-05-18T23:51:12.329Z"
   },
   {
    "duration": 5,
    "start_time": "2022-05-18T23:51:12.336Z"
   },
   {
    "duration": 4,
    "start_time": "2022-05-18T23:51:12.342Z"
   },
   {
    "duration": 27,
    "start_time": "2022-05-18T23:51:12.348Z"
   },
   {
    "duration": 3,
    "start_time": "2022-05-18T23:51:12.376Z"
   },
   {
    "duration": 4,
    "start_time": "2022-05-18T23:51:12.381Z"
   },
   {
    "duration": 4,
    "start_time": "2022-05-18T23:51:12.386Z"
   },
   {
    "duration": 4,
    "start_time": "2022-05-18T23:51:12.392Z"
   },
   {
    "duration": 5,
    "start_time": "2022-05-18T23:51:12.397Z"
   },
   {
    "duration": 5,
    "start_time": "2022-05-18T23:51:12.403Z"
   },
   {
    "duration": 4,
    "start_time": "2022-05-18T23:51:12.410Z"
   },
   {
    "duration": 92,
    "start_time": "2022-05-18T23:51:40.503Z"
   },
   {
    "duration": 23,
    "start_time": "2022-05-18T23:51:44.917Z"
   },
   {
    "duration": 696,
    "start_time": "2022-05-18T23:51:55.560Z"
   },
   {
    "duration": 128,
    "start_time": "2022-05-18T23:51:56.259Z"
   },
   {
    "duration": 24,
    "start_time": "2022-05-18T23:51:56.389Z"
   },
   {
    "duration": 13,
    "start_time": "2022-05-18T23:51:56.416Z"
   },
   {
    "duration": 48,
    "start_time": "2022-05-18T23:51:56.431Z"
   },
   {
    "duration": 19,
    "start_time": "2022-05-18T23:51:56.481Z"
   },
   {
    "duration": 53,
    "start_time": "2022-05-18T23:51:56.501Z"
   },
   {
    "duration": 3,
    "start_time": "2022-05-18T23:51:56.556Z"
   },
   {
    "duration": 13,
    "start_time": "2022-05-18T23:51:56.574Z"
   },
   {
    "duration": 8,
    "start_time": "2022-05-18T23:51:56.590Z"
   },
   {
    "duration": 12,
    "start_time": "2022-05-18T23:51:56.599Z"
   },
   {
    "duration": 29,
    "start_time": "2022-05-18T23:51:56.612Z"
   },
   {
    "duration": 33,
    "start_time": "2022-05-18T23:51:56.643Z"
   },
   {
    "duration": 2,
    "start_time": "2022-05-18T23:51:56.678Z"
   },
   {
    "duration": 8,
    "start_time": "2022-05-18T23:51:56.682Z"
   },
   {
    "duration": 6,
    "start_time": "2022-05-18T23:51:56.691Z"
   },
   {
    "duration": 23,
    "start_time": "2022-05-18T23:51:56.700Z"
   },
   {
    "duration": 9,
    "start_time": "2022-05-18T23:51:56.724Z"
   },
   {
    "duration": 5,
    "start_time": "2022-05-18T23:51:56.735Z"
   },
   {
    "duration": 4,
    "start_time": "2022-05-18T23:51:56.742Z"
   },
   {
    "duration": 9,
    "start_time": "2022-05-18T23:51:56.748Z"
   },
   {
    "duration": 7,
    "start_time": "2022-05-18T23:51:56.758Z"
   },
   {
    "duration": 7,
    "start_time": "2022-05-18T23:51:56.767Z"
   },
   {
    "duration": 5,
    "start_time": "2022-05-18T23:51:56.775Z"
   },
   {
    "duration": 5,
    "start_time": "2022-05-18T23:51:56.781Z"
   },
   {
    "duration": 5,
    "start_time": "2022-05-18T23:51:56.788Z"
   },
   {
    "duration": 7,
    "start_time": "2022-05-18T23:51:56.795Z"
   },
   {
    "duration": 19,
    "start_time": "2022-05-18T23:52:32.528Z"
   },
   {
    "duration": 69,
    "start_time": "2022-05-18T23:53:35.324Z"
   },
   {
    "duration": 41,
    "start_time": "2022-05-18T23:54:53.188Z"
   },
   {
    "duration": 44,
    "start_time": "2022-05-18T23:55:04.271Z"
   },
   {
    "duration": 25,
    "start_time": "2022-05-18T23:55:32.670Z"
   },
   {
    "duration": 47,
    "start_time": "2022-05-18T23:55:53.002Z"
   },
   {
    "duration": 22,
    "start_time": "2022-05-18T23:55:55.978Z"
   },
   {
    "duration": 36,
    "start_time": "2022-05-18T23:58:47.261Z"
   },
   {
    "duration": 17,
    "start_time": "2022-05-18T23:58:52.846Z"
   },
   {
    "duration": 34,
    "start_time": "2022-05-18T23:58:54.428Z"
   },
   {
    "duration": 760,
    "start_time": "2022-05-19T00:46:26.804Z"
   },
   {
    "duration": 16,
    "start_time": "2022-05-19T00:46:35.382Z"
   },
   {
    "duration": 11,
    "start_time": "2022-05-19T00:46:47.944Z"
   },
   {
    "duration": 8,
    "start_time": "2022-05-19T00:46:50.968Z"
   },
   {
    "duration": 24,
    "start_time": "2022-05-19T00:46:59.668Z"
   },
   {
    "duration": 836,
    "start_time": "2022-05-19T20:25:48.275Z"
   },
   {
    "duration": 740,
    "start_time": "2022-05-19T20:25:49.113Z"
   },
   {
    "duration": 42,
    "start_time": "2022-05-19T20:25:49.858Z"
   },
   {
    "duration": 19,
    "start_time": "2022-05-19T20:25:49.902Z"
   },
   {
    "duration": 35,
    "start_time": "2022-05-19T20:25:49.923Z"
   },
   {
    "duration": 23,
    "start_time": "2022-05-19T20:25:49.960Z"
   },
   {
    "duration": 78,
    "start_time": "2022-05-19T20:25:49.985Z"
   },
   {
    "duration": 5,
    "start_time": "2022-05-19T20:25:50.064Z"
   },
   {
    "duration": 10,
    "start_time": "2022-05-19T20:25:50.071Z"
   },
   {
    "duration": 9,
    "start_time": "2022-05-19T20:25:50.085Z"
   },
   {
    "duration": 13,
    "start_time": "2022-05-19T20:25:50.096Z"
   },
   {
    "duration": 71,
    "start_time": "2022-05-19T20:25:50.112Z"
   },
   {
    "duration": 23,
    "start_time": "2022-05-19T20:25:50.185Z"
   },
   {
    "duration": 31,
    "start_time": "2022-05-19T20:25:50.210Z"
   },
   {
    "duration": 38,
    "start_time": "2022-05-19T20:25:50.244Z"
   },
   {
    "duration": 23,
    "start_time": "2022-05-19T20:25:50.285Z"
   },
   {
    "duration": 47,
    "start_time": "2022-05-19T20:25:50.310Z"
   },
   {
    "duration": 2,
    "start_time": "2022-05-19T20:25:50.359Z"
   },
   {
    "duration": 6,
    "start_time": "2022-05-19T20:25:50.363Z"
   },
   {
    "duration": 4,
    "start_time": "2022-05-19T20:25:50.372Z"
   },
   {
    "duration": 5,
    "start_time": "2022-05-19T20:25:50.378Z"
   },
   {
    "duration": 4,
    "start_time": "2022-05-19T20:25:50.387Z"
   },
   {
    "duration": 7,
    "start_time": "2022-05-19T20:25:50.393Z"
   },
   {
    "duration": 38,
    "start_time": "2022-05-19T20:25:50.403Z"
   },
   {
    "duration": 5,
    "start_time": "2022-05-19T20:25:50.444Z"
   },
   {
    "duration": 4,
    "start_time": "2022-05-19T20:25:50.451Z"
   },
   {
    "duration": 5,
    "start_time": "2022-05-19T20:25:50.457Z"
   },
   {
    "duration": 5,
    "start_time": "2022-05-19T20:25:50.466Z"
   },
   {
    "duration": 10,
    "start_time": "2022-05-19T20:25:50.473Z"
   },
   {
    "duration": 6,
    "start_time": "2022-05-19T20:25:50.485Z"
   },
   {
    "duration": 7,
    "start_time": "2022-05-19T20:25:50.493Z"
   },
   {
    "duration": 87,
    "start_time": "2022-05-19T20:37:19.572Z"
   },
   {
    "duration": 19,
    "start_time": "2022-05-19T20:39:38.278Z"
   },
   {
    "duration": 36,
    "start_time": "2022-05-19T20:39:39.212Z"
   },
   {
    "duration": 6,
    "start_time": "2022-05-19T20:39:43.613Z"
   },
   {
    "duration": 23,
    "start_time": "2022-05-19T20:40:56.342Z"
   },
   {
    "duration": 23,
    "start_time": "2022-05-19T20:41:07.716Z"
   },
   {
    "duration": 19,
    "start_time": "2022-05-19T20:45:51.756Z"
   },
   {
    "duration": 27,
    "start_time": "2022-05-19T20:48:33.674Z"
   },
   {
    "duration": 23,
    "start_time": "2022-05-19T20:49:20.281Z"
   },
   {
    "duration": 36,
    "start_time": "2022-05-19T20:49:24.394Z"
   },
   {
    "duration": 18,
    "start_time": "2022-05-19T20:49:27.610Z"
   },
   {
    "duration": 5,
    "start_time": "2022-05-19T20:49:38.161Z"
   },
   {
    "duration": 12,
    "start_time": "2022-05-19T20:49:56.196Z"
   },
   {
    "duration": 29,
    "start_time": "2022-05-19T20:49:59.513Z"
   },
   {
    "duration": 385,
    "start_time": "2022-05-19T20:52:49.680Z"
   },
   {
    "duration": 38,
    "start_time": "2022-05-19T20:52:50.280Z"
   },
   {
    "duration": 957,
    "start_time": "2022-05-19T20:53:02.366Z"
   },
   {
    "duration": 142,
    "start_time": "2022-05-19T20:53:03.325Z"
   },
   {
    "duration": 39,
    "start_time": "2022-05-19T20:53:03.469Z"
   },
   {
    "duration": 42,
    "start_time": "2022-05-19T20:53:03.511Z"
   },
   {
    "duration": 44,
    "start_time": "2022-05-19T20:53:03.556Z"
   },
   {
    "duration": 42,
    "start_time": "2022-05-19T20:53:03.605Z"
   },
   {
    "duration": 86,
    "start_time": "2022-05-19T20:53:03.653Z"
   },
   {
    "duration": 4,
    "start_time": "2022-05-19T20:53:03.748Z"
   },
   {
    "duration": 13,
    "start_time": "2022-05-19T20:53:03.754Z"
   },
   {
    "duration": 9,
    "start_time": "2022-05-19T20:53:03.770Z"
   },
   {
    "duration": 38,
    "start_time": "2022-05-19T20:53:03.783Z"
   },
   {
    "duration": 83,
    "start_time": "2022-05-19T20:53:03.823Z"
   },
   {
    "duration": 59,
    "start_time": "2022-05-19T20:53:03.913Z"
   },
   {
    "duration": 18,
    "start_time": "2022-05-19T20:53:03.974Z"
   },
   {
    "duration": 49,
    "start_time": "2022-05-19T20:53:03.998Z"
   },
   {
    "duration": 40,
    "start_time": "2022-05-19T20:53:04.053Z"
   },
   {
    "duration": 45,
    "start_time": "2022-05-19T20:53:04.100Z"
   },
   {
    "duration": 18,
    "start_time": "2022-05-19T20:53:04.151Z"
   },
   {
    "duration": 145,
    "start_time": "2022-05-19T20:53:04.176Z"
   },
   {
    "duration": 0,
    "start_time": "2022-05-19T20:53:04.327Z"
   },
   {
    "duration": 1,
    "start_time": "2022-05-19T20:53:04.331Z"
   },
   {
    "duration": 0,
    "start_time": "2022-05-19T20:53:04.336Z"
   },
   {
    "duration": 0,
    "start_time": "2022-05-19T20:53:04.340Z"
   },
   {
    "duration": 0,
    "start_time": "2022-05-19T20:53:04.345Z"
   },
   {
    "duration": 0,
    "start_time": "2022-05-19T20:53:04.349Z"
   },
   {
    "duration": 0,
    "start_time": "2022-05-19T20:53:04.350Z"
   },
   {
    "duration": 0,
    "start_time": "2022-05-19T20:53:04.355Z"
   },
   {
    "duration": 0,
    "start_time": "2022-05-19T20:53:04.356Z"
   },
   {
    "duration": 0,
    "start_time": "2022-05-19T20:53:04.357Z"
   },
   {
    "duration": 1,
    "start_time": "2022-05-19T20:53:04.363Z"
   },
   {
    "duration": 0,
    "start_time": "2022-05-19T20:53:04.373Z"
   },
   {
    "duration": 0,
    "start_time": "2022-05-19T20:53:04.376Z"
   },
   {
    "duration": 12,
    "start_time": "2022-05-19T21:17:24.540Z"
   },
   {
    "duration": 17,
    "start_time": "2022-05-19T21:17:45.072Z"
   },
   {
    "duration": 19,
    "start_time": "2022-05-19T21:18:54.352Z"
   },
   {
    "duration": 6,
    "start_time": "2022-05-19T21:19:02.655Z"
   },
   {
    "duration": 79,
    "start_time": "2022-05-19T21:19:06.061Z"
   },
   {
    "duration": 30,
    "start_time": "2022-05-19T21:19:19.184Z"
   },
   {
    "duration": 23,
    "start_time": "2022-05-19T21:19:20.395Z"
   },
   {
    "duration": 22,
    "start_time": "2022-05-19T21:21:56.288Z"
   },
   {
    "duration": 29,
    "start_time": "2022-05-19T21:21:57.027Z"
   },
   {
    "duration": 19,
    "start_time": "2022-05-19T21:22:01.009Z"
   },
   {
    "duration": 24,
    "start_time": "2022-05-19T21:22:04.633Z"
   },
   {
    "duration": 18,
    "start_time": "2022-05-19T21:22:09.823Z"
   },
   {
    "duration": 3,
    "start_time": "2022-05-19T21:22:21.217Z"
   },
   {
    "duration": 752,
    "start_time": "2022-05-19T21:24:06.268Z"
   },
   {
    "duration": 151,
    "start_time": "2022-05-19T21:24:07.022Z"
   },
   {
    "duration": 32,
    "start_time": "2022-05-19T21:24:07.176Z"
   },
   {
    "duration": 12,
    "start_time": "2022-05-19T21:24:07.209Z"
   },
   {
    "duration": 46,
    "start_time": "2022-05-19T21:24:07.222Z"
   },
   {
    "duration": 34,
    "start_time": "2022-05-19T21:24:07.270Z"
   },
   {
    "duration": 90,
    "start_time": "2022-05-19T21:24:07.306Z"
   },
   {
    "duration": 5,
    "start_time": "2022-05-19T21:24:07.398Z"
   },
   {
    "duration": 14,
    "start_time": "2022-05-19T21:24:07.405Z"
   },
   {
    "duration": 20,
    "start_time": "2022-05-19T21:24:07.424Z"
   },
   {
    "duration": 12,
    "start_time": "2022-05-19T21:24:07.446Z"
   },
   {
    "duration": 34,
    "start_time": "2022-05-19T21:24:07.460Z"
   },
   {
    "duration": 48,
    "start_time": "2022-05-19T21:24:07.496Z"
   },
   {
    "duration": 11,
    "start_time": "2022-05-19T21:24:07.546Z"
   },
   {
    "duration": 39,
    "start_time": "2022-05-19T21:24:07.559Z"
   },
   {
    "duration": 48,
    "start_time": "2022-05-19T21:24:07.600Z"
   },
   {
    "duration": 24,
    "start_time": "2022-05-19T21:24:07.650Z"
   },
   {
    "duration": 102,
    "start_time": "2022-05-19T21:24:07.676Z"
   },
   {
    "duration": 0,
    "start_time": "2022-05-19T21:24:07.781Z"
   },
   {
    "duration": 0,
    "start_time": "2022-05-19T21:24:07.782Z"
   },
   {
    "duration": 0,
    "start_time": "2022-05-19T21:24:07.784Z"
   },
   {
    "duration": 0,
    "start_time": "2022-05-19T21:24:07.786Z"
   },
   {
    "duration": 0,
    "start_time": "2022-05-19T21:24:07.787Z"
   },
   {
    "duration": 0,
    "start_time": "2022-05-19T21:24:07.789Z"
   },
   {
    "duration": 0,
    "start_time": "2022-05-19T21:24:07.790Z"
   },
   {
    "duration": 0,
    "start_time": "2022-05-19T21:24:07.792Z"
   },
   {
    "duration": 0,
    "start_time": "2022-05-19T21:24:07.793Z"
   },
   {
    "duration": 0,
    "start_time": "2022-05-19T21:24:07.795Z"
   },
   {
    "duration": 0,
    "start_time": "2022-05-19T21:24:07.796Z"
   },
   {
    "duration": 0,
    "start_time": "2022-05-19T21:24:07.797Z"
   },
   {
    "duration": 0,
    "start_time": "2022-05-19T21:24:07.799Z"
   },
   {
    "duration": 4,
    "start_time": "2022-05-19T21:33:01.007Z"
   },
   {
    "duration": 14,
    "start_time": "2022-05-19T21:33:08.972Z"
   },
   {
    "duration": 743,
    "start_time": "2022-05-19T22:06:46.808Z"
   },
   {
    "duration": 103,
    "start_time": "2022-05-19T22:06:47.553Z"
   },
   {
    "duration": 24,
    "start_time": "2022-05-19T22:06:47.658Z"
   },
   {
    "duration": 12,
    "start_time": "2022-05-19T22:06:47.684Z"
   },
   {
    "duration": 45,
    "start_time": "2022-05-19T22:06:47.698Z"
   },
   {
    "duration": 21,
    "start_time": "2022-05-19T22:06:47.745Z"
   },
   {
    "duration": 41,
    "start_time": "2022-05-19T22:06:47.768Z"
   },
   {
    "duration": 4,
    "start_time": "2022-05-19T22:06:47.810Z"
   },
   {
    "duration": 29,
    "start_time": "2022-05-19T22:06:47.815Z"
   },
   {
    "duration": 6,
    "start_time": "2022-05-19T22:06:47.847Z"
   },
   {
    "duration": 11,
    "start_time": "2022-05-19T22:06:47.854Z"
   },
   {
    "duration": 30,
    "start_time": "2022-05-19T22:06:47.867Z"
   },
   {
    "duration": 43,
    "start_time": "2022-05-19T22:06:47.899Z"
   },
   {
    "duration": 11,
    "start_time": "2022-05-19T22:06:47.944Z"
   },
   {
    "duration": 24,
    "start_time": "2022-05-19T22:06:47.956Z"
   },
   {
    "duration": 16,
    "start_time": "2022-05-19T22:06:47.982Z"
   },
   {
    "duration": 48,
    "start_time": "2022-05-19T22:06:48.000Z"
   },
   {
    "duration": 92,
    "start_time": "2022-05-19T22:06:48.049Z"
   },
   {
    "duration": 0,
    "start_time": "2022-05-19T22:06:48.143Z"
   },
   {
    "duration": 0,
    "start_time": "2022-05-19T22:06:48.144Z"
   },
   {
    "duration": 0,
    "start_time": "2022-05-19T22:06:48.145Z"
   },
   {
    "duration": 0,
    "start_time": "2022-05-19T22:06:48.146Z"
   },
   {
    "duration": 0,
    "start_time": "2022-05-19T22:06:48.147Z"
   },
   {
    "duration": 0,
    "start_time": "2022-05-19T22:06:48.148Z"
   },
   {
    "duration": 0,
    "start_time": "2022-05-19T22:06:48.149Z"
   },
   {
    "duration": 0,
    "start_time": "2022-05-19T22:06:48.150Z"
   },
   {
    "duration": 0,
    "start_time": "2022-05-19T22:06:48.151Z"
   },
   {
    "duration": 0,
    "start_time": "2022-05-19T22:06:48.152Z"
   },
   {
    "duration": 0,
    "start_time": "2022-05-19T22:06:48.153Z"
   },
   {
    "duration": 0,
    "start_time": "2022-05-19T22:06:48.154Z"
   },
   {
    "duration": 0,
    "start_time": "2022-05-19T22:06:48.155Z"
   },
   {
    "duration": 4,
    "start_time": "2022-05-19T22:13:19.855Z"
   },
   {
    "duration": 13,
    "start_time": "2022-05-19T22:13:41.488Z"
   },
   {
    "duration": 5,
    "start_time": "2022-05-19T22:14:21.884Z"
   },
   {
    "duration": 4,
    "start_time": "2022-05-19T22:14:23.687Z"
   },
   {
    "duration": 5,
    "start_time": "2022-05-19T22:14:25.542Z"
   },
   {
    "duration": 9,
    "start_time": "2022-05-19T22:14:52.908Z"
   },
   {
    "duration": 16,
    "start_time": "2022-05-19T22:16:21.521Z"
   },
   {
    "duration": 726,
    "start_time": "2022-05-19T22:26:50.616Z"
   },
   {
    "duration": 104,
    "start_time": "2022-05-19T22:26:51.345Z"
   },
   {
    "duration": 28,
    "start_time": "2022-05-19T22:26:51.450Z"
   },
   {
    "duration": 16,
    "start_time": "2022-05-19T22:26:51.481Z"
   },
   {
    "duration": 56,
    "start_time": "2022-05-19T22:26:51.498Z"
   },
   {
    "duration": 30,
    "start_time": "2022-05-19T22:26:51.556Z"
   },
   {
    "duration": 73,
    "start_time": "2022-05-19T22:26:51.588Z"
   },
   {
    "duration": 4,
    "start_time": "2022-05-19T22:26:51.663Z"
   },
   {
    "duration": 9,
    "start_time": "2022-05-19T22:26:51.669Z"
   },
   {
    "duration": 6,
    "start_time": "2022-05-19T22:26:51.680Z"
   },
   {
    "duration": 10,
    "start_time": "2022-05-19T22:26:51.688Z"
   },
   {
    "duration": 68,
    "start_time": "2022-05-19T22:26:51.699Z"
   },
   {
    "duration": 19,
    "start_time": "2022-05-19T22:26:51.769Z"
   },
   {
    "duration": 13,
    "start_time": "2022-05-19T22:26:51.789Z"
   },
   {
    "duration": 41,
    "start_time": "2022-05-19T22:26:51.804Z"
   },
   {
    "duration": 17,
    "start_time": "2022-05-19T22:26:51.847Z"
   },
   {
    "duration": 22,
    "start_time": "2022-05-19T22:26:51.866Z"
   },
   {
    "duration": 5,
    "start_time": "2022-05-19T22:26:51.890Z"
   },
   {
    "duration": 5,
    "start_time": "2022-05-19T22:26:51.897Z"
   },
   {
    "duration": 39,
    "start_time": "2022-05-19T22:26:51.903Z"
   },
   {
    "duration": 16,
    "start_time": "2022-05-19T22:26:51.944Z"
   },
   {
    "duration": 6,
    "start_time": "2022-05-19T22:26:51.962Z"
   },
   {
    "duration": 5,
    "start_time": "2022-05-19T22:26:51.969Z"
   },
   {
    "duration": 5,
    "start_time": "2022-05-19T22:26:51.975Z"
   },
   {
    "duration": 5,
    "start_time": "2022-05-19T22:26:51.981Z"
   },
   {
    "duration": 5,
    "start_time": "2022-05-19T22:26:51.988Z"
   },
   {
    "duration": 5,
    "start_time": "2022-05-19T22:26:51.995Z"
   },
   {
    "duration": 3,
    "start_time": "2022-05-19T22:26:52.003Z"
   },
   {
    "duration": 6,
    "start_time": "2022-05-19T22:26:52.007Z"
   },
   {
    "duration": 2,
    "start_time": "2022-05-19T22:26:52.042Z"
   },
   {
    "duration": 8,
    "start_time": "2022-05-19T22:26:52.046Z"
   },
   {
    "duration": 6,
    "start_time": "2022-05-19T22:26:52.055Z"
   },
   {
    "duration": 4,
    "start_time": "2022-05-19T22:26:52.062Z"
   },
   {
    "duration": 82,
    "start_time": "2022-05-19T22:28:31.709Z"
   },
   {
    "duration": 13,
    "start_time": "2022-05-19T22:29:37.315Z"
   },
   {
    "duration": 15,
    "start_time": "2022-05-19T22:29:39.449Z"
   },
   {
    "duration": 12,
    "start_time": "2022-05-19T22:30:34.844Z"
   },
   {
    "duration": 13,
    "start_time": "2022-05-19T22:30:36.132Z"
   },
   {
    "duration": 709,
    "start_time": "2022-05-19T22:30:43.805Z"
   },
   {
    "duration": 108,
    "start_time": "2022-05-19T22:30:44.516Z"
   },
   {
    "duration": 27,
    "start_time": "2022-05-19T22:30:44.626Z"
   },
   {
    "duration": 12,
    "start_time": "2022-05-19T22:30:44.655Z"
   },
   {
    "duration": 24,
    "start_time": "2022-05-19T22:30:44.669Z"
   },
   {
    "duration": 53,
    "start_time": "2022-05-19T22:30:44.695Z"
   },
   {
    "duration": 54,
    "start_time": "2022-05-19T22:30:44.749Z"
   },
   {
    "duration": 4,
    "start_time": "2022-05-19T22:30:44.805Z"
   },
   {
    "duration": 12,
    "start_time": "2022-05-19T22:30:44.811Z"
   },
   {
    "duration": 7,
    "start_time": "2022-05-19T22:30:44.843Z"
   },
   {
    "duration": 9,
    "start_time": "2022-05-19T22:30:44.852Z"
   },
   {
    "duration": 34,
    "start_time": "2022-05-19T22:30:44.862Z"
   },
   {
    "duration": 46,
    "start_time": "2022-05-19T22:30:44.898Z"
   },
   {
    "duration": 11,
    "start_time": "2022-05-19T22:30:44.946Z"
   },
   {
    "duration": 24,
    "start_time": "2022-05-19T22:30:44.959Z"
   },
   {
    "duration": 17,
    "start_time": "2022-05-19T22:30:44.984Z"
   },
   {
    "duration": 48,
    "start_time": "2022-05-19T22:30:45.003Z"
   },
   {
    "duration": 13,
    "start_time": "2022-05-19T22:30:45.052Z"
   },
   {
    "duration": 100,
    "start_time": "2022-05-19T22:30:45.067Z"
   },
   {
    "duration": 0,
    "start_time": "2022-05-19T22:30:45.169Z"
   },
   {
    "duration": 0,
    "start_time": "2022-05-19T22:30:45.170Z"
   },
   {
    "duration": 0,
    "start_time": "2022-05-19T22:30:45.171Z"
   },
   {
    "duration": 0,
    "start_time": "2022-05-19T22:30:45.172Z"
   },
   {
    "duration": 0,
    "start_time": "2022-05-19T22:30:45.173Z"
   },
   {
    "duration": 0,
    "start_time": "2022-05-19T22:30:45.174Z"
   },
   {
    "duration": 0,
    "start_time": "2022-05-19T22:30:45.175Z"
   },
   {
    "duration": 1,
    "start_time": "2022-05-19T22:30:45.175Z"
   },
   {
    "duration": 0,
    "start_time": "2022-05-19T22:30:45.177Z"
   },
   {
    "duration": 0,
    "start_time": "2022-05-19T22:30:45.178Z"
   },
   {
    "duration": 0,
    "start_time": "2022-05-19T22:30:45.179Z"
   },
   {
    "duration": 0,
    "start_time": "2022-05-19T22:30:45.180Z"
   },
   {
    "duration": 0,
    "start_time": "2022-05-19T22:30:45.181Z"
   },
   {
    "duration": 0,
    "start_time": "2022-05-19T22:30:45.182Z"
   },
   {
    "duration": 21,
    "start_time": "2022-05-19T22:32:43.144Z"
   },
   {
    "duration": 7,
    "start_time": "2022-05-19T22:33:13.788Z"
   },
   {
    "duration": 23,
    "start_time": "2022-05-19T22:33:25.336Z"
   },
   {
    "duration": 14,
    "start_time": "2022-05-19T22:33:28.370Z"
   },
   {
    "duration": 13,
    "start_time": "2022-05-19T22:38:32.827Z"
   },
   {
    "duration": 7,
    "start_time": "2022-05-19T22:38:52.997Z"
   },
   {
    "duration": 13,
    "start_time": "2022-05-19T22:40:38.984Z"
   },
   {
    "duration": 18,
    "start_time": "2022-05-19T22:40:39.864Z"
   },
   {
    "duration": 3,
    "start_time": "2022-05-19T22:41:24.284Z"
   },
   {
    "duration": 14,
    "start_time": "2022-05-19T22:41:25.061Z"
   },
   {
    "duration": 4,
    "start_time": "2022-05-19T22:42:18.667Z"
   },
   {
    "duration": 19,
    "start_time": "2022-05-19T22:42:19.799Z"
   },
   {
    "duration": 5,
    "start_time": "2022-05-19T22:45:44.611Z"
   },
   {
    "duration": 15,
    "start_time": "2022-05-19T22:45:45.757Z"
   },
   {
    "duration": 11,
    "start_time": "2022-05-19T22:46:40.258Z"
   },
   {
    "duration": 23,
    "start_time": "2022-05-19T22:46:41.165Z"
   },
   {
    "duration": 5,
    "start_time": "2022-05-19T22:47:11.683Z"
   },
   {
    "duration": 5,
    "start_time": "2022-05-19T22:47:14.412Z"
   },
   {
    "duration": 23,
    "start_time": "2022-05-19T22:47:15.330Z"
   },
   {
    "duration": 644,
    "start_time": "2022-05-19T22:47:32.170Z"
   },
   {
    "duration": 99,
    "start_time": "2022-05-19T22:47:32.816Z"
   },
   {
    "duration": 24,
    "start_time": "2022-05-19T22:47:32.917Z"
   },
   {
    "duration": 11,
    "start_time": "2022-05-19T22:47:32.943Z"
   },
   {
    "duration": 22,
    "start_time": "2022-05-19T22:47:32.955Z"
   },
   {
    "duration": 19,
    "start_time": "2022-05-19T22:47:32.979Z"
   },
   {
    "duration": 60,
    "start_time": "2022-05-19T22:47:32.999Z"
   },
   {
    "duration": 4,
    "start_time": "2022-05-19T22:47:33.061Z"
   },
   {
    "duration": 8,
    "start_time": "2022-05-19T22:47:33.066Z"
   },
   {
    "duration": 12,
    "start_time": "2022-05-19T22:47:33.077Z"
   },
   {
    "duration": 12,
    "start_time": "2022-05-19T22:47:33.091Z"
   },
   {
    "duration": 53,
    "start_time": "2022-05-19T22:47:33.105Z"
   },
   {
    "duration": 30,
    "start_time": "2022-05-19T22:47:33.159Z"
   },
   {
    "duration": 17,
    "start_time": "2022-05-19T22:47:33.191Z"
   },
   {
    "duration": 36,
    "start_time": "2022-05-19T22:47:33.210Z"
   },
   {
    "duration": 25,
    "start_time": "2022-05-19T22:47:33.248Z"
   },
   {
    "duration": 22,
    "start_time": "2022-05-19T22:47:33.276Z"
   },
   {
    "duration": 3,
    "start_time": "2022-05-19T22:47:33.300Z"
   },
   {
    "duration": 9,
    "start_time": "2022-05-19T22:47:33.304Z"
   },
   {
    "duration": 35,
    "start_time": "2022-05-19T22:47:33.315Z"
   },
   {
    "duration": 5,
    "start_time": "2022-05-19T22:47:33.351Z"
   },
   {
    "duration": 5,
    "start_time": "2022-05-19T22:47:33.357Z"
   },
   {
    "duration": 15,
    "start_time": "2022-05-19T22:47:33.363Z"
   },
   {
    "duration": 3,
    "start_time": "2022-05-19T22:47:33.379Z"
   },
   {
    "duration": 4,
    "start_time": "2022-05-19T22:47:33.384Z"
   },
   {
    "duration": 4,
    "start_time": "2022-05-19T22:47:33.389Z"
   },
   {
    "duration": 47,
    "start_time": "2022-05-19T22:47:33.394Z"
   },
   {
    "duration": 2,
    "start_time": "2022-05-19T22:47:33.444Z"
   },
   {
    "duration": 5,
    "start_time": "2022-05-19T22:47:33.448Z"
   },
   {
    "duration": 4,
    "start_time": "2022-05-19T22:47:33.455Z"
   },
   {
    "duration": 4,
    "start_time": "2022-05-19T22:47:33.461Z"
   },
   {
    "duration": 4,
    "start_time": "2022-05-19T22:47:33.467Z"
   },
   {
    "duration": 4,
    "start_time": "2022-05-19T22:47:33.472Z"
   },
   {
    "duration": 4,
    "start_time": "2022-05-19T22:47:33.477Z"
   },
   {
    "duration": 5,
    "start_time": "2022-05-19T22:47:33.482Z"
   },
   {
    "duration": 1078,
    "start_time": "2022-05-20T14:31:29.300Z"
   },
   {
    "duration": 490,
    "start_time": "2022-05-20T14:31:30.380Z"
   },
   {
    "duration": 42,
    "start_time": "2022-05-20T14:31:30.873Z"
   },
   {
    "duration": 15,
    "start_time": "2022-05-20T14:31:30.917Z"
   },
   {
    "duration": 51,
    "start_time": "2022-05-20T14:31:30.934Z"
   },
   {
    "duration": 27,
    "start_time": "2022-05-20T14:31:30.987Z"
   },
   {
    "duration": 54,
    "start_time": "2022-05-20T14:31:31.016Z"
   },
   {
    "duration": 4,
    "start_time": "2022-05-20T14:31:31.072Z"
   },
   {
    "duration": 19,
    "start_time": "2022-05-20T14:31:31.079Z"
   },
   {
    "duration": 17,
    "start_time": "2022-05-20T14:31:31.102Z"
   },
   {
    "duration": 40,
    "start_time": "2022-05-20T14:31:31.121Z"
   },
   {
    "duration": 58,
    "start_time": "2022-05-20T14:31:31.163Z"
   },
   {
    "duration": 25,
    "start_time": "2022-05-20T14:31:31.223Z"
   },
   {
    "duration": 17,
    "start_time": "2022-05-20T14:31:31.256Z"
   },
   {
    "duration": 39,
    "start_time": "2022-05-20T14:31:31.276Z"
   },
   {
    "duration": 42,
    "start_time": "2022-05-20T14:31:31.317Z"
   },
   {
    "duration": 33,
    "start_time": "2022-05-20T14:31:31.362Z"
   },
   {
    "duration": 8,
    "start_time": "2022-05-20T14:31:31.397Z"
   },
   {
    "duration": 16,
    "start_time": "2022-05-20T14:31:31.408Z"
   },
   {
    "duration": 36,
    "start_time": "2022-05-20T14:31:31.426Z"
   },
   {
    "duration": 12,
    "start_time": "2022-05-20T14:31:31.464Z"
   },
   {
    "duration": 22,
    "start_time": "2022-05-20T14:31:31.478Z"
   },
   {
    "duration": 51,
    "start_time": "2022-05-20T14:31:31.502Z"
   },
   {
    "duration": 10,
    "start_time": "2022-05-20T14:31:31.556Z"
   },
   {
    "duration": 16,
    "start_time": "2022-05-20T14:31:31.568Z"
   },
   {
    "duration": 10,
    "start_time": "2022-05-20T14:31:31.586Z"
   },
   {
    "duration": 10,
    "start_time": "2022-05-20T14:31:31.598Z"
   },
   {
    "duration": 22,
    "start_time": "2022-05-20T14:31:31.612Z"
   },
   {
    "duration": 27,
    "start_time": "2022-05-20T14:31:31.636Z"
   },
   {
    "duration": 8,
    "start_time": "2022-05-20T14:31:31.665Z"
   },
   {
    "duration": 10,
    "start_time": "2022-05-20T14:31:31.674Z"
   },
   {
    "duration": 16,
    "start_time": "2022-05-20T14:31:31.686Z"
   },
   {
    "duration": 25,
    "start_time": "2022-05-20T14:31:31.704Z"
   },
   {
    "duration": 19,
    "start_time": "2022-05-20T14:31:31.731Z"
   },
   {
    "duration": 24,
    "start_time": "2022-05-20T14:31:31.754Z"
   },
   {
    "duration": 88,
    "start_time": "2022-05-20T14:50:05.038Z"
   },
   {
    "duration": 42,
    "start_time": "2022-05-20T14:50:13.326Z"
   },
   {
    "duration": 18,
    "start_time": "2022-05-20T14:50:25.565Z"
   },
   {
    "duration": 22,
    "start_time": "2022-05-20T14:51:01.072Z"
   },
   {
    "duration": 67,
    "start_time": "2022-05-20T14:51:17.639Z"
   },
   {
    "duration": 21,
    "start_time": "2022-05-20T14:52:39.359Z"
   },
   {
    "duration": 9,
    "start_time": "2022-05-20T14:52:51.972Z"
   },
   {
    "duration": 718,
    "start_time": "2022-05-20T14:54:55.506Z"
   },
   {
    "duration": 3450,
    "start_time": "2022-05-20T14:55:06.067Z"
   },
   {
    "duration": 222,
    "start_time": "2022-05-20T14:55:25.780Z"
   },
   {
    "duration": 196,
    "start_time": "2022-05-20T14:55:39.282Z"
   },
   {
    "duration": 315,
    "start_time": "2022-05-20T14:55:45.518Z"
   },
   {
    "duration": 429,
    "start_time": "2022-05-20T14:55:52.200Z"
   },
   {
    "duration": 203,
    "start_time": "2022-05-20T14:57:04.586Z"
   },
   {
    "duration": 327,
    "start_time": "2022-05-20T14:57:49.838Z"
   },
   {
    "duration": 199,
    "start_time": "2022-05-20T14:58:05.822Z"
   },
   {
    "duration": 235,
    "start_time": "2022-05-20T15:01:12.072Z"
   },
   {
    "duration": 236,
    "start_time": "2022-05-20T15:02:16.141Z"
   },
   {
    "duration": 197,
    "start_time": "2022-05-20T15:02:45.740Z"
   },
   {
    "duration": 163,
    "start_time": "2022-05-20T15:02:52.970Z"
   },
   {
    "duration": 164,
    "start_time": "2022-05-20T15:02:59.366Z"
   },
   {
    "duration": 176,
    "start_time": "2022-05-20T15:03:52.930Z"
   },
   {
    "duration": 439,
    "start_time": "2022-05-20T15:04:12.862Z"
   },
   {
    "duration": 218,
    "start_time": "2022-05-20T15:04:33.368Z"
   },
   {
    "duration": 403,
    "start_time": "2022-05-20T15:04:43.291Z"
   },
   {
    "duration": 199,
    "start_time": "2022-05-20T15:04:51.169Z"
   },
   {
    "duration": 180,
    "start_time": "2022-05-20T15:04:56.596Z"
   },
   {
    "duration": 190,
    "start_time": "2022-05-20T15:05:09.481Z"
   },
   {
    "duration": 161,
    "start_time": "2022-05-20T15:05:16.160Z"
   },
   {
    "duration": 166,
    "start_time": "2022-05-20T15:05:22.266Z"
   },
   {
    "duration": 16,
    "start_time": "2022-05-20T15:52:11.065Z"
   },
   {
    "duration": 54,
    "start_time": "2022-05-20T15:52:26.080Z"
   },
   {
    "duration": 180,
    "start_time": "2022-05-20T16:35:55.744Z"
   },
   {
    "duration": 283,
    "start_time": "2022-05-20T16:36:31.575Z"
   },
   {
    "duration": 198,
    "start_time": "2022-05-20T16:36:40.154Z"
   },
   {
    "duration": 309,
    "start_time": "2022-05-20T16:36:46.691Z"
   },
   {
    "duration": 155,
    "start_time": "2022-05-20T16:36:53.406Z"
   },
   {
    "duration": 180,
    "start_time": "2022-05-20T16:37:02.690Z"
   },
   {
    "duration": 165,
    "start_time": "2022-05-20T16:37:28.165Z"
   },
   {
    "duration": 194,
    "start_time": "2022-05-20T16:37:34.721Z"
   },
   {
    "duration": 145,
    "start_time": "2022-05-20T16:37:36.059Z"
   },
   {
    "duration": 163,
    "start_time": "2022-05-20T16:37:48.432Z"
   },
   {
    "duration": 191,
    "start_time": "2022-05-20T16:42:36.873Z"
   },
   {
    "duration": 688,
    "start_time": "2022-05-20T16:47:20.801Z"
   },
   {
    "duration": 50,
    "start_time": "2022-05-20T16:55:53.060Z"
   },
   {
    "duration": 41,
    "start_time": "2022-05-20T16:55:59.993Z"
   },
   {
    "duration": 819,
    "start_time": "2022-05-20T18:20:51.967Z"
   },
   {
    "duration": 104,
    "start_time": "2022-05-20T18:20:52.789Z"
   },
   {
    "duration": 25,
    "start_time": "2022-05-20T18:20:52.895Z"
   },
   {
    "duration": 20,
    "start_time": "2022-05-20T18:20:52.922Z"
   },
   {
    "duration": 24,
    "start_time": "2022-05-20T18:20:52.944Z"
   },
   {
    "duration": 22,
    "start_time": "2022-05-20T18:20:52.970Z"
   },
   {
    "duration": 74,
    "start_time": "2022-05-20T18:20:52.994Z"
   },
   {
    "duration": 4,
    "start_time": "2022-05-20T18:20:53.069Z"
   },
   {
    "duration": 12,
    "start_time": "2022-05-20T18:20:53.075Z"
   },
   {
    "duration": 13,
    "start_time": "2022-05-20T18:20:53.091Z"
   },
   {
    "duration": 25,
    "start_time": "2022-05-20T18:20:53.106Z"
   },
   {
    "duration": 71,
    "start_time": "2022-05-20T18:20:53.133Z"
   },
   {
    "duration": 32,
    "start_time": "2022-05-20T18:20:53.206Z"
   },
   {
    "duration": 19,
    "start_time": "2022-05-20T18:20:53.240Z"
   },
   {
    "duration": 27,
    "start_time": "2022-05-20T18:20:53.261Z"
   },
   {
    "duration": 28,
    "start_time": "2022-05-20T18:20:53.291Z"
   },
   {
    "duration": 43,
    "start_time": "2022-05-20T18:20:53.321Z"
   },
   {
    "duration": 4,
    "start_time": "2022-05-20T18:20:53.366Z"
   },
   {
    "duration": 11,
    "start_time": "2022-05-20T18:20:53.372Z"
   },
   {
    "duration": 17,
    "start_time": "2022-05-20T18:20:53.385Z"
   },
   {
    "duration": 6,
    "start_time": "2022-05-20T18:20:53.404Z"
   },
   {
    "duration": 32,
    "start_time": "2022-05-20T18:20:53.412Z"
   },
   {
    "duration": 27,
    "start_time": "2022-05-20T18:20:53.446Z"
   },
   {
    "duration": 27,
    "start_time": "2022-05-20T18:20:53.475Z"
   },
   {
    "duration": 44,
    "start_time": "2022-05-20T18:20:53.504Z"
   },
   {
    "duration": 58,
    "start_time": "2022-05-20T18:20:53.550Z"
   },
   {
    "duration": 31,
    "start_time": "2022-05-20T18:20:53.610Z"
   },
   {
    "duration": 266,
    "start_time": "2022-05-20T18:20:53.645Z"
   },
   {
    "duration": 226,
    "start_time": "2022-05-20T18:20:53.913Z"
   },
   {
    "duration": 184,
    "start_time": "2022-05-20T18:20:54.141Z"
   },
   {
    "duration": 317,
    "start_time": "2022-05-20T18:20:54.327Z"
   },
   {
    "duration": 162,
    "start_time": "2022-05-20T18:20:54.646Z"
   },
   {
    "duration": 75,
    "start_time": "2022-05-20T18:20:54.810Z"
   },
   {
    "duration": 2,
    "start_time": "2022-05-20T18:20:54.888Z"
   },
   {
    "duration": 12,
    "start_time": "2022-05-20T18:20:54.893Z"
   },
   {
    "duration": 10,
    "start_time": "2022-05-20T18:20:54.907Z"
   },
   {
    "duration": 143,
    "start_time": "2022-05-20T18:52:08.536Z"
   },
   {
    "duration": 115,
    "start_time": "2022-05-20T18:55:15.939Z"
   },
   {
    "duration": 44,
    "start_time": "2022-05-20T18:55:46.597Z"
   },
   {
    "duration": 111,
    "start_time": "2022-05-20T18:56:11.728Z"
   },
   {
    "duration": 3,
    "start_time": "2022-05-20T18:56:35.298Z"
   },
   {
    "duration": 73,
    "start_time": "2022-05-20T18:57:02.116Z"
   },
   {
    "duration": 3,
    "start_time": "2022-05-20T18:57:40.095Z"
   },
   {
    "duration": 8,
    "start_time": "2022-05-20T20:54:34.006Z"
   },
   {
    "duration": 12,
    "start_time": "2022-05-20T21:03:07.359Z"
   },
   {
    "duration": 11,
    "start_time": "2022-05-20T21:03:12.449Z"
   },
   {
    "duration": 13,
    "start_time": "2022-05-20T21:03:20.280Z"
   },
   {
    "duration": 18,
    "start_time": "2022-05-20T21:03:26.275Z"
   },
   {
    "duration": 4,
    "start_time": "2022-05-20T21:03:26.896Z"
   },
   {
    "duration": 15,
    "start_time": "2022-05-20T21:03:37.366Z"
   },
   {
    "duration": 4,
    "start_time": "2022-05-20T21:04:17.344Z"
   },
   {
    "duration": 5,
    "start_time": "2022-05-20T21:04:34.172Z"
   },
   {
    "duration": 4,
    "start_time": "2022-05-20T21:05:04.756Z"
   },
   {
    "duration": 12,
    "start_time": "2022-05-20T21:41:35.957Z"
   },
   {
    "duration": 8,
    "start_time": "2022-05-20T21:42:17.895Z"
   },
   {
    "duration": 15,
    "start_time": "2022-05-20T21:42:28.631Z"
   },
   {
    "duration": 50,
    "start_time": "2022-05-20T21:42:43.607Z"
   },
   {
    "duration": 61,
    "start_time": "2022-05-20T21:43:06.611Z"
   },
   {
    "duration": 10,
    "start_time": "2022-05-20T21:43:36.448Z"
   },
   {
    "duration": 5,
    "start_time": "2022-05-20T21:43:41.524Z"
   },
   {
    "duration": 165,
    "start_time": "2022-05-20T21:44:20.989Z"
   },
   {
    "duration": 652,
    "start_time": "2022-05-20T21:44:42.189Z"
   },
   {
    "duration": 103,
    "start_time": "2022-05-20T21:44:42.842Z"
   },
   {
    "duration": 27,
    "start_time": "2022-05-20T21:44:42.947Z"
   },
   {
    "duration": 13,
    "start_time": "2022-05-20T21:44:42.976Z"
   },
   {
    "duration": 28,
    "start_time": "2022-05-20T21:44:42.992Z"
   },
   {
    "duration": 31,
    "start_time": "2022-05-20T21:44:43.022Z"
   },
   {
    "duration": 38,
    "start_time": "2022-05-20T21:44:43.054Z"
   },
   {
    "duration": 4,
    "start_time": "2022-05-20T21:44:43.093Z"
   },
   {
    "duration": 8,
    "start_time": "2022-05-20T21:44:43.099Z"
   },
   {
    "duration": 36,
    "start_time": "2022-05-20T21:44:43.110Z"
   },
   {
    "duration": 8,
    "start_time": "2022-05-20T21:44:43.148Z"
   },
   {
    "duration": 31,
    "start_time": "2022-05-20T21:44:43.158Z"
   },
   {
    "duration": 20,
    "start_time": "2022-05-20T21:44:43.191Z"
   },
   {
    "duration": 37,
    "start_time": "2022-05-20T21:44:43.213Z"
   },
   {
    "duration": 21,
    "start_time": "2022-05-20T21:44:43.252Z"
   },
   {
    "duration": 17,
    "start_time": "2022-05-20T21:44:43.275Z"
   },
   {
    "duration": 23,
    "start_time": "2022-05-20T21:44:43.293Z"
   },
   {
    "duration": 3,
    "start_time": "2022-05-20T21:44:43.342Z"
   },
   {
    "duration": 13,
    "start_time": "2022-05-20T21:44:43.347Z"
   },
   {
    "duration": 13,
    "start_time": "2022-05-20T21:44:43.362Z"
   },
   {
    "duration": 10,
    "start_time": "2022-05-20T21:44:43.376Z"
   },
   {
    "duration": 5,
    "start_time": "2022-05-20T21:44:43.388Z"
   },
   {
    "duration": 18,
    "start_time": "2022-05-20T21:44:43.394Z"
   },
   {
    "duration": 45,
    "start_time": "2022-05-20T21:44:43.413Z"
   },
   {
    "duration": 22,
    "start_time": "2022-05-20T21:44:43.459Z"
   },
   {
    "duration": 64,
    "start_time": "2022-05-20T21:44:43.483Z"
   },
   {
    "duration": 9,
    "start_time": "2022-05-20T21:44:43.549Z"
   },
   {
    "duration": 185,
    "start_time": "2022-05-20T21:44:43.560Z"
   },
   {
    "duration": 172,
    "start_time": "2022-05-20T21:44:43.747Z"
   },
   {
    "duration": 161,
    "start_time": "2022-05-20T21:44:43.920Z"
   },
   {
    "duration": 163,
    "start_time": "2022-05-20T21:44:44.082Z"
   },
   {
    "duration": 146,
    "start_time": "2022-05-20T21:44:44.247Z"
   },
   {
    "duration": 56,
    "start_time": "2022-05-20T21:44:44.395Z"
   },
   {
    "duration": 16,
    "start_time": "2022-05-20T21:44:44.452Z"
   },
   {
    "duration": 5,
    "start_time": "2022-05-20T21:44:44.470Z"
   },
   {
    "duration": 8,
    "start_time": "2022-05-20T21:44:44.477Z"
   },
   {
    "duration": 12,
    "start_time": "2022-05-20T21:44:44.487Z"
   },
   {
    "duration": 190,
    "start_time": "2022-05-20T21:44:44.501Z"
   },
   {
    "duration": 19,
    "start_time": "2022-05-20T21:53:51.343Z"
   },
   {
    "duration": 317,
    "start_time": "2022-05-20T22:00:41.121Z"
   },
   {
    "duration": 1630,
    "start_time": "2022-05-20T22:01:13.730Z"
   },
   {
    "duration": 230,
    "start_time": "2022-05-20T22:01:22.947Z"
   },
   {
    "duration": 447,
    "start_time": "2022-05-20T22:01:46.846Z"
   },
   {
    "duration": 352,
    "start_time": "2022-05-20T22:02:22.046Z"
   },
   {
    "duration": 448,
    "start_time": "2022-05-20T22:02:35.581Z"
   },
   {
    "duration": 154,
    "start_time": "2022-05-20T22:03:27.676Z"
   },
   {
    "duration": 142,
    "start_time": "2022-05-20T22:04:12.006Z"
   },
   {
    "duration": 161,
    "start_time": "2022-05-20T22:04:33.297Z"
   },
   {
    "duration": 154,
    "start_time": "2022-05-20T22:05:16.382Z"
   },
   {
    "duration": 4,
    "start_time": "2022-05-20T22:06:36.428Z"
   },
   {
    "duration": 5,
    "start_time": "2022-05-20T22:06:48.284Z"
   },
   {
    "duration": 5,
    "start_time": "2022-05-20T22:24:02.439Z"
   },
   {
    "duration": 6,
    "start_time": "2022-05-20T22:24:21.862Z"
   },
   {
    "duration": 4,
    "start_time": "2022-05-20T22:24:28.684Z"
   },
   {
    "duration": 44,
    "start_time": "2022-05-20T22:29:28.041Z"
   },
   {
    "duration": 38,
    "start_time": "2022-05-20T22:29:47.802Z"
   },
   {
    "duration": 182,
    "start_time": "2022-05-20T22:32:29.845Z"
   },
   {
    "duration": 156,
    "start_time": "2022-05-20T22:32:47.458Z"
   },
   {
    "duration": 176,
    "start_time": "2022-05-20T22:33:20.825Z"
   },
   {
    "duration": 715,
    "start_time": "2022-05-20T22:33:28.922Z"
   },
   {
    "duration": 104,
    "start_time": "2022-05-20T22:33:29.639Z"
   },
   {
    "duration": 24,
    "start_time": "2022-05-20T22:33:29.744Z"
   },
   {
    "duration": 11,
    "start_time": "2022-05-20T22:33:29.770Z"
   },
   {
    "duration": 26,
    "start_time": "2022-05-20T22:33:29.782Z"
   },
   {
    "duration": 50,
    "start_time": "2022-05-20T22:33:29.810Z"
   },
   {
    "duration": 50,
    "start_time": "2022-05-20T22:33:29.861Z"
   },
   {
    "duration": 4,
    "start_time": "2022-05-20T22:33:29.913Z"
   },
   {
    "duration": 23,
    "start_time": "2022-05-20T22:33:29.919Z"
   },
   {
    "duration": 7,
    "start_time": "2022-05-20T22:33:29.947Z"
   },
   {
    "duration": 11,
    "start_time": "2022-05-20T22:33:29.956Z"
   },
   {
    "duration": 39,
    "start_time": "2022-05-20T22:33:29.969Z"
   },
   {
    "duration": 47,
    "start_time": "2022-05-20T22:33:30.010Z"
   },
   {
    "duration": 11,
    "start_time": "2022-05-20T22:33:30.058Z"
   },
   {
    "duration": 22,
    "start_time": "2022-05-20T22:33:30.071Z"
   },
   {
    "duration": 16,
    "start_time": "2022-05-20T22:33:30.094Z"
   },
   {
    "duration": 43,
    "start_time": "2022-05-20T22:33:30.112Z"
   },
   {
    "duration": 4,
    "start_time": "2022-05-20T22:33:30.156Z"
   },
   {
    "duration": 14,
    "start_time": "2022-05-20T22:33:30.161Z"
   },
   {
    "duration": 13,
    "start_time": "2022-05-20T22:33:30.177Z"
   },
   {
    "duration": 7,
    "start_time": "2022-05-20T22:33:30.192Z"
   },
   {
    "duration": 13,
    "start_time": "2022-05-20T22:33:30.201Z"
   },
   {
    "duration": 36,
    "start_time": "2022-05-20T22:33:30.216Z"
   },
   {
    "duration": 31,
    "start_time": "2022-05-20T22:33:30.254Z"
   },
   {
    "duration": 21,
    "start_time": "2022-05-20T22:33:30.287Z"
   },
   {
    "duration": 66,
    "start_time": "2022-05-20T22:33:30.310Z"
   },
   {
    "duration": 9,
    "start_time": "2022-05-20T22:33:30.377Z"
   },
   {
    "duration": 186,
    "start_time": "2022-05-20T22:33:30.389Z"
   },
   {
    "duration": 180,
    "start_time": "2022-05-20T22:33:30.577Z"
   },
   {
    "duration": 159,
    "start_time": "2022-05-20T22:33:30.758Z"
   },
   {
    "duration": 144,
    "start_time": "2022-05-20T22:33:30.919Z"
   },
   {
    "duration": 146,
    "start_time": "2022-05-20T22:33:31.065Z"
   },
   {
    "duration": 50,
    "start_time": "2022-05-20T22:33:31.213Z"
   },
   {
    "duration": 14,
    "start_time": "2022-05-20T22:33:31.264Z"
   },
   {
    "duration": 3,
    "start_time": "2022-05-20T22:33:31.280Z"
   },
   {
    "duration": 11,
    "start_time": "2022-05-20T22:33:31.285Z"
   },
   {
    "duration": 18,
    "start_time": "2022-05-20T22:33:31.297Z"
   },
   {
    "duration": 4,
    "start_time": "2022-05-20T22:33:31.317Z"
   },
   {
    "duration": 21,
    "start_time": "2022-05-20T22:33:31.341Z"
   },
   {
    "duration": 172,
    "start_time": "2022-05-20T22:33:31.364Z"
   },
   {
    "duration": 171,
    "start_time": "2022-05-20T22:33:31.538Z"
   },
   {
    "duration": 168,
    "start_time": "2022-05-20T22:33:31.711Z"
   },
   {
    "duration": 42,
    "start_time": "2022-05-20T22:33:31.882Z"
   },
   {
    "duration": 255,
    "start_time": "2022-05-20T22:33:31.926Z"
   },
   {
    "duration": 170,
    "start_time": "2022-05-20T22:33:54.015Z"
   },
   {
    "duration": 145,
    "start_time": "2022-05-20T22:34:13.540Z"
   },
   {
    "duration": 159,
    "start_time": "2022-05-20T22:34:25.266Z"
   },
   {
    "duration": 156,
    "start_time": "2022-05-20T22:34:31.362Z"
   },
   {
    "duration": 133,
    "start_time": "2022-05-20T22:34:38.872Z"
   },
   {
    "duration": 138,
    "start_time": "2022-05-20T22:34:42.439Z"
   },
   {
    "duration": 133,
    "start_time": "2022-05-20T22:34:50.116Z"
   },
   {
    "duration": 148,
    "start_time": "2022-05-20T22:34:57.609Z"
   },
   {
    "duration": 162,
    "start_time": "2022-05-20T22:35:05.763Z"
   },
   {
    "duration": 159,
    "start_time": "2022-05-20T22:35:11.711Z"
   },
   {
    "duration": 533,
    "start_time": "2022-05-20T22:42:13.697Z"
   },
   {
    "duration": 403,
    "start_time": "2022-05-20T22:42:25.425Z"
   },
   {
    "duration": 400,
    "start_time": "2022-05-20T22:42:38.524Z"
   },
   {
    "duration": 259,
    "start_time": "2022-05-20T22:42:50.486Z"
   },
   {
    "duration": 8,
    "start_time": "2022-05-20T22:48:19.023Z"
   },
   {
    "duration": 31,
    "start_time": "2022-05-20T22:48:25.623Z"
   },
   {
    "duration": 36,
    "start_time": "2022-05-20T22:50:03.428Z"
   },
   {
    "duration": 49,
    "start_time": "2022-05-20T22:50:41.758Z"
   },
   {
    "duration": 13,
    "start_time": "2022-05-20T23:00:59.653Z"
   },
   {
    "duration": 19,
    "start_time": "2022-05-20T23:01:16.792Z"
   },
   {
    "duration": 16,
    "start_time": "2022-05-20T23:02:16.294Z"
   },
   {
    "duration": 23,
    "start_time": "2022-05-20T23:02:53.677Z"
   },
   {
    "duration": 1120,
    "start_time": "2022-05-21T15:26:36.762Z"
   },
   {
    "duration": 477,
    "start_time": "2022-05-21T15:26:37.885Z"
   },
   {
    "duration": 77,
    "start_time": "2022-05-21T15:26:38.369Z"
   },
   {
    "duration": 26,
    "start_time": "2022-05-21T15:26:38.449Z"
   },
   {
    "duration": 56,
    "start_time": "2022-05-21T15:26:38.480Z"
   },
   {
    "duration": 47,
    "start_time": "2022-05-21T15:26:38.541Z"
   },
   {
    "duration": 89,
    "start_time": "2022-05-21T15:26:38.592Z"
   },
   {
    "duration": 11,
    "start_time": "2022-05-21T15:26:38.689Z"
   },
   {
    "duration": 30,
    "start_time": "2022-05-21T15:26:38.709Z"
   },
   {
    "duration": 11,
    "start_time": "2022-05-21T15:26:38.741Z"
   },
   {
    "duration": 11,
    "start_time": "2022-05-21T15:26:38.756Z"
   },
   {
    "duration": 57,
    "start_time": "2022-05-21T15:26:38.769Z"
   },
   {
    "duration": 40,
    "start_time": "2022-05-21T15:26:38.828Z"
   },
   {
    "duration": 18,
    "start_time": "2022-05-21T15:26:38.873Z"
   },
   {
    "duration": 42,
    "start_time": "2022-05-21T15:26:38.893Z"
   },
   {
    "duration": 17,
    "start_time": "2022-05-21T15:26:38.938Z"
   },
   {
    "duration": 48,
    "start_time": "2022-05-21T15:26:38.957Z"
   },
   {
    "duration": 4,
    "start_time": "2022-05-21T15:26:39.008Z"
   },
   {
    "duration": 12,
    "start_time": "2022-05-21T15:26:39.014Z"
   },
   {
    "duration": 21,
    "start_time": "2022-05-21T15:26:39.028Z"
   },
   {
    "duration": 7,
    "start_time": "2022-05-21T15:26:39.051Z"
   },
   {
    "duration": 9,
    "start_time": "2022-05-21T15:26:39.083Z"
   },
   {
    "duration": 32,
    "start_time": "2022-05-21T15:26:39.094Z"
   },
   {
    "duration": 39,
    "start_time": "2022-05-21T15:26:39.128Z"
   },
   {
    "duration": 50,
    "start_time": "2022-05-21T15:26:39.169Z"
   },
   {
    "duration": 91,
    "start_time": "2022-05-21T15:26:39.221Z"
   },
   {
    "duration": 15,
    "start_time": "2022-05-21T15:26:39.315Z"
   },
   {
    "duration": 236,
    "start_time": "2022-05-21T15:26:39.333Z"
   },
   {
    "duration": 300,
    "start_time": "2022-05-21T15:26:39.571Z"
   },
   {
    "duration": 244,
    "start_time": "2022-05-21T15:26:39.873Z"
   },
   {
    "duration": 216,
    "start_time": "2022-05-21T15:26:40.119Z"
   },
   {
    "duration": 214,
    "start_time": "2022-05-21T15:26:40.337Z"
   },
   {
    "duration": 68,
    "start_time": "2022-05-21T15:26:40.553Z"
   },
   {
    "duration": 22,
    "start_time": "2022-05-21T15:26:40.623Z"
   },
   {
    "duration": 6,
    "start_time": "2022-05-21T15:26:40.647Z"
   },
   {
    "duration": 9,
    "start_time": "2022-05-21T15:26:40.656Z"
   },
   {
    "duration": 36,
    "start_time": "2022-05-21T15:26:40.668Z"
   },
   {
    "duration": 12,
    "start_time": "2022-05-21T15:26:40.707Z"
   },
   {
    "duration": 37,
    "start_time": "2022-05-21T15:26:40.722Z"
   },
   {
    "duration": 234,
    "start_time": "2022-05-21T15:26:40.761Z"
   },
   {
    "duration": 270,
    "start_time": "2022-05-21T15:26:41.000Z"
   },
   {
    "duration": 206,
    "start_time": "2022-05-21T15:26:41.271Z"
   },
   {
    "duration": 53,
    "start_time": "2022-05-21T15:26:41.478Z"
   },
   {
    "duration": 342,
    "start_time": "2022-05-21T15:26:41.533Z"
   },
   {
    "duration": 55,
    "start_time": "2022-05-21T15:26:41.882Z"
   },
   {
    "duration": 35,
    "start_time": "2022-05-21T15:26:41.939Z"
   },
   {
    "duration": 543,
    "start_time": "2022-05-21T15:33:21.023Z"
   },
   {
    "duration": 9,
    "start_time": "2022-05-21T15:34:09.181Z"
   },
   {
    "duration": 761,
    "start_time": "2022-05-21T15:34:17.582Z"
   },
   {
    "duration": 2201,
    "start_time": "2022-05-21T15:35:44.614Z"
   },
   {
    "duration": 600,
    "start_time": "2022-05-21T15:36:56.460Z"
   },
   {
    "duration": 141,
    "start_time": "2022-05-21T15:37:21.367Z"
   },
   {
    "duration": 132,
    "start_time": "2022-05-21T15:37:43.030Z"
   },
   {
    "duration": 137,
    "start_time": "2022-05-21T15:37:51.691Z"
   },
   {
    "duration": 159,
    "start_time": "2022-05-21T15:38:18.679Z"
   },
   {
    "duration": 44,
    "start_time": "2022-05-21T15:38:48.268Z"
   },
   {
    "duration": 26,
    "start_time": "2022-05-21T15:38:53.886Z"
   },
   {
    "duration": 153,
    "start_time": "2022-05-21T15:39:02.895Z"
   },
   {
    "duration": 133,
    "start_time": "2022-05-21T15:39:30.289Z"
   },
   {
    "duration": 29,
    "start_time": "2022-05-21T15:41:08.624Z"
   },
   {
    "duration": 141,
    "start_time": "2022-05-21T15:41:19.035Z"
   },
   {
    "duration": 160,
    "start_time": "2022-05-21T15:41:41.472Z"
   },
   {
    "duration": 102,
    "start_time": "2022-05-21T16:13:51.288Z"
   },
   {
    "duration": 24,
    "start_time": "2022-05-21T16:13:55.589Z"
   },
   {
    "duration": 184,
    "start_time": "2022-05-21T17:29:23.662Z"
   },
   {
    "duration": 720,
    "start_time": "2022-05-21T17:55:21.177Z"
   },
   {
    "duration": 104,
    "start_time": "2022-05-21T17:55:21.899Z"
   },
   {
    "duration": 26,
    "start_time": "2022-05-21T17:55:22.005Z"
   },
   {
    "duration": 13,
    "start_time": "2022-05-21T17:55:22.033Z"
   },
   {
    "duration": 43,
    "start_time": "2022-05-21T17:55:22.050Z"
   },
   {
    "duration": 19,
    "start_time": "2022-05-21T17:55:22.094Z"
   },
   {
    "duration": 36,
    "start_time": "2022-05-21T17:55:22.115Z"
   },
   {
    "duration": 4,
    "start_time": "2022-05-21T17:55:22.154Z"
   },
   {
    "duration": 9,
    "start_time": "2022-05-21T17:55:22.183Z"
   },
   {
    "duration": 7,
    "start_time": "2022-05-21T17:55:22.194Z"
   },
   {
    "duration": 13,
    "start_time": "2022-05-21T17:55:22.203Z"
   },
   {
    "duration": 30,
    "start_time": "2022-05-21T17:55:22.217Z"
   },
   {
    "duration": 42,
    "start_time": "2022-05-21T17:55:22.249Z"
   },
   {
    "duration": 12,
    "start_time": "2022-05-21T17:55:22.294Z"
   },
   {
    "duration": 22,
    "start_time": "2022-05-21T17:55:22.307Z"
   },
   {
    "duration": 17,
    "start_time": "2022-05-21T17:55:22.331Z"
   },
   {
    "duration": 51,
    "start_time": "2022-05-21T17:55:22.349Z"
   },
   {
    "duration": 4,
    "start_time": "2022-05-21T17:55:22.401Z"
   },
   {
    "duration": 10,
    "start_time": "2022-05-21T17:55:22.407Z"
   },
   {
    "duration": 13,
    "start_time": "2022-05-21T17:55:22.419Z"
   },
   {
    "duration": 6,
    "start_time": "2022-05-21T17:55:22.434Z"
   },
   {
    "duration": 8,
    "start_time": "2022-05-21T17:55:22.441Z"
   },
   {
    "duration": 43,
    "start_time": "2022-05-21T17:55:22.450Z"
   },
   {
    "duration": 50,
    "start_time": "2022-05-21T17:55:22.495Z"
   },
   {
    "duration": 46,
    "start_time": "2022-05-21T17:55:22.546Z"
   },
   {
    "duration": 63,
    "start_time": "2022-05-21T17:55:22.594Z"
   },
   {
    "duration": 8,
    "start_time": "2022-05-21T17:55:22.658Z"
   },
   {
    "duration": 191,
    "start_time": "2022-05-21T17:55:22.668Z"
   },
   {
    "duration": 201,
    "start_time": "2022-05-21T17:55:22.861Z"
   },
   {
    "duration": 166,
    "start_time": "2022-05-21T17:55:23.064Z"
   },
   {
    "duration": 142,
    "start_time": "2022-05-21T17:55:23.232Z"
   },
   {
    "duration": 146,
    "start_time": "2022-05-21T17:55:23.376Z"
   },
   {
    "duration": 45,
    "start_time": "2022-05-21T17:55:23.524Z"
   },
   {
    "duration": 14,
    "start_time": "2022-05-21T17:55:23.583Z"
   },
   {
    "duration": 11,
    "start_time": "2022-05-21T17:55:23.598Z"
   },
   {
    "duration": 28,
    "start_time": "2022-05-21T17:55:23.611Z"
   },
   {
    "duration": 30,
    "start_time": "2022-05-21T17:55:23.641Z"
   },
   {
    "duration": 10,
    "start_time": "2022-05-21T17:55:23.673Z"
   },
   {
    "duration": 39,
    "start_time": "2022-05-21T17:55:23.685Z"
   },
   {
    "duration": 168,
    "start_time": "2022-05-21T17:55:23.725Z"
   },
   {
    "duration": 179,
    "start_time": "2022-05-21T17:55:23.897Z"
   },
   {
    "duration": 150,
    "start_time": "2022-05-21T17:55:24.083Z"
   },
   {
    "duration": 70,
    "start_time": "2022-05-21T17:55:24.235Z"
   },
   {
    "duration": 252,
    "start_time": "2022-05-21T17:55:24.307Z"
   },
   {
    "duration": 39,
    "start_time": "2022-05-21T17:55:24.561Z"
   },
   {
    "duration": 23,
    "start_time": "2022-05-21T17:55:24.602Z"
   },
   {
    "duration": 140,
    "start_time": "2022-05-21T17:55:24.627Z"
   },
   {
    "duration": 246,
    "start_time": "2022-05-21T17:55:41.800Z"
   },
   {
    "duration": 163,
    "start_time": "2022-05-21T17:55:55.202Z"
   },
   {
    "duration": 138,
    "start_time": "2022-05-21T17:56:01.092Z"
   },
   {
    "duration": 42,
    "start_time": "2022-05-21T17:56:54.404Z"
   },
   {
    "duration": 47,
    "start_time": "2022-05-21T17:57:22.456Z"
   },
   {
    "duration": 581,
    "start_time": "2022-05-21T18:01:16.679Z"
   },
   {
    "duration": 41,
    "start_time": "2022-05-21T18:01:33.089Z"
   },
   {
    "duration": 42,
    "start_time": "2022-05-21T18:01:54.367Z"
   },
   {
    "duration": 45,
    "start_time": "2022-05-21T18:02:27.359Z"
   },
   {
    "duration": 164,
    "start_time": "2022-05-21T18:11:59.660Z"
   },
   {
    "duration": 236,
    "start_time": "2022-05-21T18:12:16.248Z"
   },
   {
    "duration": 233,
    "start_time": "2022-05-21T18:12:38.013Z"
   },
   {
    "duration": 180,
    "start_time": "2022-05-21T18:12:57.192Z"
   },
   {
    "duration": 170,
    "start_time": "2022-05-21T18:13:11.444Z"
   },
   {
    "duration": 327,
    "start_time": "2022-05-21T18:13:24.137Z"
   },
   {
    "duration": 189,
    "start_time": "2022-05-21T18:13:36.298Z"
   },
   {
    "duration": 685,
    "start_time": "2022-05-21T18:13:44.334Z"
   },
   {
    "duration": 138,
    "start_time": "2022-05-21T18:13:45.020Z"
   },
   {
    "duration": 43,
    "start_time": "2022-05-21T18:13:45.160Z"
   },
   {
    "duration": 13,
    "start_time": "2022-05-21T18:13:45.207Z"
   },
   {
    "duration": 33,
    "start_time": "2022-05-21T18:13:45.222Z"
   },
   {
    "duration": 47,
    "start_time": "2022-05-21T18:13:45.257Z"
   },
   {
    "duration": 58,
    "start_time": "2022-05-21T18:13:45.307Z"
   },
   {
    "duration": 19,
    "start_time": "2022-05-21T18:13:45.366Z"
   },
   {
    "duration": 8,
    "start_time": "2022-05-21T18:13:45.387Z"
   },
   {
    "duration": 6,
    "start_time": "2022-05-21T18:13:45.396Z"
   },
   {
    "duration": 8,
    "start_time": "2022-05-21T18:13:45.404Z"
   },
   {
    "duration": 29,
    "start_time": "2022-05-21T18:13:45.414Z"
   },
   {
    "duration": 52,
    "start_time": "2022-05-21T18:13:45.447Z"
   },
   {
    "duration": 15,
    "start_time": "2022-05-21T18:13:45.501Z"
   },
   {
    "duration": 38,
    "start_time": "2022-05-21T18:13:45.518Z"
   },
   {
    "duration": 24,
    "start_time": "2022-05-21T18:13:45.584Z"
   },
   {
    "duration": 35,
    "start_time": "2022-05-21T18:13:45.610Z"
   },
   {
    "duration": 5,
    "start_time": "2022-05-21T18:13:45.648Z"
   },
   {
    "duration": 37,
    "start_time": "2022-05-21T18:13:45.654Z"
   },
   {
    "duration": 16,
    "start_time": "2022-05-21T18:13:45.693Z"
   },
   {
    "duration": 6,
    "start_time": "2022-05-21T18:13:45.711Z"
   },
   {
    "duration": 9,
    "start_time": "2022-05-21T18:13:45.720Z"
   },
   {
    "duration": 18,
    "start_time": "2022-05-21T18:13:45.730Z"
   },
   {
    "duration": 26,
    "start_time": "2022-05-21T18:13:45.783Z"
   },
   {
    "duration": 28,
    "start_time": "2022-05-21T18:13:45.811Z"
   },
   {
    "duration": 150,
    "start_time": "2022-05-21T18:13:45.841Z"
   },
   {
    "duration": 0,
    "start_time": "2022-05-21T18:13:45.993Z"
   },
   {
    "duration": 0,
    "start_time": "2022-05-21T18:13:45.995Z"
   },
   {
    "duration": 0,
    "start_time": "2022-05-21T18:13:45.997Z"
   },
   {
    "duration": 0,
    "start_time": "2022-05-21T18:13:45.998Z"
   },
   {
    "duration": 0,
    "start_time": "2022-05-21T18:13:45.999Z"
   },
   {
    "duration": 0,
    "start_time": "2022-05-21T18:13:46.000Z"
   },
   {
    "duration": 0,
    "start_time": "2022-05-21T18:13:46.001Z"
   },
   {
    "duration": 0,
    "start_time": "2022-05-21T18:13:46.004Z"
   },
   {
    "duration": 0,
    "start_time": "2022-05-21T18:13:46.005Z"
   },
   {
    "duration": 0,
    "start_time": "2022-05-21T18:13:46.007Z"
   },
   {
    "duration": 0,
    "start_time": "2022-05-21T18:13:46.008Z"
   },
   {
    "duration": 0,
    "start_time": "2022-05-21T18:13:46.010Z"
   },
   {
    "duration": 0,
    "start_time": "2022-05-21T18:13:46.011Z"
   },
   {
    "duration": 0,
    "start_time": "2022-05-21T18:13:46.013Z"
   },
   {
    "duration": 0,
    "start_time": "2022-05-21T18:13:46.015Z"
   },
   {
    "duration": 0,
    "start_time": "2022-05-21T18:13:46.016Z"
   },
   {
    "duration": 0,
    "start_time": "2022-05-21T18:13:46.017Z"
   },
   {
    "duration": 0,
    "start_time": "2022-05-21T18:13:46.020Z"
   },
   {
    "duration": 0,
    "start_time": "2022-05-21T18:13:46.021Z"
   },
   {
    "duration": 0,
    "start_time": "2022-05-21T18:13:46.022Z"
   },
   {
    "duration": 0,
    "start_time": "2022-05-21T18:13:46.024Z"
   },
   {
    "duration": 48,
    "start_time": "2022-05-21T18:14:36.155Z"
   },
   {
    "duration": 664,
    "start_time": "2022-05-21T18:15:13.624Z"
   },
   {
    "duration": 131,
    "start_time": "2022-05-21T18:15:14.291Z"
   },
   {
    "duration": 31,
    "start_time": "2022-05-21T18:15:14.423Z"
   },
   {
    "duration": 32,
    "start_time": "2022-05-21T18:15:14.456Z"
   },
   {
    "duration": 26,
    "start_time": "2022-05-21T18:15:14.491Z"
   },
   {
    "duration": 35,
    "start_time": "2022-05-21T18:15:14.519Z"
   },
   {
    "duration": 65,
    "start_time": "2022-05-21T18:15:14.556Z"
   },
   {
    "duration": 3,
    "start_time": "2022-05-21T18:15:14.623Z"
   },
   {
    "duration": 16,
    "start_time": "2022-05-21T18:15:14.628Z"
   },
   {
    "duration": 9,
    "start_time": "2022-05-21T18:15:14.646Z"
   },
   {
    "duration": 30,
    "start_time": "2022-05-21T18:15:14.657Z"
   },
   {
    "duration": 33,
    "start_time": "2022-05-21T18:15:14.688Z"
   },
   {
    "duration": 21,
    "start_time": "2022-05-21T18:15:14.722Z"
   },
   {
    "duration": 43,
    "start_time": "2022-05-21T18:15:14.748Z"
   },
   {
    "duration": 38,
    "start_time": "2022-05-21T18:15:14.793Z"
   },
   {
    "duration": 23,
    "start_time": "2022-05-21T18:15:14.834Z"
   },
   {
    "duration": 60,
    "start_time": "2022-05-21T18:15:14.859Z"
   },
   {
    "duration": 5,
    "start_time": "2022-05-21T18:15:14.921Z"
   },
   {
    "duration": 13,
    "start_time": "2022-05-21T18:15:14.929Z"
   },
   {
    "duration": 39,
    "start_time": "2022-05-21T18:15:14.944Z"
   },
   {
    "duration": 5,
    "start_time": "2022-05-21T18:15:14.986Z"
   },
   {
    "duration": 18,
    "start_time": "2022-05-21T18:15:14.993Z"
   },
   {
    "duration": 25,
    "start_time": "2022-05-21T18:15:15.013Z"
   },
   {
    "duration": 47,
    "start_time": "2022-05-21T18:15:15.040Z"
   },
   {
    "duration": 22,
    "start_time": "2022-05-21T18:15:15.090Z"
   },
   {
    "duration": 71,
    "start_time": "2022-05-21T18:15:15.113Z"
   },
   {
    "duration": 10,
    "start_time": "2022-05-21T18:15:15.185Z"
   },
   {
    "duration": 240,
    "start_time": "2022-05-21T18:15:15.197Z"
   },
   {
    "duration": 199,
    "start_time": "2022-05-21T18:15:15.440Z"
   },
   {
    "duration": 185,
    "start_time": "2022-05-21T18:15:15.641Z"
   },
   {
    "duration": 166,
    "start_time": "2022-05-21T18:15:15.828Z"
   },
   {
    "duration": 160,
    "start_time": "2022-05-21T18:15:15.996Z"
   },
   {
    "duration": 58,
    "start_time": "2022-05-21T18:15:16.158Z"
   },
   {
    "duration": 21,
    "start_time": "2022-05-21T18:15:16.220Z"
   },
   {
    "duration": 6,
    "start_time": "2022-05-21T18:15:16.243Z"
   },
   {
    "duration": 10,
    "start_time": "2022-05-21T18:15:16.251Z"
   },
   {
    "duration": 16,
    "start_time": "2022-05-21T18:15:16.284Z"
   },
   {
    "duration": 5,
    "start_time": "2022-05-21T18:15:16.302Z"
   },
   {
    "duration": 23,
    "start_time": "2022-05-21T18:15:16.309Z"
   },
   {
    "duration": 204,
    "start_time": "2022-05-21T18:15:16.333Z"
   },
   {
    "duration": 234,
    "start_time": "2022-05-21T18:15:16.542Z"
   },
   {
    "duration": 200,
    "start_time": "2022-05-21T18:15:16.779Z"
   },
   {
    "duration": 60,
    "start_time": "2022-05-21T18:15:16.984Z"
   },
   {
    "duration": 281,
    "start_time": "2022-05-21T18:15:17.046Z"
   },
   {
    "duration": 34,
    "start_time": "2022-05-21T18:15:17.329Z"
   },
   {
    "duration": 34,
    "start_time": "2022-05-21T18:15:17.365Z"
   },
   {
    "duration": 166,
    "start_time": "2022-05-21T18:15:17.401Z"
   },
   {
    "duration": 5,
    "start_time": "2022-05-21T18:15:31.667Z"
   },
   {
    "duration": 103,
    "start_time": "2022-05-21T18:15:32.690Z"
   },
   {
    "duration": 29,
    "start_time": "2022-05-21T18:15:34.475Z"
   },
   {
    "duration": 11,
    "start_time": "2022-05-21T18:15:35.116Z"
   },
   {
    "duration": 21,
    "start_time": "2022-05-21T18:15:36.149Z"
   },
   {
    "duration": 37,
    "start_time": "2022-05-21T18:15:36.886Z"
   },
   {
    "duration": 58,
    "start_time": "2022-05-21T18:15:38.522Z"
   },
   {
    "duration": 4,
    "start_time": "2022-05-21T18:15:41.220Z"
   },
   {
    "duration": 8,
    "start_time": "2022-05-21T18:15:42.323Z"
   },
   {
    "duration": 9,
    "start_time": "2022-05-21T18:15:43.245Z"
   },
   {
    "duration": 9,
    "start_time": "2022-05-21T18:15:44.051Z"
   },
   {
    "duration": 47,
    "start_time": "2022-05-21T18:15:44.849Z"
   },
   {
    "duration": 20,
    "start_time": "2022-05-21T18:15:46.064Z"
   },
   {
    "duration": 14,
    "start_time": "2022-05-21T18:15:48.611Z"
   },
   {
    "duration": 38,
    "start_time": "2022-05-21T18:15:49.448Z"
   },
   {
    "duration": 18,
    "start_time": "2022-05-21T18:15:52.299Z"
   },
   {
    "duration": 23,
    "start_time": "2022-05-21T18:15:54.019Z"
   },
   {
    "duration": 4,
    "start_time": "2022-05-21T18:15:57.051Z"
   },
   {
    "duration": 13,
    "start_time": "2022-05-21T18:15:58.118Z"
   },
   {
    "duration": 19,
    "start_time": "2022-05-21T18:15:59.164Z"
   },
   {
    "duration": 5,
    "start_time": "2022-05-21T18:16:01.405Z"
   },
   {
    "duration": 6,
    "start_time": "2022-05-21T18:16:02.670Z"
   },
   {
    "duration": 26,
    "start_time": "2022-05-21T18:16:04.092Z"
   },
   {
    "duration": 31,
    "start_time": "2022-05-21T18:16:06.886Z"
   },
   {
    "duration": 23,
    "start_time": "2022-05-21T18:16:14.462Z"
   },
   {
    "duration": 71,
    "start_time": "2022-05-21T18:16:21.285Z"
   },
   {
    "duration": 14,
    "start_time": "2022-05-21T18:16:37.069Z"
   },
   {
    "duration": 203,
    "start_time": "2022-05-21T18:16:39.848Z"
   },
   {
    "duration": 229,
    "start_time": "2022-05-21T18:16:46.602Z"
   },
   {
    "duration": 214,
    "start_time": "2022-05-21T18:17:06.294Z"
   },
   {
    "duration": 227,
    "start_time": "2022-05-21T18:17:21.443Z"
   },
   {
    "duration": 297,
    "start_time": "2022-05-21T18:17:47.399Z"
   },
   {
    "duration": 306,
    "start_time": "2022-05-21T18:18:12.765Z"
   },
   {
    "duration": 328,
    "start_time": "2022-05-21T18:18:21.963Z"
   },
   {
    "duration": 1463,
    "start_time": "2022-05-21T18:22:53.373Z"
   },
   {
    "duration": 151,
    "start_time": "2022-05-21T18:23:19.820Z"
   },
   {
    "duration": 271,
    "start_time": "2022-05-21T18:23:35.423Z"
   },
   {
    "duration": 7,
    "start_time": "2022-05-21T18:26:51.417Z"
   },
   {
    "duration": 5,
    "start_time": "2022-05-21T18:27:03.808Z"
   },
   {
    "duration": 7,
    "start_time": "2022-05-21T18:27:13.700Z"
   },
   {
    "duration": 255,
    "start_time": "2022-05-21T18:30:27.994Z"
   },
   {
    "duration": 514,
    "start_time": "2022-05-21T18:43:51.581Z"
   },
   {
    "duration": 539,
    "start_time": "2022-05-21T18:45:54.484Z"
   },
   {
    "duration": 5,
    "start_time": "2022-05-21T18:46:33.592Z"
   },
   {
    "duration": 6,
    "start_time": "2022-05-21T18:46:51.400Z"
   },
   {
    "duration": 737,
    "start_time": "2022-05-21T18:48:14.483Z"
   },
   {
    "duration": 14,
    "start_time": "2022-05-21T18:48:26.283Z"
   },
   {
    "duration": 779,
    "start_time": "2022-05-22T17:01:59.836Z"
   },
   {
    "duration": 370,
    "start_time": "2022-05-22T17:02:00.617Z"
   },
   {
    "duration": 22,
    "start_time": "2022-05-22T17:02:00.989Z"
   },
   {
    "duration": 11,
    "start_time": "2022-05-22T17:02:01.012Z"
   },
   {
    "duration": 20,
    "start_time": "2022-05-22T17:02:01.025Z"
   },
   {
    "duration": 28,
    "start_time": "2022-05-22T17:02:01.047Z"
   },
   {
    "duration": 35,
    "start_time": "2022-05-22T17:02:01.077Z"
   },
   {
    "duration": 4,
    "start_time": "2022-05-22T17:02:01.114Z"
   },
   {
    "duration": 26,
    "start_time": "2022-05-22T17:02:01.119Z"
   },
   {
    "duration": 24,
    "start_time": "2022-05-22T17:02:01.146Z"
   },
   {
    "duration": 22,
    "start_time": "2022-05-22T17:02:01.171Z"
   },
   {
    "duration": 45,
    "start_time": "2022-05-22T17:02:01.194Z"
   },
   {
    "duration": 17,
    "start_time": "2022-05-22T17:02:01.241Z"
   },
   {
    "duration": 23,
    "start_time": "2022-05-22T17:02:01.261Z"
   },
   {
    "duration": 30,
    "start_time": "2022-05-22T17:02:01.285Z"
   },
   {
    "duration": 15,
    "start_time": "2022-05-22T17:02:01.317Z"
   },
   {
    "duration": 20,
    "start_time": "2022-05-22T17:02:01.334Z"
   },
   {
    "duration": 14,
    "start_time": "2022-05-22T17:02:01.356Z"
   },
   {
    "duration": 24,
    "start_time": "2022-05-22T17:02:01.371Z"
   },
   {
    "duration": 24,
    "start_time": "2022-05-22T17:02:01.397Z"
   },
   {
    "duration": 16,
    "start_time": "2022-05-22T17:02:01.423Z"
   },
   {
    "duration": 31,
    "start_time": "2022-05-22T17:02:01.440Z"
   },
   {
    "duration": 36,
    "start_time": "2022-05-22T17:02:01.473Z"
   },
   {
    "duration": 27,
    "start_time": "2022-05-22T17:02:01.510Z"
   },
   {
    "duration": 24,
    "start_time": "2022-05-22T17:02:01.539Z"
   },
   {
    "duration": 46,
    "start_time": "2022-05-22T17:02:01.565Z"
   },
   {
    "duration": 8,
    "start_time": "2022-05-22T17:02:01.612Z"
   },
   {
    "duration": 250,
    "start_time": "2022-05-22T17:02:01.622Z"
   },
   {
    "duration": 174,
    "start_time": "2022-05-22T17:02:01.874Z"
   },
   {
    "duration": 150,
    "start_time": "2022-05-22T17:02:02.049Z"
   },
   {
    "duration": 134,
    "start_time": "2022-05-22T17:02:02.201Z"
   },
   {
    "duration": 140,
    "start_time": "2022-05-22T17:02:02.337Z"
   },
   {
    "duration": 41,
    "start_time": "2022-05-22T17:02:02.478Z"
   },
   {
    "duration": 13,
    "start_time": "2022-05-22T17:02:02.521Z"
   },
   {
    "duration": 18,
    "start_time": "2022-05-22T17:02:02.535Z"
   },
   {
    "duration": 24,
    "start_time": "2022-05-22T17:02:02.555Z"
   },
   {
    "duration": 26,
    "start_time": "2022-05-22T17:02:02.581Z"
   },
   {
    "duration": 12,
    "start_time": "2022-05-22T17:02:02.609Z"
   },
   {
    "duration": 22,
    "start_time": "2022-05-22T17:02:02.622Z"
   },
   {
    "duration": 179,
    "start_time": "2022-05-22T17:02:02.645Z"
   },
   {
    "duration": 157,
    "start_time": "2022-05-22T17:02:02.828Z"
   },
   {
    "duration": 218,
    "start_time": "2022-05-22T17:02:02.987Z"
   },
   {
    "duration": 36,
    "start_time": "2022-05-22T17:02:03.206Z"
   },
   {
    "duration": 165,
    "start_time": "2022-05-22T17:02:03.243Z"
   },
   {
    "duration": 28,
    "start_time": "2022-05-22T17:02:03.410Z"
   },
   {
    "duration": 16,
    "start_time": "2022-05-22T17:02:03.439Z"
   },
   {
    "duration": 134,
    "start_time": "2022-05-22T17:02:03.457Z"
   },
   {
    "duration": 4,
    "start_time": "2022-05-22T17:02:03.593Z"
   },
   {
    "duration": 5,
    "start_time": "2022-05-22T17:02:03.598Z"
   },
   {
    "duration": 19,
    "start_time": "2022-05-22T17:51:15.577Z"
   },
   {
    "duration": 128,
    "start_time": "2022-05-22T17:51:21.274Z"
   },
   {
    "duration": 21,
    "start_time": "2022-05-22T17:51:44.352Z"
   },
   {
    "duration": 654,
    "start_time": "2022-05-22T17:52:18.391Z"
   },
   {
    "duration": 103,
    "start_time": "2022-05-22T17:52:19.047Z"
   },
   {
    "duration": 27,
    "start_time": "2022-05-22T17:52:19.151Z"
   },
   {
    "duration": 14,
    "start_time": "2022-05-22T17:52:19.180Z"
   },
   {
    "duration": 22,
    "start_time": "2022-05-22T17:52:19.197Z"
   },
   {
    "duration": 19,
    "start_time": "2022-05-22T17:52:19.221Z"
   },
   {
    "duration": 73,
    "start_time": "2022-05-22T17:52:19.242Z"
   },
   {
    "duration": 4,
    "start_time": "2022-05-22T17:52:19.317Z"
   },
   {
    "duration": 8,
    "start_time": "2022-05-22T17:52:19.323Z"
   },
   {
    "duration": 7,
    "start_time": "2022-05-22T17:52:19.332Z"
   },
   {
    "duration": 9,
    "start_time": "2022-05-22T17:52:19.341Z"
   },
   {
    "duration": 52,
    "start_time": "2022-05-22T17:52:19.351Z"
   },
   {
    "duration": 18,
    "start_time": "2022-05-22T17:52:19.405Z"
   },
   {
    "duration": 9,
    "start_time": "2022-05-22T17:52:19.426Z"
   },
   {
    "duration": 38,
    "start_time": "2022-05-22T17:52:19.437Z"
   },
   {
    "duration": 23,
    "start_time": "2022-05-22T17:52:19.478Z"
   },
   {
    "duration": 21,
    "start_time": "2022-05-22T17:52:19.502Z"
   },
   {
    "duration": 3,
    "start_time": "2022-05-22T17:52:19.524Z"
   },
   {
    "duration": 11,
    "start_time": "2022-05-22T17:52:19.528Z"
   },
   {
    "duration": 36,
    "start_time": "2022-05-22T17:52:19.540Z"
   },
   {
    "duration": 16,
    "start_time": "2022-05-22T17:52:19.578Z"
   },
   {
    "duration": 5,
    "start_time": "2022-05-22T17:52:19.596Z"
   },
   {
    "duration": 16,
    "start_time": "2022-05-22T17:52:19.603Z"
   },
   {
    "duration": 23,
    "start_time": "2022-05-22T17:52:19.620Z"
   },
   {
    "duration": 37,
    "start_time": "2022-05-22T17:52:19.645Z"
   },
   {
    "duration": 47,
    "start_time": "2022-05-22T17:52:19.689Z"
   },
   {
    "duration": 8,
    "start_time": "2022-05-22T17:52:19.738Z"
   },
   {
    "duration": 260,
    "start_time": "2022-05-22T17:52:19.747Z"
   },
   {
    "duration": 180,
    "start_time": "2022-05-22T17:52:20.008Z"
   },
   {
    "duration": 170,
    "start_time": "2022-05-22T17:52:20.191Z"
   },
   {
    "duration": 143,
    "start_time": "2022-05-22T17:52:20.362Z"
   },
   {
    "duration": 141,
    "start_time": "2022-05-22T17:52:20.507Z"
   },
   {
    "duration": 53,
    "start_time": "2022-05-22T17:52:20.649Z"
   },
   {
    "duration": 13,
    "start_time": "2022-05-22T17:52:20.704Z"
   },
   {
    "duration": 4,
    "start_time": "2022-05-22T17:52:20.719Z"
   },
   {
    "duration": 6,
    "start_time": "2022-05-22T17:52:20.724Z"
   },
   {
    "duration": 14,
    "start_time": "2022-05-22T17:52:20.731Z"
   },
   {
    "duration": 3,
    "start_time": "2022-05-22T17:52:20.746Z"
   },
   {
    "duration": 50,
    "start_time": "2022-05-22T17:52:20.750Z"
   },
   {
    "duration": 163,
    "start_time": "2022-05-22T17:52:20.801Z"
   },
   {
    "duration": 173,
    "start_time": "2022-05-22T17:52:20.967Z"
   },
   {
    "duration": 275,
    "start_time": "2022-05-22T17:52:21.142Z"
   },
   {
    "duration": 39,
    "start_time": "2022-05-22T17:52:21.418Z"
   },
   {
    "duration": 194,
    "start_time": "2022-05-22T17:52:21.459Z"
   },
   {
    "duration": 24,
    "start_time": "2022-05-22T17:52:21.654Z"
   },
   {
    "duration": 20,
    "start_time": "2022-05-22T17:52:21.680Z"
   },
   {
    "duration": 137,
    "start_time": "2022-05-22T17:52:21.701Z"
   },
   {
    "duration": 3,
    "start_time": "2022-05-22T17:52:21.840Z"
   },
   {
    "duration": 6,
    "start_time": "2022-05-22T17:52:21.845Z"
   },
   {
    "duration": 27,
    "start_time": "2022-05-22T17:55:36.886Z"
   },
   {
    "duration": 23,
    "start_time": "2022-05-22T17:55:43.069Z"
   },
   {
    "duration": 27,
    "start_time": "2022-05-22T17:57:28.565Z"
   },
   {
    "duration": 17,
    "start_time": "2022-05-22T17:57:47.726Z"
   },
   {
    "duration": 719,
    "start_time": "2022-05-22T19:06:50.581Z"
   },
   {
    "duration": 100,
    "start_time": "2022-05-22T19:06:51.302Z"
   },
   {
    "duration": 38,
    "start_time": "2022-05-22T19:06:51.404Z"
   },
   {
    "duration": 62,
    "start_time": "2022-05-22T19:06:51.444Z"
   },
   {
    "duration": 60,
    "start_time": "2022-05-22T19:06:51.508Z"
   },
   {
    "duration": 29,
    "start_time": "2022-05-22T19:06:51.571Z"
   },
   {
    "duration": 51,
    "start_time": "2022-05-22T19:06:51.602Z"
   },
   {
    "duration": 4,
    "start_time": "2022-05-22T19:06:51.654Z"
   },
   {
    "duration": 27,
    "start_time": "2022-05-22T19:06:51.659Z"
   },
   {
    "duration": 50,
    "start_time": "2022-05-22T19:06:51.689Z"
   },
   {
    "duration": 34,
    "start_time": "2022-05-22T19:06:51.741Z"
   },
   {
    "duration": 65,
    "start_time": "2022-05-22T19:06:51.777Z"
   },
   {
    "duration": 25,
    "start_time": "2022-05-22T19:06:51.846Z"
   },
   {
    "duration": 15,
    "start_time": "2022-05-22T19:06:51.873Z"
   },
   {
    "duration": 44,
    "start_time": "2022-05-22T19:06:51.890Z"
   },
   {
    "duration": 32,
    "start_time": "2022-05-22T19:06:51.936Z"
   },
   {
    "duration": 56,
    "start_time": "2022-05-22T19:06:51.970Z"
   },
   {
    "duration": 23,
    "start_time": "2022-05-22T19:06:52.028Z"
   },
   {
    "duration": 26,
    "start_time": "2022-05-22T19:06:52.053Z"
   },
   {
    "duration": 42,
    "start_time": "2022-05-22T19:06:52.083Z"
   },
   {
    "duration": 9,
    "start_time": "2022-05-22T19:06:52.128Z"
   },
   {
    "duration": 16,
    "start_time": "2022-05-22T19:06:52.139Z"
   },
   {
    "duration": 72,
    "start_time": "2022-05-22T19:06:52.158Z"
   },
   {
    "duration": 67,
    "start_time": "2022-05-22T19:06:52.232Z"
   },
   {
    "duration": 52,
    "start_time": "2022-05-22T19:06:52.301Z"
   },
   {
    "duration": 91,
    "start_time": "2022-05-22T19:06:52.355Z"
   },
   {
    "duration": 9,
    "start_time": "2022-05-22T19:06:52.448Z"
   },
   {
    "duration": 290,
    "start_time": "2022-05-22T19:06:52.462Z"
   },
   {
    "duration": 239,
    "start_time": "2022-05-22T19:06:52.754Z"
   },
   {
    "duration": 200,
    "start_time": "2022-05-22T19:06:52.996Z"
   },
   {
    "duration": 143,
    "start_time": "2022-05-22T19:06:53.198Z"
   },
   {
    "duration": 153,
    "start_time": "2022-05-22T19:06:53.343Z"
   },
   {
    "duration": 42,
    "start_time": "2022-05-22T19:06:53.497Z"
   },
   {
    "duration": 13,
    "start_time": "2022-05-22T19:06:53.541Z"
   },
   {
    "duration": 24,
    "start_time": "2022-05-22T19:06:53.555Z"
   },
   {
    "duration": 28,
    "start_time": "2022-05-22T19:06:53.584Z"
   },
   {
    "duration": 36,
    "start_time": "2022-05-22T19:06:53.614Z"
   },
   {
    "duration": 15,
    "start_time": "2022-05-22T19:06:53.652Z"
   },
   {
    "duration": 49,
    "start_time": "2022-05-22T19:06:53.669Z"
   },
   {
    "duration": 202,
    "start_time": "2022-05-22T19:06:53.720Z"
   },
   {
    "duration": 184,
    "start_time": "2022-05-22T19:06:53.924Z"
   },
   {
    "duration": 287,
    "start_time": "2022-05-22T19:06:54.110Z"
   },
   {
    "duration": 38,
    "start_time": "2022-05-22T19:06:54.398Z"
   },
   {
    "duration": 185,
    "start_time": "2022-05-22T19:06:54.438Z"
   },
   {
    "duration": 35,
    "start_time": "2022-05-22T19:06:54.625Z"
   },
   {
    "duration": 34,
    "start_time": "2022-05-22T19:06:54.662Z"
   },
   {
    "duration": 226,
    "start_time": "2022-05-22T19:06:54.698Z"
   },
   {
    "duration": 0,
    "start_time": "2022-05-22T19:06:54.925Z"
   },
   {
    "duration": 0,
    "start_time": "2022-05-22T19:06:54.926Z"
   },
   {
    "duration": 26,
    "start_time": "2022-05-22T19:07:51.813Z"
   },
   {
    "duration": 761,
    "start_time": "2022-05-22T19:07:52.762Z"
   },
   {
    "duration": 125,
    "start_time": "2022-05-22T19:08:15.990Z"
   },
   {
    "duration": 5,
    "start_time": "2022-05-22T19:08:23.463Z"
   },
   {
    "duration": 416,
    "start_time": "2022-05-22T19:08:25.509Z"
   },
   {
    "duration": 5,
    "start_time": "2022-05-22T19:08:32.066Z"
   },
   {
    "duration": 696,
    "start_time": "2022-05-22T19:31:26.170Z"
   },
   {
    "duration": 104,
    "start_time": "2022-05-22T19:31:26.868Z"
   },
   {
    "duration": 29,
    "start_time": "2022-05-22T19:31:26.973Z"
   },
   {
    "duration": 10,
    "start_time": "2022-05-22T19:31:27.004Z"
   },
   {
    "duration": 22,
    "start_time": "2022-05-22T19:31:27.016Z"
   },
   {
    "duration": 56,
    "start_time": "2022-05-22T19:31:27.040Z"
   },
   {
    "duration": 40,
    "start_time": "2022-05-22T19:31:27.097Z"
   },
   {
    "duration": 4,
    "start_time": "2022-05-22T19:31:27.139Z"
   },
   {
    "duration": 9,
    "start_time": "2022-05-22T19:31:27.144Z"
   },
   {
    "duration": 26,
    "start_time": "2022-05-22T19:31:27.155Z"
   },
   {
    "duration": 18,
    "start_time": "2022-05-22T19:31:27.182Z"
   },
   {
    "duration": 30,
    "start_time": "2022-05-22T19:31:27.201Z"
   },
   {
    "duration": 18,
    "start_time": "2022-05-22T19:31:27.233Z"
   },
   {
    "duration": 25,
    "start_time": "2022-05-22T19:31:27.254Z"
   },
   {
    "duration": 33,
    "start_time": "2022-05-22T19:31:27.281Z"
   },
   {
    "duration": 14,
    "start_time": "2022-05-22T19:31:27.316Z"
   },
   {
    "duration": 19,
    "start_time": "2022-05-22T19:31:27.332Z"
   },
   {
    "duration": 35,
    "start_time": "2022-05-22T19:31:27.353Z"
   },
   {
    "duration": 11,
    "start_time": "2022-05-22T19:31:27.390Z"
   },
   {
    "duration": 12,
    "start_time": "2022-05-22T19:31:27.402Z"
   },
   {
    "duration": 5,
    "start_time": "2022-05-22T19:31:27.416Z"
   },
   {
    "duration": 5,
    "start_time": "2022-05-22T19:31:27.422Z"
   },
   {
    "duration": 15,
    "start_time": "2022-05-22T19:31:27.429Z"
   },
   {
    "duration": 45,
    "start_time": "2022-05-22T19:31:27.445Z"
   },
   {
    "duration": 30,
    "start_time": "2022-05-22T19:31:27.492Z"
   },
   {
    "duration": 63,
    "start_time": "2022-05-22T19:31:27.524Z"
   },
   {
    "duration": 7,
    "start_time": "2022-05-22T19:31:27.591Z"
   },
   {
    "duration": 239,
    "start_time": "2022-05-22T19:31:27.600Z"
   },
   {
    "duration": 178,
    "start_time": "2022-05-22T19:31:27.841Z"
   },
   {
    "duration": 168,
    "start_time": "2022-05-22T19:31:28.021Z"
   },
   {
    "duration": 145,
    "start_time": "2022-05-22T19:31:28.191Z"
   },
   {
    "duration": 156,
    "start_time": "2022-05-22T19:31:28.337Z"
   },
   {
    "duration": 41,
    "start_time": "2022-05-22T19:31:28.495Z"
   },
   {
    "duration": 14,
    "start_time": "2022-05-22T19:31:28.538Z"
   },
   {
    "duration": 37,
    "start_time": "2022-05-22T19:31:28.553Z"
   },
   {
    "duration": 8,
    "start_time": "2022-05-22T19:31:28.592Z"
   },
   {
    "duration": 13,
    "start_time": "2022-05-22T19:31:28.601Z"
   },
   {
    "duration": 4,
    "start_time": "2022-05-22T19:31:28.615Z"
   },
   {
    "duration": 21,
    "start_time": "2022-05-22T19:31:28.621Z"
   },
   {
    "duration": 171,
    "start_time": "2022-05-22T19:31:28.643Z"
   },
   {
    "duration": 178,
    "start_time": "2022-05-22T19:31:28.817Z"
   },
   {
    "duration": 264,
    "start_time": "2022-05-22T19:31:28.997Z"
   },
   {
    "duration": 60,
    "start_time": "2022-05-22T19:31:29.263Z"
   },
   {
    "duration": 179,
    "start_time": "2022-05-22T19:31:29.325Z"
   },
   {
    "duration": 26,
    "start_time": "2022-05-22T19:31:29.505Z"
   },
   {
    "duration": 16,
    "start_time": "2022-05-22T19:31:29.533Z"
   },
   {
    "duration": 161,
    "start_time": "2022-05-22T19:31:29.551Z"
   },
   {
    "duration": 4,
    "start_time": "2022-05-22T19:31:29.713Z"
   },
   {
    "duration": 6,
    "start_time": "2022-05-22T19:31:29.718Z"
   },
   {
    "duration": 5165,
    "start_time": "2022-05-22T19:38:35.471Z"
   },
   {
    "duration": 48,
    "start_time": "2022-05-22T19:39:57.655Z"
   },
   {
    "duration": 50,
    "start_time": "2022-05-22T19:41:39.943Z"
   },
   {
    "duration": 197,
    "start_time": "2022-05-22T19:43:52.602Z"
   },
   {
    "duration": 171,
    "start_time": "2022-05-22T19:43:58.132Z"
   },
   {
    "duration": 310,
    "start_time": "2022-05-22T19:44:25.732Z"
   },
   {
    "duration": 4740,
    "start_time": "2022-05-22T19:44:45.693Z"
   },
   {
    "duration": 5681,
    "start_time": "2022-05-22T19:44:56.070Z"
   },
   {
    "duration": 730,
    "start_time": "2022-05-22T19:58:01.747Z"
   },
   {
    "duration": 953,
    "start_time": "2022-05-22T19:58:09.349Z"
   },
   {
    "duration": 955,
    "start_time": "2022-05-22T19:58:54.088Z"
   },
   {
    "duration": 1036,
    "start_time": "2022-05-22T20:00:59.559Z"
   },
   {
    "duration": 679,
    "start_time": "2022-05-22T20:01:17.277Z"
   },
   {
    "duration": 716,
    "start_time": "2022-05-22T20:01:28.345Z"
   },
   {
    "duration": 131,
    "start_time": "2022-05-22T20:01:29.062Z"
   },
   {
    "duration": 27,
    "start_time": "2022-05-22T20:01:29.194Z"
   },
   {
    "duration": 12,
    "start_time": "2022-05-22T20:01:29.223Z"
   },
   {
    "duration": 48,
    "start_time": "2022-05-22T20:01:29.238Z"
   },
   {
    "duration": 20,
    "start_time": "2022-05-22T20:01:29.289Z"
   },
   {
    "duration": 41,
    "start_time": "2022-05-22T20:01:29.311Z"
   },
   {
    "duration": 22,
    "start_time": "2022-05-22T20:01:29.353Z"
   },
   {
    "duration": 9,
    "start_time": "2022-05-22T20:01:29.377Z"
   },
   {
    "duration": 13,
    "start_time": "2022-05-22T20:01:29.388Z"
   },
   {
    "duration": 9,
    "start_time": "2022-05-22T20:01:29.404Z"
   },
   {
    "duration": 31,
    "start_time": "2022-05-22T20:01:29.415Z"
   },
   {
    "duration": 47,
    "start_time": "2022-05-22T20:01:29.447Z"
   },
   {
    "duration": 11,
    "start_time": "2022-05-22T20:01:29.497Z"
   },
   {
    "duration": 23,
    "start_time": "2022-05-22T20:01:29.509Z"
   },
   {
    "duration": 47,
    "start_time": "2022-05-22T20:01:29.533Z"
   },
   {
    "duration": 25,
    "start_time": "2022-05-22T20:01:29.582Z"
   },
   {
    "duration": 3,
    "start_time": "2022-05-22T20:01:29.608Z"
   },
   {
    "duration": 12,
    "start_time": "2022-05-22T20:01:29.613Z"
   },
   {
    "duration": 21,
    "start_time": "2022-05-22T20:01:29.628Z"
   },
   {
    "duration": 10,
    "start_time": "2022-05-22T20:01:29.674Z"
   },
   {
    "duration": 11,
    "start_time": "2022-05-22T20:01:29.687Z"
   },
   {
    "duration": 16,
    "start_time": "2022-05-22T20:01:29.699Z"
   },
   {
    "duration": 25,
    "start_time": "2022-05-22T20:01:29.717Z"
   },
   {
    "duration": 42,
    "start_time": "2022-05-22T20:01:29.744Z"
   },
   {
    "duration": 56,
    "start_time": "2022-05-22T20:01:29.788Z"
   },
   {
    "duration": 9,
    "start_time": "2022-05-22T20:01:29.846Z"
   },
   {
    "duration": 269,
    "start_time": "2022-05-22T20:01:29.857Z"
   },
   {
    "duration": 190,
    "start_time": "2022-05-22T20:01:30.127Z"
   },
   {
    "duration": 180,
    "start_time": "2022-05-22T20:01:30.318Z"
   },
   {
    "duration": 145,
    "start_time": "2022-05-22T20:01:30.500Z"
   },
   {
    "duration": 163,
    "start_time": "2022-05-22T20:01:30.646Z"
   },
   {
    "duration": 42,
    "start_time": "2022-05-22T20:01:30.810Z"
   },
   {
    "duration": 37,
    "start_time": "2022-05-22T20:01:30.853Z"
   },
   {
    "duration": 5,
    "start_time": "2022-05-22T20:01:30.892Z"
   },
   {
    "duration": 13,
    "start_time": "2022-05-22T20:01:30.898Z"
   },
   {
    "duration": 19,
    "start_time": "2022-05-22T20:01:30.913Z"
   },
   {
    "duration": 15,
    "start_time": "2022-05-22T20:01:30.934Z"
   },
   {
    "duration": 46,
    "start_time": "2022-05-22T20:01:30.950Z"
   },
   {
    "duration": 170,
    "start_time": "2022-05-22T20:01:30.997Z"
   },
   {
    "duration": 159,
    "start_time": "2022-05-22T20:01:31.174Z"
   },
   {
    "duration": 259,
    "start_time": "2022-05-22T20:01:31.335Z"
   },
   {
    "duration": 38,
    "start_time": "2022-05-22T20:01:31.596Z"
   },
   {
    "duration": 213,
    "start_time": "2022-05-22T20:01:31.636Z"
   },
   {
    "duration": 41,
    "start_time": "2022-05-22T20:01:31.851Z"
   },
   {
    "duration": 24,
    "start_time": "2022-05-22T20:01:31.894Z"
   },
   {
    "duration": 150,
    "start_time": "2022-05-22T20:01:31.920Z"
   },
   {
    "duration": 11,
    "start_time": "2022-05-22T20:01:32.075Z"
   },
   {
    "duration": 16,
    "start_time": "2022-05-22T20:01:32.088Z"
   },
   {
    "duration": 724,
    "start_time": "2022-05-22T20:01:32.105Z"
   },
   {
    "duration": 374,
    "start_time": "2022-05-22T20:01:58.624Z"
   },
   {
    "duration": 383,
    "start_time": "2022-05-22T20:02:21.028Z"
   },
   {
    "duration": 788,
    "start_time": "2022-05-22T20:02:39.929Z"
   },
   {
    "duration": 949,
    "start_time": "2022-05-22T20:12:13.249Z"
   },
   {
    "duration": 93,
    "start_time": "2022-05-22T20:28:18.432Z"
   },
   {
    "duration": 26,
    "start_time": "2022-05-22T20:28:30.618Z"
   },
   {
    "duration": 9,
    "start_time": "2022-05-22T20:29:07.917Z"
   },
   {
    "duration": 18,
    "start_time": "2022-05-22T20:30:43.789Z"
   },
   {
    "duration": 17,
    "start_time": "2022-05-22T20:31:28.075Z"
   },
   {
    "duration": 682,
    "start_time": "2022-05-22T20:34:28.337Z"
   },
   {
    "duration": 100,
    "start_time": "2022-05-22T20:34:29.020Z"
   },
   {
    "duration": 24,
    "start_time": "2022-05-22T20:34:29.121Z"
   },
   {
    "duration": 10,
    "start_time": "2022-05-22T20:34:29.147Z"
   },
   {
    "duration": 36,
    "start_time": "2022-05-22T20:34:29.158Z"
   },
   {
    "duration": 19,
    "start_time": "2022-05-22T20:34:29.195Z"
   },
   {
    "duration": 37,
    "start_time": "2022-05-22T20:34:29.215Z"
   },
   {
    "duration": 23,
    "start_time": "2022-05-22T20:34:29.253Z"
   },
   {
    "duration": 8,
    "start_time": "2022-05-22T20:34:29.278Z"
   },
   {
    "duration": 5,
    "start_time": "2022-05-22T20:34:29.288Z"
   },
   {
    "duration": 8,
    "start_time": "2022-05-22T20:34:29.295Z"
   },
   {
    "duration": 33,
    "start_time": "2022-05-22T20:34:29.304Z"
   },
   {
    "duration": 42,
    "start_time": "2022-05-22T20:34:29.338Z"
   },
   {
    "duration": 11,
    "start_time": "2022-05-22T20:34:29.382Z"
   },
   {
    "duration": 21,
    "start_time": "2022-05-22T20:34:29.394Z"
   },
   {
    "duration": 16,
    "start_time": "2022-05-22T20:34:29.417Z"
   },
   {
    "duration": 47,
    "start_time": "2022-05-22T20:34:29.434Z"
   },
   {
    "duration": 3,
    "start_time": "2022-05-22T20:34:29.483Z"
   },
   {
    "duration": 12,
    "start_time": "2022-05-22T20:34:29.487Z"
   },
   {
    "duration": 12,
    "start_time": "2022-05-22T20:34:29.501Z"
   },
   {
    "duration": 7,
    "start_time": "2022-05-22T20:34:29.514Z"
   },
   {
    "duration": 5,
    "start_time": "2022-05-22T20:34:29.523Z"
   },
   {
    "duration": 17,
    "start_time": "2022-05-22T20:34:29.529Z"
   },
   {
    "duration": 52,
    "start_time": "2022-05-22T20:34:29.548Z"
   },
   {
    "duration": 20,
    "start_time": "2022-05-22T20:34:29.601Z"
   },
   {
    "duration": 63,
    "start_time": "2022-05-22T20:34:29.623Z"
   },
   {
    "duration": 9,
    "start_time": "2022-05-22T20:34:29.688Z"
   },
   {
    "duration": 238,
    "start_time": "2022-05-22T20:34:29.702Z"
   },
   {
    "duration": 165,
    "start_time": "2022-05-22T20:34:29.941Z"
   },
   {
    "duration": 167,
    "start_time": "2022-05-22T20:34:30.108Z"
   },
   {
    "duration": 134,
    "start_time": "2022-05-22T20:34:30.276Z"
   },
   {
    "duration": 136,
    "start_time": "2022-05-22T20:34:30.411Z"
   },
   {
    "duration": 54,
    "start_time": "2022-05-22T20:34:30.548Z"
   },
   {
    "duration": 14,
    "start_time": "2022-05-22T20:34:30.603Z"
   },
   {
    "duration": 6,
    "start_time": "2022-05-22T20:34:30.618Z"
   },
   {
    "duration": 20,
    "start_time": "2022-05-22T20:34:30.625Z"
   },
   {
    "duration": 15,
    "start_time": "2022-05-22T20:34:30.647Z"
   },
   {
    "duration": 4,
    "start_time": "2022-05-22T20:34:30.674Z"
   },
   {
    "duration": 25,
    "start_time": "2022-05-22T20:34:30.679Z"
   },
   {
    "duration": 175,
    "start_time": "2022-05-22T20:34:30.706Z"
   },
   {
    "duration": 158,
    "start_time": "2022-05-22T20:34:30.882Z"
   },
   {
    "duration": 238,
    "start_time": "2022-05-22T20:34:31.042Z"
   },
   {
    "duration": 37,
    "start_time": "2022-05-22T20:34:31.281Z"
   },
   {
    "duration": 173,
    "start_time": "2022-05-22T20:34:31.319Z"
   },
   {
    "duration": 24,
    "start_time": "2022-05-22T20:34:31.494Z"
   },
   {
    "duration": 15,
    "start_time": "2022-05-22T20:34:31.520Z"
   },
   {
    "duration": 140,
    "start_time": "2022-05-22T20:34:31.536Z"
   },
   {
    "duration": 4,
    "start_time": "2022-05-22T20:34:31.678Z"
   },
   {
    "duration": 9,
    "start_time": "2022-05-22T20:34:31.684Z"
   },
   {
    "duration": 18,
    "start_time": "2022-05-22T20:34:31.694Z"
   },
   {
    "duration": 13,
    "start_time": "2022-05-22T20:34:31.714Z"
   },
   {
    "duration": 22,
    "start_time": "2022-05-22T20:37:00.896Z"
   },
   {
    "duration": 16,
    "start_time": "2022-05-22T20:37:18.500Z"
   },
   {
    "duration": 277,
    "start_time": "2022-05-22T20:45:42.849Z"
   },
   {
    "duration": 27,
    "start_time": "2022-05-22T20:46:17.974Z"
   },
   {
    "duration": 178,
    "start_time": "2022-05-22T20:46:24.203Z"
   },
   {
    "duration": 182,
    "start_time": "2022-05-22T20:46:49.311Z"
   },
   {
    "duration": 208,
    "start_time": "2022-05-22T20:47:20.605Z"
   },
   {
    "duration": 185,
    "start_time": "2022-05-22T20:47:52.550Z"
   },
   {
    "duration": 147,
    "start_time": "2022-05-22T20:48:18.409Z"
   },
   {
    "duration": 179,
    "start_time": "2022-05-22T20:48:32.011Z"
   },
   {
    "duration": 173,
    "start_time": "2022-05-22T20:49:17.544Z"
   },
   {
    "duration": 271,
    "start_time": "2022-05-22T20:49:21.477Z"
   },
   {
    "duration": 126,
    "start_time": "2022-05-22T20:50:46.117Z"
   },
   {
    "duration": 105,
    "start_time": "2022-05-22T20:50:56.051Z"
   },
   {
    "duration": 101,
    "start_time": "2022-05-22T20:51:11.658Z"
   },
   {
    "duration": 119,
    "start_time": "2022-05-22T20:51:28.613Z"
   },
   {
    "duration": 104,
    "start_time": "2022-05-22T20:51:41.926Z"
   },
   {
    "duration": 106,
    "start_time": "2022-05-22T20:52:19.007Z"
   },
   {
    "duration": 108,
    "start_time": "2022-05-22T20:52:22.885Z"
   },
   {
    "duration": 57,
    "start_time": "2022-05-22T22:51:59.231Z"
   },
   {
    "duration": 812,
    "start_time": "2022-05-22T22:52:10.322Z"
   },
   {
    "duration": 164,
    "start_time": "2022-05-22T22:52:11.136Z"
   },
   {
    "duration": 25,
    "start_time": "2022-05-22T22:52:11.301Z"
   },
   {
    "duration": 13,
    "start_time": "2022-05-22T22:52:11.328Z"
   },
   {
    "duration": 23,
    "start_time": "2022-05-22T22:52:11.343Z"
   },
   {
    "duration": 20,
    "start_time": "2022-05-22T22:52:11.368Z"
   },
   {
    "duration": 67,
    "start_time": "2022-05-22T22:52:11.389Z"
   },
   {
    "duration": 3,
    "start_time": "2022-05-22T22:52:11.458Z"
   },
   {
    "duration": 10,
    "start_time": "2022-05-22T22:52:11.463Z"
   },
   {
    "duration": 6,
    "start_time": "2022-05-22T22:52:11.476Z"
   },
   {
    "duration": 9,
    "start_time": "2022-05-22T22:52:11.484Z"
   },
   {
    "duration": 46,
    "start_time": "2022-05-22T22:52:11.494Z"
   },
   {
    "duration": 18,
    "start_time": "2022-05-22T22:52:11.542Z"
   },
   {
    "duration": 11,
    "start_time": "2022-05-22T22:52:11.562Z"
   },
   {
    "duration": 21,
    "start_time": "2022-05-22T22:52:11.574Z"
   },
   {
    "duration": 36,
    "start_time": "2022-05-22T22:52:11.596Z"
   },
   {
    "duration": 21,
    "start_time": "2022-05-22T22:52:11.634Z"
   },
   {
    "duration": 4,
    "start_time": "2022-05-22T22:52:11.657Z"
   },
   {
    "duration": 10,
    "start_time": "2022-05-22T22:52:11.662Z"
   },
   {
    "duration": 19,
    "start_time": "2022-05-22T22:52:11.674Z"
   },
   {
    "duration": 5,
    "start_time": "2022-05-22T22:52:11.694Z"
   },
   {
    "duration": 28,
    "start_time": "2022-05-22T22:52:11.701Z"
   },
   {
    "duration": 17,
    "start_time": "2022-05-22T22:52:11.730Z"
   },
   {
    "duration": 24,
    "start_time": "2022-05-22T22:52:11.749Z"
   },
   {
    "duration": 20,
    "start_time": "2022-05-22T22:52:11.774Z"
   },
   {
    "duration": 66,
    "start_time": "2022-05-22T22:52:11.795Z"
   },
   {
    "duration": 8,
    "start_time": "2022-05-22T22:52:11.862Z"
   },
   {
    "duration": 161,
    "start_time": "2022-05-22T22:52:11.874Z"
   },
   {
    "duration": 163,
    "start_time": "2022-05-22T22:52:12.036Z"
   },
   {
    "duration": 169,
    "start_time": "2022-05-22T22:52:12.201Z"
   },
   {
    "duration": 139,
    "start_time": "2022-05-22T22:52:12.372Z"
   },
   {
    "duration": 150,
    "start_time": "2022-05-22T22:52:12.513Z"
   },
   {
    "duration": 44,
    "start_time": "2022-05-22T22:52:12.665Z"
   },
   {
    "duration": 23,
    "start_time": "2022-05-22T22:52:12.711Z"
   },
   {
    "duration": 5,
    "start_time": "2022-05-22T22:52:12.735Z"
   },
   {
    "duration": 7,
    "start_time": "2022-05-22T22:52:12.741Z"
   },
   {
    "duration": 17,
    "start_time": "2022-05-22T22:52:12.749Z"
   },
   {
    "duration": 8,
    "start_time": "2022-05-22T22:52:12.767Z"
   },
   {
    "duration": 26,
    "start_time": "2022-05-22T22:52:12.776Z"
   },
   {
    "duration": 171,
    "start_time": "2022-05-22T22:52:12.804Z"
   },
   {
    "duration": 151,
    "start_time": "2022-05-22T22:52:12.976Z"
   },
   {
    "duration": 167,
    "start_time": "2022-05-22T22:52:13.129Z"
   },
   {
    "duration": 47,
    "start_time": "2022-05-22T22:52:13.298Z"
   },
   {
    "duration": 238,
    "start_time": "2022-05-22T22:52:13.346Z"
   },
   {
    "duration": 26,
    "start_time": "2022-05-22T22:52:13.586Z"
   },
   {
    "duration": 28,
    "start_time": "2022-05-22T22:52:13.614Z"
   },
   {
    "duration": 139,
    "start_time": "2022-05-22T22:52:13.644Z"
   },
   {
    "duration": 4,
    "start_time": "2022-05-22T22:52:13.784Z"
   },
   {
    "duration": 7,
    "start_time": "2022-05-22T22:52:13.790Z"
   },
   {
    "duration": 40,
    "start_time": "2022-05-22T22:52:13.799Z"
   },
   {
    "duration": 191,
    "start_time": "2022-05-22T22:52:13.840Z"
   },
   {
    "duration": 195,
    "start_time": "2022-05-22T22:52:14.032Z"
   },
   {
    "duration": 171,
    "start_time": "2022-05-22T22:52:14.228Z"
   },
   {
    "duration": 113,
    "start_time": "2022-05-22T22:52:14.400Z"
   },
   {
    "duration": 117,
    "start_time": "2022-05-22T22:52:14.514Z"
   },
   {
    "duration": 16,
    "start_time": "2022-05-22T22:52:14.632Z"
   },
   {
    "duration": 203,
    "start_time": "2022-05-22T22:52:14.650Z"
   },
   {
    "duration": 179,
    "start_time": "2022-05-22T22:52:14.854Z"
   },
   {
    "duration": 196,
    "start_time": "2022-05-22T22:52:15.035Z"
   },
   {
    "duration": 117,
    "start_time": "2022-05-22T22:52:15.233Z"
   },
   {
    "duration": 180,
    "start_time": "2022-05-22T22:52:15.352Z"
   },
   {
    "duration": 225,
    "start_time": "2022-05-22T22:52:39.064Z"
   },
   {
    "duration": 199,
    "start_time": "2022-05-22T22:53:01.470Z"
   },
   {
    "duration": 146,
    "start_time": "2022-05-22T22:53:52.155Z"
   },
   {
    "duration": 61,
    "start_time": "2022-05-23T18:31:57.808Z"
   },
   {
    "duration": 893,
    "start_time": "2022-05-23T18:32:28.092Z"
   },
   {
    "duration": 768,
    "start_time": "2022-05-23T18:32:28.988Z"
   },
   {
    "duration": 24,
    "start_time": "2022-05-23T18:32:29.757Z"
   },
   {
    "duration": 11,
    "start_time": "2022-05-23T18:32:29.784Z"
   },
   {
    "duration": 36,
    "start_time": "2022-05-23T18:32:29.797Z"
   },
   {
    "duration": 19,
    "start_time": "2022-05-23T18:32:29.835Z"
   },
   {
    "duration": 36,
    "start_time": "2022-05-23T18:32:29.856Z"
   },
   {
    "duration": 24,
    "start_time": "2022-05-23T18:32:29.894Z"
   },
   {
    "duration": 14,
    "start_time": "2022-05-23T18:32:29.919Z"
   },
   {
    "duration": 5,
    "start_time": "2022-05-23T18:32:29.936Z"
   },
   {
    "duration": 9,
    "start_time": "2022-05-23T18:32:29.942Z"
   },
   {
    "duration": 29,
    "start_time": "2022-05-23T18:32:29.953Z"
   },
   {
    "duration": 45,
    "start_time": "2022-05-23T18:32:29.984Z"
   },
   {
    "duration": 16,
    "start_time": "2022-05-23T18:32:30.030Z"
   },
   {
    "duration": 25,
    "start_time": "2022-05-23T18:32:30.047Z"
   },
   {
    "duration": 16,
    "start_time": "2022-05-23T18:32:30.073Z"
   },
   {
    "duration": 31,
    "start_time": "2022-05-23T18:32:30.091Z"
   },
   {
    "duration": 12,
    "start_time": "2022-05-23T18:32:30.124Z"
   },
   {
    "duration": 18,
    "start_time": "2022-05-23T18:32:30.137Z"
   },
   {
    "duration": 14,
    "start_time": "2022-05-23T18:32:30.156Z"
   },
   {
    "duration": 36,
    "start_time": "2022-05-23T18:32:30.171Z"
   },
   {
    "duration": 37,
    "start_time": "2022-05-23T18:32:30.209Z"
   },
   {
    "duration": 47,
    "start_time": "2022-05-23T18:32:30.248Z"
   },
   {
    "duration": 51,
    "start_time": "2022-05-23T18:32:30.296Z"
   },
   {
    "duration": 19,
    "start_time": "2022-05-23T18:32:30.349Z"
   },
   {
    "duration": 54,
    "start_time": "2022-05-23T18:32:30.370Z"
   },
   {
    "duration": 9,
    "start_time": "2022-05-23T18:32:30.429Z"
   },
   {
    "duration": 213,
    "start_time": "2022-05-23T18:32:30.442Z"
   },
   {
    "duration": 176,
    "start_time": "2022-05-23T18:32:30.656Z"
   },
   {
    "duration": 168,
    "start_time": "2022-05-23T18:32:30.834Z"
   },
   {
    "duration": 148,
    "start_time": "2022-05-23T18:32:31.004Z"
   },
   {
    "duration": 149,
    "start_time": "2022-05-23T18:32:31.154Z"
   },
   {
    "duration": 48,
    "start_time": "2022-05-23T18:32:31.311Z"
   },
   {
    "duration": 13,
    "start_time": "2022-05-23T18:32:31.361Z"
   },
   {
    "duration": 21,
    "start_time": "2022-05-23T18:32:31.375Z"
   },
   {
    "duration": 7,
    "start_time": "2022-05-23T18:32:31.398Z"
   },
   {
    "duration": 36,
    "start_time": "2022-05-23T18:32:31.406Z"
   },
   {
    "duration": 13,
    "start_time": "2022-05-23T18:32:31.444Z"
   },
   {
    "duration": 51,
    "start_time": "2022-05-23T18:32:31.459Z"
   },
   {
    "duration": 195,
    "start_time": "2022-05-23T18:32:31.513Z"
   },
   {
    "duration": 196,
    "start_time": "2022-05-23T18:32:31.709Z"
   },
   {
    "duration": 209,
    "start_time": "2022-05-23T18:32:31.907Z"
   },
   {
    "duration": 46,
    "start_time": "2022-05-23T18:32:32.117Z"
   },
   {
    "duration": 236,
    "start_time": "2022-05-23T18:32:32.165Z"
   },
   {
    "duration": 37,
    "start_time": "2022-05-23T18:32:32.403Z"
   },
   {
    "duration": 111,
    "start_time": "2022-05-23T18:32:32.441Z"
   },
   {
    "duration": 0,
    "start_time": "2022-05-23T18:32:32.553Z"
   },
   {
    "duration": 0,
    "start_time": "2022-05-23T18:32:32.555Z"
   },
   {
    "duration": 0,
    "start_time": "2022-05-23T18:32:32.556Z"
   },
   {
    "duration": 0,
    "start_time": "2022-05-23T18:32:32.557Z"
   },
   {
    "duration": 0,
    "start_time": "2022-05-23T18:32:32.558Z"
   },
   {
    "duration": 0,
    "start_time": "2022-05-23T18:32:32.559Z"
   },
   {
    "duration": 0,
    "start_time": "2022-05-23T18:32:32.560Z"
   },
   {
    "duration": 0,
    "start_time": "2022-05-23T18:32:32.561Z"
   },
   {
    "duration": 1,
    "start_time": "2022-05-23T18:32:32.562Z"
   },
   {
    "duration": 0,
    "start_time": "2022-05-23T18:32:32.563Z"
   },
   {
    "duration": 0,
    "start_time": "2022-05-23T18:32:32.565Z"
   },
   {
    "duration": 0,
    "start_time": "2022-05-23T18:32:32.566Z"
   },
   {
    "duration": 0,
    "start_time": "2022-05-23T18:32:32.567Z"
   },
   {
    "duration": 0,
    "start_time": "2022-05-23T18:32:32.568Z"
   },
   {
    "duration": 0,
    "start_time": "2022-05-23T18:32:32.570Z"
   },
   {
    "duration": 0,
    "start_time": "2022-05-23T18:32:32.571Z"
   },
   {
    "duration": 795,
    "start_time": "2022-05-23T18:32:51.296Z"
   },
   {
    "duration": 113,
    "start_time": "2022-05-23T18:32:52.093Z"
   },
   {
    "duration": 35,
    "start_time": "2022-05-23T18:32:52.208Z"
   },
   {
    "duration": 10,
    "start_time": "2022-05-23T18:32:52.245Z"
   },
   {
    "duration": 22,
    "start_time": "2022-05-23T18:32:52.258Z"
   },
   {
    "duration": 52,
    "start_time": "2022-05-23T18:32:52.282Z"
   },
   {
    "duration": 41,
    "start_time": "2022-05-23T18:32:52.336Z"
   },
   {
    "duration": 4,
    "start_time": "2022-05-23T18:32:52.379Z"
   },
   {
    "duration": 7,
    "start_time": "2022-05-23T18:32:52.385Z"
   },
   {
    "duration": 28,
    "start_time": "2022-05-23T18:32:52.394Z"
   },
   {
    "duration": 14,
    "start_time": "2022-05-23T18:32:52.429Z"
   },
   {
    "duration": 33,
    "start_time": "2022-05-23T18:32:52.446Z"
   },
   {
    "duration": 19,
    "start_time": "2022-05-23T18:32:52.481Z"
   },
   {
    "duration": 29,
    "start_time": "2022-05-23T18:32:52.503Z"
   },
   {
    "duration": 35,
    "start_time": "2022-05-23T18:32:52.539Z"
   },
   {
    "duration": 16,
    "start_time": "2022-05-23T18:32:52.575Z"
   },
   {
    "duration": 45,
    "start_time": "2022-05-23T18:32:52.592Z"
   },
   {
    "duration": 8,
    "start_time": "2022-05-23T18:32:52.639Z"
   },
   {
    "duration": 18,
    "start_time": "2022-05-23T18:32:52.650Z"
   },
   {
    "duration": 20,
    "start_time": "2022-05-23T18:32:52.669Z"
   },
   {
    "duration": 10,
    "start_time": "2022-05-23T18:32:52.691Z"
   },
   {
    "duration": 33,
    "start_time": "2022-05-23T18:32:52.703Z"
   },
   {
    "duration": 20,
    "start_time": "2022-05-23T18:32:52.737Z"
   },
   {
    "duration": 35,
    "start_time": "2022-05-23T18:32:52.759Z"
   },
   {
    "duration": 30,
    "start_time": "2022-05-23T18:32:52.796Z"
   },
   {
    "duration": 48,
    "start_time": "2022-05-23T18:32:52.831Z"
   },
   {
    "duration": 8,
    "start_time": "2022-05-23T18:32:52.881Z"
   },
   {
    "duration": 191,
    "start_time": "2022-05-23T18:32:52.891Z"
   },
   {
    "duration": 194,
    "start_time": "2022-05-23T18:32:53.084Z"
   },
   {
    "duration": 170,
    "start_time": "2022-05-23T18:32:53.280Z"
   },
   {
    "duration": 147,
    "start_time": "2022-05-23T18:32:53.452Z"
   },
   {
    "duration": 169,
    "start_time": "2022-05-23T18:32:53.611Z"
   },
   {
    "duration": 55,
    "start_time": "2022-05-23T18:32:53.782Z"
   },
   {
    "duration": 16,
    "start_time": "2022-05-23T18:32:53.839Z"
   },
   {
    "duration": 5,
    "start_time": "2022-05-23T18:32:53.857Z"
   },
   {
    "duration": 12,
    "start_time": "2022-05-23T18:32:53.864Z"
   },
   {
    "duration": 20,
    "start_time": "2022-05-23T18:32:53.877Z"
   },
   {
    "duration": 12,
    "start_time": "2022-05-23T18:32:53.917Z"
   },
   {
    "duration": 27,
    "start_time": "2022-05-23T18:32:53.931Z"
   },
   {
    "duration": 164,
    "start_time": "2022-05-23T18:32:53.960Z"
   },
   {
    "duration": 208,
    "start_time": "2022-05-23T18:32:54.129Z"
   },
   {
    "duration": 200,
    "start_time": "2022-05-23T18:32:54.338Z"
   },
   {
    "duration": 40,
    "start_time": "2022-05-23T18:32:54.540Z"
   },
   {
    "duration": 261,
    "start_time": "2022-05-23T18:32:54.581Z"
   },
   {
    "duration": 24,
    "start_time": "2022-05-23T18:32:54.844Z"
   },
   {
    "duration": 113,
    "start_time": "2022-05-23T18:32:54.870Z"
   },
   {
    "duration": 0,
    "start_time": "2022-05-23T18:32:54.985Z"
   },
   {
    "duration": 0,
    "start_time": "2022-05-23T18:32:54.986Z"
   },
   {
    "duration": 0,
    "start_time": "2022-05-23T18:32:54.987Z"
   },
   {
    "duration": 0,
    "start_time": "2022-05-23T18:32:54.988Z"
   },
   {
    "duration": 0,
    "start_time": "2022-05-23T18:32:54.989Z"
   },
   {
    "duration": 0,
    "start_time": "2022-05-23T18:32:54.990Z"
   },
   {
    "duration": 0,
    "start_time": "2022-05-23T18:32:54.991Z"
   },
   {
    "duration": 0,
    "start_time": "2022-05-23T18:32:54.992Z"
   },
   {
    "duration": 0,
    "start_time": "2022-05-23T18:32:54.993Z"
   },
   {
    "duration": 0,
    "start_time": "2022-05-23T18:32:55.017Z"
   },
   {
    "duration": 0,
    "start_time": "2022-05-23T18:32:55.017Z"
   },
   {
    "duration": 0,
    "start_time": "2022-05-23T18:32:55.018Z"
   },
   {
    "duration": 0,
    "start_time": "2022-05-23T18:32:55.020Z"
   },
   {
    "duration": 0,
    "start_time": "2022-05-23T18:32:55.021Z"
   },
   {
    "duration": 0,
    "start_time": "2022-05-23T18:32:55.022Z"
   },
   {
    "duration": 0,
    "start_time": "2022-05-23T18:32:55.024Z"
   },
   {
    "duration": 3,
    "start_time": "2022-05-23T18:33:18.273Z"
   },
   {
    "duration": 108,
    "start_time": "2022-05-23T18:33:20.261Z"
   },
   {
    "duration": 22,
    "start_time": "2022-05-23T18:33:22.051Z"
   },
   {
    "duration": 9,
    "start_time": "2022-05-23T18:33:22.559Z"
   },
   {
    "duration": 30,
    "start_time": "2022-05-23T18:33:23.007Z"
   },
   {
    "duration": 34,
    "start_time": "2022-05-23T18:33:23.494Z"
   },
   {
    "duration": 48,
    "start_time": "2022-05-23T18:33:24.055Z"
   },
   {
    "duration": 3,
    "start_time": "2022-05-23T18:33:27.496Z"
   },
   {
    "duration": 7,
    "start_time": "2022-05-23T18:33:28.079Z"
   },
   {
    "duration": 6,
    "start_time": "2022-05-23T18:33:28.657Z"
   },
   {
    "duration": 13,
    "start_time": "2022-05-23T18:33:29.810Z"
   },
   {
    "duration": 30,
    "start_time": "2022-05-23T18:33:30.242Z"
   },
   {
    "duration": 22,
    "start_time": "2022-05-23T18:33:30.754Z"
   },
   {
    "duration": 13,
    "start_time": "2022-05-23T18:33:31.937Z"
   },
   {
    "duration": 29,
    "start_time": "2022-05-23T18:33:32.516Z"
   },
   {
    "duration": 15,
    "start_time": "2022-05-23T18:33:34.873Z"
   },
   {
    "duration": 35,
    "start_time": "2022-05-23T18:33:35.404Z"
   },
   {
    "duration": 4,
    "start_time": "2022-05-23T18:33:37.655Z"
   },
   {
    "duration": 8,
    "start_time": "2022-05-23T18:33:38.279Z"
   },
   {
    "duration": 14,
    "start_time": "2022-05-23T18:33:38.991Z"
   },
   {
    "duration": 20,
    "start_time": "2022-05-23T18:33:40.310Z"
   },
   {
    "duration": 4,
    "start_time": "2022-05-23T18:33:41.653Z"
   },
   {
    "duration": 15,
    "start_time": "2022-05-23T18:33:42.995Z"
   },
   {
    "duration": 5,
    "start_time": "2022-05-23T18:33:50.332Z"
   },
   {
    "duration": 6,
    "start_time": "2022-05-23T18:33:52.030Z"
   },
   {
    "duration": 15,
    "start_time": "2022-05-23T18:33:52.679Z"
   },
   {
    "duration": 12,
    "start_time": "2022-05-23T18:33:58.611Z"
   },
   {
    "duration": 4,
    "start_time": "2022-05-23T18:33:59.531Z"
   },
   {
    "duration": 19,
    "start_time": "2022-05-23T18:34:03.711Z"
   },
   {
    "duration": 5,
    "start_time": "2022-05-23T18:37:07.780Z"
   },
   {
    "duration": 9,
    "start_time": "2022-05-23T18:37:09.009Z"
   },
   {
    "duration": 26,
    "start_time": "2022-05-23T18:37:10.037Z"
   },
   {
    "duration": 24,
    "start_time": "2022-05-23T18:37:11.281Z"
   },
   {
    "duration": 22,
    "start_time": "2022-05-23T18:37:15.075Z"
   },
   {
    "duration": 51,
    "start_time": "2022-05-23T18:37:15.759Z"
   },
   {
    "duration": 9,
    "start_time": "2022-05-23T18:37:16.440Z"
   },
   {
    "duration": 173,
    "start_time": "2022-05-23T18:37:18.068Z"
   },
   {
    "duration": 187,
    "start_time": "2022-05-23T18:37:19.012Z"
   },
   {
    "duration": 160,
    "start_time": "2022-05-23T18:37:20.234Z"
   },
   {
    "duration": 137,
    "start_time": "2022-05-23T18:37:21.201Z"
   },
   {
    "duration": 151,
    "start_time": "2022-05-23T18:37:22.751Z"
   },
   {
    "duration": 46,
    "start_time": "2022-05-23T18:37:28.091Z"
   },
   {
    "duration": 15,
    "start_time": "2022-05-23T18:37:45.427Z"
   },
   {
    "duration": 4,
    "start_time": "2022-05-23T18:37:45.989Z"
   },
   {
    "duration": 6,
    "start_time": "2022-05-23T18:37:46.686Z"
   },
   {
    "duration": 13,
    "start_time": "2022-05-23T18:37:49.707Z"
   },
   {
    "duration": 4,
    "start_time": "2022-05-23T18:37:51.080Z"
   },
   {
    "duration": 21,
    "start_time": "2022-05-23T18:37:51.730Z"
   },
   {
    "duration": 174,
    "start_time": "2022-05-23T18:37:54.853Z"
   },
   {
    "duration": 188,
    "start_time": "2022-05-23T18:37:57.074Z"
   },
   {
    "duration": 172,
    "start_time": "2022-05-23T18:37:57.877Z"
   },
   {
    "duration": 44,
    "start_time": "2022-05-23T18:37:59.892Z"
   },
   {
    "duration": 174,
    "start_time": "2022-05-23T18:38:00.487Z"
   },
   {
    "duration": 30,
    "start_time": "2022-05-23T18:38:01.753Z"
   },
   {
    "duration": 497,
    "start_time": "2022-05-23T18:38:03.111Z"
   },
   {
    "duration": 124,
    "start_time": "2022-05-23T18:38:19.078Z"
   },
   {
    "duration": 213,
    "start_time": "2022-05-23T18:38:30.554Z"
   },
   {
    "duration": 267,
    "start_time": "2022-05-23T18:38:47.334Z"
   },
   {
    "duration": 233,
    "start_time": "2022-05-23T18:41:14.271Z"
   },
   {
    "duration": 18,
    "start_time": "2022-05-23T18:41:29.966Z"
   },
   {
    "duration": 163,
    "start_time": "2022-05-23T18:41:31.506Z"
   },
   {
    "duration": 202,
    "start_time": "2022-05-23T18:41:39.827Z"
   },
   {
    "duration": 258,
    "start_time": "2022-05-23T18:43:11.413Z"
   },
   {
    "duration": 119,
    "start_time": "2022-05-23T18:44:10.290Z"
   },
   {
    "duration": 277,
    "start_time": "2022-05-23T18:44:21.487Z"
   },
   {
    "duration": 119,
    "start_time": "2022-05-23T18:44:28.648Z"
   },
   {
    "duration": 252,
    "start_time": "2022-05-23T18:44:41.263Z"
   },
   {
    "duration": 193,
    "start_time": "2022-05-23T18:44:52.527Z"
   },
   {
    "duration": 5,
    "start_time": "2022-05-23T18:45:06.929Z"
   },
   {
    "duration": 3,
    "start_time": "2022-05-23T18:45:08.778Z"
   },
   {
    "duration": 534,
    "start_time": "2022-05-23T18:45:33.578Z"
   },
   {
    "duration": 18,
    "start_time": "2022-05-23T18:45:49.065Z"
   },
   {
    "duration": 17,
    "start_time": "2022-05-23T18:46:22.470Z"
   },
   {
    "duration": 272,
    "start_time": "2022-05-23T18:46:23.661Z"
   },
   {
    "duration": 214,
    "start_time": "2022-05-23T18:55:43.776Z"
   },
   {
    "duration": 175,
    "start_time": "2022-05-23T18:55:45.524Z"
   },
   {
    "duration": 119,
    "start_time": "2022-05-23T19:20:12.423Z"
   },
   {
    "duration": 128,
    "start_time": "2022-05-23T19:20:13.895Z"
   },
   {
    "duration": 131,
    "start_time": "2022-05-23T19:20:17.151Z"
   },
   {
    "duration": 184,
    "start_time": "2022-05-23T19:20:17.964Z"
   },
   {
    "duration": 28,
    "start_time": "2022-05-23T19:20:18.477Z"
   },
   {
    "duration": 181,
    "start_time": "2022-05-23T19:20:18.876Z"
   },
   {
    "duration": 166,
    "start_time": "2022-05-23T19:20:19.268Z"
   },
   {
    "duration": 191,
    "start_time": "2022-05-23T19:20:19.619Z"
   },
   {
    "duration": 110,
    "start_time": "2022-05-23T19:20:19.980Z"
   },
   {
    "duration": 104,
    "start_time": "2022-05-23T19:20:20.469Z"
   },
   {
    "duration": 104,
    "start_time": "2022-05-23T19:20:48.582Z"
   },
   {
    "duration": 121,
    "start_time": "2022-05-23T19:21:05.964Z"
   },
   {
    "duration": 104,
    "start_time": "2022-05-23T19:21:51.154Z"
   },
   {
    "duration": 62,
    "start_time": "2022-05-24T04:55:11.223Z"
   },
   {
    "duration": 838,
    "start_time": "2022-05-24T04:55:17.031Z"
   },
   {
    "duration": 174,
    "start_time": "2022-05-24T04:55:17.871Z"
   },
   {
    "duration": 25,
    "start_time": "2022-05-24T04:55:18.047Z"
   },
   {
    "duration": 15,
    "start_time": "2022-05-24T04:55:18.074Z"
   },
   {
    "duration": 37,
    "start_time": "2022-05-24T04:55:18.091Z"
   },
   {
    "duration": 25,
    "start_time": "2022-05-24T04:55:18.130Z"
   },
   {
    "duration": 38,
    "start_time": "2022-05-24T04:55:18.157Z"
   },
   {
    "duration": 5,
    "start_time": "2022-05-24T04:55:18.197Z"
   },
   {
    "duration": 7,
    "start_time": "2022-05-24T04:55:18.228Z"
   },
   {
    "duration": 21,
    "start_time": "2022-05-24T04:55:18.238Z"
   },
   {
    "duration": 25,
    "start_time": "2022-05-24T04:55:18.260Z"
   },
   {
    "duration": 30,
    "start_time": "2022-05-24T04:55:18.287Z"
   },
   {
    "duration": 24,
    "start_time": "2022-05-24T04:55:18.319Z"
   },
   {
    "duration": 33,
    "start_time": "2022-05-24T04:55:18.345Z"
   },
   {
    "duration": 33,
    "start_time": "2022-05-24T04:55:18.380Z"
   },
   {
    "duration": 17,
    "start_time": "2022-05-24T04:55:18.415Z"
   },
   {
    "duration": 23,
    "start_time": "2022-05-24T04:55:18.434Z"
   },
   {
    "duration": 14,
    "start_time": "2022-05-24T04:55:18.459Z"
   },
   {
    "duration": 21,
    "start_time": "2022-05-24T04:55:18.474Z"
   },
   {
    "duration": 15,
    "start_time": "2022-05-24T04:55:18.499Z"
   },
   {
    "duration": 12,
    "start_time": "2022-05-24T04:55:18.516Z"
   },
   {
    "duration": 9,
    "start_time": "2022-05-24T04:55:18.530Z"
   },
   {
    "duration": 17,
    "start_time": "2022-05-24T04:55:18.541Z"
   },
   {
    "duration": 31,
    "start_time": "2022-05-24T04:55:18.559Z"
   },
   {
    "duration": 23,
    "start_time": "2022-05-24T04:55:18.592Z"
   },
   {
    "duration": 57,
    "start_time": "2022-05-24T04:55:18.617Z"
   },
   {
    "duration": 8,
    "start_time": "2022-05-24T04:55:18.676Z"
   },
   {
    "duration": 209,
    "start_time": "2022-05-24T04:55:18.688Z"
   },
   {
    "duration": 202,
    "start_time": "2022-05-24T04:55:18.899Z"
   },
   {
    "duration": 189,
    "start_time": "2022-05-24T04:55:19.103Z"
   },
   {
    "duration": 153,
    "start_time": "2022-05-24T04:55:19.294Z"
   },
   {
    "duration": 214,
    "start_time": "2022-05-24T04:55:19.449Z"
   },
   {
    "duration": 44,
    "start_time": "2022-05-24T04:55:19.665Z"
   },
   {
    "duration": 28,
    "start_time": "2022-05-24T04:55:19.711Z"
   },
   {
    "duration": 4,
    "start_time": "2022-05-24T04:55:19.741Z"
   },
   {
    "duration": 10,
    "start_time": "2022-05-24T04:55:19.746Z"
   },
   {
    "duration": 16,
    "start_time": "2022-05-24T04:55:19.757Z"
   },
   {
    "duration": 8,
    "start_time": "2022-05-24T04:55:19.775Z"
   },
   {
    "duration": 46,
    "start_time": "2022-05-24T04:55:19.785Z"
   },
   {
    "duration": 170,
    "start_time": "2022-05-24T04:55:19.833Z"
   },
   {
    "duration": 157,
    "start_time": "2022-05-24T04:55:20.005Z"
   },
   {
    "duration": 181,
    "start_time": "2022-05-24T04:55:20.164Z"
   },
   {
    "duration": 41,
    "start_time": "2022-05-24T04:55:20.347Z"
   },
   {
    "duration": 259,
    "start_time": "2022-05-24T04:55:20.390Z"
   },
   {
    "duration": 26,
    "start_time": "2022-05-24T04:55:20.650Z"
   },
   {
    "duration": 251,
    "start_time": "2022-05-24T04:55:20.678Z"
   },
   {
    "duration": 24,
    "start_time": "2022-05-24T04:55:20.931Z"
   },
   {
    "duration": 208,
    "start_time": "2022-05-24T04:55:20.957Z"
   },
   {
    "duration": 18,
    "start_time": "2022-05-24T04:55:21.166Z"
   },
   {
    "duration": 211,
    "start_time": "2022-05-24T04:55:21.186Z"
   },
   {
    "duration": 138,
    "start_time": "2022-05-24T04:55:21.399Z"
   },
   {
    "duration": 134,
    "start_time": "2022-05-24T04:55:21.539Z"
   },
   {
    "duration": 114,
    "start_time": "2022-05-24T04:55:21.675Z"
   },
   {
    "duration": 113,
    "start_time": "2022-05-24T04:55:21.791Z"
   },
   {
    "duration": 109,
    "start_time": "2022-05-24T04:55:21.906Z"
   },
   {
    "duration": 22,
    "start_time": "2022-05-24T04:55:22.017Z"
   },
   {
    "duration": 214,
    "start_time": "2022-05-24T04:55:22.041Z"
   },
   {
    "duration": 144,
    "start_time": "2022-05-24T04:55:22.257Z"
   },
   {
    "duration": 289,
    "start_time": "2022-05-24T04:55:22.403Z"
   },
   {
    "duration": 137,
    "start_time": "2022-05-24T04:55:22.693Z"
   },
   {
    "duration": 121,
    "start_time": "2022-05-24T04:55:22.831Z"
   },
   {
    "duration": 116,
    "start_time": "2022-05-24T04:55:22.954Z"
   },
   {
    "duration": 22,
    "start_time": "2022-05-24T04:55:23.072Z"
   },
   {
    "duration": 20,
    "start_time": "2022-05-24T04:59:43.628Z"
   },
   {
    "duration": 907,
    "start_time": "2022-05-24T04:59:54.295Z"
   },
   {
    "duration": 67,
    "start_time": "2022-05-24T13:19:08.113Z"
   },
   {
    "duration": 967,
    "start_time": "2022-05-24T13:19:14.717Z"
   },
   {
    "duration": 577,
    "start_time": "2022-05-24T13:19:15.687Z"
   },
   {
    "duration": 32,
    "start_time": "2022-05-24T13:19:16.266Z"
   },
   {
    "duration": 19,
    "start_time": "2022-05-24T13:19:16.301Z"
   },
   {
    "duration": 36,
    "start_time": "2022-05-24T13:19:16.322Z"
   },
   {
    "duration": 51,
    "start_time": "2022-05-24T13:19:16.361Z"
   },
   {
    "duration": 45,
    "start_time": "2022-05-24T13:19:16.414Z"
   },
   {
    "duration": 4,
    "start_time": "2022-05-24T13:19:16.461Z"
   },
   {
    "duration": 32,
    "start_time": "2022-05-24T13:19:16.467Z"
   },
   {
    "duration": 10,
    "start_time": "2022-05-24T13:19:16.502Z"
   },
   {
    "duration": 11,
    "start_time": "2022-05-24T13:19:16.514Z"
   },
   {
    "duration": 45,
    "start_time": "2022-05-24T13:19:16.527Z"
   },
   {
    "duration": 36,
    "start_time": "2022-05-24T13:19:16.574Z"
   },
   {
    "duration": 10,
    "start_time": "2022-05-24T13:19:16.613Z"
   },
   {
    "duration": 39,
    "start_time": "2022-05-24T13:19:16.625Z"
   },
   {
    "duration": 37,
    "start_time": "2022-05-24T13:19:16.666Z"
   },
   {
    "duration": 27,
    "start_time": "2022-05-24T13:19:16.705Z"
   },
   {
    "duration": 8,
    "start_time": "2022-05-24T13:19:16.734Z"
   },
   {
    "duration": 12,
    "start_time": "2022-05-24T13:19:16.744Z"
   },
   {
    "duration": 42,
    "start_time": "2022-05-24T13:19:16.758Z"
   },
   {
    "duration": 9,
    "start_time": "2022-05-24T13:19:16.802Z"
   },
   {
    "duration": 6,
    "start_time": "2022-05-24T13:19:16.813Z"
   },
   {
    "duration": 23,
    "start_time": "2022-05-24T13:19:16.821Z"
   },
   {
    "duration": 51,
    "start_time": "2022-05-24T13:19:16.846Z"
   },
   {
    "duration": 24,
    "start_time": "2022-05-24T13:19:16.899Z"
   },
   {
    "duration": 77,
    "start_time": "2022-05-24T13:19:16.925Z"
   },
   {
    "duration": 9,
    "start_time": "2022-05-24T13:19:17.004Z"
   },
   {
    "duration": 245,
    "start_time": "2022-05-24T13:19:17.018Z"
   },
   {
    "duration": 253,
    "start_time": "2022-05-24T13:19:17.265Z"
   },
   {
    "duration": 197,
    "start_time": "2022-05-24T13:19:17.520Z"
   },
   {
    "duration": 171,
    "start_time": "2022-05-24T13:19:17.719Z"
   },
   {
    "duration": 183,
    "start_time": "2022-05-24T13:19:17.894Z"
   },
   {
    "duration": 59,
    "start_time": "2022-05-24T13:19:18.079Z"
   },
   {
    "duration": 16,
    "start_time": "2022-05-24T13:19:18.140Z"
   },
   {
    "duration": 5,
    "start_time": "2022-05-24T13:19:18.158Z"
   },
   {
    "duration": 31,
    "start_time": "2022-05-24T13:19:18.165Z"
   },
   {
    "duration": 17,
    "start_time": "2022-05-24T13:19:18.198Z"
   },
   {
    "duration": 6,
    "start_time": "2022-05-24T13:19:18.217Z"
   },
   {
    "duration": 41,
    "start_time": "2022-05-24T13:19:18.225Z"
   },
   {
    "duration": 202,
    "start_time": "2022-05-24T13:19:18.267Z"
   },
   {
    "duration": 179,
    "start_time": "2022-05-24T13:19:18.471Z"
   },
   {
    "duration": 194,
    "start_time": "2022-05-24T13:19:18.651Z"
   },
   {
    "duration": 50,
    "start_time": "2022-05-24T13:19:18.846Z"
   },
   {
    "duration": 266,
    "start_time": "2022-05-24T13:19:18.897Z"
   },
   {
    "duration": 35,
    "start_time": "2022-05-24T13:19:19.165Z"
   },
   {
    "duration": 257,
    "start_time": "2022-05-24T13:19:19.202Z"
   },
   {
    "duration": 19,
    "start_time": "2022-05-24T13:19:19.461Z"
   },
   {
    "duration": 218,
    "start_time": "2022-05-24T13:19:19.481Z"
   },
   {
    "duration": 17,
    "start_time": "2022-05-24T13:19:19.701Z"
   },
   {
    "duration": 216,
    "start_time": "2022-05-24T13:19:19.720Z"
   },
   {
    "duration": 143,
    "start_time": "2022-05-24T13:19:19.938Z"
   },
   {
    "duration": 155,
    "start_time": "2022-05-24T13:19:20.083Z"
   },
   {
    "duration": 130,
    "start_time": "2022-05-24T13:19:20.241Z"
   },
   {
    "duration": 135,
    "start_time": "2022-05-24T13:19:20.373Z"
   },
   {
    "duration": 136,
    "start_time": "2022-05-24T13:19:20.510Z"
   },
   {
    "duration": 18,
    "start_time": "2022-05-24T13:19:20.648Z"
   },
   {
    "duration": 237,
    "start_time": "2022-05-24T13:19:20.668Z"
   },
   {
    "duration": 146,
    "start_time": "2022-05-24T13:19:20.907Z"
   },
   {
    "duration": 324,
    "start_time": "2022-05-24T13:19:21.055Z"
   },
   {
    "duration": 150,
    "start_time": "2022-05-24T13:19:21.381Z"
   },
   {
    "duration": 127,
    "start_time": "2022-05-24T13:19:21.533Z"
   },
   {
    "duration": 0,
    "start_time": "2022-05-24T13:19:21.662Z"
   },
   {
    "duration": 24,
    "start_time": "2022-05-24T13:19:31.907Z"
   },
   {
    "duration": 4,
    "start_time": "2022-05-24T13:19:45.377Z"
   },
   {
    "duration": 101,
    "start_time": "2022-05-24T13:19:46.079Z"
   },
   {
    "duration": 25,
    "start_time": "2022-05-24T13:19:46.893Z"
   },
   {
    "duration": 10,
    "start_time": "2022-05-24T13:19:47.155Z"
   },
   {
    "duration": 26,
    "start_time": "2022-05-24T13:19:47.434Z"
   },
   {
    "duration": 33,
    "start_time": "2022-05-24T13:19:47.704Z"
   },
   {
    "duration": 34,
    "start_time": "2022-05-24T13:19:47.945Z"
   },
   {
    "duration": 4,
    "start_time": "2022-05-24T13:19:49.294Z"
   },
   {
    "duration": 6,
    "start_time": "2022-05-24T13:19:49.570Z"
   },
   {
    "duration": 8,
    "start_time": "2022-05-24T13:19:49.840Z"
   },
   {
    "duration": 7,
    "start_time": "2022-05-24T13:19:50.352Z"
   },
   {
    "duration": 30,
    "start_time": "2022-05-24T13:19:50.592Z"
   },
   {
    "duration": 20,
    "start_time": "2022-05-24T13:19:50.855Z"
   },
   {
    "duration": 9,
    "start_time": "2022-05-24T13:19:51.378Z"
   },
   {
    "duration": 24,
    "start_time": "2022-05-24T13:19:51.664Z"
   },
   {
    "duration": 16,
    "start_time": "2022-05-24T13:19:52.739Z"
   },
   {
    "duration": 22,
    "start_time": "2022-05-24T13:19:53.018Z"
   },
   {
    "duration": 4,
    "start_time": "2022-05-24T13:19:54.322Z"
   },
   {
    "duration": 9,
    "start_time": "2022-05-24T13:19:54.572Z"
   },
   {
    "duration": 16,
    "start_time": "2022-05-24T13:19:54.841Z"
   },
   {
    "duration": 6,
    "start_time": "2022-05-24T13:19:55.602Z"
   },
   {
    "duration": 5,
    "start_time": "2022-05-24T13:19:56.106Z"
   },
   {
    "duration": 25,
    "start_time": "2022-05-24T13:19:56.391Z"
   },
   {
    "duration": 39,
    "start_time": "2022-05-24T13:19:56.665Z"
   },
   {
    "duration": 33,
    "start_time": "2022-05-24T13:19:57.809Z"
   },
   {
    "duration": 51,
    "start_time": "2022-05-24T13:19:58.084Z"
   },
   {
    "duration": 9,
    "start_time": "2022-05-24T13:19:58.366Z"
   },
   {
    "duration": 164,
    "start_time": "2022-05-24T13:19:58.957Z"
   },
   {
    "duration": 167,
    "start_time": "2022-05-24T13:19:59.225Z"
   },
   {
    "duration": 168,
    "start_time": "2022-05-24T13:19:59.497Z"
   },
   {
    "duration": 137,
    "start_time": "2022-05-24T13:19:59.766Z"
   },
   {
    "duration": 144,
    "start_time": "2022-05-24T13:20:00.029Z"
   },
   {
    "duration": 51,
    "start_time": "2022-05-24T13:20:00.598Z"
   },
   {
    "duration": 16,
    "start_time": "2022-05-24T13:20:01.141Z"
   },
   {
    "duration": 4,
    "start_time": "2022-05-24T13:20:01.443Z"
   },
   {
    "duration": 4,
    "start_time": "2022-05-24T13:20:01.685Z"
   },
   {
    "duration": 17,
    "start_time": "2022-05-24T13:20:01.989Z"
   },
   {
    "duration": 5,
    "start_time": "2022-05-24T13:20:02.586Z"
   },
   {
    "duration": 27,
    "start_time": "2022-05-24T13:20:02.889Z"
   },
   {
    "duration": 163,
    "start_time": "2022-05-24T13:20:03.969Z"
   },
   {
    "duration": 159,
    "start_time": "2022-05-24T13:20:04.895Z"
   },
   {
    "duration": 168,
    "start_time": "2022-05-24T13:20:05.188Z"
   },
   {
    "duration": 44,
    "start_time": "2022-05-24T13:20:05.847Z"
   },
   {
    "duration": 181,
    "start_time": "2022-05-24T13:20:06.144Z"
   },
   {
    "duration": 28,
    "start_time": "2022-05-24T13:20:07.147Z"
   },
   {
    "duration": 365,
    "start_time": "2022-05-24T13:20:07.456Z"
   },
   {
    "duration": 19,
    "start_time": "2022-05-24T13:20:08.634Z"
   },
   {
    "duration": 231,
    "start_time": "2022-05-24T13:20:08.935Z"
   },
   {
    "duration": 21,
    "start_time": "2022-05-24T13:20:11.161Z"
   },
   {
    "duration": 198,
    "start_time": "2022-05-24T13:20:11.655Z"
   },
   {
    "duration": 134,
    "start_time": "2022-05-24T13:20:12.288Z"
   },
   {
    "duration": 132,
    "start_time": "2022-05-24T13:20:12.845Z"
   },
   {
    "duration": 122,
    "start_time": "2022-05-24T13:20:13.570Z"
   },
   {
    "duration": 123,
    "start_time": "2022-05-24T13:20:14.883Z"
   },
   {
    "duration": 127,
    "start_time": "2022-05-24T13:20:15.366Z"
   },
   {
    "duration": 18,
    "start_time": "2022-05-24T13:20:15.824Z"
   },
   {
    "duration": 203,
    "start_time": "2022-05-24T13:20:16.152Z"
   },
   {
    "duration": 129,
    "start_time": "2022-05-24T13:20:16.512Z"
   },
   {
    "duration": 199,
    "start_time": "2022-05-24T13:20:17.000Z"
   },
   {
    "duration": 240,
    "start_time": "2022-05-24T13:20:17.372Z"
   },
   {
    "duration": 21,
    "start_time": "2022-05-24T13:20:17.806Z"
   },
   {
    "duration": 115,
    "start_time": "2022-05-24T13:20:18.602Z"
   },
   {
    "duration": 122,
    "start_time": "2022-05-24T13:20:48.603Z"
   },
   {
    "duration": 796,
    "start_time": "2022-05-24T13:20:59.880Z"
   },
   {
    "duration": 30,
    "start_time": "2022-05-24T13:21:09.740Z"
   },
   {
    "duration": 12,
    "start_time": "2022-05-24T13:52:29.542Z"
   },
   {
    "duration": 17,
    "start_time": "2022-05-24T13:52:43.531Z"
   },
   {
    "duration": 17,
    "start_time": "2022-05-24T13:53:20.944Z"
   },
   {
    "duration": 187,
    "start_time": "2022-05-24T14:03:36.705Z"
   },
   {
    "duration": 194,
    "start_time": "2022-05-24T14:03:42.990Z"
   },
   {
    "duration": 119,
    "start_time": "2022-05-24T14:04:53.893Z"
   },
   {
    "duration": 178,
    "start_time": "2022-05-24T14:05:58.787Z"
   },
   {
    "duration": 195,
    "start_time": "2022-05-24T14:06:50.188Z"
   },
   {
    "duration": 153,
    "start_time": "2022-05-24T14:07:00.773Z"
   },
   {
    "duration": 202,
    "start_time": "2022-05-24T14:07:06.821Z"
   },
   {
    "duration": 192,
    "start_time": "2022-05-24T14:07:13.612Z"
   },
   {
    "duration": 711,
    "start_time": "2022-05-24T14:12:09.118Z"
   },
   {
    "duration": 110,
    "start_time": "2022-05-24T14:12:09.831Z"
   },
   {
    "duration": 23,
    "start_time": "2022-05-24T14:12:09.943Z"
   },
   {
    "duration": 10,
    "start_time": "2022-05-24T14:12:09.967Z"
   },
   {
    "duration": 49,
    "start_time": "2022-05-24T14:12:09.979Z"
   },
   {
    "duration": 20,
    "start_time": "2022-05-24T14:12:10.029Z"
   },
   {
    "duration": 60,
    "start_time": "2022-05-24T14:12:10.050Z"
   },
   {
    "duration": 5,
    "start_time": "2022-05-24T14:12:10.115Z"
   },
   {
    "duration": 10,
    "start_time": "2022-05-24T14:12:10.122Z"
   },
   {
    "duration": 5,
    "start_time": "2022-05-24T14:12:10.134Z"
   },
   {
    "duration": 8,
    "start_time": "2022-05-24T14:12:10.141Z"
   },
   {
    "duration": 29,
    "start_time": "2022-05-24T14:12:10.150Z"
   },
   {
    "duration": 48,
    "start_time": "2022-05-24T14:12:10.180Z"
   },
   {
    "duration": 11,
    "start_time": "2022-05-24T14:12:10.231Z"
   },
   {
    "duration": 27,
    "start_time": "2022-05-24T14:12:10.243Z"
   },
   {
    "duration": 33,
    "start_time": "2022-05-24T14:12:10.272Z"
   },
   {
    "duration": 28,
    "start_time": "2022-05-24T14:12:10.306Z"
   },
   {
    "duration": 3,
    "start_time": "2022-05-24T14:12:10.335Z"
   },
   {
    "duration": 13,
    "start_time": "2022-05-24T14:12:10.339Z"
   },
   {
    "duration": 12,
    "start_time": "2022-05-24T14:12:10.354Z"
   },
   {
    "duration": 5,
    "start_time": "2022-05-24T14:12:10.367Z"
   },
   {
    "duration": 22,
    "start_time": "2022-05-24T14:12:10.373Z"
   },
   {
    "duration": 18,
    "start_time": "2022-05-24T14:12:10.402Z"
   },
   {
    "duration": 28,
    "start_time": "2022-05-24T14:12:10.423Z"
   },
   {
    "duration": 18,
    "start_time": "2022-05-24T14:12:10.452Z"
   },
   {
    "duration": 60,
    "start_time": "2022-05-24T14:12:10.472Z"
   },
   {
    "duration": 7,
    "start_time": "2022-05-24T14:12:10.534Z"
   },
   {
    "duration": 203,
    "start_time": "2022-05-24T14:12:10.543Z"
   },
   {
    "duration": 178,
    "start_time": "2022-05-24T14:12:10.747Z"
   },
   {
    "duration": 164,
    "start_time": "2022-05-24T14:12:10.926Z"
   },
   {
    "duration": 144,
    "start_time": "2022-05-24T14:12:11.094Z"
   },
   {
    "duration": 144,
    "start_time": "2022-05-24T14:12:11.240Z"
   },
   {
    "duration": 57,
    "start_time": "2022-05-24T14:12:11.386Z"
   },
   {
    "duration": 14,
    "start_time": "2022-05-24T14:12:11.445Z"
   },
   {
    "duration": 4,
    "start_time": "2022-05-24T14:12:11.460Z"
   },
   {
    "duration": 7,
    "start_time": "2022-05-24T14:12:11.465Z"
   },
   {
    "duration": 35,
    "start_time": "2022-05-24T14:12:11.473Z"
   },
   {
    "duration": 19,
    "start_time": "2022-05-24T14:12:11.511Z"
   },
   {
    "duration": 21,
    "start_time": "2022-05-24T14:12:11.531Z"
   },
   {
    "duration": 171,
    "start_time": "2022-05-24T14:12:11.554Z"
   },
   {
    "duration": 160,
    "start_time": "2022-05-24T14:12:11.729Z"
   },
   {
    "duration": 180,
    "start_time": "2022-05-24T14:12:11.899Z"
   },
   {
    "duration": 52,
    "start_time": "2022-05-24T14:12:12.081Z"
   },
   {
    "duration": 267,
    "start_time": "2022-05-24T14:12:12.134Z"
   },
   {
    "duration": 30,
    "start_time": "2022-05-24T14:12:12.406Z"
   },
   {
    "duration": 242,
    "start_time": "2022-05-24T14:12:12.438Z"
   },
   {
    "duration": 33,
    "start_time": "2022-05-24T14:12:12.682Z"
   },
   {
    "duration": 212,
    "start_time": "2022-05-24T14:12:12.717Z"
   },
   {
    "duration": 16,
    "start_time": "2022-05-24T14:12:12.930Z"
   },
   {
    "duration": 207,
    "start_time": "2022-05-24T14:12:12.948Z"
   },
   {
    "duration": 100720,
    "start_time": "2022-05-24T14:12:13.156Z"
   },
   {
    "duration": 217,
    "start_time": "2022-05-24T14:13:53.878Z"
   },
   {
    "duration": 138,
    "start_time": "2022-05-24T14:13:54.105Z"
   },
   {
    "duration": 121,
    "start_time": "2022-05-24T14:13:54.245Z"
   },
   {
    "duration": 134,
    "start_time": "2022-05-24T14:13:54.368Z"
   },
   {
    "duration": 21,
    "start_time": "2022-05-24T14:13:54.507Z"
   },
   {
    "duration": 247,
    "start_time": "2022-05-24T14:13:54.530Z"
   },
   {
    "duration": 149,
    "start_time": "2022-05-24T14:13:54.779Z"
   },
   {
    "duration": 212,
    "start_time": "2022-05-24T14:13:54.930Z"
   },
   {
    "duration": 127,
    "start_time": "2022-05-24T14:13:55.144Z"
   },
   {
    "duration": 116,
    "start_time": "2022-05-24T14:13:55.273Z"
   },
   {
    "duration": 0,
    "start_time": "2022-05-24T14:13:55.390Z"
   },
   {
    "duration": 195,
    "start_time": "2022-05-24T14:16:49.314Z"
   },
   {
    "duration": 155,
    "start_time": "2022-05-24T14:17:40.909Z"
   },
   {
    "duration": 151,
    "start_time": "2022-05-24T14:17:50.417Z"
   },
   {
    "duration": 270,
    "start_time": "2022-05-24T14:19:18.375Z"
   },
   {
    "duration": 307,
    "start_time": "2022-05-24T14:19:36.557Z"
   },
   {
    "duration": 155,
    "start_time": "2022-05-24T14:22:40.679Z"
   },
   {
    "duration": 319,
    "start_time": "2022-05-24T14:23:45.720Z"
   },
   {
    "duration": 321,
    "start_time": "2022-05-24T14:23:57.933Z"
   },
   {
    "duration": 293,
    "start_time": "2022-05-24T14:24:09.353Z"
   },
   {
    "duration": 303,
    "start_time": "2022-05-24T14:24:16.884Z"
   },
   {
    "duration": 175,
    "start_time": "2022-05-24T14:26:08.917Z"
   },
   {
    "duration": 158,
    "start_time": "2022-05-24T14:26:45.548Z"
   },
   {
    "duration": 268,
    "start_time": "2022-05-24T14:26:58.428Z"
   }
  ],
  "kernelspec": {
   "display_name": "Python 3 (ipykernel)",
   "language": "python",
   "name": "python3"
  },
  "language_info": {
   "codemirror_mode": {
    "name": "ipython",
    "version": 3
   },
   "file_extension": ".py",
   "mimetype": "text/x-python",
   "name": "python",
   "nbconvert_exporter": "python",
   "pygments_lexer": "ipython3",
   "version": "3.9.5"
  },
  "toc": {
   "base_numbering": 1,
   "nav_menu": {},
   "number_sections": true,
   "sideBar": true,
   "skip_h1_title": false,
   "title_cell": "Table of Contents",
   "title_sidebar": "Contents",
   "toc_cell": false,
   "toc_position": {
    "height": "calc(100% - 180px)",
    "left": "10px",
    "top": "150px",
    "width": "366.391px"
   },
   "toc_section_display": true,
   "toc_window_display": true
  }
 },
 "nbformat": 4,
 "nbformat_minor": 2
}
