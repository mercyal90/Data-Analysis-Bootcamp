{
 "cells": [
  {
   "cell_type": "markdown",
   "metadata": {},
   "source": [
    "# Analyzing borrowers’ risk of defaulting\n",
    "\n",
    "Your project is to prepare a report for a bank’s loan division. You’ll need to find out if a customer’s marital status and number of children has an impact on whether they will default on a loan. The bank already has some data on customers’ credit worthiness.\n",
    "\n",
    "Your report will be considered when building the **credit score** of a potential customer. The **credit score** is used to evaluate the ability of a potential borrower to repay their loan.\n",
    "\n",
    "[In this notebook you're provided with hints and brief instructions and thinking prompts. Don't ignore them as they are designed to equip you with the structure for the project and will help you analyze what you're doing on a deeper level. Before submitting your project, make sure you remove all hints and descriptions provided to you. Instead, make this report look as if you're sending it to your teammates to demonstrate your findings - they shouldn't know you had some external help from us! To help you out, we've placed the hints you should remove in square brackets.]\n",
    "\n",
    "[Before you dive into analyzing your data, explain the purposes of the project and hypotheses you're going to test.]"
   ]
  },
  {
   "cell_type": "markdown",
   "metadata": {},
   "source": [
    "## Open the data file and have a look at the general information. \n",
    "\n",
    "[Start with importing the libraries and loading the data. You may realise that you need additional libraries as you go, which is totally fine - just make sure to update this section when you do.]"
   ]
  },
  {
   "cell_type": "code",
   "execution_count": 1,
   "metadata": {},
   "outputs": [],
   "source": [
    "# Loading all the libraries\n",
    "\n",
    "\n",
    "# Load the data\n",
    "import pandas as pd\n",
    "import numpy as np\n",
    "import seaborn as sns\n",
    "import matplotlib.pyplot as plt\n",
    "\n",
    "credit_score = pd.read_csv('/datasets/credit_scoring_eng.csv')\n",
    "\n"
   ]
  },
  {
   "cell_type": "markdown",
   "metadata": {},
   "source": [
    "## Task 1. Data exploration\n",
    "\n",
    "**Description of the data**\n",
    "- `children` - the number of children in the family\n",
    "- `days_employed` - work experience in days\n",
    "- `dob_years` - client's age in years\n",
    "- `education` - client's education\n",
    "- `education_id` - education identifier\n",
    "- `family_status` - marital status\n",
    "- `family_status_id` - marital status identifier\n",
    "- `gender` - gender of the client\n",
    "- `income_type` - type of employment\n",
    "- `debt` - was there any debt on loan repayment\n",
    "- `total_income` - monthly income\n",
    "- `purpose` - the purpose of obtaining a loan\n",
    "\n"
   ]
  },
  {
   "cell_type": "code",
   "execution_count": 2,
   "metadata": {},
   "outputs": [
    {
     "data": {
      "text/plain": [
       "(21525, 12)"
      ]
     },
     "execution_count": 2,
     "metadata": {},
     "output_type": "execute_result"
    }
   ],
   "source": [
    "# Let's see how many rows and columns our dataset has\n",
    "credit_score.shape"
   ]
  },
  {
   "cell_type": "code",
   "execution_count": 3,
   "metadata": {
    "scrolled": false
   },
   "outputs": [
    {
     "data": {
      "text/html": [
       "<div>\n",
       "<style scoped>\n",
       "    .dataframe tbody tr th:only-of-type {\n",
       "        vertical-align: middle;\n",
       "    }\n",
       "\n",
       "    .dataframe tbody tr th {\n",
       "        vertical-align: top;\n",
       "    }\n",
       "\n",
       "    .dataframe thead th {\n",
       "        text-align: right;\n",
       "    }\n",
       "</style>\n",
       "<table border=\"1\" class=\"dataframe\">\n",
       "  <thead>\n",
       "    <tr style=\"text-align: right;\">\n",
       "      <th></th>\n",
       "      <th>children</th>\n",
       "      <th>days_employed</th>\n",
       "      <th>dob_years</th>\n",
       "      <th>education</th>\n",
       "      <th>education_id</th>\n",
       "      <th>family_status</th>\n",
       "      <th>family_status_id</th>\n",
       "      <th>gender</th>\n",
       "      <th>income_type</th>\n",
       "      <th>debt</th>\n",
       "      <th>total_income</th>\n",
       "      <th>purpose</th>\n",
       "    </tr>\n",
       "  </thead>\n",
       "  <tbody>\n",
       "    <tr>\n",
       "      <th>0</th>\n",
       "      <td>1</td>\n",
       "      <td>-8437.673028</td>\n",
       "      <td>42</td>\n",
       "      <td>bachelor's degree</td>\n",
       "      <td>0</td>\n",
       "      <td>married</td>\n",
       "      <td>0</td>\n",
       "      <td>F</td>\n",
       "      <td>employee</td>\n",
       "      <td>0</td>\n",
       "      <td>40620.102</td>\n",
       "      <td>purchase of the house</td>\n",
       "    </tr>\n",
       "    <tr>\n",
       "      <th>1</th>\n",
       "      <td>1</td>\n",
       "      <td>-4024.803754</td>\n",
       "      <td>36</td>\n",
       "      <td>secondary education</td>\n",
       "      <td>1</td>\n",
       "      <td>married</td>\n",
       "      <td>0</td>\n",
       "      <td>F</td>\n",
       "      <td>employee</td>\n",
       "      <td>0</td>\n",
       "      <td>17932.802</td>\n",
       "      <td>car purchase</td>\n",
       "    </tr>\n",
       "    <tr>\n",
       "      <th>2</th>\n",
       "      <td>0</td>\n",
       "      <td>-5623.422610</td>\n",
       "      <td>33</td>\n",
       "      <td>Secondary Education</td>\n",
       "      <td>1</td>\n",
       "      <td>married</td>\n",
       "      <td>0</td>\n",
       "      <td>M</td>\n",
       "      <td>employee</td>\n",
       "      <td>0</td>\n",
       "      <td>23341.752</td>\n",
       "      <td>purchase of the house</td>\n",
       "    </tr>\n",
       "    <tr>\n",
       "      <th>3</th>\n",
       "      <td>3</td>\n",
       "      <td>-4124.747207</td>\n",
       "      <td>32</td>\n",
       "      <td>secondary education</td>\n",
       "      <td>1</td>\n",
       "      <td>married</td>\n",
       "      <td>0</td>\n",
       "      <td>M</td>\n",
       "      <td>employee</td>\n",
       "      <td>0</td>\n",
       "      <td>42820.568</td>\n",
       "      <td>supplementary education</td>\n",
       "    </tr>\n",
       "    <tr>\n",
       "      <th>4</th>\n",
       "      <td>0</td>\n",
       "      <td>340266.072047</td>\n",
       "      <td>53</td>\n",
       "      <td>secondary education</td>\n",
       "      <td>1</td>\n",
       "      <td>civil partnership</td>\n",
       "      <td>1</td>\n",
       "      <td>F</td>\n",
       "      <td>retiree</td>\n",
       "      <td>0</td>\n",
       "      <td>25378.572</td>\n",
       "      <td>to have a wedding</td>\n",
       "    </tr>\n",
       "    <tr>\n",
       "      <th>5</th>\n",
       "      <td>0</td>\n",
       "      <td>-926.185831</td>\n",
       "      <td>27</td>\n",
       "      <td>bachelor's degree</td>\n",
       "      <td>0</td>\n",
       "      <td>civil partnership</td>\n",
       "      <td>1</td>\n",
       "      <td>M</td>\n",
       "      <td>business</td>\n",
       "      <td>0</td>\n",
       "      <td>40922.170</td>\n",
       "      <td>purchase of the house</td>\n",
       "    </tr>\n",
       "    <tr>\n",
       "      <th>6</th>\n",
       "      <td>0</td>\n",
       "      <td>-2879.202052</td>\n",
       "      <td>43</td>\n",
       "      <td>bachelor's degree</td>\n",
       "      <td>0</td>\n",
       "      <td>married</td>\n",
       "      <td>0</td>\n",
       "      <td>F</td>\n",
       "      <td>business</td>\n",
       "      <td>0</td>\n",
       "      <td>38484.156</td>\n",
       "      <td>housing transactions</td>\n",
       "    </tr>\n",
       "    <tr>\n",
       "      <th>7</th>\n",
       "      <td>0</td>\n",
       "      <td>-152.779569</td>\n",
       "      <td>50</td>\n",
       "      <td>SECONDARY EDUCATION</td>\n",
       "      <td>1</td>\n",
       "      <td>married</td>\n",
       "      <td>0</td>\n",
       "      <td>M</td>\n",
       "      <td>employee</td>\n",
       "      <td>0</td>\n",
       "      <td>21731.829</td>\n",
       "      <td>education</td>\n",
       "    </tr>\n",
       "    <tr>\n",
       "      <th>8</th>\n",
       "      <td>2</td>\n",
       "      <td>-6929.865299</td>\n",
       "      <td>35</td>\n",
       "      <td>BACHELOR'S DEGREE</td>\n",
       "      <td>0</td>\n",
       "      <td>civil partnership</td>\n",
       "      <td>1</td>\n",
       "      <td>F</td>\n",
       "      <td>employee</td>\n",
       "      <td>0</td>\n",
       "      <td>15337.093</td>\n",
       "      <td>having a wedding</td>\n",
       "    </tr>\n",
       "    <tr>\n",
       "      <th>9</th>\n",
       "      <td>0</td>\n",
       "      <td>-2188.756445</td>\n",
       "      <td>41</td>\n",
       "      <td>secondary education</td>\n",
       "      <td>1</td>\n",
       "      <td>married</td>\n",
       "      <td>0</td>\n",
       "      <td>M</td>\n",
       "      <td>employee</td>\n",
       "      <td>0</td>\n",
       "      <td>23108.150</td>\n",
       "      <td>purchase of the house for my family</td>\n",
       "    </tr>\n",
       "    <tr>\n",
       "      <th>10</th>\n",
       "      <td>2</td>\n",
       "      <td>-4171.483647</td>\n",
       "      <td>36</td>\n",
       "      <td>bachelor's degree</td>\n",
       "      <td>0</td>\n",
       "      <td>married</td>\n",
       "      <td>0</td>\n",
       "      <td>M</td>\n",
       "      <td>business</td>\n",
       "      <td>0</td>\n",
       "      <td>18230.959</td>\n",
       "      <td>buy real estate</td>\n",
       "    </tr>\n",
       "    <tr>\n",
       "      <th>11</th>\n",
       "      <td>0</td>\n",
       "      <td>-792.701887</td>\n",
       "      <td>40</td>\n",
       "      <td>secondary education</td>\n",
       "      <td>1</td>\n",
       "      <td>married</td>\n",
       "      <td>0</td>\n",
       "      <td>F</td>\n",
       "      <td>employee</td>\n",
       "      <td>0</td>\n",
       "      <td>12331.077</td>\n",
       "      <td>buy commercial real estate</td>\n",
       "    </tr>\n",
       "    <tr>\n",
       "      <th>12</th>\n",
       "      <td>0</td>\n",
       "      <td>NaN</td>\n",
       "      <td>65</td>\n",
       "      <td>secondary education</td>\n",
       "      <td>1</td>\n",
       "      <td>civil partnership</td>\n",
       "      <td>1</td>\n",
       "      <td>M</td>\n",
       "      <td>retiree</td>\n",
       "      <td>0</td>\n",
       "      <td>NaN</td>\n",
       "      <td>to have a wedding</td>\n",
       "    </tr>\n",
       "    <tr>\n",
       "      <th>13</th>\n",
       "      <td>0</td>\n",
       "      <td>-1846.641941</td>\n",
       "      <td>54</td>\n",
       "      <td>some college</td>\n",
       "      <td>2</td>\n",
       "      <td>married</td>\n",
       "      <td>0</td>\n",
       "      <td>F</td>\n",
       "      <td>employee</td>\n",
       "      <td>0</td>\n",
       "      <td>20873.317</td>\n",
       "      <td>car purchase</td>\n",
       "    </tr>\n",
       "    <tr>\n",
       "      <th>14</th>\n",
       "      <td>0</td>\n",
       "      <td>-1844.956182</td>\n",
       "      <td>56</td>\n",
       "      <td>bachelor's degree</td>\n",
       "      <td>0</td>\n",
       "      <td>civil partnership</td>\n",
       "      <td>1</td>\n",
       "      <td>F</td>\n",
       "      <td>business</td>\n",
       "      <td>1</td>\n",
       "      <td>26420.466</td>\n",
       "      <td>buy residential real estate</td>\n",
       "    </tr>\n",
       "  </tbody>\n",
       "</table>\n",
       "</div>"
      ],
      "text/plain": [
       "    children  days_employed  dob_years            education  education_id  \\\n",
       "0          1   -8437.673028         42    bachelor's degree             0   \n",
       "1          1   -4024.803754         36  secondary education             1   \n",
       "2          0   -5623.422610         33  Secondary Education             1   \n",
       "3          3   -4124.747207         32  secondary education             1   \n",
       "4          0  340266.072047         53  secondary education             1   \n",
       "5          0    -926.185831         27    bachelor's degree             0   \n",
       "6          0   -2879.202052         43    bachelor's degree             0   \n",
       "7          0    -152.779569         50  SECONDARY EDUCATION             1   \n",
       "8          2   -6929.865299         35    BACHELOR'S DEGREE             0   \n",
       "9          0   -2188.756445         41  secondary education             1   \n",
       "10         2   -4171.483647         36    bachelor's degree             0   \n",
       "11         0    -792.701887         40  secondary education             1   \n",
       "12         0            NaN         65  secondary education             1   \n",
       "13         0   -1846.641941         54         some college             2   \n",
       "14         0   -1844.956182         56    bachelor's degree             0   \n",
       "\n",
       "        family_status  family_status_id gender income_type  debt  \\\n",
       "0             married                 0      F    employee     0   \n",
       "1             married                 0      F    employee     0   \n",
       "2             married                 0      M    employee     0   \n",
       "3             married                 0      M    employee     0   \n",
       "4   civil partnership                 1      F     retiree     0   \n",
       "5   civil partnership                 1      M    business     0   \n",
       "6             married                 0      F    business     0   \n",
       "7             married                 0      M    employee     0   \n",
       "8   civil partnership                 1      F    employee     0   \n",
       "9             married                 0      M    employee     0   \n",
       "10            married                 0      M    business     0   \n",
       "11            married                 0      F    employee     0   \n",
       "12  civil partnership                 1      M     retiree     0   \n",
       "13            married                 0      F    employee     0   \n",
       "14  civil partnership                 1      F    business     1   \n",
       "\n",
       "    total_income                              purpose  \n",
       "0      40620.102                purchase of the house  \n",
       "1      17932.802                         car purchase  \n",
       "2      23341.752                purchase of the house  \n",
       "3      42820.568              supplementary education  \n",
       "4      25378.572                    to have a wedding  \n",
       "5      40922.170                purchase of the house  \n",
       "6      38484.156                 housing transactions  \n",
       "7      21731.829                            education  \n",
       "8      15337.093                     having a wedding  \n",
       "9      23108.150  purchase of the house for my family  \n",
       "10     18230.959                      buy real estate  \n",
       "11     12331.077           buy commercial real estate  \n",
       "12           NaN                    to have a wedding  \n",
       "13     20873.317                         car purchase  \n",
       "14     26420.466          buy residential real estate  "
      ]
     },
     "execution_count": 3,
     "metadata": {},
     "output_type": "execute_result"
    }
   ],
   "source": [
    "# let's print the first N rows\n",
    "\n",
    "credit_score.head(15)"
   ]
  },
  {
   "cell_type": "code",
   "execution_count": 4,
   "metadata": {
    "scrolled": false
   },
   "outputs": [
    {
     "name": "stdout",
     "output_type": "stream",
     "text": [
      "<class 'pandas.core.frame.DataFrame'>\n",
      "RangeIndex: 21525 entries, 0 to 21524\n",
      "Data columns (total 12 columns):\n",
      " #   Column            Non-Null Count  Dtype  \n",
      "---  ------            --------------  -----  \n",
      " 0   children          21525 non-null  int64  \n",
      " 1   days_employed     19351 non-null  float64\n",
      " 2   dob_years         21525 non-null  int64  \n",
      " 3   education         21525 non-null  object \n",
      " 4   education_id      21525 non-null  int64  \n",
      " 5   family_status     21525 non-null  object \n",
      " 6   family_status_id  21525 non-null  int64  \n",
      " 7   gender            21525 non-null  object \n",
      " 8   income_type       21525 non-null  object \n",
      " 9   debt              21525 non-null  int64  \n",
      " 10  total_income      19351 non-null  float64\n",
      " 11  purpose           21525 non-null  object \n",
      "dtypes: float64(2), int64(5), object(5)\n",
      "memory usage: 2.0+ MB\n"
     ]
    }
   ],
   "source": [
    "# Get info on data\n",
    "credit_score.info()"
   ]
  },
  {
   "cell_type": "code",
   "execution_count": 5,
   "metadata": {
    "scrolled": true
   },
   "outputs": [
    {
     "data": {
      "text/html": [
       "<div>\n",
       "<style scoped>\n",
       "    .dataframe tbody tr th:only-of-type {\n",
       "        vertical-align: middle;\n",
       "    }\n",
       "\n",
       "    .dataframe tbody tr th {\n",
       "        vertical-align: top;\n",
       "    }\n",
       "\n",
       "    .dataframe thead th {\n",
       "        text-align: right;\n",
       "    }\n",
       "</style>\n",
       "<table border=\"1\" class=\"dataframe\">\n",
       "  <thead>\n",
       "    <tr style=\"text-align: right;\">\n",
       "      <th></th>\n",
       "      <th>children</th>\n",
       "      <th>days_employed</th>\n",
       "      <th>dob_years</th>\n",
       "      <th>education</th>\n",
       "      <th>education_id</th>\n",
       "      <th>family_status</th>\n",
       "      <th>family_status_id</th>\n",
       "      <th>gender</th>\n",
       "      <th>income_type</th>\n",
       "      <th>debt</th>\n",
       "      <th>total_income</th>\n",
       "      <th>purpose</th>\n",
       "    </tr>\n",
       "  </thead>\n",
       "  <tbody>\n",
       "    <tr>\n",
       "      <th>12</th>\n",
       "      <td>0</td>\n",
       "      <td>NaN</td>\n",
       "      <td>65</td>\n",
       "      <td>secondary education</td>\n",
       "      <td>1</td>\n",
       "      <td>civil partnership</td>\n",
       "      <td>1</td>\n",
       "      <td>M</td>\n",
       "      <td>retiree</td>\n",
       "      <td>0</td>\n",
       "      <td>NaN</td>\n",
       "      <td>to have a wedding</td>\n",
       "    </tr>\n",
       "    <tr>\n",
       "      <th>26</th>\n",
       "      <td>0</td>\n",
       "      <td>NaN</td>\n",
       "      <td>41</td>\n",
       "      <td>secondary education</td>\n",
       "      <td>1</td>\n",
       "      <td>married</td>\n",
       "      <td>0</td>\n",
       "      <td>M</td>\n",
       "      <td>civil servant</td>\n",
       "      <td>0</td>\n",
       "      <td>NaN</td>\n",
       "      <td>education</td>\n",
       "    </tr>\n",
       "    <tr>\n",
       "      <th>29</th>\n",
       "      <td>0</td>\n",
       "      <td>NaN</td>\n",
       "      <td>63</td>\n",
       "      <td>secondary education</td>\n",
       "      <td>1</td>\n",
       "      <td>unmarried</td>\n",
       "      <td>4</td>\n",
       "      <td>F</td>\n",
       "      <td>retiree</td>\n",
       "      <td>0</td>\n",
       "      <td>NaN</td>\n",
       "      <td>building a real estate</td>\n",
       "    </tr>\n",
       "    <tr>\n",
       "      <th>41</th>\n",
       "      <td>0</td>\n",
       "      <td>NaN</td>\n",
       "      <td>50</td>\n",
       "      <td>secondary education</td>\n",
       "      <td>1</td>\n",
       "      <td>married</td>\n",
       "      <td>0</td>\n",
       "      <td>F</td>\n",
       "      <td>civil servant</td>\n",
       "      <td>0</td>\n",
       "      <td>NaN</td>\n",
       "      <td>second-hand car purchase</td>\n",
       "    </tr>\n",
       "    <tr>\n",
       "      <th>55</th>\n",
       "      <td>0</td>\n",
       "      <td>NaN</td>\n",
       "      <td>54</td>\n",
       "      <td>secondary education</td>\n",
       "      <td>1</td>\n",
       "      <td>civil partnership</td>\n",
       "      <td>1</td>\n",
       "      <td>F</td>\n",
       "      <td>retiree</td>\n",
       "      <td>1</td>\n",
       "      <td>NaN</td>\n",
       "      <td>to have a wedding</td>\n",
       "    </tr>\n",
       "    <tr>\n",
       "      <th>...</th>\n",
       "      <td>...</td>\n",
       "      <td>...</td>\n",
       "      <td>...</td>\n",
       "      <td>...</td>\n",
       "      <td>...</td>\n",
       "      <td>...</td>\n",
       "      <td>...</td>\n",
       "      <td>...</td>\n",
       "      <td>...</td>\n",
       "      <td>...</td>\n",
       "      <td>...</td>\n",
       "      <td>...</td>\n",
       "    </tr>\n",
       "    <tr>\n",
       "      <th>21489</th>\n",
       "      <td>2</td>\n",
       "      <td>NaN</td>\n",
       "      <td>47</td>\n",
       "      <td>Secondary Education</td>\n",
       "      <td>1</td>\n",
       "      <td>married</td>\n",
       "      <td>0</td>\n",
       "      <td>M</td>\n",
       "      <td>business</td>\n",
       "      <td>0</td>\n",
       "      <td>NaN</td>\n",
       "      <td>purchase of a car</td>\n",
       "    </tr>\n",
       "    <tr>\n",
       "      <th>21495</th>\n",
       "      <td>1</td>\n",
       "      <td>NaN</td>\n",
       "      <td>50</td>\n",
       "      <td>secondary education</td>\n",
       "      <td>1</td>\n",
       "      <td>civil partnership</td>\n",
       "      <td>1</td>\n",
       "      <td>F</td>\n",
       "      <td>employee</td>\n",
       "      <td>0</td>\n",
       "      <td>NaN</td>\n",
       "      <td>wedding ceremony</td>\n",
       "    </tr>\n",
       "    <tr>\n",
       "      <th>21497</th>\n",
       "      <td>0</td>\n",
       "      <td>NaN</td>\n",
       "      <td>48</td>\n",
       "      <td>BACHELOR'S DEGREE</td>\n",
       "      <td>0</td>\n",
       "      <td>married</td>\n",
       "      <td>0</td>\n",
       "      <td>F</td>\n",
       "      <td>business</td>\n",
       "      <td>0</td>\n",
       "      <td>NaN</td>\n",
       "      <td>building a property</td>\n",
       "    </tr>\n",
       "    <tr>\n",
       "      <th>21502</th>\n",
       "      <td>1</td>\n",
       "      <td>NaN</td>\n",
       "      <td>42</td>\n",
       "      <td>secondary education</td>\n",
       "      <td>1</td>\n",
       "      <td>married</td>\n",
       "      <td>0</td>\n",
       "      <td>F</td>\n",
       "      <td>employee</td>\n",
       "      <td>0</td>\n",
       "      <td>NaN</td>\n",
       "      <td>building a real estate</td>\n",
       "    </tr>\n",
       "    <tr>\n",
       "      <th>21510</th>\n",
       "      <td>2</td>\n",
       "      <td>NaN</td>\n",
       "      <td>28</td>\n",
       "      <td>secondary education</td>\n",
       "      <td>1</td>\n",
       "      <td>married</td>\n",
       "      <td>0</td>\n",
       "      <td>F</td>\n",
       "      <td>employee</td>\n",
       "      <td>0</td>\n",
       "      <td>NaN</td>\n",
       "      <td>car purchase</td>\n",
       "    </tr>\n",
       "  </tbody>\n",
       "</table>\n",
       "<p>2174 rows × 12 columns</p>\n",
       "</div>"
      ],
      "text/plain": [
       "       children  days_employed  dob_years            education  education_id  \\\n",
       "12            0            NaN         65  secondary education             1   \n",
       "26            0            NaN         41  secondary education             1   \n",
       "29            0            NaN         63  secondary education             1   \n",
       "41            0            NaN         50  secondary education             1   \n",
       "55            0            NaN         54  secondary education             1   \n",
       "...         ...            ...        ...                  ...           ...   \n",
       "21489         2            NaN         47  Secondary Education             1   \n",
       "21495         1            NaN         50  secondary education             1   \n",
       "21497         0            NaN         48    BACHELOR'S DEGREE             0   \n",
       "21502         1            NaN         42  secondary education             1   \n",
       "21510         2            NaN         28  secondary education             1   \n",
       "\n",
       "           family_status  family_status_id gender    income_type  debt  \\\n",
       "12     civil partnership                 1      M        retiree     0   \n",
       "26               married                 0      M  civil servant     0   \n",
       "29             unmarried                 4      F        retiree     0   \n",
       "41               married                 0      F  civil servant     0   \n",
       "55     civil partnership                 1      F        retiree     1   \n",
       "...                  ...               ...    ...            ...   ...   \n",
       "21489            married                 0      M       business     0   \n",
       "21495  civil partnership                 1      F       employee     0   \n",
       "21497            married                 0      F       business     0   \n",
       "21502            married                 0      F       employee     0   \n",
       "21510            married                 0      F       employee     0   \n",
       "\n",
       "       total_income                   purpose  \n",
       "12              NaN         to have a wedding  \n",
       "26              NaN                 education  \n",
       "29              NaN    building a real estate  \n",
       "41              NaN  second-hand car purchase  \n",
       "55              NaN         to have a wedding  \n",
       "...             ...                       ...  \n",
       "21489           NaN         purchase of a car  \n",
       "21495           NaN          wedding ceremony  \n",
       "21497           NaN       building a property  \n",
       "21502           NaN    building a real estate  \n",
       "21510           NaN              car purchase  \n",
       "\n",
       "[2174 rows x 12 columns]"
      ]
     },
     "execution_count": 5,
     "metadata": {},
     "output_type": "execute_result"
    }
   ],
   "source": [
    "# Let's look at the filtered table with missing values in the the first column with missing data\n",
    "credit_score[credit_score['days_employed'].isnull()]\n"
   ]
  },
  {
   "cell_type": "code",
   "execution_count": 6,
   "metadata": {},
   "outputs": [
    {
     "data": {
      "text/plain": [
       "children               0\n",
       "days_employed       2174\n",
       "dob_years              0\n",
       "education              0\n",
       "education_id           0\n",
       "family_status          0\n",
       "family_status_id       0\n",
       "gender                 0\n",
       "income_type            0\n",
       "debt                   0\n",
       "total_income        2174\n",
       "purpose                0\n",
       "dtype: int64"
      ]
     },
     "execution_count": 6,
     "metadata": {},
     "output_type": "execute_result"
    }
   ],
   "source": [
    "credit_score.isnull().sum()"
   ]
  },
  {
   "cell_type": "markdown",
   "metadata": {},
   "source": [
    "The data contains 21525 rows and 12 columns.\n",
    "There are 2174 values missing the 'days_employed and 'total_income' columns. Seeing as how the information is missing on both of the columns I would assume clients refused to submit that information or it was a system error as this information is required for a loan approval.\n",
    "The values in days_employed are negative which can be a error by the system.\n",
    "The values in the education columns are written differently. "
   ]
  },
  {
   "cell_type": "code",
   "execution_count": 7,
   "metadata": {},
   "outputs": [
    {
     "name": "stdout",
     "output_type": "stream",
     "text": [
      "Empty DataFrame\n",
      "Columns: [children, days_employed, dob_years, education, education_id, family_status, family_status_id, gender, income_type, debt, total_income, purpose]\n",
      "Index: []\n"
     ]
    }
   ],
   "source": [
    "# Let's apply multiple conditions for filtering data and look at the number of rows in the filtered table.\n",
    "credit_score.loc[ (credit_score['days_employed'] == 'NaN') & (credit_score['total_income'] == 'NaN')]\n",
    "print(credit_score.loc[ (credit_score['days_employed'] == 'Nan') & (credit_score['total_income'] == 'NaN')])"
   ]
  },
  {
   "cell_type": "code",
   "execution_count": 8,
   "metadata": {},
   "outputs": [
    {
     "data": {
      "text/plain": [
       "children             0.000000\n",
       "days_employed       10.099884\n",
       "dob_years            0.000000\n",
       "education            0.000000\n",
       "education_id         0.000000\n",
       "family_status        0.000000\n",
       "family_status_id     0.000000\n",
       "gender               0.000000\n",
       "income_type          0.000000\n",
       "debt                 0.000000\n",
       "total_income        10.099884\n",
       "purpose              0.000000\n",
       "dtype: float64"
      ]
     },
     "execution_count": 8,
     "metadata": {},
     "output_type": "execute_result"
    }
   ],
   "source": [
    "credit_score.isnull().sum()/len(credit_score) * 100"
   ]
  },
  {
   "cell_type": "markdown",
   "metadata": {},
   "source": [
    "**Intermediate conclusion**\n",
    "The missing values are symmetric,the rows in the filtered table match the number of missing values. This was calculated by finding the number of missing values in the dataframe and finding the total of missing values in a column. 10.1% percent of the data is missing from days_employed and total_income column.\n",
    "The missing data could be to many identifying characteristics such as education, family status, or family size.\n",
    "Lets review below:"
   ]
  },
  {
   "cell_type": "code",
   "execution_count": 9,
   "metadata": {},
   "outputs": [
    {
     "name": "stdout",
     "output_type": "stream",
     "text": [
      "education_id\n",
      "0     544\n",
      "1    1540\n",
      "2      69\n",
      "3      21\n",
      "4       0\n",
      "Name: days_employed, dtype: int64\n"
     ]
    }
   ],
   "source": [
    "# Let's investigate clients who do not have data on identified characteristic and the column with the missing values\n",
    "print(credit_score.groupby(['education_id'])['days_employed'].apply(lambda x: x.isnull().sum()))"
   ]
  },
  {
   "cell_type": "code",
   "execution_count": 10,
   "metadata": {},
   "outputs": [
    {
     "data": {
      "text/html": [
       "<div>\n",
       "<style scoped>\n",
       "    .dataframe tbody tr th:only-of-type {\n",
       "        vertical-align: middle;\n",
       "    }\n",
       "\n",
       "    .dataframe tbody tr th {\n",
       "        vertical-align: top;\n",
       "    }\n",
       "\n",
       "    .dataframe thead th {\n",
       "        text-align: right;\n",
       "    }\n",
       "</style>\n",
       "<table border=\"1\" class=\"dataframe\">\n",
       "  <thead>\n",
       "    <tr style=\"text-align: right;\">\n",
       "      <th></th>\n",
       "      <th>education_id</th>\n",
       "      <th>level_1</th>\n",
       "      <th>days_employed</th>\n",
       "    </tr>\n",
       "  </thead>\n",
       "  <tbody>\n",
       "    <tr>\n",
       "      <th>0</th>\n",
       "      <td>0</td>\n",
       "      <td>False</td>\n",
       "      <td>4716</td>\n",
       "    </tr>\n",
       "    <tr>\n",
       "      <th>1</th>\n",
       "      <td>0</td>\n",
       "      <td>True</td>\n",
       "      <td>544</td>\n",
       "    </tr>\n",
       "    <tr>\n",
       "      <th>2</th>\n",
       "      <td>1</td>\n",
       "      <td>False</td>\n",
       "      <td>13693</td>\n",
       "    </tr>\n",
       "    <tr>\n",
       "      <th>3</th>\n",
       "      <td>1</td>\n",
       "      <td>True</td>\n",
       "      <td>1540</td>\n",
       "    </tr>\n",
       "    <tr>\n",
       "      <th>4</th>\n",
       "      <td>2</td>\n",
       "      <td>False</td>\n",
       "      <td>675</td>\n",
       "    </tr>\n",
       "    <tr>\n",
       "      <th>5</th>\n",
       "      <td>2</td>\n",
       "      <td>True</td>\n",
       "      <td>69</td>\n",
       "    </tr>\n",
       "    <tr>\n",
       "      <th>6</th>\n",
       "      <td>3</td>\n",
       "      <td>False</td>\n",
       "      <td>261</td>\n",
       "    </tr>\n",
       "    <tr>\n",
       "      <th>7</th>\n",
       "      <td>3</td>\n",
       "      <td>True</td>\n",
       "      <td>21</td>\n",
       "    </tr>\n",
       "    <tr>\n",
       "      <th>8</th>\n",
       "      <td>4</td>\n",
       "      <td>False</td>\n",
       "      <td>6</td>\n",
       "    </tr>\n",
       "  </tbody>\n",
       "</table>\n",
       "</div>"
      ],
      "text/plain": [
       "   education_id  level_1  days_employed\n",
       "0             0    False           4716\n",
       "1             0     True            544\n",
       "2             1    False          13693\n",
       "3             1     True           1540\n",
       "4             2    False            675\n",
       "5             2     True             69\n",
       "6             3    False            261\n",
       "7             3     True             21\n",
       "8             4    False              6"
      ]
     },
     "execution_count": 10,
     "metadata": {},
     "output_type": "execute_result"
    }
   ],
   "source": [
    "# Checking distribution\n",
    "grouped_sample = credit_score.groupby(['education_id']) ['days_employed'].apply(lambda x: x.isnull().value_counts())\n",
    "pd.DataFrame(grouped_sample).reset_index()"
   ]
  },
  {
   "cell_type": "code",
   "execution_count": 11,
   "metadata": {},
   "outputs": [
    {
     "data": {
      "text/plain": [
       "<AxesSubplot:xlabel='education_id,None'>"
      ]
     },
     "execution_count": 11,
     "metadata": {},
     "output_type": "execute_result"
    },
    {
     "data": {
      "image/png": "[encoded data removed]",
      "text/plain": [
       "<Figure size 432x288 with 1 Axes>"
      ]
     },
     "metadata": {
      "needs_background": "light"
     },
     "output_type": "display_data"
    }
   ],
   "source": [
    "grouped_sample.plot(x='education_id', y='days_employed', kind='bar')"
   ]
  },
  {
   "cell_type": "markdown",
   "metadata": {},
   "source": [
    "\n",
    "**Possible reasons for missing values in data**\n",
    "\n",
    "As shown above majority of the data missing on both columns are from clients with a secondary education."
   ]
  },
  {
   "cell_type": "code",
   "execution_count": 12,
   "metadata": {},
   "outputs": [
    {
     "data": {
      "text/plain": [
       "children  days_employed   dob_years  education            education_id  family_status      family_status_id  gender  income_type    debt  total_income  purpose                                 \n",
       "-1        -9851.184337    44         secondary education  1             divorced           3                 F       employee       0     17758.530     to own a car                                1\n",
       " 1        -7117.338200    42         secondary education  1             married            0                 F       civil servant  0     36511.880     housing renovation                          1\n",
       "          -7137.319761    35         secondary education  1             married            0                 F       employee       0     20696.434     property                                    1\n",
       "          -7146.299384    50         bachelor's degree    0             married            0                 F       employee       0     16782.180     housing transactions                        1\n",
       "          -7152.420165    49         secondary education  1             married            0                 F       employee       0     17529.023     building a real estate                      1\n",
       "                                                                                                                                                                                                   ..\n",
       " 0        -1019.065321    45         secondary education  1             married            0                 F       business       0     34758.642     to get a supplementary education            1\n",
       "          -1019.319566    38         bachelor's degree    0             married            0                 M       business       0     22633.993     buy commercial real estate                  1\n",
       "          -1019.684185    62         secondary education  1             widow / widower    2                 F       employee       0     13070.213     housing transactions                        1\n",
       "          -1020.182597    42         secondary education  1             married            0                 M       employee       0     22863.225     building a real estate                      1\n",
       " 20        385267.263676  62         secondary education  1             civil partnership  1                 F       retiree        0     30755.372     transactions with commercial real estate    1\n",
       "Length: 19351, dtype: int64"
      ]
     },
     "execution_count": 12,
     "metadata": {},
     "output_type": "execute_result"
    }
   ],
   "source": [
    "# Checking the distribution in the whole dataset\n",
    "\n",
    "credit_score.value_counts()"
   ]
  },
  {
   "cell_type": "code",
   "execution_count": 13,
   "metadata": {
    "scrolled": true
   },
   "outputs": [
    {
     "data": {
      "text/plain": [
       "family_status_id\n",
       "0    1237\n",
       "1     442\n",
       "2      95\n",
       "3     112\n",
       "4     288\n",
       "Name: days_employed, dtype: int64"
      ]
     },
     "execution_count": 13,
     "metadata": {},
     "output_type": "execute_result"
    }
   ],
   "source": [
    "# Check for other reasons and patterns that could lead to missing values\n",
    "credit_score.groupby(['family_status_id'])['days_employed'].apply(lambda x: x.isnull().sum())\n"
   ]
  },
  {
   "cell_type": "markdown",
   "metadata": {},
   "source": [
    "**Intermediate conclusion**\n",
    "\n",
    "It seems that majority of the data was ommited from clients who are married but not a smuch with those who have a secondary education."
   ]
  },
  {
   "cell_type": "markdown",
   "metadata": {},
   "source": [
    "**Conclusions**\n",
    "\n",
    " I can't exactly say what characteristic is to blame for the missing values- we may have to ask the clients or whoever pulled this data. The total_income will be filled using the the different income types- a student will not be earning the same as somoeone who is an entrepreneur or someone who is retired."
   ]
  },
  {
   "cell_type": "markdown",
   "metadata": {},
   "source": [
    "## Data transformation\n",
    "\n"
   ]
  },
  {
   "cell_type": "code",
   "execution_count": 14,
   "metadata": {},
   "outputs": [
    {
     "data": {
      "text/plain": [
       "array([\"bachelor's degree\", 'secondary education', 'Secondary Education',\n",
       "       'SECONDARY EDUCATION', \"BACHELOR'S DEGREE\", 'some college',\n",
       "       'primary education', \"Bachelor's Degree\", 'SOME COLLEGE',\n",
       "       'Some College', 'PRIMARY EDUCATION', 'Primary Education',\n",
       "       'Graduate Degree', 'GRADUATE DEGREE', 'graduate degree'],\n",
       "      dtype=object)"
      ]
     },
     "execution_count": 14,
     "metadata": {},
     "output_type": "execute_result"
    }
   ],
   "source": [
    "# Let's see all values in education column to check if and what spellings will need to be fixed\n",
    "credit_score['education'].unique()"
   ]
  },
  {
   "cell_type": "code",
   "execution_count": 15,
   "metadata": {
    "scrolled": true
   },
   "outputs": [],
   "source": [
    "# Fix the registers if required\n",
    "credit_score['education'] = credit_score['education'].str.lower()"
   ]
  },
  {
   "cell_type": "code",
   "execution_count": 16,
   "metadata": {},
   "outputs": [
    {
     "data": {
      "text/plain": [
       "array([\"bachelor's degree\", 'secondary education', 'some college',\n",
       "       'primary education', 'graduate degree'], dtype=object)"
      ]
     },
     "execution_count": 16,
     "metadata": {},
     "output_type": "execute_result"
    }
   ],
   "source": [
    "# Checking all the values in the column to make sure we fixed them\n",
    "\n",
    "credit_score['education'].unique()"
   ]
  },
  {
   "cell_type": "code",
   "execution_count": 17,
   "metadata": {},
   "outputs": [
    {
     "data": {
      "text/plain": [
       "array([ 1,  0,  3,  2, -1,  4, 20,  5])"
      ]
     },
     "execution_count": 17,
     "metadata": {},
     "output_type": "execute_result"
    }
   ],
   "source": [
    "# Let's see the distribution of values in the `children` column\n",
    "credit_score['children'].unique()"
   ]
  },
  {
   "cell_type": "markdown",
   "metadata": {},
   "source": [
    "There are invalid values of -1 and 20 in the children's column. I would assume this was simple human error and their intention were to type 1 and 2."
   ]
  },
  {
   "cell_type": "code",
   "execution_count": 18,
   "metadata": {},
   "outputs": [],
   "source": [
    "# [fix the data based on your decision]\n",
    "credit_score['children'] = credit_score['children'].replace(-1, 1)\n",
    "credit_score['children'] = credit_score['children'].replace(20, 2)"
   ]
  },
  {
   "cell_type": "code",
   "execution_count": 19,
   "metadata": {},
   "outputs": [
    {
     "data": {
      "text/plain": [
       "array([1, 0, 3, 2, 4, 5])"
      ]
     },
     "execution_count": 19,
     "metadata": {},
     "output_type": "execute_result"
    }
   ],
   "source": [
    "# Checking the `children` column again to make sure it's all fixed\n",
    "\n",
    "credit_score['children'].unique()"
   ]
  },
  {
   "cell_type": "markdown",
   "metadata": {},
   "source": [
    "From reviewing the data above I noticed that days_employed column had many negative values apart from the missing ones."
   ]
  },
  {
   "cell_type": "code",
   "execution_count": 20,
   "metadata": {},
   "outputs": [
    {
     "data": {
      "text/plain": [
       "15906"
      ]
     },
     "execution_count": 20,
     "metadata": {},
     "output_type": "execute_result"
    }
   ],
   "source": [
    "credit_score[credit_score['days_employed'] < 0]['days_employed'].count()"
   ]
  },
  {
   "cell_type": "code",
   "execution_count": 21,
   "metadata": {},
   "outputs": [
    {
     "data": {
      "text/plain": [
       "count    3445.000000\n",
       "mean     1000.011808\n",
       "std        57.739771\n",
       "min       900.626632\n",
       "25%       949.697024\n",
       "50%      1000.584401\n",
       "75%      1049.990258\n",
       "max      1100.699727\n",
       "Name: days_employed, dtype: float64"
      ]
     },
     "execution_count": 21,
     "metadata": {},
     "output_type": "execute_result"
    }
   ],
   "source": [
    "credit_score[credit_score['days_employed'] > 75* 365]['days_employed'].apply(lambda x:x /365).describe()"
   ]
  },
  {
   "cell_type": "markdown",
   "metadata": {},
   "source": [
    " The are 15906 negative values in the days_employed columns, that is too large of a data to drop. The most ideal way to fix this issue is by turning the negative values into positive values."
   ]
  },
  {
   "cell_type": "code",
   "execution_count": 22,
   "metadata": {},
   "outputs": [
    {
     "data": {
      "text/plain": [
       "0"
      ]
     },
     "execution_count": 22,
     "metadata": {},
     "output_type": "execute_result"
    }
   ],
   "source": [
    "# Check the result - make sure it's fixed\n",
    "credit_score['days_employed'] = credit_score['days_employed'].abs()\n",
    "credit_score[credit_score['days_employed'] < 0]['days_employed'].count()"
   ]
  },
  {
   "cell_type": "code",
   "execution_count": 23,
   "metadata": {
    "scrolled": true
   },
   "outputs": [
    {
     "name": "stdout",
     "output_type": "stream",
     "text": [
      "[42 36 33 32 53 27 43 50 35 41 40 65 54 56 26 48 24 21 57 67 28 63 62 47\n",
      " 34 68 25 31 30 20 49 37 45 61 64 44 52 46 23 38 39 51  0 59 29 60 55 58\n",
      " 71 22 73 66 69 19 72 70 74 75]\n",
      "\n",
      "0.4692218350754936\n"
     ]
    }
   ],
   "source": [
    "# Check the `dob_years` for suspicious values and count the percentage\n",
    "\n",
    "print(credit_score['dob_years'].unique())\n",
    "print()\n",
    "\n",
    "print(credit_score[credit_score['dob_years'] <= 0].shape[0]/ credit_score.shape[0] * 100)"
   ]
  },
  {
   "cell_type": "markdown",
   "metadata": {},
   "source": [
    "As shown above the data for dob_years ranges from 0 to 75 years. No one can be 0 years old and applying for a loan.The 0 values will be replaced with the median of dob_years."
   ]
  },
  {
   "cell_type": "code",
   "execution_count": 24,
   "metadata": {},
   "outputs": [],
   "source": [
    "# Address the issues in the `dob_years` column, if they exist\n",
    "credit_score.loc[credit_score['dob_years'] == 0, 'dob_years']= credit_score['dob_years'].median()"
   ]
  },
  {
   "cell_type": "code",
   "execution_count": 25,
   "metadata": {},
   "outputs": [
    {
     "data": {
      "text/plain": [
       "array([42., 36., 33., 32., 53., 27., 43., 50., 35., 41., 40., 65., 54.,\n",
       "       56., 26., 48., 24., 21., 57., 67., 28., 63., 62., 47., 34., 68.,\n",
       "       25., 31., 30., 20., 49., 37., 45., 61., 64., 44., 52., 46., 23.,\n",
       "       38., 39., 51., 59., 29., 60., 55., 58., 71., 22., 73., 66., 69.,\n",
       "       19., 72., 70., 74., 75.])"
      ]
     },
     "execution_count": 25,
     "metadata": {},
     "output_type": "execute_result"
    }
   ],
   "source": [
    "# Check the result - make sure it's fixed\n",
    "credit_score['dob_years'].unique()"
   ]
  },
  {
   "cell_type": "code",
   "execution_count": 26,
   "metadata": {},
   "outputs": [
    {
     "data": {
      "text/plain": [
       "array(['married', 'civil partnership', 'widow / widower', 'divorced',\n",
       "       'unmarried'], dtype=object)"
      ]
     },
     "execution_count": 26,
     "metadata": {},
     "output_type": "execute_result"
    }
   ],
   "source": [
    "# Let's see the values for the column\n",
    "credit_score['family_status'].unique()"
   ]
  },
  {
   "cell_type": "markdown",
   "metadata": {},
   "source": [
    "There are no errors in the family_status column."
   ]
  },
  {
   "cell_type": "code",
   "execution_count": 27,
   "metadata": {},
   "outputs": [
    {
     "data": {
      "text/plain": [
       "array(['F', 'M', 'XNA'], dtype=object)"
      ]
     },
     "execution_count": 27,
     "metadata": {},
     "output_type": "execute_result"
    }
   ],
   "source": [
    "# Let's see the values in the column\n",
    "credit_score['gender'].unique()"
   ]
  },
  {
   "cell_type": "code",
   "execution_count": 28,
   "metadata": {
    "scrolled": true
   },
   "outputs": [
    {
     "data": {
      "text/plain": [
       "F      14236\n",
       "M       7288\n",
       "XNA        1\n",
       "Name: gender, dtype: int64"
      ]
     },
     "execution_count": 28,
     "metadata": {},
     "output_type": "execute_result"
    }
   ],
   "source": [
    "credit_score['gender'].value_counts()"
   ]
  },
  {
   "cell_type": "markdown",
   "metadata": {},
   "source": [
    "There is a one unique gender,'XNA', in the data. As there is only one, we can drop it without having any effect on our data."
   ]
  },
  {
   "cell_type": "code",
   "execution_count": 29,
   "metadata": {},
   "outputs": [],
   "source": [
    "# Address the problematic values, if they exist\n",
    "unique_gender = credit_score[(credit_score['gender'] == 'XNA')].index\n",
    "credit_score = credit_score.drop(unique_gender)"
   ]
  },
  {
   "cell_type": "code",
   "execution_count": 30,
   "metadata": {},
   "outputs": [
    {
     "data": {
      "text/plain": [
       "array(['F', 'M'], dtype=object)"
      ]
     },
     "execution_count": 30,
     "metadata": {},
     "output_type": "execute_result"
    }
   ],
   "source": [
    "# Check the result - make sure it's fixed\n",
    "credit_score['gender'].unique()"
   ]
  },
  {
   "cell_type": "code",
   "execution_count": 31,
   "metadata": {},
   "outputs": [
    {
     "data": {
      "text/plain": [
       "employee                       11119\n",
       "business                        5084\n",
       "retiree                         3856\n",
       "civil servant                   1459\n",
       "unemployed                         2\n",
       "entrepreneur                       2\n",
       "student                            1\n",
       "paternity / maternity leave        1\n",
       "Name: income_type, dtype: int64"
      ]
     },
     "execution_count": 31,
     "metadata": {},
     "output_type": "execute_result"
    }
   ],
   "source": [
    "# Let's see the values in the column\n",
    "credit_score['income_type'].value_counts()"
   ]
  },
  {
   "cell_type": "markdown",
   "metadata": {},
   "source": [
    "No erroneous data found in the income_type column."
   ]
  },
  {
   "cell_type": "code",
   "execution_count": 34,
   "metadata": {},
   "outputs": [
    {
     "data": {
      "text/plain": [
       "72"
      ]
     },
     "execution_count": 34,
     "metadata": {},
     "output_type": "execute_result"
    }
   ],
   "source": [
    "# Checking duplicates\n",
    "credit_score.duplicated().sum()"
   ]
  },
  {
   "cell_type": "markdown",
   "metadata": {},
   "source": [
    "There are 72 duplicates in the column that will be dropped."
   ]
  },
  {
   "cell_type": "code",
   "execution_count": 35,
   "metadata": {},
   "outputs": [],
   "source": [
    "# Address the duplicates, if they exist\n",
    "credit_score = credit_score.drop_duplicates().reset_index(drop=True)"
   ]
  },
  {
   "cell_type": "code",
   "execution_count": 36,
   "metadata": {},
   "outputs": [
    {
     "data": {
      "text/plain": [
       "0"
      ]
     },
     "execution_count": 36,
     "metadata": {},
     "output_type": "execute_result"
    }
   ],
   "source": [
    "# Last check whether we have any duplicates\n",
    "credit_score.duplicated().sum()"
   ]
  },
  {
   "cell_type": "code",
   "execution_count": 37,
   "metadata": {},
   "outputs": [
    {
     "data": {
      "text/plain": [
       "(21452, 12)"
      ]
     },
     "execution_count": 37,
     "metadata": {},
     "output_type": "execute_result"
    }
   ],
   "source": [
    "# Check the size of the dataset that you now have after your first manipulations with it\n",
    "credit_score.shape"
   ]
  },
  {
   "cell_type": "code",
   "execution_count": 38,
   "metadata": {},
   "outputs": [
    {
     "name": "stdout",
     "output_type": "stream",
     "text": [
      "The percent of rows removed from the dataset is 0.34%\n"
     ]
    }
   ],
   "source": [
    "percent_removed = (21525-21452)/21525\n",
    "print(f'The percent of rows removed from the dataset is {percent_removed:.2%}')"
   ]
  },
  {
   "cell_type": "markdown",
   "metadata": {},
   "source": [
    "34% of the data has now been removed and have 21452 rows in our data."
   ]
  },
  {
   "cell_type": "markdown",
   "metadata": {},
   "source": [
    "# Working with missing values"
   ]
  },
  {
   "cell_type": "code",
   "execution_count": 39,
   "metadata": {},
   "outputs": [
    {
     "data": {
      "text/plain": [
       "{0: 1, 1: 0, 2: 4, 3: 1, 4: 3}"
      ]
     },
     "execution_count": 39,
     "metadata": {},
     "output_type": "execute_result"
    }
   ],
   "source": [
    "# Find the dictionaries\n",
    "dict(zip(credit_score['education_id'], credit_score['family_status_id']))"
   ]
  },
  {
   "cell_type": "markdown",
   "metadata": {},
   "source": [
    "### Restoring missing values in `total_income`"
   ]
  },
  {
   "cell_type": "code",
   "execution_count": 40,
   "metadata": {},
   "outputs": [],
   "source": [
    "# Let's write a function that calculates the age category\n",
    "def age_group(age):\n",
    "    if age <= 30:\n",
    "        return 'young adult'\n",
    "    if age <=64:\n",
    "        return 'adult'\n",
    "    return 'retired'\n",
    "    "
   ]
  },
  {
   "cell_type": "code",
   "execution_count": 41,
   "metadata": {},
   "outputs": [
    {
     "name": "stdout",
     "output_type": "stream",
     "text": [
      "young adult\n",
      "retired\n",
      "adult\n"
     ]
    }
   ],
   "source": [
    "# Test if the function works\n",
    "print(age_group(27))\n",
    "print(age_group(71))\n",
    "print(age_group(55))"
   ]
  },
  {
   "cell_type": "code",
   "execution_count": 42,
   "metadata": {},
   "outputs": [
    {
     "data": {
      "text/html": [
       "<div>\n",
       "<style scoped>\n",
       "    .dataframe tbody tr th:only-of-type {\n",
       "        vertical-align: middle;\n",
       "    }\n",
       "\n",
       "    .dataframe tbody tr th {\n",
       "        vertical-align: top;\n",
       "    }\n",
       "\n",
       "    .dataframe thead th {\n",
       "        text-align: right;\n",
       "    }\n",
       "</style>\n",
       "<table border=\"1\" class=\"dataframe\">\n",
       "  <thead>\n",
       "    <tr style=\"text-align: right;\">\n",
       "      <th></th>\n",
       "      <th>children</th>\n",
       "      <th>days_employed</th>\n",
       "      <th>dob_years</th>\n",
       "      <th>education</th>\n",
       "      <th>education_id</th>\n",
       "      <th>family_status</th>\n",
       "      <th>family_status_id</th>\n",
       "      <th>gender</th>\n",
       "      <th>income_type</th>\n",
       "      <th>debt</th>\n",
       "      <th>total_income</th>\n",
       "      <th>purpose</th>\n",
       "      <th>age_group</th>\n",
       "    </tr>\n",
       "  </thead>\n",
       "  <tbody>\n",
       "    <tr>\n",
       "      <th>0</th>\n",
       "      <td>1</td>\n",
       "      <td>8437.673028</td>\n",
       "      <td>42.0</td>\n",
       "      <td>bachelor's degree</td>\n",
       "      <td>0</td>\n",
       "      <td>married</td>\n",
       "      <td>0</td>\n",
       "      <td>F</td>\n",
       "      <td>employee</td>\n",
       "      <td>0</td>\n",
       "      <td>40620.102</td>\n",
       "      <td>purchase of the house</td>\n",
       "      <td>adult</td>\n",
       "    </tr>\n",
       "    <tr>\n",
       "      <th>1</th>\n",
       "      <td>1</td>\n",
       "      <td>4024.803754</td>\n",
       "      <td>36.0</td>\n",
       "      <td>secondary education</td>\n",
       "      <td>1</td>\n",
       "      <td>married</td>\n",
       "      <td>0</td>\n",
       "      <td>F</td>\n",
       "      <td>employee</td>\n",
       "      <td>0</td>\n",
       "      <td>17932.802</td>\n",
       "      <td>car purchase</td>\n",
       "      <td>adult</td>\n",
       "    </tr>\n",
       "    <tr>\n",
       "      <th>2</th>\n",
       "      <td>0</td>\n",
       "      <td>5623.422610</td>\n",
       "      <td>33.0</td>\n",
       "      <td>secondary education</td>\n",
       "      <td>1</td>\n",
       "      <td>married</td>\n",
       "      <td>0</td>\n",
       "      <td>M</td>\n",
       "      <td>employee</td>\n",
       "      <td>0</td>\n",
       "      <td>23341.752</td>\n",
       "      <td>purchase of the house</td>\n",
       "      <td>adult</td>\n",
       "    </tr>\n",
       "    <tr>\n",
       "      <th>3</th>\n",
       "      <td>3</td>\n",
       "      <td>4124.747207</td>\n",
       "      <td>32.0</td>\n",
       "      <td>secondary education</td>\n",
       "      <td>1</td>\n",
       "      <td>married</td>\n",
       "      <td>0</td>\n",
       "      <td>M</td>\n",
       "      <td>employee</td>\n",
       "      <td>0</td>\n",
       "      <td>42820.568</td>\n",
       "      <td>supplementary education</td>\n",
       "      <td>adult</td>\n",
       "    </tr>\n",
       "    <tr>\n",
       "      <th>4</th>\n",
       "      <td>0</td>\n",
       "      <td>340266.072047</td>\n",
       "      <td>53.0</td>\n",
       "      <td>secondary education</td>\n",
       "      <td>1</td>\n",
       "      <td>civil partnership</td>\n",
       "      <td>1</td>\n",
       "      <td>F</td>\n",
       "      <td>retiree</td>\n",
       "      <td>0</td>\n",
       "      <td>25378.572</td>\n",
       "      <td>to have a wedding</td>\n",
       "      <td>adult</td>\n",
       "    </tr>\n",
       "  </tbody>\n",
       "</table>\n",
       "</div>"
      ],
      "text/plain": [
       "   children  days_employed  dob_years            education  education_id  \\\n",
       "0         1    8437.673028       42.0    bachelor's degree             0   \n",
       "1         1    4024.803754       36.0  secondary education             1   \n",
       "2         0    5623.422610       33.0  secondary education             1   \n",
       "3         3    4124.747207       32.0  secondary education             1   \n",
       "4         0  340266.072047       53.0  secondary education             1   \n",
       "\n",
       "       family_status  family_status_id gender income_type  debt  total_income  \\\n",
       "0            married                 0      F    employee     0     40620.102   \n",
       "1            married                 0      F    employee     0     17932.802   \n",
       "2            married                 0      M    employee     0     23341.752   \n",
       "3            married                 0      M    employee     0     42820.568   \n",
       "4  civil partnership                 1      F     retiree     0     25378.572   \n",
       "\n",
       "                   purpose age_group  \n",
       "0    purchase of the house     adult  \n",
       "1             car purchase     adult  \n",
       "2    purchase of the house     adult  \n",
       "3  supplementary education     adult  \n",
       "4        to have a wedding     adult  "
      ]
     },
     "execution_count": 42,
     "metadata": {},
     "output_type": "execute_result"
    }
   ],
   "source": [
    "# Creating new column based on function\n",
    "credit_score['age_group'] = credit_score['dob_years'].apply(age_group)\n",
    "credit_score.head(5)"
   ]
  },
  {
   "cell_type": "code",
   "execution_count": 43,
   "metadata": {},
   "outputs": [
    {
     "data": {
      "text/plain": [
       "0          adult\n",
       "1          adult\n",
       "2          adult\n",
       "3          adult\n",
       "4          adult\n",
       "          ...   \n",
       "21447      adult\n",
       "21448    retired\n",
       "21449      adult\n",
       "21450      adult\n",
       "21451      adult\n",
       "Name: age_group, Length: 21452, dtype: object"
      ]
     },
     "execution_count": 43,
     "metadata": {},
     "output_type": "execute_result"
    }
   ],
   "source": [
    "# Checking how values in the new column\n",
    "\n",
    "credit_score['age_group']"
   ]
  },
  {
   "cell_type": "code",
   "execution_count": 44,
   "metadata": {},
   "outputs": [
    {
     "data": {
      "text/html": [
       "<div>\n",
       "<style scoped>\n",
       "    .dataframe tbody tr th:only-of-type {\n",
       "        vertical-align: middle;\n",
       "    }\n",
       "\n",
       "    .dataframe tbody tr th {\n",
       "        vertical-align: top;\n",
       "    }\n",
       "\n",
       "    .dataframe thead th {\n",
       "        text-align: right;\n",
       "    }\n",
       "</style>\n",
       "<table border=\"1\" class=\"dataframe\">\n",
       "  <thead>\n",
       "    <tr style=\"text-align: right;\">\n",
       "      <th></th>\n",
       "      <th>children</th>\n",
       "      <th>days_employed</th>\n",
       "      <th>dob_years</th>\n",
       "      <th>education</th>\n",
       "      <th>education_id</th>\n",
       "      <th>family_status</th>\n",
       "      <th>family_status_id</th>\n",
       "      <th>gender</th>\n",
       "      <th>income_type</th>\n",
       "      <th>debt</th>\n",
       "      <th>total_income</th>\n",
       "      <th>purpose</th>\n",
       "      <th>age_group</th>\n",
       "    </tr>\n",
       "  </thead>\n",
       "  <tbody>\n",
       "    <tr>\n",
       "      <th>0</th>\n",
       "      <td>1</td>\n",
       "      <td>8437.673028</td>\n",
       "      <td>42.0</td>\n",
       "      <td>bachelor's degree</td>\n",
       "      <td>0</td>\n",
       "      <td>married</td>\n",
       "      <td>0</td>\n",
       "      <td>F</td>\n",
       "      <td>employee</td>\n",
       "      <td>0</td>\n",
       "      <td>40620.102</td>\n",
       "      <td>purchase of the house</td>\n",
       "      <td>adult</td>\n",
       "    </tr>\n",
       "    <tr>\n",
       "      <th>1</th>\n",
       "      <td>1</td>\n",
       "      <td>4024.803754</td>\n",
       "      <td>36.0</td>\n",
       "      <td>secondary education</td>\n",
       "      <td>1</td>\n",
       "      <td>married</td>\n",
       "      <td>0</td>\n",
       "      <td>F</td>\n",
       "      <td>employee</td>\n",
       "      <td>0</td>\n",
       "      <td>17932.802</td>\n",
       "      <td>car purchase</td>\n",
       "      <td>adult</td>\n",
       "    </tr>\n",
       "    <tr>\n",
       "      <th>2</th>\n",
       "      <td>0</td>\n",
       "      <td>5623.422610</td>\n",
       "      <td>33.0</td>\n",
       "      <td>secondary education</td>\n",
       "      <td>1</td>\n",
       "      <td>married</td>\n",
       "      <td>0</td>\n",
       "      <td>M</td>\n",
       "      <td>employee</td>\n",
       "      <td>0</td>\n",
       "      <td>23341.752</td>\n",
       "      <td>purchase of the house</td>\n",
       "      <td>adult</td>\n",
       "    </tr>\n",
       "    <tr>\n",
       "      <th>3</th>\n",
       "      <td>3</td>\n",
       "      <td>4124.747207</td>\n",
       "      <td>32.0</td>\n",
       "      <td>secondary education</td>\n",
       "      <td>1</td>\n",
       "      <td>married</td>\n",
       "      <td>0</td>\n",
       "      <td>M</td>\n",
       "      <td>employee</td>\n",
       "      <td>0</td>\n",
       "      <td>42820.568</td>\n",
       "      <td>supplementary education</td>\n",
       "      <td>adult</td>\n",
       "    </tr>\n",
       "    <tr>\n",
       "      <th>4</th>\n",
       "      <td>0</td>\n",
       "      <td>340266.072047</td>\n",
       "      <td>53.0</td>\n",
       "      <td>secondary education</td>\n",
       "      <td>1</td>\n",
       "      <td>civil partnership</td>\n",
       "      <td>1</td>\n",
       "      <td>F</td>\n",
       "      <td>retiree</td>\n",
       "      <td>0</td>\n",
       "      <td>25378.572</td>\n",
       "      <td>to have a wedding</td>\n",
       "      <td>adult</td>\n",
       "    </tr>\n",
       "    <tr>\n",
       "      <th>5</th>\n",
       "      <td>0</td>\n",
       "      <td>926.185831</td>\n",
       "      <td>27.0</td>\n",
       "      <td>bachelor's degree</td>\n",
       "      <td>0</td>\n",
       "      <td>civil partnership</td>\n",
       "      <td>1</td>\n",
       "      <td>M</td>\n",
       "      <td>business</td>\n",
       "      <td>0</td>\n",
       "      <td>40922.170</td>\n",
       "      <td>purchase of the house</td>\n",
       "      <td>young adult</td>\n",
       "    </tr>\n",
       "    <tr>\n",
       "      <th>6</th>\n",
       "      <td>0</td>\n",
       "      <td>2879.202052</td>\n",
       "      <td>43.0</td>\n",
       "      <td>bachelor's degree</td>\n",
       "      <td>0</td>\n",
       "      <td>married</td>\n",
       "      <td>0</td>\n",
       "      <td>F</td>\n",
       "      <td>business</td>\n",
       "      <td>0</td>\n",
       "      <td>38484.156</td>\n",
       "      <td>housing transactions</td>\n",
       "      <td>adult</td>\n",
       "    </tr>\n",
       "    <tr>\n",
       "      <th>7</th>\n",
       "      <td>0</td>\n",
       "      <td>152.779569</td>\n",
       "      <td>50.0</td>\n",
       "      <td>secondary education</td>\n",
       "      <td>1</td>\n",
       "      <td>married</td>\n",
       "      <td>0</td>\n",
       "      <td>M</td>\n",
       "      <td>employee</td>\n",
       "      <td>0</td>\n",
       "      <td>21731.829</td>\n",
       "      <td>education</td>\n",
       "      <td>adult</td>\n",
       "    </tr>\n",
       "    <tr>\n",
       "      <th>8</th>\n",
       "      <td>2</td>\n",
       "      <td>6929.865299</td>\n",
       "      <td>35.0</td>\n",
       "      <td>bachelor's degree</td>\n",
       "      <td>0</td>\n",
       "      <td>civil partnership</td>\n",
       "      <td>1</td>\n",
       "      <td>F</td>\n",
       "      <td>employee</td>\n",
       "      <td>0</td>\n",
       "      <td>15337.093</td>\n",
       "      <td>having a wedding</td>\n",
       "      <td>adult</td>\n",
       "    </tr>\n",
       "    <tr>\n",
       "      <th>9</th>\n",
       "      <td>0</td>\n",
       "      <td>2188.756445</td>\n",
       "      <td>41.0</td>\n",
       "      <td>secondary education</td>\n",
       "      <td>1</td>\n",
       "      <td>married</td>\n",
       "      <td>0</td>\n",
       "      <td>M</td>\n",
       "      <td>employee</td>\n",
       "      <td>0</td>\n",
       "      <td>23108.150</td>\n",
       "      <td>purchase of the house for my family</td>\n",
       "      <td>adult</td>\n",
       "    </tr>\n",
       "    <tr>\n",
       "      <th>10</th>\n",
       "      <td>2</td>\n",
       "      <td>4171.483647</td>\n",
       "      <td>36.0</td>\n",
       "      <td>bachelor's degree</td>\n",
       "      <td>0</td>\n",
       "      <td>married</td>\n",
       "      <td>0</td>\n",
       "      <td>M</td>\n",
       "      <td>business</td>\n",
       "      <td>0</td>\n",
       "      <td>18230.959</td>\n",
       "      <td>buy real estate</td>\n",
       "      <td>adult</td>\n",
       "    </tr>\n",
       "    <tr>\n",
       "      <th>11</th>\n",
       "      <td>0</td>\n",
       "      <td>792.701887</td>\n",
       "      <td>40.0</td>\n",
       "      <td>secondary education</td>\n",
       "      <td>1</td>\n",
       "      <td>married</td>\n",
       "      <td>0</td>\n",
       "      <td>F</td>\n",
       "      <td>employee</td>\n",
       "      <td>0</td>\n",
       "      <td>12331.077</td>\n",
       "      <td>buy commercial real estate</td>\n",
       "      <td>adult</td>\n",
       "    </tr>\n",
       "    <tr>\n",
       "      <th>12</th>\n",
       "      <td>0</td>\n",
       "      <td>1846.641941</td>\n",
       "      <td>54.0</td>\n",
       "      <td>some college</td>\n",
       "      <td>2</td>\n",
       "      <td>married</td>\n",
       "      <td>0</td>\n",
       "      <td>F</td>\n",
       "      <td>employee</td>\n",
       "      <td>0</td>\n",
       "      <td>20873.317</td>\n",
       "      <td>car purchase</td>\n",
       "      <td>adult</td>\n",
       "    </tr>\n",
       "    <tr>\n",
       "      <th>13</th>\n",
       "      <td>0</td>\n",
       "      <td>1844.956182</td>\n",
       "      <td>56.0</td>\n",
       "      <td>bachelor's degree</td>\n",
       "      <td>0</td>\n",
       "      <td>civil partnership</td>\n",
       "      <td>1</td>\n",
       "      <td>F</td>\n",
       "      <td>business</td>\n",
       "      <td>1</td>\n",
       "      <td>26420.466</td>\n",
       "      <td>buy residential real estate</td>\n",
       "      <td>adult</td>\n",
       "    </tr>\n",
       "    <tr>\n",
       "      <th>14</th>\n",
       "      <td>1</td>\n",
       "      <td>972.364419</td>\n",
       "      <td>26.0</td>\n",
       "      <td>secondary education</td>\n",
       "      <td>1</td>\n",
       "      <td>married</td>\n",
       "      <td>0</td>\n",
       "      <td>F</td>\n",
       "      <td>employee</td>\n",
       "      <td>0</td>\n",
       "      <td>18691.345</td>\n",
       "      <td>construction of own property</td>\n",
       "      <td>young adult</td>\n",
       "    </tr>\n",
       "  </tbody>\n",
       "</table>\n",
       "</div>"
      ],
      "text/plain": [
       "    children  days_employed  dob_years            education  education_id  \\\n",
       "0          1    8437.673028       42.0    bachelor's degree             0   \n",
       "1          1    4024.803754       36.0  secondary education             1   \n",
       "2          0    5623.422610       33.0  secondary education             1   \n",
       "3          3    4124.747207       32.0  secondary education             1   \n",
       "4          0  340266.072047       53.0  secondary education             1   \n",
       "5          0     926.185831       27.0    bachelor's degree             0   \n",
       "6          0    2879.202052       43.0    bachelor's degree             0   \n",
       "7          0     152.779569       50.0  secondary education             1   \n",
       "8          2    6929.865299       35.0    bachelor's degree             0   \n",
       "9          0    2188.756445       41.0  secondary education             1   \n",
       "10         2    4171.483647       36.0    bachelor's degree             0   \n",
       "11         0     792.701887       40.0  secondary education             1   \n",
       "12         0    1846.641941       54.0         some college             2   \n",
       "13         0    1844.956182       56.0    bachelor's degree             0   \n",
       "14         1     972.364419       26.0  secondary education             1   \n",
       "\n",
       "        family_status  family_status_id gender income_type  debt  \\\n",
       "0             married                 0      F    employee     0   \n",
       "1             married                 0      F    employee     0   \n",
       "2             married                 0      M    employee     0   \n",
       "3             married                 0      M    employee     0   \n",
       "4   civil partnership                 1      F     retiree     0   \n",
       "5   civil partnership                 1      M    business     0   \n",
       "6             married                 0      F    business     0   \n",
       "7             married                 0      M    employee     0   \n",
       "8   civil partnership                 1      F    employee     0   \n",
       "9             married                 0      M    employee     0   \n",
       "10            married                 0      M    business     0   \n",
       "11            married                 0      F    employee     0   \n",
       "12            married                 0      F    employee     0   \n",
       "13  civil partnership                 1      F    business     1   \n",
       "14            married                 0      F    employee     0   \n",
       "\n",
       "    total_income                              purpose    age_group  \n",
       "0      40620.102                purchase of the house        adult  \n",
       "1      17932.802                         car purchase        adult  \n",
       "2      23341.752                purchase of the house        adult  \n",
       "3      42820.568              supplementary education        adult  \n",
       "4      25378.572                    to have a wedding        adult  \n",
       "5      40922.170                purchase of the house  young adult  \n",
       "6      38484.156                 housing transactions        adult  \n",
       "7      21731.829                            education        adult  \n",
       "8      15337.093                     having a wedding        adult  \n",
       "9      23108.150  purchase of the house for my family        adult  \n",
       "10     18230.959                      buy real estate        adult  \n",
       "11     12331.077           buy commercial real estate        adult  \n",
       "12     20873.317                         car purchase        adult  \n",
       "13     26420.466          buy residential real estate        adult  \n",
       "14     18691.345         construction of own property  young adult  "
      ]
     },
     "execution_count": 44,
     "metadata": {},
     "output_type": "execute_result"
    }
   ],
   "source": [
    "# Create a table without missing values and print a few of its rows to make sure it looks fine\n",
    "credit_score_not_missing = credit_score.dropna(axis='rows').reset_index(drop=True)\n",
    "credit_score_not_missing.head(15)"
   ]
  },
  {
   "cell_type": "code",
   "execution_count": 45,
   "metadata": {},
   "outputs": [
    {
     "data": {
      "text/html": [
       "<div>\n",
       "<style scoped>\n",
       "    .dataframe tbody tr th:only-of-type {\n",
       "        vertical-align: middle;\n",
       "    }\n",
       "\n",
       "    .dataframe tbody tr th {\n",
       "        vertical-align: top;\n",
       "    }\n",
       "\n",
       "    .dataframe thead th {\n",
       "        text-align: right;\n",
       "    }\n",
       "</style>\n",
       "<table border=\"1\" class=\"dataframe\">\n",
       "  <thead>\n",
       "    <tr style=\"text-align: right;\">\n",
       "      <th></th>\n",
       "      <th>total_income</th>\n",
       "    </tr>\n",
       "    <tr>\n",
       "      <th>age_group</th>\n",
       "      <th></th>\n",
       "    </tr>\n",
       "  </thead>\n",
       "  <tbody>\n",
       "    <tr>\n",
       "      <th>adult</th>\n",
       "      <td>27285.689569</td>\n",
       "    </tr>\n",
       "    <tr>\n",
       "      <th>retired</th>\n",
       "      <td>21542.650450</td>\n",
       "    </tr>\n",
       "    <tr>\n",
       "      <th>young adult</th>\n",
       "      <td>25815.651899</td>\n",
       "    </tr>\n",
       "  </tbody>\n",
       "</table>\n",
       "</div>"
      ],
      "text/plain": [
       "             total_income\n",
       "age_group                \n",
       "adult        27285.689569\n",
       "retired      21542.650450\n",
       "young adult  25815.651899"
      ]
     },
     "execution_count": 45,
     "metadata": {},
     "output_type": "execute_result"
    }
   ],
   "source": [
    "# Look at the mean values for income based on your identified factors\n",
    "credit_score.pivot_table(index='age_group', values='total_income',aggfunc='mean')"
   ]
  },
  {
   "cell_type": "code",
   "execution_count": 46,
   "metadata": {
    "scrolled": true
   },
   "outputs": [
    {
     "data": {
      "text/html": [
       "<div>\n",
       "<style scoped>\n",
       "    .dataframe tbody tr th:only-of-type {\n",
       "        vertical-align: middle;\n",
       "    }\n",
       "\n",
       "    .dataframe tbody tr th {\n",
       "        vertical-align: top;\n",
       "    }\n",
       "\n",
       "    .dataframe thead th {\n",
       "        text-align: right;\n",
       "    }\n",
       "</style>\n",
       "<table border=\"1\" class=\"dataframe\">\n",
       "  <thead>\n",
       "    <tr style=\"text-align: right;\">\n",
       "      <th></th>\n",
       "      <th>total_income</th>\n",
       "    </tr>\n",
       "    <tr>\n",
       "      <th>age_group</th>\n",
       "      <th></th>\n",
       "    </tr>\n",
       "  </thead>\n",
       "  <tbody>\n",
       "    <tr>\n",
       "      <th>adult</th>\n",
       "      <td>23546.495</td>\n",
       "    </tr>\n",
       "    <tr>\n",
       "      <th>retired</th>\n",
       "      <td>18471.391</td>\n",
       "    </tr>\n",
       "    <tr>\n",
       "      <th>young adult</th>\n",
       "      <td>22955.474</td>\n",
       "    </tr>\n",
       "  </tbody>\n",
       "</table>\n",
       "</div>"
      ],
      "text/plain": [
       "             total_income\n",
       "age_group                \n",
       "adult           23546.495\n",
       "retired         18471.391\n",
       "young adult     22955.474"
      ]
     },
     "execution_count": 46,
     "metadata": {},
     "output_type": "execute_result"
    }
   ],
   "source": [
    "# Look at the median values for income based on your identified factors\n",
    "credit_score.pivot_table(index='age_group', values='total_income',aggfunc='median')"
   ]
  },
  {
   "cell_type": "code",
   "execution_count": 47,
   "metadata": {},
   "outputs": [
    {
     "data": {
      "text/html": [
       "<div>\n",
       "<style scoped>\n",
       "    .dataframe tbody tr th:only-of-type {\n",
       "        vertical-align: middle;\n",
       "    }\n",
       "\n",
       "    .dataframe tbody tr th {\n",
       "        vertical-align: top;\n",
       "    }\n",
       "\n",
       "    .dataframe thead th {\n",
       "        text-align: right;\n",
       "    }\n",
       "</style>\n",
       "<table border=\"1\" class=\"dataframe\">\n",
       "  <thead>\n",
       "    <tr style=\"text-align: right;\">\n",
       "      <th></th>\n",
       "      <th>total_income</th>\n",
       "    </tr>\n",
       "    <tr>\n",
       "      <th>income_type</th>\n",
       "      <th></th>\n",
       "    </tr>\n",
       "  </thead>\n",
       "  <tbody>\n",
       "    <tr>\n",
       "      <th>business</th>\n",
       "      <td>32386.741818</td>\n",
       "    </tr>\n",
       "    <tr>\n",
       "      <th>civil servant</th>\n",
       "      <td>27343.729582</td>\n",
       "    </tr>\n",
       "    <tr>\n",
       "      <th>employee</th>\n",
       "      <td>25820.841683</td>\n",
       "    </tr>\n",
       "    <tr>\n",
       "      <th>entrepreneur</th>\n",
       "      <td>79866.103000</td>\n",
       "    </tr>\n",
       "    <tr>\n",
       "      <th>paternity / maternity leave</th>\n",
       "      <td>8612.661000</td>\n",
       "    </tr>\n",
       "    <tr>\n",
       "      <th>retiree</th>\n",
       "      <td>21940.394503</td>\n",
       "    </tr>\n",
       "    <tr>\n",
       "      <th>student</th>\n",
       "      <td>15712.260000</td>\n",
       "    </tr>\n",
       "    <tr>\n",
       "      <th>unemployed</th>\n",
       "      <td>21014.360500</td>\n",
       "    </tr>\n",
       "  </tbody>\n",
       "</table>\n",
       "</div>"
      ],
      "text/plain": [
       "                             total_income\n",
       "income_type                              \n",
       "business                     32386.741818\n",
       "civil servant                27343.729582\n",
       "employee                     25820.841683\n",
       "entrepreneur                 79866.103000\n",
       "paternity / maternity leave   8612.661000\n",
       "retiree                      21940.394503\n",
       "student                      15712.260000\n",
       "unemployed                   21014.360500"
      ]
     },
     "execution_count": 47,
     "metadata": {},
     "output_type": "execute_result"
    }
   ],
   "source": [
    "credit_score.pivot_table(index='income_type', values='total_income',aggfunc='mean')"
   ]
  },
  {
   "cell_type": "code",
   "execution_count": 48,
   "metadata": {},
   "outputs": [
    {
     "data": {
      "text/html": [
       "<div>\n",
       "<style scoped>\n",
       "    .dataframe tbody tr th:only-of-type {\n",
       "        vertical-align: middle;\n",
       "    }\n",
       "\n",
       "    .dataframe tbody tr th {\n",
       "        vertical-align: top;\n",
       "    }\n",
       "\n",
       "    .dataframe thead th {\n",
       "        text-align: right;\n",
       "    }\n",
       "</style>\n",
       "<table border=\"1\" class=\"dataframe\">\n",
       "  <thead>\n",
       "    <tr style=\"text-align: right;\">\n",
       "      <th></th>\n",
       "      <th>total_income</th>\n",
       "    </tr>\n",
       "    <tr>\n",
       "      <th>income_type</th>\n",
       "      <th></th>\n",
       "    </tr>\n",
       "  </thead>\n",
       "  <tbody>\n",
       "    <tr>\n",
       "      <th>business</th>\n",
       "      <td>27571.0825</td>\n",
       "    </tr>\n",
       "    <tr>\n",
       "      <th>civil servant</th>\n",
       "      <td>24071.6695</td>\n",
       "    </tr>\n",
       "    <tr>\n",
       "      <th>employee</th>\n",
       "      <td>22815.1035</td>\n",
       "    </tr>\n",
       "    <tr>\n",
       "      <th>entrepreneur</th>\n",
       "      <td>79866.1030</td>\n",
       "    </tr>\n",
       "    <tr>\n",
       "      <th>paternity / maternity leave</th>\n",
       "      <td>8612.6610</td>\n",
       "    </tr>\n",
       "    <tr>\n",
       "      <th>retiree</th>\n",
       "      <td>18962.3180</td>\n",
       "    </tr>\n",
       "    <tr>\n",
       "      <th>student</th>\n",
       "      <td>15712.2600</td>\n",
       "    </tr>\n",
       "    <tr>\n",
       "      <th>unemployed</th>\n",
       "      <td>21014.3605</td>\n",
       "    </tr>\n",
       "  </tbody>\n",
       "</table>\n",
       "</div>"
      ],
      "text/plain": [
       "                             total_income\n",
       "income_type                              \n",
       "business                       27571.0825\n",
       "civil servant                  24071.6695\n",
       "employee                       22815.1035\n",
       "entrepreneur                   79866.1030\n",
       "paternity / maternity leave     8612.6610\n",
       "retiree                        18962.3180\n",
       "student                        15712.2600\n",
       "unemployed                     21014.3605"
      ]
     },
     "execution_count": 48,
     "metadata": {},
     "output_type": "execute_result"
    }
   ],
   "source": [
    "credit_score.pivot_table(index='income_type', values='total_income',aggfunc='median')"
   ]
  },
  {
   "cell_type": "markdown",
   "metadata": {},
   "source": [
    "Missing values in total_income could be due to many factors. It can be due to to clients age, education level, gender, income type and family size. Above we created age categories but I think it makes more sense to fill the missing values by income type instead and using the median for each income type.\n"
   ]
  },
  {
   "cell_type": "code",
   "execution_count": 49,
   "metadata": {},
   "outputs": [],
   "source": [
    "#  Write a function that we will use for filling in missing values\n",
    "        \n",
    "def fill_total_income(income_type):\n",
    "    \n",
    "    if income_type == 'business':\n",
    "        return 27571.0825\n",
    "    if income_type == 'civil servant':\n",
    "        return 24071.6695\n",
    "    if income_type == 'employee':\n",
    "        return 22815.1035\n",
    "    if income_type == 'entrepreneur':\n",
    "        return 79866.1030\n",
    "    if income_type == 'paternity / maternity leave':\n",
    "        return 8612.6610\n",
    "    if income_type == 'retiree':\n",
    "        return 18962.3180\n",
    "    if income_type == 'student':\n",
    "        return 15712.2600\n",
    "    return 21014.3605\n",
    "    "
   ]
  },
  {
   "cell_type": "code",
   "execution_count": 50,
   "metadata": {},
   "outputs": [
    {
     "name": "stdout",
     "output_type": "stream",
     "text": [
      "27571.0825\n",
      "24071.6695\n",
      "22815.1035\n",
      "8612.661\n",
      "18962.318\n",
      "21014.3605\n",
      "15712.26\n",
      "79866.103\n"
     ]
    }
   ],
   "source": [
    "# Check if it works\n",
    "print(fill_total_income('business'))\n",
    "print(fill_total_income('civil servant'))\n",
    "print(fill_total_income('employee'))\n",
    "print(fill_total_income('paternity / maternity leave'))\n",
    "print(fill_total_income('retiree'))\n",
    "print(fill_total_income('unemployed'))\n",
    "print(fill_total_income('student'))\n",
    "print(fill_total_income('entrepreneur'))"
   ]
  },
  {
   "cell_type": "code",
   "execution_count": 51,
   "metadata": {},
   "outputs": [],
   "source": [
    "# Apply it to every row\n",
    "missing_total_income = credit_score['total_income'].isnull()\n",
    "credit_score.loc[missing_total_income,'total_income'] = credit_score.loc[missing_total_income, 'income_type'].apply(fill_total_income)"
   ]
  },
  {
   "cell_type": "code",
   "execution_count": 52,
   "metadata": {},
   "outputs": [
    {
     "data": {
      "text/plain": [
       "0"
      ]
     },
     "execution_count": 52,
     "metadata": {},
     "output_type": "execute_result"
    }
   ],
   "source": [
    "# Check if we got any errors\n",
    "credit_score['total_income'].isna().sum()"
   ]
  },
  {
   "cell_type": "code",
   "execution_count": 54,
   "metadata": {},
   "outputs": [
    {
     "data": {
      "text/plain": [
       "21452"
      ]
     },
     "execution_count": 54,
     "metadata": {},
     "output_type": "execute_result"
    }
   ],
   "source": [
    "# Checking the number of entries in the columns\n",
    "\n",
    "len(credit_score['total_income'])"
   ]
  },
  {
   "cell_type": "markdown",
   "metadata": {},
   "source": [
    "###  Restoring values in `days_employed`"
   ]
  },
  {
   "cell_type": "code",
   "execution_count": 55,
   "metadata": {
    "pycharm": {
     "name": "#%%\n"
    }
   },
   "outputs": [
    {
     "data": {
      "text/html": [
       "<div>\n",
       "<style scoped>\n",
       "    .dataframe tbody tr th:only-of-type {\n",
       "        vertical-align: middle;\n",
       "    }\n",
       "\n",
       "    .dataframe tbody tr th {\n",
       "        vertical-align: top;\n",
       "    }\n",
       "\n",
       "    .dataframe thead th {\n",
       "        text-align: right;\n",
       "    }\n",
       "</style>\n",
       "<table border=\"1\" class=\"dataframe\">\n",
       "  <thead>\n",
       "    <tr style=\"text-align: right;\">\n",
       "      <th></th>\n",
       "      <th>days_employed</th>\n",
       "    </tr>\n",
       "    <tr>\n",
       "      <th>age_group</th>\n",
       "      <th></th>\n",
       "    </tr>\n",
       "  </thead>\n",
       "  <tbody>\n",
       "    <tr>\n",
       "      <th>adult</th>\n",
       "      <td>2547.442796</td>\n",
       "    </tr>\n",
       "    <tr>\n",
       "      <th>retired</th>\n",
       "      <td>360304.232308</td>\n",
       "    </tr>\n",
       "    <tr>\n",
       "      <th>young adult</th>\n",
       "      <td>1045.752744</td>\n",
       "    </tr>\n",
       "  </tbody>\n",
       "</table>\n",
       "</div>"
      ],
      "text/plain": [
       "             days_employed\n",
       "age_group                 \n",
       "adult          2547.442796\n",
       "retired      360304.232308\n",
       "young adult    1045.752744"
      ]
     },
     "execution_count": 55,
     "metadata": {},
     "output_type": "execute_result"
    }
   ],
   "source": [
    "# Distribution of `days_employed` medians based on your identified parameters\n",
    "\n",
    "credit_score.pivot_table(index='age_group', values='days_employed',aggfunc='median')\n"
   ]
  },
  {
   "cell_type": "code",
   "execution_count": 56,
   "metadata": {},
   "outputs": [
    {
     "data": {
      "text/html": [
       "<div>\n",
       "<style scoped>\n",
       "    .dataframe tbody tr th:only-of-type {\n",
       "        vertical-align: middle;\n",
       "    }\n",
       "\n",
       "    .dataframe tbody tr th {\n",
       "        vertical-align: top;\n",
       "    }\n",
       "\n",
       "    .dataframe thead th {\n",
       "        text-align: right;\n",
       "    }\n",
       "</style>\n",
       "<table border=\"1\" class=\"dataframe\">\n",
       "  <thead>\n",
       "    <tr style=\"text-align: right;\">\n",
       "      <th></th>\n",
       "      <th>days_employed</th>\n",
       "    </tr>\n",
       "    <tr>\n",
       "      <th>age_group</th>\n",
       "      <th></th>\n",
       "    </tr>\n",
       "  </thead>\n",
       "  <tbody>\n",
       "    <tr>\n",
       "      <th>adult</th>\n",
       "      <td>67984.811974</td>\n",
       "    </tr>\n",
       "    <tr>\n",
       "      <th>retired</th>\n",
       "      <td>314080.528722</td>\n",
       "    </tr>\n",
       "    <tr>\n",
       "      <th>young adult</th>\n",
       "      <td>2027.056395</td>\n",
       "    </tr>\n",
       "  </tbody>\n",
       "</table>\n",
       "</div>"
      ],
      "text/plain": [
       "             days_employed\n",
       "age_group                 \n",
       "adult         67984.811974\n",
       "retired      314080.528722\n",
       "young adult    2027.056395"
      ]
     },
     "execution_count": 56,
     "metadata": {},
     "output_type": "execute_result"
    }
   ],
   "source": [
    "# Distribution of `days_employed` means based on your identified parameters\n",
    "credit_score.pivot_table(index='age_group', values='days_employed',aggfunc='mean')"
   ]
  },
  {
   "cell_type": "code",
   "execution_count": 57,
   "metadata": {},
   "outputs": [],
   "source": [
    "# Let's write a function that calculates means or medians (depending on your decision) based on your identified parameter\n",
    "def fill_days_employed(age_group):\n",
    "    \n",
    "    if age_group == 'adult':\n",
    "        return 2547.442796\n",
    "    if age_group == 'retired':\n",
    "        return 360304.232308\n",
    "    return 1045.752744"
   ]
  },
  {
   "cell_type": "code",
   "execution_count": 58,
   "metadata": {},
   "outputs": [
    {
     "name": "stdout",
     "output_type": "stream",
     "text": [
      "2547.442796\n",
      "1045.752744\n",
      "360304.232308\n"
     ]
    }
   ],
   "source": [
    "# Check that the function works\n",
    "print(fill_days_employed('adult'))\n",
    "print(fill_days_employed('young adult'))\n",
    "print(fill_days_employed('retired'))"
   ]
  },
  {
   "cell_type": "code",
   "execution_count": 59,
   "metadata": {},
   "outputs": [],
   "source": [
    "# Apply function to the income_type\n",
    "\n",
    "missing_days_employed = credit_score['days_employed'].isnull()\n",
    "credit_score.loc[missing_days_employed,'days_employed'] = credit_score.loc[missing_days_employed, 'age_group'].apply(fill_days_employed)"
   ]
  },
  {
   "cell_type": "code",
   "execution_count": 60,
   "metadata": {},
   "outputs": [
    {
     "data": {
      "text/plain": [
       "0       8437.673028\n",
       "1       4024.803754\n",
       "2       5623.422610\n",
       "3       4124.747207\n",
       "4     340266.072047\n",
       "5        926.185831\n",
       "6       2879.202052\n",
       "7        152.779569\n",
       "8       6929.865299\n",
       "9       2188.756445\n",
       "10      4171.483647\n",
       "11       792.701887\n",
       "12    360304.232308\n",
       "13      1846.641941\n",
       "14      1844.956182\n",
       "Name: days_employed, dtype: float64"
      ]
     },
     "execution_count": 60,
     "metadata": {},
     "output_type": "execute_result"
    }
   ],
   "source": [
    "# Check if function worked\n",
    "\n",
    "credit_score.days_employed.head(15)"
   ]
  },
  {
   "cell_type": "code",
   "execution_count": 62,
   "metadata": {},
   "outputs": [
    {
     "data": {
      "text/plain": [
       "children            0\n",
       "days_employed       0\n",
       "dob_years           0\n",
       "education           0\n",
       "education_id        0\n",
       "family_status       0\n",
       "family_status_id    0\n",
       "gender              0\n",
       "income_type         0\n",
       "debt                0\n",
       "total_income        0\n",
       "purpose             0\n",
       "age_group           0\n",
       "dtype: int64"
      ]
     },
     "execution_count": 62,
     "metadata": {},
     "output_type": "execute_result"
    }
   ],
   "source": [
    "# Check the entries in all columns - make sure we fixed all missing values\n",
    "credit_score.isna().sum()"
   ]
  },
  {
   "cell_type": "markdown",
   "metadata": {},
   "source": [
    "## Categorization of data"
   ]
  },
  {
   "cell_type": "code",
   "execution_count": 63,
   "metadata": {
    "scrolled": true
   },
   "outputs": [
    {
     "data": {
      "text/plain": [
       "married              12339\n",
       "civil partnership     4149\n",
       "unmarried             2810\n",
       "divorced              1195\n",
       "widow / widower        959\n",
       "Name: family_status, dtype: int64"
      ]
     },
     "execution_count": 63,
     "metadata": {},
     "output_type": "execute_result"
    }
   ],
   "source": [
    "# Print the values for your selected data for categorization\n",
    "credit_score['family_status'].value_counts()"
   ]
  },
  {
   "cell_type": "code",
   "execution_count": 64,
   "metadata": {},
   "outputs": [
    {
     "data": {
      "text/plain": [
       "array(['married', 'civil partnership', 'widow / widower', 'divorced',\n",
       "       'unmarried'], dtype=object)"
      ]
     },
     "execution_count": 64,
     "metadata": {},
     "output_type": "execute_result"
    }
   ],
   "source": [
    "# Check the unique values\n",
    "credit_score['family_status'].unique()"
   ]
  },
  {
   "cell_type": "markdown",
   "metadata": {},
   "source": [
    "There is a total of 5 unique values which can be divided into two groups. Those in a union and those that are single."
   ]
  },
  {
   "cell_type": "code",
   "execution_count": 65,
   "metadata": {},
   "outputs": [],
   "source": [
    "# Let's write a function to categorize the data based on common topics\n",
    "def family_group(family_status):\n",
    "    \n",
    "    if family_status == 'married' and 'civil partnership':\n",
    "        return 'union'\n",
    "    else:\n",
    "        return 'single'"
   ]
  },
  {
   "cell_type": "code",
   "execution_count": 66,
   "metadata": {},
   "outputs": [
    {
     "data": {
      "text/plain": [
       "union     12339\n",
       "single     9113\n",
       "Name: family_group, dtype: int64"
      ]
     },
     "execution_count": 66,
     "metadata": {},
     "output_type": "execute_result"
    }
   ],
   "source": [
    "# Create a column with the categories and count the values for them\n",
    "\n",
    "credit_score['family_group'] = credit_score['family_status'].apply(family_group)\n",
    "credit_score['family_group'].value_counts()"
   ]
  },
  {
   "cell_type": "code",
   "execution_count": 67,
   "metadata": {},
   "outputs": [
    {
     "data": {
      "text/plain": [
       "array([1, 0, 3, 2, 4, 5])"
      ]
     },
     "execution_count": 67,
     "metadata": {},
     "output_type": "execute_result"
    }
   ],
   "source": [
    "# Looking through all the numerical data in your selected column for categorization\n",
    "credit_score['children'].unique()"
   ]
  },
  {
   "cell_type": "code",
   "execution_count": 68,
   "metadata": {},
   "outputs": [
    {
     "data": {
      "text/plain": [
       "0    14089\n",
       "1     4855\n",
       "2     2128\n",
       "3      330\n",
       "4       41\n",
       "5        9\n",
       "Name: children, dtype: int64"
      ]
     },
     "execution_count": 68,
     "metadata": {},
     "output_type": "execute_result"
    }
   ],
   "source": [
    "# Getting summary statistics for the column\n",
    "\n",
    "credit_score['children'].value_counts()"
   ]
  },
  {
   "cell_type": "markdown",
   "metadata": {},
   "source": [
    "The family size ranges from 0 to 5 and can be divided into 4 groups."
   ]
  },
  {
   "cell_type": "code",
   "execution_count": 69,
   "metadata": {},
   "outputs": [],
   "source": [
    "# Creating function for categorizing into different numerical groups based on ranges\n",
    "\n",
    "def family_size(children):\n",
    "    \n",
    "    if children <= 0:\n",
    "        return 'none'\n",
    "    if children <= 2:\n",
    "        return 'small'\n",
    "    if children == 3:\n",
    "        return 'medium'\n",
    "    return 'large'"
   ]
  },
  {
   "cell_type": "code",
   "execution_count": 70,
   "metadata": {},
   "outputs": [],
   "source": [
    "# Creating column with categories\n",
    "credit_score['family_size'] = credit_score['children'].apply(family_size)"
   ]
  },
  {
   "cell_type": "code",
   "execution_count": 71,
   "metadata": {
    "scrolled": true
   },
   "outputs": [
    {
     "data": {
      "text/plain": [
       "none      14089\n",
       "small      6983\n",
       "medium      330\n",
       "large        50\n",
       "Name: family_size, dtype: int64"
      ]
     },
     "execution_count": 71,
     "metadata": {},
     "output_type": "execute_result"
    }
   ],
   "source": [
    "# Count each categories values to see the distribution\n",
    "credit_score['family_size'].value_counts()"
   ]
  },
  {
   "cell_type": "markdown",
   "metadata": {},
   "source": [
    "## Checking the Hypotheses\n"
   ]
  },
  {
   "cell_type": "markdown",
   "metadata": {},
   "source": [
    "**Is there a correlation between having children and paying back on time?**"
   ]
  },
  {
   "cell_type": "code",
   "execution_count": 80,
   "metadata": {},
   "outputs": [
    {
     "data": {
      "text/html": [
       "<div>\n",
       "<style scoped>\n",
       "    .dataframe tbody tr th:only-of-type {\n",
       "        vertical-align: middle;\n",
       "    }\n",
       "\n",
       "    .dataframe tbody tr th {\n",
       "        vertical-align: top;\n",
       "    }\n",
       "\n",
       "    .dataframe thead tr th {\n",
       "        text-align: left;\n",
       "    }\n",
       "\n",
       "    .dataframe thead tr:last-of-type th {\n",
       "        text-align: right;\n",
       "    }\n",
       "</style>\n",
       "<table border=\"1\" class=\"dataframe\">\n",
       "  <thead>\n",
       "    <tr>\n",
       "      <th></th>\n",
       "      <th colspan=\"3\" halign=\"left\">debt</th>\n",
       "    </tr>\n",
       "    <tr>\n",
       "      <th></th>\n",
       "      <th>count</th>\n",
       "      <th>sum</th>\n",
       "      <th>&lt;lambda_0&gt;</th>\n",
       "    </tr>\n",
       "    <tr>\n",
       "      <th>family_size</th>\n",
       "      <th></th>\n",
       "      <th></th>\n",
       "      <th></th>\n",
       "    </tr>\n",
       "  </thead>\n",
       "  <tbody>\n",
       "    <tr>\n",
       "      <th>large</th>\n",
       "      <td>50</td>\n",
       "      <td>4</td>\n",
       "      <td>0.080000</td>\n",
       "    </tr>\n",
       "    <tr>\n",
       "      <th>medium</th>\n",
       "      <td>330</td>\n",
       "      <td>27</td>\n",
       "      <td>0.081818</td>\n",
       "    </tr>\n",
       "    <tr>\n",
       "      <th>none</th>\n",
       "      <td>14089</td>\n",
       "      <td>1063</td>\n",
       "      <td>0.075449</td>\n",
       "    </tr>\n",
       "    <tr>\n",
       "      <th>small</th>\n",
       "      <td>6983</td>\n",
       "      <td>647</td>\n",
       "      <td>0.092654</td>\n",
       "    </tr>\n",
       "  </tbody>\n",
       "</table>\n",
       "</div>"
      ],
      "text/plain": [
       "              debt                 \n",
       "             count   sum <lambda_0>\n",
       "family_size                        \n",
       "large           50     4   0.080000\n",
       "medium         330    27   0.081818\n",
       "none         14089  1063   0.075449\n",
       "small         6983   647   0.092654"
      ]
     },
     "execution_count": 80,
     "metadata": {},
     "output_type": "execute_result"
    }
   ],
   "source": [
    "# Check the children data and paying back on time\n",
    "\n",
    "\n",
    "# Calculating default-rate based on the number of children\n",
    "credit_score.groupby('family_size').agg({'debt':['count', 'sum', lambda x: x.mean()]})"
   ]
  },
  {
   "cell_type": "markdown",
   "metadata": {},
   "source": [
    "**Conclusion**\n",
    "\n",
    "clients with 1 or 2 children have the highest default rate compared to others"
   ]
  },
  {
   "cell_type": "markdown",
   "metadata": {},
   "source": [
    "**Is there a correlation between family status and paying back on time?**"
   ]
  },
  {
   "cell_type": "code",
   "execution_count": 79,
   "metadata": {},
   "outputs": [
    {
     "data": {
      "text/html": [
       "<div>\n",
       "<style scoped>\n",
       "    .dataframe tbody tr th:only-of-type {\n",
       "        vertical-align: middle;\n",
       "    }\n",
       "\n",
       "    .dataframe tbody tr th {\n",
       "        vertical-align: top;\n",
       "    }\n",
       "\n",
       "    .dataframe thead tr th {\n",
       "        text-align: left;\n",
       "    }\n",
       "\n",
       "    .dataframe thead tr:last-of-type th {\n",
       "        text-align: right;\n",
       "    }\n",
       "</style>\n",
       "<table border=\"1\" class=\"dataframe\">\n",
       "  <thead>\n",
       "    <tr>\n",
       "      <th></th>\n",
       "      <th colspan=\"3\" halign=\"left\">debt</th>\n",
       "    </tr>\n",
       "    <tr>\n",
       "      <th></th>\n",
       "      <th>count</th>\n",
       "      <th>sum</th>\n",
       "      <th>&lt;lambda_0&gt;</th>\n",
       "    </tr>\n",
       "    <tr>\n",
       "      <th>family_group</th>\n",
       "      <th></th>\n",
       "      <th></th>\n",
       "      <th></th>\n",
       "    </tr>\n",
       "  </thead>\n",
       "  <tbody>\n",
       "    <tr>\n",
       "      <th>single</th>\n",
       "      <td>9113</td>\n",
       "      <td>810</td>\n",
       "      <td>0.088884</td>\n",
       "    </tr>\n",
       "    <tr>\n",
       "      <th>union</th>\n",
       "      <td>12339</td>\n",
       "      <td>931</td>\n",
       "      <td>0.075452</td>\n",
       "    </tr>\n",
       "  </tbody>\n",
       "</table>\n",
       "</div>"
      ],
      "text/plain": [
       "               debt                \n",
       "              count  sum <lambda_0>\n",
       "family_group                       \n",
       "single         9113  810   0.088884\n",
       "union         12339  931   0.075452"
      ]
     },
     "execution_count": 79,
     "metadata": {},
     "output_type": "execute_result"
    }
   ],
   "source": [
    "# Check the family status data and paying back on time\n",
    "\n",
    "\n",
    "\n",
    "# Calculating default-rate based on family status\n",
    "\n",
    "credit_score.groupby('family_group').agg({'debt':['count', 'sum', lambda x: x.mean()]})"
   ]
  },
  {
   "cell_type": "markdown",
   "metadata": {},
   "source": [
    "**Conclusion**\n",
    "\n",
    "It seems that clients who are single have a harder time paying the loan back on time  as opposed to those who have formed a union."
   ]
  },
  {
   "cell_type": "markdown",
   "metadata": {},
   "source": [
    "**Is there a correlation between income level and paying back on time?**"
   ]
  },
  {
   "cell_type": "code",
   "execution_count": 74,
   "metadata": {},
   "outputs": [
    {
     "data": {
      "text/html": [
       "<div>\n",
       "<style scoped>\n",
       "    .dataframe tbody tr th:only-of-type {\n",
       "        vertical-align: middle;\n",
       "    }\n",
       "\n",
       "    .dataframe tbody tr th {\n",
       "        vertical-align: top;\n",
       "    }\n",
       "\n",
       "    .dataframe thead tr th {\n",
       "        text-align: left;\n",
       "    }\n",
       "\n",
       "    .dataframe thead tr:last-of-type th {\n",
       "        text-align: right;\n",
       "    }\n",
       "</style>\n",
       "<table border=\"1\" class=\"dataframe\">\n",
       "  <thead>\n",
       "    <tr>\n",
       "      <th></th>\n",
       "      <th colspan=\"3\" halign=\"left\">debt</th>\n",
       "    </tr>\n",
       "    <tr>\n",
       "      <th></th>\n",
       "      <th>count</th>\n",
       "      <th>sum</th>\n",
       "      <th>&lt;lambda_0&gt;</th>\n",
       "    </tr>\n",
       "    <tr>\n",
       "      <th>income_type</th>\n",
       "      <th></th>\n",
       "      <th></th>\n",
       "      <th></th>\n",
       "    </tr>\n",
       "  </thead>\n",
       "  <tbody>\n",
       "    <tr>\n",
       "      <th>business</th>\n",
       "      <td>5077</td>\n",
       "      <td>376</td>\n",
       "      <td>0.074059</td>\n",
       "    </tr>\n",
       "    <tr>\n",
       "      <th>civil servant</th>\n",
       "      <td>1457</td>\n",
       "      <td>86</td>\n",
       "      <td>0.059025</td>\n",
       "    </tr>\n",
       "    <tr>\n",
       "      <th>employee</th>\n",
       "      <td>11083</td>\n",
       "      <td>1061</td>\n",
       "      <td>0.095732</td>\n",
       "    </tr>\n",
       "    <tr>\n",
       "      <th>entrepreneur</th>\n",
       "      <td>2</td>\n",
       "      <td>0</td>\n",
       "      <td>0.000000</td>\n",
       "    </tr>\n",
       "    <tr>\n",
       "      <th>paternity / maternity leave</th>\n",
       "      <td>1</td>\n",
       "      <td>1</td>\n",
       "      <td>1.000000</td>\n",
       "    </tr>\n",
       "    <tr>\n",
       "      <th>retiree</th>\n",
       "      <td>3829</td>\n",
       "      <td>216</td>\n",
       "      <td>0.056412</td>\n",
       "    </tr>\n",
       "    <tr>\n",
       "      <th>student</th>\n",
       "      <td>1</td>\n",
       "      <td>0</td>\n",
       "      <td>0.000000</td>\n",
       "    </tr>\n",
       "    <tr>\n",
       "      <th>unemployed</th>\n",
       "      <td>2</td>\n",
       "      <td>1</td>\n",
       "      <td>0.500000</td>\n",
       "    </tr>\n",
       "  </tbody>\n",
       "</table>\n",
       "</div>"
      ],
      "text/plain": [
       "                              debt                 \n",
       "                             count   sum <lambda_0>\n",
       "income_type                                        \n",
       "business                      5077   376   0.074059\n",
       "civil servant                 1457    86   0.059025\n",
       "employee                     11083  1061   0.095732\n",
       "entrepreneur                     2     0   0.000000\n",
       "paternity / maternity leave      1     1   1.000000\n",
       "retiree                       3829   216   0.056412\n",
       "student                          1     0   0.000000\n",
       "unemployed                       2     1   0.500000"
      ]
     },
     "execution_count": 74,
     "metadata": {},
     "output_type": "execute_result"
    }
   ],
   "source": [
    "# Check the income level data and paying back on time\n",
    "\n",
    "\n",
    "\n",
    "# Calculating default-rate based on income level\n",
    "\n",
    "credit_score.groupby('income_type').agg({'debt':['count', 'sum', lambda x: x.mean()]})"
   ]
  },
  {
   "cell_type": "markdown",
   "metadata": {},
   "source": [
    "**How does credit purpose affect the default rate?**"
   ]
  },
  {
   "cell_type": "code",
   "execution_count": 75,
   "metadata": {},
   "outputs": [
    {
     "data": {
      "text/html": [
       "<div>\n",
       "<style scoped>\n",
       "    .dataframe tbody tr th:only-of-type {\n",
       "        vertical-align: middle;\n",
       "    }\n",
       "\n",
       "    .dataframe tbody tr th {\n",
       "        vertical-align: top;\n",
       "    }\n",
       "\n",
       "    .dataframe thead tr th {\n",
       "        text-align: left;\n",
       "    }\n",
       "\n",
       "    .dataframe thead tr:last-of-type th {\n",
       "        text-align: right;\n",
       "    }\n",
       "</style>\n",
       "<table border=\"1\" class=\"dataframe\">\n",
       "  <thead>\n",
       "    <tr>\n",
       "      <th></th>\n",
       "      <th colspan=\"3\" halign=\"left\">debt</th>\n",
       "    </tr>\n",
       "    <tr>\n",
       "      <th></th>\n",
       "      <th>count</th>\n",
       "      <th>sum</th>\n",
       "      <th>&lt;lambda_0&gt;</th>\n",
       "    </tr>\n",
       "    <tr>\n",
       "      <th>purpose</th>\n",
       "      <th></th>\n",
       "      <th></th>\n",
       "      <th></th>\n",
       "    </tr>\n",
       "  </thead>\n",
       "  <tbody>\n",
       "    <tr>\n",
       "      <th>building a property</th>\n",
       "      <td>619</td>\n",
       "      <td>54</td>\n",
       "      <td>0.087237</td>\n",
       "    </tr>\n",
       "    <tr>\n",
       "      <th>building a real estate</th>\n",
       "      <td>624</td>\n",
       "      <td>48</td>\n",
       "      <td>0.076923</td>\n",
       "    </tr>\n",
       "    <tr>\n",
       "      <th>buy commercial real estate</th>\n",
       "      <td>661</td>\n",
       "      <td>47</td>\n",
       "      <td>0.071104</td>\n",
       "    </tr>\n",
       "    <tr>\n",
       "      <th>buy real estate</th>\n",
       "      <td>620</td>\n",
       "      <td>43</td>\n",
       "      <td>0.069355</td>\n",
       "    </tr>\n",
       "    <tr>\n",
       "      <th>buy residential real estate</th>\n",
       "      <td>606</td>\n",
       "      <td>41</td>\n",
       "      <td>0.067657</td>\n",
       "    </tr>\n",
       "    <tr>\n",
       "      <th>buying a second-hand car</th>\n",
       "      <td>478</td>\n",
       "      <td>36</td>\n",
       "      <td>0.075314</td>\n",
       "    </tr>\n",
       "    <tr>\n",
       "      <th>buying my own car</th>\n",
       "      <td>505</td>\n",
       "      <td>46</td>\n",
       "      <td>0.091089</td>\n",
       "    </tr>\n",
       "    <tr>\n",
       "      <th>buying property for renting out</th>\n",
       "      <td>651</td>\n",
       "      <td>52</td>\n",
       "      <td>0.079877</td>\n",
       "    </tr>\n",
       "    <tr>\n",
       "      <th>car</th>\n",
       "      <td>494</td>\n",
       "      <td>42</td>\n",
       "      <td>0.085020</td>\n",
       "    </tr>\n",
       "    <tr>\n",
       "      <th>car purchase</th>\n",
       "      <td>461</td>\n",
       "      <td>42</td>\n",
       "      <td>0.091106</td>\n",
       "    </tr>\n",
       "    <tr>\n",
       "      <th>cars</th>\n",
       "      <td>478</td>\n",
       "      <td>44</td>\n",
       "      <td>0.092050</td>\n",
       "    </tr>\n",
       "    <tr>\n",
       "      <th>construction of own property</th>\n",
       "      <td>635</td>\n",
       "      <td>42</td>\n",
       "      <td>0.066142</td>\n",
       "    </tr>\n",
       "    <tr>\n",
       "      <th>education</th>\n",
       "      <td>447</td>\n",
       "      <td>32</td>\n",
       "      <td>0.071588</td>\n",
       "    </tr>\n",
       "    <tr>\n",
       "      <th>getting an education</th>\n",
       "      <td>442</td>\n",
       "      <td>37</td>\n",
       "      <td>0.083710</td>\n",
       "    </tr>\n",
       "    <tr>\n",
       "      <th>getting higher education</th>\n",
       "      <td>426</td>\n",
       "      <td>46</td>\n",
       "      <td>0.107981</td>\n",
       "    </tr>\n",
       "    <tr>\n",
       "      <th>going to university</th>\n",
       "      <td>496</td>\n",
       "      <td>43</td>\n",
       "      <td>0.086694</td>\n",
       "    </tr>\n",
       "    <tr>\n",
       "      <th>having a wedding</th>\n",
       "      <td>767</td>\n",
       "      <td>64</td>\n",
       "      <td>0.083442</td>\n",
       "    </tr>\n",
       "    <tr>\n",
       "      <th>housing</th>\n",
       "      <td>646</td>\n",
       "      <td>46</td>\n",
       "      <td>0.071207</td>\n",
       "    </tr>\n",
       "    <tr>\n",
       "      <th>housing renovation</th>\n",
       "      <td>607</td>\n",
       "      <td>35</td>\n",
       "      <td>0.057661</td>\n",
       "    </tr>\n",
       "    <tr>\n",
       "      <th>housing transactions</th>\n",
       "      <td>652</td>\n",
       "      <td>48</td>\n",
       "      <td>0.073620</td>\n",
       "    </tr>\n",
       "    <tr>\n",
       "      <th>profile education</th>\n",
       "      <td>436</td>\n",
       "      <td>44</td>\n",
       "      <td>0.100917</td>\n",
       "    </tr>\n",
       "    <tr>\n",
       "      <th>property</th>\n",
       "      <td>633</td>\n",
       "      <td>42</td>\n",
       "      <td>0.066351</td>\n",
       "    </tr>\n",
       "    <tr>\n",
       "      <th>purchase of a car</th>\n",
       "      <td>455</td>\n",
       "      <td>50</td>\n",
       "      <td>0.109890</td>\n",
       "    </tr>\n",
       "    <tr>\n",
       "      <th>purchase of my own house</th>\n",
       "      <td>620</td>\n",
       "      <td>34</td>\n",
       "      <td>0.054839</td>\n",
       "    </tr>\n",
       "    <tr>\n",
       "      <th>purchase of the house</th>\n",
       "      <td>646</td>\n",
       "      <td>48</td>\n",
       "      <td>0.074303</td>\n",
       "    </tr>\n",
       "    <tr>\n",
       "      <th>purchase of the house for my family</th>\n",
       "      <td>638</td>\n",
       "      <td>45</td>\n",
       "      <td>0.070533</td>\n",
       "    </tr>\n",
       "    <tr>\n",
       "      <th>real estate transactions</th>\n",
       "      <td>675</td>\n",
       "      <td>55</td>\n",
       "      <td>0.081481</td>\n",
       "    </tr>\n",
       "    <tr>\n",
       "      <th>second-hand car purchase</th>\n",
       "      <td>486</td>\n",
       "      <td>51</td>\n",
       "      <td>0.104938</td>\n",
       "    </tr>\n",
       "    <tr>\n",
       "      <th>supplementary education</th>\n",
       "      <td>460</td>\n",
       "      <td>38</td>\n",
       "      <td>0.082609</td>\n",
       "    </tr>\n",
       "    <tr>\n",
       "      <th>to become educated</th>\n",
       "      <td>408</td>\n",
       "      <td>39</td>\n",
       "      <td>0.095588</td>\n",
       "    </tr>\n",
       "    <tr>\n",
       "      <th>to buy a car</th>\n",
       "      <td>471</td>\n",
       "      <td>44</td>\n",
       "      <td>0.093418</td>\n",
       "    </tr>\n",
       "    <tr>\n",
       "      <th>to get a supplementary education</th>\n",
       "      <td>446</td>\n",
       "      <td>51</td>\n",
       "      <td>0.114350</td>\n",
       "    </tr>\n",
       "    <tr>\n",
       "      <th>to have a wedding</th>\n",
       "      <td>765</td>\n",
       "      <td>58</td>\n",
       "      <td>0.075817</td>\n",
       "    </tr>\n",
       "    <tr>\n",
       "      <th>to own a car</th>\n",
       "      <td>478</td>\n",
       "      <td>48</td>\n",
       "      <td>0.100418</td>\n",
       "    </tr>\n",
       "    <tr>\n",
       "      <th>transactions with commercial real estate</th>\n",
       "      <td>650</td>\n",
       "      <td>52</td>\n",
       "      <td>0.080000</td>\n",
       "    </tr>\n",
       "    <tr>\n",
       "      <th>transactions with my real estate</th>\n",
       "      <td>627</td>\n",
       "      <td>50</td>\n",
       "      <td>0.079745</td>\n",
       "    </tr>\n",
       "    <tr>\n",
       "      <th>university education</th>\n",
       "      <td>452</td>\n",
       "      <td>40</td>\n",
       "      <td>0.088496</td>\n",
       "    </tr>\n",
       "    <tr>\n",
       "      <th>wedding ceremony</th>\n",
       "      <td>791</td>\n",
       "      <td>64</td>\n",
       "      <td>0.080910</td>\n",
       "    </tr>\n",
       "  </tbody>\n",
       "</table>\n",
       "</div>"
      ],
      "text/plain": [
       "                                          debt               \n",
       "                                         count sum <lambda_0>\n",
       "purpose                                                      \n",
       "building a property                        619  54   0.087237\n",
       "building a real estate                     624  48   0.076923\n",
       "buy commercial real estate                 661  47   0.071104\n",
       "buy real estate                            620  43   0.069355\n",
       "buy residential real estate                606  41   0.067657\n",
       "buying a second-hand car                   478  36   0.075314\n",
       "buying my own car                          505  46   0.091089\n",
       "buying property for renting out            651  52   0.079877\n",
       "car                                        494  42   0.085020\n",
       "car purchase                               461  42   0.091106\n",
       "cars                                       478  44   0.092050\n",
       "construction of own property               635  42   0.066142\n",
       "education                                  447  32   0.071588\n",
       "getting an education                       442  37   0.083710\n",
       "getting higher education                   426  46   0.107981\n",
       "going to university                        496  43   0.086694\n",
       "having a wedding                           767  64   0.083442\n",
       "housing                                    646  46   0.071207\n",
       "housing renovation                         607  35   0.057661\n",
       "housing transactions                       652  48   0.073620\n",
       "profile education                          436  44   0.100917\n",
       "property                                   633  42   0.066351\n",
       "purchase of a car                          455  50   0.109890\n",
       "purchase of my own house                   620  34   0.054839\n",
       "purchase of the house                      646  48   0.074303\n",
       "purchase of the house for my family        638  45   0.070533\n",
       "real estate transactions                   675  55   0.081481\n",
       "second-hand car purchase                   486  51   0.104938\n",
       "supplementary education                    460  38   0.082609\n",
       "to become educated                         408  39   0.095588\n",
       "to buy a car                               471  44   0.093418\n",
       "to get a supplementary education           446  51   0.114350\n",
       "to have a wedding                          765  58   0.075817\n",
       "to own a car                               478  48   0.100418\n",
       "transactions with commercial real estate   650  52   0.080000\n",
       "transactions with my real estate           627  50   0.079745\n",
       "university education                       452  40   0.088496\n",
       "wedding ceremony                           791  64   0.080910"
      ]
     },
     "execution_count": 75,
     "metadata": {},
     "output_type": "execute_result"
    }
   ],
   "source": [
    "# Check the percentages for default rate for each credit purpose and analyze them\n",
    "\n",
    "credit_score.groupby('purpose').agg({'debt':['count', 'sum', lambda x: x.mean()]})"
   ]
  },
  {
   "cell_type": "markdown",
   "metadata": {},
   "source": [
    "The output above is too large to be able to draw any conclusions. The purpose column can be categorized into groups as many of the statements are similar."
   ]
  },
  {
   "cell_type": "code",
   "execution_count": 76,
   "metadata": {},
   "outputs": [],
   "source": [
    "real_estate=[\n",
    "    'building a property',\n",
    "    'building a real estate',\n",
    "    'buy commercial real estate', \n",
    "    'buy real estate',\n",
    "    'buy residential real estate',\n",
    "    'buying property for renting out',\n",
    "    'construction of own property',\n",
    "    'housing',\n",
    "    'housing renovation',\n",
    "    'housing transactions',\n",
    "    'property',\n",
    "    'purchase of my own house',\n",
    "    'purchase of the house',\n",
    "    'purchase of the house for my family',\n",
    "    'real estate transactions',\n",
    "    'transactions with commercial real estate',\n",
    "    'transactions with my real estate'    \n",
    "]\n",
    "\n",
    "car = [\n",
    "    'buying a second-hand car',\n",
    "    'buying my own car',\n",
    "    'car',\n",
    "    'cars',\n",
    "    'car purchase',  \n",
    "    'purchase of a car',\n",
    "    'second-hand car purchase',\n",
    "    'to buy a car',\n",
    "    'to own a car'\n",
    "]\n",
    "\n",
    "education = [\n",
    "    'education', \n",
    "    'getting an education',\n",
    "    'getting higher education',\n",
    "    'going to university',\n",
    "    'profile education',\n",
    "    'supplementary education',\n",
    "    'to become educated',\n",
    "    'to get supplementary education',\n",
    "    'university education'    \n",
    "]\n",
    "\n",
    "wedding = [\n",
    "    'having a wedding',\n",
    "    'to have a wedding',\n",
    "    'wedding ceremony'   \n",
    "]\n",
    "\n",
    "def purpose_group(row):\n",
    "    purpose= row['purpose']\n",
    "    \n",
    "    if row['purpose'] in real_estate:\n",
    "        return 'real_estate'\n",
    "    elif row['purpose'] in car:\n",
    "        return 'car'\n",
    "    elif row['purpose'] in education:\n",
    "        return 'education'\n",
    "    elif row['purpose'] in wedding:\n",
    "        return 'wedding'\n"
   ]
  },
  {
   "cell_type": "code",
   "execution_count": 77,
   "metadata": {},
   "outputs": [
    {
     "name": "stdout",
     "output_type": "stream",
     "text": [
      "real_estate    10810\n",
      "car             4306\n",
      "education       3567\n",
      "wedding         2323\n",
      "Name: purpose_group, dtype: int64\n"
     ]
    }
   ],
   "source": [
    "credit_score['purpose_group'] = credit_score.apply(purpose_group, axis=1)\n",
    "print(credit_score['purpose_group'].value_counts())"
   ]
  },
  {
   "cell_type": "code",
   "execution_count": 78,
   "metadata": {},
   "outputs": [
    {
     "data": {
      "text/html": [
       "<div>\n",
       "<style scoped>\n",
       "    .dataframe tbody tr th:only-of-type {\n",
       "        vertical-align: middle;\n",
       "    }\n",
       "\n",
       "    .dataframe tbody tr th {\n",
       "        vertical-align: top;\n",
       "    }\n",
       "\n",
       "    .dataframe thead tr th {\n",
       "        text-align: left;\n",
       "    }\n",
       "\n",
       "    .dataframe thead tr:last-of-type th {\n",
       "        text-align: right;\n",
       "    }\n",
       "</style>\n",
       "<table border=\"1\" class=\"dataframe\">\n",
       "  <thead>\n",
       "    <tr>\n",
       "      <th></th>\n",
       "      <th colspan=\"3\" halign=\"left\">debt</th>\n",
       "    </tr>\n",
       "    <tr>\n",
       "      <th></th>\n",
       "      <th>count</th>\n",
       "      <th>sum</th>\n",
       "      <th>&lt;lambda_0&gt;</th>\n",
       "    </tr>\n",
       "    <tr>\n",
       "      <th>purpose_group</th>\n",
       "      <th></th>\n",
       "      <th></th>\n",
       "      <th></th>\n",
       "    </tr>\n",
       "  </thead>\n",
       "  <tbody>\n",
       "    <tr>\n",
       "      <th>car</th>\n",
       "      <td>4306</td>\n",
       "      <td>403</td>\n",
       "      <td>0.093590</td>\n",
       "    </tr>\n",
       "    <tr>\n",
       "      <th>education</th>\n",
       "      <td>3567</td>\n",
       "      <td>319</td>\n",
       "      <td>0.089431</td>\n",
       "    </tr>\n",
       "    <tr>\n",
       "      <th>real_estate</th>\n",
       "      <td>10810</td>\n",
       "      <td>782</td>\n",
       "      <td>0.072340</td>\n",
       "    </tr>\n",
       "    <tr>\n",
       "      <th>wedding</th>\n",
       "      <td>2323</td>\n",
       "      <td>186</td>\n",
       "      <td>0.080069</td>\n",
       "    </tr>\n",
       "  </tbody>\n",
       "</table>\n",
       "</div>"
      ],
      "text/plain": [
       "                debt                \n",
       "               count  sum <lambda_0>\n",
       "purpose_group                       \n",
       "car             4306  403   0.093590\n",
       "education       3567  319   0.089431\n",
       "real_estate    10810  782   0.072340\n",
       "wedding         2323  186   0.080069"
      ]
     },
     "execution_count": 78,
     "metadata": {},
     "output_type": "execute_result"
    }
   ],
   "source": [
    "credit_score.groupby('purpose_group').agg({'debt':['count', 'sum', lambda x: x.mean()]})"
   ]
  },
  {
   "cell_type": "markdown",
   "metadata": {},
   "source": [
    "**Conclusion**\n",
    "\n",
    "Clients who are taking out a loan for a car purchase have a default rate of 9.35%\n"
   ]
  },
  {
   "cell_type": "markdown",
   "metadata": {},
   "source": [
    "# General Conclusion \n",
    "\n"
   ]
  },
  {
   "cell_type": "markdown",
   "metadata": {},
   "source": [
    "After cleaning up the data and categorizing by family size, age and income type, it seems that default-rate ranges from  7% - 9.8% for each category. I don't see any reason to deny the clients of their loan if default -rate falls within that range regardless of their identifiers."
   ]
  }
 ],
 "metadata": {
  "ExecuteTimeLog": [
   {
    "duration": 2741,
    "start_time": "2021-10-21T01:08:49.480Z"
   },
   {
    "duration": 52,
    "start_time": "2021-10-21T01:08:53.315Z"
   },
   {
    "duration": 49,
    "start_time": "2021-10-21T01:08:57.432Z"
   },
   {
    "duration": 70,
    "start_time": "2021-10-21T01:09:07.706Z"
   },
   {
    "duration": 203,
    "start_time": "2022-03-16T20:55:38.817Z"
   },
   {
    "duration": 695,
    "start_time": "2022-03-16T20:55:58.886Z"
   },
   {
    "duration": 36,
    "start_time": "2022-03-16T20:57:02.303Z"
   },
   {
    "duration": 11,
    "start_time": "2022-03-16T21:01:42.008Z"
   },
   {
    "duration": 17,
    "start_time": "2022-03-16T21:04:58.905Z"
   },
   {
    "duration": 13,
    "start_time": "2022-03-16T21:08:55.901Z"
   },
   {
    "duration": 3,
    "start_time": "2022-03-16T21:10:47.256Z"
   },
   {
    "duration": 10,
    "start_time": "2022-03-16T21:11:01.538Z"
   },
   {
    "duration": 3,
    "start_time": "2022-03-16T21:12:19.787Z"
   },
   {
    "duration": 170,
    "start_time": "2022-03-16T21:13:48.405Z"
   },
   {
    "duration": 16,
    "start_time": "2022-03-16T21:13:53.371Z"
   },
   {
    "duration": 3,
    "start_time": "2022-03-16T21:14:04.299Z"
   },
   {
    "duration": 168,
    "start_time": "2022-03-16T21:15:06.695Z"
   },
   {
    "duration": 4,
    "start_time": "2022-03-16T21:15:12.943Z"
   },
   {
    "duration": 9,
    "start_time": "2022-03-16T21:15:30.039Z"
   },
   {
    "duration": 10,
    "start_time": "2022-03-16T21:21:26.894Z"
   },
   {
    "duration": 4209,
    "start_time": "2022-03-16T21:25:00.241Z"
   },
   {
    "duration": 6,
    "start_time": "2022-03-16T21:25:58.285Z"
   },
   {
    "duration": 2,
    "start_time": "2022-03-16T21:26:19.649Z"
   },
   {
    "duration": 5,
    "start_time": "2022-03-16T21:35:26.640Z"
   },
   {
    "duration": 5,
    "start_time": "2022-03-16T21:35:52.085Z"
   },
   {
    "duration": 18,
    "start_time": "2022-03-16T21:37:13.058Z"
   },
   {
    "duration": 96,
    "start_time": "2022-03-16T21:38:27.714Z"
   },
   {
    "duration": 6,
    "start_time": "2022-03-16T21:38:38.698Z"
   },
   {
    "duration": 4,
    "start_time": "2022-03-16T21:39:56.046Z"
   },
   {
    "duration": 201,
    "start_time": "2022-03-16T21:40:04.132Z"
   },
   {
    "duration": 4,
    "start_time": "2022-03-16T21:40:08.001Z"
   },
   {
    "duration": 34,
    "start_time": "2022-03-16T21:44:12.121Z"
   },
   {
    "duration": 4,
    "start_time": "2022-03-16T21:44:22.683Z"
   },
   {
    "duration": 15,
    "start_time": "2022-03-16T21:44:31.355Z"
   },
   {
    "duration": 10,
    "start_time": "2022-03-16T21:44:47.099Z"
   },
   {
    "duration": 2,
    "start_time": "2022-03-16T21:48:15.290Z"
   },
   {
    "duration": 167,
    "start_time": "2022-03-16T21:50:07.991Z"
   },
   {
    "duration": 181,
    "start_time": "2022-03-16T21:50:17.502Z"
   },
   {
    "duration": 59,
    "start_time": "2022-03-16T21:51:22.577Z"
   },
   {
    "duration": 21,
    "start_time": "2022-03-16T21:51:27.546Z"
   },
   {
    "duration": 5,
    "start_time": "2022-03-16T22:05:51.745Z"
   },
   {
    "duration": 8,
    "start_time": "2022-03-16T22:06:55.889Z"
   },
   {
    "duration": 6,
    "start_time": "2022-03-16T22:08:11.499Z"
   },
   {
    "duration": 163,
    "start_time": "2022-03-16T22:11:28.003Z"
   },
   {
    "duration": 12,
    "start_time": "2022-03-16T22:11:35.709Z"
   },
   {
    "duration": 188,
    "start_time": "2022-03-16T22:15:53.405Z"
   },
   {
    "duration": 8,
    "start_time": "2022-03-16T22:16:00.265Z"
   },
   {
    "duration": 4,
    "start_time": "2022-03-16T22:27:03.166Z"
   },
   {
    "duration": 12,
    "start_time": "2022-03-16T22:27:31.923Z"
   },
   {
    "duration": 85,
    "start_time": "2022-03-16T22:27:55.094Z"
   },
   {
    "duration": 90,
    "start_time": "2022-03-16T22:28:13.872Z"
   },
   {
    "duration": 53,
    "start_time": "2022-03-16T22:28:22.345Z"
   },
   {
    "duration": 13,
    "start_time": "2022-03-16T22:28:54.438Z"
   },
   {
    "duration": 180,
    "start_time": "2022-03-16T22:31:24.317Z"
   },
   {
    "duration": 5,
    "start_time": "2022-03-16T22:31:47.737Z"
   },
   {
    "duration": 178,
    "start_time": "2022-03-16T22:31:58.067Z"
   },
   {
    "duration": 169,
    "start_time": "2022-03-16T22:32:07.947Z"
   },
   {
    "duration": 13,
    "start_time": "2022-03-16T22:32:32.396Z"
   },
   {
    "duration": 21,
    "start_time": "2022-03-16T22:32:41.083Z"
   },
   {
    "duration": 75,
    "start_time": "2022-03-17T20:05:05.349Z"
   },
   {
    "duration": 1012,
    "start_time": "2022-03-17T20:05:16.967Z"
   },
   {
    "duration": 17,
    "start_time": "2022-03-17T20:05:17.983Z"
   },
   {
    "duration": 28,
    "start_time": "2022-03-17T20:05:18.002Z"
   },
   {
    "duration": 24,
    "start_time": "2022-03-17T20:05:18.045Z"
   },
   {
    "duration": 33,
    "start_time": "2022-03-17T20:05:18.071Z"
   },
   {
    "duration": 48,
    "start_time": "2022-03-17T20:05:18.107Z"
   },
   {
    "duration": 4,
    "start_time": "2022-03-17T20:05:18.157Z"
   },
   {
    "duration": 12,
    "start_time": "2022-03-17T20:05:18.163Z"
   },
   {
    "duration": 10,
    "start_time": "2022-03-17T20:05:18.177Z"
   },
   {
    "duration": 12,
    "start_time": "2022-03-17T20:05:18.192Z"
   },
   {
    "duration": 11,
    "start_time": "2022-03-17T20:05:18.207Z"
   },
   {
    "duration": 23,
    "start_time": "2022-03-17T20:05:18.221Z"
   },
   {
    "duration": 12,
    "start_time": "2022-03-17T20:05:18.247Z"
   },
   {
    "duration": 9,
    "start_time": "2022-03-17T20:05:18.262Z"
   },
   {
    "duration": 10,
    "start_time": "2022-03-17T20:05:18.274Z"
   },
   {
    "duration": 8,
    "start_time": "2022-03-17T20:05:18.286Z"
   },
   {
    "duration": 15,
    "start_time": "2022-03-17T20:05:18.296Z"
   },
   {
    "duration": 9,
    "start_time": "2022-03-17T20:05:18.314Z"
   },
   {
    "duration": 18,
    "start_time": "2022-03-17T20:05:18.325Z"
   },
   {
    "duration": 12,
    "start_time": "2022-03-17T20:05:18.346Z"
   },
   {
    "duration": 16,
    "start_time": "2022-03-17T20:05:18.360Z"
   },
   {
    "duration": 12,
    "start_time": "2022-03-17T20:05:18.379Z"
   },
   {
    "duration": 14,
    "start_time": "2022-03-17T20:05:18.393Z"
   },
   {
    "duration": 8,
    "start_time": "2022-03-17T20:05:18.410Z"
   },
   {
    "duration": 20,
    "start_time": "2022-03-17T20:05:18.420Z"
   },
   {
    "duration": 10,
    "start_time": "2022-03-17T20:05:18.443Z"
   },
   {
    "duration": 9,
    "start_time": "2022-03-17T20:05:18.455Z"
   },
   {
    "duration": 11,
    "start_time": "2022-03-17T20:05:18.474Z"
   },
   {
    "duration": 27,
    "start_time": "2022-03-17T20:05:18.488Z"
   },
   {
    "duration": 13,
    "start_time": "2022-03-17T20:05:18.518Z"
   },
   {
    "duration": 20,
    "start_time": "2022-03-17T20:05:18.534Z"
   },
   {
    "duration": 14,
    "start_time": "2022-03-17T20:05:18.556Z"
   },
   {
    "duration": 11,
    "start_time": "2022-03-17T20:05:18.572Z"
   },
   {
    "duration": 9,
    "start_time": "2022-03-17T20:05:18.585Z"
   },
   {
    "duration": 18,
    "start_time": "2022-03-17T20:05:18.596Z"
   },
   {
    "duration": 7,
    "start_time": "2022-03-17T20:05:18.617Z"
   },
   {
    "duration": 7,
    "start_time": "2022-03-17T20:05:18.628Z"
   },
   {
    "duration": 15,
    "start_time": "2022-03-17T20:05:18.637Z"
   },
   {
    "duration": 9,
    "start_time": "2022-03-17T20:05:18.654Z"
   },
   {
    "duration": 20,
    "start_time": "2022-03-17T20:05:18.666Z"
   },
   {
    "duration": 24,
    "start_time": "2022-03-17T20:05:18.688Z"
   },
   {
    "duration": 19,
    "start_time": "2022-03-17T20:05:18.714Z"
   },
   {
    "duration": 15,
    "start_time": "2022-03-17T20:05:18.736Z"
   },
   {
    "duration": 12,
    "start_time": "2022-03-17T20:05:18.754Z"
   },
   {
    "duration": 12,
    "start_time": "2022-03-17T20:05:18.768Z"
   },
   {
    "duration": 11,
    "start_time": "2022-03-17T20:05:18.783Z"
   },
   {
    "duration": 10,
    "start_time": "2022-03-17T20:05:18.796Z"
   },
   {
    "duration": 12,
    "start_time": "2022-03-17T20:05:18.809Z"
   },
   {
    "duration": 9,
    "start_time": "2022-03-17T20:05:18.823Z"
   },
   {
    "duration": 13,
    "start_time": "2022-03-17T20:05:18.834Z"
   },
   {
    "duration": 9,
    "start_time": "2022-03-17T20:05:18.850Z"
   },
   {
    "duration": 13,
    "start_time": "2022-03-17T20:05:18.862Z"
   },
   {
    "duration": 8,
    "start_time": "2022-03-17T20:05:18.878Z"
   },
   {
    "duration": 11,
    "start_time": "2022-03-17T20:05:18.888Z"
   },
   {
    "duration": 15,
    "start_time": "2022-03-17T20:05:18.901Z"
   },
   {
    "duration": 11,
    "start_time": "2022-03-17T20:05:18.918Z"
   },
   {
    "duration": 29,
    "start_time": "2022-03-17T20:05:18.931Z"
   },
   {
    "duration": 11,
    "start_time": "2022-03-17T20:05:18.962Z"
   },
   {
    "duration": 9,
    "start_time": "2022-03-17T20:05:18.976Z"
   },
   {
    "duration": 13,
    "start_time": "2022-03-17T20:05:18.987Z"
   },
   {
    "duration": 9,
    "start_time": "2022-03-17T20:05:19.003Z"
   },
   {
    "duration": 11,
    "start_time": "2022-03-17T20:05:19.015Z"
   },
   {
    "duration": 10,
    "start_time": "2022-03-17T20:05:19.028Z"
   },
   {
    "duration": 11,
    "start_time": "2022-03-17T20:05:19.041Z"
   },
   {
    "duration": 10,
    "start_time": "2022-03-17T20:05:19.054Z"
   },
   {
    "duration": 10,
    "start_time": "2022-03-17T20:05:19.066Z"
   },
   {
    "duration": 10,
    "start_time": "2022-03-17T20:05:19.078Z"
   },
   {
    "duration": 11,
    "start_time": "2022-03-17T20:05:19.090Z"
   },
   {
    "duration": 10,
    "start_time": "2022-03-17T20:05:19.104Z"
   },
   {
    "duration": 10,
    "start_time": "2022-03-17T20:05:19.116Z"
   },
   {
    "duration": 10,
    "start_time": "2022-03-17T20:05:19.129Z"
   },
   {
    "duration": 9,
    "start_time": "2022-03-17T20:05:42.325Z"
   },
   {
    "duration": 9,
    "start_time": "2022-03-17T20:28:36.646Z"
   },
   {
    "duration": 8,
    "start_time": "2022-03-17T20:28:40.533Z"
   },
   {
    "duration": 9,
    "start_time": "2022-03-17T20:30:11.777Z"
   },
   {
    "duration": 103,
    "start_time": "2022-03-17T20:30:48.779Z"
   },
   {
    "duration": 22,
    "start_time": "2022-03-17T20:30:54.440Z"
   },
   {
    "duration": 8,
    "start_time": "2022-03-17T20:31:08.161Z"
   },
   {
    "duration": 12,
    "start_time": "2022-03-17T20:34:26.330Z"
   },
   {
    "duration": 9,
    "start_time": "2022-03-17T20:34:53.062Z"
   },
   {
    "duration": 14,
    "start_time": "2022-03-17T22:21:39.914Z"
   },
   {
    "duration": 11,
    "start_time": "2022-03-17T22:28:43.551Z"
   },
   {
    "duration": 10,
    "start_time": "2022-03-17T22:29:03.579Z"
   },
   {
    "duration": 10,
    "start_time": "2022-03-17T22:35:58.831Z"
   },
   {
    "duration": 14,
    "start_time": "2022-03-17T22:36:56.230Z"
   },
   {
    "duration": 4149,
    "start_time": "2022-03-17T22:39:23.144Z"
   },
   {
    "duration": 4151,
    "start_time": "2022-03-17T22:39:35.686Z"
   },
   {
    "duration": 33,
    "start_time": "2022-03-17T22:39:49.844Z"
   },
   {
    "duration": 14,
    "start_time": "2022-03-17T22:40:33.995Z"
   },
   {
    "duration": 15,
    "start_time": "2022-03-17T22:43:12.177Z"
   },
   {
    "duration": 14,
    "start_time": "2022-03-17T22:43:22.096Z"
   },
   {
    "duration": 9,
    "start_time": "2022-03-17T23:46:57.320Z"
   },
   {
    "duration": 19,
    "start_time": "2022-03-18T00:09:54.160Z"
   },
   {
    "duration": 433,
    "start_time": "2022-03-18T20:29:06.557Z"
   },
   {
    "duration": 7,
    "start_time": "2022-03-18T20:29:06.992Z"
   },
   {
    "duration": 21,
    "start_time": "2022-03-18T20:29:07.001Z"
   },
   {
    "duration": 22,
    "start_time": "2022-03-18T20:29:07.024Z"
   },
   {
    "duration": 19,
    "start_time": "2022-03-18T20:29:07.048Z"
   },
   {
    "duration": 10,
    "start_time": "2022-03-18T20:29:07.069Z"
   },
   {
    "duration": 6,
    "start_time": "2022-03-18T20:29:07.080Z"
   },
   {
    "duration": 12,
    "start_time": "2022-03-18T20:29:07.088Z"
   },
   {
    "duration": 2,
    "start_time": "2022-03-18T20:29:07.102Z"
   },
   {
    "duration": 2,
    "start_time": "2022-03-18T20:29:07.137Z"
   },
   {
    "duration": 8,
    "start_time": "2022-03-18T20:29:07.141Z"
   },
   {
    "duration": 12,
    "start_time": "2022-03-18T20:29:07.150Z"
   },
   {
    "duration": 5,
    "start_time": "2022-03-18T20:29:07.164Z"
   },
   {
    "duration": 6,
    "start_time": "2022-03-18T20:29:07.171Z"
   },
   {
    "duration": 5,
    "start_time": "2022-03-18T20:29:07.179Z"
   },
   {
    "duration": 5,
    "start_time": "2022-03-18T20:29:07.185Z"
   },
   {
    "duration": 8,
    "start_time": "2022-03-18T20:29:07.191Z"
   },
   {
    "duration": 6,
    "start_time": "2022-03-18T20:29:07.200Z"
   },
   {
    "duration": 5,
    "start_time": "2022-03-18T20:29:07.207Z"
   },
   {
    "duration": 4,
    "start_time": "2022-03-18T20:29:07.213Z"
   },
   {
    "duration": 7,
    "start_time": "2022-03-18T20:29:07.219Z"
   },
   {
    "duration": 4,
    "start_time": "2022-03-18T20:29:07.228Z"
   },
   {
    "duration": 16,
    "start_time": "2022-03-18T20:29:07.233Z"
   },
   {
    "duration": 15,
    "start_time": "2022-03-18T20:29:07.251Z"
   },
   {
    "duration": 11,
    "start_time": "2022-03-18T20:29:07.267Z"
   },
   {
    "duration": 6,
    "start_time": "2022-03-18T20:29:07.279Z"
   },
   {
    "duration": 5,
    "start_time": "2022-03-18T20:29:07.287Z"
   },
   {
    "duration": 5,
    "start_time": "2022-03-18T20:29:07.296Z"
   },
   {
    "duration": 6,
    "start_time": "2022-03-18T20:29:07.302Z"
   },
   {
    "duration": 4,
    "start_time": "2022-03-18T20:29:07.309Z"
   },
   {
    "duration": 5,
    "start_time": "2022-03-18T20:29:07.315Z"
   },
   {
    "duration": 6,
    "start_time": "2022-03-18T20:29:07.321Z"
   },
   {
    "duration": 8,
    "start_time": "2022-03-18T20:29:07.328Z"
   },
   {
    "duration": 9,
    "start_time": "2022-03-18T20:29:07.337Z"
   },
   {
    "duration": 8,
    "start_time": "2022-03-18T20:29:07.348Z"
   },
   {
    "duration": 5,
    "start_time": "2022-03-18T20:29:07.358Z"
   },
   {
    "duration": 12,
    "start_time": "2022-03-18T20:29:07.364Z"
   },
   {
    "duration": 7,
    "start_time": "2022-03-18T20:29:07.377Z"
   },
   {
    "duration": 7,
    "start_time": "2022-03-18T20:29:07.385Z"
   },
   {
    "duration": 5,
    "start_time": "2022-03-18T20:29:07.393Z"
   },
   {
    "duration": 5,
    "start_time": "2022-03-18T20:29:07.400Z"
   },
   {
    "duration": 4,
    "start_time": "2022-03-18T20:29:07.406Z"
   },
   {
    "duration": 4,
    "start_time": "2022-03-18T20:29:07.412Z"
   },
   {
    "duration": 6,
    "start_time": "2022-03-18T20:29:07.417Z"
   },
   {
    "duration": 6,
    "start_time": "2022-03-18T20:29:07.424Z"
   },
   {
    "duration": 5,
    "start_time": "2022-03-18T20:29:07.431Z"
   },
   {
    "duration": 6,
    "start_time": "2022-03-18T20:29:07.437Z"
   },
   {
    "duration": 6,
    "start_time": "2022-03-18T20:29:07.444Z"
   },
   {
    "duration": 6,
    "start_time": "2022-03-18T20:29:07.451Z"
   },
   {
    "duration": 5,
    "start_time": "2022-03-18T20:29:07.458Z"
   },
   {
    "duration": 6,
    "start_time": "2022-03-18T20:29:07.464Z"
   },
   {
    "duration": 7,
    "start_time": "2022-03-18T20:29:07.471Z"
   },
   {
    "duration": 6,
    "start_time": "2022-03-18T20:29:07.479Z"
   },
   {
    "duration": 6,
    "start_time": "2022-03-18T20:29:07.486Z"
   },
   {
    "duration": 5,
    "start_time": "2022-03-18T20:29:07.493Z"
   },
   {
    "duration": 10,
    "start_time": "2022-03-18T20:29:07.499Z"
   },
   {
    "duration": 6,
    "start_time": "2022-03-18T20:29:07.511Z"
   },
   {
    "duration": 7,
    "start_time": "2022-03-18T20:29:07.518Z"
   },
   {
    "duration": 6,
    "start_time": "2022-03-18T20:29:07.526Z"
   },
   {
    "duration": 4,
    "start_time": "2022-03-18T20:29:07.534Z"
   },
   {
    "duration": 4,
    "start_time": "2022-03-18T20:29:07.540Z"
   },
   {
    "duration": 4,
    "start_time": "2022-03-18T20:29:07.546Z"
   },
   {
    "duration": 6,
    "start_time": "2022-03-18T20:29:07.551Z"
   },
   {
    "duration": 9,
    "start_time": "2022-03-18T20:29:07.558Z"
   },
   {
    "duration": 5,
    "start_time": "2022-03-18T20:29:07.568Z"
   },
   {
    "duration": 4,
    "start_time": "2022-03-18T20:29:07.574Z"
   },
   {
    "duration": 6,
    "start_time": "2022-03-18T20:29:07.579Z"
   },
   {
    "duration": 4,
    "start_time": "2022-03-18T20:29:07.587Z"
   },
   {
    "duration": 4,
    "start_time": "2022-03-18T20:29:07.593Z"
   },
   {
    "duration": 5,
    "start_time": "2022-03-18T20:29:07.598Z"
   },
   {
    "duration": 8,
    "start_time": "2022-03-18T20:29:07.604Z"
   },
   {
    "duration": 6,
    "start_time": "2022-03-18T20:29:07.614Z"
   },
   {
    "duration": 16,
    "start_time": "2022-03-18T20:29:07.621Z"
   },
   {
    "duration": 5,
    "start_time": "2022-03-18T20:39:45.593Z"
   },
   {
    "duration": 5,
    "start_time": "2022-03-18T20:40:10.876Z"
   },
   {
    "duration": 5,
    "start_time": "2022-03-18T20:40:54.246Z"
   },
   {
    "duration": 6,
    "start_time": "2022-03-18T20:46:09.731Z"
   },
   {
    "duration": 5,
    "start_time": "2022-03-18T20:48:53.169Z"
   },
   {
    "duration": 439,
    "start_time": "2022-03-18T20:49:00.801Z"
   },
   {
    "duration": 8,
    "start_time": "2022-03-18T20:49:01.243Z"
   },
   {
    "duration": 47,
    "start_time": "2022-03-18T20:49:01.252Z"
   },
   {
    "duration": 34,
    "start_time": "2022-03-18T20:49:01.301Z"
   },
   {
    "duration": 20,
    "start_time": "2022-03-18T20:49:01.337Z"
   },
   {
    "duration": 18,
    "start_time": "2022-03-18T20:49:01.358Z"
   },
   {
    "duration": 48,
    "start_time": "2022-03-18T20:49:01.377Z"
   },
   {
    "duration": 22,
    "start_time": "2022-03-18T20:49:01.427Z"
   },
   {
    "duration": 7,
    "start_time": "2022-03-18T20:49:01.450Z"
   },
   {
    "duration": 13,
    "start_time": "2022-03-18T20:49:01.461Z"
   },
   {
    "duration": 28,
    "start_time": "2022-03-18T20:49:01.476Z"
   },
   {
    "duration": 9,
    "start_time": "2022-03-18T20:49:01.506Z"
   },
   {
    "duration": 7,
    "start_time": "2022-03-18T20:49:01.517Z"
   },
   {
    "duration": 13,
    "start_time": "2022-03-18T20:49:01.526Z"
   },
   {
    "duration": 10,
    "start_time": "2022-03-18T20:49:01.541Z"
   },
   {
    "duration": 11,
    "start_time": "2022-03-18T20:49:01.553Z"
   },
   {
    "duration": 28,
    "start_time": "2022-03-18T20:49:01.566Z"
   },
   {
    "duration": 19,
    "start_time": "2022-03-18T20:49:01.595Z"
   },
   {
    "duration": 16,
    "start_time": "2022-03-18T20:49:01.616Z"
   },
   {
    "duration": 13,
    "start_time": "2022-03-18T20:49:01.634Z"
   },
   {
    "duration": 9,
    "start_time": "2022-03-18T20:49:01.649Z"
   },
   {
    "duration": 9,
    "start_time": "2022-03-18T20:49:01.660Z"
   },
   {
    "duration": 10,
    "start_time": "2022-03-18T20:49:01.671Z"
   },
   {
    "duration": 27,
    "start_time": "2022-03-18T20:49:01.683Z"
   },
   {
    "duration": 22,
    "start_time": "2022-03-18T20:49:01.711Z"
   },
   {
    "duration": 18,
    "start_time": "2022-03-18T20:49:01.734Z"
   },
   {
    "duration": 36,
    "start_time": "2022-03-18T20:49:01.754Z"
   },
   {
    "duration": 88,
    "start_time": "2022-03-18T20:49:01.794Z"
   },
   {
    "duration": 19,
    "start_time": "2022-03-18T20:49:01.884Z"
   },
   {
    "duration": 13,
    "start_time": "2022-03-18T20:49:01.905Z"
   },
   {
    "duration": 10,
    "start_time": "2022-03-18T20:49:01.920Z"
   },
   {
    "duration": 25,
    "start_time": "2022-03-18T20:49:01.932Z"
   },
   {
    "duration": 12,
    "start_time": "2022-03-18T20:49:01.959Z"
   },
   {
    "duration": 20,
    "start_time": "2022-03-18T20:49:01.973Z"
   },
   {
    "duration": 20,
    "start_time": "2022-03-18T20:49:01.995Z"
   },
   {
    "duration": 16,
    "start_time": "2022-03-18T20:49:02.018Z"
   },
   {
    "duration": 31,
    "start_time": "2022-03-18T20:49:02.036Z"
   },
   {
    "duration": 21,
    "start_time": "2022-03-18T20:49:02.069Z"
   },
   {
    "duration": 15,
    "start_time": "2022-03-18T20:49:02.091Z"
   },
   {
    "duration": 18,
    "start_time": "2022-03-18T20:49:02.107Z"
   },
   {
    "duration": 12,
    "start_time": "2022-03-18T20:49:02.126Z"
   },
   {
    "duration": 10,
    "start_time": "2022-03-18T20:49:02.140Z"
   },
   {
    "duration": 19,
    "start_time": "2022-03-18T20:49:02.152Z"
   },
   {
    "duration": 30,
    "start_time": "2022-03-18T20:49:02.173Z"
   },
   {
    "duration": 18,
    "start_time": "2022-03-18T20:49:02.204Z"
   },
   {
    "duration": 12,
    "start_time": "2022-03-18T20:49:02.223Z"
   },
   {
    "duration": 12,
    "start_time": "2022-03-18T20:49:02.237Z"
   },
   {
    "duration": 8,
    "start_time": "2022-03-18T20:49:02.251Z"
   },
   {
    "duration": 16,
    "start_time": "2022-03-18T20:49:02.260Z"
   },
   {
    "duration": 21,
    "start_time": "2022-03-18T20:49:02.278Z"
   },
   {
    "duration": 44,
    "start_time": "2022-03-18T20:49:02.300Z"
   },
   {
    "duration": 15,
    "start_time": "2022-03-18T20:49:02.345Z"
   },
   {
    "duration": 7,
    "start_time": "2022-03-18T20:49:02.363Z"
   },
   {
    "duration": 11,
    "start_time": "2022-03-18T20:49:02.371Z"
   },
   {
    "duration": 13,
    "start_time": "2022-03-18T20:49:02.384Z"
   },
   {
    "duration": 7,
    "start_time": "2022-03-18T20:49:02.399Z"
   },
   {
    "duration": 7,
    "start_time": "2022-03-18T20:49:02.408Z"
   },
   {
    "duration": 9,
    "start_time": "2022-03-18T20:49:02.417Z"
   },
   {
    "duration": 7,
    "start_time": "2022-03-18T20:49:02.428Z"
   },
   {
    "duration": 8,
    "start_time": "2022-03-18T20:49:02.437Z"
   },
   {
    "duration": 6,
    "start_time": "2022-03-18T20:49:02.446Z"
   },
   {
    "duration": 7,
    "start_time": "2022-03-18T20:49:02.454Z"
   },
   {
    "duration": 13,
    "start_time": "2022-03-18T20:49:02.463Z"
   },
   {
    "duration": 11,
    "start_time": "2022-03-18T20:49:02.478Z"
   },
   {
    "duration": 8,
    "start_time": "2022-03-18T20:49:02.491Z"
   },
   {
    "duration": 13,
    "start_time": "2022-03-18T20:49:02.500Z"
   },
   {
    "duration": 18,
    "start_time": "2022-03-18T20:49:02.515Z"
   },
   {
    "duration": 15,
    "start_time": "2022-03-18T20:49:02.535Z"
   },
   {
    "duration": 19,
    "start_time": "2022-03-18T20:49:02.552Z"
   },
   {
    "duration": 17,
    "start_time": "2022-03-18T20:49:02.572Z"
   },
   {
    "duration": 8,
    "start_time": "2022-03-18T20:49:02.591Z"
   },
   {
    "duration": 12,
    "start_time": "2022-03-18T20:49:02.600Z"
   },
   {
    "duration": 7,
    "start_time": "2022-03-18T20:49:02.614Z"
   },
   {
    "duration": 15,
    "start_time": "2022-03-18T20:51:30.545Z"
   },
   {
    "duration": 64,
    "start_time": "2022-03-18T21:07:38.899Z"
   },
   {
    "duration": 6,
    "start_time": "2022-03-18T21:07:57.784Z"
   },
   {
    "duration": 17,
    "start_time": "2022-03-18T21:10:19.706Z"
   },
   {
    "duration": 8,
    "start_time": "2022-03-18T21:11:30.747Z"
   },
   {
    "duration": 5,
    "start_time": "2022-03-18T21:11:48.264Z"
   },
   {
    "duration": 108,
    "start_time": "2022-03-18T21:20:22.071Z"
   },
   {
    "duration": 7,
    "start_time": "2022-03-18T21:20:37.277Z"
   },
   {
    "duration": 7,
    "start_time": "2022-03-18T21:22:43.193Z"
   },
   {
    "duration": 8,
    "start_time": "2022-03-18T21:23:11.636Z"
   },
   {
    "duration": 7,
    "start_time": "2022-03-18T21:24:11.529Z"
   },
   {
    "duration": 1019,
    "start_time": "2022-03-18T21:29:43.881Z"
   },
   {
    "duration": 702,
    "start_time": "2022-03-18T21:30:09.215Z"
   },
   {
    "duration": 31,
    "start_time": "2022-03-18T21:31:28.704Z"
   },
   {
    "duration": 533,
    "start_time": "2022-03-18T21:32:05.579Z"
   },
   {
    "duration": 133,
    "start_time": "2022-03-18T21:38:32.025Z"
   },
   {
    "duration": 234,
    "start_time": "2022-03-18T21:39:06.318Z"
   },
   {
    "duration": 16,
    "start_time": "2022-03-18T21:41:45.531Z"
   },
   {
    "duration": 9,
    "start_time": "2022-03-18T21:43:37.879Z"
   },
   {
    "duration": 7,
    "start_time": "2022-03-18T21:43:42.510Z"
   },
   {
    "duration": 17,
    "start_time": "2022-03-18T21:54:22.849Z"
   },
   {
    "duration": 15,
    "start_time": "2022-03-18T22:09:46.747Z"
   },
   {
    "duration": 16,
    "start_time": "2022-03-18T22:10:03.119Z"
   },
   {
    "duration": 165,
    "start_time": "2022-03-18T22:10:12.513Z"
   },
   {
    "duration": 165,
    "start_time": "2022-03-18T22:10:48.487Z"
   },
   {
    "duration": 466,
    "start_time": "2022-03-18T22:12:57.926Z"
   },
   {
    "duration": 8,
    "start_time": "2022-03-18T22:12:58.394Z"
   },
   {
    "duration": 19,
    "start_time": "2022-03-18T22:12:58.403Z"
   },
   {
    "duration": 26,
    "start_time": "2022-03-18T22:12:58.424Z"
   },
   {
    "duration": 17,
    "start_time": "2022-03-18T22:12:58.452Z"
   },
   {
    "duration": 9,
    "start_time": "2022-03-18T22:12:58.471Z"
   },
   {
    "duration": 6,
    "start_time": "2022-03-18T22:12:58.481Z"
   },
   {
    "duration": 12,
    "start_time": "2022-03-18T22:12:58.489Z"
   },
   {
    "duration": 8,
    "start_time": "2022-03-18T22:12:58.502Z"
   },
   {
    "duration": 440,
    "start_time": "2022-03-18T22:12:58.513Z"
   },
   {
    "duration": 662,
    "start_time": "2022-03-18T22:12:58.955Z"
   },
   {
    "duration": 2,
    "start_time": "2022-03-18T22:12:59.619Z"
   },
   {
    "duration": 14,
    "start_time": "2022-03-18T22:12:59.623Z"
   },
   {
    "duration": 3,
    "start_time": "2022-03-18T22:12:59.639Z"
   },
   {
    "duration": 5,
    "start_time": "2022-03-18T22:12:59.643Z"
   },
   {
    "duration": 5,
    "start_time": "2022-03-18T22:12:59.649Z"
   },
   {
    "duration": 5,
    "start_time": "2022-03-18T22:12:59.655Z"
   },
   {
    "duration": 6,
    "start_time": "2022-03-18T22:12:59.661Z"
   },
   {
    "duration": 10,
    "start_time": "2022-03-18T22:12:59.668Z"
   },
   {
    "duration": 11,
    "start_time": "2022-03-18T22:12:59.679Z"
   },
   {
    "duration": 7,
    "start_time": "2022-03-18T22:12:59.692Z"
   },
   {
    "duration": 6,
    "start_time": "2022-03-18T22:12:59.701Z"
   },
   {
    "duration": 5,
    "start_time": "2022-03-18T22:12:59.708Z"
   },
   {
    "duration": 5,
    "start_time": "2022-03-18T22:12:59.714Z"
   },
   {
    "duration": 4,
    "start_time": "2022-03-18T22:12:59.720Z"
   },
   {
    "duration": 4,
    "start_time": "2022-03-18T22:12:59.725Z"
   },
   {
    "duration": 10,
    "start_time": "2022-03-18T22:12:59.737Z"
   },
   {
    "duration": 3,
    "start_time": "2022-03-18T22:12:59.751Z"
   },
   {
    "duration": 4,
    "start_time": "2022-03-18T22:12:59.755Z"
   },
   {
    "duration": 9,
    "start_time": "2022-03-18T22:12:59.760Z"
   },
   {
    "duration": 6,
    "start_time": "2022-03-18T22:12:59.770Z"
   },
   {
    "duration": 7,
    "start_time": "2022-03-18T22:12:59.778Z"
   },
   {
    "duration": 7,
    "start_time": "2022-03-18T22:12:59.787Z"
   },
   {
    "duration": 8,
    "start_time": "2022-03-18T22:12:59.795Z"
   },
   {
    "duration": 7,
    "start_time": "2022-03-18T22:12:59.805Z"
   },
   {
    "duration": 12,
    "start_time": "2022-03-18T22:12:59.814Z"
   },
   {
    "duration": 8,
    "start_time": "2022-03-18T22:12:59.827Z"
   },
   {
    "duration": 6,
    "start_time": "2022-03-18T22:12:59.836Z"
   },
   {
    "duration": 7,
    "start_time": "2022-03-18T22:12:59.843Z"
   },
   {
    "duration": 8,
    "start_time": "2022-03-18T22:12:59.851Z"
   },
   {
    "duration": 10,
    "start_time": "2022-03-18T22:12:59.860Z"
   },
   {
    "duration": 4,
    "start_time": "2022-03-18T22:12:59.871Z"
   },
   {
    "duration": 4,
    "start_time": "2022-03-18T22:12:59.877Z"
   },
   {
    "duration": 6,
    "start_time": "2022-03-18T22:12:59.882Z"
   },
   {
    "duration": 4,
    "start_time": "2022-03-18T22:12:59.889Z"
   },
   {
    "duration": 5,
    "start_time": "2022-03-18T22:12:59.895Z"
   },
   {
    "duration": 6,
    "start_time": "2022-03-18T22:12:59.901Z"
   },
   {
    "duration": 9,
    "start_time": "2022-03-18T22:12:59.908Z"
   },
   {
    "duration": 5,
    "start_time": "2022-03-18T22:12:59.919Z"
   },
   {
    "duration": 5,
    "start_time": "2022-03-18T22:12:59.926Z"
   },
   {
    "duration": 5,
    "start_time": "2022-03-18T22:12:59.933Z"
   },
   {
    "duration": 6,
    "start_time": "2022-03-18T22:12:59.939Z"
   },
   {
    "duration": 4,
    "start_time": "2022-03-18T22:12:59.946Z"
   },
   {
    "duration": 4,
    "start_time": "2022-03-18T22:12:59.952Z"
   },
   {
    "duration": 5,
    "start_time": "2022-03-18T22:12:59.958Z"
   },
   {
    "duration": 4,
    "start_time": "2022-03-18T22:12:59.965Z"
   },
   {
    "duration": 5,
    "start_time": "2022-03-18T22:12:59.971Z"
   },
   {
    "duration": 5,
    "start_time": "2022-03-18T22:12:59.977Z"
   },
   {
    "duration": 4,
    "start_time": "2022-03-18T22:12:59.983Z"
   },
   {
    "duration": 4,
    "start_time": "2022-03-18T22:12:59.989Z"
   },
   {
    "duration": 4,
    "start_time": "2022-03-18T22:12:59.995Z"
   },
   {
    "duration": 11,
    "start_time": "2022-03-18T22:13:00.001Z"
   },
   {
    "duration": 10,
    "start_time": "2022-03-18T22:13:00.014Z"
   },
   {
    "duration": 14,
    "start_time": "2022-03-18T22:13:00.026Z"
   },
   {
    "duration": 7,
    "start_time": "2022-03-18T22:13:00.042Z"
   },
   {
    "duration": 12,
    "start_time": "2022-03-18T22:13:00.050Z"
   },
   {
    "duration": 12,
    "start_time": "2022-03-18T22:13:00.063Z"
   },
   {
    "duration": 6,
    "start_time": "2022-03-18T22:13:00.077Z"
   },
   {
    "duration": 15,
    "start_time": "2022-03-18T22:13:00.085Z"
   },
   {
    "duration": 7,
    "start_time": "2022-03-18T22:13:00.102Z"
   },
   {
    "duration": 11,
    "start_time": "2022-03-18T22:13:00.111Z"
   },
   {
    "duration": 15,
    "start_time": "2022-03-18T22:13:00.123Z"
   },
   {
    "duration": 17,
    "start_time": "2022-03-18T22:13:00.140Z"
   },
   {
    "duration": 2045,
    "start_time": "2022-03-18T22:14:10.102Z"
   },
   {
    "duration": 444,
    "start_time": "2022-03-18T22:14:26.241Z"
   },
   {
    "duration": 7,
    "start_time": "2022-03-18T22:14:26.687Z"
   },
   {
    "duration": 49,
    "start_time": "2022-03-18T22:14:26.695Z"
   },
   {
    "duration": 15,
    "start_time": "2022-03-18T22:14:26.746Z"
   },
   {
    "duration": 19,
    "start_time": "2022-03-18T22:14:26.763Z"
   },
   {
    "duration": 9,
    "start_time": "2022-03-18T22:14:26.783Z"
   },
   {
    "duration": 7,
    "start_time": "2022-03-18T22:14:26.794Z"
   },
   {
    "duration": 40,
    "start_time": "2022-03-18T22:14:26.802Z"
   },
   {
    "duration": 1997,
    "start_time": "2022-03-18T22:14:26.844Z"
   },
   {
    "duration": 61,
    "start_time": "2022-03-18T22:14:28.844Z"
   },
   {
    "duration": 0,
    "start_time": "2022-03-18T22:14:28.908Z"
   },
   {
    "duration": 0,
    "start_time": "2022-03-18T22:14:28.909Z"
   },
   {
    "duration": 0,
    "start_time": "2022-03-18T22:14:28.910Z"
   },
   {
    "duration": 0,
    "start_time": "2022-03-18T22:14:28.911Z"
   },
   {
    "duration": 0,
    "start_time": "2022-03-18T22:14:28.912Z"
   },
   {
    "duration": 0,
    "start_time": "2022-03-18T22:14:28.912Z"
   },
   {
    "duration": 0,
    "start_time": "2022-03-18T22:14:28.913Z"
   },
   {
    "duration": 0,
    "start_time": "2022-03-18T22:14:28.914Z"
   },
   {
    "duration": 0,
    "start_time": "2022-03-18T22:14:28.915Z"
   },
   {
    "duration": 0,
    "start_time": "2022-03-18T22:14:28.938Z"
   },
   {
    "duration": 0,
    "start_time": "2022-03-18T22:14:28.939Z"
   },
   {
    "duration": 0,
    "start_time": "2022-03-18T22:14:28.940Z"
   },
   {
    "duration": 0,
    "start_time": "2022-03-18T22:14:28.941Z"
   },
   {
    "duration": 0,
    "start_time": "2022-03-18T22:14:28.942Z"
   },
   {
    "duration": 0,
    "start_time": "2022-03-18T22:14:28.943Z"
   },
   {
    "duration": 0,
    "start_time": "2022-03-18T22:14:28.944Z"
   },
   {
    "duration": 0,
    "start_time": "2022-03-18T22:14:28.945Z"
   },
   {
    "duration": 0,
    "start_time": "2022-03-18T22:14:28.946Z"
   },
   {
    "duration": 0,
    "start_time": "2022-03-18T22:14:28.947Z"
   },
   {
    "duration": 0,
    "start_time": "2022-03-18T22:14:28.948Z"
   },
   {
    "duration": 0,
    "start_time": "2022-03-18T22:14:28.948Z"
   },
   {
    "duration": 0,
    "start_time": "2022-03-18T22:14:28.949Z"
   },
   {
    "duration": 0,
    "start_time": "2022-03-18T22:14:28.950Z"
   },
   {
    "duration": 0,
    "start_time": "2022-03-18T22:14:28.951Z"
   },
   {
    "duration": 0,
    "start_time": "2022-03-18T22:14:28.952Z"
   },
   {
    "duration": 0,
    "start_time": "2022-03-18T22:14:28.953Z"
   },
   {
    "duration": 0,
    "start_time": "2022-03-18T22:14:28.954Z"
   },
   {
    "duration": 0,
    "start_time": "2022-03-18T22:14:28.955Z"
   },
   {
    "duration": 0,
    "start_time": "2022-03-18T22:14:28.956Z"
   },
   {
    "duration": 0,
    "start_time": "2022-03-18T22:14:28.957Z"
   },
   {
    "duration": 0,
    "start_time": "2022-03-18T22:14:28.958Z"
   },
   {
    "duration": 0,
    "start_time": "2022-03-18T22:14:28.958Z"
   },
   {
    "duration": 0,
    "start_time": "2022-03-18T22:14:28.959Z"
   },
   {
    "duration": 0,
    "start_time": "2022-03-18T22:14:28.960Z"
   },
   {
    "duration": 0,
    "start_time": "2022-03-18T22:14:28.961Z"
   },
   {
    "duration": 0,
    "start_time": "2022-03-18T22:14:28.962Z"
   },
   {
    "duration": 0,
    "start_time": "2022-03-18T22:14:28.963Z"
   },
   {
    "duration": 0,
    "start_time": "2022-03-18T22:14:28.964Z"
   },
   {
    "duration": 0,
    "start_time": "2022-03-18T22:14:28.965Z"
   },
   {
    "duration": 0,
    "start_time": "2022-03-18T22:14:28.966Z"
   },
   {
    "duration": 0,
    "start_time": "2022-03-18T22:14:28.967Z"
   },
   {
    "duration": 0,
    "start_time": "2022-03-18T22:14:28.968Z"
   },
   {
    "duration": 0,
    "start_time": "2022-03-18T22:14:28.969Z"
   },
   {
    "duration": 0,
    "start_time": "2022-03-18T22:14:28.970Z"
   },
   {
    "duration": 0,
    "start_time": "2022-03-18T22:14:28.971Z"
   },
   {
    "duration": 0,
    "start_time": "2022-03-18T22:14:28.972Z"
   },
   {
    "duration": 0,
    "start_time": "2022-03-18T22:14:28.973Z"
   },
   {
    "duration": 0,
    "start_time": "2022-03-18T22:14:28.975Z"
   },
   {
    "duration": 0,
    "start_time": "2022-03-18T22:14:28.976Z"
   },
   {
    "duration": 0,
    "start_time": "2022-03-18T22:14:28.976Z"
   },
   {
    "duration": 0,
    "start_time": "2022-03-18T22:14:28.977Z"
   },
   {
    "duration": 0,
    "start_time": "2022-03-18T22:14:29.038Z"
   },
   {
    "duration": 0,
    "start_time": "2022-03-18T22:14:29.039Z"
   },
   {
    "duration": 0,
    "start_time": "2022-03-18T22:14:29.040Z"
   },
   {
    "duration": 0,
    "start_time": "2022-03-18T22:14:29.041Z"
   },
   {
    "duration": 0,
    "start_time": "2022-03-18T22:14:29.042Z"
   },
   {
    "duration": 0,
    "start_time": "2022-03-18T22:14:29.043Z"
   },
   {
    "duration": 0,
    "start_time": "2022-03-18T22:14:29.044Z"
   },
   {
    "duration": 0,
    "start_time": "2022-03-18T22:14:29.045Z"
   },
   {
    "duration": 0,
    "start_time": "2022-03-18T22:14:29.046Z"
   },
   {
    "duration": 0,
    "start_time": "2022-03-18T22:14:29.047Z"
   },
   {
    "duration": 0,
    "start_time": "2022-03-18T22:14:29.048Z"
   },
   {
    "duration": 0,
    "start_time": "2022-03-18T22:14:29.049Z"
   },
   {
    "duration": 409,
    "start_time": "2022-03-18T22:14:51.166Z"
   },
   {
    "duration": 443,
    "start_time": "2022-03-18T22:20:15.571Z"
   },
   {
    "duration": 9,
    "start_time": "2022-03-18T22:20:16.016Z"
   },
   {
    "duration": 29,
    "start_time": "2022-03-18T22:20:16.027Z"
   },
   {
    "duration": 16,
    "start_time": "2022-03-18T22:20:16.058Z"
   },
   {
    "duration": 20,
    "start_time": "2022-03-18T22:20:16.077Z"
   },
   {
    "duration": 11,
    "start_time": "2022-03-18T22:20:16.099Z"
   },
   {
    "duration": 32,
    "start_time": "2022-03-18T22:20:16.111Z"
   },
   {
    "duration": 17,
    "start_time": "2022-03-18T22:20:16.144Z"
   },
   {
    "duration": 2056,
    "start_time": "2022-03-18T22:20:16.162Z"
   },
   {
    "duration": 35002,
    "start_time": "2022-03-18T22:25:24.406Z"
   },
   {
    "duration": 2,
    "start_time": "2022-03-18T22:25:59.410Z"
   },
   {
    "duration": 11,
    "start_time": "2022-03-18T22:25:59.413Z"
   },
   {
    "duration": 11,
    "start_time": "2022-03-18T22:25:59.427Z"
   },
   {
    "duration": 6,
    "start_time": "2022-03-18T22:25:59.439Z"
   },
   {
    "duration": 4,
    "start_time": "2022-03-18T22:25:59.447Z"
   },
   {
    "duration": 4,
    "start_time": "2022-03-18T22:25:59.453Z"
   },
   {
    "duration": 6,
    "start_time": "2022-03-18T22:25:59.458Z"
   },
   {
    "duration": 6,
    "start_time": "2022-03-18T22:25:59.465Z"
   },
   {
    "duration": 4,
    "start_time": "2022-03-18T22:25:59.473Z"
   },
   {
    "duration": 6,
    "start_time": "2022-03-18T22:25:59.478Z"
   },
   {
    "duration": 4,
    "start_time": "2022-03-18T22:25:59.485Z"
   },
   {
    "duration": 5,
    "start_time": "2022-03-18T22:25:59.490Z"
   },
   {
    "duration": 6,
    "start_time": "2022-03-18T22:25:59.496Z"
   },
   {
    "duration": 4,
    "start_time": "2022-03-18T22:25:59.504Z"
   },
   {
    "duration": 8,
    "start_time": "2022-03-18T22:25:59.510Z"
   },
   {
    "duration": 18,
    "start_time": "2022-03-18T22:25:59.519Z"
   },
   {
    "duration": 5,
    "start_time": "2022-03-18T22:25:59.539Z"
   },
   {
    "duration": 4,
    "start_time": "2022-03-18T22:25:59.546Z"
   },
   {
    "duration": 5,
    "start_time": "2022-03-18T22:25:59.551Z"
   },
   {
    "duration": 10,
    "start_time": "2022-03-18T22:25:59.558Z"
   },
   {
    "duration": 5,
    "start_time": "2022-03-18T22:25:59.570Z"
   },
   {
    "duration": 5,
    "start_time": "2022-03-18T22:25:59.577Z"
   },
   {
    "duration": 5,
    "start_time": "2022-03-18T22:25:59.583Z"
   },
   {
    "duration": 5,
    "start_time": "2022-03-18T22:25:59.589Z"
   },
   {
    "duration": 5,
    "start_time": "2022-03-18T22:25:59.595Z"
   },
   {
    "duration": 5,
    "start_time": "2022-03-18T22:25:59.601Z"
   },
   {
    "duration": 5,
    "start_time": "2022-03-18T22:25:59.607Z"
   },
   {
    "duration": 7,
    "start_time": "2022-03-18T22:25:59.613Z"
   },
   {
    "duration": 17,
    "start_time": "2022-03-18T22:25:59.621Z"
   },
   {
    "duration": 5,
    "start_time": "2022-03-18T22:25:59.642Z"
   },
   {
    "duration": 6,
    "start_time": "2022-03-18T22:25:59.648Z"
   },
   {
    "duration": 6,
    "start_time": "2022-03-18T22:25:59.655Z"
   },
   {
    "duration": 5,
    "start_time": "2022-03-18T22:25:59.663Z"
   },
   {
    "duration": 5,
    "start_time": "2022-03-18T22:25:59.669Z"
   },
   {
    "duration": 7,
    "start_time": "2022-03-18T22:25:59.676Z"
   },
   {
    "duration": 4,
    "start_time": "2022-03-18T22:25:59.685Z"
   },
   {
    "duration": 4,
    "start_time": "2022-03-18T22:25:59.691Z"
   },
   {
    "duration": 4,
    "start_time": "2022-03-18T22:25:59.697Z"
   },
   {
    "duration": 5,
    "start_time": "2022-03-18T22:25:59.702Z"
   },
   {
    "duration": 4,
    "start_time": "2022-03-18T22:25:59.708Z"
   },
   {
    "duration": 4,
    "start_time": "2022-03-18T22:25:59.714Z"
   },
   {
    "duration": 2,
    "start_time": "2022-03-18T22:25:59.738Z"
   },
   {
    "duration": 5,
    "start_time": "2022-03-18T22:25:59.742Z"
   },
   {
    "duration": 5,
    "start_time": "2022-03-18T22:25:59.748Z"
   },
   {
    "duration": 7,
    "start_time": "2022-03-18T22:25:59.754Z"
   },
   {
    "duration": 5,
    "start_time": "2022-03-18T22:25:59.762Z"
   },
   {
    "duration": 9,
    "start_time": "2022-03-18T22:25:59.768Z"
   },
   {
    "duration": 8,
    "start_time": "2022-03-18T22:25:59.778Z"
   },
   {
    "duration": 5,
    "start_time": "2022-03-18T22:25:59.787Z"
   },
   {
    "duration": 6,
    "start_time": "2022-03-18T22:25:59.794Z"
   },
   {
    "duration": 7,
    "start_time": "2022-03-18T22:25:59.801Z"
   },
   {
    "duration": 13,
    "start_time": "2022-03-18T22:25:59.810Z"
   },
   {
    "duration": 7,
    "start_time": "2022-03-18T22:25:59.825Z"
   },
   {
    "duration": 2,
    "start_time": "2022-03-18T22:25:59.837Z"
   },
   {
    "duration": 5,
    "start_time": "2022-03-18T22:25:59.841Z"
   },
   {
    "duration": 6,
    "start_time": "2022-03-18T22:25:59.847Z"
   },
   {
    "duration": 11,
    "start_time": "2022-03-18T22:25:59.855Z"
   },
   {
    "duration": 13,
    "start_time": "2022-03-18T22:25:59.867Z"
   },
   {
    "duration": 4,
    "start_time": "2022-03-18T22:25:59.882Z"
   },
   {
    "duration": 5,
    "start_time": "2022-03-18T22:25:59.887Z"
   },
   {
    "duration": 5,
    "start_time": "2022-03-18T22:25:59.894Z"
   },
   {
    "duration": 5,
    "start_time": "2022-03-18T22:25:59.900Z"
   },
   {
    "duration": 77,
    "start_time": "2022-03-18T22:25:59.906Z"
   },
   {
    "duration": 2025,
    "start_time": "2022-03-18T22:29:52.852Z"
   },
   {
    "duration": 2,
    "start_time": "2022-03-18T22:30:09.117Z"
   },
   {
    "duration": 2,
    "start_time": "2022-03-18T22:30:14.318Z"
   },
   {
    "duration": 434,
    "start_time": "2022-03-18T22:30:20.258Z"
   },
   {
    "duration": 7,
    "start_time": "2022-03-18T22:30:20.694Z"
   },
   {
    "duration": 16,
    "start_time": "2022-03-18T22:30:20.703Z"
   },
   {
    "duration": 23,
    "start_time": "2022-03-18T22:30:20.721Z"
   },
   {
    "duration": 18,
    "start_time": "2022-03-18T22:30:20.746Z"
   },
   {
    "duration": 10,
    "start_time": "2022-03-18T22:30:20.765Z"
   },
   {
    "duration": 20,
    "start_time": "2022-03-18T22:30:20.776Z"
   },
   {
    "duration": 21,
    "start_time": "2022-03-18T22:30:20.798Z"
   },
   {
    "duration": 1982,
    "start_time": "2022-03-18T22:30:20.820Z"
   },
   {
    "duration": 2,
    "start_time": "2022-03-18T22:30:22.804Z"
   },
   {
    "duration": 4,
    "start_time": "2022-03-18T22:30:22.808Z"
   },
   {
    "duration": 4,
    "start_time": "2022-03-18T22:30:22.814Z"
   },
   {
    "duration": 4,
    "start_time": "2022-03-18T22:30:22.820Z"
   },
   {
    "duration": 13,
    "start_time": "2022-03-18T22:30:22.825Z"
   },
   {
    "duration": 4,
    "start_time": "2022-03-18T22:30:22.840Z"
   },
   {
    "duration": 5,
    "start_time": "2022-03-18T22:30:22.846Z"
   },
   {
    "duration": 5,
    "start_time": "2022-03-18T22:30:22.853Z"
   },
   {
    "duration": 7,
    "start_time": "2022-03-18T22:30:22.859Z"
   },
   {
    "duration": 8,
    "start_time": "2022-03-18T22:30:22.867Z"
   },
   {
    "duration": 5,
    "start_time": "2022-03-18T22:30:22.877Z"
   },
   {
    "duration": 5,
    "start_time": "2022-03-18T22:30:22.883Z"
   },
   {
    "duration": 7,
    "start_time": "2022-03-18T22:30:22.889Z"
   },
   {
    "duration": 4,
    "start_time": "2022-03-18T22:30:22.898Z"
   },
   {
    "duration": 5,
    "start_time": "2022-03-18T22:30:22.904Z"
   },
   {
    "duration": 6,
    "start_time": "2022-03-18T22:30:22.910Z"
   },
   {
    "duration": 5,
    "start_time": "2022-03-18T22:30:22.917Z"
   },
   {
    "duration": 14,
    "start_time": "2022-03-18T22:30:22.923Z"
   },
   {
    "duration": 2,
    "start_time": "2022-03-18T22:30:22.942Z"
   },
   {
    "duration": 8,
    "start_time": "2022-03-18T22:30:22.945Z"
   },
   {
    "duration": 6,
    "start_time": "2022-03-18T22:30:22.954Z"
   },
   {
    "duration": 5,
    "start_time": "2022-03-18T22:30:22.961Z"
   },
   {
    "duration": 6,
    "start_time": "2022-03-18T22:30:22.967Z"
   },
   {
    "duration": 6,
    "start_time": "2022-03-18T22:30:22.974Z"
   },
   {
    "duration": 6,
    "start_time": "2022-03-18T22:30:22.981Z"
   },
   {
    "duration": 9,
    "start_time": "2022-03-18T22:30:22.989Z"
   },
   {
    "duration": 7,
    "start_time": "2022-03-18T22:30:22.999Z"
   },
   {
    "duration": 6,
    "start_time": "2022-03-18T22:30:23.008Z"
   },
   {
    "duration": 5,
    "start_time": "2022-03-18T22:30:23.016Z"
   },
   {
    "duration": 5,
    "start_time": "2022-03-18T22:30:23.022Z"
   },
   {
    "duration": 10,
    "start_time": "2022-03-18T22:30:23.028Z"
   },
   {
    "duration": 8,
    "start_time": "2022-03-18T22:30:23.040Z"
   },
   {
    "duration": 4,
    "start_time": "2022-03-18T22:30:23.049Z"
   },
   {
    "duration": 10,
    "start_time": "2022-03-18T22:30:23.055Z"
   },
   {
    "duration": 12,
    "start_time": "2022-03-18T22:30:23.067Z"
   },
   {
    "duration": 8,
    "start_time": "2022-03-18T22:30:23.080Z"
   },
   {
    "duration": 27,
    "start_time": "2022-03-18T22:30:23.089Z"
   },
   {
    "duration": 13,
    "start_time": "2022-03-18T22:30:23.118Z"
   },
   {
    "duration": 5,
    "start_time": "2022-03-18T22:30:23.133Z"
   },
   {
    "duration": 5,
    "start_time": "2022-03-18T22:30:23.139Z"
   },
   {
    "duration": 5,
    "start_time": "2022-03-18T22:30:23.145Z"
   },
   {
    "duration": 4,
    "start_time": "2022-03-18T22:30:23.152Z"
   },
   {
    "duration": 6,
    "start_time": "2022-03-18T22:30:23.158Z"
   },
   {
    "duration": 5,
    "start_time": "2022-03-18T22:30:23.166Z"
   },
   {
    "duration": 5,
    "start_time": "2022-03-18T22:30:23.173Z"
   },
   {
    "duration": 4,
    "start_time": "2022-03-18T22:30:23.179Z"
   },
   {
    "duration": 5,
    "start_time": "2022-03-18T22:30:23.184Z"
   },
   {
    "duration": 7,
    "start_time": "2022-03-18T22:30:23.190Z"
   },
   {
    "duration": 7,
    "start_time": "2022-03-18T22:30:23.198Z"
   },
   {
    "duration": 4,
    "start_time": "2022-03-18T22:30:23.207Z"
   },
   {
    "duration": 10,
    "start_time": "2022-03-18T22:30:23.212Z"
   },
   {
    "duration": 7,
    "start_time": "2022-03-18T22:30:23.223Z"
   },
   {
    "duration": 4,
    "start_time": "2022-03-18T22:30:23.232Z"
   },
   {
    "duration": 4,
    "start_time": "2022-03-18T22:30:23.238Z"
   },
   {
    "duration": 5,
    "start_time": "2022-03-18T22:30:23.244Z"
   },
   {
    "duration": 5,
    "start_time": "2022-03-18T22:30:23.251Z"
   },
   {
    "duration": 12,
    "start_time": "2022-03-18T22:30:23.257Z"
   },
   {
    "duration": 4,
    "start_time": "2022-03-18T22:30:23.271Z"
   },
   {
    "duration": 3,
    "start_time": "2022-03-18T22:30:23.277Z"
   },
   {
    "duration": 6,
    "start_time": "2022-03-18T22:30:23.282Z"
   },
   {
    "duration": 5,
    "start_time": "2022-03-18T22:30:23.289Z"
   },
   {
    "duration": 4,
    "start_time": "2022-03-18T22:30:23.295Z"
   },
   {
    "duration": 5,
    "start_time": "2022-03-18T22:30:23.301Z"
   },
   {
    "duration": 4,
    "start_time": "2022-03-18T22:30:23.307Z"
   },
   {
    "duration": 9,
    "start_time": "2022-03-18T22:30:52.510Z"
   },
   {
    "duration": 12,
    "start_time": "2022-03-18T22:32:15.417Z"
   },
   {
    "duration": 651,
    "start_time": "2022-03-18T22:32:45.289Z"
   },
   {
    "duration": 12,
    "start_time": "2022-03-18T22:33:25.233Z"
   },
   {
    "duration": 414,
    "start_time": "2022-03-18T22:38:25.097Z"
   },
   {
    "duration": 9,
    "start_time": "2022-03-18T22:38:25.513Z"
   },
   {
    "duration": 23,
    "start_time": "2022-03-18T22:38:25.523Z"
   },
   {
    "duration": 16,
    "start_time": "2022-03-18T22:38:25.549Z"
   },
   {
    "duration": 18,
    "start_time": "2022-03-18T22:38:25.567Z"
   },
   {
    "duration": 10,
    "start_time": "2022-03-18T22:38:25.587Z"
   },
   {
    "duration": 7,
    "start_time": "2022-03-18T22:38:25.598Z"
   },
   {
    "duration": 15,
    "start_time": "2022-03-18T22:38:25.639Z"
   },
   {
    "duration": 9,
    "start_time": "2022-03-18T22:38:25.656Z"
   },
   {
    "duration": 15,
    "start_time": "2022-03-18T22:38:25.668Z"
   },
   {
    "duration": 3,
    "start_time": "2022-03-18T22:38:25.685Z"
   },
   {
    "duration": 5,
    "start_time": "2022-03-18T22:38:25.689Z"
   },
   {
    "duration": 9,
    "start_time": "2022-03-18T22:38:25.696Z"
   },
   {
    "duration": 5,
    "start_time": "2022-03-18T22:38:25.706Z"
   },
   {
    "duration": 26,
    "start_time": "2022-03-18T22:38:25.712Z"
   },
   {
    "duration": 5,
    "start_time": "2022-03-18T22:38:25.739Z"
   },
   {
    "duration": 5,
    "start_time": "2022-03-18T22:38:25.746Z"
   },
   {
    "duration": 5,
    "start_time": "2022-03-18T22:38:25.752Z"
   },
   {
    "duration": 5,
    "start_time": "2022-03-18T22:38:25.759Z"
   },
   {
    "duration": 4,
    "start_time": "2022-03-18T22:38:25.765Z"
   },
   {
    "duration": 8,
    "start_time": "2022-03-18T22:38:25.770Z"
   },
   {
    "duration": 4,
    "start_time": "2022-03-18T22:38:25.779Z"
   },
   {
    "duration": 5,
    "start_time": "2022-03-18T22:38:25.785Z"
   },
   {
    "duration": 5,
    "start_time": "2022-03-18T22:38:25.792Z"
   },
   {
    "duration": 13,
    "start_time": "2022-03-18T22:38:25.798Z"
   },
   {
    "duration": 5,
    "start_time": "2022-03-18T22:38:25.813Z"
   },
   {
    "duration": 5,
    "start_time": "2022-03-18T22:38:25.820Z"
   },
   {
    "duration": 2,
    "start_time": "2022-03-18T22:38:25.829Z"
   },
   {
    "duration": 4,
    "start_time": "2022-03-18T22:38:25.833Z"
   },
   {
    "duration": 4,
    "start_time": "2022-03-18T22:38:25.839Z"
   },
   {
    "duration": 6,
    "start_time": "2022-03-18T22:38:25.844Z"
   },
   {
    "duration": 4,
    "start_time": "2022-03-18T22:38:25.851Z"
   },
   {
    "duration": 4,
    "start_time": "2022-03-18T22:38:25.857Z"
   },
   {
    "duration": 8,
    "start_time": "2022-03-18T22:38:25.862Z"
   },
   {
    "duration": 5,
    "start_time": "2022-03-18T22:38:25.871Z"
   },
   {
    "duration": 4,
    "start_time": "2022-03-18T22:38:25.878Z"
   },
   {
    "duration": 6,
    "start_time": "2022-03-18T22:38:25.883Z"
   },
   {
    "duration": 5,
    "start_time": "2022-03-18T22:38:25.890Z"
   },
   {
    "duration": 6,
    "start_time": "2022-03-18T22:38:25.897Z"
   },
   {
    "duration": 6,
    "start_time": "2022-03-18T22:38:25.904Z"
   },
   {
    "duration": 7,
    "start_time": "2022-03-18T22:38:25.911Z"
   },
   {
    "duration": 4,
    "start_time": "2022-03-18T22:38:25.920Z"
   },
   {
    "duration": 13,
    "start_time": "2022-03-18T22:38:25.925Z"
   },
   {
    "duration": 5,
    "start_time": "2022-03-18T22:38:25.940Z"
   },
   {
    "duration": 6,
    "start_time": "2022-03-18T22:38:25.946Z"
   },
   {
    "duration": 5,
    "start_time": "2022-03-18T22:38:25.953Z"
   },
   {
    "duration": 5,
    "start_time": "2022-03-18T22:38:25.959Z"
   },
   {
    "duration": 6,
    "start_time": "2022-03-18T22:38:25.965Z"
   },
   {
    "duration": 5,
    "start_time": "2022-03-18T22:38:25.972Z"
   },
   {
    "duration": 6,
    "start_time": "2022-03-18T22:38:25.978Z"
   },
   {
    "duration": 5,
    "start_time": "2022-03-18T22:38:25.985Z"
   },
   {
    "duration": 7,
    "start_time": "2022-03-18T22:38:25.992Z"
   },
   {
    "duration": 5,
    "start_time": "2022-03-18T22:38:26.000Z"
   },
   {
    "duration": 6,
    "start_time": "2022-03-18T22:38:26.006Z"
   },
   {
    "duration": 5,
    "start_time": "2022-03-18T22:38:26.013Z"
   },
   {
    "duration": 3,
    "start_time": "2022-03-18T22:38:26.037Z"
   },
   {
    "duration": 5,
    "start_time": "2022-03-18T22:38:26.041Z"
   },
   {
    "duration": 8,
    "start_time": "2022-03-18T22:38:26.048Z"
   },
   {
    "duration": 5,
    "start_time": "2022-03-18T22:38:26.057Z"
   },
   {
    "duration": 12,
    "start_time": "2022-03-18T22:38:26.064Z"
   },
   {
    "duration": 6,
    "start_time": "2022-03-18T22:38:26.077Z"
   },
   {
    "duration": 4,
    "start_time": "2022-03-18T22:38:26.085Z"
   },
   {
    "duration": 10,
    "start_time": "2022-03-18T22:38:26.091Z"
   },
   {
    "duration": 12,
    "start_time": "2022-03-18T22:38:26.102Z"
   },
   {
    "duration": 5,
    "start_time": "2022-03-18T22:38:26.115Z"
   },
   {
    "duration": 5,
    "start_time": "2022-03-18T22:38:26.121Z"
   },
   {
    "duration": 5,
    "start_time": "2022-03-18T22:38:26.127Z"
   },
   {
    "duration": 4,
    "start_time": "2022-03-18T22:38:26.134Z"
   },
   {
    "duration": 4,
    "start_time": "2022-03-18T22:38:26.140Z"
   },
   {
    "duration": 8,
    "start_time": "2022-03-18T22:38:26.145Z"
   },
   {
    "duration": 9,
    "start_time": "2022-03-18T22:38:26.155Z"
   },
   {
    "duration": 11,
    "start_time": "2022-03-18T22:38:26.166Z"
   },
   {
    "duration": 5,
    "start_time": "2022-03-18T22:38:26.179Z"
   },
   {
    "duration": 398,
    "start_time": "2022-03-19T01:36:06.086Z"
   },
   {
    "duration": 7,
    "start_time": "2022-03-19T01:36:06.486Z"
   },
   {
    "duration": 19,
    "start_time": "2022-03-19T01:36:06.495Z"
   },
   {
    "duration": 14,
    "start_time": "2022-03-19T01:36:06.516Z"
   },
   {
    "duration": 17,
    "start_time": "2022-03-19T01:36:06.537Z"
   },
   {
    "duration": 9,
    "start_time": "2022-03-19T01:36:06.556Z"
   },
   {
    "duration": 7,
    "start_time": "2022-03-19T01:36:06.567Z"
   },
   {
    "duration": 14,
    "start_time": "2022-03-19T01:36:06.576Z"
   },
   {
    "duration": 8,
    "start_time": "2022-03-19T01:36:06.591Z"
   },
   {
    "duration": 37,
    "start_time": "2022-03-19T01:36:06.601Z"
   },
   {
    "duration": 667,
    "start_time": "2022-03-19T01:38:38.559Z"
   },
   {
    "duration": 5,
    "start_time": "2022-03-19T01:38:39.228Z"
   },
   {
    "duration": 19,
    "start_time": "2022-03-19T01:38:39.234Z"
   },
   {
    "duration": 14,
    "start_time": "2022-03-19T01:38:39.255Z"
   },
   {
    "duration": 20,
    "start_time": "2022-03-19T01:38:39.270Z"
   },
   {
    "duration": 9,
    "start_time": "2022-03-19T01:38:39.292Z"
   },
   {
    "duration": 7,
    "start_time": "2022-03-19T01:38:39.303Z"
   },
   {
    "duration": 34,
    "start_time": "2022-03-19T01:38:39.311Z"
   },
   {
    "duration": 6,
    "start_time": "2022-03-19T01:38:39.347Z"
   },
   {
    "duration": 12,
    "start_time": "2022-03-19T01:38:39.355Z"
   },
   {
    "duration": 3,
    "start_time": "2022-03-19T01:44:17.306Z"
   },
   {
    "duration": 9,
    "start_time": "2022-03-19T01:44:17.310Z"
   },
   {
    "duration": 3,
    "start_time": "2022-03-19T01:44:17.322Z"
   },
   {
    "duration": 16,
    "start_time": "2022-03-19T01:44:17.326Z"
   },
   {
    "duration": 5,
    "start_time": "2022-03-19T01:44:17.344Z"
   },
   {
    "duration": 6,
    "start_time": "2022-03-19T01:44:17.351Z"
   },
   {
    "duration": 7,
    "start_time": "2022-03-19T01:44:17.358Z"
   },
   {
    "duration": 7,
    "start_time": "2022-03-19T01:44:17.366Z"
   },
   {
    "duration": 7,
    "start_time": "2022-03-19T01:44:17.374Z"
   },
   {
    "duration": 6,
    "start_time": "2022-03-19T01:44:17.383Z"
   },
   {
    "duration": 5,
    "start_time": "2022-03-19T01:44:17.391Z"
   },
   {
    "duration": 8,
    "start_time": "2022-03-19T01:44:17.397Z"
   },
   {
    "duration": 7,
    "start_time": "2022-03-19T01:44:17.407Z"
   },
   {
    "duration": 7,
    "start_time": "2022-03-19T01:44:17.416Z"
   },
   {
    "duration": 8,
    "start_time": "2022-03-19T01:44:17.425Z"
   },
   {
    "duration": 6,
    "start_time": "2022-03-19T01:44:17.435Z"
   },
   {
    "duration": 5,
    "start_time": "2022-03-19T01:44:17.443Z"
   },
   {
    "duration": 5,
    "start_time": "2022-03-19T01:44:17.450Z"
   },
   {
    "duration": 7,
    "start_time": "2022-03-19T01:44:17.456Z"
   },
   {
    "duration": 6,
    "start_time": "2022-03-19T01:44:17.464Z"
   },
   {
    "duration": 6,
    "start_time": "2022-03-19T01:44:17.472Z"
   },
   {
    "duration": 8,
    "start_time": "2022-03-19T01:44:17.479Z"
   },
   {
    "duration": 7,
    "start_time": "2022-03-19T01:44:17.488Z"
   },
   {
    "duration": 5,
    "start_time": "2022-03-19T01:44:17.496Z"
   },
   {
    "duration": 4,
    "start_time": "2022-03-19T01:44:17.503Z"
   },
   {
    "duration": 4,
    "start_time": "2022-03-19T01:44:17.509Z"
   },
   {
    "duration": 7,
    "start_time": "2022-03-19T01:44:17.515Z"
   },
   {
    "duration": 5,
    "start_time": "2022-03-19T01:44:17.524Z"
   },
   {
    "duration": 4,
    "start_time": "2022-03-19T01:44:17.536Z"
   },
   {
    "duration": 4,
    "start_time": "2022-03-19T01:44:17.545Z"
   },
   {
    "duration": 8,
    "start_time": "2022-03-19T01:44:17.551Z"
   },
   {
    "duration": 7,
    "start_time": "2022-03-19T01:44:17.561Z"
   },
   {
    "duration": 8,
    "start_time": "2022-03-19T01:44:17.570Z"
   },
   {
    "duration": 7,
    "start_time": "2022-03-19T01:44:17.580Z"
   },
   {
    "duration": 7,
    "start_time": "2022-03-19T01:44:17.589Z"
   },
   {
    "duration": 5,
    "start_time": "2022-03-19T01:44:17.598Z"
   },
   {
    "duration": 9,
    "start_time": "2022-03-19T01:44:17.605Z"
   },
   {
    "duration": 5,
    "start_time": "2022-03-19T01:44:17.616Z"
   },
   {
    "duration": 5,
    "start_time": "2022-03-19T01:44:17.622Z"
   },
   {
    "duration": 9,
    "start_time": "2022-03-19T01:44:17.629Z"
   },
   {
    "duration": 5,
    "start_time": "2022-03-19T01:44:17.639Z"
   },
   {
    "duration": 5,
    "start_time": "2022-03-19T01:44:17.646Z"
   },
   {
    "duration": 6,
    "start_time": "2022-03-19T01:44:17.653Z"
   },
   {
    "duration": 6,
    "start_time": "2022-03-19T01:44:17.660Z"
   },
   {
    "duration": 8,
    "start_time": "2022-03-19T01:44:17.667Z"
   },
   {
    "duration": 3,
    "start_time": "2022-03-19T01:44:17.677Z"
   },
   {
    "duration": 5,
    "start_time": "2022-03-19T01:44:17.682Z"
   },
   {
    "duration": 13,
    "start_time": "2022-03-19T01:44:17.688Z"
   },
   {
    "duration": 8,
    "start_time": "2022-03-19T01:44:17.703Z"
   },
   {
    "duration": 6,
    "start_time": "2022-03-19T01:44:17.713Z"
   },
   {
    "duration": 10,
    "start_time": "2022-03-19T01:44:17.721Z"
   },
   {
    "duration": 5,
    "start_time": "2022-03-19T01:44:17.733Z"
   },
   {
    "duration": 5,
    "start_time": "2022-03-19T01:44:17.739Z"
   },
   {
    "duration": 6,
    "start_time": "2022-03-19T01:44:17.746Z"
   },
   {
    "duration": 3,
    "start_time": "2022-03-19T01:44:17.754Z"
   },
   {
    "duration": 5,
    "start_time": "2022-03-19T01:44:17.759Z"
   },
   {
    "duration": 4,
    "start_time": "2022-03-19T01:44:17.766Z"
   },
   {
    "duration": 6,
    "start_time": "2022-03-19T01:44:17.771Z"
   },
   {
    "duration": 5,
    "start_time": "2022-03-19T01:44:17.779Z"
   },
   {
    "duration": 4,
    "start_time": "2022-03-19T01:44:17.785Z"
   },
   {
    "duration": 4,
    "start_time": "2022-03-19T01:44:17.791Z"
   },
   {
    "duration": 9,
    "start_time": "2022-03-19T01:44:17.797Z"
   },
   {
    "duration": 6,
    "start_time": "2022-03-19T01:44:17.807Z"
   },
   {
    "duration": 0,
    "start_time": "2022-03-19T01:50:00.639Z"
   },
   {
    "duration": 0,
    "start_time": "2022-03-19T01:50:00.641Z"
   },
   {
    "duration": 12,
    "start_time": "2022-03-19T02:54:41.732Z"
   },
   {
    "duration": 8,
    "start_time": "2022-03-19T02:57:23.834Z"
   },
   {
    "duration": 19,
    "start_time": "2022-03-19T02:57:30.458Z"
   },
   {
    "duration": 11,
    "start_time": "2022-03-19T02:58:05.169Z"
   },
   {
    "duration": 8,
    "start_time": "2022-03-19T03:18:56.579Z"
   },
   {
    "duration": 10,
    "start_time": "2022-03-19T03:19:14.646Z"
   },
   {
    "duration": 8,
    "start_time": "2022-03-19T03:19:32.239Z"
   },
   {
    "duration": 9,
    "start_time": "2022-03-19T03:20:02.122Z"
   },
   {
    "duration": 121,
    "start_time": "2022-03-19T03:21:36.870Z"
   },
   {
    "duration": 17,
    "start_time": "2022-03-19T03:21:42.413Z"
   },
   {
    "duration": 19,
    "start_time": "2022-03-19T03:22:06.993Z"
   },
   {
    "duration": 118,
    "start_time": "2022-03-19T03:24:28.195Z"
   },
   {
    "duration": 108,
    "start_time": "2022-03-19T03:24:42.405Z"
   },
   {
    "duration": 107,
    "start_time": "2022-03-19T03:24:46.583Z"
   },
   {
    "duration": 102,
    "start_time": "2022-03-19T03:25:23.599Z"
   },
   {
    "duration": 4,
    "start_time": "2022-03-19T03:25:37.996Z"
   },
   {
    "duration": 23,
    "start_time": "2022-03-19T03:25:44.081Z"
   },
   {
    "duration": 15,
    "start_time": "2022-03-19T03:26:45.121Z"
   },
   {
    "duration": 16,
    "start_time": "2022-03-19T03:27:17.127Z"
   },
   {
    "duration": 462,
    "start_time": "2022-03-19T03:31:13.341Z"
   },
   {
    "duration": 9,
    "start_time": "2022-03-19T03:31:25.799Z"
   },
   {
    "duration": 14,
    "start_time": "2022-03-19T03:35:24.211Z"
   },
   {
    "duration": 17,
    "start_time": "2022-03-19T03:36:42.765Z"
   },
   {
    "duration": 9,
    "start_time": "2022-03-19T03:38:11.909Z"
   },
   {
    "duration": 12,
    "start_time": "2022-03-19T03:38:21.657Z"
   },
   {
    "duration": 16,
    "start_time": "2022-03-19T03:39:36.209Z"
   },
   {
    "duration": 12,
    "start_time": "2022-03-19T03:42:12.991Z"
   },
   {
    "duration": 10,
    "start_time": "2022-03-19T03:42:30.019Z"
   },
   {
    "duration": 12,
    "start_time": "2022-03-19T03:43:55.262Z"
   },
   {
    "duration": 9,
    "start_time": "2022-03-19T03:44:11.850Z"
   },
   {
    "duration": 13,
    "start_time": "2022-03-19T03:44:19.019Z"
   },
   {
    "duration": 143,
    "start_time": "2022-03-19T03:46:08.206Z"
   },
   {
    "duration": 9,
    "start_time": "2022-03-19T03:49:20.872Z"
   },
   {
    "duration": 13,
    "start_time": "2022-03-19T03:49:29.365Z"
   },
   {
    "duration": 9,
    "start_time": "2022-03-19T03:50:04.382Z"
   },
   {
    "duration": 12,
    "start_time": "2022-03-19T03:50:12.535Z"
   },
   {
    "duration": 10,
    "start_time": "2022-03-19T03:50:32.245Z"
   },
   {
    "duration": 11,
    "start_time": "2022-03-19T03:50:39.232Z"
   },
   {
    "duration": 438,
    "start_time": "2022-03-19T03:52:54.246Z"
   },
   {
    "duration": 8,
    "start_time": "2022-03-19T03:52:54.686Z"
   },
   {
    "duration": 32,
    "start_time": "2022-03-19T03:52:54.696Z"
   },
   {
    "duration": 20,
    "start_time": "2022-03-19T03:52:54.730Z"
   },
   {
    "duration": 19,
    "start_time": "2022-03-19T03:52:54.753Z"
   },
   {
    "duration": 11,
    "start_time": "2022-03-19T03:52:54.774Z"
   },
   {
    "duration": 10,
    "start_time": "2022-03-19T03:52:54.787Z"
   },
   {
    "duration": 39,
    "start_time": "2022-03-19T03:52:54.799Z"
   },
   {
    "duration": 8,
    "start_time": "2022-03-19T03:52:54.840Z"
   },
   {
    "duration": 20,
    "start_time": "2022-03-19T03:52:54.850Z"
   },
   {
    "duration": 842,
    "start_time": "2022-03-19T03:52:54.872Z"
   },
   {
    "duration": 0,
    "start_time": "2022-03-19T03:52:55.717Z"
   },
   {
    "duration": 0,
    "start_time": "2022-03-19T03:52:55.719Z"
   },
   {
    "duration": 0,
    "start_time": "2022-03-19T03:52:55.720Z"
   },
   {
    "duration": 0,
    "start_time": "2022-03-19T03:52:55.722Z"
   },
   {
    "duration": 0,
    "start_time": "2022-03-19T03:52:55.723Z"
   },
   {
    "duration": 0,
    "start_time": "2022-03-19T03:52:55.724Z"
   },
   {
    "duration": 0,
    "start_time": "2022-03-19T03:52:55.738Z"
   },
   {
    "duration": 0,
    "start_time": "2022-03-19T03:52:55.739Z"
   },
   {
    "duration": 0,
    "start_time": "2022-03-19T03:52:55.741Z"
   },
   {
    "duration": 0,
    "start_time": "2022-03-19T03:52:55.742Z"
   },
   {
    "duration": 0,
    "start_time": "2022-03-19T03:52:55.743Z"
   },
   {
    "duration": 0,
    "start_time": "2022-03-19T03:52:55.745Z"
   },
   {
    "duration": 0,
    "start_time": "2022-03-19T03:52:55.746Z"
   },
   {
    "duration": 0,
    "start_time": "2022-03-19T03:52:55.748Z"
   },
   {
    "duration": 0,
    "start_time": "2022-03-19T03:52:55.749Z"
   },
   {
    "duration": 0,
    "start_time": "2022-03-19T03:52:55.750Z"
   },
   {
    "duration": 0,
    "start_time": "2022-03-19T03:52:55.752Z"
   },
   {
    "duration": 0,
    "start_time": "2022-03-19T03:52:55.753Z"
   },
   {
    "duration": 0,
    "start_time": "2022-03-19T03:52:55.754Z"
   },
   {
    "duration": 0,
    "start_time": "2022-03-19T03:52:55.755Z"
   },
   {
    "duration": 0,
    "start_time": "2022-03-19T03:52:55.756Z"
   },
   {
    "duration": 0,
    "start_time": "2022-03-19T03:52:55.757Z"
   },
   {
    "duration": 0,
    "start_time": "2022-03-19T03:52:55.759Z"
   },
   {
    "duration": 0,
    "start_time": "2022-03-19T03:52:55.759Z"
   },
   {
    "duration": 0,
    "start_time": "2022-03-19T03:52:55.761Z"
   },
   {
    "duration": 0,
    "start_time": "2022-03-19T03:52:55.762Z"
   },
   {
    "duration": 0,
    "start_time": "2022-03-19T03:52:55.763Z"
   },
   {
    "duration": 0,
    "start_time": "2022-03-19T03:52:55.764Z"
   },
   {
    "duration": 0,
    "start_time": "2022-03-19T03:52:55.765Z"
   },
   {
    "duration": 0,
    "start_time": "2022-03-19T03:52:55.766Z"
   },
   {
    "duration": 0,
    "start_time": "2022-03-19T03:52:55.767Z"
   },
   {
    "duration": 0,
    "start_time": "2022-03-19T03:52:55.768Z"
   },
   {
    "duration": 0,
    "start_time": "2022-03-19T03:52:55.769Z"
   },
   {
    "duration": 0,
    "start_time": "2022-03-19T03:52:55.770Z"
   },
   {
    "duration": 0,
    "start_time": "2022-03-19T03:52:55.771Z"
   },
   {
    "duration": 0,
    "start_time": "2022-03-19T03:52:55.772Z"
   },
   {
    "duration": 0,
    "start_time": "2022-03-19T03:52:55.773Z"
   },
   {
    "duration": 0,
    "start_time": "2022-03-19T03:52:55.838Z"
   },
   {
    "duration": 0,
    "start_time": "2022-03-19T03:52:55.839Z"
   },
   {
    "duration": 0,
    "start_time": "2022-03-19T03:52:55.840Z"
   },
   {
    "duration": 0,
    "start_time": "2022-03-19T03:52:55.841Z"
   },
   {
    "duration": 0,
    "start_time": "2022-03-19T03:52:55.842Z"
   },
   {
    "duration": 0,
    "start_time": "2022-03-19T03:52:55.843Z"
   },
   {
    "duration": 0,
    "start_time": "2022-03-19T03:52:55.844Z"
   },
   {
    "duration": 0,
    "start_time": "2022-03-19T03:52:55.845Z"
   },
   {
    "duration": 0,
    "start_time": "2022-03-19T03:52:55.846Z"
   },
   {
    "duration": 0,
    "start_time": "2022-03-19T03:52:55.847Z"
   },
   {
    "duration": 0,
    "start_time": "2022-03-19T03:52:55.848Z"
   },
   {
    "duration": 0,
    "start_time": "2022-03-19T03:52:55.849Z"
   },
   {
    "duration": 0,
    "start_time": "2022-03-19T03:52:55.850Z"
   },
   {
    "duration": 0,
    "start_time": "2022-03-19T03:52:55.851Z"
   },
   {
    "duration": 0,
    "start_time": "2022-03-19T03:52:55.852Z"
   },
   {
    "duration": 0,
    "start_time": "2022-03-19T03:52:55.853Z"
   },
   {
    "duration": 0,
    "start_time": "2022-03-19T03:52:55.854Z"
   },
   {
    "duration": 0,
    "start_time": "2022-03-19T03:52:55.854Z"
   },
   {
    "duration": 0,
    "start_time": "2022-03-19T03:52:55.856Z"
   },
   {
    "duration": 0,
    "start_time": "2022-03-19T03:52:55.857Z"
   },
   {
    "duration": 1,
    "start_time": "2022-03-19T03:52:55.857Z"
   },
   {
    "duration": 0,
    "start_time": "2022-03-19T03:52:55.859Z"
   },
   {
    "duration": 0,
    "start_time": "2022-03-19T03:52:55.859Z"
   },
   {
    "duration": 0,
    "start_time": "2022-03-19T03:52:55.860Z"
   },
   {
    "duration": 0,
    "start_time": "2022-03-19T03:52:55.861Z"
   },
   {
    "duration": 0,
    "start_time": "2022-03-19T03:52:55.862Z"
   },
   {
    "duration": 15,
    "start_time": "2022-03-19T03:53:59.781Z"
   },
   {
    "duration": 12,
    "start_time": "2022-03-19T03:54:22.047Z"
   },
   {
    "duration": 17,
    "start_time": "2022-03-19T03:54:24.755Z"
   },
   {
    "duration": 20,
    "start_time": "2022-03-19T03:54:38.963Z"
   },
   {
    "duration": 11,
    "start_time": "2022-03-19T03:56:37.309Z"
   },
   {
    "duration": 10,
    "start_time": "2022-03-19T03:57:05.521Z"
   },
   {
    "duration": 10,
    "start_time": "2022-03-19T03:57:18.253Z"
   },
   {
    "duration": 12,
    "start_time": "2022-03-19T03:57:23.956Z"
   },
   {
    "duration": 13,
    "start_time": "2022-03-19T03:59:25.870Z"
   },
   {
    "duration": 14,
    "start_time": "2022-03-19T04:00:12.267Z"
   },
   {
    "duration": 110,
    "start_time": "2022-03-19T04:01:10.286Z"
   },
   {
    "duration": 13,
    "start_time": "2022-03-19T04:01:17.459Z"
   },
   {
    "duration": 14,
    "start_time": "2022-03-19T04:05:41.852Z"
   },
   {
    "duration": 15,
    "start_time": "2022-03-19T04:06:10.319Z"
   },
   {
    "duration": 144,
    "start_time": "2022-03-19T04:06:20.561Z"
   },
   {
    "duration": 14,
    "start_time": "2022-03-19T04:06:44.526Z"
   },
   {
    "duration": 9,
    "start_time": "2022-03-19T04:06:55.888Z"
   },
   {
    "duration": 142,
    "start_time": "2022-03-19T04:07:07.771Z"
   },
   {
    "duration": 15,
    "start_time": "2022-03-19T04:07:35.007Z"
   },
   {
    "duration": 12,
    "start_time": "2022-03-19T04:07:48.947Z"
   },
   {
    "duration": 22,
    "start_time": "2022-03-19T04:11:21.000Z"
   },
   {
    "duration": 8,
    "start_time": "2022-03-19T04:12:45.175Z"
   },
   {
    "duration": 131,
    "start_time": "2022-03-19T04:12:57.594Z"
   },
   {
    "duration": 17,
    "start_time": "2022-03-19T04:14:52.049Z"
   },
   {
    "duration": 127,
    "start_time": "2022-03-19T04:14:56.968Z"
   },
   {
    "duration": 24,
    "start_time": "2022-03-19T04:15:25.736Z"
   },
   {
    "duration": 16,
    "start_time": "2022-03-19T04:15:50.346Z"
   },
   {
    "duration": 120,
    "start_time": "2022-03-19T04:15:54.411Z"
   },
   {
    "duration": 16,
    "start_time": "2022-03-19T04:19:41.838Z"
   },
   {
    "duration": 664,
    "start_time": "2022-03-19T04:21:51.988Z"
   },
   {
    "duration": 126,
    "start_time": "2022-03-19T04:23:30.608Z"
   },
   {
    "duration": 9,
    "start_time": "2022-03-19T04:23:46.344Z"
   },
   {
    "duration": 614,
    "start_time": "2022-03-19T04:24:02.091Z"
   },
   {
    "duration": 14,
    "start_time": "2022-03-19T04:24:56.816Z"
   },
   {
    "duration": 123,
    "start_time": "2022-03-19T04:25:01.709Z"
   },
   {
    "duration": 456,
    "start_time": "2022-03-19T19:45:42.974Z"
   },
   {
    "duration": 0,
    "start_time": "2022-03-19T19:45:43.433Z"
   },
   {
    "duration": 0,
    "start_time": "2022-03-19T19:45:43.434Z"
   },
   {
    "duration": 0,
    "start_time": "2022-03-19T19:45:43.435Z"
   },
   {
    "duration": 0,
    "start_time": "2022-03-19T19:45:43.436Z"
   },
   {
    "duration": 0,
    "start_time": "2022-03-19T19:45:43.437Z"
   },
   {
    "duration": 0,
    "start_time": "2022-03-19T19:45:43.438Z"
   },
   {
    "duration": 0,
    "start_time": "2022-03-19T19:45:43.439Z"
   },
   {
    "duration": 0,
    "start_time": "2022-03-19T19:45:43.440Z"
   },
   {
    "duration": 0,
    "start_time": "2022-03-19T19:45:43.441Z"
   },
   {
    "duration": 0,
    "start_time": "2022-03-19T19:45:43.442Z"
   },
   {
    "duration": 0,
    "start_time": "2022-03-19T19:45:43.443Z"
   },
   {
    "duration": 0,
    "start_time": "2022-03-19T19:45:43.444Z"
   },
   {
    "duration": 0,
    "start_time": "2022-03-19T19:45:43.445Z"
   },
   {
    "duration": 0,
    "start_time": "2022-03-19T19:45:43.445Z"
   },
   {
    "duration": 0,
    "start_time": "2022-03-19T19:45:43.446Z"
   },
   {
    "duration": 0,
    "start_time": "2022-03-19T19:45:43.447Z"
   },
   {
    "duration": 0,
    "start_time": "2022-03-19T19:45:43.448Z"
   },
   {
    "duration": 0,
    "start_time": "2022-03-19T19:45:43.449Z"
   },
   {
    "duration": 0,
    "start_time": "2022-03-19T19:45:43.450Z"
   },
   {
    "duration": 0,
    "start_time": "2022-03-19T19:45:43.451Z"
   },
   {
    "duration": 0,
    "start_time": "2022-03-19T19:45:43.452Z"
   },
   {
    "duration": 0,
    "start_time": "2022-03-19T19:45:43.452Z"
   },
   {
    "duration": 0,
    "start_time": "2022-03-19T19:45:43.453Z"
   },
   {
    "duration": 0,
    "start_time": "2022-03-19T19:45:43.454Z"
   },
   {
    "duration": 0,
    "start_time": "2022-03-19T19:45:43.455Z"
   },
   {
    "duration": 0,
    "start_time": "2022-03-19T19:45:43.456Z"
   },
   {
    "duration": 0,
    "start_time": "2022-03-19T19:45:43.456Z"
   },
   {
    "duration": 0,
    "start_time": "2022-03-19T19:45:43.501Z"
   },
   {
    "duration": 0,
    "start_time": "2022-03-19T19:45:43.502Z"
   },
   {
    "duration": 0,
    "start_time": "2022-03-19T19:45:43.502Z"
   },
   {
    "duration": 0,
    "start_time": "2022-03-19T19:45:43.503Z"
   },
   {
    "duration": 0,
    "start_time": "2022-03-19T19:45:43.504Z"
   },
   {
    "duration": 0,
    "start_time": "2022-03-19T19:45:43.505Z"
   },
   {
    "duration": 0,
    "start_time": "2022-03-19T19:45:43.506Z"
   },
   {
    "duration": 0,
    "start_time": "2022-03-19T19:45:43.507Z"
   },
   {
    "duration": 0,
    "start_time": "2022-03-19T19:45:43.508Z"
   },
   {
    "duration": 0,
    "start_time": "2022-03-19T19:45:43.509Z"
   },
   {
    "duration": 0,
    "start_time": "2022-03-19T19:45:43.510Z"
   },
   {
    "duration": 0,
    "start_time": "2022-03-19T19:45:43.510Z"
   },
   {
    "duration": 0,
    "start_time": "2022-03-19T19:45:43.511Z"
   },
   {
    "duration": 0,
    "start_time": "2022-03-19T19:45:43.512Z"
   },
   {
    "duration": 0,
    "start_time": "2022-03-19T19:45:43.513Z"
   },
   {
    "duration": 0,
    "start_time": "2022-03-19T19:45:43.513Z"
   },
   {
    "duration": 0,
    "start_time": "2022-03-19T19:45:43.514Z"
   },
   {
    "duration": 0,
    "start_time": "2022-03-19T19:45:43.515Z"
   },
   {
    "duration": 0,
    "start_time": "2022-03-19T19:45:43.516Z"
   },
   {
    "duration": 0,
    "start_time": "2022-03-19T19:45:43.517Z"
   },
   {
    "duration": 0,
    "start_time": "2022-03-19T19:45:43.518Z"
   },
   {
    "duration": 0,
    "start_time": "2022-03-19T19:45:43.519Z"
   },
   {
    "duration": 0,
    "start_time": "2022-03-19T19:45:43.519Z"
   },
   {
    "duration": 0,
    "start_time": "2022-03-19T19:45:43.522Z"
   },
   {
    "duration": 0,
    "start_time": "2022-03-19T19:45:43.523Z"
   },
   {
    "duration": 0,
    "start_time": "2022-03-19T19:45:43.523Z"
   },
   {
    "duration": 0,
    "start_time": "2022-03-19T19:45:43.524Z"
   },
   {
    "duration": 0,
    "start_time": "2022-03-19T19:45:43.525Z"
   },
   {
    "duration": 0,
    "start_time": "2022-03-19T19:45:43.526Z"
   },
   {
    "duration": 0,
    "start_time": "2022-03-19T19:45:43.527Z"
   },
   {
    "duration": 0,
    "start_time": "2022-03-19T19:45:43.528Z"
   },
   {
    "duration": 0,
    "start_time": "2022-03-19T19:45:43.529Z"
   },
   {
    "duration": 0,
    "start_time": "2022-03-19T19:45:43.530Z"
   },
   {
    "duration": 0,
    "start_time": "2022-03-19T19:45:43.531Z"
   },
   {
    "duration": 1,
    "start_time": "2022-03-19T19:45:43.531Z"
   },
   {
    "duration": 0,
    "start_time": "2022-03-19T19:45:43.533Z"
   },
   {
    "duration": 0,
    "start_time": "2022-03-19T19:45:43.533Z"
   },
   {
    "duration": 0,
    "start_time": "2022-03-19T19:45:43.534Z"
   },
   {
    "duration": 0,
    "start_time": "2022-03-19T19:45:43.535Z"
   },
   {
    "duration": 0,
    "start_time": "2022-03-19T19:45:43.536Z"
   },
   {
    "duration": 0,
    "start_time": "2022-03-19T19:45:43.537Z"
   },
   {
    "duration": 0,
    "start_time": "2022-03-19T19:45:43.601Z"
   },
   {
    "duration": 0,
    "start_time": "2022-03-19T19:45:43.602Z"
   },
   {
    "duration": 0,
    "start_time": "2022-03-19T19:45:43.603Z"
   },
   {
    "duration": 0,
    "start_time": "2022-03-19T19:45:43.604Z"
   },
   {
    "duration": 0,
    "start_time": "2022-03-19T19:45:43.605Z"
   },
   {
    "duration": 7,
    "start_time": "2022-03-19T19:46:05.391Z"
   },
   {
    "duration": 44,
    "start_time": "2022-03-19T19:46:18.041Z"
   },
   {
    "duration": 7,
    "start_time": "2022-03-19T19:46:20.656Z"
   },
   {
    "duration": 15,
    "start_time": "2022-03-19T19:46:21.427Z"
   },
   {
    "duration": 17,
    "start_time": "2022-03-19T19:46:22.622Z"
   },
   {
    "duration": 18,
    "start_time": "2022-03-19T19:46:23.546Z"
   },
   {
    "duration": 10,
    "start_time": "2022-03-19T19:46:24.120Z"
   },
   {
    "duration": 7,
    "start_time": "2022-03-19T19:46:25.562Z"
   },
   {
    "duration": 13,
    "start_time": "2022-03-19T19:46:26.381Z"
   },
   {
    "duration": 7,
    "start_time": "2022-03-19T19:46:49.298Z"
   },
   {
    "duration": 13,
    "start_time": "2022-03-19T19:46:50.526Z"
   },
   {
    "duration": 514,
    "start_time": "2022-03-19T19:46:56.116Z"
   },
   {
    "duration": 16,
    "start_time": "2022-03-19T19:47:24.142Z"
   },
   {
    "duration": 113,
    "start_time": "2022-03-19T19:47:27.220Z"
   },
   {
    "duration": 100,
    "start_time": "2022-03-19T19:47:40.886Z"
   },
   {
    "duration": 8,
    "start_time": "2022-03-19T19:49:40.193Z"
   },
   {
    "duration": 45,
    "start_time": "2022-03-19T19:49:47.516Z"
   },
   {
    "duration": 43,
    "start_time": "2022-03-19T19:50:27.455Z"
   },
   {
    "duration": 755,
    "start_time": "2022-03-19T19:50:34.196Z"
   },
   {
    "duration": 4,
    "start_time": "2022-03-19T19:50:34.953Z"
   },
   {
    "duration": 17,
    "start_time": "2022-03-19T19:50:34.959Z"
   },
   {
    "duration": 17,
    "start_time": "2022-03-19T19:50:34.977Z"
   },
   {
    "duration": 21,
    "start_time": "2022-03-19T19:50:34.996Z"
   },
   {
    "duration": 10,
    "start_time": "2022-03-19T19:50:35.018Z"
   },
   {
    "duration": 7,
    "start_time": "2022-03-19T19:50:35.029Z"
   },
   {
    "duration": 13,
    "start_time": "2022-03-19T19:50:35.037Z"
   },
   {
    "duration": 6,
    "start_time": "2022-03-19T19:50:35.052Z"
   },
   {
    "duration": 46,
    "start_time": "2022-03-19T19:50:35.060Z"
   },
   {
    "duration": 202,
    "start_time": "2022-03-19T19:50:35.108Z"
   },
   {
    "duration": 0,
    "start_time": "2022-03-19T19:50:35.313Z"
   },
   {
    "duration": 0,
    "start_time": "2022-03-19T19:50:35.314Z"
   },
   {
    "duration": 0,
    "start_time": "2022-03-19T19:50:35.315Z"
   },
   {
    "duration": 0,
    "start_time": "2022-03-19T19:50:35.316Z"
   },
   {
    "duration": 0,
    "start_time": "2022-03-19T19:50:35.317Z"
   },
   {
    "duration": 0,
    "start_time": "2022-03-19T19:50:35.318Z"
   },
   {
    "duration": 0,
    "start_time": "2022-03-19T19:50:35.319Z"
   },
   {
    "duration": 0,
    "start_time": "2022-03-19T19:50:35.320Z"
   },
   {
    "duration": 0,
    "start_time": "2022-03-19T19:50:35.321Z"
   },
   {
    "duration": 0,
    "start_time": "2022-03-19T19:50:35.322Z"
   },
   {
    "duration": 0,
    "start_time": "2022-03-19T19:50:35.323Z"
   },
   {
    "duration": 0,
    "start_time": "2022-03-19T19:50:35.324Z"
   },
   {
    "duration": 0,
    "start_time": "2022-03-19T19:50:35.325Z"
   },
   {
    "duration": 0,
    "start_time": "2022-03-19T19:50:35.326Z"
   },
   {
    "duration": 0,
    "start_time": "2022-03-19T19:50:35.327Z"
   },
   {
    "duration": 0,
    "start_time": "2022-03-19T19:50:35.328Z"
   },
   {
    "duration": 0,
    "start_time": "2022-03-19T19:50:35.329Z"
   },
   {
    "duration": 0,
    "start_time": "2022-03-19T19:50:35.330Z"
   },
   {
    "duration": 0,
    "start_time": "2022-03-19T19:50:35.331Z"
   },
   {
    "duration": 0,
    "start_time": "2022-03-19T19:50:35.332Z"
   },
   {
    "duration": 0,
    "start_time": "2022-03-19T19:50:35.333Z"
   },
   {
    "duration": 0,
    "start_time": "2022-03-19T19:50:35.334Z"
   },
   {
    "duration": 0,
    "start_time": "2022-03-19T19:50:35.335Z"
   },
   {
    "duration": 0,
    "start_time": "2022-03-19T19:50:35.336Z"
   },
   {
    "duration": 0,
    "start_time": "2022-03-19T19:50:35.337Z"
   },
   {
    "duration": 0,
    "start_time": "2022-03-19T19:50:35.338Z"
   },
   {
    "duration": 0,
    "start_time": "2022-03-19T19:50:35.339Z"
   },
   {
    "duration": 0,
    "start_time": "2022-03-19T19:50:35.340Z"
   },
   {
    "duration": 0,
    "start_time": "2022-03-19T19:50:35.341Z"
   },
   {
    "duration": 0,
    "start_time": "2022-03-19T19:50:35.342Z"
   },
   {
    "duration": 0,
    "start_time": "2022-03-19T19:50:35.343Z"
   },
   {
    "duration": 0,
    "start_time": "2022-03-19T19:50:35.344Z"
   },
   {
    "duration": 0,
    "start_time": "2022-03-19T19:50:35.345Z"
   },
   {
    "duration": 0,
    "start_time": "2022-03-19T19:50:35.346Z"
   },
   {
    "duration": 0,
    "start_time": "2022-03-19T19:50:35.401Z"
   },
   {
    "duration": 0,
    "start_time": "2022-03-19T19:50:35.402Z"
   },
   {
    "duration": 0,
    "start_time": "2022-03-19T19:50:35.404Z"
   },
   {
    "duration": 0,
    "start_time": "2022-03-19T19:50:35.405Z"
   },
   {
    "duration": 0,
    "start_time": "2022-03-19T19:50:35.405Z"
   },
   {
    "duration": 0,
    "start_time": "2022-03-19T19:50:35.407Z"
   },
   {
    "duration": 0,
    "start_time": "2022-03-19T19:50:35.408Z"
   },
   {
    "duration": 0,
    "start_time": "2022-03-19T19:50:35.409Z"
   },
   {
    "duration": 0,
    "start_time": "2022-03-19T19:50:35.410Z"
   },
   {
    "duration": 0,
    "start_time": "2022-03-19T19:50:35.411Z"
   },
   {
    "duration": 0,
    "start_time": "2022-03-19T19:50:35.412Z"
   },
   {
    "duration": 0,
    "start_time": "2022-03-19T19:50:35.413Z"
   },
   {
    "duration": 0,
    "start_time": "2022-03-19T19:50:35.414Z"
   },
   {
    "duration": 0,
    "start_time": "2022-03-19T19:50:35.415Z"
   },
   {
    "duration": 0,
    "start_time": "2022-03-19T19:50:35.416Z"
   },
   {
    "duration": 0,
    "start_time": "2022-03-19T19:50:35.418Z"
   },
   {
    "duration": 0,
    "start_time": "2022-03-19T19:50:35.418Z"
   },
   {
    "duration": 0,
    "start_time": "2022-03-19T19:50:35.419Z"
   },
   {
    "duration": 0,
    "start_time": "2022-03-19T19:50:35.420Z"
   },
   {
    "duration": 0,
    "start_time": "2022-03-19T19:50:35.421Z"
   },
   {
    "duration": 0,
    "start_time": "2022-03-19T19:50:35.422Z"
   },
   {
    "duration": 0,
    "start_time": "2022-03-19T19:50:35.423Z"
   },
   {
    "duration": 0,
    "start_time": "2022-03-19T19:50:35.424Z"
   },
   {
    "duration": 0,
    "start_time": "2022-03-19T19:50:35.425Z"
   },
   {
    "duration": 0,
    "start_time": "2022-03-19T19:50:35.426Z"
   },
   {
    "duration": 0,
    "start_time": "2022-03-19T19:50:35.427Z"
   },
   {
    "duration": 0,
    "start_time": "2022-03-19T19:50:35.428Z"
   },
   {
    "duration": 0,
    "start_time": "2022-03-19T19:50:35.429Z"
   },
   {
    "duration": 0,
    "start_time": "2022-03-19T19:50:35.430Z"
   },
   {
    "duration": 8,
    "start_time": "2022-03-19T21:18:38.995Z"
   },
   {
    "duration": 7,
    "start_time": "2022-03-19T21:19:01.958Z"
   },
   {
    "duration": 399,
    "start_time": "2022-03-19T21:19:13.266Z"
   },
   {
    "duration": 8,
    "start_time": "2022-03-19T21:20:05.222Z"
   },
   {
    "duration": 117,
    "start_time": "2022-03-19T21:20:13.168Z"
   },
   {
    "duration": 105,
    "start_time": "2022-03-19T21:20:32.569Z"
   },
   {
    "duration": 8,
    "start_time": "2022-03-19T21:21:05.143Z"
   },
   {
    "duration": 9,
    "start_time": "2022-03-19T21:23:31.289Z"
   },
   {
    "duration": 11,
    "start_time": "2022-03-19T21:24:05.980Z"
   },
   {
    "duration": 9,
    "start_time": "2022-03-19T21:24:15.303Z"
   },
   {
    "duration": 7,
    "start_time": "2022-03-19T21:38:31.818Z"
   },
   {
    "duration": 6,
    "start_time": "2022-03-19T21:39:21.727Z"
   },
   {
    "duration": 7,
    "start_time": "2022-03-19T21:40:43.188Z"
   },
   {
    "duration": 11,
    "start_time": "2022-03-19T21:45:32.801Z"
   },
   {
    "duration": 32,
    "start_time": "2022-03-19T21:45:50.437Z"
   },
   {
    "duration": 196,
    "start_time": "2022-03-19T21:46:06.404Z"
   },
   {
    "duration": 15,
    "start_time": "2022-03-19T21:46:10.788Z"
   },
   {
    "duration": 17,
    "start_time": "2022-03-19T21:46:22.450Z"
   },
   {
    "duration": 32,
    "start_time": "2022-03-19T21:46:27.322Z"
   },
   {
    "duration": 64,
    "start_time": "2022-03-19T21:46:50.176Z"
   },
   {
    "duration": 8,
    "start_time": "2022-03-19T21:47:11.257Z"
   },
   {
    "duration": 22,
    "start_time": "2022-03-19T21:47:25.172Z"
   },
   {
    "duration": 59,
    "start_time": "2022-03-19T21:48:03.037Z"
   },
   {
    "duration": 22,
    "start_time": "2022-03-19T21:48:12.476Z"
   },
   {
    "duration": 196,
    "start_time": "2022-03-19T21:48:37.104Z"
   },
   {
    "duration": 184,
    "start_time": "2022-03-19T21:48:54.393Z"
   },
   {
    "duration": 8,
    "start_time": "2022-03-19T21:49:00.985Z"
   },
   {
    "duration": 220,
    "start_time": "2022-03-19T21:49:18.147Z"
   },
   {
    "duration": 233,
    "start_time": "2022-03-19T21:49:22.969Z"
   },
   {
    "duration": 24,
    "start_time": "2022-03-19T21:49:30.884Z"
   },
   {
    "duration": 16,
    "start_time": "2022-03-19T21:57:50.464Z"
   },
   {
    "duration": 12,
    "start_time": "2022-03-19T22:00:06.784Z"
   },
   {
    "duration": 24,
    "start_time": "2022-03-19T22:01:00.795Z"
   },
   {
    "duration": 10,
    "start_time": "2022-03-19T22:01:17.179Z"
   },
   {
    "duration": 200,
    "start_time": "2022-03-19T22:01:36.910Z"
   },
   {
    "duration": 7,
    "start_time": "2022-03-19T22:01:42.905Z"
   },
   {
    "duration": 12,
    "start_time": "2022-03-19T22:05:25.975Z"
   },
   {
    "duration": 12,
    "start_time": "2022-03-19T22:06:02.125Z"
   },
   {
    "duration": 10,
    "start_time": "2022-03-19T22:06:49.102Z"
   },
   {
    "duration": 10,
    "start_time": "2022-03-19T22:07:14.816Z"
   },
   {
    "duration": 200,
    "start_time": "2022-03-19T22:07:51.507Z"
   },
   {
    "duration": 10,
    "start_time": "2022-03-19T22:07:58.237Z"
   },
   {
    "duration": 198,
    "start_time": "2022-03-19T22:08:19.676Z"
   },
   {
    "duration": 12,
    "start_time": "2022-03-19T22:08:40.997Z"
   },
   {
    "duration": 11,
    "start_time": "2022-03-19T22:08:47.527Z"
   },
   {
    "duration": 11,
    "start_time": "2022-03-19T22:09:58.169Z"
   },
   {
    "duration": 11,
    "start_time": "2022-03-19T22:10:02.699Z"
   },
   {
    "duration": 10,
    "start_time": "2022-03-19T22:10:27.769Z"
   },
   {
    "duration": 384,
    "start_time": "2022-03-19T22:11:19.457Z"
   },
   {
    "duration": 9,
    "start_time": "2022-03-19T22:13:52.919Z"
   },
   {
    "duration": 8,
    "start_time": "2022-03-19T22:14:19.416Z"
   },
   {
    "duration": 9,
    "start_time": "2022-03-19T22:14:50.913Z"
   },
   {
    "duration": 6,
    "start_time": "2022-03-19T22:19:08.525Z"
   },
   {
    "duration": 10,
    "start_time": "2022-03-19T22:19:18.730Z"
   },
   {
    "duration": 493,
    "start_time": "2022-03-19T22:21:57.756Z"
   },
   {
    "duration": 1116,
    "start_time": "2022-03-19T22:22:18.810Z"
   },
   {
    "duration": 5,
    "start_time": "2022-03-19T22:22:19.928Z"
   },
   {
    "duration": 16,
    "start_time": "2022-03-19T22:22:19.935Z"
   },
   {
    "duration": 14,
    "start_time": "2022-03-19T22:22:19.952Z"
   },
   {
    "duration": 34,
    "start_time": "2022-03-19T22:22:19.967Z"
   },
   {
    "duration": 9,
    "start_time": "2022-03-19T22:22:20.003Z"
   },
   {
    "duration": 5,
    "start_time": "2022-03-19T22:22:20.013Z"
   },
   {
    "duration": 12,
    "start_time": "2022-03-19T22:22:20.020Z"
   },
   {
    "duration": 6,
    "start_time": "2022-03-19T22:22:20.033Z"
   },
   {
    "duration": 110,
    "start_time": "2022-03-19T22:22:20.041Z"
   },
   {
    "duration": 0,
    "start_time": "2022-03-19T22:22:20.153Z"
   },
   {
    "duration": 0,
    "start_time": "2022-03-19T22:22:20.154Z"
   },
   {
    "duration": 0,
    "start_time": "2022-03-19T22:22:20.155Z"
   },
   {
    "duration": 0,
    "start_time": "2022-03-19T22:22:20.156Z"
   },
   {
    "duration": 0,
    "start_time": "2022-03-19T22:22:20.157Z"
   },
   {
    "duration": 0,
    "start_time": "2022-03-19T22:22:20.158Z"
   },
   {
    "duration": 0,
    "start_time": "2022-03-19T22:22:20.159Z"
   },
   {
    "duration": 0,
    "start_time": "2022-03-19T22:22:20.160Z"
   },
   {
    "duration": 0,
    "start_time": "2022-03-19T22:22:20.161Z"
   },
   {
    "duration": 0,
    "start_time": "2022-03-19T22:22:20.162Z"
   },
   {
    "duration": 0,
    "start_time": "2022-03-19T22:22:20.163Z"
   },
   {
    "duration": 0,
    "start_time": "2022-03-19T22:22:20.164Z"
   },
   {
    "duration": 0,
    "start_time": "2022-03-19T22:22:20.165Z"
   },
   {
    "duration": 0,
    "start_time": "2022-03-19T22:22:20.166Z"
   },
   {
    "duration": 0,
    "start_time": "2022-03-19T22:22:20.167Z"
   },
   {
    "duration": 0,
    "start_time": "2022-03-19T22:22:20.168Z"
   },
   {
    "duration": 0,
    "start_time": "2022-03-19T22:22:20.169Z"
   },
   {
    "duration": 0,
    "start_time": "2022-03-19T22:22:20.170Z"
   },
   {
    "duration": 0,
    "start_time": "2022-03-19T22:22:20.171Z"
   },
   {
    "duration": 0,
    "start_time": "2022-03-19T22:22:20.200Z"
   },
   {
    "duration": 0,
    "start_time": "2022-03-19T22:22:20.201Z"
   },
   {
    "duration": 0,
    "start_time": "2022-03-19T22:22:20.202Z"
   },
   {
    "duration": 0,
    "start_time": "2022-03-19T22:22:20.203Z"
   },
   {
    "duration": 0,
    "start_time": "2022-03-19T22:22:20.204Z"
   },
   {
    "duration": 0,
    "start_time": "2022-03-19T22:22:20.205Z"
   },
   {
    "duration": 0,
    "start_time": "2022-03-19T22:22:20.206Z"
   },
   {
    "duration": 0,
    "start_time": "2022-03-19T22:22:20.207Z"
   },
   {
    "duration": 0,
    "start_time": "2022-03-19T22:22:20.207Z"
   },
   {
    "duration": 0,
    "start_time": "2022-03-19T22:22:20.208Z"
   },
   {
    "duration": 0,
    "start_time": "2022-03-19T22:22:20.209Z"
   },
   {
    "duration": 0,
    "start_time": "2022-03-19T22:22:20.210Z"
   },
   {
    "duration": 0,
    "start_time": "2022-03-19T22:22:20.212Z"
   },
   {
    "duration": 0,
    "start_time": "2022-03-19T22:22:20.213Z"
   },
   {
    "duration": 0,
    "start_time": "2022-03-19T22:22:20.213Z"
   },
   {
    "duration": 0,
    "start_time": "2022-03-19T22:22:20.214Z"
   },
   {
    "duration": 0,
    "start_time": "2022-03-19T22:22:20.215Z"
   },
   {
    "duration": 0,
    "start_time": "2022-03-19T22:22:20.216Z"
   },
   {
    "duration": 0,
    "start_time": "2022-03-19T22:22:20.217Z"
   },
   {
    "duration": 0,
    "start_time": "2022-03-19T22:22:20.218Z"
   },
   {
    "duration": 0,
    "start_time": "2022-03-19T22:22:20.219Z"
   },
   {
    "duration": 0,
    "start_time": "2022-03-19T22:22:20.220Z"
   },
   {
    "duration": 0,
    "start_time": "2022-03-19T22:22:20.221Z"
   },
   {
    "duration": 0,
    "start_time": "2022-03-19T22:22:20.221Z"
   },
   {
    "duration": 0,
    "start_time": "2022-03-19T22:22:20.222Z"
   },
   {
    "duration": 0,
    "start_time": "2022-03-19T22:22:20.223Z"
   },
   {
    "duration": 0,
    "start_time": "2022-03-19T22:22:20.224Z"
   },
   {
    "duration": 0,
    "start_time": "2022-03-19T22:22:20.225Z"
   },
   {
    "duration": 0,
    "start_time": "2022-03-19T22:22:20.226Z"
   },
   {
    "duration": 0,
    "start_time": "2022-03-19T22:22:20.227Z"
   },
   {
    "duration": 0,
    "start_time": "2022-03-19T22:22:20.228Z"
   },
   {
    "duration": 0,
    "start_time": "2022-03-19T22:22:20.229Z"
   },
   {
    "duration": 0,
    "start_time": "2022-03-19T22:22:20.230Z"
   },
   {
    "duration": 0,
    "start_time": "2022-03-19T22:22:20.231Z"
   },
   {
    "duration": 0,
    "start_time": "2022-03-19T22:22:20.231Z"
   },
   {
    "duration": 0,
    "start_time": "2022-03-19T22:22:20.232Z"
   },
   {
    "duration": 0,
    "start_time": "2022-03-19T22:22:20.233Z"
   },
   {
    "duration": 0,
    "start_time": "2022-03-19T22:22:20.234Z"
   },
   {
    "duration": 0,
    "start_time": "2022-03-19T22:22:20.235Z"
   },
   {
    "duration": 0,
    "start_time": "2022-03-19T22:22:20.236Z"
   },
   {
    "duration": 0,
    "start_time": "2022-03-19T22:22:20.237Z"
   },
   {
    "duration": 0,
    "start_time": "2022-03-19T22:22:20.301Z"
   },
   {
    "duration": 0,
    "start_time": "2022-03-19T22:22:20.302Z"
   },
   {
    "duration": 0,
    "start_time": "2022-03-19T22:22:20.303Z"
   },
   {
    "duration": 4,
    "start_time": "2022-03-19T22:23:39.731Z"
   },
   {
    "duration": 14,
    "start_time": "2022-03-19T22:23:52.113Z"
   },
   {
    "duration": 1777,
    "start_time": "2022-03-20T17:27:52.285Z"
   },
   {
    "duration": 7,
    "start_time": "2022-03-20T17:27:54.065Z"
   },
   {
    "duration": 29,
    "start_time": "2022-03-20T17:27:54.074Z"
   },
   {
    "duration": 21,
    "start_time": "2022-03-20T17:27:54.106Z"
   },
   {
    "duration": 49,
    "start_time": "2022-03-20T17:27:54.129Z"
   },
   {
    "duration": 13,
    "start_time": "2022-03-20T17:27:54.180Z"
   },
   {
    "duration": 8,
    "start_time": "2022-03-20T17:27:54.196Z"
   },
   {
    "duration": 18,
    "start_time": "2022-03-20T17:27:54.206Z"
   },
   {
    "duration": 47,
    "start_time": "2022-03-20T17:27:54.227Z"
   },
   {
    "duration": 20,
    "start_time": "2022-03-20T17:27:54.279Z"
   },
   {
    "duration": 878,
    "start_time": "2022-03-20T17:27:54.301Z"
   },
   {
    "duration": 4,
    "start_time": "2022-03-20T17:27:55.181Z"
   },
   {
    "duration": 6,
    "start_time": "2022-03-20T17:27:55.187Z"
   },
   {
    "duration": 6,
    "start_time": "2022-03-20T17:27:55.195Z"
   },
   {
    "duration": 5,
    "start_time": "2022-03-20T17:27:55.203Z"
   },
   {
    "duration": 8,
    "start_time": "2022-03-20T17:27:55.210Z"
   },
   {
    "duration": 5,
    "start_time": "2022-03-20T17:27:55.220Z"
   },
   {
    "duration": 4,
    "start_time": "2022-03-20T17:27:55.228Z"
   },
   {
    "duration": 3,
    "start_time": "2022-03-20T17:27:55.267Z"
   },
   {
    "duration": 3,
    "start_time": "2022-03-20T17:27:55.273Z"
   },
   {
    "duration": 8,
    "start_time": "2022-03-20T17:27:55.278Z"
   },
   {
    "duration": 5,
    "start_time": "2022-03-20T17:27:55.288Z"
   },
   {
    "duration": 5,
    "start_time": "2022-03-20T17:27:55.295Z"
   },
   {
    "duration": 4,
    "start_time": "2022-03-20T17:27:55.302Z"
   },
   {
    "duration": 4,
    "start_time": "2022-03-20T17:27:55.309Z"
   },
   {
    "duration": 5,
    "start_time": "2022-03-20T17:27:55.315Z"
   },
   {
    "duration": 3,
    "start_time": "2022-03-20T17:27:55.369Z"
   },
   {
    "duration": 3,
    "start_time": "2022-03-20T17:27:55.379Z"
   },
   {
    "duration": 5,
    "start_time": "2022-03-20T17:27:55.384Z"
   },
   {
    "duration": 5,
    "start_time": "2022-03-20T17:27:55.391Z"
   },
   {
    "duration": 4,
    "start_time": "2022-03-20T17:27:55.398Z"
   },
   {
    "duration": 5,
    "start_time": "2022-03-20T17:27:55.404Z"
   },
   {
    "duration": 4,
    "start_time": "2022-03-20T17:27:55.411Z"
   },
   {
    "duration": 55,
    "start_time": "2022-03-20T17:27:55.417Z"
   },
   {
    "duration": 5,
    "start_time": "2022-03-20T17:27:55.474Z"
   },
   {
    "duration": 4,
    "start_time": "2022-03-20T17:27:55.481Z"
   },
   {
    "duration": 4,
    "start_time": "2022-03-20T17:27:55.488Z"
   },
   {
    "duration": 5,
    "start_time": "2022-03-20T17:27:55.494Z"
   },
   {
    "duration": 5,
    "start_time": "2022-03-20T17:27:55.501Z"
   },
   {
    "duration": 6,
    "start_time": "2022-03-20T17:27:55.508Z"
   },
   {
    "duration": 4,
    "start_time": "2022-03-20T17:27:55.516Z"
   },
   {
    "duration": 47,
    "start_time": "2022-03-20T17:27:55.522Z"
   },
   {
    "duration": 5,
    "start_time": "2022-03-20T17:27:55.571Z"
   },
   {
    "duration": 6,
    "start_time": "2022-03-20T17:27:55.578Z"
   },
   {
    "duration": 4,
    "start_time": "2022-03-20T17:27:55.586Z"
   },
   {
    "duration": 6,
    "start_time": "2022-03-20T17:27:55.592Z"
   },
   {
    "duration": 5,
    "start_time": "2022-03-20T17:27:55.600Z"
   },
   {
    "duration": 6,
    "start_time": "2022-03-20T17:27:55.608Z"
   },
   {
    "duration": 5,
    "start_time": "2022-03-20T17:27:55.617Z"
   },
   {
    "duration": 6,
    "start_time": "2022-03-20T17:27:55.624Z"
   },
   {
    "duration": 7,
    "start_time": "2022-03-20T17:27:55.668Z"
   },
   {
    "duration": 6,
    "start_time": "2022-03-20T17:27:55.677Z"
   },
   {
    "duration": 5,
    "start_time": "2022-03-20T17:27:55.685Z"
   },
   {
    "duration": 4,
    "start_time": "2022-03-20T17:27:55.692Z"
   },
   {
    "duration": 6,
    "start_time": "2022-03-20T17:27:55.698Z"
   },
   {
    "duration": 7,
    "start_time": "2022-03-20T17:27:55.706Z"
   },
   {
    "duration": 5,
    "start_time": "2022-03-20T17:27:55.715Z"
   },
   {
    "duration": 5,
    "start_time": "2022-03-20T17:27:55.722Z"
   },
   {
    "duration": 3,
    "start_time": "2022-03-20T17:27:55.768Z"
   },
   {
    "duration": 4,
    "start_time": "2022-03-20T17:27:55.773Z"
   },
   {
    "duration": 6,
    "start_time": "2022-03-20T17:27:55.780Z"
   },
   {
    "duration": 5,
    "start_time": "2022-03-20T17:27:55.787Z"
   },
   {
    "duration": 6,
    "start_time": "2022-03-20T17:27:55.794Z"
   },
   {
    "duration": 6,
    "start_time": "2022-03-20T17:27:55.802Z"
   },
   {
    "duration": 6,
    "start_time": "2022-03-20T17:27:55.810Z"
   },
   {
    "duration": 8,
    "start_time": "2022-03-20T17:27:55.819Z"
   },
   {
    "duration": 43,
    "start_time": "2022-03-20T17:27:55.829Z"
   },
   {
    "duration": 7,
    "start_time": "2022-03-20T17:27:55.874Z"
   },
   {
    "duration": 5,
    "start_time": "2022-03-20T17:27:55.883Z"
   },
   {
    "duration": 5,
    "start_time": "2022-03-20T17:27:55.891Z"
   },
   {
    "duration": 4,
    "start_time": "2022-03-20T17:27:55.899Z"
   },
   {
    "duration": 7,
    "start_time": "2022-03-20T17:27:55.905Z"
   },
   {
    "duration": 6,
    "start_time": "2022-03-20T17:27:55.914Z"
   },
   {
    "duration": 43,
    "start_time": "2022-03-20T17:28:15.697Z"
   },
   {
    "duration": 134,
    "start_time": "2022-03-20T17:29:13.401Z"
   },
   {
    "duration": 8,
    "start_time": "2022-03-20T17:29:28.012Z"
   },
   {
    "duration": 16,
    "start_time": "2022-03-20T17:30:00.320Z"
   },
   {
    "duration": 33,
    "start_time": "2022-03-20T17:42:38.460Z"
   },
   {
    "duration": 8,
    "start_time": "2022-03-20T17:43:46.886Z"
   },
   {
    "duration": 154,
    "start_time": "2022-03-20T17:44:42.359Z"
   },
   {
    "duration": 23,
    "start_time": "2022-03-20T17:44:49.701Z"
   },
   {
    "duration": 5,
    "start_time": "2022-03-20T17:46:01.329Z"
   },
   {
    "duration": 110,
    "start_time": "2022-03-20T17:46:10.722Z"
   },
   {
    "duration": 89,
    "start_time": "2022-03-20T17:46:26.533Z"
   },
   {
    "duration": 43,
    "start_time": "2022-03-21T01:23:24.693Z"
   },
   {
    "duration": 145,
    "start_time": "2022-03-21T01:24:33.829Z"
   },
   {
    "duration": 1421,
    "start_time": "2022-03-21T01:24:41.371Z"
   },
   {
    "duration": 7,
    "start_time": "2022-03-21T01:24:42.794Z"
   },
   {
    "duration": 30,
    "start_time": "2022-03-21T01:24:42.803Z"
   },
   {
    "duration": 33,
    "start_time": "2022-03-21T01:24:42.836Z"
   },
   {
    "duration": 32,
    "start_time": "2022-03-21T01:24:42.871Z"
   },
   {
    "duration": 13,
    "start_time": "2022-03-21T01:24:42.905Z"
   },
   {
    "duration": 91,
    "start_time": "2022-03-21T01:24:42.920Z"
   },
   {
    "duration": 0,
    "start_time": "2022-03-21T01:24:43.015Z"
   },
   {
    "duration": 0,
    "start_time": "2022-03-21T01:24:43.017Z"
   },
   {
    "duration": 0,
    "start_time": "2022-03-21T01:24:43.018Z"
   },
   {
    "duration": 0,
    "start_time": "2022-03-21T01:24:43.019Z"
   },
   {
    "duration": 0,
    "start_time": "2022-03-21T01:24:43.020Z"
   },
   {
    "duration": 0,
    "start_time": "2022-03-21T01:24:43.022Z"
   },
   {
    "duration": 0,
    "start_time": "2022-03-21T01:24:43.023Z"
   },
   {
    "duration": 0,
    "start_time": "2022-03-21T01:24:43.024Z"
   },
   {
    "duration": 0,
    "start_time": "2022-03-21T01:24:43.025Z"
   },
   {
    "duration": 0,
    "start_time": "2022-03-21T01:24:43.027Z"
   },
   {
    "duration": 0,
    "start_time": "2022-03-21T01:24:43.028Z"
   },
   {
    "duration": 0,
    "start_time": "2022-03-21T01:24:43.030Z"
   },
   {
    "duration": 0,
    "start_time": "2022-03-21T01:24:43.031Z"
   },
   {
    "duration": 0,
    "start_time": "2022-03-21T01:24:43.032Z"
   },
   {
    "duration": 0,
    "start_time": "2022-03-21T01:24:43.034Z"
   },
   {
    "duration": 0,
    "start_time": "2022-03-21T01:24:43.035Z"
   },
   {
    "duration": 0,
    "start_time": "2022-03-21T01:24:43.036Z"
   },
   {
    "duration": 0,
    "start_time": "2022-03-21T01:24:43.038Z"
   },
   {
    "duration": 0,
    "start_time": "2022-03-21T01:24:43.039Z"
   },
   {
    "duration": 0,
    "start_time": "2022-03-21T01:24:43.040Z"
   },
   {
    "duration": 0,
    "start_time": "2022-03-21T01:24:43.042Z"
   },
   {
    "duration": 0,
    "start_time": "2022-03-21T01:24:43.043Z"
   },
   {
    "duration": 0,
    "start_time": "2022-03-21T01:24:43.044Z"
   },
   {
    "duration": 0,
    "start_time": "2022-03-21T01:24:43.046Z"
   },
   {
    "duration": 0,
    "start_time": "2022-03-21T01:24:43.047Z"
   },
   {
    "duration": 0,
    "start_time": "2022-03-21T01:24:43.049Z"
   },
   {
    "duration": 1,
    "start_time": "2022-03-21T01:24:43.050Z"
   },
   {
    "duration": 0,
    "start_time": "2022-03-21T01:24:43.052Z"
   },
   {
    "duration": 0,
    "start_time": "2022-03-21T01:24:43.053Z"
   },
   {
    "duration": 0,
    "start_time": "2022-03-21T01:24:43.068Z"
   },
   {
    "duration": 0,
    "start_time": "2022-03-21T01:24:43.069Z"
   },
   {
    "duration": 0,
    "start_time": "2022-03-21T01:24:43.070Z"
   },
   {
    "duration": 0,
    "start_time": "2022-03-21T01:24:43.072Z"
   },
   {
    "duration": 0,
    "start_time": "2022-03-21T01:24:43.073Z"
   },
   {
    "duration": 0,
    "start_time": "2022-03-21T01:24:43.075Z"
   },
   {
    "duration": 0,
    "start_time": "2022-03-21T01:24:43.076Z"
   },
   {
    "duration": 0,
    "start_time": "2022-03-21T01:24:43.077Z"
   },
   {
    "duration": 0,
    "start_time": "2022-03-21T01:24:43.078Z"
   },
   {
    "duration": 0,
    "start_time": "2022-03-21T01:24:43.079Z"
   },
   {
    "duration": 0,
    "start_time": "2022-03-21T01:24:43.081Z"
   },
   {
    "duration": 0,
    "start_time": "2022-03-21T01:24:43.083Z"
   },
   {
    "duration": 0,
    "start_time": "2022-03-21T01:24:43.085Z"
   },
   {
    "duration": 0,
    "start_time": "2022-03-21T01:24:43.086Z"
   },
   {
    "duration": 0,
    "start_time": "2022-03-21T01:24:43.088Z"
   },
   {
    "duration": 0,
    "start_time": "2022-03-21T01:24:43.089Z"
   },
   {
    "duration": 0,
    "start_time": "2022-03-21T01:24:43.090Z"
   },
   {
    "duration": 0,
    "start_time": "2022-03-21T01:24:43.091Z"
   },
   {
    "duration": 0,
    "start_time": "2022-03-21T01:24:43.093Z"
   },
   {
    "duration": 0,
    "start_time": "2022-03-21T01:24:43.094Z"
   },
   {
    "duration": 0,
    "start_time": "2022-03-21T01:24:43.096Z"
   },
   {
    "duration": 0,
    "start_time": "2022-03-21T01:24:43.098Z"
   },
   {
    "duration": 0,
    "start_time": "2022-03-21T01:24:43.099Z"
   },
   {
    "duration": 0,
    "start_time": "2022-03-21T01:24:43.101Z"
   },
   {
    "duration": 1,
    "start_time": "2022-03-21T01:24:43.102Z"
   },
   {
    "duration": 0,
    "start_time": "2022-03-21T01:24:43.168Z"
   },
   {
    "duration": 0,
    "start_time": "2022-03-21T01:24:43.170Z"
   },
   {
    "duration": 0,
    "start_time": "2022-03-21T01:24:43.172Z"
   },
   {
    "duration": 0,
    "start_time": "2022-03-21T01:24:43.173Z"
   },
   {
    "duration": 0,
    "start_time": "2022-03-21T01:24:43.175Z"
   },
   {
    "duration": 0,
    "start_time": "2022-03-21T01:24:43.177Z"
   },
   {
    "duration": 0,
    "start_time": "2022-03-21T01:24:43.179Z"
   },
   {
    "duration": 0,
    "start_time": "2022-03-21T01:24:43.181Z"
   },
   {
    "duration": 0,
    "start_time": "2022-03-21T01:24:43.183Z"
   },
   {
    "duration": 0,
    "start_time": "2022-03-21T01:24:43.186Z"
   },
   {
    "duration": 0,
    "start_time": "2022-03-21T01:24:43.188Z"
   },
   {
    "duration": 0,
    "start_time": "2022-03-21T01:24:43.190Z"
   },
   {
    "duration": 19,
    "start_time": "2022-03-21T01:24:52.807Z"
   },
   {
    "duration": 5,
    "start_time": "2022-03-21T01:27:48.154Z"
   },
   {
    "duration": 93,
    "start_time": "2022-03-21T01:28:55.872Z"
   },
   {
    "duration": 16,
    "start_time": "2022-03-21T01:28:57.211Z"
   },
   {
    "duration": 94,
    "start_time": "2022-03-21T01:30:55.278Z"
   },
   {
    "duration": 8,
    "start_time": "2022-03-21T01:31:11.623Z"
   },
   {
    "duration": 135,
    "start_time": "2022-03-21T01:31:37.800Z"
   },
   {
    "duration": 16,
    "start_time": "2022-03-21T01:31:45.589Z"
   },
   {
    "duration": 8,
    "start_time": "2022-03-21T01:31:51.577Z"
   },
   {
    "duration": 10,
    "start_time": "2022-03-21T01:31:58.181Z"
   },
   {
    "duration": 22,
    "start_time": "2022-03-21T01:32:00.206Z"
   },
   {
    "duration": 14,
    "start_time": "2022-03-21T01:34:52.419Z"
   },
   {
    "duration": 27,
    "start_time": "2022-03-21T01:34:59.855Z"
   },
   {
    "duration": 24,
    "start_time": "2022-03-21T01:35:09.672Z"
   },
   {
    "duration": 23,
    "start_time": "2022-03-21T01:35:20.561Z"
   },
   {
    "duration": 24,
    "start_time": "2022-03-21T01:35:27.298Z"
   },
   {
    "duration": 33,
    "start_time": "2022-03-21T01:41:35.119Z"
   },
   {
    "duration": 98,
    "start_time": "2022-03-21T01:45:05.437Z"
   },
   {
    "duration": 93,
    "start_time": "2022-03-21T01:45:13.738Z"
   },
   {
    "duration": 108,
    "start_time": "2022-03-21T01:45:28.259Z"
   },
   {
    "duration": 18,
    "start_time": "2022-03-21T01:45:52.085Z"
   },
   {
    "duration": 35,
    "start_time": "2022-03-21T01:45:58.559Z"
   },
   {
    "duration": 22,
    "start_time": "2022-03-21T01:52:47.561Z"
   },
   {
    "duration": 21,
    "start_time": "2022-03-21T01:53:19.123Z"
   },
   {
    "duration": 21,
    "start_time": "2022-03-21T01:53:25.736Z"
   },
   {
    "duration": 20,
    "start_time": "2022-03-21T01:53:39.403Z"
   },
   {
    "duration": 20,
    "start_time": "2022-03-21T01:53:50.819Z"
   },
   {
    "duration": 11,
    "start_time": "2022-03-21T01:54:01.473Z"
   },
   {
    "duration": 24,
    "start_time": "2022-03-21T01:54:17.543Z"
   },
   {
    "duration": 20,
    "start_time": "2022-03-21T01:54:27.564Z"
   },
   {
    "duration": 11,
    "start_time": "2022-03-21T01:55:11.990Z"
   },
   {
    "duration": 12,
    "start_time": "2022-03-21T01:55:45.327Z"
   },
   {
    "duration": 229,
    "start_time": "2022-03-21T01:58:38.759Z"
   },
   {
    "duration": 216,
    "start_time": "2022-03-21T01:58:50.767Z"
   },
   {
    "duration": 206,
    "start_time": "2022-03-21T02:00:11.347Z"
   },
   {
    "duration": 14,
    "start_time": "2022-03-21T02:00:45.581Z"
   },
   {
    "duration": 228,
    "start_time": "2022-03-21T02:00:52.245Z"
   },
   {
    "duration": 14,
    "start_time": "2022-03-21T02:02:27.555Z"
   },
   {
    "duration": 272,
    "start_time": "2022-03-21T02:02:36.776Z"
   },
   {
    "duration": 224,
    "start_time": "2022-03-21T02:02:53.855Z"
   },
   {
    "duration": 907,
    "start_time": "2022-03-21T02:03:04.459Z"
   },
   {
    "duration": 217,
    "start_time": "2022-03-22T00:39:40.847Z"
   },
   {
    "duration": 1873,
    "start_time": "2022-03-22T00:39:47.040Z"
   },
   {
    "duration": 8,
    "start_time": "2022-03-22T00:39:48.916Z"
   },
   {
    "duration": 30,
    "start_time": "2022-03-22T00:39:48.926Z"
   },
   {
    "duration": 26,
    "start_time": "2022-03-22T00:39:48.960Z"
   },
   {
    "duration": 58,
    "start_time": "2022-03-22T00:39:48.988Z"
   },
   {
    "duration": 16,
    "start_time": "2022-03-22T00:39:49.049Z"
   },
   {
    "duration": 9,
    "start_time": "2022-03-22T00:39:49.067Z"
   },
   {
    "duration": 18,
    "start_time": "2022-03-22T00:39:49.078Z"
   },
   {
    "duration": 46,
    "start_time": "2022-03-22T00:39:49.099Z"
   },
   {
    "duration": 34,
    "start_time": "2022-03-22T00:39:49.149Z"
   },
   {
    "duration": 429,
    "start_time": "2022-03-22T00:39:49.186Z"
   },
   {
    "duration": 1472,
    "start_time": "2022-03-22T00:39:49.618Z"
   },
   {
    "duration": 204,
    "start_time": "2022-03-22T00:39:51.093Z"
   },
   {
    "duration": 0,
    "start_time": "2022-03-22T00:39:51.303Z"
   },
   {
    "duration": 0,
    "start_time": "2022-03-22T00:39:51.305Z"
   },
   {
    "duration": 0,
    "start_time": "2022-03-22T00:39:51.308Z"
   },
   {
    "duration": 0,
    "start_time": "2022-03-22T00:39:51.310Z"
   },
   {
    "duration": 0,
    "start_time": "2022-03-22T00:39:51.312Z"
   },
   {
    "duration": 0,
    "start_time": "2022-03-22T00:39:51.314Z"
   },
   {
    "duration": 0,
    "start_time": "2022-03-22T00:39:51.316Z"
   },
   {
    "duration": 0,
    "start_time": "2022-03-22T00:39:51.318Z"
   },
   {
    "duration": 0,
    "start_time": "2022-03-22T00:39:51.320Z"
   },
   {
    "duration": 0,
    "start_time": "2022-03-22T00:39:51.322Z"
   },
   {
    "duration": 0,
    "start_time": "2022-03-22T00:39:51.324Z"
   },
   {
    "duration": 0,
    "start_time": "2022-03-22T00:39:51.327Z"
   },
   {
    "duration": 0,
    "start_time": "2022-03-22T00:39:51.328Z"
   },
   {
    "duration": 0,
    "start_time": "2022-03-22T00:39:51.331Z"
   },
   {
    "duration": 0,
    "start_time": "2022-03-22T00:39:51.333Z"
   },
   {
    "duration": 0,
    "start_time": "2022-03-22T00:39:51.335Z"
   },
   {
    "duration": 0,
    "start_time": "2022-03-22T00:39:51.337Z"
   },
   {
    "duration": 0,
    "start_time": "2022-03-22T00:39:51.344Z"
   },
   {
    "duration": 0,
    "start_time": "2022-03-22T00:39:51.346Z"
   },
   {
    "duration": 0,
    "start_time": "2022-03-22T00:39:51.348Z"
   },
   {
    "duration": 0,
    "start_time": "2022-03-22T00:39:51.350Z"
   },
   {
    "duration": 0,
    "start_time": "2022-03-22T00:39:51.352Z"
   },
   {
    "duration": 0,
    "start_time": "2022-03-22T00:39:51.355Z"
   },
   {
    "duration": 0,
    "start_time": "2022-03-22T00:39:51.357Z"
   },
   {
    "duration": 0,
    "start_time": "2022-03-22T00:39:51.359Z"
   },
   {
    "duration": 1,
    "start_time": "2022-03-22T00:39:51.361Z"
   },
   {
    "duration": 0,
    "start_time": "2022-03-22T00:39:51.364Z"
   },
   {
    "duration": 0,
    "start_time": "2022-03-22T00:39:51.365Z"
   },
   {
    "duration": 0,
    "start_time": "2022-03-22T00:39:51.367Z"
   },
   {
    "duration": 0,
    "start_time": "2022-03-22T00:39:51.370Z"
   },
   {
    "duration": 0,
    "start_time": "2022-03-22T00:39:51.372Z"
   },
   {
    "duration": 0,
    "start_time": "2022-03-22T00:39:51.374Z"
   },
   {
    "duration": 0,
    "start_time": "2022-03-22T00:39:51.376Z"
   },
   {
    "duration": 0,
    "start_time": "2022-03-22T00:39:51.378Z"
   },
   {
    "duration": 0,
    "start_time": "2022-03-22T00:39:51.380Z"
   },
   {
    "duration": 0,
    "start_time": "2022-03-22T00:39:51.382Z"
   },
   {
    "duration": 0,
    "start_time": "2022-03-22T00:39:51.443Z"
   },
   {
    "duration": 0,
    "start_time": "2022-03-22T00:39:51.445Z"
   },
   {
    "duration": 0,
    "start_time": "2022-03-22T00:39:51.448Z"
   },
   {
    "duration": 0,
    "start_time": "2022-03-22T00:39:51.449Z"
   },
   {
    "duration": 0,
    "start_time": "2022-03-22T00:39:51.451Z"
   },
   {
    "duration": 0,
    "start_time": "2022-03-22T00:39:51.454Z"
   },
   {
    "duration": 0,
    "start_time": "2022-03-22T00:39:51.455Z"
   },
   {
    "duration": 0,
    "start_time": "2022-03-22T00:39:51.458Z"
   },
   {
    "duration": 0,
    "start_time": "2022-03-22T00:39:51.460Z"
   },
   {
    "duration": 0,
    "start_time": "2022-03-22T00:39:51.462Z"
   },
   {
    "duration": 0,
    "start_time": "2022-03-22T00:39:51.464Z"
   },
   {
    "duration": 0,
    "start_time": "2022-03-22T00:39:51.466Z"
   },
   {
    "duration": 0,
    "start_time": "2022-03-22T00:39:51.468Z"
   },
   {
    "duration": 0,
    "start_time": "2022-03-22T00:39:51.470Z"
   },
   {
    "duration": 0,
    "start_time": "2022-03-22T00:39:51.472Z"
   },
   {
    "duration": 0,
    "start_time": "2022-03-22T00:39:51.474Z"
   },
   {
    "duration": 0,
    "start_time": "2022-03-22T00:39:51.476Z"
   },
   {
    "duration": 0,
    "start_time": "2022-03-22T00:39:51.479Z"
   },
   {
    "duration": 0,
    "start_time": "2022-03-22T00:39:51.543Z"
   },
   {
    "duration": 0,
    "start_time": "2022-03-22T00:39:51.545Z"
   },
   {
    "duration": 0,
    "start_time": "2022-03-22T00:39:51.547Z"
   },
   {
    "duration": 0,
    "start_time": "2022-03-22T00:39:51.550Z"
   },
   {
    "duration": 0,
    "start_time": "2022-03-22T00:39:51.552Z"
   },
   {
    "duration": 0,
    "start_time": "2022-03-22T00:39:51.554Z"
   },
   {
    "duration": 0,
    "start_time": "2022-03-22T00:39:51.556Z"
   },
   {
    "duration": 212,
    "start_time": "2022-03-22T00:39:59.214Z"
   },
   {
    "duration": 88,
    "start_time": "2022-03-22T00:40:04.375Z"
   },
   {
    "duration": 6,
    "start_time": "2022-03-22T00:40:06.971Z"
   },
   {
    "duration": 34,
    "start_time": "2022-03-22T00:40:07.708Z"
   },
   {
    "duration": 29,
    "start_time": "2022-03-22T00:40:09.049Z"
   },
   {
    "duration": 31,
    "start_time": "2022-03-22T00:40:10.658Z"
   },
   {
    "duration": 13,
    "start_time": "2022-03-22T00:40:11.413Z"
   },
   {
    "duration": 9,
    "start_time": "2022-03-22T00:40:13.012Z"
   },
   {
    "duration": 14,
    "start_time": "2022-03-22T00:40:13.594Z"
   },
   {
    "duration": 11,
    "start_time": "2022-03-22T00:40:14.932Z"
   },
   {
    "duration": 23,
    "start_time": "2022-03-22T00:40:15.635Z"
   },
   {
    "duration": 232,
    "start_time": "2022-03-22T00:40:18.602Z"
   },
   {
    "duration": 984,
    "start_time": "2022-03-22T00:40:20.295Z"
   },
   {
    "duration": 222,
    "start_time": "2022-03-22T00:40:22.410Z"
   },
   {
    "duration": 305,
    "start_time": "2022-03-22T00:40:39.304Z"
   },
   {
    "duration": 6,
    "start_time": "2022-03-22T00:41:41.963Z"
   },
   {
    "duration": 18,
    "start_time": "2022-03-22T00:42:03.351Z"
   },
   {
    "duration": 43,
    "start_time": "2022-03-22T22:37:31.434Z"
   },
   {
    "duration": 6,
    "start_time": "2022-03-22T22:37:55.800Z"
   },
   {
    "duration": 6,
    "start_time": "2022-03-22T22:38:01.225Z"
   },
   {
    "duration": 1715,
    "start_time": "2022-03-22T22:38:07.729Z"
   },
   {
    "duration": 5,
    "start_time": "2022-03-22T22:38:09.446Z"
   },
   {
    "duration": 18,
    "start_time": "2022-03-22T22:38:09.453Z"
   },
   {
    "duration": 16,
    "start_time": "2022-03-22T22:38:09.473Z"
   },
   {
    "duration": 18,
    "start_time": "2022-03-22T22:38:09.491Z"
   },
   {
    "duration": 10,
    "start_time": "2022-03-22T22:38:09.510Z"
   },
   {
    "duration": 6,
    "start_time": "2022-03-22T22:38:09.521Z"
   },
   {
    "duration": 12,
    "start_time": "2022-03-22T22:38:09.529Z"
   },
   {
    "duration": 6,
    "start_time": "2022-03-22T22:38:09.543Z"
   },
   {
    "duration": 15,
    "start_time": "2022-03-22T22:38:09.580Z"
   },
   {
    "duration": 155,
    "start_time": "2022-03-22T22:38:09.597Z"
   },
   {
    "duration": 493,
    "start_time": "2022-03-22T22:38:09.754Z"
   },
   {
    "duration": 12,
    "start_time": "2022-03-22T22:38:10.248Z"
   },
   {
    "duration": 3,
    "start_time": "2022-03-22T22:38:10.261Z"
   },
   {
    "duration": 3,
    "start_time": "2022-03-22T22:38:10.281Z"
   },
   {
    "duration": 9,
    "start_time": "2022-03-22T22:38:10.285Z"
   },
   {
    "duration": 4,
    "start_time": "2022-03-22T22:38:10.295Z"
   },
   {
    "duration": 4,
    "start_time": "2022-03-22T22:38:10.301Z"
   },
   {
    "duration": 6,
    "start_time": "2022-03-22T22:38:10.307Z"
   },
   {
    "duration": 7,
    "start_time": "2022-03-22T22:38:10.314Z"
   },
   {
    "duration": 6,
    "start_time": "2022-03-22T22:38:10.323Z"
   },
   {
    "duration": 9,
    "start_time": "2022-03-22T22:38:10.330Z"
   },
   {
    "duration": 11,
    "start_time": "2022-03-22T22:38:10.341Z"
   },
   {
    "duration": 5,
    "start_time": "2022-03-22T22:38:10.353Z"
   },
   {
    "duration": 5,
    "start_time": "2022-03-22T22:38:10.360Z"
   },
   {
    "duration": 7,
    "start_time": "2022-03-22T22:38:10.367Z"
   },
   {
    "duration": 4,
    "start_time": "2022-03-22T22:38:10.376Z"
   },
   {
    "duration": 3,
    "start_time": "2022-03-22T22:38:10.385Z"
   },
   {
    "duration": 10,
    "start_time": "2022-03-22T22:38:10.389Z"
   },
   {
    "duration": 9,
    "start_time": "2022-03-22T22:38:10.401Z"
   },
   {
    "duration": 7,
    "start_time": "2022-03-22T22:38:10.411Z"
   },
   {
    "duration": 6,
    "start_time": "2022-03-22T22:38:10.420Z"
   },
   {
    "duration": 6,
    "start_time": "2022-03-22T22:38:10.427Z"
   },
   {
    "duration": 7,
    "start_time": "2022-03-22T22:38:10.435Z"
   },
   {
    "duration": 7,
    "start_time": "2022-03-22T22:38:10.443Z"
   },
   {
    "duration": 5,
    "start_time": "2022-03-22T22:38:10.451Z"
   },
   {
    "duration": 5,
    "start_time": "2022-03-22T22:38:10.457Z"
   },
   {
    "duration": 8,
    "start_time": "2022-03-22T22:38:10.463Z"
   },
   {
    "duration": 4,
    "start_time": "2022-03-22T22:38:10.473Z"
   },
   {
    "duration": 5,
    "start_time": "2022-03-22T22:38:10.479Z"
   },
   {
    "duration": 6,
    "start_time": "2022-03-22T22:38:10.485Z"
   },
   {
    "duration": 6,
    "start_time": "2022-03-22T22:38:10.492Z"
   },
   {
    "duration": 5,
    "start_time": "2022-03-22T22:38:10.499Z"
   },
   {
    "duration": 5,
    "start_time": "2022-03-22T22:38:10.506Z"
   },
   {
    "duration": 6,
    "start_time": "2022-03-22T22:38:10.512Z"
   },
   {
    "duration": 4,
    "start_time": "2022-03-22T22:38:10.520Z"
   },
   {
    "duration": 5,
    "start_time": "2022-03-22T22:38:10.525Z"
   },
   {
    "duration": 6,
    "start_time": "2022-03-22T22:38:10.531Z"
   },
   {
    "duration": 7,
    "start_time": "2022-03-22T22:38:10.539Z"
   },
   {
    "duration": 4,
    "start_time": "2022-03-22T22:38:10.547Z"
   },
   {
    "duration": 9,
    "start_time": "2022-03-22T22:38:10.553Z"
   },
   {
    "duration": 6,
    "start_time": "2022-03-22T22:38:10.563Z"
   },
   {
    "duration": 13,
    "start_time": "2022-03-22T22:38:10.570Z"
   },
   {
    "duration": 5,
    "start_time": "2022-03-22T22:38:10.585Z"
   },
   {
    "duration": 3,
    "start_time": "2022-03-22T22:38:10.592Z"
   },
   {
    "duration": 4,
    "start_time": "2022-03-22T22:38:10.597Z"
   },
   {
    "duration": 4,
    "start_time": "2022-03-22T22:38:10.602Z"
   },
   {
    "duration": 5,
    "start_time": "2022-03-22T22:38:10.607Z"
   },
   {
    "duration": 5,
    "start_time": "2022-03-22T22:38:10.613Z"
   },
   {
    "duration": 4,
    "start_time": "2022-03-22T22:38:10.619Z"
   },
   {
    "duration": 4,
    "start_time": "2022-03-22T22:38:10.625Z"
   },
   {
    "duration": 7,
    "start_time": "2022-03-22T22:38:10.630Z"
   },
   {
    "duration": 5,
    "start_time": "2022-03-22T22:38:10.638Z"
   },
   {
    "duration": 5,
    "start_time": "2022-03-22T22:38:10.644Z"
   },
   {
    "duration": 7,
    "start_time": "2022-03-22T22:38:10.651Z"
   },
   {
    "duration": 22,
    "start_time": "2022-03-22T22:38:10.659Z"
   },
   {
    "duration": 5,
    "start_time": "2022-03-22T22:38:10.682Z"
   },
   {
    "duration": 4,
    "start_time": "2022-03-22T22:38:10.688Z"
   },
   {
    "duration": 4,
    "start_time": "2022-03-22T22:38:10.694Z"
   },
   {
    "duration": 4,
    "start_time": "2022-03-22T22:38:10.700Z"
   },
   {
    "duration": 5,
    "start_time": "2022-03-22T22:38:10.705Z"
   },
   {
    "duration": 4,
    "start_time": "2022-03-22T22:38:10.711Z"
   },
   {
    "duration": 4,
    "start_time": "2022-03-22T22:38:10.717Z"
   },
   {
    "duration": 4,
    "start_time": "2022-03-22T22:38:10.723Z"
   },
   {
    "duration": 109,
    "start_time": "2022-03-22T22:38:27.624Z"
   },
   {
    "duration": 124,
    "start_time": "2022-03-22T22:39:02.516Z"
   },
   {
    "duration": 595,
    "start_time": "2022-03-22T22:44:02.354Z"
   },
   {
    "duration": 201,
    "start_time": "2022-03-22T22:51:14.474Z"
   },
   {
    "duration": 124,
    "start_time": "2022-03-22T22:51:29.333Z"
   },
   {
    "duration": 474,
    "start_time": "2022-03-22T22:51:40.485Z"
   },
   {
    "duration": 146,
    "start_time": "2022-03-22T22:52:09.195Z"
   },
   {
    "duration": 4,
    "start_time": "2022-03-22T23:51:05.274Z"
   },
   {
    "duration": 5,
    "start_time": "2022-03-22T23:51:17.711Z"
   },
   {
    "duration": 84,
    "start_time": "2022-03-22T23:52:27.977Z"
   },
   {
    "duration": 9,
    "start_time": "2022-03-22T23:53:14.621Z"
   },
   {
    "duration": 46,
    "start_time": "2022-03-22T23:54:11.884Z"
   },
   {
    "duration": 9,
    "start_time": "2022-03-22T23:54:39.033Z"
   },
   {
    "duration": 13,
    "start_time": "2022-03-23T01:49:14.730Z"
   },
   {
    "duration": 474,
    "start_time": "2022-03-23T01:49:57.036Z"
   },
   {
    "duration": 496,
    "start_time": "2022-03-23T01:50:07.738Z"
   },
   {
    "duration": 27,
    "start_time": "2022-03-23T01:50:20.954Z"
   },
   {
    "duration": 40,
    "start_time": "2022-03-23T01:56:35.939Z"
   },
   {
    "duration": 190,
    "start_time": "2022-03-23T01:56:59.262Z"
   },
   {
    "duration": 20,
    "start_time": "2022-03-23T01:57:06.855Z"
   },
   {
    "duration": 268,
    "start_time": "2022-03-23T01:57:16.808Z"
   },
   {
    "duration": 21,
    "start_time": "2022-03-23T01:57:22.118Z"
   },
   {
    "duration": 11,
    "start_time": "2022-03-23T01:57:43.006Z"
   },
   {
    "duration": 4,
    "start_time": "2022-03-23T02:02:32.878Z"
   },
   {
    "duration": 70,
    "start_time": "2022-03-23T20:47:45.834Z"
   },
   {
    "duration": 2279,
    "start_time": "2022-03-23T20:47:51.573Z"
   },
   {
    "duration": 8,
    "start_time": "2022-03-23T20:47:53.857Z"
   },
   {
    "duration": 28,
    "start_time": "2022-03-23T20:47:53.867Z"
   },
   {
    "duration": 66,
    "start_time": "2022-03-23T20:47:53.897Z"
   },
   {
    "duration": 24,
    "start_time": "2022-03-23T20:47:53.966Z"
   },
   {
    "duration": 72,
    "start_time": "2022-03-23T20:47:53.992Z"
   },
   {
    "duration": 13,
    "start_time": "2022-03-23T20:47:54.067Z"
   },
   {
    "duration": 9,
    "start_time": "2022-03-23T20:47:54.082Z"
   },
   {
    "duration": 21,
    "start_time": "2022-03-23T20:47:54.093Z"
   },
   {
    "duration": 31,
    "start_time": "2022-03-23T20:47:54.118Z"
   },
   {
    "duration": 23,
    "start_time": "2022-03-23T20:47:54.151Z"
   },
   {
    "duration": 286,
    "start_time": "2022-03-23T20:47:54.177Z"
   },
   {
    "duration": 882,
    "start_time": "2022-03-23T20:47:54.466Z"
   },
   {
    "duration": 11,
    "start_time": "2022-03-23T20:47:55.350Z"
   },
   {
    "duration": 183,
    "start_time": "2022-03-23T20:47:55.363Z"
   },
   {
    "duration": 0,
    "start_time": "2022-03-23T20:47:55.551Z"
   },
   {
    "duration": 0,
    "start_time": "2022-03-23T20:47:55.553Z"
   },
   {
    "duration": 0,
    "start_time": "2022-03-23T20:47:55.555Z"
   },
   {
    "duration": 0,
    "start_time": "2022-03-23T20:47:55.558Z"
   },
   {
    "duration": 0,
    "start_time": "2022-03-23T20:47:55.559Z"
   },
   {
    "duration": 0,
    "start_time": "2022-03-23T20:47:55.562Z"
   },
   {
    "duration": 0,
    "start_time": "2022-03-23T20:47:55.564Z"
   },
   {
    "duration": 0,
    "start_time": "2022-03-23T20:47:55.566Z"
   },
   {
    "duration": 0,
    "start_time": "2022-03-23T20:47:55.568Z"
   },
   {
    "duration": 0,
    "start_time": "2022-03-23T20:47:55.570Z"
   },
   {
    "duration": 0,
    "start_time": "2022-03-23T20:47:55.572Z"
   },
   {
    "duration": 0,
    "start_time": "2022-03-23T20:47:55.575Z"
   },
   {
    "duration": 0,
    "start_time": "2022-03-23T20:47:55.577Z"
   },
   {
    "duration": 0,
    "start_time": "2022-03-23T20:47:55.579Z"
   },
   {
    "duration": 0,
    "start_time": "2022-03-23T20:47:55.581Z"
   },
   {
    "duration": 0,
    "start_time": "2022-03-23T20:47:55.584Z"
   },
   {
    "duration": 0,
    "start_time": "2022-03-23T20:47:55.586Z"
   },
   {
    "duration": 0,
    "start_time": "2022-03-23T20:47:55.642Z"
   },
   {
    "duration": 0,
    "start_time": "2022-03-23T20:47:55.645Z"
   },
   {
    "duration": 0,
    "start_time": "2022-03-23T20:47:55.647Z"
   },
   {
    "duration": 0,
    "start_time": "2022-03-23T20:47:55.649Z"
   },
   {
    "duration": 0,
    "start_time": "2022-03-23T20:47:55.652Z"
   },
   {
    "duration": 0,
    "start_time": "2022-03-23T20:47:55.654Z"
   },
   {
    "duration": 0,
    "start_time": "2022-03-23T20:47:55.656Z"
   },
   {
    "duration": 0,
    "start_time": "2022-03-23T20:47:55.658Z"
   },
   {
    "duration": 0,
    "start_time": "2022-03-23T20:47:55.660Z"
   },
   {
    "duration": 0,
    "start_time": "2022-03-23T20:47:55.662Z"
   },
   {
    "duration": 0,
    "start_time": "2022-03-23T20:47:55.664Z"
   },
   {
    "duration": 0,
    "start_time": "2022-03-23T20:47:55.666Z"
   },
   {
    "duration": 0,
    "start_time": "2022-03-23T20:47:55.669Z"
   },
   {
    "duration": 0,
    "start_time": "2022-03-23T20:47:55.671Z"
   },
   {
    "duration": 0,
    "start_time": "2022-03-23T20:47:55.673Z"
   },
   {
    "duration": 0,
    "start_time": "2022-03-23T20:47:55.675Z"
   },
   {
    "duration": 0,
    "start_time": "2022-03-23T20:47:55.677Z"
   },
   {
    "duration": 0,
    "start_time": "2022-03-23T20:47:55.679Z"
   },
   {
    "duration": 0,
    "start_time": "2022-03-23T20:47:55.681Z"
   },
   {
    "duration": 0,
    "start_time": "2022-03-23T20:47:55.683Z"
   },
   {
    "duration": 0,
    "start_time": "2022-03-23T20:47:55.684Z"
   },
   {
    "duration": 0,
    "start_time": "2022-03-23T20:47:55.745Z"
   },
   {
    "duration": 0,
    "start_time": "2022-03-23T20:47:55.747Z"
   },
   {
    "duration": 0,
    "start_time": "2022-03-23T20:47:55.748Z"
   },
   {
    "duration": 0,
    "start_time": "2022-03-23T20:47:55.750Z"
   },
   {
    "duration": 0,
    "start_time": "2022-03-23T20:47:55.751Z"
   },
   {
    "duration": 0,
    "start_time": "2022-03-23T20:47:55.753Z"
   },
   {
    "duration": 0,
    "start_time": "2022-03-23T20:47:55.755Z"
   },
   {
    "duration": 0,
    "start_time": "2022-03-23T20:47:55.756Z"
   },
   {
    "duration": 0,
    "start_time": "2022-03-23T20:47:55.757Z"
   },
   {
    "duration": 0,
    "start_time": "2022-03-23T20:47:55.758Z"
   },
   {
    "duration": 0,
    "start_time": "2022-03-23T20:47:55.760Z"
   },
   {
    "duration": 0,
    "start_time": "2022-03-23T20:47:55.761Z"
   },
   {
    "duration": 0,
    "start_time": "2022-03-23T20:47:55.762Z"
   },
   {
    "duration": 0,
    "start_time": "2022-03-23T20:47:55.763Z"
   },
   {
    "duration": 0,
    "start_time": "2022-03-23T20:47:55.765Z"
   },
   {
    "duration": 0,
    "start_time": "2022-03-23T20:47:55.766Z"
   },
   {
    "duration": 0,
    "start_time": "2022-03-23T20:47:55.768Z"
   },
   {
    "duration": 0,
    "start_time": "2022-03-23T20:47:55.770Z"
   },
   {
    "duration": 0,
    "start_time": "2022-03-23T20:47:55.771Z"
   },
   {
    "duration": 0,
    "start_time": "2022-03-23T20:47:55.773Z"
   },
   {
    "duration": 0,
    "start_time": "2022-03-23T20:47:55.775Z"
   },
   {
    "duration": 0,
    "start_time": "2022-03-23T20:47:55.776Z"
   },
   {
    "duration": 23,
    "start_time": "2022-03-23T20:48:04.490Z"
   },
   {
    "duration": 28,
    "start_time": "2022-03-23T20:48:19.572Z"
   },
   {
    "duration": 7,
    "start_time": "2022-03-23T20:48:47.983Z"
   },
   {
    "duration": 12,
    "start_time": "2022-03-23T20:56:42.502Z"
   },
   {
    "duration": 13,
    "start_time": "2022-03-23T20:56:55.847Z"
   },
   {
    "duration": 8,
    "start_time": "2022-03-23T20:57:24.427Z"
   },
   {
    "duration": 7,
    "start_time": "2022-03-23T20:57:47.903Z"
   },
   {
    "duration": 1733,
    "start_time": "2022-03-25T00:49:34.618Z"
   },
   {
    "duration": 7,
    "start_time": "2022-03-25T00:49:36.354Z"
   },
   {
    "duration": 25,
    "start_time": "2022-03-25T00:49:36.363Z"
   },
   {
    "duration": 44,
    "start_time": "2022-03-25T00:49:36.391Z"
   },
   {
    "duration": 44,
    "start_time": "2022-03-25T00:49:36.437Z"
   },
   {
    "duration": 31,
    "start_time": "2022-03-25T00:49:36.484Z"
   },
   {
    "duration": 50,
    "start_time": "2022-03-25T00:49:36.518Z"
   },
   {
    "duration": 9,
    "start_time": "2022-03-25T00:49:36.570Z"
   },
   {
    "duration": 27,
    "start_time": "2022-03-25T00:49:36.582Z"
   },
   {
    "duration": 10,
    "start_time": "2022-03-25T00:49:36.613Z"
   },
   {
    "duration": 52,
    "start_time": "2022-03-25T00:49:36.625Z"
   },
   {
    "duration": 243,
    "start_time": "2022-03-25T00:49:36.679Z"
   },
   {
    "duration": 831,
    "start_time": "2022-03-25T00:49:36.925Z"
   },
   {
    "duration": 15,
    "start_time": "2022-03-25T00:49:37.759Z"
   },
   {
    "duration": 26,
    "start_time": "2022-03-25T00:49:37.776Z"
   },
   {
    "duration": 6,
    "start_time": "2022-03-25T00:49:37.804Z"
   },
   {
    "duration": 13,
    "start_time": "2022-03-25T00:49:37.812Z"
   },
   {
    "duration": 43,
    "start_time": "2022-03-25T00:49:37.827Z"
   },
   {
    "duration": 8,
    "start_time": "2022-03-25T00:49:37.872Z"
   },
   {
    "duration": 4,
    "start_time": "2022-03-25T00:49:37.883Z"
   },
   {
    "duration": 5,
    "start_time": "2022-03-25T00:49:37.889Z"
   },
   {
    "duration": 4,
    "start_time": "2022-03-25T00:49:37.896Z"
   },
   {
    "duration": 5,
    "start_time": "2022-03-25T00:49:37.903Z"
   },
   {
    "duration": 5,
    "start_time": "2022-03-25T00:49:37.911Z"
   },
   {
    "duration": 5,
    "start_time": "2022-03-25T00:49:37.918Z"
   },
   {
    "duration": 45,
    "start_time": "2022-03-25T00:49:37.925Z"
   },
   {
    "duration": 5,
    "start_time": "2022-03-25T00:49:37.973Z"
   },
   {
    "duration": 3,
    "start_time": "2022-03-25T00:49:37.985Z"
   },
   {
    "duration": 5,
    "start_time": "2022-03-25T00:49:37.991Z"
   },
   {
    "duration": 5,
    "start_time": "2022-03-25T00:49:37.999Z"
   },
   {
    "duration": 4,
    "start_time": "2022-03-25T00:49:38.007Z"
   },
   {
    "duration": 5,
    "start_time": "2022-03-25T00:49:38.013Z"
   },
   {
    "duration": 48,
    "start_time": "2022-03-25T00:49:38.020Z"
   },
   {
    "duration": 6,
    "start_time": "2022-03-25T00:49:38.070Z"
   },
   {
    "duration": 6,
    "start_time": "2022-03-25T00:49:38.077Z"
   },
   {
    "duration": 6,
    "start_time": "2022-03-25T00:49:38.085Z"
   },
   {
    "duration": 5,
    "start_time": "2022-03-25T00:49:38.093Z"
   },
   {
    "duration": 5,
    "start_time": "2022-03-25T00:49:38.100Z"
   },
   {
    "duration": 6,
    "start_time": "2022-03-25T00:49:38.107Z"
   },
   {
    "duration": 5,
    "start_time": "2022-03-25T00:49:38.115Z"
   },
   {
    "duration": 6,
    "start_time": "2022-03-25T00:49:38.122Z"
   },
   {
    "duration": 40,
    "start_time": "2022-03-25T00:49:38.130Z"
   },
   {
    "duration": 8,
    "start_time": "2022-03-25T00:49:38.172Z"
   },
   {
    "duration": 7,
    "start_time": "2022-03-25T00:49:38.182Z"
   },
   {
    "duration": 4,
    "start_time": "2022-03-25T00:49:38.191Z"
   },
   {
    "duration": 4,
    "start_time": "2022-03-25T00:49:38.198Z"
   },
   {
    "duration": 6,
    "start_time": "2022-03-25T00:49:38.204Z"
   },
   {
    "duration": 5,
    "start_time": "2022-03-25T00:49:38.212Z"
   },
   {
    "duration": 5,
    "start_time": "2022-03-25T00:49:38.219Z"
   },
   {
    "duration": 4,
    "start_time": "2022-03-25T00:49:38.268Z"
   },
   {
    "duration": 4,
    "start_time": "2022-03-25T00:49:38.275Z"
   },
   {
    "duration": 6,
    "start_time": "2022-03-25T00:49:38.281Z"
   },
   {
    "duration": 4,
    "start_time": "2022-03-25T00:49:38.289Z"
   },
   {
    "duration": 6,
    "start_time": "2022-03-25T00:49:38.296Z"
   },
   {
    "duration": 4,
    "start_time": "2022-03-25T00:49:38.304Z"
   },
   {
    "duration": 4,
    "start_time": "2022-03-25T00:49:38.310Z"
   },
   {
    "duration": 5,
    "start_time": "2022-03-25T00:49:38.316Z"
   },
   {
    "duration": 46,
    "start_time": "2022-03-25T00:49:38.323Z"
   },
   {
    "duration": 6,
    "start_time": "2022-03-25T00:49:38.371Z"
   },
   {
    "duration": 5,
    "start_time": "2022-03-25T00:49:38.379Z"
   },
   {
    "duration": 4,
    "start_time": "2022-03-25T00:49:38.387Z"
   },
   {
    "duration": 5,
    "start_time": "2022-03-25T00:49:38.393Z"
   },
   {
    "duration": 4,
    "start_time": "2022-03-25T00:49:38.400Z"
   },
   {
    "duration": 4,
    "start_time": "2022-03-25T00:49:38.406Z"
   },
   {
    "duration": 4,
    "start_time": "2022-03-25T00:49:38.412Z"
   },
   {
    "duration": 50,
    "start_time": "2022-03-25T00:49:38.419Z"
   },
   {
    "duration": 5,
    "start_time": "2022-03-25T00:49:38.472Z"
   },
   {
    "duration": 4,
    "start_time": "2022-03-25T00:49:38.479Z"
   },
   {
    "duration": 4,
    "start_time": "2022-03-25T00:49:38.486Z"
   },
   {
    "duration": 3,
    "start_time": "2022-03-25T00:49:38.493Z"
   },
   {
    "duration": 4,
    "start_time": "2022-03-25T00:49:38.499Z"
   },
   {
    "duration": 3,
    "start_time": "2022-03-25T00:49:38.507Z"
   },
   {
    "duration": 3,
    "start_time": "2022-03-25T00:49:38.567Z"
   },
   {
    "duration": 4,
    "start_time": "2022-03-25T00:49:38.573Z"
   },
   {
    "duration": 4,
    "start_time": "2022-03-25T00:49:38.580Z"
   },
   {
    "duration": 14,
    "start_time": "2022-03-25T00:59:58.320Z"
   },
   {
    "duration": 73,
    "start_time": "2022-03-25T01:42:22.526Z"
   },
   {
    "duration": 42,
    "start_time": "2022-03-25T01:42:45.130Z"
   },
   {
    "duration": 15,
    "start_time": "2022-03-25T01:49:24.796Z"
   },
   {
    "duration": 140,
    "start_time": "2022-03-25T01:55:10.682Z"
   },
   {
    "duration": 6,
    "start_time": "2022-03-25T01:55:17.552Z"
   },
   {
    "duration": 6,
    "start_time": "2022-03-25T01:55:27.110Z"
   },
   {
    "duration": 8,
    "start_time": "2022-03-25T01:56:12.123Z"
   },
   {
    "duration": 6,
    "start_time": "2022-03-25T01:59:45.749Z"
   },
   {
    "duration": 5,
    "start_time": "2022-03-25T01:59:54.297Z"
   },
   {
    "duration": 6,
    "start_time": "2022-03-25T02:01:42.557Z"
   },
   {
    "duration": 7,
    "start_time": "2022-03-25T02:02:20.805Z"
   },
   {
    "duration": 15,
    "start_time": "2022-03-25T02:02:41.793Z"
   },
   {
    "duration": 13,
    "start_time": "2022-03-25T02:02:46.799Z"
   },
   {
    "duration": 8,
    "start_time": "2022-03-25T02:02:52.241Z"
   },
   {
    "duration": 7,
    "start_time": "2022-03-25T02:03:03.477Z"
   },
   {
    "duration": 6,
    "start_time": "2022-03-25T02:03:18.120Z"
   },
   {
    "duration": 1509,
    "start_time": "2022-03-25T02:03:26.726Z"
   },
   {
    "duration": 8,
    "start_time": "2022-03-25T02:03:28.238Z"
   },
   {
    "duration": 58,
    "start_time": "2022-03-25T02:03:28.248Z"
   },
   {
    "duration": 43,
    "start_time": "2022-03-25T02:03:28.309Z"
   },
   {
    "duration": 19,
    "start_time": "2022-03-25T02:03:28.354Z"
   },
   {
    "duration": 34,
    "start_time": "2022-03-25T02:03:28.376Z"
   },
   {
    "duration": 14,
    "start_time": "2022-03-25T02:03:28.413Z"
   },
   {
    "duration": 14,
    "start_time": "2022-03-25T02:03:28.429Z"
   },
   {
    "duration": 35,
    "start_time": "2022-03-25T02:03:28.446Z"
   },
   {
    "duration": 10,
    "start_time": "2022-03-25T02:03:28.487Z"
   },
   {
    "duration": 23,
    "start_time": "2022-03-25T02:03:28.500Z"
   },
   {
    "duration": 282,
    "start_time": "2022-03-25T02:03:28.526Z"
   },
   {
    "duration": 839,
    "start_time": "2022-03-25T02:03:28.811Z"
   },
   {
    "duration": 20,
    "start_time": "2022-03-25T02:03:29.653Z"
   },
   {
    "duration": 30,
    "start_time": "2022-03-25T02:03:29.676Z"
   },
   {
    "duration": 9,
    "start_time": "2022-03-25T02:03:29.709Z"
   },
   {
    "duration": 12,
    "start_time": "2022-03-25T02:03:29.720Z"
   },
   {
    "duration": 8,
    "start_time": "2022-03-25T02:03:29.767Z"
   },
   {
    "duration": 7,
    "start_time": "2022-03-25T02:03:29.777Z"
   },
   {
    "duration": 8,
    "start_time": "2022-03-25T02:03:29.787Z"
   },
   {
    "duration": 30,
    "start_time": "2022-03-25T02:03:29.798Z"
   },
   {
    "duration": 16,
    "start_time": "2022-03-25T02:03:29.830Z"
   },
   {
    "duration": 18,
    "start_time": "2022-03-25T02:03:29.849Z"
   },
   {
    "duration": 12,
    "start_time": "2022-03-25T02:03:29.869Z"
   },
   {
    "duration": 13,
    "start_time": "2022-03-25T02:03:29.884Z"
   },
   {
    "duration": 16,
    "start_time": "2022-03-25T02:03:29.899Z"
   },
   {
    "duration": 14,
    "start_time": "2022-03-25T02:03:29.917Z"
   },
   {
    "duration": 7,
    "start_time": "2022-03-25T02:03:29.937Z"
   },
   {
    "duration": 11,
    "start_time": "2022-03-25T02:03:29.946Z"
   },
   {
    "duration": 11,
    "start_time": "2022-03-25T02:03:29.960Z"
   },
   {
    "duration": 10,
    "start_time": "2022-03-25T02:03:29.973Z"
   },
   {
    "duration": 7,
    "start_time": "2022-03-25T02:03:29.986Z"
   },
   {
    "duration": 11,
    "start_time": "2022-03-25T02:03:29.995Z"
   },
   {
    "duration": 8,
    "start_time": "2022-03-25T02:03:30.008Z"
   },
   {
    "duration": 28,
    "start_time": "2022-03-25T02:03:30.018Z"
   },
   {
    "duration": 7,
    "start_time": "2022-03-25T02:03:30.049Z"
   },
   {
    "duration": 14,
    "start_time": "2022-03-25T02:03:30.058Z"
   },
   {
    "duration": 15,
    "start_time": "2022-03-25T02:03:30.074Z"
   },
   {
    "duration": 8,
    "start_time": "2022-03-25T02:03:30.091Z"
   },
   {
    "duration": 27,
    "start_time": "2022-03-25T02:03:30.101Z"
   },
   {
    "duration": 19,
    "start_time": "2022-03-25T02:03:30.130Z"
   },
   {
    "duration": 14,
    "start_time": "2022-03-25T02:03:30.152Z"
   },
   {
    "duration": 12,
    "start_time": "2022-03-25T02:03:30.169Z"
   },
   {
    "duration": 11,
    "start_time": "2022-03-25T02:03:30.183Z"
   },
   {
    "duration": 23,
    "start_time": "2022-03-25T02:03:30.197Z"
   },
   {
    "duration": 16,
    "start_time": "2022-03-25T02:03:30.223Z"
   },
   {
    "duration": 24,
    "start_time": "2022-03-25T02:03:30.242Z"
   },
   {
    "duration": 34,
    "start_time": "2022-03-25T02:03:30.268Z"
   },
   {
    "duration": 27,
    "start_time": "2022-03-25T02:03:30.304Z"
   },
   {
    "duration": 44,
    "start_time": "2022-03-25T02:03:30.334Z"
   },
   {
    "duration": 25,
    "start_time": "2022-03-25T02:03:30.381Z"
   },
   {
    "duration": 13,
    "start_time": "2022-03-25T02:03:30.408Z"
   },
   {
    "duration": 21,
    "start_time": "2022-03-25T02:03:30.423Z"
   },
   {
    "duration": 23,
    "start_time": "2022-03-25T02:03:30.446Z"
   },
   {
    "duration": 19,
    "start_time": "2022-03-25T02:03:30.472Z"
   },
   {
    "duration": 17,
    "start_time": "2022-03-25T02:03:30.493Z"
   },
   {
    "duration": 34,
    "start_time": "2022-03-25T02:03:30.512Z"
   },
   {
    "duration": 28,
    "start_time": "2022-03-25T02:03:30.548Z"
   },
   {
    "duration": 18,
    "start_time": "2022-03-25T02:03:30.579Z"
   },
   {
    "duration": 36,
    "start_time": "2022-03-25T02:03:30.599Z"
   },
   {
    "duration": 11,
    "start_time": "2022-03-25T02:03:30.637Z"
   },
   {
    "duration": 17,
    "start_time": "2022-03-25T02:03:30.651Z"
   },
   {
    "duration": 23,
    "start_time": "2022-03-25T02:03:30.671Z"
   },
   {
    "duration": 22,
    "start_time": "2022-03-25T02:03:30.697Z"
   },
   {
    "duration": 17,
    "start_time": "2022-03-25T02:03:30.721Z"
   },
   {
    "duration": 20,
    "start_time": "2022-03-25T02:03:30.740Z"
   },
   {
    "duration": 7,
    "start_time": "2022-03-25T02:03:30.762Z"
   },
   {
    "duration": 27,
    "start_time": "2022-03-25T02:03:30.771Z"
   },
   {
    "duration": 13,
    "start_time": "2022-03-25T02:03:30.800Z"
   },
   {
    "duration": 17,
    "start_time": "2022-03-25T02:03:30.816Z"
   },
   {
    "duration": 10,
    "start_time": "2022-03-25T02:03:30.835Z"
   },
   {
    "duration": 9,
    "start_time": "2022-03-25T02:03:30.848Z"
   },
   {
    "duration": 14,
    "start_time": "2022-03-25T02:03:30.859Z"
   },
   {
    "duration": 23,
    "start_time": "2022-03-25T02:03:30.875Z"
   },
   {
    "duration": 13,
    "start_time": "2022-03-25T02:03:30.900Z"
   },
   {
    "duration": 12,
    "start_time": "2022-03-25T02:09:49.995Z"
   },
   {
    "duration": 8,
    "start_time": "2022-03-25T02:10:00.725Z"
   },
   {
    "duration": 2695,
    "start_time": "2022-03-25T16:00:54.472Z"
   },
   {
    "duration": 15,
    "start_time": "2022-03-25T16:00:57.170Z"
   },
   {
    "duration": 27,
    "start_time": "2022-03-25T16:00:57.189Z"
   },
   {
    "duration": 62,
    "start_time": "2022-03-25T16:00:57.220Z"
   },
   {
    "duration": 22,
    "start_time": "2022-03-25T16:00:57.286Z"
   },
   {
    "duration": 60,
    "start_time": "2022-03-25T16:00:57.311Z"
   },
   {
    "duration": 17,
    "start_time": "2022-03-25T16:00:57.373Z"
   },
   {
    "duration": 14,
    "start_time": "2022-03-25T16:00:57.393Z"
   },
   {
    "duration": 45,
    "start_time": "2022-03-25T16:00:57.410Z"
   },
   {
    "duration": 20,
    "start_time": "2022-03-25T16:00:57.458Z"
   },
   {
    "duration": 38,
    "start_time": "2022-03-25T16:00:57.481Z"
   },
   {
    "duration": 295,
    "start_time": "2022-03-25T16:00:57.522Z"
   },
   {
    "duration": 1497,
    "start_time": "2022-03-25T16:00:57.820Z"
   },
   {
    "duration": 28,
    "start_time": "2022-03-25T16:00:59.321Z"
   },
   {
    "duration": 46,
    "start_time": "2022-03-25T16:00:59.352Z"
   },
   {
    "duration": 10,
    "start_time": "2022-03-25T16:00:59.403Z"
   },
   {
    "duration": 41,
    "start_time": "2022-03-25T16:00:59.416Z"
   },
   {
    "duration": 23,
    "start_time": "2022-03-25T16:00:59.459Z"
   },
   {
    "duration": 7,
    "start_time": "2022-03-25T16:00:59.485Z"
   },
   {
    "duration": 6,
    "start_time": "2022-03-25T16:00:59.494Z"
   },
   {
    "duration": 7,
    "start_time": "2022-03-25T16:00:59.503Z"
   },
   {
    "duration": 13,
    "start_time": "2022-03-25T16:00:59.551Z"
   },
   {
    "duration": 6,
    "start_time": "2022-03-25T16:00:59.567Z"
   },
   {
    "duration": 6,
    "start_time": "2022-03-25T16:00:59.576Z"
   },
   {
    "duration": 5,
    "start_time": "2022-03-25T16:00:59.585Z"
   },
   {
    "duration": 9,
    "start_time": "2022-03-25T16:00:59.593Z"
   },
   {
    "duration": 8,
    "start_time": "2022-03-25T16:00:59.604Z"
   },
   {
    "duration": 34,
    "start_time": "2022-03-25T16:00:59.615Z"
   },
   {
    "duration": 13,
    "start_time": "2022-03-25T16:00:59.653Z"
   },
   {
    "duration": 7,
    "start_time": "2022-03-25T16:00:59.668Z"
   },
   {
    "duration": 6,
    "start_time": "2022-03-25T16:00:59.677Z"
   },
   {
    "duration": 5,
    "start_time": "2022-03-25T16:00:59.685Z"
   },
   {
    "duration": 5,
    "start_time": "2022-03-25T16:00:59.693Z"
   },
   {
    "duration": 6,
    "start_time": "2022-03-25T16:00:59.700Z"
   },
   {
    "duration": 39,
    "start_time": "2022-03-25T16:00:59.709Z"
   },
   {
    "duration": 19,
    "start_time": "2022-03-25T16:00:59.752Z"
   },
   {
    "duration": 7,
    "start_time": "2022-03-25T16:00:59.773Z"
   },
   {
    "duration": 5,
    "start_time": "2022-03-25T16:00:59.782Z"
   },
   {
    "duration": 7,
    "start_time": "2022-03-25T16:00:59.789Z"
   },
   {
    "duration": 7,
    "start_time": "2022-03-25T16:00:59.798Z"
   },
   {
    "duration": 38,
    "start_time": "2022-03-25T16:00:59.813Z"
   },
   {
    "duration": 17,
    "start_time": "2022-03-25T16:00:59.855Z"
   },
   {
    "duration": 8,
    "start_time": "2022-03-25T16:00:59.875Z"
   },
   {
    "duration": 10,
    "start_time": "2022-03-25T16:00:59.886Z"
   },
   {
    "duration": 7,
    "start_time": "2022-03-25T16:00:59.899Z"
   },
   {
    "duration": 15,
    "start_time": "2022-03-25T16:00:59.908Z"
   },
   {
    "duration": 8,
    "start_time": "2022-03-25T16:00:59.926Z"
   },
   {
    "duration": 25,
    "start_time": "2022-03-25T16:00:59.936Z"
   },
   {
    "duration": 9,
    "start_time": "2022-03-25T16:00:59.964Z"
   },
   {
    "duration": 6,
    "start_time": "2022-03-25T16:00:59.976Z"
   },
   {
    "duration": 8,
    "start_time": "2022-03-25T16:00:59.984Z"
   },
   {
    "duration": 15,
    "start_time": "2022-03-25T16:00:59.995Z"
   },
   {
    "duration": 9,
    "start_time": "2022-03-25T16:01:00.014Z"
   },
   {
    "duration": 12,
    "start_time": "2022-03-25T16:01:00.026Z"
   },
   {
    "duration": 13,
    "start_time": "2022-03-25T16:01:00.043Z"
   },
   {
    "duration": 18,
    "start_time": "2022-03-25T16:01:00.058Z"
   },
   {
    "duration": 7,
    "start_time": "2022-03-25T16:01:00.078Z"
   },
   {
    "duration": 7,
    "start_time": "2022-03-25T16:01:00.087Z"
   },
   {
    "duration": 6,
    "start_time": "2022-03-25T16:01:00.096Z"
   },
   {
    "duration": 9,
    "start_time": "2022-03-25T16:01:00.104Z"
   },
   {
    "duration": 36,
    "start_time": "2022-03-25T16:01:00.116Z"
   },
   {
    "duration": 24,
    "start_time": "2022-03-25T16:01:00.154Z"
   },
   {
    "duration": 21,
    "start_time": "2022-03-25T16:01:00.180Z"
   },
   {
    "duration": 14,
    "start_time": "2022-03-25T16:01:00.204Z"
   },
   {
    "duration": 13,
    "start_time": "2022-03-25T16:01:00.220Z"
   },
   {
    "duration": 34,
    "start_time": "2022-03-25T16:01:00.236Z"
   },
   {
    "duration": 20,
    "start_time": "2022-03-25T16:01:00.272Z"
   },
   {
    "duration": 25,
    "start_time": "2022-03-25T16:01:00.295Z"
   },
   {
    "duration": 12,
    "start_time": "2022-03-25T16:01:00.323Z"
   },
   {
    "duration": 30,
    "start_time": "2022-03-25T16:01:00.337Z"
   },
   {
    "duration": 12,
    "start_time": "2022-03-25T16:01:00.369Z"
   },
   {
    "duration": 13,
    "start_time": "2022-03-25T16:01:00.383Z"
   },
   {
    "duration": 13,
    "start_time": "2022-03-25T16:01:00.398Z"
   },
   {
    "duration": 8,
    "start_time": "2022-03-25T16:01:00.413Z"
   },
   {
    "duration": 10,
    "start_time": "2022-03-25T16:01:00.423Z"
   },
   {
    "duration": 19,
    "start_time": "2022-03-25T16:04:05.442Z"
   },
   {
    "duration": 40,
    "start_time": "2022-03-25T16:16:14.434Z"
   },
   {
    "duration": 45,
    "start_time": "2022-03-25T16:16:24.033Z"
   },
   {
    "duration": 59,
    "start_time": "2022-03-25T16:16:31.520Z"
   },
   {
    "duration": 188,
    "start_time": "2022-03-25T16:16:48.094Z"
   },
   {
    "duration": 38,
    "start_time": "2022-03-25T16:17:03.228Z"
   },
   {
    "duration": 55,
    "start_time": "2022-03-25T16:18:02.097Z"
   },
   {
    "duration": 210,
    "start_time": "2022-03-25T16:29:19.114Z"
   },
   {
    "duration": 6,
    "start_time": "2022-03-25T16:29:30.801Z"
   },
   {
    "duration": 227,
    "start_time": "2022-03-25T16:29:45.242Z"
   },
   {
    "duration": 9,
    "start_time": "2022-03-25T16:30:00.611Z"
   },
   {
    "duration": 8,
    "start_time": "2022-03-25T16:41:25.844Z"
   },
   {
    "duration": 274,
    "start_time": "2022-03-25T16:41:43.435Z"
   },
   {
    "duration": 8,
    "start_time": "2022-03-25T16:42:04.835Z"
   },
   {
    "duration": 3,
    "start_time": "2022-03-25T16:42:17.172Z"
   },
   {
    "duration": 8,
    "start_time": "2022-03-25T16:42:19.716Z"
   },
   {
    "duration": 7,
    "start_time": "2022-03-25T16:42:23.217Z"
   },
   {
    "duration": 4,
    "start_time": "2022-03-25T16:42:25.590Z"
   },
   {
    "duration": 6,
    "start_time": "2022-03-25T16:42:27.410Z"
   },
   {
    "duration": 1712,
    "start_time": "2022-03-25T16:42:50.033Z"
   },
   {
    "duration": 7,
    "start_time": "2022-03-25T16:42:51.748Z"
   },
   {
    "duration": 27,
    "start_time": "2022-03-25T16:42:51.758Z"
   },
   {
    "duration": 79,
    "start_time": "2022-03-25T16:42:51.788Z"
   },
   {
    "duration": 74,
    "start_time": "2022-03-25T16:42:51.869Z"
   },
   {
    "duration": 33,
    "start_time": "2022-03-25T16:42:51.946Z"
   },
   {
    "duration": 30,
    "start_time": "2022-03-25T16:42:51.983Z"
   },
   {
    "duration": 44,
    "start_time": "2022-03-25T16:42:52.016Z"
   },
   {
    "duration": 9,
    "start_time": "2022-03-25T16:42:52.063Z"
   },
   {
    "duration": 22,
    "start_time": "2022-03-25T16:42:52.076Z"
   },
   {
    "duration": 47,
    "start_time": "2022-03-25T16:42:52.100Z"
   },
   {
    "duration": 30,
    "start_time": "2022-03-25T16:42:52.149Z"
   },
   {
    "duration": 386,
    "start_time": "2022-03-25T16:42:52.182Z"
   },
   {
    "duration": 967,
    "start_time": "2022-03-25T16:42:52.571Z"
   },
   {
    "duration": 12,
    "start_time": "2022-03-25T16:42:53.544Z"
   },
   {
    "duration": 12,
    "start_time": "2022-03-25T16:42:53.558Z"
   },
   {
    "duration": 7,
    "start_time": "2022-03-25T16:42:53.572Z"
   },
   {
    "duration": 64,
    "start_time": "2022-03-25T16:42:53.582Z"
   },
   {
    "duration": 8,
    "start_time": "2022-03-25T16:42:53.648Z"
   },
   {
    "duration": 9,
    "start_time": "2022-03-25T16:42:53.660Z"
   },
   {
    "duration": 7,
    "start_time": "2022-03-25T16:42:53.672Z"
   },
   {
    "duration": 6,
    "start_time": "2022-03-25T16:42:53.681Z"
   },
   {
    "duration": 5,
    "start_time": "2022-03-25T16:42:53.690Z"
   },
   {
    "duration": 7,
    "start_time": "2022-03-25T16:42:53.697Z"
   },
   {
    "duration": 4,
    "start_time": "2022-03-25T16:42:53.744Z"
   },
   {
    "duration": 6,
    "start_time": "2022-03-25T16:42:53.751Z"
   },
   {
    "duration": 6,
    "start_time": "2022-03-25T16:42:53.759Z"
   },
   {
    "duration": 3,
    "start_time": "2022-03-25T16:42:53.774Z"
   },
   {
    "duration": 6,
    "start_time": "2022-03-25T16:42:53.780Z"
   },
   {
    "duration": 8,
    "start_time": "2022-03-25T16:42:53.788Z"
   },
   {
    "duration": 4,
    "start_time": "2022-03-25T16:42:53.842Z"
   },
   {
    "duration": 8,
    "start_time": "2022-03-25T16:42:53.850Z"
   },
   {
    "duration": 5,
    "start_time": "2022-03-25T16:42:53.861Z"
   },
   {
    "duration": 5,
    "start_time": "2022-03-25T16:42:53.869Z"
   },
   {
    "duration": 6,
    "start_time": "2022-03-25T16:42:53.877Z"
   },
   {
    "duration": 6,
    "start_time": "2022-03-25T16:42:53.885Z"
   },
   {
    "duration": 50,
    "start_time": "2022-03-25T16:42:53.893Z"
   },
   {
    "duration": 3,
    "start_time": "2022-03-25T16:42:53.945Z"
   },
   {
    "duration": 16,
    "start_time": "2022-03-25T16:42:53.951Z"
   },
   {
    "duration": 7,
    "start_time": "2022-03-25T16:42:53.970Z"
   },
   {
    "duration": 8,
    "start_time": "2022-03-25T16:42:53.980Z"
   },
   {
    "duration": 8,
    "start_time": "2022-03-25T16:42:53.990Z"
   },
   {
    "duration": 7,
    "start_time": "2022-03-25T16:42:54.000Z"
   },
   {
    "duration": 45,
    "start_time": "2022-03-25T16:42:54.010Z"
   },
   {
    "duration": 7,
    "start_time": "2022-03-25T16:42:54.057Z"
   },
   {
    "duration": 13,
    "start_time": "2022-03-25T16:42:54.067Z"
   },
   {
    "duration": 8,
    "start_time": "2022-03-25T16:42:54.083Z"
   },
   {
    "duration": 13,
    "start_time": "2022-03-25T16:42:54.094Z"
   },
   {
    "duration": 6,
    "start_time": "2022-03-25T16:42:54.110Z"
   },
   {
    "duration": 6,
    "start_time": "2022-03-25T16:42:54.119Z"
   },
   {
    "duration": 3,
    "start_time": "2022-03-25T16:42:54.144Z"
   },
   {
    "duration": 7,
    "start_time": "2022-03-25T16:42:54.150Z"
   },
   {
    "duration": 7,
    "start_time": "2022-03-25T16:42:54.160Z"
   },
   {
    "duration": 9,
    "start_time": "2022-03-25T16:42:54.169Z"
   },
   {
    "duration": 11,
    "start_time": "2022-03-25T16:42:54.181Z"
   },
   {
    "duration": 10,
    "start_time": "2022-03-25T16:42:54.195Z"
   },
   {
    "duration": 6,
    "start_time": "2022-03-25T16:42:54.208Z"
   },
   {
    "duration": 4,
    "start_time": "2022-03-25T16:42:54.244Z"
   },
   {
    "duration": 28,
    "start_time": "2022-03-25T16:42:54.252Z"
   },
   {
    "duration": 16,
    "start_time": "2022-03-25T16:42:54.283Z"
   },
   {
    "duration": 9,
    "start_time": "2022-03-25T16:42:54.302Z"
   },
   {
    "duration": 15,
    "start_time": "2022-03-25T16:42:54.314Z"
   },
   {
    "duration": 9,
    "start_time": "2022-03-25T16:42:54.331Z"
   },
   {
    "duration": 10,
    "start_time": "2022-03-25T16:42:54.343Z"
   },
   {
    "duration": 8,
    "start_time": "2022-03-25T16:42:54.356Z"
   },
   {
    "duration": 12,
    "start_time": "2022-03-25T16:42:54.367Z"
   },
   {
    "duration": 4,
    "start_time": "2022-03-25T16:42:54.382Z"
   },
   {
    "duration": 7,
    "start_time": "2022-03-25T16:42:54.388Z"
   },
   {
    "duration": 7,
    "start_time": "2022-03-25T16:42:54.397Z"
   },
   {
    "duration": 7,
    "start_time": "2022-03-25T16:42:54.406Z"
   },
   {
    "duration": 27,
    "start_time": "2022-03-25T16:42:54.416Z"
   },
   {
    "duration": 6,
    "start_time": "2022-03-25T16:42:54.446Z"
   },
   {
    "duration": 5,
    "start_time": "2022-03-25T16:42:54.455Z"
   },
   {
    "duration": 8,
    "start_time": "2022-03-25T16:42:54.463Z"
   },
   {
    "duration": 6,
    "start_time": "2022-03-25T16:42:54.473Z"
   },
   {
    "duration": 8,
    "start_time": "2022-03-25T16:42:54.482Z"
   },
   {
    "duration": 7,
    "start_time": "2022-03-25T16:43:01.465Z"
   },
   {
    "duration": 7,
    "start_time": "2022-03-25T16:43:15.904Z"
   },
   {
    "duration": 157,
    "start_time": "2022-03-25T16:49:12.550Z"
   },
   {
    "duration": 12,
    "start_time": "2022-03-25T16:49:29.136Z"
   },
   {
    "duration": 15,
    "start_time": "2022-03-25T16:50:03.859Z"
   },
   {
    "duration": 24,
    "start_time": "2022-03-25T16:50:16.038Z"
   },
   {
    "duration": 31,
    "start_time": "2022-03-25T16:50:36.903Z"
   },
   {
    "duration": 21,
    "start_time": "2022-03-25T16:50:50.527Z"
   },
   {
    "duration": 24,
    "start_time": "2022-03-25T16:50:56.842Z"
   },
   {
    "duration": 14,
    "start_time": "2022-03-25T16:51:07.279Z"
   },
   {
    "duration": 18,
    "start_time": "2022-03-25T16:51:11.890Z"
   },
   {
    "duration": 18,
    "start_time": "2022-03-25T16:52:12.597Z"
   },
   {
    "duration": 19,
    "start_time": "2022-03-25T16:52:20.042Z"
   },
   {
    "duration": 13,
    "start_time": "2022-03-25T16:52:25.829Z"
   },
   {
    "duration": 20,
    "start_time": "2022-03-25T16:53:01.413Z"
   },
   {
    "duration": 244,
    "start_time": "2022-03-25T16:53:18.469Z"
   },
   {
    "duration": 31,
    "start_time": "2022-03-25T16:53:34.445Z"
   },
   {
    "duration": 12,
    "start_time": "2022-03-25T16:53:47.380Z"
   },
   {
    "duration": 14,
    "start_time": "2022-03-25T16:54:07.328Z"
   },
   {
    "duration": 18,
    "start_time": "2022-03-25T16:54:15.721Z"
   },
   {
    "duration": 17,
    "start_time": "2022-03-25T16:54:30.203Z"
   },
   {
    "duration": 6,
    "start_time": "2022-03-25T16:55:10.762Z"
   },
   {
    "duration": 20,
    "start_time": "2022-03-25T16:55:22.647Z"
   },
   {
    "duration": 15,
    "start_time": "2022-03-25T16:55:28.250Z"
   },
   {
    "duration": 9,
    "start_time": "2022-03-25T16:56:28.431Z"
   },
   {
    "duration": 8,
    "start_time": "2022-03-25T16:57:55.803Z"
   },
   {
    "duration": 11,
    "start_time": "2022-03-25T16:58:06.517Z"
   },
   {
    "duration": 1754,
    "start_time": "2022-03-26T16:10:57.172Z"
   },
   {
    "duration": 7,
    "start_time": "2022-03-26T16:10:58.929Z"
   },
   {
    "duration": 34,
    "start_time": "2022-03-26T16:10:58.938Z"
   },
   {
    "duration": 57,
    "start_time": "2022-03-26T16:10:58.975Z"
   },
   {
    "duration": 65,
    "start_time": "2022-03-26T16:10:59.034Z"
   },
   {
    "duration": 20,
    "start_time": "2022-03-26T16:10:59.101Z"
   },
   {
    "duration": 30,
    "start_time": "2022-03-26T16:10:59.123Z"
   },
   {
    "duration": 14,
    "start_time": "2022-03-26T16:10:59.183Z"
   },
   {
    "duration": 9,
    "start_time": "2022-03-26T16:10:59.200Z"
   },
   {
    "duration": 18,
    "start_time": "2022-03-26T16:10:59.214Z"
   },
   {
    "duration": 12,
    "start_time": "2022-03-26T16:10:59.234Z"
   },
   {
    "duration": 55,
    "start_time": "2022-03-26T16:10:59.248Z"
   },
   {
    "duration": 261,
    "start_time": "2022-03-26T16:10:59.305Z"
   },
   {
    "duration": 842,
    "start_time": "2022-03-26T16:10:59.569Z"
   },
   {
    "duration": 11,
    "start_time": "2022-03-26T16:11:00.414Z"
   },
   {
    "duration": 12,
    "start_time": "2022-03-26T16:11:00.427Z"
   },
   {
    "duration": 40,
    "start_time": "2022-03-26T16:11:00.442Z"
   },
   {
    "duration": 31,
    "start_time": "2022-03-26T16:11:00.485Z"
   },
   {
    "duration": 33,
    "start_time": "2022-03-26T16:11:00.518Z"
   },
   {
    "duration": 24,
    "start_time": "2022-03-26T16:11:00.553Z"
   },
   {
    "duration": 19,
    "start_time": "2022-03-26T16:11:00.579Z"
   },
   {
    "duration": 22,
    "start_time": "2022-03-26T16:11:00.600Z"
   },
   {
    "duration": 22,
    "start_time": "2022-03-26T16:11:00.624Z"
   },
   {
    "duration": 17,
    "start_time": "2022-03-26T16:11:00.648Z"
   },
   {
    "duration": 13,
    "start_time": "2022-03-26T16:11:00.667Z"
   },
   {
    "duration": 30,
    "start_time": "2022-03-26T16:11:00.681Z"
   },
   {
    "duration": 15,
    "start_time": "2022-03-26T16:11:00.713Z"
   },
   {
    "duration": 8,
    "start_time": "2022-03-26T16:11:00.734Z"
   },
   {
    "duration": 31,
    "start_time": "2022-03-26T16:11:00.744Z"
   },
   {
    "duration": 18,
    "start_time": "2022-03-26T16:11:00.777Z"
   },
   {
    "duration": 19,
    "start_time": "2022-03-26T16:11:00.797Z"
   },
   {
    "duration": 12,
    "start_time": "2022-03-26T16:11:00.818Z"
   },
   {
    "duration": 19,
    "start_time": "2022-03-26T16:11:00.832Z"
   },
   {
    "duration": 18,
    "start_time": "2022-03-26T16:11:00.854Z"
   },
   {
    "duration": 25,
    "start_time": "2022-03-26T16:11:00.874Z"
   },
   {
    "duration": 28,
    "start_time": "2022-03-26T16:11:00.901Z"
   },
   {
    "duration": 14,
    "start_time": "2022-03-26T16:11:00.932Z"
   },
   {
    "duration": 30,
    "start_time": "2022-03-26T16:11:00.949Z"
   },
   {
    "duration": 13,
    "start_time": "2022-03-26T16:11:00.981Z"
   },
   {
    "duration": 25,
    "start_time": "2022-03-26T16:11:00.996Z"
   },
   {
    "duration": 34,
    "start_time": "2022-03-26T16:11:01.023Z"
   },
   {
    "duration": 69,
    "start_time": "2022-03-26T16:11:01.059Z"
   },
   {
    "duration": 12,
    "start_time": "2022-03-26T16:11:01.130Z"
   },
   {
    "duration": 24,
    "start_time": "2022-03-26T16:11:01.145Z"
   },
   {
    "duration": 16,
    "start_time": "2022-03-26T16:11:01.171Z"
   },
   {
    "duration": 15,
    "start_time": "2022-03-26T16:11:01.189Z"
   },
   {
    "duration": 30,
    "start_time": "2022-03-26T16:11:01.207Z"
   },
   {
    "duration": 31,
    "start_time": "2022-03-26T16:11:01.240Z"
   },
   {
    "duration": 28,
    "start_time": "2022-03-26T16:11:01.273Z"
   },
   {
    "duration": 13,
    "start_time": "2022-03-26T16:11:01.303Z"
   },
   {
    "duration": 48,
    "start_time": "2022-03-26T16:11:01.318Z"
   },
   {
    "duration": 69,
    "start_time": "2022-03-26T16:11:01.368Z"
   },
   {
    "duration": 44,
    "start_time": "2022-03-26T16:11:01.439Z"
   },
   {
    "duration": 38,
    "start_time": "2022-03-26T16:11:01.486Z"
   },
   {
    "duration": 43,
    "start_time": "2022-03-26T16:11:01.526Z"
   },
   {
    "duration": 27,
    "start_time": "2022-03-26T16:11:01.571Z"
   },
   {
    "duration": 34,
    "start_time": "2022-03-26T16:11:01.600Z"
   },
   {
    "duration": 35,
    "start_time": "2022-03-26T16:11:01.637Z"
   },
   {
    "duration": 42,
    "start_time": "2022-03-26T16:11:01.674Z"
   },
   {
    "duration": 27,
    "start_time": "2022-03-26T16:11:01.718Z"
   },
   {
    "duration": 34,
    "start_time": "2022-03-26T16:11:01.747Z"
   },
   {
    "duration": 15,
    "start_time": "2022-03-26T16:11:01.784Z"
   },
   {
    "duration": 24,
    "start_time": "2022-03-26T16:11:01.801Z"
   },
   {
    "duration": 38,
    "start_time": "2022-03-26T16:11:01.827Z"
   },
   {
    "duration": 18,
    "start_time": "2022-03-26T16:11:01.868Z"
   },
   {
    "duration": 18,
    "start_time": "2022-03-26T16:11:01.888Z"
   },
   {
    "duration": 11,
    "start_time": "2022-03-26T16:11:01.908Z"
   },
   {
    "duration": 9,
    "start_time": "2022-03-26T16:11:01.921Z"
   },
   {
    "duration": 28,
    "start_time": "2022-03-26T16:11:01.932Z"
   },
   {
    "duration": 14,
    "start_time": "2022-03-26T16:11:01.962Z"
   },
   {
    "duration": 22,
    "start_time": "2022-03-26T16:11:01.978Z"
   },
   {
    "duration": 23,
    "start_time": "2022-03-26T16:11:02.002Z"
   },
   {
    "duration": 18,
    "start_time": "2022-03-26T16:11:02.028Z"
   },
   {
    "duration": 53,
    "start_time": "2022-03-26T16:11:02.048Z"
   },
   {
    "duration": 15,
    "start_time": "2022-03-26T16:11:02.103Z"
   },
   {
    "duration": 13,
    "start_time": "2022-03-26T16:11:02.120Z"
   },
   {
    "duration": 59,
    "start_time": "2022-03-26T16:11:30.706Z"
   },
   {
    "duration": 177,
    "start_time": "2022-03-26T16:11:45.747Z"
   },
   {
    "duration": 56,
    "start_time": "2022-03-26T16:12:15.574Z"
   },
   {
    "duration": 53,
    "start_time": "2022-03-26T16:12:31.443Z"
   },
   {
    "duration": 67,
    "start_time": "2022-03-26T16:12:52.197Z"
   },
   {
    "duration": 848,
    "start_time": "2022-03-26T16:13:03.539Z"
   },
   {
    "duration": 7,
    "start_time": "2022-03-26T16:13:33.615Z"
   },
   {
    "duration": 9,
    "start_time": "2022-03-26T16:13:58.082Z"
   },
   {
    "duration": 9,
    "start_time": "2022-03-26T16:14:08.294Z"
   },
   {
    "duration": 297,
    "start_time": "2022-03-26T16:14:19.721Z"
   },
   {
    "duration": 14,
    "start_time": "2022-03-26T16:18:53.832Z"
   },
   {
    "duration": 5,
    "start_time": "2022-03-26T16:21:30.296Z"
   },
   {
    "duration": 11,
    "start_time": "2022-03-26T16:21:36.266Z"
   },
   {
    "duration": 17,
    "start_time": "2022-03-26T16:23:41.130Z"
   },
   {
    "duration": 825,
    "start_time": "2022-03-26T16:23:49.019Z"
   },
   {
    "duration": 18,
    "start_time": "2022-03-26T16:29:13.046Z"
   },
   {
    "duration": 9,
    "start_time": "2022-03-26T16:29:32.654Z"
   },
   {
    "duration": 12,
    "start_time": "2022-03-26T16:30:43.112Z"
   },
   {
    "duration": 16,
    "start_time": "2022-03-26T16:31:16.152Z"
   },
   {
    "duration": 18,
    "start_time": "2022-03-26T16:31:24.054Z"
   },
   {
    "duration": 18,
    "start_time": "2022-03-26T16:33:36.114Z"
   },
   {
    "duration": 19,
    "start_time": "2022-03-26T16:33:42.454Z"
   },
   {
    "duration": 20,
    "start_time": "2022-03-26T16:34:27.424Z"
   },
   {
    "duration": 18,
    "start_time": "2022-03-26T16:35:02.906Z"
   },
   {
    "duration": 19,
    "start_time": "2022-03-26T16:35:14.324Z"
   },
   {
    "duration": 15,
    "start_time": "2022-03-26T16:43:03.080Z"
   },
   {
    "duration": 10,
    "start_time": "2022-03-26T16:43:15.899Z"
   },
   {
    "duration": 15,
    "start_time": "2022-03-26T16:43:20.286Z"
   },
   {
    "duration": 9,
    "start_time": "2022-03-26T16:44:10.648Z"
   },
   {
    "duration": 11,
    "start_time": "2022-03-26T16:44:36.100Z"
   },
   {
    "duration": 20,
    "start_time": "2022-03-26T16:45:33.446Z"
   },
   {
    "duration": 2262,
    "start_time": "2022-03-26T16:45:44.286Z"
   },
   {
    "duration": 34,
    "start_time": "2022-03-26T16:45:55.582Z"
   },
   {
    "duration": 17,
    "start_time": "2022-03-26T16:46:17.656Z"
   },
   {
    "duration": 163,
    "start_time": "2022-03-26T16:47:03.844Z"
   },
   {
    "duration": 141,
    "start_time": "2022-03-26T16:47:12.748Z"
   },
   {
    "duration": 9,
    "start_time": "2022-03-26T16:47:36.227Z"
   },
   {
    "duration": 1863,
    "start_time": "2022-03-27T02:00:03.002Z"
   },
   {
    "duration": 7,
    "start_time": "2022-03-27T02:00:04.868Z"
   },
   {
    "duration": 30,
    "start_time": "2022-03-27T02:00:04.877Z"
   },
   {
    "duration": 68,
    "start_time": "2022-03-27T02:00:04.909Z"
   },
   {
    "duration": 45,
    "start_time": "2022-03-27T02:00:04.980Z"
   },
   {
    "duration": 29,
    "start_time": "2022-03-27T02:00:05.027Z"
   },
   {
    "duration": 31,
    "start_time": "2022-03-27T02:00:05.058Z"
   },
   {
    "duration": 14,
    "start_time": "2022-03-27T02:00:05.091Z"
   },
   {
    "duration": 8,
    "start_time": "2022-03-27T02:00:05.107Z"
   },
   {
    "duration": 15,
    "start_time": "2022-03-27T02:00:05.145Z"
   },
   {
    "duration": 8,
    "start_time": "2022-03-27T02:00:05.162Z"
   },
   {
    "duration": 20,
    "start_time": "2022-03-27T02:00:05.173Z"
   },
   {
    "duration": 272,
    "start_time": "2022-03-27T02:00:05.195Z"
   },
   {
    "duration": 879,
    "start_time": "2022-03-27T02:00:05.469Z"
   },
   {
    "duration": 11,
    "start_time": "2022-03-27T02:00:06.350Z"
   },
   {
    "duration": 11,
    "start_time": "2022-03-27T02:00:06.363Z"
   },
   {
    "duration": 7,
    "start_time": "2022-03-27T02:00:06.376Z"
   },
   {
    "duration": 13,
    "start_time": "2022-03-27T02:00:06.385Z"
   },
   {
    "duration": 49,
    "start_time": "2022-03-27T02:00:06.400Z"
   },
   {
    "duration": 6,
    "start_time": "2022-03-27T02:00:06.452Z"
   },
   {
    "duration": 7,
    "start_time": "2022-03-27T02:00:06.460Z"
   },
   {
    "duration": 6,
    "start_time": "2022-03-27T02:00:06.469Z"
   },
   {
    "duration": 11,
    "start_time": "2022-03-27T02:00:06.477Z"
   },
   {
    "duration": 63,
    "start_time": "2022-03-27T02:00:06.490Z"
   },
   {
    "duration": 3,
    "start_time": "2022-03-27T02:00:06.555Z"
   },
   {
    "duration": 7,
    "start_time": "2022-03-27T02:00:06.560Z"
   },
   {
    "duration": 5,
    "start_time": "2022-03-27T02:00:06.569Z"
   },
   {
    "duration": 3,
    "start_time": "2022-03-27T02:00:06.580Z"
   },
   {
    "duration": 7,
    "start_time": "2022-03-27T02:00:06.586Z"
   },
   {
    "duration": 5,
    "start_time": "2022-03-27T02:00:06.596Z"
   },
   {
    "duration": 40,
    "start_time": "2022-03-27T02:00:06.603Z"
   },
   {
    "duration": 10,
    "start_time": "2022-03-27T02:00:06.646Z"
   },
   {
    "duration": 6,
    "start_time": "2022-03-27T02:00:06.658Z"
   },
   {
    "duration": 5,
    "start_time": "2022-03-27T02:00:06.666Z"
   },
   {
    "duration": 5,
    "start_time": "2022-03-27T02:00:06.673Z"
   },
   {
    "duration": 4,
    "start_time": "2022-03-27T02:00:06.681Z"
   },
   {
    "duration": 5,
    "start_time": "2022-03-27T02:00:06.687Z"
   },
   {
    "duration": 6,
    "start_time": "2022-03-27T02:00:06.694Z"
   },
   {
    "duration": 41,
    "start_time": "2022-03-27T02:00:06.702Z"
   },
   {
    "duration": 7,
    "start_time": "2022-03-27T02:00:06.745Z"
   },
   {
    "duration": 5,
    "start_time": "2022-03-27T02:00:06.754Z"
   },
   {
    "duration": 12,
    "start_time": "2022-03-27T02:00:06.761Z"
   },
   {
    "duration": 11,
    "start_time": "2022-03-27T02:00:06.776Z"
   },
   {
    "duration": 10,
    "start_time": "2022-03-27T02:00:06.789Z"
   },
   {
    "duration": 9,
    "start_time": "2022-03-27T02:00:06.801Z"
   },
   {
    "duration": 8,
    "start_time": "2022-03-27T02:00:06.812Z"
   },
   {
    "duration": 21,
    "start_time": "2022-03-27T02:00:06.822Z"
   },
   {
    "duration": 14,
    "start_time": "2022-03-27T02:00:06.845Z"
   },
   {
    "duration": 17,
    "start_time": "2022-03-27T02:00:06.862Z"
   },
   {
    "duration": 23,
    "start_time": "2022-03-27T02:00:06.881Z"
   },
   {
    "duration": 7,
    "start_time": "2022-03-27T02:00:06.906Z"
   },
   {
    "duration": 13,
    "start_time": "2022-03-27T02:00:06.916Z"
   },
   {
    "duration": 14,
    "start_time": "2022-03-27T02:00:06.931Z"
   },
   {
    "duration": 15,
    "start_time": "2022-03-27T02:00:06.947Z"
   },
   {
    "duration": 23,
    "start_time": "2022-03-27T02:00:06.964Z"
   },
   {
    "duration": 6,
    "start_time": "2022-03-27T02:00:06.989Z"
   },
   {
    "duration": 12,
    "start_time": "2022-03-27T02:00:06.998Z"
   },
   {
    "duration": 15,
    "start_time": "2022-03-27T02:00:07.012Z"
   },
   {
    "duration": 7,
    "start_time": "2022-03-27T02:00:07.029Z"
   },
   {
    "duration": 12,
    "start_time": "2022-03-27T02:00:07.038Z"
   },
   {
    "duration": 15,
    "start_time": "2022-03-27T02:00:07.053Z"
   },
   {
    "duration": 15,
    "start_time": "2022-03-27T02:00:07.071Z"
   },
   {
    "duration": 11,
    "start_time": "2022-03-27T02:00:07.088Z"
   },
   {
    "duration": 16,
    "start_time": "2022-03-27T02:00:07.102Z"
   },
   {
    "duration": 9,
    "start_time": "2022-03-27T02:00:07.121Z"
   },
   {
    "duration": 17,
    "start_time": "2022-03-27T02:00:07.132Z"
   },
   {
    "duration": 10,
    "start_time": "2022-03-27T02:00:07.151Z"
   },
   {
    "duration": 5,
    "start_time": "2022-03-27T02:00:07.163Z"
   },
   {
    "duration": 9,
    "start_time": "2022-03-27T02:00:07.170Z"
   },
   {
    "duration": 17,
    "start_time": "2022-03-27T02:00:07.181Z"
   },
   {
    "duration": 7,
    "start_time": "2022-03-27T02:00:07.201Z"
   },
   {
    "duration": 13,
    "start_time": "2022-03-27T02:00:07.210Z"
   },
   {
    "duration": 9,
    "start_time": "2022-03-27T02:00:07.225Z"
   },
   {
    "duration": 16,
    "start_time": "2022-03-27T02:00:07.236Z"
   },
   {
    "duration": 17,
    "start_time": "2022-03-27T02:00:07.255Z"
   },
   {
    "duration": 8,
    "start_time": "2022-03-27T02:00:07.274Z"
   },
   {
    "duration": 9,
    "start_time": "2022-03-27T02:00:07.284Z"
   },
   {
    "duration": 5,
    "start_time": "2022-03-27T02:18:28.225Z"
   },
   {
    "duration": 152,
    "start_time": "2022-03-27T02:19:01.355Z"
   },
   {
    "duration": 9,
    "start_time": "2022-03-27T02:19:07.583Z"
   },
   {
    "duration": 7,
    "start_time": "2022-03-27T02:19:43.894Z"
   },
   {
    "duration": 6,
    "start_time": "2022-03-27T02:43:58.352Z"
   },
   {
    "duration": 12,
    "start_time": "2022-03-27T02:44:08.738Z"
   },
   {
    "duration": 206,
    "start_time": "2022-03-27T02:44:21.060Z"
   },
   {
    "duration": 6,
    "start_time": "2022-03-27T02:44:26.510Z"
   },
   {
    "duration": 203,
    "start_time": "2022-03-27T02:44:48.184Z"
   },
   {
    "duration": 7,
    "start_time": "2022-03-27T02:46:17.434Z"
   },
   {
    "duration": 1829,
    "start_time": "2022-03-27T21:17:07.077Z"
   },
   {
    "duration": 7,
    "start_time": "2022-03-27T21:17:08.909Z"
   },
   {
    "duration": 32,
    "start_time": "2022-03-27T21:17:08.919Z"
   },
   {
    "duration": 70,
    "start_time": "2022-03-27T21:17:08.953Z"
   },
   {
    "duration": 58,
    "start_time": "2022-03-27T21:17:09.026Z"
   },
   {
    "duration": 20,
    "start_time": "2022-03-27T21:17:09.086Z"
   },
   {
    "duration": 32,
    "start_time": "2022-03-27T21:17:09.108Z"
   },
   {
    "duration": 41,
    "start_time": "2022-03-27T21:17:09.143Z"
   },
   {
    "duration": 9,
    "start_time": "2022-03-27T21:17:09.186Z"
   },
   {
    "duration": 30,
    "start_time": "2022-03-27T21:17:09.197Z"
   },
   {
    "duration": 9,
    "start_time": "2022-03-27T21:17:09.229Z"
   },
   {
    "duration": 52,
    "start_time": "2022-03-27T21:17:09.241Z"
   },
   {
    "duration": 257,
    "start_time": "2022-03-27T21:17:09.295Z"
   },
   {
    "duration": 923,
    "start_time": "2022-03-27T21:17:09.557Z"
   },
   {
    "duration": 12,
    "start_time": "2022-03-27T21:17:10.482Z"
   },
   {
    "duration": 12,
    "start_time": "2022-03-27T21:17:10.496Z"
   },
   {
    "duration": 6,
    "start_time": "2022-03-27T21:17:10.511Z"
   },
   {
    "duration": 62,
    "start_time": "2022-03-27T21:17:10.520Z"
   },
   {
    "duration": 7,
    "start_time": "2022-03-27T21:17:10.585Z"
   },
   {
    "duration": 6,
    "start_time": "2022-03-27T21:17:10.594Z"
   },
   {
    "duration": 7,
    "start_time": "2022-03-27T21:17:10.602Z"
   },
   {
    "duration": 6,
    "start_time": "2022-03-27T21:17:10.610Z"
   },
   {
    "duration": 10,
    "start_time": "2022-03-27T21:17:10.618Z"
   },
   {
    "duration": 55,
    "start_time": "2022-03-27T21:17:10.630Z"
   },
   {
    "duration": 5,
    "start_time": "2022-03-27T21:17:10.687Z"
   },
   {
    "duration": 11,
    "start_time": "2022-03-27T21:17:10.694Z"
   },
   {
    "duration": 7,
    "start_time": "2022-03-27T21:17:10.707Z"
   },
   {
    "duration": 74,
    "start_time": "2022-03-27T21:17:10.717Z"
   },
   {
    "duration": 7,
    "start_time": "2022-03-27T21:17:10.793Z"
   },
   {
    "duration": 6,
    "start_time": "2022-03-27T21:17:10.802Z"
   },
   {
    "duration": 8,
    "start_time": "2022-03-27T21:17:10.810Z"
   },
   {
    "duration": 6,
    "start_time": "2022-03-27T21:17:10.819Z"
   },
   {
    "duration": 7,
    "start_time": "2022-03-27T21:17:10.827Z"
   },
   {
    "duration": 6,
    "start_time": "2022-03-27T21:17:10.835Z"
   },
   {
    "duration": 32,
    "start_time": "2022-03-27T21:17:10.843Z"
   },
   {
    "duration": 6,
    "start_time": "2022-03-27T21:17:10.877Z"
   },
   {
    "duration": 5,
    "start_time": "2022-03-27T21:17:10.885Z"
   },
   {
    "duration": 5,
    "start_time": "2022-03-27T21:17:10.892Z"
   },
   {
    "duration": 6,
    "start_time": "2022-03-27T21:17:10.899Z"
   },
   {
    "duration": 4,
    "start_time": "2022-03-27T21:17:10.908Z"
   },
   {
    "duration": 2,
    "start_time": "2022-03-27T21:17:10.920Z"
   },
   {
    "duration": 7,
    "start_time": "2022-03-27T21:17:10.924Z"
   },
   {
    "duration": 3,
    "start_time": "2022-03-27T21:17:10.973Z"
   },
   {
    "duration": 6,
    "start_time": "2022-03-27T21:17:10.978Z"
   },
   {
    "duration": 5,
    "start_time": "2022-03-27T21:17:10.986Z"
   },
   {
    "duration": 6,
    "start_time": "2022-03-27T21:17:10.993Z"
   },
   {
    "duration": 6,
    "start_time": "2022-03-27T21:17:11.001Z"
   },
   {
    "duration": 8,
    "start_time": "2022-03-27T21:17:11.009Z"
   },
   {
    "duration": 7,
    "start_time": "2022-03-27T21:17:11.019Z"
   },
   {
    "duration": 5,
    "start_time": "2022-03-27T21:17:11.029Z"
   },
   {
    "duration": 38,
    "start_time": "2022-03-27T21:17:11.036Z"
   },
   {
    "duration": 6,
    "start_time": "2022-03-27T21:17:11.077Z"
   },
   {
    "duration": 7,
    "start_time": "2022-03-27T21:17:11.085Z"
   },
   {
    "duration": 7,
    "start_time": "2022-03-27T21:17:11.095Z"
   },
   {
    "duration": 8,
    "start_time": "2022-03-27T21:17:11.104Z"
   },
   {
    "duration": 8,
    "start_time": "2022-03-27T21:17:11.114Z"
   },
   {
    "duration": 7,
    "start_time": "2022-03-27T21:17:11.124Z"
   },
   {
    "duration": 9,
    "start_time": "2022-03-27T21:17:11.133Z"
   },
   {
    "duration": 30,
    "start_time": "2022-03-27T21:17:11.144Z"
   },
   {
    "duration": 6,
    "start_time": "2022-03-27T21:17:11.176Z"
   },
   {
    "duration": 6,
    "start_time": "2022-03-27T21:17:11.184Z"
   },
   {
    "duration": 7,
    "start_time": "2022-03-27T21:17:11.192Z"
   },
   {
    "duration": 7,
    "start_time": "2022-03-27T21:17:11.201Z"
   },
   {
    "duration": 10,
    "start_time": "2022-03-27T21:17:11.210Z"
   },
   {
    "duration": 6,
    "start_time": "2022-03-27T21:17:11.222Z"
   },
   {
    "duration": 9,
    "start_time": "2022-03-27T21:17:11.230Z"
   },
   {
    "duration": 6,
    "start_time": "2022-03-27T21:17:11.242Z"
   },
   {
    "duration": 4,
    "start_time": "2022-03-27T21:17:11.275Z"
   },
   {
    "duration": 6,
    "start_time": "2022-03-27T21:17:11.281Z"
   },
   {
    "duration": 9,
    "start_time": "2022-03-27T21:17:11.289Z"
   },
   {
    "duration": 5,
    "start_time": "2022-03-27T21:17:11.301Z"
   },
   {
    "duration": 6,
    "start_time": "2022-03-27T21:17:11.308Z"
   },
   {
    "duration": 5,
    "start_time": "2022-03-27T21:17:11.316Z"
   },
   {
    "duration": 5,
    "start_time": "2022-03-27T21:17:11.324Z"
   },
   {
    "duration": 5,
    "start_time": "2022-03-27T21:17:11.331Z"
   },
   {
    "duration": 7,
    "start_time": "2022-03-27T21:17:11.375Z"
   },
   {
    "duration": 6,
    "start_time": "2022-03-27T21:17:11.384Z"
   },
   {
    "duration": 7,
    "start_time": "2022-03-27T21:44:44.020Z"
   },
   {
    "duration": 7,
    "start_time": "2022-03-27T21:45:22.332Z"
   },
   {
    "duration": 13,
    "start_time": "2022-03-27T21:45:32.939Z"
   },
   {
    "duration": 7,
    "start_time": "2022-03-27T21:46:17.498Z"
   },
   {
    "duration": 4,
    "start_time": "2022-03-27T21:47:12.153Z"
   },
   {
    "duration": 1512,
    "start_time": "2022-03-27T21:47:18.858Z"
   },
   {
    "duration": 8,
    "start_time": "2022-03-27T21:47:20.373Z"
   },
   {
    "duration": 27,
    "start_time": "2022-03-27T21:47:20.383Z"
   },
   {
    "duration": 79,
    "start_time": "2022-03-27T21:47:20.413Z"
   },
   {
    "duration": 43,
    "start_time": "2022-03-27T21:47:20.494Z"
   },
   {
    "duration": 40,
    "start_time": "2022-03-27T21:47:20.540Z"
   },
   {
    "duration": 31,
    "start_time": "2022-03-27T21:47:20.582Z"
   },
   {
    "duration": 13,
    "start_time": "2022-03-27T21:47:20.615Z"
   },
   {
    "duration": 45,
    "start_time": "2022-03-27T21:47:20.630Z"
   },
   {
    "duration": 15,
    "start_time": "2022-03-27T21:47:20.679Z"
   },
   {
    "duration": 8,
    "start_time": "2022-03-27T21:47:20.697Z"
   },
   {
    "duration": 21,
    "start_time": "2022-03-27T21:47:20.707Z"
   },
   {
    "duration": 287,
    "start_time": "2022-03-27T21:47:20.730Z"
   },
   {
    "duration": 894,
    "start_time": "2022-03-27T21:47:21.019Z"
   },
   {
    "duration": 10,
    "start_time": "2022-03-27T21:47:21.915Z"
   },
   {
    "duration": 12,
    "start_time": "2022-03-27T21:47:21.927Z"
   },
   {
    "duration": 36,
    "start_time": "2022-03-27T21:47:21.941Z"
   },
   {
    "duration": 13,
    "start_time": "2022-03-27T21:47:21.979Z"
   },
   {
    "duration": 7,
    "start_time": "2022-03-27T21:47:21.994Z"
   },
   {
    "duration": 7,
    "start_time": "2022-03-27T21:47:22.003Z"
   },
   {
    "duration": 6,
    "start_time": "2022-03-27T21:47:22.012Z"
   },
   {
    "duration": 11,
    "start_time": "2022-03-27T21:47:22.020Z"
   },
   {
    "duration": 4,
    "start_time": "2022-03-27T21:47:22.073Z"
   },
   {
    "duration": 8,
    "start_time": "2022-03-27T21:47:22.079Z"
   },
   {
    "duration": 33,
    "start_time": "2022-03-27T21:47:22.089Z"
   },
   {
    "duration": 5,
    "start_time": "2022-03-27T21:47:22.124Z"
   },
   {
    "duration": 6,
    "start_time": "2022-03-27T21:47:22.131Z"
   },
   {
    "duration": 3,
    "start_time": "2022-03-27T21:47:22.174Z"
   },
   {
    "duration": 14,
    "start_time": "2022-03-27T21:47:22.179Z"
   },
   {
    "duration": 18,
    "start_time": "2022-03-27T21:47:22.195Z"
   },
   {
    "duration": 8,
    "start_time": "2022-03-27T21:47:22.215Z"
   },
   {
    "duration": 5,
    "start_time": "2022-03-27T21:47:22.225Z"
   },
   {
    "duration": 6,
    "start_time": "2022-03-27T21:47:22.232Z"
   },
   {
    "duration": 7,
    "start_time": "2022-03-27T21:47:22.240Z"
   },
   {
    "duration": 10,
    "start_time": "2022-03-27T21:47:22.249Z"
   },
   {
    "duration": 3,
    "start_time": "2022-03-27T21:47:22.273Z"
   },
   {
    "duration": 5,
    "start_time": "2022-03-27T21:47:22.278Z"
   },
   {
    "duration": 4,
    "start_time": "2022-03-27T21:47:22.286Z"
   },
   {
    "duration": 7,
    "start_time": "2022-03-27T21:47:22.292Z"
   },
   {
    "duration": 6,
    "start_time": "2022-03-27T21:47:22.301Z"
   },
   {
    "duration": 9,
    "start_time": "2022-03-27T21:47:22.309Z"
   },
   {
    "duration": 6,
    "start_time": "2022-03-27T21:47:22.320Z"
   },
   {
    "duration": 5,
    "start_time": "2022-03-27T21:47:22.328Z"
   },
   {
    "duration": 3,
    "start_time": "2022-03-27T21:47:22.374Z"
   },
   {
    "duration": 8,
    "start_time": "2022-03-27T21:47:22.381Z"
   },
   {
    "duration": 7,
    "start_time": "2022-03-27T21:47:22.391Z"
   },
   {
    "duration": 6,
    "start_time": "2022-03-27T21:47:22.400Z"
   },
   {
    "duration": 11,
    "start_time": "2022-03-27T21:47:22.408Z"
   },
   {
    "duration": 12,
    "start_time": "2022-03-27T21:47:22.421Z"
   },
   {
    "duration": 12,
    "start_time": "2022-03-27T21:47:22.436Z"
   },
   {
    "duration": 22,
    "start_time": "2022-03-27T21:47:22.451Z"
   },
   {
    "duration": 7,
    "start_time": "2022-03-27T21:47:22.476Z"
   },
   {
    "duration": 8,
    "start_time": "2022-03-27T21:47:22.485Z"
   },
   {
    "duration": 10,
    "start_time": "2022-03-27T21:47:22.495Z"
   },
   {
    "duration": 7,
    "start_time": "2022-03-27T21:47:22.507Z"
   },
   {
    "duration": 13,
    "start_time": "2022-03-27T21:47:22.516Z"
   },
   {
    "duration": 6,
    "start_time": "2022-03-27T21:47:22.531Z"
   },
   {
    "duration": 6,
    "start_time": "2022-03-27T21:47:22.539Z"
   },
   {
    "duration": 6,
    "start_time": "2022-03-27T21:47:22.547Z"
   },
   {
    "duration": 4,
    "start_time": "2022-03-27T21:47:22.574Z"
   },
   {
    "duration": 5,
    "start_time": "2022-03-27T21:47:22.580Z"
   },
   {
    "duration": 6,
    "start_time": "2022-03-27T21:47:22.587Z"
   },
   {
    "duration": 6,
    "start_time": "2022-03-27T21:47:22.595Z"
   },
   {
    "duration": 6,
    "start_time": "2022-03-27T21:47:22.603Z"
   },
   {
    "duration": 8,
    "start_time": "2022-03-27T21:47:22.611Z"
   },
   {
    "duration": 10,
    "start_time": "2022-03-27T21:47:22.621Z"
   },
   {
    "duration": 8,
    "start_time": "2022-03-27T21:47:22.633Z"
   },
   {
    "duration": 36,
    "start_time": "2022-03-27T21:47:22.643Z"
   },
   {
    "duration": 9,
    "start_time": "2022-03-27T21:47:22.681Z"
   },
   {
    "duration": 5,
    "start_time": "2022-03-27T21:47:22.692Z"
   },
   {
    "duration": 7,
    "start_time": "2022-03-27T21:47:22.699Z"
   },
   {
    "duration": 5,
    "start_time": "2022-03-27T21:47:22.708Z"
   },
   {
    "duration": 10,
    "start_time": "2022-03-27T21:47:22.716Z"
   },
   {
    "duration": 7,
    "start_time": "2022-03-27T21:47:22.728Z"
   },
   {
    "duration": 10,
    "start_time": "2022-03-27T21:47:37.314Z"
   },
   {
    "duration": 17,
    "start_time": "2022-03-27T21:47:44.446Z"
   },
   {
    "duration": 6,
    "start_time": "2022-03-27T21:48:01.623Z"
   },
   {
    "duration": 8,
    "start_time": "2022-03-27T21:48:09.615Z"
   },
   {
    "duration": 7,
    "start_time": "2022-03-27T22:04:51.465Z"
   },
   {
    "duration": 7,
    "start_time": "2022-03-27T22:17:15.080Z"
   },
   {
    "duration": 7,
    "start_time": "2022-03-27T22:17:26.210Z"
   },
   {
    "duration": 7,
    "start_time": "2022-03-27T22:17:44.930Z"
   },
   {
    "duration": 7,
    "start_time": "2022-03-27T22:18:03.758Z"
   },
   {
    "duration": 8,
    "start_time": "2022-03-27T22:18:16.363Z"
   },
   {
    "duration": 8,
    "start_time": "2022-03-27T22:18:40.437Z"
   },
   {
    "duration": 145,
    "start_time": "2022-03-27T22:18:52.008Z"
   },
   {
    "duration": 7,
    "start_time": "2022-03-27T22:19:27.304Z"
   },
   {
    "duration": 14,
    "start_time": "2022-03-27T22:19:44.204Z"
   },
   {
    "duration": 89,
    "start_time": "2022-03-27T22:22:43.617Z"
   },
   {
    "duration": 7,
    "start_time": "2022-03-27T22:23:05.738Z"
   },
   {
    "duration": 208,
    "start_time": "2022-03-27T22:23:23.547Z"
   },
   {
    "duration": 13,
    "start_time": "2022-03-27T22:23:34.146Z"
   },
   {
    "duration": 12,
    "start_time": "2022-03-27T22:23:38.805Z"
   },
   {
    "duration": 215,
    "start_time": "2022-03-27T22:23:44.583Z"
   },
   {
    "duration": 216,
    "start_time": "2022-03-27T22:24:06.859Z"
   },
   {
    "duration": 92,
    "start_time": "2022-03-27T22:24:29.967Z"
   },
   {
    "duration": 224,
    "start_time": "2022-03-27T22:24:35.565Z"
   },
   {
    "duration": 12,
    "start_time": "2022-03-27T22:25:08.953Z"
   },
   {
    "duration": 305,
    "start_time": "2022-03-27T22:25:15.122Z"
   },
   {
    "duration": 10,
    "start_time": "2022-03-27T22:58:11.389Z"
   },
   {
    "duration": 8,
    "start_time": "2022-03-27T22:58:30.718Z"
   },
   {
    "duration": 8,
    "start_time": "2022-03-27T22:59:02.285Z"
   },
   {
    "duration": 13,
    "start_time": "2022-03-27T22:59:52.852Z"
   },
   {
    "duration": 8,
    "start_time": "2022-03-27T23:01:05.030Z"
   },
   {
    "duration": 8,
    "start_time": "2022-03-27T23:01:44.923Z"
   },
   {
    "duration": 7,
    "start_time": "2022-03-27T23:02:06.455Z"
   },
   {
    "duration": 7,
    "start_time": "2022-03-27T23:02:17.398Z"
   },
   {
    "duration": 7,
    "start_time": "2022-03-27T23:12:33.451Z"
   },
   {
    "duration": 9,
    "start_time": "2022-03-27T23:12:48.245Z"
   },
   {
    "duration": 9,
    "start_time": "2022-03-27T23:14:43.386Z"
   },
   {
    "duration": 12,
    "start_time": "2022-03-27T23:15:13.631Z"
   },
   {
    "duration": 7,
    "start_time": "2022-03-27T23:15:33.930Z"
   },
   {
    "duration": 7,
    "start_time": "2022-03-27T23:17:30.688Z"
   },
   {
    "duration": 10,
    "start_time": "2022-03-27T23:17:51.386Z"
   },
   {
    "duration": 3,
    "start_time": "2022-03-27T23:17:56.327Z"
   },
   {
    "duration": 11,
    "start_time": "2022-03-27T23:17:58.362Z"
   },
   {
    "duration": 6,
    "start_time": "2022-03-27T23:18:05.622Z"
   },
   {
    "duration": 8,
    "start_time": "2022-03-27T23:18:06.524Z"
   },
   {
    "duration": 3,
    "start_time": "2022-03-27T23:18:11.748Z"
   },
   {
    "duration": 10,
    "start_time": "2022-03-27T23:18:12.527Z"
   },
   {
    "duration": 1577,
    "start_time": "2022-03-27T23:19:36.249Z"
   },
   {
    "duration": 7,
    "start_time": "2022-03-27T23:19:37.829Z"
   },
   {
    "duration": 28,
    "start_time": "2022-03-27T23:19:37.838Z"
   },
   {
    "duration": 54,
    "start_time": "2022-03-27T23:19:37.875Z"
   },
   {
    "duration": 64,
    "start_time": "2022-03-27T23:19:37.932Z"
   },
   {
    "duration": 21,
    "start_time": "2022-03-27T23:19:37.998Z"
   },
   {
    "duration": 54,
    "start_time": "2022-03-27T23:19:38.021Z"
   },
   {
    "duration": 15,
    "start_time": "2022-03-27T23:19:38.077Z"
   },
   {
    "duration": 10,
    "start_time": "2022-03-27T23:19:38.095Z"
   },
   {
    "duration": 18,
    "start_time": "2022-03-27T23:19:38.111Z"
   },
   {
    "duration": 51,
    "start_time": "2022-03-27T23:19:38.131Z"
   },
   {
    "duration": 23,
    "start_time": "2022-03-27T23:19:38.184Z"
   },
   {
    "duration": 275,
    "start_time": "2022-03-27T23:19:38.209Z"
   },
   {
    "duration": 57,
    "start_time": "2022-03-27T23:19:38.486Z"
   },
   {
    "duration": 31,
    "start_time": "2022-03-27T23:19:38.545Z"
   },
   {
    "duration": 11,
    "start_time": "2022-03-27T23:19:38.578Z"
   },
   {
    "duration": 8,
    "start_time": "2022-03-27T23:19:38.590Z"
   },
   {
    "duration": 12,
    "start_time": "2022-03-27T23:19:38.600Z"
   },
   {
    "duration": 9,
    "start_time": "2022-03-27T23:19:38.614Z"
   },
   {
    "duration": 48,
    "start_time": "2022-03-27T23:19:38.625Z"
   },
   {
    "duration": 6,
    "start_time": "2022-03-27T23:19:38.676Z"
   },
   {
    "duration": 6,
    "start_time": "2022-03-27T23:19:38.684Z"
   },
   {
    "duration": 10,
    "start_time": "2022-03-27T23:19:38.692Z"
   },
   {
    "duration": 16,
    "start_time": "2022-03-27T23:19:38.704Z"
   },
   {
    "duration": 4,
    "start_time": "2022-03-27T23:19:38.722Z"
   },
   {
    "duration": 7,
    "start_time": "2022-03-27T23:19:38.773Z"
   },
   {
    "duration": 11,
    "start_time": "2022-03-27T23:19:38.782Z"
   },
   {
    "duration": 3,
    "start_time": "2022-03-27T23:19:38.799Z"
   },
   {
    "duration": 7,
    "start_time": "2022-03-27T23:19:38.804Z"
   },
   {
    "duration": 10,
    "start_time": "2022-03-27T23:19:38.813Z"
   },
   {
    "duration": 2,
    "start_time": "2022-03-27T23:19:38.825Z"
   },
   {
    "duration": 5,
    "start_time": "2022-03-27T23:19:38.829Z"
   },
   {
    "duration": 3,
    "start_time": "2022-03-27T23:19:38.874Z"
   },
   {
    "duration": 5,
    "start_time": "2022-03-27T23:19:38.879Z"
   },
   {
    "duration": 7,
    "start_time": "2022-03-27T23:19:38.886Z"
   },
   {
    "duration": 8,
    "start_time": "2022-03-27T23:19:38.895Z"
   },
   {
    "duration": 7,
    "start_time": "2022-03-27T23:19:38.905Z"
   },
   {
    "duration": 10,
    "start_time": "2022-03-27T23:19:38.913Z"
   },
   {
    "duration": 10,
    "start_time": "2022-03-27T23:19:38.925Z"
   },
   {
    "duration": 7,
    "start_time": "2022-03-27T23:19:38.937Z"
   },
   {
    "duration": 6,
    "start_time": "2022-03-27T23:19:38.946Z"
   },
   {
    "duration": 10,
    "start_time": "2022-03-27T23:19:38.975Z"
   },
   {
    "duration": 13,
    "start_time": "2022-03-27T23:19:38.987Z"
   },
   {
    "duration": 7,
    "start_time": "2022-03-27T23:19:39.002Z"
   },
   {
    "duration": 6,
    "start_time": "2022-03-27T23:19:39.011Z"
   },
   {
    "duration": 6,
    "start_time": "2022-03-27T23:19:39.019Z"
   },
   {
    "duration": 5,
    "start_time": "2022-03-27T23:19:39.028Z"
   },
   {
    "duration": 5,
    "start_time": "2022-03-27T23:19:39.035Z"
   },
   {
    "duration": 31,
    "start_time": "2022-03-27T23:19:39.042Z"
   },
   {
    "duration": 6,
    "start_time": "2022-03-27T23:19:39.076Z"
   },
   {
    "duration": 7,
    "start_time": "2022-03-27T23:19:39.083Z"
   },
   {
    "duration": 7,
    "start_time": "2022-03-27T23:19:39.092Z"
   },
   {
    "duration": 7,
    "start_time": "2022-03-27T23:19:39.101Z"
   },
   {
    "duration": 6,
    "start_time": "2022-03-27T23:19:39.110Z"
   },
   {
    "duration": 5,
    "start_time": "2022-03-27T23:19:39.118Z"
   },
   {
    "duration": 7,
    "start_time": "2022-03-27T23:19:39.125Z"
   },
   {
    "duration": 6,
    "start_time": "2022-03-27T23:19:39.134Z"
   },
   {
    "duration": 32,
    "start_time": "2022-03-27T23:19:39.142Z"
   },
   {
    "duration": 3,
    "start_time": "2022-03-27T23:19:39.175Z"
   },
   {
    "duration": 8,
    "start_time": "2022-03-27T23:19:39.180Z"
   },
   {
    "duration": 7,
    "start_time": "2022-03-27T23:19:39.190Z"
   },
   {
    "duration": 9,
    "start_time": "2022-03-27T23:19:39.198Z"
   },
   {
    "duration": 6,
    "start_time": "2022-03-27T23:19:39.209Z"
   },
   {
    "duration": 6,
    "start_time": "2022-03-27T23:19:39.217Z"
   },
   {
    "duration": 6,
    "start_time": "2022-03-27T23:19:39.225Z"
   },
   {
    "duration": 5,
    "start_time": "2022-03-27T23:19:39.233Z"
   },
   {
    "duration": 35,
    "start_time": "2022-03-27T23:19:39.240Z"
   },
   {
    "duration": 6,
    "start_time": "2022-03-27T23:19:39.277Z"
   },
   {
    "duration": 6,
    "start_time": "2022-03-27T23:19:39.285Z"
   },
   {
    "duration": 6,
    "start_time": "2022-03-27T23:19:39.293Z"
   },
   {
    "duration": 5,
    "start_time": "2022-03-27T23:19:39.302Z"
   },
   {
    "duration": 7,
    "start_time": "2022-03-27T23:19:39.310Z"
   },
   {
    "duration": 6,
    "start_time": "2022-03-27T23:19:39.319Z"
   },
   {
    "duration": 6,
    "start_time": "2022-03-27T23:19:39.328Z"
   },
   {
    "duration": 37,
    "start_time": "2022-03-27T23:19:39.336Z"
   },
   {
    "duration": 3,
    "start_time": "2022-03-27T23:19:39.376Z"
   },
   {
    "duration": 5,
    "start_time": "2022-03-27T23:19:39.381Z"
   },
   {
    "duration": 6,
    "start_time": "2022-03-27T23:19:52.396Z"
   },
   {
    "duration": 144,
    "start_time": "2022-03-27T23:20:12.756Z"
   },
   {
    "duration": 11,
    "start_time": "2022-03-27T23:20:25.699Z"
   },
   {
    "duration": 6,
    "start_time": "2022-03-27T23:20:29.671Z"
   },
   {
    "duration": 7,
    "start_time": "2022-03-27T23:20:40.160Z"
   },
   {
    "duration": 8,
    "start_time": "2022-03-27T23:20:56.449Z"
   },
   {
    "duration": 8,
    "start_time": "2022-03-27T23:21:06.849Z"
   },
   {
    "duration": 7,
    "start_time": "2022-03-27T23:26:15.197Z"
   },
   {
    "duration": 7,
    "start_time": "2022-03-27T23:26:23.303Z"
   },
   {
    "duration": 9,
    "start_time": "2022-03-27T23:28:57.891Z"
   },
   {
    "duration": 9,
    "start_time": "2022-03-27T23:31:56.110Z"
   },
   {
    "duration": 9,
    "start_time": "2022-03-27T23:32:43.372Z"
   },
   {
    "duration": 24,
    "start_time": "2022-03-27T23:38:38.986Z"
   },
   {
    "duration": 7,
    "start_time": "2022-03-27T23:39:13.795Z"
   },
   {
    "duration": 10,
    "start_time": "2022-03-27T23:39:22.792Z"
   },
   {
    "duration": 29,
    "start_time": "2022-03-27T23:45:30.845Z"
   },
   {
    "duration": 12,
    "start_time": "2022-03-27T23:45:40.471Z"
   },
   {
    "duration": 27,
    "start_time": "2022-03-27T23:46:04.940Z"
   },
   {
    "duration": 33,
    "start_time": "2022-03-27T23:47:01.969Z"
   },
   {
    "duration": 26,
    "start_time": "2022-03-27T23:47:10.363Z"
   },
   {
    "duration": 10,
    "start_time": "2022-03-27T23:47:23.895Z"
   },
   {
    "duration": 5,
    "start_time": "2022-03-27T23:47:29.985Z"
   },
   {
    "duration": 1516,
    "start_time": "2022-03-30T00:50:22.505Z"
   },
   {
    "duration": 5,
    "start_time": "2022-03-30T00:50:24.023Z"
   },
   {
    "duration": 21,
    "start_time": "2022-03-30T00:50:24.029Z"
   },
   {
    "duration": 35,
    "start_time": "2022-03-30T00:50:24.051Z"
   },
   {
    "duration": 48,
    "start_time": "2022-03-30T00:50:24.088Z"
   },
   {
    "duration": 16,
    "start_time": "2022-03-30T00:50:24.137Z"
   },
   {
    "duration": 20,
    "start_time": "2022-03-30T00:50:24.155Z"
   },
   {
    "duration": 10,
    "start_time": "2022-03-30T00:50:24.177Z"
   },
   {
    "duration": 7,
    "start_time": "2022-03-30T00:50:24.189Z"
   },
   {
    "duration": 43,
    "start_time": "2022-03-30T00:50:24.198Z"
   },
   {
    "duration": 7,
    "start_time": "2022-03-30T00:50:24.243Z"
   },
   {
    "duration": 15,
    "start_time": "2022-03-30T00:50:24.252Z"
   },
   {
    "duration": 196,
    "start_time": "2022-03-30T00:50:24.269Z"
   },
   {
    "duration": 43,
    "start_time": "2022-03-30T00:50:24.468Z"
   },
   {
    "duration": 24,
    "start_time": "2022-03-30T00:50:24.513Z"
   },
   {
    "duration": 10,
    "start_time": "2022-03-30T00:50:24.539Z"
   },
   {
    "duration": 9,
    "start_time": "2022-03-30T00:50:24.551Z"
   },
   {
    "duration": 12,
    "start_time": "2022-03-30T00:50:24.561Z"
   },
   {
    "duration": 5,
    "start_time": "2022-03-30T00:50:24.575Z"
   },
   {
    "duration": 6,
    "start_time": "2022-03-30T00:50:24.582Z"
   },
   {
    "duration": 8,
    "start_time": "2022-03-30T00:50:24.590Z"
   },
   {
    "duration": 38,
    "start_time": "2022-03-30T00:50:24.600Z"
   },
   {
    "duration": 12,
    "start_time": "2022-03-30T00:50:24.640Z"
   },
   {
    "duration": 12,
    "start_time": "2022-03-30T00:50:24.654Z"
   },
   {
    "duration": 4,
    "start_time": "2022-03-30T00:50:24.667Z"
   },
   {
    "duration": 12,
    "start_time": "2022-03-30T00:50:24.672Z"
   },
   {
    "duration": 6,
    "start_time": "2022-03-30T00:50:24.686Z"
   },
   {
    "duration": 9,
    "start_time": "2022-03-30T00:50:24.694Z"
   },
   {
    "duration": 27,
    "start_time": "2022-03-30T00:50:24.705Z"
   },
   {
    "duration": 5,
    "start_time": "2022-03-30T00:50:24.734Z"
   },
   {
    "duration": 20,
    "start_time": "2022-03-30T00:50:24.740Z"
   },
   {
    "duration": 10,
    "start_time": "2022-03-30T00:50:24.762Z"
   },
   {
    "duration": 10,
    "start_time": "2022-03-30T00:50:24.774Z"
   },
   {
    "duration": 12,
    "start_time": "2022-03-30T00:50:24.786Z"
   },
   {
    "duration": 19,
    "start_time": "2022-03-30T00:50:24.799Z"
   },
   {
    "duration": 10,
    "start_time": "2022-03-30T00:50:24.820Z"
   },
   {
    "duration": 14,
    "start_time": "2022-03-30T00:50:24.831Z"
   },
   {
    "duration": 9,
    "start_time": "2022-03-30T00:50:24.846Z"
   },
   {
    "duration": 15,
    "start_time": "2022-03-30T00:50:24.856Z"
   },
   {
    "duration": 32,
    "start_time": "2022-03-30T00:50:24.873Z"
   },
   {
    "duration": 21,
    "start_time": "2022-03-30T00:50:24.909Z"
   },
   {
    "duration": 17,
    "start_time": "2022-03-30T00:50:24.932Z"
   },
   {
    "duration": 3,
    "start_time": "2022-03-30T00:50:24.951Z"
   },
   {
    "duration": 5,
    "start_time": "2022-03-30T00:50:24.956Z"
   },
   {
    "duration": 10,
    "start_time": "2022-03-30T00:50:24.962Z"
   },
   {
    "duration": 10,
    "start_time": "2022-03-30T00:50:24.974Z"
   },
   {
    "duration": 10,
    "start_time": "2022-03-30T00:50:24.986Z"
   },
   {
    "duration": 9,
    "start_time": "2022-03-30T00:50:24.998Z"
   },
   {
    "duration": 7,
    "start_time": "2022-03-30T00:50:25.009Z"
   },
   {
    "duration": 14,
    "start_time": "2022-03-30T00:50:25.018Z"
   },
   {
    "duration": 8,
    "start_time": "2022-03-30T00:50:25.033Z"
   },
   {
    "duration": 8,
    "start_time": "2022-03-30T00:50:25.043Z"
   },
   {
    "duration": 9,
    "start_time": "2022-03-30T00:50:25.053Z"
   },
   {
    "duration": 7,
    "start_time": "2022-03-30T00:50:25.064Z"
   },
   {
    "duration": 11,
    "start_time": "2022-03-30T00:50:25.072Z"
   },
   {
    "duration": 16,
    "start_time": "2022-03-30T00:50:25.085Z"
   },
   {
    "duration": 10,
    "start_time": "2022-03-30T00:50:25.103Z"
   },
   {
    "duration": 15,
    "start_time": "2022-03-30T00:50:25.115Z"
   },
   {
    "duration": 7,
    "start_time": "2022-03-30T00:50:25.132Z"
   },
   {
    "duration": 13,
    "start_time": "2022-03-30T00:50:25.141Z"
   },
   {
    "duration": 21,
    "start_time": "2022-03-30T00:50:25.156Z"
   },
   {
    "duration": 6,
    "start_time": "2022-03-30T00:50:25.179Z"
   },
   {
    "duration": 11,
    "start_time": "2022-03-30T00:50:25.186Z"
   },
   {
    "duration": 11,
    "start_time": "2022-03-30T00:50:25.199Z"
   },
   {
    "duration": 7,
    "start_time": "2022-03-30T00:50:25.212Z"
   },
   {
    "duration": 5,
    "start_time": "2022-03-30T00:50:25.220Z"
   },
   {
    "duration": 12,
    "start_time": "2022-03-30T00:50:25.227Z"
   },
   {
    "duration": 7,
    "start_time": "2022-03-30T00:50:25.240Z"
   },
   {
    "duration": 10,
    "start_time": "2022-03-30T00:50:25.249Z"
   },
   {
    "duration": 11,
    "start_time": "2022-03-30T00:50:25.261Z"
   },
   {
    "duration": 17,
    "start_time": "2022-03-30T00:50:25.274Z"
   },
   {
    "duration": 9,
    "start_time": "2022-03-30T00:50:25.293Z"
   },
   {
    "duration": 11,
    "start_time": "2022-03-30T00:50:25.303Z"
   },
   {
    "duration": 10,
    "start_time": "2022-03-30T00:50:25.315Z"
   },
   {
    "duration": 14,
    "start_time": "2022-03-30T00:50:25.326Z"
   },
   {
    "duration": 12,
    "start_time": "2022-03-30T00:50:25.342Z"
   },
   {
    "duration": 16,
    "start_time": "2022-03-30T00:50:25.356Z"
   },
   {
    "duration": 11,
    "start_time": "2022-03-30T00:50:25.373Z"
   },
   {
    "duration": 1370,
    "start_time": "2022-03-30T23:47:04.699Z"
   },
   {
    "duration": 5,
    "start_time": "2022-03-30T23:47:06.071Z"
   },
   {
    "duration": 18,
    "start_time": "2022-03-30T23:47:06.078Z"
   },
   {
    "duration": 46,
    "start_time": "2022-03-30T23:47:06.098Z"
   },
   {
    "duration": 29,
    "start_time": "2022-03-30T23:47:06.146Z"
   },
   {
    "duration": 14,
    "start_time": "2022-03-30T23:47:06.176Z"
   },
   {
    "duration": 18,
    "start_time": "2022-03-30T23:47:06.192Z"
   },
   {
    "duration": 10,
    "start_time": "2022-03-30T23:47:06.233Z"
   },
   {
    "duration": 5,
    "start_time": "2022-03-30T23:47:06.245Z"
   },
   {
    "duration": 12,
    "start_time": "2022-03-30T23:47:06.253Z"
   },
   {
    "duration": 6,
    "start_time": "2022-03-30T23:47:06.267Z"
   },
   {
    "duration": 14,
    "start_time": "2022-03-30T23:47:06.275Z"
   },
   {
    "duration": 179,
    "start_time": "2022-03-30T23:47:06.291Z"
   },
   {
    "duration": 39,
    "start_time": "2022-03-30T23:47:06.472Z"
   },
   {
    "duration": 21,
    "start_time": "2022-03-30T23:47:06.513Z"
   },
   {
    "duration": 11,
    "start_time": "2022-03-30T23:47:06.536Z"
   },
   {
    "duration": 5,
    "start_time": "2022-03-30T23:47:06.549Z"
   },
   {
    "duration": 11,
    "start_time": "2022-03-30T23:47:06.556Z"
   },
   {
    "duration": 7,
    "start_time": "2022-03-30T23:47:06.569Z"
   },
   {
    "duration": 8,
    "start_time": "2022-03-30T23:47:06.577Z"
   },
   {
    "duration": 46,
    "start_time": "2022-03-30T23:47:06.587Z"
   },
   {
    "duration": 5,
    "start_time": "2022-03-30T23:47:06.635Z"
   },
   {
    "duration": 12,
    "start_time": "2022-03-30T23:47:06.642Z"
   },
   {
    "duration": 16,
    "start_time": "2022-03-30T23:47:06.656Z"
   },
   {
    "duration": 4,
    "start_time": "2022-03-30T23:47:06.673Z"
   },
   {
    "duration": 9,
    "start_time": "2022-03-30T23:47:06.679Z"
   },
   {
    "duration": 5,
    "start_time": "2022-03-30T23:47:06.690Z"
   },
   {
    "duration": 33,
    "start_time": "2022-03-30T23:47:06.700Z"
   },
   {
    "duration": 6,
    "start_time": "2022-03-30T23:47:06.735Z"
   },
   {
    "duration": 5,
    "start_time": "2022-03-30T23:47:06.743Z"
   },
   {
    "duration": 9,
    "start_time": "2022-03-30T23:47:06.750Z"
   },
   {
    "duration": 5,
    "start_time": "2022-03-30T23:47:06.761Z"
   },
   {
    "duration": 6,
    "start_time": "2022-03-30T23:47:06.768Z"
   },
   {
    "duration": 10,
    "start_time": "2022-03-30T23:47:06.775Z"
   },
   {
    "duration": 8,
    "start_time": "2022-03-30T23:47:06.786Z"
   },
   {
    "duration": 41,
    "start_time": "2022-03-30T23:47:06.796Z"
   },
   {
    "duration": 10,
    "start_time": "2022-03-30T23:47:06.839Z"
   },
   {
    "duration": 9,
    "start_time": "2022-03-30T23:47:06.850Z"
   },
   {
    "duration": 10,
    "start_time": "2022-03-30T23:47:06.861Z"
   },
   {
    "duration": 21,
    "start_time": "2022-03-30T23:47:06.872Z"
   },
   {
    "duration": 20,
    "start_time": "2022-03-30T23:47:06.894Z"
   },
   {
    "duration": 34,
    "start_time": "2022-03-30T23:47:06.915Z"
   },
   {
    "duration": 4,
    "start_time": "2022-03-30T23:47:06.951Z"
   },
   {
    "duration": 116,
    "start_time": "2022-03-30T23:47:06.957Z"
   },
   {
    "duration": 0,
    "start_time": "2022-03-30T23:47:07.075Z"
   },
   {
    "duration": 0,
    "start_time": "2022-03-30T23:47:07.077Z"
   },
   {
    "duration": 0,
    "start_time": "2022-03-30T23:47:07.079Z"
   },
   {
    "duration": 0,
    "start_time": "2022-03-30T23:47:07.080Z"
   },
   {
    "duration": 0,
    "start_time": "2022-03-30T23:47:07.081Z"
   },
   {
    "duration": 0,
    "start_time": "2022-03-30T23:47:07.083Z"
   },
   {
    "duration": 0,
    "start_time": "2022-03-30T23:47:07.084Z"
   },
   {
    "duration": 0,
    "start_time": "2022-03-30T23:47:07.086Z"
   },
   {
    "duration": 0,
    "start_time": "2022-03-30T23:47:07.087Z"
   },
   {
    "duration": 0,
    "start_time": "2022-03-30T23:47:07.089Z"
   },
   {
    "duration": 0,
    "start_time": "2022-03-30T23:47:07.090Z"
   },
   {
    "duration": 0,
    "start_time": "2022-03-30T23:47:07.091Z"
   },
   {
    "duration": 0,
    "start_time": "2022-03-30T23:47:07.093Z"
   },
   {
    "duration": 0,
    "start_time": "2022-03-30T23:47:07.094Z"
   },
   {
    "duration": 0,
    "start_time": "2022-03-30T23:47:07.096Z"
   },
   {
    "duration": 0,
    "start_time": "2022-03-30T23:47:07.134Z"
   },
   {
    "duration": 0,
    "start_time": "2022-03-30T23:47:07.135Z"
   },
   {
    "duration": 0,
    "start_time": "2022-03-30T23:47:07.137Z"
   },
   {
    "duration": 0,
    "start_time": "2022-03-30T23:47:07.139Z"
   },
   {
    "duration": 0,
    "start_time": "2022-03-30T23:47:07.140Z"
   },
   {
    "duration": 0,
    "start_time": "2022-03-30T23:47:07.141Z"
   },
   {
    "duration": 0,
    "start_time": "2022-03-30T23:47:07.141Z"
   },
   {
    "duration": 0,
    "start_time": "2022-03-30T23:47:07.142Z"
   },
   {
    "duration": 0,
    "start_time": "2022-03-30T23:47:07.143Z"
   },
   {
    "duration": 0,
    "start_time": "2022-03-30T23:47:07.144Z"
   },
   {
    "duration": 0,
    "start_time": "2022-03-30T23:47:07.145Z"
   },
   {
    "duration": 0,
    "start_time": "2022-03-30T23:47:07.146Z"
   },
   {
    "duration": 0,
    "start_time": "2022-03-30T23:47:07.147Z"
   },
   {
    "duration": 0,
    "start_time": "2022-03-30T23:47:07.148Z"
   },
   {
    "duration": 0,
    "start_time": "2022-03-30T23:47:07.148Z"
   },
   {
    "duration": 0,
    "start_time": "2022-03-30T23:47:07.149Z"
   },
   {
    "duration": 0,
    "start_time": "2022-03-30T23:47:07.150Z"
   },
   {
    "duration": 0,
    "start_time": "2022-03-30T23:47:07.151Z"
   },
   {
    "duration": 0,
    "start_time": "2022-03-30T23:47:07.152Z"
   },
   {
    "duration": 130,
    "start_time": "2022-03-31T01:02:59.513Z"
   },
   {
    "duration": 4,
    "start_time": "2022-03-31T01:03:06.670Z"
   },
   {
    "duration": 8,
    "start_time": "2022-03-31T01:04:04.533Z"
   },
   {
    "duration": 4,
    "start_time": "2022-03-31T01:04:11.542Z"
   },
   {
    "duration": 4,
    "start_time": "2022-03-31T01:04:18.734Z"
   },
   {
    "duration": 9,
    "start_time": "2022-03-31T01:06:34.768Z"
   },
   {
    "duration": 23,
    "start_time": "2022-03-31T01:17:56.434Z"
   },
   {
    "duration": 1827,
    "start_time": "2022-03-31T15:58:47.604Z"
   },
   {
    "duration": 8,
    "start_time": "2022-03-31T15:58:49.434Z"
   },
   {
    "duration": 32,
    "start_time": "2022-03-31T15:58:49.444Z"
   },
   {
    "duration": 54,
    "start_time": "2022-03-31T15:58:49.479Z"
   },
   {
    "duration": 68,
    "start_time": "2022-03-31T15:58:49.535Z"
   },
   {
    "duration": 22,
    "start_time": "2022-03-31T15:58:49.605Z"
   },
   {
    "duration": 55,
    "start_time": "2022-03-31T15:58:49.630Z"
   },
   {
    "duration": 16,
    "start_time": "2022-03-31T15:58:49.687Z"
   },
   {
    "duration": 8,
    "start_time": "2022-03-31T15:58:49.705Z"
   },
   {
    "duration": 57,
    "start_time": "2022-03-31T15:58:49.719Z"
   },
   {
    "duration": 10,
    "start_time": "2022-03-31T15:58:49.779Z"
   },
   {
    "duration": 23,
    "start_time": "2022-03-31T15:58:49.792Z"
   },
   {
    "duration": 285,
    "start_time": "2022-03-31T15:58:49.818Z"
   },
   {
    "duration": 101,
    "start_time": "2022-03-31T15:58:50.106Z"
   },
   {
    "duration": 15,
    "start_time": "2022-03-31T15:58:50.210Z"
   },
   {
    "duration": 18,
    "start_time": "2022-03-31T15:58:50.228Z"
   },
   {
    "duration": 10,
    "start_time": "2022-03-31T15:58:50.275Z"
   },
   {
    "duration": 25,
    "start_time": "2022-03-31T15:58:50.288Z"
   },
   {
    "duration": 15,
    "start_time": "2022-03-31T15:58:50.315Z"
   },
   {
    "duration": 7,
    "start_time": "2022-03-31T15:58:50.333Z"
   },
   {
    "duration": 37,
    "start_time": "2022-03-31T15:58:50.343Z"
   },
   {
    "duration": 7,
    "start_time": "2022-03-31T15:58:50.383Z"
   },
   {
    "duration": 11,
    "start_time": "2022-03-31T15:58:50.393Z"
   },
   {
    "duration": 15,
    "start_time": "2022-03-31T15:58:50.406Z"
   },
   {
    "duration": 4,
    "start_time": "2022-03-31T15:58:50.424Z"
   },
   {
    "duration": 9,
    "start_time": "2022-03-31T15:58:50.474Z"
   },
   {
    "duration": 16,
    "start_time": "2022-03-31T15:58:50.486Z"
   },
   {
    "duration": 6,
    "start_time": "2022-03-31T15:58:50.509Z"
   },
   {
    "duration": 10,
    "start_time": "2022-03-31T15:58:50.517Z"
   },
   {
    "duration": 7,
    "start_time": "2022-03-31T15:58:50.529Z"
   },
   {
    "duration": 10,
    "start_time": "2022-03-31T15:58:50.573Z"
   },
   {
    "duration": 8,
    "start_time": "2022-03-31T15:58:50.585Z"
   },
   {
    "duration": 10,
    "start_time": "2022-03-31T15:58:50.595Z"
   },
   {
    "duration": 12,
    "start_time": "2022-03-31T15:58:50.606Z"
   },
   {
    "duration": 10,
    "start_time": "2022-03-31T15:58:50.619Z"
   },
   {
    "duration": 9,
    "start_time": "2022-03-31T15:58:50.673Z"
   },
   {
    "duration": 12,
    "start_time": "2022-03-31T15:58:50.685Z"
   },
   {
    "duration": 7,
    "start_time": "2022-03-31T15:58:50.698Z"
   },
   {
    "duration": 20,
    "start_time": "2022-03-31T15:58:50.707Z"
   },
   {
    "duration": 52,
    "start_time": "2022-03-31T15:58:50.729Z"
   },
   {
    "duration": 27,
    "start_time": "2022-03-31T15:58:50.784Z"
   },
   {
    "duration": 24,
    "start_time": "2022-03-31T15:58:50.813Z"
   },
   {
    "duration": 34,
    "start_time": "2022-03-31T15:58:50.839Z"
   },
   {
    "duration": 39,
    "start_time": "2022-03-31T15:58:50.875Z"
   },
   {
    "duration": 6,
    "start_time": "2022-03-31T15:58:50.916Z"
   },
   {
    "duration": 9,
    "start_time": "2022-03-31T15:58:50.924Z"
   },
   {
    "duration": 13,
    "start_time": "2022-03-31T15:58:50.935Z"
   },
   {
    "duration": 23,
    "start_time": "2022-03-31T15:58:50.950Z"
   },
   {
    "duration": 3,
    "start_time": "2022-03-31T15:58:50.976Z"
   },
   {
    "duration": 6,
    "start_time": "2022-03-31T15:58:50.981Z"
   },
   {
    "duration": 5,
    "start_time": "2022-03-31T15:58:50.990Z"
   },
   {
    "duration": 6,
    "start_time": "2022-03-31T15:58:50.996Z"
   },
   {
    "duration": 4,
    "start_time": "2022-03-31T15:58:51.005Z"
   },
   {
    "duration": 6,
    "start_time": "2022-03-31T15:58:51.012Z"
   },
   {
    "duration": 6,
    "start_time": "2022-03-31T15:58:51.021Z"
   },
   {
    "duration": 45,
    "start_time": "2022-03-31T15:58:51.029Z"
   },
   {
    "duration": 3,
    "start_time": "2022-03-31T15:58:51.077Z"
   },
   {
    "duration": 8,
    "start_time": "2022-03-31T15:58:51.083Z"
   },
   {
    "duration": 8,
    "start_time": "2022-03-31T15:58:51.094Z"
   },
   {
    "duration": 5,
    "start_time": "2022-03-31T15:58:51.105Z"
   },
   {
    "duration": 8,
    "start_time": "2022-03-31T15:58:51.112Z"
   },
   {
    "duration": 6,
    "start_time": "2022-03-31T15:58:51.122Z"
   },
   {
    "duration": 13,
    "start_time": "2022-03-31T15:58:51.130Z"
   },
   {
    "duration": 4,
    "start_time": "2022-03-31T15:58:51.173Z"
   },
   {
    "duration": 4,
    "start_time": "2022-03-31T15:58:51.179Z"
   },
   {
    "duration": 6,
    "start_time": "2022-03-31T15:58:51.186Z"
   },
   {
    "duration": 5,
    "start_time": "2022-03-31T15:58:51.194Z"
   },
   {
    "duration": 4,
    "start_time": "2022-03-31T15:58:51.202Z"
   },
   {
    "duration": 6,
    "start_time": "2022-03-31T15:58:51.208Z"
   },
   {
    "duration": 8,
    "start_time": "2022-03-31T15:58:51.216Z"
   },
   {
    "duration": 11,
    "start_time": "2022-03-31T15:58:51.227Z"
   },
   {
    "duration": 4,
    "start_time": "2022-03-31T15:58:51.274Z"
   },
   {
    "duration": 7,
    "start_time": "2022-03-31T15:58:51.279Z"
   },
   {
    "duration": 5,
    "start_time": "2022-03-31T15:58:51.288Z"
   },
   {
    "duration": 5,
    "start_time": "2022-03-31T15:58:51.295Z"
   },
   {
    "duration": 6,
    "start_time": "2022-03-31T15:58:51.302Z"
   },
   {
    "duration": 11,
    "start_time": "2022-03-31T15:58:51.310Z"
   },
   {
    "duration": 6,
    "start_time": "2022-03-31T15:58:51.324Z"
   },
   {
    "duration": 1897,
    "start_time": "2022-04-03T20:47:05.966Z"
   },
   {
    "duration": 7,
    "start_time": "2022-04-03T20:47:07.866Z"
   },
   {
    "duration": 38,
    "start_time": "2022-04-03T20:47:07.875Z"
   },
   {
    "duration": 66,
    "start_time": "2022-04-03T20:47:07.916Z"
   },
   {
    "duration": 47,
    "start_time": "2022-04-03T20:47:07.984Z"
   },
   {
    "duration": 44,
    "start_time": "2022-04-03T20:47:08.034Z"
   },
   {
    "duration": 33,
    "start_time": "2022-04-03T20:47:08.082Z"
   },
   {
    "duration": 13,
    "start_time": "2022-04-03T20:47:08.118Z"
   },
   {
    "duration": 9,
    "start_time": "2022-04-03T20:47:08.134Z"
   },
   {
    "duration": 21,
    "start_time": "2022-04-03T20:47:08.178Z"
   },
   {
    "duration": 10,
    "start_time": "2022-04-03T20:47:08.202Z"
   },
   {
    "duration": 21,
    "start_time": "2022-04-03T20:47:08.214Z"
   },
   {
    "duration": 256,
    "start_time": "2022-04-03T20:47:08.282Z"
   },
   {
    "duration": 73,
    "start_time": "2022-04-03T20:47:08.541Z"
   },
   {
    "duration": 13,
    "start_time": "2022-04-03T20:47:08.616Z"
   },
   {
    "duration": 13,
    "start_time": "2022-04-03T20:47:08.631Z"
   },
   {
    "duration": 36,
    "start_time": "2022-04-03T20:47:08.646Z"
   },
   {
    "duration": 19,
    "start_time": "2022-04-03T20:47:08.685Z"
   },
   {
    "duration": 10,
    "start_time": "2022-04-03T20:47:08.706Z"
   },
   {
    "duration": 6,
    "start_time": "2022-04-03T20:47:08.718Z"
   },
   {
    "duration": 6,
    "start_time": "2022-04-03T20:47:08.726Z"
   },
   {
    "duration": 44,
    "start_time": "2022-04-03T20:47:08.734Z"
   },
   {
    "duration": 15,
    "start_time": "2022-04-03T20:47:08.784Z"
   },
   {
    "duration": 16,
    "start_time": "2022-04-03T20:47:08.801Z"
   },
   {
    "duration": 5,
    "start_time": "2022-04-03T20:47:08.819Z"
   },
   {
    "duration": 11,
    "start_time": "2022-04-03T20:47:08.826Z"
   },
   {
    "duration": 47,
    "start_time": "2022-04-03T20:47:08.839Z"
   },
   {
    "duration": 9,
    "start_time": "2022-04-03T20:47:08.893Z"
   },
   {
    "duration": 7,
    "start_time": "2022-04-03T20:47:08.904Z"
   },
   {
    "duration": 6,
    "start_time": "2022-04-03T20:47:08.913Z"
   },
   {
    "duration": 14,
    "start_time": "2022-04-03T20:47:08.921Z"
   },
   {
    "duration": 41,
    "start_time": "2022-04-03T20:47:08.937Z"
   },
   {
    "duration": 3,
    "start_time": "2022-04-03T20:47:08.985Z"
   },
   {
    "duration": 13,
    "start_time": "2022-04-03T20:47:08.990Z"
   },
   {
    "duration": 7,
    "start_time": "2022-04-03T20:47:09.006Z"
   },
   {
    "duration": 10,
    "start_time": "2022-04-03T20:47:09.015Z"
   },
   {
    "duration": 8,
    "start_time": "2022-04-03T20:47:09.028Z"
   },
   {
    "duration": 38,
    "start_time": "2022-04-03T20:47:09.039Z"
   },
   {
    "duration": 16,
    "start_time": "2022-04-03T20:47:09.080Z"
   },
   {
    "duration": 29,
    "start_time": "2022-04-03T20:47:09.098Z"
   },
   {
    "duration": 27,
    "start_time": "2022-04-03T20:47:09.129Z"
   },
   {
    "duration": 40,
    "start_time": "2022-04-03T20:47:09.158Z"
   },
   {
    "duration": 5,
    "start_time": "2022-04-03T20:47:09.200Z"
   },
   {
    "duration": 69,
    "start_time": "2022-04-03T20:47:09.207Z"
   },
   {
    "duration": 6,
    "start_time": "2022-04-03T20:47:09.279Z"
   },
   {
    "duration": 8,
    "start_time": "2022-04-03T20:47:09.287Z"
   },
   {
    "duration": 6,
    "start_time": "2022-04-03T20:47:09.297Z"
   },
   {
    "duration": 6,
    "start_time": "2022-04-03T20:47:09.305Z"
   },
   {
    "duration": 7,
    "start_time": "2022-04-03T20:47:09.313Z"
   },
   {
    "duration": 5,
    "start_time": "2022-04-03T20:47:09.322Z"
   },
   {
    "duration": 6,
    "start_time": "2022-04-03T20:47:09.329Z"
   },
   {
    "duration": 6,
    "start_time": "2022-04-03T20:47:09.337Z"
   },
   {
    "duration": 4,
    "start_time": "2022-04-03T20:47:09.383Z"
   },
   {
    "duration": 9,
    "start_time": "2022-04-03T20:47:09.389Z"
   },
   {
    "duration": 11,
    "start_time": "2022-04-03T20:47:09.400Z"
   },
   {
    "duration": 6,
    "start_time": "2022-04-03T20:47:09.413Z"
   },
   {
    "duration": 6,
    "start_time": "2022-04-03T20:47:09.421Z"
   },
   {
    "duration": 6,
    "start_time": "2022-04-03T20:47:09.429Z"
   },
   {
    "duration": 5,
    "start_time": "2022-04-03T20:47:09.437Z"
   },
   {
    "duration": 38,
    "start_time": "2022-04-03T20:47:09.444Z"
   },
   {
    "duration": 13,
    "start_time": "2022-04-03T20:47:09.487Z"
   },
   {
    "duration": 6,
    "start_time": "2022-04-03T20:47:09.502Z"
   },
   {
    "duration": 6,
    "start_time": "2022-04-03T20:47:09.510Z"
   },
   {
    "duration": 7,
    "start_time": "2022-04-03T20:47:09.518Z"
   },
   {
    "duration": 7,
    "start_time": "2022-04-03T20:47:09.527Z"
   },
   {
    "duration": 8,
    "start_time": "2022-04-03T20:47:09.536Z"
   },
   {
    "duration": 11,
    "start_time": "2022-04-03T20:47:09.546Z"
   },
   {
    "duration": 20,
    "start_time": "2022-04-03T20:47:09.559Z"
   },
   {
    "duration": 8,
    "start_time": "2022-04-03T20:47:09.586Z"
   },
   {
    "duration": 5,
    "start_time": "2022-04-03T20:47:09.597Z"
   },
   {
    "duration": 8,
    "start_time": "2022-04-03T20:47:09.605Z"
   },
   {
    "duration": 6,
    "start_time": "2022-04-03T20:47:09.615Z"
   },
   {
    "duration": 9,
    "start_time": "2022-04-03T20:47:09.624Z"
   },
   {
    "duration": 7,
    "start_time": "2022-04-03T20:47:09.635Z"
   },
   {
    "duration": 6,
    "start_time": "2022-04-03T20:47:09.644Z"
   },
   {
    "duration": 38,
    "start_time": "2022-04-03T20:47:09.652Z"
   },
   {
    "duration": 6,
    "start_time": "2022-04-03T20:47:09.693Z"
   },
   {
    "duration": 5,
    "start_time": "2022-04-03T20:47:09.701Z"
   },
   {
    "duration": 149,
    "start_time": "2022-04-03T21:19:00.117Z"
   },
   {
    "duration": 71,
    "start_time": "2022-04-03T21:19:15.131Z"
   },
   {
    "duration": 14,
    "start_time": "2022-04-03T22:24:18.198Z"
   },
   {
    "duration": 11,
    "start_time": "2022-04-03T22:24:27.650Z"
   },
   {
    "duration": 1393,
    "start_time": "2022-04-03T22:24:45.906Z"
   },
   {
    "duration": 7,
    "start_time": "2022-04-03T22:25:19.457Z"
   },
   {
    "duration": 4,
    "start_time": "2022-04-03T22:32:09.199Z"
   },
   {
    "duration": 5,
    "start_time": "2022-04-03T22:32:45.829Z"
   },
   {
    "duration": 3,
    "start_time": "2022-04-03T22:33:39.451Z"
   },
   {
    "duration": 10,
    "start_time": "2022-04-03T22:35:55.839Z"
   },
   {
    "duration": 10,
    "start_time": "2022-04-03T22:36:11.863Z"
   },
   {
    "duration": 11,
    "start_time": "2022-04-03T22:36:45.922Z"
   },
   {
    "duration": 15,
    "start_time": "2022-04-03T22:36:54.877Z"
   },
   {
    "duration": 13,
    "start_time": "2022-04-03T22:37:21.427Z"
   },
   {
    "duration": 5,
    "start_time": "2022-04-03T22:40:15.039Z"
   },
   {
    "duration": 4,
    "start_time": "2022-04-03T22:40:17.525Z"
   },
   {
    "duration": 6,
    "start_time": "2022-04-03T22:42:17.029Z"
   },
   {
    "duration": 11,
    "start_time": "2022-04-03T22:45:31.371Z"
   },
   {
    "duration": 10,
    "start_time": "2022-04-03T22:45:38.273Z"
   },
   {
    "duration": 15,
    "start_time": "2022-04-03T22:45:45.326Z"
   },
   {
    "duration": 4,
    "start_time": "2022-04-03T22:46:12.383Z"
   },
   {
    "duration": 6,
    "start_time": "2022-04-03T22:46:13.358Z"
   },
   {
    "duration": 1380,
    "start_time": "2022-04-03T22:47:55.271Z"
   },
   {
    "duration": 1306,
    "start_time": "2022-04-03T22:48:36.657Z"
   },
   {
    "duration": 1534,
    "start_time": "2022-04-03T22:48:47.495Z"
   },
   {
    "duration": 7,
    "start_time": "2022-04-03T22:48:49.032Z"
   },
   {
    "duration": 32,
    "start_time": "2022-04-03T22:48:49.041Z"
   },
   {
    "duration": 52,
    "start_time": "2022-04-03T22:48:49.076Z"
   },
   {
    "duration": 63,
    "start_time": "2022-04-03T22:48:49.130Z"
   },
   {
    "duration": 20,
    "start_time": "2022-04-03T22:48:49.195Z"
   },
   {
    "duration": 31,
    "start_time": "2022-04-03T22:48:49.216Z"
   },
   {
    "duration": 14,
    "start_time": "2022-04-03T22:48:49.273Z"
   },
   {
    "duration": 9,
    "start_time": "2022-04-03T22:48:49.289Z"
   },
   {
    "duration": 15,
    "start_time": "2022-04-03T22:48:49.302Z"
   },
   {
    "duration": 9,
    "start_time": "2022-04-03T22:48:49.319Z"
   },
   {
    "duration": 62,
    "start_time": "2022-04-03T22:48:49.330Z"
   },
   {
    "duration": 256,
    "start_time": "2022-04-03T22:48:49.394Z"
   },
   {
    "duration": 64,
    "start_time": "2022-04-03T22:48:49.652Z"
   },
   {
    "duration": 10,
    "start_time": "2022-04-03T22:48:49.718Z"
   },
   {
    "duration": 11,
    "start_time": "2022-04-03T22:48:49.731Z"
   },
   {
    "duration": 35,
    "start_time": "2022-04-03T22:48:49.744Z"
   },
   {
    "duration": 13,
    "start_time": "2022-04-03T22:48:49.781Z"
   },
   {
    "duration": 7,
    "start_time": "2022-04-03T22:48:49.796Z"
   },
   {
    "duration": 6,
    "start_time": "2022-04-03T22:48:49.805Z"
   },
   {
    "duration": 7,
    "start_time": "2022-04-03T22:48:49.813Z"
   },
   {
    "duration": 51,
    "start_time": "2022-04-03T22:48:49.822Z"
   },
   {
    "duration": 10,
    "start_time": "2022-04-03T22:48:49.876Z"
   },
   {
    "duration": 19,
    "start_time": "2022-04-03T22:48:49.888Z"
   },
   {
    "duration": 5,
    "start_time": "2022-04-03T22:48:49.909Z"
   },
   {
    "duration": 20,
    "start_time": "2022-04-03T22:48:49.916Z"
   },
   {
    "duration": 18,
    "start_time": "2022-04-03T22:48:49.938Z"
   },
   {
    "duration": 8,
    "start_time": "2022-04-03T22:48:49.978Z"
   },
   {
    "duration": 16,
    "start_time": "2022-04-03T22:48:49.987Z"
   },
   {
    "duration": 18,
    "start_time": "2022-04-03T22:48:50.005Z"
   },
   {
    "duration": 25,
    "start_time": "2022-04-03T22:48:50.025Z"
   },
   {
    "duration": 15,
    "start_time": "2022-04-03T22:48:50.052Z"
   },
   {
    "duration": 19,
    "start_time": "2022-04-03T22:48:50.069Z"
   },
   {
    "duration": 17,
    "start_time": "2022-04-03T22:48:50.090Z"
   },
   {
    "duration": 13,
    "start_time": "2022-04-03T22:48:50.109Z"
   },
   {
    "duration": 19,
    "start_time": "2022-04-03T22:48:50.124Z"
   },
   {
    "duration": 15,
    "start_time": "2022-04-03T22:48:50.145Z"
   },
   {
    "duration": 21,
    "start_time": "2022-04-03T22:48:50.162Z"
   },
   {
    "duration": 19,
    "start_time": "2022-04-03T22:48:50.185Z"
   },
   {
    "duration": 37,
    "start_time": "2022-04-03T22:48:50.205Z"
   },
   {
    "duration": 27,
    "start_time": "2022-04-03T22:48:50.244Z"
   },
   {
    "duration": 25,
    "start_time": "2022-04-03T22:48:50.273Z"
   },
   {
    "duration": 6,
    "start_time": "2022-04-03T22:48:50.300Z"
   },
   {
    "duration": 175,
    "start_time": "2022-04-03T22:48:50.308Z"
   },
   {
    "duration": 0,
    "start_time": "2022-04-03T22:48:50.486Z"
   },
   {
    "duration": 0,
    "start_time": "2022-04-03T22:48:50.487Z"
   },
   {
    "duration": 0,
    "start_time": "2022-04-03T22:48:50.488Z"
   },
   {
    "duration": 0,
    "start_time": "2022-04-03T22:48:50.490Z"
   },
   {
    "duration": 0,
    "start_time": "2022-04-03T22:48:50.491Z"
   },
   {
    "duration": 1,
    "start_time": "2022-04-03T22:48:50.492Z"
   },
   {
    "duration": 0,
    "start_time": "2022-04-03T22:48:50.494Z"
   },
   {
    "duration": 0,
    "start_time": "2022-04-03T22:48:50.495Z"
   },
   {
    "duration": 0,
    "start_time": "2022-04-03T22:48:50.496Z"
   },
   {
    "duration": 0,
    "start_time": "2022-04-03T22:48:50.498Z"
   },
   {
    "duration": 0,
    "start_time": "2022-04-03T22:48:50.499Z"
   },
   {
    "duration": 0,
    "start_time": "2022-04-03T22:48:50.501Z"
   },
   {
    "duration": 0,
    "start_time": "2022-04-03T22:48:50.502Z"
   },
   {
    "duration": 0,
    "start_time": "2022-04-03T22:48:50.503Z"
   },
   {
    "duration": 0,
    "start_time": "2022-04-03T22:48:50.504Z"
   },
   {
    "duration": 0,
    "start_time": "2022-04-03T22:48:50.505Z"
   },
   {
    "duration": 0,
    "start_time": "2022-04-03T22:48:50.507Z"
   },
   {
    "duration": 0,
    "start_time": "2022-04-03T22:48:50.508Z"
   },
   {
    "duration": 0,
    "start_time": "2022-04-03T22:48:50.509Z"
   },
   {
    "duration": 0,
    "start_time": "2022-04-03T22:48:50.511Z"
   },
   {
    "duration": 0,
    "start_time": "2022-04-03T22:48:50.512Z"
   },
   {
    "duration": 0,
    "start_time": "2022-04-03T22:48:50.513Z"
   },
   {
    "duration": 0,
    "start_time": "2022-04-03T22:48:50.515Z"
   },
   {
    "duration": 0,
    "start_time": "2022-04-03T22:48:50.516Z"
   },
   {
    "duration": 0,
    "start_time": "2022-04-03T22:48:50.574Z"
   },
   {
    "duration": 0,
    "start_time": "2022-04-03T22:48:50.576Z"
   },
   {
    "duration": 0,
    "start_time": "2022-04-03T22:48:50.577Z"
   },
   {
    "duration": 0,
    "start_time": "2022-04-03T22:48:50.578Z"
   },
   {
    "duration": 0,
    "start_time": "2022-04-03T22:48:50.579Z"
   },
   {
    "duration": 0,
    "start_time": "2022-04-03T22:48:50.581Z"
   },
   {
    "duration": 0,
    "start_time": "2022-04-03T22:48:50.582Z"
   },
   {
    "duration": 0,
    "start_time": "2022-04-03T22:48:50.583Z"
   },
   {
    "duration": 0,
    "start_time": "2022-04-03T22:48:50.585Z"
   },
   {
    "duration": 0,
    "start_time": "2022-04-03T22:48:50.586Z"
   },
   {
    "duration": 12,
    "start_time": "2022-04-03T22:49:18.060Z"
   },
   {
    "duration": 4,
    "start_time": "2022-04-03T22:49:23.801Z"
   },
   {
    "duration": 12,
    "start_time": "2022-04-03T22:49:24.457Z"
   },
   {
    "duration": 5,
    "start_time": "2022-04-03T22:49:53.834Z"
   },
   {
    "duration": 1533,
    "start_time": "2022-04-03T22:49:54.767Z"
   },
   {
    "duration": 24,
    "start_time": "2022-04-03T22:50:43.574Z"
   },
   {
    "duration": 13,
    "start_time": "2022-04-03T22:51:00.908Z"
   },
   {
    "duration": 10,
    "start_time": "2022-04-03T22:51:51.326Z"
   },
   {
    "duration": 1990,
    "start_time": "2022-04-04T16:10:12.513Z"
   },
   {
    "duration": 5,
    "start_time": "2022-04-04T16:10:14.505Z"
   },
   {
    "duration": 17,
    "start_time": "2022-04-04T16:10:14.511Z"
   },
   {
    "duration": 29,
    "start_time": "2022-04-04T16:10:14.530Z"
   },
   {
    "duration": 38,
    "start_time": "2022-04-04T16:10:14.561Z"
   },
   {
    "duration": 12,
    "start_time": "2022-04-04T16:10:14.601Z"
   },
   {
    "duration": 17,
    "start_time": "2022-04-04T16:10:14.615Z"
   },
   {
    "duration": 9,
    "start_time": "2022-04-04T16:10:14.633Z"
   },
   {
    "duration": 6,
    "start_time": "2022-04-04T16:10:14.643Z"
   },
   {
    "duration": 38,
    "start_time": "2022-04-04T16:10:14.650Z"
   },
   {
    "duration": 6,
    "start_time": "2022-04-04T16:10:14.690Z"
   },
   {
    "duration": 12,
    "start_time": "2022-04-04T16:10:14.697Z"
   },
   {
    "duration": 151,
    "start_time": "2022-04-04T16:10:14.711Z"
   },
   {
    "duration": 43,
    "start_time": "2022-04-04T16:10:14.865Z"
   },
   {
    "duration": 8,
    "start_time": "2022-04-04T16:10:14.910Z"
   },
   {
    "duration": 9,
    "start_time": "2022-04-04T16:10:14.920Z"
   },
   {
    "duration": 5,
    "start_time": "2022-04-04T16:10:14.930Z"
   },
   {
    "duration": 12,
    "start_time": "2022-04-04T16:10:14.937Z"
   },
   {
    "duration": 6,
    "start_time": "2022-04-04T16:10:14.950Z"
   },
   {
    "duration": 4,
    "start_time": "2022-04-04T16:10:14.981Z"
   },
   {
    "duration": 6,
    "start_time": "2022-04-04T16:10:14.986Z"
   },
   {
    "duration": 5,
    "start_time": "2022-04-04T16:10:14.993Z"
   },
   {
    "duration": 15,
    "start_time": "2022-04-04T16:10:14.999Z"
   },
   {
    "duration": 18,
    "start_time": "2022-04-04T16:10:15.016Z"
   },
   {
    "duration": 3,
    "start_time": "2022-04-04T16:10:15.036Z"
   },
   {
    "duration": 8,
    "start_time": "2022-04-04T16:10:15.040Z"
   },
   {
    "duration": 7,
    "start_time": "2022-04-04T16:10:15.049Z"
   },
   {
    "duration": 24,
    "start_time": "2022-04-04T16:10:15.058Z"
   },
   {
    "duration": 6,
    "start_time": "2022-04-04T16:10:15.084Z"
   },
   {
    "duration": 5,
    "start_time": "2022-04-04T16:10:15.092Z"
   },
   {
    "duration": 8,
    "start_time": "2022-04-04T16:10:15.099Z"
   },
   {
    "duration": 3,
    "start_time": "2022-04-04T16:10:15.109Z"
   },
   {
    "duration": 7,
    "start_time": "2022-04-04T16:10:15.114Z"
   },
   {
    "duration": 14,
    "start_time": "2022-04-04T16:10:15.123Z"
   },
   {
    "duration": 6,
    "start_time": "2022-04-04T16:10:15.138Z"
   },
   {
    "duration": 36,
    "start_time": "2022-04-04T16:10:15.146Z"
   },
   {
    "duration": 8,
    "start_time": "2022-04-04T16:10:15.184Z"
   },
   {
    "duration": 4,
    "start_time": "2022-04-04T16:10:15.194Z"
   },
   {
    "duration": 8,
    "start_time": "2022-04-04T16:10:15.200Z"
   },
   {
    "duration": 18,
    "start_time": "2022-04-04T16:10:15.209Z"
   },
   {
    "duration": 18,
    "start_time": "2022-04-04T16:10:15.232Z"
   },
   {
    "duration": 40,
    "start_time": "2022-04-04T16:10:15.251Z"
   },
   {
    "duration": 4,
    "start_time": "2022-04-04T16:10:15.293Z"
   },
   {
    "duration": 8,
    "start_time": "2022-04-04T16:10:15.299Z"
   },
   {
    "duration": 4,
    "start_time": "2022-04-04T16:10:15.309Z"
   },
   {
    "duration": 5,
    "start_time": "2022-04-04T16:10:15.314Z"
   },
   {
    "duration": 11,
    "start_time": "2022-04-04T16:10:15.321Z"
   },
   {
    "duration": 7,
    "start_time": "2022-04-04T16:10:15.333Z"
   },
   {
    "duration": 5,
    "start_time": "2022-04-04T16:10:15.341Z"
   },
   {
    "duration": 7,
    "start_time": "2022-04-04T16:10:15.347Z"
   },
   {
    "duration": 2,
    "start_time": "2022-04-04T16:10:15.381Z"
   },
   {
    "duration": 6,
    "start_time": "2022-04-04T16:10:15.385Z"
   },
   {
    "duration": 4,
    "start_time": "2022-04-04T16:10:15.392Z"
   },
   {
    "duration": 5,
    "start_time": "2022-04-04T16:10:15.397Z"
   },
   {
    "duration": 4,
    "start_time": "2022-04-04T16:10:15.403Z"
   },
   {
    "duration": 4,
    "start_time": "2022-04-04T16:10:15.409Z"
   },
   {
    "duration": 4,
    "start_time": "2022-04-04T16:10:15.415Z"
   },
   {
    "duration": 4,
    "start_time": "2022-04-04T16:10:15.420Z"
   },
   {
    "duration": 4,
    "start_time": "2022-04-04T16:10:15.426Z"
   },
   {
    "duration": 4,
    "start_time": "2022-04-04T16:10:15.431Z"
   },
   {
    "duration": 4,
    "start_time": "2022-04-04T16:10:15.436Z"
   },
   {
    "duration": 3,
    "start_time": "2022-04-04T16:10:15.442Z"
   },
   {
    "duration": 35,
    "start_time": "2022-04-04T16:10:15.446Z"
   },
   {
    "duration": 5,
    "start_time": "2022-04-04T16:10:15.483Z"
   },
   {
    "duration": 5,
    "start_time": "2022-04-04T16:10:15.489Z"
   },
   {
    "duration": 5,
    "start_time": "2022-04-04T16:10:15.495Z"
   },
   {
    "duration": 4,
    "start_time": "2022-04-04T16:10:15.501Z"
   },
   {
    "duration": 5,
    "start_time": "2022-04-04T16:10:15.507Z"
   },
   {
    "duration": 10,
    "start_time": "2022-04-04T16:10:15.513Z"
   },
   {
    "duration": 9,
    "start_time": "2022-04-04T16:10:15.524Z"
   },
   {
    "duration": 5,
    "start_time": "2022-04-04T16:10:15.534Z"
   },
   {
    "duration": 4,
    "start_time": "2022-04-04T16:10:15.541Z"
   },
   {
    "duration": 6,
    "start_time": "2022-04-04T16:10:15.546Z"
   },
   {
    "duration": 5,
    "start_time": "2022-04-04T16:10:15.554Z"
   },
   {
    "duration": 4,
    "start_time": "2022-04-04T16:10:15.561Z"
   },
   {
    "duration": 15,
    "start_time": "2022-04-04T16:10:15.566Z"
   },
   {
    "duration": 2,
    "start_time": "2022-04-04T16:10:15.582Z"
   },
   {
    "duration": 6,
    "start_time": "2022-04-04T16:10:15.586Z"
   },
   {
    "duration": 12,
    "start_time": "2022-04-04T16:40:20.217Z"
   },
   {
    "duration": 16,
    "start_time": "2022-04-04T16:41:46.633Z"
   },
   {
    "duration": 4,
    "start_time": "2022-04-04T16:42:54.754Z"
   },
   {
    "duration": 5,
    "start_time": "2022-04-04T16:43:21.441Z"
   },
   {
    "duration": 1459,
    "start_time": "2022-04-05T17:28:46.460Z"
   },
   {
    "duration": 5,
    "start_time": "2022-04-05T17:28:47.921Z"
   },
   {
    "duration": 21,
    "start_time": "2022-04-05T17:28:47.927Z"
   },
   {
    "duration": 33,
    "start_time": "2022-04-05T17:28:47.949Z"
   },
   {
    "duration": 29,
    "start_time": "2022-04-05T17:28:47.983Z"
   },
   {
    "duration": 31,
    "start_time": "2022-04-05T17:28:48.014Z"
   },
   {
    "duration": 29,
    "start_time": "2022-04-05T17:28:48.047Z"
   },
   {
    "duration": 11,
    "start_time": "2022-04-05T17:28:48.078Z"
   },
   {
    "duration": 9,
    "start_time": "2022-04-05T17:28:48.091Z"
   },
   {
    "duration": 29,
    "start_time": "2022-04-05T17:28:48.103Z"
   },
   {
    "duration": 17,
    "start_time": "2022-04-05T17:28:48.134Z"
   },
   {
    "duration": 21,
    "start_time": "2022-04-05T17:28:48.153Z"
   },
   {
    "duration": 156,
    "start_time": "2022-04-05T17:28:48.176Z"
   },
   {
    "duration": 35,
    "start_time": "2022-04-05T17:28:48.337Z"
   },
   {
    "duration": 7,
    "start_time": "2022-04-05T17:28:48.373Z"
   },
   {
    "duration": 11,
    "start_time": "2022-04-05T17:28:48.382Z"
   },
   {
    "duration": 6,
    "start_time": "2022-04-05T17:28:48.394Z"
   },
   {
    "duration": 10,
    "start_time": "2022-04-05T17:28:48.402Z"
   },
   {
    "duration": 5,
    "start_time": "2022-04-05T17:28:48.437Z"
   },
   {
    "duration": 7,
    "start_time": "2022-04-05T17:28:48.443Z"
   },
   {
    "duration": 9,
    "start_time": "2022-04-05T17:28:48.451Z"
   },
   {
    "duration": 7,
    "start_time": "2022-04-05T17:28:48.462Z"
   },
   {
    "duration": 8,
    "start_time": "2022-04-05T17:28:48.470Z"
   },
   {
    "duration": 9,
    "start_time": "2022-04-05T17:28:48.479Z"
   },
   {
    "duration": 3,
    "start_time": "2022-04-05T17:28:48.490Z"
   },
   {
    "duration": 8,
    "start_time": "2022-04-05T17:28:48.494Z"
   },
   {
    "duration": 7,
    "start_time": "2022-04-05T17:28:48.503Z"
   },
   {
    "duration": 5,
    "start_time": "2022-04-05T17:28:48.540Z"
   },
   {
    "duration": 11,
    "start_time": "2022-04-05T17:28:48.547Z"
   },
   {
    "duration": 8,
    "start_time": "2022-04-05T17:28:48.559Z"
   },
   {
    "duration": 9,
    "start_time": "2022-04-05T17:28:48.568Z"
   },
   {
    "duration": 8,
    "start_time": "2022-04-05T17:28:48.578Z"
   },
   {
    "duration": 8,
    "start_time": "2022-04-05T17:28:48.587Z"
   },
   {
    "duration": 11,
    "start_time": "2022-04-05T17:28:48.596Z"
   },
   {
    "duration": 9,
    "start_time": "2022-04-05T17:28:48.609Z"
   },
   {
    "duration": 22,
    "start_time": "2022-04-05T17:28:48.620Z"
   },
   {
    "duration": 12,
    "start_time": "2022-04-05T17:28:48.643Z"
   },
   {
    "duration": 5,
    "start_time": "2022-04-05T17:28:48.657Z"
   },
   {
    "duration": 10,
    "start_time": "2022-04-05T17:28:48.663Z"
   },
   {
    "duration": 22,
    "start_time": "2022-04-05T17:28:48.674Z"
   },
   {
    "duration": 18,
    "start_time": "2022-04-05T17:28:48.698Z"
   },
   {
    "duration": 29,
    "start_time": "2022-04-05T17:28:48.717Z"
   },
   {
    "duration": 3,
    "start_time": "2022-04-05T17:28:48.748Z"
   },
   {
    "duration": 13,
    "start_time": "2022-04-05T17:28:48.753Z"
   },
   {
    "duration": 7,
    "start_time": "2022-04-05T17:28:48.767Z"
   },
   {
    "duration": 7,
    "start_time": "2022-04-05T17:28:48.776Z"
   },
   {
    "duration": 12,
    "start_time": "2022-04-05T17:28:48.785Z"
   },
   {
    "duration": 6,
    "start_time": "2022-04-05T17:28:48.798Z"
   },
   {
    "duration": 32,
    "start_time": "2022-04-05T17:28:48.806Z"
   },
   {
    "duration": 4,
    "start_time": "2022-04-05T17:28:48.840Z"
   },
   {
    "duration": 9,
    "start_time": "2022-04-05T17:28:48.845Z"
   },
   {
    "duration": 6,
    "start_time": "2022-04-05T17:28:48.856Z"
   },
   {
    "duration": 12,
    "start_time": "2022-04-05T17:28:48.863Z"
   },
   {
    "duration": 9,
    "start_time": "2022-04-05T17:28:48.876Z"
   },
   {
    "duration": 9,
    "start_time": "2022-04-05T17:28:48.886Z"
   },
   {
    "duration": 6,
    "start_time": "2022-04-05T17:28:48.897Z"
   },
   {
    "duration": 6,
    "start_time": "2022-04-05T17:28:48.905Z"
   },
   {
    "duration": 9,
    "start_time": "2022-04-05T17:28:48.912Z"
   },
   {
    "duration": 5,
    "start_time": "2022-04-05T17:28:48.922Z"
   },
   {
    "duration": 7,
    "start_time": "2022-04-05T17:28:48.928Z"
   },
   {
    "duration": 10,
    "start_time": "2022-04-05T17:28:48.936Z"
   },
   {
    "duration": 5,
    "start_time": "2022-04-05T17:28:48.948Z"
   },
   {
    "duration": 8,
    "start_time": "2022-04-05T17:28:48.954Z"
   },
   {
    "duration": 7,
    "start_time": "2022-04-05T17:28:48.963Z"
   },
   {
    "duration": 6,
    "start_time": "2022-04-05T17:28:48.971Z"
   },
   {
    "duration": 7,
    "start_time": "2022-04-05T17:28:48.978Z"
   },
   {
    "duration": 7,
    "start_time": "2022-04-05T17:28:48.986Z"
   },
   {
    "duration": 7,
    "start_time": "2022-04-05T17:28:48.995Z"
   },
   {
    "duration": 4,
    "start_time": "2022-04-05T17:28:49.004Z"
   },
   {
    "duration": 10,
    "start_time": "2022-04-05T17:28:49.010Z"
   },
   {
    "duration": 5,
    "start_time": "2022-04-05T17:28:49.021Z"
   },
   {
    "duration": 5,
    "start_time": "2022-04-05T17:28:49.027Z"
   },
   {
    "duration": 6,
    "start_time": "2022-04-05T17:28:49.033Z"
   },
   {
    "duration": 5,
    "start_time": "2022-04-05T17:28:49.040Z"
   },
   {
    "duration": 6,
    "start_time": "2022-04-05T17:28:49.047Z"
   },
   {
    "duration": 5,
    "start_time": "2022-04-05T17:28:49.054Z"
   },
   {
    "duration": 6,
    "start_time": "2022-04-05T17:28:49.060Z"
   },
   {
    "duration": 4,
    "start_time": "2022-04-05T17:28:49.068Z"
   },
   {
    "duration": 2376,
    "start_time": "2022-04-05T22:30:42.391Z"
   },
   {
    "duration": 8,
    "start_time": "2022-04-05T22:30:44.770Z"
   },
   {
    "duration": 33,
    "start_time": "2022-04-05T22:30:44.781Z"
   },
   {
    "duration": 43,
    "start_time": "2022-04-05T22:30:44.817Z"
   },
   {
    "duration": 30,
    "start_time": "2022-04-05T22:30:44.863Z"
   },
   {
    "duration": 13,
    "start_time": "2022-04-05T22:30:44.895Z"
   },
   {
    "duration": 44,
    "start_time": "2022-04-05T22:30:44.910Z"
   },
   {
    "duration": 16,
    "start_time": "2022-04-05T22:30:44.957Z"
   },
   {
    "duration": 15,
    "start_time": "2022-04-05T22:30:44.976Z"
   },
   {
    "duration": 66,
    "start_time": "2022-04-05T22:30:44.993Z"
   },
   {
    "duration": 257,
    "start_time": "2022-04-05T22:30:45.061Z"
   },
   {
    "duration": 70,
    "start_time": "2022-04-05T22:30:45.321Z"
   },
   {
    "duration": 13,
    "start_time": "2022-04-05T22:30:45.394Z"
   },
   {
    "duration": 43,
    "start_time": "2022-04-05T22:30:45.413Z"
   },
   {
    "duration": 16,
    "start_time": "2022-04-05T22:30:45.459Z"
   },
   {
    "duration": 37,
    "start_time": "2022-04-05T22:30:45.477Z"
   },
   {
    "duration": 16,
    "start_time": "2022-04-05T22:30:45.516Z"
   },
   {
    "duration": 40,
    "start_time": "2022-04-05T22:30:45.534Z"
   },
   {
    "duration": 9,
    "start_time": "2022-04-05T22:30:45.576Z"
   },
   {
    "duration": 8,
    "start_time": "2022-04-05T22:30:45.587Z"
   },
   {
    "duration": 20,
    "start_time": "2022-04-05T22:30:45.597Z"
   },
   {
    "duration": 20,
    "start_time": "2022-04-05T22:30:45.619Z"
   },
   {
    "duration": 16,
    "start_time": "2022-04-05T22:30:45.641Z"
   },
   {
    "duration": 33,
    "start_time": "2022-04-05T22:30:45.659Z"
   },
   {
    "duration": 19,
    "start_time": "2022-04-05T22:30:45.694Z"
   },
   {
    "duration": 19,
    "start_time": "2022-04-05T22:30:45.716Z"
   },
   {
    "duration": 29,
    "start_time": "2022-04-05T22:30:45.737Z"
   },
   {
    "duration": 22,
    "start_time": "2022-04-05T22:30:45.768Z"
   },
   {
    "duration": 18,
    "start_time": "2022-04-05T22:30:45.792Z"
   },
   {
    "duration": 7,
    "start_time": "2022-04-05T22:30:45.812Z"
   },
   {
    "duration": 10,
    "start_time": "2022-04-05T22:30:45.821Z"
   },
   {
    "duration": 30,
    "start_time": "2022-04-05T22:30:45.832Z"
   },
   {
    "duration": 18,
    "start_time": "2022-04-05T22:30:45.865Z"
   },
   {
    "duration": 35,
    "start_time": "2022-04-05T22:30:45.885Z"
   },
   {
    "duration": 25,
    "start_time": "2022-04-05T22:30:45.922Z"
   },
   {
    "duration": 24,
    "start_time": "2022-04-05T22:30:45.950Z"
   },
   {
    "duration": 22,
    "start_time": "2022-04-05T22:30:45.976Z"
   },
   {
    "duration": 34,
    "start_time": "2022-04-05T22:30:46.001Z"
   },
   {
    "duration": 34,
    "start_time": "2022-04-05T22:30:46.038Z"
   },
   {
    "duration": 25,
    "start_time": "2022-04-05T22:30:46.075Z"
   },
   {
    "duration": 6,
    "start_time": "2022-04-05T22:30:46.108Z"
   },
   {
    "duration": 16,
    "start_time": "2022-04-05T22:30:46.146Z"
   },
   {
    "duration": 6,
    "start_time": "2022-04-05T22:30:46.164Z"
   },
   {
    "duration": 32,
    "start_time": "2022-04-05T22:30:46.172Z"
   },
   {
    "duration": 55,
    "start_time": "2022-04-05T22:30:46.206Z"
   },
   {
    "duration": 13,
    "start_time": "2022-04-05T22:30:46.263Z"
   },
   {
    "duration": 46,
    "start_time": "2022-04-05T22:30:46.278Z"
   },
   {
    "duration": 6,
    "start_time": "2022-04-05T22:30:46.326Z"
   },
   {
    "duration": 14,
    "start_time": "2022-04-05T22:30:46.334Z"
   },
   {
    "duration": 16,
    "start_time": "2022-04-05T22:30:46.351Z"
   },
   {
    "duration": 19,
    "start_time": "2022-04-05T22:30:46.370Z"
   },
   {
    "duration": 13,
    "start_time": "2022-04-05T22:30:46.392Z"
   },
   {
    "duration": 11,
    "start_time": "2022-04-05T22:30:46.408Z"
   },
   {
    "duration": 8,
    "start_time": "2022-04-05T22:30:46.421Z"
   },
   {
    "duration": 15,
    "start_time": "2022-04-05T22:30:46.431Z"
   },
   {
    "duration": 17,
    "start_time": "2022-04-05T22:30:46.449Z"
   },
   {
    "duration": 8,
    "start_time": "2022-04-05T22:30:46.469Z"
   },
   {
    "duration": 12,
    "start_time": "2022-04-05T22:30:46.479Z"
   },
   {
    "duration": 29,
    "start_time": "2022-04-05T22:30:46.493Z"
   },
   {
    "duration": 39,
    "start_time": "2022-04-05T22:30:46.524Z"
   },
   {
    "duration": 42,
    "start_time": "2022-04-05T22:30:46.566Z"
   },
   {
    "duration": 17,
    "start_time": "2022-04-05T22:30:46.611Z"
   },
   {
    "duration": 26,
    "start_time": "2022-04-05T22:30:46.630Z"
   },
   {
    "duration": 19,
    "start_time": "2022-04-05T22:30:46.658Z"
   },
   {
    "duration": 24,
    "start_time": "2022-04-05T22:30:46.679Z"
   },
   {
    "duration": 9,
    "start_time": "2022-04-05T22:30:46.705Z"
   },
   {
    "duration": 22,
    "start_time": "2022-04-05T22:30:46.716Z"
   },
   {
    "duration": 70,
    "start_time": "2022-04-05T22:30:46.741Z"
   },
   {
    "duration": 8,
    "start_time": "2022-04-05T22:30:46.814Z"
   },
   {
    "duration": 22,
    "start_time": "2022-04-05T22:30:46.824Z"
   },
   {
    "duration": 48,
    "start_time": "2022-04-05T22:30:46.849Z"
   },
   {
    "duration": 27,
    "start_time": "2022-04-05T22:30:46.899Z"
   },
   {
    "duration": 17,
    "start_time": "2022-04-05T22:30:46.929Z"
   },
   {
    "duration": 18,
    "start_time": "2022-04-05T22:30:46.950Z"
   },
   {
    "duration": 11,
    "start_time": "2022-04-05T22:30:46.971Z"
   },
   {
    "duration": 21,
    "start_time": "2022-04-05T22:30:46.984Z"
   },
   {
    "duration": 9,
    "start_time": "2022-04-05T22:32:11.411Z"
   },
   {
    "duration": 20,
    "start_time": "2022-04-05T22:32:52.257Z"
   },
   {
    "duration": 31,
    "start_time": "2022-04-05T22:33:04.979Z"
   },
   {
    "duration": 8,
    "start_time": "2022-04-05T22:34:01.967Z"
   },
   {
    "duration": 142,
    "start_time": "2022-04-05T22:47:18.319Z"
   },
   {
    "duration": 9,
    "start_time": "2022-04-05T22:47:40.412Z"
   },
   {
    "duration": 9,
    "start_time": "2022-04-05T22:47:52.320Z"
   },
   {
    "duration": 9,
    "start_time": "2022-04-05T22:48:49.551Z"
   },
   {
    "duration": 10,
    "start_time": "2022-04-05T22:50:39.206Z"
   },
   {
    "duration": 4,
    "start_time": "2022-04-05T23:08:51.579Z"
   },
   {
    "duration": 11,
    "start_time": "2022-04-05T23:08:59.422Z"
   },
   {
    "duration": 11,
    "start_time": "2022-04-05T23:09:05.796Z"
   },
   {
    "duration": 1753,
    "start_time": "2022-04-06T16:00:27.078Z"
   },
   {
    "duration": 7,
    "start_time": "2022-04-06T16:00:28.834Z"
   },
   {
    "duration": 37,
    "start_time": "2022-04-06T16:00:28.844Z"
   },
   {
    "duration": 30,
    "start_time": "2022-04-06T16:00:28.884Z"
   },
   {
    "duration": 65,
    "start_time": "2022-04-06T16:00:28.916Z"
   },
   {
    "duration": 14,
    "start_time": "2022-04-06T16:00:28.983Z"
   },
   {
    "duration": 12,
    "start_time": "2022-04-06T16:00:28.999Z"
   },
   {
    "duration": 19,
    "start_time": "2022-04-06T16:00:29.014Z"
   },
   {
    "duration": 34,
    "start_time": "2022-04-06T16:00:29.035Z"
   },
   {
    "duration": 22,
    "start_time": "2022-04-06T16:00:29.073Z"
   },
   {
    "duration": 282,
    "start_time": "2022-04-06T16:00:29.097Z"
   },
   {
    "duration": 57,
    "start_time": "2022-04-06T16:00:29.382Z"
   },
   {
    "duration": 31,
    "start_time": "2022-04-06T16:00:29.441Z"
   },
   {
    "duration": 11,
    "start_time": "2022-04-06T16:00:29.475Z"
   },
   {
    "duration": 7,
    "start_time": "2022-04-06T16:00:29.489Z"
   },
   {
    "duration": 13,
    "start_time": "2022-04-06T16:00:29.499Z"
   },
   {
    "duration": 8,
    "start_time": "2022-04-06T16:00:29.515Z"
   },
   {
    "duration": 51,
    "start_time": "2022-04-06T16:00:29.526Z"
   },
   {
    "duration": 9,
    "start_time": "2022-04-06T16:00:29.579Z"
   },
   {
    "duration": 8,
    "start_time": "2022-04-06T16:00:29.591Z"
   },
   {
    "duration": 15,
    "start_time": "2022-04-06T16:00:29.601Z"
   },
   {
    "duration": 15,
    "start_time": "2022-04-06T16:00:29.618Z"
   },
   {
    "duration": 32,
    "start_time": "2022-04-06T16:00:29.636Z"
   },
   {
    "duration": 10,
    "start_time": "2022-04-06T16:00:29.671Z"
   },
   {
    "duration": 10,
    "start_time": "2022-04-06T16:00:29.683Z"
   },
   {
    "duration": 10,
    "start_time": "2022-04-06T16:00:29.695Z"
   },
   {
    "duration": 10,
    "start_time": "2022-04-06T16:00:29.707Z"
   },
   {
    "duration": 5,
    "start_time": "2022-04-06T16:00:29.724Z"
   },
   {
    "duration": 9,
    "start_time": "2022-04-06T16:00:29.768Z"
   },
   {
    "duration": 5,
    "start_time": "2022-04-06T16:00:29.779Z"
   },
   {
    "duration": 8,
    "start_time": "2022-04-06T16:00:29.786Z"
   },
   {
    "duration": 13,
    "start_time": "2022-04-06T16:00:29.796Z"
   },
   {
    "duration": 11,
    "start_time": "2022-04-06T16:00:29.811Z"
   },
   {
    "duration": 49,
    "start_time": "2022-04-06T16:00:29.824Z"
   },
   {
    "duration": 14,
    "start_time": "2022-04-06T16:00:29.875Z"
   },
   {
    "duration": 8,
    "start_time": "2022-04-06T16:00:29.891Z"
   },
   {
    "duration": 6,
    "start_time": "2022-04-06T16:00:29.901Z"
   },
   {
    "duration": 32,
    "start_time": "2022-04-06T16:00:29.909Z"
   },
   {
    "duration": 49,
    "start_time": "2022-04-06T16:00:29.944Z"
   },
   {
    "duration": 25,
    "start_time": "2022-04-06T16:00:29.996Z"
   },
   {
    "duration": 6,
    "start_time": "2022-04-06T16:00:30.025Z"
   },
   {
    "duration": 14,
    "start_time": "2022-04-06T16:00:30.067Z"
   },
   {
    "duration": 7,
    "start_time": "2022-04-06T16:00:30.083Z"
   },
   {
    "duration": 9,
    "start_time": "2022-04-06T16:00:30.092Z"
   },
   {
    "duration": 23,
    "start_time": "2022-04-06T16:00:30.104Z"
   },
   {
    "duration": 41,
    "start_time": "2022-04-06T16:00:30.130Z"
   },
   {
    "duration": 38,
    "start_time": "2022-04-06T16:00:30.174Z"
   },
   {
    "duration": 7,
    "start_time": "2022-04-06T16:00:30.215Z"
   },
   {
    "duration": 17,
    "start_time": "2022-04-06T16:00:30.224Z"
   },
   {
    "duration": 13,
    "start_time": "2022-04-06T16:00:30.270Z"
   },
   {
    "duration": 12,
    "start_time": "2022-04-06T16:00:30.286Z"
   },
   {
    "duration": 122,
    "start_time": "2022-04-06T16:00:30.300Z"
   },
   {
    "duration": 0,
    "start_time": "2022-04-06T16:00:30.424Z"
   },
   {
    "duration": 0,
    "start_time": "2022-04-06T16:00:30.426Z"
   },
   {
    "duration": 0,
    "start_time": "2022-04-06T16:00:30.428Z"
   },
   {
    "duration": 0,
    "start_time": "2022-04-06T16:00:30.431Z"
   },
   {
    "duration": 0,
    "start_time": "2022-04-06T16:00:30.432Z"
   },
   {
    "duration": 0,
    "start_time": "2022-04-06T16:00:30.434Z"
   },
   {
    "duration": 0,
    "start_time": "2022-04-06T16:00:30.436Z"
   },
   {
    "duration": 0,
    "start_time": "2022-04-06T16:00:30.438Z"
   },
   {
    "duration": 0,
    "start_time": "2022-04-06T16:00:30.439Z"
   },
   {
    "duration": 0,
    "start_time": "2022-04-06T16:00:30.440Z"
   },
   {
    "duration": 0,
    "start_time": "2022-04-06T16:00:30.442Z"
   },
   {
    "duration": 0,
    "start_time": "2022-04-06T16:00:30.444Z"
   },
   {
    "duration": 0,
    "start_time": "2022-04-06T16:00:30.445Z"
   },
   {
    "duration": 0,
    "start_time": "2022-04-06T16:00:30.447Z"
   },
   {
    "duration": 0,
    "start_time": "2022-04-06T16:00:30.448Z"
   },
   {
    "duration": 0,
    "start_time": "2022-04-06T16:00:30.450Z"
   },
   {
    "duration": 0,
    "start_time": "2022-04-06T16:00:30.451Z"
   },
   {
    "duration": 0,
    "start_time": "2022-04-06T16:00:30.453Z"
   },
   {
    "duration": 0,
    "start_time": "2022-04-06T16:00:30.455Z"
   },
   {
    "duration": 0,
    "start_time": "2022-04-06T16:00:30.457Z"
   },
   {
    "duration": 0,
    "start_time": "2022-04-06T16:00:30.458Z"
   },
   {
    "duration": 0,
    "start_time": "2022-04-06T16:00:30.460Z"
   },
   {
    "duration": 0,
    "start_time": "2022-04-06T16:00:30.461Z"
   },
   {
    "duration": 0,
    "start_time": "2022-04-06T16:00:30.467Z"
   },
   {
    "duration": 0,
    "start_time": "2022-04-06T16:00:30.469Z"
   },
   {
    "duration": 0,
    "start_time": "2022-04-06T16:00:30.471Z"
   },
   {
    "duration": 11,
    "start_time": "2022-04-06T16:18:00.790Z"
   },
   {
    "duration": 11,
    "start_time": "2022-04-06T16:18:49.986Z"
   },
   {
    "duration": 36,
    "start_time": "2022-04-06T16:19:14.939Z"
   },
   {
    "duration": 154,
    "start_time": "2022-04-06T16:22:15.698Z"
   },
   {
    "duration": 113,
    "start_time": "2022-04-06T16:22:32.157Z"
   },
   {
    "duration": 16,
    "start_time": "2022-04-06T16:22:42.719Z"
   },
   {
    "duration": 1601,
    "start_time": "2022-04-06T16:23:53.028Z"
   },
   {
    "duration": 7,
    "start_time": "2022-04-06T16:23:54.632Z"
   },
   {
    "duration": 34,
    "start_time": "2022-04-06T16:23:54.641Z"
   },
   {
    "duration": 20,
    "start_time": "2022-04-06T16:23:54.678Z"
   },
   {
    "duration": 32,
    "start_time": "2022-04-06T16:23:54.701Z"
   },
   {
    "duration": 43,
    "start_time": "2022-04-06T16:23:54.735Z"
   },
   {
    "duration": 8,
    "start_time": "2022-04-06T16:23:54.780Z"
   },
   {
    "duration": 16,
    "start_time": "2022-04-06T16:23:54.790Z"
   },
   {
    "duration": 9,
    "start_time": "2022-04-06T16:23:54.808Z"
   },
   {
    "duration": 61,
    "start_time": "2022-04-06T16:23:54.821Z"
   },
   {
    "duration": 251,
    "start_time": "2022-04-06T16:23:54.884Z"
   },
   {
    "duration": 64,
    "start_time": "2022-04-06T16:23:55.137Z"
   },
   {
    "duration": 11,
    "start_time": "2022-04-06T16:23:55.203Z"
   },
   {
    "duration": 16,
    "start_time": "2022-04-06T16:23:55.216Z"
   },
   {
    "duration": 7,
    "start_time": "2022-04-06T16:23:55.234Z"
   },
   {
    "duration": 36,
    "start_time": "2022-04-06T16:23:55.242Z"
   },
   {
    "duration": 12,
    "start_time": "2022-04-06T16:23:55.280Z"
   },
   {
    "duration": 7,
    "start_time": "2022-04-06T16:23:55.294Z"
   },
   {
    "duration": 6,
    "start_time": "2022-04-06T16:23:55.303Z"
   },
   {
    "duration": 7,
    "start_time": "2022-04-06T16:23:55.311Z"
   },
   {
    "duration": 54,
    "start_time": "2022-04-06T16:23:55.320Z"
   },
   {
    "duration": 14,
    "start_time": "2022-04-06T16:23:55.377Z"
   },
   {
    "duration": 6,
    "start_time": "2022-04-06T16:23:55.393Z"
   },
   {
    "duration": 12,
    "start_time": "2022-04-06T16:23:55.401Z"
   },
   {
    "duration": 52,
    "start_time": "2022-04-06T16:23:55.415Z"
   },
   {
    "duration": 8,
    "start_time": "2022-04-06T16:23:55.469Z"
   },
   {
    "duration": 11,
    "start_time": "2022-04-06T16:23:55.479Z"
   },
   {
    "duration": 6,
    "start_time": "2022-04-06T16:23:55.497Z"
   },
   {
    "duration": 10,
    "start_time": "2022-04-06T16:23:55.505Z"
   },
   {
    "duration": 5,
    "start_time": "2022-04-06T16:23:55.517Z"
   },
   {
    "duration": 44,
    "start_time": "2022-04-06T16:23:55.524Z"
   },
   {
    "duration": 11,
    "start_time": "2022-04-06T16:23:55.571Z"
   },
   {
    "duration": 8,
    "start_time": "2022-04-06T16:23:55.584Z"
   },
   {
    "duration": 9,
    "start_time": "2022-04-06T16:23:55.594Z"
   },
   {
    "duration": 10,
    "start_time": "2022-04-06T16:23:55.605Z"
   },
   {
    "duration": 5,
    "start_time": "2022-04-06T16:23:55.617Z"
   },
   {
    "duration": 5,
    "start_time": "2022-04-06T16:23:55.668Z"
   },
   {
    "duration": 28,
    "start_time": "2022-04-06T16:23:55.676Z"
   },
   {
    "duration": 27,
    "start_time": "2022-04-06T16:23:55.706Z"
   },
   {
    "duration": 24,
    "start_time": "2022-04-06T16:23:55.768Z"
   },
   {
    "duration": 5,
    "start_time": "2022-04-06T16:23:55.795Z"
   },
   {
    "duration": 11,
    "start_time": "2022-04-06T16:23:55.802Z"
   },
   {
    "duration": 4,
    "start_time": "2022-04-06T16:23:55.816Z"
   },
   {
    "duration": 44,
    "start_time": "2022-04-06T16:23:55.823Z"
   },
   {
    "duration": 12,
    "start_time": "2022-04-06T16:23:55.870Z"
   },
   {
    "duration": 10,
    "start_time": "2022-04-06T16:23:55.885Z"
   },
   {
    "duration": 26,
    "start_time": "2022-04-06T16:23:55.897Z"
   },
   {
    "duration": 6,
    "start_time": "2022-04-06T16:23:55.925Z"
   },
   {
    "duration": 7,
    "start_time": "2022-04-06T16:23:55.967Z"
   },
   {
    "duration": 13,
    "start_time": "2022-04-06T16:23:55.976Z"
   },
   {
    "duration": 11,
    "start_time": "2022-04-06T16:23:55.991Z"
   },
   {
    "duration": 88,
    "start_time": "2022-04-06T16:23:56.004Z"
   },
   {
    "duration": 0,
    "start_time": "2022-04-06T16:23:56.095Z"
   },
   {
    "duration": 0,
    "start_time": "2022-04-06T16:23:56.096Z"
   },
   {
    "duration": 0,
    "start_time": "2022-04-06T16:23:56.098Z"
   },
   {
    "duration": 0,
    "start_time": "2022-04-06T16:23:56.100Z"
   },
   {
    "duration": 0,
    "start_time": "2022-04-06T16:23:56.102Z"
   },
   {
    "duration": 0,
    "start_time": "2022-04-06T16:23:56.104Z"
   },
   {
    "duration": 0,
    "start_time": "2022-04-06T16:23:56.106Z"
   },
   {
    "duration": 0,
    "start_time": "2022-04-06T16:23:56.108Z"
   },
   {
    "duration": 0,
    "start_time": "2022-04-06T16:23:56.110Z"
   },
   {
    "duration": 0,
    "start_time": "2022-04-06T16:23:56.113Z"
   },
   {
    "duration": 0,
    "start_time": "2022-04-06T16:23:56.114Z"
   },
   {
    "duration": 0,
    "start_time": "2022-04-06T16:23:56.117Z"
   },
   {
    "duration": 0,
    "start_time": "2022-04-06T16:23:56.119Z"
   },
   {
    "duration": 0,
    "start_time": "2022-04-06T16:23:56.121Z"
   },
   {
    "duration": 0,
    "start_time": "2022-04-06T16:23:56.123Z"
   },
   {
    "duration": 0,
    "start_time": "2022-04-06T16:23:56.125Z"
   },
   {
    "duration": 0,
    "start_time": "2022-04-06T16:23:56.127Z"
   },
   {
    "duration": 0,
    "start_time": "2022-04-06T16:23:56.129Z"
   },
   {
    "duration": 0,
    "start_time": "2022-04-06T16:23:56.131Z"
   },
   {
    "duration": 0,
    "start_time": "2022-04-06T16:23:56.168Z"
   },
   {
    "duration": 0,
    "start_time": "2022-04-06T16:23:56.170Z"
   },
   {
    "duration": 0,
    "start_time": "2022-04-06T16:23:56.171Z"
   },
   {
    "duration": 0,
    "start_time": "2022-04-06T16:23:56.174Z"
   },
   {
    "duration": 0,
    "start_time": "2022-04-06T16:23:56.176Z"
   },
   {
    "duration": 0,
    "start_time": "2022-04-06T16:23:56.178Z"
   },
   {
    "duration": 0,
    "start_time": "2022-04-06T16:23:56.180Z"
   },
   {
    "duration": 12,
    "start_time": "2022-04-06T16:29:24.355Z"
   },
   {
    "duration": 9,
    "start_time": "2022-04-06T16:32:14.392Z"
   },
   {
    "duration": 9,
    "start_time": "2022-04-06T16:32:32.426Z"
   },
   {
    "duration": 12,
    "start_time": "2022-04-06T16:32:47.480Z"
   },
   {
    "duration": 9,
    "start_time": "2022-04-06T16:32:56.993Z"
   },
   {
    "duration": 1824,
    "start_time": "2022-04-06T16:33:05.589Z"
   },
   {
    "duration": 9,
    "start_time": "2022-04-06T16:33:07.416Z"
   },
   {
    "duration": 45,
    "start_time": "2022-04-06T16:33:07.428Z"
   },
   {
    "duration": 28,
    "start_time": "2022-04-06T16:33:07.477Z"
   },
   {
    "duration": 31,
    "start_time": "2022-04-06T16:33:07.507Z"
   },
   {
    "duration": 38,
    "start_time": "2022-04-06T16:33:07.540Z"
   },
   {
    "duration": 9,
    "start_time": "2022-04-06T16:33:07.580Z"
   },
   {
    "duration": 18,
    "start_time": "2022-04-06T16:33:07.592Z"
   },
   {
    "duration": 11,
    "start_time": "2022-04-06T16:33:07.613Z"
   },
   {
    "duration": 24,
    "start_time": "2022-04-06T16:33:07.670Z"
   },
   {
    "duration": 281,
    "start_time": "2022-04-06T16:33:07.697Z"
   },
   {
    "duration": 57,
    "start_time": "2022-04-06T16:33:07.980Z"
   },
   {
    "duration": 31,
    "start_time": "2022-04-06T16:33:08.040Z"
   },
   {
    "duration": 12,
    "start_time": "2022-04-06T16:33:08.073Z"
   },
   {
    "duration": 7,
    "start_time": "2022-04-06T16:33:08.087Z"
   },
   {
    "duration": 14,
    "start_time": "2022-04-06T16:33:08.097Z"
   },
   {
    "duration": 11,
    "start_time": "2022-04-06T16:33:08.114Z"
   },
   {
    "duration": 41,
    "start_time": "2022-04-06T16:33:08.128Z"
   },
   {
    "duration": 6,
    "start_time": "2022-04-06T16:33:08.171Z"
   },
   {
    "duration": 7,
    "start_time": "2022-04-06T16:33:08.180Z"
   },
   {
    "duration": 12,
    "start_time": "2022-04-06T16:33:08.189Z"
   },
   {
    "duration": 16,
    "start_time": "2022-04-06T16:33:08.204Z"
   },
   {
    "duration": 48,
    "start_time": "2022-04-06T16:33:08.223Z"
   },
   {
    "duration": 8,
    "start_time": "2022-04-06T16:33:08.273Z"
   },
   {
    "duration": 7,
    "start_time": "2022-04-06T16:33:08.283Z"
   },
   {
    "duration": 7,
    "start_time": "2022-04-06T16:33:08.293Z"
   },
   {
    "duration": 6,
    "start_time": "2022-04-06T16:33:08.303Z"
   },
   {
    "duration": 10,
    "start_time": "2022-04-06T16:33:08.366Z"
   },
   {
    "duration": 4,
    "start_time": "2022-04-06T16:33:08.378Z"
   },
   {
    "duration": 5,
    "start_time": "2022-04-06T16:33:08.384Z"
   },
   {
    "duration": 9,
    "start_time": "2022-04-06T16:33:08.392Z"
   },
   {
    "duration": 7,
    "start_time": "2022-04-06T16:33:08.403Z"
   },
   {
    "duration": 10,
    "start_time": "2022-04-06T16:33:08.412Z"
   },
   {
    "duration": 47,
    "start_time": "2022-04-06T16:33:08.424Z"
   },
   {
    "duration": 7,
    "start_time": "2022-04-06T16:33:08.473Z"
   },
   {
    "duration": 6,
    "start_time": "2022-04-06T16:33:08.483Z"
   },
   {
    "duration": 29,
    "start_time": "2022-04-06T16:33:08.492Z"
   },
   {
    "duration": 65,
    "start_time": "2022-04-06T16:33:08.523Z"
   },
   {
    "duration": 25,
    "start_time": "2022-04-06T16:33:08.591Z"
   },
   {
    "duration": 5,
    "start_time": "2022-04-06T16:33:08.618Z"
   },
   {
    "duration": 42,
    "start_time": "2022-04-06T16:33:08.625Z"
   },
   {
    "duration": 4,
    "start_time": "2022-04-06T16:33:08.670Z"
   },
   {
    "duration": 9,
    "start_time": "2022-04-06T16:33:08.676Z"
   },
   {
    "duration": 15,
    "start_time": "2022-04-06T16:33:08.687Z"
   },
   {
    "duration": 11,
    "start_time": "2022-04-06T16:33:08.705Z"
   },
   {
    "duration": 69,
    "start_time": "2022-04-06T16:33:08.718Z"
   },
   {
    "duration": 7,
    "start_time": "2022-04-06T16:33:08.789Z"
   },
   {
    "duration": 8,
    "start_time": "2022-04-06T16:33:08.799Z"
   },
   {
    "duration": 12,
    "start_time": "2022-04-06T16:33:08.809Z"
   },
   {
    "duration": 46,
    "start_time": "2022-04-06T16:33:08.823Z"
   },
   {
    "duration": 109,
    "start_time": "2022-04-06T16:33:08.871Z"
   },
   {
    "duration": 1,
    "start_time": "2022-04-06T16:33:08.982Z"
   },
   {
    "duration": 0,
    "start_time": "2022-04-06T16:33:08.985Z"
   },
   {
    "duration": 0,
    "start_time": "2022-04-06T16:33:08.987Z"
   },
   {
    "duration": 0,
    "start_time": "2022-04-06T16:33:08.989Z"
   },
   {
    "duration": 0,
    "start_time": "2022-04-06T16:33:08.990Z"
   },
   {
    "duration": 0,
    "start_time": "2022-04-06T16:33:08.992Z"
   },
   {
    "duration": 0,
    "start_time": "2022-04-06T16:33:08.993Z"
   },
   {
    "duration": 0,
    "start_time": "2022-04-06T16:33:08.995Z"
   },
   {
    "duration": 0,
    "start_time": "2022-04-06T16:33:08.996Z"
   },
   {
    "duration": 0,
    "start_time": "2022-04-06T16:33:08.998Z"
   },
   {
    "duration": 0,
    "start_time": "2022-04-06T16:33:08.999Z"
   },
   {
    "duration": 0,
    "start_time": "2022-04-06T16:33:09.001Z"
   },
   {
    "duration": 0,
    "start_time": "2022-04-06T16:33:09.003Z"
   },
   {
    "duration": 0,
    "start_time": "2022-04-06T16:33:09.005Z"
   },
   {
    "duration": 0,
    "start_time": "2022-04-06T16:33:09.006Z"
   },
   {
    "duration": 0,
    "start_time": "2022-04-06T16:33:09.008Z"
   },
   {
    "duration": 0,
    "start_time": "2022-04-06T16:33:09.010Z"
   },
   {
    "duration": 0,
    "start_time": "2022-04-06T16:33:09.012Z"
   },
   {
    "duration": 0,
    "start_time": "2022-04-06T16:33:09.013Z"
   },
   {
    "duration": 0,
    "start_time": "2022-04-06T16:33:09.014Z"
   },
   {
    "duration": 0,
    "start_time": "2022-04-06T16:33:09.016Z"
   },
   {
    "duration": 0,
    "start_time": "2022-04-06T16:33:09.017Z"
   },
   {
    "duration": 0,
    "start_time": "2022-04-06T16:33:09.068Z"
   },
   {
    "duration": 0,
    "start_time": "2022-04-06T16:33:09.069Z"
   },
   {
    "duration": 0,
    "start_time": "2022-04-06T16:33:09.071Z"
   },
   {
    "duration": 0,
    "start_time": "2022-04-06T16:33:09.073Z"
   },
   {
    "duration": 89,
    "start_time": "2022-04-06T16:34:19.050Z"
   },
   {
    "duration": 37,
    "start_time": "2022-04-06T16:34:27.965Z"
   },
   {
    "duration": 10,
    "start_time": "2022-04-06T16:34:33.288Z"
   },
   {
    "duration": 1916,
    "start_time": "2022-04-06T16:34:42.464Z"
   },
   {
    "duration": 8,
    "start_time": "2022-04-06T16:34:44.383Z"
   },
   {
    "duration": 33,
    "start_time": "2022-04-06T16:34:44.394Z"
   },
   {
    "duration": 48,
    "start_time": "2022-04-06T16:34:44.431Z"
   },
   {
    "duration": 40,
    "start_time": "2022-04-06T16:34:44.482Z"
   },
   {
    "duration": 46,
    "start_time": "2022-04-06T16:34:44.525Z"
   },
   {
    "duration": 11,
    "start_time": "2022-04-06T16:34:44.574Z"
   },
   {
    "duration": 26,
    "start_time": "2022-04-06T16:34:44.587Z"
   },
   {
    "duration": 11,
    "start_time": "2022-04-06T16:34:44.615Z"
   },
   {
    "duration": 56,
    "start_time": "2022-04-06T16:34:44.631Z"
   },
   {
    "duration": 336,
    "start_time": "2022-04-06T16:34:44.690Z"
   },
   {
    "duration": 88,
    "start_time": "2022-04-06T16:34:45.029Z"
   },
   {
    "duration": 13,
    "start_time": "2022-04-06T16:34:45.120Z"
   },
   {
    "duration": 39,
    "start_time": "2022-04-06T16:34:45.135Z"
   },
   {
    "duration": 9,
    "start_time": "2022-04-06T16:34:45.176Z"
   },
   {
    "duration": 16,
    "start_time": "2022-04-06T16:34:45.187Z"
   },
   {
    "duration": 8,
    "start_time": "2022-04-06T16:34:45.205Z"
   },
   {
    "duration": 6,
    "start_time": "2022-04-06T16:34:45.215Z"
   },
   {
    "duration": 46,
    "start_time": "2022-04-06T16:34:45.223Z"
   },
   {
    "duration": 6,
    "start_time": "2022-04-06T16:34:45.272Z"
   },
   {
    "duration": 15,
    "start_time": "2022-04-06T16:34:45.280Z"
   },
   {
    "duration": 15,
    "start_time": "2022-04-06T16:34:45.297Z"
   },
   {
    "duration": 8,
    "start_time": "2022-04-06T16:34:45.315Z"
   },
   {
    "duration": 48,
    "start_time": "2022-04-06T16:34:45.325Z"
   },
   {
    "duration": 10,
    "start_time": "2022-04-06T16:34:45.375Z"
   },
   {
    "duration": 10,
    "start_time": "2022-04-06T16:34:45.387Z"
   },
   {
    "duration": 10,
    "start_time": "2022-04-06T16:34:45.399Z"
   },
   {
    "duration": 7,
    "start_time": "2022-04-06T16:34:45.415Z"
   },
   {
    "duration": 4,
    "start_time": "2022-04-06T16:34:45.425Z"
   },
   {
    "duration": 4,
    "start_time": "2022-04-06T16:34:45.468Z"
   },
   {
    "duration": 12,
    "start_time": "2022-04-06T16:34:45.474Z"
   },
   {
    "duration": 37,
    "start_time": "2022-04-06T16:34:45.489Z"
   },
   {
    "duration": 41,
    "start_time": "2022-04-06T16:34:45.528Z"
   },
   {
    "duration": 13,
    "start_time": "2022-04-06T16:34:45.571Z"
   },
   {
    "duration": 6,
    "start_time": "2022-04-06T16:34:45.586Z"
   },
   {
    "duration": 5,
    "start_time": "2022-04-06T16:34:45.594Z"
   },
   {
    "duration": 65,
    "start_time": "2022-04-06T16:34:45.602Z"
   },
   {
    "duration": 28,
    "start_time": "2022-04-06T16:34:45.669Z"
   },
   {
    "duration": 23,
    "start_time": "2022-04-06T16:34:45.699Z"
   },
   {
    "duration": 5,
    "start_time": "2022-04-06T16:34:45.724Z"
   },
   {
    "duration": 41,
    "start_time": "2022-04-06T16:34:45.731Z"
   },
   {
    "duration": 8,
    "start_time": "2022-04-06T16:34:45.774Z"
   },
   {
    "duration": 10,
    "start_time": "2022-04-06T16:34:45.784Z"
   },
   {
    "duration": 15,
    "start_time": "2022-04-06T16:34:45.796Z"
   },
   {
    "duration": 9,
    "start_time": "2022-04-06T16:34:45.813Z"
   },
   {
    "duration": 62,
    "start_time": "2022-04-06T16:34:45.824Z"
   },
   {
    "duration": 6,
    "start_time": "2022-04-06T16:34:45.888Z"
   },
   {
    "duration": 7,
    "start_time": "2022-04-06T16:34:45.897Z"
   },
   {
    "duration": 15,
    "start_time": "2022-04-06T16:34:45.906Z"
   },
   {
    "duration": 10,
    "start_time": "2022-04-06T16:34:45.923Z"
   },
   {
    "duration": 99,
    "start_time": "2022-04-06T16:34:45.968Z"
   },
   {
    "duration": 0,
    "start_time": "2022-04-06T16:34:46.069Z"
   },
   {
    "duration": 1,
    "start_time": "2022-04-06T16:34:46.070Z"
   },
   {
    "duration": 0,
    "start_time": "2022-04-06T16:34:46.072Z"
   },
   {
    "duration": 0,
    "start_time": "2022-04-06T16:34:46.073Z"
   },
   {
    "duration": 0,
    "start_time": "2022-04-06T16:34:46.076Z"
   },
   {
    "duration": 0,
    "start_time": "2022-04-06T16:34:46.077Z"
   },
   {
    "duration": 0,
    "start_time": "2022-04-06T16:34:46.079Z"
   },
   {
    "duration": 0,
    "start_time": "2022-04-06T16:34:46.081Z"
   },
   {
    "duration": 0,
    "start_time": "2022-04-06T16:34:46.083Z"
   },
   {
    "duration": 0,
    "start_time": "2022-04-06T16:34:46.084Z"
   },
   {
    "duration": 0,
    "start_time": "2022-04-06T16:34:46.086Z"
   },
   {
    "duration": 0,
    "start_time": "2022-04-06T16:34:46.088Z"
   },
   {
    "duration": 0,
    "start_time": "2022-04-06T16:34:46.089Z"
   },
   {
    "duration": 0,
    "start_time": "2022-04-06T16:34:46.091Z"
   },
   {
    "duration": 0,
    "start_time": "2022-04-06T16:34:46.093Z"
   },
   {
    "duration": 0,
    "start_time": "2022-04-06T16:34:46.094Z"
   },
   {
    "duration": 0,
    "start_time": "2022-04-06T16:34:46.096Z"
   },
   {
    "duration": 0,
    "start_time": "2022-04-06T16:34:46.098Z"
   },
   {
    "duration": 0,
    "start_time": "2022-04-06T16:34:46.100Z"
   },
   {
    "duration": 0,
    "start_time": "2022-04-06T16:34:46.101Z"
   },
   {
    "duration": 0,
    "start_time": "2022-04-06T16:34:46.102Z"
   },
   {
    "duration": 0,
    "start_time": "2022-04-06T16:34:46.103Z"
   },
   {
    "duration": 0,
    "start_time": "2022-04-06T16:34:46.104Z"
   },
   {
    "duration": 0,
    "start_time": "2022-04-06T16:34:46.106Z"
   },
   {
    "duration": 0,
    "start_time": "2022-04-06T16:34:46.168Z"
   },
   {
    "duration": 0,
    "start_time": "2022-04-06T16:34:46.170Z"
   },
   {
    "duration": 10,
    "start_time": "2022-04-06T16:35:28.090Z"
   },
   {
    "duration": 7,
    "start_time": "2022-04-06T16:35:56.473Z"
   },
   {
    "duration": 9,
    "start_time": "2022-04-06T16:35:58.421Z"
   },
   {
    "duration": 51,
    "start_time": "2022-04-06T16:40:25.034Z"
   },
   {
    "duration": 9,
    "start_time": "2022-04-06T16:40:31.992Z"
   },
   {
    "duration": 8,
    "start_time": "2022-04-06T16:40:45.250Z"
   },
   {
    "duration": 1630,
    "start_time": "2022-04-06T16:40:54.527Z"
   },
   {
    "duration": 9,
    "start_time": "2022-04-06T16:40:56.160Z"
   },
   {
    "duration": 28,
    "start_time": "2022-04-06T16:40:56.171Z"
   },
   {
    "duration": 23,
    "start_time": "2022-04-06T16:40:56.202Z"
   },
   {
    "duration": 60,
    "start_time": "2022-04-06T16:40:56.228Z"
   },
   {
    "duration": 16,
    "start_time": "2022-04-06T16:40:56.290Z"
   },
   {
    "duration": 15,
    "start_time": "2022-04-06T16:40:56.309Z"
   },
   {
    "duration": 51,
    "start_time": "2022-04-06T16:40:56.326Z"
   },
   {
    "duration": 9,
    "start_time": "2022-04-06T16:40:56.379Z"
   },
   {
    "duration": 27,
    "start_time": "2022-04-06T16:40:56.393Z"
   },
   {
    "duration": 393,
    "start_time": "2022-04-06T16:40:56.422Z"
   },
   {
    "duration": 64,
    "start_time": "2022-04-06T16:40:56.818Z"
   },
   {
    "duration": 11,
    "start_time": "2022-04-06T16:40:56.884Z"
   },
   {
    "duration": 11,
    "start_time": "2022-04-06T16:40:56.897Z"
   },
   {
    "duration": 8,
    "start_time": "2022-04-06T16:40:56.910Z"
   },
   {
    "duration": 56,
    "start_time": "2022-04-06T16:40:56.920Z"
   },
   {
    "duration": 8,
    "start_time": "2022-04-06T16:40:56.978Z"
   },
   {
    "duration": 11,
    "start_time": "2022-04-06T16:40:56.988Z"
   },
   {
    "duration": 7,
    "start_time": "2022-04-06T16:40:57.001Z"
   },
   {
    "duration": 7,
    "start_time": "2022-04-06T16:40:57.011Z"
   },
   {
    "duration": 55,
    "start_time": "2022-04-06T16:40:57.020Z"
   },
   {
    "duration": 18,
    "start_time": "2022-04-06T16:40:57.077Z"
   },
   {
    "duration": 8,
    "start_time": "2022-04-06T16:40:57.098Z"
   },
   {
    "duration": 6,
    "start_time": "2022-04-06T16:40:57.109Z"
   },
   {
    "duration": 52,
    "start_time": "2022-04-06T16:40:57.117Z"
   },
   {
    "duration": 8,
    "start_time": "2022-04-06T16:40:57.172Z"
   },
   {
    "duration": 8,
    "start_time": "2022-04-06T16:40:57.183Z"
   },
   {
    "duration": 8,
    "start_time": "2022-04-06T16:40:57.198Z"
   },
   {
    "duration": 3,
    "start_time": "2022-04-06T16:40:57.208Z"
   },
   {
    "duration": 4,
    "start_time": "2022-04-06T16:40:57.214Z"
   },
   {
    "duration": 8,
    "start_time": "2022-04-06T16:40:57.269Z"
   },
   {
    "duration": 48,
    "start_time": "2022-04-06T16:40:57.280Z"
   },
   {
    "duration": 37,
    "start_time": "2022-04-06T16:40:57.332Z"
   },
   {
    "duration": 10,
    "start_time": "2022-04-06T16:40:57.372Z"
   },
   {
    "duration": 5,
    "start_time": "2022-04-06T16:40:57.384Z"
   },
   {
    "duration": 8,
    "start_time": "2022-04-06T16:40:57.391Z"
   },
   {
    "duration": 28,
    "start_time": "2022-04-06T16:40:57.401Z"
   },
   {
    "duration": 58,
    "start_time": "2022-04-06T16:40:57.432Z"
   },
   {
    "duration": 24,
    "start_time": "2022-04-06T16:40:57.493Z"
   },
   {
    "duration": 6,
    "start_time": "2022-04-06T16:40:57.520Z"
   },
   {
    "duration": 45,
    "start_time": "2022-04-06T16:40:57.529Z"
   },
   {
    "duration": 6,
    "start_time": "2022-04-06T16:40:57.577Z"
   },
   {
    "duration": 9,
    "start_time": "2022-04-06T16:40:57.585Z"
   },
   {
    "duration": 14,
    "start_time": "2022-04-06T16:40:57.596Z"
   },
   {
    "duration": 11,
    "start_time": "2022-04-06T16:40:57.613Z"
   },
   {
    "duration": 29,
    "start_time": "2022-04-06T16:40:57.667Z"
   },
   {
    "duration": 6,
    "start_time": "2022-04-06T16:40:57.698Z"
   },
   {
    "duration": 6,
    "start_time": "2022-04-06T16:40:57.706Z"
   },
   {
    "duration": 12,
    "start_time": "2022-04-06T16:40:57.715Z"
   },
   {
    "duration": 47,
    "start_time": "2022-04-06T16:40:57.729Z"
   },
   {
    "duration": 1104,
    "start_time": "2022-04-06T16:40:57.779Z"
   },
   {
    "duration": 0,
    "start_time": "2022-04-06T16:40:58.886Z"
   },
   {
    "duration": 0,
    "start_time": "2022-04-06T16:40:58.888Z"
   },
   {
    "duration": 0,
    "start_time": "2022-04-06T16:40:58.890Z"
   },
   {
    "duration": 0,
    "start_time": "2022-04-06T16:40:58.891Z"
   },
   {
    "duration": 0,
    "start_time": "2022-04-06T16:40:58.893Z"
   },
   {
    "duration": 0,
    "start_time": "2022-04-06T16:40:58.894Z"
   },
   {
    "duration": 0,
    "start_time": "2022-04-06T16:40:58.896Z"
   },
   {
    "duration": 0,
    "start_time": "2022-04-06T16:40:58.898Z"
   },
   {
    "duration": 0,
    "start_time": "2022-04-06T16:40:58.899Z"
   },
   {
    "duration": 0,
    "start_time": "2022-04-06T16:40:58.901Z"
   },
   {
    "duration": 0,
    "start_time": "2022-04-06T16:40:58.903Z"
   },
   {
    "duration": 0,
    "start_time": "2022-04-06T16:40:58.904Z"
   },
   {
    "duration": 0,
    "start_time": "2022-04-06T16:40:58.906Z"
   },
   {
    "duration": 0,
    "start_time": "2022-04-06T16:40:58.907Z"
   },
   {
    "duration": 0,
    "start_time": "2022-04-06T16:40:58.909Z"
   },
   {
    "duration": 0,
    "start_time": "2022-04-06T16:40:58.910Z"
   },
   {
    "duration": 0,
    "start_time": "2022-04-06T16:40:58.911Z"
   },
   {
    "duration": 0,
    "start_time": "2022-04-06T16:40:58.913Z"
   },
   {
    "duration": 0,
    "start_time": "2022-04-06T16:40:58.915Z"
   },
   {
    "duration": 0,
    "start_time": "2022-04-06T16:40:58.916Z"
   },
   {
    "duration": 0,
    "start_time": "2022-04-06T16:40:58.918Z"
   },
   {
    "duration": 0,
    "start_time": "2022-04-06T16:40:58.919Z"
   },
   {
    "duration": 0,
    "start_time": "2022-04-06T16:40:58.920Z"
   },
   {
    "duration": 0,
    "start_time": "2022-04-06T16:40:58.922Z"
   },
   {
    "duration": 0,
    "start_time": "2022-04-06T16:40:58.968Z"
   },
   {
    "duration": 0,
    "start_time": "2022-04-06T16:40:58.969Z"
   },
   {
    "duration": 1662,
    "start_time": "2022-04-06T16:50:47.485Z"
   },
   {
    "duration": 5,
    "start_time": "2022-04-06T16:50:49.150Z"
   },
   {
    "duration": 35,
    "start_time": "2022-04-06T16:50:49.156Z"
   },
   {
    "duration": 15,
    "start_time": "2022-04-06T16:50:49.193Z"
   },
   {
    "duration": 18,
    "start_time": "2022-04-06T16:50:49.210Z"
   },
   {
    "duration": 10,
    "start_time": "2022-04-06T16:50:49.229Z"
   },
   {
    "duration": 24,
    "start_time": "2022-04-06T16:50:49.240Z"
   },
   {
    "duration": 19,
    "start_time": "2022-04-06T16:50:49.266Z"
   },
   {
    "duration": 8,
    "start_time": "2022-04-06T16:50:49.287Z"
   },
   {
    "duration": 20,
    "start_time": "2022-04-06T16:50:49.298Z"
   },
   {
    "duration": 173,
    "start_time": "2022-04-06T16:50:49.320Z"
   },
   {
    "duration": 37,
    "start_time": "2022-04-06T16:50:49.495Z"
   },
   {
    "duration": 7,
    "start_time": "2022-04-06T16:50:49.534Z"
   },
   {
    "duration": 26,
    "start_time": "2022-04-06T16:50:49.542Z"
   },
   {
    "duration": 5,
    "start_time": "2022-04-06T16:50:49.570Z"
   },
   {
    "duration": 11,
    "start_time": "2022-04-06T16:50:49.577Z"
   },
   {
    "duration": 12,
    "start_time": "2022-04-06T16:50:49.590Z"
   },
   {
    "duration": 7,
    "start_time": "2022-04-06T16:50:49.604Z"
   },
   {
    "duration": 16,
    "start_time": "2022-04-06T16:50:49.612Z"
   },
   {
    "duration": 17,
    "start_time": "2022-04-06T16:50:49.629Z"
   },
   {
    "duration": 10,
    "start_time": "2022-04-06T16:50:49.648Z"
   },
   {
    "duration": 11,
    "start_time": "2022-04-06T16:50:49.662Z"
   },
   {
    "duration": 7,
    "start_time": "2022-04-06T16:50:49.675Z"
   },
   {
    "duration": 4,
    "start_time": "2022-04-06T16:50:49.684Z"
   },
   {
    "duration": 6,
    "start_time": "2022-04-06T16:50:49.690Z"
   },
   {
    "duration": 7,
    "start_time": "2022-04-06T16:50:49.697Z"
   },
   {
    "duration": 5,
    "start_time": "2022-04-06T16:50:49.705Z"
   },
   {
    "duration": 6,
    "start_time": "2022-04-06T16:50:49.714Z"
   },
   {
    "duration": 3,
    "start_time": "2022-04-06T16:50:49.721Z"
   },
   {
    "duration": 3,
    "start_time": "2022-04-06T16:50:49.763Z"
   },
   {
    "duration": 18,
    "start_time": "2022-04-06T16:50:49.767Z"
   },
   {
    "duration": 25,
    "start_time": "2022-04-06T16:50:49.787Z"
   },
   {
    "duration": 5,
    "start_time": "2022-04-06T16:50:49.813Z"
   },
   {
    "duration": 8,
    "start_time": "2022-04-06T16:50:49.820Z"
   },
   {
    "duration": 4,
    "start_time": "2022-04-06T16:50:49.829Z"
   },
   {
    "duration": 5,
    "start_time": "2022-04-06T16:50:49.835Z"
   },
   {
    "duration": 19,
    "start_time": "2022-04-06T16:50:49.862Z"
   },
   {
    "duration": 18,
    "start_time": "2022-04-06T16:50:49.883Z"
   },
   {
    "duration": 16,
    "start_time": "2022-04-06T16:50:49.903Z"
   },
   {
    "duration": 4,
    "start_time": "2022-04-06T16:50:49.921Z"
   },
   {
    "duration": 38,
    "start_time": "2022-04-06T16:50:49.926Z"
   },
   {
    "duration": 3,
    "start_time": "2022-04-06T16:50:49.966Z"
   },
   {
    "duration": 6,
    "start_time": "2022-04-06T16:50:49.970Z"
   },
   {
    "duration": 13,
    "start_time": "2022-04-06T16:50:49.977Z"
   },
   {
    "duration": 11,
    "start_time": "2022-04-06T16:50:49.992Z"
   },
   {
    "duration": 19,
    "start_time": "2022-04-06T16:50:50.005Z"
   },
   {
    "duration": 5,
    "start_time": "2022-04-06T16:50:50.026Z"
   },
   {
    "duration": 39,
    "start_time": "2022-04-06T16:50:50.033Z"
   },
   {
    "duration": 16,
    "start_time": "2022-04-06T16:50:50.074Z"
   },
   {
    "duration": 7,
    "start_time": "2022-04-06T16:50:50.092Z"
   },
   {
    "duration": 137,
    "start_time": "2022-04-06T16:50:50.100Z"
   },
   {
    "duration": 0,
    "start_time": "2022-04-06T16:50:50.239Z"
   },
   {
    "duration": 0,
    "start_time": "2022-04-06T16:50:50.241Z"
   },
   {
    "duration": 0,
    "start_time": "2022-04-06T16:50:50.242Z"
   },
   {
    "duration": 0,
    "start_time": "2022-04-06T16:50:50.243Z"
   },
   {
    "duration": 0,
    "start_time": "2022-04-06T16:50:50.245Z"
   },
   {
    "duration": 0,
    "start_time": "2022-04-06T16:50:50.246Z"
   },
   {
    "duration": 0,
    "start_time": "2022-04-06T16:50:50.247Z"
   },
   {
    "duration": 0,
    "start_time": "2022-04-06T16:50:50.249Z"
   },
   {
    "duration": 0,
    "start_time": "2022-04-06T16:50:50.251Z"
   },
   {
    "duration": 0,
    "start_time": "2022-04-06T16:50:50.252Z"
   },
   {
    "duration": 0,
    "start_time": "2022-04-06T16:50:50.253Z"
   },
   {
    "duration": 0,
    "start_time": "2022-04-06T16:50:50.255Z"
   },
   {
    "duration": 0,
    "start_time": "2022-04-06T16:50:50.256Z"
   },
   {
    "duration": 0,
    "start_time": "2022-04-06T16:50:50.257Z"
   },
   {
    "duration": 0,
    "start_time": "2022-04-06T16:50:50.259Z"
   },
   {
    "duration": 0,
    "start_time": "2022-04-06T16:50:50.260Z"
   },
   {
    "duration": 0,
    "start_time": "2022-04-06T16:50:50.262Z"
   },
   {
    "duration": 0,
    "start_time": "2022-04-06T16:50:50.263Z"
   },
   {
    "duration": 0,
    "start_time": "2022-04-06T16:50:50.264Z"
   },
   {
    "duration": 0,
    "start_time": "2022-04-06T16:50:50.266Z"
   },
   {
    "duration": 0,
    "start_time": "2022-04-06T16:50:50.267Z"
   },
   {
    "duration": 0,
    "start_time": "2022-04-06T16:50:50.268Z"
   },
   {
    "duration": 0,
    "start_time": "2022-04-06T16:50:50.270Z"
   },
   {
    "duration": 0,
    "start_time": "2022-04-06T16:50:50.271Z"
   },
   {
    "duration": 0,
    "start_time": "2022-04-06T16:50:50.272Z"
   },
   {
    "duration": 0,
    "start_time": "2022-04-06T16:50:50.274Z"
   },
   {
    "duration": 23,
    "start_time": "2022-04-06T16:51:52.181Z"
   },
   {
    "duration": 5,
    "start_time": "2022-04-06T16:51:55.915Z"
   },
   {
    "duration": 8,
    "start_time": "2022-04-06T16:53:25.204Z"
   },
   {
    "duration": 5,
    "start_time": "2022-04-06T16:53:26.344Z"
   },
   {
    "duration": 27,
    "start_time": "2022-04-06T17:13:21.119Z"
   },
   {
    "duration": 1227,
    "start_time": "2022-04-06T17:13:29.999Z"
   },
   {
    "duration": 5,
    "start_time": "2022-04-06T17:13:31.228Z"
   },
   {
    "duration": 24,
    "start_time": "2022-04-06T17:13:31.235Z"
   },
   {
    "duration": 17,
    "start_time": "2022-04-06T17:13:31.261Z"
   },
   {
    "duration": 19,
    "start_time": "2022-04-06T17:13:31.280Z"
   },
   {
    "duration": 9,
    "start_time": "2022-04-06T17:13:31.301Z"
   },
   {
    "duration": 8,
    "start_time": "2022-04-06T17:13:31.312Z"
   },
   {
    "duration": 15,
    "start_time": "2022-04-06T17:13:31.321Z"
   },
   {
    "duration": 27,
    "start_time": "2022-04-06T17:13:31.337Z"
   },
   {
    "duration": 15,
    "start_time": "2022-04-06T17:13:31.367Z"
   },
   {
    "duration": 160,
    "start_time": "2022-04-06T17:13:31.383Z"
   },
   {
    "duration": 46,
    "start_time": "2022-04-06T17:13:31.545Z"
   },
   {
    "duration": 8,
    "start_time": "2022-04-06T17:13:31.592Z"
   },
   {
    "duration": 22,
    "start_time": "2022-04-06T17:13:31.601Z"
   },
   {
    "duration": 5,
    "start_time": "2022-04-06T17:13:31.625Z"
   },
   {
    "duration": 22,
    "start_time": "2022-04-06T17:13:31.632Z"
   },
   {
    "duration": 10,
    "start_time": "2022-04-06T17:13:31.656Z"
   },
   {
    "duration": 9,
    "start_time": "2022-04-06T17:13:31.668Z"
   },
   {
    "duration": 5,
    "start_time": "2022-04-06T17:13:31.678Z"
   },
   {
    "duration": 6,
    "start_time": "2022-04-06T17:13:31.685Z"
   },
   {
    "duration": 13,
    "start_time": "2022-04-06T17:13:31.692Z"
   },
   {
    "duration": 10,
    "start_time": "2022-04-06T17:13:31.707Z"
   },
   {
    "duration": 6,
    "start_time": "2022-04-06T17:13:31.718Z"
   },
   {
    "duration": 10,
    "start_time": "2022-04-06T17:13:31.725Z"
   },
   {
    "duration": 6,
    "start_time": "2022-04-06T17:13:31.737Z"
   },
   {
    "duration": 5,
    "start_time": "2022-04-06T17:13:31.763Z"
   },
   {
    "duration": 6,
    "start_time": "2022-04-06T17:13:31.769Z"
   },
   {
    "duration": 6,
    "start_time": "2022-04-06T17:13:31.778Z"
   },
   {
    "duration": 6,
    "start_time": "2022-04-06T17:13:31.785Z"
   },
   {
    "duration": 8,
    "start_time": "2022-04-06T17:13:31.792Z"
   },
   {
    "duration": 10,
    "start_time": "2022-04-06T17:13:31.802Z"
   },
   {
    "duration": 13,
    "start_time": "2022-04-06T17:13:31.814Z"
   },
   {
    "duration": 7,
    "start_time": "2022-04-06T17:13:31.829Z"
   },
   {
    "duration": 14,
    "start_time": "2022-04-06T17:13:31.837Z"
   },
   {
    "duration": 2,
    "start_time": "2022-04-06T17:13:31.863Z"
   },
   {
    "duration": 4,
    "start_time": "2022-04-06T17:13:31.866Z"
   },
   {
    "duration": 23,
    "start_time": "2022-04-06T17:13:31.872Z"
   },
   {
    "duration": 17,
    "start_time": "2022-04-06T17:13:31.897Z"
   },
   {
    "duration": 15,
    "start_time": "2022-04-06T17:13:31.916Z"
   },
   {
    "duration": 3,
    "start_time": "2022-04-06T17:13:31.932Z"
   },
   {
    "duration": 30,
    "start_time": "2022-04-06T17:13:31.937Z"
   },
   {
    "duration": 16,
    "start_time": "2022-04-06T17:13:31.969Z"
   },
   {
    "duration": 13,
    "start_time": "2022-04-06T17:13:31.987Z"
   },
   {
    "duration": 19,
    "start_time": "2022-04-06T17:13:32.002Z"
   },
   {
    "duration": 15,
    "start_time": "2022-04-06T17:13:32.023Z"
   },
   {
    "duration": 22,
    "start_time": "2022-04-06T17:13:32.039Z"
   },
   {
    "duration": 5,
    "start_time": "2022-04-06T17:13:32.062Z"
   },
   {
    "duration": 6,
    "start_time": "2022-04-06T17:13:32.069Z"
   },
   {
    "duration": 12,
    "start_time": "2022-04-06T17:13:32.076Z"
   },
   {
    "duration": 8,
    "start_time": "2022-04-06T17:13:32.089Z"
   },
   {
    "duration": 121,
    "start_time": "2022-04-06T17:13:32.099Z"
   },
   {
    "duration": 0,
    "start_time": "2022-04-06T17:13:32.222Z"
   },
   {
    "duration": 0,
    "start_time": "2022-04-06T17:13:32.223Z"
   },
   {
    "duration": 0,
    "start_time": "2022-04-06T17:13:32.223Z"
   },
   {
    "duration": 0,
    "start_time": "2022-04-06T17:13:32.225Z"
   },
   {
    "duration": 0,
    "start_time": "2022-04-06T17:13:32.226Z"
   },
   {
    "duration": 0,
    "start_time": "2022-04-06T17:13:32.228Z"
   },
   {
    "duration": 0,
    "start_time": "2022-04-06T17:13:32.229Z"
   },
   {
    "duration": 0,
    "start_time": "2022-04-06T17:13:32.230Z"
   },
   {
    "duration": 0,
    "start_time": "2022-04-06T17:13:32.231Z"
   },
   {
    "duration": 0,
    "start_time": "2022-04-06T17:13:32.233Z"
   },
   {
    "duration": 0,
    "start_time": "2022-04-06T17:13:32.235Z"
   },
   {
    "duration": 0,
    "start_time": "2022-04-06T17:13:32.236Z"
   },
   {
    "duration": 0,
    "start_time": "2022-04-06T17:13:32.237Z"
   },
   {
    "duration": 0,
    "start_time": "2022-04-06T17:13:32.239Z"
   },
   {
    "duration": 0,
    "start_time": "2022-04-06T17:13:32.240Z"
   },
   {
    "duration": 0,
    "start_time": "2022-04-06T17:13:32.241Z"
   },
   {
    "duration": 0,
    "start_time": "2022-04-06T17:13:32.242Z"
   },
   {
    "duration": 0,
    "start_time": "2022-04-06T17:13:32.244Z"
   },
   {
    "duration": 0,
    "start_time": "2022-04-06T17:13:32.245Z"
   },
   {
    "duration": 0,
    "start_time": "2022-04-06T17:13:32.246Z"
   },
   {
    "duration": 0,
    "start_time": "2022-04-06T17:13:32.247Z"
   },
   {
    "duration": 0,
    "start_time": "2022-04-06T17:13:32.248Z"
   },
   {
    "duration": 0,
    "start_time": "2022-04-06T17:13:32.250Z"
   },
   {
    "duration": 0,
    "start_time": "2022-04-06T17:13:32.251Z"
   },
   {
    "duration": 0,
    "start_time": "2022-04-06T17:13:32.252Z"
   },
   {
    "duration": 0,
    "start_time": "2022-04-06T17:13:32.254Z"
   },
   {
    "duration": 4,
    "start_time": "2022-04-06T17:14:05.299Z"
   },
   {
    "duration": 1238,
    "start_time": "2022-04-06T17:14:15.061Z"
   },
   {
    "duration": 5,
    "start_time": "2022-04-06T17:14:16.301Z"
   },
   {
    "duration": 17,
    "start_time": "2022-04-06T17:14:16.307Z"
   },
   {
    "duration": 14,
    "start_time": "2022-04-06T17:14:16.325Z"
   },
   {
    "duration": 34,
    "start_time": "2022-04-06T17:14:16.340Z"
   },
   {
    "duration": 9,
    "start_time": "2022-04-06T17:14:16.375Z"
   },
   {
    "duration": 5,
    "start_time": "2022-04-06T17:14:16.385Z"
   },
   {
    "duration": 16,
    "start_time": "2022-04-06T17:14:16.392Z"
   },
   {
    "duration": 7,
    "start_time": "2022-04-06T17:14:16.409Z"
   },
   {
    "duration": 51,
    "start_time": "2022-04-06T17:14:16.418Z"
   },
   {
    "duration": 146,
    "start_time": "2022-04-06T17:14:16.470Z"
   },
   {
    "duration": 36,
    "start_time": "2022-04-06T17:14:16.617Z"
   },
   {
    "duration": 6,
    "start_time": "2022-04-06T17:14:16.662Z"
   },
   {
    "duration": 7,
    "start_time": "2022-04-06T17:14:16.670Z"
   },
   {
    "duration": 4,
    "start_time": "2022-04-06T17:14:16.679Z"
   },
   {
    "duration": 9,
    "start_time": "2022-04-06T17:14:16.685Z"
   },
   {
    "duration": 9,
    "start_time": "2022-04-06T17:14:16.695Z"
   },
   {
    "duration": 5,
    "start_time": "2022-04-06T17:14:16.705Z"
   },
   {
    "duration": 6,
    "start_time": "2022-04-06T17:14:16.711Z"
   },
   {
    "duration": 7,
    "start_time": "2022-04-06T17:14:16.719Z"
   },
   {
    "duration": 37,
    "start_time": "2022-04-06T17:14:16.727Z"
   },
   {
    "duration": 10,
    "start_time": "2022-04-06T17:14:16.765Z"
   },
   {
    "duration": 6,
    "start_time": "2022-04-06T17:14:16.776Z"
   },
   {
    "duration": 9,
    "start_time": "2022-04-06T17:14:16.783Z"
   },
   {
    "duration": 8,
    "start_time": "2022-04-06T17:14:16.793Z"
   },
   {
    "duration": 9,
    "start_time": "2022-04-06T17:14:16.803Z"
   },
   {
    "duration": 5,
    "start_time": "2022-04-06T17:14:16.814Z"
   },
   {
    "duration": 40,
    "start_time": "2022-04-06T17:14:16.823Z"
   },
   {
    "duration": 3,
    "start_time": "2022-04-06T17:14:16.864Z"
   },
   {
    "duration": 5,
    "start_time": "2022-04-06T17:14:16.868Z"
   },
   {
    "duration": 8,
    "start_time": "2022-04-06T17:14:16.874Z"
   },
   {
    "duration": 10,
    "start_time": "2022-04-06T17:14:16.883Z"
   },
   {
    "duration": 5,
    "start_time": "2022-04-06T17:14:16.894Z"
   },
   {
    "duration": 9,
    "start_time": "2022-04-06T17:14:16.900Z"
   },
   {
    "duration": 6,
    "start_time": "2022-04-06T17:14:16.910Z"
   },
   {
    "duration": 5,
    "start_time": "2022-04-06T17:14:16.918Z"
   },
   {
    "duration": 39,
    "start_time": "2022-04-06T17:14:16.925Z"
   },
   {
    "duration": 17,
    "start_time": "2022-04-06T17:14:16.966Z"
   },
   {
    "duration": 14,
    "start_time": "2022-04-06T17:14:16.985Z"
   },
   {
    "duration": 4,
    "start_time": "2022-04-06T17:14:17.001Z"
   },
   {
    "duration": 9,
    "start_time": "2022-04-06T17:14:17.007Z"
   },
   {
    "duration": 6,
    "start_time": "2022-04-06T17:14:17.017Z"
   },
   {
    "duration": 5,
    "start_time": "2022-04-06T17:14:17.024Z"
   },
   {
    "duration": 37,
    "start_time": "2022-04-06T17:14:17.031Z"
   },
   {
    "duration": 7,
    "start_time": "2022-04-06T17:14:17.069Z"
   },
   {
    "duration": 18,
    "start_time": "2022-04-06T17:14:17.077Z"
   },
   {
    "duration": 4,
    "start_time": "2022-04-06T17:14:17.096Z"
   },
   {
    "duration": 18,
    "start_time": "2022-04-06T17:14:17.102Z"
   },
   {
    "duration": 23,
    "start_time": "2022-04-06T17:14:17.122Z"
   },
   {
    "duration": 21,
    "start_time": "2022-04-06T17:14:17.147Z"
   },
   {
    "duration": 132,
    "start_time": "2022-04-06T17:14:17.170Z"
   },
   {
    "duration": 0,
    "start_time": "2022-04-06T17:14:17.304Z"
   },
   {
    "duration": 0,
    "start_time": "2022-04-06T17:14:17.305Z"
   },
   {
    "duration": 0,
    "start_time": "2022-04-06T17:14:17.306Z"
   },
   {
    "duration": 0,
    "start_time": "2022-04-06T17:14:17.307Z"
   },
   {
    "duration": 0,
    "start_time": "2022-04-06T17:14:17.308Z"
   },
   {
    "duration": 0,
    "start_time": "2022-04-06T17:14:17.309Z"
   },
   {
    "duration": 0,
    "start_time": "2022-04-06T17:14:17.310Z"
   },
   {
    "duration": 0,
    "start_time": "2022-04-06T17:14:17.311Z"
   },
   {
    "duration": 0,
    "start_time": "2022-04-06T17:14:17.313Z"
   },
   {
    "duration": 0,
    "start_time": "2022-04-06T17:14:17.313Z"
   },
   {
    "duration": 0,
    "start_time": "2022-04-06T17:14:17.314Z"
   },
   {
    "duration": 0,
    "start_time": "2022-04-06T17:14:17.315Z"
   },
   {
    "duration": 0,
    "start_time": "2022-04-06T17:14:17.316Z"
   },
   {
    "duration": 0,
    "start_time": "2022-04-06T17:14:17.318Z"
   },
   {
    "duration": 0,
    "start_time": "2022-04-06T17:14:17.319Z"
   },
   {
    "duration": 0,
    "start_time": "2022-04-06T17:14:17.320Z"
   },
   {
    "duration": 0,
    "start_time": "2022-04-06T17:14:17.321Z"
   },
   {
    "duration": 0,
    "start_time": "2022-04-06T17:14:17.322Z"
   },
   {
    "duration": 0,
    "start_time": "2022-04-06T17:14:17.323Z"
   },
   {
    "duration": 0,
    "start_time": "2022-04-06T17:14:17.323Z"
   },
   {
    "duration": 0,
    "start_time": "2022-04-06T17:14:17.325Z"
   },
   {
    "duration": 0,
    "start_time": "2022-04-06T17:14:17.326Z"
   },
   {
    "duration": 0,
    "start_time": "2022-04-06T17:14:17.327Z"
   },
   {
    "duration": 0,
    "start_time": "2022-04-06T17:14:17.328Z"
   },
   {
    "duration": 1,
    "start_time": "2022-04-06T17:14:17.328Z"
   },
   {
    "duration": 0,
    "start_time": "2022-04-06T17:14:17.330Z"
   },
   {
    "duration": 7,
    "start_time": "2022-04-06T17:15:18.377Z"
   },
   {
    "duration": 1505,
    "start_time": "2022-04-06T17:15:29.608Z"
   },
   {
    "duration": 5,
    "start_time": "2022-04-06T17:15:31.116Z"
   },
   {
    "duration": 33,
    "start_time": "2022-04-06T17:15:31.123Z"
   },
   {
    "duration": 48,
    "start_time": "2022-04-06T17:15:31.159Z"
   },
   {
    "duration": 25,
    "start_time": "2022-04-06T17:15:31.208Z"
   },
   {
    "duration": 15,
    "start_time": "2022-04-06T17:15:31.234Z"
   },
   {
    "duration": 8,
    "start_time": "2022-04-06T17:15:31.251Z"
   },
   {
    "duration": 24,
    "start_time": "2022-04-06T17:15:31.261Z"
   },
   {
    "duration": 8,
    "start_time": "2022-04-06T17:15:31.287Z"
   },
   {
    "duration": 18,
    "start_time": "2022-04-06T17:15:31.298Z"
   },
   {
    "duration": 161,
    "start_time": "2022-04-06T17:15:31.317Z"
   },
   {
    "duration": 36,
    "start_time": "2022-04-06T17:15:31.480Z"
   },
   {
    "duration": 7,
    "start_time": "2022-04-06T17:15:31.518Z"
   },
   {
    "duration": 9,
    "start_time": "2022-04-06T17:15:31.526Z"
   },
   {
    "duration": 30,
    "start_time": "2022-04-06T17:15:31.537Z"
   },
   {
    "duration": 18,
    "start_time": "2022-04-06T17:15:31.568Z"
   },
   {
    "duration": 9,
    "start_time": "2022-04-06T17:15:31.588Z"
   },
   {
    "duration": 9,
    "start_time": "2022-04-06T17:15:31.599Z"
   },
   {
    "duration": 7,
    "start_time": "2022-04-06T17:15:31.610Z"
   },
   {
    "duration": 7,
    "start_time": "2022-04-06T17:15:31.618Z"
   },
   {
    "duration": 8,
    "start_time": "2022-04-06T17:15:31.627Z"
   },
   {
    "duration": 28,
    "start_time": "2022-04-06T17:15:31.636Z"
   },
   {
    "duration": 6,
    "start_time": "2022-04-06T17:15:31.665Z"
   },
   {
    "duration": 4,
    "start_time": "2022-04-06T17:15:31.672Z"
   },
   {
    "duration": 7,
    "start_time": "2022-04-06T17:15:31.677Z"
   },
   {
    "duration": 15,
    "start_time": "2022-04-06T17:15:31.685Z"
   },
   {
    "duration": 8,
    "start_time": "2022-04-06T17:15:31.701Z"
   },
   {
    "duration": 10,
    "start_time": "2022-04-06T17:15:31.713Z"
   },
   {
    "duration": 6,
    "start_time": "2022-04-06T17:15:31.725Z"
   },
   {
    "duration": 8,
    "start_time": "2022-04-06T17:15:31.732Z"
   },
   {
    "duration": 22,
    "start_time": "2022-04-06T17:15:31.742Z"
   },
   {
    "duration": 17,
    "start_time": "2022-04-06T17:15:31.765Z"
   },
   {
    "duration": 20,
    "start_time": "2022-04-06T17:15:31.783Z"
   },
   {
    "duration": 11,
    "start_time": "2022-04-06T17:15:31.804Z"
   },
   {
    "duration": 9,
    "start_time": "2022-04-06T17:15:31.816Z"
   },
   {
    "duration": 9,
    "start_time": "2022-04-06T17:15:31.827Z"
   },
   {
    "duration": 30,
    "start_time": "2022-04-06T17:15:31.837Z"
   },
   {
    "duration": 19,
    "start_time": "2022-04-06T17:15:31.868Z"
   },
   {
    "duration": 17,
    "start_time": "2022-04-06T17:15:31.889Z"
   },
   {
    "duration": 4,
    "start_time": "2022-04-06T17:15:31.907Z"
   },
   {
    "duration": 17,
    "start_time": "2022-04-06T17:15:31.913Z"
   },
   {
    "duration": 32,
    "start_time": "2022-04-06T17:15:31.931Z"
   },
   {
    "duration": 16,
    "start_time": "2022-04-06T17:15:31.965Z"
   },
   {
    "duration": 17,
    "start_time": "2022-04-06T17:15:31.982Z"
   },
   {
    "duration": 19,
    "start_time": "2022-04-06T17:15:32.001Z"
   },
   {
    "duration": 24,
    "start_time": "2022-04-06T17:15:32.021Z"
   },
   {
    "duration": 4,
    "start_time": "2022-04-06T17:15:32.046Z"
   },
   {
    "duration": 10,
    "start_time": "2022-04-06T17:15:32.052Z"
   },
   {
    "duration": 12,
    "start_time": "2022-04-06T17:15:32.063Z"
   },
   {
    "duration": 14,
    "start_time": "2022-04-06T17:15:32.076Z"
   },
   {
    "duration": 133,
    "start_time": "2022-04-06T17:15:32.091Z"
   },
   {
    "duration": 0,
    "start_time": "2022-04-06T17:15:32.226Z"
   },
   {
    "duration": 0,
    "start_time": "2022-04-06T17:15:32.227Z"
   },
   {
    "duration": 0,
    "start_time": "2022-04-06T17:15:32.228Z"
   },
   {
    "duration": 0,
    "start_time": "2022-04-06T17:15:32.230Z"
   },
   {
    "duration": 0,
    "start_time": "2022-04-06T17:15:32.231Z"
   },
   {
    "duration": 0,
    "start_time": "2022-04-06T17:15:32.233Z"
   },
   {
    "duration": 0,
    "start_time": "2022-04-06T17:15:32.234Z"
   },
   {
    "duration": 0,
    "start_time": "2022-04-06T17:15:32.236Z"
   },
   {
    "duration": 0,
    "start_time": "2022-04-06T17:15:32.237Z"
   },
   {
    "duration": 0,
    "start_time": "2022-04-06T17:15:32.238Z"
   },
   {
    "duration": 0,
    "start_time": "2022-04-06T17:15:32.239Z"
   },
   {
    "duration": 0,
    "start_time": "2022-04-06T17:15:32.240Z"
   },
   {
    "duration": 0,
    "start_time": "2022-04-06T17:15:32.241Z"
   },
   {
    "duration": 0,
    "start_time": "2022-04-06T17:15:32.242Z"
   },
   {
    "duration": 0,
    "start_time": "2022-04-06T17:15:32.244Z"
   },
   {
    "duration": 0,
    "start_time": "2022-04-06T17:15:32.245Z"
   },
   {
    "duration": 0,
    "start_time": "2022-04-06T17:15:32.246Z"
   },
   {
    "duration": 0,
    "start_time": "2022-04-06T17:15:32.248Z"
   },
   {
    "duration": 0,
    "start_time": "2022-04-06T17:15:32.249Z"
   },
   {
    "duration": 0,
    "start_time": "2022-04-06T17:15:32.250Z"
   },
   {
    "duration": 0,
    "start_time": "2022-04-06T17:15:32.252Z"
   },
   {
    "duration": 0,
    "start_time": "2022-04-06T17:15:32.253Z"
   },
   {
    "duration": 0,
    "start_time": "2022-04-06T17:15:32.254Z"
   },
   {
    "duration": 0,
    "start_time": "2022-04-06T17:15:32.255Z"
   },
   {
    "duration": 0,
    "start_time": "2022-04-06T17:15:32.257Z"
   },
   {
    "duration": 0,
    "start_time": "2022-04-06T17:15:32.258Z"
   },
   {
    "duration": 100,
    "start_time": "2022-04-06T17:17:17.971Z"
   },
   {
    "duration": 4,
    "start_time": "2022-04-06T17:17:32.454Z"
   },
   {
    "duration": 4,
    "start_time": "2022-04-06T17:17:47.836Z"
   },
   {
    "duration": 3,
    "start_time": "2022-04-06T17:17:55.882Z"
   },
   {
    "duration": 120,
    "start_time": "2022-04-06T17:19:06.827Z"
   },
   {
    "duration": 9,
    "start_time": "2022-04-06T17:19:14.271Z"
   },
   {
    "duration": 136,
    "start_time": "2022-04-06T17:19:29.200Z"
   },
   {
    "duration": 129,
    "start_time": "2022-04-06T17:19:35.129Z"
   },
   {
    "duration": 8,
    "start_time": "2022-04-06T17:19:41.342Z"
   },
   {
    "duration": 3,
    "start_time": "2022-04-06T17:21:44.937Z"
   },
   {
    "duration": 3,
    "start_time": "2022-04-06T17:21:45.724Z"
   },
   {
    "duration": 3,
    "start_time": "2022-04-06T17:21:57.850Z"
   },
   {
    "duration": 15,
    "start_time": "2022-04-06T17:25:00.248Z"
   },
   {
    "duration": 16,
    "start_time": "2022-04-06T17:25:27.678Z"
   },
   {
    "duration": 14,
    "start_time": "2022-04-06T17:27:47.696Z"
   },
   {
    "duration": 14,
    "start_time": "2022-04-06T17:28:09.914Z"
   },
   {
    "duration": 14,
    "start_time": "2022-04-06T17:28:27.797Z"
   },
   {
    "duration": 157,
    "start_time": "2022-04-06T17:32:41.161Z"
   },
   {
    "duration": 22,
    "start_time": "2022-04-06T17:33:31.266Z"
   },
   {
    "duration": 12,
    "start_time": "2022-04-06T17:33:56.532Z"
   },
   {
    "duration": 13,
    "start_time": "2022-04-06T17:34:01.614Z"
   },
   {
    "duration": 4,
    "start_time": "2022-04-06T17:48:15.990Z"
   },
   {
    "duration": 6,
    "start_time": "2022-04-06T17:50:32.002Z"
   },
   {
    "duration": 5,
    "start_time": "2022-04-06T17:51:04.875Z"
   },
   {
    "duration": 9,
    "start_time": "2022-04-06T17:51:58.396Z"
   },
   {
    "duration": 9,
    "start_time": "2022-04-06T17:52:05.185Z"
   },
   {
    "duration": 21,
    "start_time": "2022-04-06T17:52:50.880Z"
   },
   {
    "duration": 2,
    "start_time": "2022-04-06T17:54:09.675Z"
   },
   {
    "duration": 14,
    "start_time": "2022-04-06T17:55:03.819Z"
   },
   {
    "duration": 11,
    "start_time": "2022-04-06T17:55:52.371Z"
   },
   {
    "duration": 4,
    "start_time": "2022-04-06T17:57:07.561Z"
   },
   {
    "duration": 3,
    "start_time": "2022-04-06T17:57:43.103Z"
   },
   {
    "duration": 4,
    "start_time": "2022-04-06T17:59:10.619Z"
   },
   {
    "duration": 5,
    "start_time": "2022-04-06T18:01:00.200Z"
   },
   {
    "duration": 25,
    "start_time": "2022-04-06T18:03:32.392Z"
   },
   {
    "duration": 8,
    "start_time": "2022-04-06T18:05:48.073Z"
   },
   {
    "duration": 2,
    "start_time": "2022-04-06T18:07:25.125Z"
   },
   {
    "duration": 4,
    "start_time": "2022-04-06T18:07:26.048Z"
   },
   {
    "duration": 1168,
    "start_time": "2022-04-06T18:07:35.052Z"
   },
   {
    "duration": 5,
    "start_time": "2022-04-06T18:07:36.222Z"
   },
   {
    "duration": 24,
    "start_time": "2022-04-06T18:07:36.229Z"
   },
   {
    "duration": 15,
    "start_time": "2022-04-06T18:07:36.254Z"
   },
   {
    "duration": 19,
    "start_time": "2022-04-06T18:07:36.271Z"
   },
   {
    "duration": 10,
    "start_time": "2022-04-06T18:07:36.292Z"
   },
   {
    "duration": 7,
    "start_time": "2022-04-06T18:07:36.303Z"
   },
   {
    "duration": 13,
    "start_time": "2022-04-06T18:07:36.312Z"
   },
   {
    "duration": 41,
    "start_time": "2022-04-06T18:07:36.327Z"
   },
   {
    "duration": 21,
    "start_time": "2022-04-06T18:07:36.370Z"
   },
   {
    "duration": 232,
    "start_time": "2022-04-06T18:07:36.393Z"
   },
   {
    "duration": 42,
    "start_time": "2022-04-06T18:07:36.626Z"
   },
   {
    "duration": 7,
    "start_time": "2022-04-06T18:07:36.670Z"
   },
   {
    "duration": 7,
    "start_time": "2022-04-06T18:07:36.680Z"
   },
   {
    "duration": 4,
    "start_time": "2022-04-06T18:07:36.689Z"
   },
   {
    "duration": 13,
    "start_time": "2022-04-06T18:07:36.695Z"
   },
   {
    "duration": 7,
    "start_time": "2022-04-06T18:07:36.709Z"
   },
   {
    "duration": 9,
    "start_time": "2022-04-06T18:07:36.717Z"
   },
   {
    "duration": 37,
    "start_time": "2022-04-06T18:07:36.727Z"
   },
   {
    "duration": 4,
    "start_time": "2022-04-06T18:07:36.765Z"
   },
   {
    "duration": 9,
    "start_time": "2022-04-06T18:07:36.771Z"
   },
   {
    "duration": 9,
    "start_time": "2022-04-06T18:07:36.782Z"
   },
   {
    "duration": 7,
    "start_time": "2022-04-06T18:07:36.792Z"
   },
   {
    "duration": 4,
    "start_time": "2022-04-06T18:07:36.801Z"
   },
   {
    "duration": 5,
    "start_time": "2022-04-06T18:07:36.807Z"
   },
   {
    "duration": 6,
    "start_time": "2022-04-06T18:07:36.814Z"
   },
   {
    "duration": 43,
    "start_time": "2022-04-06T18:07:36.821Z"
   },
   {
    "duration": 5,
    "start_time": "2022-04-06T18:07:36.866Z"
   },
   {
    "duration": 4,
    "start_time": "2022-04-06T18:07:36.873Z"
   },
   {
    "duration": 4,
    "start_time": "2022-04-06T18:07:36.878Z"
   },
   {
    "duration": 6,
    "start_time": "2022-04-06T18:07:36.884Z"
   },
   {
    "duration": 9,
    "start_time": "2022-04-06T18:07:36.892Z"
   },
   {
    "duration": 5,
    "start_time": "2022-04-06T18:07:36.903Z"
   },
   {
    "duration": 8,
    "start_time": "2022-04-06T18:07:36.910Z"
   },
   {
    "duration": 4,
    "start_time": "2022-04-06T18:07:36.920Z"
   },
   {
    "duration": 39,
    "start_time": "2022-04-06T18:07:36.925Z"
   },
   {
    "duration": 18,
    "start_time": "2022-04-06T18:07:36.966Z"
   },
   {
    "duration": 18,
    "start_time": "2022-04-06T18:07:36.986Z"
   },
   {
    "duration": 15,
    "start_time": "2022-04-06T18:07:37.006Z"
   },
   {
    "duration": 3,
    "start_time": "2022-04-06T18:07:37.022Z"
   },
   {
    "duration": 34,
    "start_time": "2022-04-06T18:07:37.030Z"
   },
   {
    "duration": 7,
    "start_time": "2022-04-06T18:07:37.066Z"
   },
   {
    "duration": 5,
    "start_time": "2022-04-06T18:07:37.074Z"
   },
   {
    "duration": 104,
    "start_time": "2022-04-06T18:07:37.080Z"
   },
   {
    "duration": 0,
    "start_time": "2022-04-06T18:07:37.186Z"
   },
   {
    "duration": 0,
    "start_time": "2022-04-06T18:07:37.187Z"
   },
   {
    "duration": 0,
    "start_time": "2022-04-06T18:07:37.188Z"
   },
   {
    "duration": 0,
    "start_time": "2022-04-06T18:07:37.189Z"
   },
   {
    "duration": 0,
    "start_time": "2022-04-06T18:07:37.189Z"
   },
   {
    "duration": 0,
    "start_time": "2022-04-06T18:07:37.190Z"
   },
   {
    "duration": 0,
    "start_time": "2022-04-06T18:07:37.191Z"
   },
   {
    "duration": 0,
    "start_time": "2022-04-06T18:07:37.192Z"
   },
   {
    "duration": 0,
    "start_time": "2022-04-06T18:07:37.193Z"
   },
   {
    "duration": 0,
    "start_time": "2022-04-06T18:07:37.193Z"
   },
   {
    "duration": 0,
    "start_time": "2022-04-06T18:07:37.195Z"
   },
   {
    "duration": 0,
    "start_time": "2022-04-06T18:07:37.195Z"
   },
   {
    "duration": 0,
    "start_time": "2022-04-06T18:07:37.196Z"
   },
   {
    "duration": 0,
    "start_time": "2022-04-06T18:07:37.197Z"
   },
   {
    "duration": 0,
    "start_time": "2022-04-06T18:07:37.198Z"
   },
   {
    "duration": 0,
    "start_time": "2022-04-06T18:07:37.199Z"
   },
   {
    "duration": 0,
    "start_time": "2022-04-06T18:07:37.200Z"
   },
   {
    "duration": 0,
    "start_time": "2022-04-06T18:07:37.201Z"
   },
   {
    "duration": 0,
    "start_time": "2022-04-06T18:07:37.201Z"
   },
   {
    "duration": 0,
    "start_time": "2022-04-06T18:07:37.202Z"
   },
   {
    "duration": 0,
    "start_time": "2022-04-06T18:07:37.203Z"
   },
   {
    "duration": 0,
    "start_time": "2022-04-06T18:07:37.204Z"
   },
   {
    "duration": 0,
    "start_time": "2022-04-06T18:07:37.205Z"
   },
   {
    "duration": 0,
    "start_time": "2022-04-06T18:07:37.205Z"
   },
   {
    "duration": 0,
    "start_time": "2022-04-06T18:07:37.206Z"
   },
   {
    "duration": 0,
    "start_time": "2022-04-06T18:07:37.207Z"
   },
   {
    "duration": 0,
    "start_time": "2022-04-06T18:07:37.208Z"
   },
   {
    "duration": 0,
    "start_time": "2022-04-06T18:07:37.209Z"
   },
   {
    "duration": 0,
    "start_time": "2022-04-06T18:07:37.210Z"
   },
   {
    "duration": 0,
    "start_time": "2022-04-06T18:07:37.211Z"
   },
   {
    "duration": 0,
    "start_time": "2022-04-06T18:07:37.212Z"
   },
   {
    "duration": 0,
    "start_time": "2022-04-06T18:07:37.213Z"
   },
   {
    "duration": 0,
    "start_time": "2022-04-06T18:07:37.213Z"
   },
   {
    "duration": 0,
    "start_time": "2022-04-06T18:07:37.263Z"
   },
   {
    "duration": 4,
    "start_time": "2022-04-06T18:07:58.956Z"
   },
   {
    "duration": 9,
    "start_time": "2022-04-06T18:08:03.511Z"
   },
   {
    "duration": 9,
    "start_time": "2022-04-06T18:08:16.401Z"
   },
   {
    "duration": 8,
    "start_time": "2022-04-06T18:08:25.795Z"
   },
   {
    "duration": 7,
    "start_time": "2022-04-06T18:08:39.605Z"
   },
   {
    "duration": 6,
    "start_time": "2022-04-06T18:08:48.544Z"
   },
   {
    "duration": 14,
    "start_time": "2022-04-06T18:09:45.115Z"
   },
   {
    "duration": 8,
    "start_time": "2022-04-06T18:09:54.814Z"
   },
   {
    "duration": 6,
    "start_time": "2022-04-06T18:09:56.679Z"
   },
   {
    "duration": 15,
    "start_time": "2022-04-06T18:11:53.316Z"
   },
   {
    "duration": 26,
    "start_time": "2022-04-06T18:12:45.696Z"
   },
   {
    "duration": 17,
    "start_time": "2022-04-06T18:12:57.271Z"
   },
   {
    "duration": 14,
    "start_time": "2022-04-06T18:13:10.705Z"
   },
   {
    "duration": 13,
    "start_time": "2022-04-06T18:13:18.139Z"
   },
   {
    "duration": 14,
    "start_time": "2022-04-06T18:13:21.160Z"
   },
   {
    "duration": 15,
    "start_time": "2022-04-06T18:13:23.009Z"
   },
   {
    "duration": 3,
    "start_time": "2022-04-06T18:15:10.891Z"
   },
   {
    "duration": 4,
    "start_time": "2022-04-06T18:15:11.881Z"
   },
   {
    "duration": 24,
    "start_time": "2022-04-06T18:15:13.826Z"
   },
   {
    "duration": 23,
    "start_time": "2022-04-06T18:16:12.072Z"
   },
   {
    "duration": 25,
    "start_time": "2022-04-06T18:16:23.461Z"
   },
   {
    "duration": 4,
    "start_time": "2022-04-06T18:17:44.303Z"
   },
   {
    "duration": 12,
    "start_time": "2022-04-06T18:17:46.957Z"
   },
   {
    "duration": 18,
    "start_time": "2022-04-06T18:21:43.610Z"
   },
   {
    "duration": 1718,
    "start_time": "2022-04-07T16:11:35.921Z"
   },
   {
    "duration": 8,
    "start_time": "2022-04-07T16:11:37.642Z"
   },
   {
    "duration": 33,
    "start_time": "2022-04-07T16:11:37.652Z"
   },
   {
    "duration": 21,
    "start_time": "2022-04-07T16:11:37.687Z"
   },
   {
    "duration": 28,
    "start_time": "2022-04-07T16:11:37.710Z"
   },
   {
    "duration": 38,
    "start_time": "2022-04-07T16:11:37.740Z"
   },
   {
    "duration": 11,
    "start_time": "2022-04-07T16:11:37.780Z"
   },
   {
    "duration": 17,
    "start_time": "2022-04-07T16:11:37.793Z"
   },
   {
    "duration": 9,
    "start_time": "2022-04-07T16:11:37.812Z"
   },
   {
    "duration": 59,
    "start_time": "2022-04-07T16:11:37.824Z"
   },
   {
    "duration": 241,
    "start_time": "2022-04-07T16:11:37.885Z"
   },
   {
    "duration": 66,
    "start_time": "2022-04-07T16:11:38.128Z"
   },
   {
    "duration": 10,
    "start_time": "2022-04-07T16:11:38.196Z"
   },
   {
    "duration": 12,
    "start_time": "2022-04-07T16:11:38.208Z"
   },
   {
    "duration": 7,
    "start_time": "2022-04-07T16:11:38.222Z"
   },
   {
    "duration": 43,
    "start_time": "2022-04-07T16:11:38.231Z"
   },
   {
    "duration": 6,
    "start_time": "2022-04-07T16:11:38.276Z"
   },
   {
    "duration": 10,
    "start_time": "2022-04-07T16:11:38.285Z"
   },
   {
    "duration": 8,
    "start_time": "2022-04-07T16:11:38.297Z"
   },
   {
    "duration": 8,
    "start_time": "2022-04-07T16:11:38.306Z"
   },
   {
    "duration": 12,
    "start_time": "2022-04-07T16:11:38.316Z"
   },
   {
    "duration": 50,
    "start_time": "2022-04-07T16:11:38.330Z"
   },
   {
    "duration": 8,
    "start_time": "2022-04-07T16:11:38.382Z"
   },
   {
    "duration": 6,
    "start_time": "2022-04-07T16:11:38.392Z"
   },
   {
    "duration": 8,
    "start_time": "2022-04-07T16:11:38.400Z"
   },
   {
    "duration": 7,
    "start_time": "2022-04-07T16:11:38.410Z"
   },
   {
    "duration": 50,
    "start_time": "2022-04-07T16:11:38.419Z"
   },
   {
    "duration": 6,
    "start_time": "2022-04-07T16:11:38.475Z"
   },
   {
    "duration": 5,
    "start_time": "2022-04-07T16:11:38.483Z"
   },
   {
    "duration": 5,
    "start_time": "2022-04-07T16:11:38.490Z"
   },
   {
    "duration": 8,
    "start_time": "2022-04-07T16:11:38.497Z"
   },
   {
    "duration": 12,
    "start_time": "2022-04-07T16:11:38.507Z"
   },
   {
    "duration": 49,
    "start_time": "2022-04-07T16:11:38.521Z"
   },
   {
    "duration": 10,
    "start_time": "2022-04-07T16:11:38.572Z"
   },
   {
    "duration": 5,
    "start_time": "2022-04-07T16:11:38.584Z"
   },
   {
    "duration": 6,
    "start_time": "2022-04-07T16:11:38.591Z"
   },
   {
    "duration": 43,
    "start_time": "2022-04-07T16:11:38.599Z"
   },
   {
    "duration": 46,
    "start_time": "2022-04-07T16:11:38.644Z"
   },
   {
    "duration": 23,
    "start_time": "2022-04-07T16:11:38.692Z"
   },
   {
    "duration": 4,
    "start_time": "2022-04-07T16:11:38.718Z"
   },
   {
    "duration": 5,
    "start_time": "2022-04-07T16:11:38.724Z"
   },
   {
    "duration": 12,
    "start_time": "2022-04-07T16:11:38.767Z"
   },
   {
    "duration": 5,
    "start_time": "2022-04-07T16:11:38.781Z"
   },
   {
    "duration": 8,
    "start_time": "2022-04-07T16:11:38.788Z"
   },
   {
    "duration": 28,
    "start_time": "2022-04-07T16:11:38.798Z"
   },
   {
    "duration": 40,
    "start_time": "2022-04-07T16:11:38.828Z"
   },
   {
    "duration": 40,
    "start_time": "2022-04-07T16:11:38.870Z"
   },
   {
    "duration": 18,
    "start_time": "2022-04-07T16:11:38.912Z"
   },
   {
    "duration": 42,
    "start_time": "2022-04-07T16:11:38.932Z"
   },
   {
    "duration": 18,
    "start_time": "2022-04-07T16:11:38.976Z"
   },
   {
    "duration": 19,
    "start_time": "2022-04-07T16:11:38.996Z"
   },
   {
    "duration": 5,
    "start_time": "2022-04-07T16:11:39.017Z"
   },
   {
    "duration": 174,
    "start_time": "2022-04-07T16:11:39.024Z"
   },
   {
    "duration": 0,
    "start_time": "2022-04-07T16:11:39.201Z"
   },
   {
    "duration": 0,
    "start_time": "2022-04-07T16:11:39.203Z"
   },
   {
    "duration": 0,
    "start_time": "2022-04-07T16:11:39.204Z"
   },
   {
    "duration": 0,
    "start_time": "2022-04-07T16:11:39.206Z"
   },
   {
    "duration": 0,
    "start_time": "2022-04-07T16:11:39.207Z"
   },
   {
    "duration": 0,
    "start_time": "2022-04-07T16:11:39.209Z"
   },
   {
    "duration": 0,
    "start_time": "2022-04-07T16:11:39.210Z"
   },
   {
    "duration": 0,
    "start_time": "2022-04-07T16:11:39.212Z"
   },
   {
    "duration": 0,
    "start_time": "2022-04-07T16:11:39.213Z"
   },
   {
    "duration": 0,
    "start_time": "2022-04-07T16:11:39.215Z"
   },
   {
    "duration": 0,
    "start_time": "2022-04-07T16:11:39.217Z"
   },
   {
    "duration": 0,
    "start_time": "2022-04-07T16:11:39.218Z"
   },
   {
    "duration": 0,
    "start_time": "2022-04-07T16:11:39.220Z"
   },
   {
    "duration": 0,
    "start_time": "2022-04-07T16:11:39.221Z"
   },
   {
    "duration": 0,
    "start_time": "2022-04-07T16:11:39.222Z"
   },
   {
    "duration": 0,
    "start_time": "2022-04-07T16:11:39.268Z"
   },
   {
    "duration": 0,
    "start_time": "2022-04-07T16:11:39.270Z"
   },
   {
    "duration": 0,
    "start_time": "2022-04-07T16:11:39.271Z"
   },
   {
    "duration": 0,
    "start_time": "2022-04-07T16:11:39.273Z"
   },
   {
    "duration": 0,
    "start_time": "2022-04-07T16:11:39.274Z"
   },
   {
    "duration": 0,
    "start_time": "2022-04-07T16:11:39.276Z"
   },
   {
    "duration": 0,
    "start_time": "2022-04-07T16:11:39.277Z"
   },
   {
    "duration": 0,
    "start_time": "2022-04-07T16:11:39.278Z"
   },
   {
    "duration": 0,
    "start_time": "2022-04-07T16:11:39.280Z"
   },
   {
    "duration": 0,
    "start_time": "2022-04-07T16:11:39.282Z"
   },
   {
    "duration": 5,
    "start_time": "2022-04-07T16:12:13.851Z"
   },
   {
    "duration": 7,
    "start_time": "2022-04-07T16:12:15.628Z"
   },
   {
    "duration": 97,
    "start_time": "2022-04-07T16:12:35.016Z"
   },
   {
    "duration": 49,
    "start_time": "2022-04-07T16:12:41.244Z"
   },
   {
    "duration": 8,
    "start_time": "2022-04-07T16:58:40.783Z"
   },
   {
    "duration": 6,
    "start_time": "2022-04-07T16:59:15.152Z"
   },
   {
    "duration": 1822,
    "start_time": "2022-04-07T17:00:32.187Z"
   },
   {
    "duration": 0,
    "start_time": "2022-04-07T17:00:34.011Z"
   },
   {
    "duration": 7,
    "start_time": "2022-04-07T17:01:05.351Z"
   },
   {
    "duration": 7,
    "start_time": "2022-04-07T17:01:06.658Z"
   },
   {
    "duration": 9,
    "start_time": "2022-04-07T17:02:05.758Z"
   },
   {
    "duration": 7,
    "start_time": "2022-04-07T17:05:05.440Z"
   },
   {
    "duration": 6,
    "start_time": "2022-04-07T17:05:13.947Z"
   },
   {
    "duration": 23,
    "start_time": "2022-04-07T17:05:28.770Z"
   },
   {
    "duration": 24,
    "start_time": "2022-04-07T17:49:43.305Z"
   },
   {
    "duration": 7,
    "start_time": "2022-04-07T17:50:12.121Z"
   },
   {
    "duration": 10,
    "start_time": "2022-04-07T17:50:24.646Z"
   },
   {
    "duration": 6,
    "start_time": "2022-04-07T17:51:10.826Z"
   },
   {
    "duration": 8,
    "start_time": "2022-04-07T17:51:40.365Z"
   },
   {
    "duration": 7,
    "start_time": "2022-04-07T17:51:41.993Z"
   },
   {
    "duration": 1548,
    "start_time": "2022-04-07T17:51:49.224Z"
   },
   {
    "duration": 8,
    "start_time": "2022-04-07T17:51:50.775Z"
   },
   {
    "duration": 27,
    "start_time": "2022-04-07T17:51:50.786Z"
   },
   {
    "duration": 22,
    "start_time": "2022-04-07T17:51:50.817Z"
   },
   {
    "duration": 34,
    "start_time": "2022-04-07T17:51:50.868Z"
   },
   {
    "duration": 13,
    "start_time": "2022-04-07T17:51:50.905Z"
   },
   {
    "duration": 9,
    "start_time": "2022-04-07T17:51:50.920Z"
   },
   {
    "duration": 55,
    "start_time": "2022-04-07T17:51:50.931Z"
   },
   {
    "duration": 11,
    "start_time": "2022-04-07T17:51:50.989Z"
   },
   {
    "duration": 69,
    "start_time": "2022-04-07T17:51:51.004Z"
   },
   {
    "duration": 256,
    "start_time": "2022-04-07T17:51:51.076Z"
   },
   {
    "duration": 74,
    "start_time": "2022-04-07T17:51:51.334Z"
   },
   {
    "duration": 13,
    "start_time": "2022-04-07T17:51:51.411Z"
   },
   {
    "duration": 12,
    "start_time": "2022-04-07T17:51:51.427Z"
   },
   {
    "duration": 8,
    "start_time": "2022-04-07T17:51:51.467Z"
   },
   {
    "duration": 15,
    "start_time": "2022-04-07T17:51:51.477Z"
   },
   {
    "duration": 7,
    "start_time": "2022-04-07T17:51:51.495Z"
   },
   {
    "duration": 16,
    "start_time": "2022-04-07T17:51:51.504Z"
   },
   {
    "duration": 5,
    "start_time": "2022-04-07T17:51:51.523Z"
   },
   {
    "duration": 6,
    "start_time": "2022-04-07T17:51:51.567Z"
   },
   {
    "duration": 12,
    "start_time": "2022-04-07T17:51:51.575Z"
   },
   {
    "duration": 15,
    "start_time": "2022-04-07T17:51:51.589Z"
   },
   {
    "duration": 9,
    "start_time": "2022-04-07T17:51:51.607Z"
   },
   {
    "duration": 8,
    "start_time": "2022-04-07T17:51:51.618Z"
   },
   {
    "duration": 7,
    "start_time": "2022-04-07T17:51:51.669Z"
   },
   {
    "duration": 12,
    "start_time": "2022-04-07T17:51:51.679Z"
   },
   {
    "duration": 12,
    "start_time": "2022-04-07T17:51:51.694Z"
   },
   {
    "duration": 10,
    "start_time": "2022-04-07T17:51:51.716Z"
   },
   {
    "duration": 3,
    "start_time": "2022-04-07T17:51:51.767Z"
   },
   {
    "duration": 6,
    "start_time": "2022-04-07T17:51:51.773Z"
   },
   {
    "duration": 13,
    "start_time": "2022-04-07T17:51:51.782Z"
   },
   {
    "duration": 19,
    "start_time": "2022-04-07T17:51:51.798Z"
   },
   {
    "duration": 10,
    "start_time": "2022-04-07T17:51:51.820Z"
   },
   {
    "duration": 10,
    "start_time": "2022-04-07T17:51:51.868Z"
   },
   {
    "duration": 10,
    "start_time": "2022-04-07T17:51:51.881Z"
   },
   {
    "duration": 15,
    "start_time": "2022-04-07T17:51:51.894Z"
   },
   {
    "duration": 38,
    "start_time": "2022-04-07T17:51:51.911Z"
   },
   {
    "duration": 42,
    "start_time": "2022-04-07T17:51:51.951Z"
   },
   {
    "duration": 28,
    "start_time": "2022-04-07T17:51:51.996Z"
   },
   {
    "duration": 6,
    "start_time": "2022-04-07T17:51:52.027Z"
   },
   {
    "duration": 35,
    "start_time": "2022-04-07T17:51:52.035Z"
   },
   {
    "duration": 18,
    "start_time": "2022-04-07T17:51:52.073Z"
   },
   {
    "duration": 5,
    "start_time": "2022-04-07T17:51:52.094Z"
   },
   {
    "duration": 8,
    "start_time": "2022-04-07T17:51:52.102Z"
   },
   {
    "duration": 91,
    "start_time": "2022-04-07T17:51:52.112Z"
   },
   {
    "duration": 8,
    "start_time": "2022-04-07T17:51:52.206Z"
   },
   {
    "duration": 70,
    "start_time": "2022-04-07T17:51:52.217Z"
   },
   {
    "duration": 22,
    "start_time": "2022-04-07T17:51:52.289Z"
   },
   {
    "duration": 21,
    "start_time": "2022-04-07T17:51:52.314Z"
   },
   {
    "duration": 21,
    "start_time": "2022-04-07T17:51:52.368Z"
   },
   {
    "duration": 19,
    "start_time": "2022-04-07T17:51:52.391Z"
   },
   {
    "duration": 5,
    "start_time": "2022-04-07T17:51:52.413Z"
   },
   {
    "duration": 50,
    "start_time": "2022-04-07T17:51:52.420Z"
   },
   {
    "duration": 16,
    "start_time": "2022-04-07T17:51:52.473Z"
   },
   {
    "duration": 9,
    "start_time": "2022-04-07T17:51:52.491Z"
   },
   {
    "duration": 4,
    "start_time": "2022-04-07T17:51:52.503Z"
   },
   {
    "duration": 6,
    "start_time": "2022-04-07T17:51:52.510Z"
   },
   {
    "duration": 12,
    "start_time": "2022-04-07T17:51:52.518Z"
   },
   {
    "duration": 35,
    "start_time": "2022-04-07T17:51:52.533Z"
   },
   {
    "duration": 7,
    "start_time": "2022-04-07T17:51:52.570Z"
   },
   {
    "duration": 8,
    "start_time": "2022-04-07T17:51:52.579Z"
   },
   {
    "duration": 6,
    "start_time": "2022-04-07T17:51:52.589Z"
   },
   {
    "duration": 8,
    "start_time": "2022-04-07T17:51:52.597Z"
   },
   {
    "duration": 5,
    "start_time": "2022-04-07T17:51:52.607Z"
   },
   {
    "duration": 8,
    "start_time": "2022-04-07T17:51:52.615Z"
   },
   {
    "duration": 45,
    "start_time": "2022-04-07T17:51:52.626Z"
   },
   {
    "duration": 6,
    "start_time": "2022-04-07T17:51:52.674Z"
   },
   {
    "duration": 7,
    "start_time": "2022-04-07T17:51:52.683Z"
   },
   {
    "duration": 22,
    "start_time": "2022-04-07T17:51:52.692Z"
   },
   {
    "duration": 11,
    "start_time": "2022-04-07T17:51:52.717Z"
   },
   {
    "duration": 6,
    "start_time": "2022-04-07T17:51:52.730Z"
   },
   {
    "duration": 6,
    "start_time": "2022-04-07T17:51:52.738Z"
   },
   {
    "duration": 22,
    "start_time": "2022-04-07T17:51:52.747Z"
   },
   {
    "duration": 5,
    "start_time": "2022-04-07T17:51:52.772Z"
   },
   {
    "duration": 7,
    "start_time": "2022-04-07T17:51:52.780Z"
   },
   {
    "duration": 9,
    "start_time": "2022-04-07T17:51:52.790Z"
   },
   {
    "duration": 7,
    "start_time": "2022-04-07T17:51:52.801Z"
   },
   {
    "duration": 8,
    "start_time": "2022-04-07T17:51:52.811Z"
   },
   {
    "duration": 7,
    "start_time": "2022-04-07T17:54:41.850Z"
   },
   {
    "duration": 9,
    "start_time": "2022-04-07T17:55:45.708Z"
   },
   {
    "duration": 1482,
    "start_time": "2022-04-07T17:56:26.232Z"
   },
   {
    "duration": 8,
    "start_time": "2022-04-07T17:56:27.716Z"
   },
   {
    "duration": 25,
    "start_time": "2022-04-07T17:56:27.726Z"
   },
   {
    "duration": 31,
    "start_time": "2022-04-07T17:56:27.753Z"
   },
   {
    "duration": 34,
    "start_time": "2022-04-07T17:56:27.787Z"
   },
   {
    "duration": 45,
    "start_time": "2022-04-07T17:56:27.824Z"
   },
   {
    "duration": 10,
    "start_time": "2022-04-07T17:56:27.871Z"
   },
   {
    "duration": 19,
    "start_time": "2022-04-07T17:56:27.883Z"
   },
   {
    "duration": 11,
    "start_time": "2022-04-07T17:56:27.905Z"
   },
   {
    "duration": 64,
    "start_time": "2022-04-07T17:56:27.918Z"
   },
   {
    "duration": 240,
    "start_time": "2022-04-07T17:56:27.985Z"
   },
   {
    "duration": 71,
    "start_time": "2022-04-07T17:56:28.227Z"
   },
   {
    "duration": 10,
    "start_time": "2022-04-07T17:56:28.300Z"
   },
   {
    "duration": 11,
    "start_time": "2022-04-07T17:56:28.315Z"
   },
   {
    "duration": 39,
    "start_time": "2022-04-07T17:56:28.328Z"
   },
   {
    "duration": 12,
    "start_time": "2022-04-07T17:56:28.369Z"
   },
   {
    "duration": 11,
    "start_time": "2022-04-07T17:56:28.384Z"
   },
   {
    "duration": 6,
    "start_time": "2022-04-07T17:56:28.398Z"
   },
   {
    "duration": 6,
    "start_time": "2022-04-07T17:56:28.406Z"
   },
   {
    "duration": 7,
    "start_time": "2022-04-07T17:56:28.414Z"
   },
   {
    "duration": 53,
    "start_time": "2022-04-07T17:56:28.423Z"
   },
   {
    "duration": 16,
    "start_time": "2022-04-07T17:56:28.478Z"
   },
   {
    "duration": 9,
    "start_time": "2022-04-07T17:56:28.496Z"
   },
   {
    "duration": 9,
    "start_time": "2022-04-07T17:56:28.508Z"
   },
   {
    "duration": 50,
    "start_time": "2022-04-07T17:56:28.519Z"
   },
   {
    "duration": 10,
    "start_time": "2022-04-07T17:56:28.571Z"
   },
   {
    "duration": 7,
    "start_time": "2022-04-07T17:56:28.583Z"
   },
   {
    "duration": 9,
    "start_time": "2022-04-07T17:56:28.593Z"
   },
   {
    "duration": 3,
    "start_time": "2022-04-07T17:56:28.605Z"
   },
   {
    "duration": 9,
    "start_time": "2022-04-07T17:56:28.611Z"
   },
   {
    "duration": 9,
    "start_time": "2022-04-07T17:56:28.667Z"
   },
   {
    "duration": 15,
    "start_time": "2022-04-07T17:56:28.678Z"
   },
   {
    "duration": 6,
    "start_time": "2022-04-07T17:56:28.695Z"
   },
   {
    "duration": 13,
    "start_time": "2022-04-07T17:56:28.703Z"
   },
   {
    "duration": 6,
    "start_time": "2022-04-07T17:56:28.718Z"
   },
   {
    "duration": 6,
    "start_time": "2022-04-07T17:56:28.726Z"
   },
   {
    "duration": 24,
    "start_time": "2022-04-07T17:56:28.768Z"
   },
   {
    "duration": 25,
    "start_time": "2022-04-07T17:56:28.794Z"
   },
   {
    "duration": 51,
    "start_time": "2022-04-07T17:56:28.821Z"
   },
   {
    "duration": 5,
    "start_time": "2022-04-07T17:56:28.874Z"
   },
   {
    "duration": 5,
    "start_time": "2022-04-07T17:56:28.886Z"
   },
   {
    "duration": 11,
    "start_time": "2022-04-07T17:56:28.893Z"
   },
   {
    "duration": 7,
    "start_time": "2022-04-07T17:56:28.906Z"
   },
   {
    "duration": 7,
    "start_time": "2022-04-07T17:56:28.915Z"
   },
   {
    "duration": 67,
    "start_time": "2022-04-07T17:56:28.924Z"
   },
   {
    "duration": 9,
    "start_time": "2022-04-07T17:56:28.993Z"
   },
   {
    "duration": 64,
    "start_time": "2022-04-07T17:56:29.004Z"
   },
   {
    "duration": 18,
    "start_time": "2022-04-07T17:56:29.071Z"
   },
   {
    "duration": 19,
    "start_time": "2022-04-07T17:56:29.091Z"
   },
   {
    "duration": 19,
    "start_time": "2022-04-07T17:56:29.113Z"
   },
   {
    "duration": 22,
    "start_time": "2022-04-07T17:56:29.168Z"
   },
   {
    "duration": 6,
    "start_time": "2022-04-07T17:56:29.192Z"
   },
   {
    "duration": 14,
    "start_time": "2022-04-07T17:56:29.200Z"
   },
   {
    "duration": 9,
    "start_time": "2022-04-07T17:56:29.216Z"
   },
   {
    "duration": 42,
    "start_time": "2022-04-07T17:56:29.227Z"
   },
   {
    "duration": 4,
    "start_time": "2022-04-07T17:56:29.272Z"
   },
   {
    "duration": 12,
    "start_time": "2022-04-07T17:56:29.278Z"
   },
   {
    "duration": 3,
    "start_time": "2022-04-07T17:56:29.292Z"
   },
   {
    "duration": 4,
    "start_time": "2022-04-07T17:56:29.298Z"
   },
   {
    "duration": 5,
    "start_time": "2022-04-07T17:56:29.304Z"
   },
   {
    "duration": 6,
    "start_time": "2022-04-07T17:56:29.311Z"
   },
   {
    "duration": 48,
    "start_time": "2022-04-07T17:56:29.319Z"
   },
   {
    "duration": 6,
    "start_time": "2022-04-07T17:56:29.369Z"
   },
   {
    "duration": 5,
    "start_time": "2022-04-07T17:56:29.377Z"
   },
   {
    "duration": 7,
    "start_time": "2022-04-07T17:56:29.384Z"
   },
   {
    "duration": 5,
    "start_time": "2022-04-07T17:56:29.393Z"
   },
   {
    "duration": 4,
    "start_time": "2022-04-07T17:56:29.400Z"
   },
   {
    "duration": 6,
    "start_time": "2022-04-07T17:56:29.406Z"
   },
   {
    "duration": 5,
    "start_time": "2022-04-07T17:56:29.414Z"
   },
   {
    "duration": 5,
    "start_time": "2022-04-07T17:56:29.421Z"
   },
   {
    "duration": 3,
    "start_time": "2022-04-07T17:56:29.468Z"
   },
   {
    "duration": 6,
    "start_time": "2022-04-07T17:56:29.473Z"
   },
   {
    "duration": 5,
    "start_time": "2022-04-07T17:56:29.481Z"
   },
   {
    "duration": 6,
    "start_time": "2022-04-07T17:56:29.488Z"
   },
   {
    "duration": 5,
    "start_time": "2022-04-07T17:56:29.496Z"
   },
   {
    "duration": 6,
    "start_time": "2022-04-07T17:56:29.503Z"
   },
   {
    "duration": 4,
    "start_time": "2022-04-07T17:56:29.511Z"
   },
   {
    "duration": 5,
    "start_time": "2022-04-07T17:56:29.517Z"
   },
   {
    "duration": 22,
    "start_time": "2022-04-07T17:56:52.719Z"
   },
   {
    "duration": 145,
    "start_time": "2022-04-07T17:57:21.439Z"
   },
   {
    "duration": 13,
    "start_time": "2022-04-07T17:57:43.633Z"
   },
   {
    "duration": 22,
    "start_time": "2022-04-07T17:57:50.212Z"
   },
   {
    "duration": 1502,
    "start_time": "2022-04-07T19:56:11.051Z"
   },
   {
    "duration": 6,
    "start_time": "2022-04-07T19:56:12.556Z"
   },
   {
    "duration": 27,
    "start_time": "2022-04-07T19:56:12.564Z"
   },
   {
    "duration": 17,
    "start_time": "2022-04-07T19:56:12.593Z"
   },
   {
    "duration": 24,
    "start_time": "2022-04-07T19:56:12.612Z"
   },
   {
    "duration": 16,
    "start_time": "2022-04-07T19:56:12.638Z"
   },
   {
    "duration": 11,
    "start_time": "2022-04-07T19:56:12.656Z"
   },
   {
    "duration": 40,
    "start_time": "2022-04-07T19:56:12.669Z"
   },
   {
    "duration": 8,
    "start_time": "2022-04-07T19:56:12.711Z"
   },
   {
    "duration": 18,
    "start_time": "2022-04-07T19:56:12.722Z"
   },
   {
    "duration": 202,
    "start_time": "2022-04-07T19:56:12.741Z"
   },
   {
    "duration": 63,
    "start_time": "2022-04-07T19:56:12.945Z"
   },
   {
    "duration": 8,
    "start_time": "2022-04-07T19:56:13.009Z"
   },
   {
    "duration": 13,
    "start_time": "2022-04-07T19:56:13.019Z"
   },
   {
    "duration": 8,
    "start_time": "2022-04-07T19:56:13.033Z"
   },
   {
    "duration": 17,
    "start_time": "2022-04-07T19:56:13.043Z"
   },
   {
    "duration": 13,
    "start_time": "2022-04-07T19:56:13.062Z"
   },
   {
    "duration": 28,
    "start_time": "2022-04-07T19:56:13.078Z"
   },
   {
    "duration": 5,
    "start_time": "2022-04-07T19:56:13.108Z"
   },
   {
    "duration": 11,
    "start_time": "2022-04-07T19:56:13.115Z"
   },
   {
    "duration": 13,
    "start_time": "2022-04-07T19:56:13.128Z"
   },
   {
    "duration": 13,
    "start_time": "2022-04-07T19:56:13.143Z"
   },
   {
    "duration": 7,
    "start_time": "2022-04-07T19:56:13.158Z"
   },
   {
    "duration": 41,
    "start_time": "2022-04-07T19:56:13.166Z"
   },
   {
    "duration": 13,
    "start_time": "2022-04-07T19:56:13.209Z"
   },
   {
    "duration": 13,
    "start_time": "2022-04-07T19:56:13.224Z"
   },
   {
    "duration": 16,
    "start_time": "2022-04-07T19:56:13.239Z"
   },
   {
    "duration": 13,
    "start_time": "2022-04-07T19:56:13.260Z"
   },
   {
    "duration": 8,
    "start_time": "2022-04-07T19:56:13.276Z"
   },
   {
    "duration": 13,
    "start_time": "2022-04-07T19:56:13.286Z"
   },
   {
    "duration": 14,
    "start_time": "2022-04-07T19:56:13.301Z"
   },
   {
    "duration": 15,
    "start_time": "2022-04-07T19:56:13.317Z"
   },
   {
    "duration": 10,
    "start_time": "2022-04-07T19:56:13.334Z"
   },
   {
    "duration": 23,
    "start_time": "2022-04-07T19:56:13.346Z"
   },
   {
    "duration": 12,
    "start_time": "2022-04-07T19:56:13.371Z"
   },
   {
    "duration": 12,
    "start_time": "2022-04-07T19:56:13.385Z"
   },
   {
    "duration": 30,
    "start_time": "2022-04-07T19:56:13.399Z"
   },
   {
    "duration": 20,
    "start_time": "2022-04-07T19:56:13.431Z"
   },
   {
    "duration": 19,
    "start_time": "2022-04-07T19:56:13.452Z"
   },
   {
    "duration": 4,
    "start_time": "2022-04-07T19:56:13.472Z"
   },
   {
    "duration": 23,
    "start_time": "2022-04-07T19:56:13.478Z"
   },
   {
    "duration": 19,
    "start_time": "2022-04-07T19:56:13.503Z"
   },
   {
    "duration": 12,
    "start_time": "2022-04-07T19:56:13.524Z"
   },
   {
    "duration": 11,
    "start_time": "2022-04-07T19:56:13.538Z"
   },
   {
    "duration": 27,
    "start_time": "2022-04-07T19:56:13.551Z"
   },
   {
    "duration": 11,
    "start_time": "2022-04-07T19:56:13.580Z"
   },
   {
    "duration": 36,
    "start_time": "2022-04-07T19:56:13.593Z"
   },
   {
    "duration": 15,
    "start_time": "2022-04-07T19:56:13.630Z"
   },
   {
    "duration": 15,
    "start_time": "2022-04-07T19:56:13.647Z"
   },
   {
    "duration": 44,
    "start_time": "2022-04-07T19:56:13.664Z"
   },
   {
    "duration": 15,
    "start_time": "2022-04-07T19:56:13.710Z"
   },
   {
    "duration": 5,
    "start_time": "2022-04-07T19:56:13.727Z"
   },
   {
    "duration": 13,
    "start_time": "2022-04-07T19:56:13.734Z"
   },
   {
    "duration": 10,
    "start_time": "2022-04-07T19:56:13.749Z"
   },
   {
    "duration": 11,
    "start_time": "2022-04-07T19:56:13.761Z"
   },
   {
    "duration": 29,
    "start_time": "2022-04-07T19:56:13.773Z"
   },
   {
    "duration": 19,
    "start_time": "2022-04-07T19:56:13.804Z"
   },
   {
    "duration": 3,
    "start_time": "2022-04-07T19:56:13.825Z"
   },
   {
    "duration": 10,
    "start_time": "2022-04-07T19:56:13.829Z"
   },
   {
    "duration": 12,
    "start_time": "2022-04-07T19:56:13.841Z"
   },
   {
    "duration": 10,
    "start_time": "2022-04-07T19:56:13.855Z"
   },
   {
    "duration": 11,
    "start_time": "2022-04-07T19:56:13.867Z"
   },
   {
    "duration": 12,
    "start_time": "2022-04-07T19:56:13.880Z"
   },
   {
    "duration": 18,
    "start_time": "2022-04-07T19:56:13.894Z"
   },
   {
    "duration": 15,
    "start_time": "2022-04-07T19:56:13.914Z"
   },
   {
    "duration": 15,
    "start_time": "2022-04-07T19:56:13.931Z"
   },
   {
    "duration": 10,
    "start_time": "2022-04-07T19:56:13.948Z"
   },
   {
    "duration": 14,
    "start_time": "2022-04-07T19:56:13.960Z"
   },
   {
    "duration": 17,
    "start_time": "2022-04-07T19:56:13.977Z"
   },
   {
    "duration": 11,
    "start_time": "2022-04-07T19:56:13.995Z"
   },
   {
    "duration": 10,
    "start_time": "2022-04-07T19:56:14.008Z"
   },
   {
    "duration": 13,
    "start_time": "2022-04-07T19:56:14.020Z"
   },
   {
    "duration": 12,
    "start_time": "2022-04-07T19:56:14.035Z"
   },
   {
    "duration": 12,
    "start_time": "2022-04-07T19:56:14.049Z"
   },
   {
    "duration": 13,
    "start_time": "2022-04-07T19:56:14.063Z"
   },
   {
    "duration": 19,
    "start_time": "2022-04-07T19:56:14.078Z"
   },
   {
    "duration": 17,
    "start_time": "2022-04-07T19:56:14.099Z"
   },
   {
    "duration": 13,
    "start_time": "2022-04-07T19:56:14.118Z"
   },
   {
    "duration": 5,
    "start_time": "2022-04-07T19:56:41.355Z"
   },
   {
    "duration": 5,
    "start_time": "2022-04-07T19:57:25.659Z"
   },
   {
    "duration": 4,
    "start_time": "2022-04-07T19:57:49.313Z"
   },
   {
    "duration": 14,
    "start_time": "2022-04-07T19:59:51.549Z"
   },
   {
    "duration": 14,
    "start_time": "2022-04-07T20:00:24.753Z"
   },
   {
    "duration": 4,
    "start_time": "2022-04-07T20:07:30.461Z"
   },
   {
    "duration": 4,
    "start_time": "2022-04-07T20:07:56.768Z"
   },
   {
    "duration": 4,
    "start_time": "2022-04-07T20:08:18.121Z"
   },
   {
    "duration": 6,
    "start_time": "2022-04-07T20:10:30.168Z"
   },
   {
    "duration": 17,
    "start_time": "2022-04-07T20:11:54.756Z"
   },
   {
    "duration": 11,
    "start_time": "2022-04-07T20:12:39.933Z"
   },
   {
    "duration": 5,
    "start_time": "2022-04-07T20:12:57.755Z"
   },
   {
    "duration": 4,
    "start_time": "2022-04-07T20:13:02.507Z"
   },
   {
    "duration": 15,
    "start_time": "2022-04-07T20:13:06.473Z"
   },
   {
    "duration": 14,
    "start_time": "2022-04-07T20:13:07.161Z"
   },
   {
    "duration": 6,
    "start_time": "2022-04-07T20:14:05.866Z"
   },
   {
    "duration": 5,
    "start_time": "2022-04-07T20:16:37.913Z"
   },
   {
    "duration": 6,
    "start_time": "2022-04-07T20:17:26.600Z"
   },
   {
    "duration": 152,
    "start_time": "2022-04-07T20:20:31.946Z"
   },
   {
    "duration": 3,
    "start_time": "2022-04-07T20:20:47.767Z"
   },
   {
    "duration": 100,
    "start_time": "2022-04-07T20:21:27.738Z"
   },
   {
    "duration": 12,
    "start_time": "2022-04-07T20:21:35.645Z"
   },
   {
    "duration": 4,
    "start_time": "2022-04-07T20:27:49.630Z"
   },
   {
    "duration": 13,
    "start_time": "2022-04-07T20:27:51.096Z"
   },
   {
    "duration": 11,
    "start_time": "2022-04-07T20:28:04.163Z"
   },
   {
    "duration": 3,
    "start_time": "2022-04-07T20:28:48.822Z"
   },
   {
    "duration": 9,
    "start_time": "2022-04-07T20:28:49.622Z"
   },
   {
    "duration": 12,
    "start_time": "2022-04-07T20:28:56.513Z"
   },
   {
    "duration": 2,
    "start_time": "2022-04-07T20:28:57.488Z"
   },
   {
    "duration": 144,
    "start_time": "2022-04-07T20:30:18.334Z"
   },
   {
    "duration": 12,
    "start_time": "2022-04-07T20:30:19.122Z"
   },
   {
    "duration": 3,
    "start_time": "2022-04-07T20:30:28.337Z"
   },
   {
    "duration": 13,
    "start_time": "2022-04-07T20:30:29.215Z"
   },
   {
    "duration": 1352,
    "start_time": "2022-04-07T22:27:36.623Z"
   },
   {
    "duration": 5,
    "start_time": "2022-04-07T22:27:37.977Z"
   },
   {
    "duration": 26,
    "start_time": "2022-04-07T22:27:37.984Z"
   },
   {
    "duration": 15,
    "start_time": "2022-04-07T22:27:38.012Z"
   },
   {
    "duration": 34,
    "start_time": "2022-04-07T22:27:38.030Z"
   },
   {
    "duration": 11,
    "start_time": "2022-04-07T22:27:38.066Z"
   },
   {
    "duration": 14,
    "start_time": "2022-04-07T22:27:38.079Z"
   },
   {
    "duration": 15,
    "start_time": "2022-04-07T22:27:38.095Z"
   },
   {
    "duration": 7,
    "start_time": "2022-04-07T22:27:38.112Z"
   },
   {
    "duration": 15,
    "start_time": "2022-04-07T22:27:38.120Z"
   },
   {
    "duration": 181,
    "start_time": "2022-04-07T22:27:38.136Z"
   },
   {
    "duration": 45,
    "start_time": "2022-04-07T22:27:38.319Z"
   },
   {
    "duration": 8,
    "start_time": "2022-04-07T22:27:38.365Z"
   },
   {
    "duration": 19,
    "start_time": "2022-04-07T22:27:38.375Z"
   },
   {
    "duration": 21,
    "start_time": "2022-04-07T22:27:38.395Z"
   },
   {
    "duration": 19,
    "start_time": "2022-04-07T22:27:38.418Z"
   },
   {
    "duration": 11,
    "start_time": "2022-04-07T22:27:38.439Z"
   },
   {
    "duration": 23,
    "start_time": "2022-04-07T22:27:38.451Z"
   },
   {
    "duration": 18,
    "start_time": "2022-04-07T22:27:38.475Z"
   },
   {
    "duration": 22,
    "start_time": "2022-04-07T22:27:38.495Z"
   },
   {
    "duration": 16,
    "start_time": "2022-04-07T22:27:38.519Z"
   },
   {
    "duration": 21,
    "start_time": "2022-04-07T22:27:38.537Z"
   },
   {
    "duration": 7,
    "start_time": "2022-04-07T22:27:38.559Z"
   },
   {
    "duration": 14,
    "start_time": "2022-04-07T22:27:38.568Z"
   },
   {
    "duration": 29,
    "start_time": "2022-04-07T22:27:38.584Z"
   },
   {
    "duration": 12,
    "start_time": "2022-04-07T22:27:38.614Z"
   },
   {
    "duration": 15,
    "start_time": "2022-04-07T22:27:38.627Z"
   },
   {
    "duration": 21,
    "start_time": "2022-04-07T22:27:38.644Z"
   },
   {
    "duration": 5,
    "start_time": "2022-04-07T22:27:38.667Z"
   },
   {
    "duration": 7,
    "start_time": "2022-04-07T22:27:38.674Z"
   },
   {
    "duration": 18,
    "start_time": "2022-04-07T22:27:38.683Z"
   },
   {
    "duration": 14,
    "start_time": "2022-04-07T22:27:38.703Z"
   },
   {
    "duration": 7,
    "start_time": "2022-04-07T22:27:38.719Z"
   },
   {
    "duration": 13,
    "start_time": "2022-04-07T22:27:38.728Z"
   },
   {
    "duration": 18,
    "start_time": "2022-04-07T22:27:38.743Z"
   },
   {
    "duration": 17,
    "start_time": "2022-04-07T22:27:38.762Z"
   },
   {
    "duration": 38,
    "start_time": "2022-04-07T22:27:38.781Z"
   },
   {
    "duration": 16,
    "start_time": "2022-04-07T22:27:38.821Z"
   },
   {
    "duration": 22,
    "start_time": "2022-04-07T22:27:38.838Z"
   },
   {
    "duration": 13,
    "start_time": "2022-04-07T22:27:38.861Z"
   },
   {
    "duration": 28,
    "start_time": "2022-04-07T22:27:38.879Z"
   },
   {
    "duration": 28,
    "start_time": "2022-04-07T22:27:38.908Z"
   },
   {
    "duration": 9,
    "start_time": "2022-04-07T22:27:38.937Z"
   },
   {
    "duration": 26,
    "start_time": "2022-04-07T22:27:38.948Z"
   },
   {
    "duration": 37,
    "start_time": "2022-04-07T22:27:38.976Z"
   },
   {
    "duration": 22,
    "start_time": "2022-04-07T22:27:39.015Z"
   },
   {
    "duration": 45,
    "start_time": "2022-04-07T22:27:39.039Z"
   },
   {
    "duration": 12,
    "start_time": "2022-04-07T22:27:39.086Z"
   },
   {
    "duration": 15,
    "start_time": "2022-04-07T22:27:39.100Z"
   },
   {
    "duration": 17,
    "start_time": "2022-04-07T22:27:39.116Z"
   },
   {
    "duration": 29,
    "start_time": "2022-04-07T22:27:39.135Z"
   },
   {
    "duration": 6,
    "start_time": "2022-04-07T22:27:39.165Z"
   },
   {
    "duration": 23,
    "start_time": "2022-04-07T22:27:39.172Z"
   },
   {
    "duration": 22,
    "start_time": "2022-04-07T22:27:39.197Z"
   },
   {
    "duration": 12,
    "start_time": "2022-04-07T22:27:39.220Z"
   },
   {
    "duration": 7,
    "start_time": "2022-04-07T22:27:39.234Z"
   },
   {
    "duration": 13,
    "start_time": "2022-04-07T22:27:39.243Z"
   },
   {
    "duration": 21,
    "start_time": "2022-04-07T22:27:39.258Z"
   },
   {
    "duration": 17,
    "start_time": "2022-04-07T22:27:39.281Z"
   },
   {
    "duration": 8,
    "start_time": "2022-04-07T22:27:39.300Z"
   },
   {
    "duration": 12,
    "start_time": "2022-04-07T22:27:39.310Z"
   },
   {
    "duration": 20,
    "start_time": "2022-04-07T22:27:39.324Z"
   },
   {
    "duration": 17,
    "start_time": "2022-04-07T22:27:39.346Z"
   },
   {
    "duration": 22,
    "start_time": "2022-04-07T22:27:39.365Z"
   },
   {
    "duration": 21,
    "start_time": "2022-04-07T22:27:39.389Z"
   },
   {
    "duration": 19,
    "start_time": "2022-04-07T22:27:39.412Z"
   },
   {
    "duration": 15,
    "start_time": "2022-04-07T22:27:39.433Z"
   },
   {
    "duration": 15,
    "start_time": "2022-04-07T22:27:39.450Z"
   },
   {
    "duration": 27,
    "start_time": "2022-04-07T22:27:39.467Z"
   },
   {
    "duration": 7,
    "start_time": "2022-04-07T22:27:39.496Z"
   },
   {
    "duration": 28,
    "start_time": "2022-04-07T22:27:39.505Z"
   },
   {
    "duration": 23,
    "start_time": "2022-04-07T22:27:39.535Z"
   },
   {
    "duration": 21,
    "start_time": "2022-04-07T22:27:39.559Z"
   },
   {
    "duration": 22,
    "start_time": "2022-04-07T22:27:39.582Z"
   },
   {
    "duration": 16,
    "start_time": "2022-04-07T22:27:39.605Z"
   },
   {
    "duration": 35,
    "start_time": "2022-04-07T22:27:39.623Z"
   },
   {
    "duration": 22,
    "start_time": "2022-04-07T22:27:39.660Z"
   },
   {
    "duration": 14,
    "start_time": "2022-04-07T22:27:39.684Z"
   },
   {
    "duration": 1126,
    "start_time": "2022-04-07T22:53:16.968Z"
   },
   {
    "duration": 5,
    "start_time": "2022-04-07T22:53:18.096Z"
   },
   {
    "duration": 21,
    "start_time": "2022-04-07T22:53:18.102Z"
   },
   {
    "duration": 13,
    "start_time": "2022-04-07T22:53:18.125Z"
   },
   {
    "duration": 25,
    "start_time": "2022-04-07T22:53:18.139Z"
   },
   {
    "duration": 9,
    "start_time": "2022-04-07T22:53:18.165Z"
   },
   {
    "duration": 6,
    "start_time": "2022-04-07T22:53:18.175Z"
   },
   {
    "duration": 12,
    "start_time": "2022-04-07T22:53:18.183Z"
   },
   {
    "duration": 7,
    "start_time": "2022-04-07T22:53:18.197Z"
   },
   {
    "duration": 13,
    "start_time": "2022-04-07T22:53:18.207Z"
   },
   {
    "duration": 170,
    "start_time": "2022-04-07T22:53:18.222Z"
   },
   {
    "duration": 36,
    "start_time": "2022-04-07T22:53:18.394Z"
   },
   {
    "duration": 7,
    "start_time": "2022-04-07T22:53:18.431Z"
   },
   {
    "duration": 23,
    "start_time": "2022-04-07T22:53:18.440Z"
   },
   {
    "duration": 5,
    "start_time": "2022-04-07T22:53:18.465Z"
   },
   {
    "duration": 16,
    "start_time": "2022-04-07T22:53:18.471Z"
   },
   {
    "duration": 5,
    "start_time": "2022-04-07T22:53:18.488Z"
   },
   {
    "duration": 7,
    "start_time": "2022-04-07T22:53:18.494Z"
   },
   {
    "duration": 6,
    "start_time": "2022-04-07T22:53:18.502Z"
   },
   {
    "duration": 7,
    "start_time": "2022-04-07T22:53:18.509Z"
   },
   {
    "duration": 9,
    "start_time": "2022-04-07T22:53:18.517Z"
   },
   {
    "duration": 9,
    "start_time": "2022-04-07T22:53:18.527Z"
   },
   {
    "duration": 5,
    "start_time": "2022-04-07T22:53:18.562Z"
   },
   {
    "duration": 4,
    "start_time": "2022-04-07T22:53:18.569Z"
   },
   {
    "duration": 8,
    "start_time": "2022-04-07T22:53:18.574Z"
   },
   {
    "duration": 8,
    "start_time": "2022-04-07T22:53:18.583Z"
   },
   {
    "duration": 5,
    "start_time": "2022-04-07T22:53:18.592Z"
   },
   {
    "duration": 6,
    "start_time": "2022-04-07T22:53:18.602Z"
   },
   {
    "duration": 4,
    "start_time": "2022-04-07T22:53:18.609Z"
   },
   {
    "duration": 5,
    "start_time": "2022-04-07T22:53:18.615Z"
   },
   {
    "duration": 6,
    "start_time": "2022-04-07T22:53:18.622Z"
   },
   {
    "duration": 36,
    "start_time": "2022-04-07T22:53:18.629Z"
   },
   {
    "duration": 5,
    "start_time": "2022-04-07T22:53:18.667Z"
   },
   {
    "duration": 7,
    "start_time": "2022-04-07T22:53:18.674Z"
   },
   {
    "duration": 5,
    "start_time": "2022-04-07T22:53:18.683Z"
   },
   {
    "duration": 5,
    "start_time": "2022-04-07T22:53:18.689Z"
   },
   {
    "duration": 28,
    "start_time": "2022-04-07T22:53:18.695Z"
   },
   {
    "duration": 18,
    "start_time": "2022-04-07T22:53:18.724Z"
   },
   {
    "duration": 29,
    "start_time": "2022-04-07T22:53:18.743Z"
   },
   {
    "duration": 4,
    "start_time": "2022-04-07T22:53:18.773Z"
   },
   {
    "duration": 7,
    "start_time": "2022-04-07T22:53:18.778Z"
   },
   {
    "duration": 12,
    "start_time": "2022-04-07T22:53:18.786Z"
   },
   {
    "duration": 5,
    "start_time": "2022-04-07T22:53:18.799Z"
   },
   {
    "duration": 16,
    "start_time": "2022-04-07T22:53:18.805Z"
   },
   {
    "duration": 18,
    "start_time": "2022-04-07T22:53:18.822Z"
   },
   {
    "duration": 23,
    "start_time": "2022-04-07T22:53:18.841Z"
   },
   {
    "duration": 29,
    "start_time": "2022-04-07T22:53:18.865Z"
   },
   {
    "duration": 12,
    "start_time": "2022-04-07T22:53:18.895Z"
   },
   {
    "duration": 11,
    "start_time": "2022-04-07T22:53:18.908Z"
   },
   {
    "duration": 12,
    "start_time": "2022-04-07T22:53:18.920Z"
   },
   {
    "duration": 38,
    "start_time": "2022-04-07T22:53:18.933Z"
   },
   {
    "duration": 3,
    "start_time": "2022-04-07T22:53:18.973Z"
   },
   {
    "duration": 8,
    "start_time": "2022-04-07T22:53:18.977Z"
   },
   {
    "duration": 6,
    "start_time": "2022-04-07T22:53:18.987Z"
   },
   {
    "duration": 4,
    "start_time": "2022-04-07T22:53:18.994Z"
   },
   {
    "duration": 4,
    "start_time": "2022-04-07T22:53:19.000Z"
   },
   {
    "duration": 5,
    "start_time": "2022-04-07T22:53:19.005Z"
   },
   {
    "duration": 15,
    "start_time": "2022-04-07T22:53:19.012Z"
   },
   {
    "duration": 35,
    "start_time": "2022-04-07T22:53:19.029Z"
   },
   {
    "duration": 3,
    "start_time": "2022-04-07T22:53:19.065Z"
   },
   {
    "duration": 8,
    "start_time": "2022-04-07T22:53:19.069Z"
   },
   {
    "duration": 8,
    "start_time": "2022-04-07T22:53:19.078Z"
   },
   {
    "duration": 5,
    "start_time": "2022-04-07T22:53:19.087Z"
   },
   {
    "duration": 4,
    "start_time": "2022-04-07T22:53:19.093Z"
   },
   {
    "duration": 13,
    "start_time": "2022-04-07T22:53:19.098Z"
   },
   {
    "duration": 12,
    "start_time": "2022-04-07T22:53:19.112Z"
   },
   {
    "duration": 5,
    "start_time": "2022-04-07T22:53:19.126Z"
   },
   {
    "duration": 3,
    "start_time": "2022-04-07T22:53:19.133Z"
   },
   {
    "duration": 2,
    "start_time": "2022-04-07T22:53:19.162Z"
   },
   {
    "duration": 5,
    "start_time": "2022-04-07T22:53:19.166Z"
   },
   {
    "duration": 4,
    "start_time": "2022-04-07T22:53:19.172Z"
   },
   {
    "duration": 4,
    "start_time": "2022-04-07T22:53:19.178Z"
   },
   {
    "duration": 4,
    "start_time": "2022-04-07T22:53:19.183Z"
   },
   {
    "duration": 7,
    "start_time": "2022-04-07T22:53:19.189Z"
   },
   {
    "duration": 4,
    "start_time": "2022-04-07T22:53:19.198Z"
   },
   {
    "duration": 5,
    "start_time": "2022-04-07T22:53:19.204Z"
   },
   {
    "duration": 5,
    "start_time": "2022-04-07T22:53:19.210Z"
   },
   {
    "duration": 5,
    "start_time": "2022-04-07T22:53:19.216Z"
   },
   {
    "duration": 3,
    "start_time": "2022-04-07T23:01:08.916Z"
   },
   {
    "duration": 3,
    "start_time": "2022-04-07T23:08:48.609Z"
   },
   {
    "duration": 7,
    "start_time": "2022-04-07T23:10:03.895Z"
   },
   {
    "duration": 13,
    "start_time": "2022-04-07T23:10:41.293Z"
   },
   {
    "duration": 5,
    "start_time": "2022-04-07T23:12:43.599Z"
   },
   {
    "duration": 8,
    "start_time": "2022-04-07T23:13:34.040Z"
   },
   {
    "duration": 5,
    "start_time": "2022-04-07T23:13:52.837Z"
   },
   {
    "duration": 94,
    "start_time": "2022-04-07T23:14:04.398Z"
   },
   {
    "duration": 8,
    "start_time": "2022-04-07T23:14:24.195Z"
   },
   {
    "duration": 6,
    "start_time": "2022-04-07T23:15:05.447Z"
   },
   {
    "duration": 3,
    "start_time": "2022-04-07T23:24:32.092Z"
   },
   {
    "duration": 7,
    "start_time": "2022-04-07T23:25:59.428Z"
   },
   {
    "duration": 7,
    "start_time": "2022-04-07T23:26:21.708Z"
   },
   {
    "duration": 109,
    "start_time": "2022-04-07T23:30:15.706Z"
   },
   {
    "duration": 124,
    "start_time": "2022-04-07T23:44:22.887Z"
   },
   {
    "duration": 106,
    "start_time": "2022-04-07T23:44:51.816Z"
   },
   {
    "duration": 544,
    "start_time": "2022-04-07T23:46:06.493Z"
   },
   {
    "duration": 105,
    "start_time": "2022-04-07T23:46:20.898Z"
   },
   {
    "duration": 12,
    "start_time": "2022-04-07T23:46:48.881Z"
   },
   {
    "duration": 18,
    "start_time": "2022-04-07T23:47:23.467Z"
   },
   {
    "duration": 17,
    "start_time": "2022-04-07T23:47:36.637Z"
   },
   {
    "duration": 7,
    "start_time": "2022-04-07T23:48:11.434Z"
   },
   {
    "duration": 133,
    "start_time": "2022-04-08T03:02:32.745Z"
   },
   {
    "duration": 32,
    "start_time": "2022-04-08T03:03:06.768Z"
   },
   {
    "duration": 4,
    "start_time": "2022-04-08T03:41:53.634Z"
   },
   {
    "duration": 29,
    "start_time": "2022-04-08T03:42:15.548Z"
   },
   {
    "duration": 31,
    "start_time": "2022-04-08T03:44:46.189Z"
   },
   {
    "duration": 36,
    "start_time": "2022-04-08T03:45:19.622Z"
   },
   {
    "duration": 30,
    "start_time": "2022-04-08T03:45:39.483Z"
   },
   {
    "duration": 36,
    "start_time": "2022-04-08T03:45:54.800Z"
   },
   {
    "duration": 40,
    "start_time": "2022-04-08T03:48:04.675Z"
   },
   {
    "duration": 69,
    "start_time": "2022-04-08T03:48:13.003Z"
   },
   {
    "duration": 32,
    "start_time": "2022-04-08T03:50:47.926Z"
   },
   {
    "duration": 38,
    "start_time": "2022-04-08T03:53:43.728Z"
   },
   {
    "duration": 34,
    "start_time": "2022-04-08T03:54:15.675Z"
   },
   {
    "duration": 37,
    "start_time": "2022-04-08T03:54:26.718Z"
   },
   {
    "duration": 2,
    "start_time": "2022-04-08T03:57:44.252Z"
   },
   {
    "duration": 6,
    "start_time": "2022-04-08T03:59:06.772Z"
   },
   {
    "duration": 14,
    "start_time": "2022-04-08T04:02:22.884Z"
   },
   {
    "duration": 2049,
    "start_time": "2022-04-08T04:02:42.411Z"
   },
   {
    "duration": 131,
    "start_time": "2022-04-08T04:03:03.775Z"
   },
   {
    "duration": 2,
    "start_time": "2022-04-08T04:03:14.210Z"
   },
   {
    "duration": 22,
    "start_time": "2022-04-08T04:06:23.251Z"
   },
   {
    "duration": 2309,
    "start_time": "2022-04-08T04:12:15.000Z"
   },
   {
    "duration": 14,
    "start_time": "2022-04-08T04:18:05.967Z"
   },
   {
    "duration": 11,
    "start_time": "2022-04-08T04:18:30.900Z"
   },
   {
    "duration": 13,
    "start_time": "2022-04-08T04:20:00.014Z"
   },
   {
    "duration": 9,
    "start_time": "2022-04-08T04:20:06.327Z"
   },
   {
    "duration": 10,
    "start_time": "2022-04-08T04:20:34.208Z"
   },
   {
    "duration": 3,
    "start_time": "2022-04-08T04:28:19.967Z"
   },
   {
    "duration": 2290,
    "start_time": "2022-04-08T04:28:28.287Z"
   },
   {
    "duration": 2714,
    "start_time": "2022-04-08T04:30:00.050Z"
   },
   {
    "duration": 14,
    "start_time": "2022-04-08T04:30:32.763Z"
   },
   {
    "duration": 14,
    "start_time": "2022-04-08T04:31:41.456Z"
   },
   {
    "duration": 12,
    "start_time": "2022-04-08T04:32:13.632Z"
   },
   {
    "duration": 15,
    "start_time": "2022-04-08T04:32:25.716Z"
   },
   {
    "duration": 19,
    "start_time": "2022-04-08T04:35:11.787Z"
   },
   {
    "duration": 1489,
    "start_time": "2022-04-08T18:49:40.822Z"
   },
   {
    "duration": 6,
    "start_time": "2022-04-08T18:49:42.313Z"
   },
   {
    "duration": 51,
    "start_time": "2022-04-08T18:49:42.320Z"
   },
   {
    "duration": 17,
    "start_time": "2022-04-08T18:49:42.373Z"
   },
   {
    "duration": 43,
    "start_time": "2022-04-08T18:49:42.392Z"
   },
   {
    "duration": 24,
    "start_time": "2022-04-08T18:49:42.437Z"
   },
   {
    "duration": 21,
    "start_time": "2022-04-08T18:49:42.463Z"
   },
   {
    "duration": 41,
    "start_time": "2022-04-08T18:49:42.486Z"
   },
   {
    "duration": 12,
    "start_time": "2022-04-08T18:49:42.530Z"
   },
   {
    "duration": 48,
    "start_time": "2022-04-08T18:49:42.546Z"
   },
   {
    "duration": 152,
    "start_time": "2022-04-08T18:49:42.596Z"
   },
   {
    "duration": 38,
    "start_time": "2022-04-08T18:49:42.757Z"
   },
   {
    "duration": 6,
    "start_time": "2022-04-08T18:49:42.797Z"
   },
   {
    "duration": 19,
    "start_time": "2022-04-08T18:49:42.805Z"
   },
   {
    "duration": 41,
    "start_time": "2022-04-08T18:49:42.825Z"
   },
   {
    "duration": 36,
    "start_time": "2022-04-08T18:49:42.867Z"
   },
   {
    "duration": 31,
    "start_time": "2022-04-08T18:49:42.906Z"
   },
   {
    "duration": 22,
    "start_time": "2022-04-08T18:49:42.939Z"
   },
   {
    "duration": 31,
    "start_time": "2022-04-08T18:49:42.963Z"
   },
   {
    "duration": 21,
    "start_time": "2022-04-08T18:49:42.995Z"
   },
   {
    "duration": 30,
    "start_time": "2022-04-08T18:49:43.017Z"
   },
   {
    "duration": 37,
    "start_time": "2022-04-08T18:49:43.048Z"
   },
   {
    "duration": 11,
    "start_time": "2022-04-08T18:49:43.087Z"
   },
   {
    "duration": 20,
    "start_time": "2022-04-08T18:49:43.100Z"
   },
   {
    "duration": 28,
    "start_time": "2022-04-08T18:49:43.122Z"
   },
   {
    "duration": 17,
    "start_time": "2022-04-08T18:49:43.151Z"
   },
   {
    "duration": 33,
    "start_time": "2022-04-08T18:49:43.170Z"
   },
   {
    "duration": 15,
    "start_time": "2022-04-08T18:49:43.207Z"
   },
   {
    "duration": 23,
    "start_time": "2022-04-08T18:49:43.223Z"
   },
   {
    "duration": 25,
    "start_time": "2022-04-08T18:49:43.248Z"
   },
   {
    "duration": 21,
    "start_time": "2022-04-08T18:49:43.274Z"
   },
   {
    "duration": 39,
    "start_time": "2022-04-08T18:49:43.297Z"
   },
   {
    "duration": 18,
    "start_time": "2022-04-08T18:49:43.338Z"
   },
   {
    "duration": 21,
    "start_time": "2022-04-08T18:49:43.359Z"
   },
   {
    "duration": 29,
    "start_time": "2022-04-08T18:49:43.382Z"
   },
   {
    "duration": 21,
    "start_time": "2022-04-08T18:49:43.414Z"
   },
   {
    "duration": 66,
    "start_time": "2022-04-08T18:49:43.438Z"
   },
   {
    "duration": 29,
    "start_time": "2022-04-08T18:49:43.506Z"
   },
   {
    "duration": 25,
    "start_time": "2022-04-08T18:49:43.538Z"
   },
   {
    "duration": 5,
    "start_time": "2022-04-08T18:49:43.565Z"
   },
   {
    "duration": 37,
    "start_time": "2022-04-08T18:49:43.572Z"
   },
   {
    "duration": 21,
    "start_time": "2022-04-08T18:49:43.611Z"
   },
   {
    "duration": 32,
    "start_time": "2022-04-08T18:49:43.634Z"
   },
   {
    "duration": 35,
    "start_time": "2022-04-08T18:49:43.668Z"
   },
   {
    "duration": 32,
    "start_time": "2022-04-08T18:49:43.705Z"
   },
   {
    "duration": 41,
    "start_time": "2022-04-08T18:49:43.739Z"
   },
   {
    "duration": 65,
    "start_time": "2022-04-08T18:49:43.782Z"
   },
   {
    "duration": 36,
    "start_time": "2022-04-08T18:49:43.849Z"
   },
   {
    "duration": 35,
    "start_time": "2022-04-08T18:49:43.887Z"
   },
   {
    "duration": 34,
    "start_time": "2022-04-08T18:49:43.923Z"
   },
   {
    "duration": 36,
    "start_time": "2022-04-08T18:49:43.959Z"
   },
   {
    "duration": 11,
    "start_time": "2022-04-08T18:49:43.998Z"
   },
   {
    "duration": 47,
    "start_time": "2022-04-08T18:49:44.011Z"
   },
   {
    "duration": 42,
    "start_time": "2022-04-08T18:49:44.059Z"
   },
   {
    "duration": 22,
    "start_time": "2022-04-08T18:49:44.103Z"
   },
   {
    "duration": 29,
    "start_time": "2022-04-08T18:49:44.126Z"
   },
   {
    "duration": 24,
    "start_time": "2022-04-08T18:49:44.157Z"
   },
   {
    "duration": 25,
    "start_time": "2022-04-08T18:49:44.183Z"
   },
   {
    "duration": 36,
    "start_time": "2022-04-08T18:49:44.210Z"
   },
   {
    "duration": 12,
    "start_time": "2022-04-08T18:49:44.248Z"
   },
   {
    "duration": 37,
    "start_time": "2022-04-08T18:49:44.262Z"
   },
   {
    "duration": 43,
    "start_time": "2022-04-08T18:49:44.302Z"
   },
   {
    "duration": 17,
    "start_time": "2022-04-08T18:49:44.348Z"
   },
   {
    "duration": 36,
    "start_time": "2022-04-08T18:49:44.367Z"
   },
   {
    "duration": 35,
    "start_time": "2022-04-08T18:49:44.406Z"
   },
   {
    "duration": 36,
    "start_time": "2022-04-08T18:49:44.444Z"
   },
   {
    "duration": 27,
    "start_time": "2022-04-08T18:49:44.482Z"
   },
   {
    "duration": 11,
    "start_time": "2022-04-08T18:49:44.512Z"
   },
   {
    "duration": 49,
    "start_time": "2022-04-08T18:49:44.525Z"
   },
   {
    "duration": 10,
    "start_time": "2022-04-08T18:49:44.576Z"
   },
   {
    "duration": 13,
    "start_time": "2022-04-08T18:49:44.588Z"
   },
   {
    "duration": 13,
    "start_time": "2022-04-08T18:49:44.603Z"
   },
   {
    "duration": 14,
    "start_time": "2022-04-08T18:49:44.619Z"
   },
   {
    "duration": 21,
    "start_time": "2022-04-08T18:49:44.635Z"
   },
   {
    "duration": 31,
    "start_time": "2022-04-08T18:49:44.658Z"
   },
   {
    "duration": 23,
    "start_time": "2022-04-08T18:49:44.691Z"
   },
   {
    "duration": 23,
    "start_time": "2022-04-08T18:49:44.716Z"
   },
   {
    "duration": 42,
    "start_time": "2022-04-08T18:49:44.741Z"
   },
   {
    "duration": 5,
    "start_time": "2022-04-08T18:49:44.785Z"
   },
   {
    "duration": 7,
    "start_time": "2022-04-08T18:50:22.550Z"
   },
   {
    "duration": 1222,
    "start_time": "2022-04-08T18:50:39.188Z"
   },
   {
    "duration": 5,
    "start_time": "2022-04-08T18:50:40.413Z"
   },
   {
    "duration": 25,
    "start_time": "2022-04-08T18:50:40.420Z"
   },
   {
    "duration": 19,
    "start_time": "2022-04-08T18:50:40.447Z"
   },
   {
    "duration": 45,
    "start_time": "2022-04-08T18:50:40.469Z"
   },
   {
    "duration": 17,
    "start_time": "2022-04-08T18:50:40.517Z"
   },
   {
    "duration": 27,
    "start_time": "2022-04-08T18:50:40.536Z"
   },
   {
    "duration": 23,
    "start_time": "2022-04-08T18:50:40.565Z"
   },
   {
    "duration": 13,
    "start_time": "2022-04-08T18:50:40.590Z"
   },
   {
    "duration": 25,
    "start_time": "2022-04-08T18:50:40.606Z"
   },
   {
    "duration": 166,
    "start_time": "2022-04-08T18:50:40.632Z"
   },
   {
    "duration": 70,
    "start_time": "2022-04-08T18:50:40.800Z"
   },
   {
    "duration": 8,
    "start_time": "2022-04-08T18:50:40.871Z"
   },
   {
    "duration": 24,
    "start_time": "2022-04-08T18:50:40.881Z"
   },
   {
    "duration": 10,
    "start_time": "2022-04-08T18:50:40.907Z"
   },
   {
    "duration": 26,
    "start_time": "2022-04-08T18:50:40.919Z"
   },
   {
    "duration": 27,
    "start_time": "2022-04-08T18:50:40.947Z"
   },
   {
    "duration": 19,
    "start_time": "2022-04-08T18:50:40.975Z"
   },
   {
    "duration": 11,
    "start_time": "2022-04-08T18:50:40.996Z"
   },
   {
    "duration": 16,
    "start_time": "2022-04-08T18:50:41.009Z"
   },
   {
    "duration": 21,
    "start_time": "2022-04-08T18:50:41.026Z"
   },
   {
    "duration": 20,
    "start_time": "2022-04-08T18:50:41.049Z"
   },
   {
    "duration": 20,
    "start_time": "2022-04-08T18:50:41.071Z"
   },
   {
    "duration": 24,
    "start_time": "2022-04-08T18:50:41.093Z"
   },
   {
    "duration": 23,
    "start_time": "2022-04-08T18:50:41.119Z"
   },
   {
    "duration": 18,
    "start_time": "2022-04-08T18:50:41.144Z"
   },
   {
    "duration": 17,
    "start_time": "2022-04-08T18:50:41.163Z"
   },
   {
    "duration": 18,
    "start_time": "2022-04-08T18:50:41.185Z"
   },
   {
    "duration": 11,
    "start_time": "2022-04-08T18:50:41.205Z"
   },
   {
    "duration": 11,
    "start_time": "2022-04-08T18:50:41.217Z"
   },
   {
    "duration": 23,
    "start_time": "2022-04-08T18:50:41.231Z"
   },
   {
    "duration": 20,
    "start_time": "2022-04-08T18:50:41.257Z"
   },
   {
    "duration": 18,
    "start_time": "2022-04-08T18:50:41.280Z"
   },
   {
    "duration": 21,
    "start_time": "2022-04-08T18:50:41.300Z"
   },
   {
    "duration": 11,
    "start_time": "2022-04-08T18:50:41.323Z"
   },
   {
    "duration": 22,
    "start_time": "2022-04-08T18:50:41.336Z"
   },
   {
    "duration": 34,
    "start_time": "2022-04-08T18:50:41.360Z"
   },
   {
    "duration": 27,
    "start_time": "2022-04-08T18:50:41.396Z"
   },
   {
    "duration": 18,
    "start_time": "2022-04-08T18:50:41.425Z"
   },
   {
    "duration": 5,
    "start_time": "2022-04-08T18:50:41.458Z"
   },
   {
    "duration": 22,
    "start_time": "2022-04-08T18:50:41.464Z"
   },
   {
    "duration": 19,
    "start_time": "2022-04-08T18:50:41.488Z"
   },
   {
    "duration": 23,
    "start_time": "2022-04-08T18:50:41.509Z"
   },
   {
    "duration": 21,
    "start_time": "2022-04-08T18:50:41.534Z"
   },
   {
    "duration": 34,
    "start_time": "2022-04-08T18:50:41.557Z"
   },
   {
    "duration": 7,
    "start_time": "2022-04-08T18:50:41.594Z"
   },
   {
    "duration": 60,
    "start_time": "2022-04-08T18:50:41.603Z"
   },
   {
    "duration": 21,
    "start_time": "2022-04-08T18:50:41.665Z"
   },
   {
    "duration": 34,
    "start_time": "2022-04-08T18:50:41.688Z"
   },
   {
    "duration": 22,
    "start_time": "2022-04-08T18:50:41.724Z"
   },
   {
    "duration": 26,
    "start_time": "2022-04-08T18:50:41.748Z"
   },
   {
    "duration": 5,
    "start_time": "2022-04-08T18:50:41.776Z"
   },
   {
    "duration": 19,
    "start_time": "2022-04-08T18:50:41.782Z"
   },
   {
    "duration": 25,
    "start_time": "2022-04-08T18:50:41.802Z"
   },
   {
    "duration": 13,
    "start_time": "2022-04-08T18:50:41.828Z"
   },
   {
    "duration": 15,
    "start_time": "2022-04-08T18:50:41.843Z"
   },
   {
    "duration": 22,
    "start_time": "2022-04-08T18:50:41.859Z"
   },
   {
    "duration": 21,
    "start_time": "2022-04-08T18:50:41.883Z"
   },
   {
    "duration": 22,
    "start_time": "2022-04-08T18:50:41.906Z"
   },
   {
    "duration": 15,
    "start_time": "2022-04-08T18:50:41.929Z"
   },
   {
    "duration": 16,
    "start_time": "2022-04-08T18:50:41.945Z"
   },
   {
    "duration": 22,
    "start_time": "2022-04-08T18:50:41.963Z"
   },
   {
    "duration": 11,
    "start_time": "2022-04-08T18:50:41.987Z"
   },
   {
    "duration": 20,
    "start_time": "2022-04-08T18:50:42.000Z"
   },
   {
    "duration": 30,
    "start_time": "2022-04-08T18:50:42.022Z"
   },
   {
    "duration": 21,
    "start_time": "2022-04-08T18:50:42.054Z"
   },
   {
    "duration": 27,
    "start_time": "2022-04-08T18:50:42.077Z"
   },
   {
    "duration": 11,
    "start_time": "2022-04-08T18:50:42.106Z"
   },
   {
    "duration": 26,
    "start_time": "2022-04-08T18:50:42.119Z"
   },
   {
    "duration": 5,
    "start_time": "2022-04-08T18:50:42.147Z"
   },
   {
    "duration": 19,
    "start_time": "2022-04-08T18:50:42.154Z"
   },
   {
    "duration": 13,
    "start_time": "2022-04-08T18:50:42.176Z"
   },
   {
    "duration": 17,
    "start_time": "2022-04-08T18:50:42.191Z"
   },
   {
    "duration": 14,
    "start_time": "2022-04-08T18:50:42.210Z"
   },
   {
    "duration": 31,
    "start_time": "2022-04-08T18:50:42.226Z"
   },
   {
    "duration": 21,
    "start_time": "2022-04-08T18:50:42.259Z"
   },
   {
    "duration": 22,
    "start_time": "2022-04-08T18:50:42.282Z"
   },
   {
    "duration": 53,
    "start_time": "2022-04-08T18:50:42.306Z"
   },
   {
    "duration": 4,
    "start_time": "2022-04-08T18:50:42.362Z"
   },
   {
    "duration": 5,
    "start_time": "2022-04-08T19:05:45.469Z"
   },
   {
    "duration": 186,
    "start_time": "2022-04-08T19:06:30.556Z"
   },
   {
    "duration": 330,
    "start_time": "2022-04-08T19:07:16.789Z"
   },
   {
    "duration": 265,
    "start_time": "2022-04-08T19:07:27.342Z"
   },
   {
    "duration": 23,
    "start_time": "2022-04-08T19:08:20.497Z"
   },
   {
    "duration": 21,
    "start_time": "2022-04-08T19:08:39.582Z"
   },
   {
    "duration": 4,
    "start_time": "2022-04-08T19:18:24.216Z"
   },
   {
    "duration": 18,
    "start_time": "2022-04-08T19:19:43.266Z"
   },
   {
    "duration": 5,
    "start_time": "2022-04-08T19:21:34.427Z"
   },
   {
    "duration": 515,
    "start_time": "2022-04-08T19:21:35.260Z"
   },
   {
    "duration": 5,
    "start_time": "2022-04-08T19:22:31.153Z"
   },
   {
    "duration": 549,
    "start_time": "2022-04-08T19:22:34.066Z"
   },
   {
    "duration": 282,
    "start_time": "2022-04-08T19:23:26.988Z"
   },
   {
    "duration": 6,
    "start_time": "2022-04-08T19:36:15.147Z"
   },
   {
    "duration": 437,
    "start_time": "2022-04-08T19:38:54.409Z"
   },
   {
    "duration": 324,
    "start_time": "2022-04-08T19:39:15.288Z"
   },
   {
    "duration": 1479,
    "start_time": "2022-04-08T19:40:05.107Z"
   },
   {
    "duration": 6,
    "start_time": "2022-04-08T19:40:06.588Z"
   },
   {
    "duration": 19,
    "start_time": "2022-04-08T19:40:06.595Z"
   },
   {
    "duration": 14,
    "start_time": "2022-04-08T19:40:06.615Z"
   },
   {
    "duration": 30,
    "start_time": "2022-04-08T19:40:06.631Z"
   },
   {
    "duration": 10,
    "start_time": "2022-04-08T19:40:06.662Z"
   },
   {
    "duration": 12,
    "start_time": "2022-04-08T19:40:06.674Z"
   },
   {
    "duration": 18,
    "start_time": "2022-04-08T19:40:06.688Z"
   },
   {
    "duration": 8,
    "start_time": "2022-04-08T19:40:06.708Z"
   },
   {
    "duration": 14,
    "start_time": "2022-04-08T19:40:06.718Z"
   },
   {
    "duration": 164,
    "start_time": "2022-04-08T19:40:06.734Z"
   },
   {
    "duration": 37,
    "start_time": "2022-04-08T19:40:06.900Z"
   },
   {
    "duration": 19,
    "start_time": "2022-04-08T19:40:06.939Z"
   },
   {
    "duration": 8,
    "start_time": "2022-04-08T19:40:06.961Z"
   },
   {
    "duration": 5,
    "start_time": "2022-04-08T19:40:06.971Z"
   },
   {
    "duration": 10,
    "start_time": "2022-04-08T19:40:06.977Z"
   },
   {
    "duration": 8,
    "start_time": "2022-04-08T19:40:06.989Z"
   },
   {
    "duration": 6,
    "start_time": "2022-04-08T19:40:06.998Z"
   },
   {
    "duration": 8,
    "start_time": "2022-04-08T19:40:07.005Z"
   },
   {
    "duration": 9,
    "start_time": "2022-04-08T19:40:07.015Z"
   },
   {
    "duration": 33,
    "start_time": "2022-04-08T19:40:07.025Z"
   },
   {
    "duration": 11,
    "start_time": "2022-04-08T19:40:07.060Z"
   },
   {
    "duration": 7,
    "start_time": "2022-04-08T19:40:07.072Z"
   },
   {
    "duration": 6,
    "start_time": "2022-04-08T19:40:07.080Z"
   },
   {
    "duration": 7,
    "start_time": "2022-04-08T19:40:07.087Z"
   },
   {
    "duration": 10,
    "start_time": "2022-04-08T19:40:07.096Z"
   },
   {
    "duration": 6,
    "start_time": "2022-04-08T19:40:07.107Z"
   },
   {
    "duration": 6,
    "start_time": "2022-04-08T19:40:07.114Z"
   },
   {
    "duration": 37,
    "start_time": "2022-04-08T19:40:07.121Z"
   },
   {
    "duration": 2,
    "start_time": "2022-04-08T19:40:07.160Z"
   },
   {
    "duration": 12,
    "start_time": "2022-04-08T19:40:07.164Z"
   },
   {
    "duration": 10,
    "start_time": "2022-04-08T19:40:07.178Z"
   },
   {
    "duration": 6,
    "start_time": "2022-04-08T19:40:07.189Z"
   },
   {
    "duration": 11,
    "start_time": "2022-04-08T19:40:07.196Z"
   },
   {
    "duration": 11,
    "start_time": "2022-04-08T19:40:07.208Z"
   },
   {
    "duration": 6,
    "start_time": "2022-04-08T19:40:07.220Z"
   },
   {
    "duration": 31,
    "start_time": "2022-04-08T19:40:07.227Z"
   },
   {
    "duration": 18,
    "start_time": "2022-04-08T19:40:07.260Z"
   },
   {
    "duration": 16,
    "start_time": "2022-04-08T19:40:07.279Z"
   },
   {
    "duration": 3,
    "start_time": "2022-04-08T19:40:07.297Z"
   },
   {
    "duration": 5,
    "start_time": "2022-04-08T19:40:07.305Z"
   },
   {
    "duration": 11,
    "start_time": "2022-04-08T19:40:07.311Z"
   },
   {
    "duration": 4,
    "start_time": "2022-04-08T19:40:07.324Z"
   },
   {
    "duration": 29,
    "start_time": "2022-04-08T19:40:07.330Z"
   },
   {
    "duration": 18,
    "start_time": "2022-04-08T19:40:07.361Z"
   },
   {
    "duration": 5,
    "start_time": "2022-04-08T19:40:07.380Z"
   },
   {
    "duration": 27,
    "start_time": "2022-04-08T19:40:07.386Z"
   },
   {
    "duration": 12,
    "start_time": "2022-04-08T19:40:07.414Z"
   },
   {
    "duration": 41,
    "start_time": "2022-04-08T19:40:07.428Z"
   },
   {
    "duration": 12,
    "start_time": "2022-04-08T19:40:07.471Z"
   },
   {
    "duration": 12,
    "start_time": "2022-04-08T19:40:07.485Z"
   },
   {
    "duration": 3,
    "start_time": "2022-04-08T19:40:07.499Z"
   },
   {
    "duration": 10,
    "start_time": "2022-04-08T19:40:07.503Z"
   },
   {
    "duration": 6,
    "start_time": "2022-04-08T19:40:07.515Z"
   },
   {
    "duration": 4,
    "start_time": "2022-04-08T19:40:07.523Z"
   },
   {
    "duration": 2,
    "start_time": "2022-04-08T19:40:07.558Z"
   },
   {
    "duration": 8,
    "start_time": "2022-04-08T19:40:07.562Z"
   },
   {
    "duration": 19,
    "start_time": "2022-04-08T19:40:07.571Z"
   },
   {
    "duration": 16,
    "start_time": "2022-04-08T19:40:07.592Z"
   },
   {
    "duration": 3,
    "start_time": "2022-04-08T19:40:07.610Z"
   },
   {
    "duration": 8,
    "start_time": "2022-04-08T19:40:07.614Z"
   },
   {
    "duration": 34,
    "start_time": "2022-04-08T19:40:07.624Z"
   },
   {
    "duration": 5,
    "start_time": "2022-04-08T19:40:07.659Z"
   },
   {
    "duration": 5,
    "start_time": "2022-04-08T19:40:07.665Z"
   },
   {
    "duration": 12,
    "start_time": "2022-04-08T19:40:07.672Z"
   },
   {
    "duration": 6,
    "start_time": "2022-04-08T19:40:07.685Z"
   },
   {
    "duration": 7,
    "start_time": "2022-04-08T19:40:07.692Z"
   },
   {
    "duration": 3,
    "start_time": "2022-04-08T19:40:07.700Z"
   },
   {
    "duration": 12,
    "start_time": "2022-04-08T19:40:07.704Z"
   },
   {
    "duration": 4,
    "start_time": "2022-04-08T19:40:07.717Z"
   },
   {
    "duration": 5,
    "start_time": "2022-04-08T19:40:07.759Z"
   },
   {
    "duration": 5,
    "start_time": "2022-04-08T19:40:07.765Z"
   },
   {
    "duration": 19,
    "start_time": "2022-04-08T19:40:07.772Z"
   },
   {
    "duration": 7,
    "start_time": "2022-04-08T19:40:07.792Z"
   },
   {
    "duration": 17,
    "start_time": "2022-04-08T19:40:07.801Z"
   },
   {
    "duration": 12,
    "start_time": "2022-04-08T19:40:07.819Z"
   },
   {
    "duration": 32,
    "start_time": "2022-04-08T19:40:07.833Z"
   },
   {
    "duration": 17,
    "start_time": "2022-04-08T19:40:07.867Z"
   },
   {
    "duration": 5,
    "start_time": "2022-04-08T19:40:07.886Z"
   },
   {
    "duration": 257,
    "start_time": "2022-04-08T19:40:07.893Z"
   },
   {
    "duration": 15,
    "start_time": "2022-04-08T19:40:50.120Z"
   },
   {
    "duration": 1450,
    "start_time": "2022-04-08T21:44:32.651Z"
   },
   {
    "duration": 5,
    "start_time": "2022-04-08T21:44:34.103Z"
   },
   {
    "duration": 27,
    "start_time": "2022-04-08T21:44:34.109Z"
   },
   {
    "duration": 23,
    "start_time": "2022-04-08T21:44:34.138Z"
   },
   {
    "duration": 18,
    "start_time": "2022-04-08T21:44:34.162Z"
   },
   {
    "duration": 9,
    "start_time": "2022-04-08T21:44:34.182Z"
   },
   {
    "duration": 12,
    "start_time": "2022-04-08T21:44:34.192Z"
   },
   {
    "duration": 17,
    "start_time": "2022-04-08T21:44:34.259Z"
   },
   {
    "duration": 9,
    "start_time": "2022-04-08T21:44:34.277Z"
   },
   {
    "duration": 18,
    "start_time": "2022-04-08T21:44:34.288Z"
   },
   {
    "duration": 147,
    "start_time": "2022-04-08T21:44:34.358Z"
   },
   {
    "duration": 78,
    "start_time": "2022-04-08T21:44:34.507Z"
   },
   {
    "duration": 8,
    "start_time": "2022-04-08T21:44:34.586Z"
   },
   {
    "duration": 9,
    "start_time": "2022-04-08T21:44:34.596Z"
   },
   {
    "duration": 11,
    "start_time": "2022-04-08T21:44:34.658Z"
   },
   {
    "duration": 23,
    "start_time": "2022-04-08T21:44:34.671Z"
   },
   {
    "duration": 20,
    "start_time": "2022-04-08T21:44:34.696Z"
   },
   {
    "duration": 16,
    "start_time": "2022-04-08T21:44:34.718Z"
   },
   {
    "duration": 16,
    "start_time": "2022-04-08T21:44:34.736Z"
   },
   {
    "duration": 20,
    "start_time": "2022-04-08T21:44:34.753Z"
   },
   {
    "duration": 23,
    "start_time": "2022-04-08T21:44:34.775Z"
   },
   {
    "duration": 16,
    "start_time": "2022-04-08T21:44:34.800Z"
   },
   {
    "duration": 12,
    "start_time": "2022-04-08T21:44:34.818Z"
   },
   {
    "duration": 10,
    "start_time": "2022-04-08T21:44:34.832Z"
   },
   {
    "duration": 6,
    "start_time": "2022-04-08T21:44:34.844Z"
   },
   {
    "duration": 7,
    "start_time": "2022-04-08T21:44:34.852Z"
   },
   {
    "duration": 5,
    "start_time": "2022-04-08T21:44:34.860Z"
   },
   {
    "duration": 6,
    "start_time": "2022-04-08T21:44:34.869Z"
   },
   {
    "duration": 14,
    "start_time": "2022-04-08T21:44:34.876Z"
   },
   {
    "duration": 14,
    "start_time": "2022-04-08T21:44:34.892Z"
   },
   {
    "duration": 6,
    "start_time": "2022-04-08T21:44:34.907Z"
   },
   {
    "duration": 14,
    "start_time": "2022-04-08T21:44:34.914Z"
   },
   {
    "duration": 11,
    "start_time": "2022-04-08T21:44:34.930Z"
   },
   {
    "duration": 13,
    "start_time": "2022-04-08T21:44:34.943Z"
   },
   {
    "duration": 28,
    "start_time": "2022-04-08T21:44:34.958Z"
   },
   {
    "duration": 24,
    "start_time": "2022-04-08T21:44:34.988Z"
   },
   {
    "duration": 18,
    "start_time": "2022-04-08T21:44:35.014Z"
   },
   {
    "duration": 4,
    "start_time": "2022-04-08T21:44:35.034Z"
   },
   {
    "duration": 12,
    "start_time": "2022-04-08T21:44:35.040Z"
   },
   {
    "duration": 18,
    "start_time": "2022-04-08T21:44:35.057Z"
   },
   {
    "duration": 20,
    "start_time": "2022-04-08T21:44:35.077Z"
   },
   {
    "duration": 13,
    "start_time": "2022-04-08T21:44:35.099Z"
   },
   {
    "duration": 42,
    "start_time": "2022-04-08T21:44:35.114Z"
   },
   {
    "duration": 11,
    "start_time": "2022-04-08T21:44:35.157Z"
   },
   {
    "duration": 32,
    "start_time": "2022-04-08T21:44:35.170Z"
   },
   {
    "duration": 13,
    "start_time": "2022-04-08T21:44:35.203Z"
   },
   {
    "duration": 11,
    "start_time": "2022-04-08T21:44:35.218Z"
   },
   {
    "duration": 27,
    "start_time": "2022-04-08T21:44:35.231Z"
   },
   {
    "duration": 14,
    "start_time": "2022-04-08T21:44:35.259Z"
   },
   {
    "duration": 6,
    "start_time": "2022-04-08T21:44:35.274Z"
   },
   {
    "duration": 22,
    "start_time": "2022-04-08T21:44:35.282Z"
   },
   {
    "duration": 15,
    "start_time": "2022-04-08T21:44:35.306Z"
   },
   {
    "duration": 6,
    "start_time": "2022-04-08T21:44:35.322Z"
   },
   {
    "duration": 12,
    "start_time": "2022-04-08T21:44:35.329Z"
   },
   {
    "duration": 14,
    "start_time": "2022-04-08T21:44:35.342Z"
   },
   {
    "duration": 23,
    "start_time": "2022-04-08T21:44:35.357Z"
   },
   {
    "duration": 14,
    "start_time": "2022-04-08T21:44:35.382Z"
   },
   {
    "duration": 2,
    "start_time": "2022-04-08T21:44:35.398Z"
   },
   {
    "duration": 19,
    "start_time": "2022-04-08T21:44:35.402Z"
   },
   {
    "duration": 15,
    "start_time": "2022-04-08T21:44:35.423Z"
   },
   {
    "duration": 13,
    "start_time": "2022-04-08T21:44:35.440Z"
   },
   {
    "duration": 20,
    "start_time": "2022-04-08T21:44:35.454Z"
   },
   {
    "duration": 14,
    "start_time": "2022-04-08T21:44:35.475Z"
   },
   {
    "duration": 10,
    "start_time": "2022-04-08T21:44:35.491Z"
   },
   {
    "duration": 19,
    "start_time": "2022-04-08T21:44:35.503Z"
   },
   {
    "duration": 6,
    "start_time": "2022-04-08T21:44:35.523Z"
   },
   {
    "duration": 17,
    "start_time": "2022-04-08T21:44:35.530Z"
   },
   {
    "duration": 4,
    "start_time": "2022-04-08T21:44:35.548Z"
   },
   {
    "duration": 14,
    "start_time": "2022-04-08T21:44:35.553Z"
   },
   {
    "duration": 4,
    "start_time": "2022-04-08T21:44:35.568Z"
   },
   {
    "duration": 11,
    "start_time": "2022-04-08T21:44:35.573Z"
   },
   {
    "duration": 9,
    "start_time": "2022-04-08T21:44:35.585Z"
   },
   {
    "duration": 15,
    "start_time": "2022-04-08T21:44:35.595Z"
   },
   {
    "duration": 13,
    "start_time": "2022-04-08T21:44:35.612Z"
   },
   {
    "duration": 31,
    "start_time": "2022-04-08T21:44:35.627Z"
   },
   {
    "duration": 18,
    "start_time": "2022-04-08T21:44:35.659Z"
   },
   {
    "duration": 6,
    "start_time": "2022-04-08T21:44:35.678Z"
   },
   {
    "duration": 257,
    "start_time": "2022-04-08T21:44:35.685Z"
   },
   {
    "duration": 18,
    "start_time": "2022-04-08T21:44:35.944Z"
   },
   {
    "duration": 1244,
    "start_time": "2022-04-08T21:45:16.278Z"
   },
   {
    "duration": 6,
    "start_time": "2022-04-08T21:45:17.524Z"
   },
   {
    "duration": 18,
    "start_time": "2022-04-08T21:45:17.532Z"
   },
   {
    "duration": 14,
    "start_time": "2022-04-08T21:45:17.557Z"
   },
   {
    "duration": 18,
    "start_time": "2022-04-08T21:45:17.572Z"
   },
   {
    "duration": 9,
    "start_time": "2022-04-08T21:45:17.591Z"
   },
   {
    "duration": 7,
    "start_time": "2022-04-08T21:45:17.601Z"
   },
   {
    "duration": 20,
    "start_time": "2022-04-08T21:45:17.609Z"
   },
   {
    "duration": 28,
    "start_time": "2022-04-08T21:45:17.630Z"
   },
   {
    "duration": 15,
    "start_time": "2022-04-08T21:45:17.661Z"
   },
   {
    "duration": 155,
    "start_time": "2022-04-08T21:45:17.677Z"
   },
   {
    "duration": 46,
    "start_time": "2022-04-08T21:45:17.833Z"
   },
   {
    "duration": 7,
    "start_time": "2022-04-08T21:45:17.881Z"
   },
   {
    "duration": 7,
    "start_time": "2022-04-08T21:45:17.890Z"
   },
   {
    "duration": 10,
    "start_time": "2022-04-08T21:45:17.899Z"
   },
   {
    "duration": 5,
    "start_time": "2022-04-08T21:45:17.910Z"
   },
   {
    "duration": 4,
    "start_time": "2022-04-08T21:45:17.917Z"
   },
   {
    "duration": 6,
    "start_time": "2022-04-08T21:45:17.922Z"
   },
   {
    "duration": 5,
    "start_time": "2022-04-08T21:45:17.957Z"
   },
   {
    "duration": 11,
    "start_time": "2022-04-08T21:45:17.963Z"
   },
   {
    "duration": 11,
    "start_time": "2022-04-08T21:45:17.975Z"
   },
   {
    "duration": 5,
    "start_time": "2022-04-08T21:45:17.987Z"
   },
   {
    "duration": 5,
    "start_time": "2022-04-08T21:45:17.994Z"
   },
   {
    "duration": 9,
    "start_time": "2022-04-08T21:45:18.000Z"
   },
   {
    "duration": 7,
    "start_time": "2022-04-08T21:45:18.011Z"
   },
   {
    "duration": 6,
    "start_time": "2022-04-08T21:45:18.019Z"
   },
   {
    "duration": 3,
    "start_time": "2022-04-08T21:45:18.057Z"
   },
   {
    "duration": 3,
    "start_time": "2022-04-08T21:45:18.064Z"
   },
   {
    "duration": 7,
    "start_time": "2022-04-08T21:45:18.069Z"
   },
   {
    "duration": 9,
    "start_time": "2022-04-08T21:45:18.077Z"
   },
   {
    "duration": 5,
    "start_time": "2022-04-08T21:45:18.087Z"
   },
   {
    "duration": 9,
    "start_time": "2022-04-08T21:45:18.093Z"
   },
   {
    "duration": 5,
    "start_time": "2022-04-08T21:45:18.103Z"
   },
   {
    "duration": 5,
    "start_time": "2022-04-08T21:45:18.110Z"
   },
   {
    "duration": 42,
    "start_time": "2022-04-08T21:45:18.117Z"
   },
   {
    "duration": 20,
    "start_time": "2022-04-08T21:45:18.160Z"
   },
   {
    "duration": 16,
    "start_time": "2022-04-08T21:45:18.182Z"
   },
   {
    "duration": 3,
    "start_time": "2022-04-08T21:45:18.199Z"
   },
   {
    "duration": 8,
    "start_time": "2022-04-08T21:45:18.204Z"
   },
   {
    "duration": 8,
    "start_time": "2022-04-08T21:45:18.213Z"
   },
   {
    "duration": 5,
    "start_time": "2022-04-08T21:45:18.222Z"
   },
   {
    "duration": 31,
    "start_time": "2022-04-08T21:45:18.228Z"
   },
   {
    "duration": 21,
    "start_time": "2022-04-08T21:45:18.261Z"
   },
   {
    "duration": 8,
    "start_time": "2022-04-08T21:45:18.284Z"
   },
   {
    "duration": 31,
    "start_time": "2022-04-08T21:45:18.294Z"
   },
   {
    "duration": 33,
    "start_time": "2022-04-08T21:45:18.326Z"
   },
   {
    "duration": 13,
    "start_time": "2022-04-08T21:45:18.360Z"
   },
   {
    "duration": 12,
    "start_time": "2022-04-08T21:45:18.375Z"
   },
   {
    "duration": 14,
    "start_time": "2022-04-08T21:45:18.389Z"
   },
   {
    "duration": 4,
    "start_time": "2022-04-08T21:45:18.405Z"
   },
   {
    "duration": 8,
    "start_time": "2022-04-08T21:45:18.411Z"
   },
   {
    "duration": 37,
    "start_time": "2022-04-08T21:45:18.421Z"
   },
   {
    "duration": 5,
    "start_time": "2022-04-08T21:45:18.460Z"
   },
   {
    "duration": 5,
    "start_time": "2022-04-08T21:45:18.467Z"
   },
   {
    "duration": 8,
    "start_time": "2022-04-08T21:45:18.474Z"
   },
   {
    "duration": 13,
    "start_time": "2022-04-08T21:45:18.484Z"
   },
   {
    "duration": 11,
    "start_time": "2022-04-08T21:45:18.499Z"
   },
   {
    "duration": 3,
    "start_time": "2022-04-08T21:45:18.512Z"
   },
   {
    "duration": 5,
    "start_time": "2022-04-08T21:45:18.516Z"
   },
   {
    "duration": 42,
    "start_time": "2022-04-08T21:45:18.522Z"
   },
   {
    "duration": 6,
    "start_time": "2022-04-08T21:45:18.566Z"
   },
   {
    "duration": 6,
    "start_time": "2022-04-08T21:45:18.574Z"
   },
   {
    "duration": 12,
    "start_time": "2022-04-08T21:45:18.581Z"
   },
   {
    "duration": 6,
    "start_time": "2022-04-08T21:45:18.595Z"
   },
   {
    "duration": 6,
    "start_time": "2022-04-08T21:45:18.603Z"
   },
   {
    "duration": 3,
    "start_time": "2022-04-08T21:45:18.611Z"
   },
   {
    "duration": 14,
    "start_time": "2022-04-08T21:45:18.616Z"
   },
   {
    "duration": 4,
    "start_time": "2022-04-08T21:45:18.659Z"
   },
   {
    "duration": 6,
    "start_time": "2022-04-08T21:45:18.665Z"
   },
   {
    "duration": 3,
    "start_time": "2022-04-08T21:45:18.673Z"
   },
   {
    "duration": 9,
    "start_time": "2022-04-08T21:45:18.677Z"
   },
   {
    "duration": 6,
    "start_time": "2022-04-08T21:45:18.687Z"
   },
   {
    "duration": 14,
    "start_time": "2022-04-08T21:45:18.694Z"
   },
   {
    "duration": 49,
    "start_time": "2022-04-08T21:45:18.709Z"
   },
   {
    "duration": 15,
    "start_time": "2022-04-08T21:45:18.760Z"
   },
   {
    "duration": 17,
    "start_time": "2022-04-08T21:45:18.777Z"
   },
   {
    "duration": 5,
    "start_time": "2022-04-08T21:45:18.796Z"
   },
   {
    "duration": 257,
    "start_time": "2022-04-08T21:45:18.803Z"
   },
   {
    "duration": 14,
    "start_time": "2022-04-08T21:45:19.062Z"
   },
   {
    "duration": 7,
    "start_time": "2022-04-08T21:56:38.425Z"
   },
   {
    "duration": 1383,
    "start_time": "2022-04-08T21:56:47.587Z"
   },
   {
    "duration": 6,
    "start_time": "2022-04-08T21:56:48.973Z"
   },
   {
    "duration": 78,
    "start_time": "2022-04-08T21:56:48.981Z"
   },
   {
    "duration": 16,
    "start_time": "2022-04-08T21:56:49.061Z"
   },
   {
    "duration": 20,
    "start_time": "2022-04-08T21:56:49.079Z"
   },
   {
    "duration": 11,
    "start_time": "2022-04-08T21:56:49.100Z"
   },
   {
    "duration": 6,
    "start_time": "2022-04-08T21:56:49.112Z"
   },
   {
    "duration": 13,
    "start_time": "2022-04-08T21:56:49.120Z"
   },
   {
    "duration": 8,
    "start_time": "2022-04-08T21:56:49.134Z"
   },
   {
    "duration": 17,
    "start_time": "2022-04-08T21:56:49.144Z"
   },
   {
    "duration": 152,
    "start_time": "2022-04-08T21:56:49.163Z"
   },
   {
    "duration": 40,
    "start_time": "2022-04-08T21:56:49.317Z"
   },
   {
    "duration": 8,
    "start_time": "2022-04-08T21:56:49.359Z"
   },
   {
    "duration": 5,
    "start_time": "2022-04-08T21:56:49.370Z"
   },
   {
    "duration": 9,
    "start_time": "2022-04-08T21:56:49.377Z"
   },
   {
    "duration": 10,
    "start_time": "2022-04-08T21:56:49.388Z"
   },
   {
    "duration": 6,
    "start_time": "2022-04-08T21:56:49.399Z"
   },
   {
    "duration": 6,
    "start_time": "2022-04-08T21:56:49.406Z"
   },
   {
    "duration": 8,
    "start_time": "2022-04-08T21:56:49.413Z"
   },
   {
    "duration": 8,
    "start_time": "2022-04-08T21:56:49.422Z"
   },
   {
    "duration": 11,
    "start_time": "2022-04-08T21:56:49.431Z"
   },
   {
    "duration": 6,
    "start_time": "2022-04-08T21:56:49.443Z"
   },
   {
    "duration": 10,
    "start_time": "2022-04-08T21:56:49.450Z"
   },
   {
    "duration": 6,
    "start_time": "2022-04-08T21:56:49.462Z"
   },
   {
    "duration": 6,
    "start_time": "2022-04-08T21:56:49.469Z"
   },
   {
    "duration": 8,
    "start_time": "2022-04-08T21:56:49.476Z"
   },
   {
    "duration": 7,
    "start_time": "2022-04-08T21:56:49.485Z"
   },
   {
    "duration": 12,
    "start_time": "2022-04-08T21:56:49.494Z"
   },
   {
    "duration": 14,
    "start_time": "2022-04-08T21:56:49.507Z"
   },
   {
    "duration": 5,
    "start_time": "2022-04-08T21:56:49.522Z"
   },
   {
    "duration": 7,
    "start_time": "2022-04-08T21:56:49.529Z"
   },
   {
    "duration": 5,
    "start_time": "2022-04-08T21:56:49.538Z"
   },
   {
    "duration": 4,
    "start_time": "2022-04-08T21:56:49.544Z"
   },
   {
    "duration": 20,
    "start_time": "2022-04-08T21:56:49.549Z"
   },
   {
    "duration": 21,
    "start_time": "2022-04-08T21:56:49.571Z"
   },
   {
    "duration": 16,
    "start_time": "2022-04-08T21:56:49.594Z"
   },
   {
    "duration": 4,
    "start_time": "2022-04-08T21:56:49.611Z"
   },
   {
    "duration": 8,
    "start_time": "2022-04-08T21:56:49.616Z"
   },
   {
    "duration": 22,
    "start_time": "2022-04-08T21:56:49.626Z"
   },
   {
    "duration": 11,
    "start_time": "2022-04-08T21:56:49.650Z"
   },
   {
    "duration": 13,
    "start_time": "2022-04-08T21:56:49.665Z"
   },
   {
    "duration": 23,
    "start_time": "2022-04-08T21:56:49.679Z"
   },
   {
    "duration": 4,
    "start_time": "2022-04-08T21:56:49.704Z"
   },
   {
    "duration": 33,
    "start_time": "2022-04-08T21:56:49.710Z"
   },
   {
    "duration": 13,
    "start_time": "2022-04-08T21:56:49.745Z"
   },
   {
    "duration": 13,
    "start_time": "2022-04-08T21:56:49.759Z"
   },
   {
    "duration": 21,
    "start_time": "2022-04-08T21:56:49.774Z"
   },
   {
    "duration": 12,
    "start_time": "2022-04-08T21:56:49.797Z"
   },
   {
    "duration": 4,
    "start_time": "2022-04-08T21:56:49.810Z"
   },
   {
    "duration": 8,
    "start_time": "2022-04-08T21:56:49.815Z"
   },
   {
    "duration": 6,
    "start_time": "2022-04-08T21:56:49.825Z"
   },
   {
    "duration": 4,
    "start_time": "2022-04-08T21:56:49.832Z"
   },
   {
    "duration": 4,
    "start_time": "2022-04-08T21:56:49.837Z"
   },
   {
    "duration": 5,
    "start_time": "2022-04-08T21:56:49.842Z"
   },
   {
    "duration": 15,
    "start_time": "2022-04-08T21:56:49.848Z"
   },
   {
    "duration": 11,
    "start_time": "2022-04-08T21:56:49.864Z"
   },
   {
    "duration": 3,
    "start_time": "2022-04-08T21:56:49.876Z"
   },
   {
    "duration": 6,
    "start_time": "2022-04-08T21:56:49.880Z"
   },
   {
    "duration": 8,
    "start_time": "2022-04-08T21:56:49.888Z"
   },
   {
    "duration": 4,
    "start_time": "2022-04-08T21:56:49.898Z"
   },
   {
    "duration": 3,
    "start_time": "2022-04-08T21:56:49.904Z"
   },
   {
    "duration": 12,
    "start_time": "2022-04-08T21:56:49.909Z"
   },
   {
    "duration": 39,
    "start_time": "2022-04-08T21:56:49.923Z"
   },
   {
    "duration": 7,
    "start_time": "2022-04-08T21:56:49.963Z"
   },
   {
    "duration": 3,
    "start_time": "2022-04-08T21:56:49.971Z"
   },
   {
    "duration": 12,
    "start_time": "2022-04-08T21:56:49.976Z"
   },
   {
    "duration": 4,
    "start_time": "2022-04-08T21:56:49.989Z"
   },
   {
    "duration": 7,
    "start_time": "2022-04-08T21:56:49.994Z"
   },
   {
    "duration": 55,
    "start_time": "2022-04-08T21:56:50.003Z"
   },
   {
    "duration": 7,
    "start_time": "2022-04-08T21:56:50.060Z"
   },
   {
    "duration": 14,
    "start_time": "2022-04-08T21:56:50.069Z"
   },
   {
    "duration": 23,
    "start_time": "2022-04-08T21:56:50.084Z"
   },
   {
    "duration": 18,
    "start_time": "2022-04-08T21:56:50.109Z"
   },
   {
    "duration": 14,
    "start_time": "2022-04-08T21:56:50.128Z"
   },
   {
    "duration": 30,
    "start_time": "2022-04-08T21:56:50.143Z"
   },
   {
    "duration": 5,
    "start_time": "2022-04-08T21:56:50.174Z"
   },
   {
    "duration": 292,
    "start_time": "2022-04-08T21:56:50.180Z"
   },
   {
    "duration": 14,
    "start_time": "2022-04-08T21:56:50.474Z"
   },
   {
    "duration": 12,
    "start_time": "2022-04-08T22:51:15.391Z"
   },
   {
    "duration": 13,
    "start_time": "2022-04-08T22:52:52.181Z"
   }
  ],
  "kernelspec": {
   "display_name": "Python 3 (ipykernel)",
   "language": "python",
   "name": "python3"
  },
  "language_info": {
   "codemirror_mode": {
    "name": "ipython",
    "version": 3
   },
   "file_extension": ".py",
   "mimetype": "text/x-python",
   "name": "python",
   "nbconvert_exporter": "python",
   "pygments_lexer": "ipython3",
   "version": "3.9.5"
  },
  "toc": {
   "base_numbering": 1,
   "nav_menu": {},
   "number_sections": true,
   "sideBar": true,
   "skip_h1_title": true,
   "title_cell": "Table of Contents",
   "title_sidebar": "Contents",
   "toc_cell": false,
   "toc_position": {},
   "toc_section_display": true,
   "toc_window_display": false
  }
 },
 "nbformat": 4,
 "nbformat_minor": 2
}
